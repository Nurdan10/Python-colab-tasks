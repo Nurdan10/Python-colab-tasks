{
  "nbformat": 4,
  "nbformat_minor": 0,
  "metadata": {
    "colab": {
      "private_outputs": true,
      "provenance": []
    },
    "kernelspec": {
      "name": "python3",
      "display_name": "Python 3"
    },
    "language_info": {
      "name": "python"
    }
  },
  "cells": [
    {
      "cell_type": "markdown",
      "source": [
        "#EXCEPTİON HANDLİNG (hATA YAKALAMA MEKANİZMASI)"
      ],
      "metadata": {
        "id": "exV5oO8SdPtI"
      }
    },
    {
      "cell_type": "code",
      "source": [
        "num1 = int(input(\"Number1..: \"))\n",
        "num2 = int(input(\"Number2..: \"))\n",
        "print(\"Bölüm..: \", num1/num2)"
      ],
      "metadata": {
        "id": "0hVoq_QddWa9"
      },
      "execution_count": null,
      "outputs": []
    },
    {
      "cell_type": "code",
      "source": [
        "# try deyimi tek başına kullanılmaz\n",
        "# ya except, ya da finally bloğu ile birlikte kullanılır...\n",
        "num1 = int(input(\"Number1..: \"))\n",
        "num2 = int(input(\"Number2..: \"))\n",
        "try:\n",
        "    print(\"Bölüm..: \", num1/num2)\n",
        "except:\n",
        "    print(\"Lütfen paydayı(num2'i) sıfır girmeyiniz!!\")\n"
      ],
      "metadata": {
        "id": "TiJGblzXdnsq"
      },
      "execution_count": null,
      "outputs": []
    },
    {
      "cell_type": "code",
      "source": [
        "while True:\n",
        "    num1 = int(input(\"Number1..: \"))\n",
        "    num2 = int(input(\"Number2..: \"))\n",
        "    try:\n",
        "        print(\"Bölüm..: \", num1/num2)\n",
        "        break\n",
        "    except:\n",
        "        print(\"Lütfen paydayı(num2'i) sıfır girmeyiniz!!\")"
      ],
      "metadata": {
        "id": "ND9lMGNbfU2Z"
      },
      "execution_count": null,
      "outputs": []
    },
    {
      "cell_type": "code",
      "source": [
        "while True:\n",
        "    num1 = int(input(\"Number1..: \"))\n",
        "    num2 = int(input(\"Number2..: \"))\n",
        "    try:\n",
        "        print(\"Bölüm..: \", num1/num2)\n",
        "        break\n",
        "    except ZeroDivisionError:\n",
        "        print(\"Lütfen paydayı(num2'i) sıfır girmeyiniz!!\")"
      ],
      "metadata": {
        "id": "DU9AQmNmfvbw"
      },
      "execution_count": null,
      "outputs": []
    },
    {
      "cell_type": "code",
      "source": [
        "open(\"my_file.txt\")"
      ],
      "metadata": {
        "id": "Rby6lnRkhSrw"
      },
      "execution_count": null,
      "outputs": []
    },
    {
      "cell_type": "code",
      "source": [
        "try:\n",
        "  open(\"my_file.txt\")\n",
        "except:\n",
        "  print(\"There is not such a file or the path is incorrect\")"
      ],
      "metadata": {
        "id": "zMTOxdDghOFR"
      },
      "execution_count": null,
      "outputs": []
    },
    {
      "cell_type": "code",
      "source": [
        "try :\n",
        "  open(\"my_file.txt\")\n",
        "except FileNotFoundError:\n",
        "  print(\"There is not such a file or the path is incorrect\")"
      ],
      "metadata": {
        "id": "dgIFZayCiKkG"
      },
      "execution_count": null,
      "outputs": []
    },
    {
      "cell_type": "markdown",
      "source": [
        "# Full Exception Handling Block\n",
        "```\n",
        "try:\n",
        "    ...\n",
        "except:\n",
        "    ...\n",
        "else:\n",
        "    ...\n",
        "finally:\n",
        "    ...\n",
        "```\n"
      ],
      "metadata": {
        "id": "dyQX9JIAjNv-"
      }
    },
    {
      "cell_type": "code",
      "source": [
        "while True:\n",
        "    num1 = int(input(\"Number1..: \"))\n",
        "    num2 = int(input(\"Number2..: \"))\n",
        "    try:\n",
        "        sonuc= num1/num2\n",
        "    except ZeroDivisionError:\n",
        "        print(\"Lütfen paydayı(num2'i) sıfır girmeyiniz!!\")\n",
        "    else:\n",
        "        print(\"Bölüm..: \", sonuc)\n",
        "        break\n",
        "    finally:\n",
        "        print(\"Mini hesap makinemizi kullandığınız için teşekkürler\")\n"
      ],
      "metadata": {
        "id": "2BLuFTZHjc5P"
      },
      "execution_count": null,
      "outputs": []
    },
    {
      "cell_type": "code",
      "source": [
        "while True:\n",
        "    try:\n",
        "        num1 = int(input(\"Number1..: \"))\n",
        "        num2 = int(input(\"Number2..: \"))\n",
        "        sonuc= num1/num2\n",
        "    except ZeroDivisionError:\n",
        "        print(\"Lütfen paydayı(num2'i) sıfır girmeyiniz!!\")\n",
        "    except ValueError:\n",
        "        print(\"Lütfen sadece sayı giriniz!!\")\n",
        "    else:\n",
        "        print(\"Bölüm..: \", sonuc)\n",
        "        break\n",
        "    finally:\n",
        "        print(\"Mini hesap makinemizi kullandığınız için teşekkürler\")"
      ],
      "metadata": {
        "id": "dhbIMbHJkzrB"
      },
      "execution_count": null,
      "outputs": []
    },
    {
      "cell_type": "code",
      "source": [
        "while True:\n",
        "    num1 = int(input(\"Number1..: \"))\n",
        "    num2 = int(input(\"Number2..: \"))\n",
        "    try:\n",
        "        print(\"Bölüm..: \", num1/num2)\n",
        "        break\n",
        "    except ZeroDivisionError as e:\n",
        "        print(\"Lütfen paydayı(num2'i) sıfır girmeyiniz!!\")\n",
        "        print(f\"Hata sebebi..: {e}\")"
      ],
      "metadata": {
        "id": "GLZ0ITflln-u"
      },
      "execution_count": null,
      "outputs": []
    },
    {
      "cell_type": "code",
      "source": [
        "try:\n",
        "    a = 10\n",
        "    b = 2\n",
        "    print(\"Bölüm sonucu..: \", c)\n",
        "except Exception as ex:\n",
        "    print(\"Hatanın sebebi..:\", ex)  # ex: associated value (hata açıklama) textini döndürdü..\n",
        "    print(\"Hatanın tipi...:\", type(ex))\n",
        "    print(\"Hatanın tipi...:\", type(ex).__name__)\n"
      ],
      "metadata": {
        "id": "ZdJWlVGyqq8k"
      },
      "execution_count": null,
      "outputs": []
    },
    {
      "cell_type": "code",
      "source": [
        "# else: hata yoksa çalışacak işlemler\n",
        "try:\n",
        "    x=4/1\n",
        "except:\n",
        "    print(\"Bir hata oldu\")\n",
        "else:\n",
        "    print(\"hiçbir hata yok\")"
      ],
      "metadata": {
        "id": "jVIkYgarsF2J"
      },
      "execution_count": null,
      "outputs": []
    },
    {
      "cell_type": "code",
      "source": [
        "try:\n",
        "    x=4/1\n",
        "else:\n",
        "    print(\"hata yok\")\n",
        "#try; bizden expected 'except' or 'finally' block"
      ],
      "metadata": {
        "id": "vOHF8Tg5sWxN"
      },
      "execution_count": null,
      "outputs": []
    },
    {
      "cell_type": "code",
      "source": [
        "# finally: hata  olsa da olmasa da daima çalışır\n",
        "try:\n",
        "    x=4/0\n",
        "except:\n",
        "    print(\"Bir hata oldu\")\n",
        "finally:\n",
        "    print(\"ben daima çalışırım\")"
      ],
      "metadata": {
        "id": "NHr_Gh5yswKQ"
      },
      "execution_count": null,
      "outputs": []
    },
    {
      "cell_type": "code",
      "source": [
        "try :\n",
        "  f = open(\"my_file.txt\")\n",
        "except FileNotFoundError:\n",
        "  print(\"There is not such a file or the path is incorrect\")\n",
        "finally:\n",
        "    print(\"Dosya düzgün kapatıldı\")\n",
        "    f.close() # dosyayı kapat\n"
      ],
      "metadata": {
        "id": "UFGrtrTPtSgh"
      },
      "execution_count": null,
      "outputs": []
    },
    {
      "cell_type": "code",
      "source": [
        "try:\n",
        "    x=2/0\n",
        "except ZeroDivisionError:\n",
        "    print(\"attemt to divide by zero\")\n",
        "except: #farklı bir hata ise\n",
        "    print(\"Farklı bir hata\")"
      ],
      "metadata": {
        "id": "Hz2Dtqsaukxs"
      },
      "execution_count": null,
      "outputs": []
    },
    {
      "cell_type": "code",
      "source": [
        "try:\n",
        "    a = int(input(\"a..:\"))\n",
        "    b = int(input(\"b..:\"))\n",
        "    x = a/b\n",
        "except ZeroDivisionError:\n",
        "    print(\"sıfıra bölme hatası\")\n",
        "except (ValueError, NameError): #farklı bir hata ise\n",
        "    print(\"lütfen rakam giriniz\")"
      ],
      "metadata": {
        "id": "1fRkcE-yvaNi"
      },
      "execution_count": null,
      "outputs": []
    },
    {
      "cell_type": "code",
      "source": [
        "fruits = [\"banana\", \"apple\", \"mango\", \"lemon\", \"grape\", \"pear\"]\n",
        "try:\n",
        "    indis = int(input(\"İndis no...: \"))\n",
        "    print(f\"My favourite fruit is {fruits[indis]}\")\n",
        "except IndexError:\n",
        "    print(\"Lütfen indiss numarasını (-6...+5) arası giriniz...\")\n",
        ""
      ],
      "metadata": {
        "id": "-tsJtJOYwHNu"
      },
      "execution_count": null,
      "outputs": []
    },
    {
      "cell_type": "code",
      "source": [
        "fruits = [\"banana\", \"apple\", \"mango\", \"lemon\", \"grape\", \"pear\"]\n",
        "while True:\n",
        "    try:\n",
        "        indis = int(input(\"İndis no...: \"))\n",
        "        print(f\"My favourite fruit is {fruits[indis]}\")\n",
        "        break\n",
        "    except IndexError:\n",
        "        print(\"Lütfen indiss numarasını (-6...+5) arası giriniz...\")\n",
        "    except ValueError:\n",
        "        print(\"Lütfen indiss numarasını (-6...+5) arası rakam giriniz...\")"
      ],
      "metadata": {
        "id": "1a_IrHbczGpR"
      },
      "execution_count": null,
      "outputs": []
    },
    {
      "cell_type": "code",
      "source": [
        "fruits=[\"banana\",\"mango\",\"apple\",\"pear\",\"lemon\",\"grape\"]\n",
        "n = 3\n",
        "while n>0:\n",
        "    try:\n",
        "        indis = int(input(\"indis no:..\"))\n",
        "        print(f\"My favourite fruit is {fruits[indis]}\")\n",
        "\n",
        "    except IndexError:\n",
        "        n = n-1\n",
        "        print(f\"There is no such index. You have {n} right left,Try again!\")\n",
        "    except ValueError:\n",
        "        n = n-1\n",
        "        print(f\"You should enter integer. You have {n} right left,Try again!\")\n",
        "    else:\n",
        "        print(\"Congarts! You have entered a valid input\")\n",
        "        break\n",
        "    finally:\n",
        "        print(\"our fruits are always fresh!\")"
      ],
      "metadata": {
        "id": "vT0d5E244U38"
      },
      "execution_count": null,
      "outputs": []
    },
    {
      "cell_type": "code",
      "source": [
        "try:\n",
        "    3+3         # bu kod\n",
        "except:\n",
        "    print(0)    # hata üretirse\n",
        "else:\n",
        "    print(1)    # hata üretmezse\n",
        "finally:\n",
        "    print(2)    # her daimde burada"
      ],
      "metadata": {
        "id": "e2DlSqRN6RUf"
      },
      "execution_count": null,
      "outputs": []
    },
    {
      "cell_type": "code",
      "source": [
        "try:\n",
        "    3+\"3\"\n",
        "except:\n",
        "    print(0)\n",
        "else:\n",
        "    print(1)\n",
        "finally:\n",
        "    print(2)"
      ],
      "metadata": {
        "id": "uFqN43qL6hnu"
      },
      "execution_count": null,
      "outputs": []
    },
    {
      "cell_type": "code",
      "source": [
        "def test():\n",
        "    try:\n",
        "        3+3         # bu kod\n",
        "    except:\n",
        "        print(0)    # hata üretirse\n",
        "    else:\n",
        "        print(1)    # hata üretmezse\n",
        "    finally:\n",
        "        print(2)    # her daimde burada\n",
        "\n",
        "test()"
      ],
      "metadata": {
        "id": "k5l8f2PE7EjC"
      },
      "execution_count": null,
      "outputs": []
    },
    {
      "cell_type": "code",
      "source": [
        "def test():\n",
        "    try:\n",
        "        3+3         # bu kod\n",
        "    except:\n",
        "        return 0    # hata üretirse\n",
        "    else:\n",
        "        return 1    # hata üretmezse\n",
        "    finally:\n",
        "        return 2    # her daimde burada ???\n",
        "\n",
        "test()"
      ],
      "metadata": {
        "id": "UzxUbjEe7SYA"
      },
      "execution_count": null,
      "outputs": []
    },
    {
      "cell_type": "code",
      "source": [
        "def foo():\n",
        "    return 1  # ilk return döner\n",
        "    return 2\n",
        "\n",
        "foo()"
      ],
      "metadata": {
        "id": "LRpvXvxz7k0H"
      },
      "execution_count": null,
      "outputs": []
    },
    {
      "cell_type": "code",
      "source": [
        "def foo():\n",
        "    return 1, 2\n",
        "\n",
        "foo()"
      ],
      "metadata": {
        "id": "zmg24iXR8ILj"
      },
      "execution_count": null,
      "outputs": []
    },
    {
      "cell_type": "code",
      "source": [
        "def foo():\n",
        "    try:\n",
        "        print(\"1\", end=\"\")\n",
        "    finally:\n",
        "        print(\"2\")\n",
        "\n",
        "foo()"
      ],
      "metadata": {
        "id": "HVxZ-80V750b"
      },
      "execution_count": null,
      "outputs": []
    },
    {
      "cell_type": "code",
      "source": [
        "def foo():\n",
        "    try:\n",
        "        return (\"1\")\n",
        "    finally:\n",
        "        return (\"2\")\n",
        "\n",
        "foo()"
      ],
      "metadata": {
        "id": "fwa2DX0p8R8M"
      },
      "execution_count": null,
      "outputs": []
    },
    {
      "cell_type": "code",
      "source": [
        "try:\n",
        "    print([1,2,3,4,5][5])\n",
        "except Exception as e:\n",
        "    print(e)\n",
        "    print(type(e).__name__)"
      ],
      "metadata": {
        "id": "ivbXUISV8e_i"
      },
      "execution_count": null,
      "outputs": []
    },
    {
      "cell_type": "markdown",
      "source": [
        "#raise deyimi\n",
        "\n",
        "Herhangi bir anda bilerek/isteyerek bir Exception fırlatmak için kullanılan bir deyim...."
      ],
      "metadata": {
        "id": "wepeVFYg89qc"
      }
    },
    {
      "cell_type": "code",
      "source": [
        "asansor_no = int(input(\"Asansor no..:\"))\n",
        "if asansor_no == 13:\n",
        "    raise Exception (\"Bu kata çıkamazsınız\")"
      ],
      "metadata": {
        "id": "aeRnJ8FV9S_F"
      },
      "execution_count": null,
      "outputs": []
    },
    {
      "cell_type": "code",
      "source": [
        "chr(33)"
      ],
      "metadata": {
        "id": "xummrhac_Czr"
      },
      "execution_count": null,
      "outputs": []
    },
    {
      "cell_type": "code",
      "source": [
        "# Yapılan password üretecini test eden bir program yazalım\n",
        "import random\n",
        "import string\n",
        "import re\n",
        "\n",
        "def password_generator():\n",
        "    psw = \"\"\n",
        "    for i in range(8):\n",
        "        psw += chr(random.randint(33,127))\n",
        "    return psw\n",
        "\n",
        "\n",
        "def check_password(sifre):\n",
        "    \"\"\"\n",
        "    # bu  password_generator() fonksiyonu test eden fonksiyon yazalım\n",
        "    # en az 8 karakter mi\n",
        "    # en az bir küçük harf\n",
        "    # en az bir büyük harf\n",
        "    # en az bir rakam\n",
        "    # en az bir punctation içeriyor mu? test edelim...\"\"\"\n",
        "    if len(sifre)<8:\n",
        "        raise Exception(\"Password 8 karakterden az olamaz\")\n",
        "    elif not re.search(\"[a-z]\", sifre):\n",
        "        raise Exception(\"Password en az bir küçük harf içermeli\")\n",
        "    elif not re.search(\"[A-Z]\", sifre):\n",
        "        raise Exception(\"Password en az bir büyük harf içermeli\")\n",
        "    elif not re.search(\"[0-9]\", sifre):\n",
        "        raise Exception(\"Password en az bir rakam içermeli\")\n",
        "    elif not re.search(\"[string.punctuation]\", sifre):\n",
        "        raise Exception(\"Password en az bir özel karakter içermeli\")\n",
        "\n",
        "# ana program\n",
        "\n",
        "try:\n",
        "    sifre = password_generator()\n",
        "    print(sifre)\n",
        "    check_password(sifre)\n",
        "except Exception as e:\n",
        "    print(e)\n",
        "else:\n",
        "    print(\"Valid password\")\n",
        "finally:\n",
        "    print(\"Validation completed.\")\n",
        "\n"
      ],
      "metadata": {
        "id": "jVvM0_qf-HZi"
      },
      "execution_count": null,
      "outputs": []
    },
    {
      "cell_type": "code",
      "source": [
        "# Yapılan password üretecini test eden bir program yazalım\n",
        "import random\n",
        "import string\n",
        "import re\n",
        "\n",
        "def password_generator():\n",
        "    psw = \"\"\n",
        "    for i in range(8):\n",
        "        psw += chr(random.randint(33,127))\n",
        "    return psw\n",
        "\n",
        "sifre = password_generator()\n",
        "print(sifre)\n",
        "flag = False\n",
        "for i in sifre:\n",
        "    if i in string.ascii_letters:\n",
        "        flag = True\n",
        "\n",
        "if flag:\n",
        "    print(\"küçük harf var\")"
      ],
      "metadata": {
        "id": "UwP2zCweE5ni"
      },
      "execution_count": null,
      "outputs": []
    },
    {
      "cell_type": "markdown",
      "source": [
        "# Dosya (File) Kavramı\n",
        "\n",
        "![image.png](data:image/png;base64,iVBORw0KGgoAAAANSUhEUgAAA5wAAAGMCAYAAAC2+61jAAAABHNCSVQICAgIfAhkiAAAABl0RVh0U29mdHdhcmUAZ25vbWUtc2NyZWVuc2hvdO8Dvz4AAAAtdEVYdENyZWF0aW9uIFRpbWUAVHVlIDA2IEZlYiAyMDI0IDAxOjQ2OjAyIFBNICswMy3JyfkAACAASURBVHic7N1ZjFxXnuf37znnbrFH5L5xX0SK2lWSSqplqqZ7erprGrPYPRjYDzbgJ7/Y8JPtN2PsF8OwDRgwCrYxHtvoMYye7pmeaXVPd1dXFWqvkkoLJZGiSIo7c8+MzIw9btx7jh9uJJmkSEqilCRV+n+I4BJ5494bESTj/vJ/zv8o55xDCCGEEEIIIYT4nOmHfQJCCCGEEEIIIX4zSeAUQgghhBBCCLErJHAKIYQQQgghhNgVEjiFEEIIIYQQQuwKCZxCCCGEEEIIIXaFBE4hhBBCCCGEELtCAqcQQgghhBBCiF0hgVMIIYQQQgghxK6QwCmEEEIIIYQQYldI4BRCCCGEEEIIsSskcAohhBBCCCGE2BUSOIUQQgghhBBC7AoJnEIIIYQQQgghdoUETiGEEEIIIYQQu0ICpxBCCCGEEEKIXSGBUwghhBBCCCHErpDAKYQQQgghhBBiV0jgFEIIIYQQQgixKyRwCiGEEEIIIYTYFRI4hRBCCCGEEELsCgmcQgghhBBCCCF2hQROIYQQQgghhBC7QgKnEEIIIYQQQohdIYFTCCGEEEIIIcSukMAphBBCCCGEEGJXSOAUQgghhBBCCLErvId9AkIIIcQXlnM43PD3n+JxSqGU+ui+nMu+hoIbX3bY1ibJtfNsLfcZBFWC2f1UJvP4kfkcnoQQQgixeyRwCiGEEPcj6eM6TeL6Kr2uxSaf7GHOeLiwRH60SlDKYQzQ6zDY3CLeajEIqwTVEmE5wmgFOGyjTu+9X7DwboNeYT+lV0bIVQK80HB7bhVCCCEeJRI4hRBCiPvgOnUGF99j7Yd/xdLlmGYD9LDMeddip7OQr5FOP8HB33mJiRN7yRc06co1Gm+8weLrH9CceomJF59k6pm95HMKpcB1m/Qvvs/ar9Zojya4A18lOVZ7YM9VCCGEuF8SOIUQQoj7oJI+trlG59L71N91tNtF8nMVTM5DexrsHWKncjhruTkQ1+FcQrq1SOv8B6z++CSNg6NE03OMHZvFRcPAqRRKGwgMeMOqplQ2hRBCfAFI4BRCCCHuh02xgw6DzTq9hYg0nCA6eIzyVAE/54O6c53ThUXc2D4Ko0U8T4NOwTeYfI5gtExYzuFFHsrsSJRKoTyD8jy00WAkcQohhPhikMAphBBC3BcFSqM80KZEbuYxJn7r95l4cpzCaP7ucVAp0B7G99BaoQBvfB/lFwbMVffQqT1O7egUUc4MGwt9mm5Et3G3PfazTPgcNjT6XPd/P4/ffswt27rbXiZ19zz+ebwmn+frKoQQv+EkcAohhBCfVQoYhQt9dBjhRdG964/DLrVZoDTowijRQZ/Rsb1UgypBpYQx6j5zjIM0hSTBDlIcYLUaVkl9tDGoYdD9JPtyNsUNElya4pSPCgxagUoG2NTi0mx4sDMajIf2bgbpu+/T4pIEN0izzryA0wqlDNp4KP/2Zkgum/+aptj+AIcGY1ChBzZ7rgxsdh4onNZoL0B5Gr29AJxNcWmCixPcMJ86rVDGu1E5/tjXZHgOLh5grduxDwPGx3ifYB9CCPElI4FTCCGE+Jw4rVFeFoY+8ULXzmI7WwyW5mnPr9HJ7aG0R+GFAVrrTxE6HS5NoNsiXVykt7hKa22TgXWknsHlcngTs0TjYxSqFaK8j9b32rnD2QTXWKP74RU6i5v0R6bJzY0Q+in62hU6a2163QGJUrh8Dm9knGByhvJ4jSDyMDuHBbtsf7bbYrBep7u4THdtk0EvzoKb76MrNcKxCQrTk0TFCC/wblR5XdwgWVuicfoqfRegaiOUpkdwjTWS9XV6K20GCqwJUVGJaGqK3MQI+VoBYzsk9RX6yyvZ8xikpE7hfA81Pkl+corS5MRHz3mnuIvd2mCwtER3YY1uu0vfuuy8a6P441Pkx8fIlSKCwJOipxBCDEngFEIIIT4nd5m2eQ8O51LS9as0Xv851356hvrU15n71ktEo1VM8CmqnDbBdbawVy6y9dY71N89z9r5Rbo4ksBDVcoER5+kcvQ4Y0cOMrJ/jCh379DpbEy6cZ3Gz37M0s/O0zr+PKPP7aMYxdjXf0X9whqNzR6xVrhKkeDgEcqPP8v0M09Rm64QFb2bFb80xnUadK9donHmPOvvnGPz4iL9ZodUA6GPP72H/JHHGHvuGUYPzlAYKRP4BkixnXUGV95l4U9+RCvJoQ8cYOrEfuzyRdoXL7J1dp2egsTPo8rjVI8dZ/TpY4wdnibqLdI6f4aN989SP71ApxMzcJD6Pt5jx6g9+QzTzz1HbaZKmPfRH6muptj6Er1zZ9l4413qZ67QWGvQSR0uCjB795M7fJza0ccZOzJLZapM4H/ibzkIIcRvNAmcQgghxMPkHK7bIl5donnuCo3+cXqbPdI7dbm9+05w/TqDy6dY/9d/wdWTi2xtDFAjRbzAw7cD0oVFmuev03r9LI0nX8T9wTcZ2TtCvhjcJdQ6lLPYuE28skLzrUs0bECydom6sfTXNtCpw3kKnXTpnF2kc+46rfeuMlgPcd88xsTxGr5SWahurjI4/waLf/lzFt6+zsZSSjRRwsvnCU1CmjbonXmL1ocX2Phwie53vsXks8cYHy1k55f2SdvrdC/P01iNSecX6b33PvgW5xJc6EPSxW0s0Tt7ie6ZM7TOP07z+CEK6+fYuLrOZr2PLnpoY6DdJp1fpn1+kd6FVZJNg/mdZ6nOVgkDc/NlSPvYZI326z9g8YdvcPmNRVwlj8lF+DkP2+sQv/MunbfOUR87R+8ffgv7jScZny2jlEzvFEIICZxCCCHEZ6IBlf1wQJrNobR32FJtr2eibqtc2hSXxNh2n2SQkFr7yaulLsWlLeLLp9l87Rdc/tklWrlRgmf3M/bCYxSjAN1rkyzPs/Xme9SXrrN1Epb3T+P7xwgOjuF790hFNsUmKclih27hImlnhuLBfRReeYZqNSL0B7j2Ko033mL19CJbZy6yVXqX2v4q5UPDKq3tMli6RP37f8PiySWanSL548cYf+kQxfECkelje/NsnHyHtVNL1N98m/XJPUSVCUZG8llTXmfBpqT9mP5ai4EK0LUZao8foLR3nFzkQ7xJfPUSjTdPsXy+TuPkSXrz8+ScQ03PUXhpH7XD44Q6Rm2u0Dl/juXXz9O5fJX6629TOr6HoFIgGDEowLk+trlIcv5XLP30bRbPbhCPzTH21cep7p0kHwW4Rp3OuQ/YOH2JlQ/fZv3XNfxKmVLtOGHO3H2IrhBCfElI4BRCCCE+EwUqxfY7JOsr9BZTdC93a2BUDiwo38dEeUypjPHVjaGbbruBkM46wX7yiOIgjbGNRdqn3mb5F++wPK8p/93HGf87LzP7jScpBAF+r0WycpXWiML88G2uffAh6299QHnPGKXZGp6505xDNfxZoUw2PDRZaRMeqJA/9ASTf/dvMTqRJxfE0F6iVQOV/Jr2D+bpnTtDZ+Eo3fYR8r4C2yHZXKXx3hV6gxGio08x8bVvMfX1I5THCwR+H3rzFKsa3f8FW69ep33qCs19h+k+N0tOO9Sw86wy4FIPchXCx59k5FvPM3F8H4VCgIo3GFw6TbPmiNtvsfzuGluXWwyefZbxJ55n/JvPM3l0kpwXw+Yi/fNTmKTL/BtLNN4/y+aVVcp7JqnUIpRy0G8wWLhA40c/YvGdZZpMUXrlm0z+znOMH5ymkMsCZ+/0GKWio7v6Gt1zZ9gYm6L57EGMF2GMuf2FFUKILxUJnEIIIcRnosHr0KtfZO2nf0P/bLYO562rdjhUmqIq40T7DzP64lcolDx08BkP7VJs3CS9dJq1106z8O4G+vjLTHztq8w89ySVwnA4ql/Fz4VUqz16nRbNS2+yeek8nYWjdFr7yeUN94y5aQqeQc/up/a1V5j69svMHKzhGY1WEUQB5Ze/wtjCKhtvzlO3K/S3NhnUY1zZA5WiylWCJ7/OTPkQuSPHGH/+CLlKgOdpFDnIHaBy/DmStQ1WfrJAvLFGf32NhnX4Dvwb52JRtRK5/YeZ+frLjB+epVjNo5UCf4LwiMUv9xk/u0BnOSW1I4x8+5vMfuM5Jp6YIQwMSvkQzaFH84zPX6K73mLrzQ2617cY1HuwzwIWtzFP9/33uPDnp2m4OQovPcXe3/024/vK5Ith9trWxsk/9xS6MKB5/grzl9bpX73A5kqLfMEjCG/vuCuEEF8uEjiFEEKI++WGQ2S9mKRRp33+LPGCj7m9YYxzkCSYyb2UVYHSU5aosCNE3SdlE+g0GFy/QGuxQbeVJzc6TpD3Ie0wqPd3bJ1CWsYrlSlNONYbG/Q2G8SNPm4sgnsV4pyFSKHHRgjGJ4hGa/ieGVZoFWgfSiX8QpGc0qgkIU0SkiRblsXoEsHUYUZ/p4INq3jlEpE3gEaXgUtvLlPSTbB4aE+DHZAmMQO7Y9lLl52LCjx0MY9fKuGFIWZ77ROVdeNltEYURYS5CD8oE81NE45UCAJvuEyKAhWighphrUZQjtCmQxrH2EGSHdAOsPUVugvzbCxY7GyVoFjBy6fYbpPBoL3j9YHUVCjO5AlWtui2N+ktt0imirhyKEulCCG+1CRwCiGEEPdLZSs/4jx0mCMYHSEsh3jBbenNObAJ3miNqFLA8xWfy9Q+m0K/Q7yySG+rzaCnCZtrND94F9W4yubtx1AJ8YdLdHt9Blst4q02cbuPcg7uEYuUc9nanbk8JsrjBR9tNOQ8H2M8fAvaANbCduMjlcer+hRPVLHdNunGGt331umtbxHHMQnZ4W17kc75JXrtlLSWgrM4m+XMG8exDrQG3wzX67z9vA02CDDaw/M8vCjCLxUwkX/bM9RoQnQYYSIP7Q/XHLUuC7g2IW3UidfX6XZA97rES9dovPEL+orblr1xuOYavY0W/U6XQdimt9okjUez915KnEKILzEJnEIIIcRnksKgQn72CWb+4XcYPTpCrhJwe9cg5Rw6DPDzBfyaN1yO5FOvo3ILZ1PSuM9gs4FNOqStNls/+Gu2fjTMwtuBz90MPC5JcF1NWo4YbLUZdHo45z5hLnLZjrdLkrcPG3YO3HYU2zFIV2mUUigdk6yeo/HGu6z88F3WfnWJRrNLP8rWL9X9FNtMSFdTonF77xNyoO7QmcntfE1t1qBJK4V2H0nf2TkqhTIKZW7dC9aSttskzSY6iokvv8/SxTMs/5vh/tOdm6vsdenGJK5A7oUe8WYT209uVmeFEOJLSgKnEEII8VlZUCaAcoVwbIzcSO6O9UKFRvsmm2/4OVHDYaYOjS6VCecmiMZyBJG5e55VHs4fZeTwNPlKmIWuXSzCOdshWbxC59evcf31d9m4VKffNnhPHKRailCFHIE2sFUnvr5M/ddLn+trdN/nPQziDh8zMUJ+okp+InejsH2HR4DKEc4dojJXIcj7UtwUQnzpSeAUQgghPhObVbiMRgUhOhdh8vl7Ton8/Dmc1eh8hfzRp5l4eobiZBFzl8DptAGdJ793H4WxIjfa5e4S1V4hvvg+C9/7BatXugxKo5SePUJl3yjhSBETRfhaQ/0KrfdP0ZvfIA4U7hEpD9qBwR/dS/npx5h6cQ++u/MAZKdAEWAqI0R7J4hK4R2G/AohxJeLBE4hhBDic/KJ1878vI6HAq1QvgZr0H6Z/KFnGP+tZxg7Psm9m+Cqm2FotzPR5jW659/l2l9fwD31ArWXX2H2915kdKZGmM/mgyrA1t9ns9Rl6aenSG9vvPTAKZSnUdrgWgqvNkvlya8y+QcvUlAfdwE1fG0lawohBA/7f3MhhBBC3C/PQxeKRNN7CCsBtrdOe/ka/Y02aV+htP7oTUHW6Gg4KnS3QpG6OXXUbawzWKkT9wz+7BzFg3upTNeGy8dshzM1bBKU4lz6cKubSuF8D786TjgxhpeLSZoL9OpLxJsOl9zptVUoPZxB6m6ZNiuEEF9qEjiFEEKILyinPciVCfYdpDQ5QiHu0Dt7nsbFq7SWNxgMUqx12VxEa3Fxl8HqVVrnTrJ6+jKt5QZJsvvBziYDbNLH6j5J3CXpxSQDC0nWGdYmfdJOne7CNZpXr9Gt97Gxu/faoLtIoVDKQ49Nkp+dY2QsQK+v0r54ka0z1+httrMlX1z22pIMsK0N+tffo376fdbOztNrJ6TpozEkWAghHiYZUiuEEELct90oZd0hpNwYq3vb15TBRSX0nqPUDl+gObPO9QsX2Xz3NEEtj6cPEOZ9jFaoNME112lffI+NS1fYTI8z8fwJTDGPKXgf29zG2e3Df0yIUvYjHXoJC+hSDr+a0F+ap3H+Iht7R9BTRfwQ1KBDsrnIxjunWH33Ip35PmZ0GOju0In248/h0wa9219XBdpD1SbJHTjM3NMzXDrdpvfhh6z+8g0CfRy3f5wwF6Cdw3VbJGvXaZ77BSsrFVzlCLPVEZQJ0cbIyFohxJeaBE4hhBDivrhhsBquN/lZh4BasmU87rYb6+5wHI3WOdT4YWrfehnrWdqvnqT9q59x/dpVWueepDhdJAg1utMmvXyOjQ8vs1mPMY9XKB3cTxJbXOFeI2tvhl134znf63k4nB5W/oYP1VMHyB19kvETl1k6d4H17zUZXL9M87FJojy4zibd9y/RWlynudgl9Q2KhDSJsT0gyo6vrEOlw9fqY0Kncg6n3LCD7z22dcNutKm7bZkVjcqNEx1+itn/qE333/2CxbfnWfuXf0py7QL1Y3MUpst4SYJbXqB7+QJrp87SGz1G4bkRxjoDCuXgo8vHCCHEl4wETiGEEOJ+qSwEZuFqOHT1vnaThSPn7HB/t21gufUYO4ORNii/QrD/BDUCDukqm29fpHF9nsb3lmmWfJznoZNsFo0qjlN4apbKc49T3TdKmDMfX910DpLh8e+RibNz2/F6DLdUxSlyR55m9ve76J+cYf38Gltv/Zr+pQhT8DFBDhOMkT88RjS3gbZv0x606K1t0Ftok0b+zqPcWK7knmx2zje3u+tZDwvVDnvbeidKh6jqNOGTX2V6EBFUT1P/9SV6595j/cr7rBcCdGLAKpxnMHNPMPL4k1SfOkyxFuL7WpZFEUJ86UngFEIIIe6HF6KLY+QOPEatW8VNTRKWQoz5lO0RlIJ8GX9qjvLTTdKpSfIjeZRRZKUxhwpy2dePFPGLUxSqIcbfXjtTgQ7Q1Rmio0WmCiOUKjXqb59h5ewCnU5Mio/VBfyZPZROHKH61GPUju6jWCsQRPoeBTiDikqEc3NUvtHBHpohX8vjBbev26lQKsKMTVB89jA1ShQnaoTRcDhpUCGcOczo34rQpkxQ+YCVc9dJkhiX+pCvkHv8OcYOlwmSVQLdo94poso5VG+ASn3wcujyOMUThxn0i+g94wQFD+3devYKg1IF/Nk5SicCbDRJrhJhgjsFa4Uu1cjN7aV2Ik8wVSUo7OjtqwyEJdTEYWpfyROVRykXS6yeusTm2hbdjZjUBejaOOHcXqpPHaP2+GEq+7P3SO/ycjNCCPFFoNyjssiVEEII8UUSd7CtDXpL1+k3fFxYJdw7RVAO8fxPMW/PWWy7Tn91je5agzgcJzc+Sn60hOcrlBrOEVyZp7URY70iZnyKwkiI75uP7Is0wW3Wiesb9NcbxM5hrUbpAFWqEIxWCEZLBL437BB7r1NLcN0G8cIKvbUmg3yVaHKCqFbGD3c+0OHSDsnyKv2FNXrOwxubIhofI9yeH+osziakG5vE6xt0N7awaYozPjpXxJuYJix4eEmL+Po83b7GRhX8iSlKNR+jutjGBt3Lq/StgWKV/NwMQd7HmJ3nkuBsh8HFBfqNHrGOCGbmiMo5/Oj21VEddn2J/nqd9laMGp0hGq2QL0cffV1sCr0ObmOD3mqdXqdP4hzOGVRYwJQrBFM1glyA5xu0lDaFEAKQwCmEEELcH5tCMiCNu9iBBuOjcyHa0zfXt/xEhl1O45g0TrA6wAQBJtzRyCdNcHEvm2+pPXQQYvxsKY477m8wwMUxaTwgm0qpcEqjPB8d+uhPGoicG4bOPnaQYI2PDkJ04KFvL+S6FNvv43oxKRoVhOgwuC0MOtxggO0PsINBNjRWKZTx0GEO7SmUTbDdLqkFtI8KQkyg0aS4ZEDajbFOgefhRRHK3D5s1WXn0u3hBpYUjYkilG/uWHF0gx42HpAOLPgROvTxvLtUqW0K8YA0jnFpit1eV8Z44PmYyEdrGUYrhBA7SeAUQgghhBBCCLErZB1OIYQQQgghhBC7QgKnEEIIIYQQQohdIYFTCCGEEEIIIcSukMAphBBCCCGEEGJXSOAUQgghhBBCCLErJHAKIYQQQgghhNgV3sM+ASGEEELcBwekFqwDT4Ea3oQQQohHiFQ4hRBCiC8aBzgHnRjWOtAeQGKz+4QQQohHiFQ4hRBCiC8Y5xyqn8DpVXhzCY7U4PEx3GwFcCipdAohhHhESIVTCCGE+AJxzuGcg3oXXl+A/+wM/NE5OLsOcXLz60IIIcQjQAKnEEII8QXhnCPFkToLVzfhB9eBc/B/vQevzaNaPaxzwxG3EjqFEEI8fBI4hRBCiC8I5xwutdCM4fV5eHUR2ADW4F9chV9ew8UpqYROIYQQjwgJnEIIIcQXQFbdBNWO8a9uwKvXgVWgDzThg3n488t4yw10byBhUwghxCNBAqcQQgjxCNuek+mcw1mHqnfgrUX4wVVgC1DAAFiG/+MS6r1l1GYHZ63M5xRCCPHQSeAUQgghHnFu+MN2+5gLdfg3l4F1oEcWODXQBZbhX36IvrSBHQwbCD3E8xZCCCEkcAohhBCPOOcgcQ5/rQ3vrsCfXQXagOVm4EyBJvyLa3BmHb3VI8WBVDmFEEI8RBI4hRBCiEeccw5rLWa+AT9fBhaA+A5bxsASvL2CN9/ApRYrYVMIIcRDJIFTCCGEeETdnLtpcXECZ9bhX69xa3VzmyKrcm7Cdxfg7SVcL74ROqXKKYQQ4mGQwCmEEEI8grbDpnUO+gl6vQ2/WgLWyILlHR9F1kBoCf7qGv61LVw3lrAphBDioZHAKYQQQjxitgNithSKw3Zjogt1+OdLZOtu3vPRQB3+1TzmjQVMvYO1qXSsFUII8VBI4BRCCCEeQdsBMdUO0+jBT+fJOtN27/aI4Y3hNivwP32AubpJOkiwziI9a4UQQjxoEjiFEEKIR1AWHx22l+AtNLLuszSBZLiFuu2mATP8vQUa8N5l+Nk84dUtrHVS5RRCCPHASeAUQgghHjGOLBgmyhEsN+GdFTi/QNYsyJEFy2h484a3AlACArKP9z6wAv/vNfSpFegNstApVU4hhBAPkAROIYQQ4hFyo1mQsqQ4gjOr8MdXgCWyEKmBgJgRBlSBHBCxxRjXf3uGm6HTAT04cw1+vIBqdiGRuZxCCCEeLAmcQgghxCPixjIoDlyc4q204LUl+Mki0CGrbNZo7tnD2f9ylpXvVAEf8Nj6BwUuf2ecK//JfhzTQIVseG0d/tcF/LeXUM2eDK0VQgjxQHkP+wSEEEIIcSuLQ3cH+B/W4XuLZM2CNDBC65lxLv/jMZb2RuQ3BsP7Fcl4yObBEm6sgC6FzP4vIRqPrIHQGvxoHu9AjbgY4kL/Rn8hpdRdzkIIIYT47CRwCiGEEI8Q5xxYh2724Y0l+OUKWXWzQvdvz3Ll35tk4UgB4oQwNcNHeXiBj8lHtCqGq9U8g31l9vy7Iv73r2aP/x/n4bf3oCaLpKEvFwBCCCEeCPm8EUIIIR4BO4e56k6MudaAP7lONm9zjPif7GXh74yztT9PECly/R6FniarcIb45Tz5XA6tNYzAxlN50r0V9h4uE/5vdaABp1bxZ8r0Kzmc1iikuimEEGJ3fXEDZxJjuw3itS0GicYWRsjX8niRj4wOEp+Zc8PhZg60THUWQjw4zjl0owcrLeim8PgU6ct5Fn93itZkhMkbcspRdin57nbgzOFX8uQLBQwKpxQUoFNzrHwnYnK2TPDLLdjow3ILtbeKK0Q4g0ROIYQQu+rzDZzOQTrA9juk/ZQ0tXz8R5nLtlEGE+UwUYD2dLavuE/S65E6gwpCTBRghtf+dtDFrVxm6+RZWi2fZM/TzJyYpRh4YHb549M53CDG9vukA4sLIkwU4nnysf1F5gCsQ8UptGNQCiIDOR/5LoYQ4kFwzmGtw2vH0E3gpTK9J0qsnqiwNRWiE0ekQGkouj5hZztwRniVrMJplL6xrxRH+0iOtbES1SOj5Od70EswnQE2H4BT2aew/B8nhBBil3y+gTMdYBur9M+dZP3aJu2N+OM/xJzDaQ8XlCg+dpzygT2UxvOQxCQL12iePctGUiXas4/K4TnyOYXWoHptkuunWf3e91hayWNfrFKZqZGv5TG7HThtSroyT/fSRVYWu/h7j1E6tJ/qmFRXv3CGw9ecUljAdAaw3IKTyzAWwaERmDQ4L7uAk4syIcRu2Dmc1jmHNRqm83T+8QGaIwH9oiG0Fh0qnNE45ShYD3rDHTwf4pUioijC01kToSy8WgDiqYjGRBl3eIBXyEGgUC5bk1OG1QohhNhNn2/gtANsc43O6Z+z+Kt51q50UFpnF+l3G5XoLM6EpKVJZlwRrzpBcSwHvU06F06x8ur3ud6bpfLyK+jKGOFchNYK5ywujbGdLoO2xg6SB9Pi3VncoE3/4ges/c1PuHSuTe75hEmqFEfG8Ix8dH8RbP9NUYmFboJq9DDn6nBqFd7fhKIH35gFX+PkHRVCPCDZ55hjUA5I95SJtcX5EOBw1qKVxvoaiyPqA+tZoGRvBMWQ0PfxPO9GiLTWZvtUCrQmzudwnocJDQZuDDISQgghdsvnHDhTbL9Ff/EiW+9dZv01S3BwhGiugF/wUQ6yn27lhpf/Dm4EU2e7pFvrtC9cY6unMQe36HcTXOrAU4ACrUAbtNHZ7x9Q9cm5AcnWBt2r12mcbZNOb1Bp9ocXCvLJ/chLbTZstpfAShuub8HZAi4imAAAIABJREFUOvzVPLxaB1L4Lw5AxcflfKxyKKekei2EeGCSQkASapxN8dIUM6xUKqVIPIW1jqiVwKkB4GAujy1HGN/H9zz0sCHQdpXTOYfSGjyDNQZjPJRSMmpDCCHErvt8A6dSKAzK99FBiWj/KCOvfIOp3z1IeW8F70awvBk6sxBqcH6OYHqa3GgRpQE/wp+YpPLcccbiWcoHJ8iVAvRuD5f9BJTxCSYmKD1xlPGoS3h0lvx4AS0f3I+8FND9BLXShosb8LPr8M+uwrUrwBZQhhcOwT/YT/LEOC7voXAoKQMIIR4QpRTaaIzyUKnCGAPOoVQWIJWBJEkwqz2yNTYd9kCJtBZhjMHzPLxhoIQdVc7hvo02mO3RR0IIIcQu250utRp0qlB+DjMyReHgIcqPjRHedcSrwmmNDiNMaFAoVFAhOvIUk9E4xbSINzFBfsR/+IFTKTB5ggPHGc2NEHw1QY/OEk0W0FqG0z5qtoeSWRymN8Bc3IS3l+Cn8/C/z5Mtpr5FdtFWhZf2w391jO7+EjZSWWXBmOwiTy7OhBAPgFJZyFRKYYchc5t1DtIUrxHD5RaQACGD8RyuEGCUzgKlMdnyKNycH3pjyZVh2JT/04QQQjwIu7csilUoY1C5PF61QjAyQvgpHu6UQQd5vGqV0OUwuQBP32eNyVkYxNh2h6TRJEktqSNbg6xQxCvk8aNw+B3fj9uZQimNCiNMuUzoOVQxxPPvFDZddux0QNppkbZ7JN0B1jqsMaggQOWLBIUIz/fuXiF1w/20WySdDoN2j9Q5HBqFj8oV8YoRQSEAffvQz6yjrus0GWy2SXSIKpUJcxrVbZM228RxisNhPQ8XRATlEl4U4psv7nIg2TQohxqk0Ohj6h24ugnfvwb/wzVgAVgjC5oAOWAa/uO9rD83gS5ni6JvX6TJhZkQYjfdqF4Og+D277XWtzYUwqH7Cf56D042ycZt5EnLITYwmOFjtm/b+7pb4JTgKYQQYrftUuBU2VjZ7dv9GPSIV6/TfPd91gcj5PceonYsj+/7n27ZE5dCEuPqa8TXrtE6c4Fmd0DfOVwYoPYcoDC3h/L0BPl8iOd9TOgcLv2SrC7QPnuO1dUUb/YxiodDwqJ36we3tbikS9reJL52kfalZdpLDeLEkeQCVHWEaPYAlX3TFEbKBL53h2M7nE1Q3S7J/GU6l6/SuLJK11lS64MpEowfpHxwitL+Gl4+QPs7n4PFdrcYXD3P5slLdIMR1OETjM9q9OI1euevsLXaoacdaS4HYxOUjh6hPDlJpZAD8wVbEWT7oso6VC+FrR68vwK/WsiGzl79kJtBM+vkCAVgkuR/PkT95SninCGyDrNjGJoQQuy27c+P24Pn9n3Z/Q6vnxAttOH1BmBhokha8MHoG/9hb4fV2/ex8zgSNoUQQjwIu1fh/EwcLmnTu/g+y3/xZ1zuHWbkawZvcpZcxcP/pIHTDnDtOumF06z/+jSrJy+weWWJXuJIcOAZGBsnnDtM5eiTTL30BJWZKvnivZY3cZD0iS+fo/7Dv+b82YTci5aZaJKxvaUdm1lcY4n2+TNsnHyH9TOXaV3fpL/VI1GK1FeQLxJUp6i+8Dxjz5xg7NgBcjkPc6Oy6CBpka4u0H/rJCtvvM/6B9fYWm1mTSMwKBugclOU9u9n5MnHqLz8FOU9FfKl7edgsc11eh+cZOFf/ZRGOIF5sUmv1iS9conWmau0NvrEdoD1DWmxSPHx5xl79gVmXniW8rhPED76lc4ba2j2E1SzD9cbWcfZnyzA/3kdWAU2yIJmAll/RrLK5gSD//wQ6yeq9EoennU4X2UXb8MLOKUeXFMqIcSX053C385qZ7bEicM0Y9T5TWATMPD3qiSlEAJzo7L5SfYrYVMIIcSDsHuB0ylUqtBO398aXzbBdpr0FpZodGtEmx2SgUXZT7qDFNdeZnDxA1a//xOW3lum2bLouT2UyzmMVth+j+76Or0PTrF2bZ0kAffCMfwjk/jhPSqdzuI6LfrLK7QuD+BQi0E3QW13qXUJNmnRP/cea798g+u//IBmVxNWqxT2VvAiH9dvE29t0r12no04IWnFoPOMHx4nV4rQyuJsj2TpIp13T7L46musr/Tp6xz+Y7MUih6GBNdq07m6QvtUnd7CEp3EYl85jjk6RRgZwEEaY5ub9K4u02xuYlWAm4gIAh994DCVfRbb36S3vkLzwhW2Nhy26RHkJ/BfmMYEuU9VVH7gUovqDGC1DZc24L1VeGsV/nCFm0GzDfS5OShbkVU4K/DKGCsvjDAoGtQgxesOCKzBTzXeADxls+6O2zydVdnvMOTYKSScCiHu291C4I3RFv2EcKEFv1whW4SzhjtRxRYDMAZ9h2GydwucQgghxIOwyxVOh3UpLo6h3ye9wxYKQGu40aJ9x1e0RvkeJjE3hgZ9MhZsj2TxIltv/ZxLr75Ow0wSPvUEE7/3CmMzo+QDjWvUaf76pyz+4iQLJ19noZ8jLBYoTNcoB+E9j+eMRvseJnQoc2s4dbaHay/RePN1ln52moVzAwrPP0v1G08z9dxhiqUcrrVM7/wp6t/7MVdPn2WtmZLmJ4lGC5h8SKgTXH+d3vmTrP/ox1z4t5dQX3ma8isvMvWNZymPBYSqg1ufZ/1nP2flJ2dYf/06vUThV3OEk1X8II/SWbBynkEVItILW8RnPqSTe5bcy88y+vRhqiUP3Zmn+8E7LL/6A66+do1GL8/a5EGqR6pElRzG3PWleLhSC40eXNmCX8/Dn1+DP7tMNmy2CcSA5WbAhJurcHpAicYzRRLtiBbbhPWEMAwJwx7G88GY7O/nzjc450Peg/Cj/3yUUVnlPPSyw7kdj9s+vN5xn1LDfwTqxjZu+z4lTaiE+DK602ePcw6rwGv14eIm/PES4KBQpHukSlrw8cxH52Z+XPAUQgghdtvuBU5jSW2XZGuJ9rUqgdfAv8NmSml0mEePTRIU/GwO5Wc9tk1x7TXap06x/KOTrNcdxW8+w8S3v8XcS4eIwqwBEYNJolELfky//iuW3j1F++kDNJ49RKEaoO6r66zF9TYYLL3L2hsX2FrwyZ34Cnv/4LeYPLGH6kQRYzQqGSc3WqU45tH9v/+ShStXWHnjPcon9hNUSoRRj/TqBTZ+9RYLP79AtzjHzIsvMfO3X2Li8Wl8X6NJYWaacF+VQikibPySKxfPUD9zgNyBOUq1ObxgxxxE51BRAX98HxPf/iZTLzxGbW8NX2tUOkquHBGkm2yt/JL1xjKttSt0t56g1HeE+UfvQsXhUM0evLcC330P/ugcsEw2bDYlC5p3W85kO4B2KH93kfJ361D2oOKB70HOZGHTv61amQBHcjCbh/Ho1n07INJQDmFPCYLbJsB6CsLtMDrsgBUZCLysagoQeajQYD0DvsbeNjTu9prqo/euCCE+b85li4lZB+F6F95fBxaBCP5Rje5cCRV6dxxOK4QQQjxsuxM4nYYgxfZWaZ75BfPpGdYqIbcUySzgLMoP8Gf2Ufn232d8f4Vi5TN+WKpsjqVbv0bz8jVWL7dJonHyh/ZTOryHKBehtytMQYSemKO0Zy+jc6fZuLBKf32V9kobO1fF3U/DHJfiWnXsxfM0ljvY6hyV559k9OheSlM1/NBkIcEP8PU0xjzH2LOX6fmrbGiLag+g2wO26F85R/38EvU1j/DpY1ROHKZyYJqomBsWxhyEAWH+CNWvLJOuLrDypx/Sm59n88oKY8enKex4h5W1qKkq/mOPUzlykOL0GGE+yApuTsPIBLn9eygX3qS9EhO3WqTdAXbw6K1B6ZwjxeH1BtDswUaPrJq5fYN7h03I/hL2htsZaOjsdqOZkL5t+6GT29vcreyr+eg/re39+fBSBKHOQuZEAFUfcsOKaDWEcoAu+JD3oehlvwYG/OEtMFmFNRpWWUMvu18PK6Na4bSSCqkQv0GcdZBa9IVN+Nka2TSBCdxTNeKRHJ4xaKVvaRYkhBBCPAp2rUut0g6XdBgsXWOrt4QOPlq5dGmKCiPyR1L8Z/oMZhzDZRPvnx3OWVybp7WyTrOeovMFlEmhu0b3wtotoxxRMYNOihcajN8m2dqit9rEDiwu0J+uIy6AS6CxxeDSZXpdh9k7Tun4PgqjBYLA3HwNlIKggK4doPL8C6TlZYLNCqV8gG9jXLdBf/EyzeUOXWpMHDtKcf8U0Uhux4hMBcpDmxrhoYNUXj5K+Udn2dhYp72wTtxJyUX6ZlUsTTHVEnrPPsKxKkEU3NyXMqggRJcr5PyAoN+jHyekic0udB4h2Xf7s0601jl00cDLI3BpCs4D1Mnmaw7IQuXd2OFNA+Hw1zuFTcXNYbiQlTl7w1/ZsZ0b3pLh8d2Ox23v08BrwY5j+dl9N44b3LxvxINDHox7UAqg6EPBzyqxtSgLp6UsoFLwIfKzCmreR5UCyAfgDxsfDQOoJFAhvliy7rRAmqLafXh7GV6vAxr+/ijtx6qkRZ9AGwmbQgghHkm7EziVxaYGE01QfvwZxl6ZIT9VwOy8ZrcO5RzO8/BHxikdLFMoms/ea0U5nE0ZNLZI2h1c3Cftr7D50x/Qv/gGS3fYf7q5SrywRKc9IGx1SOoN0kGCst7di1h3k1iSTovu8iKpy6HzeYJShPE+Wm1S2oCfp/j0y4RHYsb7Br9QxDd93EaXQX2VdAC6OEE4OkNYzOHf8R3TuHwNPbaHUi2iEfcZbDRJuwk29W8bhpkFNWdvjVDDr2QXNzabKwSPXj65ZYkAa4nLAfGJUQZ78+hXRgjfXiL83jzmh0vcbBZ0e/Db+czLtP/JDJvfniYIA3zjDRdMNzfnQN32d0B3U3Q3wXRT2G6Jtf1COQf9FDpxlju3D+WAbgqbA1iLoe+yUb+bA3gzJgvHjiwAt4A+1BOo98nCrbnt5pEF0+1fQ5jOw1cK8HQVnhiF46MwmodiAJGP82+W7B+191UIcWfbozlUZ0B4uQ5/eAXYAibp/94snQNVjFVoT8n6mkIIIR5Ju1ThdKhYo7wSwfQhqs8cp3J4BH/Hdf728pxOKUwQ4Y9EmDtUQe/r6Nbh4gGkKU6lONeht7xE2qnTvdP2gxjbMehKGS8X4RuF0tsn+anH1MIgIW13sSqH8Q3GN2jUHcJ01hhJ58sEocVPQXsG4hibpqT9PtY5iHxMFKKNufvZaA+8EBNpXJySxgNsarMAtJPlN2NtSXfzQiz1FHHOEM8UsHoExiB6Jkf5b0oU3lsHGmQVx5SPVirb5D7osfr7Ht3ZEqoY4htzy4XbR6QOnTiUdbe8H26YZZV16GRHGAWUU6jUonspXj+BFLQFnaaYdoKOs5ZaOnXQtdBOYGChN4DmAJo2C6DLCSwlsNwfPqcY6GTPbRF41YdXA7LlXgrwjyrwVA2eHkcdHYXZErYc3ax2DpdbEEI8erbnbqYaorUO6t9egAvrgA9/sIf20SpJNcLXGqPvvCSKEEII8bDtXtMgq9DaR5dqBDMz5PdPEt0j56jP9UMyq3I658AE6OoEhUMTFCdLd3zCTikUCqc00Z7jlPaPYLbnxN3P0Z0DNxzKqRTK3dqs9FYKpT2Udtm7oRQuGVahrBvOdVU4/THR12VDP7PskC0Qfs/RpL9JstIsSd6jM5mnl3ekUz6FvSEjr0VM/H8hPk2yZkIxNyueWTVRv7NJ9XyTzekyvWJAGgybbwB3e9WdygbB7nyJb8/xarv0ud2Adnieyrob33BRgLYOlWZ3aBQ4hx6+99o5VOLwOwn+VkzQiDGtAWqxDfNdWOjBGx1Y7pEF0GT4PLeAFP40B39agROj8PtT8JVJ9JPjNyqfLvRurPEnhHh0ZENpHalzeI0e6uwa/HcXyP6dV+n+/h6600WIvFvCpvxbFkII8ajZvcCpHM4AWqG0Rql7rGu5G5zN5oOGNaID32Tvf/A1Zr5+kPzHzMlUyoBn0HdYY/GTUkajgiArIFmLtfZGwLjXud56HhrleVmn3CSFJMUOv9t9x2M6iyPF9h3KabRnsqGgv8HXHjuHjWmtMVrjeR468unVciw9qVk8kOPyy2XmflJn9k/W8Ghwc/6lIgtn61T/23ncP6tiR4vYSGOG34T4OHrHG/eRyrG78dPNP6ob3xvI7tM7/nDrkxseIPuGiLZZYFXDPelhXlYuO4ewMSC30iF/sQlvrsM/XyVbGqYDbMHp83C6CMzBf/M4fGsPHBvDTRRvWVheCPHw3QibOKyzRJfW4cdXgStACf7TSVZenkbnAgKXBU0zHJkByHBaIYQQj5RdXofzIXAKpQ1eqYyJQlSyRbI2T9zq0k88CtGd5olmFSfnuNlc5X5pgymUyM1MY1yLQbNNr9FlkFhCd1sPImdxNmFw9Syt1QatTp78gX0Uy4YgyuGPj+MF69itNXrLi/Sbe0iTEbyPvGsWOhuwco3WRh9XighGyng5/zMF50fRznCklMIYg+/72Rp1druqDEYbfOPRNx6DfYaF3wvZeqLMyOkmY3/cIKJJNr9ze47kPLU/LBH6ARtfn4PQR+uPD53uLoHz9vB5tz/v/Bl3azx1w1DpFKid2w+nf6KHTbZQJGWPfligNRoSPFYh/M4s/loXb6EDH7bhp1twrQk04Z++Bv/0IvzX+9H//lE4OpotGo+s0yfEw7bdFM05h2n28c+twv9zCr57HrDwrWk6X5uC0MN4Hp4x2Tfa7jUNQAghhHiIfuMCp9NA4GPGpshXq0RqgdbKVdrXFuksHaR8pIavds6ndBB3SLsN2hsKr1DErxbwvDvNufwEtEGVKoR79xHm3ideX6d9YZ72sQnCQoAJdnSgSfvQW6P5zq9ZOb9O3c4xVRjFL44QRiWiqb0Uxi4Tnq3TufAh7YWDdPePE9TCmzHIWZxtEF+/QuvtCzQ2NWauRmFqlDDv8Zs4nWf7gupGZdMYgiALTNvDynzPx/ezWz/w6JcjupN5WvuKtI+WGD3ZYvQvmihaZFXANvx4nvxkHjVdpndsDBeFt1zA3W3u685GRne6/27bbVcx7rT9zq/dDKfuxtzVHfdkfaC0IfY1/YJPZzyHsg4zsIRbMeF6j+i3OwSn6vCX63BmFZiH/74HsYX/8BjqyCiuFMqcTiEeop2D/XUnRl9chz/6AL77IduNgpK/N03r6AjKM3jGYIY3CZxCCCEeVb9xgVM5DSZETe2hOD1NtXSOxtnrNN89y//P3pvFyJWld36/c+5+Y8/MyJWZSSZ31tZd3S11t9Q91siWZAws25CfxpYxMGxgAD8YHguQDdvAwE9jeDDP9pOXMTQDezQwIHlGkgcaLS31VktXkywWtySZ+xqRGfvdzvHDjUgms8giq5rFIqvPD7jIyMjIu5y4N+L87/d9/+/w1BzVmQACF9uSeR/LNCFrrjPYuMvWTUmwuET5wiKlmvvZvrilDeUq9tI5imN3aC/vcPjeDQ5emyMouDjjYd4HVGfoQZNk6yP2/ur7rF/v0J62qXwzIZMOwq/gzZ9n7PR1Wtc32HvvBq23L1A8PUWhOIllCQQarQak7RU6P/mQ7X91m07fpzI7RXm+judbSDv7UpZyHk+lPflzFPUcLa7jEDkRkesQFXw2povsvxVT/o2I2XcOGfvf94EtoAH/1yrBQglrpkJcLiCHtsBPOheeJDZHzz1OUD5JWJ78/XGPTy4ASqnhY8EwNoKSkLmSaNJHTvqIyzW8t+uUv9ui8P1d+B+vARvwj3pwtoSoeqRF98iU2UxaDYYvgNG1rTRysw3fW4N/9FPgACij/4dLNL45w2C6iC2fLDbN9WswGAyGl4nPzaX2i0RIB1GcpfLGRWb/rVV2Wzfo/vRddkSCRUTtK4sUJkt4aYJ6cIvDD37M9rsfsLXlUf3lv0kWVgkLEwjvs0Q5BZY3DrNfZfLrN+l2brF+9Xs8+Gd9kr2vMfuNi5THQ4jWiW5fY+9ffo+N9xrEhQXG33yN8bkKhaKDliBPn6f2ra8QNdu0fu8Bez/4PsoB4q8xNlfEtQaku6s03/lTtv7sPbYfdGDxEqWlBcrzE9iORHwp5WbOaIJ1vP5wlGZr2za2bT8iPJ3YJY5jEjdGhx6HYyFqpkz/qxNMvjuN8493gBj+4R3cy2M4rke8UM3raD/hRPikyOaThOiTHj9JoJ4UnyOReXw5/pwa1g4fT8/rF23ScxV6UyF1l6EByQb80Rqcq6Hny2jLOuocYyatBsOLQ5PXbOo0w9ntwP97F/7eVfL2TnX4L86w/WvzxONBHt0cfsaNBKeJcBoMBoPhZeX5C85hMaRWGtK85+NnXpUCMv3YSXueR8gwpXRY7zZ6nZBIu4S7dJnadyMWI4vmtX2iBzfZ++MBnbuT+OUARynU7jbd9XW6u32oz+GMVfGK7tMdarVG63xCLx7ZPwF2gCzPUf7a20x2UvrJHXrL12moA9L71ylUfHS8T7S7Rev6Lkl9jvJrbzL5i+coTRRwbIkQDlZhkvDSV6l3Uvo736fR2ab7w++xsfeA1kSILRKSwwbt5WX6mw5y6TUmv/NtJl47S3EixJJ5BWI26r15tL+fMOZaHPW4HImVl5WT9Zyj50YTsJPC041j4jgmThLiNCHTGVEJGhNF0sUq00tVvA/acD+BnT5iv481U4bA+cTIwSe1mXma4Hzc80+LhD4p2nlScGZZdvScUgolFXFREhccrO/MMPZbLfj9HfiDffj1BvLtKVQ1QOrn0A/XYDA8E0fp8UmGvdeFOw340wfw9++SG3+Nw99dpPnrp+hNF3AsG8eyH0mnNX03DQaDwfAy85wFp0BYDjIo405EeF4Jp+ginuIM+/hVSYQf4IxVCQYlnIKLZeXtQfI/W+D52OUqbuqjQveYQY4A6SLqZ/CDAqcDj2LlKnvv3ufw1k/pLgs0Mt+GFeCUirinL1F/+9vUv3KJ6nQR65NqOIVAeD52tUIwnuIW8x6iR61PhINwygSXv0o9y3tt7ny0Tv/BbfZv3mBHCrQNOvCRlVmqX/kaE2+/xeQbc/iBM9S6EkQBZ+4CFctlKRb4P7rF3q11Dv/8Lg1bopFoZSHdCuHUWWpXLjP2q9+kujROoWA/3H/LxvILuPUarl1GFtz8+D727lkIx8OpVvFnBqSVENt+ucXH8frK0R3+kQj9mOB0XZIkyUVnHJOmKcrVqAK0JiXZ0ji1X46orvQRAyDJkEmGDtxPFJzPOsl71v6nTzMiemx95zHTpFF0cyQ4R4/TNM2dLy1Ne75I9e0q8veLQBfuHyJaA7KyB1IiTITTYPjcObqWM4XcaMO7m/CHy/C/3gQ6QAj/+Vmaf2ueg0tjSJnXbTrDz7TjZkEGg8FgMLysPF/BaTmIcp3wre8y67WpDaoEF+YpVAKsp//3MQTCKeCfvsDkb/wGIp4kXFqgULXz+kcAN8SaucjYvwFuxyFbmCOo+sjj4tZykcUpwte/y2z1HLU3V2nde0A3SkkSQNjIwhjuzAzh6VmKM3X8cojjW59gtiPA9vDmzzH2nV/lzPkMd+EC5Znio1/6QiIrsxS/EuKdOsvYgwf0Vnfp73VIMk3qOsixMZyFc9TmZyjWa3ih+/D4jrZVQk6ep/irEyycWWb8/hqt9T0iDRk2yALO2DylxRlKC5O402XswD4WoJVYhRre+TeY/k2foqzC2VMUyi7WI+++ADdEjp+m9mt/E2s/oT+3RHm6hOu9/JOZ42N/vL5zJERHwtN13SPhmaZpLjqVyqMMnqRbCMlOjxMoiRMGCEciyesjf9YIwqf532dxv31cKu/JaOdIdGZZlkdDspRYZyAFSdHBwwcS6CWoOBm28NE/m1OzwWD4REbGX1oIiFKs3Q78s4/gdz4C7g9fNQN//zS7vzLLYDJEWha2JY9KBEZi06TSGgwGg+Fl5/kKTmljFcfxL3yD+mRCmrnY5THcsv/pN+QEuDNnqHyrjKcC7FIFv/RQcAo3QE6cpvK1KmEiyYrjBCUfHhGKecRVhFWcUy6yOo57+jTlNCPL+0qAG+KUiliVEp7vIp2n9AsVAiwXe2qRolvm1EAjCjXcSnDiC1+A7SKLY7heiFUaw1/okXUjMg2ZLRF+iKzUCAohju+cEJuj1VgIN0CMOwS2hzN9Cr/VJdOgkEjpIsIKTrmAW/aRroV4ZAxk/veFi1QL05S0h66M4ZccrBN3AYQTYFfnKH3Txx8okkKZYLyI7b46E5mTwnMU7VRKIaVEKXUU+RxF/bIsI1PqSKRmlkUibXAcHPuLsfl93HGcfP44T3LAtSzrSHBKKRGpRKkERIoVKSAhzwiATGuUylPER3WfZhJrMDwfHml5RJ6JYD84gJ9sw5+swP9yl9wcyINvzZH9B3M0vj5Jf7qA9vJaTcd2HqndPJ5OazAYDAbDy4rQz5rn9ynQWuXtFbRAC4F4Wj3k49dy5NiXu5jk/TEf+V49brLyLF+6w7rL4zWMWjxh3U/dPX1UD6mFGK7iKcYyJ+o98//7FJOF4Tp45C0Tx9bztH3VT9/mx47rM7aHeUk4KcBGKabH00yzLCPL70AciU7bySd1tpX/fBVqpJ6Ufjs63jRNidKEOEsQ222m/o+P4B+8C5Thv71M+++8BtMVbNfFPeZ8aTAYfjaObhgpDVEKrQFstuHPV+Gf3IMf3SNvz1SCXz9F/z9e4uBSjf64n38eyTyNdpShcdwsyDjTGgwGg+Fl53NxqRVCMioQ/BkSEJ8udj6tABACIR4N633m/TtuVPNMLxcfS1P89Aa4H1/HM63n0+zrpzyul51PSrU9HunMsuwRwWZJCyleLcH1pKjoUW0rGhtNhsJrJXCrA7SAOswFJKGN/TETLIPB8LNwdPNHaUQ3ho0WvLMB/9N1+Okq0CDPNDgNv7PE3m+epjNdQLkSS4hcbB5z2zZi02AwGAyvGl+6PpwGw+N4Uqrt8d6dx814RrVR8snFvC8/xyajSmvAQmQZTj+j/P1xFs8iAAAgAElEQVQt+Od7gAX/bpXBfJHMtfIPhBPtWQwGw7NxPOMGQGQK0ezDRgtx9wCu7cJfbMO/2iW/2WMDZ+C3x0i+Uad9uUZ3MgDHwrIkzjGxOUqlNXWbBoPBYHjVMILT8HPF8YjASHSOjIVOiqzjabSv2uROK40YJIh2DN0YmSgcV+AkCWq3Df90DTgECvCNGoOZAlp+3LnYYDA8G6NPD61BtgfQHMBuF27sw3tb8C924FYT6A5fXYLfmiD7dp2Dt8bp1wOSooO2LRwhsS3biE2DwWAwfCkwgtPwc8to0qafEtF7ZSZ3Q3dZrRRikML6IXzUgLuH0I5h0sOSGmuzAz9cJa8Zm6b9+hiD8dxJ+lUU1wbDF8HHXaJBpAqRZXCvCe9vwf+3Ab+3CmwATcABpuDfnCf+24s0r4zRrfsoWyBUnlnhyEfFpuM4RwZBpq7aYDAYDK8iRnAafu75pAncqzK508NFpBliuQHfX4ffuwN/sgu0yWvEfHIb54TcDbMG//Uig5li7oJ5Qmy+KsduMLxojkzgEgVxBoMUcb8JN/fhp3vw/2zB7R3y+kwNhMBl+PfHUN+eoH2lRnu+SOJZIASWEliWPDIpO76cFJvmujQYDAbDq4YRnAYDr7a40pBHNaMUcbsBf3QXfvcjYJVcbEaAIr/c5fCxBFx650pkRRdp5SZJZlJrMHwcrUEolTvM9jNEP4GDPmy0Yb0Fmx242oR/ekB+M2cAZEABKMN/NIH62gSdc2W6MwWiqkfqSWQmsITAOtYr+HhEcyQ0zXVpMBgMhlcZIzgNhlccrTU6zpD7PfijZfjdnwIfkk96R22FII9sjtIAPUAhEoXkoXmSSak1GHK00ohMQaYQcQbdFPa6eV3mVhfuNOHPtuFf75Cny6Y8vN7K8Esz8GuT9IbRzP5EQOpZCK0RCpxMHInKJ0U0TZ9Ng8FgMHwZMILTYHiFGdWfyoM+XN2C3/0QWCGPaopjy9F/DH+mQJPgH6+SXZkirpfzKKepETO8hGgexuVheEafcIR9ntsRmUJ2Y2h0YbMLqy24dQB/uQN/skeeKtsb7okzXMbhN2vwSxMMFgr06wGDiksS2mSuREuQmcYSAmlZ2EOhaR37+bj0WXM9GgwGg+FVxwhOg+EVZSQ2Vaaw9rvw/jawRd5uAR7fSXX0nAb68NdNgt0+ailDFMzE1vByoOFhjeThANHsY8UZOBYUHKgG4Flgf7a2RccNf4TSkCjoxoh2hHUQ5ZHMe4fw0334yz344BDokN+oScllaQBU4d+rwVtlkukCg5mQwVRIVHTIXIvMznsnSymQQmIN02OfVWgasWkwGAyGLwNGcBoMrzC54Myg0csnx0cGQU+bqGryiXMPa2+APchQJ4OhBsMXQN7SJ4XDYVuRu0242YBWAqENswW4NA5zZRgP0AUXgXj8uavJI6FKP3ycKESS5mY//RT6CbQj2OrAahuWW/DhIfzLJnk95qgmE6CcL1fK8M0K6u1x2ldqtOZLJL5EAaQKtEYikMNU9VF67MnleKuT49kFRmwaDAaD4cuEEZwGwyvIKLqptUalKfRj2O6TR16eBcGR6GzHEKfDZ01kxfDFoQERp/CgCT9Yg39+H/5wgzyFNSb/yirB/BT8vXPw3QX0a5MIW6Kl+Hh6rVaIeOgkG2e56c/hYCguW3kU86MD+H4LVjrkN2zaw21ZQBGYhLdK8LUyXCzTXyrTnSsyqHqkrkAJ0Gh0kuX10ICUD2swRz9H4vJxZkBS5pFa4xBtMBgMhi8jRnAaDK8oI8GZakVma6yaxacPUQpwQMnh+nhyP1KD4fPgKL1Vg1IK671N+IM78A9uAjs86rQsgRasNuG/PIS/e4D8T9+ApRo6dJBRBvHQTbYbw04vd5JdacNaJ/99pQd/FQ3XGZGLS8jrMEvAGPwNF04HMFMgmw2I6gHxmEdScoiLDknokA3TeQVgaRBSHkU0H+cye/zxk1JnjdA0GAwGw5cRIzgNhlcUrTVKKZRWDHyLwmIAuOST8qcJR82oNUpcdkgciaXztMORkDWTX8OLQgNkGXRi+PPVodi8SZ7KejJqH5HXU3bhf05gsQDfOoUsurDXz0XlXi93kr3XhT9rw247f/1RuxLJQ7MfDy6E8NUiLJXITheJpkMGYx5JaJP4NqknjwRmni47FJnHUmZPRjRHy8nXGJFpMBgMhp83jOA0GF5BRlEhrTUZkFQc9KUyRULySfSAh56eH/vv4U8XKNKfCUhCG9sENw1fEAqNiFKsnTb836vAOrlAlDw5at8B1uC/8eHvHIIl4J80oLcH7AOH5Oe6fWzxyHtj1uC3x+EXJui8NkavHpB6EiUgGW4yL/nUgM7TZJUeCsWHabCPi2I+LZJphKbBYDAYft4wgtNgeMU47rAJuctmEthESyWCf2cW6w8i8lRExZMjnQEwRvu/n6E77mNJM/k1vHiO6pDRyF4Mdxvw/gHQ5+np4WL4urvwv22R32gZ4QMhUIBqEb5ThDMhzIck9YCk5hIXHeKSS1xycjdZqVEItBia9gBSPNqj9riIfJy4fFaRacSmwWAwGH6eMILTYHjFEYDyLPqTAdv/9hTjzQHe9zLyCFBCnkI4eqVNHtms0f3bM+x+YwKr5CKN4DS8YB4xvhIaGSWw1SYXkckzrEGQOy23yA1+fKAMZ3246MNiAHMF0umQuB4wmPCJqh5xaKNsgc4ANAiNULlhlhTDNiZPEJqftDxJYJ4Ul0ZsGgwGg+HnDSM4DYZXjJOTWSkl0rLICi67X52g7Soqpy0m/89t5COGKzYQElFm57+apf2taZIzVSqBiy1ywxOD4UWjlCIVCp0m2N2IXGw+q9sy5Gm3p0j/u0U6X62TVX3imk9ccsm8YVq5epgZILSGRB9FMQUSIR8Vl49zkT35+/HrDz4uLo3bs8FgMBgMOUZwGgyvMKNJsG1ZeLZDUgjoLVXpBLB/qYC71cM+TNBaoT2LrOYTzRVIFqpY02U8x8UZNp83DecNL5qj9HClyJRC27kAfHL98UmGUftfL7L3RoXWuRK2ZYFtgdSQDkXmMGoJIheXQhy5yj5JUI5E5/Fr4kmRzNE2jv80GAwGg8GQYwSnwfCKMprwjnr8ua6LH/hkYxmRKxhUXLJehI5SNAppWUjPRZYC7HKIWwjxPA/HcR5x1DQTZsOLJO8lq9ASunWXIh7P9tU0MgQq0rkS0q57xAUbsPKI/Yko5MnHj4tgnvz742oxP0lYmmvHYDAYDIaPYwSnwfA5cdLc5/NgNDEeCc4sy1BKoYG+Y5EmCalKybTGlhaOZeM4Lr7vEwQBnuviOA62bT8ymX4e+24m34ZnQWuNVorEFvRnAorfKsL3A6DHJ7f3keR1m2O0T4ckgY2lBLYtsS37Y1HKJ6XHfpK4BJ4oMs35bTAYDAbDs2EEp8HwnDluhvJ5buP4toQQR6JTaw1CYFmSJEnIsgytGQpTC9dx8TwPz/dxXRfLso7Wq5R6bj04TXqu4VkRGjJH0B8LaP+tCUrfb5K3RYl41PTqOD4wzvbvznN4vgrlAN9x8VwXe5gmflxcAo+ITni0DvpoX4zANBgMBoPhuWIEp8HwHMmyjDRNieOYNE2PBNznhdYapRRKKbIsI0mSoyVLM7TS+aI1GshSSEWKECLv4ZmmRFH0sXq158Eo1de27aO0XTNp/4LQOq/j1QqtBVoIEKMaxqc3IPk8EaN9kBLtWTTeHCP5nVlq/zBD0CR3W47Jo50jp+UQzTj7/9k0e9+oIyYKuJ6H5+Y3U2z7YYTzWdJiP1eBORx3pTVa5+P+cD++2LE3GAwGg+FFYASnwfAcSdOUbrdLq9ViMBgQxzFKfRrHzU/HSMyOROdIeI6W0XOjqOWRydAwAvQ4Y5TnFd20LAvP8ygUChSLRcIwNKLzi0BryGJU3CVJBvRTSGQITkjgugQ22M/q0fM5kBv6yCOB2Fks0fnOFAcVwdgfelR/eEAe7VTkabQenbkqe789yeFX68SLFYrF4EhsjqL2x8/t0XZGP19Y/aXW6HRAEveI44hBapPZIbYbEHg2ngWWuRwMBoPB8CXHCE6D4TmhtSaOY1qtFmtraxwcHNDr9UjT9HPf7tOW4zzOeRN+NpfNx/UalFISBAHj4+NMTU0xNTVFEASPpPAaXgBaQdQmbT6g3dhkraM5DBaQxXmmx2vMFAVFB76I+wDHz8FRRNzyXLqzJZoFwfaCj/tbEzj7A0SiwBJkJZf+XAE9VcIaLxEEPr7vHRlgjaLqjxObx7f7QlAZqrfPYG+V/cYuG3GRfmGesDbD4niRMV/gW1/M2BsMBoPB8KIwgtNgeI7Ecczh4SHr6+tsb2/TarVI0/SFtEwYRTGfVkP6tEjPszDazsntn3zs+z71ep1Op0OWZdTrdUqlErZtPnpeFFpnEDWJN6+yv/wBH+1kPKj+MvZsidedCkVfEjqCF30b4Ph5eNz4yvf8PDqPJpKCzriPGiQPo/S2jSx4+MUQvxAS+P4jYvNx6eFfTFRdg05Q7U3aK++yfvcm7/YnOZz4JmMLFXy/SOCA/1wHXoPKIEuI0owo1UTKwnFsXMfCt4fjcrR/Cq1SdJoSJxmRkmhhY7k2nmPhSGFSfg0Gg8HwM2NmfQbDcyTLMnq9Ho1Gg52dHQ4PD0nTFPeYkcnnWdP5aVxmj0/CP+0+jf73cWm8x9dn2zbdbvcotTg3MNKUy2WTXvuCEFqh4w7pwSrd1ausrytu1c9gO69Rn9H0sjxZ9YuIOx+PcB53Ws7FpUTYNnHJJ85SyL2wkNLCdxxC18f3fHzfx3MfFZwvhWGVBpRC9w8Y7C2z9+Aqy715dgdnmS4kXF7QzCpxVJn6fLaZoVUP3dvnYL/H5qFmKw4oj1WYHi8wXfPxGL3XGogR0QFR+5Cd/T4bfZ/YLVGdqDFX8yl7Fo65RA0Gg8HwM2IEp8HwHBmJqiiK6Pf79Pt9hBAEQUAQBLiu+0Xv4nNlZFQ0GAxIkoQoioCHQiKO46PxiKLoKL3YcRyCIDCRzheCRqmULO4Sd5v0Wop20EP2U3oZZJ9fifEzcTyl1nEclFIPXZcdhyRJSNP0kTpk91i95mhxHOdj6eJfOFpDGqN7HaLOPu1uhYPygDDOiHX+5+eKSCA9QB9+xPrNPd55oHlvf4JTr5/hq5ctqhUfRw7rRrUC3YfuGv31+yx/uMf3G2N0iqc4/abDL4U2vidxTIzTYDAYDD8jZrZnMDxHTvb1Gwmr2dlZxsfHKRQKR699EX06Pw9Gx6iUIkkSut0ujUaDg4MDIBeTIwEQxzFRFNHtdtnY2DgaF9d1qdfrFAoFU9P5AhBCIqSNZXs4jsJxbCxLYAuB/IL1xNH1MnpC60cE6MPWPvqRaKjjOEeLZdlI+fydlp8LUoKTj71rOXiWhSsFtuBzsKgVaFLI9mntrnHvbsZ7a5r2xAyzZzTJx8ZFQ3aI6qxzsLrOzfUB++NlWNK8nb6an08Gg8FgePkwgtNgeM4cn+xalkUYhkxPTzM3N0etVgP4xBrLl53RpD/LMgaDAQcHB0gpSYctVsIwpFQqUSqVGAwGtFotDg4O6Ha7bG1tHbnXaq2ZnJykWCy+fCLhuZHXySmVoTJFmim0zpMZIe+JIYSFtCSWtJDyZKsMDWh0lpJlikxplNI8cuYICyElWDaOFFjicSY0AiEshLSRdoYtJVLmYvPxBrUn9/tha53R+hACIS2EZWFLiSU/rp+0VgilyIa9YUfpo1op9HAsMiTSkggpEFJiOw5i6KY8unlxUnCORKdt21gjkYlCK4USFloIJCB1NjwGTToaNyGHAtzCsiSWfJLoHo19PgYqy1ubKI6/f8fXI5GPGwMhQVhImTvn2pbEGtZRPv6M16AzVJaRZSrf76OBz8dcSollW8ijGwZ57abK+mRRm7R9wOFBg/39jL2tIrX9Fo1Wl3Y/JLAslAQhEmTaRfRa9FsNDhr77O55NNQhewdt2l2PbiiOHH8fHSc9jJBmpGl+XmZKH+0jIj/fLDt/b0fH+8RzLFUkSuVPDUdmdA7I4dg+tYXM8fYzyPy9QSOG+3l0/ejhPko5vElhYVn5sY1qW7VSaJWRaY0SEilGYy0ec22NjkPn54diuO783PoyfqoZRgzroNMUMkX2qb7SLaRlIRwrP6e0AqVQaYIWFkgLaVsP663TlGR7hf5ei15fYNXnKUyWCEtfrqwpwwn08LM9TdHCyj//v0hb+Z8BIzgNhs8JPYzU+L7P+Pg4p06dol6vH/3tVRWckAvpLMvodrv4vk+v1+Pw8BDbtvF9n2q1ytTUFGmasr+/jxCCZrNJq9VCKXUUiTpeu/flq+lUoFLIeiT9Ht3egHYnI1WaFBBDwWJ5AW6Qt43xPAvPFjjASHhoFZH02nS7Azq9hDjVZFrnvTQRYHsIN8QOi1QCh4JrfYIRTd6DUwiB5EmT4aGYyHok/S69Tp92LyXJhtuFfDJvuQg3xCkUKQUuJc/CeURwKUgjkjgijQbEto2SVr4P3QFZLyKJNbHwsIshbsknCBw8OYy8SnnU0uf49XJcdEqZ9xIlHZClEUmaMZA+WA6O0Hhpl2jQo9eP6UWKVAsQDsIOkEFIWPApBQ6BLU60J8nHHhLSfo9Bt0+vPaA3FM8ZApAIy0d6AW6hQDlwCD2Je1y9DsW/EAI9OueHzz/5nEkg7RJ3e7S7Ee1BNhTLArCw7AA3CAnKIaHv4EmwdAJJl7S3TXdvlfbGLnt7TQ5airgf0t3boLHpsTYNkR9ScgS+6OLFG8Q722xvN9htHtJrBwysLVqbK6xtxJSyGrWwQCEMKPo2oS2Hk+MMsgFZ1KHbGdDtJ3RjhUagkQhsLCfALxcIiz6ha2OL43XC+XFqFRH1enTaA9r9OBetOjcukraHFxbwiz5h4OFKsJ8kOrVCZTEq6hIpRYxDKn08Aa7qQ9Kl0xnQjRVRSr6PdoDlhXhhSLngEDoSW+aTOx13iQc9upkiEj5YAYHnEzrgWsevm+E1mvaJBzH9SNFLJdL1cX2Xku9gC77wLALD54RS6HRA1tgj7g2Io9EfnvbdLtBuAbdUxq0VsW2BSGJUt0PUaJLaBUShhF8rDm9aaFTSZ/Dhj9l85y6b2xbhL/4GC79w5udMcI4E/rC/uZBg5Tdqv7SkCVm3Q9xoktpFZLGIXynkNzdfscM2gtNgeM6cnCCPInpBEBCG4acy9nkZGUUjRwZB3W73SDBC3nbF8zyq1eqR+AzDkNXVVfb392m326ysrKC1PkqXrNfrFIvFL1dNp44haqAad9i5d5db93e4+qBLO9bEGblos13CiUVqp68wd+4cZ6YLzJUtKgKEziA+gM4D9u/c5ObyJh8+aNHoKyIFowibDuqI2gLuwkW+dnaKyzNFFkrWsYjNp93vDNI2WfMOu8t3uLu8xtWVDgd9RZQBQoOwwRtD1BYpn73Ea0vTvDlbYiqQw56eCkhJu1t0tldorDxgxy/RDiqkwsO7vUp3dZ9mI+XQnSW8ssTU66c4f2GCSUtQJI+aPs5x+ZGeseTbSlurHOyusNVssioXEf4YVRdm+rdobKxyb22PmzsJsZIoq4R0pnFnz7B4dp4rFyZZGnMpuvLYF2IKdCDa5fD+Mg8+WuXW7S02+gltrUgRCG0j/Cmc6gLVhbNcvjjJ+bkSc0WbXFZ/6oEHNYBoj3T7JmvLD7ixvM2NrQHdGDIlkTg4hTnG5peYef0iS0tjnCpIxtIOeucGjXsfcO/WNa5/uMwPP2qxvKnpttbY+mCVH3UXOXxwluLkAvMVWHB3qLeusXv3DjdurfOD223WW7sMdja5ndzhj+/P8f7cErW581y+sMAbc2VOVx0cASJtkTZX6a1d58bdLW6tt7jfSEm0QGNjiSJ+8RRTVy6wcOU0Z09VqDuSwuic1BEke6jDNdZvLnPt7hY3Vw/px4oMG2EVcL0pJs5fYO78aRbPTTIbSCqC4c2YE2QJtHeIdm6wdthjOy2z7y4w6Wtq8QZ24w437+1wb2/Abg+0dhDhLMHEImOLZ3nj8gRn6gWmfZBJi3T3Dgcbd7ix32dVLpCUz7A4PcuVusdkwXrYt1ZlkHZQ+3fZWdvhztaAu+0KweQsswuTvHG6QsWWuK/azNDwbCQ9aK5y+Gd/yM7VFXY38qwOnnZDWUjU1BvUf+HrLHz3TQpjNmJ/k/71D9j447+iVTyH+9rbnP6VtwjKNo6lIcvI9jboLN9l/75DMt8i6n2+LddeLjRaJRC3iNb2idoxWVAhmJ7AKQXYX8qGxpqstUP3+lXW/8Vf0ipdIXz9LU7/yhWCgnzljvlLNLszGF5ejhujwONbiLwKHK9RHZm7nIxKjlIfXddlfHycarVKEARHr93b2zvqVTpKlVQqd64plUqP9E98NdGgYlR3j8HOMs2PfsyHN27x/r0d3ttOGSR5/askQ0gLb+aQalShWVzALYZUQkXRSZCDA6K9+7TvfsBHV6/x7p0t3t3q0x0IlHoYNcmcGkl5C7XRI44vkek5rFNVxnyLwHrY7kQ/dUiH+x0dEDfXaX70Lh9dv8F7t9b5yXZEN4JMCaTIz9fMrpKVtvD2IlqDAULMk0yVGQ8sAltjkZIOdumsX2Pr3R9y266xXZym64xTvL1G7/4erX1NN8iohTWyU3UmtWacPIomP+HGzMPzQ4PSqNYGrQfvsXL7Du+mFxgEc5QLARfVHTpbD7i/usuHWxFRqknSAK3GYGqHlUabjq2R1iSLFZ+yOxwvHaMHDXTjDs1717l3/R7vXd1mNU7oDaPLQkGmx6CwQWGhzWFykVjO48xXqTkS/zHptU8eeoVWfbLODoO9ZXZuvs+1G3d5/84ON3ZToiQPOgsNjjVHaa1NvefTVBaD+YDz/oCwu01v5x579+6wfHeTlc0BjYYmitq0t3psyJgks/DbHp1JjfTXoXGb1QcrLK/us7oT0R70iN0uDVrc6bfZaVuU0nGKE1MsTGR5OmraZ9Bc5eD+h6xefYf3bm9zY73Dg0M1OhQkHr6zwEQnY0t5dCyHy3WPU4GkIFKy3h7J3l3a969x+/1bvHtnlw82uqQpSKWxCfGcWSYSj0apRnSqju9pfCkeLzhVQtbfJ9r4gK3lDa63S9yyLjFV8pllm3L7DjfvbrK822e7rdAKUiaxK1uEZ7u05CUG1iz2ZEAt6aFbDxisvsvdO01+qFu0xj2+qmqMF2xqofVw4qRi9KBJvHmNrRvLXFuOead9ltqFgDdLVc7PQ9GUqD8/tIZU5en51hdfhqFVClGbePU2h1dvs7tcwJ+r4BQ8LGd0V+Ljn19a5CUpeaYKgEJ3m8QryzS+9w6NuqLgzzP7rQy/YOepAVqjk4Qsikj6ChVnfMoc3lccjcj66IN7HH7/ffbutoinzzP13a9TPeNjB6/ynOHJ6MEB8eY9Gn/9Hs0Jl0pxjjhWeL78YqzlfwaM4DQYPmdGgupkeuCrmlY7Eo5POq7R71JKCoUCrusShiGQj0WWZWxtbdFsNo/cR0ftLGzbJgiCV1t06gziJoPde+zeuMbNH1zjvbtbXG8NWJchgeXg2wpLRWgdEfUbNFsddg4yGj3FIMnQokXSvEfz9jXu/eAnvP/RGlebfdZwcC0H35JYaISOSfu7DHp9Gu0eP3VShAXS9bgyETBZsCggUAJyQ5kn7jToFJ01SRorHNz7kNs/vsoHH61xdafDA8vDlQ6hJfPUUxWRRXsMej32E4UUKcKSJNhcrofMliCQiixpEe0/YP+j91iJitwvneGgtERlr4vsZWhpI62H9aRC5ML4YfTyKT00dV5nqfoNBpu32b72A24dbrLlnsGtTnJQ7eJGCd1MIiwLmcWIuMmguUf7sE1PxERln6AU4NgWgeUgLSCN0N0m2dYKh9sb7DQP2YwULWGhLfCFRugBUWuD7v4hOwcdkqIiCx0KYcjFmovjSexnkpwKdAq9XXq7d9m6/SHXr97jp/f3uLsf0VUOlhTYIkMkPdThOs3I5WBQo2f5aF0nnM84hcjrDYc1nqN6YMmonjCPGuf1u8O0dikR1qhWUuS1reTPWZaFLSQOw1RgnSGSAXqwweHqbe7evMn7H27w4U6XzZ4msR1crbBEHzHokB5kbN2o0KJK3y3iWFWCKRvf6hM11zi89RHr71/n5s0t7jUTdmKLwJUU4wgn7iIGe3Q6B2x3+4SxZjGDCZvHt5HRChV3SPfv07h9lbvrFu8kOxRqkyxWFHN2RCcWJNhYMkZnfXoHDzhstFhvdUlqNqrgUwymca0EPztEdTZorm1xq1/hwf4iTq3H2/MBS9olONpujBrs01v/iJ27t7h/V3InqTMznbKQQpa/u8+39c3PKRoQqYZBClGe1I5rQWCTF5B/1pSOz47QGrIUNWiTHvRIdivUfuEMxdMThCWPJ6fWCtL6EuWFMWxfgqVBaIRUYA2vy8d97kk5rOEb1vu/mqV8nxGNziJorXL4zg/Z+Ks9otdTwosXKJ6a5uFF+WVCg8hAZghLgjzeW/rV+1QxgtNgeEEcj+S9qoLzeP/NkwJzxPHnj7eEGTnbjsyGDg8Pj9Jrbds+aoVRr9ePXv/qodBqgDi8z8Gt97n5w6v8679scJcJBnNznPuFs1ys+kw7MX62T9bb5FBP0XRruaOxEoi0h4xXaC+/y713rvEXf77K9ahK59Rl5t86zcXJAtOOTUmnkLXobi6ztbLCrZUP2Lqt+JGSHFDFfq1O4AQUHHjiF5McRj6FgmyAOLhP9977rPzop/z1X+9wo1+hOXGRua+f5uJYgVOeQ0lryJr0dlfYWb7Lh5vX2bod8+eJxX5SQr1uUfQ9PA+EUGiVknW79Nd7dPwS7elFrOkLTF+ucmq8xExxnPrCFBPzFWYsSfGxBjOfjBCg4wHp7hbte4escEBn4grJG1d4/fQVlt7yedvWiOSAwfYDmh9e4+bKCsWvIPYAACAASURBVCu7mhsfFHHKExRtj3HfZsIXWHGCavWId9qklHHPTDJzZooLZZ9x32ZcZIh4l+at6zy4eY/r2x+wecejH5Rxy3UqToWi61BkOPaPOaCjiLNWaNUj27vD7s0P+OCny/zFXdi1L+JenOKXlsaZCWwK9GCwQfejNZaXu1y7eZUHkcTiEqXqNMXaBcLLDueDCZzah8hr+6QPFL1GjZlLp3nj9TO8ffk01bE64yFMWnOUu2Wm6zeo1u5DeIBqVumFsyxcOcM3Ls4xPzvL2MQsc3MlZsIEq7+FWnuPlQ9v8eMbDf5qZwomJpmbneDCqSpjMsFJdtEHa7Ru7nB9bZeVn9zgRuZTLC5RLofUvQPaq3e4//5dfvoXuyynY1hLi1y+vMCFustM/4DiwQHJwYDduQrdio1SkKhhC5/HTbJHRlkiI23u0V5ustVs0pl4jZ2zF0gufY3XzvlcdiU+A/Rgm51rV7l3Z5Pre02Wr5dIgwqFsMrYvMWpUpXS5CS1sE9wCO5+j9ZBl1ZUYaA1ldz6CpUOiLsNmptbtPYOSbJxSlNTjM9NMDFeIrAl9mc4nw2PooemYygFvQTe34JODBMhXJ6Aio9yhsZjL/p7QzA0UPNxSjNUv/U3mPnmRapzZaTWT3zvle1iuS6WZ+fZKhNzFL72bRaoMBYuYC+eJ6yNIqXZizuel52jwPFDE7sv7/UlsMozFF7/RRb+kyIT4Vm800sUirnL/KuGEZwGg+GZeZZU4OM1qlmWIYTA8zxqtRpJkhyJzvX1dZrNJu12m/X1daTMv0nSNGViYoJisfiKGQlpNANUsku0dp2tax9y59omywd1+ktvMP7mFb75nUWulF2mnBQvOySLdjjs++zH00S+y2QxxU0OGWwss/uTZVauNljZL5OdeYPpty7z2neXeKMWMOVaBDoD1SHaGWPvlmCOFn+5vc/GzVVWxToP6j6zNYcxl6Po4XFvhSPBIzWoCBUfEK3cZ++Du6y8v8Nmo0w2f4mpt6/w+i+f4Y2az5xrEygNuk20d5PmlKbyg1v8aHOfe1dXWOMUq2Me5yZr1Dxyt07LQkqHLLPIdBkZzlG58CbnLtW5Mltg3vUohj5hwceXApcnOec+BjFyRM3v/GshGGSKvuUQB+MEs5eZu3SK1xdKLIRgqTbJ/jTdGcXMO9f54Wqbn6zcYfvqPHfKPnM1D9t1KQsbaZUgnKe8aHHaHaNcOcVUwWXctSiRQXpAf9pmozyg/N49/jRqsLu2w4crLb4yGzBXtQklQ70pHjkmeXSMCqX7iGiX9t1ltq9tsHo7Zt86j790kbNvLPLLS2WmPQtfRJDt0536gJp3k2hvjXvbkvYDj5X9CebHpjk9EzIdFiiEGbvROmuJ4oGeYeLc65x/8zTffHOamucROgJfTODGBdKCxLck++0tHnhTHFbOM/fG63zlzUkuTlYoBwFBaBMmB6S76xz+5Dbr1xtsNwv0p15n4Suneet8nV+cLlAUGXaat1npTP4E8b0Nolv32LkXsrNeYG22ztmJDp3dfXaX29y7atE5s0B9/iuc+/ZF3hr3qCdtvM4B2WGTTX+K/UqFxBdU5CdNWIap/paDFpJECHpK0HOqOBNnqZ99g8vnSiyUbEpWhIr3ORyDhVKC/94a72zdp3NthjvlSVaqAaXiDM78ReamUs5vWIjGAZWdBr3OOAdpkTFHYBGj0jbJYYO91YzDRhnLmuHUuVOcW6pyqu4RjtrfGH52RqnsvpVnNlzbg2sHsBDClRry4gTMl6EWoAMnj37yIsTI8IaCEGBLRFhAVso4tSrWJ9ZxnhDHbgFrYpbSaxLXrSKqldxM6LMeQJpAPCAbJGSZyiPtUiJcH+l7OI712ccmSyGKyKIoX7d+dN2WY53I9sxQUYTq9FGpANdF+D62f/L7XUGaoAYD0ihDCQscD8fV6CRCtQ5QrT5plKJTjU5jslaLpNEkShxkGCLdE2Js6PKq+31UHJNmChBoywbHRYZe7sJ98hi1QkUDVBSTJRoRFrEciUWK6vXJ0gyl8hshynGxPA/Hcz5hvqJRaQxxRBon+f4PHbOl4yI9DytwT7wnApwQZ3ya0mVwvXGcWhHbfoJhkNagUnR/QBbHZJlGaFBYCMvFCnykYyEfV5egM3QSodt9UmEhXA8r8JBZjIojskGC0qAECNsBPxi2V3v2MLsRnAbDS8arbio04mR6bRiGTExMADziVLu9vc3h4eFRmu5xoTrq0/lqiM4Urdokg3X2791h9dYaa+sJ/dJpihffZPErr/HVixMsBRY1S2GpATo7Ra+vaQ18esrB8zt43T0OlldZvdpg455g4C5SvfwmS1+7zNcuz3A+dKhaAhsNRGR1xVTYpdzZZ3Nf0dtoMEjW2X9zir3FEvNli+JQ8DwUOscY1g8m/R0ay2usXd1n9SNFNDZP7eIbzH3jdb5xaYrzocOYJYZfGhHZuEUvbJPttmjsDGjc2wE2aF4eZ+9SkVMVgSUEtrSwHAcdlhCVGfypJabOLXH2wjiXpl3qElz9SW1Cno4QIKSF8kPSSgURLlCbv8j5s+e4eG6G86cKTHsCmz5q0iWpdvHTDt3eNtsfbtO9+YDtuSnunalTnnBwLI9iMIEzpRiXAV6xxHylSgXwNVhKobVHJZ7BbdXZW9vkx+sx24022zttmoMxIqVBHk1HHw73kUgGIVLI2qTddfburrH24T7bqzbq4hSF2XlmTs8xW3cZswUOGZoCXm+H6QfLzPub7LYGpPvTbO6+yfbSFLO1gKKXEibLTE30qFQy3IM6xbFZxmfmWJgbZ1wKHCFAFxBaQrZF1tymPtaj0B0nrk5TnVlkbn6cxQmPktAo0SPd36e9tcLa+ytsLGva3jju0iL1xVOcmq8yU3ZwtMaiiCp5+IMtZm+s8MDaYq/lcbi9wGajzG4xQ3dTeocZnRWJmisTFseZmp5mbqJA3Urxhu1aSpnPoVWg6wnGJDzZjzNPLxNCorwAVaqR6QXKpy6wuHSeK+eXOH+6wFzBIrRSyOr03X2K+pB074C9Gw1279ynWVtk5cpZ6tUppifOMjWxxzlxQHK4Czs7tA7n2EtqzAbg00XHTfoHTTa3XBoHk4jJeaYX65yeKTJXsfGkcah9Xmit0RKEayHrAfgSfr8J3AdC+A8n4RtTcGEMsViByQIUXbRr56mIL2g/lRhOyj9Vqy+NSiOydou4sUffEViiSGFCoR/Xb+oTV6Vg0CNr7pNubtLdajKIYmIhcoE1PoU7OUVhYgw/dLFHztPPuJ9EfbJmg2Rzk97WPoN+RKwFuA5yYgp3cppwvIZfcI9ErSYhO9wm+ug+7f0EXanjzJ+iND+G61kPrxEdkx7uMFi+R3s3IfPHsGenKVcjko0N+vfuE+8v09rpEMcRqrlF59pP2Ovs0SmWCF+/TGG6hl8YFjOoFB330Y0m0foG/d0G3W6MkgIdFpDVMdy5WQqVCkHBw7JGLtx5mUO6vUZ/Y4fufoR17gpBycFL9hjcW2fQ6hGlCi0tGBvDrU9RnJ3FL7jYtvXImGqVoeMO8f42/Z1t+jsHpH2FSvPPLKc8jjszSXBqErcQPvL/OovJum2S/T0ix0JZIYWJ8lHJxNE2sgSiPuzt09/apL/bpN9NUEiwAvAqBDOzBNNV/IkAy300bVvrPmlji+gnd+laIbJeJzw1iXO4QbS1S2+nRaRA2xa6WMKanKU8PUlQKebv8zOcQ0ZwGgwvCS9LL8rnLXRHwnMkOicnJx+p0UyShIODAxqNBoPBgDRNUUph2zaO4+B53pHZ0suLRhOh0n2igxU27qzzYCVmLxmj+PYlTv3iWS6/UWcxtCkLsJEgCwgZULA0QQipSNHpAd29DVZu73D3pmbnYJLw62+y+K3zvP7aNOdKHlXAGdZkgo9VniE8fYmFTpfLN1boLsds3toi2j1kvzdOUwYEIjecGQbcjhBCI0ghaZG01lm/vcfdWxkb23WCr1/h1DfO8tobU1wqupSFGG4XwEOWJvEXL7FwqcXlWysc/GhAM95E786z15+ki0dBCzQaIW30WB05vYh/Zon5mSoLJZfJYUTzM5/2Wj/sU2YJ0mKZ/5+9N/uV7MrO/H77zEPM84075b05ZzI511wlldSqVgndbrfhAYb9YKCBfrH/ABvws/8FwYCe/CBYBgR0y5Ba1Wp3qUtFFsnikMxkMufMO49xYx7PuP1wIi5vDmSSVSyS3Z0fEMRlRsQ5O86097fW+r4VLJzDLr/O6pXX+cHFGlcqNlVzNnYTJVXGWL7IQr/H+W3J7vUDHuzsMN45YqM7phynyJk2bsHAyBQpCMjiEQdt+s0RzVHAKIiJ8FC7A8aBSmCm0dExgpB4PMELI7xn3EdSgVjxiMIWXneTrbVDNh70abYzGBd9bLrIocbBNgwBZdoXdNIc0PJ6KMY+rtqn4x/SaU1ojCWj1FSvKyIikt6QREl/UmatVU72kpQyae0QxcRRsjCKZ/8PxEKACBH08Ed7tPa3uHOzydaehTcXkrWGmEGDUbPP1pGYuvNK4miA1/YYhm10ZRctNhl3ejRbMY2aRd5wsC0dVw8ZjZuMWgfsN2rs2wZG2qBg5TGMDDkpyKAQCAVNJAuWp14qUiLiCBmGRLZDVKsQVb/DuSvf5vXLZ/jucooFV8FSQQgFqblYtRUq59tc2mmzdfuQO4cH+A+32W+dYm8xS9aZJ5fPsKztMJj0OGxW6HTPsj+MWMmATod4dMCo2WKn7XI4KRIYSywVU9TSGgUtcdT9+p/o/+lAIolUiC4VsbQYEQfwv78LbMKf34Q/L4C2CP/rMvxoAS6WkNUU0tSOA22/0/PxG1e+SuLWDqMP/oGNv/gZR9lXsF/7A6xKibRqoH7ezicyacUVH+4w/vAq7TffYefdh3SOBgw1AbkU5osvknnpdeZeeZXKUolU3uLzVWdKIIb2Af5H1zj6xVvsvnuP1n6XUQwUU1gvvEj65W9ReekVaqdLpAt24nfEhHD3Lu2f/Rvu/7JBtHqF7E/+kJVCiqxuJ7p5QEZdvI0POfzLf83GjZj41Evk/vD7iPl9uj//Bdv/+l26PUk4THoj89E1Nu/eYEvJYGSWWfjf/gVz33cx3MQpnHiMbO0yfvcajTfeYf+Dexxu9ggcFaVeQj9zjty3f0jt8gWqK3O42VmGMpHGTG68x/4v3mX7epv0f/s/UZg3SDffZ/+v36H58Ij+ICJyTfSLZ8i8+hq1H/6Y6nI5+d3ixHELPbzWGu333+Ho7ffZu/6QyUFENEqc6lOnz5P/zksUf/waxdXTOFkXzUi+K7v7DD/6FWv/19/QyH2H7Hd+hFUt4yoCxZjtJEZ4Q6L9bca//oDG2+9ycOMBja0xkVCRVgEte4rSD75N5QeXKL66jFuy0fRZIEYSyzbew6sc/Om/Ys8pYbx6hcqPXsT++Be03v6IvXf36IcQ5SzUpTrmS6+y9L0fUL14mnwp8eh41jz+nHA+x3N8Q/A42fw6yeeXSTpn25qRTsMwyOfzhGF4/P7m5ibtdpvBYMDu7u6xiZCqqpRKJVzX/UaQ8U9HjIhHiP4R8f4+B7se24M0bWsed7VGddlhvqCQeaQsUAAKQgFFxKgiQI7bRO0DGrtd1rsq+0oBo14mU0lRzuikxOMZSgE4KEYBvVqhmD6kTJ9+Pyk9Go5C+jEEx59OzsWsnDbRb/rEQZeguc/Bfp+1tsq2KFCsFMkUU1RdDUcRj5UcJZolYRSwSgUK6UMqDPD7XeiNGI1DhpgYMkZIiSIEuuPi5HLopQy5lIaji08nEF8EEuJYEguBapm4SpFiuUa9XKGcNUkbygmiLAADaeTRSmWy+RwV9YjWyEfxAgI/ZgIEKEhVIBUVNW4jm+sM1j/i6s1d7u0M2OlHSGIUv0nUb9Da6bPRdQgLMabKsZPvU4ercEK/OUJMjpCNHfbaO9zvHnLnSEPeDml4H3Pwsc1tKU8cJ0Ew3mO0e5/2eoMmCkwiSoEgDEESI2WUOHlGcUIgiYjikDialoDN+uUIOe0TGxFFSZk7cfKdKIoI5UybHSH8HlHvgH5zl4f9A+614TAYIN7p0d2wWLc18tHxlYGMA8LRFp2Hdzlq9Gm582R8GMcmvmlgFbLk64LquX32uz02Puiwb3dpvPw9Xjo/z6VaikVTw5DJ/aLy7MVMDMRSoho6djpLxZqjVq1SzaXIWwLjONsoEKhgZtAyJdLVMhWjQzMI6UzGRH6MF5lII0Mqm6Jc9ck3W+zo+xz1+xx2fIYFg2zUIeod0uk12bY1DislnGqVYtqmpKm4PCebXxZO+h1IKYllzHDORf/JIubOAP5UAFtAA8I+/B87QAn+52WU35tPdJ71NDJjIX9Xpba/7ZQZBcTjAf5Ri3HcRx17SRDoi2wjGCL727T//b9l980b7N05QqZttDNZ8oog8kb4Nz+mt76Pf20f/tkP4OXTZArWM+4vCeEQOd6n9w9/x94/XGf7+gFxykRfnSevKkTemODuHbrrh4zf20b+sx8Sf+cs+YKNEA5aaY70aytYtzZo7t0lfLdE9uwC+vkymZyOICTaW2N48zq7H9xlrL5IdmGe3KU5bOkRlOdInz8FnQHDzTZeJ0Bm0tj1PKZbxHTr2FkLTVdIQhM+4eYt+u+8zfpfvUunPcHXHZxXSogoJPImBLdu0Lx7SPTqtwl//AMWv7OClTZQleRZGvsTom6X8c4BfPgW/m04aq4xCXXkXAUnCojGXfz7d+gcDpisK6j/1fdRriyRzidZVul18Pbv0/j537L3zkNaa32iVB1rVUWJY/DGBAd3OfzFIZ3dHUY//SfUrpwmV88k44hD4skY/6jDWAyxRgEyPnlqEg8A/+F1Om/8io2/+4huy8NX05iXqqhKhJz4BJ37NP/dHpPDdQbd32PhDy6SLrsYsx5P05Ja/6iDLzzGsU90tEV0dEA4VJCnarh4+N0B/v01BhuHHHY1VE/H+cFZDEt5pq70OeF8juf4BmBWRnpyUv06cDLL+mUSvJO/R1EUbNumWCwevzf77c1mk16vx+7uLqqqYhifhHa/ue61SeaJeIQYdZBHbZotScPL0E/VyFSyFAomZftp+sTZsQYVHznpEXdbdNpD9j2LQ8shm3Ewp43p9Se+D6CBZiNTKWxHxVV9bK+PHHmM/YhRktxK9iNP7HfmYip98PrE3Sbtzpj9icKhksJKOWiOTupT96siNBvVdrBthbTmYfeGyInHZBIxkpCR03Ye0zY5tmtjpCxMM+nX+eWYLCaLUQWBpqmkNRclnSaTdnAMDe2JcjoNsMFOYzoOGU0nHYGMYtRYEiOJpUc0mRAOx4w7m3S2P2bv1gd8eGuf23sj9gcSgUSNR8jJiFFH0o4CtExCroX4NO2VQEiROPEiEdEEJl2idoPWsMdu0GcnBL25wZgG4wOVoyjZl5RJgELKEdFoRECWMFMhky2QTZlkNIGBRJExcSSR8XSRLuOESEqZuGrOPFNj+UmGOJr97uRzMYm+KEYmrsveANltM2y32fFHbMchR8MQeyci6Kj0VIERJtuVQiR6u3hAMJSEeh7yJZx0mrTjYNkWTqWEsprn1GWd7Xstes3bHF2PGfkO/nCMf7pGkHfIZ0zStoFpPDs4MSMlmqri2BbFVJpiyiVt6ejqyfMhpuM0EWYaPZ0iaxhkI4EfhiiRJJIasWbj5DIU6irZzgQ/6tDt9sg0h3RrkrLXJGjt0+0ccZSao2/msedLFFM2WVXF+i2v6ud4EseGdFLiWyqjpTTp/2IJe28I/2oAHAFtoJf8/adt+NM9+JdV+H4Nca4I9QzkLbA00JTE4fbLgpCIKIIwJA6Cp16vyXWoTB1nT3wiksgoJB77RH5AFMRfaB0gI4+4vYd34y323vmIw40+XmWB4mtnyJRz2Kogah8wuH2Hztoh7bfeprlUwixksbN1NFX59PLvcELY3sG//Tb7b1xl/06Lca5G6fWzpGsFbE0h6hwxvH2X9r19Wm+9RaOeQ8ulSb22jKbraPkK1oXLFC58xPC9Jv3r12lcOo+VMTAtFyM4Ynz9Bs0P7tPcF9jfWyF9YYX8fBFrEiKvhGDnyTc3OPj5DZp3+8RzS+S/+wL5xTpWKoe7VMSyFEQ4Ie5vMfjoKvu/+oD9+z20c6fInD9FabWG4nuEh7sM79/j6IMNBld1pJUms5RH0QpYzvSYyijRfe70GH18m6BcxCrUcC/WsVMWmhwTN9dovneX9r1tWhtvk7uwgF0v4uayKCIgau4yvvEBh39/lfaeTpRfJfe9i+QyFobqEw1b9K59QPfOIZ1fvoeWW8JwXayCi21PZUZxQDTxif0kcPhJGEJC5BE11+ld/5D9N65zsD5CWTlF6sIK+dNlLNWDbpPxw02a7zxkdPsGoWZh1DKgLJCtuFOd+bRSaBIQ9D28ICYKFfSFBVJnCjhFB1P28TYe0rv5kMavtunnbmFX5ym8uExWN55ZifaccD7Hc3zNmBGuMAyJougJ19ffFZ5G3BRFQdO04wzjl4mTzrWappFOp4+zmFGUpEfiOKbVatFsNgnDEEVRjo9FpVL55pbXysR4R4yHxN0Bo4FKP0ozNHPEGRPXUEjxWQ9cCYQIf0Q8GDIa+LSlQ1czEIZKpMyyZk9dwiCFQqypCC1G1wM0PIQfEvsSP04qvRTl0SyRFLNMW4jij5CDAYNJQCey6GoGfVMlVgUKEvGEEjHZb4yC1BQUXWLoAbo6QYQh0XS/ofykzYmhKpha8poFQmO+vFZiAjCEIKUpKLqCpX0y5iePnEKoaWCYmJqBIzQioWAooIsI6XcYN/YYPthhd+0+GxsPub+7w+2Bz1EoiA0NS0qUUCFSREIej0n87Gg9ffUmleQFMUJ6MBlCZ0jfj2krOh1TJ+sYaIaKpaonsrOzX5lBWFmUsoZZXqFy7gyr9RRLtkpaCZODHh+HQaa/9nMEaZ465BnhHCL7Q7zehFas0NZNhoaFbWmYqootBIr+WDZGFDBTVfRUAWfhMosrc5wuu5Rsi0ytTurSaU4PGzTddcLGAO/oLs0PdK4fNOk+OEVnqc7K2VqiDy1aOPDYsXjKsZWgCoGjKGQMFUtLrvv4qY9TBampxLqBrmlYmoItBapUkCig6Zj5LJnFDKmuTrg7ptHp4R72OVqKmR808A736bSPGLkLBHMZrOUCRdvE1pT/2FrkfaMx0/fPIOMYGUaEcczB5TzF/26J9N4I3h4DAyAE+iTEcx3+LAN/tgD/zRL88QJcqUItBVkTXAOpTgOZv1UsM7lX4tGQqNMlcGLCp/0WRQXNQLNtFENDeQrLE3xRsyAJfgdv8zaNn/0d+3djgrmzVP7491j8/Svka0VsFeLOAeOrb3LwD28y/n9v0Ll5C70+R/pclbQlUJ6aoZLEXotg/SbNv/4btt4b4xVWKf/0Jyz85GWKi2VsTRC3G4yvvkHjF79g8lcf0bl6Db1QonxxHjeloVsFzPlLVL91hcnGm4z+v9s03nqPVD2Nmy6jdD7m6Je/5uCdA0bOWaqvv0Lp0iq5lItIr2JUVsi+8jLsvYnc2GO0FeMtnKXyhz+l9tpZUqlZ2U6IHLUJ7r/L4Zvvsv1eg2DxJap/9CPqP3qR6pk6SuARHWwwvPkeafffsHljh9bbv+botfOYWQfTScJFx+3f2h7+ehvj1EVyf/TH1L+dZIUNOSA6vEkq9W+R/av0//46/fuv0b18isJKBkMdE+yvM/z1BzTfaBJf+Q6FH/8J8//1dykVLBw8gvERvbMZDv/6l2z83/fpfvAR7tI8mYuLmOYs4P6JzlacfE7LCDnp499/j6NfX2P3Whd55hXK//hHVH74IuVzNUzdg84hwZ177OV/xs4bD2m9/St25+roKQe74KLOTIREUgETdT1CR8PMrlL8o39E5aUVCjUbI+4R3Huf1hu/JG71aB/sMlxbo9P+FnZKe6aW8znhfI7n+BohhCCKInzfZzQaMZlMCILgkfe/yrHM+mA6jvM7I3Yn28OYpkmpVCKKIlQ16R+oqirdbpfBYMD6+jpRFOF5HlEUPeJe+42CAIRAKgKEMu1/KFGntvjK8Yc+G1IkvdWESFqzKUKiMCMoz/ryNCsVCWJ/OiuJZ5uWSAFSmWbdhGS63EaJnz3iKW+aJskEUTwt2v2Mtni/y9ZxkoRvhbFMEnjTfxdPfCpCRBFxEOFH4EsVtMS9zxI+cXud1o0PuPc3V3n/QZ+HkUm7dp7SlSW+W8+zlLFIyRBtvIXfeMjO3V1+sZNmz1Txw0Q7+dlBo0dTznGsIvwCtlqjNj/P0k/O8crpAheyJm4sUU5uaurIKzQN3c2RKlTJVnJU0ioZRaLEkmiauEQkGcfk3H76WD65vsTTu7goSYZVBiZiVCGbqpO/sMoLf3yGK1mTqq5ixo8TTgVV01FNBzNTJFWeI1+wKasqbmoeTmssZhbQL2+zvHmfh2sb3L65webNbe7cKLKfO8epH7/Mue+f40q6zqqmklfE00mn/CR7L4FQgC+TQMund6uLEVFCXLxI4sWCUFGIFZkcK1WDbBGnOk92r09qQ0Xstehmt9lfyVBuN/B3OnR2PbIFB7eUZXEuRcpV0f4jbFnwTces+kYIkfSNnVYRxELSPJNm8i+XKXsBXN0CmnzSATUmIZ8P4S8P4S/vAQX47yvwoxp8Zw4xn4Zs4m77G505KUB4BONtjn7+t4xvv8W++7jjKIBEuFm0+gqV775OZqmCbf8WbrEwNbgJkAf3GNz4kIe/3CVY/Bb5736LpR++QraSxTT0ZC7IVrBefZWiCJj/aJ2D7iHDzW36zRexygqa/fi8GkMcEO+t071+g/s/32SSu0T29Veo/f5r5Kv56bYFSq6E9cqLFMWI+kcbHPYP8LbX6TbGGLqD5mrg5HCvfIvKXp9x/1227r5D5x0XazCP33mLvauHBfh4AgAAIABJREFUDKIipd/7EeUXT5GupWZG5CSVLBFEITKaVoIRE8mIWJ4IXfo9OFyj8asPadxq4tlFyj/5faqvXiQ/V0SZmSeV69gvf4uq12A8/ADv2jbdh3vkl6tkyiaqmFVmKYhSCuf7P6T04x+x+L2zuHkbw1AQpNDmzpI9v0bx7hbNv9/G67QYN4eEnkS3JsTBEK8/IRQ6erWEs1wj72iYqgBhojllci98H22ko0VZjjILWCUbRMwz4XeRzfs037rG0caAqL5M5U9+n9p3L1BcLmBpAgUDkaqgXLCpqD5S1fD/9gbDD96ktVjErtcx6zMRrYA4RilkSb18ido//QPqL54iVUlh6ApC5tBWLpAeDaleW2PysU/Q7zBu+kSVGNzPHu5zwvkcz/E1Q0pJGIaMx2MGgwGe5wFfvYZzVvY4a2NycgxftqZzlulUVRXbtimVSk+U3bZaLdrtNvCJ/lNKiRCCVCp13Eblm4FE74ehg2VgGGCKEDMMUAJJMNVRflarZomC1HWkZWCYAksJMeMA3Y+QYULono4YIUPUICTywQs1fM1CMzRUQ8EUTI0bTmgHZ6OWgFBB1RGmgaUJLBFhhj5GGCFDSSTFcbbsCeImk/KxyAfP0/BjE0vX0HSBOV0oHJfxTks65ePE5EtCjCSMJYM4ZBiETPyI6KnXbQSMEaM+k8GEpi9pKyaWqZEzJQ4j6DXorG2w9uYa948sGotV1LmXWHrxLK+uFDmbM7BEgD7IMt4NKQZ9bo91mkFybUcnesQ9DhGDiKf3lZKcc6GbGLFLWmQoZ1apn3+FCy9Web1okY0f7+UnksbwSmI4oRsmhmFg6IlzsUROj7kghkdNgj4Ls5Xd9HXsaCwEaCpS11FUCzdwydt1nLmLrLz6Mi8WbJYNFfPxHywEQlFRVQ1Vm7YN0HVMCaqeRuQMNLeAUVskN1elUi6Qi+5i3tzh3s5D2o0+cdXEr6YRcyVSORPTUcl+ym+RU6IcxZJxGNHzAoZBRPBEenN2NXtIr0/YH9D2IppSZWDopA0FTRXoigZ2Fr04RybXphy2afUa6K5Gc6/ARqOHvwWN/RRuKYebSzFf1nFtgfZNejT9pwKRXPfJ30n5H6GCEkoCU6W76KL88wrFq0NgQkIyZxdLOH1NSLKeDfiLffiLHfgvq/CjKrxUQVwsQc5BOtoXnH8FsYyIgyHjzQ2i9gEj/WkXQYySL2FODDKXX8CNvown4bSt1cEW480tWg8inPM5rEIO01ER4xGRJ479jKTiomRLpOZsGnt9/KMWk6MJcc6AxwmnlBD7hK19xts7tN6PMH6axygVsbI6wh8TdSefeCUJByVbJle3aK0NCbrNhHyVTUBHaBZa7TTZlw+ptQ/o/d3HeNc/4HBrg/7wFp2ujnr6POXvv052sYKV0k88u6b3bTSNLgl5LAt4RDLvDwnbuwzWthk0QmSqgDOXR3dU8McE7cl0azFgoxeqOAUDQ20w3G/i90bEUR5V43jSk46OOreItbhAupJGV2ckWEfaGfRcDjttY+ATTTxCz5/qb1UUzUCzTdQwJm50mOzsMWxmUH0X0zCT9iOFBVIvgWKXcMiiLtRx7KQ/62fSTm9AfLRJf22HyUBDqy6Tv7RKZqGI7ZrTYLMCmoWS1nFWz5I+/ZBM+Sa9vW0GOwcMGmNkzeVkPZBwLPRSEWd5AaeYwrS041JwJZ1DL5Vw8y6a5uH7PsEoTiQcfHaQ+jnhfI7n+AoxI0yP/1scxwRBgOd5TCaT41YiXyVm5SMzl9jZv50c55eFx8ml6yahMVVVj3U6QRDQbDZptVrHJbeqqqJpGoZhoOv6N0jTKZCqQWy6KJkUKVcho3v0gz6iM2E4CunFEn/mynr8vVkvLoiFRqzbKI6D66pkjAn9oI/eHeINAkZ+TKCpKDxehhpCNEYOBoxHMYPQYOKkcF0Ty1RxFNDEJ8ZBxyM+JoKJBlRxXVxXIWd4HHk91P6I8ShgEEgCVTy5XxkiwxHxaMx4HNMPTTwzBZaFZanYAjQJHlOpICfMP+SXSzqFECDBC0P63pBuf0h7OMbzXcJ4VhQMSTp2An4b2WjQb/bYncCh4VBwLHRHkpUjlH6Xwf6I/WuSoVPAfGmV8kuXuXRpiYtzaRZMgSI8RO+A4dDiyJAYWgTBs9j0yTcVUAxiwwY3RcpqkdNUItUgYxdJ5yrkKy7lp/WfnB5HEQukekJ7HScZn9n7xya+U3da+Sn3iogf/Q7HJX1Jxh4zuS5N2yKnDhgqGrbhYqfL5EspKq7+9OD2bJvMslNTPSoKUndAd7DdPKabIZXO42oFLPM90uION+8+pNuosLW+gLF0jlOaSkkFV4un2dtEA5dku5KyYVWIafBuwmHcp94fMRoHhLE2/c7sHESISY+43WS022R3ELGvGgQph3k7KcU1UMHIoGaqpDOHzNOh39xnoo0YbPR42Bgx3rbpHlkYapFaxmE+q+BoX64s8D9byOl/JIn2OJKIOEaLpoZYkwi152M0RwTtAVFzjG+rRK85qO/bJIRzhtl1HwPj6asL7MFfPYS/mof/cRX+h7PwYg3MFGhfrIpGkQKBhua6GBkHzXzy+5IYNZvGcJ9sS/EbQya9K4N2g0mjSTDWEYFP1NpncFvBm2rYj5/3QhIeNAm1mNCfQG9A0BoR+y5S6o8Gp6SEICDqtvDaHXxpYEQQt1tM7t9CCh6tviAiarQIzIiIgHA8wu+MiP0MIEFREaky9rkLlCaH9O89YO/qfRp/+xDVHMOPvkXxlZcpv3oOt6Cj/yY30mRM2Dli3OkSjlSkrhC3dhg+GBDv6Y+ONwqg0ccLAoQd4Lc6BMMxUSxJqkynDw1NRUm5KLaF8rjVO0nFiaIkc3McSQglMhaAjZIp4s7XSBfX6a5v0Xvr1+wVB3iFIul0EStfRMtYKMUlnO8tYWsaQtdQNBVFyM82PvaGxO19xp0OkbaIUZ4nXc1iOsaTlU1CIFJFrFKZdMlF3enht7uMmgPiyEVVPwlKS01F0Q00y3hKybeCVKeBRCkS0h9/vgn9OeF8juf4BmCW7dN1/XhR/lW1SZmRv1mG86vqeymPF7if9Ok8SThnr263S6fTIY7jY5KpaRq5XA7btr8B5bUzUYWNsApo+Qrlyj2q613aw3XGd9fZXs5RyaWZK+vkAON44esTR5IgAl9oCJFDpEuUqhb17CG99gajB/fZXauxWU4xv+BSVMSjlutxj6i3y2h9nUZvRMt08BbnMCoZcimd7DTDGcQQy0eo7nSS0MFIo+YqFCsmc4UWR+N1vI019jcqrC0WqNQsyo/vNxoSD3fo725z2BvRyKTxcnMYpRw51yBNormTAuTnmIx+88M/zXxIiRwN8Zq7dOKH7BRX2Oq71LMuWXOmhQwR4y7q4UMGH99nd73BpmfRrhcplLIUXJUsPYKRhzfSGFLBnT9D5tJZzr0yz9mKQ9FS0IggHuEf7nN0Z4M7t3bZ260wMUOc4yDIp2g4RRKRT5SfDqqRRytWqJQ3Ke006LXv0vtwlYclh1LGwkmppBRxPFlLKZFRRDzxicOYWNNQbANNTZSaCXmMwAsQQ4nWjYkDQSAUpPZ4ba0EGSOjEDn2YRghHEkkksLqpGeohjRyqNky2WqWpblNBsNNxtsVtq+d57amYRkaZwxl2hYl2a6MJbEXEAchkVTAVNDUGA2fIAJPGPiqiaFq6GYZp5ZmKTNPKqtSS43Ijt7hfXFEq93m8MCnX1IYETGORowmEOk2asrBzprYQiAVBVVVkJ6H32zQi+6zW1hheyFFY2KR0qdtW2QSdJCNbcb3HrD30TabA4dGKo9VLZHNWOR1BRsFFZfYKeFkCyynIsbhPodHgt7DDutNnclhHrw8p1NVCmmHmqk8cq6e44thxjFn1RBEEvwIRj6i78PAQ+17qJ0xZmMIOz2404brXbjeJ2kgNCIhlApPzw+JE3vzSSoeduHPgbwOZQcKNrGalO1+LogYhIXmLlP56T+m8vIpMpXUU36gRNF0FCeFXSqi2Z9LXf3ZkBLCkHAwIBz0wB7Rf/cNRrfeZcfVEE9UxiQkMux28MIKbnaMNxoSR4WnbzuOCcdjwvEIpRIwvvseu3s3aPzs6SXDMvKJ2238OIudDghGY2SYBImSx6IKhQXMC9+h9vo2o92rDO60GS7Uqbz8GuXXXqA8Z6A9S7D9KYgDn3A4IBqNib0ho3t91v/PW6i6+pTzKZGBR9gdEgoHvTwknPiEcfwEf3qkwvVZqTymOlxpYdRWyPzg+ywfDtm6usnRx/+BjZv/gd1UnnR1mdyFS2TOLOGcqmHOl7BLGXRldu199sQpPZ+w0yMajkHXkmCGrqF9itcD6KiWiZEzEIokGI0I+8NPTSZ8nnn7MwzZn8Dz5+JzPMdXiE8z6tF1Hdd1UVX1uF3IV5W5O0k4ZxpOTdMeee83yW6e1NvM/j5pb//4dk+W185KbgF2d3ePW6bs7OygKApxHLO0tHSs6fz6M50CgQNmBaN4itrqXRa3mxzeX2fn2vtsugamkORfr3DKVMmpEVo8IQ47DCaC/sRlpKdxjQK2s0jtdJXT67t0/G3uPrzK3jsF7pgqOWues65GTlXQiEF6hN1N+g/vsHPjLlsTh958HbW+SnE+R9U1SctESyqlJJIxkYyT4xvNKpIMFD2PkV2idrrIyvYOrcEOG+vX2b2aRs9YZLQagatRUhU0SJpEd7cZbt5m88E624FG99Qc2soKmcUSFcfAIYapviaK4+NS088ZDP2ch10cl26KWKKNRpiHG4SjAodOjY/PFiiZZUxhkNckStTBP1xndP1jbr/7kAdbgl5qDuvMAtWFAospA1uJiIhAiZGORDigaBJNRMSRj+8FjOMJcrxJc+0Bdz96yNWPDtnqOwyrIYWpI+qjpWAxxBFSxshoGkyJQeAgjCp6+RT11dss7h3SWLtF5/0CD2yBqcSkLuaomxopBVQkkTdm3BkwPOjjhQpaIYtTL5JJm5iKQJmKgLUgROtPUA/aRO0ug96A9jiDrWm4auI8rAoFIZJFrzYJULt9FLXLsNOlPXTojgWGDrrIoWXmyS/vcPbibZp39nl4cJ2tf1/BkhdRgjn0hRQFAebU7TAMxgwPB4zaAaFiY885ZDIROdlg1PXY9xz2KGOnbcq2SllX0QwXK5MhnXfIZVTSpo5naNh6jAiOGG7vM1rbYXNXMinPY59ZZvFijTlDwdW0RNfqe6itFkbvI5pulfuVFLdqDvacTsmSGHJMFBzSv3eXtQ8fcONmm6ZWQywvUDo7z2LGpqipmAjARNFzONkC9WWD/mGTUXvA7taY+8NFxpTIzS9wrloil3IoKQJDPls3/RwnngGxREzb+IhRAN0JtMbQnEBzBIcj2B/B4QR2J/BgAvfHJLUTs1LZiE+aYM5SUM96yqiACWSBGvwv8/DjOWTJIlIlyrQs/nPPK0JB0Uz0Ug1r6RTpxexTPLimgWRVRdG0R11qfxtIiKMQGUswDYx6BbuWx8paT9XMS5EcJanmsVbPkqu4aNanGL5MA1wyiohVHaNawakXcMv2o5nTx7etpbCWzpKtptAs9RGCJlQNxbBQLRvFBMwYKTVU3UK1DIT+RU2TTg5XQhQhwwhMB3WhQuZ8GcN60qDpEy4uUIwUWn2VTDVzHLx7+g74PHYMUygIu4C+dInCTxVYvo/zYJteo0s89iA8onfrLXprH6EVy5jLixRffpHs6gKpapZnxtJl0saKKAZVJM7Hgqd7PgiQylSOMc0cx1FMHEVT9/LfPZ4Tzud4jq8Rs+zeTDtpWdZTy1l/12OY7W9GOh8nnF8Ex6YOJ16PZy4f3/9JYppOp4+zmLPxzDSd3W73uOz35Hhn7rVfH+kUCEzQi2g5j/K5JZZ2tzg43GBv+zpH7ytE6hjLWWWUNqhoAUbcI/Ya9CYuLbmAn01RL2WZT9cpnT3F6s4ard46+7fv07tZ5EE6Rk0N8IoWFU3FkhFSDvAObtF5cJ+N+0fsGecIanWyLywzV89ScXRc/KRVBhFRFBCHSc9FGcdEsSBGBS2DkVmgemaJlcMtut0Grc01BrcyPHQUdHuFcc6ibqjYEuK4i390j+69+9zZ6nGg15HnF0hfWaK2mKPi6FhM8GViyhJEAWEUEUefGNp8mVNcLBQUQIsC7FEbPdikt3OL9Ts15pQees+kbMSI4IDB1k0O37vDjRsdHk5qiIVF6pfmWV3MU3dULDR8w8BKq6RXPLrOEcP+FntrJdbGDp4tcOIxjNY4vL/B/bUG63tDWr5PnE10o/GxE21SvinjiDgKieJw2vMyOQ5EFkIvohdWmDtbZ2V3i/39HdoPP2DPlET6GEvM006ZlFTQRIQ36jE4HNDamBCrabKnFeYKWSzXTCLjmo4wHExVkAoGWJ0tou0ih2s6t+uSkZul6DrkHJWsoWFoNqpu4SiS9KhNN1ynvZ7nXt3HCMv03RT5tE3amSOzfIqVl2vs9x9w+GCNg1+/wX17SBytwqTEoipwRQyxjz/q09ma0G8rKNkqdVugmR65eIfRQYPthsmN4RxkMyxmdVZcian6BAdtjsaSgVvETleplHNUSpClwWTrY/beuMH7NyTj1RfIRCni5TKuLrAUBVVR0eMAc9LF6W0x2b3LzoMCN4saqaFJ144x6ROMN9m7doe7Hx/y0YFKcKZG4fwS585VWcqY5DWBQVIiiZrGzhYon8vSaUh2vS7jPcFRXGWUTSHP1jHn8+TTFikh0MQXWI/+ZwoZJ5kz4UfQnhLLozEcjWC7D2t9uNeHfzvLWs4ykRFJ1jIkOcoaCWl0YEUlKoH6bodpIf+n7D3J9IAD5OCfzuP9yRL+63NEp4rojpWcwxPz1OeeVxSBNHSwTVTb/uqdioUALKzTFym9fJ7imeJx290nPyqQioWWLWItZjHNT6cDChKkQA4MjPoZCt++SPWVGuoTxnLik2EoBmo6jzmfx3SME8dQIicDolaDcaOF50vitIY+HhM0jxgdthgNq7j2b2u+FYOZxaqeofIHr5EuOOjW085IcoCEaiDcKqnFAvqXJcKWEqlYiHQN+8UMxblTuJcPGR51Cdr7TA53GK9t09veYrC+RvThbcadiCjWULMpXOcZ4xAKQtcT5+MoTgyViJMqlyfGklS/yDgmDpI1pqImQbpPk1p82XhOOJ/jOb5mzEjT118a+gl+G+I2I4+apqHr+jFhhGcT2Nl3U6nUsVbTsqxjQjkzEoqiCHNqQmLbNrlc7huQ5VQRioPi1sitvsCpVpthb0irs839gwG772zQGa2yljYoqQnhFJMJnrNMVDFJX1jEKbnMpYs4K5dYHHSYRCqet8Vt72OOPmrwq+FNNrMWBU3FlREyHjLpHjHoDegNymjLp6lcPM3pl0ucrtgUTIEmZZJhjHzC0CPwYvwgRIQxQSSRsQqKhWqXyK5cYnkyJEQw5pDbw5scXGvwxmiO9bRJVVNxJRD3GQ9a9NptBmEetX6GufPnOHu5zErdJmdMDWeikDj0ibwJHj5eGCJimbRL+ZL8MpIEogRFQXcMUgWTVAyKv8/41ps8OHTppRQMNSIMG/T299m/c8BWO4VWW6F+5RwvXSlzsepQ0SSayGBlypQXMpy54DNo3WNrs8X2z7bZL7mUbIOUIlDkEHHYpR+oaHkXZWASCgXfiwjDpFdgYhAUEQcBke/j+z5eEOKFkigGKVUULYVI1ymee4HT3S6D/oDh+2tsbvXY+OUG3eYCC65JXgVdBIw9j8FQZzjIk6+e43xdUIiT+0tBR6hpSNXI5R8y764zx316d7vc03foDC4wXz/L6aVFLi7muVyxUJ0SZqFCpbpGXd3mqHFA881D3hye5f7KGZbrp3nh9CKXyjnq1bPMvfo6Z/shnfF92jffpv3hAR92F9h9UGZBVXBFiJA+k0nAYJQDdYm5MzWcUFAnBgb4zXWaN3vcuWfQ0m1uZnXmMhJbeHiDBsPemL51iczCJVZPL3J2XqU26dBvrrN742Nu/Rwmgxyl1YvMBRGnppeBIiW6peOmbTKRyYgW0fY19sId3k2rmEYIckDg7bF9s8Hujko7vczi5QtcemWRV0+nqdsajphpfgVCs9BzeVLnFyg0amQP+2gPIyxbISykUV+okl9Mk8oYGE/0fH2Ok5jpuJUggr4HBwN4Zxf+3Q78xS6Joc+ERHEekBBLBcgkr4sZeDUFqy5xxSRIafiGwsiECSE0Biw2QpT11lP2zHRbBpBj/J0qzX8+x+RKBWU+j15wsBSSapBYIpUn/Raeic8U3P0OIWZztoL0BHppidQLr1D+3il08RnO4CLRaAvtWSZJAhEL4j4YVpXU6Rco/v4lLD7HtlUVcfK+kBHx4Taj679m75fX6XUjKNnYaw16V99Hybm4Z+fRl9KoqS/uGqzMrNkVgYgsNKtK6uXXKZwq4Lqfsb2T4xUR8nOYxD4TUQxx0jszFjZG9RRmbZl0HCK9IdGwS9Bu4d+5TfPv32X7/7lGU2bRC0Xs0/NYlv2ZmxemgZZKoToWtCKi3hA/jAgB/YlPSyAknniEPR8ZCnTbQk+5X9m66TnhfI7n+Ibgm+K6+tuYA82yj77vH7vuapqG7/tPzW4+DbOH30yzmclkKBQKtNtt+v0+nufR7/dpNBpks1ny+Ty2bR/rO79WCAWh2qjFMxQv+pyPBJH0cdba3O7dZfvaIQNNxRASLQpQ4zTOQolcSpIyJZqlYFopVG2VwjnBOS2P614jfW+Ha0db3L61zW00dCnQkUgiAt1FZGqkape5eOEKly+e4tKczVxKxVEERAKh6KhGGiNdxM1L8ukUiqPj6nziZKc6qPkz5M8ZnLaKGOaHuPd2+PBgndsfb3EPlQ2poCNBhIS6Q+TWKCy/xPkLL/DCxWXOzTvUUyqOGk8nfhvFzmAWy2TUHEHKwTIVbAW+lM4RM6mkjBGagpLNoJ1eJBPPkRcZ5iab8HDE9sTnMIrx4wljX6HrFfAXLrD6witcevU0Ly2kWUxpWIpEkVnswgKVMw0uf3uL/q0tOo0ttm43GOo6lprCNPIYmRLLhTLVsyZXaj38RpmGWaDg6FiqQJUCqQqkaqE7GcxsiayWx8vYZG0VY+Z0KFTQXczqZapXJFdiFaG9g7PV43b3JvtXtzlStcRtWMb4ik5o11FzZc7m8shMDsc00BEIVFDTkF2muLzJ6fNbHG2ucWuyyeFDjztRwGbboSeypDNZVosWjlPFmFth7sI+F9Yb9G/sM9rrs8eQg2bE7pk0eqZINZuhnq/jrHyPU0OFUKoIPuBGf5OdjSMe7LscCNCUpB1FICyU/GVyizb5Qg4tncawBTLKoeo65riNuXtEfxBypMKmBboSEeoOIjtPevEVFk6/wOmVOS4VVNyORujamNks6QWwci4Z18BSBGocQxwTxxHCddEXbJzKKjmRoR71SG1vcjDxaUcRfRkQhRM6fgG/uIpdf5nTr5/jpXNlzuU1Mrp45NoUqoZw0uhz87hzq7g5H1P2Kek55so5lk7lWSxbZCz1eSntYzj2qYlimASIjofY68G1Q3jnAP6sQUIy+yTayyRDBwXAhX/kwGkH6k5CMLMmQdbATxv4jkKkCQIpCcIA5XBA+WYPZb0z3dYjIyBZgqcYk6f5L4r0Xi7greZRyzaWraGfOHm/0QL8q6lKfBJCAcPAqtVwqiUUbwO/fYTfGRDFOqaloD72sJUyRsYhUk5L6j/NyVoooBtopQpGqYDGHkF/n0m3Q+DpWK6Cqj2qCU/kAiFxLFCEmpRwHns2hdDbZXjnIw7euc7BusB45SUWVsqkju6w+fEBo5vv03hnmZR9Gc0oYBiPac7hWJo7CwqdlKkK20EvVrGKJdSNEcF4h2F7RHahmDjCKo9tb9amLZ6aGikKid7kNzgXJxFHcLTFcO0u3ftbTOIFUpfPkL64gJWywTBQ7RR6poTl2jBqM9m8xXCni3fUZTzxkLH12YTbdFDzZYxcBtEcMmnt0G8McQtpLOsxJaeMkeMWXrtJrzUgUg3cfAYrn0Z8RbmO54TzOZ7jOX5rnGyf4vs+3W6Xg4MDpJR0Oh0Mw/jUktqnbeukYVK/3z8mrJAQ0RnpnPXrDMPwS3XR/c2RkDvFrpKel2gCNGWAml9DW+sTtxUmsSCOFRShI4willukkE1RzarkbYGlGqhKGbVmUrZc0mkTMteJ7uww2ujTmiSB08RJ1ERLVzDnzlM+9zpnLixxYSnPSk7Dmpb3SaEgDBc1v0R64UUWrJgoO49WtqnaAkcFBQUUHcWuYNVsKk4Gx1CI0ybB7U1GW0O6Ywii6SQ/7R9mVc9RP/ciZ86ucGmpyFJaxdbEtJRMRbFy2OUViufaLCkr5OfKmBmVgiGwprGBY/Oix/W9zzrSM1MFmfRnk4pA2DZKah5XP01OTbHSD4mbPo3AT4i3cNHSOTJzp9BXXuHMi+d54UKNlYJF3lDQkImuMlMjvXyWpbBF29To3Tuiv+MxCiFGQUgL1aiQnrNZrMdk1SHagct+VMWZS1O1dWwhUFCRdh6zvEpxJWB1XKVYqpAvGmRNgaEk50fBQEvPk10S6JqCrk9Qbm0iNobc7WpMZv1NhYKq2+jZPNZijeJyhWIljWtpGEqyP6HYKE6NzNIZVq60iPp9tG2f+4HDnhDJuioRp5EYRuXRCksUz7Y5t99hoqiEW2N2TY0RUz0WEoQGuo1eMCmfDVAI0ZUh6toQoxGxPZoub6QCQkE3XKxCgfxiifJ8lmzGwTKBqIqVq1Ms9VgqDBkxohlFTAAZqyhWEbu4Sun0SyytLrE8l6Lm+Ag/y7CyRO2yz0UdvOVFsotpaoaKI0JEHCVl26aFKKQwtfOUNYfl8SHV1pD9OGAwEQhpomgOqeJZtMUrlC++wuXLdc7PpamaCdl8dP0lELqO6mYwU2U0t0uk///svVmMZFmJKXHHAAAgAElEQVR63/c7y11jz4jcMytr66rpZXq6p4dtzgzJoc0FXCyRFExLNC2QtiXDfiD0Yhi2oAdJgAHLgDdIsGDZ4AMhU5YIWTYkj8RFI4vkcDiafe/prbr2zMo9Y7/3nnP8cG9ERWVndVdNV1dVV98fEJ1dGRF3z3vP/3zf9/9iqo155hdaPLtSYa3qUfHE+9pj9oOGsxYxNtBLYLsHbx7A9/fgm3vwW9vkvTIPya8wj7yWsgKfqcOLDeyFGsP1GsOlmDTWGC2wMu91bKXAyjyLILMWfSuhdrVP/W9vAZOUWkF+JjV5VLPC3sdb3PiFeQ4uNrGdCn4jphL6KK1RUqKKEpCHZdj3QBB52wu9cpr49Cka829hrl2j+8YlDi+volaa+FUfpfK/ZJEk2P4R471NxqaKiBvECy20J97uSCoE+D56fpnKqRWaa98h2b1O/803OXr9Iv5GC9EM8mU7B+kYMzxivL/JaBghggaV1Q6eL5HC4pIB6dVXOfjGd9j6+hb9aIXmsy+x+ENrNA4Cegf/mu2rb7H/J19l7lSHoBbjtaPbjtkIUEUmk3XYLMuzR9IMa8jFbVxFL6xRX1sleu0Sh3vXOPrG6zQaAWG4TFgL8zRja3FZgu3vMzroMh5Y1NwKYTPGDx/AeXEOMT4ivfp99v7ky+zurjE3MthWFbHRxvc00tdI7SMbdbx2iDcn4UqKTfMSFOfeJT0/qCI6p6idXiW6eZOj7SscfOcSlaqP73UIYg+BQ9gUOzxifPl1Di9d5Wg7Q3ROU1lZoLoY5ufdFl4D7yOl4CwpKXmg9Pt9jDEkScLm5uY0HfbdBOfsA362DjTLMgaDAfv7+4xGo6mhUJqmeQ+oNMVa+5gITshFp4+qLFA5pVmv+vjLN5i7fsip3YxeBpnN64+UalFbXGP+7ArLnYBFXxIjEEJD0MKb9/DqFc7XFvDWNpm71uVg5EiMKxxEFVQXCRY2aG9c4OJSzGo9N5iZHk2pIGwTrLxAJ1rmuYHjlL8G9RYLTUl9OlAWID1E0ES3Q+qR5kJtiXD1Jp1rPQ5HjrEpclilh6h18DunWTp3jrOLdTYamlhNBusS0HjVFWqnBevBClWajKsr6HbAfCSpqkltUF5XgjEYY6et2t9dcMoiVctNz7+VHngN/LnTtNunuBgsEQ0O6A9GnE3BOA8XNaC5Sri6wcbqPM8sVJgLwZfFMRAKETTxF8/RrHhcbJ0hOLPHys0BvcSRuQi8Fn5thVMbFdaXNK0wYXFfsZ9EEDU53QqpKQFCI6sr1E6/zKn6Ofy0yiheIWrGrMQQaW4fex2hmivUAh+/GuGtbdK+fsT5fcPQQDY5IH6MbCwRLZ1ldb3DRiekGczUDkqNFHWqyxdYVSHV9jqtmwPODxXbsoFpn2ZhtcnZlkesJVJFqHiJ2mnBearEpzdZut7nlqvQi5fwlpY5v1hhPtZoqRGyQrBwloXAI27NUbnS5fTOmBs9SzqpzRUKEVQIls7QWttgfbXCak0R6QihVohXLBsvdlD1c5w6GnKQGAb50AhRmyec36B95iwXlvPvhUJg4lVa5wIu6NO0XoSs2SZcW6BT0TQZITNDZizWKdANvOo6c/NrbEQDLpqznOkN2Rs7jpwE4ePaG0RLG8xtrPP8fMhyReGfMLpzxRUpTIaxiqFX47AZ4xaXaC62ON8KWPQEVcrazenfrHOIxMJ2H17ZhX91Bf7b14Gr5NHMou6SBjzVhj/TYfzxDr2zNZKGT+ZJMiWxaiYfNO/vk5vUWIuweQq1FI7mtT7zv7sF3AB6M1sUAFX2zjW59stt9p9uMFqqEgQBYRgSeSGBH0xLPyblH8cnPR9rhAQR4JbOED91kfWnvsblS5fZ+9MKaq6OfPkZauttglqAMhkc7DB+61W2v/rH7Can8DeeZfVHP0a1/nZTnVzp+ej5NWrnz3Pqua9y6bVbHH75m2wtLKDV8zT0Qr7sLMPt7zC++n12vv5H7OwtolaeYe2n/y1qLR9fpZjhHoff/Cq3vvgmu9+V+D/zIvWPPc/cc0tUxpLVN97EbL/O9T/4EjvPnCVYbFJthSgpCjOcom+xVojEYLoDkm6fpNcnDQNEECDDGiydon3xPAff3aH/b3bY+d0/Jg4lOtTw1Aq+EshsBId7JG9+lVvfeYudLUv8iZ9i6blTNJei9/63LIB6gIocjPc4/MoeWaeJ21hANivUGwGhdDAeke5ep3fzJgdbPYxeRfo+vrqLidMsfgvRuUj7pWfpXj6g//kr7P7BF/ADiYw8OstNtHbY4QHprTfZ++Ln2f3qa3T3fMIXXqZ1foP2kkRKsO+v1gRKwVlS8thwvEfnwxJQD2Kds2mwo9GI4XBIv99HKXVHbeW9Lv/4w94YQ5qmpGneTdLzPJRSb1v+Y4X0IGyh28/QDs8QriasjO1Mq0aJEAFeGBHWKoRVj/iOlgoCRATBEpWVmFO1p2idSxmb3Ok1/4gAL0KFVYJKTD1SxPr4wFfigipe6xTV6gJrGaQyBi8i8gXhtIn17HoDZLhCda3ORvMpWudTEuOKh1JeL4kOkWGVuFajGmpCOVvPUwhqv0XUDtGVJWr4GC9CBJrIAw8LLsFmXYa3dulu7bN364gD5xjgyN7h0AoEMqrjV+eoNNtEB3AwVti0iJeICv7cBnMba6z4KR6Gpw04BKgA4cWIaoVaFFAP8j6ld65Ag99A1c/ROr2MP5+wPMgw1mFQIPNlVCuaSizwlCWswarVCOVRiTwClbtliqhFqALatTUqVmN0jPJDYj+PcN556H1c2MZbeI6FyjniUymnkqLec3o6NcIP0VGNOI6IA0kgZ89hLnRV1CFcilC1VfzzGWuJYCg9nF8lqETUYq+IRkuELETnRoX1+QvMXcwYOk2mQ0RcoV6JqYeq6C8pEKqKrp+iqpucbqd0xoaPZG7GDErkTpRRlSCuUYkVFU+g8EBWCVun6HgdoqULrCUZiXVkTuTdUr0AGVUJqzG1SBGrPBIrvRbxfMxCtERzDNYPkJWQwJcEGRhc/jIWm4IwPqq+SmM94tTcRZTNyCykLq/VIqiiogpBJaQZyGnE/e1kiMER3LxE9+pltnsj9pprRCvLxAstOmGeuv5hjm66oueFcw7ZHeftSj5/DT53Hf7BJrBHfmXMQbQBP1+DC1WS01WS+ZBRKyCp+aSxxnl5O57ZHo+CvNcqqqgFLN631lG5fsT857fh/75KbjAkgArQ4PD5BtufqbN3ocpooYJoRlSrEWEQEIQhYSE8gyDA9/2pl8LsM+Vdny2TGnJ7u8fweziS+XKK/sxiUqN+/DPOYsVsPEogo0WiCy+w+utdRr/3NXYvvc7OP94nfe07VNfm8JshKs1w25uMrl1l99I15DMNWqeKyOHb2qfkywWJqC0QPf0ia39pRPL7X2H7tevsfPafkd54lcpGh6gRItMMt3OT4bUr7L55BXvqZeYWBbKo/3S9bbJXv8KtP/0W+3sC/eKLLP7ED9G+uEI8V0Ha88x96tMkQ+jufY/Db3wJr10jardptX08XyBliKmuES/VqcwN2bv8Kjt/8Lukb3yPw/kO0Sdfor7ephrOE778IywmDlP7Gje/9Arbvz9gcOV7VC+uEmqBTIbYgx2Gr32P/UNI5s4Q2sk+zx5uB1kxoX2iKCtOknPF5NTkolVQWSJ45kU6R126m1+m+9o32PydAwavnaPaCAmFQ40HDDZf5eD7l9nbbhA8/wzNpzdotGKUkvkqrcOZSTbP7OmRiKBG+MzLzG8OyHpf5vr3v86tz+4zeO2bHK230criBnuMN6+w/61LDNIa8aefZeknnqd9tkOg8knbKdPr+J0vZMvtAMK9tkYpBWdJyWPAvdY3PizuZ3Z34kLr+z5BEEyF4axAvN99Ox7tPOm9x34GWiiECBGhT+RbwoajeTt7NP+IENNInSxqXe4UIBpEBa8S0ogcNeuKXnVu6iwnCrMDKdXEK+HYdgiE8hBhAz+o4bkizbYwRnn7ISwip6qCX43Rsb1zvZNlTteb9wx7e/1abriiVYCK6oS5s0X+XQRCGKwbYdIdejdf5cbX3+S1797gss3Yc47xO5xaIQS6uUZ15SnaZ57lVN8iEoExDiEsQmhkUCPoRDRqgrouHtST/phCIqRESnGyi6NQIELwAqJGg6DmaE6OAQC5wpt+X0AU3BZbcloTJcALUdoniiCcbEPhqvu2Yy8UQkWIyCcKHEHT0Zq2Jrq975PtF+L2uo79lYAXoXWAipoEtnAHnu57kUEgcvGO9MBTeI2IRs1RLdrXICb7KVFTIx3yCLfXQNer1KuOmgM72cDpcSZvVzPdzmJd+KjAI/RqhA1bbFfhglnsn5DF+Zk5jkKG6CigEjri6XEs0gCNmw6ArDG4zGGMBK+KbraprQnqIo+ou0lqXrEepDzmLFsMtmzeQsikXczeFskbb3Lz8k22exHp3BytpXla7RrNIG+h8vhYvj1cnHNYAeBQVw/h61vw+1fg71wGdsh7YkZQ6cB/tED6sRbDxYjRXMi46ZMFEieL6PY0spibv4iizc/boo5CYHHIQUr7G7vwP94kF7V5naajweavN9l+rsbReoXRXIgfBPhhQBzkAnP2NTG4m0xi3rPYzI9AXhPpbO6+y70PwI8tpRCa+XJOemZOXEYnbZVm3kGoCmp+g+onHStjhR98h71v32DwhT16FR9iD5lJyCxCaVz7NPUzp2iutgkCibzrBSwQXhW9eJrqJz1WjI8Xf5vdr1xj+KUv0f+2h4g8pBE4Y0EpqJ+hdu4c9TNLBJFCyh7J1iUOvvglbn1nh7G3QfXF51n82BnqS3V0oBCiTXTxWVo7u7S/9Sqbb77OYWWB7flT+J9ao+oHaOkj4yWqz16kfW2TvT/cpPeNrzH4/jWO5s6xsHwef65NLa6gVs7R+KEElI9Mv0H3yhb9L2zS/W6M9CTSClzmcFj0yhqNCxeoLzcJKh6Tao1JmUd+Pt7h3E3FZpFpA/mkiFdFL5+j/vGM1VuGre9cYX/7dXb++DKHKLR1kGW4LMP5NeLnn6HzIx+nc3GdSi1ASlHcV23RAsUds3gXoAP0/GkaH3sJRg5nvsvhzlX6W1cYVEKEcNjUYEYG4c9Tufg0zR/+BAvPr1PtVO70UnDu9uTJO86cFH1yJ9fiPY7vSsFZUvKIcUXRujHmkaeGTlJZJw/ek5i9wQghUEoRhiG1Wo1ms4nv+1OhOfud97JNk3WOx+NpS5QPBkWKplII9Q6Ofu+yDCE1Sh6vLbvf7SjE7T1/JRfASqoffL2TQeIJe+6wOJeQZXsMNt/k1ne/wff/8DW+S8ZNLMO7bmi+L8HiBRpPeaz5p3HK0ErIo1vS4IzDIEF5KE/ivd2y7142fnrM7uXY3/2SFAhxD+lRd6xXIxXvMAi81+Xcx7VX9ORE3svA4M5jc//bJZDFQb33r4s73S6P4Rw4m/cLNMbg0jxqaqVGaIW+V6Mqa3HZiCwZMh4n9Ls36V67xP533uKVq/vsJDGVpTlWV+ZYblWpa/lgDLA+gEzuyzIxiFEK/99l+J9fga9+j9wMSAFt+PWnGP30KvtPzzFoBVhZDGyNLbpm5hMncqaG8nhrrdnWWVaAGKUEu2P0P71OLmwtsED3zy9y7Ufn2DkVkVY8pOcRaz2NZs5GND3POzFb5p4nM4UApZGVGnquTpBV0MEJqan3gtaIoILXbhA0K3ixj5S3zXyEEIgwQldrBHWNH+tjZkASGTURa8+x+JkatWaHZvzHXP/C6+y90qOfCRwx3sYGtReeYeHHX2bx+bM0VucIo3e5PwmNiFqIsEHnMw2qrUWawR9x9fPfY+/VQwYGHBHe6dNUn3uW+U9/gvmPnaO53iGqKER2wHD7CvvfvMJwUMV/4SnmfuhZ2qeaxNVC4OEj5jcILz7N4se/Q+/3thh9/xqHq2/R+Pg8QSNASw/hd4hf+ASdbExv63NsvnZA/6rARUs0Dyw2AycU+E2ic8/jVeepVhbZ/ld/zOaXXmHri9dJI4XwG+j5VWo//DHmP/Ux5l+4QHOllffrFLnpkQhCdK1KsDzEiz3UpD/osYwgoX1UXCWotJC1GC8o+o4KhaouEp2vsPiLDbyNP8X70pfY/Pob9LcMpivB01Q3PkLr+Y8z96OfYOHZDSoLNXxfAfnkgAgi/E6DoBGjI//Oa1NI8BqE55/Hi9tUa222/vBPufm177P16gjjJERz6OY5Fn/8kyz+2HPM/9BGnnnkyTuWI70Qv1MnUFW8OEQWM3HHrw0hPWRcwZurYWsxyru3G3kpOEtKHiLH02YhT0NN05ThcMh4PMaYR+OtPisewzC8Y6b3pN6ZAFpr4jhmYWEBrTWNRoMkSTDGvGdROPv9LMsYDodsb29zcHBAv99/7KLCJfeHQIDwkLpGOLdMc6PL+vMeqTG0sIzF3bLT8jQt1T5FbX2RhbbPwtiiGXOUjhmLlFFmyFJHZvLaFMcJUcySJwcLwlmEzbAmxWQpY5uRphaTOmxG7hvzbjgLaZ907y2Obr7G1beu8+rNW7x17RY33zpk080jls7z7EdO8fzpGufnNPX3NBH0wWUqNg9G8OoO/LPX4b95BbhF3h/kHPzaIumn5uleaDHohCSRAmNQtojKy0LkFZHMieibTHpOhN9k8nNaumEslav7yM++Bf/vDlCDn11j6yc77G7E9OZ8lC/xC0Hpe960btP3/Wn67GwK7X2l0U7wKtA+S+tn/2P8Tww5NWoQPn2aqB3f5+SiQM9vUP/0z/DU8nOseR1ke4VKy0N7xeROWCF6+Sc5ffolFnoStXKG+lL12GIkQnqwvEYcxQRnzlP7mQPGo4TUCRwexHW8uTmi9XmCWoTv63ucDCsyM+YWCV98mfnVU1R+ao/RYJyXPzgP4gZee45wNXdezSOXAlST4PzLLP3aGo2+RM4tEK6vEMY+d2qnCsH6R5n/pTrRy10yV0F1lolrYSFWBEiJap+n9nKTc/MfZflohBn7SNUifHaNsOndrotXEaqzSuWTVbyNM7T+3X1O9ZLbpRVBDb20QNRpEs3lwklIAIkUEZUXPs3a4gVaPz+C9aeoLNWOZcQIBB7+2efo/NIc4QufIVs4Q7C8QhyTT8YVpn3+2lPMVZtUn36J5Z/bJxs4XFb0Eq+28Rc6+MvzhHGA9Cd3FIlqrlL7xE/wVOsp1rwF9PwScfW4O7DABVXU6gZxpcbKhadp7R5wepDinMCpCOk1CVeWCRfrhM0AqeWd+yHbBBd/mNW/ukiDANlZJFopxPMda4rwOmdp/MKvcOHTI7KwiX+6RaXqvatLdyk4S0oeIZPoXZqmDAYD+v3+1JH1YdQmzgo2IcTUTVZrTRAE7/o9pRSVSgWlFNVqlcXFxTy6MBMB/UE5yflWKTUV55PIcCk6P6goJCHKm6e68jSrn5jHXz1g1VkG8I41nAAqbhHW56m0m9T3qvT6LQadJdpqjqgeMRdKfHlCinHJk4eQCB0iq20qrR6toMNyrUIn1sTenemu73y3cGDH2P4tRpuvsPX9V3n9So/v7gpuDTuwepHT557jxafX+chKhfVKfo19YBIu3iN3PC8Sg7jVg89fgX96CX77EnkPzSb82XnsZxbpXmzRX6+SVDycyguWleOOyOVxkXk8mjn5/+k2AF5viDxKILPwK8vYMyE7H22wvxIyjiVSSypS4ulccB6PaJ4kNO9bbAIojYua+KefQ68YrNNQCVGevs8JLgFRHb0cUmuuEEsP4fnosLi4BKA89NIp6q0VKhbwI7zghCG8EIggQnQWkfUGtfWUirVYV4TmdL5sFfnI4zXk97KdXoBsdfCrddRKQsUYDPk0IKrY7tiblmzkX4vQc6tUn+0QoxC+jwp9pDqWcSM0qjpHeDZCr2RYI5DaRwR65m9YIPwqqhNQrbSIU4t1EoGHqARIf2aZQiH8CNo+flxDb6TEmZ0am6E0MgiRvnpbtBjpoRdWiRvzhJnF+THa9479rQtAIusdwrCGXjkDXoQIAvTUGyHPUBJhlbAT4DXmCddTyBzOFRFE7SN9Hxn6b3teiaCGt+jTqC9QFX5+fH35tnuOkAqCGDHvE9RaeElKxdzeVyF8VBQgPYU44bKRRIjmMvLjLXwEzvPRoUa87QGqEWET/2xIc81ipUaGIdJ79yupFJwlJY+I2VTRiavrcDhkNBrhnLsjwvh+cFyoCSEwxuD7ft6Xijsfvne0rJgRnFJKgiCg0Wg80O2bDAImRkR7e3scHBywvb09/X0pNj/I5KZJ2utQXW4Qdc4y/4whxd1T/3QhFVLl6Ws2XGQnPUtiFec5Rzo/x0JLUvdOMAQqefKQGhk1CObP0x7XOTOaQ0UdltoenQi0BEFeiyWSvCckYwOmuH8ECiIPAjF1TbYmI0sTjFEIv4XfuEDzIy9w/tnzfOzsAms1j0YgPjTptJN7rXMOUovY6cMXrsH/9G344iXy3pfr8FdPsfOz6wzbIWmocQqkndQMi+kzYzaN9SShORGZs2LQubwVikoteAqeatD7sUUO5zy6NYUxhsA5pJBorafRzNnU2YkT7QNxoxUSoSSi0kBW3tvxFcqDyENHlZMH5kIgwwoyvMeBu9IQVVHR+xCBVxqURoUxirxy9h0RHjL0kOE9HKRJ39v4nZaXC1Fq/rvvm8hLFESliuJ+jkUu3HUQvfvnvADhBfjvuHsCtI/SPurdFjmL0vlzLrzLdXHHKkQu+iseqnKf570Q58qP3uV7AqF8RMW/72u+FJwlJQ+RkwTc7Czu5IH4MCKcJwnOyYN48v4dg4y7cHyg8KCYHJfJdkzSoKSUpdB8YpC5gZCvEZ5DAcHkmnuXb96+1hzMn0H6FdTCR2kwh43mqVZ9OlHhwvt+7kLJo0d5qMoS4elPsdEeUM0CLuhFKvWIdk0QqtxkS3bHcKML396GS4ewP85nJJ5qwXPzuKc7OBmh5k5TPy85V7lIeAQXsyrjcJnqygorS03WGz4V/eEUm0YIvO0efP4q/IV/A1wHBPzcs4z//Cl2n2szagbT2i/lJFIr9IzYmxWbJ4m/kyKO0+elc2Q1n9H5Ftl6zFBYDIbAWZzS0xTcicg8HtGcTdX94HgBlJR88CkFZ0nJI2RS06m1JgxDnHPTVNaH/TCc3Y67GQadxGQgMOmP+aC2ZSK6rbXTV8mTyMSY4O6GMO+Mg2iOUMXM1zJq+KACtKfyth/lmPLJRyhEUMVrbtCqGipWksoQ6fkECrxxhrzRzUXS712F/2OTvB9kQj4d0YBfXkb8mdOIH15Cd9rEK1VWmmOamWDsPKyK8eKIOPKpafEDmCV9MJkVmyIxeNcP4ffehL/xCnAFqMKfW6X3q+c4Ol1n3AxA5a7Gk7rM2XrJ46msJ0UaZ3+eNLloPYmteJhAILIMzxqUtbn5kLxznZP13m1dJSUlD4dScJaUPGKEEHieRxzHeJ43TRV9FIJTSjmdEb7bw/4kjhv4PIhtn6x/1sG3FJ0lb0eAjtA6QpO3ky/5kCEk6ACpA0IgLH7tnINRitjswe+/CX/9Fdh6E9gHxlBUn0EAv3MLfmcf/rePIn9kHX1mnlpNUZ/ey247hn5YuCPDZZgiNrvwB2/C3/webL0FSPjFFfp/4RzbLyzgVGGCgpgKveM/T8qIeacayslzYPZ5JJREutvu2c6p6QTlSSm7d1tXSUnJw6MUnCUlj5hJZFFr/VgIqgeRGvugUl5n06nKNNqSkpJ7Ja/3s6iDIXx1E/7zLwOXyPs1ThDkydsD4Fr+3l9O4O8aZOdpTDMEpe7Sr/bJZlZsWufQWz34wyvwn30ZuAlI+E8+yuEvbLD/kTauiGoqKad9LU+Kap5Umzn5992YFZ2iiJw66dCAPCYkT3K5LUVmScmjpxScJSWPmNkH4v2ksr4fnGQMdNvxrUh5nDzgp79+7w9yl6+w6LVcCsuSkpIfnIlIssaiLu/D5y6Ti6R+8Qlx7Cfkd6ERcAX+QQPON7CfXEfEEoV4JFknj4qp2MRhBHibXfjcJfjLXyfvedmAv7jOwS9u0Nuogy/RUk7rNE8Sm+9Un3mvHHesPd4yZVZ0vpf1lJSUPHhKwVlS8pjwODwcJ5HE421NBHc+0CfjNMGDmTl2zuFweVcCVzROvEtFXylIS0pK7sbte5jFZBnelUP4X24AR0DKyR3KJ5FOA+zDH96Ery5jX1pCxB7Svf8tqh43HLlgF6M0d6P9rdfJazYj+OVVjv69Mxw+1cJGXiE29VRsThxhJ2IT3jlt9n44Lipnl/deBW1JScn7Ryk4S0oeE47XqTwKZlN675gxFqAmD/LpDLPgHXPNTtqNuz3/ncPl4U2kk7cHjW/72Nv7e5aDipKSklkmtd82yeB6lzwql77Ltyaicwwcwjd3ceMM4xzqQxTdnOAcyEGCvHoIf/e78EevAyP4sxfp/vIZdj46D1LiydyBdtYR9ni9JjzY+/TdUmTL1NmSkseXUnCWlDwmTETWw3xg3k3c3p5FzutlJs1/HQKXByKxE3daCrEIU5E4EY/TpU+0KZPBRx5ncOL2QEQV7wsppjGIyfGYHbhMBpMlJSUlx5mk02bWYtIMBgm5G+29TuTZ/PN7Y7I0xRmDFQJxwmTXk8jkHi67I8Q3N+F//w78yzcAA+3zDP7cKbrnGggt0ELiFf0uZ11hTzLqea/M3v+f9HNQUvIkUgrOkpJHzGwa68ShFh7OwOYOZ9miBmfW3EHKXCY6B6lxjI0hSW3+01hSY8mMI7N5U/XMWqy7Peib1gKJScdFChELSgq0zE0mPCnxdf6KfE3gKQI1WT/FQOZ2elZpIlRSUnI3nLM4Y0lNBsKRT2/d6/1U5J+PBZkxSGNwUuI+BNGz6XPIWPQr2/D/vAG/9T1ywd4h+2tnOXxmjqQVoYXC0yf3uny/IpsTnvTzUFLyJFIKzpKSxwBrLUmSkLHfesIAACAASURBVGXZNHr3MAWnLJwFZRDktTdSImRuxpBZxzizHI0yuqOUo0FKd5TSTzIGqWGcGMaZYWwsaWYL0emw9nZarMMhyR0FtRBoJfBVLjADrYg9RSXQ1GKPuWpAqxJQD31CTyGkRGmF7/t4nr6jLqgUnSUlJROOT94ZY3BVhSDk5NrNO75d/NRACBshmbVoY3BCT5cPT6jgmWSuGIM8GsHnrsB//xqwCZzG/bXT3Py318jqAdrTJ6bRPow+l0/ksS8p+RBQCs6SkkeIEAJjDGmaMhwOGY1GGGOm772fzA6efN8nDEN8388HC1JinWOUGA5HGbuDhO2jMbv9Mfv9hP1hwtEoZTAy+csYRknGOM17ZRprwUImHGImGqkAJUErSagkoS+IPE010NRjj2bFZ7EWsdSKWWnEdOoRcaCRUhGGIdVqlVqtRqUS4/s+UspSdJaUlNyJA2ctRjgGCwGVlxrwFY88Umd552hnCDQ5+HiLVIMy7kMxUnI4DA7ZS5Df2IK/8SawDXTgvz7L9k+ukdYDtL5dszmbSvswxGZJSckHlw/BbbSk5PHGOUeWZYxGI/r9PmmaTptYv18P7lmxqbVGCAgCP09hFYJh5jgcpmweDrlxMOLm4ZCdXsLBIKE7yuiOM0ZjwyDNGGaWNDWMMoPJLMZYjMuFpnVguC06JbnnkJYCXxZRTl8Sa0nsa6qRohn5LDQi1poVTs/XWG1XaFV8PN+n1WqxuLjAYNDHGIvv+2V6bUlJyR1M7wdC0F+JsT8/T+0rm+QutENOrueUgAd0GP1Gh8OzdTwl8ozcJxzncrGpuiPkK9vw974N420ghP/wLPufWmS0XEXo221PJmLzpLYnJSUlJccpBWdJyUNktnn15N+T9K8sy0iShCRJHprgnF3HpPZmbBz7o4Sre0Ne3Tzize0+1/aGuchMDWNrMalllJk8hdY4UmdwJk+jzVxehyoLsekKB1pXiFBE3rB7UDjfqlEuQD0p8HQe+WxEHlcaIdvdIb2kxZmFOkv1gEajyerKCllm6PV6RFF0x3EsKSn5cHNbbIKQgsF8xODjbbyfWyL8rAX2uR3pdNx2p1VASPLjC+x8os2gE9GQ8p4rPz+oTOrtxShFvrYL//wS/MNXAAcvLLH/K2fobTSwkYcvb9dtlmKzpKTkfigFZ0nJI2byoFZF0+yJcdD7KTittdPoZhAERGFEGIRIqTkYZlzaHfCtq0d892aXt3b77ByO8/YACvxi1t8alwtO8ppTrQRGCbQjj2haQOT9NYWBdCa9VhX1nQYLaZ5623cOLBhr8aXgxp7H3tGY7iBhOM5QG23qlSrLKysopdm6dStfVtH4u6SkpOR2KyeJkgoin8FalUt/cYPGxYDm/1klvrkHjICMXHAa8ghnyP5n5uivV1FSoqREPsEiatp6KjOoG0fwO6/C3/oWsAecJ/lLpzk614TAw5O302gnfTZnDYJKsVlSUvJOlIKzpOQhcjyyOfmd1powDAHIsuyOz74fTCKtSimiKMprIoOA1Am2uwlvbPX59o0uV/YG7A9ShIKW79GINJVQISx0xymHw4TeKGNs8tpNNSmPEgIpb7dIcdKhXdEuRYCQYB1Ilw/zjM1FqimOS5o5DvoJb9guRlqcdESB5qnFGs24ysKCw1rDOEmmtZyPDw6MwVmDMea2idJk/6cIhFRIpZFa4SmJFPfupfnAt9nlx9QZi3NgRW7YJB/pdj0inMM5CyYjswZjLM46zO23Zyha+SgPoTRaSxQO4bL8+5nFWIFBIrVGaolS+WewFmcN1lksEoRCCImSAvFhO+YPgDt6B0uJKmoNVSVkuF5nW1oOlgOCt+r4t8aIscX4goV/fERED0ipXxqSfsKSzIiqWcfVJ0VYTcSmzQx6ZwD//A34W2+Qi815+K9WOHy+gwu9u6bRlmKzpKTkXikFZ0nJI2Qi/LTWRFE0jXA+rPUqpYjCkCAMUdpjODbs9BMu7w+4tN1nZ5gghWO+6rPeiliq+7QiH+Ms+/2EzcMh1w9G7PfGDDOmqbQnFz7d+TsJTPZUFC62DtBCkDpLklm2ugaJw1eCdhzQjH2q7Qq1ep0kSRgOR8giMvzYDHqsxSZ9xv0uw0Gf3jhjnDkSOytUBM4JpArxK1WCRo1aNSBWEv9RCA1nwaRkwy7JcEySQBpUUGGMH/pUtPhQiU5nM1wyJB0cMRgO6I9ThokjdflESX4pF7aeQiK8AK/SJKwW51EYdDbA9g/pHg3pjxVjImSjSrUWUYk9QuGQ2RA7GjAaDRkQYnSMCmKqviTQAvVhOeAPmIkYmgqlMCRpZAw1HLV97FNV7DDBWEuqBaONmLP/wy08dol++4jmp0bsf0whZT7p8qSJqmm7KudQ3TG8ugN/+3VykyANv3qa/U8tMVit5qK9OI4n9dl8ko5LSUnJ+0cpOEtKHjETwSmlfKgmOBPB6RcDCYNgmBgOewm7R2O2jkaMjWWh7nGmHfL8WoPT7Qrtio+1jlvdEZe2e0hxQJIaBqOMzFo8kUdnJmZBlvzlcLlosWAmqbbk7ojT7QEoenYmzjJODTs9R7AjmascsNSq0qmGNJohrUaDOAgxgOd5j0eU0zkwKaa7Q2/rCttbW1w/GLM/doUgLz5nBM5JtF8nXlyhsbHO8mqLhdinIQX+Ax3Duak2ysnPz+z7jgxjeoz3r9PdOWC/ZxlU1/DbCzTmPLxYEEj4cIwtHWRjTG+H4dZb3NrZYfNwwObAMU4lWRGVxxmctQjloeIW0eI52quatSBgSabIwR7pziW239rlxpHPkejgra+ydFqxHGp8ZXGjA8Z7mxzubbNp24ziJaKGz2rTR0oos8Xvn9kSBWtzYzFjDNaYPPlCKUaRT5amGGswwrH3kmbhlxJa/2Qfsl2q3z5i+O9YZE3eITifBHE1KzYN5Km0//oKvPYm4ODcGtv/6UWGy1XwPXQxoXc8svl+lnyUlJQ8eZSCs6TkEXPSYOb9FpyTGlEpJUprEBKTWUapYZQakjRPBZXC0Qg0G3MxH1mqsdGuUAs9hHPMVX0CT3IwGLN1MGKbvGenVLfVjZhGg/L0WUduGiQmtUM4rHAI93bjHy0EVkky5zgcJlzZ6XJ9r8updoWVRkQYRmg/F7+PjeDE4UyK7e/S373KrRvXuXwgOLARRgbEnkALkNbgkoyxOWI4HtFNM3ppSn+hyUojYi7U+LzXG7QDZyBLSJMxw8QxMhInfcLIJwwUvhS56HcGa0Yk+1sc3rjJ9qFlvxUT+w1czTFXdIZ4HI7w+44DsjHZYI/h7pvs3Nzl+oHh+ihG6ABPKwLpEM7inEVIi9QpOjNkWZ46bfO+HPm1kCSYESQyxaV2+hnnLIyOSA9ucHTjKjfdmF4toirbNGOPqi9yH5uS+2ZWdHqeN80amfw7SALSJCExRd/j1YDRSwn8kx6wD39nk/mXbtD/uSouEk/cTIshD9X71w/h9y7BX38FkPDMMqPfOMdoPoJA492l12YpNktKSu6XUnCWlDwmPEzBNJtSK4piscw5xpllnFnSwnFWS0Goc9fY+WpApxIQ+/koWElBf5xSDz0CLUEWjrRWoIpdsUWEUxQOtbm4yd+b7c9pRf45SW42JIoWKloKrLUMRhm3jobsdoccjZI8qun7aPLB+3Q/HjXO4ZzBjAek/R6D4Ygj2yAJ5gjjGvM1RahBmQQ37pMdHtBPdundtAyNJUszLB2EqtDyJIr3mMbqEkgPSQ4O2Dk07Aw9TNhgfqHGvI7QsogqOwc2I0t6jHuHDA4MXX+IG2cMDdPaxQ8LuVAckPUOGAwG9LKIod+iWa/Rij0aHghywYnUyLBO1KxQr2giBVoqpBehKm3itmIu9PBkA68R0ggUgcivcbIx2bDHuLdH1zXoqTGMLElR81ty/8y6bh///VRwpilp8TLGkMaW5ILB/gdD5G8fAnvw2WuEL62SRQFodUfN/QcZB4jUIPeG8Lm34L97g0m/Tfurq+y/NI+Ni7rNmVTa43WbJSUlJfdDKThLSh4jHtaDXAhRePvk6ZXW5YIzs47U2jxSCcVLoIVAyfwlhcABsvidloLJ2E5MWqBYgZiNZlpgGtN002imKJxscQ5Z2PNTuNwK8gBPZh1Dl3E0gKPRmHGa5d+VKneRPNZq5tGSR7awGVYIXFCBYJXa3BmW5ud5el5T8cCzQ9xon/H1N7h2bZtLt66x3U1JjcB4IUEtIlB5r9L3dJO2Y1x6QLJ7jVvXU944iBg3IAsCqrWAqienqbbCTlyEcwMoawvR8zgc1odKcQ6NxVmL1RGiuki1cZG15TbrcwGLkUCIyYSJBO2hgxgvDIkV+FIjohaeCunEY6qZwDgfopAg8gkFeNaRuskkTS5ejXN5s473v4z7iea46JzcH7TW+L5PlmVkWUaapvnPLMOuw+GPG1q/fQ3owe9cR/3yHrQq2CiY/h1MJus+iOTXmkMejhDf24b/4tuwdxlw8F+eYu+HlxgvVO6o25wIzrJms6Sk5L1QCs6SkseA2bTah/FAf1s/0OI/phCMk1xYIxzjLONgkLDfT2jFPloJcNAdpex2x+wNE0aZyfu5TQZlIk/ZmtRqOuGQ1k0jdlkhNp0roppw+78iX/0kKiqdy6OvxpKlNncMzY/aYzsAckIgtIcMKnhem7i9QHN5nsWOIlagSBGmThqkOJsy7N1gcLjDaK/F3m6H/aU55rXEee/BqceRp3XaBDvu0e+O2d+3DFXKamrJ3vYFgROycM4VKKmmkwz6ycsqfHckCKkQfoivm8RzC8wtt1lsBsyHx06LKByHpUJJEEIihI8LNKFXIbACKwQUx1RMi2rzQk2hPKRTaClRhYuz+7Ad7wfMrOg8XtfpeR5pmqK1Jk1TVJbhWoLheUPrZ1bhX1wCbsG/vIZab5DNV6btUR7H+829MOn3zChDfH8H/v53Ye8S4GB9ncNPLzJaqqKkwlPeiXWbH9R9LykpefSUgrOk5DFgMhh4GGZBk/VN2gZorbizOi93mpUCjHEcJhnXj4a8ud1DCkFvnEcYbx4OeeNWj1sHQwaj/He5oLxdwCmLViCT3bJFnuCkZhNRRHQmkVFXtGOf1nlOop4WrJwGn040wX3McBMRojRS+2gd4AeKQIESeYWm7izRONhnYWuX/d6YnXGf9KhP92DIQGYMI0EmJU5qlJJ4Mm9RcueKitROY8iMw9h84kCQIdIuWe+IXn9Af5AwHAlGgyN63QoHR4ooDfA8jRYW5Zi2k5Da5VFrZyEZkw4yBBZhISv62kilUZ6XtwGZpOa+/SgUojfDpBlZZkise1tbEas0UnlorQiUzEXbHcvIW7ZYY/IaSamQCHAWYVKsMWTWkTmBEwIpNcrTaJ2LuB/MYVcUQlKC0kjl43sBXhAQBCcsr8gauL3JDqzJI8VC5W62spgkwc0sIN9mV2Qb3H1MXxREZ0kRobOkNv/7cE4AAikVUmuU76FVnpnwYZYIswJpIpxm+xwrpfLfJwkJkM1XSX9qGe9f7AE34H+9Cp9YQJ1tYedipFAfyOM5yShxgL52CH9yDX7zdSAFFsn+ygb9U3VcNW97oj1dOtKWlJQ8UErBWVLyiHHO5f0aizSvicHF+/Vwnww+Jq64URSCKm4F4rb0FBJs6ugNM67tj4i9Q/rjjPmaj3GOzYMhl7f7XNsf0h2m2CINFyjcaYs6tUkdJ2BFnro5iaCKInXQMNOX1DmEnUm7dRbpHNK+/2ZKD5qi0x1YhzNgncCSGyLhAkTYJKy3aDZi5vbG9EVKfzRkuHdIF0cUCpAeLqgSRhGNUOBJcafotCmkQ7LRkO7QMUggcRaPISLZIe1uc2uvy2EvIxlnmN4WB7ccN/SYpFYnrlaoR5YaDulykSIRCOVyI6HeIb1BF5GOSRJL3ymE9PGiClG9RrUaEfsKX50gOp2FbIQbH9E/6nM0SDgaG0yRYi0QOKGwfgUVVqlUq7RjTcVX6MnF5BzOpthRn2Q4YpwZUh3nItBmyGGXdNhnMDYMjMQIDxXGhLUqtXqFONAEWuL9IOdPFNtp87RXayaTJ8edfo9/MW+rkg17DFLLWIYYr0LgB8Q+hNM/lPvZGAsuIR0eMOz3OeqO6SaG1JC32HEK6Yd4UYVKq04l9ok9xXsJkj8JzN5HJ6JpNsNDyjyt3AhI646DlzrM//sL8I8OgE34wib6xUXGjTD/7gdMdE7uo9Za3DiFr92Ev38Z2ALa8Bvr7HxmBdMMUF5Rt3ksulmKzZKSkvdKKThLSh4hQgiMMSRJQr/fZzgckqbp9L338pC/mzibDD601sRRhKBJEMUIkccnLWCxGBzGOQZJxs29IeNxxrWdARVfYpzlYGw46CUc9sf0kzzC6UQevZoKyIkFP7f/34qJqCzEtrgtNl0hNidIlxvW5ANCN3W5/SAwSQnG5GIFe9wIRoDQKO2hA4/AU7mYzBLMwRbd/j6JzNi3VWius9DucHa+SjWcaZviLCQ96N1iuLvJ1W3BZl8yMFD39/HSHYbdXW5uDrl54OgOFYz2uZ7d4mCng19fZmFlhVMLIecaIJQsXgYnErLBPt1kl62j6wyPDtkfpGynHkJVCJrzNFZXWTq9zGIrpqMUEccik9kI098m2bnCzWu3uLLb50Y3I82K3qsCjPRJww5+c4n24gofWa2z3Ayp+5NorsGaAeOjm3Q3b7F/NGY/auPCKp5JCPdv0N/bZq83YmesSG2I12jTWF5h/tw6S+0qHSWp/qCmr9Oem3YaiX9XsgTTu8Vg5wqbhwm7ssMoXqM912a5qfFC0Pf1p21xdowY7TPausTW5hZv3TriVtcySMEZgbIaHTeI2wu0zp5mabnJYj2kVUwEfJjlwvH76PF/a63xrcV6huFqneFPrxJ9sQ+XX4Pf3IRPLsL5FjYO89rdE5bxuJLfYwVykKIv7cFvvgrfugFU4a88xf7PnmLUiW9HNT0P7XllKm1JSckDpRScJSUPkZMMJ5xzpGnKYDCg2+0yHo+nEcgHLThnZ7s9z8NkGXElxgtCnFTgwBpHYixJakkyg0kFNrMcDRKuqbwZvXWWxFrGJq+ptOZ2RHLS/sTh8qiSzEWmooh4kotIVYjNSfRzGtEkT6md9OmEfHninkb6jyfC5qnCzO5C7tpUpN4KlMpT/DwJgRvCYJfBcMDmuEYyqmN0jYVWTGwFblIHKDJIuyRHt+jdvMytnYjNUYWBHyLihNgVpijGYEwheE2GTVPScYpNM8aZwdg8Iq3JTZhcMiI92GWcGawWMB6SDccMRiPGA0OW7NPr9ekaSxKGOCUJVIynBZ7IHW+dHZJ1dxlsXWf3yhWu7na5McjYSxXSCjQWJSyZGDEaGfrDjPHIEItlcC1MM6LuCbRwCJtihocMdq+zf/OQG2KPcbWN1or6uI8bjBiMhowGhtFgF9fr0ktS+lGMVQqtJKGv8pLJ+zlvblKPKUErlBZFjea7fNGk2OER470bHOyM2JKObnMOE7ZoVKE1yTp/VxlYtLYxQ7LBPuPdTbaub3Hj1h5b3RGHqSTLQBmHTA3peEiSZQxUjBESh8Br+MRCfugjnRNOcrHV1mKVwit6dPYutAh/bQXxNzeBA/jsVfxPrZKuSkw1nBquPc64mQk+Rinq8gH8X6/C718DLPzkaY5+bJn+eh2lFZ728LRXRjZLSkreF0rBWVLyiJkIwDRNGY/HjEajByI4j60k/wFTF1JnLYnvY02eJ6goBlESFAJPgilaphhrSbLCxdbZqfhTIn8hwbPTJEkA7GQ47UBP6s9gagRkRJ4ma2UeEZ2m0sq8j+HESMgVzrXug9YnYsb1xck8VfmO0+km9Y0GYywGiVIaP/CJQ0s4MAzSIeNDQVcOqDbHDFKDcYWjjHA4l2HGfUZHexxt79LrthnoGllUw6sLKgDKMhwc0U8sQzxcGFNptmi0W0S1KnP1gEqk8ZQEIbHGYAYDRqMdkjEk9RoqrBP7IbXKAN3tMdjfoz/OGGxptqotwjCkGQXUqgrlLDIbwXCH0dZ1tq/e4OqVAzaNYhjUCZoxFSGJnEP//+y9e6xsWX7X91mP/ax3nTqv++zumR7P2GPGL4wtYFBiGwcbxU5irDiJLRIpQLBIJCSHJA5xIDiKQyyFWCTGRChhImERK1GAEMdgERSQZcd4DB56Zjwz3dN9+z7Pveecelftvdda+WPtXbXPuef2Pd3Tfe8d2N9W9alTZz/W3rWr7vru7/f3/VFgzJrZPGO5fkh2P+deIEEorNIE3YB26HBYMCvy+Zj5w/s8WsyY9QqC7oC8ndLpSeJ0xWixYHX0gFl2wuJEcvT2iDBOaMUhAy29lfnSH6nyerXl7ZOqFtUoirxuqS1rPTcPEM7g8hVmMWYxWzKVfSZBRje33gJ76SFYsCvc4hHZ8X0e3r7L2w8WHC0Csjil0wkJhECbHLWeYVcF62zM5O49joIAGSiSVp9d7dOlm3/wt6iHtPladk1hDMpaVgdtxt88on+wC/cewv9+B/H9d9FxSJGGoNQLnVZbd4zgLMGDKfx/t+HPfhaYAkMWP3STyYcH2E6ELo+/Ipt1wtmgQYMG7weaf38aNHgBUJ/0aK3fN8LpQ0jKdMXytYrgRkFAEgaESqOkl23iQNCONINWwF4nIs+8tVYpcGVvTuNsqfxsRDqU2JLJah+5c5jcYnJLZnx4Sl6STEqCWSXSSredhFcqp6/9tJs6UL/9r+h0PFN4XihAegUTVScpvrbT2hVFtmK9zFkXApuERO0WvR3NIBkTWkP71LFeZ9j1moUx5C7wlj5nwWbkywWz8ZLJSY4NIpLBiPCVlzjsW/blMdHsbfr6Lsic7DQm7+9z7cP7vHxtyF4rJY5jksAQuxULCaYwFLMlq+Uxq1EH27+KuHaFnUHAjlgQje8xfutz3Lk75o3xQ5Z3jjjudDkedNhNFREGl88wx7cY33qLu29NeOOBZn31Gu2XDjm8scN+IGkDymW49SnTu7c4uvOAt+++zfHdkKWNKHRKN1JEumq9o5BO4FY5q0cnLG2PvLVPd/QS3YOYvTCjMz9m9fZr3Ll9xJsnY+7de8BJu8txp8WiGxLxpHCjcyjfOyfAlfWYZjFlMYmZq4JZ4kO1HAKEQgqFinzokVYCVdZ4SgHKCTb/ucvw3dp14gxkM8zJXea3b3P71im31wNW3V0GV3d5abdFL5LEdoVcHrF6cI+Hd8d87u37zO9o7sWaZNQibglCqf65t9aex6aG07lNKxBbFKzSkNlLPTr/3nXUT8yAY/jpzyOvdrGHHawUSOFDzF40UuZqNxetdbisgH90F/6HzwGfBa7Bf3CV49+5h22HKCk3qbR1stkQzgYNGryfaAhngwbPEBfZaavwnna7jVKKoije893zusoiz6kuEs8QfccSh1aSMI5J0gSlFQJBLwn40F4bnONKPyE3xvfiFKLWP7PcmcW3NJHuzCRWCTDGsswND8ZL7p+uOJosma1zZOHAWt82hVLJdNvaTYu3n25IpvDqp6rqIasYW3/2uJxW9JwnTZXqVY5XOIc1OS6fsz66xcnte9y9t+D+IqUYtOl2O3R3YzrLKTrLGKkTzHpBMF8wWxmmzhEKS+JynJmxWiyYjg2nkxS736U17DHc77DTgh4WrWdk3QmdNCNap5AO6PZ2GA367KWht/KyQqwBZ7GAUQFEHXR3RGe0z+7hHgcdzVCtCHqKjpoAkvky4/5shRkvWawy1jYkkyvkYsz89iMe3V0wnkcUgwO6N17i8MYeL+21GEpJKEC4Amfb9IOCtiqQ6wdk4wWrhyeMu11O90LSVNIpzyFSQRgikpCgMyTd2WPncI/DUchuVJBmESYeI4Ujy+bMJyvkZMFqvmbmLCkC/VTSWabwCulV6fWMYnmH6Uzw5WmXSarphd4OK4oQoRLCdo/O4ZDBXodhGhJLgRASJXyrFKnKJF9Rv+nwhH1TJRwXWLfCrE6Z3T/m4Z0pxycKs7tL+/Aahzd2OOwE9JRAUoBJySOvMJ88fMD91THFuMvD00P6KiBRtbCiC+BToy9Dh//ZQd1eu03t1gTOYdKQybfsMfjdD+AfLuCfvAF/d594r836Y7v++0jwwpJO5xxqvET8xl34S6/Br98CevCDN5h+8gpFO6rVbT4eEtSgQYMG7ycawtmgwXOGEIIwDBFCEMfxJrb/3f6jX7eISVmlMeLbSLiq/YhfdpPSqDRLp1ivLRaLtY5eEvDSbpudVrRNzN1MVLeETyDKDZbmV+lf1VKQGct0kZEEitxYpquMRZZ7slVO1Jx12ErxrKXaCne2HlS6bf2jo6rvtDhR+P1iLlQ+3UbZVV5uFOfbv3wwEPiUV2kdwuS49YJsPmExiRjHikKBdEvM4oTZ229z9+4J96eCueqTtHq0+i3avYQk7iMnE0b6mPViTraYMVvmjK0jBSKXQz5ltVgynQtOsg4EXTrtFrvdkE4gSGyECCKiQBNog1IapSN0FBMlEUmsUTicET7oyVhAQBSj0h3CnV16ox0Oei2GsaKtFSopCItdhuMVw7unTCc5crlmvc5YuYIkn8NszPG9KcfHsBAdooOr7Fzd53C3x247IKGyd1ogwMoRwi7ITpc8mhQcT2esT6ZM130WNiSlvP8gBDKI0d0+ye4+/d1d9nY67LQV3aAgSBxO7dKfLBgcOdrHBWa+IlutmVtH5iC5THhQ2WYEhA8+WmYsp3C0OGYRKo41CCegSFCySzI0jNIE2U/ppBAKfE9TIRFSIoUoH+9w3Wws2FWfzgJn52TzU06PTnl4f8HpLMbsa3SkCLTB5ZasEIDFCYkRGqMhEDNUHrKazZiMCyZtxyD29vXzx16v9XbGIhc5jFewKPwpSDR0I1wcQKDKwJxLfhi+ClBPq1VKobT2NZ1xwOJGj/537iH+4Rh4C/6rW/A1A3h5gI00UqkX6lxUrU8cwDJHvDWG5luJ9QAAIABJREFUX/gC/NJbwBq6N1h+9zUmHxkiSpIZBI+rm03tZoMGDd5vNISzQYPnjOruehBsGze82/Yf9UlTpWhaJOvcsMotWW5YG0vhfB3mxnaVg1tmUCmN1pFbR6QEQSs4N47yua2VJ1ae2LKvoECgSsIpBbTGmlhte0c655NvqxYn0p0LCypVTCc8u7SuYpmUhJTySYETBY41uNUF56siDBLnQpAxECMI+GBJp1eRnRBlguwCmz9gYTVH6xlvzhRJACpfkk2Pmd69y/FxzonoIQcHdHaHjAYp3TgilC1EktCLDaerKUUxYzpfc5wZOqGg63LEcsp6uWKSCU5Fn3bUIYkjBkoQCx8m43KDLbylGeuwxtfwmu2pLWt7HcJar+5FCVFvj2Rvl51hh51YkihQSKwMkK02UadDGi9JxpYsz8mznJVdk+UzzHzK8aOMh4uY1c6Q5MYe+3sdhi1PNlX9fBEg0h7haJfBwYLR7SnFeMV6OmO+zlgYTaZAWuut51FEGI+Id/cZjAbsp4q2FAQInNDQahN0e7RaS1KZsygyzDpnXjiywAdWPb1Fithe5GWPU5OvyaREO4ksHMIInBFoFSPXBXn5+Tqru7/bSXupuAGQYc2MbHbMo8mU++MlxytBuDwlnCge3T3GGn8snhtY8uUjlo/GTLMJKxuyXq/J54bV2lHY7Xtdt9dvPzsCOc/grTH8xn24NfV2hatt+PoR4moP109wantM/6yQkk3/WSnRWmOMQWnNqhcx/l379H9oCn/tFnAX/u8B8jtuIoZtXCxfmMRat72biAHC4yX843vwc/8UX7e5w/xnvpbTT+ySDxNCoTZkswkKatCgwQeNhnA2aPACoK5OPg1nyZWvD6zbZx2QW8dsXfBokfFolvFonjFd5yzXhrzwKqN1zquMzpYBNq7sALGtl7S1WktXe92VfytHtPlZ2XaN9e1U7h/PeTBesVgXWFNKo7IKYvGK5pnazYpswiY2yG49tIAA6XDkOB5huY/Ij309Y/X36qdQOKERtMD1QQ6BDhCD0Lx7MnA5CLyyJa1BrGbYScH0dMr8KGGRCELllaRibcnzgDDdpXP9CgfXrrB3ZchuJ6YlJJoEEcW0B4okzziRC2bzJdOZZa3AscLNT1msF5wqwaTfpdVpk8QRHSkI3NbCW9mWLQ6EPUc0/NmmalFT1hMHcUwYh4ShQktRugereFUfLiW1wcoMY3OyvKDI1pj5nGw6Y7wwjEVIHiUkrZAwkITyfIuO6sZAiJAxKg2JA0tMRrFeU2SGlXHkCsJyDW9Bj1BpSBhrlD5nU90UBhsQGcZmrPOCde7IYocpzc1PfvfLMCfvCYCwje516IY3GO302GsHDKJS4bcBQiYEaYfOfpduHBADykFRJjW/G2yEVQfS5JAtMPMxs9WcR9mM+8sF4W3DbHaHSaIITWVn98dsiwXFYkJ2umbdkigZ0Jalnff8vmrkWM4yxO0J/F+vw19/E371HrAoB5PCR0fwIzcR/8JNxNfvYWONkNt+ll/tqIcHVS2jrLVoZ1le6xD/vn3iv3YDOIafv0vwA3cw334dGyn/PfOcz8O2btN/n4tlDr/6NvzFzwEnwC78qZc5/oYRrhMRIDe9Nhuy2aBBg2eBhnA2aPAC4d1OXDa1muVkoTCeaJ4sc+5O1tydrrg3XXEyyZgscxaZIcssFrdpZWKwngAKVybIltumquuq7K7WJ89aMM4Tl4pserJYKpDCq5iFscyWBZNFxiIryJzFCkdFXeptTqo2KNX2DH48laW22r4VVdFUjhMn4O6AeRusYTvq8iEkQgQg2mD7IMc4sYuQQxAd+ADVzs176BzOFlhyXKHJcwHGAQojY2R3QHv3gCs3rnDtSp9hJ6Ydaj8yGRLEKa1BRLIqkFnGYjZnNlmzCGClF7jxhOVqTSYSTL9L2G2RRiGxA1WzQTsAu71Z8E40SAhP6rTyD7VpGHl2LVd2a7WiwDqDzQ1FnmPXK8wqY5k7FkLhtMaFfjtP/gdHIaSGQKOVQ1EgTYHNnG/nAthSSRcCX2unJIGSKHGBxdM5wGDJsdZgCkueQ/GUY68fnVf9BegYFeyQDG5ycGWH64OQvcRfxcJ6q7bQIUESEAbKK474PrPvBa5632yByFa41Zp1bpgDCyVRwuBcjsstRSlTO/CXvRWgUnQ/IurtE4/69NoBvUAQiXPKZvlTHc3htSP426/Df/MF4A4wAYpy6QA+dx/+kxP4dyfwwx9Ffs0Is5P6wB3+2ajrPE86lVZooyi6MbOPDYl/7GX482tgAr/wOmq/jWuHuHZ8ifY2Hzwc/kaWmK7Rn74Lf/2LZd1mAj98hZNPXiEfJmih0EqdsdI2dZsNGjT4oNEQzgYNXgCcqaO6pJ22mh9UE4XcOiarnLunK770cM6XHs25N1nxcJYxWRQs1gVZVrA2tlQ2y56ceKXRluE8Vc9LUdpYK+XRslU1TT3Eh+02pHW40vvqnKNwtrTp2q1CWmtvIpyv/az2gQUjveXWlKpq1TLFBwoJPyZRAHOwjxDmHtiMStUst7z9XURAG8QjUBNvwxUgPjDSWZ5XKXFhhEq7xMGIJO2w35GE2qGEwooU1dplsDfi8GDAfi8k0TUlSgXoOCEddmlNC9TYsp7MmI3nzGKYhXPceMFykWNEh2jQJe2mREmAFlV7muouAGXy6iUPQTjKYF2kFf5C2AzM4az14U/O4LAYVxLDwuIKg8sKCgu5kDglL7lfgd0EXHl7r7W+d2h1O8EnWPma4ioleVNGvGVTZesfg8VSOAvWYfyPyxHOWjIyKkRGHcLuLr29HXaHEXvxUyiGPfPj8tgI9K608hbYtaUwCiNaqLRFazRgNEwZhgplXG3F8vMlBFIF6O6IdLBHdxCxk3hLtCyPrSKbFAZ++yH8/Ofh534DqCub1WDWeEvmBP7yqb8O/q2PQSvExgFC+O8KzAVnVpT/U+VPwQtdAFqv5dRWY5TBRAGrK22O/uANdn/lBP7BHfj5L8Lv2kUftFh3IoKS9T9vlVPMcuQbJ/Cpz/naTcbwra8y/+5rTF4doJ0gqNVtNupmgwYNnhUawtmgwQuCd1O3ubkbLxVCSNbGk803H8357N0pr92d8vqjBeNlziozFMaTAltO4l1JLK3zpG/TB7N8LsvXN2OyjkJUCbXbYB9hwQnfOgUHyrBJs61IohPVsmdJtSgtnFWdpqtUTVvWsW0F1LPHvmEYpnzkUAUHubNTfO+uXAIzEMc4NwW39uvLqyAr0vl+TbRcmbxrcFLh4i4yfone8Cb7uyO+dqRINCjpybAIYsIoIolDYiXOUV+JCCN0f0jyKCM9tYSTCXbyiFlLchzNMKcZi7lE6YR+v02nExLHZdPPC8taS+v15Q/ngg2d/3tp6iyVdpQELZHKoQqLNa4WiPNOG7IlyQTjPPlEebv4YyE/bqvWbhS+6jDPDbfiONXj3cEHW7mSXFPeULlkoOtXBuFVeodCFDGhjOj2r3D11eu8cq3H1SQgvLA3rUAqidAROoxQoSZSgvD8NVEY5NEcfvlN+LnP45XNnO2dhbqy7YAV8AB+9jW42kLtJJhrXWTuYFnALHt8KEqAVtAOIZAQKmykceLstf7YqXwOsummfVSddGqNsZY8Dlhc65D/0HWC19Zw/Dr85JdgJ4UrXWwU+s/0M7kwtjjTbzO3yC8+gl/4PPxPvwUsgQMWf+RDTD46QEQBWmmCYEs4G2WzQYMGzwoN4WzQ4AVAVVNXpcK+EyrblxA+5MI4x3RdcOtkyWt3p7x2Z8pvP5hzf7pmXRhMuU1Z2vzqNtkqxAc88auIpIFtomz53MtDniRWY5auqhvyqqStkdRqXYcnm2cstFAqpmzJJqVOU0uurcirLdd6/Ow8iQxt6xc9CV2BE2XtqEQQgk6BAOT7XM9ZngMnBEKFEHQIe0M6OyOGu4qWAl0m+iLL9hvyggRTISGIod0nbM1oywndxRgxVqzjgONoRXYqma8iZD+l24votBRRUCOUj52e8v3k6bru06y3bLZULi8ETikIA2SoCJUhzHPyIvf1qoXbmDQfR2kTzQryXFCgsWGACiVa+X6W0uEto76geHNvwV7w1m1Jp9ge6Ht+i/11L4wtbejvdTuX25WHwEmJC7RPE1WKRGjWQULS6dEe7rDTCgjtxYclRGUpL+32VMuVnyfnYF0g7k7gHxwBD4GKMJ6/Mqq1LV7tfAB/+oswy1Gv9GBp4NEa7i4eH0ggoaVhP4VUQydA9iNohZAG0AqgHUE3gnaEDaW3p4rtnp81ziTWKm8/tVpTSBh/fIfRvzmGn7kDD2/DL7SJvm6H4iO72DTy5Q3PcrCb71/Qx3P4tdvwU58DxsAI/uRLnH58RNH3ra+01gQ6aBJpGzRo8MzREM4GDZ4zKqKZ5znGmCeSznqNkZAC0CAk68JwMl/zxkOvbn7haM698YpFbiiwvpegYBP+U3NYVhWYZ4icZGsFrD+nTI6VdvtrlRyrEBcGpJRNNjbPN8dc7btaoNyuEaDtloBX5NXgtrbKs2flwlfP7sUCpiSep4hcgYtxso8QLXAptb4v7y+ERCqN1CE6DAkjRaAguMz8TkhQES7uEqYt2sGUYXbKapyTBTEPIsl6EmJFmzBs0+0EdCJBXFonN/pURd6tQxSVun15e+1Tb4HU3narAggjVBKSRo5ktcSuZ2TjBfNlyjIOaJe1nGKzssPZNXa9IJutWBrJSsXYJCWKFLEWZ5W8Cwife6e3z4n3zFw2QbWUN1ws75pwXkSILwWhff1okpBEM1KVs8pWuLUhLyRGBkgl0GcOr/zMmO1nWlCrC3fbzxZZAfen8MsTvBr2tIFW3xgz4E34qQmQ4q+QDK+APnYQ+GlGjFdOA/j6EG7GsBfDXgLXOnCjA1c6yH7s1dAkhFjjdKnAPQe180xirVUE1rI8bLP85hEJ+8Bb8DfehN+9ix6kFFcULtCb9T9wVC4V628e8JkH8DffBG4DEfyhKzz8AzdY76WoMCzVzcfrNuvKboMGDRp8UGgIZ4MGzxnOOfI8Z7FYsF6vKQqvA52fAFRkM4kjtJI4HWCdY7rKuTte8aUHM14/WnB/vGKZGZ9MKf0k0eGQTnjOKGs1XGIrY1UkxdWeW7wyauQ2BEVIUHY773fCp1Wed+xZyRlVc3Mczp1RQrFlMBBs2qVUqEyzF0Oc+0ltBBf6Sb2d1p2ACcHu4eQIQR/OZae+X3D40CBXFD7kxSpPji61K4kTIagOYdymGwt21ITjxSmThy1Ogx7zZULa7rOXdhkmmk4gSThLQBDWB9CsC2xWYPMyqfXM9eXPj6ixI3mpaseK0DsQEqtCXNwhancZ9CWP5mPWE83szQFHvYh2pOl2QoSo/vFx4HJYjCkeHTF5cMzYpizaXcJ+nzSNSLUgMN7sWZVWPnlkW1X9RcLmBss7LVOGdlWfMydCpO4QdPr0esf0TidMp28zuTXkTtoiiQOuJYr2xnLs1XyXF+TzFcYKnNbIVohWCl17v621UBQwz/BksdKeL3NhGuAUX+up2RBJ4gvWt3gye8rm0/xbhX+g8IQ1BTpw0IXv6sO3HcAn9uDlIaIXbRJxnwUhqu+jTjpdecNmnTpmH+kT/uQrqB8/BY7hT/1jeLWPTALMXhvlHt/W+w9v3bcCxDpH3ZnAX/0s/OKX/Z+/91UmP/Ay01f6KK0Jy5CgOuFsyGaDBg2eJRrC2aDBM8T5FFohxEbdXC6XzOdz8jy/MK1WKUUYhgRS4OIY5yzLwnJ/uubWyZLbp0vGy5zM+BTa6sMtrdjYYOtBP4It6VN1Algt5ws8EdZbGn25XmWrZRMsRKmcsvn7dvJcHfOmt2aptlXjMFVdqNjabs/UJVWbfeJEWGzq+bbFfO7sw9V+OgOswE4R5gQnT0HuAGGpcr5PEy/hfKiOMRhpsIWjKE/pu9gIAoUjIYjbpP2I3o5hMZlyPC+YiohJ0Ef3uoS9DoNAk8paEqwApMRJjRQSbQrC1Zzl7ITptMPDSUBqYuJAEWHL98tuxl1sVOaLxuaDeZw1GGNwxvf1zJ0G3SXq7DA66DOd3yc7PeHhnS9z3NOEKkebDgMtiXBIW+DMjOzhPU7vHnP3JGMe76J7Q7oHAwZJSFtatPHBU9YajPU9Re0TaWX1flvfc9T4uuV3z0HLvqTWYkUZjPQuNuPPnYHCYHVZQ31+ZVtavq314y1rrA2ACP257O4y3H/EYjZjfvuYyb03eRSADDLsqMVOpElxKGEwWcZ6sWLxcIVVEUG3RRJr2kIiJMjKMu8szlp04Hurbm20lbH9nSCAIfT24Xt7EGjoBtCL/BfF+RtAmYWTDHLrn9sCxjkcGfhN45VWMrj3ED51BJ96G17twu/tw7cfIr9+D14d4rqR96K7D5YgVduWUvoUX6U2LhTrLPlOysm37jH6vhvwf9wCjuB//Dwy0LjfcxPbiZEfoChbORQsICdr5Gfuwy/8NvwvXwIcfOOHmP+hm8w+3EeE+oyyWa/bbMhmgwYNniUawtmgwXNA9Y98vXazKAqyLGO9Xp8hnNXzarLgygmXdbAsDA+ma+6crrg/yVjmBc46ZDl/9DbVcpZbhQPV6hs919uSvIoIOlyZPuk2lsCyonJjhbRVOiX42kjnPP8TZ0lj1XKlqvk0lapa7gfBhmwa4R5LsQU/HVactYo+kVgCW+9j/fVyck8BbgHmFNQY7AxUC1z4PgV+lGTHGZ+Uaiuy4TgfaPN0SKQLCOKUpN+iuxtyurQwzcldQTFIUMMOyaBFO9BEnAvYkRqCBB3FJOGU1E2ZTm8zvQdvhRnr7oBhu0U/sXQoe08640mWdZ4HcZH91vk2OSUJLKylsI7CSZxOCdtDeoeH7C/WZHZCfnLE+n7AfbkgW/UYKUniHNrlWDNl+eiIyfGK4yKBwYDuwZDdvQ6DSJOKHGVdOaaz59RU17CX4jdj26TUWl/DLG1JFi99/ku10BqsERvCWV6272L96hzZzZjr6zth/VhNgXVVKq8ry6UDpEoJOzv09/fJlwuW83vk8/vM7xTcVkvyeY/TKKCDQ4kck2csFwWzE0HY6tNTEbulVT2o9lneTLLCseooWt8UwW+EeKvs0yzqAr+lEcc/cZPZN+z576VA4SINQvhevGdWc4jcII0nvMI61MqgZxnhozX6zgLemMFvTeHXp34cXziBL9yCv3If/thV+K4biE/swUEbl4Tl99OzIZ0V4ax6c2ZpyOJGh/m/eoPW3Qx+7Q3422/AtRS136b4+D4u0v5sfUBjdNbijEV+/iH8zS/Bf/tb+Pdvj9UfeYXTT4woBgmB3PbbDIJgY6WV5T8QDdls0KDBs0JDOBs0eM6o7jbXH9XrdVT2Lh2GaB3gkKyygqP5mnuTFafzjML4mk3tQMgtyalqLSsrlqpmvRXpo6ZEslUanXOb6aN03hRXCOcttRVplL5diizdm55U1si0qIURVWEgNaKQS4cUW8X1/BRI4bdnhfAtVM4sUN3rr3l8NyTT1p7XyacBl4GbIewY3KTs06l5v1qkOGdhQ3gcBW4zjHdHOn34i4wT4n6P1t4O8fGCaCqICgWdFu3dFq2dhDhUmxsNm3VlCGEX3evT7Z6wE06Zjh9w+qUTHp4e80b/GlevHPLyfszLHYNwFlkSNrNpnXO+jrO8TmzZusR4RdRVpE4GiLRHevgye06h9NsE4j5vzd7k+PV73L8TkyBJnPU9JSnIcoWRHVT7gIPDA64c9tkfBHQDQUAZQOU8IXbWtzqpbNhnCaAfm7Al2TMl2aupQpdpVeKcw5mScFq5Jd+XljfLmy3OYvAE2Vm3sQP7mzj+gnCuwDmDdVWSdCl4IhAyRER9kr0bDB2YzJB/+QFvT055+MV7jO91uKU1qXNokWOdICMlE3vsqQFaBBwIiTpXx+qsIxeQjUJan0jhN+LtwKtr56KDQgIp8x9qc/Rqm9VeRKADtPTBV/476/F1nSjpbhmq428c+eW08TfGgkVB6+0p6d+7Az99C5+a+xn42S/Bz96Av/hN8B0vYz80KPt/ljfJPiDSVH0XV6TTWusJm9YUsePhtx2ilgXxry2BL8PPfRGut+BmlyJo+ZCe93lMm/rb3CIna/gbX4Sf+ifA68DL8B9f594nr+ASX7NZqZt1stkomw0aNHgeaAhngwbPEOeVzeo1rTVJkuCcI47jM+tUy4VhSJIkpGmCCgLWTrDIDONZxskiZ5IVniRwNgPHE8jtT+oE1G2XcZXyWU2sxdkxbFqn4M6EAW3qNIUnIRuVsrTaSrtx4vptiVpSJp6gyrJHorxgQi+BSEjSQBIpQSCBkqjgCq/IbdqhVFWoVU+VOtksF7H4dcS8VDhPcWoPIWK+8q9EAUKhwi5xd5e+WbMXdElaIZ1QoN5NL8w6tEYmKVG3TxDN0IEllm163Rb73YhhS6H1ebosQITIoEvY32N4uGC9WmFuG+5iOFktmc1XzFY5qzzCiQjdHpAMMrrOkA/bpGlAW/uQo7LK058jmaJbfdLRih2nWQ26xK2AjhAESKROoLNHeqiRYUzYCnD3T3CTjKPZjJXFk0bhcDrApQOi3hX6Bze4ejDgcBjTj6tWHgIhA2TcJe6N6OQrduMeqh3SDQTxhksJQIGMkEmPpD9ieLAmbPfRvYROIIglPD2TWCBUgEw6hL19ulIxUn0W3ZB2WI7pKXBKIaMWqrtLJ1sxlH2iXkw/loQKX+fn/HkKkh3S4YKBHRJ3UlqJ3FqjhQAdItMR6a5izykKJRH3HyKmOafLOZmV/oYPBU7HECtkv0M07NDqpLSkIhDenL39eDmcEqy7IeNvHdL75X14a4IP/jFcbBxWQAuj9nn4bQOWo9hvV/hacSnlhlBeeE7O/VaNJi9tC0UqyW62WX7/TdLfOSL5zE34c28BR8Bb8KMZ/IkT1I98LXxkhG2HiLJ+/FmQzkrhtNZijSGPNOOv20H9+Q8R/NgCGMOf/gx6J0F/x8sUrwxx6v1rO1K1snKFQb09hl96HX7y8/j62AP40Q9z/MlDXBKitD7Tb/N8SFBDNhs0aPCs0RDOBg2eM+qEs0pFrKMinEEQEEURURwjlcJkjkVmmK4KpqucZW68yii3CaBuQw7dOevslkRulMx67WRNhjP4QKBqfYknj8Jul5OVZbQkmxtLbSXp2a1l19amnkY4ZKmkyXPykS0tkwpBqBW9OKSdKKLQIUWGJAOXIyrCuVFxLiKbJQmtmLYovJXWjEFPgcxv4yudh5WtUFRnl1Yh2UtylB4RdBL6LeHJxnvch+9HqTEqwYYSSZdeJ2XUDhmEkoAL9FmhcSpBt3foHuQ4FKLVJc4UPdFhEXcZdWI6SeSvr94BbZuw17WkrR2CQUw/EoTO79/vIUAEXcKeoX8t5npXkbUGBMOUQSCJpEAKjdQtZFehAoWOJeuki3i4IJ4ZcuPfFx+2HCE6e8T9A0Z7u+wPIwaJJlHV2yGxKkK1R7T3BSbNCIIRapjSjiWxLEsHEQg0yDa6tUvnMOCqLFjFfeSoQyeStIS43D96QYxu7RDvf4jdjiRUfdadlJ2WItKXqHJUIaI9IB7eZBjlSNEnS1r0Wop2UJ1LBVGPaHCFHjFXGbBOesRdTTvwNyeqGxgibBF0JFLBHgaRdglPlxxnirUt65gxCB1DOiAYjtgfdeh3yv6u5wbs26UIXBgw/kiP4t8+YOfPzIFjYE4Z0cQmbAsNtHAMufPjh8w+1INWTKC3QTQXuTPO9xauW+3PPzdSkAeSdTdkdqVF8kqX0ShG/p8t+Dt3gFP4mS/6N/sHXkV+zQg7TD3p/AAtthXhrNtqjTEYYHXQ4uRb99n7kTH81S8DR/DH/yn89/6MmZsDRKCQj/U8eneo2kO5rEC9cQL/71vwo5/Bv18t+L4bjL/zKouX+8hAEyi9qdls+m02aNDgRUBDOBs0eI44X58ZRdGZSdr2uUBr5etxggCLYG1y5plhnhWsM0NRWAIpvEooPGGzpar5WBiPc9semOfIpiuDghCekErHxlrpSluuqNWGbsimq5ITy/6clV23tMlW+5UOirJe853Ipi/bcwRSksYBo27KoBXQjizKLcGsECbbKpyumhyfI5quRkBFSTwdIBbgZmBm4NYgnpyHe2kIgdAhundALxkQF5ahjJFBTBQo37LkPcz7hCtw2ZpiuWJZSBa6hYn6pJ2UfqjpqCcpdwIhNTLqEe+G6PaI9OqC/QwWTrNWCUma0EoCWrHwFrz2AWnmyHWCjCPCUtXz81Xfw9QFfeJ+yijeo5MJrA5RSUwYSkIo60gF6BjZGhFHCQetQzqHOddWlqJS3AEhNS5qESYt0jSlHQoiWTsWoZAqIewe0omGJLllKENElKBCSSxAl4TTq68donbE4NoO8chR6AARRehEEqtL/KMnBCJI0d192lEHbWAoQmyQkoaaUIunlvo6FaHTEclBi/3cMhAhRvtrIApEedNBItMBsU4Ydq+QiBCrYlQQEAe+hWX1HgK+RUp7j+71iGi4YLDIWRaQu4oaurJmN0anHdIkphUqdPnenbcDSykJhGR6pcPp7zvg+C9I9v+323T//hEwYduzSANtjr9zxNF373H6iT3CnS5pGBLH8aUJZ51kWms3z40xmzp2UdYmFhIm+wnLP3CD1jcMGf3+A/ix3waO4S/8I38w/xrwzYc+xZaz+32/UN9eZa2tSKdzjjwKWO23OP3Bl+mf5t7iymvwxy38LMjvi6Ef4yL9nse2aWNUGNSDOfzdN+Dffw34PLADP3SToz/6UZYHbVwrJCxttGEYPmalbdTNBg0aPC80hLNBg+eMum3rneCbdXvrWlZYlrlhvixYZcYneJak0FA2+agRPVGv07R2S8mqorJy+crmitiqmRVxdSXRFE74Or9KQa0IrfX7k87XqFWiohGehIJPw5Vum5Z5EdnEr0Y5wxiBAAAgAElEQVThHGtjiXVAL425sdflyjBikOZoN0YVE4RZlWSz8us+Qdnc1HSWBXJYTzLlAtwS4XIctjxPX8mETIBUiDAh0BHKQYxElBO+d59eWdb5rZbk4zGzo2Mmc8tKDXCdLkkakwSKyL0TCRIIob1KpmNk2iNy0HMCI/w1FSiJkiAiiQgd0kIsFGJTm3fWtipEhIoC0sARlh5uofyyZ49RgAgQukPUSdCpo23PJd8KgZAKlEYpQSDOk3I/flme08BCJPx5Pru/SoENkaEmVDE6ASskSImQPtDmTKjSk86Y1BCmKB2SOEGMwAnlraOXeAOFlLggRqqAJPbXgBPnzo+QiCBCqoAwsuhyGaRAiwveTyFABuioj9AdgralXXOKb86lkOW5lGi53U7dflonT0EQkPdSTr9uh2VLEn2yR3B3jlh7xd+0NNleTHatS36tSzhok6QJSZJsCGe9zcZ5QvM00umc84ph2YN4E7BkLUYL5vsp5pNXGP00qB9/HVa34L/7NJxkSAX2Gw9xcbD9rvuASGf1/Wyt3bZKcY4iskxvdgj+leu0VhZ+6beBW/DHCkQO/P6XKV4eIAJ9LvTs6fA18AKxzFC3TuHnPws/8VngHtCDP/wK43/5OouDFiL2yub59idVSFBDNBs0aPA80RDOBg1eELzz3Wc/SZRlcWZuHKvMMF0XZIXFmu2kbhOmQjXZq/62Tab1AmaldFZK4Nb2upkUls8dDkwZIFMua4RF2LIXnD2roNraugLfpsWLje4xO69lW7tZVWJWLTkipeilMVeGHT603+faUNFP5igeIovTknDWSWapcG4I5jmVs2w/4V+3YFfgVt6ae6k4mcvAq4pCus1xuXeobXsMzvnAIVNgbUFhc9Ynx0wfnvDg4YJxlkIrpTXo0GlFxFo9nUQJCUoipK/1PL/85rpTEoXv2epfv/j4vOooQUIIPuDmiZeul9i01Kh3+hdHbGnjRX8TQqOkv45k9dpFY0OUBL/qDbtlwJd+D4RACIUQcrsNnnQ+LtwAQp5b/6IxCIUoyb7iadeJ2NR0KuVKc/NTjuGxl7Y3t6SUG5t+0SrIpGOhBdO9GDtfQWFxEoRSiDREdVLCTkqcphuyGUXRY602LvoOu4h01h+VTXVjVzUGacoWOFIyjzTiW/fZ+49y+M9XwF341OtwPUVe72L22rjwvauIT0Ndua1SazetUqwlb0dMPzZE/OuOdG3h798G7sOf+DT81zn6u17GfHQXFyp/8+MS+3SV+2SRIz/7AP7OG/ATn8HXtGr4/peZfvcVpq8OsEnglc0L6jYbstmgQYMXAQ3hbNDgqwCVWRQ8rcqMZZEZluucvPCTcMXZ0J0zVllKNbHaXo1Uitpyj71eC//BuU0/Q+vslohS1YBuiaR0PrlW2K066txWDbXO21o3MSalMmvZKrRKSbpRxJVRh5cPurx6tc3hcEEnGaPsA2RxCnbJlmyWG3KctdG6MpEIV9punbfhUhJOu8Kn1trtyX5f8B6IDr53o8sX5Ispy9WcxWrJ6aP7PLw75eFYMpdt4m6XwU6bYRoQq3dBZt+J1NXGfbn56bs5vndL2J68nUtv41LH+gFv45Ln+z0R4vc8JLEhTlprwjDc2FqXwDrW5HniLa7SK3uRColKC22dbIZheIbUvBOxeZLSWRG3ishVhLMoCv8wBYW1zK62UZ+8ws5/6uDPnQKP4L98Hf6lm4h2iAkVmg8+RKjeKmWjyDrHcr9F1gno7KYMIgm/9GXgC/AfAj9RoH5Awn4HOiEEClfaBh4ba0U0M4OYZXDr1Lc++bOvAbeABL72Cif/zoeZvdTDdCK0kGdqNs8HBTVo0KDB80ZDOBs0eIFwPmSjQjVncMKLdHlpqZ3lBWvjW28I5+2rla21qv0RG2LoA4Cq/7Z22ZLQniObtlQtTe25p2uPty6BSp0UZRsWt1FaAZQTFA7AlRmY4kxrBLdRo3xLl1gr+i1vo/349RG/4+U+H97XDDszQvkQmd8Dewp2zVlTYU3dtA5ERTZrfTk3bVQKcDnYzD+cwdd4PucJWrHGTh8yv/cGRw/ucedkyu0ZHK9D1m6X4fAa+4d7XN9NGSWS5BI1hQ0awOP20CAIsNZ/cisCGoURSZ5jnUWwTWgNw5AwDH1wWRR9RX0dzxPOKpTHOYdSCmNMWUKgkLlEFgW5MCwOW4jfe8DwD34Y/tabwAP49H3kfhvTjbCCzbY+aGttNXbYfgMViWP84T7qj75K91oMf+VzwFvwZ07hV4/ghz8C33gA13qQaJwUZUhbbazWIhcF3B7Db96H//kL8Itv4QOCRvCHbzL5nutMX+lj0wBds0ZflErboEGDBi8CGsLZoMFzxnlrWZ10VhMGVfad00JjnSSzlqwwrHNDZqxXDH1UZdkCpVy/pjhWoT6iVCPr5LM+LamssBjfF9DvXxBrTaglWvlWCD65lm2CIp7TbXp4btTP7b6r4KCzhWfVYP1kLpSKThKy24959UqXj1xJ+fCBY793TKruoew9sCde3XQFZ7XfmqopagRT1AinKP/uTEk6M2CNT+a0vF+9ON8TyjEKW2DzNWa9JFuuWNsONt4h7hywc+2AK/sDrvRCWoEsA3MaNLgc6vXiSqmNSlkRzjzPKYrCK5w1Ra9OaOrE5r2G0ZwPFqq+AysCWyezUkpEUVCkgsWVNun3HBL/rWPgIfzmQ/jGfey1LiIMPnCFE7aktl7LWX2pGSmZfqgH3+PoBgL+0l1gBr/4RfjFCfzwHnzTCPFyD7HXgn4MsQbjYLaG+3P4wgn82gP41H080ZSQXIc/ecj4W/aYvtLDtgJ0EGxstGEYXtgCpUGDBg1eBDSEs0GD54zKRlaf6FWo299iIh/8IcBYR2Ys68L4cI3SuCrKSsSKMlX1kRUJ3IQH1eo5t2SUTVeRKgwIQGtBGgb045B2EtAKNYHywSblEWyOo+LK1QSsUjsRVX/P2rLlIIVl06YhDBRpEDLsxlwZRLy0H3JtWLDXntEJ76Ls20hzBGbu1UnnyqOtWWorBbOqyayrnLCt43SlyilycGug8Ms+Twjhax6DCJ12ibsZHddixIBOvEs8OOTaXp+DQUQvUe+5xUqDf75RJ53nSWVRFBuLbfX3Sm2sCE2d1Dwt7OxJ+7/otWqfUsoN4a0/rICsEzL5mgHxt3fgV47hl0/ge2a4dY4N9Jnygw8C55XOs+nfgHPkvZjTjw1ZjRJ2brZR/+td+PQd4JYnkZ/qwMeG8O09uN72NtvMwsMlfPoU/t4Rvr/mCkjh9xyQ/RvXefQtu2Q9n3qrlGrIZoMGDb5q0BDOBg2eI6pJVlEULJdL1us1RVFs7tJXjzD00SxSCqSWOOsw1mFMqYpad8ZOKyiVyprq5/Dpo9b51idQs9GW5NNauxEJpRREgaITB4xaMfu9iGE7op8GxKFCyW3ip3fLbq27VL9vfvUbrehc1eazWk8IidaSOFL005hRJ2K3J9lprWgFj4jkHZT9MqJ44HtnuqJcuazJrGo0q7YntqZwXmiprV4rSScZjuJ9DA76CqBCZGtEepgghzdoZYbrRJggIYhT0iggDWRDNht8RagHCFWkskpgrTst6iFD5+s13wvZvGgcTxpbnTg559A4rLHk/Qg+1oJfieGtGTxYwCrHtmOfev0MyFadqFfjq/8skpDJNcX6e2/S+YYd+r9+CP/Zl/AJs/fhswo+G8KZDroFnmTmQAe4Av/Fhzj9ll0mN9oUsQ9oUlJuyOZFNtqGbDZo0OBFQ0M4GzR4hqjbvSqyWRHO1WrFfD4ny7IzhFMp5dsPaEkYBgQy2Op5FWcqVUppvEC2oZgbMunJaNX70pcqVvZWHyhkqhoqKUi0pp+EHPZTrvQTDgcxOx1FP4U0csTKoSUb4rrlmedbItR/KytAXX0Zh3ACJATSEWpDJ1nSSuak8YooGBOYI2RxD2HugZmU9Za1oCBbEs0y4Ahhtr/7BTbHuSGbttYqZWOvLft5Pte5mk9HdUFMIDUi7hBbh0GCVKAUwSVbczRo8DRU3zHV91BFououi2q5Z9HL8fx2z1tXtbMYrRBRADsRnqytYZbhMoPFopzYfMc8i3GeVzqrvwshoIC8LZjc7JB3Qnp/OSV87Tp8egz/zxxPLtds87kVsAcfbsO/2Cf75h0mHxuwHCaYxJPKp9VsNmSzQYMGLyIawtmgwXNA3T5W1W4WRUGWZRvCCWwCO7T2QRqu7KHpV/QTCytKsmlLAmgFVlbJsZWSyZnfqz6bzjmcZdOiRALtULPbibkxavHqQYeXRjH7O5pOlJGGGZFcE8gCIezGovtEbMo1L1IOzxSbooRDC0sU5AR6iZIzhDtF2FOEGUMxLm20lfl3eyyb3pobolnVcp5TNze/mxrR9OsK95RjeVYoW3Ig1Tu3vWjQ4CtEnZyct7RetNz5n89ibPX+l4HVGGVwWkGq8QRtDVmBNcbfNOPsjb1nNT6t9YXKbOEsRSCZpSHL3RbR7xgRf8eC1g/O0G/O4M4KZoUXOQcBXE9Zvtpjfq3NYjfGxBqkRAmJLm3PVRJtFdxUqawN2WzQoMGLioZwNmjwnFGfoFSTh/rEb3v3WpY1nD6VVAoQatsKpWoSLl2ZEFvxK9hwLQeIGtk0m2AfT1jDULHXTXj1oMvHb/b42isJ13dh2F4j5QTJFGkXSLtm01rEH8Vjx+XOue225ZHunAJJyYgN0uUIO4N8inBTsPMyRbbYqo9C1BTOykpr2BDQMy1Rzimb9fUqadhSkvcPuvqrQYMXE8+SSL5b1K2rwlqkUjgt/Rdgre+us75W2yr39L607+PYgMfU37r9WJU1sUYYiliQxwnTvZhHHx2gjB+7T/T2VmArBVYJnPTOD+0kSqrHgpsaZbNBgwZfTWgIZ4MGzxD1eqS6jS0IAtI0RSm1qeEENpOWsOyBp3WAlAIlBYEUBErgb25X9llAbi22VSqtTwRy2wTZMiTIOFDWz92iQDJsR7x60OEbXurz8Rsph4MFvfSEUB6BGyPtzAfsuKKmCDouImrC1H87U7TJhvCVL/rkXINwxm/fLn3Lk01/TFcTNesksiKN5wjomZrN+v4cYM6+XjF3oS48jgYNGjwfnLeuKuXrF61SoDVltToUnmzW2608jzHWU3urMUspN31FZdm30zmLk96dAmIbtlZyaCkkolxX1wKb6kSzIZsNGjT4akJDOBs0eM4QQqC1Jk3TM33xqr9Vf4+jcGPbCqQgCASRluiyRYnBq5fSCqRwmyTazbYqbiZKSlapnM6RSEk/CXlpp8VHDtp8zZWQG7sFneiYUN5GmNsIMwW79qRwg/rk7kmTnrqyyEZ19Ns5b3Wttyup7K7lNoQ4t63zZPO8dfYJj0r1rLbtBLgAhPYFsA0aNHhhUFdffZq1BKUgVnhLrYGsLDdwblM+8DzGCFuLbb3uteorWqWQV48qZK0arqwdZ1VO8aSE4IZsNmjQ4KsJDeFs0OA5oyKUlZJ5frK0nXwolNI4IdFSEmpJFEqUAiv9JEsZgRPO3zl32x6cVJOwcyqnMP73KNLs9lJePejykcOYGyNDvzVGujvI/BYiuwd2WZJEwTv3qjzbLuVxhZEy4Oec9fUMMaxvq05Uq9AfztZr1rdVVznr+z+zDYun6JTqZghOg5ONyNmgwQsKiUAgQEkIFP57yPqWIqWTw8lnSzYrPEnprBROa+0mCXhDON1ZVfa8JbcimE8img3ZbNCgwVcLGsLZoMFzxvnwiYuwmWhIP8mItKQdajqhJpISDVhnsVIghfB3+WvrG2H93fNKXbS+J6dxDqkEnTTk2k6Lj1ztcG1k6CUnKHsLWdxG5MelsgleUbhMrWNls32Hyd95XsoFv1tXFn+WJPNMO5N6jWatTtOveJbEOrdVTKsHsiSbAcgQJxWiUTgbNHihIUpHx/azLkHJp8WXPTNU4Uvnk32dcxcSzovWv6gVTaNqNmjQ4KsZDeFs0OAFwZMmEdsJRmktA0ItSUJFOwqItUSIbbtJW7vDL9nayzZdOWu1ThJHohS9JGS/F3N1GNJvj4n0cUk2H4GZl9ZcyeXJZv1n9VTUajgfX+Ts75WKac9aZuvtTzinap5RSS9Kpq2IZrWe9MqmiEBECKqasAYNGryI2HRUsg4WBt+3UkMsQUre8QbXM8T51lfVz6rNS5VMDo/bf88n3Z5XNBuy2aBBg69GNISzQYMXBJdNihQCAiVJA0U70oRlHae3yuKLNCXAtjVK6bDFbp67sixSEAeKfqIZtkKG7f+fvTdZjiTL0vS+O+msNsFggLvHkFOVdAspJBdckC/ADXd8B674EBSuuSYfgRuuu3ctXBS55YbNoboqMyPDB4w2Dzrfy4WqAQYEItKzyjPcK1M/EYTBDWaqBjWFxf31P+c/kijIEGIF9RyaLcLVgMKJo+D8KboZn0/vav/zY/cfjdBjmexD8uyxZLabqwnd+JPnjuZx26dJtEfBSetsPqTSnqTZCgMiABm0t+Lnyrbs6en5JyNA1Ra2FVABGkKNVV+WEPuxkTNHwXkcZfKS4Dzefo5xND09PT1/DnrB2dPzmflBKMZPOJ1Hh1FJ8LUi9DWBVnhSojox6IRrA4KwJ+KyS0IUrR61rnU8jZIkRjPwNUkgCVSNIkeyR9i8E5v8CWLzpX7Mk/LX7nGPbuNJWax49pxTVxN46mi+1LP5rJ/TPROgp32jUnViMwExAOmBU10wUU9PzxeLc4jKwq6i7cP2INY4Kb7I+oSX3M4jPxVu1LuZPT09f0n0grOn5zNzeuX7p35+DJGALmhICWKjiANN4Ck8JdrB587RuHbax0MYhXPYk/mbbYAQaCSBpwh8SWgcSlZIV4I9Lubg40poO2fz+ZzLH6TQ8vRn9ig0j6WzgDyWvZ6KTde6m+J0ey8J1M4RfSmlVnQOp3BgNagU5BjkCAh7h7On50tHCBAC0VjY1bSfUQYCjdPii5+k+6cIyF5s9vT0/CXRC86ens+Mc64dDN59nQrP0++P0fie52FMO48z9DRpaBiEhtBX7Ku669Fsncy2WtW16zTbzuVsulJbTRswpJXEKIlRDkmNEJ3YdA7XBRD9xKvnwdn8QT/lS8E9L7iex/sexGRzso3u67kwfb7d0+f9qBC1IOqu5Fi2glNPQZ2BiHrB2dPzLwRRWdhUQA0zQxMqnOoCv/4FCbVeVPb09Py10AvOnp6fkeclVQDWWqqq4nA4kGUZdd2WsR5LsI7P0Vrj+z5pGiNEhBSa0NOME49pYhiEmrKpyZq2p1EAqutXtPboarqH/k0r2rGTWrQlulI6hDgpdX3wCn5ivubzUtaXhOCD2LRPH3sMA3oeBCS6cSbHFKSHXsyX5myeluv+VLmtBWpwVVs6iwQ9Aj0DfdGW1v5ZPw6Pqv1xyPuXuNZ8HM8AIE5edU/P58U5h+s+v0TVwG3Xw/m3BhtpUI9tBT09PT09Xxa94Ozp+YwIIbDWUpYl+/2e7XZLWZZPkg2P3xtjCMMQcCip8Pw2OGiWBsyGIaNwz3JfUDcOZx2eOAoG9ygdLUgHFSfhQQJeHirwYwVqj2Wu4kmf5MeIvudlridlsA/C86T09klpLvxQYJ6Uz76YUkv3/OZR5AoJMgQ1at1NNQQMPz1b9J+AszhbYYucqigo6oaibosAHRKnDMoL8QOPyFN4PzUC1FloCpoypyxLispSNN3hEhqUQemAMDSERqHVHxOJDtfUUOVUeU5R1eS1o6Y9W4SQID2U8fB8j8DXeFIgP2Y97xzO1riqoG4aKieppUFrg1bd79nrgp5/BqJu4LoEarjwaCKD0+3fb39q9fT09Hx59IKzp+czcZpceHQ5y7Ikz/MnEfpHmqZBCPB9QxWFeJ5P4BnO05BXw5Dz1ONqpYCKxlpcI3GdhnKim7tJK0YdrsvpcY/C7EXRecrp404CgtxL4vKZ83kqOB089meeupqnj+epi3nc95P9NTwVlc8d1e5723TjVSygQISgh2CmregUcVdO+6mWqu2+XZ3TZFuy+S3r9YbVvmBVQeXACo/GROh0ymQy4nIUMw4l5kVR56DKqA4LiuUti/WO5aFmXQpqK3AiQHgJJhoznQ2YjiJGkUaKdmrqS6/PNSU221Gt71ktlqw2GavKkjuBRYE0oAdEwxHj8YDJecRAKPyPUYquwZUH6s0dm0PGrjHs9JgoHTKMJCO//R0/jzBwD6fgo3sregH8LwjnHCpv4O9rwMLYw4atw/lwYa1/Q3t6enq+KHrB2dPzmTgVk8dEwmOf5kult60AhbpuqOsGhyMwivPU5/Uk4mIcMrzfsT4I9hU01iJcOyTdStcFCllqHDUW5eRDP+exzPaPiU5xKgJPnUVxKgxPhOnD3MvnTii0Xt/RzTy6j88czifzNnnc3vMe0Rd7SJvuqU0rOmnaZFozAu+iLaeVI5A+n1xs2pqq2JAtr1j8/rd8uLrjenngpoYKSSV9ajNEnX3LmzcNjZXoacDAU2h1Ijq7US5NtiG7fcv8+7/n7c2SD9uGu0JRWYUVEcIbEwxf8U3xhkoKPC8mVBL5A9e0FeC23FGsb9h8/3s+vLviw2LLdW45OEGDwckI4V9w9uYNb9DooU8gJd7HJIHaGptvKOa/Y3G/5KqMuPF+yeyVz9fCkHgKz33CQ/7ROHAN1joa67CutVqVlCjZi85/CTjnEHWD2pQ8hJoNPZyv2zChPtm1p6en54ukF5w9PT8jzxdDRyfT8zzSNMUY89DD+RJKKXzfRxuDEO1A8MQ3vB5G/OuLIettgbOO9/d7dlVF2S3shaWb0+losFA7aumoraV2Dmsdtpvj6doXenyF3a19TKF9ydF8aRzKg1js+kKfiMWj+3j675O+zh/0gD5LvH1eyvsw+uTEOT3O7LRVeyt062h6X4P5V6C/Bjngk45DcRZrc+rtnPXtB27ff+D7t0tWe8hETDDwiWT7HhRVRr58y7op+G2dU5YXvDpLmCaG2AgEFpocyjWHm++5/v1b3v5hzofCstMRDGNSBLKw2GpDvcq5v65xxtIIxZuBz9BX+A82p8M1FTZfsr99z+Lqivfv59zuBHsxwKSSoRRtia4MEX7CMAmIfI0nJfIjj5FzFlflNJs52fyOVR5zF55jBjWToXu4fPDzygILVLhiR77LWO8qNrUPfkg6CBnFHoGSH1cy3POz8nBBDBC1Q+U15uYA1ICBgYczqr240ovNnp6eni+SXnD29Hxmjv2ZcRwTBAHW2p98rJQSz3itAHAOX0umic+vLlI2eYmzFusstyvIq6Z1NkU7tsQ14DlB0ZXYSk46F49i82Fnrsvv+aly2WdO48OGTsWme6yMhVZpHL934mTHp4tF9+K3PzRg3cs/sN32HCBMWzIrY/DfgPcb8H8D6lV7n/hUvZsOR4WtdmSLD8zfvefdhxVv9x42PCcZpbyeRvimQdQH8t2Sxc2Wzfaa+7eOwhpqFForfK3QooZqi1t9YH31jtvrNe9XPtvBiODijNnFiDMJZremWs1Zr1bMtz531z61SvClxFMST4k2/sfVuHpHvrrm/uo9H65WvN9rqugcP4mZDDxCDVLI9piZhDBNGYxCEiUxH1sG62jPwaagLguq0pDrmtLah8k3PzvOATWuWJGvF9x+yHiXD5CDMTNpCAKDUZ+8i7fnE+JozyuZ1XC952EkSmKwRnafJf38yp6enp4vkV5w9vR8ZqSUSCnR+uP/HKVs3U1nLUpKktDwzTShbmy7aBbgKcnmUJCXNVVj21JC1ZbWqkaghCDQCqMkWgn0k/LLkxJb5zrB8qxk9qEE1z27/3nSrWgXg+Jxew+ls8fnPSnJ7USqON4+2487uphdSS48PledlvjSze3ToBOQZ+D/DXh/C+aX3TiUT1lOa8Hm2HJNdnvL8sOCu7uGZXLB8NW3nH0z428vImKvQZZLyvU7buw/8vt3W357B1dNShBEjAcB40SibIXIN9T379jc3TLfwEpeoqffcvarS3717ZBXCvzdFfkt3H23oFiuubuLuXITzuOAYWRIfIVyFtEcqIsFu/kVN7cLrpaOlTdjMPsl56/P+NXUJzEOI7r3TCqEas8PpRTqTzlMEoSQSCkeb+Un1PZ/Mg5Hg6s3FJs75h+2/GFfoqYGORrxeuxIPtdL6/korHQI61rB+f7ocGpcYsBIJE+FZi86e3p6er4cesHZ0/MFIE76j35qofSYWtsuoa21SCHwlGQY+fxyNsBoRRoYZoOAq+WB+S5nd6goG0tjLZVrn6eEIDGGaeKRBgbfKJRsTsTlUdC5F8Qljz/7QWlt52zaTuwp0zpmpx839qS381QgvjS/Ex63/VCeeyJQHV3/58kcTks7a1MoUANQMzBfgfdrML8AeQ54fDpPy+EocfZAk63ZrQ5sN5LKxUQXl5x9M+Py9YRRogiEQwQC61Wo7ZLDfsFiU3E/X5OvxmzzlMIatCsg37Jf3LPblRTeGD36muFXX3NxMeJy6DG0oPwxvtqiijk3m4rd+sDerdh8PWTd+AwRRDZHHObU8w/cz+dcZ4qVN8affc3rN+d8dZEyiSWB4FlZaXc+/qkhP+54LrdiU8r2Asfx3HKOhxLup/tpeymf952642PFsYf0p3ou24260+0Li3NNW1JcFZR5zuFQIIuaom6oaf827MPf4AvbdK49u568brpybPFQcvxTr+v4XPd0A90mHv/2e6nUcvy8c851Y3QtKqvg9weODmeTGJxWH/0Z2tPT09Pz89MLzp6eL4yni9EfewyAw3a9ilJKfCUZRT5SCGJPM0kDrpZ77jcZm31JWTfUXa9mg31wOM/SkG+mIePE4OsMiUPYk75Ld3QqP7a3smkdTSnbBFg5BJXSCjz1+AucistT9/NHBe5LzurDwXj6eNcNGRW6DQYyM9CvQb8CMQYZfGK7zQEllHvcYcthV5FVHrUZMpiMOLziQbQAACAASURBVB9HTFKNrwQKECpAyiHh7JzRfc35hy3V9oDcHzhkJQcbYWwFVUa+O5A34IKE4OKc0SxlnPqkQmIUoHxUkhJOzhj4K9LaUu32FGVB3lgKLGGV0Wzuye+vWS0ztvICO3nD9M2MV2cR55Em0O2780mX6lKC0kipkE0J2YZKlmRVRVZZypruffKQJsCPApLQEBiFlrQBR1VGmWfklaUQHkIH+L5HZFpn/okrbxuwOVVRUZSWQwVgEeQouya/v+Nmvma521McFGpjWN0I3pkR+yQm9kOS0CP0FL7utu1qXJVj8z3brCQrG/KHNmuJEBrtBZgkIgo8AiPRT0Rzg7MlrirIDzn7rCIvG2oHwrZOstQeXhwRhD6eb/Bleymkl02PtDlgFnmo4O+OgjOgTg3O/NE5QD09PT09n5FecPb0fAGczt38mMe2tyCle+j5lFK2i13lk/iGUeRxOQxZ7Qu2h4q6sa3Y7Ho6pQAjFLFvGCeaaWrxdNFKQmfbGZvutGSVE2eRRyfzofT2KDZrQIEzoOK2dFWe41SMwNCW2D4TqnTbON4+HIbTGZy0AhLTbv+ogV/s4xS0dZ0aZAJyAvqsG4HyKZ3NE1wrEDnsKbKGzAY0foyfhqSRJlbiZK8KVIQejEiGW8bhnv0qw2YHyqLkYB2hs6imoapqaqERvo+XRkSxwdei+/B27baMjw5jArXHtw2qqWiahspZLJam3tOsFxzu7tluJVWa4k2mjKcJw1ASiRpqaDor84lb9E8+IF2XsOzeqGJPvVmz267Y7A7M9zWbAqzTOB3jhUPS8RmXlymTQUBqBNJWNIc1xeKWu13JSqTU4YTpeMwsMaSn6bKugSbHZXPy9Z75tuLuoEFUeOww7p7d/I7r2y23m5KiqJCiZG72yHJKOpgyHE64PB8wSwVaSbRwUB+o9wsOyxuuF3vutxXb/DhWSKN0gE6GpBfnjM5GTIc+MaLrebWt2MzXVNsly/sV18uM+b6kqkE6idQ+KkiIL2aMpmMmRiOkOL0881dP+0nhcNYishr2Ge1ng8HGBmfaUKve2ezp6en5MukFZ0/PF8LHiM3nWGufLLKUaGc5ak9hdMAg8tqSwcY+lPI9VBkCEoGSAqMcviowaodoHKLuEl+PI0pOxd3z+ZjNsQ/zKDht6zBq2c5zlHGbDivTVuw5iRPNyYiVhyPw5ObxH0fRKbttDEAmOCEQ7o8sMI8uJ14nND+5h8dxOSyshbrCFSV1VVNZKKXESdUeZ05dK4lAgxegfUPoO0JysqqgLmoODQyQSKnQRrdjO6xtt1s6GnuU/cfQpQZXtSKzAZzUKCFR0iFcTV0eyLZ71uuCsgjxzjz8yBDIBluUZGVX5iokQmqUVhij0arrv/yTj0lXHisd1DWuPFBtLdtsi6quuVls+LAsud87GhSWFC86J73MyMRXOKPxtcFrKuzunsP1P/DuZs/37oIitfzKRYRGERmJPKoyW0O1wy3fsr2a8/625B93KUqVJN6agbxlMd9xPS+5WzmyZocq1lTlnNVqS3BWMb7QOD8kCTQDz4GsafYLDnffc/fu9/zuesP7ZcUia0s8pZUYFaLTKcNtw8xqGt9w4UtS6dA0UO2o19dsr9/y7t0t/3Bz4HpdUtUOZQVahfjxhEEpOdcBTRrhKdBC9ILzSHeRzDUOkddADjSgNHVgQCsUfTltT09Pz5dKLzh7ev6F45x7kmx7XHRpKVFG4Gv1xBU9pV2bCaRokF0prMC17uaDawmPabLucXSJeBb6Y09upYWmBnEAsQCnEGLTiT+JcM3j9h5/E37ocrZiqt2HAu8b0COQA4ToxOOPhfoe7cRu3uKfr0ix26YQOCnaAfSinaWpACncj1TvKoRQbZurrhBUuKqkzBqyCqxnMH5ENE5JdjmLPKe4nbNKA1aB4Cz0MA6ELWG3JV/esa5yNiahCBI83ycS4LkcW+zZ7UpWW8hriSJD1Xfsbm95e9gjipLSgsVD+hF+MiSdTRgOQwaBJvwTjtzDol8oqEpcllPvDHflkCaQZDqkNopgWHMW1DR1RXHIqbNbdleWd0MPfIOUQy60RYkKSUaT7djlEZtqz3BacJj4NGjMcceuxpY78vUtu/mc1RI2pER+SBpBqCrSEg5ZxjqsqSuD9EPCNCGeDIiHMaPEI/YUhhqqAlssWF9fcXN9z/ubklUVIOKIcaSQOHRZIKqaplyS315zqzzQGj0LURHELqNa37G+uuH27ZzbRcXOBYg0IZWOqCzRVrTvv60obMO2cZROYHvd9EOshbIBCsDCtwoXaNoa5v6A9fT09Hyp9IKzp+cvBGvtw1zP05JILbvU0R+hdQQc7kG8ORz2RHTymBj7kCh7FJhdYqyFtqeqE4zWgaigWbeCUWza4CDXKS/Rzdw8dUuP2z2G/kDX61m390mvG28yAam6ICL5x6tjf5Z1aCuwhPbA8zGexhMO01TYsqasLKVrc5QeZK+zuLqiqXMqe6B0NUVVoQpLUUHj+6hogJnNGG4WRHmNWNyyizXzsGIQJK2RnK2pFiuWix1rpynSCD0ckUYBiXYYm1MVbW/o5uDIrEUWO5qdYLPKWc3XlPucvLE0TiNMQjCcklaOCybUMmbqSQwf6bh14T9OiLbEdX+gyCz7RtGIKTI5YzKRDKRD2pKm3pHf3bOe77nf37C+GSD8CM8ERGNHqg0m9Am0RJUVDTmHfcGhbqicw6edWeqakjrfc1hu2a4PZEWIGCUE05ThyHJuEhLfR7kVWVHQ5BEyGXL2esKrizMGwzGDOOYsUUSiwB2WlPdvmV/NubrPuSoHyOGA6SAkDTx8Z5HFGrdfky12XB9WZNc+N2HAIJ4QBZKg2XFY3TO/XnJ1XbIgQZ+dcT5KOPchyXeYooBasE090PLhms1DZcFfOW1VxjE4yCHLBigBBxONMwonZXfa9Qesp6en50ukF5w9PX8BPDqY7qEfVIpnqY0vjbkUJ2L0ZPzIY7nr6cr3NJXWnmzv+O9ORALHESHYHJifuJWP+2jFZNN91Tyk1j7srxPAruoaVn0QAagL0L8Cp7+oBbkTButHiCQlilaEpmZXH8i3BzbZkN3AMdFdH6ezOFth8w3lYcE2W7FBsrMVfm0pS4fDR4UTvMtfMNkpNvsl8/fXbG4KbvUG1wzZK4HZLShXC5b3NRszwkympBdnTEchA13iNRl5eSArKnaFZVeVyPWGkoKyLqnna8pDTlHVVFWNw0PMV4SNJhcKpw3ByCeVrWv7MYfcyWM5bUWT7yl2kAUSz5sizr/l4lXERSxJZIlt1mTv/4H7777nH3+74PfLW+5EjDIJU98nCFL86SXjO8vZRlIVOeKQUVQ1GY4IgXSWpi4p8gOrVcVuq7AiZXg54+KbGW+mmjd6B0OfRF+RZzuy/Rh59orL37zmP/pmyFnoEyiJVqCzFfX6jv3bt9xfFdxVA3aDX/DVr1/xy8sBb1KPwDXIakm9/sDuu+9Q/2HH98sbtiZkcREwjjUDdmTLJfObjJuFR3bxhskvfsnXv5ryqwDifIvONjSHjFszZhf5IATqSzqxPzNCtJ8DFpBNA3lFKzg1jFvBKeRj9UIvOnt6enq+PHrB2dPzF8ZRfDad8HxYfonTxxxLHyVSdULiWEH7RBQeXc5OcD6kyx4f0/Aw1uSJY3l8btfXeRyD8mScyfHr+XgV+/jcxoEruvvDVsC66nEbXwwC8BEqQUZDktEtyWLJfDtn8eEa43mEFkYTj0ALtC1wxZL9h/csr664W6+YNwPKbm5lOyVGggpx4TnhWcl0V/FN9oG3xTu2b6/53bXPOyEQjaNxkkqdkZ695vJixutXMeexJtQlNA5BA6Kitjm7jcWFlthPCGcpr2aOiAbZFNjdnMNqzWa7Z3HzjpVqy5GVN+VN6DHUEo8/JjrbkmxhHVYaan+IkxeMZm/4+vWMX18MmA01qRH4QuOcxFy+QtiSIi/ZXWUslvfsrlNuzi/ww5BxOiFJ10z1jmq/xe12ZPmYde1INXjk2GpHud+zWSu2WUKVjohHMaOBzzBUGOGD8fCMwRiNUB7S+HheSOD7hJ0rjcgpyy271ZrbtzuWO586TYjPJ4xGMUlg8BFIocCLEckYPVkwSNYMsw15vuSwmbEahIw9qBtwVmKtRklDYDSRb/B9hacVKozQacmZ8EmVjzOCSPT/cz5y/DwTjUPlDeyq7icGzgxC/xPG9vT09PT0/Kz0/0/r6fkL5NTxfCn91jmHkN2MxOPPxImQPArBYw+nOBWbx7LXYzntiYDk+ddxG82zfx/Lc1WbHKtCEH4b8mMLaA5gdyCy7nV0TugXJzSPiDYESEboYEh0NmC43hJXe+7mV6yc40O2JboMiT2JpsRVGw53K+7WBZsCCqfbERlGoqRAdqmctrQ0VmCNxISKoCo4FBV5nlNagRUeTocQBIyEhy8lARYhLFaCa46zHVsBX9Xg6gDnT0hmF7waGSZaoG2JO1xxuPnA/N0t9dWCzZ3PIgzwJjG+kHiR12ZB8RMLfEd78cFarPRwYYAMLxlNZ1yejXg98hj6Ek+BQoITqMEYW+6YLlaMb/fkuy3FcsMmn7IhIPUHhFHE2F+TsWOdb9nlJZvaUiBRrhOcuz3LXLEhpjIjZlHAwNeESiCtBCeRtGFTxwsuCIGUEiUligpHTp2v2a1X3MwPzEvIdIEpd+Rbx7rW7dQdAFHTlFvKXca+3FE2DU2+53Co2eWSvWdQykMrgbE5xWFBtk7ZrH02boQMPULPQ/uWyAl8JIi2JVH2CuoB1332yKKBzVFwKhiY1k3v5WZPT0/PF00vOHt6fiY+V6nXw+D0F+63R/H25KWdOpTdTM3jKBN7dCh5JkpPA3+eO5ZdgMyDeKUTj7pLsJ2CeQN63JbMNmsob6B+D9x1jma3DSGhEylf3hpTIoSP8FLC2RmjbMskP3D//R2H3Y6bRUxzFxIEEu2B0DVNVnKofCpSPBGgjCYyAs8DSYUttlSLW5aLJfNdxVpFkIQMQkfioHLQILFS4USDl+2p5xtWyoMgBeMYtJNVacOhJEoFqHhEOj7n7NUFs6HHmZEoUUPlU8SCgJLt8pYiW7C9i7m7O2fo+aTGkHp/5Ng7111/cCAN0o/w/HOG4wmTQcQ4kPjyoQCyfV91jEqGRJMBIy9j25S4w4GisOTOUOuIMApII0sS7FnaDfu8YJNZ8tAR2hxb7CiyPSsUGy/Bi4ckgSHRAg+HtJamabC17fqdLc42uMbimu5vRDRQHWiyDfvdhpvDgXnRUEiFfwsqM2y1wD+WjguHa3Kq/R2H+ZJ9psllhaqgtIZKh/hxSBBCINZsl3tWb2sabbFvDK8nEdPIMBTtRQb9xZ3TXwYO2s+eooHtieCMVXfh4CSsqqenp6fni6MXnD09f2ZO+yilbBNujiLwnzIK5Z/Ci/sRAtEFDD2IRdH1b7qTElhneYzMPAkPOorSF53N03Jc9/R5D46qB2oM3i8h+I9b0SljaOagfwe53/Z2Nnl7+7CvLxihkDrGG79i2DS8sVBtrrm9X7O5W3CzV1hPoRIfM4oJkgE68YnDLX6lkNojDQSR3yDtlmp5xf53v+W76z0fSp91MGN8PuHVOOA80q0LVm+p90v2i1vur/csF2tuFjln6g2lNGjfYa1AWI0SIcFgTHR5xtmbYTsz0ki0bGdKYkaYQU4y23M+XbGZFxzyDZv7PatkwD6ExnQdtj+ytj99h6QUaKMIjYc2CqleepKgTez1EL6P0ZpQCkph21JvoREywI9CBiPDKmtwTcZhn7PZVuwTTVrm1Ic9u0PGzksp4gQzTok9QyhkO57khThj9+TeNqBKlAfcYU+RH9g0BcuyotjWhB8OVIFkCUh38tpdja322NxhTYiLY7zAxwt8fF8RDoYMJwGTYcVuNWd9W3FrLYfcJ9tNyScxNjYEgcLXrfDsZdMjD3UXzqHK+sTh1DAw7ecYvdjs6enp+ZLpBWdPz8/A6WLocyyMnu/zWGp78qrar4e5lq6br/ksKOilHszTn5+W1p6K1gcReuz5lCAj0NN21In3C9BfASGICSDbfs1mDs2yLa/9IktpnyMRwqC8IfGwgdcKcfBJBluW+4KdFNRaIGIfM44IYx/RZNQGDlKgtU8YQGRy1GFBtrjl9t0dVyvFIhziLmckr2bMJhGvYtWOXKl3NHuPXGc0izt2m3s2paO+CfGilHRoCbs+QqkMRgeEg5AoDQg8iT6eB0IAHsKLMElMGCv8TYWsCqp9SV5Yqurj3oXjY4Ro57xK3e2nOw+PsVCPCBDdzFIpUQKUAO0AJxBSo8OIaBiR7LfoZc3ucOCwPrAbC7J8R7Xdkx0Kan2GGiRE45TIMxgpUO75K3vY62PI8bEPuanamaalI3c+deCj4ph0mjL0FL44FZyAczg7BiHQwQA1fsN4GjMLDYnWBIMzhq/31E2NW9wRlY51syJ7/1s+LBZkgwHb8YDJ6xGjUcQg9vChn8HJYynt8UsUDaxOHE5ft2nIvdjs6enp+aLpBWdPz5+Jh8W1czRNQ13XlGWJlPJndzhfEpzH3jW0QElAynbRL0Tnch77JgHZPM5qcCcltc9F5pNgoVNH8/i4plMbGkQEcgR6BvK8/R7TltW6HPQC1KTt7TwKYvHYPXh65P7cy83n79JP708iRIgXnaEI8MWQweWebV5xcI5GCIQvEYnAuIzDoWGuDXvtIbwA40lCuUdlCw7zBbc3GYtmQjUeMrqYMpuNmCQeiXe8YGBwHgQi4+x2xWa9ZL5p2C7OuB9ozrRAW4FQEq0kRkq0p9BaoX+wUJcgNRiD0RJPOjT24VSwH3m6/tjxccK9IFgfzx3hXHsKdVLQCdH2XEqFCCO8YUq82+MtHewOZJs1u8yy3e+odjn7vUX5AUmaMBhFBN5Lv+Pz1/T8tVhsA02tcDbGxBPCV+e8+vWU16EmFj8cD+OcQyqN8kN0NCRME5JQE0sw8QT5RmLilHB/w9lywe3djrdX79l9uGUnE5bjKefNt7xW5zhfM+rCmf6aRecPPhudQ9QNbOvuDkFrzX/ei3k9PT09PX+cXnD29HxinowiAeq6ZrfbsVqtUOpxCWntD0v8fi6stUipMJ5HHMcEgY8Rqi1zRXezFOsuEIjH2x/0ZwJPHFDL4wgUy1MRehL442jFo9BdWJABp7rFo2rvU2F7v1Dtl/S6fx/Hofz5FpcPi92TBezxCMiT3/xY4vvDha5ACB8VGUKT4E0tI2s5LpVRNagDbvU9H1TBjWrYBRFJGON5iogDOttSbXJWW0MRDwnSCZcXCbNYE3un7rQBL0WMLhiOPzC9X3G/33O7O7Df1KzHIRNpMEYSeA3GVmAtjXXU/FBMP/4GDiFBaYXyNNJIxEf8H+PJ9B0HTQOFtdS2FZMvBw7VOFtCXpBXlswqciUJZVuWK5E4P0QMhvjrAwk7Nvstbq3Z7Urm2wP12rLfeZgkxE8DhkON8QTyxTmtxwsYnaB9uFu0cx21RkgfgyKJzhlcfsObv/mKX4aKwRPH9GSLXYm6VBrZObUCkDpEph46GhLUF4ym1wzjD5j8A283a5bzNavtjnoU0CQhMo7wA4HWghcrkP8acW2pv2gc1A/++cM1qH4GZ09PT8+XTS84e3o+MadX5pum4XA4cHt7i5SS5XL58LPPJTiPzqpSmigKmZ7PGI8nxKmPJ3yQYecyGqAbQXJ0OtsN8CQ46AcltqdJsieik5PQIVm1SbTNHuwW3AEowHngCrAbaFbQ7NrniBDMGahh9/rkn0Vunr53omxgV8J3S/iwQy3z1lG5TOBNCq9TXKhByYcS5SeItj9WeArhHArw2r2Ay3FVTbbfUhQ5G6PYjwakg5jI9wjYo5tWwNcOGkTrPEvRViM/r0k9mbXqhEO6pguFUjQyRAQxYaxJw4Ywz7FFQXGoOZSO2oiTDCYHNLimoW4coJDGI4h8Ak/hqWNAy08cxONoVyFwtqEqC0r2bapuVVM5hXkQee3+RH3A7TeUyy3bwrKWIUUQMAkURoNGIFSAiwboeMvA7Njt1+Trgvw+426XUa01h3KA9hMGiccwlASqS3t1tCWzwj2pLni8rtCVkwsJ2kP6Hl6giFRBY2tU46iFQXg+vpZ4P/j9XXfKdwdHtKnAwrVurZAaKdpjKaVCiAAICfT33L5bcLdekG8XrBdT7kdnTJUilALz12xxdjjnHj9BlECFx0s+DRS2C9fuxWZPT0/Pl0wvOHt6/ow0TcN+v+f6+posywjDEOBnLad9jnMOay3GGJIkpSxrQKL1BB14SJGCGoFKwJXtmBJqnnlXz3o14XH0yY+EBx2XjcKBrcDuobmH6kNbOosFgrZfs/oOyj+0PZyubl+PeQ36ohWdQvGpF5kP/WLWIdYFvF/D/3sPf/cB/t0c/r89oOC/HsN/eQ7/+SXibyZwmeBC80JfIoDACdcJ5E6UuBpX7rHrOZubJYttydoMqIYD/HFMFHj4aJzWSE9idI2sc6pDxnZbsI18UiXxjr2XrsHVBTbfUmQ5h6LhYBVOGbQXYPwQI1KCQUARQ5Qf2Oy3bJcH1pOQs0QRaYHCAQW2PFDtDxxyyIWP9GLSJCCNFIH+mDLPLn9WiLYfMq+p8nt2m1es9ym7qh2t4gGSBkuBO6wo5wvWNxvWpcfBjxGDlDA0hFrgIRH4CJOg4pSBf8PBrlnv1hR3B1YHRXHwECJi4sekkWEYwEOgrjj5W3MWmgZXtWm1De2ZCwIrNOgQHcWEsccoXFE1a1ivWd8f2HiKOPEwUnZObSdcrcNWNa521Ep17mSDcA3WQoWhkRqlfJQ/Jhx7XHg+gc0J3R5Rb7gq9xS7gu3ekg/Aev+Mk/kvECeg8RRqqGn/kGrY1U/e2p6enp6eL5NecPb0fEKe92Ye+zattaxWK7TWn01onr6+pmkwxjAcDlu3U2v8wMfzYow+Q5rXiPq2E4ZlG+AjNI8RKyf9mQ+C88cChLrvbXPigjZQ70Bcg/RbV1O9BRm0rmb1FsrfQvmh7S01U/D/tg0YkmeA4VMKzqOLIqxD7Gv4v27gf/17+J//b+AeONCKbgn/xod/MwRew//0n8B/9Uua35whj9vg0QFsJ4SclB67Buo1zeaK/bvv+P5397zNQjZRTDgbMJiEpJFCqZAmjvEGHmlU4W+WbO9T3r+dMvR9EilJfIkUrr0gkC2p796xuJ9zu6qYVykiiDBpSJSGhKR4g4RqqAgXexb3czJ9z+0oYmoCYq0IbYOo1tSbO/bze653sLYJLhpxNgo5ixWDYzvtH+NY59jkiP0BW8BqMOVqlDI6i9FakSrwRIVtNpSLW1bvr7l6u2FpX1MNRwzPJ4wjn4GUGGjfc5lgvJRRqjjcb8n3ezY3W66rKYWNiaIJ52nMwDcMRXuWKGjVihPtxYSmgaLC5SW2qCmdpRKOWoBxGsEAE45IR/fMRgX54obVteLGSwjNV2iV4scGD4GiHa1ii5xseaDMGyrtE44NgVfh13uy3LEi5qCHhKFmZBShjjADwWg6wC59dreWpbTk1tE40bp5vWn3BCcETaRhFtCehDWsypfCh3t6enp6vjB6wdnT8wlRSuH7PmmaMh6PkVJSVRVKKZRSD2NR4IVQjJ+JY/mnUgrnoCwL8jwjz3KaOkGrEahvcP6hcw8k1PfgqtbxdPZ0Y8+3zg/dzy79UzwPEyqgWgI11PM2tVYYaEpotuC2bU+pmYH/N+D/K1BvQKb8WCfgP+eYOECuM/j39/A//p/wb/8RuAZKHt1b2tdLCezgv6vgf8jQ/+1/ih2H4Cmca2jKnCovKIuSvLHUiM5BrZHZPcX8hvXVkrd7xd4fkpyd8XqacDH0SDwQMkIkY/yzDedvNiypKA/3HH77HR/qPf5FQj00GOkQ5Zpmfc3h6g+8vS+4FzF2csn4fMx0GDLxFZ6L8NIz4rMLJve3LLcrFvffcft9RVAPOCQeI1ujdldkd9fc3W+4rWKKwTnJdMrF2GcaSGL5kUdeOJy1iKZENAdcrcnWdyyvU648ixoqhp5Fk9FU96y/u+Lu/Z4PmY89HzN+PeX1bMB5aIiVQCEQSBw+2ouJzhLStWZdVLjNjpwRZeITzAZEw5jEN0ScurHHeZ8+yhgi2RBVK7K1Znmt+ENYkKcJQ88jDgyePyaZzrj8Zk7erKh29yzf/QdukgJXTDiMQ0ZOoF2NtSXVIWe3qKlqgx6OmUUCrTJMNSdfHrjbR9zUG0zoMwsFA79Gu4zifsvqINiYEV46wh/FTBJF4Im2FLjnESFoQg3nPg8O57Zqg6Z6enp6er5oesHZ0/MJ0VoTxzGz2QwpJcPhkKqqnjzmNL32c9E0DUopgiAgjmO01gjhcEiESEC8Al2BcTy4mvUS3K7r5zwtUTwZpfJccB57NoU7CR46PqYBt4cyAzkHp2klgmvFgQrBvAL/1+D/azC/ATkFjg7Hp8U1Fm738L+/hX/7W+AdkL+wr4ZWdGbtP/97H/6LS+R/9opm6uGanHIzZ7dYsFpsWRQ1uRPUtCJM7bbUhwP5wbHzzwjPLxleTvlmEnAeKgIF4CO9McFZzvkvM7b2nur2wM31H9jkS94uQvYjDyVB5GvsZkm2XDJvYop0RnLxFbPLEZdDn6GWGBei0inBecF07djYLWV+xfr9gbd5wtozDJoGvV5QbvdsS8E+mRBNz5lcjJkODIknH0tU/xi2ddKFkkjfoJ2HtRn18ppts+E6hrlqsOSUzYb19Y7NSnAwEybTcy4vxnx1FjI2kuCh31N0I2dC/LMh4TIiWHmIeY3yJSb0CWcpyTAg9BT6yTsnQBpEEGPimDhRDBcb6l3O7vuM39kDi9E554MJryYp0zAhHF8w+WZPnguqDyuK7Vt27wrKw4h1GjEQ4LkKZ2vyylIcIqQ/YRJKRk4AFucK6v2C3c2cm/UtjdCsIki9E1eGQQAAIABJREFUBiErqt2O4mDIoteEZzNG45RZrIg0mF5wPkFIaAKNHXlINNDAdYmoGtzHxif39PT09HwWesHZ0/MJ8X2f0WjE119/zXg8Js9zmqb5rIm0L2GtRQiB1powDBgOhwS+j5IKITRCKkCBp1rX8ZgEUzUgmqeJsxyTaY/3Ne234rnTecIxyRbble122zgm5eoJmMvW1fT/NXh/087pFEHXv/npeBD+RQ3vN/C/fE9bRpvx0x2LFlgDH+B/+x6+HWLHAlcfKFc3rP7wHe/e3/B2W7FxgswJRCNQmUarCDMaE/3iGy6+vuSrizNeJYZECzxAYLBmSDCCs18LKiGxzRXN/Jr1H674cKv4kGiQApEXuKqBRiNfnRO/+pbz33zLL84TXiWGgZRoFyDCc/wzw3ktqdzvcB9uyOZ33N0brpzE1GB2FkSITqeE314wfn3O5UXKJNQET+a2/uQRBUCgkGGCNwwJh1O01ST5PXKz486W7F3DzllK6zjUMVafk0y/5uz1jG8vU14NJYl8ltQqBMLz8cZDgskZ/m2Gcjsi6SHjkLPzmMHAw/PV09cqJOCDP8IbbJmc3TG7uydf3XP97p773QF/UnJ+IXE6JPID4nRGYjwuawX8lub7t3w/3zBf+FypAN+CpsZJqESEiL5hOJsRBRFCK5Q20GhEU9KsFmR/2LPMGm6MQ3kOqQSNHiDTc8LJ1/z6/DWz6YDLWJKoPqH2yEPitxBYT1EPPTwCoIZ/n6H2Fba2OM+9HN7V09PT0/PZ6QVnT88nQgiB53kMh0O01lRVRV3XnzUg6GNQSuH5HmEQorXqFmwG5BDUN4APRG3vpLoBu2yDfewBbNb2ENqicyyrrlezG7hxWkILJ3M0dTfexOtug24MSgwmAXUB5ivwfwP663ZO559JbDrnsM5CVsL1Dv6fe9p03j8WxSppRWcGf3cP/01GbUMkAoxGBgFeGBPZitqCdhIahfAT/HBMfDFj9s0rXl0MmCU+sZSoBwdRIPEQZohMNdM3AmoPv/G5XR/YCEdhJI2Q4MUIZ9D+gOTbb5l884ZXl0NmgWKgRev0CQk6RMSC4NIxEw0EBnuzxj9Y9jnYRqBNiPFHROczpt9c8Po85TLShPxw9uSPHxqF8CL06BWp8JmdK5w4w69qwv0afwfLrERUFmcFvvQIvAne8JKzi6/4+vWI84FHLF8oKxUCISTS89AmRpkBjVZ44YA0jXg98Bh5Av8Ho1DacTvCJPiDc0ZfZ3xVg7pf4+eWexND6BF7CqMcSiqkjpCxIX1d4aRABBq5yLjNBNu6TR4WWITUWD/FjKeMLkecTQKiQKBMDOIMf5QzmQreZIpgV1E6S6NBSIVNzvHHbxhcfMXlbMhZ6pF241BenObyV43AaUmd+HiMgBXcHPBv9xQXA1zkf+4X2NPT09PzI/SCs6fnE3Ls4dRaY6394sXmESll12cqW3HS3vuYCCtDUGeg563gbBbd7QqaTTfi5ND2eMqqFZy2G4XyEN8qQHYzNZ0Hym/7NmUEcgR6BHICZtTuS523wlOO2rEon1hswongbCy2qtCbHNjRWbQfswWghP9jD1mJqx0oDxOfkV5KXDDBLxsyC7WTYCWCCBOkhKMRk9mAUeKTaskPc3dlO8vTKKKx5dwG+HrEaJezs5ZcChohcI1ESg/lxySzKelkyDg2pEKcRCsdexgDZDIhdpZzL0EOdgwPDfvKYRuJcAHGTwgHQ0YXI0apT6KPoT0feUylQvoJ3uRrRskMZRUjlWDKEi/fIvYThmXFroLMSRppcP4ALx4zHI95NfJJffkjJaWtWy7KCltZCmfIzAARDYnSmLNQk6gfe70CIX10OCaegdAR3sWeQVazkinWHxGmKbPUEBrZztIUCjE4J5ESEcbIVc5ZZtnXbbAPzrXVAF6IHkyJh0POh4bQAyn/f/beO0iuLLvT++69z6c3ZWEKptEAutF2emZ6DHumZzgMkqOhE5fBCVJLmVVskApSUiwVMsvdFRlaExJjQxEbknYV4m4oVtTsLpcUg6JZkkMNx3QTM+0NphtoeKCA8pXePXP1x8ssZBWquoFuNBrmfoiHzMrKfK4yb77fPef8jgdWCa8kmIizqEyLiU5ESGpQhFAQFNPa2mKRybxDzlU4Rmlui9CApQjLLvxIGf6kBbSR8y3UgQFxOfNR76LBYDAYdsAIToPhFjJKU1Xq7mmgN56GtjkdTQBOKvhkNo0yJp1hj8xl0CtpW5N4HaJmKjjppCmyOgLisQjnsMchFmCnYpMAVAZEIe2xaVWHIrOYGgMJP92+2FyNdyuPe3SbJAlxHEMckdZn3kgK9KjBY5pGHEcRcSJQlo+TdylmquRmY6YTiPW1RFO0QigLy7KxPYWl3i16KEDYKLdEZjKHV5yhFMfEiSbaeI5Mz61S2I6NZSlsKbY39xEKoXxUboacX8WvhkzEmjgZ2zdpoSwL21PYSt50pE3INIprl13yWpNFEAkLlcSIOELHIdUk3WbajkShLQulbCxb4SqB2iktUmuIBuhWg36zTbuf0Hby2LkCbiZD3lF44l0SoYVCuhlcy8PKVgiimMk4IUSRSBupLFxLYVti6DQsEE4Wp+hiZScIpmMGG+drbLdUmkKrLBtbSWwJAidNT88HVP0JCtMRcaI3vReEshGWjWXb2EpgG7G5wfiYJET6GQkdSVLy4DNV+JNFoAFnm6jHB4Tc+RN7BoPBcL9iBKfB8CFwN9URvfu+jlJH7WGk00vFoCpCMg1WIzUSinvDfp39oZtttMVcaLgeYaU1odIG3HR9wgeZB5FL1y3d4fZGkunDO5fjKbWR1OiMQmz4m27fWXPs1YxSNXnEIpKaOEmIEUjLwXIE1o6vFxsX0jfWZUSBLbEsG6XZ4dJaIKRA8F7rlAhpIx0L2/awrluZGKubez9nX4CUCOEwrATGQqRJudpG42FfdwximC6bCr0dt6kjkkGHwdoa9dUGjbag7/r4+RxB4JMRcritd9k3IUFJpLSwHY2tUxuqHfdBSIR0kI6NY6fP337V1/6eI7GKkEjlIKSNcvQ2f7cbPG5D+r5WijDv0nysTI4MsAbPraA+M4s4VCa2LJOKbDAYDHcgRnAaDIb3YCj6hBymw9qkUcoAKKcCU0VDM6FouIzSaUfRTUiF63Ad0gKthgJ0GPUUDhvC9jZeemut0Uma5tgt2wRHi/DWMhsutNu/arjYQIbkSyV6mbTHqhhGjIVUyFs28fBBBOB2qxsK0w/tNA+F1LWfxrZ7E+iYJOwTDbpE/T7dQYd2Y4XG5RrzjYSWyJIpFakUs5QyLq66kXYiw/N4M/vyvs/X+9iW4To2JmekRNsW3dksuZ8rwm+vwl8uw0/WUMemSDyXROudI+QGg8Fg+EgwgtNgMNwEqZBAuKRmQnosEDh0ndUjs6DRY7ChAvSYeN0kR94rmvjhorUmVtCpePCVCsFbi6QtUfo7vGIUec0AJVY+UUXn7DT6pa89w/BB0OgkIu426NcWqdfWWW23WW60WVns0gkDdFBharrCrmqGatbClXyIItrwUTASm1JK5PA2LPrET5ZRv70CLMPxZdwnp+lUM2hboLW4q7JMDAaD4V7HCE6DwfAB2JR7SBrB1DurLbHx33a/+EjYMHWSgvaER+1z0+w6U8f/3QhY5Fq7l/H0YItUcE+z+t/vYv1wkUzGxrn9u3/vokHEEXF7jc7iWZYvXeR8vc+lrsNqVCZbnmFmZpYDcxPMVjzKwah20nCvMRKPitSlWGcdOodL5L5aga9dga9dhqN5OFolyUqklKZFisFgMNxBGMFpMBhuMXfXRd5GBEVItGvTnwq4+OMzTMmI4u9EQI3U3kaRpgU7QIbWo2XqPzVD+8kKeDZSqbSG0lzk3hoEaQ2k5WB7WbxckZyOKQcBtj1NcWKGmakqs5WAoqdw1d32zjO8F6PPktYaKSVCSiwpiWJJbzaL93QV+2sFoAZ/9yzBk9NET06TTOQQcjsjNIPBYDB8FBjBaTAY7lvG0/WUUijbQmdc1g6XsK+2KPzOCoI24BOSJcaif9Cj/akcK09XiQ6UsaZzZGw7dSeWylzg3kK0VCgvj1uapSQDdFmT0z49t0y2UKRcyFLJWLjb9ew03DNcmxQSKCmxhCQs+bQOlyj9wBR8+zxwFf6Pt7F+0SL+mE1SDNL3hDai02AwGD5qjOA0GAz3JUKIjbQ7IQRKKWzbwnFtXNvBTRQCDTgsH6vy8i/vold0kZ6N4zh4vk8QBHiui+M4WJaVRmGEiXLeGkTaoiVTxvfyuBMxJQ0JEqSFGPaN3b5fp+FeYfRZGk0KxXGMkpLYs+nvytH/uTncb68D8/D7L8JMgKoEDB71h0Zb2ohOg8Fg+IgxgtNgMNy3bIpwSoWybSzPpbK+TvWtNoyim4/mEZUcbsbGdmxc18XzfIKh6HRdd6P/6kh0Gm4BQoJM6/YUGjlqpyJGwv6j3kHD7WQ0MaSUQsWKMONQe6zC1H9zEP6RBK7A/3YSOhHOXz8CRydJygGJq7bvS2swGAyG24IRnAaD4b5lJDa11kglsaTC1YrS2Q7uv2ySutRWGDxYwiln016MjoPnuHiui+d5eJ63EeEcF5xGdN4ixs6lOaP3LxtOtaP0d6XSKOdUlrXPz1KSIP6BBtrwf56BlT785H7kUzNwsETiO6CkeQ8ZDAbDR4ARnAaD4b5HCJEKTgSZTkzwUg10HUjo/myZ6MEy2VwOy7ZxHQfXdXGHqbS2bW8Izg1hZMSmwXDLGP9cjQSnZVnESULoJNQPl+mVHMq7A7xfOgkswh8twR+twt89DD/1IHJ/iSSTik6Mg63BYDDcVuRHvQMGg8FwJ6ClxOonZC+34J8uAV2gxODxKuwqEmQyZDMZMpkMQRDg+/6G6BzVb44Wg8Fwa7nO4EspLEthy/R+VPRZ+/g0/X96FJ45SNq26AL8xgvwt56H5y8il1skSUIiBHr4z2AwGAwfPibCaTAYDIBIEty1LuJ7S8AKoGFyksEDZWQlR+Cn4nIU1RyJzNHFr0mjNRg+XMZT4C3LQmtNYidoIPI0fVuw9rFJiq7Cn7Dhd68AHfiL07A4gJ/bg/r4LBwqQ8FD+zbaUem6P9IjMxgMhnsbIzgNBsN9i9Y6XQDRDREX6vB/XwJaQID+D2cIdxew8gHOMHV2JDbH6zVHUU0jOA2GD4/R50upVCSOPr8pacSyOxEweNohc7BI9XAe/sFlYBHefAv+2xX4yhJ8ZS88WEHsykPJh8xQeI4+xx/BsRkMBsO9jNDXRmuDwWC4r9BakyQJkUhw31mF33kL/s630l9+Yi+rv/4Y/YMlZN7HsZ0dzYGM0DQYbh+jz20cx0RRRBiGG0sURcRxDGGM3RyQP98g99IK/IN5YJU0Vd4DpuE/mYHPzsBTM7CvQJR1EcDIWsh8qg0Gg+HWYCKcBoPhvkVrTaI1CcDrS/B780AH2EPy4zN09+URgYOlLCzL2iQ2TVTTYPhoGM8qGJ8zH58AioVgUJLUHMmg5FLYncF6eQ1+bx3W6sAi/NYK/NZ5+LFpeHYG6+Mz8GCFuOSDpa4zuTCfdIPBYHh/GMFpMBjuSzbS8aIYVevCd+bhlUXAgf90mvpTk4QFD0/ZqG3EphGaBsNHx7iB0FZ36A3RGcfEOZdGxqEznSE4ViH72SbuXy3CPxtFPOvwByvwBwvw1WX48l7UAyWoZtJ0W88GW6KVRJverwaDwfC+MCm1BoPhvmMjJQ+NXO1gPX8BfvJ54CpQpfm1J1l7agYZOPiuhzs0CzJ9Ng2GO4skSTal2I7SajeWOCKOE2Kt0RJUpPEaA/JnG2SOL8H/dAFYIM1ssIASMA3/5W740h44UIbJADybxFFoJZHcZdFOrUkL1cEoZoPB8FFgBKfBYLivGEU2E62xlprw4jz82svw+iXARv+9h1n+0l66cwVc28ZzvQ2zIONGazDcWWwYf42JzlFt50aN5/B+rDVaJxAluJ0If6VL5kIT9/s1OL4O366R1ngKwAY8eKwAnyzBkRI8UIQ9uTT6WfFJPPu6seCOGxm0hnoP6n3oRzCVRefcjR01Y5nBYLgdGMFpMBjuGzYuTpMEugPU85fgX74Nv/0KYMOXdrPyXz9Kf08BnfPxbBvXdTc505oLNIPhzmMkOMeXkeAcLXEcEycxUaIBjdAaESb4631yF1sE31+DN9fh91oQt0nFpyTt6enB43l4ugRHynCwCNNZyHtQcCHnpAJUXhsf7oiRIklgsQ0X6vDWCuwvwr4CejYPljTC02Aw3BZMDafBYLhvGAlOMYiRV1vwB2fht79PWsv1EP2fmqO5v4DlODhKXedIazAY7kxGNZ2jDIRRrfVoUUptCFAZRcRJgiYhdgTNSZ/WpI96oorfCMn8By2yp+rw6hr8X6uk48NFeDWCV32gCpThJyvwZBUeq8KDFeTuPIltgRJp6qoQm1TnRzGCaCEQloT1Lvyrc7DLg8/NIr58CJ130bYErc34ZjAYPlRMhNNgMNzzjPfrS+IEa7kNv/sW/MrLwCWggv71h1n4kb30p3O4trPRd9PUbhoMdw/jKbbjUc+tqbajaGccxyRxQqI1aI2MNSpKsHsJdjskc7mFd7oBb9TgLxqw2gBqQA9QQA4owaMl+GQB9ufT1NsDJdhXhMBGWwqkgGsBRbT48CKh45d1Wmv0IEG9swr/+i34+2cACb9+AH7iQfSBEjpwNo1rZowzGAy3GiM4DQbDPY0GGNZsMohQC0148Sr86stwYT590i8dYe3H5mgcqWDb9obYtG0b27aNM63BcBcxuqzZKjpHwnNcgI5E6Mbv0Wgp0AJkAnY3xK0PcNf7BJda2Cdq8IfLcHokOhPYsBGygQD2FODzBThahGoAVT+9LfuQdcC3wFJgS7DTWy1v3WTW+PEnOiHWYK10UK9cgV84DsuLgAu/eBi+uBeOTcJMDh3YoMw4ZzAYbj1GcBoMhnsavSE2Y9RyC567BL/1Nnz9+0AAP7uXpV98iO5sFhG4uMraJDZNdNNguDvZGu3cai60XeRzXJxqrUmkILYE2hI43QSnOcBf7hJc6eCdbcKJGvybddKoZ4dUgArSiiULyAAF+PfL8GgR9mShEkDGgbyT1oAWPXBVKkItmUZDlUhv38eYc92xJglxFBP3+uR/87vwj14HzgMTwAH4xw/Cs3Owu4DOu6kIFuLOqEE1GAz3BEZwGgyGexadJGnqWjdELrXg374N/9VbwEUggF/YT/2n9lE7UkF4Nrbj4I6JTcuyjNg0GO5yNtLphyJyp8jn+LIhSofOtrFOTYZINCJKUKHG7kXYrQi7HeI0+jjrfdSlDrzVgm+2oNYEQiAizbWIuRYJzYJdgB/LwyNFmM3CVJBGQks+lD0oeCSOtWFElAyPZ6Mty+jqbcvQtPUYoyhiEKduvaVvX0D94zfhL18e7psPTMJPH4KfPgBP7ybaXUDKVHAKMK1UDAbDB8YIToPBcO+hQaPRgI4S1JlV+PNz8CuvAovpc/7aITo/sZe1RyeIcu6mms1xsWlSaQ2Ge4PxWu6d6jzHxef4Y0mSbBGf6TpkkiBikHFa9+k2BmkK7loPa7UHl9twpgN/1oFBG+iTCr2RnJPDxQL8VHw+mYODOdibS3uA5txrEdFsumw44m47No3cuPVYa5iQfhRhXV6n/Pun4e+9AlzhmuisQGUO/tYB+KH9sL9IUvQQUqZC+24ZA3stwkaN/tIakV/CKhTJlLPpGH47D0FrdDIgbKwxqNUJW320VggvhyxN4BdcbFvdNafVYPigGJdag8Fwz6FJL7aSJMG60oTnL8OvvAlcAGw4upfmX9tP40iZsOBhC4llWRvLKI3WiE2D4d5hlKmgh66sI/EppSRJEpRSO4pPrfXGY3J4qwEtJYmE2JYMfGiXXbDSccOKwVvv4S938X+6jb3QgfkOnGvBH7aBNtAcLn1AwRsZeCMgTcUN4OkMzAWwKwO7sukynUGWffBs8BSoYT2oM7xVQ3cirREJaSRUA3FMt+jQfKhE7tMz8HwNqA/3owOrLfjv6rDWhR/ejzw2iS4FaEt8sEinTkj6XXSvQ9iPIbkWrX2XF4FQSMtGBlksVyGlQOuEpNMi7sfEwsIKApRjIWX6qqS9Sv/c2yw//ya9qYcJHjyKn88gbbhtScJJRDLoEq8v0Dxzivq5i7QXWsTaRU3tw3vkKabtCqqgULdnj+4dhpM+QkMy/Dyb7+i7AyM4DQbDPYUm7XVOP8KqddI02l89AZwCsvDsPlq/dJjaw2WSwMEWclMKrRGbBsO9zehzPS4+R/ellGitsSxrU3RzJDi3jXyOp+omGj2IgTSBtp23aedtxMECKIEVaZx2hP+ft/EXOthXhiJ0vgPH2zDfIq0FXQG6cLwPx4fRT7JAkC4P+vBwFvZkYDpIU3JnMzCVgbyH8C2EJdFKIuQwqisEkS1Z358h/vldFJ9fAgakglMD6+n931yGb67CLx9GfOEAuuyTeFbat/Rmx0StIeoRXn6b9qm3Wb7QJB7EaL3ZTXe712k7g1WdofjokxR3F/GzCjFo0339JWpXmzSpUHn8YXLTBfxMqjiTxiK9N7/LhX/+h7Q/9hUmkjIzD+9CWLcpmqg1OmoRLZ2j9o0/5dLxN1g4cZnWlTaJyuE/+Qkq7n6KUzmCvHP3RI7vBLRGJyG6PyCKNEgL6TrI2/W3NXwgjOA0GAz3DFprdJggL9Xg1QX4o3PwLy6SRhAm4at76PzwLmqHi8S+g2VZ2Ja1ITbHazYNBsO9z9Z2IOMpt6OfR2m3lmVtKza3FZ46TelPhqn9iQAtBYkShMqm72RpVz3UoQKqF2N3Qpyf7uMudBFLfVjrQb0Pq324EMGpmFTCxkAHTjXh1DJpaxYbcNLbjzswq9L025yDynv4Ey5+0aLgSVpZ6IqYXqDg2TJ8owV0uRYGHQCr8MLb8Ncb8MtLiC/tRTw8iZ7NbdSU3vgIqSEaEC+dp/nac1z+q1WiMBUKKmOB3m5daYsa7RVw5vpYu4+QmczhRhFJd5nmi9/lyitLrMi9JJkprCDAz7jp31An6CQm6YckYZzW8d+uwjGtIe4Sz5+k9cq3ufBnL7K2LKFyhOmPT+Hmcnh7D5I5VMHP2OZ75qbQEHWgcYHaC6dozHcYVPZQeewImdkqnmvO5Z2OEZwGg+HuZ1izKbohYr4Bf3EO/sVp+N5Z0gu0IvzyXuo/uIvGgTxhwcUWakNsmppNg+H+ZutnfjzqOR75HEU/dxKbW4Xnpp+jazWkkaeIgtQNNhECgUaFCVYnRg1irEGMGiRYnQh3vY+90kMu9mChC4tduNqHF0b1oCFpi5YIXojYbE7kAW56/7BF9gFFtiIYOMByxDULIs21IscBsAA04Z+swMvr8NX9iGf2IvYWSbIO3GgbF61Bx8TNVXqXLrD+/DKUpgkemME/UEZBmvZ7/QtJ3BxOOY8V2EhLpscZDwgbdXrLa3REkagTkcR6Y++1kGjLQvo20rIQo1zb24KGqEt09QytV19i8c1V2PMIxSc+weznjhKUfNxCHqtQxg8cpPmauQk0OumhW5eov/Rdrr62Rn//E9jTMzgTZTzXJCff6RjBaTAY7npiAcQatdqBPz4N/8XLpLb/MfAA+h8e5MqP7GWQscFSWMjrxKZSCqXUxoWmEZ0Gw/3HdsITdjYcGonKrbdb728nRHUyFEpJmoKbAD1fgi8BG4QY1vgJhNbIWCM1qCR9zB+aE7lXO8gLDTjRhD9pQHtYk0mPNF12KEpPRnAyBBIcFGlUdCRONx318PEG0ITnluC5BfjbHfjZI3CgTBw4KPQN1kWK1HxIKuQgwJt7hOkvfJbdP/MwruD6OsahANVKIRwPVcjj2BZSA36R7ENHmLCnkOwiP1fGzTp3RgsXrWHQI1xaon1hgYEoUH7kMaa/8Blmn9qN7Sik+W55n2jQEaLfZrC4QOudFXrBHP3ugMRYn94VGMFpMBjuSrTWqa9EGKPWO/DGEvzZefjNE6QXShX4/C4GP7uH2qNlwsBGWAo1lka7tW7TiE2DwTBiXGy+W+rtePRzJyF6ndjc5vHN6bgarUexR00CaJnKwFClccmoaNHJBMhpD/tIAetzEeo/ilFRgtUMsdd7sNiD820424HnRwK0S2pSNBje3y7EOD4G9oDL8Pf78E4d+eP7kZ/chd6VR7vWTfXs1DEIy0Vl81iTVVzEzheiQqClRFoWUqQRW+mWyH38Gayjfao6wJvJ4wUfYLwemtCMqxYtUvdfIeWNC1mdQByh4z5JZ0Bc0ySOi8oEWIGHGrbU0ZIdzleaRsx1KcDpOUi/l3Y+Bkbvo+F+X1uf3nI817aTMPb46BwMU8FH20bK9Dkb207rlIXevJ/6ZtqHjSZvks3vu3Q/5XUp21oniESnb34phm2CBAKJ0hoZxegIUCY76U7GCE6DwXBXsdF6bhDDehcu1eGlq/BHl+AP50ldF4vwc9O0f2wv9cNFekUPicBSakNkOo5jIpsGg+E9GTcX2umxd4uA3ogQ3a5H6Nb+oRvrJpWIiaMIXTUUDalr50hAWGGC1Q1x6n2ctR7Weh/5C33kSgd5sYn1Wg2OL5EKz/cKEcWkdfAh/BuRCpaMjci7xJZEWjeRzjggddF1bJTno8S7CM6tDB13dRKj4zgVitHo3NysmVEM4QDdbDJYq9FvtonCmEQKtOcj8gXcQhEn8HDes31JRNKuEy4t0Llygdq5ZVq1hCQeMFhboH3mJOuDHDJTximXCKYLKDkScUOx2G2jG3X6K+sM+hFhnCCQYGWwMnnscgE756CGbr3XjiOCqEN4eYlBvUvf8nAnSkhCdHOVfj0EK4PMl/F2FbGtAbrVoHd5mVB7yGwOt5xDddaJ6g16jS5xotHSQjg+qlTBL2SxAhslYpJWnbBWZ7DWJIySdKrCtiFXxC0SEevLAAAgAElEQVQV8XIZbHuH94PWJPGAuN0iqtXprzWJwyitchYSggwqV8ArFbF9G6UU6BjdWae3vEp/YZ5o+RLt1S5xGJI0V2mfPkVd9BnkAtw9s9ilDI6j7oyIt2ETRnAaDIa7Bj2yoI0SWGnD64vwJ+fhn5wkdXVMgN3of7iflc9MU9+dQwlQQqCk2tRj04hNg8Fwo2wdG94t6jn+nNHtdoJ0JDiBbSOg26Xrbrek2YYaqZMN6RgLiB1Bd8pDT3mpQNWaKAxx5+vkD15l6niTdIJuOzam9kiTXtXwfgN+ZwU+VoFHJxFZJ3XCvR1jZxKR9Oq0Xv0uS2fXqelZpp75JJUDNo7r3MSKNIQ9kvoq4amz1L5/ivrFBeqdAVpJqFRRcwcoPHCY4p4pCuUsliV3FJ2aPuHqRZovfZeFl85SO3GGxkpIEtZpf/8VFutXaRZ8rJlHKD72MLPVHK4tUUKkkdF+i+TKJbqnTlM7cYr6eptOLyFBIYNp/Jl95I88QOHQBEE1A4E1rP9Me33q3jLtF4+z9tYC9UyZ8mNHsUWL6OwbrF9ooYO9BA8+ylQhQGXrxMvvsPan36MhKtize6g+NAeL36dz5iK1syv0opjE8pDFCTKHHqJ8dD+FmTxKdeifP0nzrbOsv32JTiciApJMBmvfQUpHH6JyYI5sKUCpLSdLJxAPSBprdC9cpHHyDLW3L9Jrd4nRaFuhKjP4+/ZTOnKEwq4KXs5HJSHJ6kXqL77C8ktv0VlfoXZmlW67R3L5DMvf7NN+YxIvN0npK1+geGQPlmPazdyJGMFpMBjuWLS+1nA8AWQYI9Y6cG4dfv8d+B8vkJpbJMAU/M0ZOs9M0dqXo19OZ8+VklgqFZg7GQQZsWkwGG6G7caL8cfGXW63E6NJkiCHhjY3ExG9keeNb0vohFhr5DBNNzvfYuL/u0rmN94BlkhrPTf2mmtCcyQyLdKeoCX4UhU+MUlypIp+oEqUtVCS4bq3Pye3Ep3E6EGb7jsnWHl5kQXdwj/0MLmZ6s2sBXSP5NL3ab30Ape+foL15RrdXogWKt2GUiTeq6xWj1B5+ilmnnmCiV15LHenSGdM3GvQX5infvYyzYU6/a5GJAPClWXaYY+B42D1JnF27yfSmtRTN0GHLaK3j7P8rZe5evwd6istQi3S3qdCkwxOIuVLLH5rhvLnfoCJTz1E5dgMri1T0akjkkGN7smTrHzzLZb8DM0zp1Bxh/78RbothTcTg7ubqB+R+G2i2mXWX3iJ9b4H+QrtVypE6/P01xt0m30SHRL1Y7RwkC+doPHJp5g4WGWai1w8fprVsyv0un3iKCYOIxKdEL/4JvVji7Se/jRzzzxEkHOwrGupsXrQIl69xNp3nmPh5XdYPrVE2A0BjZAJiYhIOIEsTLC8/yGmf/gZJo4eoJyVJL0mg4WrtE6dp9Hs0q33iKMI3WzQuXiJaLlNLz/Aq3XJRO/d4dXw0WAEp8FguCMZXfZoDSKOUa0QTq7A8Xn4V+fh+FWgBSh4ZBf8zCy1pyZp7QqIhvWalpQb0UzHcVBKmZpNg8HwobM15XY89RZAKbUp4jm63en+dmJzu7Tbrem3cRIjNDAIcdd7VL+zgP8bl0gn6jpANNpj0spQSSo0fSCg42YZfDnP4KES8aEyzFWwJnLY+Qy2m9YK3nx/zg0Zws2lwqYtT6JWk8FqnR4twl6EvmHXmLQnaFI7Q/2VF1n4ixe5crKF3DtD9pEZClNlRDs1pWmcvUDjxCusxhrtZfA+9xC5iQy2vZ3rrY1VnCHz8MeYliX83Gusv/IOK70MwaEjFA/vp1jNICsHyRysYqthtHRQI146zep3jnPle2dZWYhQuw6S3z+JX/VwRIf+2cs0Ti3QePUVYhR4AjmRpTqVxXZGtcMhcatF/9wyLWuFuNHALgbIfIlg3xS5yTlyM3ksRyFJUmOj2jqdKzF9t0G/1ieYq+AdmyPvO4ikyeDKZVrnrrD+9knW+l36b+doJTXqvQxU9lLcV8ESMTTX6M9fYfnEPK3ea4gkIJibZXJ/iUzBGUYaE+KVy7Rf+kuu/uULLF0YMFBVCo8dIDvh47ghDFaonzpF/fJl1p5vIMvTuF6B3LFpRGGG3LHHmbGyFFYvsfzcKWqn2yRTuyh97AiF2VmCXInM3jK+p7idvsSGG8cIToPBcMehtU5NAsIE0YtgrQPna/D/noH/+TRwjvSiqAQ/upv2f3yQ+qEivZwLpCYeI3E5HtkcCU0jNg0Gw4fNjaThjh4ff87W+zdbHwrjAjQmCiOsRkhwYg3/1y4Cl0lrMmGzyLQZtVJZPZZn7YtFlh4roSeyqGIGLxuQyQT4vguexdasyRsmjtC9HkmjRSTFjiWkwnYQjoNUm01khBDX2rLcjLpIQnRvnfCdl1j+q5e5+L2r9HY/yPSnPsPsDzzB1AO7serr9E69ydpz3+TCn7/Eyqk3WLCKlA/N4mRdbPv61F2Bhz1xkMJn9pB56DwNr4e6fIG1epHMo59g5oc/z67DJaSlEEohlEQkIbp2hf7bLzD/jVdZXnbQc0epfvHzTDx1iOLeLBnZoPPKKyx/87tcrr9A7c1XWZvMofbvJpubQ1luel60SFOBE9DLfeKyxJ/ZRfHJoxQeOEghN0E2V8TxnaH5kkAISdzuESIYZKtMfOrTVI/tp1jNYkXrDN55hfXnjxPNv0Ht5Tepa4flXJniDz3OxA98jJmnDuI5EXLtMp0TryGaX2f57Xkar7zG1aeeIlMJyOQckKAJiZYv03rhuyy/vcggc4jc459h15c/Q2V/kSDTR3cvsvrNP2f+6y/Q/rOz1F56h/zsXiYemiWYOEChupfCxx5HX3oeubhGfwH6ex5k8oe+zNQTh8gXFEJZN2f0ZLitGMFpMBjuGEaGGCJOoDWAK014cxm+NQ//yzlgldTifwK+MEvyo9OsfXyCbsUj9izS6xB5Xfrs1qim6bVpMBhuNzuNOeMpt1vTcne6v1WEbn18JD7jKCZ7sYX/l1fgV98ELpGKTUnan9MBHHr4rD+bYf1YQG1fhrDsEuc9yLjYgYtyhyZrMjWteV/tPSRQjgk7i7QuvMXq8QFeao2zCS1ACIk9M4c7u4tM0dlslPO+0DBoEi2eY+nPX2Dx+0v0yzNM/uCX2fXpo1QemMR2bUR1As8/xtSkIurXCZ+7yvqJ16hdfJLsdAE/52wjtAVCqrT/p2ujNuo9BVIppG0j3fQYBEPTpcEKnbdPcPWPj7N8vo117BjlH/xB9j77ENlqFsdRSBGQ+dhnsMolclMup3/nZeqnT7H6rVmKu6pYroM3uopPNAiFKBQofvYLzDz7CWY/fgDX97CVhZQKHIWIrkWXdbZCcPQxZn7iK+x9ag/5yRzSlkhdwsl4KN+nO7/K4PgCzV4J94lnmPn3nmX6yQPkCy4SjS5nsfMBu1fmCftvsri8TP2tq/QemCSeyqIcgaZNLCBUu8g+fJDKQ09S+dQnmDhYwvUthPQRbkD1qT50Qnonr1BbWKJ3dYV6P8ZzHGxlo20bYaflMEKm51zYFpZrI22VnlvztX7HYgSnwWD4yBif2NZJgghj5GoXTq/BK0vw7QX43RVSY4sBUIAvFOEzFToPF2nO5ehWPLAlQkqUVJucaLcTmyaqaTAY7jR2qgl9NyG69XZ0fyQ27W6Mc2Yd/vAM/A9nSWs2bWAK8IhyLq1POTT3OTSmXToTDt2yy6DgITwb27FxbAfbsXFdF8/1UuM161od/I2PpcOx148ZrFyi9lqXuPYWcpsgZYJAKJv8p75A2aniZR2kfYOb2Qmt0e060dULrJxdpFWzsGd3k3toDn+ygKVE6nwL4GZRE3vJH5ghf3KB5ulF2lfW6Ne66OkcWDscsxBIRNreAzYdmGTse0cnULtK9/I5Vs4s00/KVOYOUnpkP9mJPK6rhpFIhcoU8fbuR0YNym9cpHe6SfvsGWqXnyZTzuMVh5vWCcJViEyRYN9+cvv2kamWUzfcHc6HyAZYE1WCvbtwizlsfxS9tZDZMnZ1mqBawM236Ram8B55nPzcDLlShg1jYiuDyJcJZqv4RRe5MKC31iDqDja67QgcrMl95D/3Bay+jzO9i2BPAccWkEToBDQKmS3iVip4lQCx2iPsdegPkrRjzdCBmesmHtLzbb7T73yM4DQYDB8JGjZ6fslehFjvwnwDTizDn83D1y6TOs+GpDPxVfg7e2g+NUFjf54wsEgsiUQgpcBSqbB8NxfakUmHwWAw3A28mxDdKSVXA1Y/Ri514MVF+OMF0qhmBsjT+2qGtSM+jYpNs2DRySkGvkJaCqUsPMvCcdIMEcd2NmrgR8t2/Ytv+Hgk6H6fuNGkvxSl9aWbnqDTEKft4DU6RLfIBEZoje42iZbmaa20GHQDnERAe4HO+RZcGf9uSNBRl7Adg4gQ9Ogv1wmbPXSk0WrnnpgJesvfg7TzCVxzTtUJrC/Sv7pAa7mLDo7iz8yS310aRjbHV64QmRLO3kMUDlRZvXqe2vIijfkmlQMhFMc2pBQyE2CXi1j5zM5ic4RrIwMPK/CRaouvq7IRjo/tuli+j+2XcPfO4WcCNnc9kaAcrEwWFVhgDYi6A5Iwvnbu8bCqe8g9NUk2jqE3IK5foXu5QxSlpkMaAYMl2gsNothCJxE6iYjjDTeH4QnWjN40o/+vew8Z7kiM4DQYDLedUR85oYE4hqUmfOcS/K8n4fnzwDppRNMH9sCv7aX2zDSdiYB+1kIPmz8rIVFjxkBbhea42DQYDIZ7hR1rQQVoIZArXXhjGb6zAA9n4EeO0jycp56TNDKClpswEMMJPyAY1bwPJ+1GwnJrtsj4+DouNt97jB2m+tZt/KNHqH76MaZ/cF8a4dxOU0qFv2sv/u4Ay06DWx9IV2hN0u8RNuokYZ+41aZ98iUu/NZpHGuryAOtE5LGKr2lJv0kwFptojs9Yp1gfUBbGq01cbNG2KwThRFiqoqTK+K51rYCUQgXbZdwS0Uc30av9OitNYg7fdiuAci42fC778mOT0x7Y+qha98wNdhz4LpJ22Hk0VIIWyK27UdioWyJlALdvkrnwikaL7zFyotnaDXb9ImJhUTEfaJGg+58E52Pzff2PYYRnAaD4UNno72J1ogwQfRC1FoXLtTglUX40yvw7xaBNdJG5EWgDP/ZBIPHKzQeKNCeDtC2BCWRQmwIzXFzoFGal0mhNRgM9x0C0KSGa1kLHijCzxwgdDXNnKSZU3R1TESM0gkuGkk6lqqh2NzOaG3rMjJeu+la+AR0T6CCIu6uOXKPPoIrBQq9WfcM12n5Acq3bt34HSdp2qzWICERCUm7R2gNayuvw0WVbQK/gF/0Ua5C3KIkmSSOSeIYrRO0Y4G9U8sVGPVCFZYEBVrHJFGETjbFTd8fNyBMb/7sC/SmF8UkzVXCS2dY/t5x1k5cpH6+TtToEnk2OnCwbBvZi9GJQLVjouxNb9Rwh2MEp8Fg+NAYpc0SJ4hOCOs9WGrBxTqcXIOXVuH3loEaaeqsDZTh56uEz0yx9kiFQdElchVayrQz3PBCZ3y2fbtZ91H6rBGbBoPhvmAYsNI6YeBbsDvHYMqlS0yPmDAJYRBhxTFWkqbkqjFH7+1utxOYNxfZHEdAX4DtojIF7KkJPCFu24WoFjoVeIlABAW8yb1UPjaD7Vnbl2UKiRAK4WZx9+0jO5FNjX9uwVeKEMMJUSkQcbpfOycPD3OC4lSYpxk+kluyIzfBu6auvtvv4ibh/Blq33mO+W+9TqslEYUqmQdK2MUsMuOlkxvddfpnz7LWbtC0topWw92OEZwGg+FDQTPqoZkg2oM0mvniAnx9Hr52kWt94DxgAn50Nzw7Se2JCu3JgH7GIlYgdOqIaAmx44XRKKq5NaJpxKbBYLjv0JBYkihrM0gg6YeogcZJVNpH0mZDOMotgnOrwNyaKfLBxtZR/Z1OxR8fME32JhHDRWuByu4h/9CzzP3NH6BQDHB3jFyKYUqpjXAshLo1IU7hOkjHRSIRnT70wx37iWoSNCHxICQZaIS0UJ6Hsu6GS3gN/QW677zMpd//FivLOYJPPsHUD32W2Sf24+V9lD18X/Xnab38HKJ+ke682lQLa7j7uRverQaD4S5gk+Os1og4QV6sw2uL8O0r8PuLcG4ZaAyfVYZjB+CZEtGxIu29WToTPmHWInYUCIGlBUql7rPjqbPjF0Yjofn+Z90NBoPh3kKIdKJOaQlSIR2BZVkbZkOj8XJ8HN0awRwXm+PrvSsRAun62MUSlmdDY52wdYV+R5JUXKQvd6zM1KPelbcwumllC9j5AtKziJtX6DVW6XYigqyzIYw3SHok/WU6q2v0uwOU7+FVsqjAIfU6uIPRwOoi4eICrVYftetR8g8fpfrofoJKHuWkqcQS0Dio4QTyjXOXvh/vQ4zgNBgMHxg9SpsNE1jtIK424VwdXlqE/+cqvLMItIfP9qBchp+fZPBEmdZcjl7FZZCxiIezx0oMDYG21A6N12luTfGCu/hiyGAwGG4R467clkoNcVSSbPr9u4nLezFTRAuByOSxp2bJ5jK0rjQZLFykeWqRfNYlCLLXopdao3UM/TX69QGDtsKaKOEEDtZOLVFuBiGgNIU3PU2hmqF9bpHelXmaF1fI52YQgY0atv/QSYRurhKeOUXj7DKDjoWzZ4b8bBYv8wHrN28LGjot4maTQX9A7Chk1kfmAqRjIdWwL2kSEbXX6dVW6Kx10FGC2C6nVpI6DiaknhBDV2bDnY8RnAaD4X2hE42Ih0KzF0JrkNZovrYA35iHf34JWAZapN8OGVCz8Lf30PzUFO1dGbo5h8iWiCRGxOl3iZQ7RzR3Mqy4Fy6IDAaD4VYxLiCTZHN14HbRy53u3zMIgc4VULv3Udk9SfPcedbnL1L7q9fJFRVOdjdBxk3bPcYRut8mXjzB+rk6teWA4scfp7CrhJW7BSm1QkJxF97cQSYPv8n6pUv0zp9n/ZXTFCY8stUcjqcQWpP0GwwunKPx3RdZO7FGP7OPzIHDlHdn8HN3g+AEEGkrGSsmbK/SXV2hs1LHVwmOIxFRSNJv0r5wivV3TrN2vk7kR1satKapzVqqtH4VDYOQqN8j7HaJXBth2Qgpr2/VabgjMILTYDDcEBtOs+kPiGYPVjtwpQ0nV+F7i/C/z5OmzPaAGHCAA/A3qiSPFGnP5enMBHRLLokl0GisMEkFpHVNaO7kjLg1dRaM2DQYDAZgk2DUWpMkycbk3Nbn7SQ0710Ews5hVfYz9UNP0xXQe/4C9W/8CWqwRPfKUQqHp3ARiE6d5OoF1l7+HstX+3S8fcTVXTjZDF7Gvr4zyPvYF1QB9+BRqj9co7XydRYunmfp6/+OuLvKxNFZctUMFgP6l9+m8frrLD33BvWkSPDQYSqfPEquFGBbIv2avZMRAqb34u0/QGnPGTqnzrP2je+gmy0Gj88R5BSiXaP3zilqJ0+zdvoS7Y4NboJOYnQ07GWKAOWQ5Cfw8j5e0qV2/jxrL7+KDNuEM0XsuT14xRyBo0yi7R2IEZwGg2FHttZlymYfVjpwuQGnVuH1FTi+Ci+0gC5pPcnQafZHsvBQjvBQns5cnu6kzyBjEzsKreTI6H3DJXE7gblde5P75wLJYDAYbo7xMXEkNMfNV7aLXt6OcVQnMYQRcRSShPGwpcfNroQ03TWKSQYRsYzR0eaWKkInkEQk3cFY65Dh74SN8Ct4x55iMlIQ5Fh94QrhyddZWjzL2gtZLCQyjIk7XcJ2h7g4RfbgfrITORz/vSOKQoNIYpIwJOlHJFGyvTOSsFCFGdwjTzH1xQ76e++wenqJ9ne+QXgig521EWjCWp2w1idmjuKnjlH61JNUD0/jBnba1zJOe2XqOD3meBBB/G7nNk0XTsKQJIzQUbKjaE1LZWLiMCKOop1NfPTQ/TeM0r9LGKNjvSEUdTCN98CjTH2xSV++Tf3KFda+tU7/TBE7UEgESReUyuJMTJPtDmh22nRXa3SvdtAVFxwFwkV6s2SP7qd04Srrr1yh9lffon/yDPXqHMWfCqg87OM56oM2izF8CBjBaTAYNqHH7mitkYMIWmEa0bxYT5uJf/MK/NslYBVokvYCy8LhKnypQnSsTOtgge6kR9+302imGKZyMazPHHNIHHdJ3MkhETBC02AwGG6AnbJAbvvYKQAhUE6AKhUJDivcSgbLt683x3nPdQmEVKhcDrdaxCeH7dsINbYW5aC8LN5slbiYxfHtsWOWYPswfYjCx328Upms/yrLr51i/exp1t+O0Ci0m8XKT5A98iDFRx+m/NjDVB6YwMu672kaJKRC+DnsahnfKuLkPKS1Q0jUzmFVDlL6LFheHl+9xsprp6lf6rI+0CRCItwJ/Jk5ik8cpfLMIxQf2k1uJoetJAKNFhKkjcrncXeX8YoFLN9B7pRXKhTC9nEmSvj9As6GS+yWpyEQykZmc7jlHn6Qw/ZkWnO5FSlRjo9dKOJPWCQlD9u91ldU2GWcuaNULJs48bG++xarJ+apr1wBW2EXJ3D3H2Py4T14skG3DMmZPjKOida7JHEBsBDSQXhTZB59jEq7QaP2KuuLCzTOd+hnJd5nO0QH38dEhuG2YASnwXCfk85ajoQcjHpwa62R/TAVmS9cge9chX+2ACyStjSRQB7YA1+twicq1B8u050O6PsWiUhTZhHDttXimogcb2WyXX3mThFNg8FgMNwYd8a4KcHysPYdo/ysw5HdfeTkfjKHpnHETQpOZSODEoVPfYG5uSblpErpgQp+9tqlrCxM4R97mr2/UKZfPYS/fxprk6ASIG1keTfeI0WmJw+Qf/IcrctLtLoDEhQ4WVR2guDQHMFsmUwpg+Vaw++inXdPCEniFfCPPsWkLGJ1MwSHHiRX9XdIwxWgXNTUAxQ+XSKYO0T5qXM06h16gwSNQjqTOFO7yD6wl2AmwM3ZSCWviTnhoPxpcp/9HLt3HyPv5CkenSHIW9ufW1HEmX2Y6Z8QZOIscmovhaqN5WxVnDYyM0n26c+zZ0+LvirjHMxsY1QkEHaAtfcoE1/0sR8ZMKgcobg7j9z4s0ikV8bb8yizX5ogd/BRJi5eod/vgbRQhQrO3FFKswXsqE54dIrcfJ8oO40/46apw5DWvioPe/+TlLxJ7OpRGqtdBl0Xy5om8+AU2ay9o9uw4aNFaNPoxmC4L9n00Y8TRC+GXgRrHZhvwtl1ON+A19fgD0btTELSSwQPHinAZ8tET1To7M3Qrfr0sw6xK9FKQAKS1Jp/PD12ayRzJ6EJ96h5hcFgMNxPJDFJp07UbDJoxuBlsbM5rLKP5CZEp04gDonW1uh3QyJc7FIB13NQzlBmDDrEnRb9tSaJk0Nls3h5H3FdxE9DEsOgT1RvELe7DKIEPRSkwvGxCjmswMGy5HtGNkfr1HFI0qwTNZoMIguZL+Bks9jeuyV5aggH0OkQ1htEg4gwSSeChfRRfharmEV5ArU1wqhjdNInXqkRtvuEwsYulXEC79o5GScZoHttBst1Im2Bl8EuFrAcsSUqmqDDAVFtnagTEUsHUSjjBtZ1Tr06idDdJmGjzaAXk7gFvEKAEzibz5tO0N0eUavFoNkmTuL0GB0PmS/h+g5C99GNdfqdmER5yFweL++ixvqf6iRC97rE6+sMehFJJBHCR00VsDJjAtVwR2EEp8Fwn6EhNf0ZxNANoROm7rKLbZhvwPk6nFiHf71K6jDbAyLStNkAPl+EL07RPVKkvStLd8Jn4EsSIZChRqERbG4qPl6TuZ0J0Hb93uBOmaE3GAwGg8FgMLxfTEqtwXAvM5pOEtfuJoBINKLWgwvr8M46vLwEv70Ai5dJRWZMav6TAVmCvzFJ/MkJWnM5uhU3Nf+xJYkCYo0MExSjSOb16bLvFc00tZkGg8FgMBgM9yYmwmkw3IsMyzJHH+7/v707i5HrTM87/v/OVvvS1Rub+06R4kiiRuJIluzZbcdGbCCAg1wEAZyLIEGQ29wml0GuAjgYIHcxkADORWLH4y1jwxhLMxqNRiORGu772uxmb9XVVdVVZ/tycbrIJtnNRaMeUernBzRaJKtOnyo2AT39vt/7Wmtx2iHMdODmYtYqe2IG/vgOLNwlmzCbcq+KuacK3x3GHqnR3V6i38gT1gKivEfiG1LPAScLiq4xOObBQLnepNn19mcqaIqIiIh8OanCKfJZWf2jm88rP1kLqYXEZucy2yE0e5jFXtYqe3YO3pmCv1skO5PZ4f4qkwq8PgxfHyJ+oU5nb43OyiqTdDBNaIW7qmX2SdXMh5eMK2SKiIiIbB6qcIp8FqyFeOWfkgHWG4O+IV+b+0EzTqEfQyeETh8uN+HMHHxwF/7XXeAuMEMWMvPAMARb4F8Okxxr0HpxiKUtZXoVDxPGmCTFSXggND4cKNebMrtWNVMhU0RERGRzUeAU+SUM/vmYfpxVEA1QycF4CRznM690rrk/uhvCUggLy9nQnzNzWbvsySb8vE1WxeyS3UwOKMF3ynCkQrq7QndPld5InrAaEOddEt8ldQxYu7LKJGuZXat6+fDezEGoVNAUEREREVBLrcinZq3NzkYu9OBaE358CybKcHQURopYJ5vW+pl9vZWvaaIU042yKmY7hEvzcH4OTs/BqRZ8sEQ2+Ccm25XpAw34VhmOVkn3VOhtK9MbydOvBvQrPjZwsY6DYy0O2blM45g1z2I+3Eq73s5Mtc6KiIiIiAKnyKdgrQVrcZYjuDALf3cd/vgW/OEOODx8r8sV7C8XuKzFWjBxiklSTC/OKpm3WnBjEW604C/uwE/uANNkezI9oABU4bUh+PVhopcbtHdX6IzkSH2H2HPAGFKygGksuBYcx33sucy1WmZh7XCpoCkiIiIiCpwiz2DQQmsHeyzPzcL/OAvfOwvUYWsJu61M6oDBMmhYf9bwlQVaMMHWUgAAAB8QSURBVFGC6UUw2832ZF5bhPfvwB/dBqaABVYOjZKFzDF4rQHfHaH72gjLY0XCsk+8Mlk2dSE1Wd3VAJ55dPDPem2za7XKDgLngEKmiIiIiKymwCnylKy1WeUytbjzy3BxDv7nWfjeRaAFf7AbdlXoF31cm+JY56nOL2aF0KxVljCBbpjtyLzbgakluN6C84vw80X4aNAuG648sw6U4XgNjtdJ91boTRTpbSnSHSsQFdyVCbPg2CwQeqvOWa63yuRxlUydzRQRERGRp6XAKfIU7Eprq7UWd64Ln0zDn12G730CLAIV+PoY8fYyiWMxFoy1j1QAV13w3voSE8XZWcz55SxkTrbhZgvONuHdBbi8SLYnswckZIN/KvCNKrxcI9lXoburQntnhV4tIPVMdt2V8qoDawbMtc5lDs5kPrzGRC2zIiIiIvJpKHCKPMG9yqZNScME92e34b+dge9/QrZipAbHttB/ZYTekI8TxeB6954LwKpwZi3Z4J9eDO0+TLWzauk7k/C9SWCObKpsBKSACwzBsZ3wrQbxgSr9LQWWGzn69RyR75B4BozBpikmMjiOwQzOYxrzSMhc71zmw22z2a2rkikiIiIin44Cp8hjZGEzq266Mx3cj+7Afz4J71wCZsnaWsvwzQadkay6mEtSrGuzkGlMdmYySXGibEemafXgygKcuAvvTsP/XgBaZCGzu/KVC8AIfLMGx6rYbWWWtxboj+bpVVbWlwQOiZ8N/7lXiYQnri5Z60ymKpkiIiIishEUOEXW8cCZzdkufHQH/utpeOcC2UTYPlAEKvRerNHLOXjGYm0KcYoThjiRheUY5leG/ky2szOZH83Bn82QhdYuWSUzB5SBCvxeHb7WoHtkiKVdVaKCS+w6JC7YlfznkA3+ccyj7bDrVTEfrmY+7jymgqaIiIiI/LIUOEXWYAcfqcXGCfxiGv77WfjrD8nObIZkra5F+P0aCweqxA64cQpuirPcx2mGMN2F2+1sbckfTQJ3gHmyHZmDybIVoA7/aoz47XFaB+p0RvIkLiTm/lAhAGOz4T9r7cNc62zm6irmekFzQAFTRERERD5rCpwiDxlUNk0/xplagndvwH86A2cuk7W+JmT1RQeo0t9XJLYp1XNz1O/04UYXLnTgTAc+aq88JyarRxaBOhwuwEsl2F8m3l6iN54nrOcIawFhySdxLBaT7cg0BuOAMdl5TOM4uGsEzidVMR+3M1NEREREZCMocIqskk2jtRAlmMtz8O5N+DdngGtkA4KiVY82gCX3cYut9hrutRD+tAN0yNpkB9suHaAEL5fheBX2VehtLdAfLhA28vQqPnHByx5ms6cYsxI2V8KleWjwz9NWMR8OlwqZIiIiIvKrZOy9MZoim9tg9UmaJHizHfjTc/BvPwHOk4XIhCxADqxMj8UnO4MZkVUyIftZzjAcG4PfGyc6UKO7pcjyUEBY9omCbNiPtRbs/dUlq4f+PK56uVbYBB4JmQqYIiIiIvJ5UuAUgXuTaG0U497twF9egH/9C+Ai2ZnNdI1nGSAgC5c+UAIa8PvD8Pow/W0l+uMFeiN5+kWf1HeIVzpxTVbGzNaXrFQyV68vedLAn7VaZkGVTBERERF5vqilVjY9i8WmFtPp41yahx/fgn93CrjO/TObawW4wWihIjCC/Wej9I8N09tfZ3lHhaTgE+dcrO+QDoIg96uZg+my61UyV0+dXa9VFh4NlwqbIiIiIvK8UOCUTc1isUmK043h3Bz89WX4D+eAS0Cb9cPmgAEK9P/FCHO/tY3enjrxcBGT8zA2q146gMf9oPikPZlrncuE9VtkFTBFRERE5HmlllrZtAbTaJ1WH64twH/5OFt9wg2gx70JPo+VBU4Ygt/cwfw/3cnCa1uw9QIOLp6TVTLXa5Fd6yzm6qmy660wERERERH5IlCFUza1bCJtDIvL0Bvs1iyRBcnVQ4DuPYMHQ6glC6ez8IOIxo/6VP59j8Vv7yScqEI5wHfcB4Llk1plNVlWRERERL4sFDhlUxoU9q21JFjcAHi5BskEvFeE24tkk2l7ZG21CdngoIT7ZzdXf/SAELoR/n/sMxI7hG9uJdw/jB0KwPNxPBfnoUrmWrsxFTBFRERE5MtCLbWy6TwQNpOEpBcSd5YJmx3CZptwfol4tkUy18bMdPAnuxTPdcn/tEeOkIA+96ufliyIDsJoCuSAYfjuIfjnB4i/sYu0XoS8t+4Kk8GvRURERES+TBQ4ZdMZfMunaUqapkRRRNTr0ev16LWXWe506HW6hO1lks4yLPVxWyFeO8TtxPjdmKCTkGunFGYSSlcTCpdjHgydBqjCWyPw21vhzQk4MEI6UcG6DgZVM0VERETky08ttbIpPfBzFgO4Lngu5D0sOaxvSfMuUc0n6kfYKCaNE4gS0jTFjVL8KKXQtZQ6KeWOpdgzFHpQbCe4kxE0gZyBqy3YVYGxCoyXMS6goCkiIiIim8AmDZw264R8tmdgMI8OLb0XXNb6sxTSlDS1WONgHAfH+YIFjcHr+5IFJGPMvdA52IfpuR6+55PzEkxq8XIOOdcjciOSNMnab5OsKprYlMhYYmNYcl0c38PzfXJBQMn4DHUt5a6l3Ixxp/pQCe5/f3xJ31MRERERkYdtwpZaiw172CgiidKnzJ0Gaxwc14dcgOc5GCykKTbskcYW63i4+Rw4BmMs2JRk5jpLl66wePku3ep+6od2MbxnFD9wnv+sYVNIYpIwIrUOThDgeO7zf99PaXVbbZIkxHFMHMdZe20U3ft1HMcrQXPlI01JVz5bm2JtlhvtILR6LoHnk/c8Aten4PrkjIefC3CKOZxCDuNkf/9qqRURERGRL7tNVuFcCYJ3ztG5cYvm7Q5JkhWc1s/dFqwl8Sr4Yzso7t3P8NYivhuRNufonTnLYjslKo9QfeEFikM5gsDBpglJc4rOmZNM/ug8ixMptlCnvmMEP/iVvuhPwWKXl0ju3mH+4i1Cp4a7dQ+NvXWCnPfEzZRfBIMK52BNyeD3stDo3QuYg3OeD/968GGtvfcB2e5Mx3XB97BBQJgPIBdgXR/PcfGx2Q8rvhTvooiIiIjI422uwGnJAufVn7Pww/e48N4MceJhrVm/cmezSmZUmaD0lTcYM+NUhgM8r0M0dZWFv/o+N+5Ywu1H2FneipdvZBVMa7GdRfq3rjH/s3PMHz7I8Mtdkph7VbHnlyVdmqd//gST//enLOV2kX89T2GihBd4uM/1vT+bQYVxsBvTdd17QfLhz6sD5yBkPhw+B9d0HAfXOHgJuGGK8RKMZ8BzPs+XKyIiIiLyK7W5AueKtLtEODtL9/IczsgWgvEauUYOkjWqnCuB0y8Pkxut4JY9jGOwaZe0PU3n3GUWrxuicIju4jJJmAA+sBJmPA8n8LKql2swzvMeNgFS0rBFOHuFpbNXaOZcylubxFFCCrif9+19Rh5uZx3sxHRd94FACawZQFc/5uFK5yB0Dj5c131gJYqIiIiIyGawKQOnSRNslJL2fYq7XqDx2iEah8fwbLr2E6wlyZXxhreQ217Gz7uYOI9bH6P6+lcY2WEIJ/ZQGinj5VbHsZVwYVbObH5hsoaDk6+Q27aHoeNtfH8XuX0j5ALvSxM2V1u9F3M1ay2O4zywtxN4oJr5cCAd/PfgfObgY63AqfApIiIiIl92mzJwZsHPwXgFcjsPUH/tDba8vZccrJyve/jxhtQxGOPg3AuPZbyxXdS+8XXSRYiKY9Qmqvif+oyjhdRCmmBTe/8ujAOOg1nZ3fjpLj2Ylps+MJ3XOCvXdh5u83Rwyw2CfUcZ/Vadqj+Cu2OCfM7HMaxUfRNsmt4f0vskxoDjYpx1BuWsVJJtmqwa/GuwxmAGz3v2V/7UVp/pfPj3Hj7fu1YIhQfD5+D5g8+rBwRpWJCIiIiIbBabM3DeY0ldQ+pmocu4DuudsHMeDgiOjykOEew9TD00JH6BoOTie58ySKQphCFpt0MSRsSxJXWAIIcpFPCLBTzzKUKXtdg4Iu53SLohaZJircGxBiefxykU8Qr+owHIL+DUt1J9sUZMDqeUw/VNFliTGNtbIloOSaKU9Il3ZTGuhylUCAprTbu1YBNsr0va7RKtTA+2jksa5PDLJTzf3/Czo2uFwLUqkqtD5urguTqIrnU9BU4RERER2Ww2eeAcFPxWKlJr7dJc73lhl3jmOkvv/AMzCx5RYw+jXztObaJMvvQsb6vF9rtw9y79q1dYPHeBxekFOp2YJOfC6Dj+zj3UXjhCY6xOqZLHfarkZQFL1J5m+cZVWufPsXhjln6zTxoZHDcgP7GN4t69VI7up9ioksvnGKwJTdsLhFdPcefDKyw7Y/j7Xmbna9vIF11se4bwzLtM/eIWzdtt4tjBGh4I69ZxMMbBeA5gceuj5I68xeiRbVTHK3iD3tw4hOU2yc3btC+ep3X5Ggvzy0SALZUwY1uoHD7K0K6d1MeqeN6vPqytFxzX+r3HbRlar3VXREREROTLatMHzqfvCX1I3COZn6T9/rvcuZ2jv6tHbt9RSsMFeNrAaVNsGpJMXqXzyWnm3j/J3IXrLM0t0QstiQcMD+Ftv077dhtefRFzYBvlocITBg9ZrA2hv0D3/AnmPj7J3Q/PsTjdIlqKsX2DweCPjVDce43K4hKjR49Q27mFUsnDGEiXl+jfvsDsux/QDPZRTLez9eg4tmCw/Q7xnYs0PznHnbNNwsjNgqoBzMr7mVpsnGDDhDS2BLv3Uc0forp9lHSEbPJQGmEX7xJdu8T8+6eYO32e5rXbLC3FxNZCKYdtDFGZXCJ8ZRnz6gvUhkv4+efn23atMLpe6FTQFBEREZHN5vn5P/fPzaec5mNTbBQSN5v05/L0613ifoJNnuUSEUSLdE+8w63vv8v5P7lCemSE/Hid4kQBs9wjnJ5m+cx1bv7NJfjDfwJBkUItj+s8ZpULFsJF4vmTzPz997n+d+eZv+ER7B0jP5bHd1Li9iK9a+dpnjxNcuI2u//AsOtbNfL7KrgGbBpje13ChUV6uQ5OLyJNbVYFdn2c8hC5sS2U2gWCJDvXeu92jMUudwjnmnSuNgmnDbbUy+rITnYsFSwkXcIbZ1j4f3/BmT/5hOaygS0NKltHyacJaavN8rnzzH4yw/KVeeJcjeDYDtzAxXGe3/CmYCkiIiIiktncgdNYIMUkMaYXkrgOj8zPgWzgjetl5zwfyRL3e0mNwzNk15S0M0N46SdMvn+Wu1MG/7tvMf71l2i8sIvaeBW306J3/QKLp88y+e5FOudOMTPaoLyrQbUSEPjrnDhNl4imLrP4F3/PzE8m6bOF+u++xejbhxjaNkTJTYiat1n88GfM/uhjpj8+Tev9bcwM1aiMvUKh5DF4KWYl2A6m7FrjQHWM3Ku/w/bdXcaWI0jvv2hrUoiX6V04yfx773Hj4jQc3EP58CuMfmU7hUYR17XYJCKcPMfcRye5/t5tOkO7qX/jEMPHjzC2b4KcTUjn79K9dpY7751lce46d/7yR5Sr34ZgG5Va8MUZ+isiIiIisklt2sBpTAo2JJy+wdKpIjPxFN7DVUObnUW0QY7c9t0URxrky/6jQcc+rtq4jqhFMn2N5k8/YObyPP3SFobe/g3G3zpCY+8EpXoJp98l2jVGcbiMXbzL5K07tM5eZO7WK+R3OwR+sPa1ky7p/F0WP7rC0s0ududuaq++ztir+xnaViPvpMTd7RRzDrkogtmT9OIO/WaTMIzJFdwsQw+2ugw+Q7biJShiRvdQHn3kjcAmIen0JeavpMT9kHRsnPKRlxl+41VGdo9QKAcYG0HYpHf+DPNnrzI/5xC89irDv/EqE68foL51mMAmsLRAf+8Ypt8l+eA6UydPMPvqEXKjDUqVAMf5Am2aERERERHZhDZt4MSkWNuhc/YjJmev0Hy/kJ1DXF00TC34OUylzvBv/2NGXimSK/nPHi7X0p0hvnGBqR+eYqk5Su61A4x9+w1Gdw1RKPkA2FwRb/t+Sp7DlunzLM5cYeH2De5ebDIyWqBUCda+lyTEhl16ixFp5OKVqxS3jVMq5ggMYFz80hi1Ay+RTx38JMdcsA2nUcCsnMFcZyPp49kE22/TP/cRsz/7iDun5ol2HmPs628y/s2XqY2W8FyDSdrY7h3ap07TvDJHvz7B8NtvMvr6QUZ2VDCAxYGhYYJ6maGpq3QnZ5g9cYX5S5NU9u1kfEcNx0eJU0RERETkObZ5AydAmpAutOiHfZIFD7PGsBcT5DH1PqWlLkn0qWLY2toLxLNTtGfaEOwhV6hRDFLSXococVc90JKG4NaG8MoG22qzfHOOZLkBFNe8tA3ymFKVcr2AH3boXp1k4ScnKVdfwDgjFHN5nJwPtTGCF19nZMs+qiaPLVbJV3P4nkMCa20kfbyoCbNnmHn3Q+5+skjf38nIm7/Glpf3M7ylmIVNA0R9zOIUvdk54mVDUBijNBzguSFxa+mB1w4JBAXcWg6/3Gd5eo7+7BJpYrH+xu7mFBERERGRX87mDZzWgFugsHc/lf3bqOyo4qSwOmYZC7g+plihunecUuUzqm4CdNpEi/OE7Q6xmaZz7gTTf75AM+fiPhCjDGm/TXLnIgu3mvRNHu7ME4URMZY1GnzBKeMPb2P011+i1T3D9M0WSz//IZPLZ1naMkqpMkph61YKo0P4jTLu6DbyQYAb+DiegzGGZ5h9lImXiG5dpv3he0x/fI1eNET56DHGXj9MbecwuaJ3/70LQ2yrSdRqEbWWiJau03znBySny8ytcYg2mblG6+Id+t2YeKpJstgmTFIC6/DZ/YWIiIiIiMhnbdMGTmtdjClSOniM8e+8xvjXduKnD3ZoGmuxxuC4Hl65jFvIfWYVtSTsEXc72KhP3J2i/4sW/eunH/OEhCTx8EYKBGlEalMSA/4aDzWUcBs7KX3rbbaGPulPzzF15SKzf3uaOa9IvjpObf9eSnt3UNq9lfzOCYrjw+SHKjieu8YVH8dCmhAv3KZ95iRTP/gpczf7eC/uZuSt44wd3UZpqPhALrRJQtrtEoc94vY80VLC7N/cYsFbc2JT1qqbWNJSlRwGzyYkJs3abkVERERE5Lm1aQMnANbB5Iq41Rq5+jCBa3DXq5g5LuYzXMVhrIXEkqbgbdlGZdceRg6O4bhmZW3I6sdmXzc1Hk55lGBiJ+V6Edea9c8wBjXYcoyhfzROcPhl6hevsnR3jt78HMncHN0rP2bulCEJahT37GHk7TcZ+epLjOwbx3Of4XWmMfTbdD7+GXd++D7XPr5LvOM1Gse/yvjxAxQrBVz34WBosdZiU4tTqZObOMjYK9vIr6x7efTNykbkWnyc6n7qh8bIeWtNDBYRERERkefJ5g6cgHUN1nExnovrur/yEGNScMtjlPd9hbFvHSbIubjeWjdhsoDsFzDFOoVansflX4sDXhFndDvFQg13fAfVTpu4tUDcnKV/5w5Ll27ROj9F68cfMJP4pKZEaWSIYtXn6Ta8WGx3kfT2GeZ++gl3Ty3SMbsYO/4Gw8deoDZRwQ+cde/TpOB4FYLGXhpvfJXq9jq5NVe9rFzAupigSjBcI1hp/RURERERkeeXAqe1fIrxOL80E+RwSkXcvI8xObzqMLn9h6jUcvhrhS5rMRZSzMo+0PUH5thOm6TTot/qkFLCK5fI7d5PAYuNe9BrEy41aZw5RTN4n6ufnGPpF5dwR3bTe+Mo+cFalCewSZ94fpL2ifeYOXGNpYUcwcGvMnz8GEMHtlMse2sHeM+FQgEnl8d4HsbL427dTfHgBJXyGk3CK6/dWsBxVnaDKmyKiIiIiDzvNn3g/LyYoWGCia3khqp0OrO0Z+/QaoYUSjmC4KFKq7VYYmxiwTrgPqaV1lrSqau0T3zMzZ+fIXIOUn3xJbb87kvkix5evgz5EvnaKIUACiywdPUj+heXiW/Ns9ztUU7yTxE4LYTz9G+c4+7332HhEph9rzL6219n5Og2yiP5davFJlfAGZ8gNz6Mc32W5flrNKc6lHeklKsuD58itTaBJCVNbRa2n+YNFhERERGRz50C5+elOk6w7QDjL+yk+1Gb3umzzPztVvJvvgB7xsjXijgOEPZIluYJJ6+wMNkn8oYoHX6BaiNHLr/GgB8DJkiAFr1LF2m1WvT64L0wTn3PCMVqnsAYTBqTLi/Rbc3T6ywTGXB97171dH0Wkgh6TTofvcPUD3/E9cvLmMPHGfu1r7Hla3uoVgt4j+v39YuY2g6qe/dRvdBl8ZPrNH/wHsWkR3B8H+XRKp7vYmyCDXtEk1dp3ZqhORWRP3iYyvZRqsOPbykWEREREZHPnwLnZ8E8oSV38OerHmbzdbyJvYy8cYzFuZPM3LzF/N//A37Uoj+7i/L2IXwH6LSIpm/RPneCmfkCdvwg41v2Uqr4sFbgBKhU8MYalEdytG7eoXXmJM67daLWDiojFYoO0G/Tu3aKhdNXmZ8COzREfvsouVKAMxjyM7jf1S/PptheC3vjLPPv/4w7Pz3P/Bw0Xq4RVH2C5Rn61+eIHi6RGg/HKxEMV/HKPk5hlOKhI9SvLbBw5TTLH37ArNfFhgs09m8lV/Bw0oi0s0T33Enmr80y1ywyVBjHa9SpNPJPc8hUREREREQ+R5sycFpWzm0+KSg+00WfcK2H/thQwBvdSflb32as3SX8q58z+X/+gZuTN5k/vJ3KrhECF+xSk3DyNs3TFwi3v0T1+C5MbB9z6wZTmyB/6CV2/tY0vbmfMHniDLcW5mmd30VlbCVwdlu0b1+hefk2C9frDL9ygNqx/VQbRfzAJR3ccpq9VyYdvI6ItDVD/+N3mf7gAtNnlohNhaQ5Tef0z5m+fSp72KowaCzgl/HLexh5+wiV/VsoFEoUXniZxlKb3vwUN/78PLN/OUnr4jkWvrKDXDHAS0OSxSZLZy7QWQ6Id3yFWj/GSayypoiIiIjIF8CmDJwkCTaKiNshaZSshKpnZGy2HzKKSPsOSZSsnLFcXcZMIY5JeyFxlJCmWWqzlqxt1Svi1ncz/NZ3CPKj1BofM3fuBkvv3eTWjww4LrglvEaDwrFvsvX4azReOcrw7hJ+cf19mcbkcOvbyb3xHbbTIDj4C6ZPXaT9yU9YWooxoQPWwWs0yG17jT3ffJHRr73C8Fd2ZpVFx2RrS5KYJI5I4pg0TbE2O0+Z9jp0b03Rn1kinuxiTcTCjz9kqejj+Y9GQZtanPIIhS3HcXePE+waJV/0cIqjlA+/xk6nRGXoBHOfnGf+0jlmL50lxcGaHMapkD+0h/obRxj66lcZPbqb6lhRK1FERERERL4ANlfgNGRBa+Ig1a+G7CqEFF7aRXm0jPesCcbN4zYmKL/5FlsP+ISjBymPFHGDLAhax8HUxykfeZmtv1OhPLafxrY6rmvuhSXjeJCrkt91CN8rUao2KO05S3NynlYnJsXF5Or4Y1spv3SIxuG9VHeOUaz4Tzhn6WKCCs7YXqqv5XCGhsltG2bx6gy9+R5J5GDcgNz4Dkq791N78RCV3WMUhyu4Kzs4TaFCsOMgo78RU3S2Eewfxstn02vTfBV/9xGGf72Ke6hDYg02zYL7moVem+Lk6gT1reTrpZW9nAb8Av7IdrxckVyxQXHbOOXzl1mY7RImYN0Cjj9M6aWDVI8eoHFwL6WhPH5+nem3IiIiIiLyXDHWPqkX9EvGWuziFGGzxXIrxa0PE9Qr+JU8zjOkGJuE2F6b6O40Yd8hCcrkR0YIij6O52RnHZdbhM1F+s0OkT9EvlEjXy/cC3UPiCNY7pDMztHv9AjjNFuB4uZxChW8sSFyRQ/Pe5qFJatvNMX2OkRLc/RbyyTLMWkCxri4xSperUZ+uHT/3ObgaeEyabvJ8lyLxBRwykOURko4LtDvkszN0FtaJgwTLOax3cnGWozjQ1AhGK/jVwt4q7+etZCE2OYC4fwC/eWY1BpS42GcAt5oHb9eJJf31UorIiIiIvIFsvkCJ0AckSZJtmbD9TCu+0jgeiJrsSsttdYawMHxfXDuVzBtmkASY6OU1PFwPBfjOmtX56zNWnDDQfuqBQzWGIzjgp+1un6ayt7gPtIku65JDdbJQieei+O6j17XppAkJHECOOC62f0bm1Uyk+je9Z5+eo+LEwwm4a7x+pMYG8fYdOXtcMBYB+N54Dk4GksrIiIiIvKFsjkDp4iIiIiIiGy4ZyzriYiIiIiIiDwdBU4RERERERHZEAqcIiIiIiIisiEUOEVERERERGRDKHCKiIiIiIjIhlDgFBERERERkQ2hwCkiIiIiIiIbQoFTRERERERENoQCp4iIiIiIiGwIBU4RERERERHZEAqcIiIiIiIisiEUOEVERERERGRDKHCKiIiIiIjIhlDgFBERERERkQ2hwCkiIiIiIiIbQoFTRERERERENoQCp4iIiIiIiGwIBU4RERERERHZEAqcIiIiIiIisiEUOEVERERERGRDKHCKiIiIiIjIhlDgFBERERERkQ2hwCkiIiIiIiIbQoFTRERERERENoQCp4iIiIiIiGwIBU4RERERERHZEAqcIiIiIiIisiEUOEVERERERGRDKHCKiIiIiIjIhlDgFBERERERkQ3x/wF1yiHrhQfYdAAAAABJRU5ErkJggg==)"
      ],
      "metadata": {
        "id": "xC3O3QLGBn1r"
      }
    },
    {
      "cell_type": "markdown",
      "source": [
        "Dosyalar ilgili işlemlerde; os, shutil, glob gibi yerleşik(built-in) modüllerin metotları kullanılabilir.."
      ],
      "metadata": {
        "id": "Y059Ww5nGOs3"
      }
    },
    {
      "cell_type": "markdown",
      "source": [
        "# os modülü\n",
        "\n",
        "https://www.w3schools.com/python/module_os.asp"
      ],
      "metadata": {
        "id": "UvwS22DYaJvW"
      }
    },
    {
      "cell_type": "code",
      "source": [
        "# Built in modülleri pip ile kurmaya gerek yoktur\n",
        "# os : operating system\n",
        "import os\n",
        "os.name\n",
        "# 'posix'   : MacOS ve GNU/Linux işletim sistemleri\n",
        "# 'nt'      : windows işletim sistemi olduğunu bildirir"
      ],
      "metadata": {
        "id": "wp8WDVHBnq7t"
      },
      "execution_count": null,
      "outputs": []
    },
    {
      "cell_type": "code",
      "source": [
        "os.sep # işletim sisteminin dosya ayraç simgesini döndürür\n",
        "# '/'   :  MacOS ve GNU/Linux işletim sistemleri\n",
        "# '\\\\'  :  windows"
      ],
      "metadata": {
        "id": "mjcduIYiWhmG"
      },
      "execution_count": null,
      "outputs": []
    },
    {
      "cell_type": "code",
      "source": [
        "os.getcwd() # çalışma dizinini verir"
      ],
      "metadata": {
        "id": "4yjYH7XBW9g3"
      },
      "execution_count": null,
      "outputs": []
    },
    {
      "cell_type": "code",
      "source": [
        "os.chdir(\"/content/test/python\")  # farklı bir dizine geçmek için"
      ],
      "metadata": {
        "id": "FeZwugdnXUlg"
      },
      "execution_count": null,
      "outputs": []
    },
    {
      "cell_type": "code",
      "source": [
        "os.getcwd()"
      ],
      "metadata": {
        "id": "kTF7rRrwXd1x"
      },
      "execution_count": null,
      "outputs": []
    },
    {
      "cell_type": "code",
      "source": [
        "os.listdir()  #gizli dosyalar dahil çalışma klsörü altındaki tüm dosya ve dizinleri listeler"
      ],
      "metadata": {
        "id": "OzzwXilvXktC"
      },
      "execution_count": null,
      "outputs": []
    },
    {
      "cell_type": "code",
      "source": [
        "os.listdir('/content') #cwd"
      ],
      "metadata": {
        "id": "9_-6ts1oqt31"
      },
      "execution_count": null,
      "outputs": []
    },
    {
      "cell_type": "code",
      "source": [
        "os.mkdir('yeniklasor')  #yeniklasor olusturur"
      ],
      "metadata": {
        "id": "C5jQ9PNfYGC0"
      },
      "execution_count": null,
      "outputs": []
    },
    {
      "cell_type": "code",
      "source": [
        "os.rename('yeniklasor', 'test_py')"
      ],
      "metadata": {
        "id": "Q4Zh-437YQeC"
      },
      "execution_count": null,
      "outputs": []
    },
    {
      "cell_type": "code",
      "source": [
        "dosya_yolu = \"/content/test/python/deneme.py\"\n",
        "os.path.basename(dosya_yolu)  # ana dosyayı verir"
      ],
      "metadata": {
        "id": "jLrDcznOYow2"
      },
      "execution_count": null,
      "outputs": []
    },
    {
      "cell_type": "code",
      "source": [
        "os.path.split(dosya_yolu)  # dosya adı ile pathi/yolunu ayırır"
      ],
      "metadata": {
        "id": "eChfLDE0Y_49"
      },
      "execution_count": null,
      "outputs": []
    },
    {
      "cell_type": "code",
      "source": [
        "os.path.split(dosya_yolu)[1]"
      ],
      "metadata": {
        "id": "1LMHDj0jIbUz"
      },
      "execution_count": null,
      "outputs": []
    },
    {
      "cell_type": "code",
      "source": [
        "os.path.isdir('test.mp3')  # bir klasörmü/directory ?"
      ],
      "metadata": {
        "id": "1J-NzVCDqYLv"
      },
      "execution_count": null,
      "outputs": []
    },
    {
      "cell_type": "code",
      "source": [
        "os.path.isdir('/content')  # bir klasör mü? Evet"
      ],
      "metadata": {
        "id": "hOOI5u3DamBh"
      },
      "execution_count": null,
      "outputs": []
    },
    {
      "cell_type": "code",
      "source": [
        "os.path.isfile('/content/test00.py')  # varolan bir dosya(file) mı ?"
      ],
      "metadata": {
        "id": "5eYHWSllJSZi"
      },
      "execution_count": null,
      "outputs": []
    },
    {
      "cell_type": "code",
      "source": [
        "os.path.isfile('/content')  # bir dosya mı?"
      ],
      "metadata": {
        "id": "ryyAJg2VJh4O"
      },
      "execution_count": null,
      "outputs": []
    },
    {
      "cell_type": "code",
      "source": [
        "os.path.splitext(\"/content/test/python/deneme.py\") # dosya uzantısını ayrıştırır"
      ],
      "metadata": {
        "id": "oS7vADK3Irym"
      },
      "execution_count": null,
      "outputs": []
    },
    {
      "cell_type": "code",
      "source": [
        "# '/content' klasörü altındaki .py uzantılı dosyaların listesini döndüren kod"
      ],
      "metadata": {
        "id": "Y7bSsOOcJEZn"
      },
      "execution_count": null,
      "outputs": []
    },
    {
      "cell_type": "code",
      "source": [
        "for i in os.listdir('/content'):\n",
        "    if os.path.splitext(i)[1] == \".py\":\n",
        "        print(os.path.splitext(i)[0])"
      ],
      "metadata": {
        "id": "wXwciHE4KtvH"
      },
      "execution_count": null,
      "outputs": []
    }
  ]
}