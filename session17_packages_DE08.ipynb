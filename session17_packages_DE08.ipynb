{
  "nbformat": 4,
  "nbformat_minor": 0,
  "metadata": {
    "colab": {
      "private_outputs": true,
      "provenance": [],
      "cell_execution_strategy": "setup"
    },
    "kernelspec": {
      "name": "python3",
      "display_name": "Python 3"
    },
    "language_info": {
      "name": "python"
    }
  },
  "cells": [
    {
      "cell_type": "code",
      "execution_count": null,
      "metadata": {
        "id": "69JynJ9rX7sj"
      },
      "outputs": [],
      "source": [
        "# ben bir scriptim\n",
        "print(\"merhaba\")"
      ]
    },
    {
      "cell_type": "code",
      "source": [
        "import my_takvim"
      ],
      "metadata": {
        "id": "e6ieYwMaafJk"
      },
      "execution_count": null,
      "outputs": []
    },
    {
      "cell_type": "code",
      "source": [
        "my_takvim.yeap_year(2025)"
      ],
      "metadata": {
        "id": "UTWbgtXebZeS"
      },
      "execution_count": null,
      "outputs": []
    },
    {
      "cell_type": "code",
      "source": [
        "# my_fisrt modülünü import edelim\n",
        "import my_first"
      ],
      "metadata": {
        "id": "Po-1dnkRitZb"
      },
      "execution_count": null,
      "outputs": []
    },
    {
      "cell_type": "code",
      "source": [
        "my_first.__doc__"
      ],
      "metadata": {
        "id": "pvym4TpsjB-e"
      },
      "execution_count": null,
      "outputs": []
    },
    {
      "cell_type": "code",
      "source": [
        "my_first.func1()"
      ],
      "metadata": {
        "id": "UCr-NlRamfRc"
      },
      "execution_count": null,
      "outputs": []
    },
    {
      "cell_type": "code",
      "source": [
        "my_first.pi_sayisi"
      ],
      "metadata": {
        "id": "vOew34iOml2O"
      },
      "execution_count": null,
      "outputs": []
    },
    {
      "cell_type": "code",
      "source": [
        "# drive hesabınızı colab notebook ortamına bağlar ve gösterir\n",
        "from google.colab import drive\n",
        "drive.mount('/content/drive')"
      ],
      "metadata": {
        "id": "hd6DIzyZoW5g"
      },
      "execution_count": null,
      "outputs": []
    },
    {
      "cell_type": "code",
      "source": [
        "!pwd  # o anki çalışma klasörünü verir"
      ],
      "metadata": {
        "id": "zYHVcAY0nY4n"
      },
      "execution_count": null,
      "outputs": []
    },
    {
      "cell_type": "code",
      "source": [
        "import my_first1\n",
        "print(my_first1.func2())"
      ],
      "metadata": {
        "id": "2Yy9AnreuEHT"
      },
      "execution_count": null,
      "outputs": []
    },
    {
      "cell_type": "markdown",
      "source": [
        "# Package : Klasör\n",
        "Bir paket altında alt paketler ve modüller (.py uzantılı dosyalar) yer alır."
      ],
      "metadata": {
        "id": "z7lg_7X7ySQM"
      }
    },
    {
      "cell_type": "code",
      "source": [
        "!pwd"
      ],
      "metadata": {
        "id": "uOcN4x19ykpb"
      },
      "execution_count": null,
      "outputs": []
    },
    {
      "cell_type": "code",
      "source": [
        "!dir"
      ],
      "metadata": {
        "id": "7DnBC2lE77p4"
      },
      "execution_count": null,
      "outputs": []
    },
    {
      "cell_type": "code",
      "source": [
        "from my_paket.my_module1 import func1"
      ],
      "metadata": {
        "id": "U73re7AZ7_rp"
      },
      "execution_count": null,
      "outputs": []
    },
    {
      "cell_type": "code",
      "source": [
        "func1(\"benim mesajım\")"
      ],
      "metadata": {
        "id": "FkH4Scb08IB6"
      },
      "execution_count": null,
      "outputs": []
    },
    {
      "cell_type": "markdown",
      "source": [
        "#pip"
      ],
      "metadata": {
        "id": "mXTk-gNxCXs5"
      }
    },
    {
      "cell_type": "code",
      "source": [
        "!pip --version"
      ],
      "metadata": {
        "id": "q5Gg-IaHCZBz"
      },
      "execution_count": null,
      "outputs": []
    },
    {
      "cell_type": "code",
      "source": [
        "# pip ile python kurulumu ile gelmeyen paketleri veya modülleri kurmak ve yönetmek için pip kullanılır\n",
        "!pip uninstall pandas"
      ],
      "metadata": {
        "id": "x-FDt2HaC9_-"
      },
      "execution_count": null,
      "outputs": []
    },
    {
      "cell_type": "code",
      "source": [
        "!pip install pandas"
      ],
      "metadata": {
        "id": "ljnA3catDSv8"
      },
      "execution_count": null,
      "outputs": []
    },
    {
      "cell_type": "code",
      "source": [
        "# kurulu paketleri görmek için\n",
        "!pip list"
      ],
      "metadata": {
        "id": "TSHtkLJ_Dwi0"
      },
      "execution_count": null,
      "outputs": []
    },
    {
      "cell_type": "code",
      "source": [
        "# bir paket yada modül hakkında detaylı bilgi için show\n",
        "!pip show pandas"
      ],
      "metadata": {
        "id": "eOng1ni3EBnB"
      },
      "execution_count": null,
      "outputs": []
    },
    {
      "cell_type": "code",
      "source": [
        "!pip show numpy  # note"
      ],
      "metadata": {
        "id": "qP_Z1uL6ESvQ"
      },
      "execution_count": null,
      "outputs": []
    },
    {
      "cell_type": "code",
      "source": [],
      "metadata": {
        "id": "iWLD3aIgHH-T"
      },
      "execution_count": null,
      "outputs": []
    },
    {
      "cell_type": "code",
      "source": [
        "%pip freeze # Kurulu paketlerin listesini sürüm numaraları ile birlikte verir"
      ],
      "metadata": {
        "id": "g9tbO_SyO7JQ"
      },
      "execution_count": null,
      "outputs": []
    },
    {
      "cell_type": "code",
      "source": [
        "%pip show requests"
      ],
      "metadata": {
        "id": "KkZaMGGNS47c"
      },
      "execution_count": null,
      "outputs": []
    },
    {
      "cell_type": "code",
      "source": [
        "import requests     # web scraping (webden veri tırtıklama)\n",
        "city = \"Ankara\"\n",
        "url = f\"https://www.wttr.in/{city}\"\n",
        "r = requests.get(url)\n",
        "print(city , \"hava durumu..:\", r.text)"
      ],
      "metadata": {
        "id": "A1zAiMi0HblF"
      },
      "execution_count": null,
      "outputs": []
    }
  ]
}