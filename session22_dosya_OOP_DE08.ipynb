{
  "nbformat": 4,
  "nbformat_minor": 0,
  "metadata": {
    "colab": {
      "provenance": []
    },
    "kernelspec": {
      "name": "python3",
      "display_name": "Python 3"
    },
    "language_info": {
      "name": "python"
    }
  },
  "cells": [
    {
      "cell_type": "markdown",
      "source": [
        "**JSON (JavaScript Object Notation)** hafif bir veri değişim formatıdır. JSON tamamen dilden bağımsız bir metin formatıdır ancak C, C++, C#, Java, JavaScript, Perl, Python dahil olmak üzere C ailesi dilleri programcılarının aşina olduğu kuralları kullanır.\n",
        "\n",
        "JSON iki yapı üzerine inşa edilmiştir:\n",
        "\n",
        "    - Key/Value çiftlerinden oluşan bir koleksiyon. Python dilinde karşılığı dict veri yapısıdır.\n",
        "\n",
        "    - Sıralı bir değer listesi.\n",
        "\n",
        "\n",
        "```\n",
        "\n",
        "{\n",
        "  \"cat\" : \"feline\",\n",
        "  \"dog\" : \"canine\",\n",
        "  \"rat\" :  [1,2,3]\n",
        "}\n",
        "```\n",
        "\n"
      ],
      "metadata": {
        "id": "TVTpP3hRjer0"
      }
    },
    {
      "cell_type": "code",
      "source": [
        "import json"
      ],
      "metadata": {
        "id": "BaUC9y-ZyKvO"
      },
      "execution_count": 4,
      "outputs": []
    },
    {
      "cell_type": "code",
      "source": [
        "dir(json)"
      ],
      "metadata": {
        "id": "_X8ghOib0NHm"
      },
      "execution_count": null,
      "outputs": []
    },
    {
      "cell_type": "code",
      "source": [
        "# Bir sözlük verisini dosyaya yazmak;\n",
        "# 1. json modülünü (dump, load metotlarını) kullanmak"
      ],
      "metadata": {
        "id": "ZZsvMYEA2aYs"
      },
      "execution_count": null,
      "outputs": []
    },
    {
      "cell_type": "code",
      "source": [
        "import json\n",
        "# dump: Python veri yapısını JSON formatına dönüştürerek dosyaya yazmayı sağlıyor\n",
        "data = {\"names\": \"Tom\", \"phone\": 3456}\n",
        "#dump: dosyaya yazmada kullanılır\n",
        "with open (\"data.json\", \"w\") as jw:\n",
        "    json.dump(data, jw, indent=2)"
      ],
      "metadata": {
        "id": "yUyDIGwBFVzk"
      },
      "execution_count": 8,
      "outputs": []
    },
    {
      "cell_type": "code",
      "source": [
        "import json\n",
        "with open (\"data.json\", \"r\") as jr:\n",
        "    print(json.load(jr))"
      ],
      "metadata": {
        "colab": {
          "base_uri": "https://localhost:8080/"
        },
        "id": "HBm72lpA1Fk5",
        "outputId": "37b6be0e-a521-47cd-8f51-9f8416ddfb6c"
      },
      "execution_count": 9,
      "outputs": [
        {
          "output_type": "stream",
          "name": "stdout",
          "text": [
            "{'names': 'Tom', 'phone': 3456}\n"
          ]
        }
      ]
    },
    {
      "cell_type": "code",
      "source": [
        "import json\n",
        "# dumps ve loads 's' ekli hali ise python datasını json formatına\n",
        "# veya jason datasını python formatına dönüştürür....\n",
        "json_data = json.dumps(['foo', {'bar': ('baz', None, 1.0, 2)}])\n",
        "print(json_data)"
      ],
      "metadata": {
        "colab": {
          "base_uri": "https://localhost:8080/"
        },
        "id": "sEl_ZhYR3ROs",
        "outputId": "2150f630-afc8-479c-9c85-c1354fe537a7"
      },
      "execution_count": 16,
      "outputs": [
        {
          "output_type": "stream",
          "name": "stdout",
          "text": [
            "[\"foo\", {\"bar\": [\"baz\", null, 1.0, 2]}]\n"
          ]
        }
      ]
    },
    {
      "cell_type": "code",
      "execution_count": 10,
      "metadata": {
        "colab": {
          "base_uri": "https://localhost:8080/",
          "height": 181
        },
        "id": "bBGkFcssjTti",
        "outputId": "3268ce30-cfc7-424a-9d88-2fd612bf2230"
      },
      "outputs": [
        {
          "output_type": "error",
          "ename": "TypeError",
          "evalue": "write() argument must be str, not dict",
          "traceback": [
            "\u001b[0;31m---------------------------------------------------------------------------\u001b[0m",
            "\u001b[0;31mTypeError\u001b[0m                                 Traceback (most recent call last)",
            "\u001b[0;32m<ipython-input-10-b3f7c5d3bc86>\u001b[0m in \u001b[0;36m<cell line: 9>\u001b[0;34m()\u001b[0m\n\u001b[1;32m      8\u001b[0m     } # json datası: sözlük\n\u001b[1;32m      9\u001b[0m \u001b[0;32mwith\u001b[0m \u001b[0mopen\u001b[0m\u001b[0;34m(\u001b[0m\u001b[0mFILE\u001b[0m\u001b[0;34m,\u001b[0m \u001b[0;34m\"w\"\u001b[0m\u001b[0;34m)\u001b[0m \u001b[0;32mas\u001b[0m \u001b[0mfw\u001b[0m\u001b[0;34m:\u001b[0m\u001b[0;34m\u001b[0m\u001b[0;34m\u001b[0m\u001b[0m\n\u001b[0;32m---> 10\u001b[0;31m     \u001b[0mfw\u001b[0m\u001b[0;34m.\u001b[0m\u001b[0mwrite\u001b[0m\u001b[0;34m(\u001b[0m\u001b[0mcontact\u001b[0m\u001b[0;34m)\u001b[0m       \u001b[0;31m#string formatta yazılıyor\u001b[0m\u001b[0;34m\u001b[0m\u001b[0;34m\u001b[0m\u001b[0m\n\u001b[0m",
            "\u001b[0;31mTypeError\u001b[0m: write() argument must be str, not dict"
          ]
        }
      ],
      "source": [
        "##json modülünü kullanmadan sözlüğü txt dosyaya yazmak için ne yapılabilir;\n",
        "FILE = \"phone.txt\"\n",
        "contact = {\n",
        "    \"Ali\":3456,\n",
        "    \"Tom\":5687,\n",
        "    \"Ala\":1234,\n",
        "    \"Mary\":9865,\n",
        "    } # json datası: sözlük\n",
        "with open(FILE, \"w\") as fw:\n",
        "    fw.write(contact)       #string formatta yazılıyor"
      ]
    },
    {
      "cell_type": "code",
      "source": [
        "## 2.f-string yöntemi ile klasik metotları(write gibi) kullanmak\n",
        "## sözlüğü txt dosyaya yazmak için ne yapılabilir;\n",
        "FILE = \"phone.txt\"\n",
        "contact = {\n",
        "    \"Ali\":3456,\n",
        "    \"Tom\":5687,\n",
        "    \"Ala\":1234,\n",
        "    \"Mary\":9865,\n",
        "    } # json datası: sözlük\n",
        "with open(FILE, \"w\") as fw:\n",
        "    fw.write(f\"{contact}\")       #string formatta yazılıyor"
      ],
      "metadata": {
        "id": "1kz3IxAUnKPo"
      },
      "execution_count": 11,
      "outputs": []
    },
    {
      "cell_type": "code",
      "source": [
        "with open(FILE, \"r\") as fr:\n",
        "    print(fr.read()) #string formattaki veriyi okur."
      ],
      "metadata": {
        "colab": {
          "base_uri": "https://localhost:8080/"
        },
        "id": "I5wOlCyxni6f",
        "outputId": "a5d1abaf-1ea9-4114-94cf-2d92f894e311"
      },
      "execution_count": 12,
      "outputs": [
        {
          "output_type": "stream",
          "name": "stdout",
          "text": [
            "{'Ali': 3456, 'Tom': 5687, 'Ala': 1234, 'Mary': 9865}\n"
          ]
        }
      ]
    },
    {
      "cell_type": "code",
      "source": [
        "# 3. csv modülünü kullanmak (DictWriter,...)\n",
        "import csv\n",
        "\n",
        "with open('phone.csv', 'w', newline='') as csvfile:\n",
        "    sutun_name = ['name', 'nums']\n",
        "    writer = csv.DictWriter(csvfile, fieldnames=sutun_name) #writer nesnesi oluştu\n",
        "\n",
        "    writer.writeheader() # sütun adlarını yaz\n",
        "    # sözlük yapısı şeklindeki datayı satır satır yaz\n",
        "    writer.writerow({'name': 'Ali', 'nums': 3456})\n",
        "    writer.writerow({'name': \"Tom\", 'nums': 5687})\n",
        "    writer.writerow({'name': \"Ala\", 'nums': 1234})\n",
        "    writer.writerow({'name': \"Mary\", 'nums': 9865})"
      ],
      "metadata": {
        "id": "5X_qqBsMt5uZ"
      },
      "execution_count": 18,
      "outputs": []
    },
    {
      "cell_type": "code",
      "source": [
        "# sözlük datası içeren bir csv file okumak\n",
        "import csv\n",
        "\n",
        "with open('phone.csv', newline='') as csvfile:\n",
        "    reader = csv.DictReader(csvfile)\n",
        "\n",
        "    for i in reader:\n",
        "        print(i['name'], \":\", i['nums'])"
      ],
      "metadata": {
        "colab": {
          "base_uri": "https://localhost:8080/"
        },
        "id": "n1dIKSGRyvyY",
        "outputId": "c3f3ab3b-2729-40f2-9b51-bad91920290f"
      },
      "execution_count": 20,
      "outputs": [
        {
          "output_type": "stream",
          "name": "stdout",
          "text": [
            "Ali : 3456\n",
            "Tom : 5687\n",
            "Ala : 1234\n",
            "Mary : 9865\n"
          ]
        }
      ]
    },
    {
      "cell_type": "code",
      "source": [
        "with open('phone.csv', mode='w') as csv_file:\n",
        "\n",
        "    writer = csv.DictWriter(\n",
        "        csv_file,\n",
        "        fieldnames=['first_col', 'second_col'] # sütun adları\n",
        "    )\n",
        "    writer.writeheader()\n",
        "\n",
        "    #sütun adları ile key isimleri örtüşmeli!!!\n",
        "    writer.writerow({'first':'value1', 'second_col':'value2'})"
      ],
      "metadata": {
        "id": "IiSAF7zvuuw_",
        "colab": {
          "base_uri": "https://localhost:8080/",
          "height": 331
        },
        "outputId": "74344ce8-20cf-4f93-8daf-4a8dfa72d00e"
      },
      "execution_count": 22,
      "outputs": [
        {
          "output_type": "error",
          "ename": "ValueError",
          "evalue": "dict contains fields not in fieldnames: 'first'",
          "traceback": [
            "\u001b[0;31m---------------------------------------------------------------------------\u001b[0m",
            "\u001b[0;31mValueError\u001b[0m                                Traceback (most recent call last)",
            "\u001b[0;32m<ipython-input-22-23f67cdf3d66>\u001b[0m in \u001b[0;36m<cell line: 1>\u001b[0;34m()\u001b[0m\n\u001b[1;32m      8\u001b[0m \u001b[0;34m\u001b[0m\u001b[0m\n\u001b[1;32m      9\u001b[0m     \u001b[0;31m#sütun adları ile key isimleri örtüşmeli!!!\u001b[0m\u001b[0;34m\u001b[0m\u001b[0;34m\u001b[0m\u001b[0m\n\u001b[0;32m---> 10\u001b[0;31m     \u001b[0mwriter\u001b[0m\u001b[0;34m.\u001b[0m\u001b[0mwriterow\u001b[0m\u001b[0;34m(\u001b[0m\u001b[0;34m{\u001b[0m\u001b[0;34m'first'\u001b[0m\u001b[0;34m:\u001b[0m\u001b[0;34m'value1'\u001b[0m\u001b[0;34m,\u001b[0m \u001b[0;34m'second_col'\u001b[0m\u001b[0;34m:\u001b[0m\u001b[0;34m'value2'\u001b[0m\u001b[0;34m}\u001b[0m\u001b[0;34m)\u001b[0m\u001b[0;34m\u001b[0m\u001b[0;34m\u001b[0m\u001b[0m\n\u001b[0m",
            "\u001b[0;32m/usr/lib/python3.10/csv.py\u001b[0m in \u001b[0;36mwriterow\u001b[0;34m(self, rowdict)\u001b[0m\n\u001b[1;32m    152\u001b[0m \u001b[0;34m\u001b[0m\u001b[0m\n\u001b[1;32m    153\u001b[0m     \u001b[0;32mdef\u001b[0m \u001b[0mwriterow\u001b[0m\u001b[0;34m(\u001b[0m\u001b[0mself\u001b[0m\u001b[0;34m,\u001b[0m \u001b[0mrowdict\u001b[0m\u001b[0;34m)\u001b[0m\u001b[0;34m:\u001b[0m\u001b[0;34m\u001b[0m\u001b[0;34m\u001b[0m\u001b[0m\n\u001b[0;32m--> 154\u001b[0;31m         \u001b[0;32mreturn\u001b[0m \u001b[0mself\u001b[0m\u001b[0;34m.\u001b[0m\u001b[0mwriter\u001b[0m\u001b[0;34m.\u001b[0m\u001b[0mwriterow\u001b[0m\u001b[0;34m(\u001b[0m\u001b[0mself\u001b[0m\u001b[0;34m.\u001b[0m\u001b[0m_dict_to_list\u001b[0m\u001b[0;34m(\u001b[0m\u001b[0mrowdict\u001b[0m\u001b[0;34m)\u001b[0m\u001b[0;34m)\u001b[0m\u001b[0;34m\u001b[0m\u001b[0;34m\u001b[0m\u001b[0m\n\u001b[0m\u001b[1;32m    155\u001b[0m \u001b[0;34m\u001b[0m\u001b[0m\n\u001b[1;32m    156\u001b[0m     \u001b[0;32mdef\u001b[0m \u001b[0mwriterows\u001b[0m\u001b[0;34m(\u001b[0m\u001b[0mself\u001b[0m\u001b[0;34m,\u001b[0m \u001b[0mrowdicts\u001b[0m\u001b[0;34m)\u001b[0m\u001b[0;34m:\u001b[0m\u001b[0;34m\u001b[0m\u001b[0;34m\u001b[0m\u001b[0m\n",
            "\u001b[0;32m/usr/lib/python3.10/csv.py\u001b[0m in \u001b[0;36m_dict_to_list\u001b[0;34m(self, rowdict)\u001b[0m\n\u001b[1;32m    147\u001b[0m             \u001b[0mwrong_fields\u001b[0m \u001b[0;34m=\u001b[0m \u001b[0mrowdict\u001b[0m\u001b[0;34m.\u001b[0m\u001b[0mkeys\u001b[0m\u001b[0;34m(\u001b[0m\u001b[0;34m)\u001b[0m \u001b[0;34m-\u001b[0m \u001b[0mself\u001b[0m\u001b[0;34m.\u001b[0m\u001b[0mfieldnames\u001b[0m\u001b[0;34m\u001b[0m\u001b[0;34m\u001b[0m\u001b[0m\n\u001b[1;32m    148\u001b[0m             \u001b[0;32mif\u001b[0m \u001b[0mwrong_fields\u001b[0m\u001b[0;34m:\u001b[0m\u001b[0;34m\u001b[0m\u001b[0;34m\u001b[0m\u001b[0m\n\u001b[0;32m--> 149\u001b[0;31m                 raise ValueError(\"dict contains fields not in fieldnames: \"\n\u001b[0m\u001b[1;32m    150\u001b[0m                                  + \", \".join([repr(x) for x in wrong_fields]))\n\u001b[1;32m    151\u001b[0m         \u001b[0;32mreturn\u001b[0m \u001b[0;34m(\u001b[0m\u001b[0mrowdict\u001b[0m\u001b[0;34m.\u001b[0m\u001b[0mget\u001b[0m\u001b[0;34m(\u001b[0m\u001b[0mkey\u001b[0m\u001b[0;34m,\u001b[0m \u001b[0mself\u001b[0m\u001b[0;34m.\u001b[0m\u001b[0mrestval\u001b[0m\u001b[0;34m)\u001b[0m \u001b[0;32mfor\u001b[0m \u001b[0mkey\u001b[0m \u001b[0;32min\u001b[0m \u001b[0mself\u001b[0m\u001b[0;34m.\u001b[0m\u001b[0mfieldnames\u001b[0m\u001b[0;34m)\u001b[0m\u001b[0;34m\u001b[0m\u001b[0;34m\u001b[0m\u001b[0m\n",
            "\u001b[0;31mValueError\u001b[0m: dict contains fields not in fieldnames: 'first'"
          ]
        }
      ]
    },
    {
      "cell_type": "code",
      "source": [
        "# mini proje: adres takip / telefon rehberi\n",
        "# kayıt oluşturma (dosyaya yazma)\n",
        "# kayıt listeleme (dosyadan okuma)\n",
        "# yeni kayıt ekleme (append)\n",
        "# kayıt arama (find)\n",
        "# kayıt silme\n",
        "# kayıt güncelleme"
      ],
      "metadata": {
        "id": "fEwY8Kh_zCFB"
      },
      "execution_count": null,
      "outputs": []
    },
    {
      "cell_type": "code",
      "source": [
        "FILE = \"phone.csv\"\n",
        "contact = {\n",
        "    \"Ali\" : 3456,\n",
        "    \"Tom\" : 5687,\n",
        "    \"Ala\" : 1234,\n",
        "    \"Mary\" : 9865,\n",
        "    }"
      ],
      "metadata": {
        "id": "BR1wtwO-zZeX"
      },
      "execution_count": 79,
      "outputs": []
    },
    {
      "cell_type": "code",
      "source": [
        "type(contact)"
      ],
      "metadata": {
        "colab": {
          "base_uri": "https://localhost:8080/"
        },
        "id": "tO9v7s7MLqFo",
        "outputId": "adffbfd8-2746-4311-b6fb-cd47268d44b3"
      },
      "execution_count": 80,
      "outputs": [
        {
          "output_type": "execute_result",
          "data": {
            "text/plain": [
              "dict"
            ]
          },
          "metadata": {},
          "execution_count": 80
        }
      ]
    },
    {
      "cell_type": "code",
      "source": [
        "for i in contact.items():\n",
        "    print(i)"
      ],
      "metadata": {
        "colab": {
          "base_uri": "https://localhost:8080/"
        },
        "id": "sb48v9ugLsyB",
        "outputId": "c2ff790c-0655-40b4-9765-4843349672ed"
      },
      "execution_count": 84,
      "outputs": [
        {
          "output_type": "stream",
          "name": "stdout",
          "text": [
            "('Ali', 3456)\n",
            "('Tom', 5687)\n",
            "('Ala', 1234)\n",
            "('Mary', 9865)\n"
          ]
        }
      ]
    },
    {
      "cell_type": "code",
      "source": [
        "# kayıt oluşturma/ kayıtları dosyaya yazma\n",
        "import csv\n",
        "with open(FILE, \"w\", newline='') as fw:\n",
        "    writer = csv.DictWriter(\n",
        "        fw,\n",
        "        fieldnames=['name', 'phone'] # sütun adları\n",
        "    )\n",
        "    writer.writeheader()  # başlıkları da yaz\n",
        "    for key, value in contact.items():\n",
        "        writer.writerow({'name':key, 'phone':value})"
      ],
      "metadata": {
        "id": "wrngu81EAvV8"
      },
      "execution_count": 85,
      "outputs": []
    },
    {
      "cell_type": "code",
      "source": [
        "# kayıt listeleme(okuma): çözüm-1 csv modulu reader ile\n",
        "import csv\n",
        "with open(FILE, \"r\", newline='') as fr:\n",
        "    for i in csv.reader(fr):\n",
        "        print(i)"
      ],
      "metadata": {
        "colab": {
          "base_uri": "https://localhost:8080/"
        },
        "id": "8PnDBnIV36oG",
        "outputId": "1367848e-8b57-4d98-d519-42a9b5d3e9ef"
      },
      "execution_count": 86,
      "outputs": [
        {
          "output_type": "stream",
          "name": "stdout",
          "text": [
            "['name', 'phone']\n",
            "['Ali', '3456']\n",
            "['Tom', '5687']\n",
            "['Ala', '1234']\n",
            "['Mary', '9865']\n"
          ]
        }
      ]
    },
    {
      "cell_type": "code",
      "source": [
        "# kayıt listeleme(list): çözüm-2 csv modulu DictReader ile\n",
        "import csv\n",
        "with open(FILE, \"r\", newline='') as fr:\n",
        "  csv_read = csv.DictReader(fr)\n",
        "\n",
        "  for i in csv_read:\n",
        "    print(i[\"name\"],\":\",i['phone'])"
      ],
      "metadata": {
        "colab": {
          "base_uri": "https://localhost:8080/"
        },
        "id": "bk1f94eQ4Yek",
        "outputId": "6fe3a795-34e8-41f8-df76-0cdf19745675"
      },
      "execution_count": 87,
      "outputs": [
        {
          "output_type": "stream",
          "name": "stdout",
          "text": [
            "Ali : 3456\n",
            "Tom : 5687\n",
            "Ala : 1234\n",
            "Mary : 9865\n"
          ]
        }
      ]
    },
    {
      "cell_type": "code",
      "source": [
        "# kayıt listeleme(list): çözüm-3\n",
        "with open(FILE, \"r\", newline='') as fr:\n",
        "    print(fr.read())"
      ],
      "metadata": {
        "colab": {
          "base_uri": "https://localhost:8080/"
        },
        "id": "rL-p-VDXMVol",
        "outputId": "a5b53b09-bb46-4397-f091-dfb4edaa22dc"
      },
      "execution_count": 88,
      "outputs": [
        {
          "output_type": "stream",
          "name": "stdout",
          "text": [
            "name,phone\r\n",
            "Ali,3456\r\n",
            "Tom,5687\r\n",
            "Ala,1234\r\n",
            "Mary,9865\r\n",
            "\n"
          ]
        }
      ]
    },
    {
      "cell_type": "code",
      "source": [
        "# yeni kayıt ekleme (append)\n",
        "import csv\n",
        "with open(FILE, \"a\", newline='') as fa:\n",
        "    writer = csv.DictWriter(\n",
        "        fa,\n",
        "        fieldnames=['name', 'phone'] # sütun adları(keys)\n",
        "    )\n",
        "    ad = input(\"Name.:\").title() # ilk harfi büyük yap\n",
        "    tel = int(input(\"Phone number..:\"))\n",
        "    writer.writerow({'name':ad, 'phone':tel})\n"
      ],
      "metadata": {
        "colab": {
          "base_uri": "https://localhost:8080/"
        },
        "id": "J1Zwu7RD5P3V",
        "outputId": "975688e6-a4ee-44d6-d0fc-2e0e81563dde"
      },
      "execution_count": 90,
      "outputs": [
        {
          "name": "stdout",
          "output_type": "stream",
          "text": [
            "Name.:Bill\n",
            "Phone number..:3444\n"
          ]
        }
      ]
    },
    {
      "cell_type": "code",
      "source": [
        "# kayıt arama (find)\n",
        "import csv\n",
        "with open(FILE, \"r\", newline='') as fr:\n",
        "    aranan = input(\"Arananın adı..:\").title()\n",
        "    csv_read = csv.DictReader(fr)\n",
        "    for i in csv_read:\n",
        "        if i['name']==aranan:\n",
        "           print(i[\"name\"],\":\",i['phone'])\n",
        "           break\n",
        "        else:\n",
        "            print(\"Aranan kayıt rehberde yoktur\")\n"
      ],
      "metadata": {
        "colab": {
          "base_uri": "https://localhost:8080/"
        },
        "id": "prZQvezF6yIe",
        "outputId": "145679f5-35a7-43a1-a283-39c368d56b7d"
      },
      "execution_count": 95,
      "outputs": [
        {
          "output_type": "stream",
          "name": "stdout",
          "text": [
            "Arananın adı..:cengiz\n",
            "Aranan kayıt rehberde yoktur\n",
            "Aranan kayıt rehberde yoktur\n",
            "Aranan kayıt rehberde yoktur\n",
            "Aranan kayıt rehberde yoktur\n",
            "Aranan kayıt rehberde yoktur\n"
          ]
        }
      ]
    },
    {
      "cell_type": "code",
      "source": [
        "# kayıt arama (find) doğrusu\n",
        "import csv\n",
        "with open(FILE, \"r\", newline='') as fr:\n",
        "    aranan = input(\"Arananın adı..:\").title()\n",
        "    csv_read = csv.DictReader(fr)\n",
        "    for i in csv_read:\n",
        "        if i['name']==aranan:\n",
        "           print(i[\"name\"],\":\",i['phone'])\n",
        "           break\n",
        "    else:\n",
        "        print(\"Aranan kayıt rehberde yoktur\")"
      ],
      "metadata": {
        "colab": {
          "base_uri": "https://localhost:8080/"
        },
        "id": "htw8WGH19Sfh",
        "outputId": "056a77ea-1062-49e6-df70-0fe68620e44d"
      },
      "execution_count": 94,
      "outputs": [
        {
          "output_type": "stream",
          "name": "stdout",
          "text": [
            "Arananın adı..:CEngiz\n",
            "Aranan kayıt rehberde yoktur\n"
          ]
        }
      ]
    },
    {
      "cell_type": "markdown",
      "source": [
        "\n",
        "\n",
        "Kayıt Silme İşlemi Algoritması; ­\n",
        "\n",
        "    1.Ka­yıt sil­mek ­is­tediğii­miz ­dos­ya­(Asil ­dos­ya) Okuma(Input) modunda ­açılır. ­\n",
        "    2.­ İkin­ci ­bir ­dos­ya­(Ye­dek­ol­sun)­ Yazma(Output)­modunda açılır.\n",
        "    3.Si­li­ne­cek ­kay­da ­ka­dar ­bi­rin­ci­ dos­ya­nın ­ka­yıt­la­rı ­sı­ra­sı­ ile ­oku­na­rak ­ikin­ci dos­ya­ya ­ya­zı­lır.­(Asil­dos­ya -> ­Ye­dek­dos­ya)\n",
        "    4.­ Si­li­ne­cek ­dos­ya­dan ­son­ra­ki ­ka­yt­lar­da ­ikin­ci ­dos­ya­ya­(Ye­dek­dos­ya)­ya­zılır.\n",
        "    5.­ Her­ iki ­dos­ya­da ­ka­pa­tı­lır.\n",
        "    6.­ Bi­rin­ci ­dos­ya ­si­li­nir­(Asıl­ dos­ya)\n",
        "    7.Ikin­ci ­dos­ya­nın ­adı ­değişti­ri­le­rek ­bi­rin­ci­ dos­ya­nın ­adı­ ve­ri­lir.­(rename yedek_dosya, asil_dosya)\n",
        "\n"
      ],
      "metadata": {
        "id": "7ZXbl9Zv-Nht"
      }
    },
    {
      "cell_type": "code",
      "source": [
        "# kayıt silme işlemi\n",
        "import csv\n",
        "import os\n",
        "FILE = \"phone.csv\"\n",
        "YEDEK_FILE = \"yedek_phone.csv\"\n",
        "with open(FILE, mode=\"r\") as fr, open(YEDEK_FILE, mode=\"w\") as fw:\n",
        "    writer = csv.DictWriter(\n",
        "        fw,\n",
        "        fieldnames=['name', 'phone'] # sütun adları(keys)\n",
        "    )\n",
        "    writer.writeheader()  #sütun başlıklarını yaz\n",
        "    silinen = input(\"Silmek istediğimiz kaydın adı..:\").title()\n",
        "    for i in csv.DictReader(fr):\n",
        "        # silinmek istenen haricindekileri yedek dosyaya yaz.\n",
        "        if i['name'] != silinen:\n",
        "            writer.writerow(i)\n",
        "\n",
        "os.remove(FILE)             # asıl dosyayı sil\n",
        "os.rename(YEDEK_FILE, FILE) # yedek dosyayı asıl dosya olarak değiştir.\n",
        "# bu iki metot yerine aşağıdaki kod satırı kullanılabilir.\n",
        "# shutil.move(YEDEK_FILE, FILE)  # yedek dosyayı asil dosyaya taşı"
      ],
      "metadata": {
        "colab": {
          "base_uri": "https://localhost:8080/"
        },
        "id": "zuJ3XoEr-PGJ",
        "outputId": "4693a5ce-a37e-4376-9291-8220e4928195"
      },
      "execution_count": 96,
      "outputs": [
        {
          "name": "stdout",
          "output_type": "stream",
          "text": [
            "Silmek istediğimiz kaydın adı..:Ala\n"
          ]
        }
      ]
    },
    {
      "cell_type": "markdown",
      "source": [
        "\n",
        "\n",
        "Kayıt Güncelleme İşlemi Algoritması; ­\n",
        "\n",
        "    1.Ka­yıt güncellemek is­tediğii­miz ­dos­ya­(asil_­dos­ya) Okuma(Input) modunda ­açılır. ­\n",
        "    2.­ İkin­ci ­bir ­dos­ya­(ye­dek_dosya)­ Yazma(Output) ­modunda açılır.\n",
        "    3.Güncellenecek ­kay­da ­ka­dar ­bi­rin­ci­ dos­ya­nın ­ka­yıt­la­rı ­sı­ra­sı­ ile ­oku­na­rak ­ikin­ci dos­ya­ya ­ya­zı­lır.­(Asil­dos­ya -> ­Ye­dek­dos­ya)\n",
        "    4.Değişiklik yapılacak kayıt/kayıtlar okunur, gerekli güncellemeler yapılır ve ikinci dosyaya (yedek dosya) yazılır\n",
        "    6.­ Varsa sonraki kayıtlar birinci ­dos­ya­dan ­okunup, ­ikin­ci ­dos­ya­ya­(ye­dek­_dos­ya)­ya­zılır.\n",
        "    7.­ Her­ iki ­dos­ya­da ­ka­pa­tı­lır.\n",
        "    8.­ Bi­rin­ci ­dos­ya ­si­li­nir­(Asıl­ dos­ya)\n",
        "    9.Ikin­ci ­dos­ya­nın ­adı ­değişti­ri­le­rek ­bi­rin­ci­ dos­ya­nın ­adı­ ve­ri­lir.­(rename yedek_dosya, asil_dosya)\n",
        "\n"
      ],
      "metadata": {
        "id": "hCyuBO0SEA3w"
      }
    },
    {
      "cell_type": "code",
      "source": [
        "# kayıt güncelleme (update) işlemi\n",
        "import csv\n",
        "import shutil\n",
        "FILE = \"phone.csv\"\n",
        "YEDEK_FILE = \"yedek_phone.csv\"\n",
        "with open(FILE, mode=\"r\") as fr, open(YEDEK_FILE, mode=\"w\") as fw:\n",
        "    writer = csv.DictWriter(\n",
        "        fw,\n",
        "        fieldnames=['name', 'phone'] # sütun adları(keys)\n",
        "    )\n",
        "    writer.writeheader()  #sütun başlıklarını yaz\n",
        "    guncellenen = input(\"Güncellemek istediğimiz kaydın adı..:\").title()\n",
        "    for i in csv.DictReader(fr):\n",
        "        # güncellenmek istedeiğimiz kaydın bilgilerini alalım\n",
        "        if i['name'] == guncellenen:\n",
        "            ad = input(\"New Name.:\").title() # ilk harfi büyük yap\n",
        "            tel = int(input(\" New Phone number..:\"))\n",
        "            i['name'], i['phone'] = ad, tel\n",
        "\n",
        "        writer.writerow(i)\n",
        "\n",
        "shutil.move(YEDEK_FILE, FILE)  # yedek dosyayı asil dosyaya taşı"
      ],
      "metadata": {
        "colab": {
          "base_uri": "https://localhost:8080/",
          "height": 89
        },
        "id": "wVGlHQktQaLV",
        "outputId": "6a94c7a7-4d75-4bbb-8ec4-aabe65cb9b7e"
      },
      "execution_count": 98,
      "outputs": [
        {
          "name": "stdout",
          "output_type": "stream",
          "text": [
            "Güncellemek istediğimiz kaydın adı..:Bill\n",
            "New Name.:Bull\n",
            " New Phone number..:6666\n"
          ]
        },
        {
          "output_type": "execute_result",
          "data": {
            "text/plain": [
              "'phone.csv'"
            ],
            "application/vnd.google.colaboratory.intrinsic+json": {
              "type": "string"
            }
          },
          "metadata": {},
          "execution_count": 98
        }
      ]
    },
    {
      "cell_type": "code",
      "source": [
        "!pip install pandas  # pandas kurlumu için"
      ],
      "metadata": {
        "id": "7-ZzXwFM7aKZ"
      },
      "execution_count": null,
      "outputs": []
    },
    {
      "cell_type": "code",
      "source": [
        "!pip show pandas     # pandas sürümü hakkında özet bilgi almak için"
      ],
      "metadata": {
        "colab": {
          "base_uri": "https://localhost:8080/"
        },
        "id": "zdidkgLQ7jiu",
        "outputId": "f786d6db-77f7-4edb-f77d-f1156f427d69"
      },
      "execution_count": 25,
      "outputs": [
        {
          "output_type": "stream",
          "name": "stdout",
          "text": [
            "Name: pandas\n",
            "Version: 1.5.3\n",
            "Summary: Powerful data structures for data analysis, time series, and statistics\n",
            "Home-page: https://pandas.pydata.org\n",
            "Author: The Pandas Development Team\n",
            "Author-email: pandas-dev@python.org\n",
            "License: BSD-3-Clause\n",
            "Location: /usr/local/lib/python3.10/dist-packages\n",
            "Requires: numpy, python-dateutil, pytz\n",
            "Required-by: altair, arviz, bigframes, bokeh, bqplot, cmdstanpy, cufflinks, datascience, db-dtypes, dopamine-rl, fastai, geemap, geopandas, google-colab, gspread-dataframe, holoviews, ibis-framework, lida, mizani, mlxtend, pandas-datareader, pandas-gbq, panel, pins, plotnine, prophet, pymc, seaborn, sklearn-pandas, statsmodels, vega-datasets, xarray, yfinance\n"
          ]
        }
      ]
    },
    {
      "cell_type": "markdown",
      "source": [
        "#PANDAS DOSYA İşlemleri\n",
        "**Pandas and Write Files:**\n",
        "\n",
        "Series and DataFrame objects have methods that enable writing data and labels to the clipboard or files. They’re named with the pattern **.to_**<file-type>(), where is the type of the target file.\n",
        "\n",
        "    .to_csv()\n",
        "    .to_excel()\n",
        "    .to_json()\n",
        "    .to_html()\n",
        "    .to_sql()\n",
        "    .to_pickle()\n",
        "\n",
        "\n",
        "\n",
        "**Pandas and Read Files**\n",
        "\n",
        "pandas functions for reading the contents of files are named using the pattern .read_<file-type>(), where indicates the type of the file to read.\n",
        "\n",
        "    read_csv()\n",
        "    read_excel()\n",
        "    read_json()\n",
        "    read_html()\n",
        "    read_sql()\n",
        "    read_pickle()\n",
        "\n"
      ],
      "metadata": {
        "id": "EuiPPfqXJlHS"
      }
    },
    {
      "cell_type": "code",
      "source": [
        "#github da bulunan csv file okuma işlemi\n",
        "url = \"https://raw.githubusercontent.com/datasciencedojo/datasets/master/titanic.csv\"\n",
        "import pandas as pd\n",
        "df = pd.read_csv(url)\n",
        "df.head()  #ilk 5 kayıt gösterilir"
      ],
      "metadata": {
        "id": "Zm2W9jqND_-e"
      },
      "execution_count": null,
      "outputs": []
    },
    {
      "cell_type": "code",
      "source": [
        "# json file okuma\n",
        "url= \"https://raw.githubusercontent.com/domoritz/maps/master/data/iris.json\"\n",
        "import pandas as pd\n",
        "df = pd.read_json(url)\n",
        "df.head()  #ilk 5 kaydı göster"
      ],
      "metadata": {
        "colab": {
          "base_uri": "https://localhost:8080/",
          "height": 206
        },
        "id": "XMJYzDo1NSYr",
        "outputId": "1442b349-eef9-4b2d-c6ad-e170ad4f4980"
      },
      "execution_count": 40,
      "outputs": [
        {
          "output_type": "execute_result",
          "data": {
            "text/plain": [
              "   sepalLength  sepalWidth  petalLength  petalWidth species\n",
              "0          5.1         3.5          1.4         0.2  setosa\n",
              "1          4.9         3.0          1.4         0.2  setosa\n",
              "2          4.7         3.2          1.3         0.2  setosa\n",
              "3          4.6         3.1          1.5         0.2  setosa\n",
              "4          5.0         3.6          1.4         0.2  setosa"
            ],
            "text/html": [
              "\n",
              "  <div id=\"df-11b3dfbc-9b9f-4098-845d-8e186af404cd\" class=\"colab-df-container\">\n",
              "    <div>\n",
              "<style scoped>\n",
              "    .dataframe tbody tr th:only-of-type {\n",
              "        vertical-align: middle;\n",
              "    }\n",
              "\n",
              "    .dataframe tbody tr th {\n",
              "        vertical-align: top;\n",
              "    }\n",
              "\n",
              "    .dataframe thead th {\n",
              "        text-align: right;\n",
              "    }\n",
              "</style>\n",
              "<table border=\"1\" class=\"dataframe\">\n",
              "  <thead>\n",
              "    <tr style=\"text-align: right;\">\n",
              "      <th></th>\n",
              "      <th>sepalLength</th>\n",
              "      <th>sepalWidth</th>\n",
              "      <th>petalLength</th>\n",
              "      <th>petalWidth</th>\n",
              "      <th>species</th>\n",
              "    </tr>\n",
              "  </thead>\n",
              "  <tbody>\n",
              "    <tr>\n",
              "      <th>0</th>\n",
              "      <td>5.1</td>\n",
              "      <td>3.5</td>\n",
              "      <td>1.4</td>\n",
              "      <td>0.2</td>\n",
              "      <td>setosa</td>\n",
              "    </tr>\n",
              "    <tr>\n",
              "      <th>1</th>\n",
              "      <td>4.9</td>\n",
              "      <td>3.0</td>\n",
              "      <td>1.4</td>\n",
              "      <td>0.2</td>\n",
              "      <td>setosa</td>\n",
              "    </tr>\n",
              "    <tr>\n",
              "      <th>2</th>\n",
              "      <td>4.7</td>\n",
              "      <td>3.2</td>\n",
              "      <td>1.3</td>\n",
              "      <td>0.2</td>\n",
              "      <td>setosa</td>\n",
              "    </tr>\n",
              "    <tr>\n",
              "      <th>3</th>\n",
              "      <td>4.6</td>\n",
              "      <td>3.1</td>\n",
              "      <td>1.5</td>\n",
              "      <td>0.2</td>\n",
              "      <td>setosa</td>\n",
              "    </tr>\n",
              "    <tr>\n",
              "      <th>4</th>\n",
              "      <td>5.0</td>\n",
              "      <td>3.6</td>\n",
              "      <td>1.4</td>\n",
              "      <td>0.2</td>\n",
              "      <td>setosa</td>\n",
              "    </tr>\n",
              "  </tbody>\n",
              "</table>\n",
              "</div>\n",
              "    <div class=\"colab-df-buttons\">\n",
              "\n",
              "  <div class=\"colab-df-container\">\n",
              "    <button class=\"colab-df-convert\" onclick=\"convertToInteractive('df-11b3dfbc-9b9f-4098-845d-8e186af404cd')\"\n",
              "            title=\"Convert this dataframe to an interactive table.\"\n",
              "            style=\"display:none;\">\n",
              "\n",
              "  <svg xmlns=\"http://www.w3.org/2000/svg\" height=\"24px\" viewBox=\"0 -960 960 960\">\n",
              "    <path d=\"M120-120v-720h720v720H120Zm60-500h600v-160H180v160Zm220 220h160v-160H400v160Zm0 220h160v-160H400v160ZM180-400h160v-160H180v160Zm440 0h160v-160H620v160ZM180-180h160v-160H180v160Zm440 0h160v-160H620v160Z\"/>\n",
              "  </svg>\n",
              "    </button>\n",
              "\n",
              "  <style>\n",
              "    .colab-df-container {\n",
              "      display:flex;\n",
              "      gap: 12px;\n",
              "    }\n",
              "\n",
              "    .colab-df-convert {\n",
              "      background-color: #E8F0FE;\n",
              "      border: none;\n",
              "      border-radius: 50%;\n",
              "      cursor: pointer;\n",
              "      display: none;\n",
              "      fill: #1967D2;\n",
              "      height: 32px;\n",
              "      padding: 0 0 0 0;\n",
              "      width: 32px;\n",
              "    }\n",
              "\n",
              "    .colab-df-convert:hover {\n",
              "      background-color: #E2EBFA;\n",
              "      box-shadow: 0px 1px 2px rgba(60, 64, 67, 0.3), 0px 1px 3px 1px rgba(60, 64, 67, 0.15);\n",
              "      fill: #174EA6;\n",
              "    }\n",
              "\n",
              "    .colab-df-buttons div {\n",
              "      margin-bottom: 4px;\n",
              "    }\n",
              "\n",
              "    [theme=dark] .colab-df-convert {\n",
              "      background-color: #3B4455;\n",
              "      fill: #D2E3FC;\n",
              "    }\n",
              "\n",
              "    [theme=dark] .colab-df-convert:hover {\n",
              "      background-color: #434B5C;\n",
              "      box-shadow: 0px 1px 3px 1px rgba(0, 0, 0, 0.15);\n",
              "      filter: drop-shadow(0px 1px 2px rgba(0, 0, 0, 0.3));\n",
              "      fill: #FFFFFF;\n",
              "    }\n",
              "  </style>\n",
              "\n",
              "    <script>\n",
              "      const buttonEl =\n",
              "        document.querySelector('#df-11b3dfbc-9b9f-4098-845d-8e186af404cd button.colab-df-convert');\n",
              "      buttonEl.style.display =\n",
              "        google.colab.kernel.accessAllowed ? 'block' : 'none';\n",
              "\n",
              "      async function convertToInteractive(key) {\n",
              "        const element = document.querySelector('#df-11b3dfbc-9b9f-4098-845d-8e186af404cd');\n",
              "        const dataTable =\n",
              "          await google.colab.kernel.invokeFunction('convertToInteractive',\n",
              "                                                    [key], {});\n",
              "        if (!dataTable) return;\n",
              "\n",
              "        const docLinkHtml = 'Like what you see? Visit the ' +\n",
              "          '<a target=\"_blank\" href=https://colab.research.google.com/notebooks/data_table.ipynb>data table notebook</a>'\n",
              "          + ' to learn more about interactive tables.';\n",
              "        element.innerHTML = '';\n",
              "        dataTable['output_type'] = 'display_data';\n",
              "        await google.colab.output.renderOutput(dataTable, element);\n",
              "        const docLink = document.createElement('div');\n",
              "        docLink.innerHTML = docLinkHtml;\n",
              "        element.appendChild(docLink);\n",
              "      }\n",
              "    </script>\n",
              "  </div>\n",
              "\n",
              "\n",
              "<div id=\"df-5e35f5b8-5fdd-4be2-825a-60800a494686\">\n",
              "  <button class=\"colab-df-quickchart\" onclick=\"quickchart('df-5e35f5b8-5fdd-4be2-825a-60800a494686')\"\n",
              "            title=\"Suggest charts\"\n",
              "            style=\"display:none;\">\n",
              "\n",
              "<svg xmlns=\"http://www.w3.org/2000/svg\" height=\"24px\"viewBox=\"0 0 24 24\"\n",
              "     width=\"24px\">\n",
              "    <g>\n",
              "        <path d=\"M19 3H5c-1.1 0-2 .9-2 2v14c0 1.1.9 2 2 2h14c1.1 0 2-.9 2-2V5c0-1.1-.9-2-2-2zM9 17H7v-7h2v7zm4 0h-2V7h2v10zm4 0h-2v-4h2v4z\"/>\n",
              "    </g>\n",
              "</svg>\n",
              "  </button>\n",
              "\n",
              "<style>\n",
              "  .colab-df-quickchart {\n",
              "      --bg-color: #E8F0FE;\n",
              "      --fill-color: #1967D2;\n",
              "      --hover-bg-color: #E2EBFA;\n",
              "      --hover-fill-color: #174EA6;\n",
              "      --disabled-fill-color: #AAA;\n",
              "      --disabled-bg-color: #DDD;\n",
              "  }\n",
              "\n",
              "  [theme=dark] .colab-df-quickchart {\n",
              "      --bg-color: #3B4455;\n",
              "      --fill-color: #D2E3FC;\n",
              "      --hover-bg-color: #434B5C;\n",
              "      --hover-fill-color: #FFFFFF;\n",
              "      --disabled-bg-color: #3B4455;\n",
              "      --disabled-fill-color: #666;\n",
              "  }\n",
              "\n",
              "  .colab-df-quickchart {\n",
              "    background-color: var(--bg-color);\n",
              "    border: none;\n",
              "    border-radius: 50%;\n",
              "    cursor: pointer;\n",
              "    display: none;\n",
              "    fill: var(--fill-color);\n",
              "    height: 32px;\n",
              "    padding: 0;\n",
              "    width: 32px;\n",
              "  }\n",
              "\n",
              "  .colab-df-quickchart:hover {\n",
              "    background-color: var(--hover-bg-color);\n",
              "    box-shadow: 0 1px 2px rgba(60, 64, 67, 0.3), 0 1px 3px 1px rgba(60, 64, 67, 0.15);\n",
              "    fill: var(--button-hover-fill-color);\n",
              "  }\n",
              "\n",
              "  .colab-df-quickchart-complete:disabled,\n",
              "  .colab-df-quickchart-complete:disabled:hover {\n",
              "    background-color: var(--disabled-bg-color);\n",
              "    fill: var(--disabled-fill-color);\n",
              "    box-shadow: none;\n",
              "  }\n",
              "\n",
              "  .colab-df-spinner {\n",
              "    border: 2px solid var(--fill-color);\n",
              "    border-color: transparent;\n",
              "    border-bottom-color: var(--fill-color);\n",
              "    animation:\n",
              "      spin 1s steps(1) infinite;\n",
              "  }\n",
              "\n",
              "  @keyframes spin {\n",
              "    0% {\n",
              "      border-color: transparent;\n",
              "      border-bottom-color: var(--fill-color);\n",
              "      border-left-color: var(--fill-color);\n",
              "    }\n",
              "    20% {\n",
              "      border-color: transparent;\n",
              "      border-left-color: var(--fill-color);\n",
              "      border-top-color: var(--fill-color);\n",
              "    }\n",
              "    30% {\n",
              "      border-color: transparent;\n",
              "      border-left-color: var(--fill-color);\n",
              "      border-top-color: var(--fill-color);\n",
              "      border-right-color: var(--fill-color);\n",
              "    }\n",
              "    40% {\n",
              "      border-color: transparent;\n",
              "      border-right-color: var(--fill-color);\n",
              "      border-top-color: var(--fill-color);\n",
              "    }\n",
              "    60% {\n",
              "      border-color: transparent;\n",
              "      border-right-color: var(--fill-color);\n",
              "    }\n",
              "    80% {\n",
              "      border-color: transparent;\n",
              "      border-right-color: var(--fill-color);\n",
              "      border-bottom-color: var(--fill-color);\n",
              "    }\n",
              "    90% {\n",
              "      border-color: transparent;\n",
              "      border-bottom-color: var(--fill-color);\n",
              "    }\n",
              "  }\n",
              "</style>\n",
              "\n",
              "  <script>\n",
              "    async function quickchart(key) {\n",
              "      const quickchartButtonEl =\n",
              "        document.querySelector('#' + key + ' button');\n",
              "      quickchartButtonEl.disabled = true;  // To prevent multiple clicks.\n",
              "      quickchartButtonEl.classList.add('colab-df-spinner');\n",
              "      try {\n",
              "        const charts = await google.colab.kernel.invokeFunction(\n",
              "            'suggestCharts', [key], {});\n",
              "      } catch (error) {\n",
              "        console.error('Error during call to suggestCharts:', error);\n",
              "      }\n",
              "      quickchartButtonEl.classList.remove('colab-df-spinner');\n",
              "      quickchartButtonEl.classList.add('colab-df-quickchart-complete');\n",
              "    }\n",
              "    (() => {\n",
              "      let quickchartButtonEl =\n",
              "        document.querySelector('#df-5e35f5b8-5fdd-4be2-825a-60800a494686 button');\n",
              "      quickchartButtonEl.style.display =\n",
              "        google.colab.kernel.accessAllowed ? 'block' : 'none';\n",
              "    })();\n",
              "  </script>\n",
              "</div>\n",
              "    </div>\n",
              "  </div>\n"
            ],
            "application/vnd.google.colaboratory.intrinsic+json": {
              "type": "dataframe",
              "variable_name": "df",
              "summary": "{\n  \"name\": \"df\",\n  \"rows\": 150,\n  \"fields\": [\n    {\n      \"column\": \"sepalLength\",\n      \"properties\": {\n        \"dtype\": \"number\",\n        \"std\": 0.828066127977863,\n        \"min\": 4.3,\n        \"max\": 7.9,\n        \"samples\": [\n          6.2,\n          4.5,\n          5.6\n        ],\n        \"num_unique_values\": 35,\n        \"semantic_type\": \"\",\n        \"description\": \"\"\n      }\n    },\n    {\n      \"column\": \"sepalWidth\",\n      \"properties\": {\n        \"dtype\": \"number\",\n        \"std\": 0.4358662849366982,\n        \"min\": 2.0,\n        \"max\": 4.4,\n        \"samples\": [\n          2.3,\n          4.0,\n          3.5\n        ],\n        \"num_unique_values\": 23,\n        \"semantic_type\": \"\",\n        \"description\": \"\"\n      }\n    },\n    {\n      \"column\": \"petalLength\",\n      \"properties\": {\n        \"dtype\": \"number\",\n        \"std\": 1.7652982332594662,\n        \"min\": 1.0,\n        \"max\": 6.9,\n        \"samples\": [\n          6.7,\n          3.8,\n          3.7\n        ],\n        \"num_unique_values\": 43,\n        \"semantic_type\": \"\",\n        \"description\": \"\"\n      }\n    },\n    {\n      \"column\": \"petalWidth\",\n      \"properties\": {\n        \"dtype\": \"number\",\n        \"std\": 0.7622376689603467,\n        \"min\": 0.1,\n        \"max\": 2.5,\n        \"samples\": [\n          0.2,\n          1.2,\n          1.3\n        ],\n        \"num_unique_values\": 22,\n        \"semantic_type\": \"\",\n        \"description\": \"\"\n      }\n    },\n    {\n      \"column\": \"species\",\n      \"properties\": {\n        \"dtype\": \"category\",\n        \"samples\": [\n          \"setosa\",\n          \"versicolor\",\n          \"virginica\"\n        ],\n        \"num_unique_values\": 3,\n        \"semantic_type\": \"\",\n        \"description\": \"\"\n      }\n    }\n  ]\n}"
            }
          },
          "metadata": {},
          "execution_count": 40
        }
      ]
    },
    {
      "cell_type": "code",
      "source": [
        "df.tail() # sondan 5 kaydı göster"
      ],
      "metadata": {
        "colab": {
          "base_uri": "https://localhost:8080/",
          "height": 206
        },
        "id": "36-LBYiuNib3",
        "outputId": "3a006450-a523-48fa-ea01-a1535353c268"
      },
      "execution_count": 41,
      "outputs": [
        {
          "output_type": "execute_result",
          "data": {
            "text/plain": [
              "     sepalLength  sepalWidth  petalLength  petalWidth    species\n",
              "145          6.7         3.0          5.2         2.3  virginica\n",
              "146          6.3         2.5          5.0         1.9  virginica\n",
              "147          6.5         3.0          5.2         2.0  virginica\n",
              "148          6.2         3.4          5.4         2.3  virginica\n",
              "149          5.9         3.0          5.1         1.8  virginica"
            ],
            "text/html": [
              "\n",
              "  <div id=\"df-4e0cedaf-4241-418d-88c4-60d48156e937\" class=\"colab-df-container\">\n",
              "    <div>\n",
              "<style scoped>\n",
              "    .dataframe tbody tr th:only-of-type {\n",
              "        vertical-align: middle;\n",
              "    }\n",
              "\n",
              "    .dataframe tbody tr th {\n",
              "        vertical-align: top;\n",
              "    }\n",
              "\n",
              "    .dataframe thead th {\n",
              "        text-align: right;\n",
              "    }\n",
              "</style>\n",
              "<table border=\"1\" class=\"dataframe\">\n",
              "  <thead>\n",
              "    <tr style=\"text-align: right;\">\n",
              "      <th></th>\n",
              "      <th>sepalLength</th>\n",
              "      <th>sepalWidth</th>\n",
              "      <th>petalLength</th>\n",
              "      <th>petalWidth</th>\n",
              "      <th>species</th>\n",
              "    </tr>\n",
              "  </thead>\n",
              "  <tbody>\n",
              "    <tr>\n",
              "      <th>145</th>\n",
              "      <td>6.7</td>\n",
              "      <td>3.0</td>\n",
              "      <td>5.2</td>\n",
              "      <td>2.3</td>\n",
              "      <td>virginica</td>\n",
              "    </tr>\n",
              "    <tr>\n",
              "      <th>146</th>\n",
              "      <td>6.3</td>\n",
              "      <td>2.5</td>\n",
              "      <td>5.0</td>\n",
              "      <td>1.9</td>\n",
              "      <td>virginica</td>\n",
              "    </tr>\n",
              "    <tr>\n",
              "      <th>147</th>\n",
              "      <td>6.5</td>\n",
              "      <td>3.0</td>\n",
              "      <td>5.2</td>\n",
              "      <td>2.0</td>\n",
              "      <td>virginica</td>\n",
              "    </tr>\n",
              "    <tr>\n",
              "      <th>148</th>\n",
              "      <td>6.2</td>\n",
              "      <td>3.4</td>\n",
              "      <td>5.4</td>\n",
              "      <td>2.3</td>\n",
              "      <td>virginica</td>\n",
              "    </tr>\n",
              "    <tr>\n",
              "      <th>149</th>\n",
              "      <td>5.9</td>\n",
              "      <td>3.0</td>\n",
              "      <td>5.1</td>\n",
              "      <td>1.8</td>\n",
              "      <td>virginica</td>\n",
              "    </tr>\n",
              "  </tbody>\n",
              "</table>\n",
              "</div>\n",
              "    <div class=\"colab-df-buttons\">\n",
              "\n",
              "  <div class=\"colab-df-container\">\n",
              "    <button class=\"colab-df-convert\" onclick=\"convertToInteractive('df-4e0cedaf-4241-418d-88c4-60d48156e937')\"\n",
              "            title=\"Convert this dataframe to an interactive table.\"\n",
              "            style=\"display:none;\">\n",
              "\n",
              "  <svg xmlns=\"http://www.w3.org/2000/svg\" height=\"24px\" viewBox=\"0 -960 960 960\">\n",
              "    <path d=\"M120-120v-720h720v720H120Zm60-500h600v-160H180v160Zm220 220h160v-160H400v160Zm0 220h160v-160H400v160ZM180-400h160v-160H180v160Zm440 0h160v-160H620v160ZM180-180h160v-160H180v160Zm440 0h160v-160H620v160Z\"/>\n",
              "  </svg>\n",
              "    </button>\n",
              "\n",
              "  <style>\n",
              "    .colab-df-container {\n",
              "      display:flex;\n",
              "      gap: 12px;\n",
              "    }\n",
              "\n",
              "    .colab-df-convert {\n",
              "      background-color: #E8F0FE;\n",
              "      border: none;\n",
              "      border-radius: 50%;\n",
              "      cursor: pointer;\n",
              "      display: none;\n",
              "      fill: #1967D2;\n",
              "      height: 32px;\n",
              "      padding: 0 0 0 0;\n",
              "      width: 32px;\n",
              "    }\n",
              "\n",
              "    .colab-df-convert:hover {\n",
              "      background-color: #E2EBFA;\n",
              "      box-shadow: 0px 1px 2px rgba(60, 64, 67, 0.3), 0px 1px 3px 1px rgba(60, 64, 67, 0.15);\n",
              "      fill: #174EA6;\n",
              "    }\n",
              "\n",
              "    .colab-df-buttons div {\n",
              "      margin-bottom: 4px;\n",
              "    }\n",
              "\n",
              "    [theme=dark] .colab-df-convert {\n",
              "      background-color: #3B4455;\n",
              "      fill: #D2E3FC;\n",
              "    }\n",
              "\n",
              "    [theme=dark] .colab-df-convert:hover {\n",
              "      background-color: #434B5C;\n",
              "      box-shadow: 0px 1px 3px 1px rgba(0, 0, 0, 0.15);\n",
              "      filter: drop-shadow(0px 1px 2px rgba(0, 0, 0, 0.3));\n",
              "      fill: #FFFFFF;\n",
              "    }\n",
              "  </style>\n",
              "\n",
              "    <script>\n",
              "      const buttonEl =\n",
              "        document.querySelector('#df-4e0cedaf-4241-418d-88c4-60d48156e937 button.colab-df-convert');\n",
              "      buttonEl.style.display =\n",
              "        google.colab.kernel.accessAllowed ? 'block' : 'none';\n",
              "\n",
              "      async function convertToInteractive(key) {\n",
              "        const element = document.querySelector('#df-4e0cedaf-4241-418d-88c4-60d48156e937');\n",
              "        const dataTable =\n",
              "          await google.colab.kernel.invokeFunction('convertToInteractive',\n",
              "                                                    [key], {});\n",
              "        if (!dataTable) return;\n",
              "\n",
              "        const docLinkHtml = 'Like what you see? Visit the ' +\n",
              "          '<a target=\"_blank\" href=https://colab.research.google.com/notebooks/data_table.ipynb>data table notebook</a>'\n",
              "          + ' to learn more about interactive tables.';\n",
              "        element.innerHTML = '';\n",
              "        dataTable['output_type'] = 'display_data';\n",
              "        await google.colab.output.renderOutput(dataTable, element);\n",
              "        const docLink = document.createElement('div');\n",
              "        docLink.innerHTML = docLinkHtml;\n",
              "        element.appendChild(docLink);\n",
              "      }\n",
              "    </script>\n",
              "  </div>\n",
              "\n",
              "\n",
              "<div id=\"df-a1f8374c-850d-47fc-bdf3-4c6c422c334c\">\n",
              "  <button class=\"colab-df-quickchart\" onclick=\"quickchart('df-a1f8374c-850d-47fc-bdf3-4c6c422c334c')\"\n",
              "            title=\"Suggest charts\"\n",
              "            style=\"display:none;\">\n",
              "\n",
              "<svg xmlns=\"http://www.w3.org/2000/svg\" height=\"24px\"viewBox=\"0 0 24 24\"\n",
              "     width=\"24px\">\n",
              "    <g>\n",
              "        <path d=\"M19 3H5c-1.1 0-2 .9-2 2v14c0 1.1.9 2 2 2h14c1.1 0 2-.9 2-2V5c0-1.1-.9-2-2-2zM9 17H7v-7h2v7zm4 0h-2V7h2v10zm4 0h-2v-4h2v4z\"/>\n",
              "    </g>\n",
              "</svg>\n",
              "  </button>\n",
              "\n",
              "<style>\n",
              "  .colab-df-quickchart {\n",
              "      --bg-color: #E8F0FE;\n",
              "      --fill-color: #1967D2;\n",
              "      --hover-bg-color: #E2EBFA;\n",
              "      --hover-fill-color: #174EA6;\n",
              "      --disabled-fill-color: #AAA;\n",
              "      --disabled-bg-color: #DDD;\n",
              "  }\n",
              "\n",
              "  [theme=dark] .colab-df-quickchart {\n",
              "      --bg-color: #3B4455;\n",
              "      --fill-color: #D2E3FC;\n",
              "      --hover-bg-color: #434B5C;\n",
              "      --hover-fill-color: #FFFFFF;\n",
              "      --disabled-bg-color: #3B4455;\n",
              "      --disabled-fill-color: #666;\n",
              "  }\n",
              "\n",
              "  .colab-df-quickchart {\n",
              "    background-color: var(--bg-color);\n",
              "    border: none;\n",
              "    border-radius: 50%;\n",
              "    cursor: pointer;\n",
              "    display: none;\n",
              "    fill: var(--fill-color);\n",
              "    height: 32px;\n",
              "    padding: 0;\n",
              "    width: 32px;\n",
              "  }\n",
              "\n",
              "  .colab-df-quickchart:hover {\n",
              "    background-color: var(--hover-bg-color);\n",
              "    box-shadow: 0 1px 2px rgba(60, 64, 67, 0.3), 0 1px 3px 1px rgba(60, 64, 67, 0.15);\n",
              "    fill: var(--button-hover-fill-color);\n",
              "  }\n",
              "\n",
              "  .colab-df-quickchart-complete:disabled,\n",
              "  .colab-df-quickchart-complete:disabled:hover {\n",
              "    background-color: var(--disabled-bg-color);\n",
              "    fill: var(--disabled-fill-color);\n",
              "    box-shadow: none;\n",
              "  }\n",
              "\n",
              "  .colab-df-spinner {\n",
              "    border: 2px solid var(--fill-color);\n",
              "    border-color: transparent;\n",
              "    border-bottom-color: var(--fill-color);\n",
              "    animation:\n",
              "      spin 1s steps(1) infinite;\n",
              "  }\n",
              "\n",
              "  @keyframes spin {\n",
              "    0% {\n",
              "      border-color: transparent;\n",
              "      border-bottom-color: var(--fill-color);\n",
              "      border-left-color: var(--fill-color);\n",
              "    }\n",
              "    20% {\n",
              "      border-color: transparent;\n",
              "      border-left-color: var(--fill-color);\n",
              "      border-top-color: var(--fill-color);\n",
              "    }\n",
              "    30% {\n",
              "      border-color: transparent;\n",
              "      border-left-color: var(--fill-color);\n",
              "      border-top-color: var(--fill-color);\n",
              "      border-right-color: var(--fill-color);\n",
              "    }\n",
              "    40% {\n",
              "      border-color: transparent;\n",
              "      border-right-color: var(--fill-color);\n",
              "      border-top-color: var(--fill-color);\n",
              "    }\n",
              "    60% {\n",
              "      border-color: transparent;\n",
              "      border-right-color: var(--fill-color);\n",
              "    }\n",
              "    80% {\n",
              "      border-color: transparent;\n",
              "      border-right-color: var(--fill-color);\n",
              "      border-bottom-color: var(--fill-color);\n",
              "    }\n",
              "    90% {\n",
              "      border-color: transparent;\n",
              "      border-bottom-color: var(--fill-color);\n",
              "    }\n",
              "  }\n",
              "</style>\n",
              "\n",
              "  <script>\n",
              "    async function quickchart(key) {\n",
              "      const quickchartButtonEl =\n",
              "        document.querySelector('#' + key + ' button');\n",
              "      quickchartButtonEl.disabled = true;  // To prevent multiple clicks.\n",
              "      quickchartButtonEl.classList.add('colab-df-spinner');\n",
              "      try {\n",
              "        const charts = await google.colab.kernel.invokeFunction(\n",
              "            'suggestCharts', [key], {});\n",
              "      } catch (error) {\n",
              "        console.error('Error during call to suggestCharts:', error);\n",
              "      }\n",
              "      quickchartButtonEl.classList.remove('colab-df-spinner');\n",
              "      quickchartButtonEl.classList.add('colab-df-quickchart-complete');\n",
              "    }\n",
              "    (() => {\n",
              "      let quickchartButtonEl =\n",
              "        document.querySelector('#df-a1f8374c-850d-47fc-bdf3-4c6c422c334c button');\n",
              "      quickchartButtonEl.style.display =\n",
              "        google.colab.kernel.accessAllowed ? 'block' : 'none';\n",
              "    })();\n",
              "  </script>\n",
              "</div>\n",
              "    </div>\n",
              "  </div>\n"
            ],
            "application/vnd.google.colaboratory.intrinsic+json": {
              "type": "dataframe",
              "summary": "{\n  \"name\": \"df\",\n  \"rows\": 5,\n  \"fields\": [\n    {\n      \"column\": \"sepalLength\",\n      \"properties\": {\n        \"dtype\": \"number\",\n        \"std\": 0.30331501776206193,\n        \"min\": 5.9,\n        \"max\": 6.7,\n        \"samples\": [\n          6.3,\n          5.9,\n          6.5\n        ],\n        \"num_unique_values\": 5,\n        \"semantic_type\": \"\",\n        \"description\": \"\"\n      }\n    },\n    {\n      \"column\": \"sepalWidth\",\n      \"properties\": {\n        \"dtype\": \"number\",\n        \"std\": 0.31937438845342625,\n        \"min\": 2.5,\n        \"max\": 3.4,\n        \"samples\": [\n          3.0,\n          2.5,\n          3.4\n        ],\n        \"num_unique_values\": 3,\n        \"semantic_type\": \"\",\n        \"description\": \"\"\n      }\n    },\n    {\n      \"column\": \"petalLength\",\n      \"properties\": {\n        \"dtype\": \"number\",\n        \"std\": 0.14832396974191348,\n        \"min\": 5.0,\n        \"max\": 5.4,\n        \"samples\": [\n          5.0,\n          5.1,\n          5.2\n        ],\n        \"num_unique_values\": 4,\n        \"semantic_type\": \"\",\n        \"description\": \"\"\n      }\n    },\n    {\n      \"column\": \"petalWidth\",\n      \"properties\": {\n        \"dtype\": \"number\",\n        \"std\": 0.23021728866442667,\n        \"min\": 1.8,\n        \"max\": 2.3,\n        \"samples\": [\n          1.9,\n          1.8,\n          2.3\n        ],\n        \"num_unique_values\": 4,\n        \"semantic_type\": \"\",\n        \"description\": \"\"\n      }\n    },\n    {\n      \"column\": \"species\",\n      \"properties\": {\n        \"dtype\": \"category\",\n        \"samples\": [\n          \"virginica\"\n        ],\n        \"num_unique_values\": 1,\n        \"semantic_type\": \"\",\n        \"description\": \"\"\n      }\n    }\n  ]\n}"
            }
          },
          "metadata": {},
          "execution_count": 41
        }
      ]
    },
    {
      "cell_type": "code",
      "source": [
        "df[10:15]  # dilimleme ile belli aralıktaki kayıtları görebiliriz..."
      ],
      "metadata": {
        "colab": {
          "base_uri": "https://localhost:8080/",
          "height": 206
        },
        "id": "ZZsYKd8pNn2n",
        "outputId": "66bbc11d-9d6f-4633-98e5-251f43ef673e"
      },
      "execution_count": 42,
      "outputs": [
        {
          "output_type": "execute_result",
          "data": {
            "text/plain": [
              "    sepalLength  sepalWidth  petalLength  petalWidth species\n",
              "10          5.4         3.7          1.5         0.2  setosa\n",
              "11          4.8         3.4          1.6         0.2  setosa\n",
              "12          4.8         3.0          1.4         0.1  setosa\n",
              "13          4.3         3.0          1.1         0.1  setosa\n",
              "14          5.8         4.0          1.2         0.2  setosa"
            ],
            "text/html": [
              "\n",
              "  <div id=\"df-f9e3a3f0-c8aa-4027-9370-1b51cb95e080\" class=\"colab-df-container\">\n",
              "    <div>\n",
              "<style scoped>\n",
              "    .dataframe tbody tr th:only-of-type {\n",
              "        vertical-align: middle;\n",
              "    }\n",
              "\n",
              "    .dataframe tbody tr th {\n",
              "        vertical-align: top;\n",
              "    }\n",
              "\n",
              "    .dataframe thead th {\n",
              "        text-align: right;\n",
              "    }\n",
              "</style>\n",
              "<table border=\"1\" class=\"dataframe\">\n",
              "  <thead>\n",
              "    <tr style=\"text-align: right;\">\n",
              "      <th></th>\n",
              "      <th>sepalLength</th>\n",
              "      <th>sepalWidth</th>\n",
              "      <th>petalLength</th>\n",
              "      <th>petalWidth</th>\n",
              "      <th>species</th>\n",
              "    </tr>\n",
              "  </thead>\n",
              "  <tbody>\n",
              "    <tr>\n",
              "      <th>10</th>\n",
              "      <td>5.4</td>\n",
              "      <td>3.7</td>\n",
              "      <td>1.5</td>\n",
              "      <td>0.2</td>\n",
              "      <td>setosa</td>\n",
              "    </tr>\n",
              "    <tr>\n",
              "      <th>11</th>\n",
              "      <td>4.8</td>\n",
              "      <td>3.4</td>\n",
              "      <td>1.6</td>\n",
              "      <td>0.2</td>\n",
              "      <td>setosa</td>\n",
              "    </tr>\n",
              "    <tr>\n",
              "      <th>12</th>\n",
              "      <td>4.8</td>\n",
              "      <td>3.0</td>\n",
              "      <td>1.4</td>\n",
              "      <td>0.1</td>\n",
              "      <td>setosa</td>\n",
              "    </tr>\n",
              "    <tr>\n",
              "      <th>13</th>\n",
              "      <td>4.3</td>\n",
              "      <td>3.0</td>\n",
              "      <td>1.1</td>\n",
              "      <td>0.1</td>\n",
              "      <td>setosa</td>\n",
              "    </tr>\n",
              "    <tr>\n",
              "      <th>14</th>\n",
              "      <td>5.8</td>\n",
              "      <td>4.0</td>\n",
              "      <td>1.2</td>\n",
              "      <td>0.2</td>\n",
              "      <td>setosa</td>\n",
              "    </tr>\n",
              "  </tbody>\n",
              "</table>\n",
              "</div>\n",
              "    <div class=\"colab-df-buttons\">\n",
              "\n",
              "  <div class=\"colab-df-container\">\n",
              "    <button class=\"colab-df-convert\" onclick=\"convertToInteractive('df-f9e3a3f0-c8aa-4027-9370-1b51cb95e080')\"\n",
              "            title=\"Convert this dataframe to an interactive table.\"\n",
              "            style=\"display:none;\">\n",
              "\n",
              "  <svg xmlns=\"http://www.w3.org/2000/svg\" height=\"24px\" viewBox=\"0 -960 960 960\">\n",
              "    <path d=\"M120-120v-720h720v720H120Zm60-500h600v-160H180v160Zm220 220h160v-160H400v160Zm0 220h160v-160H400v160ZM180-400h160v-160H180v160Zm440 0h160v-160H620v160ZM180-180h160v-160H180v160Zm440 0h160v-160H620v160Z\"/>\n",
              "  </svg>\n",
              "    </button>\n",
              "\n",
              "  <style>\n",
              "    .colab-df-container {\n",
              "      display:flex;\n",
              "      gap: 12px;\n",
              "    }\n",
              "\n",
              "    .colab-df-convert {\n",
              "      background-color: #E8F0FE;\n",
              "      border: none;\n",
              "      border-radius: 50%;\n",
              "      cursor: pointer;\n",
              "      display: none;\n",
              "      fill: #1967D2;\n",
              "      height: 32px;\n",
              "      padding: 0 0 0 0;\n",
              "      width: 32px;\n",
              "    }\n",
              "\n",
              "    .colab-df-convert:hover {\n",
              "      background-color: #E2EBFA;\n",
              "      box-shadow: 0px 1px 2px rgba(60, 64, 67, 0.3), 0px 1px 3px 1px rgba(60, 64, 67, 0.15);\n",
              "      fill: #174EA6;\n",
              "    }\n",
              "\n",
              "    .colab-df-buttons div {\n",
              "      margin-bottom: 4px;\n",
              "    }\n",
              "\n",
              "    [theme=dark] .colab-df-convert {\n",
              "      background-color: #3B4455;\n",
              "      fill: #D2E3FC;\n",
              "    }\n",
              "\n",
              "    [theme=dark] .colab-df-convert:hover {\n",
              "      background-color: #434B5C;\n",
              "      box-shadow: 0px 1px 3px 1px rgba(0, 0, 0, 0.15);\n",
              "      filter: drop-shadow(0px 1px 2px rgba(0, 0, 0, 0.3));\n",
              "      fill: #FFFFFF;\n",
              "    }\n",
              "  </style>\n",
              "\n",
              "    <script>\n",
              "      const buttonEl =\n",
              "        document.querySelector('#df-f9e3a3f0-c8aa-4027-9370-1b51cb95e080 button.colab-df-convert');\n",
              "      buttonEl.style.display =\n",
              "        google.colab.kernel.accessAllowed ? 'block' : 'none';\n",
              "\n",
              "      async function convertToInteractive(key) {\n",
              "        const element = document.querySelector('#df-f9e3a3f0-c8aa-4027-9370-1b51cb95e080');\n",
              "        const dataTable =\n",
              "          await google.colab.kernel.invokeFunction('convertToInteractive',\n",
              "                                                    [key], {});\n",
              "        if (!dataTable) return;\n",
              "\n",
              "        const docLinkHtml = 'Like what you see? Visit the ' +\n",
              "          '<a target=\"_blank\" href=https://colab.research.google.com/notebooks/data_table.ipynb>data table notebook</a>'\n",
              "          + ' to learn more about interactive tables.';\n",
              "        element.innerHTML = '';\n",
              "        dataTable['output_type'] = 'display_data';\n",
              "        await google.colab.output.renderOutput(dataTable, element);\n",
              "        const docLink = document.createElement('div');\n",
              "        docLink.innerHTML = docLinkHtml;\n",
              "        element.appendChild(docLink);\n",
              "      }\n",
              "    </script>\n",
              "  </div>\n",
              "\n",
              "\n",
              "<div id=\"df-670c9a73-9243-4919-9226-19bfaa59da51\">\n",
              "  <button class=\"colab-df-quickchart\" onclick=\"quickchart('df-670c9a73-9243-4919-9226-19bfaa59da51')\"\n",
              "            title=\"Suggest charts\"\n",
              "            style=\"display:none;\">\n",
              "\n",
              "<svg xmlns=\"http://www.w3.org/2000/svg\" height=\"24px\"viewBox=\"0 0 24 24\"\n",
              "     width=\"24px\">\n",
              "    <g>\n",
              "        <path d=\"M19 3H5c-1.1 0-2 .9-2 2v14c0 1.1.9 2 2 2h14c1.1 0 2-.9 2-2V5c0-1.1-.9-2-2-2zM9 17H7v-7h2v7zm4 0h-2V7h2v10zm4 0h-2v-4h2v4z\"/>\n",
              "    </g>\n",
              "</svg>\n",
              "  </button>\n",
              "\n",
              "<style>\n",
              "  .colab-df-quickchart {\n",
              "      --bg-color: #E8F0FE;\n",
              "      --fill-color: #1967D2;\n",
              "      --hover-bg-color: #E2EBFA;\n",
              "      --hover-fill-color: #174EA6;\n",
              "      --disabled-fill-color: #AAA;\n",
              "      --disabled-bg-color: #DDD;\n",
              "  }\n",
              "\n",
              "  [theme=dark] .colab-df-quickchart {\n",
              "      --bg-color: #3B4455;\n",
              "      --fill-color: #D2E3FC;\n",
              "      --hover-bg-color: #434B5C;\n",
              "      --hover-fill-color: #FFFFFF;\n",
              "      --disabled-bg-color: #3B4455;\n",
              "      --disabled-fill-color: #666;\n",
              "  }\n",
              "\n",
              "  .colab-df-quickchart {\n",
              "    background-color: var(--bg-color);\n",
              "    border: none;\n",
              "    border-radius: 50%;\n",
              "    cursor: pointer;\n",
              "    display: none;\n",
              "    fill: var(--fill-color);\n",
              "    height: 32px;\n",
              "    padding: 0;\n",
              "    width: 32px;\n",
              "  }\n",
              "\n",
              "  .colab-df-quickchart:hover {\n",
              "    background-color: var(--hover-bg-color);\n",
              "    box-shadow: 0 1px 2px rgba(60, 64, 67, 0.3), 0 1px 3px 1px rgba(60, 64, 67, 0.15);\n",
              "    fill: var(--button-hover-fill-color);\n",
              "  }\n",
              "\n",
              "  .colab-df-quickchart-complete:disabled,\n",
              "  .colab-df-quickchart-complete:disabled:hover {\n",
              "    background-color: var(--disabled-bg-color);\n",
              "    fill: var(--disabled-fill-color);\n",
              "    box-shadow: none;\n",
              "  }\n",
              "\n",
              "  .colab-df-spinner {\n",
              "    border: 2px solid var(--fill-color);\n",
              "    border-color: transparent;\n",
              "    border-bottom-color: var(--fill-color);\n",
              "    animation:\n",
              "      spin 1s steps(1) infinite;\n",
              "  }\n",
              "\n",
              "  @keyframes spin {\n",
              "    0% {\n",
              "      border-color: transparent;\n",
              "      border-bottom-color: var(--fill-color);\n",
              "      border-left-color: var(--fill-color);\n",
              "    }\n",
              "    20% {\n",
              "      border-color: transparent;\n",
              "      border-left-color: var(--fill-color);\n",
              "      border-top-color: var(--fill-color);\n",
              "    }\n",
              "    30% {\n",
              "      border-color: transparent;\n",
              "      border-left-color: var(--fill-color);\n",
              "      border-top-color: var(--fill-color);\n",
              "      border-right-color: var(--fill-color);\n",
              "    }\n",
              "    40% {\n",
              "      border-color: transparent;\n",
              "      border-right-color: var(--fill-color);\n",
              "      border-top-color: var(--fill-color);\n",
              "    }\n",
              "    60% {\n",
              "      border-color: transparent;\n",
              "      border-right-color: var(--fill-color);\n",
              "    }\n",
              "    80% {\n",
              "      border-color: transparent;\n",
              "      border-right-color: var(--fill-color);\n",
              "      border-bottom-color: var(--fill-color);\n",
              "    }\n",
              "    90% {\n",
              "      border-color: transparent;\n",
              "      border-bottom-color: var(--fill-color);\n",
              "    }\n",
              "  }\n",
              "</style>\n",
              "\n",
              "  <script>\n",
              "    async function quickchart(key) {\n",
              "      const quickchartButtonEl =\n",
              "        document.querySelector('#' + key + ' button');\n",
              "      quickchartButtonEl.disabled = true;  // To prevent multiple clicks.\n",
              "      quickchartButtonEl.classList.add('colab-df-spinner');\n",
              "      try {\n",
              "        const charts = await google.colab.kernel.invokeFunction(\n",
              "            'suggestCharts', [key], {});\n",
              "      } catch (error) {\n",
              "        console.error('Error during call to suggestCharts:', error);\n",
              "      }\n",
              "      quickchartButtonEl.classList.remove('colab-df-spinner');\n",
              "      quickchartButtonEl.classList.add('colab-df-quickchart-complete');\n",
              "    }\n",
              "    (() => {\n",
              "      let quickchartButtonEl =\n",
              "        document.querySelector('#df-670c9a73-9243-4919-9226-19bfaa59da51 button');\n",
              "      quickchartButtonEl.style.display =\n",
              "        google.colab.kernel.accessAllowed ? 'block' : 'none';\n",
              "    })();\n",
              "  </script>\n",
              "</div>\n",
              "    </div>\n",
              "  </div>\n"
            ],
            "application/vnd.google.colaboratory.intrinsic+json": {
              "type": "dataframe",
              "summary": "{\n  \"name\": \"df[10:15]\",\n  \"rows\": 5,\n  \"fields\": [\n    {\n      \"column\": \"sepalLength\",\n      \"properties\": {\n        \"dtype\": \"number\",\n        \"std\": 0.584807660688538,\n        \"min\": 4.3,\n        \"max\": 5.8,\n        \"samples\": [\n          4.8,\n          5.8,\n          5.4\n        ],\n        \"num_unique_values\": 4,\n        \"semantic_type\": \"\",\n        \"description\": \"\"\n      }\n    },\n    {\n      \"column\": \"sepalWidth\",\n      \"properties\": {\n        \"dtype\": \"number\",\n        \"std\": 0.4381780460041329,\n        \"min\": 3.0,\n        \"max\": 4.0,\n        \"samples\": [\n          3.4,\n          4.0,\n          3.7\n        ],\n        \"num_unique_values\": 4,\n        \"semantic_type\": \"\",\n        \"description\": \"\"\n      }\n    },\n    {\n      \"column\": \"petalLength\",\n      \"properties\": {\n        \"dtype\": \"number\",\n        \"std\": 0.20736441353327723,\n        \"min\": 1.1,\n        \"max\": 1.6,\n        \"samples\": [\n          1.6,\n          1.2,\n          1.4\n        ],\n        \"num_unique_values\": 5,\n        \"semantic_type\": \"\",\n        \"description\": \"\"\n      }\n    },\n    {\n      \"column\": \"petalWidth\",\n      \"properties\": {\n        \"dtype\": \"number\",\n        \"std\": 0.05477225575051661,\n        \"min\": 0.1,\n        \"max\": 0.2,\n        \"samples\": [\n          0.1,\n          0.2\n        ],\n        \"num_unique_values\": 2,\n        \"semantic_type\": \"\",\n        \"description\": \"\"\n      }\n    },\n    {\n      \"column\": \"species\",\n      \"properties\": {\n        \"dtype\": \"category\",\n        \"samples\": [\n          \"setosa\"\n        ],\n        \"num_unique_values\": 1,\n        \"semantic_type\": \"\",\n        \"description\": \"\"\n      }\n    }\n  ]\n}"
            }
          },
          "metadata": {},
          "execution_count": 42
        }
      ]
    },
    {
      "cell_type": "code",
      "source": [
        "#data.json dosyamı oku\n",
        "import pandas as pd\n",
        "df = pd.read_json(\"data.json\", orient=\"index\")\n",
        "print(df)"
      ],
      "metadata": {
        "colab": {
          "base_uri": "https://localhost:8080/"
        },
        "id": "lkrodwb-N5Qn",
        "outputId": "b4e2333c-9422-45b9-8c24-a5aeb683889c"
      },
      "execution_count": 45,
      "outputs": [
        {
          "output_type": "stream",
          "name": "stdout",
          "text": [
            "          0\n",
            "names   Tom\n",
            "phone  3456\n"
          ]
        }
      ]
    },
    {
      "cell_type": "code",
      "source": [
        "data = {\n",
        "    'names': [\"Tom\", \"Ali\", \"Mary\"],\n",
        "    \"phones\": [2345, 5678, 8901]\n",
        "}\n",
        "import pandas as pd\n",
        "# df = pd.DataFrame(data)\n",
        "df = pd.DataFrame.from_dict(data)\n",
        "df.to_json(\"phone2.json\",indent=2) # orient=\"records\""
      ],
      "metadata": {
        "id": "r-axo1cPPPzS"
      },
      "execution_count": 46,
      "outputs": []
    },
    {
      "cell_type": "code",
      "source": [
        "import pandas as pd\n",
        "df = pd.read_json(\"phone2.json\")\n",
        "print(df)"
      ],
      "metadata": {
        "colab": {
          "base_uri": "https://localhost:8080/"
        },
        "id": "TzY5MUBwQKkj",
        "outputId": "c209190b-1dbf-4ad0-b90d-3dc5af64b06c"
      },
      "execution_count": 47,
      "outputs": [
        {
          "output_type": "stream",
          "name": "stdout",
          "text": [
            "  names  phones\n",
            "0   Tom    2345\n",
            "1   Ali    5678\n",
            "2  Mary    8901\n"
          ]
        }
      ]
    },
    {
      "cell_type": "code",
      "source": [
        "data = {\n",
        "    'names': [\"Tom\", \"Ali\", \"Mary\"],\n",
        "    \"phones\": [2345, 5678, 8901]\n",
        "}\n",
        "import pandas as pd\n",
        "# df = pd.DataFrame(data)\n",
        "df = pd.DataFrame.from_dict(data)\n",
        "df.to_json(\"phone2.json\", orient=\"records\", indent=2)\n",
        "# eşleştirmeleri birebir yaparak yazmak için orient=\"records\" atanır"
      ],
      "metadata": {
        "id": "R7K6MxdXBjEQ"
      },
      "execution_count": 48,
      "outputs": []
    },
    {
      "cell_type": "code",
      "source": [
        "print(df[\"phones\"])"
      ],
      "metadata": {
        "colab": {
          "base_uri": "https://localhost:8080/"
        },
        "id": "xed-zAwKQqUu",
        "outputId": "0a22cf5f-cd39-407a-8bbd-087c815611f0"
      },
      "execution_count": 50,
      "outputs": [
        {
          "output_type": "stream",
          "name": "stdout",
          "text": [
            "0    2345\n",
            "1    5678\n",
            "2    8901\n",
            "Name: phones, dtype: int64\n"
          ]
        }
      ]
    },
    {
      "cell_type": "code",
      "source": [
        "import pandas as pd\n",
        "# indis noları gösterme\n",
        "df = pd.read_json(\"phone2.json\")\n",
        "print(df)"
      ],
      "metadata": {
        "colab": {
          "base_uri": "https://localhost:8080/"
        },
        "id": "mrkWb6rCQ6tm",
        "outputId": "d1a61ac1-56e7-4bd1-ec00-73665189f779"
      },
      "execution_count": 51,
      "outputs": [
        {
          "output_type": "stream",
          "name": "stdout",
          "text": [
            "  names  phones\n",
            "0   Tom    2345\n",
            "1   Ali    5678\n",
            "2  Mary    8901\n"
          ]
        }
      ]
    },
    {
      "cell_type": "code",
      "source": [
        "import pandas as pd\n",
        "# indis noları gösterme\n",
        "df = pd.read_csv(\"phone.csv\", index_col=0)\n",
        "print(df)"
      ],
      "metadata": {
        "colab": {
          "base_uri": "https://localhost:8080/"
        },
        "id": "A0FZGrhdRW6S",
        "outputId": "b1c28adb-f100-4b03-f2ce-478d32e72794"
      },
      "execution_count": 52,
      "outputs": [
        {
          "output_type": "stream",
          "name": "stdout",
          "text": [
            "      phone\n",
            "name       \n",
            "Ali    3456\n",
            "Tom    5687\n",
            "Ala    1234\n",
            "Mary   9865\n",
            "Ada    9000\n"
          ]
        }
      ]
    },
    {
      "cell_type": "code",
      "source": [
        "import pandas as pd\n",
        "# başlıkları gösterme\n",
        "df = pd.read_json(\"phone2.json\")\n",
        "print(df)"
      ],
      "metadata": {
        "colab": {
          "base_uri": "https://localhost:8080/"
        },
        "id": "eb7ek_wbRnID",
        "outputId": "34de0546-3d6d-4a70-8679-95705f6913a7"
      },
      "execution_count": 58,
      "outputs": [
        {
          "output_type": "stream",
          "name": "stdout",
          "text": [
            "  names  phones\n",
            "0   Tom    2345\n",
            "1   Ali    5678\n",
            "2  Mary    8901\n"
          ]
        }
      ]
    },
    {
      "cell_type": "code",
      "source": [
        "url = \"https://python-data.dr-chuck.net/comments_42.html\"\n",
        "import pandas as pd\n",
        "df = pd.read_html(url) # index_col=0, header=0 başlardaki indis no lar kaldırılır\n",
        "#df.head() # tablo halinde değil; df.head() çalışmadı\n",
        "print(df)"
      ],
      "metadata": {
        "id": "4yYOaE79SPp2"
      },
      "execution_count": null,
      "outputs": []
    },
    {
      "cell_type": "code",
      "source": [
        "# pandas ile csv file oluşturma\n",
        "import pandas as pd\n",
        "data_setim = {\"il\": [\"Bursa\", \"Berlin\", \"Ankara\", \"Konya\", \"Erzurum\"],\n",
        "              \"plaka\": [16, 'B', 6, 45, 25]}\n",
        "# bu data_setimi tabloya dönüştür\n",
        "tablo = pd.DataFrame(data_setim)\n",
        "tablo.to_csv(\"iller.csv\")"
      ],
      "metadata": {
        "id": "SQyCySdxT90P"
      },
      "execution_count": 63,
      "outputs": []
    },
    {
      "cell_type": "code",
      "source": [
        "print(tablo)"
      ],
      "metadata": {
        "colab": {
          "base_uri": "https://localhost:8080/"
        },
        "id": "_dOnRI-vUyQO",
        "outputId": "b37ad719-4787-4c80-ceab-52faa88ec40a"
      },
      "execution_count": 64,
      "outputs": [
        {
          "output_type": "stream",
          "name": "stdout",
          "text": [
            "        il plaka\n",
            "0    Bursa    16\n",
            "1   Berlin     B\n",
            "2   Ankara     6\n",
            "3    Konya    45\n",
            "4  Erzurum    25\n"
          ]
        }
      ]
    },
    {
      "cell_type": "code",
      "source": [
        "print(tablo[\"il\"])"
      ],
      "metadata": {
        "colab": {
          "base_uri": "https://localhost:8080/"
        },
        "id": "J0vTDCKlUx1w",
        "outputId": "70b6e504-1a91-45f3-93dc-498207fafcb0"
      },
      "execution_count": 68,
      "outputs": [
        {
          "output_type": "stream",
          "name": "stdout",
          "text": [
            "0      Bursa\n",
            "1     Berlin\n",
            "2     Ankara\n",
            "3      Konya\n",
            "4    Erzurum\n",
            "Name: il, dtype: object\n"
          ]
        }
      ]
    },
    {
      "cell_type": "code",
      "source": [
        "print(type(tablo[\"il\"]))"
      ],
      "metadata": {
        "colab": {
          "base_uri": "https://localhost:8080/"
        },
        "id": "7wuab9UmVWlS",
        "outputId": "300d386e-a12e-4a14-aee1-9c424cd43c5b"
      },
      "execution_count": 70,
      "outputs": [
        {
          "output_type": "stream",
          "name": "stdout",
          "text": [
            "<class 'pandas.core.series.Series'>\n"
          ]
        }
      ]
    },
    {
      "cell_type": "code",
      "source": [
        "import pandas as pd\n",
        "df = pd.read_csv(\"iller.csv\")\n",
        "# \"il\" sütununda \"B\" ile başlayanları filtrele\n",
        "b_il = df[df['il'].str.startswith('B')]\n",
        "b_il"
      ],
      "metadata": {
        "colab": {
          "base_uri": "https://localhost:8080/",
          "height": 112
        },
        "id": "kUkp13SuW7m1",
        "outputId": "fd55b426-854a-4ff0-f634-2c73b28d25d7"
      },
      "execution_count": 71,
      "outputs": [
        {
          "output_type": "execute_result",
          "data": {
            "text/plain": [
              "   Unnamed: 0      il plaka\n",
              "0           0   Bursa    16\n",
              "1           1  Berlin     B"
            ],
            "text/html": [
              "\n",
              "  <div id=\"df-1d04b2ce-4898-48fc-87d8-90a0495ee742\" class=\"colab-df-container\">\n",
              "    <div>\n",
              "<style scoped>\n",
              "    .dataframe tbody tr th:only-of-type {\n",
              "        vertical-align: middle;\n",
              "    }\n",
              "\n",
              "    .dataframe tbody tr th {\n",
              "        vertical-align: top;\n",
              "    }\n",
              "\n",
              "    .dataframe thead th {\n",
              "        text-align: right;\n",
              "    }\n",
              "</style>\n",
              "<table border=\"1\" class=\"dataframe\">\n",
              "  <thead>\n",
              "    <tr style=\"text-align: right;\">\n",
              "      <th></th>\n",
              "      <th>Unnamed: 0</th>\n",
              "      <th>il</th>\n",
              "      <th>plaka</th>\n",
              "    </tr>\n",
              "  </thead>\n",
              "  <tbody>\n",
              "    <tr>\n",
              "      <th>0</th>\n",
              "      <td>0</td>\n",
              "      <td>Bursa</td>\n",
              "      <td>16</td>\n",
              "    </tr>\n",
              "    <tr>\n",
              "      <th>1</th>\n",
              "      <td>1</td>\n",
              "      <td>Berlin</td>\n",
              "      <td>B</td>\n",
              "    </tr>\n",
              "  </tbody>\n",
              "</table>\n",
              "</div>\n",
              "    <div class=\"colab-df-buttons\">\n",
              "\n",
              "  <div class=\"colab-df-container\">\n",
              "    <button class=\"colab-df-convert\" onclick=\"convertToInteractive('df-1d04b2ce-4898-48fc-87d8-90a0495ee742')\"\n",
              "            title=\"Convert this dataframe to an interactive table.\"\n",
              "            style=\"display:none;\">\n",
              "\n",
              "  <svg xmlns=\"http://www.w3.org/2000/svg\" height=\"24px\" viewBox=\"0 -960 960 960\">\n",
              "    <path d=\"M120-120v-720h720v720H120Zm60-500h600v-160H180v160Zm220 220h160v-160H400v160Zm0 220h160v-160H400v160ZM180-400h160v-160H180v160Zm440 0h160v-160H620v160ZM180-180h160v-160H180v160Zm440 0h160v-160H620v160Z\"/>\n",
              "  </svg>\n",
              "    </button>\n",
              "\n",
              "  <style>\n",
              "    .colab-df-container {\n",
              "      display:flex;\n",
              "      gap: 12px;\n",
              "    }\n",
              "\n",
              "    .colab-df-convert {\n",
              "      background-color: #E8F0FE;\n",
              "      border: none;\n",
              "      border-radius: 50%;\n",
              "      cursor: pointer;\n",
              "      display: none;\n",
              "      fill: #1967D2;\n",
              "      height: 32px;\n",
              "      padding: 0 0 0 0;\n",
              "      width: 32px;\n",
              "    }\n",
              "\n",
              "    .colab-df-convert:hover {\n",
              "      background-color: #E2EBFA;\n",
              "      box-shadow: 0px 1px 2px rgba(60, 64, 67, 0.3), 0px 1px 3px 1px rgba(60, 64, 67, 0.15);\n",
              "      fill: #174EA6;\n",
              "    }\n",
              "\n",
              "    .colab-df-buttons div {\n",
              "      margin-bottom: 4px;\n",
              "    }\n",
              "\n",
              "    [theme=dark] .colab-df-convert {\n",
              "      background-color: #3B4455;\n",
              "      fill: #D2E3FC;\n",
              "    }\n",
              "\n",
              "    [theme=dark] .colab-df-convert:hover {\n",
              "      background-color: #434B5C;\n",
              "      box-shadow: 0px 1px 3px 1px rgba(0, 0, 0, 0.15);\n",
              "      filter: drop-shadow(0px 1px 2px rgba(0, 0, 0, 0.3));\n",
              "      fill: #FFFFFF;\n",
              "    }\n",
              "  </style>\n",
              "\n",
              "    <script>\n",
              "      const buttonEl =\n",
              "        document.querySelector('#df-1d04b2ce-4898-48fc-87d8-90a0495ee742 button.colab-df-convert');\n",
              "      buttonEl.style.display =\n",
              "        google.colab.kernel.accessAllowed ? 'block' : 'none';\n",
              "\n",
              "      async function convertToInteractive(key) {\n",
              "        const element = document.querySelector('#df-1d04b2ce-4898-48fc-87d8-90a0495ee742');\n",
              "        const dataTable =\n",
              "          await google.colab.kernel.invokeFunction('convertToInteractive',\n",
              "                                                    [key], {});\n",
              "        if (!dataTable) return;\n",
              "\n",
              "        const docLinkHtml = 'Like what you see? Visit the ' +\n",
              "          '<a target=\"_blank\" href=https://colab.research.google.com/notebooks/data_table.ipynb>data table notebook</a>'\n",
              "          + ' to learn more about interactive tables.';\n",
              "        element.innerHTML = '';\n",
              "        dataTable['output_type'] = 'display_data';\n",
              "        await google.colab.output.renderOutput(dataTable, element);\n",
              "        const docLink = document.createElement('div');\n",
              "        docLink.innerHTML = docLinkHtml;\n",
              "        element.appendChild(docLink);\n",
              "      }\n",
              "    </script>\n",
              "  </div>\n",
              "\n",
              "\n",
              "<div id=\"df-5b80ed58-4b3a-41fa-a083-6ec21b9553a7\">\n",
              "  <button class=\"colab-df-quickchart\" onclick=\"quickchart('df-5b80ed58-4b3a-41fa-a083-6ec21b9553a7')\"\n",
              "            title=\"Suggest charts\"\n",
              "            style=\"display:none;\">\n",
              "\n",
              "<svg xmlns=\"http://www.w3.org/2000/svg\" height=\"24px\"viewBox=\"0 0 24 24\"\n",
              "     width=\"24px\">\n",
              "    <g>\n",
              "        <path d=\"M19 3H5c-1.1 0-2 .9-2 2v14c0 1.1.9 2 2 2h14c1.1 0 2-.9 2-2V5c0-1.1-.9-2-2-2zM9 17H7v-7h2v7zm4 0h-2V7h2v10zm4 0h-2v-4h2v4z\"/>\n",
              "    </g>\n",
              "</svg>\n",
              "  </button>\n",
              "\n",
              "<style>\n",
              "  .colab-df-quickchart {\n",
              "      --bg-color: #E8F0FE;\n",
              "      --fill-color: #1967D2;\n",
              "      --hover-bg-color: #E2EBFA;\n",
              "      --hover-fill-color: #174EA6;\n",
              "      --disabled-fill-color: #AAA;\n",
              "      --disabled-bg-color: #DDD;\n",
              "  }\n",
              "\n",
              "  [theme=dark] .colab-df-quickchart {\n",
              "      --bg-color: #3B4455;\n",
              "      --fill-color: #D2E3FC;\n",
              "      --hover-bg-color: #434B5C;\n",
              "      --hover-fill-color: #FFFFFF;\n",
              "      --disabled-bg-color: #3B4455;\n",
              "      --disabled-fill-color: #666;\n",
              "  }\n",
              "\n",
              "  .colab-df-quickchart {\n",
              "    background-color: var(--bg-color);\n",
              "    border: none;\n",
              "    border-radius: 50%;\n",
              "    cursor: pointer;\n",
              "    display: none;\n",
              "    fill: var(--fill-color);\n",
              "    height: 32px;\n",
              "    padding: 0;\n",
              "    width: 32px;\n",
              "  }\n",
              "\n",
              "  .colab-df-quickchart:hover {\n",
              "    background-color: var(--hover-bg-color);\n",
              "    box-shadow: 0 1px 2px rgba(60, 64, 67, 0.3), 0 1px 3px 1px rgba(60, 64, 67, 0.15);\n",
              "    fill: var(--button-hover-fill-color);\n",
              "  }\n",
              "\n",
              "  .colab-df-quickchart-complete:disabled,\n",
              "  .colab-df-quickchart-complete:disabled:hover {\n",
              "    background-color: var(--disabled-bg-color);\n",
              "    fill: var(--disabled-fill-color);\n",
              "    box-shadow: none;\n",
              "  }\n",
              "\n",
              "  .colab-df-spinner {\n",
              "    border: 2px solid var(--fill-color);\n",
              "    border-color: transparent;\n",
              "    border-bottom-color: var(--fill-color);\n",
              "    animation:\n",
              "      spin 1s steps(1) infinite;\n",
              "  }\n",
              "\n",
              "  @keyframes spin {\n",
              "    0% {\n",
              "      border-color: transparent;\n",
              "      border-bottom-color: var(--fill-color);\n",
              "      border-left-color: var(--fill-color);\n",
              "    }\n",
              "    20% {\n",
              "      border-color: transparent;\n",
              "      border-left-color: var(--fill-color);\n",
              "      border-top-color: var(--fill-color);\n",
              "    }\n",
              "    30% {\n",
              "      border-color: transparent;\n",
              "      border-left-color: var(--fill-color);\n",
              "      border-top-color: var(--fill-color);\n",
              "      border-right-color: var(--fill-color);\n",
              "    }\n",
              "    40% {\n",
              "      border-color: transparent;\n",
              "      border-right-color: var(--fill-color);\n",
              "      border-top-color: var(--fill-color);\n",
              "    }\n",
              "    60% {\n",
              "      border-color: transparent;\n",
              "      border-right-color: var(--fill-color);\n",
              "    }\n",
              "    80% {\n",
              "      border-color: transparent;\n",
              "      border-right-color: var(--fill-color);\n",
              "      border-bottom-color: var(--fill-color);\n",
              "    }\n",
              "    90% {\n",
              "      border-color: transparent;\n",
              "      border-bottom-color: var(--fill-color);\n",
              "    }\n",
              "  }\n",
              "</style>\n",
              "\n",
              "  <script>\n",
              "    async function quickchart(key) {\n",
              "      const quickchartButtonEl =\n",
              "        document.querySelector('#' + key + ' button');\n",
              "      quickchartButtonEl.disabled = true;  // To prevent multiple clicks.\n",
              "      quickchartButtonEl.classList.add('colab-df-spinner');\n",
              "      try {\n",
              "        const charts = await google.colab.kernel.invokeFunction(\n",
              "            'suggestCharts', [key], {});\n",
              "      } catch (error) {\n",
              "        console.error('Error during call to suggestCharts:', error);\n",
              "      }\n",
              "      quickchartButtonEl.classList.remove('colab-df-spinner');\n",
              "      quickchartButtonEl.classList.add('colab-df-quickchart-complete');\n",
              "    }\n",
              "    (() => {\n",
              "      let quickchartButtonEl =\n",
              "        document.querySelector('#df-5b80ed58-4b3a-41fa-a083-6ec21b9553a7 button');\n",
              "      quickchartButtonEl.style.display =\n",
              "        google.colab.kernel.accessAllowed ? 'block' : 'none';\n",
              "    })();\n",
              "  </script>\n",
              "</div>\n",
              "    </div>\n",
              "  </div>\n"
            ],
            "application/vnd.google.colaboratory.intrinsic+json": {
              "type": "dataframe",
              "variable_name": "b_il",
              "summary": "{\n  \"name\": \"b_il\",\n  \"rows\": 2,\n  \"fields\": [\n    {\n      \"column\": \"Unnamed: 0\",\n      \"properties\": {\n        \"dtype\": \"number\",\n        \"std\": 0,\n        \"min\": 0,\n        \"max\": 1,\n        \"samples\": [\n          1,\n          0\n        ],\n        \"num_unique_values\": 2,\n        \"semantic_type\": \"\",\n        \"description\": \"\"\n      }\n    },\n    {\n      \"column\": \"il\",\n      \"properties\": {\n        \"dtype\": \"string\",\n        \"samples\": [\n          \"Berlin\",\n          \"Bursa\"\n        ],\n        \"num_unique_values\": 2,\n        \"semantic_type\": \"\",\n        \"description\": \"\"\n      }\n    },\n    {\n      \"column\": \"plaka\",\n      \"properties\": {\n        \"dtype\": \"string\",\n        \"samples\": [\n          \"B\",\n          \"16\"\n        ],\n        \"num_unique_values\": 2,\n        \"semantic_type\": \"\",\n        \"description\": \"\"\n      }\n    }\n  ]\n}"
            }
          },
          "metadata": {},
          "execution_count": 71
        }
      ]
    },
    {
      "cell_type": "code",
      "source": [
        "import pandas as pd\n",
        "df = pd.read_csv(\"iller.csv\")\n",
        "# \"il\" sütununda \"B\" ile başlayanları filtrele\n",
        "b_il = df[df['il'].str.startswith('B')]\n",
        "b_il.drop(columns = [\"Unnamed: 0\"])"
      ],
      "metadata": {
        "colab": {
          "base_uri": "https://localhost:8080/",
          "height": 112
        },
        "id": "QUDzTvRKW_sk",
        "outputId": "232f540d-2c20-4a97-df0f-05e13c0b90b0"
      },
      "execution_count": 72,
      "outputs": [
        {
          "output_type": "execute_result",
          "data": {
            "text/plain": [
              "       il plaka\n",
              "0   Bursa    16\n",
              "1  Berlin     B"
            ],
            "text/html": [
              "\n",
              "  <div id=\"df-63e76665-9c03-4f20-8978-c2e99a98cadd\" class=\"colab-df-container\">\n",
              "    <div>\n",
              "<style scoped>\n",
              "    .dataframe tbody tr th:only-of-type {\n",
              "        vertical-align: middle;\n",
              "    }\n",
              "\n",
              "    .dataframe tbody tr th {\n",
              "        vertical-align: top;\n",
              "    }\n",
              "\n",
              "    .dataframe thead th {\n",
              "        text-align: right;\n",
              "    }\n",
              "</style>\n",
              "<table border=\"1\" class=\"dataframe\">\n",
              "  <thead>\n",
              "    <tr style=\"text-align: right;\">\n",
              "      <th></th>\n",
              "      <th>il</th>\n",
              "      <th>plaka</th>\n",
              "    </tr>\n",
              "  </thead>\n",
              "  <tbody>\n",
              "    <tr>\n",
              "      <th>0</th>\n",
              "      <td>Bursa</td>\n",
              "      <td>16</td>\n",
              "    </tr>\n",
              "    <tr>\n",
              "      <th>1</th>\n",
              "      <td>Berlin</td>\n",
              "      <td>B</td>\n",
              "    </tr>\n",
              "  </tbody>\n",
              "</table>\n",
              "</div>\n",
              "    <div class=\"colab-df-buttons\">\n",
              "\n",
              "  <div class=\"colab-df-container\">\n",
              "    <button class=\"colab-df-convert\" onclick=\"convertToInteractive('df-63e76665-9c03-4f20-8978-c2e99a98cadd')\"\n",
              "            title=\"Convert this dataframe to an interactive table.\"\n",
              "            style=\"display:none;\">\n",
              "\n",
              "  <svg xmlns=\"http://www.w3.org/2000/svg\" height=\"24px\" viewBox=\"0 -960 960 960\">\n",
              "    <path d=\"M120-120v-720h720v720H120Zm60-500h600v-160H180v160Zm220 220h160v-160H400v160Zm0 220h160v-160H400v160ZM180-400h160v-160H180v160Zm440 0h160v-160H620v160ZM180-180h160v-160H180v160Zm440 0h160v-160H620v160Z\"/>\n",
              "  </svg>\n",
              "    </button>\n",
              "\n",
              "  <style>\n",
              "    .colab-df-container {\n",
              "      display:flex;\n",
              "      gap: 12px;\n",
              "    }\n",
              "\n",
              "    .colab-df-convert {\n",
              "      background-color: #E8F0FE;\n",
              "      border: none;\n",
              "      border-radius: 50%;\n",
              "      cursor: pointer;\n",
              "      display: none;\n",
              "      fill: #1967D2;\n",
              "      height: 32px;\n",
              "      padding: 0 0 0 0;\n",
              "      width: 32px;\n",
              "    }\n",
              "\n",
              "    .colab-df-convert:hover {\n",
              "      background-color: #E2EBFA;\n",
              "      box-shadow: 0px 1px 2px rgba(60, 64, 67, 0.3), 0px 1px 3px 1px rgba(60, 64, 67, 0.15);\n",
              "      fill: #174EA6;\n",
              "    }\n",
              "\n",
              "    .colab-df-buttons div {\n",
              "      margin-bottom: 4px;\n",
              "    }\n",
              "\n",
              "    [theme=dark] .colab-df-convert {\n",
              "      background-color: #3B4455;\n",
              "      fill: #D2E3FC;\n",
              "    }\n",
              "\n",
              "    [theme=dark] .colab-df-convert:hover {\n",
              "      background-color: #434B5C;\n",
              "      box-shadow: 0px 1px 3px 1px rgba(0, 0, 0, 0.15);\n",
              "      filter: drop-shadow(0px 1px 2px rgba(0, 0, 0, 0.3));\n",
              "      fill: #FFFFFF;\n",
              "    }\n",
              "  </style>\n",
              "\n",
              "    <script>\n",
              "      const buttonEl =\n",
              "        document.querySelector('#df-63e76665-9c03-4f20-8978-c2e99a98cadd button.colab-df-convert');\n",
              "      buttonEl.style.display =\n",
              "        google.colab.kernel.accessAllowed ? 'block' : 'none';\n",
              "\n",
              "      async function convertToInteractive(key) {\n",
              "        const element = document.querySelector('#df-63e76665-9c03-4f20-8978-c2e99a98cadd');\n",
              "        const dataTable =\n",
              "          await google.colab.kernel.invokeFunction('convertToInteractive',\n",
              "                                                    [key], {});\n",
              "        if (!dataTable) return;\n",
              "\n",
              "        const docLinkHtml = 'Like what you see? Visit the ' +\n",
              "          '<a target=\"_blank\" href=https://colab.research.google.com/notebooks/data_table.ipynb>data table notebook</a>'\n",
              "          + ' to learn more about interactive tables.';\n",
              "        element.innerHTML = '';\n",
              "        dataTable['output_type'] = 'display_data';\n",
              "        await google.colab.output.renderOutput(dataTable, element);\n",
              "        const docLink = document.createElement('div');\n",
              "        docLink.innerHTML = docLinkHtml;\n",
              "        element.appendChild(docLink);\n",
              "      }\n",
              "    </script>\n",
              "  </div>\n",
              "\n",
              "\n",
              "<div id=\"df-7d95cf5c-e8a6-490c-9cb4-f6230c6a3c9d\">\n",
              "  <button class=\"colab-df-quickchart\" onclick=\"quickchart('df-7d95cf5c-e8a6-490c-9cb4-f6230c6a3c9d')\"\n",
              "            title=\"Suggest charts\"\n",
              "            style=\"display:none;\">\n",
              "\n",
              "<svg xmlns=\"http://www.w3.org/2000/svg\" height=\"24px\"viewBox=\"0 0 24 24\"\n",
              "     width=\"24px\">\n",
              "    <g>\n",
              "        <path d=\"M19 3H5c-1.1 0-2 .9-2 2v14c0 1.1.9 2 2 2h14c1.1 0 2-.9 2-2V5c0-1.1-.9-2-2-2zM9 17H7v-7h2v7zm4 0h-2V7h2v10zm4 0h-2v-4h2v4z\"/>\n",
              "    </g>\n",
              "</svg>\n",
              "  </button>\n",
              "\n",
              "<style>\n",
              "  .colab-df-quickchart {\n",
              "      --bg-color: #E8F0FE;\n",
              "      --fill-color: #1967D2;\n",
              "      --hover-bg-color: #E2EBFA;\n",
              "      --hover-fill-color: #174EA6;\n",
              "      --disabled-fill-color: #AAA;\n",
              "      --disabled-bg-color: #DDD;\n",
              "  }\n",
              "\n",
              "  [theme=dark] .colab-df-quickchart {\n",
              "      --bg-color: #3B4455;\n",
              "      --fill-color: #D2E3FC;\n",
              "      --hover-bg-color: #434B5C;\n",
              "      --hover-fill-color: #FFFFFF;\n",
              "      --disabled-bg-color: #3B4455;\n",
              "      --disabled-fill-color: #666;\n",
              "  }\n",
              "\n",
              "  .colab-df-quickchart {\n",
              "    background-color: var(--bg-color);\n",
              "    border: none;\n",
              "    border-radius: 50%;\n",
              "    cursor: pointer;\n",
              "    display: none;\n",
              "    fill: var(--fill-color);\n",
              "    height: 32px;\n",
              "    padding: 0;\n",
              "    width: 32px;\n",
              "  }\n",
              "\n",
              "  .colab-df-quickchart:hover {\n",
              "    background-color: var(--hover-bg-color);\n",
              "    box-shadow: 0 1px 2px rgba(60, 64, 67, 0.3), 0 1px 3px 1px rgba(60, 64, 67, 0.15);\n",
              "    fill: var(--button-hover-fill-color);\n",
              "  }\n",
              "\n",
              "  .colab-df-quickchart-complete:disabled,\n",
              "  .colab-df-quickchart-complete:disabled:hover {\n",
              "    background-color: var(--disabled-bg-color);\n",
              "    fill: var(--disabled-fill-color);\n",
              "    box-shadow: none;\n",
              "  }\n",
              "\n",
              "  .colab-df-spinner {\n",
              "    border: 2px solid var(--fill-color);\n",
              "    border-color: transparent;\n",
              "    border-bottom-color: var(--fill-color);\n",
              "    animation:\n",
              "      spin 1s steps(1) infinite;\n",
              "  }\n",
              "\n",
              "  @keyframes spin {\n",
              "    0% {\n",
              "      border-color: transparent;\n",
              "      border-bottom-color: var(--fill-color);\n",
              "      border-left-color: var(--fill-color);\n",
              "    }\n",
              "    20% {\n",
              "      border-color: transparent;\n",
              "      border-left-color: var(--fill-color);\n",
              "      border-top-color: var(--fill-color);\n",
              "    }\n",
              "    30% {\n",
              "      border-color: transparent;\n",
              "      border-left-color: var(--fill-color);\n",
              "      border-top-color: var(--fill-color);\n",
              "      border-right-color: var(--fill-color);\n",
              "    }\n",
              "    40% {\n",
              "      border-color: transparent;\n",
              "      border-right-color: var(--fill-color);\n",
              "      border-top-color: var(--fill-color);\n",
              "    }\n",
              "    60% {\n",
              "      border-color: transparent;\n",
              "      border-right-color: var(--fill-color);\n",
              "    }\n",
              "    80% {\n",
              "      border-color: transparent;\n",
              "      border-right-color: var(--fill-color);\n",
              "      border-bottom-color: var(--fill-color);\n",
              "    }\n",
              "    90% {\n",
              "      border-color: transparent;\n",
              "      border-bottom-color: var(--fill-color);\n",
              "    }\n",
              "  }\n",
              "</style>\n",
              "\n",
              "  <script>\n",
              "    async function quickchart(key) {\n",
              "      const quickchartButtonEl =\n",
              "        document.querySelector('#' + key + ' button');\n",
              "      quickchartButtonEl.disabled = true;  // To prevent multiple clicks.\n",
              "      quickchartButtonEl.classList.add('colab-df-spinner');\n",
              "      try {\n",
              "        const charts = await google.colab.kernel.invokeFunction(\n",
              "            'suggestCharts', [key], {});\n",
              "      } catch (error) {\n",
              "        console.error('Error during call to suggestCharts:', error);\n",
              "      }\n",
              "      quickchartButtonEl.classList.remove('colab-df-spinner');\n",
              "      quickchartButtonEl.classList.add('colab-df-quickchart-complete');\n",
              "    }\n",
              "    (() => {\n",
              "      let quickchartButtonEl =\n",
              "        document.querySelector('#df-7d95cf5c-e8a6-490c-9cb4-f6230c6a3c9d button');\n",
              "      quickchartButtonEl.style.display =\n",
              "        google.colab.kernel.accessAllowed ? 'block' : 'none';\n",
              "    })();\n",
              "  </script>\n",
              "</div>\n",
              "    </div>\n",
              "  </div>\n"
            ],
            "application/vnd.google.colaboratory.intrinsic+json": {
              "type": "dataframe",
              "summary": "{\n  \"name\": \"b_il\",\n  \"rows\": 2,\n  \"fields\": [\n    {\n      \"column\": \"il\",\n      \"properties\": {\n        \"dtype\": \"string\",\n        \"samples\": [\n          \"Berlin\",\n          \"Bursa\"\n        ],\n        \"num_unique_values\": 2,\n        \"semantic_type\": \"\",\n        \"description\": \"\"\n      }\n    },\n    {\n      \"column\": \"plaka\",\n      \"properties\": {\n        \"dtype\": \"string\",\n        \"samples\": [\n          \"B\",\n          \"16\"\n        ],\n        \"num_unique_values\": 2,\n        \"semantic_type\": \"\",\n        \"description\": \"\"\n      }\n    }\n  ]\n}"
            }
          },
          "metadata": {},
          "execution_count": 72
        }
      ]
    },
    {
      "cell_type": "code",
      "source": [
        "import os\n",
        "import time"
      ],
      "metadata": {
        "id": "YFBmv75RFOkI"
      },
      "execution_count": 73,
      "outputs": []
    },
    {
      "cell_type": "code",
      "source": [
        "os.uname()"
      ],
      "metadata": {
        "colab": {
          "base_uri": "https://localhost:8080/"
        },
        "id": "YsrfaobbFSUU",
        "outputId": "dd391e86-cd52-4030-a093-8599850e6cb6"
      },
      "execution_count": 76,
      "outputs": [
        {
          "output_type": "execute_result",
          "data": {
            "text/plain": [
              "posix.uname_result(sysname='Linux', nodename='96fdc1d08040', release='6.1.58+', version='#1 SMP PREEMPT_DYNAMIC Sat Nov 18 15:31:17 UTC 2023', machine='x86_64')"
            ]
          },
          "metadata": {},
          "execution_count": 76
        }
      ]
    },
    {
      "cell_type": "code",
      "source": [
        "print(os.uname()[1]) # bilgisayarın kullanıcısının adını döndürür"
      ],
      "metadata": {
        "colab": {
          "base_uri": "https://localhost:8080/"
        },
        "id": "mS_fqWV8FSSA",
        "outputId": "ca1f3c9f-5de4-4a82-bfc1-ddc6b43fa836"
      },
      "execution_count": 77,
      "outputs": [
        {
          "output_type": "stream",
          "name": "stdout",
          "text": [
            "96fdc1d08040\n"
          ]
        }
      ]
    },
    {
      "cell_type": "code",
      "source": [
        "import os\n",
        "import time\n",
        "# 10 adet boş dosya üreten zararsız bir virus programı yazalım\n",
        "for i in range(10):\n",
        "    fname = f\"virus{i}.txt\"\n",
        "    node_name = os.uname()[1]\n",
        "    with open(fname,\"w\") as f:\n",
        "        f.write(f\"Merhaba {node_name} PC'ni ele geçirdim\")\n",
        "        time.sleep(1) # 1 er saniye bekle\n",
        "        print(i,\". dosya oluştu\")\n"
      ],
      "metadata": {
        "colab": {
          "base_uri": "https://localhost:8080/"
        },
        "id": "1z4sB5qvFSLQ",
        "outputId": "c57225ca-8469-4c6e-85db-8fb4e47cc8f7"
      },
      "execution_count": 78,
      "outputs": [
        {
          "output_type": "stream",
          "name": "stdout",
          "text": [
            "0 . dosya oluştu\n",
            "1 . dosya oluştu\n",
            "2 . dosya oluştu\n",
            "3 . dosya oluştu\n",
            "4 . dosya oluştu\n",
            "5 . dosya oluştu\n",
            "6 . dosya oluştu\n",
            "7 . dosya oluştu\n",
            "8 . dosya oluştu\n",
            "9 . dosya oluştu\n"
          ]
        }
      ]
    },
    {
      "cell_type": "markdown",
      "source": [
        "OOP (Object Oriented Programming):"
      ],
      "metadata": {
        "id": "BKWTC3dMbVh3"
      }
    },
    {
      "cell_type": "code",
      "source": [
        "class Araba:\n",
        "    # attiribute, data, state : değişken\n",
        "    renk = \"Red\"\n",
        "    # methods : fonksiyonlar\n",
        "\n",
        "    def __init__(self, renk, model):\n",
        "        self.renk = renk\n",
        "        self.model = model\n",
        "\n",
        "    def __str__(self):\n",
        "        return f\"Arabanın rengi..:{self.renk}\\n Arabanın modeli..:{self.model} \"\n",
        "    def calis(self):\n",
        "        return True\n",
        "\n",
        "    def dur(self):\n",
        "        return False\n",
        "\n",
        "\n",
        "# bu class'tan object üretelim\n",
        "taksi = Araba(\"Yellow\", \"Mercedes\")\n",
        "kamyon = Araba(\"Red\", \"BMW\")"
      ],
      "metadata": {
        "id": "mJYUiD8ubaQu"
      },
      "execution_count": 107,
      "outputs": []
    },
    {
      "cell_type": "code",
      "source": [
        "print(type(Araba))"
      ],
      "metadata": {
        "colab": {
          "base_uri": "https://localhost:8080/"
        },
        "id": "_1iCsoMPcZ5i",
        "outputId": "55477a3b-9873-4658-e88b-06b717115323"
      },
      "execution_count": 101,
      "outputs": [
        {
          "output_type": "stream",
          "name": "stdout",
          "text": [
            "<class 'type'>\n"
          ]
        }
      ]
    },
    {
      "cell_type": "code",
      "source": [
        "print(type(taksi))"
      ],
      "metadata": {
        "colab": {
          "base_uri": "https://localhost:8080/"
        },
        "id": "T9HWWdY4chAi",
        "outputId": "41c73a4b-e390-433b-f280-9572f90a2d70"
      },
      "execution_count": 104,
      "outputs": [
        {
          "output_type": "stream",
          "name": "stdout",
          "text": [
            "<class '__main__.Araba'>\n"
          ]
        }
      ]
    },
    {
      "cell_type": "code",
      "source": [
        "print(type(kamyon))"
      ],
      "metadata": {
        "colab": {
          "base_uri": "https://localhost:8080/"
        },
        "id": "yhgb2v-4crLm",
        "outputId": "c0859d32-8374-43ef-df3c-49106d764668"
      },
      "execution_count": 105,
      "outputs": [
        {
          "output_type": "stream",
          "name": "stdout",
          "text": [
            "<class '__main__.Araba'>\n"
          ]
        }
      ]
    },
    {
      "cell_type": "code",
      "source": [
        "print(kamyon)"
      ],
      "metadata": {
        "colab": {
          "base_uri": "https://localhost:8080/"
        },
        "id": "o1POBLL9cz3e",
        "outputId": "7ab0f0cd-49da-44b6-b627-14892b239e82"
      },
      "execution_count": 108,
      "outputs": [
        {
          "output_type": "stream",
          "name": "stdout",
          "text": [
            "Arabanın rengi..:Red\n",
            " Arabanın modeli..:BMW \n"
          ]
        }
      ]
    },
    {
      "cell_type": "code",
      "source": [
        "print(taksi)"
      ],
      "metadata": {
        "colab": {
          "base_uri": "https://localhost:8080/"
        },
        "id": "HVp7vpkWdVNM",
        "outputId": "66387f6b-2aba-49bf-8657-30ea8948f98c"
      },
      "execution_count": 109,
      "outputs": [
        {
          "output_type": "stream",
          "name": "stdout",
          "text": [
            "Arabanın rengi..:Yellow\n",
            " Arabanın modeli..:Mercedes \n"
          ]
        }
      ]
    },
    {
      "cell_type": "code",
      "source": [
        "class Cokgen():\n",
        "    def __init__(self, kenar):\n",
        "        self.kenar = kenar\n",
        "\n",
        "    def bilgi(self):\n",
        "        if self.kenar==3:\n",
        "            return f\"Üçgen\"\n",
        "        elif self.kenar==4:\n",
        "            return f\"Kare\"\n",
        "        elif self.kenar==5:\n",
        "            return f\"Beşgen\"\n",
        "\n",
        "\n",
        "kare = Cokgen(4)\n",
        "ucgen = Cokgen(3)\n",
        "besgen = Cokgen(5)\n",
        "\n",
        "print(kare.bilgi())\n",
        "print(ucgen.bilgi())\n",
        "print(kare)"
      ],
      "metadata": {
        "colab": {
          "base_uri": "https://localhost:8080/"
        },
        "id": "NB2kor4XdjPW",
        "outputId": "e40f2a12-6dfa-4662-fac3-a367223282fc"
      },
      "execution_count": 113,
      "outputs": [
        {
          "output_type": "stream",
          "name": "stdout",
          "text": [
            "Kare\n",
            "Üçgen\n",
            "<__main__.Cokgen object at 0x7d1b60aeda80>\n"
          ]
        }
      ]
    },
    {
      "cell_type": "code",
      "source": [
        "class Personel():\n",
        "    def __init__(self,name,phone):\n",
        "        self.name = name\n",
        "        self.phone = phone\n",
        "        self.mail = f\"{name}.clarusway.com\"\n",
        "\n",
        "    def bilgi(self):\n",
        "        print(\"====*===\"*2)\n",
        "        print(\"Adı..:\", self.name)\n",
        "        print(\"Telefonu...:\", self.phone)\n",
        "        print(\"Mail adresi...:\", self.mail)\n",
        "\n",
        "# object'ler\n",
        "ogr_tugce = Personel(\"Tuğçe\", 8122)\n",
        "ogr_fatih = Personel(\"Fatih\", 8129)\n",
        "ins_bulend = Personel(\"Bulend\", 8220)\n",
        "\n",
        "ogr_tugce.bilgi()\n",
        "ogr_fatih.bilgi()"
      ],
      "metadata": {
        "colab": {
          "base_uri": "https://localhost:8080/"
        },
        "id": "E1Ak4HynfNz2",
        "outputId": "774afaa2-23d9-412f-bb61-5288a28b1e45"
      },
      "execution_count": 116,
      "outputs": [
        {
          "output_type": "stream",
          "name": "stdout",
          "text": [
            "====*=======*===\n",
            "Adı..: Tuğçe\n",
            "Telefonu...: 8122\n",
            "Mail adresi...: Tuğçe.clarusway.com\n",
            "====*=======*===\n",
            "Adı..: Fatih\n",
            "Telefonu...: 8129\n",
            "Mail adresi...: Fatih.clarusway.com\n"
          ]
        }
      ]
    },
    {
      "cell_type": "code",
      "source": [
        "class Personel():\n",
        "    def __init__(self,name,phone):\n",
        "        self.name = name\n",
        "        self.phone = phone\n",
        "        self.mail = f\"{name}.clarusway.com\"\n",
        "\n",
        "    def __str__(self):\n",
        "        return f\"{'====*==='*2}\\nAdı..:{self.name}\\nTelefonu..:{self.phone}\\nMaili..:{self.mail}\"\n",
        "\n",
        "# object'ler\n",
        "ogr_tugce = Personel(\"Tuğçe\", 8122)\n",
        "ogr_fatih = Personel(\"Fatih\", 8129)\n",
        "ins_bulend = Personel(\"Bulend\", 8220)\n",
        "\n",
        "print(ogr_tugce)\n",
        "print(ogr_fatih)"
      ],
      "metadata": {
        "colab": {
          "base_uri": "https://localhost:8080/"
        },
        "id": "tIqyyE3xgn2w",
        "outputId": "aa17cb8b-9500-4e7c-8c13-c2a39c3b642d"
      },
      "execution_count": 118,
      "outputs": [
        {
          "output_type": "stream",
          "name": "stdout",
          "text": [
            "====*=======*===\n",
            "Adı..:Tuğçe\n",
            "Telefonu..:8122\n",
            "Maili..:Tuğçe.clarusway.com\n",
            "====*=======*===\n",
            "Adı..:Fatih\n",
            "Telefonu..:8129\n",
            "Maili..:Fatih.clarusway.com\n"
          ]
        }
      ]
    }
  ]
}