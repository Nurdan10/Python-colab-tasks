{
  "nbformat": 4,
  "nbformat_minor": 0,
  "metadata": {
    "colab": {
      "private_outputs": true,
      "provenance": []
    },
    "kernelspec": {
      "name": "python3",
      "display_name": "Python 3"
    },
    "language_info": {
      "name": "python"
    }
  },
  "cells": [
    {
      "cell_type": "code",
      "execution_count": null,
      "metadata": {
        "id": "0MQxdRNRkx3U"
      },
      "outputs": [],
      "source": [
        "count = 0\n",
        "while count >= 0:\n",
        "    print(count)\n",
        "    count += 1\n",
        "    if count==10:\n",
        "        count -= 1 # sonsuz döngü\n",
        "# döngü dışında\n",
        "print(count)"
      ]
    },
    {
      "cell_type": "code",
      "source": [
        "count = 0\n",
        "while count >= 0:\n",
        "    print(count)\n",
        "    count += 1\n",
        "    if count==10:\n",
        "        count = -1\n",
        "# döngü dışında\n",
        "print(count)\n"
      ],
      "metadata": {
        "id": "SWouMNmhlRlJ"
      },
      "execution_count": null,
      "outputs": []
    },
    {
      "cell_type": "code",
      "source": [
        "b = 0\n",
        "d = []\n",
        "while (b:=b+1)<4:\n",
        "    d.append(b)\n",
        "print(d)"
      ],
      "metadata": {
        "id": "Aq61GGfPmj8y"
      },
      "execution_count": null,
      "outputs": []
    },
    {
      "cell_type": "code",
      "source": [
        "count = 0\n",
        "while count<= 8:\n",
        "    print(count)\n",
        "    count += 1\n",
        "\n",
        "# döngü dışında\n",
        "# print(count)"
      ],
      "metadata": {
        "id": "9cjC13BJndkO"
      },
      "execution_count": null,
      "outputs": []
    },
    {
      "cell_type": "code",
      "source": [
        "list(range(1,10))"
      ],
      "metadata": {
        "id": "0b8xseDKn7Q7"
      },
      "execution_count": null,
      "outputs": []
    },
    {
      "cell_type": "code",
      "source": [
        "[i for i in range(1,10)]"
      ],
      "metadata": {
        "id": "YZo3KQMsn_DK"
      },
      "execution_count": null,
      "outputs": []
    },
    {
      "cell_type": "code",
      "source": [
        "[i for i, j in enumerate(\"abcdefghi\", 1)]"
      ],
      "metadata": {
        "id": "szBwChAkoDX1"
      },
      "execution_count": null,
      "outputs": []
    },
    {
      "cell_type": "code",
      "source": [
        "[j for i, j in enumerate(\"abcdefghi\", 1)]"
      ],
      "metadata": {
        "id": "_gyXkVwhoK42"
      },
      "execution_count": null,
      "outputs": []
    },
    {
      "cell_type": "code",
      "source": [
        "{i:j for i, j in enumerate(\"abcdefghi\", 1)}"
      ],
      "metadata": {
        "id": "ICVrmGqqoPfp"
      },
      "execution_count": null,
      "outputs": []
    },
    {
      "cell_type": "code",
      "source": [
        "# \"bus\" : iterable, i: iterator\n",
        "for i in \"bus\":\n",
        "    print(i, end='')"
      ],
      "metadata": {
        "id": "C8AMl5VdomXH"
      },
      "execution_count": null,
      "outputs": []
    },
    {
      "cell_type": "code",
      "source": [
        "# \"bus\" : iterable, i: iterator\n",
        "for i in \"bus\":\n",
        "    print(i, end='  ')"
      ],
      "metadata": {
        "id": "W0M3nY4jo04z"
      },
      "execution_count": null,
      "outputs": []
    },
    {
      "cell_type": "code",
      "source": [
        "count = 0\n",
        "for i in [\"bus\"]:\n",
        "    count += 1\n",
        "    print(i, count, end='')\n",
        "    #print(\"!!!\")"
      ],
      "metadata": {
        "id": "hkogxwwWpeV_"
      },
      "execution_count": null,
      "outputs": []
    },
    {
      "cell_type": "code",
      "source": [
        "x = [\"a\", \"b\"]\n",
        "for i in range(len(x)): # range(2)\n",
        "    x.append(i)\n",
        "\n",
        "print(x)\n"
      ],
      "metadata": {
        "id": "yioygRA6qV8K"
      },
      "execution_count": null,
      "outputs": []
    },
    {
      "cell_type": "code",
      "source": [
        "a = [\"foo\", \"bar\", \"baz\", \"qux\", \"corge\"]\n",
        "while a: # a listesi dolu ise True\n",
        "    if len(a)<3:\n",
        "        break\n",
        "    print(a.pop())\n",
        "\n",
        "# döngüden çıktktan sonra\n",
        "print(\"Done.\")"
      ],
      "metadata": {
        "id": "h4KKB_LlrNaB"
      },
      "execution_count": null,
      "outputs": []
    },
    {
      "cell_type": "code",
      "source": [
        "# Neler iterable ?\n",
        "# collections(list, set, tuple, dict,..), str, range"
      ],
      "metadata": {
        "id": "COSx7oSrsQKc"
      },
      "execution_count": null,
      "outputs": []
    },
    {
      "cell_type": "markdown",
      "source": [
        "# Built-in Functions:\n",
        "https://docs.python.org/3/library/functions.html"
      ],
      "metadata": {
        "id": "sa2O9ohHsSDN"
      }
    },
    {
      "cell_type": "code",
      "source": [
        "# fonksiyon tanımlama\n",
        "# multiply: fonksiyon adı\n",
        "# a,b : fonksiyon girdileri (parametre/argüman)\n",
        "def multiply(a,b):  # a,b : parametre\n",
        "    \"\"\"\n",
        "    multiply() fonksiyonu iki sayının çarpımını yapar\n",
        "    \"\"\"\n",
        "    return a*b"
      ],
      "metadata": {
        "id": "L6Cn7y6cySq4"
      },
      "execution_count": null,
      "outputs": []
    },
    {
      "cell_type": "code",
      "source": [
        "a = 3\n",
        "b = 5\n",
        "# fonksiyon çağırma işlemi\n",
        "# a,b : argüman\n",
        "multiply(a,b)  # user defined function"
      ],
      "metadata": {
        "id": "7FUWJGa7sXvi"
      },
      "execution_count": null,
      "outputs": []
    },
    {
      "cell_type": "code",
      "source": [
        "max(3,5)  # built-in function"
      ],
      "metadata": {
        "id": "C0rhTZe2yEno"
      },
      "execution_count": null,
      "outputs": []
    },
    {
      "cell_type": "code",
      "source": [
        "multiply(5,8.4)"
      ],
      "metadata": {
        "id": "QTnRU4kfyyGF"
      },
      "execution_count": null,
      "outputs": []
    },
    {
      "cell_type": "code",
      "source": [
        "help(multiply)  # docstirng metnini döndürür"
      ],
      "metadata": {
        "id": "IXCV_66q0FT6"
      },
      "execution_count": null,
      "outputs": []
    },
    {
      "cell_type": "code",
      "source": [
        "print(multiply.__doc__)"
      ],
      "metadata": {
        "id": "KaTXNdnp0OE6"
      },
      "execution_count": null,
      "outputs": []
    },
    {
      "cell_type": "code",
      "source": [
        "# print(): built-in function\n",
        "print(\"selam\") #\"selam\": fonksiyon girdisi(argüman/parametre)"
      ],
      "metadata": {
        "id": "ihY0hHqizEGL"
      },
      "execution_count": null,
      "outputs": []
    },
    {
      "cell_type": "code",
      "source": [
        "help(print)"
      ],
      "metadata": {
        "id": "1r37FTi4zZ6k"
      },
      "execution_count": null,
      "outputs": []
    },
    {
      "cell_type": "code",
      "source": [
        "!python3 --version"
      ],
      "metadata": {
        "id": "CBl_olQV0bo9"
      },
      "execution_count": null,
      "outputs": []
    },
    {
      "cell_type": "code",
      "source": [
        "sayac = 0\n",
        "for i in dir(__builtins__):\n",
        "    if i.islower() and not i.startswith(\"_\"):\n",
        "        print(i, end=\" \")\n",
        "        sayac += 1\n",
        "print(\"\\nBuilt-in fonksiyon sayısı..:\", sayac)"
      ],
      "metadata": {
        "id": "P5gqSR1s0z95"
      },
      "execution_count": null,
      "outputs": []
    },
    {
      "cell_type": "code",
      "source": [
        "#  all(iterable):\n",
        "\n",
        "#   Return True if all elements of the iterable are true (or if the iterable is empty).\n",
        "names = [\"susan\", \"tom\", \"False\"]\n",
        "mood = [\"happy\", \"sad\", 0]\n",
        "empty = {}\n",
        "print(all(names), all(mood), all(empty))"
      ],
      "metadata": {
        "id": "TvfouVHQ3IPB"
      },
      "execution_count": null,
      "outputs": []
    },
    {
      "cell_type": "code",
      "source": [
        "variable = 6\n",
        "all(variable)"
      ],
      "metadata": {
        "id": "vTyCbe_L3m50"
      },
      "execution_count": null,
      "outputs": []
    },
    {
      "cell_type": "code",
      "source": [
        "# any(iterable)\n",
        "\n",
        "# Return True if any element of the iterable is true. If the iterable is empty, return False.\n",
        "names = [\"susan\", \"tom\", False]\n",
        "mood = [None, (), 0]\n",
        "empty = {}\n",
        "\n",
        "print(any(names), any(mood), any(empty))"
      ],
      "metadata": {
        "id": "pBzO1ScT4YBV"
      },
      "execution_count": null,
      "outputs": []
    },
    {
      "cell_type": "code",
      "source": [
        "abs(-7)"
      ],
      "metadata": {
        "id": "EVf0atsO5A7j"
      },
      "execution_count": null,
      "outputs": []
    },
    {
      "cell_type": "code",
      "source": [
        "karmasik_sayi = 3+4j\n",
        "print(karmasik_sayi)\n",
        "print(abs(karmasik_sayi))\n",
        "# karmaşık sayılarda mutlak değer sayının uzunluğunu (hipotenüs) alır."
      ],
      "metadata": {
        "id": "o-MaNena5DPZ"
      },
      "execution_count": null,
      "outputs": []
    },
    {
      "cell_type": "code",
      "source": [
        "names = [\"susan\", \"tom\", 0, \"0a\", False, None]\n",
        "filtered_names = filter(None, names)\n",
        "# filter(None, iterable) : iterable içerisindeki True'ları döndürür\n",
        "# filter(belirtilen fonksiyonun işlevine göre filtreleme yapar)\n",
        "for i in filtered_names:\n",
        "    print(i)"
      ],
      "metadata": {
        "id": "fSETUJAc6de0"
      },
      "execution_count": null,
      "outputs": []
    },
    {
      "cell_type": "code",
      "source": [
        "names = [\"susan\", \"tom\", 0, \"0a\", False, None]\n",
        "list(filter(None, names))  # Truth'leri döndür\n"
      ],
      "metadata": {
        "id": "Sp1UBwPsBEcR"
      },
      "execution_count": null,
      "outputs": []
    },
    {
      "cell_type": "code",
      "source": [
        "import itertools\n",
        "# Falsy'leri döndür\n",
        "list(itertools.filterfalse(None, names))"
      ],
      "metadata": {
        "id": "rQq9P-NjBLLG"
      },
      "execution_count": null,
      "outputs": []
    },
    {
      "cell_type": "code",
      "source": [
        "import keyword\n",
        "# print(keyword.iskeyword(\"and\"))  # keyword mü değilmi?\n",
        "degiskenler = [\"variable\", \"and\", \"None\", \"not\", \"Not\", \"ad_soyad\"]\n",
        "# değişkenler listesinden keyword olanları al\n",
        "keyword_degiskenler = list(filter(keyword.iskeyword, degiskenler))\n",
        "print(keyword_degiskenler)"
      ],
      "metadata": {
        "id": "2NmxsySy9rMA"
      },
      "execution_count": null,
      "outputs": []
    },
    {
      "cell_type": "code",
      "source": [
        "str.isidentifier(\"ali\") # python değişken/fonksiyon ismi olabilir mi?"
      ],
      "metadata": {
        "id": "gVpXRxHV_X3r"
      },
      "execution_count": null,
      "outputs": []
    },
    {
      "cell_type": "code",
      "source": [
        "str.isidentifier(\"ali56\") # python değişken ismi olabilir mi?"
      ],
      "metadata": {
        "id": "X11ZQ-H9_fpL"
      },
      "execution_count": null,
      "outputs": []
    },
    {
      "cell_type": "code",
      "source": [
        "str.isidentifier(\"54ali56\") # python değişken ismi olabilir mi?"
      ],
      "metadata": {
        "id": "hR4jey5R_izA"
      },
      "execution_count": null,
      "outputs": []
    },
    {
      "cell_type": "code",
      "source": [
        "degiskenler = [\"variable\", \"and\", \"None\", \"not\", \"Not\", \"ad_soyad\", \"1453Adana\", \"ad soyad\"]\n",
        "degisken_olabilecekler = list(filter(str.isidentifier, degiskenler))\n",
        "print(degisken_olabilecekler) # ama keywordleri ayıklamıyor"
      ],
      "metadata": {
        "id": "YUQTqR2f-reo"
      },
      "execution_count": null,
      "outputs": []
    },
    {
      "cell_type": "code",
      "source": [
        "import keyword\n",
        "degiskenler = [\"variable\", \"and\", \"None\", \"not\", \"Not\", \"ad_soyad\", \"1453Adana\", \"ad soyad\"]\n",
        "degisken_olabilecekler = []\n",
        "for i in filter(str.isidentifier, degiskenler):\n",
        "    if not keyword.iskeyword(i):  #keywordleri ayıkla\n",
        "        degisken_olabilecekler.append(i)\n",
        "\n",
        "print(degisken_olabilecekler) # ama keywordleri ayıklamıyor"
      ],
      "metadata": {
        "id": "MbuXOEWN_uSV"
      },
      "execution_count": null,
      "outputs": []
    },
    {
      "cell_type": "code",
      "source": [
        "keyword.iskeyword(\"not\")"
      ],
      "metadata": {
        "id": "HnzBZSp2CDYZ"
      },
      "execution_count": null,
      "outputs": []
    },
    {
      "cell_type": "code",
      "source": [
        "seasons = ['Spring', 'Summer', 'Fall', 'Winter']\n",
        "\n",
        "list(enumerate(seasons))"
      ],
      "metadata": {
        "id": "2RECaw2DC_Tm"
      },
      "execution_count": null,
      "outputs": []
    },
    {
      "cell_type": "code",
      "source": [
        "type(enumerate(seasons))"
      ],
      "metadata": {
        "id": "M_iaSdyJDAwc"
      },
      "execution_count": null,
      "outputs": []
    },
    {
      "cell_type": "code",
      "source": [
        "list(enumerate(seasons, 10))"
      ],
      "metadata": {
        "id": "S7EBuL7pDFk5"
      },
      "execution_count": null,
      "outputs": []
    },
    {
      "cell_type": "code",
      "source": [
        "numbers = [4, 6, -222, 45, 78, 23, 90, 44]\n",
        "max(numbers)"
      ],
      "metadata": {
        "id": "CWUi41CNDke6"
      },
      "execution_count": null,
      "outputs": []
    },
    {
      "cell_type": "code",
      "source": [
        "min(numbers)"
      ],
      "metadata": {
        "id": "2cDDe3kLDsdl"
      },
      "execution_count": null,
      "outputs": []
    },
    {
      "cell_type": "code",
      "source": [
        "sum(numbers)"
      ],
      "metadata": {
        "id": "KDifY4CbD07b"
      },
      "execution_count": null,
      "outputs": []
    },
    {
      "cell_type": "code",
      "source": [
        "sum(numbers,100)"
      ],
      "metadata": {
        "id": "V_63I6H6D3zF"
      },
      "execution_count": null,
      "outputs": []
    },
    {
      "cell_type": "code",
      "source": [
        "round(3.14) # en yakın değere yuvarla"
      ],
      "metadata": {
        "id": "06R-xQwjEZTY"
      },
      "execution_count": null,
      "outputs": []
    },
    {
      "cell_type": "code",
      "source": [
        "round(3.74)"
      ],
      "metadata": {
        "id": "8Io5Qn1JEdJs"
      },
      "execution_count": null,
      "outputs": []
    },
    {
      "cell_type": "code",
      "source": [
        "round(3.74, 1)"
      ],
      "metadata": {
        "id": "BsiXwPNXEjFR"
      },
      "execution_count": null,
      "outputs": []
    },
    {
      "cell_type": "code",
      "source": [
        "round(3.14156, 2)"
      ],
      "metadata": {
        "id": "b0CMtaUjEmIU"
      },
      "execution_count": null,
      "outputs": []
    },
    {
      "cell_type": "code",
      "source": [
        "round(3.14156, 3)"
      ],
      "metadata": {
        "id": "vpD5GMiZErQX"
      },
      "execution_count": null,
      "outputs": []
    },
    {
      "cell_type": "code",
      "source": [
        "1/3"
      ],
      "metadata": {
        "id": "BVSG6rc0Eyfn"
      },
      "execution_count": null,
      "outputs": []
    },
    {
      "cell_type": "code",
      "source": [
        "(0.1 + 0.1 + 0.1) == 0.3 # True beklenir"
      ],
      "metadata": {
        "id": "b3o-qEZ8E5_o"
      },
      "execution_count": null,
      "outputs": []
    },
    {
      "cell_type": "code",
      "source": [
        "0.1 + 0.1 + 0.1"
      ],
      "metadata": {
        "id": "cgIZ0R3rFHzF"
      },
      "execution_count": null,
      "outputs": []
    },
    {
      "cell_type": "code",
      "source": [
        "(1/10 + 1/10 + 1/10) == 3/10  # True beklenir"
      ],
      "metadata": {
        "id": "domP2ZhpFO2m"
      },
      "execution_count": null,
      "outputs": []
    },
    {
      "cell_type": "code",
      "source": [
        "(1/10 + 1/10 + 1/10)"
      ],
      "metadata": {
        "id": "kWbKXLbdFVF1"
      },
      "execution_count": null,
      "outputs": []
    },
    {
      "cell_type": "code",
      "source": [
        "round(.1 + .1 + .1, 10) == round(.3, 10)"
      ],
      "metadata": {
        "id": "HCoJJD5zFhno"
      },
      "execution_count": null,
      "outputs": []
    },
    {
      "cell_type": "code",
      "source": [
        "format(0.1, '.17f')"
      ],
      "metadata": {
        "id": "NnanD7RlFx7w"
      },
      "execution_count": null,
      "outputs": []
    },
    {
      "cell_type": "code",
      "source": [
        "format(0.1 + 0.1 + 0.1, '.2f')"
      ],
      "metadata": {
        "id": "XkVGYZO-F194"
      },
      "execution_count": null,
      "outputs": []
    },
    {
      "cell_type": "code",
      "source": [
        "float(format(0.1 + 0.1 + 0.1, '.2f'))==0.3"
      ],
      "metadata": {
        "id": "SNZjd4OjF8jw"
      },
      "execution_count": null,
      "outputs": []
    },
    {
      "cell_type": "code",
      "source": [
        "\"a:{} b:{}\".format(3, 5)"
      ],
      "metadata": {
        "id": "FTOX31vSGNXT"
      },
      "execution_count": null,
      "outputs": []
    },
    {
      "cell_type": "code",
      "source": [
        "format(3.14156, \".4f\")  # noktadan sonra 4 basamak gösterir"
      ],
      "metadata": {
        "id": "QO3x0xISGf7e"
      },
      "execution_count": null,
      "outputs": []
    },
    {
      "cell_type": "code",
      "source": [
        "\"{:.4f}\".format(3.14156) # noktadan sonra 4 basamak gösterir"
      ],
      "metadata": {
        "id": "s-mt3SIvGnGv"
      },
      "execution_count": null,
      "outputs": []
    },
    {
      "cell_type": "code",
      "source": [
        "# round(sayi, ndigits) ndigits=negatif ise tamsayı yuvarlaması yapar..\n",
        "round(12345, -1)  # onluğa yuvarlar"
      ],
      "metadata": {
        "id": "GjFHtpYQHDQs"
      },
      "execution_count": null,
      "outputs": []
    },
    {
      "cell_type": "code",
      "source": [
        "round(12_345, -2)  # yüzlüğe yuvarlar"
      ],
      "metadata": {
        "id": "-pqxGXGZHJ-j"
      },
      "execution_count": null,
      "outputs": []
    },
    {
      "cell_type": "code",
      "source": [
        "x = 1\n",
        "eval('x+1')  # komut satırını çalıştırır"
      ],
      "metadata": {
        "id": "gOEijDXqKWSi"
      },
      "execution_count": null,
      "outputs": []
    },
    {
      "cell_type": "code",
      "source": [
        "# exec : birden fazla kod satırını çalıştırır...\n",
        "# tuğçe hanımın araştırması\n",
        "prog = 'print(\"The sum of 5 and 10 is\", (5+10))'\n",
        "exec(prog)"
      ],
      "metadata": {
        "id": "sd7EKzTdLDrs"
      },
      "execution_count": null,
      "outputs": []
    },
    {
      "cell_type": "code",
      "source": [
        "bin(3)"
      ],
      "metadata": {
        "id": "R-FVy4gOLmfL"
      },
      "execution_count": null,
      "outputs": []
    },
    {
      "cell_type": "code",
      "source": [
        "callable(multiply) # fonksiyon mu?"
      ],
      "metadata": {
        "id": "BCsMXge_LtHE"
      },
      "execution_count": null,
      "outputs": []
    },
    {
      "cell_type": "code",
      "source": [
        "callable(list)"
      ],
      "metadata": {
        "id": "KecR-d4AL1XW"
      },
      "execution_count": null,
      "outputs": []
    },
    {
      "cell_type": "code",
      "source": [
        "callable(degiskenler)"
      ],
      "metadata": {
        "id": "D-C-QL7XL3lj"
      },
      "execution_count": null,
      "outputs": []
    },
    {
      "cell_type": "code",
      "source": [
        "chr(97) # ascii karakter karşılğı"
      ],
      "metadata": {
        "id": "y6VIFAHLME_S"
      },
      "execution_count": null,
      "outputs": []
    },
    {
      "cell_type": "code",
      "source": [
        "ord(\"a\") # tersi"
      ],
      "metadata": {
        "id": "BSjrqMHvMIIc"
      },
      "execution_count": null,
      "outputs": []
    },
    {
      "cell_type": "code",
      "source": [
        "a = 8\n",
        "b = 4\n",
        "divmod(a,b) # (a // b, a % b)"
      ],
      "metadata": {
        "id": "ULIxhKLTMSKw"
      },
      "execution_count": null,
      "outputs": []
    },
    {
      "cell_type": "code",
      "source": [
        "hex(255)  # onaltılı sayı sistemine dönüştürür"
      ],
      "metadata": {
        "id": "4P0jPTDrMjBQ"
      },
      "execution_count": null,
      "outputs": []
    },
    {
      "cell_type": "code",
      "source": [
        "hash(degiskenler)"
      ],
      "metadata": {
        "id": "pFEwu7zSMx3p"
      },
      "execution_count": null,
      "outputs": []
    },
    {
      "cell_type": "code",
      "source": [
        "seasons = ('Spring', 'Summer', 'Fall', 'Winter')\n",
        "hash(seasons)  # hashable (genellikle immutable ise hashable)"
      ],
      "metadata": {
        "id": "98PzIybRM5JH"
      },
      "execution_count": null,
      "outputs": []
    },
    {
      "cell_type": "code",
      "source": [
        "# \"bus\" : iterable, i: iterator\n",
        "for i in \"bus\":\n",
        "    print(i, end='  ')"
      ],
      "metadata": {
        "id": "9Z97mo09NSxQ"
      },
      "execution_count": null,
      "outputs": []
    },
    {
      "cell_type": "code",
      "source": [
        "i = iter(\"bus\")  # i: iterator yapar\n",
        "next(i)"
      ],
      "metadata": {
        "id": "GYpdYmvVNWE7"
      },
      "execution_count": null,
      "outputs": []
    },
    {
      "cell_type": "code",
      "source": [
        "next(i)"
      ],
      "metadata": {
        "id": "zaaO0_2WNhJ9"
      },
      "execution_count": null,
      "outputs": []
    },
    {
      "cell_type": "code",
      "source": [
        "next(i)"
      ],
      "metadata": {
        "id": "_qT2_8gJNjea"
      },
      "execution_count": null,
      "outputs": []
    },
    {
      "cell_type": "code",
      "source": [
        "next(i)  # iterable sonlandı ise  \"StopIteration\" döndürür"
      ],
      "metadata": {
        "id": "g7AZur1aNl1O"
      },
      "execution_count": null,
      "outputs": []
    },
    {
      "cell_type": "code",
      "source": [
        "#  map(function, iterable, ...)\n",
        "\n",
        "#  Return an iterator that applies function to every item of iterable, yielding the results.\n"
      ],
      "metadata": {
        "id": "sLpJNrQLOBp3"
      },
      "execution_count": null,
      "outputs": []
    },
    {
      "cell_type": "code",
      "source": [
        "names = [\"susan\", \"tom\", \"0\", \"0a\", \"False\", \"None\"]\n",
        "map_names = map(len, names)\n",
        "# map(function, iterable) : iterable içerisindeki  tüm elemanlara fonksiyonu uygular\n",
        "# iterable sayısı kadar değer döndürür.\n",
        "print(list(map_names))"
      ],
      "metadata": {
        "id": "JVJYPgNzOLqO"
      },
      "execution_count": null,
      "outputs": []
    },
    {
      "cell_type": "code",
      "source": [
        "oct(8)"
      ],
      "metadata": {
        "id": "NM-snakGO0a3"
      },
      "execution_count": null,
      "outputs": []
    },
    {
      "cell_type": "code",
      "source": [
        "2**3"
      ],
      "metadata": {
        "id": "eKeERiPRO8d4"
      },
      "execution_count": null,
      "outputs": []
    },
    {
      "cell_type": "code",
      "source": [
        "pow(2,3)"
      ],
      "metadata": {
        "id": "9HkxexHyO-Rz"
      },
      "execution_count": null,
      "outputs": []
    },
    {
      "cell_type": "code",
      "source": [
        "\"python\"[2:4:1]"
      ],
      "metadata": {
        "id": "FQgluYwKPabd"
      },
      "execution_count": null,
      "outputs": []
    },
    {
      "cell_type": "code",
      "source": [
        "#slice(start, stop[, step])"
      ],
      "metadata": {
        "id": "g7JDJNgdPj1o"
      },
      "execution_count": null,
      "outputs": []
    },
    {
      "cell_type": "code",
      "source": [
        "x = slice(2,4,1)\n",
        "\"python\"[x]"
      ],
      "metadata": {
        "id": "N6LErO_GPm06"
      },
      "execution_count": null,
      "outputs": []
    },
    {
      "cell_type": "code",
      "source": [
        "\"python\"[slice(2,4,1)]"
      ],
      "metadata": {
        "id": "vC5isyzdQNc1"
      },
      "execution_count": null,
      "outputs": []
    }
  ]
}