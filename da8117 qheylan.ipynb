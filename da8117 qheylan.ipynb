{
 "cells": [
  {
   "cell_type": "markdown",
   "id": "c1acdd47",
   "metadata": {},
   "source": [
    "Assigment-1:\n",
    "https://www.asciiart.eu/animals/cats adresindeki \n",
    "kedi karakterlerinden herhangi birini ekrana yazdıran programı\n",
    "print() ve escape karakterlerini kullanarak kodlayınız. "
   ]
  },
  {
   "cell_type": "code",
   "execution_count": 93,
   "id": "8ca9e96f",
   "metadata": {},
   "outputs": [
    {
     "name": "stdout",
     "output_type": "stream",
     "text": [
      "|\\---/|\n",
      "| 0_0 |\n",
      " \\_^_/ \t\t QHEYLAN \n"
     ]
    }
   ],
   "source": [
    "print(chr(124), chr(92),chr(45)*3,chr(47),chr(124),\"\\n\",chr(124),\" \",\n",
    "chr(48),chr(95),chr(48),\" \",chr(124),\n",
    "\"\\n\",\" \",chr(92),chr(95),chr(94),chr(95),chr(47) , \" \\t\\t \" ,\n",
    "chr(81),chr(72),chr(69),chr(89),chr(76), chr(65), chr(78), \" \",    sep=(\"\") )"
   ]
  },
  {
   "attachments": {},
   "cell_type": "markdown",
   "id": "af59dfaa",
   "metadata": {},
   "source": [
    "Assignment-2 (Arithmetic Operators) :\n",
    "If you had deposited a coin on the crypto currency exchange that brought 7% fixed profit daily for a week, how much would your $1000 reach at the end of the 7th day?\n",
    "(İpucu. Çözüm için bileşik faiz formülü kullanılabilir..)"
   ]
  },
  {
   "cell_type": "code",
   "execution_count": 97,
   "id": "8da12ab0",
   "metadata": {},
   "outputs": [
    {
     "name": "stdout",
     "output_type": "stream",
     "text": [
      "7 günlük faiz getiriniz: 605.7814764784307$ dır. \n",
      "Toplam paranız: 1605.7814764784307$ dır.\n"
     ]
    }
   ],
   "source": [
    "A=int(input(\"ana paranızı giriniz:\"))\n",
    "t=int(input(\"kac günlügüne faize yatıracaksınız\"))\n",
    "print(str(t), \"günlük faiz getiriniz:\", A*(1+0.07)**t-A,\"\\b$ dır.\",\"\\n\",\"\\bToplam paranız:\",A*(1+0.07)**t,\"\\b$ dır.\")"
   ]
  },
  {
   "cell_type": "markdown",
   "id": "eeed81cc",
   "metadata": {},
   "source": [
    "Assignment-3:\n",
    "Write the program that takes the average of the 3 entered numbers. (ipucu: 3,4,5 girildiğinde program 4.0 çıktısını vermeli..)"
   ]
  },
  {
   "cell_type": "code",
   "execution_count": 21,
   "id": "46491572",
   "metadata": {},
   "outputs": [
    {
     "name": "stdout",
     "output_type": "stream",
     "text": [
      " girdiginiz sayıların ortalaması= 8.666666666666666\n"
     ]
    }
   ],
   "source": [
    "a=float(input(\"birinci sayıyı giriniz=\"))\n",
    "b=float(input(\"ikinci sayıyı giriniz=\"))\n",
    "c=float(input(\"ücüncü sayıyı giriniz=\"))\n",
    "print(\" girdiginiz sayıların ortalaması=\",(a+b+c)/3)"
   ]
  },
  {
   "cell_type": "markdown",
   "id": "06e7f6ac",
   "metadata": {},
   "source": [
    "Assignment-4:\n",
    "Write a short Python program that asks the user to enter Celsius temperature (it can be a decimal number), converts the entered temperature into Fahrenheit degree and prints the result.\n",
    "(ipucu: Dönüşüm için aşağaıdaki formül kullanılabilir;\n",
    "Fahrenheit = (Temperature in degrees Celsius * 9/5) + 32)"
   ]
  },
  {
   "cell_type": "code",
   "execution_count": 33,
   "id": "b44e4989",
   "metadata": {},
   "outputs": [
    {
     "name": "stdout",
     "output_type": "stream",
     "text": [
      "Fahrenheit degree.: 82.4F\n"
     ]
    }
   ],
   "source": [
    "import decimal\n",
    "from decimal import Decimal\n",
    "a=Decimal(input(\"Temperature in degrees Celsius:\"))\n",
    "print(\"Fahrenheit degree.:\",a*9/5+32,\"\\bF\")"
   ]
  },
  {
   "cell_type": "code",
   "execution_count": 17,
   "id": "0a52df86",
   "metadata": {},
   "outputs": [
    {
     "name": "stdout",
     "output_type": "stream",
     "text": [
      "pozitif\n"
     ]
    }
   ],
   "source": [
    "# Assigment-5:\n",
    "nums = 56\n",
    "if nums>=0: \n",
    "    print(\"pozitif\") \n",
    "else: \n",
    "    print(\"negatif\")"
   ]
  },
  {
   "cell_type": "code",
   "execution_count": 37,
   "id": "bd97e79a",
   "metadata": {},
   "outputs": [
    {
     "name": "stdout",
     "output_type": "stream",
     "text": [
      "7 sayısı bir tek sayıdır\n"
     ]
    }
   ],
   "source": [
    "## Yukarıdaki programı if -else kullanmadan 'and', 'or' \n",
    "## operatörleri ile tek satırda nasıl kodlarız;\n",
    "# Programı buraya yazalım.. ´\n",
    "a=int(input(\"bir tam sayı giriniz:\"))\n",
    "print(str(a),\"sayısı bir\", a%2 and \"tek\" or \"cift\",\"sayıdır\")\n"
   ]
  }
 ],
 "metadata": {
  "kernelspec": {
   "display_name": "Python 3 (ipykernel)",
   "language": "python",
   "name": "python3"
  },
  "language_info": {
   "codemirror_mode": {
    "name": "ipython",
    "version": 3
   },
   "file_extension": ".py",
   "mimetype": "text/x-python",
   "name": "python",
   "nbconvert_exporter": "python",
   "pygments_lexer": "ipython3",
   "version": "3.11.6"
  }
 },
 "nbformat": 4,
 "nbformat_minor": 5
}
