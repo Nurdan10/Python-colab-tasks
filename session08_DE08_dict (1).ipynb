{
  "nbformat": 4,
  "nbformat_minor": 0,
  "metadata": {
    "colab": {
      "provenance": []
    },
    "kernelspec": {
      "name": "python3",
      "display_name": "Python 3"
    },
    "language_info": {
      "name": "python"
    }
  },
  "cells": [
    {
      "cell_type": "code",
      "source": [
        "# Hatırlama: list() metotları\n",
        "fruits = ['orange', 'apple', 'pear', 'banana', 'kiwi', 'apple', 'banana']\n",
        "fruits.count('apple')  # 2\n",
        "\n",
        "fruits.count('tanger') # 0\n",
        "\n",
        "fruits.index('banana') # 3\n",
        "\n",
        "fruits.index('banana', 4)  # 6\n",
        "\n",
        "fruits.reverse() # in-place\n",
        "#['banana', 'apple', 'kiwi', 'banana', 'pear', 'apple', 'orange']\n",
        "\n",
        "fruits.append('grape')\n",
        "\n",
        "#['banana', 'apple', 'kiwi', 'banana', 'pear', 'apple', 'orange', 'grape']\n",
        "\n",
        "fruits.sort() # in-place\n",
        "\n",
        "#['apple', 'apple', 'banana', 'banana', 'grape', 'kiwi', 'orange', 'pear']\n",
        "\n",
        "fruits.pop()  # 'pear'\n",
        "\n",
        "print(fruits)\n",
        "#['apple', 'apple', 'banana', 'banana', 'grape', 'kiwi', 'orange']\n"
      ],
      "metadata": {
        "colab": {
          "base_uri": "https://localhost:8080/"
        },
        "id": "jBDDtYsY-fdE",
        "outputId": "e27b3bc1-af6a-4fdb-e1ee-811c47166244"
      },
      "execution_count": null,
      "outputs": [
        {
          "output_type": "stream",
          "name": "stdout",
          "text": [
            "['apple', 'apple', 'banana', 'banana', 'grape', 'kiwi', 'orange']\n"
          ]
        }
      ]
    },
    {
      "cell_type": "code",
      "source": [
        "# tuple() metotları neler?\n",
        "dir(tuple)[-2:]  # immutable"
      ],
      "metadata": {
        "colab": {
          "base_uri": "https://localhost:8080/"
        },
        "id": "9bYd1SWOCJt4",
        "outputId": "351dbde7-1ca6-4641-a977-011d0550986f"
      },
      "execution_count": null,
      "outputs": [
        {
          "output_type": "execute_result",
          "data": {
            "text/plain": [
              "['count', 'index']"
            ]
          },
          "metadata": {},
          "execution_count": 19
        }
      ]
    },
    {
      "cell_type": "markdown",
      "source": [
        "# Listelerden stack(yığın) ve kuyruk(queue) yapıları oluşturma\n",
        "https://docs.python.org/3/tutorial/datastructures.html\n"
      ],
      "metadata": {
        "id": "T4vV3vvp6NPs"
      }
    },
    {
      "cell_type": "code",
      "source": [
        "#  Using Lists as Stacks : LIFO mantığı\n",
        "\"\"\"\n",
        "The list methods make it very easy to use a list as a stack,\n",
        "where the last element added is the first element retrieved (“last-in, first-out”).\n",
        "To add an item to the top of the stack, use append().\n",
        "To retrieve an item from the top of the stack, use pop() without an explicit index.\n",
        "\"\"\"\n",
        "stack = [\"Eric\", \"John\", \"Michael\"]\n",
        "#stack'e eleman girişi (ekleme)\n",
        "stack.append(\"Bulend\")\n",
        "print(stack)\n",
        "#stack'ten eleman çıkışı (silme)\n",
        "stack.pop()\n",
        "print(stack)\n",
        "stack.pop()\n",
        "print(stack)\n",
        "# en tepedeki elemana nasıl erişirim? En sondaki eleman\n",
        "print(\"En tepedeki eleman..:\", stack[-1])"
      ],
      "metadata": {
        "id": "1dTdq9L96R2A",
        "colab": {
          "base_uri": "https://localhost:8080/"
        },
        "outputId": "c908b684-bec2-4fc0-aded-4ac4dfd4ec69"
      },
      "execution_count": null,
      "outputs": [
        {
          "output_type": "stream",
          "name": "stdout",
          "text": [
            "['Eric', 'John', 'Michael', 'Bulend']\n",
            "['Eric', 'John', 'Michael']\n",
            "['Eric', 'John']\n",
            "En tepedeki eleman..: John\n"
          ]
        }
      ]
    },
    {
      "cell_type": "code",
      "source": [
        "# Using Lists as Queues : FIFO mantığı\n",
        "\"\"\"\n",
        "It is also possible to use a list as a queue,\n",
        "where the first element added is the first element retrieved (“first-in, first-out”);\n",
        "To add an item to the top of the queue, use append().\n",
        "The first to arrive with pop(0) leaves.\n",
        "\"\"\"\n",
        "queue = [\"Eric\", \"John\", \"Michael\"]\n",
        "#kuyruğa eleman ekleme\n",
        "queue.append(\"Bulent\")\n",
        "queue.append(\"Adnan\")\n",
        "print(queue)\n",
        "# kuyruktan eleman çıkarma\n",
        "queue.pop(0)\n",
        "print(queue)\n",
        "queue.pop(0)\n",
        "print(queue)\n",
        "# en baştaki elemana nasıl erişirim? En baştaki eleman\n",
        "print(\"En baştaki eleman..:\", queue[0])"
      ],
      "metadata": {
        "id": "BhEVahM19hk5",
        "colab": {
          "base_uri": "https://localhost:8080/"
        },
        "outputId": "7baf8fd5-4292-4fed-c1d0-08b2fbbba5ab"
      },
      "execution_count": null,
      "outputs": [
        {
          "output_type": "stream",
          "name": "stdout",
          "text": [
            "['Eric', 'John', 'Michael', 'Bulent', 'Adnan']\n",
            "['John', 'Michael', 'Bulent', 'Adnan']\n",
            "['Michael', 'Bulent', 'Adnan']\n",
            "En baştaki eleman..: Michael\n"
          ]
        }
      ]
    },
    {
      "cell_type": "code",
      "source": [
        "# Alternatif queue tasarımı\n",
        "# List'e göre daha hızlı çalışır\n",
        "from collections import deque\n",
        "queue = deque([\"Eric\", \"John\", \"Michael\"])\n",
        "\n",
        "queue.append(\"Terry\")           # Terry arrives\n",
        "queue.append(\"Graham\")          # Graham arrives\n",
        "queue.popleft()                 # The first to arrive now leaves #'Eric'\n",
        "\n",
        "queue.popleft()                 # The second to arrive now leaves :#'John'\n",
        "\n",
        "print(queue)"
      ],
      "metadata": {
        "colab": {
          "base_uri": "https://localhost:8080/"
        },
        "id": "6ALANSatJ31e",
        "outputId": "aad7c9f2-aeb9-4bb0-8b4f-d9e7ad372457"
      },
      "execution_count": null,
      "outputs": [
        {
          "output_type": "stream",
          "name": "stdout",
          "text": [
            "deque(['Michael', 'Terry', 'Graham'])\n"
          ]
        }
      ]
    },
    {
      "cell_type": "code",
      "source": [
        "# list ve tuple() min-max işlemleri\n",
        "(1, 2, 3)              < (1, 2, 4)\n",
        "[1, 2, 3]              < [1, 2, 4]\n",
        "'ABC' < 'C' < 'Pascal' < 'Python'\n",
        "(1, 2, 3, 4)           < (1, 2, 4)\n",
        "(1, 2)                 < (1, 2, -1)\n",
        "(1, 2, 3)             == (1.0, 2.0, 3.0)\n",
        "(1, 2, ('aa', 'ab'))   < (1, 2, ('abc', 'a'), 4)"
      ],
      "metadata": {
        "id": "Ud5uk-4l969z"
      },
      "execution_count": null,
      "outputs": []
    },
    {
      "cell_type": "code",
      "source": [
        "min((1, 2, 3, 4), (1, 2, 4), (1, 2, 3))"
      ],
      "metadata": {
        "colab": {
          "base_uri": "https://localhost:8080/"
        },
        "id": "xrBtOtHx-Dvp",
        "outputId": "1d80ae9e-43cb-41c0-ed2f-d8263f1153cb"
      },
      "execution_count": null,
      "outputs": [
        {
          "output_type": "execute_result",
          "data": {
            "text/plain": [
              "(1, 2, 3)"
            ]
          },
          "metadata": {},
          "execution_count": 30
        }
      ]
    },
    {
      "cell_type": "markdown",
      "source": [
        "#unpacking işlemi:\n",
        "unpacking özelliği tüm iterable nesnelere uygulanabilir.\n",
        "\n",
        "Peki, neler iterable?"
      ],
      "metadata": {
        "id": "TGSPIRXHBRQE"
      }
    },
    {
      "cell_type": "code",
      "source": [
        "a,b,c = (\"a\",\"l\",\"i\") # paket açma\n",
        "print(a)\n",
        "print(b)\n",
        "print(c)"
      ],
      "metadata": {
        "id": "D5MkcS3IBQd-",
        "colab": {
          "base_uri": "https://localhost:8080/"
        },
        "outputId": "cec4ad52-4a19-4b08-d173-c65339c7ab5e"
      },
      "execution_count": null,
      "outputs": [
        {
          "output_type": "stream",
          "name": "stdout",
          "text": [
            "a\n",
            "l\n",
            "i\n"
          ]
        }
      ]
    },
    {
      "cell_type": "code",
      "source": [
        "a,b,c = \"ali\" # paket açma\n",
        "print(a)\n",
        "print(b)\n",
        "print(c)"
      ],
      "metadata": {
        "colab": {
          "base_uri": "https://localhost:8080/"
        },
        "id": "jVNMdoYnLAr-",
        "outputId": "7bfb981d-04f6-4bb5-a50a-c2c7d3f62626"
      },
      "execution_count": null,
      "outputs": [
        {
          "output_type": "stream",
          "name": "stdout",
          "text": [
            "a\n",
            "l\n",
            "i\n"
          ]
        }
      ]
    },
    {
      "cell_type": "code",
      "source": [
        "iter(\"ali\")  #iterable olup olamdığını belirtir*"
      ],
      "metadata": {
        "colab": {
          "base_uri": "https://localhost:8080/"
        },
        "id": "dxt2vBv1LGPm",
        "outputId": "87624cd0-d43f-4de5-92ff-42549c202afe"
      },
      "execution_count": null,
      "outputs": [
        {
          "output_type": "execute_result",
          "data": {
            "text/plain": [
              "<str_iterator at 0x79abc7067df0>"
            ]
          },
          "metadata": {},
          "execution_count": 34
        }
      ]
    },
    {
      "cell_type": "code",
      "source": [
        "iter(345)"
      ],
      "metadata": {
        "colab": {
          "base_uri": "https://localhost:8080/",
          "height": 183
        },
        "id": "-sG041iVLNqB",
        "outputId": "74b1b241-9fb9-494d-c56f-6feba59e24ca"
      },
      "execution_count": null,
      "outputs": [
        {
          "output_type": "error",
          "ename": "TypeError",
          "evalue": "ignored",
          "traceback": [
            "\u001b[0;31m---------------------------------------------------------------------------\u001b[0m",
            "\u001b[0;31mTypeError\u001b[0m                                 Traceback (most recent call last)",
            "\u001b[0;32m<ipython-input-35-af2350e0d4c6>\u001b[0m in \u001b[0;36m<cell line: 1>\u001b[0;34m()\u001b[0m\n\u001b[0;32m----> 1\u001b[0;31m \u001b[0miter\u001b[0m\u001b[0;34m(\u001b[0m\u001b[0;36m345\u001b[0m\u001b[0;34m)\u001b[0m\u001b[0;34m\u001b[0m\u001b[0;34m\u001b[0m\u001b[0m\n\u001b[0m",
            "\u001b[0;31mTypeError\u001b[0m: 'int' object is not iterable"
          ]
        }
      ]
    },
    {
      "cell_type": "code",
      "source": [
        "a,b,c = [\"a\",\"l\",\"i\"] # paket açma\n",
        "print(a)\n",
        "print(b)\n",
        "print(c)"
      ],
      "metadata": {
        "colab": {
          "base_uri": "https://localhost:8080/"
        },
        "id": "ql8EWecGLXjm",
        "outputId": "40db8d77-c205-4446-8ecf-49db386e5e9d"
      },
      "execution_count": null,
      "outputs": [
        {
          "output_type": "stream",
          "name": "stdout",
          "text": [
            "a\n",
            "l\n",
            "i\n"
          ]
        }
      ]
    },
    {
      "cell_type": "code",
      "source": [
        "a,b,c = [\"a\",\"l\",\"i\", \"m\"] # paket açma\n",
        "print(a)\n",
        "print(b)\n",
        "print(c)"
      ],
      "metadata": {
        "colab": {
          "base_uri": "https://localhost:8080/",
          "height": 237
        },
        "id": "kUKi-j14Le-I",
        "outputId": "ec429b19-d8ff-4a2f-cee7-2c369b2a96cc"
      },
      "execution_count": null,
      "outputs": [
        {
          "output_type": "error",
          "ename": "ValueError",
          "evalue": "ignored",
          "traceback": [
            "\u001b[0;31m---------------------------------------------------------------------------\u001b[0m",
            "\u001b[0;31mValueError\u001b[0m                                Traceback (most recent call last)",
            "\u001b[0;32m<ipython-input-38-9a3248be3e39>\u001b[0m in \u001b[0;36m<cell line: 1>\u001b[0;34m()\u001b[0m\n\u001b[0;32m----> 1\u001b[0;31m \u001b[0ma\u001b[0m\u001b[0;34m,\u001b[0m\u001b[0mb\u001b[0m\u001b[0;34m,\u001b[0m\u001b[0mc\u001b[0m \u001b[0;34m=\u001b[0m \u001b[0;34m[\u001b[0m\u001b[0;34m\"a\"\u001b[0m\u001b[0;34m,\u001b[0m\u001b[0;34m\"l\"\u001b[0m\u001b[0;34m,\u001b[0m\u001b[0;34m\"i\"\u001b[0m\u001b[0;34m,\u001b[0m \u001b[0;34m\"m\"\u001b[0m\u001b[0;34m]\u001b[0m \u001b[0;31m# paket açma\u001b[0m\u001b[0;34m\u001b[0m\u001b[0;34m\u001b[0m\u001b[0m\n\u001b[0m\u001b[1;32m      2\u001b[0m \u001b[0mprint\u001b[0m\u001b[0;34m(\u001b[0m\u001b[0ma\u001b[0m\u001b[0;34m)\u001b[0m\u001b[0;34m\u001b[0m\u001b[0;34m\u001b[0m\u001b[0m\n\u001b[1;32m      3\u001b[0m \u001b[0mprint\u001b[0m\u001b[0;34m(\u001b[0m\u001b[0mb\u001b[0m\u001b[0;34m)\u001b[0m\u001b[0;34m\u001b[0m\u001b[0;34m\u001b[0m\u001b[0m\n\u001b[1;32m      4\u001b[0m \u001b[0mprint\u001b[0m\u001b[0;34m(\u001b[0m\u001b[0mc\u001b[0m\u001b[0;34m)\u001b[0m\u001b[0;34m\u001b[0m\u001b[0;34m\u001b[0m\u001b[0m\n",
            "\u001b[0;31mValueError\u001b[0m: too many values to unpack (expected 3)"
          ]
        }
      ]
    },
    {
      "cell_type": "code",
      "source": [
        "a,b,*c = [\"a\",\"l\",\"i\", \"m\"] # paket açma\n",
        "print(a)\n",
        "print(b)\n",
        "print(c)"
      ],
      "metadata": {
        "colab": {
          "base_uri": "https://localhost:8080/"
        },
        "id": "setxPbO6Ligr",
        "outputId": "39cf45d8-9f07-4745-c94f-1f2a1acd7064"
      },
      "execution_count": null,
      "outputs": [
        {
          "output_type": "stream",
          "name": "stdout",
          "text": [
            "a\n",
            "l\n",
            "['i', 'm']\n"
          ]
        }
      ]
    },
    {
      "cell_type": "code",
      "source": [
        "a,b,*c = \"alim\" # paket açma\n",
        "print(a)\n",
        "print(b)\n",
        "print(c)"
      ],
      "metadata": {
        "colab": {
          "base_uri": "https://localhost:8080/"
        },
        "id": "HjpRLM36LniF",
        "outputId": "420171ca-f922-4a62-be8d-f012b107efea"
      },
      "execution_count": null,
      "outputs": [
        {
          "output_type": "stream",
          "name": "stdout",
          "text": [
            "a\n",
            "l\n",
            "['i', 'm']\n"
          ]
        }
      ]
    },
    {
      "cell_type": "code",
      "source": [
        "a,b,*c = (\"a\",\"l\",\"i\", \"m\") # paket açma\n",
        "print(a)\n",
        "print(b)\n",
        "print(c) # list formatında tutar"
      ],
      "metadata": {
        "colab": {
          "base_uri": "https://localhost:8080/"
        },
        "id": "P_rR7EaGLww9",
        "outputId": "6be00fc4-f4c0-43c3-fd7b-203bfa3f0789"
      },
      "execution_count": null,
      "outputs": [
        {
          "output_type": "stream",
          "name": "stdout",
          "text": [
            "a\n",
            "l\n",
            "['i', 'm']\n"
          ]
        }
      ]
    },
    {
      "cell_type": "code",
      "source": [
        "a,*b,c = (\"a\",\"l\",\"i\", \"m\") # paket açma\n",
        "print(a)\n",
        "print(b)\n",
        "print(c)"
      ],
      "metadata": {
        "colab": {
          "base_uri": "https://localhost:8080/"
        },
        "id": "ETtZnCbBL4Nf",
        "outputId": "547694c2-f109-4898-8377-c3d93bb135ba"
      },
      "execution_count": null,
      "outputs": [
        {
          "output_type": "stream",
          "name": "stdout",
          "text": [
            "a\n",
            "['l', 'i']\n",
            "m\n"
          ]
        }
      ]
    },
    {
      "cell_type": "code",
      "source": [
        "*a,*b,c = (\"a\",\"l\",\"i\", \"m\") # paket açma\n",
        "print(a)\n",
        "print(b)\n",
        "print(c)"
      ],
      "metadata": {
        "colab": {
          "base_uri": "https://localhost:8080/",
          "height": 147
        },
        "id": "lXFdxSGqMCiU",
        "outputId": "d44f740b-73e7-426b-c1c7-25c75e1b1c0a"
      },
      "execution_count": null,
      "outputs": [
        {
          "output_type": "error",
          "ename": "SyntaxError",
          "evalue": "ignored",
          "traceback": [
            "\u001b[0;36m  File \u001b[0;32m\"<ipython-input-46-3c86b57899f4>\"\u001b[0;36m, line \u001b[0;32m1\u001b[0m\n\u001b[0;31m    *a,*b,c = (\"a\",\"l\",\"i\", \"m\") # paket açma\u001b[0m\n\u001b[0m    ^\u001b[0m\n\u001b[0;31mSyntaxError\u001b[0m\u001b[0;31m:\u001b[0m multiple starred expressions in assignment\n"
          ]
        }
      ]
    },
    {
      "cell_type": "code",
      "source": [
        "print(*[1, 2, 3])"
      ],
      "metadata": {
        "colab": {
          "base_uri": "https://localhost:8080/"
        },
        "id": "gJ3lfoSOMOpi",
        "outputId": "ec1dace6-42d3-49be-ffba-86d1914985b3"
      },
      "execution_count": null,
      "outputs": [
        {
          "output_type": "stream",
          "name": "stdout",
          "text": [
            "1 2 3\n"
          ]
        }
      ]
    },
    {
      "cell_type": "code",
      "source": [
        "iter(range(5))"
      ],
      "metadata": {
        "colab": {
          "base_uri": "https://localhost:8080/"
        },
        "id": "e--hz4PRN3a6",
        "outputId": "d3a6b373-3910-4c93-849b-176fb7a7f767"
      },
      "execution_count": null,
      "outputs": [
        {
          "output_type": "execute_result",
          "data": {
            "text/plain": [
              "<range_iterator at 0x79abc722b1e0>"
            ]
          },
          "metadata": {},
          "execution_count": 51
        }
      ]
    },
    {
      "cell_type": "code",
      "source": [
        "[*range(5)]  # range'de iterable bir nesnedir."
      ],
      "metadata": {
        "colab": {
          "base_uri": "https://localhost:8080/"
        },
        "id": "dcSzPp42NtY6",
        "outputId": "6144fc53-6b7e-4f4f-e43c-3144c5fc0b65"
      },
      "execution_count": null,
      "outputs": [
        {
          "output_type": "execute_result",
          "data": {
            "text/plain": [
              "[0, 1, 2, 3, 4]"
            ]
          },
          "metadata": {},
          "execution_count": 50
        }
      ]
    },
    {
      "cell_type": "code",
      "source": [
        "range(5)"
      ],
      "metadata": {
        "colab": {
          "base_uri": "https://localhost:8080/"
        },
        "id": "br4eCOiLN9TK",
        "outputId": "b37eba86-2c96-438f-871e-a4e7248e24d7"
      },
      "execution_count": null,
      "outputs": [
        {
          "output_type": "execute_result",
          "data": {
            "text/plain": [
              "range(0, 5)"
            ]
          },
          "metadata": {},
          "execution_count": 52
        }
      ]
    },
    {
      "cell_type": "code",
      "source": [
        "*range(5),"
      ],
      "metadata": {
        "colab": {
          "base_uri": "https://localhost:8080/"
        },
        "id": "5JrPaq5ON_3Z",
        "outputId": "b5063493-b311-4734-c4b6-a85055bfc318"
      },
      "execution_count": null,
      "outputs": [
        {
          "output_type": "execute_result",
          "data": {
            "text/plain": [
              "(0, 1, 2, 3, 4)"
            ]
          },
          "metadata": {},
          "execution_count": 54
        }
      ]
    },
    {
      "cell_type": "code",
      "source": [
        "#tuple, list'den hızlıdır.\n",
        "# ve bellekte daha az yer kaplarlar."
      ],
      "metadata": {
        "id": "SsdvR9SKOJkK"
      },
      "execution_count": null,
      "outputs": []
    },
    {
      "cell_type": "code",
      "source": [
        "import sys\n",
        "listem = list(range(1000))\n",
        "demet = tuple(range(1000))\n",
        "print(sys.getsizeof(listem), \"byte\")\n",
        "print(sys.getsizeof(demet), \"byte\")"
      ],
      "metadata": {
        "colab": {
          "base_uri": "https://localhost:8080/"
        },
        "id": "Fb4Z88VSOcei",
        "outputId": "78863fe8-e576-44a0-96f3-479111d71dbb"
      },
      "execution_count": null,
      "outputs": [
        {
          "output_type": "stream",
          "name": "stdout",
          "text": [
            "8056 byte\n",
            "8040 byte\n"
          ]
        }
      ]
    },
    {
      "cell_type": "code",
      "source": [
        "import timeit\n",
        "start = timeit.default_timer()  # kronometre başlangıcı\n",
        "t = (tuple(range(10000)), \"ali\", \"veli\", \"dede\", \"nene\")\n",
        "stop = timeit.default_timer() # kronometre durdurma\n",
        "print((stop-start)*1000)"
      ],
      "metadata": {
        "colab": {
          "base_uri": "https://localhost:8080/"
        },
        "id": "Xtqq5--VO31t",
        "outputId": "f90f08e7-605b-4a41-b79d-adc77bf538eb"
      },
      "execution_count": null,
      "outputs": [
        {
          "output_type": "stream",
          "name": "stdout",
          "text": [
            "0.24726199990254827\n"
          ]
        }
      ]
    },
    {
      "cell_type": "code",
      "source": [
        "import timeit\n",
        "start = timeit.default_timer()  # kronometre başlangıcı\n",
        "t = [list(range(10000)), \"ali\", \"veli\", \"dede\", \"nene\"]\n",
        "stop = timeit.default_timer() # kronometre durdurma\n",
        "print((stop-start)*1000)"
      ],
      "metadata": {
        "colab": {
          "base_uri": "https://localhost:8080/"
        },
        "id": "zmnTZ6MdPidu",
        "outputId": "de82bf6a-991e-4c5b-9ae1-191efeb41569"
      },
      "execution_count": null,
      "outputs": [
        {
          "output_type": "stream",
          "name": "stdout",
          "text": [
            "0.3184040006090072\n"
          ]
        }
      ]
    },
    {
      "cell_type": "markdown",
      "source": [
        "#dict(sözlük) veri yapısı"
      ],
      "metadata": {
        "id": "VIsZQDME5uWU"
      }
    },
    {
      "cell_type": "code",
      "source": [
        "# Sözlük(dict) veri yapısı oluşturma/tanımlama şekilleri;\n",
        "grocer1 = {'fruit':'apple', 'drink':'water'}\n",
        "grocer2 = dict(fruit='apple', drink='water')\n",
        "print(grocer1)\n",
        "print(grocer2)"
      ],
      "metadata": {
        "id": "etDhMidt0HPm",
        "colab": {
          "base_uri": "https://localhost:8080/"
        },
        "outputId": "67407bbc-cfd3-43bb-9088-400c6901c55b"
      },
      "execution_count": null,
      "outputs": [
        {
          "output_type": "stream",
          "name": "stdout",
          "text": [
            "{'fruit': 'apple', 'drink': 'water'}\n",
            "{'fruit': 'apple', 'drink': 'water'}\n"
          ]
        }
      ]
    },
    {
      "cell_type": "code",
      "source": [
        "grocer1 = {'fruit':'apple', 'drink':'water'}\n",
        "grocer2 = dict(drink='water', fruit='apple')\n",
        "print(grocer1)\n",
        "print(grocer2)\n",
        "grocer1 == grocer2  # unordered"
      ],
      "metadata": {
        "colab": {
          "base_uri": "https://localhost:8080/"
        },
        "id": "hRHDhwIQTJRh",
        "outputId": "f6cb8a7b-ca70-45ec-8700-5266ed647a70"
      },
      "execution_count": null,
      "outputs": [
        {
          "output_type": "stream",
          "name": "stdout",
          "text": [
            "{'fruit': 'apple', 'drink': 'water'}\n",
            "{'drink': 'water', 'fruit': 'apple'}\n"
          ]
        },
        {
          "output_type": "execute_result",
          "data": {
            "text/plain": [
              "True"
            ]
          },
          "metadata": {},
          "execution_count": 65
        }
      ]
    },
    {
      "cell_type": "code",
      "source": [
        "# Sözlükler unordered veri yapılarıdır. Farklı şekillerde tanımlanabilir\n",
        "a = dict(one=1, two=2, three=3)\n",
        "b = {'one': 1, 'two': 2, 'three': 3}\n",
        "c = dict(zip(['one', 'two', 'three'], [1, 2, 3])) # zip: iki listeyi sözlüğe dönüştürür\n",
        "d = dict([('two', 2), ('one', 1), ('three', 3)])\n",
        "e = dict({'three': 3, 'one': 1, 'two': 2})\n",
        "f = dict({'one': 1, 'three': 3}, two=2)\n",
        "a == b == c == d == e == f"
      ],
      "metadata": {
        "id": "bRcaEmV6PQsz",
        "colab": {
          "base_uri": "https://localhost:8080/"
        },
        "outputId": "5a3b11be-daad-48d4-991e-8b9a8874eb57"
      },
      "execution_count": null,
      "outputs": [
        {
          "output_type": "execute_result",
          "data": {
            "text/plain": [
              "True"
            ]
          },
          "metadata": {},
          "execution_count": 66
        }
      ]
    },
    {
      "cell_type": "code",
      "source": [
        "print(d)"
      ],
      "metadata": {
        "colab": {
          "base_uri": "https://localhost:8080/"
        },
        "id": "FOK0F8wvTs3h",
        "outputId": "53f824db-c856-4fd0-9c4e-4cddadc7a719"
      },
      "execution_count": null,
      "outputs": [
        {
          "output_type": "stream",
          "name": "stdout",
          "text": [
            "{'two': 2, 'one': 1, 'three': 3}\n"
          ]
        }
      ]
    },
    {
      "cell_type": "code",
      "source": [
        "print(b)"
      ],
      "metadata": {
        "colab": {
          "base_uri": "https://localhost:8080/"
        },
        "id": "uWnLwsDSTwDA",
        "outputId": "7f8732b7-d39c-461e-afe7-e1d0bc98272a"
      },
      "execution_count": null,
      "outputs": [
        {
          "output_type": "stream",
          "name": "stdout",
          "text": [
            "{'one': 1, 'two': 2, 'three': 3}\n"
          ]
        }
      ]
    },
    {
      "cell_type": "code",
      "source": [
        "[1,2,3] == [3,2,1]  # list, tuple ise ordered veri yapıları idi."
      ],
      "metadata": {
        "id": "abO2wXyYSdkt",
        "colab": {
          "base_uri": "https://localhost:8080/"
        },
        "outputId": "193a30bf-4f79-466f-fab7-445da9eefbe3"
      },
      "execution_count": null,
      "outputs": [
        {
          "output_type": "execute_result",
          "data": {
            "text/plain": [
              "False"
            ]
          },
          "metadata": {},
          "execution_count": 69
        }
      ]
    },
    {
      "cell_type": "code",
      "source": [
        "(1,2,3) == (3,2,1)  # list, tuple ise ordered veri yapıları idi."
      ],
      "metadata": {
        "id": "A37YngUGStF9",
        "colab": {
          "base_uri": "https://localhost:8080/"
        },
        "outputId": "67e4f35b-bc18-4acf-aca5-e99113e5bf23"
      },
      "execution_count": null,
      "outputs": [
        {
          "output_type": "execute_result",
          "data": {
            "text/plain": [
              "False"
            ]
          },
          "metadata": {},
          "execution_count": 70
        }
      ]
    },
    {
      "cell_type": "code",
      "source": [
        "#zip : iki listeyi (veri yapısı) birleştirip sözlüğe dönüştürme.\n",
        "nums = [1,2,3,4,5]\n",
        "text = ['one','two','three','four','five']\n",
        "sozluk = dict(zip(nums, text))\n",
        "print(sozluk)"
      ],
      "metadata": {
        "colab": {
          "base_uri": "https://localhost:8080/"
        },
        "id": "VLKnzzNbsREW",
        "outputId": "28746199-f387-4e96-8bc3-f037ccca1e0f"
      },
      "execution_count": null,
      "outputs": [
        {
          "output_type": "stream",
          "name": "stdout",
          "text": [
            "{1: 'one', 2: 'two', 3: 'three', 4: 'four', 5: 'five'}\n"
          ]
        }
      ]
    },
    {
      "cell_type": "code",
      "source": [
        "#zip : iki listeyi (veri yapısı) birleştirip sözlüğe dönüştürme.\n",
        "nums = [1,\"two\",3,4,5]\n",
        "text = ['one',2,'three','four','five']\n",
        "sozluk = dict(zip(text, nums))  # dict(zip(key, value)\n",
        "print(sozluk)"
      ],
      "metadata": {
        "colab": {
          "base_uri": "https://localhost:8080/"
        },
        "id": "zFHtCElBUMdC",
        "outputId": "a36720f5-2fe6-4585-a7fb-c32f5c32cd16"
      },
      "execution_count": null,
      "outputs": [
        {
          "output_type": "stream",
          "name": "stdout",
          "text": [
            "{'one': 1, 2: 'two', 'three': 3, 'four': 4, 'five': 5}\n"
          ]
        }
      ]
    },
    {
      "cell_type": "code",
      "source": [
        "nums = [1,2,3,4,5]                  #eşit değilse eşit olanları alıyor.\n",
        "text = ['one','two','three','four']\n",
        "sozluk = dict(zip(nums,text))\n",
        "print(sozluk)"
      ],
      "metadata": {
        "colab": {
          "base_uri": "https://localhost:8080/"
        },
        "id": "zdhAoiODs0ss",
        "outputId": "fd5d5216-dda6-4f45-e0c1-952343cca547"
      },
      "execution_count": null,
      "outputs": [
        {
          "output_type": "stream",
          "name": "stdout",
          "text": [
            "{1: 'one', 2: 'two', 3: 'three', 4: 'four'}\n"
          ]
        }
      ]
    },
    {
      "cell_type": "code",
      "source": [
        "# Sözlük elemanlarına erişim de indis no yerine 'key' kullanılır.\n",
        "state_capitals = {'Arkansas': 'Little Rock',\n",
        "                  'Colorado': 'Denver',\n",
        "                  'California': 'Sacramento',\n",
        "                  'Georgia': 'Atlanta'\n",
        "                 }\n",
        "\n",
        "print(state_capitals['Colorado']) # accessing method"
      ],
      "metadata": {
        "id": "KahmPUUS0xIw",
        "colab": {
          "base_uri": "https://localhost:8080/"
        },
        "outputId": "060f7798-351b-4ecc-aa92-19bdddc8438b"
      },
      "execution_count": null,
      "outputs": [
        {
          "output_type": "stream",
          "name": "stdout",
          "text": [
            "Denver\n"
          ]
        }
      ]
    },
    {
      "cell_type": "code",
      "source": [
        "state_capitals[\"Georgia\"]"
      ],
      "metadata": {
        "colab": {
          "base_uri": "https://localhost:8080/",
          "height": 35
        },
        "id": "MYMCMWdgVP77",
        "outputId": "3268135f-356c-4c99-ee32-4766036b1e04"
      },
      "execution_count": null,
      "outputs": [
        {
          "output_type": "execute_result",
          "data": {
            "text/plain": [
              "'Atlanta'"
            ],
            "application/vnd.google.colaboratory.intrinsic+json": {
              "type": "string"
            }
          },
          "metadata": {},
          "execution_count": 78
        }
      ]
    },
    {
      "cell_type": "code",
      "source": [
        "# Sözlük yapısında tekrarlı key'lere yer verilmez\n",
        "state_capitals = {'Arkansas': 'Little Rock',\n",
        "                  'Georgia': 'Atlanta',\n",
        "                  'Colorado': 'Denver',\n",
        "                  'California': 'Sacramento',\n",
        "                  'Georgia': 'Berlin'\n",
        "                 }\n",
        "\n",
        "print(state_capitals)"
      ],
      "metadata": {
        "colab": {
          "base_uri": "https://localhost:8080/"
        },
        "id": "qsAaQ2vzVWtb",
        "outputId": "b405ce5d-60a1-4a04-da10-7f90fd79b212"
      },
      "execution_count": null,
      "outputs": [
        {
          "output_type": "stream",
          "name": "stdout",
          "text": [
            "{'Arkansas': 'Little Rock', 'Georgia': 'Berlin', 'Colorado': 'Denver', 'California': 'Sacramento'}\n"
          ]
        }
      ]
    },
    {
      "cell_type": "code",
      "source": [
        "# Sözlük yapısında tekrarlı key'lere yer verilmez\n",
        "state_capitals = {'Arkansas': 'Little Rock',\n",
        "                  'Georgia': 'Atlanta',\n",
        "                  'Colorado': 'Denver',\n",
        "                  'California': 'Sacramento',\n",
        "                  'Georghe': 'Atlanta'\n",
        "                 }\n",
        "\n",
        "print(state_capitals)"
      ],
      "metadata": {
        "colab": {
          "base_uri": "https://localhost:8080/"
        },
        "id": "DvWwV2-oV0cZ",
        "outputId": "69cb2fd6-dbde-4a0d-a939-0590dea76cb4"
      },
      "execution_count": null,
      "outputs": [
        {
          "output_type": "stream",
          "name": "stdout",
          "text": [
            "{'Arkansas': 'Little Rock', 'Georgia': 'Atlanta', 'Colorado': 'Denver', 'California': 'Sacramento', 'Georghe': 'Atlanta'}\n"
          ]
        }
      ]
    },
    {
      "cell_type": "code",
      "source": [
        "# sözlüğe yeni bir eleman(item) ekleme\n",
        "state_capitals = {'Arkansas': 'Little Rock',\n",
        "                  'Georgia': 'Atlanta',\n",
        "                  'Colorado': 'Denver',\n",
        "                  'California': 'Sacramento',\n",
        "                  'Georghe': 'Atlanta'\n",
        "                 }\n",
        "\n",
        "state_capitals[\"Almanya\"] = \"Berlin\"\n",
        "print(state_capitals)"
      ],
      "metadata": {
        "colab": {
          "base_uri": "https://localhost:8080/"
        },
        "id": "efelnIEoWHKs",
        "outputId": "555189c4-9537-48fa-bf84-923f2bb611f9"
      },
      "execution_count": null,
      "outputs": [
        {
          "output_type": "stream",
          "name": "stdout",
          "text": [
            "{'Arkansas': 'Little Rock', 'Georgia': 'Atlanta', 'Colorado': 'Denver', 'California': 'Sacramento', 'Georghe': 'Atlanta', 'Almanya': 'Berlin'}\n"
          ]
        }
      ]
    },
    {
      "cell_type": "code",
      "source": [
        "# sözlüğü güncelleme\n",
        "state_capitals = {'Arkansas': 'Little Rock',\n",
        "                  'Georgia': 'Atlanta',\n",
        "                  'Colorado': 'Denver',\n",
        "                  'California': 'Sacramento',\n",
        "                  'Georghe': 'Atlanta'\n",
        "                 }\n",
        "\n",
        "state_capitals[\"Arkansas\"] = \"Berlin\"\n",
        "print(state_capitals)"
      ],
      "metadata": {
        "colab": {
          "base_uri": "https://localhost:8080/"
        },
        "id": "kZCjCKO1WXsS",
        "outputId": "d240abd1-df32-40de-8ec6-a12076eb64e5"
      },
      "execution_count": null,
      "outputs": [
        {
          "output_type": "stream",
          "name": "stdout",
          "text": [
            "{'Arkansas': 'Berlin', 'Georgia': 'Atlanta', 'Colorado': 'Denver', 'California': 'Sacramento', 'Georghe': 'Atlanta'}\n"
          ]
        }
      ]
    },
    {
      "cell_type": "code",
      "source": [
        "# dict() fonksiyonu içerisinde key isimlerini verirken değişken tanımlama kurallarına uymalıyız...\n",
        "dict_by_dict = dict(animal='dog', planet='neptun', number=40, not=3.14, isgood=True)\n",
        "\n",
        "print(dict_by_dict)\n",
        "print(dict_by_dict.items()) #liste\n",
        "print(dict_by_dict.keys())  #liste döndürür\n",
        "print(*dict_by_dict.values()) # liste parantezini kaldırır"
      ],
      "metadata": {
        "id": "WAUmPLtPTdh3",
        "colab": {
          "base_uri": "https://localhost:8080/",
          "height": 147
        },
        "outputId": "f066dbcc-8f0d-4503-dfa5-2d67445eb719"
      },
      "execution_count": null,
      "outputs": [
        {
          "output_type": "error",
          "ename": "SyntaxError",
          "evalue": "ignored",
          "traceback": [
            "\u001b[0;36m  File \u001b[0;32m\"<ipython-input-88-0654377d35a1>\"\u001b[0;36m, line \u001b[0;32m2\u001b[0m\n\u001b[0;31m    dict_by_dict = dict(animal='dog', planet='neptun', number=40, not=3.14, isgood=True)\u001b[0m\n\u001b[0m                                                                  ^\u001b[0m\n\u001b[0;31mSyntaxError\u001b[0m\u001b[0;31m:\u001b[0m invalid syntax\n"
          ]
        }
      ]
    },
    {
      "cell_type": "code",
      "source": [
        "family= {\n",
        "    'name1':'Damla',\n",
        "    'name2':'Ali',\n",
        "    'name3':'Zeynep'\n",
        "}\n",
        "print(family)"
      ],
      "metadata": {
        "colab": {
          "base_uri": "https://localhost:8080/"
        },
        "id": "XFLUgSdAYQyh",
        "outputId": "6875c82a-97e1-4819-9e8e-cb906d3a1259"
      },
      "execution_count": null,
      "outputs": [
        {
          "output_type": "stream",
          "name": "stdout",
          "text": [
            "{'name1': 'Damla', 'name2': 'Ali', 'name3': 'Zeynep'}\n"
          ]
        }
      ]
    },
    {
      "cell_type": "code",
      "source": [
        "family['name4'] = 'Şeyma'"
      ],
      "metadata": {
        "id": "gQRmgixbYlFS"
      },
      "execution_count": null,
      "outputs": []
    },
    {
      "cell_type": "code",
      "source": [
        "family"
      ],
      "metadata": {
        "colab": {
          "base_uri": "https://localhost:8080/"
        },
        "id": "V-vhs_X6YnM0",
        "outputId": "2ca2b1eb-5b66-4d3c-dbfd-c7ae2e587d1e"
      },
      "execution_count": null,
      "outputs": [
        {
          "output_type": "execute_result",
          "data": {
            "text/plain": [
              "{'name1': 'Damla', 'name2': 'Ali', 'name3': 'Zeynep', 'name4': 'Şeyma'}"
            ]
          },
          "metadata": {},
          "execution_count": 93
        }
      ]
    },
    {
      "cell_type": "code",
      "source": [
        "family = dict(name1='Damla', name2='Ali', name3='Zeynep', name4='Şeyma')\n",
        "print(family)"
      ],
      "metadata": {
        "colab": {
          "base_uri": "https://localhost:8080/"
        },
        "id": "cUT2Vj5OZlu2",
        "outputId": "2958e4c6-585e-4596-c0cb-f952946e05e4"
      },
      "execution_count": null,
      "outputs": [
        {
          "output_type": "stream",
          "name": "stdout",
          "text": [
            "{'name1': 'Damla', 'name2': 'Ali', 'name3': 'Zeynep', 'name4': 'Şeyma'}\n"
          ]
        }
      ]
    },
    {
      "cell_type": "code",
      "source": [
        "print(dict.__doc__)"
      ],
      "metadata": {
        "colab": {
          "base_uri": "https://localhost:8080/"
        },
        "id": "lR-M5OnBZy0q",
        "outputId": "2446347e-dbe6-416f-920f-cd08e1938dfa"
      },
      "execution_count": null,
      "outputs": [
        {
          "output_type": "stream",
          "name": "stdout",
          "text": [
            "dict() -> new empty dictionary\n",
            "dict(mapping) -> new dictionary initialized from a mapping object's\n",
            "    (key, value) pairs\n",
            "dict(iterable) -> new dictionary initialized as if via:\n",
            "    d = {}\n",
            "    for k, v in iterable:\n",
            "        d[k] = v\n",
            "dict(**kwargs) -> new dictionary initialized with the name=value pairs\n",
            "    in the keyword argument list.  For example:  dict(one=1, two=2)\n"
          ]
        }
      ]
    },
    {
      "cell_type": "code",
      "source": [
        "# aile üyelerine erişim şekilleri;\n",
        "family = dict(baba = \"Ali\", anne = \"Ayse\", cocuk1 = \"Ahmet\", cocuk2 = \"Zeynep\")\n",
        "print(family)             # Sözlük yapısına\n",
        "print(family.items())     # Tüm çiftlere : key:value\n",
        "print(family.keys())      # Sadece key'lere\n",
        "print(family.values())    # sadece value'lara\n",
        "print(family['baba'])     # baba value'suna"
      ],
      "metadata": {
        "colab": {
          "base_uri": "https://localhost:8080/"
        },
        "id": "AZaFSRBdUtu4",
        "outputId": "e57bbaf0-c32f-4a46-d17e-fe25d19bbb87"
      },
      "execution_count": null,
      "outputs": [
        {
          "output_type": "stream",
          "name": "stdout",
          "text": [
            "{'baba': 'Ali', 'anne': 'Ayse', 'cocuk1': 'Ahmet', 'cocuk2': 'Zeynep'}\n",
            "dict_items([('baba', 'Ali'), ('anne', 'Ayse'), ('cocuk1', 'Ahmet'), ('cocuk2', 'Zeynep')])\n",
            "dict_keys(['baba', 'anne', 'cocuk1', 'cocuk2'])\n",
            "dict_values(['Ali', 'Ayse', 'Ahmet', 'Zeynep'])\n",
            "Ali\n"
          ]
        }
      ]
    },
    {
      "cell_type": "code",
      "source": [
        "print(family.items())     # Tüm çiftlere : key:value"
      ],
      "metadata": {
        "colab": {
          "base_uri": "https://localhost:8080/"
        },
        "id": "7QEufrXvbOVr",
        "outputId": "1f93fa39-38a5-4af6-a0d1-368fe200c104"
      },
      "execution_count": null,
      "outputs": [
        {
          "output_type": "stream",
          "name": "stdout",
          "text": [
            "dict_items([('baba', 'Ali'), ('anne', 'Ayse'), ('cocuk1', 'Ahmet'), ('cocuk2', 'Zeynep')])\n"
          ]
        }
      ]
    },
    {
      "cell_type": "code",
      "source": [
        "print(*family.items())     # Tüm çiftlere : key:value\n",
        "# bu bir unpacking işlemi değil, sadece aynadaki görüntüyü düzeltir..."
      ],
      "metadata": {
        "colab": {
          "base_uri": "https://localhost:8080/"
        },
        "id": "hSc2dXqVbRkP",
        "outputId": "6ad2dd8c-e376-4836-ee49-26ea6a61586d"
      },
      "execution_count": null,
      "outputs": [
        {
          "output_type": "stream",
          "name": "stdout",
          "text": [
            "('baba', 'Ali') ('anne', 'Ayse') ('cocuk1', 'Ahmet') ('cocuk2', 'Zeynep')\n"
          ]
        }
      ]
    },
    {
      "cell_type": "code",
      "source": [
        "print(list(family.items()))     # listeye dönüştürdü"
      ],
      "metadata": {
        "colab": {
          "base_uri": "https://localhost:8080/"
        },
        "id": "5lTi-3eEbZQK",
        "outputId": "bef7e003-e80e-47d0-f877-467e795a16c1"
      },
      "execution_count": null,
      "outputs": [
        {
          "output_type": "stream",
          "name": "stdout",
          "text": [
            "[('baba', 'Ali'), ('anne', 'Ayse'), ('cocuk1', 'Ahmet'), ('cocuk2', 'Zeynep')]\n"
          ]
        }
      ]
    },
    {
      "cell_type": "code",
      "source": [
        "# family ailesinin ilk çiftini alalım\n",
        "list(family.items())[0]"
      ],
      "metadata": {
        "colab": {
          "base_uri": "https://localhost:8080/"
        },
        "id": "KIxvOvBcbjc3",
        "outputId": "74000adf-6bb6-49df-9561-b29f554c8b9f"
      },
      "execution_count": null,
      "outputs": [
        {
          "output_type": "execute_result",
          "data": {
            "text/plain": [
              "('baba', 'Ali')"
            ]
          },
          "metadata": {},
          "execution_count": 110
        }
      ]
    },
    {
      "cell_type": "code",
      "source": [
        "numbers = {'1':'bir', '2': 'iki', '3':{'x':5, 'y':4}}\n",
        "print(numbers)"
      ],
      "metadata": {
        "colab": {
          "base_uri": "https://localhost:8080/"
        },
        "id": "z56WgKZZb-wJ",
        "outputId": "3ce5b2b2-5623-4a4e-f81f-659b5071de68"
      },
      "execution_count": null,
      "outputs": [
        {
          "output_type": "stream",
          "name": "stdout",
          "text": [
            "{'1': 'bir', '2': 'iki', '3': {'x': 5, 'y': 4}}\n"
          ]
        }
      ]
    },
    {
      "cell_type": "code",
      "source": [
        "numbers = {'1':'bir', '2': 'iki', **{'x':5, 'y':4}}  # sözlükte unpacking işlemi\n",
        "print(numbers)"
      ],
      "metadata": {
        "colab": {
          "base_uri": "https://localhost:8080/"
        },
        "id": "9hfdT_DBct9U",
        "outputId": "45088783-200e-47d5-d392-5f0ada2b805a"
      },
      "execution_count": null,
      "outputs": [
        {
          "output_type": "stream",
          "name": "stdout",
          "text": [
            "{'1': 'bir', '2': 'iki', 'x': 5, 'y': 4}\n"
          ]
        }
      ]
    },
    {
      "cell_type": "markdown",
      "source": [
        "# dict metotları:\n",
        "[dict metotları](https://docs.python.org/3/library/stdtypes.html#dict)\n"
      ],
      "metadata": {
        "id": "zLTX9p5P51dM"
      }
    },
    {
      "cell_type": "code",
      "source": [
        "# dict metotlarının bir listesini alma\n",
        "dir(dict)"
      ],
      "metadata": {
        "id": "O9JBLmtA53gI"
      },
      "execution_count": null,
      "outputs": []
    },
    {
      "cell_type": "code",
      "source": [
        "dir(dict)[-11:]  # sözlük metotları"
      ],
      "metadata": {
        "colab": {
          "base_uri": "https://localhost:8080/"
        },
        "id": "hhGrP_3haVke",
        "outputId": "1b8301d5-9799-4d54-dfab-90cf913a8fa9"
      },
      "execution_count": null,
      "outputs": [
        {
          "output_type": "execute_result",
          "data": {
            "text/plain": [
              "['clear',\n",
              " 'copy',\n",
              " 'fromkeys',\n",
              " 'get',\n",
              " 'items',\n",
              " 'keys',\n",
              " 'pop',\n",
              " 'popitem',\n",
              " 'setdefault',\n",
              " 'update',\n",
              " 'values']"
            ]
          },
          "metadata": {},
          "execution_count": 99
        }
      ]
    },
    {
      "cell_type": "code",
      "source": [
        "# bir sözlükteki eleman sayısı: len\n",
        "family = dict(name1='Damla', name2='Ali', name3='Zeynep', name4='Şeyma')\n",
        "print(f\"Family üye sayısı..: {len(family)}\")"
      ],
      "metadata": {
        "colab": {
          "base_uri": "https://localhost:8080/"
        },
        "id": "lGBqmywDf852",
        "outputId": "a88ddd86-b1db-4212-a970-c9c4d4ce1c21"
      },
      "execution_count": null,
      "outputs": [
        {
          "output_type": "stream",
          "name": "stdout",
          "text": [
            "Family üye sayısı..: 4\n"
          ]
        }
      ]
    },
    {
      "cell_type": "code",
      "source": [
        "dict_by_dict = dict(animal='dog',\n",
        "                    planet='neptun',\n",
        "                    number=40,\n",
        "                    pi=3.14,\n",
        "                    is_good=True)\n",
        "\n",
        "print(dict_by_dict.items())\n",
        "print(dict_by_dict.keys())\n",
        "print(dict_by_dict.values())"
      ],
      "metadata": {
        "colab": {
          "base_uri": "https://localhost:8080/"
        },
        "id": "snwLW8HzgzfQ",
        "outputId": "b4ed27fb-d673-4361-b932-7451cf003499"
      },
      "execution_count": null,
      "outputs": [
        {
          "output_type": "stream",
          "name": "stdout",
          "text": [
            "dict_items([('animal', 'dog'), ('planet', 'neptun'), ('number', 40), ('pi', 3.14), ('is_good', True)])\n",
            "dict_keys(['animal', 'planet', 'number', 'pi', 'is_good'])\n",
            "dict_values(['dog', 'neptun', 40, 3.14, True])\n"
          ]
        }
      ]
    },
    {
      "cell_type": "code",
      "source": [
        "dict_by_dict = dict(animal='dog',\n",
        "                    planet='neptun',\n",
        "                    number=40,\n",
        "                    pi=3.14,\n",
        "                    is_good=True)\n",
        "\n",
        "print(list(dict_by_dict.items()))\n",
        "print(list(dict_by_dict.keys()))\n",
        "print(list(dict_by_dict.values()))"
      ],
      "metadata": {
        "colab": {
          "base_uri": "https://localhost:8080/"
        },
        "id": "VN8-UA0CiGkp",
        "outputId": "04495eea-8a82-41f7-c577-566d9d10b8b5"
      },
      "execution_count": null,
      "outputs": [
        {
          "output_type": "stream",
          "name": "stdout",
          "text": [
            "[('animal', 'dog'), ('planet', 'neptun'), ('number', 40), ('pi', 3.14), ('is_good', True)]\n",
            "['animal', 'planet', 'number', 'pi', 'is_good']\n",
            "['dog', 'neptun', 40, 3.14, True]\n"
          ]
        }
      ]
    },
    {
      "cell_type": "code",
      "source": [
        "dict_by_dict = dict(animal='dog',\n",
        "                    planet='neptun',\n",
        "                    number=40,\n",
        "                    pi=3.14,\n",
        "                    is_good=True)\n",
        "\n",
        "print(*dict_by_dict.items())\n",
        "print(*dict_by_dict.keys())\n",
        "print(*dict_by_dict.values())"
      ],
      "metadata": {
        "colab": {
          "base_uri": "https://localhost:8080/"
        },
        "id": "ubVI8u4UiQSz",
        "outputId": "f8e49090-4688-4514-f898-b7bd9856940c"
      },
      "execution_count": null,
      "outputs": [
        {
          "output_type": "stream",
          "name": "stdout",
          "text": [
            "('animal', 'dog') ('planet', 'neptun') ('number', 40) ('pi', 3.14) ('is_good', True)\n",
            "animal planet number pi is_good\n",
            "dog neptun 40 3.14 True\n"
          ]
        }
      ]
    },
    {
      "cell_type": "code",
      "source": [
        "family = {'name1': 'Ismail', 'name2': 'Kilic', 'name3': 'Kalkan', 'name4': 'Aslan'}\n",
        "print(list(family.items()))\n",
        "print(list(family.keys()))\n",
        "print(list(family.values()))"
      ],
      "metadata": {
        "colab": {
          "base_uri": "https://localhost:8080/"
        },
        "id": "SkSXIyD5jPw8",
        "outputId": "b50be833-115c-4123-de96-097dc552e7db"
      },
      "execution_count": null,
      "outputs": [
        {
          "output_type": "stream",
          "name": "stdout",
          "text": [
            "[('name1', 'Ismail'), ('name2', 'Kilic'), ('name3', 'Kalkan'), ('name4', 'Aslan')]\n",
            "['name1', 'name2', 'name3', 'name4']\n",
            "['Ismail', 'Kilic', 'Kalkan', 'Aslan']\n"
          ]
        }
      ]
    },
    {
      "cell_type": "code",
      "source": [
        "# Güncelleme(update) işlemi\n",
        "dict_by_dict = dict(animal='dog', planet='neptun', number=40, pi=3.14, is_good=True)\n",
        "dict_by_dict.update({'is_good':False})\n",
        "print(dict_by_dict)"
      ],
      "metadata": {
        "id": "BSeNNqfiV1VQ",
        "colab": {
          "base_uri": "https://localhost:8080/"
        },
        "outputId": "de757760-db17-4fd6-afa8-5b4c4f044e7a"
      },
      "execution_count": null,
      "outputs": [
        {
          "output_type": "stream",
          "name": "stdout",
          "text": [
            "{'animal': 'dog', 'planet': 'neptun', 'number': 40, 'pi': 3.14, 'is_good': False}\n"
          ]
        }
      ]
    },
    {
      "cell_type": "code",
      "source": [
        "# Güncelleme(update) işlemi\n",
        "dict_by_dict = dict(animal='dog', planet='neptun', number=40, pi=3.14, is_good=True)\n",
        "dict_by_dict['is_good'] = False\n",
        "print(dict_by_dict)"
      ],
      "metadata": {
        "colab": {
          "base_uri": "https://localhost:8080/"
        },
        "id": "LQIq_N1HjhYr",
        "outputId": "cee34733-ab91-48fb-f21c-8758465576b9"
      },
      "execution_count": null,
      "outputs": [
        {
          "output_type": "stream",
          "name": "stdout",
          "text": [
            "{'animal': 'dog', 'planet': 'neptun', 'number': 40, 'pi': 3.14, 'is_good': False}\n"
          ]
        }
      ]
    },
    {
      "cell_type": "code",
      "source": [
        "# Güncelleme(update) işlemi\n",
        "dict_by_dict = dict(animal='dog', planet='neptun', number=40, pi=3.14, is_good=True)\n",
        "dict_by_dict.update({'is_bad':False})\n",
        "print(dict_by_dict)"
      ],
      "metadata": {
        "id": "C-ta2XftjvM6",
        "outputId": "77fc658c-b9e1-487f-eeca-97025c23e640",
        "colab": {
          "base_uri": "https://localhost:8080/"
        }
      },
      "execution_count": null,
      "outputs": [
        {
          "output_type": "stream",
          "name": "stdout",
          "text": [
            "{'animal': 'dog', 'planet': 'neptun', 'number': 40, 'pi': 3.14, 'is_good': True, 'is_bad': False}\n"
          ]
        }
      ]
    },
    {
      "cell_type": "code",
      "source": [
        "family = {'name1': 'Ismail', 'name2': 'Kilic', 'name3': 'Kalkan', 'name4': 'Aslan'}\n",
        "family.update({'name5':'dede', 'name6':'nine'})\n",
        "print(family)"
      ],
      "metadata": {
        "colab": {
          "base_uri": "https://localhost:8080/"
        },
        "id": "zKAZCGwlkZ0S",
        "outputId": "a654efd0-7507-45a1-e03b-1456f2ab130e"
      },
      "execution_count": 131,
      "outputs": [
        {
          "output_type": "stream",
          "name": "stdout",
          "text": [
            "{'name1': 'Ismail', 'name2': 'Kilic', 'name3': 'Kalkan', 'name4': 'Aslan', 'name5': 'dede', 'name6': 'nine'}\n"
          ]
        }
      ]
    },
    {
      "cell_type": "code",
      "source": [
        "# silme işlemi\n",
        "del family['eniste'] #key yoksa KeyError alırız"
      ],
      "metadata": {
        "id": "9XJ5hSAQXPir",
        "colab": {
          "base_uri": "https://localhost:8080/",
          "height": 201
        },
        "outputId": "a091ed3f-f913-44b7-bc14-1afc256d2d62"
      },
      "execution_count": 132,
      "outputs": [
        {
          "output_type": "error",
          "ename": "KeyError",
          "evalue": "ignored",
          "traceback": [
            "\u001b[0;31m---------------------------------------------------------------------------\u001b[0m",
            "\u001b[0;31mKeyError\u001b[0m                                  Traceback (most recent call last)",
            "\u001b[0;32m<ipython-input-132-745919567e8d>\u001b[0m in \u001b[0;36m<cell line: 2>\u001b[0;34m()\u001b[0m\n\u001b[1;32m      1\u001b[0m \u001b[0;31m# silme işlemi\u001b[0m\u001b[0;34m\u001b[0m\u001b[0;34m\u001b[0m\u001b[0m\n\u001b[0;32m----> 2\u001b[0;31m \u001b[0;32mdel\u001b[0m \u001b[0mfamily\u001b[0m\u001b[0;34m[\u001b[0m\u001b[0;34m'eniste'\u001b[0m\u001b[0;34m]\u001b[0m \u001b[0;31m#key yoksa KeyError alırız\u001b[0m\u001b[0;34m\u001b[0m\u001b[0;34m\u001b[0m\u001b[0m\n\u001b[0m",
            "\u001b[0;31mKeyError\u001b[0m: 'eniste'"
          ]
        }
      ]
    },
    {
      "cell_type": "code",
      "source": [
        "del family['name6'] # \"name6\":\"nine\" çiftini sildi\n",
        "print(family)"
      ],
      "metadata": {
        "colab": {
          "base_uri": "https://localhost:8080/"
        },
        "id": "eTFcpxFrk11k",
        "outputId": "ad5531bc-0e23-43db-f5d6-783aec384c92"
      },
      "execution_count": 133,
      "outputs": [
        {
          "output_type": "stream",
          "name": "stdout",
          "text": [
            "{'name1': 'Ismail', 'name2': 'Kilic', 'name3': 'Kalkan', 'name4': 'Aslan', 'name5': 'dede'}\n"
          ]
        }
      ]
    },
    {
      "cell_type": "code",
      "source": [
        "# silme işlemi\n",
        "print(\"Silinen.:\", family.pop('hala'))"
      ],
      "metadata": {
        "id": "sNfQQY_rX2S7",
        "colab": {
          "base_uri": "https://localhost:8080/",
          "height": 201
        },
        "outputId": "45c2f13b-8c7e-49ed-d41f-b90dd8d128dd"
      },
      "execution_count": 134,
      "outputs": [
        {
          "output_type": "error",
          "ename": "KeyError",
          "evalue": "ignored",
          "traceback": [
            "\u001b[0;31m---------------------------------------------------------------------------\u001b[0m",
            "\u001b[0;31mKeyError\u001b[0m                                  Traceback (most recent call last)",
            "\u001b[0;32m<ipython-input-134-c9454a88d24e>\u001b[0m in \u001b[0;36m<cell line: 2>\u001b[0;34m()\u001b[0m\n\u001b[1;32m      1\u001b[0m \u001b[0;31m# silme işlemi\u001b[0m\u001b[0;34m\u001b[0m\u001b[0;34m\u001b[0m\u001b[0m\n\u001b[0;32m----> 2\u001b[0;31m \u001b[0mprint\u001b[0m\u001b[0;34m(\u001b[0m\u001b[0;34m\"Silinen.:\"\u001b[0m\u001b[0;34m,\u001b[0m \u001b[0mfamily\u001b[0m\u001b[0;34m.\u001b[0m\u001b[0mpop\u001b[0m\u001b[0;34m(\u001b[0m\u001b[0;34m'hala'\u001b[0m\u001b[0;34m)\u001b[0m\u001b[0;34m)\u001b[0m\u001b[0;34m\u001b[0m\u001b[0;34m\u001b[0m\u001b[0m\n\u001b[0m",
            "\u001b[0;31mKeyError\u001b[0m: 'hala'"
          ]
        }
      ]
    },
    {
      "cell_type": "code",
      "source": [
        "help(dict.pop)"
      ],
      "metadata": {
        "colab": {
          "base_uri": "https://localhost:8080/"
        },
        "id": "UL00lkKslchp",
        "outputId": "e9fe6a26-d9a7-4483-ab1d-077ea95ae9e5"
      },
      "execution_count": 135,
      "outputs": [
        {
          "output_type": "stream",
          "name": "stdout",
          "text": [
            "Help on method_descriptor:\n",
            "\n",
            "pop(...)\n",
            "    D.pop(k[,d]) -> v, remove specified key and return the corresponding value.\n",
            "    \n",
            "    If the key is not found, return the default if given; otherwise,\n",
            "    raise a KeyError.\n",
            "\n"
          ]
        }
      ]
    },
    {
      "cell_type": "code",
      "source": [
        "print(\"Silinen.:\", family.pop('hala', \"Sözlükte yoktur\"))"
      ],
      "metadata": {
        "id": "56hQnYzgYHQP",
        "colab": {
          "base_uri": "https://localhost:8080/"
        },
        "outputId": "9973a9f8-585e-487e-f8b2-fd678430f8d1"
      },
      "execution_count": 136,
      "outputs": [
        {
          "output_type": "stream",
          "name": "stdout",
          "text": [
            "Silinen.: Sözlükte yoktur\n"
          ]
        }
      ]
    },
    {
      "cell_type": "code",
      "source": [
        "print(\"Silinen.:\", family.pop('name4', \"Sözlükte yoktur\"))"
      ],
      "metadata": {
        "colab": {
          "base_uri": "https://localhost:8080/"
        },
        "id": "mbI_XH55lts9",
        "outputId": "45a5348e-8783-4359-ba5a-9c5ce88c9f73"
      },
      "execution_count": 137,
      "outputs": [
        {
          "output_type": "stream",
          "name": "stdout",
          "text": [
            "Silinen.: Aslan\n"
          ]
        }
      ]
    },
    {
      "cell_type": "code",
      "source": [
        "family"
      ],
      "metadata": {
        "colab": {
          "base_uri": "https://localhost:8080/"
        },
        "id": "Spz0oEMplzmf",
        "outputId": "4ab76e46-7383-4d55-c036-e21c855e7c7b"
      },
      "execution_count": 138,
      "outputs": [
        {
          "output_type": "execute_result",
          "data": {
            "text/plain": [
              "{'name1': 'Ismail', 'name2': 'Kilic', 'name3': 'Kalkan', 'name5': 'dede'}"
            ]
          },
          "metadata": {},
          "execution_count": 138
        }
      ]
    },
    {
      "cell_type": "code",
      "source": [
        "# Birden fazla değeri silme\n",
        "del family[\"name2\"], family[\"name3\"]\n",
        "print(family)"
      ],
      "metadata": {
        "colab": {
          "base_uri": "https://localhost:8080/"
        },
        "id": "lCo-u9VjmaOn",
        "outputId": "02becebf-8ae3-40da-ce29-cc49b98a8cf7"
      },
      "execution_count": 139,
      "outputs": [
        {
          "output_type": "stream",
          "name": "stdout",
          "text": [
            "{'name1': 'Ismail', 'name5': 'dede'}\n"
          ]
        }
      ]
    },
    {
      "cell_type": "code",
      "source": [
        "# Birden fazla değeri silme\n",
        "family = {'baba' : \"Ali\", 'anne' : \"Ayse\", 'cocuk1': \"Ahmet\", 'cocuk2': \"Zeynep\"}\n",
        "print(family)\n",
        "list_family = list(family.items())\n",
        "del list_family[1:3]  #dilimleme ile 1.ve 2. item silindi\n",
        "family = dict(list_family) #tekrar sözlüğe dönüştürdüm\n",
        "print(family)"
      ],
      "metadata": {
        "id": "yeKPsI3FYxqm",
        "colab": {
          "base_uri": "https://localhost:8080/"
        },
        "outputId": "c500dbc5-1dee-4a57-fcd2-06396f4e476b"
      },
      "execution_count": 140,
      "outputs": [
        {
          "output_type": "stream",
          "name": "stdout",
          "text": [
            "{'baba': 'Ali', 'anne': 'Ayse', 'cocuk1': 'Ahmet', 'cocuk2': 'Zeynep'}\n",
            "{'baba': 'Ali', 'cocuk2': 'Zeynep'}\n"
          ]
        }
      ]
    },
    {
      "cell_type": "code",
      "source": [
        "# döngü ile silme\n",
        "family = {'baba' : \"Ali\", 'anne' : \"Ayse\", 'cocuk1': \"Ahmet\", 'cocuk2': \"Zeynep\"}\n",
        "sil_key = ['anne', 'cocuk1']\n",
        "for i in sil_key:\n",
        "    del family[i]\n",
        "print(family)"
      ],
      "metadata": {
        "id": "GcqgYYkAZwVH",
        "colab": {
          "base_uri": "https://localhost:8080/"
        },
        "outputId": "e62f5af4-76e8-4ae9-f3b6-6be3c40d3ff1"
      },
      "execution_count": 142,
      "outputs": [
        {
          "output_type": "stream",
          "name": "stdout",
          "text": [
            "{'baba': 'Ali', 'cocuk2': 'Zeynep'}\n"
          ]
        }
      ]
    },
    {
      "cell_type": "code",
      "source": [
        "# En sondaki elemanı silme\n",
        "family = {'baba' : \"Ali\", 'anne' : \"Ayse\", 'cocuk1': \"Ahmet\", 'cocuk2': \"Zeynep\"}\n",
        "family.pop()  # sözlük sonundaki elemanı siler\n",
        "print(family)"
      ],
      "metadata": {
        "colab": {
          "base_uri": "https://localhost:8080/",
          "height": 237
        },
        "id": "gWToXHYWnfwA",
        "outputId": "507dd7de-96df-45f1-a2a7-5e5bba537037"
      },
      "execution_count": 143,
      "outputs": [
        {
          "output_type": "error",
          "ename": "TypeError",
          "evalue": "ignored",
          "traceback": [
            "\u001b[0;31m---------------------------------------------------------------------------\u001b[0m",
            "\u001b[0;31mTypeError\u001b[0m                                 Traceback (most recent call last)",
            "\u001b[0;32m<ipython-input-143-924de099d13e>\u001b[0m in \u001b[0;36m<cell line: 3>\u001b[0;34m()\u001b[0m\n\u001b[1;32m      1\u001b[0m \u001b[0;31m# En sondaki elemanı silme\u001b[0m\u001b[0;34m\u001b[0m\u001b[0;34m\u001b[0m\u001b[0m\n\u001b[1;32m      2\u001b[0m \u001b[0mfamily\u001b[0m \u001b[0;34m=\u001b[0m \u001b[0;34m{\u001b[0m\u001b[0;34m'baba'\u001b[0m \u001b[0;34m:\u001b[0m \u001b[0;34m\"Ali\"\u001b[0m\u001b[0;34m,\u001b[0m \u001b[0;34m'anne'\u001b[0m \u001b[0;34m:\u001b[0m \u001b[0;34m\"Ayse\"\u001b[0m\u001b[0;34m,\u001b[0m \u001b[0;34m'cocuk1'\u001b[0m\u001b[0;34m:\u001b[0m \u001b[0;34m\"Ahmet\"\u001b[0m\u001b[0;34m,\u001b[0m \u001b[0;34m'cocuk2'\u001b[0m\u001b[0;34m:\u001b[0m \u001b[0;34m\"Zeynep\"\u001b[0m\u001b[0;34m}\u001b[0m\u001b[0;34m\u001b[0m\u001b[0;34m\u001b[0m\u001b[0m\n\u001b[0;32m----> 3\u001b[0;31m \u001b[0mfamily\u001b[0m\u001b[0;34m.\u001b[0m\u001b[0mpop\u001b[0m\u001b[0;34m(\u001b[0m\u001b[0;34m)\u001b[0m  \u001b[0;31m# sözlük sonundaki elemanı siler\u001b[0m\u001b[0;34m\u001b[0m\u001b[0;34m\u001b[0m\u001b[0m\n\u001b[0m\u001b[1;32m      4\u001b[0m \u001b[0mprint\u001b[0m\u001b[0;34m(\u001b[0m\u001b[0mfamily\u001b[0m\u001b[0;34m)\u001b[0m\u001b[0;34m\u001b[0m\u001b[0;34m\u001b[0m\u001b[0m\n",
            "\u001b[0;31mTypeError\u001b[0m: pop expected at least 1 argument, got 0"
          ]
        }
      ]
    },
    {
      "cell_type": "code",
      "source": [
        "# En sondaki elemanı silme\n",
        "family = {'baba' : \"Ali\", 'anne' : \"Ayse\", 'cocuk1': \"Ahmet\", 'cocuk2': \"Zeynep\"}\n",
        "family.popitem()  # sözlük sonundaki elemanı siler\n",
        "print(family)"
      ],
      "metadata": {
        "id": "eXlzJFQ1aPlh",
        "colab": {
          "base_uri": "https://localhost:8080/"
        },
        "outputId": "126dfc24-e722-4de9-c6cf-97d7ad5d8a4d"
      },
      "execution_count": 144,
      "outputs": [
        {
          "output_type": "stream",
          "name": "stdout",
          "text": [
            "{'baba': 'Ali', 'anne': 'Ayse', 'cocuk1': 'Ahmet'}\n"
          ]
        }
      ]
    },
    {
      "cell_type": "code",
      "source": [
        "family.popitem()  # sözlük sonundaki elemanı siler\n",
        "print(family)"
      ],
      "metadata": {
        "colab": {
          "base_uri": "https://localhost:8080/"
        },
        "id": "kLTQ04X2nnw_",
        "outputId": "a49e6fae-18b0-4993-b37e-9361f7686a44"
      },
      "execution_count": 145,
      "outputs": [
        {
          "output_type": "stream",
          "name": "stdout",
          "text": [
            "{'baba': 'Ali', 'anne': 'Ayse'}\n"
          ]
        }
      ]
    },
    {
      "cell_type": "code",
      "source": [
        "#sözlüğü reverse yapma\n",
        "family = {'baba' : \"Ali\", 'anne' : \"Ayse\", 'cocuk1': \"Ahmet\", 'cocuk2': \"Zeynep\"}\n",
        "ters_family = list(reversed(family.items()))\n",
        "print(ters_family)"
      ],
      "metadata": {
        "id": "oP36y9KPahyn",
        "colab": {
          "base_uri": "https://localhost:8080/"
        },
        "outputId": "d6310488-487e-4f25-8e57-4a4a005c2d03"
      },
      "execution_count": 146,
      "outputs": [
        {
          "output_type": "stream",
          "name": "stdout",
          "text": [
            "[('cocuk2', 'Zeynep'), ('cocuk1', 'Ahmet'), ('anne', 'Ayse'), ('baba', 'Ali')]\n"
          ]
        }
      ]
    },
    {
      "cell_type": "code",
      "source": [
        "#sözlüğü reverse yapma: key'leri baz alarak ters çevirir.\n",
        "family = {'baba' : \"Ali\", 'anne' : \"Ayse\", 'cocuk1': \"Ahmet\", 'cocuk2': \"Zeynep\"}\n",
        "ters_family = dict(reversed(family.items()))\n",
        "print(ters_family)"
      ],
      "metadata": {
        "id": "ySTWCWrZd1Oq",
        "colab": {
          "base_uri": "https://localhost:8080/"
        },
        "outputId": "f7e20c05-566b-40cc-f8bb-f4cbb3fa61dd"
      },
      "execution_count": 147,
      "outputs": [
        {
          "output_type": "stream",
          "name": "stdout",
          "text": [
            "{'cocuk2': 'Zeynep', 'cocuk1': 'Ahmet', 'anne': 'Ayse', 'baba': 'Ali'}\n"
          ]
        }
      ]
    },
    {
      "cell_type": "code",
      "source": [
        "#sözlüğü reverse yapma: key'leri baz alarak ters çevirir.\n",
        "family = {'baba' : \"Ali\", 'anne' : \"Ayse\", 'cocuk1': \"Ahmet\", 'cocuk2': \"Zeynep\"}\n",
        "ters_family = list(reversed(family))  #sadece key'leri alır\n",
        "print(ters_family)"
      ],
      "metadata": {
        "colab": {
          "base_uri": "https://localhost:8080/"
        },
        "id": "Meuxi1KSoiVr",
        "outputId": "738ef350-e64d-44ba-a4cd-d24082086edd"
      },
      "execution_count": 153,
      "outputs": [
        {
          "output_type": "stream",
          "name": "stdout",
          "text": [
            "['cocuk2', 'cocuk1', 'anne', 'baba']\n"
          ]
        }
      ]
    },
    {
      "cell_type": "code",
      "source": [
        "#sözlüğü reverse yapma: key'leri baz alarak ters çevirir.\n",
        "family = {'baba' : \"Ali\", 'anne' : \"Ayse\", 'cocuk1': \"Ahmet\", 'cocuk2': \"Zeynep\"}\n",
        "ters_family = list(reversed(family.keys()))  #sadece key'leri alır\n",
        "print(ters_family)"
      ],
      "metadata": {
        "colab": {
          "base_uri": "https://localhost:8080/"
        },
        "id": "N5nodbpeoPNj",
        "outputId": "6ae1c150-309d-4b63-df6c-5611337989af"
      },
      "execution_count": 168,
      "outputs": [
        {
          "output_type": "stream",
          "name": "stdout",
          "text": [
            "['cocuk2', 'cocuk1', 'anne', 'baba']\n"
          ]
        }
      ]
    },
    {
      "cell_type": "code",
      "source": [
        "# nots sözlüğünde en küçük ve en büyük notların kime ait olduğunu nasıl öğrenebilirim?\n",
        "# min -max işlemi sözlükte nasıl gerçekleşir.\n",
        "nots = {'ali':100, 'beril':56, 'sami':98, 'emre':99, 'nuh':67}\n",
        "min(nots)  # key'leri baz alır"
      ],
      "metadata": {
        "id": "Rjx5B9d9eHmP",
        "colab": {
          "base_uri": "https://localhost:8080/",
          "height": 35
        },
        "outputId": "23a691c6-06cb-4eca-9cab-ae45aea59d2a"
      },
      "execution_count": 154,
      "outputs": [
        {
          "output_type": "execute_result",
          "data": {
            "text/plain": [
              "'ali'"
            ],
            "application/vnd.google.colaboratory.intrinsic+json": {
              "type": "string"
            }
          },
          "metadata": {},
          "execution_count": 154
        }
      ]
    },
    {
      "cell_type": "code",
      "source": [
        "min(nots.values())"
      ],
      "metadata": {
        "id": "ZQe-Waq0fMMo",
        "colab": {
          "base_uri": "https://localhost:8080/"
        },
        "outputId": "59fc01eb-76fc-426f-e028-27ef2828e581"
      },
      "execution_count": 155,
      "outputs": [
        {
          "output_type": "execute_result",
          "data": {
            "text/plain": [
              "56"
            ]
          },
          "metadata": {},
          "execution_count": 155
        }
      ]
    },
    {
      "cell_type": "code",
      "source": [
        "min(nots, key=nots.__getitem__)"
      ],
      "metadata": {
        "colab": {
          "base_uri": "https://localhost:8080/",
          "height": 35
        },
        "id": "nKQSoJvifrWg",
        "outputId": "aa58018a-2965-48ad-ad7a-91cbb10a96f3"
      },
      "execution_count": 159,
      "outputs": [
        {
          "output_type": "execute_result",
          "data": {
            "text/plain": [
              "'beril'"
            ],
            "application/vnd.google.colaboratory.intrinsic+json": {
              "type": "string"
            }
          },
          "metadata": {},
          "execution_count": 159
        }
      ]
    },
    {
      "cell_type": "code",
      "source": [
        "min(nots, key=nots.get)"
      ],
      "metadata": {
        "colab": {
          "base_uri": "https://localhost:8080/",
          "height": 35
        },
        "id": "gLc6w8MepKaB",
        "outputId": "4a713feb-5581-40cc-a91a-cdba6d6fb6de"
      },
      "execution_count": 160,
      "outputs": [
        {
          "output_type": "execute_result",
          "data": {
            "text/plain": [
              "'beril'"
            ],
            "application/vnd.google.colaboratory.intrinsic+json": {
              "type": "string"
            }
          },
          "metadata": {},
          "execution_count": 160
        }
      ]
    },
    {
      "cell_type": "code",
      "source": [
        "max(nots, key=nots.__getitem__)"
      ],
      "metadata": {
        "colab": {
          "base_uri": "https://localhost:8080/",
          "height": 35
        },
        "id": "o5zDmMBKf-0s",
        "outputId": "8c070a10-9f79-4615-d4ee-ce69c7e6e3d8"
      },
      "execution_count": 157,
      "outputs": [
        {
          "output_type": "execute_result",
          "data": {
            "text/plain": [
              "'ali'"
            ],
            "application/vnd.google.colaboratory.intrinsic+json": {
              "type": "string"
            }
          },
          "metadata": {},
          "execution_count": 157
        }
      ]
    },
    {
      "cell_type": "code",
      "source": [
        "max(nots, key=nots.get)"
      ],
      "metadata": {
        "colab": {
          "base_uri": "https://localhost:8080/",
          "height": 35
        },
        "id": "0iP_BX08pE_n",
        "outputId": "40f9347e-3ef5-4233-cff4-541cc6140c85"
      },
      "execution_count": 158,
      "outputs": [
        {
          "output_type": "execute_result",
          "data": {
            "text/plain": [
              "'ali'"
            ],
            "application/vnd.google.colaboratory.intrinsic+json": {
              "type": "string"
            }
          },
          "metadata": {},
          "execution_count": 158
        }
      ]
    },
    {
      "cell_type": "code",
      "source": [
        "family"
      ],
      "metadata": {
        "colab": {
          "base_uri": "https://localhost:8080/"
        },
        "id": "xcAcMc8_pd1D",
        "outputId": "390a5930-a455-40d0-b5e9-cb66609a3661"
      },
      "execution_count": 169,
      "outputs": [
        {
          "output_type": "execute_result",
          "data": {
            "text/plain": [
              "{'baba': 'Ali', 'anne': 'Ayse', 'cocuk1': 'Ahmet', 'cocuk2': 'Zeynep'}"
            ]
          },
          "metadata": {},
          "execution_count": 169
        }
      ]
    },
    {
      "cell_type": "code",
      "source": [
        "# Sözlükte arama\n",
        "print(family.get(\"cocuk2\", \"Sözlükte yoktur\"))"
      ],
      "metadata": {
        "colab": {
          "base_uri": "https://localhost:8080/"
        },
        "id": "iHCQJL0lph5f",
        "outputId": "9ff74f4f-770b-41cf-eafd-b663be4c0b94"
      },
      "execution_count": 170,
      "outputs": [
        {
          "output_type": "stream",
          "name": "stdout",
          "text": [
            "Zeynep\n"
          ]
        }
      ]
    },
    {
      "cell_type": "code",
      "source": [
        "# Sözlükte arama\n",
        "print(family.get(\"name4\", \"Sözlükte yoktur\"))"
      ],
      "metadata": {
        "colab": {
          "base_uri": "https://localhost:8080/"
        },
        "id": "-Vp4YZ5qj6TC",
        "outputId": "4ea199b8-d6d5-4030-9653-2459184e37f5"
      },
      "execution_count": 171,
      "outputs": [
        {
          "output_type": "stream",
          "name": "stdout",
          "text": [
            "Sözlükte yoktur\n"
          ]
        }
      ]
    },
    {
      "cell_type": "code",
      "source": [
        "# Aranan yoksa sözlüğe ekle\n",
        "print(family.setdefault(\"dede\", \"ismail\"))  #aranana yoksa ekler\n",
        "print(family)"
      ],
      "metadata": {
        "colab": {
          "base_uri": "https://localhost:8080/"
        },
        "id": "ow6pHH5HkURs",
        "outputId": "2a6613f2-63db-4498-f5cd-bed32c037c92"
      },
      "execution_count": 172,
      "outputs": [
        {
          "output_type": "stream",
          "name": "stdout",
          "text": [
            "ismail\n",
            "{'baba': 'Ali', 'anne': 'Ayse', 'cocuk1': 'Ahmet', 'cocuk2': 'Zeynep', 'dede': 'ismail'}\n"
          ]
        }
      ]
    },
    {
      "cell_type": "code",
      "source": [
        "#clear(): silme\n",
        "family.clear()\n",
        "print(family)"
      ],
      "metadata": {
        "colab": {
          "base_uri": "https://localhost:8080/"
        },
        "id": "4hEtPvBPs32H",
        "outputId": "5ebb65d4-9a93-48e9-c1e3-b4d16a17d03b"
      },
      "execution_count": 173,
      "outputs": [
        {
          "output_type": "stream",
          "name": "stdout",
          "text": [
            "{}\n"
          ]
        }
      ]
    },
    {
      "cell_type": "code",
      "source": [
        "# Sözlüğe otomatik belli bir değeri atama\n",
        "sozluk = dict.fromkeys(range(5),\"a\")  # key'lere tek bir değer atanmak istendiğinde fromkeys kullanılabilir.\n",
        "print(sozluk)"
      ],
      "metadata": {
        "colab": {
          "base_uri": "https://localhost:8080/"
        },
        "id": "3gErdmRE1yPE",
        "outputId": "a0ffe2cd-2b6f-41b1-d8e5-1ae297f3bf95"
      },
      "execution_count": 174,
      "outputs": [
        {
          "output_type": "stream",
          "name": "stdout",
          "text": [
            "{0: 'a', 1: 'a', 2: 'a', 3: 'a', 4: 'a'}\n"
          ]
        }
      ]
    },
    {
      "cell_type": "code",
      "source": [
        "#json formatı\n",
        "friends = {\n",
        "    \"friend1\":{\n",
        "        \"first\": 'Sue', \"last\":\"Bold\"\n",
        "    },\n",
        "    \"friend2\":{\n",
        "        \"first\": 'Steve', \"last\":\"Smith\"\n",
        "    },\n",
        "    \"friend3\":{\n",
        "        \"first\": 'Ahmet', \"last\":\"Sami\"\n",
        "    }\n",
        "}\n",
        "print(friends)"
      ],
      "metadata": {
        "id": "p1q8Kh8JjsWR"
      },
      "execution_count": null,
      "outputs": []
    },
    {
      "cell_type": "code",
      "source": [
        "#json formatı\n",
        "person = {\n",
        "  \"first_name\": \"John\",\n",
        "  \"last_name\": \"Smith\",\n",
        "  \"is_alive\": True,\n",
        "  \"age\": 27,\n",
        "  \"address\": {\n",
        "    \"street_address\": \"21 2nd Street\",\n",
        "    \"city\": \"New York\",\n",
        "    \"state\": \"NY\",\n",
        "    \"postal_code\": \"10021-3100\"\n",
        "  },\n",
        "  \"phone_numbers\": [\n",
        "    {\n",
        "      \"type\": \"home\",\n",
        "      \"number\": \"212 555-1234\"\n",
        "    },\n",
        "    {\n",
        "      \"type\": \"office\",\n",
        "      \"number\": \"646 555-4567\"\n",
        "    }\n",
        "  ],\n",
        "  \"children\": [\n",
        "    \"Catherine\",\n",
        "    \"Thomas\",\n",
        "    \"Trevor\"\n",
        "  ],\n",
        "  \"spouse\": None\n",
        "}"
      ],
      "metadata": {
        "id": "KWmdJYaFApkw"
      },
      "execution_count": null,
      "outputs": []
    },
    {
      "cell_type": "code",
      "source": [
        "# Nested dict\n",
        "school_records = {\n",
        "    \"personal_info\":\n",
        "        {\"kid\":{\"tom\": {\"class\": \"intermediate\", \"age\": 10},\n",
        "                \"sue\": {\"class\": \"elementary\", \"age\": 8}\n",
        "               },\n",
        "         \"teen\":{\"joseph\":{\"class\": \"college\", \"age\": 19},\n",
        "                 \"marry\":{\"class\": \"high school\", \"age\": 16}\n",
        "               },\n",
        "        },\n",
        "\n",
        "    \"grades_info\":\n",
        "        {\"kid\":{\"tom\": {\"math\": 88, \"speech\": 69},\n",
        "                \"sue\": {\"math\": 90, \"speech\": 81}\n",
        "               },\n",
        "         \"teen\":{\"joseph\":{\"coding\": 80, \"math\": 89},\n",
        "                 \"marry\":{\"coding\": 70, \"math\": 96}\n",
        "               },\n",
        "        },\n",
        "}"
      ],
      "metadata": {
        "id": "iI3fPgDIghGC"
      },
      "execution_count": 176,
      "outputs": []
    },
    {
      "cell_type": "code",
      "source": [
        "#marry nin yaşına(age) nasıl erişirim?\n",
        "school_records[\"personal_info\"][\"teen\"][\"marry\"][\"age\"]"
      ],
      "metadata": {
        "colab": {
          "base_uri": "https://localhost:8080/"
        },
        "id": "UgmXKIdJgpQX",
        "outputId": "9707aa9c-ec87-4e58-ae06-756c608eb2d3"
      },
      "execution_count": 177,
      "outputs": [
        {
          "output_type": "execute_result",
          "data": {
            "text/plain": [
              "16"
            ]
          },
          "metadata": {},
          "execution_count": 177
        }
      ]
    },
    {
      "cell_type": "code",
      "source": [
        "#joseph'in notlarına nasıl erişirim.\n",
        "print(list(school_records[\"grades_info\"][\"teen\"][\"joseph\"].items()))"
      ],
      "metadata": {
        "id": "bedLi0ngh4lJ",
        "colab": {
          "base_uri": "https://localhost:8080/"
        },
        "outputId": "3e5b5d71-25c2-4429-e0fd-ee7d23ae92b7"
      },
      "execution_count": 179,
      "outputs": [
        {
          "output_type": "stream",
          "name": "stdout",
          "text": [
            "[('coding', 80), ('math', 89)]\n"
          ]
        }
      ]
    },
    {
      "cell_type": "code",
      "source": [
        "friends = {\"friend1\":{\"first\":\"Sue\", \"last\":\"Bold\"},\n",
        "           \"friend2\":{\"first\":\"Steve\", \"last\": \"Smith\"},\n",
        "           \"friend3\":{\"first\":\"Tom\", \"last\":\"Bold\"}\n",
        "           }\n",
        "print(friends)"
      ],
      "metadata": {
        "colab": {
          "base_uri": "https://localhost:8080/"
        },
        "id": "O_9aPQq3wuwL",
        "outputId": "8493e991-42e6-47a6-8b8e-a98bcfc288b4"
      },
      "execution_count": 180,
      "outputs": [
        {
          "output_type": "stream",
          "name": "stdout",
          "text": [
            "{'friend1': {'first': 'Sue', 'last': 'Bold'}, 'friend2': {'first': 'Steve', 'last': 'Smith'}, 'friend3': {'first': 'Tom', 'last': 'Bold'}}\n"
          ]
        }
      ]
    },
    {
      "cell_type": "code",
      "source": [
        "favourite = {\n",
        "    'friends': {\"friend1\":{\"first\":\"Sue\", \"last\":\"Bold\"},\n",
        "           \"friend2\":{\"first\":\"Steve\", \"last\": \"Smith\"},\n",
        "           \"friend3\":{\"first\":\"Tom\", \"last\":\"Bold\"}\n",
        "    },\n",
        "    \"familys\": {\n",
        "        \"family1\": {\"isim\": \"Alim\", \"soyisim\": \"Aksu\"},\n",
        "        \"family2\": {\"isim\": \"Ahmet\", \"soyisim\": \"Dede\"},\n",
        "        \"family3\": {\"isim\": \"Melih\", \"soyisim\": \"Koç\"}\n",
        "    },\n",
        "    #....\n",
        "}\n",
        "print(favourite)"
      ],
      "metadata": {
        "colab": {
          "base_uri": "https://localhost:8080/"
        },
        "id": "TAKnLDOSmzAL",
        "outputId": "3b4a6611-1d99-4b8b-cb74-79e4d8c2d8ff"
      },
      "execution_count": 186,
      "outputs": [
        {
          "output_type": "stream",
          "name": "stdout",
          "text": [
            "{'friends': {'friend1': {'first': 'Sue', 'last': 'Bold'}, 'friend2': {'first': 'Steve', 'last': 'Smith'}, 'friend3': {'first': 'Tom', 'last': 'Bold'}}, 'familys': {'family1': {'isim': 'Alim', 'soyisim': 'Aksu'}, 'family2': {'isim': 'Ahmet', 'soyisim': 'Dede'}, 'family3': {'isim': 'Melih', 'soyisim': 'Koç'}}}\n"
          ]
        }
      ]
    },
    {
      "cell_type": "code",
      "source": [
        "sil_family3 = favourite[\"familys\"].pop('family3')\n",
        "print(sil_family3)\n",
        "print(favourite)"
      ],
      "metadata": {
        "colab": {
          "base_uri": "https://localhost:8080/"
        },
        "id": "2IEKBa0Tnuv3",
        "outputId": "fcf8be34-5ca8-482a-af08-a97cd6035bd6"
      },
      "execution_count": 184,
      "outputs": [
        {
          "output_type": "stream",
          "name": "stdout",
          "text": [
            "{'isim': 'Melih', 'soyisim': 'Koç'}\n",
            "{'friends': {'friend1': {'first': 'Sue', 'last': 'Bold'}, 'friend2': {'first': 'Steve', 'last': 'Smith'}, 'friend3': {'first': 'Tom', 'last': 'Bold'}}, 'familys': {'family1': {'isim': 'Alim', 'soyisim': 'Aksu'}, 'family2': {'isim': 'Ahmet', 'soyisim': 'Dede'}}}\n"
          ]
        }
      ]
    },
    {
      "cell_type": "code",
      "source": [
        "del favourite[\"familys\"]['family3']\n",
        "#print(del_family3)\n",
        "print(favourite)"
      ],
      "metadata": {
        "colab": {
          "base_uri": "https://localhost:8080/"
        },
        "id": "LQB_2ozczD4N",
        "outputId": "e1dca8f1-3310-4992-cc4d-95e09e9c0046"
      },
      "execution_count": 187,
      "outputs": [
        {
          "output_type": "stream",
          "name": "stdout",
          "text": [
            "{'friends': {'friend1': {'first': 'Sue', 'last': 'Bold'}, 'friend2': {'first': 'Steve', 'last': 'Smith'}, 'friend3': {'first': 'Tom', 'last': 'Bold'}}, 'familys': {'family1': {'isim': 'Alim', 'soyisim': 'Aksu'}, 'family2': {'isim': 'Ahmet', 'soyisim': 'Dede'}}}\n"
          ]
        }
      ]
    },
    {
      "cell_type": "code",
      "source": [
        "friends = {\n",
        "        \"friend1\": {\"isim\": \"Ali\", \"soyisim\": \"Aslan\"},\n",
        "        \"friend2\": {\"isim\": \"Ahmet\", \"soyisim\": \"Kaplan\"},\n",
        "        \"friend3\": {\"isim\": \"Merve\", \"soyisim\": \"Aslan\"}\n",
        "    }\n",
        "familys = {\n",
        "        \"family1\": {\"isim\": \"Alim\", \"soyisim\": \"Aksu\"},\n",
        "        \"family2\": {\"isim\": \"Ahmet\", \"soyisim\": \"Dede\"},\n",
        "        \"family3\": {\"isim\": \"Melih\", \"soyisim\": \"Koç\"}\n",
        "    }\n",
        "favourite = {\n",
        "    'friends': friends,\n",
        "    'family': familys\n",
        "\n",
        "}\n",
        "print(favourite)"
      ],
      "metadata": {
        "id": "nphPvYzNrsdO",
        "colab": {
          "base_uri": "https://localhost:8080/"
        },
        "outputId": "09ff1694-0698-40ad-ca08-199ba833767d"
      },
      "execution_count": 188,
      "outputs": [
        {
          "output_type": "stream",
          "name": "stdout",
          "text": [
            "{'friends': {'friend1': {'isim': 'Ali', 'soyisim': 'Aslan'}, 'friend2': {'isim': 'Ahmet', 'soyisim': 'Kaplan'}, 'friend3': {'isim': 'Merve', 'soyisim': 'Aslan'}}, 'family': {'family1': {'isim': 'Alim', 'soyisim': 'Aksu'}, 'family2': {'isim': 'Ahmet', 'soyisim': 'Dede'}, 'family3': {'isim': 'Melih', 'soyisim': 'Koç'}}}\n"
          ]
        }
      ]
    },
    {
      "cell_type": "code",
      "source": [
        "dt = [\n",
        "   'a',\n",
        "   'b',\n",
        "   {\n",
        "       'foo': 1,\n",
        "       'bar':\n",
        "       {\n",
        "           'x' : 10,\n",
        "           'y' : 20,\n",
        "           'z' : 30\n",
        "       },\n",
        "       'baz': 3\n",
        "   },\n",
        "   'c',\n",
        "   'd',\n",
        "   'e'\n",
        "]\n",
        "# y nin değerine nasıl erişiriz?\n",
        "dt[2]['bar']['y']"
      ],
      "metadata": {
        "colab": {
          "base_uri": "https://localhost:8080/"
        },
        "id": "aVzWaK6orFaP",
        "outputId": "accace6c-7786-4a77-b3b8-b56ca79fa024"
      },
      "execution_count": 189,
      "outputs": [
        {
          "output_type": "execute_result",
          "data": {
            "text/plain": [
              "20"
            ]
          },
          "metadata": {},
          "execution_count": 189
        }
      ]
    },
    {
      "cell_type": "code",
      "source": [
        "# Bir sözlük yapısı tabloya nasıl dönüştürülür?\n",
        "# pandas, tabulate\n",
        "musteri = {'ad': ['ali','veli','seda'],\n",
        "           'adres': ['tokat','berlin','ankara'],\n",
        "           'borc': [2000,500,1500]}\n",
        "\n",
        "import pandas as pd\n",
        "tablo = pd.DataFrame(musteri)\n",
        "print(tablo)"
      ],
      "metadata": {
        "id": "Gx_U7QOftFSQ",
        "colab": {
          "base_uri": "https://localhost:8080/"
        },
        "outputId": "138cfd0a-339a-4e93-ef5e-b21adaf0f57b"
      },
      "execution_count": 190,
      "outputs": [
        {
          "output_type": "stream",
          "name": "stdout",
          "text": [
            "     ad   adres  borc\n",
            "0   ali   tokat  2000\n",
            "1  veli  berlin   500\n",
            "2  seda  ankara  1500\n"
          ]
        }
      ]
    },
    {
      "cell_type": "code",
      "source": [
        "# Ödev: family, friends sözlüklerini favourite sözlüğü altında birleştirip;\n",
        "# girilen ada göre arama,\n",
        "# girilen ada göre silme\n",
        "# girilen ad sözlükte yoksa sözlüğe ekleme işlemlerini yapan basit bir program......"
      ],
      "metadata": {
        "id": "NMQ9LhSU0vIv"
      },
      "execution_count": null,
      "outputs": []
    }
  ]
}