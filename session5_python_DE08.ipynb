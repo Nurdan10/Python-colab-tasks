{
  "nbformat": 4,
  "nbformat_minor": 0,
  "metadata": {
    "colab": {
      "provenance": []
    },
    "kernelspec": {
      "name": "python3",
      "display_name": "Python 3"
    },
    "language_info": {
      "name": "python"
    }
  },
  "cells": [
    {
      "cell_type": "markdown",
      "source": [
        "# Stringler"
      ],
      "metadata": {
        "id": "1NoKsWq-Oq8z"
      }
    },
    {
      "cell_type": "code",
      "source": [
        "# '', \"\", \"\"\"..\"\"\", '''...''' arasına yazılan herşey string\n",
        "'Cla'+\"rus\"+\"\"\"way\"\"\""
      ],
      "metadata": {
        "colab": {
          "base_uri": "https://localhost:8080/",
          "height": 35
        },
        "id": "0CIn3sfwUwnq",
        "outputId": "afdd38db-286e-4a55-a9a7-a81011de3560"
      },
      "execution_count": 13,
      "outputs": [
        {
          "output_type": "execute_result",
          "data": {
            "text/plain": [
              "'Clarusway'"
            ],
            "application/vnd.google.colaboratory.intrinsic+json": {
              "type": "string"
            }
          },
          "metadata": {},
          "execution_count": 13
        }
      ]
    },
    {
      "cell_type": "code",
      "source": [
        "str(567899)"
      ],
      "metadata": {
        "colab": {
          "base_uri": "https://localhost:8080/",
          "height": 35
        },
        "id": "v39_bTRqVEQB",
        "outputId": "47649167-a5bc-4fc9-bb04-a6bd0c2bbd21"
      },
      "execution_count": 14,
      "outputs": [
        {
          "output_type": "execute_result",
          "data": {
            "text/plain": [
              "'567899'"
            ],
            "application/vnd.google.colaboratory.intrinsic+json": {
              "type": "string"
            }
          },
          "metadata": {},
          "execution_count": 14
        }
      ]
    },
    {
      "cell_type": "code",
      "source": [
        "print('www', 'clarusway', \"com\", sep='.', end=' ')\n",
        "print('will', end=' ')\n",
        "print('open', end=' ')\n",
        "print('your', end=' ')\n",
        "print('path', end='.')"
      ],
      "metadata": {
        "colab": {
          "base_uri": "https://localhost:8080/"
        },
        "id": "4IyPvJDoV0LQ",
        "outputId": "5a500c4b-127b-4753-edc1-18da89f68d88"
      },
      "execution_count": 15,
      "outputs": [
        {
          "output_type": "stream",
          "name": "stdout",
          "text": [
            "www.clarusway.com will open your path."
          ]
        }
      ]
    },
    {
      "cell_type": "code",
      "source": [
        "word = \"Clarus\"\n",
        "word += \"\\tWay\"  # word = word + \"\\tWay\"\n",
        "print(word)"
      ],
      "metadata": {
        "colab": {
          "base_uri": "https://localhost:8080/"
        },
        "id": "J8A0vhCbWXf2",
        "outputId": "bc19571e-4476-4f19-ae09-a753fbdec993"
      },
      "execution_count": 17,
      "outputs": [
        {
          "output_type": "stream",
          "name": "stdout",
          "text": [
            "Clarus\tWay\n"
          ]
        }
      ]
    },
    {
      "cell_type": "code",
      "source": [
        "word = \"Chicago\"\n",
        "word[::-1] # start:stop:step"
      ],
      "metadata": {
        "colab": {
          "base_uri": "https://localhost:8080/",
          "height": 35
        },
        "id": "xuS3pf2EW4Fk",
        "outputId": "729b678b-48bd-4019-c5ed-9df484909d03"
      },
      "execution_count": 18,
      "outputs": [
        {
          "output_type": "execute_result",
          "data": {
            "text/plain": [
              "'ogacihC'"
            ],
            "application/vnd.google.colaboratory.intrinsic+json": {
              "type": "string"
            }
          },
          "metadata": {},
          "execution_count": 18
        }
      ]
    },
    {
      "cell_type": "code",
      "source": [
        "# en son karakteri almak için str[-1] yazılır\n",
        "word = \"Chicago\"\n",
        "word[-1]"
      ],
      "metadata": {
        "colab": {
          "base_uri": "https://localhost:8080/",
          "height": 35
        },
        "id": "dSStRXJKXK4f",
        "outputId": "d7943359-faf8-4974-c6e8-cd9b5b3d795b"
      },
      "execution_count": 19,
      "outputs": [
        {
          "output_type": "execute_result",
          "data": {
            "text/plain": [
              "'o'"
            ],
            "application/vnd.google.colaboratory.intrinsic+json": {
              "type": "string"
            }
          },
          "metadata": {},
          "execution_count": 19
        }
      ]
    },
    {
      "cell_type": "code",
      "source": [
        "nums = str(123456789)\n",
        "# en büyük 2. sayıyı nasıl elde ederiz?\n",
        "nums[-2]"
      ],
      "metadata": {
        "colab": {
          "base_uri": "https://localhost:8080/",
          "height": 35
        },
        "id": "M-7hAlcpXWNr",
        "outputId": "b463ae45-f18a-4aa6-d12a-f6a77260a955"
      },
      "execution_count": 20,
      "outputs": [
        {
          "output_type": "execute_result",
          "data": {
            "text/plain": [
              "'8'"
            ],
            "application/vnd.google.colaboratory.intrinsic+json": {
              "type": "string"
            }
          },
          "metadata": {},
          "execution_count": 20
        }
      ]
    },
    {
      "cell_type": "code",
      "source": [
        "fruit1 = \"Banana\"\n",
        "fruit2 = \"Peach\"\n",
        "print(2*fruit1 + \"+\" + 3*fruit2)"
      ],
      "metadata": {
        "colab": {
          "base_uri": "https://localhost:8080/"
        },
        "id": "RwVEU-LSYoHT",
        "outputId": "128d7936-c644-4098-9361-0b312451d188"
      },
      "execution_count": 23,
      "outputs": [
        {
          "output_type": "stream",
          "name": "stdout",
          "text": [
            "BananaBanana+PeachPeachPeach\n"
          ]
        }
      ]
    },
    {
      "cell_type": "code",
      "source": [
        "text = \"I love you {}.\"format(\"WAY\")"
      ],
      "metadata": {
        "colab": {
          "base_uri": "https://localhost:8080/",
          "height": 146
        },
        "id": "Ubbytf91aYFd",
        "outputId": "968ac7aa-def6-4289-c1ce-e51c38bca346"
      },
      "execution_count": 31,
      "outputs": [
        {
          "output_type": "error",
          "ename": "SyntaxError",
          "evalue": "ignored",
          "traceback": [
            "\u001b[0;36m  File \u001b[0;32m\"<ipython-input-31-1c0d4278b866>\"\u001b[0;36m, line \u001b[0;32m1\u001b[0m\n\u001b[0;31m    text = \"I love you {}.\"format(\"WAY\")\u001b[0m\n\u001b[0m                           ^\u001b[0m\n\u001b[0;31mSyntaxError\u001b[0m\u001b[0;31m:\u001b[0m invalid syntax\n"
          ]
        }
      ]
    },
    {
      "cell_type": "code",
      "source": [
        "veg = \"Onion\"\n",
        "print(\"I love {} and {veg}.\".format(\"Oneo\", veg=\"Apple\"))  # en güncel değer atanır"
      ],
      "metadata": {
        "colab": {
          "base_uri": "https://localhost:8080/"
        },
        "id": "5_VgX7hyfkTp",
        "outputId": "232f316a-b1b4-4fa0-af40-dc5e765361e5"
      },
      "execution_count": 32,
      "outputs": [
        {
          "output_type": "stream",
          "name": "stdout",
          "text": [
            "I love Oneo and Apple.\n"
          ]
        }
      ]
    },
    {
      "cell_type": "markdown",
      "source": [
        "**Stringler immutable veri tipleridir**\n"
      ],
      "metadata": {
        "id": "oDeAYZ2FUuFS"
      }
    },
    {
      "cell_type": "code",
      "execution_count": 43,
      "metadata": {
        "colab": {
          "base_uri": "https://localhost:8080/",
          "height": 234
        },
        "id": "UoutLqpXu8Te",
        "outputId": "69fa129b-b6fe-4ea4-f573-65c4b4ce91f1"
      },
      "outputs": [
        {
          "output_type": "error",
          "ename": "TypeError",
          "evalue": "ignored",
          "traceback": [
            "\u001b[0;31m---------------------------------------------------------------------------\u001b[0m",
            "\u001b[0;31mTypeError\u001b[0m                                 Traceback (most recent call last)",
            "\u001b[0;32m<ipython-input-43-1488269fb4b1>\u001b[0m in \u001b[0;36m<cell line: 5>\u001b[0;34m()\u001b[0m\n\u001b[1;32m      3\u001b[0m \"\"\"\n\u001b[1;32m      4\u001b[0m \u001b[0mtext\u001b[0m \u001b[0;34m=\u001b[0m \u001b[0;34m\"python\"\u001b[0m\u001b[0;34m\u001b[0m\u001b[0;34m\u001b[0m\u001b[0m\n\u001b[0;32m----> 5\u001b[0;31m \u001b[0mtext\u001b[0m\u001b[0;34m[\u001b[0m\u001b[0;36m1\u001b[0m\u001b[0;34m]\u001b[0m \u001b[0;34m=\u001b[0m \u001b[0;34m\"i\"\u001b[0m\u001b[0;34m\u001b[0m\u001b[0;34m\u001b[0m\u001b[0m\n\u001b[0m\u001b[1;32m      6\u001b[0m \u001b[0mprint\u001b[0m\u001b[0;34m(\u001b[0m\u001b[0mtext\u001b[0m\u001b[0;34m)\u001b[0m\u001b[0;34m\u001b[0m\u001b[0;34m\u001b[0m\u001b[0m\n",
            "\u001b[0;31mTypeError\u001b[0m: 'str' object does not support item assignment"
          ]
        }
      ],
      "source": [
        "\"\"\"\n",
        "Bir stringin herhangi bir karakterini doğrudan (indisler ile) değiştiremezsiniz\n",
        "\"\"\"\n",
        "text = \"python\"\n",
        "text[1] = \"i\"\n",
        "print(text)"
      ]
    },
    {
      "cell_type": "code",
      "source": [
        "text = \"python\"\n",
        "text = text[:1]+\"i\"+text[2:]\n",
        "print(text)"
      ],
      "metadata": {
        "colab": {
          "base_uri": "https://localhost:8080/"
        },
        "id": "3Z8Rh2iph4ak",
        "outputId": "d7134a19-da55-4c41-d8c2-3bc75dc63045"
      },
      "execution_count": 44,
      "outputs": [
        {
          "output_type": "stream",
          "name": "stdout",
          "text": [
            "pithon\n"
          ]
        }
      ]
    },
    {
      "cell_type": "markdown",
      "source": [
        "**String içerisine değişken değerleri farklı formatlarda yerleştirilebilir**"
      ],
      "metadata": {
        "id": "xYsljb1VQ-ml"
      }
    },
    {
      "cell_type": "code",
      "source": [
        "\"\"\" % operatörün işlevi\n",
        "%d: int\n",
        "%f: float\n",
        "%s: string\n",
        "\"\"\"\n",
        "text = \"Bir dalda %d kuş, %s %s diye öter, durur.\" % (3, 'cik', 'cik')\n",
        "print(text)"
      ],
      "metadata": {
        "colab": {
          "base_uri": "https://localhost:8080/"
        },
        "id": "nsEp_leAxjF5",
        "outputId": "1b7c3023-a264-42ef-9785-cfd40babbd54"
      },
      "execution_count": 6,
      "outputs": [
        {
          "output_type": "stream",
          "name": "stdout",
          "text": [
            "Bir dalda 3 kuş, cik cik diye öter, durur.\n"
          ]
        }
      ]
    },
    {
      "cell_type": "code",
      "source": [
        "text = \"Bir dalda {0} kuş, {1} {1} diye öter, durur.\".format(3, 'cik')\n",
        "print(text)"
      ],
      "metadata": {
        "colab": {
          "base_uri": "https://localhost:8080/"
        },
        "id": "DJuWgR1myTRK",
        "outputId": "72bce903-19f0-4762-c280-94a3f63808fd"
      },
      "execution_count": 9,
      "outputs": [
        {
          "output_type": "stream",
          "name": "stdout",
          "text": [
            "Bir dalda 3 kuş, cik cik diye öter, durur.\n"
          ]
        }
      ]
    },
    {
      "cell_type": "code",
      "source": [
        "text = \"Bir dalda {} kuş, {} {} diye öter, durur.\".format(3, 'cik', 'cik')\n",
        "print(text)"
      ],
      "metadata": {
        "colab": {
          "base_uri": "https://localhost:8080/"
        },
        "id": "wtrDi81jYBnS",
        "outputId": "f208dd8d-48cf-482d-aa2e-76c5aebdc0c8"
      },
      "execution_count": 22,
      "outputs": [
        {
          "output_type": "stream",
          "name": "stdout",
          "text": [
            "Bir dalda 3 kuş, cik cik diye öter, durur.\n"
          ]
        }
      ]
    },
    {
      "cell_type": "code",
      "source": [
        "adet = 3\n",
        "ses = \"cik\"\n",
        "text = f\"Bir dalda {adet} kuş, {ses} {ses} diye öter, durur.\"\n",
        "print(text)"
      ],
      "metadata": {
        "colab": {
          "base_uri": "https://localhost:8080/"
        },
        "id": "dVp1u11uyl-c",
        "outputId": "2f50cf1f-162c-4901-ecb2-9f6d03edb4b4"
      },
      "execution_count": 25,
      "outputs": [
        {
          "output_type": "stream",
          "name": "stdout",
          "text": [
            "Bir dalda 3 kuş, cik cik diye öter, durur.\n"
          ]
        }
      ]
    },
    {
      "cell_type": "code",
      "source": [
        "adet = 3\n",
        "ses = \" cik\"\n",
        "text = f\"Bir dalda {adet} kuş,{2*ses} diye öter, durur.\"\n",
        "print(text)"
      ],
      "metadata": {
        "colab": {
          "base_uri": "https://localhost:8080/"
        },
        "id": "PjeUEXEfZV7s",
        "outputId": "99f85704-a075-48a9-f813-de9e11f95edb"
      },
      "execution_count": 30,
      "outputs": [
        {
          "output_type": "stream",
          "name": "stdout",
          "text": [
            "Bir dalda 3 kuş, cik cik diye öter, durur.\n"
          ]
        }
      ]
    },
    {
      "cell_type": "code",
      "source": [
        "adet = int(input(\"Adet..: \"))\n",
        "ses = input(\"Kuş sesi.: \")\n",
        "text = f\"Bir dalda {adet} kuş, {ses} {ses} diye öter, durur.\"\n",
        "print(text)"
      ],
      "metadata": {
        "colab": {
          "base_uri": "https://localhost:8080/"
        },
        "id": "w8AdMNyiZGAY",
        "outputId": "853f6ac3-5a65-4337-95a7-a71619a10e6d"
      },
      "execution_count": 27,
      "outputs": [
        {
          "output_type": "stream",
          "name": "stdout",
          "text": [
            "Adet..: 3\n",
            "Kuş sesi.: cik\n",
            "Bir dalda 3 kuş, cik cik diye öter, durur.\n"
          ]
        }
      ]
    },
    {
      "cell_type": "code",
      "source": [
        "num = 3.145678\n",
        "print(\"PI Sayısı :%.2f\" %num)"
      ],
      "metadata": {
        "colab": {
          "base_uri": "https://localhost:8080/"
        },
        "id": "frkPhqfDzEmf",
        "outputId": "e5c25757-22c7-4a80-c980-3b0a844296bd"
      },
      "execution_count": null,
      "outputs": [
        {
          "output_type": "stream",
          "name": "stdout",
          "text": [
            "PI Sayısı :3.15\n"
          ]
        }
      ]
    },
    {
      "cell_type": "code",
      "source": [
        "num = 3.145678\n",
        "print(\"PI Sayısı :{:05.2f}\".format(num))"
      ],
      "metadata": {
        "colab": {
          "base_uri": "https://localhost:8080/"
        },
        "id": "mrGqKOhezMNK",
        "outputId": "4d25f51f-5497-488d-db4b-57081e9274cd"
      },
      "execution_count": null,
      "outputs": [
        {
          "output_type": "stream",
          "name": "stdout",
          "text": [
            "PI Sayısı :03.15\n"
          ]
        }
      ]
    },
    {
      "cell_type": "code",
      "source": [
        "num = 3.145678\n",
        "print(\"PI Sayısı :{:06.4f}\".format(num))"
      ],
      "metadata": {
        "colab": {
          "base_uri": "https://localhost:8080/"
        },
        "id": "dvkChkq3zshA",
        "outputId": "80423209-7bb3-402b-f89e-ee93b6651969"
      },
      "execution_count": null,
      "outputs": [
        {
          "output_type": "stream",
          "name": "stdout",
          "text": [
            "PI Sayısı :3.1457\n"
          ]
        }
      ]
    },
    {
      "cell_type": "code",
      "source": [
        "num = 3.145678\n",
        "print(f\"PI Sayısı : {num:.2f}\")"
      ],
      "metadata": {
        "colab": {
          "base_uri": "https://localhost:8080/"
        },
        "id": "L_JhLnpm2VuB",
        "outputId": "93682f75-5563-4f64-a180-7721a98a0385"
      },
      "execution_count": null,
      "outputs": [
        {
          "output_type": "stream",
          "name": "stdout",
          "text": [
            "PI Sayısı : 3.15\n"
          ]
        }
      ]
    },
    {
      "cell_type": "code",
      "source": [
        "num = 3.145678\n",
        "print(f\"PI Sayısı : {num:05.2f}\")"
      ],
      "metadata": {
        "colab": {
          "base_uri": "https://localhost:8080/"
        },
        "id": "EiVlLhbU2hK5",
        "outputId": "ebac0d45-caef-4337-fdb9-78f13cc39a70"
      },
      "execution_count": null,
      "outputs": [
        {
          "output_type": "stream",
          "name": "stdout",
          "text": [
            "PI Sayısı : 03.15\n"
          ]
        }
      ]
    },
    {
      "cell_type": "code",
      "source": [
        "num = 1_234_567_890\n",
        "print(f\"{num:,}\")\n",
        "print(\"{:,}\".format(num))"
      ],
      "metadata": {
        "colab": {
          "base_uri": "https://localhost:8080/"
        },
        "id": "-XCeE2Yr2nXl",
        "outputId": "eb8c4053-8b97-4841-b4a8-ee079ea84721"
      },
      "execution_count": null,
      "outputs": [
        {
          "output_type": "stream",
          "name": "stdout",
          "text": [
            "1,234,567,890\n",
            "1,234,567,890\n"
          ]
        }
      ]
    },
    {
      "cell_type": "markdown",
      "source": [
        "**stringler üzerinde indisleme ve dilimleme(slicing) işlemleri yapılabilir.**"
      ],
      "metadata": {
        "id": "w5KMHUYRRQFV"
      }
    },
    {
      "cell_type": "code",
      "source": [
        "text = \"bugün hava çok güzeldi.\"\n",
        "text[11:14]"
      ],
      "metadata": {
        "colab": {
          "base_uri": "https://localhost:8080/",
          "height": 35
        },
        "id": "dN-SCNVtwq11",
        "outputId": "c0a19961-11b1-4155-d78a-e7dc148d1af2"
      },
      "execution_count": 12,
      "outputs": [
        {
          "output_type": "execute_result",
          "data": {
            "text/plain": [
              "'çok'"
            ],
            "application/vnd.google.colaboratory.intrinsic+json": {
              "type": "string"
            }
          },
          "metadata": {},
          "execution_count": 12
        }
      ]
    },
    {
      "cell_type": "code",
      "source": [
        "text = \"Chicago\"\n",
        "text[-2:-6:-1]"
      ],
      "metadata": {
        "colab": {
          "base_uri": "https://localhost:8080/",
          "height": 35
        },
        "id": "kSbapT33btC5",
        "outputId": "6499973a-1869-4895-b9fc-01486ae51dc4"
      },
      "execution_count": 33,
      "outputs": [
        {
          "output_type": "execute_result",
          "data": {
            "text/plain": [
              "'gaci'"
            ],
            "application/vnd.google.colaboratory.intrinsic+json": {
              "type": "string"
            }
          },
          "metadata": {},
          "execution_count": 33
        }
      ]
    },
    {
      "cell_type": "code",
      "source": [
        "a = \"Hello, world!\"\n",
        "print(f\"{a} karakter sayısı.: {len(a)}\")"
      ],
      "metadata": {
        "colab": {
          "base_uri": "https://localhost:8080/"
        },
        "id": "Jg0kLy4pb-Oi",
        "outputId": "b0b8fd5d-535b-4590-d9e8-7a03b36b3ab7"
      },
      "execution_count": 36,
      "outputs": [
        {
          "output_type": "stream",
          "name": "stdout",
          "text": [
            "Hello, world! karakter sayısı.: 13\n"
          ]
        }
      ]
    },
    {
      "cell_type": "code",
      "source": [
        "x = \"1234\" + 5"
      ],
      "metadata": {
        "colab": {
          "base_uri": "https://localhost:8080/",
          "height": 181
        },
        "id": "rVQBnLyycziZ",
        "outputId": "f089fd95-c902-49c9-fcbf-3a91c1baefa4"
      },
      "execution_count": 37,
      "outputs": [
        {
          "output_type": "error",
          "ename": "TypeError",
          "evalue": "ignored",
          "traceback": [
            "\u001b[0;31m---------------------------------------------------------------------------\u001b[0m",
            "\u001b[0;31mTypeError\u001b[0m                                 Traceback (most recent call last)",
            "\u001b[0;32m<ipython-input-37-1b59d40ee308>\u001b[0m in \u001b[0;36m<cell line: 1>\u001b[0;34m()\u001b[0m\n\u001b[0;32m----> 1\u001b[0;31m \u001b[0mx\u001b[0m \u001b[0;34m=\u001b[0m \u001b[0;34m\"1234\"\u001b[0m \u001b[0;34m+\u001b[0m \u001b[0;36m5\u001b[0m\u001b[0;34m\u001b[0m\u001b[0;34m\u001b[0m\u001b[0m\n\u001b[0m",
            "\u001b[0;31mTypeError\u001b[0m: can only concatenate str (not \"int\") to str"
          ]
        }
      ]
    },
    {
      "cell_type": "code",
      "source": [
        "x = \"1234\" + str(5)\n",
        "print(x)"
      ],
      "metadata": {
        "colab": {
          "base_uri": "https://localhost:8080/"
        },
        "id": "_Yyeg1tec32I",
        "outputId": "7dd06d93-59ce-4635-d605-d6f0e56b074a"
      },
      "execution_count": 38,
      "outputs": [
        {
          "output_type": "stream",
          "name": "stdout",
          "text": [
            "12345\n"
          ]
        }
      ]
    },
    {
      "cell_type": "code",
      "source": [
        "s = \"foobar\""
      ],
      "metadata": {
        "id": "gjh-LKrEgnRX"
      },
      "execution_count": 39,
      "outputs": []
    },
    {
      "cell_type": "code",
      "source": [
        "s[::5]"
      ],
      "metadata": {
        "colab": {
          "base_uri": "https://localhost:8080/",
          "height": 35
        },
        "id": "6_DRPtGzgqEY",
        "outputId": "8c343fb1-4659-425f-bcce-243ae536bd45"
      },
      "execution_count": 40,
      "outputs": [
        {
          "output_type": "execute_result",
          "data": {
            "text/plain": [
              "'fr'"
            ],
            "application/vnd.google.colaboratory.intrinsic+json": {
              "type": "string"
            }
          },
          "metadata": {},
          "execution_count": 40
        }
      ]
    },
    {
      "cell_type": "code",
      "source": [
        "s[::-5]"
      ],
      "metadata": {
        "colab": {
          "base_uri": "https://localhost:8080/",
          "height": 35
        },
        "id": "dVDsQga6gw0J",
        "outputId": "c1ad73b6-45bf-44bf-aa04-993cd39ef09a"
      },
      "execution_count": 41,
      "outputs": [
        {
          "output_type": "execute_result",
          "data": {
            "text/plain": [
              "'rf'"
            ],
            "application/vnd.google.colaboratory.intrinsic+json": {
              "type": "string"
            }
          },
          "metadata": {},
          "execution_count": 41
        }
      ]
    },
    {
      "cell_type": "code",
      "source": [
        "# tersinin tersi kendisini verir\n",
        "s == s[::-1][::-1]"
      ],
      "metadata": {
        "colab": {
          "base_uri": "https://localhost:8080/"
        },
        "id": "WXLxxdSwg0yw",
        "outputId": "93f3fa1a-034c-458e-848c-6b441ccd5b4d"
      },
      "execution_count": 42,
      "outputs": [
        {
          "output_type": "execute_result",
          "data": {
            "text/plain": [
              "True"
            ]
          },
          "metadata": {},
          "execution_count": 42
        }
      ]
    },
    {
      "cell_type": "markdown",
      "source": [
        "#String Metotlar"
      ],
      "metadata": {
        "id": "0S34Nr6liQ2J"
      }
    },
    {
      "cell_type": "code",
      "source": [
        "print(dir(str))"
      ],
      "metadata": {
        "colab": {
          "base_uri": "https://localhost:8080/"
        },
        "id": "szJdppRtiTeu",
        "outputId": "d1c8cc21-171f-4599-ffe2-c1a3a35b88ca"
      },
      "execution_count": 45,
      "outputs": [
        {
          "output_type": "stream",
          "name": "stdout",
          "text": [
            "['__add__', '__class__', '__contains__', '__delattr__', '__dir__', '__doc__', '__eq__', '__format__', '__ge__', '__getattribute__', '__getitem__', '__getnewargs__', '__gt__', '__hash__', '__init__', '__init_subclass__', '__iter__', '__le__', '__len__', '__lt__', '__mod__', '__mul__', '__ne__', '__new__', '__reduce__', '__reduce_ex__', '__repr__', '__rmod__', '__rmul__', '__setattr__', '__sizeof__', '__str__', '__subclasshook__', 'capitalize', 'casefold', 'center', 'count', 'encode', 'endswith', 'expandtabs', 'find', 'format', 'format_map', 'index', 'isalnum', 'isalpha', 'isascii', 'isdecimal', 'isdigit', 'isidentifier', 'islower', 'isnumeric', 'isprintable', 'isspace', 'istitle', 'isupper', 'join', 'ljust', 'lower', 'lstrip', 'maketrans', 'partition', 'removeprefix', 'removesuffix', 'replace', 'rfind', 'rindex', 'rjust', 'rpartition', 'rsplit', 'rstrip', 'split', 'splitlines', 'startswith', 'strip', 'swapcase', 'title', 'translate', 'upper', 'zfill']\n"
          ]
        }
      ]
    },
    {
      "cell_type": "code",
      "source": [
        "help(str.replace)"
      ],
      "metadata": {
        "colab": {
          "base_uri": "https://localhost:8080/"
        },
        "id": "vfPt30zOimh1",
        "outputId": "af93da6e-9e70-4024-a77c-b36dc00aa973"
      },
      "execution_count": 47,
      "outputs": [
        {
          "output_type": "stream",
          "name": "stdout",
          "text": [
            "Help on method_descriptor:\n",
            "\n",
            "replace(self, old, new, count=-1, /)\n",
            "    Return a copy with all occurrences of substring old replaced by new.\n",
            "    \n",
            "      count\n",
            "        Maximum number of occurrences to replace.\n",
            "        -1 (the default value) means replace all occurrences.\n",
            "    \n",
            "    If the optional argument count is given, only the first count occurrences are\n",
            "    replaced.\n",
            "\n"
          ]
        }
      ]
    },
    {
      "cell_type": "code",
      "source": [
        "\"\"\"\n",
        "Bir stringin herhangi bir karakterini doğrudan (indisler ile) değiştiremezsiniz\n",
        "\"\"\"\n",
        "text = \"python\"\n",
        "text = text.replace('y','i')\n",
        "print(text)"
      ],
      "metadata": {
        "colab": {
          "base_uri": "https://localhost:8080/"
        },
        "id": "bTUflIDQid4_",
        "outputId": "2d351a16-c0f4-47dc-ffb6-44ffe53f9671"
      },
      "execution_count": 49,
      "outputs": [
        {
          "output_type": "stream",
          "name": "stdout",
          "text": [
            "pithon\n"
          ]
        }
      ]
    },
    {
      "cell_type": "code",
      "source": [
        "# string üzerinde değişiklik yapma\n",
        "#str.replace(old, new[, count])\n",
        "fruit = \"arange\"\n",
        "fruit = fruit.replace(\"a\", \"o\", 1)\n",
        "print(fruit)"
      ],
      "metadata": {
        "colab": {
          "base_uri": "https://localhost:8080/"
        },
        "id": "z7l2jsP7x6zD",
        "outputId": "598a2fd7-9131-4c86-c57b-ed95041f4f7b"
      },
      "execution_count": 82,
      "outputs": [
        {
          "output_type": "stream",
          "name": "stdout",
          "text": [
            "orange\n"
          ]
        }
      ]
    },
    {
      "cell_type": "code",
      "source": [
        "fruit = \"galatasaray\"\n",
        "fruit = fruit.replace(\"a\", \"e\", 2)\n",
        "print(fruit)"
      ],
      "metadata": {
        "colab": {
          "base_uri": "https://localhost:8080/"
        },
        "id": "yZG2LZNEyNfq",
        "outputId": "397234f8-985c-417f-8556-957c1c537362"
      },
      "execution_count": 84,
      "outputs": [
        {
          "output_type": "stream",
          "name": "stdout",
          "text": [
            "geletasaray\n"
          ]
        }
      ]
    },
    {
      "cell_type": "code",
      "source": [
        "fruit = \"galatasaray\"\n",
        "fruit = fruit[::-1].replace(\"a\", \"e\", 2)[::-1]\n",
        "print(fruit)"
      ],
      "metadata": {
        "colab": {
          "base_uri": "https://localhost:8080/"
        },
        "id": "id6Ve4ReyasV",
        "outputId": "339a851a-6007-405b-9706-bbcf6dfbf5fe"
      },
      "execution_count": 86,
      "outputs": [
        {
          "output_type": "stream",
          "name": "stdout",
          "text": [
            "galataserey\n"
          ]
        }
      ]
    },
    {
      "cell_type": "code",
      "source": [
        "fruit = \"galatasaray\"\n",
        "fruit = \"galata\" + fruit[6:].replace(\"a\", \"e\", 2)\n",
        "print(fruit)"
      ],
      "metadata": {
        "colab": {
          "base_uri": "https://localhost:8080/"
        },
        "id": "MzZIlUpfynXn",
        "outputId": "98b7821b-fc46-403a-c3d9-52b90fe81786"
      },
      "execution_count": 88,
      "outputs": [
        {
          "output_type": "stream",
          "name": "stdout",
          "text": [
            "galataserey\n"
          ]
        }
      ]
    },
    {
      "cell_type": "code",
      "source": [
        "#lower() : küçük harfe dönüştürür.\n",
        "var_str = \"ClarusWay\"\n",
        "print(var_str.lower())\n",
        "print(var_str)  # bir kalıcı değişiklik olmadı\n",
        "var_str = var_str.lower() # artık kalıcı değişiklik oldu\n",
        "print(var_str)"
      ],
      "metadata": {
        "colab": {
          "base_uri": "https://localhost:8080/"
        },
        "id": "NcaBbEtCjuVQ",
        "outputId": "4c70f1b5-cac3-451c-b0a5-21e6fdb48f08"
      },
      "execution_count": 51,
      "outputs": [
        {
          "output_type": "stream",
          "name": "stdout",
          "text": [
            "clarusway\n",
            "ClarusWay\n",
            "clarusway\n"
          ]
        }
      ]
    },
    {
      "cell_type": "code",
      "source": [
        "var_str = \"ClarusWay\"\n",
        "var_str.lower() # in-place (havada/yerinde) değişiklik yapar\n",
        "print(var_str)"
      ],
      "metadata": {
        "colab": {
          "base_uri": "https://localhost:8080/"
        },
        "id": "ZjqA53EOkmQz",
        "outputId": "f4ed7685-8504-43d6-beb8-fa97b3a73c17"
      },
      "execution_count": 52,
      "outputs": [
        {
          "output_type": "stream",
          "name": "stdout",
          "text": [
            "ClarusWay\n"
          ]
        }
      ]
    },
    {
      "cell_type": "code",
      "source": [
        "# upper() : büyük harfe dönüştürür\n",
        "var_str = \"ClarusWay\"\n",
        "print(var_str.upper())"
      ],
      "metadata": {
        "colab": {
          "base_uri": "https://localhost:8080/"
        },
        "id": "LvfvH18dkzIf",
        "outputId": "c4ea6a0b-bf67-4037-eebc-6609a8170325"
      },
      "execution_count": 53,
      "outputs": [
        {
          "output_type": "stream",
          "name": "stdout",
          "text": [
            "CLARUSWAY\n"
          ]
        }
      ]
    },
    {
      "cell_type": "code",
      "source": [
        "upper_str = var_str.upper()\n",
        "print(upper_str)"
      ],
      "metadata": {
        "colab": {
          "base_uri": "https://localhost:8080/"
        },
        "id": "Wc3BZAzrmBZn",
        "outputId": "068d2302-a58f-46ff-8df1-828c7ec3e8bb"
      },
      "execution_count": 54,
      "outputs": [
        {
          "output_type": "stream",
          "name": "stdout",
          "text": [
            "CLARUSWAY\n"
          ]
        }
      ]
    },
    {
      "cell_type": "code",
      "source": [
        "print(var_str)"
      ],
      "metadata": {
        "colab": {
          "base_uri": "https://localhost:8080/"
        },
        "id": "aXKH7b4XmLeX",
        "outputId": "5303e6ea-f8d1-45d8-dd66-3b671b1c1db7"
      },
      "execution_count": 55,
      "outputs": [
        {
          "output_type": "stream",
          "name": "stdout",
          "text": [
            "ClarusWay\n"
          ]
        }
      ]
    },
    {
      "cell_type": "code",
      "source": [
        "# in / not in : içinde mi ?(True) / içinde değil mi?(True)\n",
        "# bir email adresinin geçerli olup olmadığını test edelim\n",
        "email = \"bulent@clarusway.com\"\n",
        "print(\"@\" in email)"
      ],
      "metadata": {
        "colab": {
          "base_uri": "https://localhost:8080/"
        },
        "id": "eG1DoQ23mj3q",
        "outputId": "053cdb88-dd42-4e8a-d2a3-0fdb47c96b37"
      },
      "execution_count": 61,
      "outputs": [
        {
          "output_type": "stream",
          "name": "stdout",
          "text": [
            "True\n"
          ]
        }
      ]
    },
    {
      "cell_type": "code",
      "source": [
        "# kurumsal bir email adresinin geçerli olup olmadığını test edelim.\n",
        "print(\"@clarusway.com\" in email and \"geçerli\" or \"geçersiz\")"
      ],
      "metadata": {
        "colab": {
          "base_uri": "https://localhost:8080/"
        },
        "id": "9yf-1tkYnC70",
        "outputId": "d26e6013-9904-4ee4-ae3c-d884a7de2148"
      },
      "execution_count": 62,
      "outputs": [
        {
          "output_type": "stream",
          "name": "stdout",
          "text": [
            "geçerli\n"
          ]
        }
      ]
    },
    {
      "cell_type": "code",
      "source": [
        "email = \"bulent@clarusway.com\"\n",
        "print(\"@\" not in email)  # \"@\" karakteri email içerisinde yok mu?"
      ],
      "metadata": {
        "colab": {
          "base_uri": "https://localhost:8080/"
        },
        "id": "HHkEMN4JnkpS",
        "outputId": "5a9b97da-a999-4167-de5a-6f01c9f21c64"
      },
      "execution_count": 63,
      "outputs": [
        {
          "output_type": "stream",
          "name": "stdout",
          "text": [
            "False\n"
          ]
        }
      ]
    },
    {
      "cell_type": "code",
      "source": [
        "email = \"bulent@clarusway.com\"\n",
        "test = \"@\" not in email  # \"@\" karakteri email içerisinde yok mu?\n",
        "print(test)"
      ],
      "metadata": {
        "colab": {
          "base_uri": "https://localhost:8080/"
        },
        "id": "nKNvLXWTpofy",
        "outputId": "4f4646e5-cae5-45d2-8072-631dcfb389fc"
      },
      "execution_count": 71,
      "outputs": [
        {
          "output_type": "stream",
          "name": "stdout",
          "text": [
            "False\n"
          ]
        }
      ]
    },
    {
      "cell_type": "code",
      "source": [
        "text = 'www.clarusway.com'\n",
        "print(text.endswith('.com'))    # '.com' ile mi bitiyor?\n",
        "print(text.startswith('http:')) # \"http:\" ile mi başlıyor"
      ],
      "metadata": {
        "colab": {
          "base_uri": "https://localhost:8080/"
        },
        "id": "5MxHGqSloS0g",
        "outputId": "7791e62c-64b5-472a-932a-d8dc3391ed3e"
      },
      "execution_count": 65,
      "outputs": [
        {
          "output_type": "stream",
          "name": "stdout",
          "text": [
            "True\n",
            "False\n"
          ]
        }
      ]
    },
    {
      "cell_type": "code",
      "source": [
        "# Bir web sitesinin güvenli olup olmadığını test eden programı yazınız?\n",
        "url = \"https://colab.research.google.com\"\n",
        "print(url.startswith(\"https\") and \"güvenli\" or \"güvensiz\")"
      ],
      "metadata": {
        "colab": {
          "base_uri": "https://localhost:8080/"
        },
        "id": "HF8k1YNrofrk",
        "outputId": "ab0b9ebc-d16b-43ab-d14c-8f6114d16ca2"
      },
      "execution_count": 69,
      "outputs": [
        {
          "output_type": "stream",
          "name": "stdout",
          "text": [
            "güvenli\n"
          ]
        }
      ]
    },
    {
      "cell_type": "code",
      "source": [
        "text = 'www.clarusway.com'\n",
        "print(text.endswith('om'))      # 'om' ile mi bitiyor?\n",
        "print(text.startswith('w'))     # \"w\" ile mi başlıyor mu?"
      ],
      "metadata": {
        "colab": {
          "base_uri": "https://localhost:8080/"
        },
        "id": "_Sje7xxXpYHy",
        "outputId": "df15f01e-d852-436f-e5bb-f4dd74f340a6"
      },
      "execution_count": 70,
      "outputs": [
        {
          "output_type": "stream",
          "name": "stdout",
          "text": [
            "True\n",
            "True\n"
          ]
        }
      ]
    },
    {
      "cell_type": "code",
      "source": [
        "help(str.startswith)"
      ],
      "metadata": {
        "colab": {
          "base_uri": "https://localhost:8080/"
        },
        "id": "dgJyyrkLsgYa",
        "outputId": "38a56f01-f998-4a05-c6df-f07a526bff09"
      },
      "execution_count": 72,
      "outputs": [
        {
          "output_type": "stream",
          "name": "stdout",
          "text": [
            "Help on method_descriptor:\n",
            "\n",
            "startswith(...)\n",
            "    S.startswith(prefix[, start[, end]]) -> bool\n",
            "    \n",
            "    Return True if S starts with the specified prefix, False otherwise.\n",
            "    With optional start, test S beginning at that position.\n",
            "    With optional end, stop comparing S at that position.\n",
            "    prefix can also be a tuple of strings to try.\n",
            "\n"
          ]
        }
      ]
    },
    {
      "cell_type": "code",
      "source": [
        "email = \"clarusway@clarusway.com is my e-mail address\"\n",
        "print(email.startswith(\"@\", 9))\n",
        "print(email.endswith(\"-\", 10, 32))  # 31.indisli karakter '-' mi?"
      ],
      "metadata": {
        "colab": {
          "base_uri": "https://localhost:8080/"
        },
        "id": "aM4QTmFNtm5i",
        "outputId": "44cdecd2-a50b-4cfd-ee14-45ad6034be76"
      },
      "execution_count": 73,
      "outputs": [
        {
          "output_type": "stream",
          "name": "stdout",
          "text": [
            "True\n",
            "True\n"
          ]
        }
      ]
    },
    {
      "cell_type": "code",
      "source": [
        "print(email.endswith(\"-\",0, 32))  # 31.indisli karakter '-' mi?"
      ],
      "metadata": {
        "colab": {
          "base_uri": "https://localhost:8080/"
        },
        "id": "kUj60EDMuqfA",
        "outputId": "1988845c-4f0d-4991-d4aa-83a0ae1cbb53"
      },
      "execution_count": 75,
      "outputs": [
        {
          "output_type": "stream",
          "name": "stdout",
          "text": [
            "True\n"
          ]
        }
      ]
    },
    {
      "cell_type": "code",
      "source": [
        "print(\"-\" in email[10:32])  # 10-31.indis aralığında '-' karakteri var mı?"
      ],
      "metadata": {
        "colab": {
          "base_uri": "https://localhost:8080/"
        },
        "id": "GvbzCRPUt8RL",
        "outputId": "c1a394c8-21f1-4caf-f756-180f23731d90"
      },
      "execution_count": 74,
      "outputs": [
        {
          "output_type": "stream",
          "name": "stdout",
          "text": [
            "True\n"
          ]
        }
      ]
    },
    {
      "cell_type": "code",
      "source": [
        "text = 'www.clarusway.com'\n",
        "print(text.endswith('.co'))    # '.co' ile mi bitiyor?\n",
        "print(text.startswith('w.'))    # \"w.\" ile mi başlıyor"
      ],
      "metadata": {
        "colab": {
          "base_uri": "https://localhost:8080/"
        },
        "id": "JACZDR9avQDH",
        "outputId": "810e34a6-f65a-474d-aca2-90126a8e2f27"
      },
      "execution_count": 76,
      "outputs": [
        {
          "output_type": "stream",
          "name": "stdout",
          "text": [
            "False\n",
            "False\n"
          ]
        }
      ]
    },
    {
      "cell_type": "code",
      "source": [
        "text = \"To search patterns in a string there are two useful \\\n",
        "methods called startswith() and endswith() that \\\n",
        "search for the particular pattern in the immediate beginning or end of a string and \\\n",
        "return True if the expression is found. \"\n",
        "\n",
        "# Text(metin) içerisindeki kelime sayısını nasıl bulabilirim?\n",
        "text.count(\" \") # boşlukları sayabiliriz"
      ],
      "metadata": {
        "colab": {
          "base_uri": "https://localhost:8080/"
        },
        "id": "UIiRD98vv-wI",
        "outputId": "a4f32f2c-85fc-498d-ce40-b840f3e492c7"
      },
      "execution_count": 78,
      "outputs": [
        {
          "output_type": "execute_result",
          "data": {
            "text/plain": [
              "38"
            ]
          },
          "metadata": {},
          "execution_count": 78
        }
      ]
    },
    {
      "cell_type": "code",
      "source": [
        "print(f\"'{text}' in kelime sayısı.:\\n {text.count(' ')}\")"
      ],
      "metadata": {
        "colab": {
          "base_uri": "https://localhost:8080/"
        },
        "id": "8oBcJejDw3M_",
        "outputId": "8d3e6880-94f1-4ebc-ecde-9345df7b8bb9"
      },
      "execution_count": 80,
      "outputs": [
        {
          "output_type": "stream",
          "name": "stdout",
          "text": [
            "'To search patterns in a string there are two useful methods called startswith() and endswith() that search for the particular pattern in the immediate beginning or end of a string and return True if the expression is found. ' in kelime sayısı.:\n",
            " 38\n"
          ]
        }
      ]
    },
    {
      "cell_type": "code",
      "source": [
        "'Py' in 'Python'"
      ],
      "metadata": {
        "colab": {
          "base_uri": "https://localhost:8080/"
        },
        "id": "1YLmgDlCzNxg",
        "outputId": "011148dc-e976-4178-cee2-45a8240fa11b"
      },
      "execution_count": 89,
      "outputs": [
        {
          "output_type": "execute_result",
          "data": {
            "text/plain": [
              "True"
            ]
          },
          "metadata": {},
          "execution_count": 89
        }
      ]
    },
    {
      "cell_type": "code",
      "source": [
        "'Python'.find(\"Py\")  # 'Py' nin indisini döndürür."
      ],
      "metadata": {
        "colab": {
          "base_uri": "https://localhost:8080/"
        },
        "id": "-uMHP41qzPFv",
        "outputId": "83696926-5ff1-4477-8bc4-25203a1e1f89"
      },
      "execution_count": 90,
      "outputs": [
        {
          "output_type": "execute_result",
          "data": {
            "text/plain": [
              "0"
            ]
          },
          "metadata": {},
          "execution_count": 90
        }
      ]
    },
    {
      "cell_type": "code",
      "source": [
        "'Python'.index(\"Py\")  # 'Py' nin indisini döndürür."
      ],
      "metadata": {
        "colab": {
          "base_uri": "https://localhost:8080/"
        },
        "id": "99nuXIyRzanw",
        "outputId": "c8cc90d7-a08f-4360-db7d-a23c31aeb686"
      },
      "execution_count": 91,
      "outputs": [
        {
          "output_type": "execute_result",
          "data": {
            "text/plain": [
              "0"
            ]
          },
          "metadata": {},
          "execution_count": 91
        }
      ]
    },
    {
      "cell_type": "code",
      "source": [
        "'Python'.find(\"a\")  # 'a' nin indisini döndürür. yoksa -1 döndürür"
      ],
      "metadata": {
        "colab": {
          "base_uri": "https://localhost:8080/"
        },
        "id": "uV4--w30zeCq",
        "outputId": "dc0811c0-8026-47be-ee4b-a05933c5cb41"
      },
      "execution_count": 92,
      "outputs": [
        {
          "output_type": "execute_result",
          "data": {
            "text/plain": [
              "-1"
            ]
          },
          "metadata": {},
          "execution_count": 92
        }
      ]
    },
    {
      "cell_type": "code",
      "source": [
        "'Python'.index(\"a\")  # 'a' nin indisini döndürür. yoksa ValueErrror döndürür"
      ],
      "metadata": {
        "colab": {
          "base_uri": "https://localhost:8080/",
          "height": 181
        },
        "id": "kYvDzmWPzlTn",
        "outputId": "7371d45b-87cc-4bfb-9ee5-1f8e8e573e41"
      },
      "execution_count": 93,
      "outputs": [
        {
          "output_type": "error",
          "ename": "ValueError",
          "evalue": "ignored",
          "traceback": [
            "\u001b[0;31m---------------------------------------------------------------------------\u001b[0m",
            "\u001b[0;31mValueError\u001b[0m                                Traceback (most recent call last)",
            "\u001b[0;32m<ipython-input-93-69250d78f4bb>\u001b[0m in \u001b[0;36m<cell line: 1>\u001b[0;34m()\u001b[0m\n\u001b[0;32m----> 1\u001b[0;31m \u001b[0;34m'Python'\u001b[0m\u001b[0;34m.\u001b[0m\u001b[0mindex\u001b[0m\u001b[0;34m(\u001b[0m\u001b[0;34m\"a\"\u001b[0m\u001b[0;34m)\u001b[0m  \u001b[0;31m# 'a' nin indisini döndürür. yoksa -1 döndürür\u001b[0m\u001b[0;34m\u001b[0m\u001b[0;34m\u001b[0m\u001b[0m\n\u001b[0m",
            "\u001b[0;31mValueError\u001b[0m: substring not found"
          ]
        }
      ]
    },
    {
      "cell_type": "code",
      "source": [
        "\"galatasaray\".find(\"a\")  # soldan sağa arar, ilkinin indisini verir."
      ],
      "metadata": {
        "colab": {
          "base_uri": "https://localhost:8080/"
        },
        "id": "uU4qPOIEzrWp",
        "outputId": "30c09b2c-0841-4fe5-85fc-c26e95141914"
      },
      "execution_count": 94,
      "outputs": [
        {
          "output_type": "execute_result",
          "data": {
            "text/plain": [
              "1"
            ]
          },
          "metadata": {},
          "execution_count": 94
        }
      ]
    },
    {
      "cell_type": "code",
      "source": [
        "\"galatasaray\".rfind(\"a\") # sağdan sola arar, ilkinin indisini verir."
      ],
      "metadata": {
        "colab": {
          "base_uri": "https://localhost:8080/"
        },
        "id": "Sop0MH_7zyvT",
        "outputId": "5a3c01cd-35b5-4b38-f4cf-f27c8ae62161"
      },
      "execution_count": 95,
      "outputs": [
        {
          "output_type": "execute_result",
          "data": {
            "text/plain": [
              "9"
            ]
          },
          "metadata": {},
          "execution_count": 95
        }
      ]
    },
    {
      "cell_type": "code",
      "source": [
        "sentence = \"I live and work in Virginia\"\n",
        "print(sentence.upper())\n",
        "print(sentence.lower())\n",
        "print(sentence.swapcase())\n",
        "print(sentence)"
      ],
      "metadata": {
        "colab": {
          "base_uri": "https://localhost:8080/"
        },
        "id": "GDbWjaIT1GO8",
        "outputId": "074cb57a-d4cd-4adc-c488-db7d6a6ad5cc"
      },
      "execution_count": 96,
      "outputs": [
        {
          "output_type": "stream",
          "name": "stdout",
          "text": [
            "I LIVE AND WORK IN VIRGINIA\n",
            "i live and work in virginia\n",
            "i LIVE AND WORK IN vIRGINIA\n",
            "I live and work in Virginia\n"
          ]
        }
      ]
    },
    {
      "cell_type": "code",
      "source": [
        "sentence.upper().lower().swapcase()  # metotları peş peşe kullanabiliriz"
      ],
      "metadata": {
        "colab": {
          "base_uri": "https://localhost:8080/",
          "height": 35
        },
        "id": "VksDL-_O1oqj",
        "outputId": "56c75698-ecd6-47fd-9bf2-58b5c81a2f53"
      },
      "execution_count": 97,
      "outputs": [
        {
          "output_type": "execute_result",
          "data": {
            "text/plain": [
              "'I LIVE AND WORK IN VIRGINIA'"
            ],
            "application/vnd.google.colaboratory.intrinsic+json": {
              "type": "string"
            }
          },
          "metadata": {},
          "execution_count": 97
        }
      ]
    },
    {
      "cell_type": "code",
      "source": [
        "sentence.capitalize()  # ilk harf büyük kalanı küçük"
      ],
      "metadata": {
        "colab": {
          "base_uri": "https://localhost:8080/",
          "height": 35
        },
        "id": "1W2rUCdZ16z2",
        "outputId": "78d761bd-7a2d-40c8-ddc7-2e5cee6e2095"
      },
      "execution_count": 99,
      "outputs": [
        {
          "output_type": "execute_result",
          "data": {
            "text/plain": [
              "'I live and work in virginia'"
            ],
            "application/vnd.google.colaboratory.intrinsic+json": {
              "type": "string"
            }
          },
          "metadata": {},
          "execution_count": 99
        }
      ]
    },
    {
      "cell_type": "code",
      "source": [
        "sentence.capitalize().swapcase()  # metotları peş peşe kullanabiliriz"
      ],
      "metadata": {
        "colab": {
          "base_uri": "https://localhost:8080/",
          "height": 35
        },
        "id": "z9Y9xhr_1zcp",
        "outputId": "b4875410-0df1-4f48-d4b2-fb6cd7c8f910"
      },
      "execution_count": 98,
      "outputs": [
        {
          "output_type": "execute_result",
          "data": {
            "text/plain": [
              "'i LIVE AND WORK IN VIRGINIA'"
            ],
            "application/vnd.google.colaboratory.intrinsic+json": {
              "type": "string"
            }
          },
          "metadata": {},
          "execution_count": 98
        }
      ]
    },
    {
      "cell_type": "code",
      "source": [
        "sentence = \"I live and work in Virginia\"\n",
        "title_sentence = sentence.title()            # her kelimenin ilk harfini büyük yapar\n",
        "changed_sentence = sentence.replace('i','+') # i, + olarak değiştir.\n",
        "print(title_sentence)\n",
        "print(changed_sentence)\n",
        "print(sentence)\n"
      ],
      "metadata": {
        "colab": {
          "base_uri": "https://localhost:8080/"
        },
        "id": "Q0gIBI_w2k1M",
        "outputId": "e5be0bb0-04b6-4f8e-8934-d1785ed412e2"
      },
      "execution_count": 100,
      "outputs": [
        {
          "output_type": "stream",
          "name": "stdout",
          "text": [
            "I Live And Work In Virginia\n",
            "I l+ve and work +n V+rg+n+a\n",
            "I live and work in Virginia\n"
          ]
        }
      ]
    },
    {
      "cell_type": "code",
      "source": [
        "text = \"the better the family\"\n",
        "# her bir kelimenin ilk harfini nasıl uppercase yaparız?\n",
        "print(text.title())"
      ],
      "metadata": {
        "colab": {
          "base_uri": "https://localhost:8080/"
        },
        "id": "ro0OXUqo5u8Y",
        "outputId": "525eca10-76d6-4bf7-d7f8-d0cf93e444d6"
      },
      "execution_count": 101,
      "outputs": [
        {
          "output_type": "stream",
          "name": "stdout",
          "text": [
            "The Better The Family\n"
          ]
        }
      ]
    },
    {
      "cell_type": "code",
      "source": [
        "sentence = \"I live and work in Virginia\"\n",
        "sentence.swapcase()"
      ],
      "metadata": {
        "colab": {
          "base_uri": "https://localhost:8080/",
          "height": 35
        },
        "id": "vA4nWQGP6JXO",
        "outputId": "7f383f95-4622-4aad-d36c-5c9d9131381f"
      },
      "execution_count": 102,
      "outputs": [
        {
          "output_type": "execute_result",
          "data": {
            "text/plain": [
              "'i LIVE AND WORK IN vIRGINIA'"
            ],
            "application/vnd.google.colaboratory.intrinsic+json": {
              "type": "string"
            }
          },
          "metadata": {},
          "execution_count": 102
        }
      ]
    },
    {
      "cell_type": "code",
      "source": [
        "sentence.capitalize()"
      ],
      "metadata": {
        "colab": {
          "base_uri": "https://localhost:8080/",
          "height": 35
        },
        "id": "YcQEJvPT6Ote",
        "outputId": "ce64d17d-32f2-4735-cc30-2994fe740181"
      },
      "execution_count": 103,
      "outputs": [
        {
          "output_type": "execute_result",
          "data": {
            "text/plain": [
              "'I live and work in virginia'"
            ],
            "application/vnd.google.colaboratory.intrinsic+json": {
              "type": "string"
            }
          },
          "metadata": {},
          "execution_count": 103
        }
      ]
    },
    {
      "cell_type": "code",
      "source": [
        "text = \"S0d0me and G0m0re\"\n",
        "# 0 ları 'o' nasıl yaparız\n",
        "text = text.replace('0','o')\n",
        "print(text)"
      ],
      "metadata": {
        "colab": {
          "base_uri": "https://localhost:8080/"
        },
        "id": "tKBnj8606ZYw",
        "outputId": "0cff6513-c653-42fc-b998-8bf58c40b147"
      },
      "execution_count": 105,
      "outputs": [
        {
          "output_type": "stream",
          "name": "stdout",
          "text": [
            "Sodome and Gomore\n"
          ]
        }
      ]
    },
    {
      "cell_type": "code",
      "source": [
        "'   spacious   '.strip()"
      ],
      "metadata": {
        "colab": {
          "base_uri": "https://localhost:8080/",
          "height": 35
        },
        "id": "_NmrrXI_7BjK",
        "outputId": "5f7b5c5b-a2ee-48b0-bec2-a4a87dd899d6"
      },
      "execution_count": 107,
      "outputs": [
        {
          "output_type": "execute_result",
          "data": {
            "text/plain": [
              "'spacious'"
            ],
            "application/vnd.google.colaboratory.intrinsic+json": {
              "type": "string"
            }
          },
          "metadata": {},
          "execution_count": 107
        }
      ]
    },
    {
      "cell_type": "code",
      "source": [
        "'   spacious   '.rstrip()"
      ],
      "metadata": {
        "colab": {
          "base_uri": "https://localhost:8080/",
          "height": 35
        },
        "id": "skfHNbT57EPO",
        "outputId": "3bd942e5-5ca7-42fb-abdd-d9b88eefaa48"
      },
      "execution_count": 108,
      "outputs": [
        {
          "output_type": "execute_result",
          "data": {
            "text/plain": [
              "'   spacious'"
            ],
            "application/vnd.google.colaboratory.intrinsic+json": {
              "type": "string"
            }
          },
          "metadata": {},
          "execution_count": 108
        }
      ]
    },
    {
      "cell_type": "code",
      "source": [
        "'   spacious   '.lstrip()"
      ],
      "metadata": {
        "colab": {
          "base_uri": "https://localhost:8080/",
          "height": 35
        },
        "id": "Ddkais4n7Huj",
        "outputId": "c8ffae17-aa55-4cb9-e195-04591d4702e2"
      },
      "execution_count": 109,
      "outputs": [
        {
          "output_type": "execute_result",
          "data": {
            "text/plain": [
              "'spacious   '"
            ],
            "application/vnd.google.colaboratory.intrinsic+json": {
              "type": "string"
            }
          },
          "metadata": {},
          "execution_count": 109
        }
      ]
    },
    {
      "cell_type": "code",
      "source": [
        "'www.example.com'.strip('cmow.')\n",
        "# belli karakterleri metinden kaldırır."
      ],
      "metadata": {
        "colab": {
          "base_uri": "https://localhost:8080/",
          "height": 35
        },
        "id": "FhJxPaoT7LQz",
        "outputId": "f1e2b164-fa8b-4296-f4ab-75f762402b5e"
      },
      "execution_count": 111,
      "outputs": [
        {
          "output_type": "execute_result",
          "data": {
            "text/plain": [
              "'example'"
            ],
            "application/vnd.google.colaboratory.intrinsic+json": {
              "type": "string"
            }
          },
          "metadata": {},
          "execution_count": 111
        }
      ]
    },
    {
      "cell_type": "code",
      "source": [
        "text = \"interoperability\"\n",
        "print(text.strip(\"iy\"))"
      ],
      "metadata": {
        "colab": {
          "base_uri": "https://localhost:8080/"
        },
        "id": "Tdt_zg7072gB",
        "outputId": "0a398424-5f93-44b4-89fe-bb22a3287d2e"
      },
      "execution_count": 112,
      "outputs": [
        {
          "output_type": "stream",
          "name": "stdout",
          "text": [
            "nteroperabilit\n"
          ]
        }
      ]
    },
    {
      "cell_type": "code",
      "source": [
        "text = \"interoperability\"\n",
        "print(text.strip(\"iyt\"))"
      ],
      "metadata": {
        "colab": {
          "base_uri": "https://localhost:8080/"
        },
        "id": "ONys3n7Q75ep",
        "outputId": "717cb7ba-c8c1-484e-956d-fa89595d1013"
      },
      "execution_count": 114,
      "outputs": [
        {
          "output_type": "stream",
          "name": "stdout",
          "text": [
            "nteroperabil\n"
          ]
        }
      ]
    },
    {
      "cell_type": "code",
      "source": [
        "text = \"interoperability\"\n",
        "print(text.lstrip(\"iyt\"))"
      ],
      "metadata": {
        "colab": {
          "base_uri": "https://localhost:8080/"
        },
        "id": "ig-9wjFV8MgG",
        "outputId": "abd444bc-9fbe-4a43-f052-9aafe5123e9a"
      },
      "execution_count": 115,
      "outputs": [
        {
          "output_type": "stream",
          "name": "stdout",
          "text": [
            "nteroperability\n"
          ]
        }
      ]
    },
    {
      "cell_type": "code",
      "source": [
        "text = \"interoperability\"\n",
        "print(text.rstrip(\"iyt\"))"
      ],
      "metadata": {
        "colab": {
          "base_uri": "https://localhost:8080/"
        },
        "id": "e7G6ixeQ8P-a",
        "outputId": "5552ded7-369a-43de-c485-ae4d371f2881"
      },
      "execution_count": 116,
      "outputs": [
        {
          "output_type": "stream",
          "name": "stdout",
          "text": [
            "interoperabil\n"
          ]
        }
      ]
    },
    {
      "cell_type": "code",
      "source": [
        "text = 'tyou can learn almost everything in pre-classz'"
      ],
      "metadata": {
        "id": "GtlVLGaw9ExQ"
      },
      "execution_count": 117,
      "outputs": []
    },
    {
      "cell_type": "code",
      "source": [
        "print(text.rstrip('z').lstrip('t').upper())  #Tuğçe hanımın çözümü"
      ],
      "metadata": {
        "colab": {
          "base_uri": "https://localhost:8080/"
        },
        "id": "02WjtbEk9HJl",
        "outputId": "9433b96d-8103-40c8-8a2b-3b2b4ced4b67"
      },
      "execution_count": 121,
      "outputs": [
        {
          "output_type": "stream",
          "name": "stdout",
          "text": [
            "YOU CAN LEARN ALMOST EVERYTHING IN PRE-CLASS\n"
          ]
        }
      ]
    },
    {
      "cell_type": "code",
      "source": [
        "print(text.strip(\"zt\").upper()) #Nurdan hanımın çözümü"
      ],
      "metadata": {
        "colab": {
          "base_uri": "https://localhost:8080/"
        },
        "id": "5KXHA9LL9gF1",
        "outputId": "3c710067-5a89-4d2b-ff28-2c7bffeee0d4"
      },
      "execution_count": 123,
      "outputs": [
        {
          "output_type": "stream",
          "name": "stdout",
          "text": [
            "YOU CAN LEARN ALMOST EVERYTHING IN PRE-CLASS\n"
          ]
        }
      ]
    },
    {
      "cell_type": "code",
      "source": [
        "text = \"In God wee Trust\"\n",
        "text1 = text[:9] + text[10:]\n",
        "print(text1)   # Tuğçe hanımın çözümü"
      ],
      "metadata": {
        "colab": {
          "base_uri": "https://localhost:8080/"
        },
        "id": "y5rVg-yh-ZPu",
        "outputId": "349f454e-512a-4bc5-ff28-1e4715deac72"
      },
      "execution_count": 124,
      "outputs": [
        {
          "output_type": "stream",
          "name": "stdout",
          "text": [
            "In God we Trust\n"
          ]
        }
      ]
    },
    {
      "cell_type": "code",
      "source": [
        "new_text= text.replace('wee', 'we')\n",
        "print(new_text) #Damla hanımın çözümü"
      ],
      "metadata": {
        "colab": {
          "base_uri": "https://localhost:8080/"
        },
        "id": "K8hWzYAP-jFj",
        "outputId": "a804861e-baf0-4c45-edb8-e7cd99890631"
      },
      "execution_count": 125,
      "outputs": [
        {
          "output_type": "stream",
          "name": "stdout",
          "text": [
            "In God we Trust\n"
          ]
        }
      ]
    },
    {
      "cell_type": "code",
      "source": [
        "print(text.replace(\"e\",\"\", 1)) #HasanS beyin çözümü"
      ],
      "metadata": {
        "colab": {
          "base_uri": "https://localhost:8080/"
        },
        "id": "x07jmw7C-sMv",
        "outputId": "a1601795-2b02-4626-df54-26c91697d3e5"
      },
      "execution_count": 131,
      "outputs": [
        {
          "output_type": "stream",
          "name": "stdout",
          "text": [
            "In God we Trust\n"
          ]
        }
      ]
    },
    {
      "cell_type": "code",
      "source": [
        "print(text.replace(\"ee\",\"e\")) #HasanD beyin çözümü"
      ],
      "metadata": {
        "colab": {
          "base_uri": "https://localhost:8080/"
        },
        "id": "A7HNJDGy-ysW",
        "outputId": "abb37898-1f09-43f4-be23-774d9130d3b8"
      },
      "execution_count": 127,
      "outputs": [
        {
          "output_type": "stream",
          "name": "stdout",
          "text": [
            "In God we Trust\n"
          ]
        }
      ]
    },
    {
      "cell_type": "code",
      "source": [
        "'1,2,3'.split(',')  # listeye dönüştürür"
      ],
      "metadata": {
        "colab": {
          "base_uri": "https://localhost:8080/"
        },
        "id": "9q7IvbLn_gnj",
        "outputId": "4141fbb8-c937-4a6a-858f-de9089b74e5c"
      },
      "execution_count": 133,
      "outputs": [
        {
          "output_type": "execute_result",
          "data": {
            "text/plain": [
              "['1', '2', '3']"
            ]
          },
          "metadata": {},
          "execution_count": 133
        }
      ]
    },
    {
      "cell_type": "code",
      "source": [
        "# tersi : str.join(iterable) ile stringe dönüştürdük\n",
        "\",\".join(['1', '2', '3'])"
      ],
      "metadata": {
        "colab": {
          "base_uri": "https://localhost:8080/",
          "height": 35
        },
        "id": "lTS8swmtAyyY",
        "outputId": "9af1525f-6c4f-40df-95cc-089da7949dc3"
      },
      "execution_count": 147,
      "outputs": [
        {
          "output_type": "execute_result",
          "data": {
            "text/plain": [
              "'1,2,3'"
            ],
            "application/vnd.google.colaboratory.intrinsic+json": {
              "type": "string"
            }
          },
          "metadata": {},
          "execution_count": 147
        }
      ]
    },
    {
      "cell_type": "code",
      "source": [
        "!python3 --version"
      ],
      "metadata": {
        "colab": {
          "base_uri": "https://localhost:8080/"
        },
        "id": "o4dTUp1i_0Y0",
        "outputId": "81e2e384-39a8-48cb-e56d-d4b8e09e1320"
      },
      "execution_count": 134,
      "outputs": [
        {
          "output_type": "stream",
          "name": "stdout",
          "text": [
            "Python 3.10.12\n"
          ]
        }
      ]
    },
    {
      "cell_type": "code",
      "source": [
        "'TestTook'.removeprefix('Test')"
      ],
      "metadata": {
        "colab": {
          "base_uri": "https://localhost:8080/",
          "height": 35
        },
        "id": "tX9KXsxd_7_t",
        "outputId": "6a68600b-badb-4429-fc08-f1d88f7720c6"
      },
      "execution_count": 136,
      "outputs": [
        {
          "output_type": "execute_result",
          "data": {
            "text/plain": [
              "'Took'"
            ],
            "application/vnd.google.colaboratory.intrinsic+json": {
              "type": "string"
            }
          },
          "metadata": {},
          "execution_count": 136
        }
      ]
    },
    {
      "cell_type": "code",
      "source": [
        "'TestTook'.strip('Test')"
      ],
      "metadata": {
        "colab": {
          "base_uri": "https://localhost:8080/",
          "height": 35
        },
        "id": "IzHA8bqJABpJ",
        "outputId": "7a540c59-7c04-4f99-8fdc-deedb2841b9e"
      },
      "execution_count": 137,
      "outputs": [
        {
          "output_type": "execute_result",
          "data": {
            "text/plain": [
              "'ook'"
            ],
            "application/vnd.google.colaboratory.intrinsic+json": {
              "type": "string"
            }
          },
          "metadata": {},
          "execution_count": 137
        }
      ]
    },
    {
      "cell_type": "code",
      "source": [
        "'TestsMiscTests'.removesuffix('Tests')"
      ],
      "metadata": {
        "colab": {
          "base_uri": "https://localhost:8080/",
          "height": 35
        },
        "id": "_MpFbxNCAKaB",
        "outputId": "b925f252-bcac-4ea0-ecd1-5ab5b7faa5fb"
      },
      "execution_count": 139,
      "outputs": [
        {
          "output_type": "execute_result",
          "data": {
            "text/plain": [
              "'TestsMisc'"
            ],
            "application/vnd.google.colaboratory.intrinsic+json": {
              "type": "string"
            }
          },
          "metadata": {},
          "execution_count": 139
        }
      ]
    },
    {
      "cell_type": "code",
      "source": [
        "'TestsMiscTests'.rstrip('Tests')"
      ],
      "metadata": {
        "colab": {
          "base_uri": "https://localhost:8080/",
          "height": 35
        },
        "id": "lFs56sJ6APMg",
        "outputId": "4f84548f-0525-4084-b8bb-dcf14b7edf4a"
      },
      "execution_count": 140,
      "outputs": [
        {
          "output_type": "execute_result",
          "data": {
            "text/plain": [
              "'TestsMisc'"
            ],
            "application/vnd.google.colaboratory.intrinsic+json": {
              "type": "string"
            }
          },
          "metadata": {},
          "execution_count": 140
        }
      ]
    },
    {
      "cell_type": "code",
      "source": [
        "'TmpDirMixs'.removesuffix('Tests')"
      ],
      "metadata": {
        "colab": {
          "base_uri": "https://localhost:8080/",
          "height": 35
        },
        "id": "q5JFulxrAbtq",
        "outputId": "b4f7c2fd-8076-4202-9989-292b2bfbcca4"
      },
      "execution_count": 144,
      "outputs": [
        {
          "output_type": "execute_result",
          "data": {
            "text/plain": [
              "'TmpDirMixs'"
            ],
            "application/vnd.google.colaboratory.intrinsic+json": {
              "type": "string"
            }
          },
          "metadata": {},
          "execution_count": 144
        }
      ]
    },
    {
      "cell_type": "code",
      "source": [
        "'TmpDirMixs'.strip('Tests')"
      ],
      "metadata": {
        "colab": {
          "base_uri": "https://localhost:8080/",
          "height": 35
        },
        "id": "rQ79ymwvAeP5",
        "outputId": "527b466e-97d3-4bb1-864c-7e7312baa31b"
      },
      "execution_count": 145,
      "outputs": [
        {
          "output_type": "execute_result",
          "data": {
            "text/plain": [
              "'mpDirMix'"
            ],
            "application/vnd.google.colaboratory.intrinsic+json": {
              "type": "string"
            }
          },
          "metadata": {},
          "execution_count": 145
        }
      ]
    },
    {
      "cell_type": "code",
      "source": [
        "print(\"TestTook\".rstrip(\"Testk\"))"
      ],
      "metadata": {
        "colab": {
          "base_uri": "https://localhost:8080/"
        },
        "id": "Qxwui6HgCQ8z",
        "outputId": "b5aa19c4-bbc5-4b63-f38a-5bf6723465f4"
      },
      "execution_count": 157,
      "outputs": [
        {
          "output_type": "stream",
          "name": "stdout",
          "text": [
            "TestToo\n"
          ]
        }
      ]
    },
    {
      "cell_type": "code",
      "source": [
        "print(\"TestTook\".lstrip(\"estk\"))  # küçük harf ile büyük harfler farklı harfler olarak algılanır..."
      ],
      "metadata": {
        "colab": {
          "base_uri": "https://localhost:8080/"
        },
        "id": "DdPabUrkC0sJ",
        "outputId": "6a0f5afd-c15c-423a-fcdc-50bb22d61dac"
      },
      "execution_count": 159,
      "outputs": [
        {
          "output_type": "stream",
          "name": "stdout",
          "text": [
            "TestTook\n"
          ]
        }
      ]
    },
    {
      "cell_type": "code",
      "source": [
        "# is ile başlayan metotlar True/False döndürür?\n",
        "text = \"BANANA\"\n",
        "text.isupper()  # büyük harf mi?"
      ],
      "metadata": {
        "colab": {
          "base_uri": "https://localhost:8080/"
        },
        "id": "4RCCxb05BUG_",
        "outputId": "b254c1a2-425a-4e5f-a4e8-c0cc0de61380"
      },
      "execution_count": 148,
      "outputs": [
        {
          "output_type": "execute_result",
          "data": {
            "text/plain": [
              "True"
            ]
          },
          "metadata": {},
          "execution_count": 148
        }
      ]
    },
    {
      "cell_type": "code",
      "source": [
        "text = \"Banana\"\n",
        "text.isupper()  # büyük harf mi?"
      ],
      "metadata": {
        "colab": {
          "base_uri": "https://localhost:8080/"
        },
        "id": "XOqwFY7xBisT",
        "outputId": "2b8aa0ac-1aed-425a-b119-7bbeb124af2c"
      },
      "execution_count": 149,
      "outputs": [
        {
          "output_type": "execute_result",
          "data": {
            "text/plain": [
              "False"
            ]
          },
          "metadata": {},
          "execution_count": 149
        }
      ]
    },
    {
      "cell_type": "code",
      "source": [
        "text = \"Banana\"\n",
        "text.istitle()  # ilk harf büyük mi?"
      ],
      "metadata": {
        "colab": {
          "base_uri": "https://localhost:8080/"
        },
        "id": "yx12XfPTBsvt",
        "outputId": "d3baf2c3-35ea-4719-9d7a-a1dcd6f9a8fd"
      },
      "execution_count": 150,
      "outputs": [
        {
          "output_type": "execute_result",
          "data": {
            "text/plain": [
              "True"
            ]
          },
          "metadata": {},
          "execution_count": 150
        }
      ]
    },
    {
      "cell_type": "code",
      "source": [
        "'ß'.casefold()"
      ],
      "metadata": {
        "colab": {
          "base_uri": "https://localhost:8080/",
          "height": 35
        },
        "id": "j-3aQJwGB4BI",
        "outputId": "3192ccf5-f7ba-4926-da23-8cce6f1b8134"
      },
      "execution_count": 151,
      "outputs": [
        {
          "output_type": "execute_result",
          "data": {
            "text/plain": [
              "'ss'"
            ],
            "application/vnd.google.colaboratory.intrinsic+json": {
              "type": "string"
            }
          },
          "metadata": {},
          "execution_count": 151
        }
      ]
    },
    {
      "cell_type": "code",
      "source": [
        "'ß'.lower()"
      ],
      "metadata": {
        "colab": {
          "base_uri": "https://localhost:8080/",
          "height": 35
        },
        "id": "Cmj_F_01B_l1",
        "outputId": "c53917a3-0e27-49df-edaa-950ee6bf57dc"
      },
      "execution_count": 152,
      "outputs": [
        {
          "output_type": "execute_result",
          "data": {
            "text/plain": [
              "'ß'"
            ],
            "application/vnd.google.colaboratory.intrinsic+json": {
              "type": "string"
            }
          },
          "metadata": {},
          "execution_count": 152
        }
      ]
    },
    {
      "cell_type": "code",
      "source": [
        "# detaylar:https://docs.python.org/3/library/stdtypes.html#str.casefold"
      ],
      "metadata": {
        "id": "VkxS49_oCGtZ"
      },
      "execution_count": null,
      "outputs": []
    }
  ]
}