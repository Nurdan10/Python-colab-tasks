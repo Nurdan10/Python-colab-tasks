{
  "nbformat": 4,
  "nbformat_minor": 0,
  "metadata": {
    "colab": {
      "private_outputs": true,
      "provenance": []
    },
    "kernelspec": {
      "name": "python3",
      "display_name": "Python 3"
    },
    "language_info": {
      "name": "python"
    }
  },
  "cells": [
    {
      "cell_type": "markdown",
      "source": [
        "# Kahoot Çözümleri"
      ],
      "metadata": {
        "id": "UhDRV-wUbrg_"
      }
    },
    {
      "cell_type": "code",
      "execution_count": null,
      "metadata": {
        "id": "yrFoIsyGbieW"
      },
      "outputs": [],
      "source": [
        "if (): # içi boş ise False\n",
        "    print(\"foo\")\n",
        "else:\n",
        "    print(\"baz\")"
      ]
    },
    {
      "cell_type": "code",
      "source": [
        "if \"()\": # içi dolu ise True\n",
        "    print(\"foo\")\n",
        "else:\n",
        "    print(\"baz\")"
      ],
      "metadata": {
        "id": "C8mHnHVdhIBw"
      },
      "execution_count": null,
      "outputs": []
    },
    {
      "cell_type": "code",
      "source": [
        "condition = (3>1) and (-5<1)\n",
        "if condition:\n",
        "    print(\"True: It is works\")\n",
        "else:\n",
        "    print(\"False ise else çalışır\")"
      ],
      "metadata": {
        "id": "vIQrBpAzhweS"
      },
      "execution_count": null,
      "outputs": []
    },
    {
      "cell_type": "code",
      "source": [
        "condition = (3>1) and (-5<1)\n",
        "if not condition:\n",
        "    print(\"True: It is works\")\n",
        "else:\n",
        "    print(\"False ise else çalışır\")"
      ],
      "metadata": {
        "id": "z2iNHKCgia4r"
      },
      "execution_count": null,
      "outputs": []
    },
    {
      "cell_type": "code",
      "source": [
        "if (1, 2): print('foo')"
      ],
      "metadata": {
        "id": "dIjS5X5Bi0GP"
      },
      "execution_count": null,
      "outputs": []
    },
    {
      "cell_type": "code",
      "source": [
        "if (1, 2):\n",
        "    print('foo')"
      ],
      "metadata": {
        "id": "PgXb-CJTi7Oo"
      },
      "execution_count": null,
      "outputs": []
    },
    {
      "cell_type": "code",
      "source": [
        "if (1, 2):\n",
        "print('foo')"
      ],
      "metadata": {
        "id": "J9cYGOY9i_dI"
      },
      "execution_count": null,
      "outputs": []
    },
    {
      "cell_type": "code",
      "source": [
        "print(\"foo\") if \"()\" else print(\"baz\")"
      ],
      "metadata": {
        "id": "aoDvZ0jojEOm"
      },
      "execution_count": null,
      "outputs": []
    },
    {
      "cell_type": "code",
      "source": [
        "text = (\"foo\" if \"()\" else \"baz\")\n",
        "print(text)"
      ],
      "metadata": {
        "id": "opbyYimwtrJb"
      },
      "execution_count": null,
      "outputs": []
    },
    {
      "cell_type": "code",
      "source": [
        "condition = (3>1) and (1<1)\n",
        "if not condition:\n",
        "    print(\"True: It is works\")\n",
        "else:\n",
        "    print(\"False ise else çalışır\")"
      ],
      "metadata": {
        "id": "88tipKGOjxXi"
      },
      "execution_count": null,
      "outputs": []
    },
    {
      "cell_type": "code",
      "source": [
        "\"2200\" <= 2200"
      ],
      "metadata": {
        "id": "9mI6GpigkdHG"
      },
      "execution_count": null,
      "outputs": []
    },
    {
      "cell_type": "code",
      "source": [
        "\"2200\" <= \"2200\"  # < or =="
      ],
      "metadata": {
        "id": "Z2tBK9iJk0nf"
      },
      "execution_count": null,
      "outputs": []
    },
    {
      "cell_type": "code",
      "source": [
        "\"2100\" <= \"2200\" # ascii kod tablosuna bakarak karar verir"
      ],
      "metadata": {
        "id": "mClDEw0jlCGD"
      },
      "execution_count": null,
      "outputs": []
    },
    {
      "cell_type": "code",
      "source": [
        "\"2500\" <= \"2200\""
      ],
      "metadata": {
        "id": "ot0ouqhslH77"
      },
      "execution_count": null,
      "outputs": []
    },
    {
      "cell_type": "code",
      "source": [
        "if \"bar\" in {\"foo\":1, \"bar\":2, \"qux\":3}:  # \"bar\" key'ler arasında mı?\n",
        "    print(1)\n",
        "    print(2)\n",
        "    if 'a' in \"qux\":\n",
        "        print(3)\n",
        "print(4)"
      ],
      "metadata": {
        "id": "m9dgheZelzHb"
      },
      "execution_count": null,
      "outputs": []
    },
    {
      "cell_type": "code",
      "source": [
        "d = {'a':0, 'b':1, 'c':0}\n",
        "if d['a'] > 0:\n",
        "    print(\"Ok\")\n",
        "elif d['b'] > 0:  # burası çalışır\n",
        "    print(\"Ok\")\n",
        "elif d['c'] > 0:\n",
        "    print(\"Ok\")\n",
        "elif d['d'] > 0:\n",
        "    print(\"Ok\")\n",
        "elif d['e'] > 0:\n",
        "    print(\"Ok\")\n",
        "else:\n",
        "    print(\"not OK\")"
      ],
      "metadata": {
        "id": "fNZnjdOomW5n"
      },
      "execution_count": null,
      "outputs": []
    },
    {
      "cell_type": "code",
      "source": [
        "d = {'a':0, 'b':1, 'c':0}\n",
        "if d['a'] > 0:\n",
        "    print(\"Ok\")\n",
        "elif d['d'] > 0:\n",
        "    print(\"Ok\")\n",
        "elif d['b'] > 0:  # burası çalışır\n",
        "    print(\"Ok\")\n",
        "elif d['c'] > 0:\n",
        "    print(\"Ok\")\n",
        "\n",
        "elif d['e'] > 0:\n",
        "    print(\"Ok\")\n",
        "else:\n",
        "    print(\"not OK\")"
      ],
      "metadata": {
        "id": "LRcsPxZTmdOM"
      },
      "execution_count": null,
      "outputs": []
    },
    {
      "cell_type": "code",
      "source": [
        "test = 155\n",
        "if test <= 200:\n",
        "    if test<100:\n",
        "        if test <= 0:\n",
        "            print( \"Ali\")\n",
        "        else:\n",
        "            print(\"Burak\")\n",
        "    else:\n",
        "        print(\"Selin\")\n",
        "else:\n",
        "    print(\"Demet\")"
      ],
      "metadata": {
        "id": "R_1fDbWfndER"
      },
      "execution_count": null,
      "outputs": []
    },
    {
      "cell_type": "code",
      "source": [
        "score = int (input(\"Enter your score :\"))\n",
        "\n",
        "if score >= 90:\n",
        "    if score >= 95:\n",
        "        Score_letter=\"A+\"\n",
        "    else:\n",
        "        Score_letter=\"A\"\n",
        "elif score >= 80:\n",
        "    if score >= 85:\n",
        "        Score_letter=\"B+\"\n",
        "    else:\n",
        "        Score_letter=\"B\"\n",
        "else:\n",
        "    Score_letter=\"below B\"\n",
        "\n",
        "print (\"Your degree: %s\" % Score_letter)"
      ],
      "metadata": {
        "id": "lcHlfnFAn3su"
      },
      "execution_count": null,
      "outputs": []
    },
    {
      "cell_type": "code",
      "source": [
        "score = int (input(\"Enter your score :\"))\n",
        "\n",
        "if score >= 95 and score <=100:\n",
        "    Score_letter=\"A+\"\n",
        "elif score >= 90 and score < 95:\n",
        "    Score_letter=\"A\"\n",
        "elif score >= 85 and score<90:\n",
        "    Score_letter=\"B+\"\n",
        "elif score >= 80 and score<85:\n",
        "    Score_letter=\"B\"\n",
        "else:\n",
        "    Score_letter=\"below B\"\n",
        "\n",
        "print (\"Your degree: %s\" % Score_letter)"
      ],
      "metadata": {
        "id": "enPaeZS1oNLl"
      },
      "execution_count": null,
      "outputs": []
    },
    {
      "cell_type": "markdown",
      "source": [
        "#match-case yapısı"
      ],
      "metadata": {
        "id": "8KtahW8Dbv3_"
      }
    },
    {
      "cell_type": "code",
      "source": [
        "status = int(input(\"Web page status number..:\"))\n",
        "match status:\n",
        "    case 400:\n",
        "        print(\"Bad request\")\n",
        "    case 404:\n",
        "        print(\"Not found\")\n",
        "    case 401 | 403:  # 401 veya 403 ise\n",
        "        print(\"Not allowed\")\n",
        "    case 418:\n",
        "        print(\"I'm a teapot\")\n",
        "    case _:  # else\n",
        "        print(\"Something's wrong with the internet\")\n"
      ],
      "metadata": {
        "id": "6d6GdM8Jb1Xc"
      },
      "execution_count": null,
      "outputs": []
    },
    {
      "cell_type": "code",
      "source": [
        "score = int (input(\"Enter your score :\"))\n",
        "match score:\n",
        "    case 95|96|97|98|99|100:\n",
        "        Score_letter=\"A+\"\n",
        "    case 90|91|92|93|94:\n",
        "        Score_letter=\"A\"\n",
        "    case 85|86|87|88|89:\n",
        "        Score_letter=\"B+\"\n",
        "    case 80|81|82|83|84:\n",
        "        Score_letter=\"B\"\n",
        "    case _: #else:\n",
        "        Score_letter=\"below B\"\n",
        "\n",
        "print (f\"Your degree: {Score_letter}\")"
      ],
      "metadata": {
        "id": "91T8hYoBskd5"
      },
      "execution_count": null,
      "outputs": []
    },
    {
      "cell_type": "code",
      "source": [
        "score = int (input(\"Enter your score :\"))\n",
        "match score:\n",
        "    case score if score >= 95 and score <=100:\n",
        "        Score_letter=\"A+\"\n",
        "    case score if score >= 90 and score < 95:\n",
        "        Score_letter=\"A\"\n",
        "    case score if score >= 85 and score<90:\n",
        "        Score_letter=\"B+\"\n",
        "    case score if score >= 80 and score<85:\n",
        "        Score_letter=\"B\"\n",
        "    case _:\n",
        "        Score_letter=\"below B\"\n",
        "\n",
        "print (\"Your degree: %s\" % Score_letter)"
      ],
      "metadata": {
        "id": "JWtTqK52tfYS"
      },
      "execution_count": null,
      "outputs": []
    },
    {
      "cell_type": "markdown",
      "source": [
        "# LOOPS"
      ],
      "metadata": {
        "id": "GH3MeR-LbyD3"
      }
    },
    {
      "cell_type": "code",
      "source": [
        "# Niçin döngü kullanırız?"
      ],
      "metadata": {
        "id": "0BCsU2x7b2IJ"
      },
      "execution_count": null,
      "outputs": []
    },
    {
      "cell_type": "code",
      "source": [
        "!pip install ColabTurtle"
      ],
      "metadata": {
        "id": "5JOQTFDywfgv"
      },
      "execution_count": null,
      "outputs": []
    },
    {
      "cell_type": "code",
      "source": [
        "#from turtle import *\n",
        "from ColabTurtle.Turtle import *\n",
        "initializeTurtle()\n",
        "\n",
        "forward(100)\n",
        "right(90)\n",
        "\n",
        "forward(100)\n",
        "right(90)\n",
        "\n",
        "forward(100)\n",
        "right(90)\n",
        "\n",
        "forward(100)\n",
        "right(90)"
      ],
      "metadata": {
        "id": "RymGd3zhvvhl"
      },
      "execution_count": null,
      "outputs": []
    },
    {
      "cell_type": "code",
      "source": [
        "#from turtle import *\n",
        "from ColabTurtle.Turtle import *\n",
        "initializeTurtle()\n",
        "for _ in range(4):\n",
        "    forward(100)\n",
        "    right(90)"
      ],
      "metadata": {
        "id": "igIJekEPxDU4"
      },
      "execution_count": null,
      "outputs": []
    },
    {
      "cell_type": "code",
      "source": [
        "# while : koşul geçerli olduğu sürece çalışır\n",
        "number = 0\n",
        "while number<6:\n",
        "    print(number)\n",
        "    number += 1\n",
        "\n",
        "# döngüden çıkıldıktan sonra\n",
        "print(\"now, number is ..:\", number)"
      ],
      "metadata": {
        "id": "U5BbCAlUy0pT"
      },
      "execution_count": null,
      "outputs": []
    },
    {
      "cell_type": "code",
      "source": [
        "my_list = [\"a\", \"b\", \"c\", \"d\", \"e\"]\n",
        "\n",
        "a = 0\n",
        "\n",
        "while a < len(my_list):\n",
        "   print('square of {} is : {}'.format(a, a**2))\n",
        "   a += 1 # a++"
      ],
      "metadata": {
        "id": "02LKuiVK0KxG"
      },
      "execution_count": null,
      "outputs": []
    },
    {
      "cell_type": "code",
      "source": [
        "my_list = [\"a\", \"b\", \"c\", \"d\", \"e\"]\n",
        "\n",
        "a = 0\n",
        "\n",
        "while a < 5:\n",
        "   print('square of {} is : {}'.format(a, a**2))\n",
        "   a += 1 # a++"
      ],
      "metadata": {
        "id": "HSK6K-410dUa"
      },
      "execution_count": null,
      "outputs": []
    },
    {
      "cell_type": "code",
      "source": [
        "age = input(\"Yaşınızı giriniz..:\")\n",
        "while not age.isdigit():\n",
        "    print(\"Lütfen rakam giriniz\")\n",
        "    age = input(\"Yaşınızı giriniz..:\")\n",
        "\n",
        "print(\"Tebrikler!, yaşınızı doğru girdiniz..:\", age)\n"
      ],
      "metadata": {
        "id": "-MqkIxi518rz"
      },
      "execution_count": null,
      "outputs": []
    },
    {
      "cell_type": "code",
      "source": [
        "# login sayfası...\n",
        "# Kullanıcıdan doğru şifre girişini bekleyen bir ekran\n",
        "password = \"python\"\n",
        "user_sifre = input(\"Şifrenizi giriniz..:\")\n",
        "while user_sifre != password:\n",
        "    print(\"Lütfen doğru şifre giriniz\")\n",
        "    user_sifre = input(\"Şifrenizi giriniz..:\")\n",
        "\n",
        "# döngüden çıkınca\n",
        "print(\"Hoşgeldiniz...\")"
      ],
      "metadata": {
        "id": "9fHgOxPu2gfh"
      },
      "execution_count": null,
      "outputs": []
    },
    {
      "cell_type": "code",
      "source": [
        "# walrus operatörü (:=) 3.8 sonrası new operator\n",
        "password = \"python\"\n",
        "\n",
        "while (user_sifre := input(\"Şifrenizi giriniz..:\")) != password:\n",
        "    print(\"Lütfen doğru şifre giriniz\")\n",
        "\n",
        "# döngüden çıkınca\n",
        "print(\"Hoşgeldiniz...\")"
      ],
      "metadata": {
        "id": "gK11GnIK59aD"
      },
      "execution_count": null,
      "outputs": []
    },
    {
      "cell_type": "code",
      "source": [
        "number = 0\n",
        "while True: # sonsuz döngü\n",
        "    print(number)\n",
        "    number += 1\n",
        "    if number >= 5:\n",
        "        break # döngüden çık"
      ],
      "metadata": {
        "id": "ve01A2LL7gYD"
      },
      "execution_count": null,
      "outputs": []
    },
    {
      "cell_type": "code",
      "source": [
        "import random\n",
        "random.randint(1,100)"
      ],
      "metadata": {
        "id": "I-DNaHyy9OnW"
      },
      "execution_count": null,
      "outputs": []
    },
    {
      "cell_type": "code",
      "source": [
        "import random\n",
        "tutulan_sayi = random.randint(1,100)\n",
        "puan = 100\n",
        "while True:\n",
        "    tahmin = int(input(\"1-100 arsı bir sayı giriniz..:\"))\n",
        "    if tahmin<tutulan_sayi:\n",
        "        print(\"Daha büyük sayı giriniz..\")\n",
        "        puan = puan - 10\n",
        "    elif tahmin>tutulan_sayi:\n",
        "        print(\"Daha küçük bir sayı giriniz..\")\n",
        "        puan = puan - 10\n",
        "    else: # eşit olma durumu\n",
        "        print(f\"Bravo! {tutulan_sayi} sayısını bildiniz. Puanınız.: {puan}\")\n",
        "        break # döngüden çık"
      ],
      "metadata": {
        "id": "zqt9Wkew74Bq"
      },
      "execution_count": null,
      "outputs": []
    },
    {
      "cell_type": "code",
      "source": [
        "import random\n",
        "tutulan_sayi = random.randint(1,100)\n",
        "puan = 100\n",
        "sayac = 0\n",
        "while sayac<10:\n",
        "    tahmin = int(input(\"1-100 arsı bir sayı giriniz..:\"))\n",
        "    sayac += 1\n",
        "    if tahmin<tutulan_sayi:\n",
        "        print(\"Daha büyük sayı giriniz..\")\n",
        "        puan = puan - 10\n",
        "    elif tahmin>tutulan_sayi:\n",
        "        print(\"Daha küçük bir sayı giriniz..\")\n",
        "        puan = puan - 10\n",
        "    else: # eşit olma durumu\n",
        "        print(f\"Bravo! {tutulan_sayi} sayısını bildiniz. Puanınız.: {puan}\")\n",
        "        break # döngüden çık\n",
        "else:\n",
        "    print(\"Hakkınız doldu\")"
      ],
      "metadata": {
        "id": "xKTrS5i990So"
      },
      "execution_count": null,
      "outputs": []
    },
    {
      "cell_type": "code",
      "source": [
        "# Bir cümledeki en uzun kelimeyi bulunuz...\n",
        "cumle = \"Ali topu attım.\"\n",
        "max(cumle.split(), key=len)"
      ],
      "metadata": {
        "id": "dLOEuZq2_bk0"
      },
      "execution_count": null,
      "outputs": []
    },
    {
      "cell_type": "code",
      "source": [
        "# Bir cümledeki en uzun kelimeyi bulunuz...\n",
        "cumle = \"Aliye topu at.\"\n",
        "listem = cumle.split()\n",
        "indis = 0\n",
        "en_uzun = 0  # en uzun kelimenin uzunluğu\n",
        "while indis<len(listem):\n",
        "    if len(listem[indis])>en_uzun:\n",
        "        en_uzun = len(listem[indis])\n",
        "        en_uzun_kelime = listem[indis]\n",
        "\n",
        "    indis += 1\n",
        "\n",
        "print(\"En uzun kelimenin uzunluğu..:\", en_uzun)\n",
        "print(\"En uzun kelime .............:\", en_uzun_kelime)\n",
        ""
      ],
      "metadata": {
        "id": "9xUZzF1ACNOq"
      },
      "execution_count": null,
      "outputs": []
    },
    {
      "cell_type": "markdown",
      "source": [
        "for döngüsü: tekrar sayısı baştan belli"
      ],
      "metadata": {
        "id": "Gnk5_o0vHGlw"
      }
    },
    {
      "cell_type": "code",
      "source": [
        "for i in [1,2,3,4,5]: # iterable: dolaşılabilir nesne\n",
        "    print(i)"
      ],
      "metadata": {
        "id": "uZggcWCjHLhJ"
      },
      "execution_count": null,
      "outputs": []
    },
    {
      "cell_type": "code",
      "source": [
        "for i in range(1,6): # iterable: dolaşılabilir nesne\n",
        "    print(i)"
      ],
      "metadata": {
        "id": "8Ppnsk6WHThI"
      },
      "execution_count": null,
      "outputs": []
    },
    {
      "cell_type": "code",
      "source": [
        "seasons = [\"İlkbahar\", \"Yaz\", \"Sonbahar\", \"Kış\"]\n",
        "for d in seasons:\n",
        "    print(d)"
      ],
      "metadata": {
        "id": "iWVS5zPOH6JX"
      },
      "execution_count": null,
      "outputs": []
    },
    {
      "cell_type": "code",
      "source": [
        "\"\"\"\n",
        "Task : Python Program to say “hello name”\n",
        "Write a program to say “hello names” from the following list.\n",
        "Print the result such as :\n",
        "    “hello Ahmed”\n",
        "    “hello Aisha”\n",
        "    ...\n",
        "\"\"\"\n",
        "names = [\"Ahmed\", \"Aisha\", \"Adam\", \"Joseph\", \"Gabriel\"]\n",
        "for i in names:\n",
        "    print(\"hello\", i)"
      ],
      "metadata": {
        "id": "je9-4UfhIRbt"
      },
      "execution_count": null,
      "outputs": []
    },
    {
      "cell_type": "code",
      "source": [
        "# range() nesnesi iterable\n",
        "\"\"\"\n",
        "Task : Python Program to create numbers using range()\n",
        "Write a program to create a list consisting of numbers from 1 to 5.\n",
        "Print the result such as : [1, 2, 3, 4, 5]\n",
        "\"\"\"\n",
        "numbers = []\n",
        "for i in range(1,6):\n",
        "    numbers.append(i)"
      ],
      "metadata": {
        "id": "HRbdeofLI2lp"
      },
      "execution_count": null,
      "outputs": []
    },
    {
      "cell_type": "code",
      "source": [
        "numbers"
      ],
      "metadata": {
        "id": "UKUI6d2BJYql"
      },
      "execution_count": null,
      "outputs": []
    },
    {
      "cell_type": "code",
      "source": [
        "#pythonic çözüm:\n",
        "numbers = list(range(1,6))\n",
        "print(numbers)"
      ],
      "metadata": {
        "id": "SiDtRQJfJ4Ne"
      },
      "execution_count": null,
      "outputs": []
    },
    {
      "cell_type": "code",
      "source": [
        "# Neler iterable: str, list, tuple, set, dict, range,...\n",
        "word = \"clarusway\"\n",
        "for w in word:\n",
        "    print(w)"
      ],
      "metadata": {
        "id": "-DbsrmVdJnkj"
      },
      "execution_count": null,
      "outputs": []
    },
    {
      "cell_type": "code",
      "source": [
        "\"\"\"Task:\n",
        "input : \"Clarusway\"\n",
        "desired output : c-l-a-r-u-s-w-a-y\n",
        "\"\"\"\n",
        "word = \"Clarusway\"\n",
        "for i in word:\n",
        "    print(i, end='-')\n",
        "print(\"\\b\")"
      ],
      "metadata": {
        "id": "tgNJNZ1LKL8m"
      },
      "execution_count": null,
      "outputs": []
    },
    {
      "cell_type": "code",
      "source": [
        "# DA8120 Damla hocamızın çözümü\n",
        "text = 'Clarusway'\n",
        "my_list = list(text)\n",
        "#print(my_list)\n",
        "for i in my_list:\n",
        "    print(i+'-',end='')\n",
        "print(\"\\b\")"
      ],
      "metadata": {
        "id": "pHo8qVvfKl9z"
      },
      "execution_count": null,
      "outputs": []
    },
    {
      "cell_type": "code",
      "source": [
        "#döngüsüz çözüm: pythonic çözüm\n",
        "word = \"Clarusway\"\n",
        "print(\"-\".join(word))"
      ],
      "metadata": {
        "id": "ebbiEUZ1LI-u"
      },
      "execution_count": null,
      "outputs": []
    },
    {
      "cell_type": "code",
      "source": [
        "user = {\n",
        "\t'name':'Daniel',\n",
        "\t'surname':'Smith',\n",
        "\t'age':35\n",
        "}\n",
        "\n",
        "for attribute in user:  # key'lere erişiriz...\n",
        "\tprint(attribute)"
      ],
      "metadata": {
        "id": "NyXxTR-UL-X2"
      },
      "execution_count": null,
      "outputs": []
    },
    {
      "cell_type": "code",
      "source": [
        "user = {\n",
        "\t'name':'Daniel',\n",
        "\t'surname':'Smith',\n",
        "\t'age':35\n",
        "}\n",
        "\n",
        "for attribute in user.values():  # value lere erişiriz...\n",
        "\tprint(attribute, end=\" \")"
      ],
      "metadata": {
        "id": "5YKZxFlwMf4Y"
      },
      "execution_count": null,
      "outputs": []
    },
    {
      "cell_type": "code",
      "source": [
        "user = {\n",
        "\t'name':'Daniel',\n",
        "\t'surname':'Smith',\n",
        "\t'age':35\n",
        "}\n",
        "\n",
        "for k, v in user.items():  # key:value'lara erişiriz...\n",
        "\tprint(k,\"->\",v)"
      ],
      "metadata": {
        "id": "4ClO6m7KMCU3"
      },
      "execution_count": null,
      "outputs": []
    },
    {
      "cell_type": "code",
      "source": [
        "user = {\n",
        "\t'name':'Daniel',\n",
        "\t'surname':'Smith',\n",
        "\t'age':35\n",
        "}\n",
        "\n",
        "for k, v in user.items():  # key:value'lara erişiriz...\n",
        "\tprint(v,\"->\",k)"
      ],
      "metadata": {
        "id": "IOaFvTCBM2xJ"
      },
      "execution_count": null,
      "outputs": []
    },
    {
      "cell_type": "code",
      "source": [
        "print(help(enumerate))"
      ],
      "metadata": {
        "id": "QBMH0j_lNDh3"
      },
      "execution_count": null,
      "outputs": []
    },
    {
      "cell_type": "code",
      "source": [
        "listem = [\"Pazartesi\", \"Salı\", \"Çarşamba\", \"Perşembe\", \"Cuma\",\"Cumartesi\", \"Pazar\"]\n",
        "list(enumerate(listem, start=1))"
      ],
      "metadata": {
        "id": "DZ3jyqfCNV2a"
      },
      "execution_count": null,
      "outputs": []
    },
    {
      "cell_type": "code",
      "source": [
        "listem = [\"Pazartesi\", \"Salı\", \"Çarşamba\", \"Perşembe\", \"Cuma\",\"Cumartesi\", \"Pazar\"]\n",
        "for i, gun in list(enumerate(listem, start=1)):\n",
        "    print(f\"{i}.gün.: {gun}\")"
      ],
      "metadata": {
        "id": "rkpZrQpRN0dt"
      },
      "execution_count": null,
      "outputs": []
    }
  ]
}