{
  "nbformat": 4,
  "nbformat_minor": 0,
  "metadata": {
    "colab": {
      "provenance": []
    },
    "kernelspec": {
      "name": "python3",
      "display_name": "Python 3"
    },
    "language_info": {
      "name": "python"
    }
  },
  "cells": [
    {
      "cell_type": "code",
      "source": [
        "# değişken sayısı ile value sayının eşit olması (normali)\n",
        "a,b,c = 3,2,5\n",
        "# a = 3\n",
        "# b = 2\n",
        "# c = 5"
      ],
      "metadata": {
        "id": "f3KUlFxiQYPO"
      },
      "execution_count": 1,
      "outputs": []
    },
    {
      "cell_type": "code",
      "source": [
        "#değişken sayısı az değer(value) fazla olabilir\n",
        "a,b,c = 3,2,5,6"
      ],
      "metadata": {
        "colab": {
          "base_uri": "https://localhost:8080/",
          "height": 198
        },
        "id": "szWMqFhOQjdc",
        "outputId": "2f4ec1a2-90ee-4d96-8025-8e7fc5b994f6"
      },
      "execution_count": 2,
      "outputs": [
        {
          "output_type": "error",
          "ename": "ValueError",
          "evalue": "ignored",
          "traceback": [
            "\u001b[0;31m---------------------------------------------------------------------------\u001b[0m",
            "\u001b[0;31mValueError\u001b[0m                                Traceback (most recent call last)",
            "\u001b[0;32m<ipython-input-2-9182f98977fd>\u001b[0m in \u001b[0;36m<cell line: 2>\u001b[0;34m()\u001b[0m\n\u001b[1;32m      1\u001b[0m \u001b[0;31m#değişken sayısı az değer(value) fazla olabilir\u001b[0m\u001b[0;34m\u001b[0m\u001b[0;34m\u001b[0m\u001b[0m\n\u001b[0;32m----> 2\u001b[0;31m \u001b[0ma\u001b[0m\u001b[0;34m,\u001b[0m\u001b[0mb\u001b[0m\u001b[0;34m,\u001b[0m\u001b[0mc\u001b[0m \u001b[0;34m=\u001b[0m \u001b[0;36m3\u001b[0m\u001b[0;34m,\u001b[0m\u001b[0;36m2\u001b[0m\u001b[0;34m,\u001b[0m\u001b[0;36m5\u001b[0m\u001b[0;34m,\u001b[0m\u001b[0;36m6\u001b[0m\u001b[0;34m\u001b[0m\u001b[0;34m\u001b[0m\u001b[0m\n\u001b[0m",
            "\u001b[0;31mValueError\u001b[0m: too many values to unpack (expected 3)"
          ]
        }
      ]
    },
    {
      "cell_type": "code",
      "source": [
        "#değişken sayısı az değer(value) fazla olabilir\n",
        "a,b,*c = 3,2,5,6 # sırası ile aktar, kalanı c'ye aktar"
      ],
      "metadata": {
        "id": "wj9BDQNtQzA4"
      },
      "execution_count": 3,
      "outputs": []
    },
    {
      "cell_type": "code",
      "source": [
        "c"
      ],
      "metadata": {
        "colab": {
          "base_uri": "https://localhost:8080/"
        },
        "id": "pURWM4LMQ7B2",
        "outputId": "9e385743-4252-473d-b7b4-32c01e3988cd"
      },
      "execution_count": 4,
      "outputs": [
        {
          "output_type": "execute_result",
          "data": {
            "text/plain": [
              "[5, 6]"
            ]
          },
          "metadata": {},
          "execution_count": 4
        }
      ]
    },
    {
      "cell_type": "code",
      "source": [
        "a,b,c,d = 3,2,5"
      ],
      "metadata": {
        "colab": {
          "base_uri": "https://localhost:8080/",
          "height": 181
        },
        "id": "XQMt8ZxOQ9dW",
        "outputId": "ae88d03f-f7ef-4f96-a3f5-a14f42b1e8d5"
      },
      "execution_count": 5,
      "outputs": [
        {
          "output_type": "error",
          "ename": "ValueError",
          "evalue": "ignored",
          "traceback": [
            "\u001b[0;31m---------------------------------------------------------------------------\u001b[0m",
            "\u001b[0;31mValueError\u001b[0m                                Traceback (most recent call last)",
            "\u001b[0;32m<ipython-input-5-1b4d3e658c8f>\u001b[0m in \u001b[0;36m<cell line: 1>\u001b[0;34m()\u001b[0m\n\u001b[0;32m----> 1\u001b[0;31m \u001b[0ma\u001b[0m\u001b[0;34m,\u001b[0m\u001b[0mb\u001b[0m\u001b[0;34m,\u001b[0m\u001b[0mc\u001b[0m\u001b[0;34m,\u001b[0m\u001b[0md\u001b[0m \u001b[0;34m=\u001b[0m \u001b[0;36m3\u001b[0m\u001b[0;34m,\u001b[0m\u001b[0;36m2\u001b[0m\u001b[0;34m,\u001b[0m\u001b[0;36m5\u001b[0m\u001b[0;34m\u001b[0m\u001b[0;34m\u001b[0m\u001b[0m\n\u001b[0m",
            "\u001b[0;31mValueError\u001b[0m: not enough values to unpack (expected 4, got 3)"
          ]
        }
      ]
    },
    {
      "cell_type": "markdown",
      "source": [
        "type(): Veri tipini öğrenmek için kullanılır"
      ],
      "metadata": {
        "id": "9873t1aBLTi5"
      }
    },
    {
      "cell_type": "code",
      "source": [
        "type(3.14j)  # j : karekok içinde -1 anlamında"
      ],
      "metadata": {
        "colab": {
          "base_uri": "https://localhost:8080/"
        },
        "id": "H8JpBRb7ZHJI",
        "outputId": "f77e86b7-c412-4362-9e20-9781fd972ece"
      },
      "execution_count": 6,
      "outputs": [
        {
          "output_type": "execute_result",
          "data": {
            "text/plain": [
              "complex"
            ]
          },
          "metadata": {},
          "execution_count": 6
        }
      ]
    },
    {
      "cell_type": "code",
      "source": [
        "type('1001')"
      ],
      "metadata": {
        "colab": {
          "base_uri": "https://localhost:8080/"
        },
        "id": "hR1C_Q1zZT-_",
        "outputId": "d580eec5-ba97-4c1e-d850-c12d25876781"
      },
      "execution_count": 7,
      "outputs": [
        {
          "output_type": "execute_result",
          "data": {
            "text/plain": [
              "str"
            ]
          },
          "metadata": {},
          "execution_count": 7
        }
      ]
    },
    {
      "cell_type": "code",
      "source": [
        "type(1001)"
      ],
      "metadata": {
        "colab": {
          "base_uri": "https://localhost:8080/"
        },
        "id": "mRSwkVdjZYRU",
        "outputId": "dc50889f-6081-4234-b38b-22bdb240889a"
      },
      "execution_count": 8,
      "outputs": [
        {
          "output_type": "execute_result",
          "data": {
            "text/plain": [
              "int"
            ]
          },
          "metadata": {},
          "execution_count": 8
        }
      ]
    },
    {
      "cell_type": "code",
      "source": [
        "type(0)"
      ],
      "metadata": {
        "colab": {
          "base_uri": "https://localhost:8080/"
        },
        "id": "jzGD1794aYhp",
        "outputId": "896d8907-85ec-45e7-a80d-9776a7ef3271"
      },
      "execution_count": 9,
      "outputs": [
        {
          "output_type": "execute_result",
          "data": {
            "text/plain": [
              "int"
            ]
          },
          "metadata": {},
          "execution_count": 9
        }
      ]
    },
    {
      "cell_type": "code",
      "source": [
        "type(a)"
      ],
      "metadata": {
        "colab": {
          "base_uri": "https://localhost:8080/"
        },
        "id": "2OAEN78SRSNd",
        "outputId": "1fe1f281-96f3-4e98-df3b-2125bd52a545"
      },
      "execution_count": 10,
      "outputs": [
        {
          "output_type": "execute_result",
          "data": {
            "text/plain": [
              "int"
            ]
          },
          "metadata": {},
          "execution_count": 10
        }
      ]
    },
    {
      "cell_type": "code",
      "source": [
        "type(c)"
      ],
      "metadata": {
        "colab": {
          "base_uri": "https://localhost:8080/"
        },
        "id": "5RRNmaa3RUN7",
        "outputId": "ad5b7f70-eacc-487f-8ee7-77f2e42f150e"
      },
      "execution_count": 11,
      "outputs": [
        {
          "output_type": "execute_result",
          "data": {
            "text/plain": [
              "list"
            ]
          },
          "metadata": {},
          "execution_count": 11
        }
      ]
    },
    {
      "cell_type": "markdown",
      "source": [
        "#Operatorler\n",
        "![image.png](data:image/png;base64,iVBORw0KGgoAAAANSUhEUgAAAeQAAAIACAYAAABTkx/wAAAABHNCSVQICAgIfAhkiAAAIABJREFUeF7snQeAZEW1989090z35NnM7rKw5JwzgoqgKOgDw8OASBARBQNKUDHAh2IWFZ6AEiUaAAVFJGeRHATJaXOYnLqne7q+3//ce2d6Z5fwfOoyY9fundu3buVbp06sUzWBYISenh5rbm62mpoaPdqSJUtsxowZ/rsa/jUjEKxMwcNcNfzLmD/qSukq8mfI+ooDlqttI7rWUnypNO/9E6X6SVviauZ3yvKpEiUNU45ZtlRDujp+UXotF5F11kfaAg9pYhstZGq9Zmr1EEijqtM+G+JAnNIoSrl8ZpSVikCdUaBMGhwCFZGwRhl4NZRW+0tWV856xBBxKicbddeGU2XKVhr6xd+M/yZd8lwe5Jn6U/V+Tw/TV4WajLe1JmmnGuUNq4bVMQJaPnRp3UjWjlKpxDQpW11dNAdXR7v+fXWWbXCwaLm6rBWZ25m6YeY5/0opy6SZ2cNEppm7NSVBA3MeOCHUhgLjpTley/RlnApRvF4PActFykjzL0c5EWACTQBhgX81RDSUgYuRtYIfARiM4VXgkA6Cp7IV8sGy9bkI+HiRJzoN0Nfybpg0w6msw3aab6bSLVPkb4q2tnh8lqfSEOtKucHSgHIZCB1m3amzBoc71TlIxxvqylYqFaycaSD3MMtXt6Vqc5TTpO5aRm0NZZqZsjJ5fJ3h2WqSdUSp9Kx44vweNVtvHN4Vp8vXing98PFMVjG9G39hmDmSTmu06R6AE4aGhmzu3LkeuWDBAps8ebJfixcvttraeKKMv36OgxZrggKwzOqaUMfHiJCusFo5Nci7IRCnZmDOysUmKxXTlgK7plMDAHsneQQYLYBMxvqzJaupTVljOgdCTlm6r2j5AldjA0BXBIB7QYZFEDXAVpOz/nQziDrFwqBFAWBKMalpRyYIY+onbXNUmXa4F0SkAaCMiACCp+dNmtrLpCsHAV7GatUd2l2oHSBPybLFCGAKpFfquhJQTf+GM72kK5Kv1oEz7fXW2BBtUz31MUIu1DR6fJZnAeVQTT1to3+evgxw004H0mpYHSMgJFxfX2+LFi2yxsZG6+/vd0Je8b29vZbJjO/F8rXGtFgssEbWW1vLTPrbbYXhTqvLpm2gt2S1YL4c8DtcBh5s0MrAZiozzTKpNHDXSTxxgrJh0NsQCJaJPABCL2RAyBkW6XLamgbrmevALEhdRG6+ruDw0ljIWmYY1CfClkuwqmu4Jg20gITLeZoeLJNtssVLl0Ew1FqpHKy5bQpwBFrN91iGtb2QrnN4awEH1IDo+rMgZAiJ4QACpt660pDlSFObnuyEfT50WLE4RHy9pWpqrQhQBriEJsB6ecdyK5QgFppp89Cg5XKg89BCM9K0R4Q76wZ5BK+ZmGBw6t2DYDn+yY2Wez6/k0ZtZoHkAhnXRG1V6iCEHMbvHOvq6rJp06Y5AyzCNpNQt6Jq582b5wCk37oXCoX/ECp3dCL8e38JmUSISMjYqcCEEhQyZuIJGYmqLgO0KSbsCKcKwnZKURwok7yfBXCQ75YuBqtnxueUGARdEnCRMltWWgoXVMFllmspV0kURygpPYF1gPfw7k6Yi9P2aIAesCBpSoiQe2BR0Y+aGgANwBEH7/Ci4khbov2iYjMOLGkAUcAVl6+cLC7ikQVQqlkl+ILCLz1nAvnpR6BvylgT12vU60MUNdt/VBEyA7Kagoj5bFZSkNEwdepUJ+wVHwvgVlPr/vXVBubl8DCzOA3CAzRSmSHgVFIDCGzNZJ+s4pDhRkEuQ8A5dDRIGcQK2wgEMdeBJRGuSsutAJEushfy23ICUsEkSUpg4iL/BB85yoniI64yQsjwzrwcgVNgSmuDZ4iDqhgaglDOUCAwL7QtSK4tiuuEEagtwgOr5VlqB8lDcNRl4LCLKRBxsOH6IsIx+ovorQbCWLDX3Ze3tmZJQyDs+SuCoAZiIwX3XQ7R3EhJEKv/sQRWq1oUYoSsxUPtJSSMgI9HFBHd1Q+/1FZdCuMbIYtwnTNnjuNaR8gpRAhCvvl83u8SNSXIeCygxSNQvf3TRiCaYQ64CdCMTDqBqoRTXHwocGuEmFS3p1WEsCYTE+DK8K8BMXQd+C8RD0F6xyWQToCZBPIL//p8F/R68FbEE171JrGjdwd2B1+SeX5fbfzBixlpu4A8fohl2J6LNA6PyuI3Ce31S31R/VoCoicRDUk6T6JFK26VHj3O73G748fq7d87AlojpO5qaWmxgYEBa2hoYOHWoq0FvDjBJWzMXuZhgJMUPqsVTnJKESQNZ5nJQJDAMdbURUhHf/UTXM30FaKKxa4S2+plAk6j0BPN8wg8PFZIPYJOEnu8gAkOUj+Ty2EDeOFd8g0krZAkQ2t7yvPwTmoguHhfASCYVYBgWtm9K3qD2Nmpc/BnGiAvp+oc7daIUideabPZnBXpZyYDQY00QNxsWqol3jqd7/3yRiU3L90zJ9R0sjD4G29R/D76OfLsxYyuBUk/K1KNu58dHR0jRG1mcHDQP1Rra6tjaSFm/U6QsRB0NfyrRkAUbInpxwTTMMcAGdWmd0Rxi9BUND/1OYqQ4jVpQJNsKf0hKLvmasJlB9IUQr+lc+I90V3BSTu3G3/OMqLnshA2YjHPj9jL9TpihSmoCHApcWY4yqBoiaZdh006xQan/FlwBFQeUQFfiuC9t4v4muFIrDQqloryqoNeg/RGSsuTmqG6FFKxqCoSXakslRu1SXmq3LEP02oLWjOEjBWEjNvb223KlCkjiHhirx+Ifot5kA5IziVGCthywFWmpWMlSI2kMSiB/GoABHHSmt+YeSDeBvEhwdJ7n+fM53IMB4JBBynBjn4J5vSbeMdJYrMFb2XZVMTwoPpIK9hxLpOyap2SB22hjnSGC7WVOPgSXH2NpKG8c8hUowCmIu3Rzxq3T9FawOVSM601kbRNvGkYBMHDARdCzupyqoO2q5zyMEyBkLHiQK0qR3DKc7Q+KVV0OewiQYvuxHk/VHtyi/oQRcRx3nmljWM1buM4CN8K/yZ65JrEqEsGXaKiFPr6+jxRomgex/19gzddk0nTG2CWaNchIb5kYOETNxL5+qSWtFiAoeSerAQR1Y8hST0AHhnQoIKKkLLSINrBrIO0MuHIun43lpBD+coIDJ0y8ZGoGHG3ynSEnLIBbgKpnBt7AMDShREjQZY3y/VW+iFolY4nErm5aDtum4xEEHLxhHhrODLOil4m/eYV71S/F+n5oqBcCrEG29MoRItTApCKi+Kj1NW/q2MEpOLSgpIQ8RLDSfyWcMyro03/njo1a6OZO1QAPuEOsznZThAdGq2EPDidi0TGNYJnxqQ8hD0I72VzKRgWzEUIMUJcMpYUxMU40DlVp8o1z8kXQZtgnHVDBaQiBB/BDem0SDD+KIu8ZTVwriUIBF/04dqF+IWI+wdhBLIQEnDIakNWiQkF4Fp9yqoc54xRESGqrhHhz/9lsm+BGZjh6jI1rZFncMYAuuMGCADWHBEpRSRawh85J1Qq4VTlq42qTX9iDp3CRjh/vfJ35EsIFI+Lo0fWHUUk5ScJxt+9EvdmhKFzOSZJBSfc1BRZxiUWlOOvi+OlxRJ5RXokn9xqtgNZPDn1rgT/LGtN3peHhyxdJx2qpm7KejHcam1qHZmeEhsnkh9R08Cc1dVKCBXpdgQKOa9EgARQyCCEZ+dRAbQgYJVZtuBQ1pBeqQCfdgDEWgyGAVLVE5gvbpDmtXtR3nRNI8VQrUeWXQ8O2Aghqy6XnEOlx4uM2uYIWYsUbzJQ/k4gxNaXUTpxFBHi1XuJtAKUSdwVL78aVt8IaA3RmpEg5rlz57qkTRzzhOeQh/OWRawrGE3Lqrymz4b7+0DEdRhUNaAzjmDSGVU4U+EniXGx+TKMl02q17Lgzmc/8AKmFixobgslgf5i7pk4iaYFe7xwSZHeC954FrSmnRsFXuHYi7EoOgscJ4yVc2HIzPu6Oq1+0jRH/CLZVU8ArlWuiG4nCUDk3iQ4ekmzE6KgSGUy8sK8ywqdnRhZIhmZ1IhBX8QBq9XC5SkMxiQNMNYsdUbriYIMyFxUT76y7Eq0JqgBBCfLXcQnqZvSc493i4zAepw2eLrRcfCHcRik2hGMCNe62jhBxgIeBRlpaLtCQt0mWxnGYV/HSZM1kQEGEYNqsU+4KE7xooATzJOWTNkRXMY6uwv24gvz7UsnfNEefuQBa1++2KbNmGpHfPQg++iBh9n6W26KgUCt08kCAfHhsXTax6VGgMpbIT5NfV8vVLc/RMDjbxTH5BcV72JkRakZjiBllKVAe+N49cNzi+NnYUi72Uhcjn55ebokEUD/q0UmjlK2GsVXhOg5EWAn9UZ6rhg2Se01VsNqGgEhY0nVdJdYVDoxrStaZLTgTOSQieerdq0MMgbnnfk9O+kb3zXsnBDlNlmP9vsBMOvNbbEP7LuPHfbRI23Dbbb1rUcOK0ziyJ4ygoJktHSPwBH48IkeIeNofdBLKowBIEmH4hYgFfcZwZQQLvS8ZTEscX0x4S+33Gj//cEP2Y/Puczevd+7XXbmxcSiatUL30x1guyoNQEjsJraSILnInje5Hs77A9XXWH/74e/tJ9f+GvbfseNwB1aJyQlyLEyYIFdQgInZoJyYpvRqNNaTWA2tL64janq97pUs4j8BM55Ew9I3NU4sUTg0ToRrUOeZVwGwYjwbbJbAeO3CGik/FdI9g5KxFEN//4REBhEouC47oRcFlXpSmC2UBQH7Tvf+5HtsM3OtsYa69qC+QvYC9hv1//5Srvrtj/a3m9/s/3hT/f61K4BMKTni+lSG4wivXBxoqrPuWRRsr6lSdg2rls36XUQeUUUfMr1XpopiXpDScviomMxVHEQZEkRgwNCxArSnxXshuvus6WL1ApqEBesTZsxUA3lC4jTogWjxIIyUJCdZwSLSjVYjPJ5Xto8xLYLhcF8tFfZH6phtY2A1pBEqqZG/CcR8TJe0kwVp1df32BHHXuMPffUPTZzSoMN5Afsymv+ZPlSj13yy4vsxj9fa7vttINdcNZ5DpvCVZGJRiQlKzCvJc8SDiojJvY7l+a/4FRAMdCD/wEPKd//rPe6hPyQTQMg4m6LNqCbUom7JUUGCqAuW2tDg33W09Vnjej99T5NSwr5fkeM0Z6OCPzLg3ois5YDiCzdb7/hVuvuVRuRtDU32jD96+7sQkrX7EtHrk5bvOCv4cQDa0IWI1PBeAlYdyKeqwvuPKoBTh1JgsoqkFd9UI97BxH5xz0vDiHmr9CP82JChkqiNaY/JmQ/x0GnRhGNGqvJmQBY9IbPI6jhCpqoJSGgkv383LPsjP85y+ZutJV99zs/duMuY5vQ1ptvYCcce5QtX9Zuhx7+aXtpgeLZOsEeRIGXFgG3BHUxtMCixvqFNwHGtEh2J8WDDUFW+2Igubco7lp2G7O/1GGbPwLe5uZWJbB+LGzTQP0wxiIKObZTCWPXN6AGUYeotbuj00786ilW3xRNt8JgP0CO9SZhCE8FdRieCeYHB3BeQlnpTB0AHXHBvmhAnQ8VcayAbkp0dZp9nwMyRsxViUYfxGpYzSNQsYwikhXXGW3OgzttbLY+8MpOu+5qx37hGIjfsn39a1+1v9z/csQLuuh1GOQ0gJRYnG2kkKqFQx3Cj4CvCcBwZzfvtce3RaqfsuVBxnUwTRKJDxSoT8hPHPKQFNckEZySV/uCFRz5Aa8777Sd9RS6bZddd3OiNw2wNiNepwgXoUfyNATXDagtxQwAZ1DL1vXyAvvGKafSHmBRYmfK+uBBB9pL81+yDTaY5dbjBQqphTuuYb91Bpa4s529tV4JbWNNGaKsNvZBSzq2lH23TY0t1suyJqJBDkvU0sb6ZvTb/T4Kta/gWMaXFV+hJl6YmL0aj98pmmUOgNHUjJG1sCCTusaNQ9ifWOq1iy7+pRV6BuyADx1sU6dHnZWuSDTuO9/xVttwvTWsa+ESu+LKP/hLF4txF20tBCfGNEApD8OZ1sVOfBx6Qbq+DQLA7u3B+5AyioyHgs7WNzpCXtwR+ddSMdp42dgsC1usTTEYKcsrkTpAJULa0nn1tC+1Y476jD3y96eNNcVD2sXdADBUQp3vYQ3WvXQhOsesdfQNuDRuaKDXufZ+ihSqzyEqE8JW8WigraG+yfoREVZDdQRW3whIwiSME037CHily431vsTX1jVYdw+7DZBAfuiA99ucyViidy2ym265zWExA0IOSLyEnLR9SJKiZUsXAQNwmNlot24GbNfS2uBqJsFaqYD3vvqsdXYhEiaqLptIjVgzpNYCYQp0tYLUYRldkD6/sYn8bLaaNMnKfT2eR9IuXPGQCi5Zv10KLKMs1gYVIOK6gXWH+j//xePs1nv+6oZbTYJfyjQcfyhIXD8EMs6z7U3LyICwKxZtkye3eR9dVcaagtMLTz8AMTF9xhr8wpGRHH5RjZiKvn5BuogSbe2KxjVeED2fh3idjB4mHvqaeD0a+XLj5QdgE0+yRDo9OufiSSmsJPCCQ37u+aftscced+iZPmOWZ43s8XzqmzXVW0HcNGTnn6+/3h7+693AVYNNRp91wIcO4fqIrTV7tm212Sb2uyt/gzgMIlgG3RT00F/vtS223MKmrjHbTj/tDBvyes2O+uQnrCndwF7orN182x127Ne+b7NnrW2XX3QJwD1gPzz12/Zf+++H55+MbTB9jl3z26sdMBfhuefTRxxhV/zmOudw56y1qX3qE0dCRTfakqW9duLX/p81tzRbQ7bOTvral63IVoqmpgZ78G9P28zpk3A20Ghveus77aEn59n2229j//3e/ey5eWL7FQTM8uJVDdURWJ0jMGYJlQoQMWvaOV9UOwODNnVaBkYTYhcPVhutv47vQL78t791hMkOZnvskQdtv/3eD3zl7JgvfM6mTNa8Lthdd90GJ/t2COOpvGu1ww47HBAvYixWZ509w/bj08+y+nSrzVhjLTvuuONs0YsvWOczT1lLZpJNbphpu+/9Ubv/4Udthx22t5132dXOOP10m1o71Sa1zbEzzjzXXnrpJauvmcLVbHvsdYAd+qmTWT5ytuUWm9r5l/3G8jSwb8lC++937Gm/uvYadnO02txJa9tBhxxmF552ms3JrYlBW63df/+TqJyH4H6b7DdXXWdbbb+d1dc229t329nueeDv3s/eZYttpx22hRBoscnTZtlll15uG2+4ia05Z2v7/g8vdbOVpsbIYry2Vg5FIFRip0Wr+roqU9cK+HlVCcdbHBZe2vkU2Hvs9yQk8StEVh/+ySNQpLwBjJuLGD2HUOBp0K8hdhoQz1+PXM59sAunQPPC449fpV1MoaZ5g/Dlb10R8nw+PAWFwf6FJJzHj6fChlNzIT1li7DJ7geEQvfC8Mcrzwk2ZY2QWneb8PeXloaejmXhY+99a2imnFseeMLrvPU3l4dJzO/vnvbD8OySzrDmnK3CmT85F3VvdxjueiFsPXsN/BnUhsO/clp4eFkpvHn3t4Vf/+Ks8MRfbg2TsN+54NJzwrKli8Na6clhVnpaeG5xR1he6ArP3Pd7d543a619w7x2KiqpWwPhiCOPC23T1w/PPv9cGBpYFvbccYOw49brh+W87uS68Owf+UawaVu9OVx2+2PhD7//bdhpyw3CsoFS6OV9b2+/jxu956qG1TkCY9eKZC0ZG7862/ivqhsRNP+YhZrXQ7peCuUXbg+bTs0yfzPh0msfCkAuAXhe/vfw1Q+90+HBpm0eXiT2wYduC3OmpcLhhx8d5i/sDQd+5IBw4pc+FZYvfDh8/rOHBsvNDLc/uDg8t3AwfOf7PyZHL1uAl4a3vO29YY31dgkvdYdw6ulnh3S2Ljx67y2sFy+EK8/9Ie76ZgVbe6dww11/CVcDO2/Zc6+weNHL4ZPv2z1MQi7+w3MuCj2UdvlZXw/rUv/0TfcMd70wFPoGFoeDD92XNaYpXHf3Y8BqX+h56nH6Mjk0TNoyPNMXApAXQvfz4R2zG0NLujH8+c93aQEKV1/5G9o7OZx9+RXA+fLw7S8fHVKta4fr//osmfrDs/feDf5spOzJ4do//DE8cN/D/J4T3vSOw0NXPoQe1jpBdISRhsNAP53TwqiIiks/Ndy6orRq0PgMghHcVI80vsohv8EoKFF9KwSRgA1CTfCcbCNqaIS+RrwD5NikyVPR28As8xVz4hb7ET8hOpo9c5YN93bZlKktOAaQAxGRunnbbLNtbK21puHPdrId8IH/cld/Z/78bK/ul+eeb0ijbO993mXTp7fZ3m/b23518eWQoXJCkrJJTS1Q8ylbZ8MNbcbUtN1220323wcfYptst70tWTDfPvrhj7D1od42XX9DshSto6cX3XWzTUKkLW3xwpcXmuxRtCvjuSf+bn+45jqbu84GWIbPtNr6Olt/ndn2yMPP2p1/edSp3ub6jE1pRXxV12hv3n1z25d23fPgg+7AX0I2cdIhNkRcYbyqD9UR+HeOgJSklWwav+UAxI2YJHzFaEOWzngLAX5RzXS1s9Upbettuonrf3//+yusY1nZDjrwYzZ9WpPtvMOO9pPTzrTWliycL/rWfMm+/JWTUNeU7NhjP4e4us8ef/xRu+sv99mb37yXIYm2zx59BPuA+22LzTZVRRjmsl5w2MWUNdey3Xbd2fbaay+7CovoGWtMtxYZY9EebYFSs2ZOnYTNiXTTk2yNNWvR4WZtv/e8izUma5deeZVz5IsWSN+Nf25EyjraIPJ4gJYc6+sh1EpgExeVX3zRBS6522yLrSi5ZNtutblL0K78/bVuh5KmTtmOtEydadtssx0lsuBgvHb3PQ94W6QyRuqNWk7tg6aId/6M/ZwrrZFjE4zjZ9caVMNqHIEYmF9R/CJxsowVXUCjE3Qy9iYQ1F03ddnzzz8P3L0Zy0aQrhSvWU5+WvaStS9tZ0bX2Tv23sM4i4FtCMLgurKG7QhiroB+p8l1P62T2jD+6rd5L7zoC8ROu74J/TTgV8zaVIw9unp7rI20/d091ojoe4stt3JddB97oJtqySBVE9tdrr3xz/bs48/ZC089Y5PqW1yHvHyg02qpUC1vnrkmgBjpqZYvWW4L8XU8e90NeKcBwLl9gxzYm9193322+y5bop7KWHd32dZCSa78Azjub2hptJYm/GLzjATcnfdXQ3UE3nAjgA5X9lVCyPL57lt+BGxM8HvuvM/p5v96xzswfDJ78flnXA/8lj32QN+MT4GhhRC8Zk8+8ah98ZjP28vLptqZp51rO+3yJjvv7G/af//XDrYMu4wSeqa8jC/JK3jI6rAXHUSDUVcDSNXyQxDk0yGCCzYdRW1B+7BAiMVCtPtBlvCCnhyNQFVtk6dMc+OqwYFuJyjU6B6MyrSzoxEmQGae09aey9qCEVhz0SaTvwGjsjKnyBVB2sN93Xbn7bfCAE+3Vg4mskIXOJqWsWf5nvsetOH25aii0bnT5kGIjLbmNuvO9rFkTcLwrAYPb2YzsIfJoVMWl5jyfaCCfD3FIdbgjUZMvF8VvZ14nXvj98innl/663Drd/2K34m91E/5lEX7NGvmBnb0pz/Lzxq76ooLradb4KgAeYlTj78+8DjcaZ/N3WQ9+8gB72FSM9k7euCys+QGcMRRszAsXt6LIRZMdXe3zZ3daLVwt1ogLmZ7Rt9QN0euLcWAaz7IGOCSFyY8uQ2GAetYvITzpcShQiWw16F/ySLbFwr8mmuusY997CBbe8N1bengMkth3TmtYQrVNwJo06yve6EB6x6ynAqkjjZiMNKApfQABmoDRXETZjtutYWPwTCWILL3amKRWb6c5sPVy+pzSIwG72WV7SvdWE8+URXVv9UR+LeMgCA1uSKw5VhT7C2KfpiKDLxw9qCWYEH92P2P2/J4V8OB//0BDkGFQ4VQlSH0heedZ/29C/hdtBdefMk232F3q8022ve+e4Ld+Jdbrb9ziR1+2MfhZjtBwuzvR4J0x83X+a6gPkyVhyVBw2Of5VqxggaCMlg1dy+1WneBW2PNbE1SPUX01KLdS9pSxLNcfrJ9GIMq/CnTkfpcm9x18Y4T17BHcUDF/mTW5Cm27LlnHWZlYIYDczfClutPHbCRgr1df8ONqaBgiyG2rY496Zw0Jccgu++6g6UlwUP3rQbXcmmbrbZjFtjP3ECZ2mUb7beWURgN04N7JImDBpkQ8y+j8RPsl75WNay2EdDwy8Qj2vwv71YCXh0UwQFtHu8R/NS+/qG84qbau/d+v33z65+zJS8/YF8/8XjffljkyMUnnnrBjvvOadaJXPfqy3+BAQZAUMP2pBQotHuxLXribgyn2q2ru8+uvvFBSwEgRx/6ceJKdsCRH7Mhkp9x2g+sZzkInKovuOhSkLa8fHEsZz8ACJXfgIVnEGIVgMDFXnTVb+z6O+63NaZOs4ULF9pdTz+IW8BajMhEAIhg3tgWdBUwMunHQGS+3XTjzbb1LrvY4YccYE88fKctXbzQBnGe8Lvr/2o77voW22OHrUzLwFK4dAhpjplrR3uFNbUOx8g0WjPjEdhMreoHoP79RzWsxhFIvEyt2AQtnLJAju6rap64H13jOdB3XEV2dCwGd4BkhoAbjjVd0M/eW6REOgG5Z9EzPp+feuZl+8iRx9si5vQPzj7fttugzZoZnHfs9V5Es2n76Y+/ay+/9CIc6pBdefVtSIdS9pUTv8Oe5ufsLTvPsrftsRM0NVuOhupsh+13s3ftsaN1Lvibnf3jn7JtKWOPPvyI3XX3A+DRZnu5A1/a6bxNS+EKmd0P0SZGiG+45mE42EFgu79rOSqqonVjXi1vWz39823+QrY4DTXbVRcgYobY/cB79+GY1lZLT1rTmthzPKMMDLOF8crrbjCbPtV66Z9E1h0QCzWNbfbpz32RhajHuua/yA6IYDffh/Fp6LVPfHAfKOsWm9/Zi9U31uPAs46qdMqbYym1kbX3AAAgAElEQVQzHNVahDuQEEHuC7L4xpZRqF+0LTnwSs8rzpjxPn9WMferRl2r2RhgjMHC2NZw+EccJeMlXTJ7KIbunvZw5913hHfts1+ozTWHTG1DmLvOeuG4Y7+AcdUC0rBbEIOM/p5l4abrrwltrY1h++23Dccdd0JIZ3JhztyNwpW/vw7Dicgoqm9wYTjjzFMpY02WidpwxOHHhKVLMKoI+fDu/9rD19ZsXWNobZrj1hS4efN311//u9DcnA577bVbeOTh+8IJxx8bWpvbwnFf+PKIzdV3vvUjaPZsOO6LXwoDfYOhv68HW41i+OxnjvL1uqGhKXz96yeFRx/9m/f1kUceI16uglKc1pYO559/YWhvl6lXFPr7kzEZiar+WG0jIKMbmdeMBhl1uaETf5LpvXLzkvm88pvxE6M+CA4GwgCGVvp99lmnJ1rlUF+fDXV1clabCmutvV74+je+GZ5+bv6IQZKDNgN0yQXnhi022TjU1abDwQcdEl54AcMwXh1/wonh708+G/bZd7+wxhqzwllnnRUP6HB45onHwn77YiDW0hImT58Wfv/HP4SBoUK4+96/hrqGeofXTC4bfnzG6V5fAaszvXMaiSvX1BhuuO6qcOMVPwsw0WHt3XcPex/06bDZ1A3DrmttES696g9BNpi6+gbL4ZyvfD9s2jgnfOzTXwnLady5P/hqQLIe0DR5eY8/9aTX86vf/DrMnrNm4GzssOeee4aHHnoIUw/WLPJsuvEmrjjT9dlPHxXWmrMufoEhS1It4ZPHfM1HMrkWdQy4PWu02o3eE2OuEmtheQIYdI416qpRhPQJbW1teFHpGkHZjMV/lMedVdAq/54ooaTKsAqOL/oW8t+MGArnGLVYVqSw5IooXzzeDKDP1X5Bgp8bjEhI+x6lX1Ke69n+9K5932d77vU2u/ba66FIkyMbyCA1j8vUtKdXXrWAsOEcoi4VRv6aPDfRpnXW0T5ok9tajO3LGFf1okvCoQAcs/ZPiqXugfOuzdRHxhhxv3p7CmxtivYrtrfL0KzNPXulRA57wLMPXLiObpNtSJ7CWchG4vowCpEBl4LOca2lYYloKy6gelvNIzB2rUjWkrHxq7mZ/4Lq4YrZo1+LrUUfqp8mTskTp9eP3UTbpCnxIT3NcH6RpEANcLmAi4pdCIVhFLCg/b564jaIgrm+MYcIueC62wE45gZhvTiPRA593Z0RTAiGMKJKlpAe7D1a3C9AFGRbItEwazz6XvY/d7T7SX7y2rV4yWKbOWOS/eXGq9ge9WHb9O3vtDuu+5O1dqkiYK2Fff9qHxeWKZZewPrAtqZeQLmAwdXUtHAFi0cKRx5I6HKsAV3dXTa5FZE3QT3qx68BiDm6I7Ie4LlB6iqFeBB06pVWl56+YTx+pdmzPYRBG2e/E6e6da8MY59XsVyOyfHGfhSM6PxwnZKmMLZ/b+zWT8TWvY4ZJaDSJcIpi/VkhIwDjjWKiH4GXQejuwfSdHd1u3N3f0TZunQpSliCThURkCitDJQFE4JpWVy6y0o2+0uvE2dlkvQAWEKcnP6El53JkwF22oszHi9LpHGEjFW6nBe0jlhGylGAxOwJMlYKIeM8xihCxl04ps/LCxAhcbUoRKu2FDAmEYIWAhYyLiKCV1vlJ1lIW0HPuqqhOgKrcwTkmarM/GxqZdMgMBAhY/0WbNVCWGpPQBSS+er+PQhyfSlYEPGchMHY6EpOcjTXhYyHZG0ZhyHgU0jOAZf6dCCBguBJyDhxQduJP3F50KsHUTphRJop6IFlCCmvXTNxzDEMIfzMcy9CAEBgIyv2ZnFIBOcqepn9GIipFnnus6ny3AVZDqEuL1yuQsK95hDefYSMB/B90AYyLkg3TVCdamdyL3JGQoKMi7TZYZ9iBmL1k5CxQLsB8buroggdEPCV4T8BWVU55BU++RvvQRNawS0fCTpRR6e3CIkluiGBqyarEFhW1LbSiqQmzUtYYq+33sacZRpZJu+xx5520803juhi5NhHwJStl2WowDYLsGgLgs54lU4H62acBQyif6rHinv5MhwdTK239k6dext56SqwiGQ52UZKoRL+9xAz00b0QDH3XciLBqbkeoBOiBQnAmm3ylJIYbTVQZkYbRHUXTUjT305OA8FIeRamWATxDFLQlCHnrrKKfuQrPYwlhP+T+KQhaXkoU6H8TRBpGo+CynK/WsSREwLVjWHhZTZQ+9HVdajE1YoFQYdntlLDDGquc7cjrFPMvflRlP5RYxLwpSHC9e5A5ksls4AleKF4MrsZfQz0oGjfrZCDbMdobm1xfrYhqi74sU5C1k/+ugDtsPW27sOGatO23WPt9sfLzzf2iCcCxQhUsLXlf5em6QdHOSFkXWCPDOAvhxvX4aRWE//oBuN+alV9EP/OuD45N9cBIO4cuWV6055GxNRIQ99Pb3yqd2EYyLWLcaiF+O01mZOyMJ3dx2e+cYiYDVzooWxHHIVIb/Bv/DoYhdRyX5EF8hMVwFgS3EOslzeCV25Y3o/mw1RGkhWMJph4udBYjkARid5pVJ1LBYp6+4TENX7vmD3AY9nIAEqaihExpDMEf6Hc6Y+CIAiQFLGUjQLIhwYGIbaTUNpd+FdJxZBAYRyIu+HtTv17g2KEXAkFmePP++i9nV3dVgrltM6RtGJC9Im4uoEKWvhampq9PgcRmJjETC6ZN/7XA2rdwT+cxEyyLWnCylQJCYWYtbcL4GAhZATyU8MCiNqmORrSVqERxFrcGtmgnYMAB5S4aQgaDXvVYYIUyGjHiybc0jI6uRGN4bPCGXK6LMEx40LToiCHsTnOhxoBV/QANVytitMnTZtZLLokJcajlBFkcuZbPImxvYnmlJm94TORe7H/WV9RsaZ+JqHuJb2t6eAxbZsRclbwtAzw/alAamZ2C0hhJyIqRP3uKqsm/Y0s2FaYyN3t43x8b4l+u6Hr7KWwWKw/Sk5kIK1ACJfa4kYg4mIiJOPMBYhjyVCRj5W9ccbYwT0wQRoopQFfDk26mWc+o7OORUXqwkrMW/i/1UUqERpGRxV93Z2Wy5Gmk5Rg4yVNkFkCQculJ4GWSenfIlSzyOOElAMscCIas9yWgxrDmI0Fh0WABedxUEnMGmNEHUuj3fKr4YNQbFLR93dzYESIGMhfYVWbBYUxD2IUBCyTTjifkRqEp03A/mKl05Zd+nCkvTKW0XGPoSrNeibRwLRsc1IrK9FSI6KXJNUUb6xecbfc3NLm0ttxPnWSAwFXGZw/diJCFlBnLPmrWBUW5AcuYji5NJ8dzEuiLiro3tE3Ot7i4En7SfOAXNC8CoDAy6QcbQro4AESQSugkTeJWDIOXQAVKojIeMCdetISK+P/JXIuGPZMmAqA9IXPEJE0375HNJpS9DdSMT62dEAUqc/AwUOe1DXkL7hCgAJmsRcMAVYVg9DqGvrohCtkHALhL+4cgUREApaK7Qu6ESqxmZE3xoEHwi2QEF4lEH8JbZLZUkzjIjfL/qvYyOj8SJpMmHG3r2GiROqHPI4+JZCQhJTJ4dZ6zkSa0X0lI4rrPczNUW5Cv6gfIUVxY0SpLOpgQ0W1e55SaslssTZb9qsr3zSdQk5y4+s9LjylOMefwg6yUli6Mpjwvywc8ovqy4KSHTNSu+6MqpPdGVFidF4UHqVpXpcRwzQ1dVGBltacISYk/O5lV5n7Oqcbv0WgpaYLyofDiIp3GOqYXWNgK+P+tbRVPNmtGH45waiepGINWLuT++VJwkV2Spix+/P5Dz5sT1wz1iMh2Ag4ZyjOV/yOZ8EITEhXqUVrIqIrixTcJCcn6uB1AlKOvUpGWsh4SwwI5gXUa7gBp6xYYinFxwBP5JopfEaJpuSZvxsC2xBhaBgnfmkE4116KrOV0PvjC/uJk5iyiTHSLH05DlEIof9iogOwakQr0vu3A4FVF4Bo8m7ZO0SkyFCOyLWgh/ZqCCDsyhINC9RfPIcR4+9jfMJNJZDriFCwSZxCogWvGTANAmS32PHoPr8xhgBP9qMhU4b9P08cUTVonT9XrnqESWw8vTKwl3PCmn3hqOQCEuS5+SeAMTY+LHpkzKS+LjYFW4qIy5HHg0UnPSuhvE6ArVIYfrgqupYSOWWcRmclzi7Bgx9ehDnipAsIhXRcZ3So2pdkT0C24FcNCovVaszJJynRK1aB3UJIaofkgAJkb56oANObCTwkaR+jWeld6c2rz4AQmq61C7dhcyltlK7paMtDMbGWK/eyFW+1Rrgh0XSFp2LHGpKOA7R+sAz9cVmK55Xpz+lYJ1rh2mP1hzyuXYsJZsWEDftcUkA7UvuIjQSo7NVNkBrAQR9HfrjEpx2QnhozujoVzlAGUK/rL6LIYiMOoN/Ez1Lp16UoUqypqy6kjd0rL7hokWLnJhxoiXqbI0j5EceecQno4K4k8pDx9/QvfoPbVyCcwX6CViPAtHYBUGLRjRQype8jTZACQrjQfQ0epuUGr9bIV5p/lFEmtRc2epXX5TillVvb7AR0JTpHSjAHcHpuH0AN9Qha629JicJvTDClanZBaQ4/XBSk/G/Xjn/9OXjabnaeiduXqoaMSTiUIWIhRRed3Bi+LVSj4XHaP6LSFF4tewJghODpEU78fEsCVO2wnjstVqwqvdyuqEQrQPYkPBL3ckA/wlUqqXim4WGfZOVuGSeRro9pvHCKWqr7olUa1V1a40ZLuHExL2JrbgGlBB7S9JWJ+9jqwpUnneJ2qjx3KqSvdHjhGe33XZbV0u65INB86U4Mqzxnx6q3PHIUPyLf4wF1KS610ZSydeqRG2VVO1KDf9fIWRxBmRIONgRhJxs0YjEx6MzZqXaVhGxcl9fbSFaRQGriHrtcVpFpmrUP2EE9O1Hvig/4F3cp3oKbkpnWVdSeTgJcct6beGpRRVSYCtNBreoWtr/73PgH++MuK1EtLqCEVbMLb+WauSV5v9KfUoSjuGkhZBXgF/vSgWc0A7nnFzkHCFBISoX58Ixx1qpf3gARppVo61G8i0muJaRVaT3VsFKI4SM2Sbxgn9gDr/4ii/yPes4L1l6biGVEQM3WX5XiKxXNU4SiEt3rGNbPdBXEW5CSTkZlhJk4BZxzJEuWr+l7nK6gPeJRiQqYHz+lbhfYn+FTMIJ+77SMZSNxA3C2tXwrxyBlZHUqmtbGfH4JAfAK0twkbWixxSitCuKrKO8NRJZC+nKkiPJiBhKIOiAh/HGSFB8TbwZoixLz1Ex+Gii+NdrivCidK9KQKxUaDXijTQCQiZ5OBktqFoja/A/XoLj2XSj9dFhDuKLOdZVamcApx7J8KcBF4oJMtYcFXLRwry6QiIG1oIo5CzuWMhOa6H0oPr9aiFRG42kief92Hk98lwBFxo/waVUThF2AQk6UI8iQ+ljc9IREzrZatjEYQw1DHZi/5G0z21HKOd/dY/r12JR43CNKDhEFtxJ27xigq8nWmtA3DVwyKHMt6VOIWNZdUuyKmRc4FtnEVVrXCWKnTFjhudP1h5/GAlw3CI0fBAYZ/Iob8It9/bK+RBbpggSWGhft2xbiiDpGt8XRivHDvRo4ePil8Yp+YZOeEksLW6YMxmdSxYCTrC1Er8WhTguev2Gb+QKKDVu7coI2F84wEYhmuRRuiR1sn9xNFX0SwA1Yl9T8dKNcSozjTzHCDma9xFEejoHTQcep1Ljx4oi459Ji5K+rbo//3cKd9Xlrtyeasw/ewQ0FcX1Sg88gJOIHIhZSOyFF17gSE0hEfSCfT2cMyA1GNxwLAYWZ5zHCj+XlWW/3qzeb6iFUFxKEsTpJTsIXmv9G0GoceZk9+xK83oEbkf7KtCRyDhCdkJDkYFlVFQENzn08bI61kELUismHLX0qQra1+v3KNP/6u64TNWQWVsmnTASjCdtHQvbDv8QK9y9WpKXOD5RVt2VQUhZ1uAzZ84ciU6KXHGlgyDRFiuIDjdaJZG+RVZiahYmIWPtLlHexA+Bb5ukpT73uCc7S1ZowDh7EDEj5tfxrdouZXoHnl2EmEWVJJOzyh3/q79s5fT8V9f1OsofWTQSSF1V+xQ3kvB1FFpNMpFHQD4oNCNkseuiREJ9A1yOpoishCH4+3H1WJa+DyQ9oNMDCELGA3iqWt0h2dcvJkT7dBUSZCxDr1cLERSo96uCk1fLybtVgNArlZIgLGXp6OhCFy9HItLfR0ebqqakuP/tfbSVGE+pFBWQNES/k0v0ub/WGVbRtiblFVJMQkk7IeBwdQmxvrZBnPB/Bj0wp81xml2aoxqDW6hGZcp7oNz8ClnL6ZGkMUXtHiEoxURYiZYsWeKIWLhWV0rssiagbySHuq3cWypKsRrGwwisApQrgSmB0hW6kiwk8ctVpnmlvq+ivldKOhL/Dy5cr1luNcHqHIGe2GVrS0skVpX4UuqvAW17Yj355KGHutgyy6IrJzKzZ8+26TNm2U9+etbqbPZI3bIEFuI9/fTT/apc8yrXwldvbDK3K++vkCOBy1d4PTZazka0V1mM0q9/82u7/fbbR7ZJJVzyqmp/PXEjddEmbXOSDtmxnK7K9aBiLREylq1AErQrqSv2wyzjuG9985t23rnnurT19RrGaU+1fIAr5BqiefTyy/Pt/PMutHnzFrgxega7gzokMI7o4+ZJbD/eg2BDDLDGS4SXG3WJkpGD62QzuwZW7u+q4d8xAgkEjIqyolrHPo9pi4DERU0KKiN2OqDHscCUELHxfTSPilBe6ZC9oIj0ZPsD7E0UL51SEjhqTseleQgS8WFzSZmVYLFyqxN9WJKqwjpzpOD/y4+Va/y/lFbN+/pHQPNIi6NcLUvcqOklb4pTJzXbkqUL2eOqCVq0m6+7lbOyj7f7HnoUHXKwp597wnZ50+52/JdOsFNOOsnFdKN65Gh+JK2Ipmw0v5Np7XFu+6CM0ffXVp0olcqK54TeexpuzOnoveCE93FhgxgRnfzNk+0np51mH/rQh+z8c88jQ9kRc+IkJ9FpJvWr+tG6IkQSiZJH53a0nZBUiTrItzhVhLhdydGC0RhENUVjoRqoh7VZXPwll1xmS9mK9clPfgqf8FNtGY5EpkxuXYWwP8qXtFljFbV7xfikJaO67Y4oKuj88ziTxg0JiKdRN9Mct5juo+84KAqoIUhXwFVuFkdBI6tAYovC0Y5lEGaqBl2zGsH3idqRGLHF60Kl7QrMoQ7VaGJPtPLMWzDfjj/+ePvghw+0ffbZ19Ub8pVdh7cyFSlmGe2H/x7PQYSVCA2FlIwXRMnExtYeKWRc+TyeO/vGb7tAcVXXa7Q8noU+1yuRsbJFkSvf4yJH8yT1Anhao3TxMlpc2Pgg8RH/v33qqfbMk3/jhYAa93d4/zrxi59DDMk5pkRpKukSwEmkFNntA69MslFgieuikmhBXFWf/5G4uFPV22oZAX1f1wO70U00CYJWcTiasmE5GpbYuuusab3d060R3WBdTb3tsN0m9rUTP2c/Pf379tLiRbYckXYoQejJjyuTSLOMMwdiPqyMZyiJjsvWhe9jkYTuCEpGQFrEOA1JefJs2OkZ5sxucsFiRIu/T0gukNog/wpyD+sRZtf+/kZ76ol5flLTV085yd61/7utBQQngazqGnVaQYk4s1EYAsEIV+lJTXA+UZNdcx6Xs5q9AxgdOeJhbzYeOUiEF6rh6LAERet0o372DuOeysp9HAKjPHCISdCe7TxIR2XIq53cTd5222329NNP24lfOdEmt7Q6gmxjn7f80At5C2nLVqyIBy2dzFZDnUrj9mM0Qb/zfYwxJ8UpTpe8+YnT7cVpj299KkB4D+UMz5g2mOBXOtlPnmGQa8Q9p6wDJ9dDxiEWwob8x5ef+7yOxNiMSDR8VuxdBjJW/1W2+qIyuOJ26ZQ4f6mDK5QHY0DDMr8JDrkgh9mENWfPsrPO+pldfsml9vQTz3ryehyZyNrbiQSeR9cXzzLugvCs+/qOg+ZDNaz2EfgXfobXnLFR3SsmU5yMRlL23LNPQ+QP2wYbbwQ8FW24L2+NrZNtmy02s1tvvmHEBkQgJLjSlpcii6Uv1LERjw+vAEhX8rvyHkdXb+N3BPRp9f2j7yxOURwrKzqW+Z0d6GZDK3pm6Zc1M4Ztm222tP6eAbvvgXtZkGQ5nLFhXKZq4S/BcmtPcx8rvY43zNVnDNshd7uo04Fkz9TfTplalX0XSIRG69P1SPmWIP4r4+ddOFGrv4rEaIj5LKSs8ue9/Lwd/LHDsAqe5G3WVi0ZIRUhCHoHe9lSrdiAVXivIzvNY0kP3SI27mIXjcvjtAJsS8dBnPGBDgl+wdsFjaQ/wE4GiqUH17EU5fgph449z1GIKR3aIi9XEAVFMmoMpcuuVV5gL8Ug6NSm73znO/al444nDtwmZK5uy4WmUyYQHxAKA93yrAfclhm0NERMF24r1Vj1XwfDNHFKHK4vly3q9vw69amgcUFH6+hPbj8pLs+7DnDlsPAlxcmBi7tGBcFakeMUOWRC6eUMRHvW9D3V7nxJGeCCad5wL1vbOELSJGnTS6Vn7PJFCCoRCGTNudc9XOGiD/c0Iq7kdpfmi+OWS04RGy188/32fw+I+Rw3JNPea47v8DLkPGSihX8hJphoQzVB+1MxpwW7I1ccf+2119oWW2wRdb7CHd773vc+u+mmm9zZg4LyVYJH5E1HsdUwUUdAX1cLiK7kt/oaiVxHlxbpaYdZaYVnONHPcyxcuAiOtNF22XEHRLIDdsMNt9r2O+xiTalae9P2W9vp51yJyJuFHD/HZ37/VDvys5+3L538HVtvnbXttptvscYpU+y6q6+2zTZaD+48Y8d9/ku2aP4CxOVNdu/dt9thn/is/f25eXbKyV/iMINGO/DAg6zeGu1xTjjae889LA0SnL3W2vbWvd5hnXCPEhmWQXAvvviibbnVFjZnzTXdUZKC7Gxk4XziiSeCICZZ66Tp9sc//hGkAhIDWf+ZdsycNtO+9rVvOkzcc9+9ng/loF115ZW2/kYbuO788MOPhBuOuPflnR229+6723ves5/d+9f77dJLL/UsOjWpwN5coWe5nFUbZNsTOcCAc+cwlSISg6WLFtqHD/wQNj85P5yibfIaECrNduH550DoLLPvf/+H9qNvn24HfuAQ23jjTa27YxF+7Zfbyy8tsG233tO3qu277z52651/8e93w1UX2fRJjTZt0mZIMsyWdz1vm6w/C49ra9jSxXCvzWm749Zr7F3vPtBuvuVxe9Oub7F15syGWPiJi46zHELx0ksv2nHHfdkefvhBK3NC1MLnn7cTjjnZzj//Krv9jltts80249rCHn/8WQir6Px1je0+b9sLxN5kzSDpZg6ryGQa7MILL4zGkL9vfetbfbwXLeqItubKlS91RqfTjSSbGD8YEKmRA2yz35OQxK8QWX2YeCOgz59cY74/SDV88ojDQ09HewhDg0gCh3CTPRjy7Yu494UjDv5weOypp0KefAUuUoQS1xDlYbEflzbMnQtP+NFVUV809Spqrf4cjyNQZALp+/sXZwJMaW7l9wAX8yQ8EV56+l6Wz+3D/OejRPfec2NoaE6Ffd77rrCwfWHo6OkO2++8S7j9puuZPJ3hd5dcFKZttmd4rieEzx/yXmk1w0Y7vil0kD1f0jwaCnfdcH24+JyfY/9S9Dl39NHHhkMPPiTMf+qusO6abejhZoVTf3IZb/rCiy/cF+aus174wx//FIp988NTj94T6nIzwpMv9Pic7eXvxz97RNhu123D3556lPLy4WtfPSHsv9++1KXSQzj22OPD3558xvv43ML20DR97fDrq64JHQvnhcM++P4w2DUYBinslJ+cEV5csjgMLV8WbvrtJeEPV18aevqXh8JgKRxy8CfDRz5+ZOgtFMI3jv1CePj2W7zs62+5I1xwya/CAPoewY5qLBTzjOpwOP64Y8JXTzyBdlBzfOV7esJHPvCBcMo3vhry+eXhwQfvD3NnbR9u/vMDpFkedthuzYC9bjj60C8wYBTGkPV0PRXuuvPqcOhHPx+ef7InFAqD4bIrLgrNs+aGq/74Ryp9OVz363NDbcPW4bHn1Kre8NTDt4Wp07YL99+/MPzlT+eFDWZjKZBdK/zu1pd9zXjgnrvCjFnrhLPP+2Xo6l0c3rPPngGiJ9x13e2sEc+Eow57P+1oCR/Y7+Nh6bJ5oW9oeTj08E+FIz71WbLnQ3v7vPAWvuvPT/sf6h8K9zIekxtmhBv/fKeXny/0cWMm5QfDzjvvFa688lp/7s93BrZbeZrxHoRn2XI80o0qhzwx6Kp/vBeuaHJhY8Tiis3lch0U15OPP+Hm+NF7RdZY1s83Dc45L1qwEH+yo6/1S7sWZKiQbHj3twnrHSVd+TmJr97H2QhEHpETLllzJ4XIN5KNEMvc6GjvsbbGVjvqc6fBAa1h73/fB+2Qw46wyy67zNaYPM3amlvshhtvsV0x9Prt//zUvvn1L9uy5V3Wh3jztF+caR8/aE/bdqddXHcr/9fSNX7pK1+2o77wBUSutTglqbUz/+cX9rvLr7LZM6fbH665yrLN02zHXfdwvfG0mZP9LO+aIRyY4AEKxAanPmSd6KTzcGjyS9UHR7flllvaxhtydjj/1oJ7lpRHFtgPP/ywXX755bb5Jpsg6q3nfPH1rI8tUrJ4lnXsQw89ZNdffz36aLPPfvYotzKXUxRxefvt9xG46qluaX7BhRfYNddc4+45ZTT2u99djfh8kW2//Y524IcPQO1e40ZKBTlV4TAY6ZCfh8vcfPPNvd/SjQso2+F077zrdjvk0IPdNeXGG28Mh1+2J5982uHz3vvvt3XXXd+233Hnkbmks5C//e1v2Zvf/FZbZ91mh2lJuXbYbjvafh3yfY5sxAVqCWfWDCGhYG1TmmzOrHWslK+xnffe004/88eIOGpss43n0EazbXdUuz9ot95ys7Wy1/y8c8619c8PYYQAACAASURBVNdZV4ZJfJc6O+OsM23Lzbew9+z3blc3SKy/1ty13FWmFBqDFKLx3WGHHbydO+y6K+1e1/72N+xVCFlEKhoD9VHf5plnnvF4qQ4ksp6IoYqQJ+JXfb19ipHvqyXXvlEBbwlrVDdgUR4FOXdHTCXxo7znKMQ2PS4CU1gBIcdxfpugwFTZxf+M3xEx58QbHV55MZGlVz3bnTiLG/3jWWcfY739i+1FtrT8P7bHNGTlFUtncBfs5ltvt3e+cx9be801WNjPsTr0uxw8xrmd7dFRfA2NrgFOC2NR0QCL+e133AUxOGxL0bOWil3W0ctWK44rlAa70NULopKXqOD16NzwhixH/9HWPHrLDMZDOjoxy+I+VOZZhyfQ3H43IDObMXMNd0rR2CinDUO23vobcjZ4kfoGrRt9cn64z77/3e+BtKbYF479on384x/H9/8U+8EPTos8ayGmf/TRRxE5342aecA6u5ZzBGmPLVsy37eWfupTn3IkvvHGm9gRnzjSFixodzs1BZ0t3Nc/QD9qEEVP4t18N+6Snwid3DRrrTXJf6T98Iffd0JCfiS0S2arrbby/B0dOlqxxpGdxmoIGJ437yV76qmn3FkHalgPIjh23nlne/bZZ3XGqfUN9KHGxWRKumR+a7vVM+SZMQ0MjVy6nq1rKRCvfKhIBVxGh777m3ZDDfCYl9cKIdKESL2H74DHKb5bEfX1oD33/NOkZ1ttDZ7POExCJvmDxItI2f/977PLf/0rG+zphrifbx1dnbY7ovxBzljWqpLmo8j5h3TrlX6xpU+WPnqihZVhaKL1sNqf1x6BSsSc/MbcWovsrlCtI750/fQAfOty/iub5ly/tfaac1yXo4kkztiNTuOFpdI38EgjKpBxgttfu4HVFG/oEXApy2iIPrHPCCxmcWLhBkR9GOvIoxexKIebQV46wVsL7n333Wef+sQR6D8vsB3evR8Lb86Gli7BuIsiQOYZOCVtxVQtaRZ1YZQ1QCzz57/svo8ntaF3TQyZmVTizlqmTre/PbTQ6nQqEfmEnEpOOcD/wn1m2EDbsXSZn9Gbg8PugOvUNqdGcdD8mzZtmi1YuBBkymEOxC9YsMCWLOlg203UT/VRXh+lQ/4oyHj+/Pl2LvtvL77kEjvllFOwoO6zjeCol0MsdHRDKBCamyNJk8qbhU75rocetNtvvQ2D62D777+/Ixhd3d24jGxsGtl6JU5ygPbXidiAuyyicz/s8EO9zq223No22mgj+/b3TrFdd9uEMRvG6+IsmwKhIOtwjjK2OozI5sxZz2auMcf+dN01zskjI+WErhzEdgYDu23cALqtdQouMDlHGe43l2OnTbnONtxwTThTdOk1DZyA1Q/SbYKAiu3VKGjh/EW2z7v2th52XtSCwLu7OyA4tJcYQgeErTZsvOlG1kdDBrD+XmP2Ghxc1IO1dBYiKGWf+MQn3MXm9ttvb7vttptdfPHFtu12mzqRkYQhvoF0++pnWdKXmD1+PY5HRgoZJz+qCHmcfKh/SzPHYki2KG2wwQZ23XXXs/qIXQEPQ7ln5AqRRay+vgHR3lpu9SrDDueSuIuSV3glt4OqZmxVnqEaxt8I6Lv7x0zE1EkXtLRkLNs02Y8yBMfas89pb6++fbTs4IPJfzfB/bYvWczcwtAHBH7PX++zVKOOcKSIdBYLXg4YAOnruIFhoWUkMx8//DD7wjHH2DN/f9IlMzDAdgGLubBNR2cvW6V6bVIzDhdAyHksotO5jC0B6YpaXHPOXJuMW8bJiHFvu/VWcFHRpk2eYksWLfaWCSHfe++9Nn36dHfIsRVGXrvu+iY7FhF5x/J2b1dXx6D98oJLrBNPS8d8+tO0KtgHP7i/75vtgttLgbgOPPBAO/LIIx2ZyMJanOf5F11mS5bL6Or7toj4bbfdyn70ox9xZCUezUC6QvJyFCEnEUJs++23nxMsufo6OPXIB4DOOT6Gvv/ivHPtuedetsWLF9s737UjnGkR4gWEieGYuN7mFrxmRWc0gKhr2Pf9NfvFuWfatX+KRO3Pv/gCYvPfeTst22LTp82y9mUvuYqhWMrAuV5lTzz+INutvmDPPvp3kHcrVt9L7a47HqNtZi8/t8DOPPNM+8D73m8tbZMQ47dDsAzaYqQAUlXUt7ZhuT5k8xe86NbZWaQlTz75BBx85BFtsDBoxzCmPzv7LHvkb4/Zcy+/ZJttuYWPU0trs08kEWFLly514mT99dd3ZCxxvkIupy8/wYK0yXBAgb3HI4plTPzHu6682v7XMwIyikDeHGQoE9tejdz1juuFp58PZ53xP2F4ELOdAkZdRRl2DYXLMKi544Y/u12F7CtkiKIrzhbV7kYXYwseTTMBbDKifv7H/pWBFUZVRQz9hguRIR+TYUZzCwZKfcwHGf69J7CLBZQ9I9S3bB6+972f+RyRrZEuzZne7p7w8YMODq2ZVDjjpC+Hh++8M6yz7TvCESd8O3ziw+QHR6677bbh8BNPDr1sgC2VmYtcv77kl2HTdTYMdemGsM3Obw63/vWe8PST92kXtNfX0LB+eOLe+8NWG64N3s+Emubm8JPTvxP6e9rDYQd9MUxp3TA89Nij4eBPfgSlJ3m4PnX0J8Kvf3sZeXNON06aNCW89NK8MES/Djn0iJBrnBxap84Kh3/qc2HxkvawbN6L4dorLg9nn/HzMH32OmG3/9o/dAEfoQ+LtMGucPHFZ4U1110jZOsaw1vf+s5w+wOPhE6MlC75xdnhkbvvDOvN3STstNOe4U9/uiPIvjaBHxlUYuIVumnrjjttE+bPf9ZHrIQxZbHYGz796cMCu6m0IymkazO0NRPetsc7woL5L4bNN9vIx2D7rbYLF513cRjo6fXv1NfbGX77m9/xfmvP99a99qQ9D0XGeOXOMNS1KBzzhW+GmrpZ4aijPhOeffLxcPCHPx6uvepPfKje8PvfXh7qJm0UzrnsLuprC9tttnO47Ya7IhAv5RnndYKY79nNTeH0734jbL7BbORsqVBTmws/v/Dn4fiTjoMth3xjnHd72/ahONwTPnPk0aGlvtnbKwFbrrYtvO2t+4aXXp7P3CiGnsHucOc9fwkHH3wUBmwCNDanMQYrLjTjGwDZVjfSAekR/AFq0O/Js34jt/e4apigIyDo1/f3i9/+HN+TlYH7V477cli2aHEMeMNhoGN5OPmE40MZCFGysQjZRyvJPwYhJ9EJAve01TBuR6CnW8T78AgxNri8K6w/c05Y3r3MrZVDuTcUe7sCBsShFzzliyq/l3T3YYcNjacJoSAk1os1PxbXmjILOobdAppJFrqXveDIm2XY43pUCJbWYaAvDGPdrMr1fpCMst7t6elyg36MdCPzf9LL5rsj9JNGkXFBFKHqS7zNl/toy6AjQVnytrfTliSQSOmgBQInVXlfdXmgfX5RH4bUbgnu7VZ/QBylcnc8DiEs7xzwd7JIH1i+NEpDvsWLsSZWHVydXf0gHOyrfV3WVQx/uu7qcPRRR4T+frWJ8eheEn7724v9Hf6evW1Ku2zZknDlb68K+QERLERpEERA0/D+3gGaFJUp621ZLgtuNW66D3bOpz0DnqW9K8ouC/N8D19JH2+4L/zpmt9xLuKcsECfnL6W9QE1EDINlwX4MKUx1l0L5nn6EtbQCl19qmuYfhe5hvkru/y+sLxjXrjkokuxQB+CqFNhECCdQ2HJkt7w55tu5nvkQ1+hN+z/gfeHxx57AWJEpSnvINOE9FHHvY7xHNZZZx2+PTOXsUOqmHJRiUQCEjVWOlQfdR03wcQC1e6MjoDkzJWW1mPGht1L9q3vnopxCZtPXCaNKApx3NdP/ZaL6arhP3sEtG9Uk6KnF0cUhBwW+D041GhrmewGV4br1QzOJaT2k2qjLvbEOrml0UXNPqcU8uSXswuMqKSnnT4p5a5pODXZmqfOQhfM0XQ89eZxOiGLIk09rHblXEO/MR/CY9SQdQ8U/JQguTnWvmf3YoH7xqHQ50ww59nhjAOViiqnHhmUuY0EOuVaDBVLtLkH6+vWSW20Q36bEZku71QLoz4w/2XsLNG2XFoOoStWKOAxTL5B1ObOXpxvKKCnlZ7TWW362doa+WnWc30bXsHiswLqszqYnjS0uQlxtQyrkiCd6Tv3fqdtu/12duxxJxCdsvMv+KVdf8NNWGv3YbchhxucIcwIXHrZRfbe9+6PDh5HI7TNBb4qi8FvwIgtDUudR5dbwohNBlJyU5kfimA4B0zjWs8/B4cPuah4AKcsWemDa/Aexl7t3sEeROdYf8fq3QL7tvWJy5TfvhjHIXL1R32tfuQiZzXjmU1j28Re6b74IAxZiw9zDdD33191NSLsJ91gSzrjXuZNHRPklltusa233tp1y5/5zGfYv324bbLZXHBTVLHGvVE+ryfA8qPDJdR/CAr/Jq7MkRWtjl/UBnR3DB87e6hUrCcTpHqfQCNQaYyTIGa/R33UIuIeeQh9ssbxkMIogwnEipdmoa0MmkyRPnGF6JUeKk2AJgBMrdS//6QIOfjXN5QhlVxLau4MDsrCKsUWISFLsFTssU1Gf26Pg45QNyWXB65oDrCyy8KZFwVe5PtKjjOjvxmih0GlHNmY8yUrUshiiZuEWlIIYTdgCawCBzF88kq0hlN0DoSLDzkQzbCvc2oDBfrWmkymLt4RQBkYnOVyDY7oEqOhadM49pAy+0FgJZx1JA7osjrwAGtihSzeNPK4z1Sxk+IzfIWt6ihbHsDa27u975r7JWFeHmpQqMvouLGJ9vBOlsOxepQx7Hc9soKIhEMPOdQOOOAAu+TSS+wjHzkQfeoGtv6GG9D2nCOvr33ja/ahj3zYT9CSRzTpmQWMsJXYwFVYovERMnjlEmnShJ4+J3/jCuoUFJMct8gKW19VDFmQ3prrrrvusAM+9DG3vt58iy0xeOuyXBMbxqBAZOs5ZcbM6OPSr6ITKXwxELZ0vnKz2YTjDzadCXtbHfU31jdDaOyDjr7fdtplZyeA3rT7bnbGz35m2+EsRvm0Le5QDicRQaLQKIMzLMpkha463aHaOA+yNNduFOFaXTUYLQSdiawzGbs5qUVccoKtRYlUj2Ac51/8VZovj0qJQY4W0MiPtYA1Cu7KOlo7fLHoxtJVWzZ0NqkOm9eWEO14ElzEy2RUnvIl0BIj/aRMnaUawVGUQ0+vB4m/Sjeqr1bbCESWtCl5rNLn5CPXgpS23Gpzu/vRB1nssXDGYriuqcGKGRl94cAysD8drqwmK/QIFwZGTuPHujkLZhI3m2khTj6Lo07lcaFYi8vHDNuNCky24Tq23vAqJ//SMucvUjfGPb2GJTMWhek+tjcxR+Wf2QlEcFo5z77jVqx8rd8m2XTmtCy1ecmijigVhDEIc65TnwbJ2+wEReTLOkLCjSAuBW3vE/cqz2LO+dEv+XocZltUuh6Omjrlt058cE1nO3uhs0Z3RQJQVdbn/dL+vDXg4rJVhC4wUsZ4KoV/ZoV8vgRXz7ODRgQl8gEt5CQCQcEPV8BwTXEyiNO2RLniHBrqZbzrgSVckDKOwq+DcLTygCXOVdu3S4xXTYZFn6LKSC5qwGo6ZCmPMV1bjj7Igh1vXxq7PESEaJ+0vskAY4unrgFcmhbDVBdkpBhXb6e6wXfXbrQSvu0zORE7FCqih4rUxvaubs5HiKQWAXedOe8vBYtYA0kPCXGnkDBAjSyY32sz10QaR4jIG21F48AJEVrUUWauDMOi5zAw0xTQaVPJWHmmcRYkoZYnO+FazSk/7Ul98A8c/fQuCTE7JVkNE3gEEhJzFKVGB0us3OV+KFkhY6ReTrln2YIRhMGZN6tCyCNYvYIL10STGwkF/SZ3tGiuXF01ZpyMgL6j1mzhtxQTISukzMKKzta/b0YsI1+9mOoHL8AdyURLJ/zwXwctiHcrw5Y1gSjKvQM2WDuF7VFCYFqD5GBCpYAYQJp59gWX473EDYhTfY9QIyJzIZ8AxwZCqRnGtSQIOMRINAOGTIHcSxltPaKlHKIwXMhi/Y3TCYqOBEARHIhba0JCqCBuWEhZSKdQAGmz+mdBNtqvnCCAPAdI5ISA1JmAWJybBMVqe6MfSEHvvG2oXmua5FLaSrRFtEZWhy2IFc2AaJSdcUMlGkukyq46FIfe0hJx4P0DwB/W6BHEcBMyFvdKA8XlF7Fu1prdkGv2MorI/WuRfDrhLC4+GkaHOyF5HWjRQHnqudqb1i5vvcTXlsAaXyBClVbL4RLyja2Pi1CVmEbc5ZpNjqTvjvzFrar4vKzEsS9LS6VAiTpSMYUUIULMURrto9bhEH50pC8CkXRAIvcSVEMqVU/fyxBGKc577nQf4mvNXteRryQqDRBuOqwjk6LtzC02e4z7IKv6RCrtpz0pzJ071z3IJCERl4z73lY78A+PgMMnl7jgxmb2Z7JwFNEz1TnAyVtODOX/cA3VjON5BDQ3etHrCSE7SmN+4MmS7TMzoPb9SAIb0nnJrNpCZBwdEKVkG5OQrUJHTy+LarRop0AcjegoxWAJeQkZS5+bl99jcRJsZBbycOyPiJy9QtH85DGnY/6EoEFAQkSqCcWK8KS3S9yWmKkMMtYsVKWQcZFrEK402qYnTkVHitIXMtdSfsSp6nca5MXpSmCevJ9SFEGGELRjUoIQkxCGQgIVA3jzUkjWWDm88/YTMIikMeo3v8lbZP9wpW9mEb8JMm7nIIrGBhEK7EGmkoHYaYZEt1mkEOKas3DHGVQEGOySDqSlQSQ4MiYM5nv9UkiDxYTc43OpPI7dSYinaYgaQ5sYMhh4WiuKalA6dPyPL17qaV0wEPdV2x19lyP3HGWmtb+Nl3mkDfoOCWefCMzE5IkTVvoiB9UoLFy0xO8SpWNHDOHP92Fcm+nzWrPX4reOoJSOVeJ7viPfcACCSYTAeA99zNc18ZsuGy4RYM4ha8LIebqUyglnLHl2lUv+937u0TNho3ojUI9EyY4NFeA4R0W8MVT4C1GcpBkx0EreuUyHEC+Geu9lrRifLCIlF41hkEHl4paLLKSaBy1Qcdpj3NOPYYd0ZyxqgxjQZGobPF3UdhJ4+yrbFdXu4vCkkrg1qklpFZ3sTU3uUS6tDVFZK4q14zFJEpHGjWIqyh95tcof8Vj6u5Xbusos1ciVRkDfKiNRLzYnNcyJFvan9y3sdM6yphlk2tNlM+oQQYNQS/XDOAcpWhMOJhrYK9uDlKWM6DKjPbcDvVaLUVcDCDcPBmU3ravKBolv5WCIIqLQMixSGRFnvlRLfq7yAMhxkHIbbBBOM13OGz60OWmImQ2iWlDA0Qd7WdOs+SXal2vgRCg48Vq4vAxcdicLfA2EQBaODktk+obOG2RRgLuWhxtxjz3sJ64DGWt9lDGSnGjIU1gfxkdaPFvhXlNQq90QDXWIrLVXv0iZKRTD6Z5Om9TaZO1w0bXoYnFUxvxEj414fRixbRNcqvKWUznQJ21ANqw+9/UO+eLc2EA5wNIQ4vFp6GeX4Eo0XQsCluEPc30I4ywRCuKSJama1DbN4bSra5Efn9vWPIXDHuZRZoSkGxCfq829veoHenJO0OqFo81QpoiKFGPcxniJqFjW2YOxHPuGGZvc8HLGAKM9xquxdTqHTogLzrq7ldIQYm1E/BK3NjDmnXgIa0DOrfKzbIDuBSkPYxA2TPtacJ2qfpXguBv47hrzLE5Y2rsHbDq+Ots7F9LnJt7XMp44IGljXHAkIsRfQm3RUD8JggWjvl6d5gXyr21x3X/RLczGLwxLXSzjNRFQblyoyZZwOrL4SkJl/EqQWI34p41AhHQTxAN1OhpBHdIT6VxZcaai7p14JY0cJYiY1eIBMkLsU0IXJXGy8Km8D4lKluhQOiUPnjGKj5B35MFIemJHjDHJOwxb4M8isPmR51L9rGceJGYUkkQgxQuljGVGCTJ0hB+ljUqOfytOaZJ0CYEwkhbdtfqUZI3vIoIF+BkWnxGihLg8Z7/mGioQa1J+kn8F3bUIhoowUmdle8ZUXH18XSOgoZRfYjnskF10hmkxddJsdIHPM+aIPNEpg3VBOAhAmVNZfTKxk3C/HFroRlCK0izVNxJC0BwQd5p8Xf92ld9s5BkxKglVvx/Jp7moKa4MNCRQv5BBRl5DJINlDnEwI57DIOhECOoQZ2p2Yi+ZIHE9mosj9Y6oXbxlXLonDVKqSFeqWEkLvD9xmXquDElVLi3QA76j1eyhGnTktKm+ptHbU8MfhNJUBQfPWZI19VN9rDgIyprojo6YjGpTHyrgwNumUBmn55XjK4c0GgO1iXx0abR3GlDljepJCOZkuKK6Kv/G9cTl6E3S55FUHjFaVxQ/2r7RdilutB9RnSv3Y+U2jJ8Y4Vm5PVWQGH/sVxs/PZkALa0EiGjSa7JxVZwjqu0kA3ATQsZ6qzwSA7FxDZENixF3nQYr6ZeCr3Ug4tpMvVs3+qriMzkSYUUT/JXBSWDnb+NFKFpuqDfOMppT7RRQKTFhhXsCNKt4p3SeNu5NLPKLU44UVTk2GdkyaKUmUn55dc/VswRrrRgpr7KEsb8r2jO2vWOTVp//FyMg6UZ0uIQ+xMjc8Mmi+Qb34sZZzFCNu6L1KbA4ikSqOthhNNqRFyuSi4pJJ6nrK89UZYwTklgt8U+brGgueYGQY476acmycgKZFaFARTzIv/QwRzsqeHOTeTS2Qp/jarSupHDdk4RCxlFQrMhTvZFIfCwyVqoEfXoetZ+IYToqkmYAX6GqRa4pIzG6UmESRttl6KYRldjbaWeJllchiYramLRTlSRBcSvGq53JFXWH93G3RuK9R5L760tFhO3YIRqtQ7/ieioSrZTeI0brivKPtm+0XaP1jZaxcj9WrH98P63qy43vHk2w1rdwEk6962ylV9OJL1EHpVIooEvK4I5OSFjgWsNh8K7WJY0o3mFZmTgYa/uEEvFSSjVxzfxU2pEJkLAkSuaLJsl46UY6PAr34X3P02tRGQkJpFTe9Tt5ThJWxlW+ewU9tJKoroJOmieUtHWDSD+wIl48teXCw9j6Ksof+yrOsXL7Rl5Uf/yfR8C5u2hm+RYYJq2QqyQ4Hs0D3okigpFHzemY3hqpWtNRXOJIGPshK75xUuyq2l1COSoJi+ZIQpIqXS3bhdJ+OEpliOdWHOW1VzQheoy44cpcY5uWtGdV9yStNz+ex9EhLGxDqpX7TNoGwNWhw/Z4OfQmAhvKaJqTUfBe1oDGUq3KtlR/j+8RiKBmfPdhQrd+CF2L8KOCdLdu5EnIYiqfdSMUxH4YyUgUJ6SrhUwLnNRi2axQp6C+kjuOo7yUpOQKal5UN5fwsuN5ssvIUil1RQtJnE8UfuVqFLfNi1ZInsfGjyRIfqw4DSuTy5pbISMHELQgJ4sSkncs7Ygyjy177PPYul7r/dj01efXOQIrD6xiavEnLaWn6K4RYYgbcWHXGzvG0JzWexmCuVQnDske+FdsgPL5rBR3XsGhK0PcHHf4AVspJAYOdkRXgLgTXy++dCSp0lfMZxcb+0vNcVF+MYfo8cqnObsCaboiKMTdSGiKkfK8xhh+/LfwLf622T4ln9r40PBSvQY3X1YrgG7a3yt9OKAs5yqp6g6YePQm1q2KkN/g31MLiD4SW/Xc2hm/BBizRKI2ibqEP7PsS8QMi4UG4xoBMn+G2DM4GlRCfGmh8JVG76M0+hutH0rDk4vC4qkxuj5WLCMVkSN5kzJWcac+iQVHLkoasfD0hTC6vO0VFz89lLVFRPmxsPT20e+2SViPQoisELxfryO83nSvo6hqkpVHYPQ8ZOYtJ/uIS5bE2L8/n0zbYxQaOdEoQcCas7UYTEX7a6MyhcA101aYbRXzJal55HMmiVf4vpIqsZ0GJIZtkB+lKEQ3hMhXXHy0GxrjKQrT5UHeOgIELlu3NOMUnxCnLm0ir2QAlOr3EViK60+qH3tfuTMYhXdoZ4ucZTQgiapzKYKslosQJ+7pTBFwyVJZYejtqin3F8Lg4G3Rm1sNE2cE4lV34nRoovVkMDnhBUCUIZcAU04MFGRt6WJnvqL8FJWHI52ykFcaRwwR4hW9LS4zpuZXWKxGP/9ItJPy0TLjcUrCD/0eSV1RRqJbHrkrDyFZKpL4OHqFW5RGpVa2Q0h29NL+T+3P1L5MWcUO4sSgiHOAFM4V8vnIbWGC6FdcuVdV45i4FcbidaSvJnmVEahYStz+QOguZZ//3Gdt9uyZbGlpxaBrKpbCOQ6pn+tIUe5YdRJUQmCqcOeWubsYO9lH9Cq1RjON+nwSkHDkmybzKthAX5frdGWDmMthYYx17hW4bfzqKSeRQW11dFuBL1WQ4qOgJ5+r3rAoLpmhSRq/J8ZfI5M/Tp88632SJi6/aVKLvfzCPBKmrJsTqu7/65P2nnd/0LrZDlabxlizc5md8cMf2NnnXWSL2yNJV7TrkHOCReVUw4QagQoomlD9mjCd0V7DIcmpCIPoU/OcMaogH7w1nI2qhWPh/AUQ9Rko6NbI8hrRVzY77NtFXBEsnfHItiny10gvO2oZqvXCJ4J+pHkvXTRrh29plFEMC5FAX0I7N5DxSzmi1U+W2klsZOITeeMaXdJI+gpBqD9Zr5JSJBKMLmph0UnDFtQ3RntEM/RZbgEHu9oj8XVF3cmaPFreK1RKdJL2lVNU37z+EYiQb7KYiKaLdMgp+8lPTrMbrr/Ot9csWLocri5vL7zwAtzqsJ32k9N920qRbUCSmCT/VK9/H1GccdCvsdforBvT0hGkrEwl9tDjDphpDb2KN0IIO6L3efd77BtfO4VfUauT+e3iaKdyJVaPzgTXu5Eitd9ZziwIETpMZvkoBFRCQ9Sy+N1Idyogg59rzZ1jg3DBi9iPu/9+77HH//ao+//OwyqffNLX7Qff/557EZs2RRDI0Y9sPerjWEh52qqGiTUCVYT8Bv+eV1x5tg79qgAAIABJREFUhe28887owRqsjT2bRx99tHMUycZ/jnCxu26/y5558kVfsThmhR7JwAtPa3JRt9IqFr1POIDRJS8ZCC1IXEk+uAdsUn1B0iVtdYSUlT5CvCuX8XoHNdLGaXlasYyk8ki0rffR0sii6j4AC3bq/zvZyuxvrexexTLnbauGf8cIrDjqUY3JF2MjFITUAPuJG9hj2oJvi64u9thykIFSHHTQgTZz5kxrZi+rdMBokCNDprjZ2hLyamGlt4qIJ2qkURYxinSFPcGnn3WBFai0jUMtRMw2sE+2HxUImwM9EwofvzTDtdVQ7i5xZ0KcLMG1zS/io2XYWGncWIn7V2jrCPxUwpJSjBkvldc/bPV47Fp3nfXt2j/80WpBtHL+kUGacMpPfmxv3m1nEHSdz3WJq9vaGnHbCfHtRVXn+QrjPs4fql9zNX9AGWQNwy0MxHq1xPKljOHJYjaM6zSUB+6/37ndAuLbc35xlm+8d9dzhEF84z780EO24cZzo55Q1pDcCgqN+n5kfkVMtRu26DCACKnyGwgXTOu17nkdCuBOEgLOGqLDJOQ3FntYKPTo5BstS9JVJyGy8I4Qav+gTp1JkCs6Ni14FXreQRzfl8mQcMB6r/3VycLKsXEUn7RGW1OK1Cb0rxw4IoEQyeHBqEwb377XHnb7rbd4MwbwciQyQ+VwUpzHRdbYldNbPRyzGHrKavhnj0BkYBWPPcTd7JkzrKe7y5FJa1u9dXR22/+cdb7jzjTGXULE+jbKIbeO0XdCr4sTCXHSyZfrG8RRBG9H5q28VrlClYAUqAgXqSC9dHTGEg+Iga/49a/s7888G+2SYnrUyYgKzrmWgyRkjSEEbGyDsjIHOqAiUomK95LRJQ/3cpIR7ho1s7poqmrR3HU9s7dILY8vJ4iJ04bhuOVluZ+UXprnaKeSDq6gtBhY6jgwWqXUyXEI8DEsGNTJU7GBZS1SIXmuUsnxhgvGRrrw6vLNkEyoUP2iq/lzSgQrl3xyiN/dgeVwvA3omGOOsVmz1rKTTz7ZLarFIT/97PO4v4uczct9ZYE9uT/96c9ATnvH7KuOpqszOXjZYL0N8GbTjMi3zs4771LvpVRO2ib1rW9+z3V4vzjnTHvggQf8kIiWybMAepYFbUfhkJETv3ESa0KtTYebueo3v7Kdd9vdTvrWD0DOuBhEnHbqt091kVku12JHHHGMHf2ZL46cTjOAd6E+dL1ycaf+DXA0nUIDrga13UWhmwVa7yV164sPksrh0Sg6xgWLUg6y8Pf8E3fMUai47GzwPZspCJI3v+Ptdv1117oory52zq9FLY0SUoyVL1avwGFFKNubUQ3/zBEYGdiI8HGpBp6q5OVq3XU38v21wp9ypr9sWTueuyKU9dGDPgo3WGuf+dxn/HSky399Od8+bfvvv79LgrQX/5RvfsvOPPNMu+ev9/rpQG2Tptr9Dz4IguKIPxBzCWOtU7/1HVt37XXs/7N3FQByVVf77OzOum9cIAIhJFjRlrZQgSJFWqAEK6U4FG2B0v5Ii7sUp9Di7haspRQLEIITJa6b9fHZmbn/95377uzsZDcJJJTIu8nszHvv2jv33nPukXtOvwF95f/OPU/a4GnrovPPl2OPOVPuv/UWqSseLG+9/oa0LFood955p1x7041Z/jKNCGZ3XHeDjBkzFtx8lRz/uzOkmQZXeJUkNrbXXXetnHjKaTJ33lLZ7rs/keHDh8tzzzwL6AVk/vz5WSim6P0EiRGWLrvgAhk9YoT0a+gjtyKKUQSuifk+zz77rIwePRpceplsufFW8tTDz8PIzMKMBnExbM453wO07u5E4I3KMnVXmzU6Y/0QZzsnHatzCP26vmUIMDAyU01NjX675O53u+lfrFYIEPLRWMKEImFEOQvhigG+O0zjwi/hSChpXnn5BfPBh5NMFOdBWkIxDWzOGN3toQ4TDiGQOyq44M+XmuZ5CIseZ4BvfhC0PdFmJk54ywbwRp5LLrrcPPv0q5pFA6Ej14xZX5jBGzSYH++6iwaLn7Koybw36UPE/242151zunn6pVdMhPHMWxeYXbbf3Jx5wWUGccuR4mbimy+Zm2+5VgObMzb5fQ89Z773w5/ZQOcwD2Uf2Qb7yYDnvEjjpg2crhHN8UEwdJRgwHYGSWfs9HgUV2kGV2dH9a5pbGnW93aB1DWcOoKfm85Wc8Kh+5lPvpicrcPBhwHemRD+DfWgYu1E14cB2pnD5tKsfvpaECAcOzHeDDoPeBKgGNqB5cAlCtwIPvPMtA//BVLdH58RJhisMaWVVWaP/X+tT1luSdMCc8Qxh+unJdSM+jrNXfffbX6y209NBybt2eedY8pra80OP/yh+XTqVBPBeF5w6RVm511/inkR0z4c/eujzX2332vaWlrNh599ZHbe82fmg4/fQH9mmNNPOMDsf8qfzAJ2CVPirBOOMoU1FebiW2/Wubpg/lxzySUXmRtuuN6EsK7g8tP8atwBZvPvbGXgltOc+oczTEVdnW1/xnQTxmQ+49xzzP4HH2zCiLno5lI43KFzrTMSMScdfaS548a/mXhbi2lC/SOGDDET3kR/kMZsNtZ8+vlnJhlPmzeeetNsPGisWQq4NaMzsz6dY2oCDaYJ122dgFD4M3P8uO+by/75oPY/xKXDKc1X0Xntp7UZAqSzCH2cfQUr9/yWNwXrc/O0+qQ7I0ZAiYba1IduX+jVKM6aO3eujN3iO+qpJ1hZKG3YxdfiHG5VJXVuEDzDMf5Tjz8tfzrrbFQB38DxdtiiFEM8GJE/nH6WvPnOO8yl4H3ttXfU4QAd/FCqWwM91GWXXyz77X+4+sgthW6tnj75YNUZA0fy/Z1/qNbbcEwsd954kzw5Zb6tCWW32W5bufGfd8uJMPkOFters/jm5oXwaYwIMoibR9edJbhHTsilFGTTvGfldJAAgoOIwrdwUWWdZuFRj1L4AlYBOjktiOTC4Dbq6+olhO8ynMGmdKCq1GrtkkuXyLbbbi0LFy6UkZuOVvEny9FKV8XVgBlmOW72rOWzULGCxp5zaLf89LUg4KCLwhDd0odyv34D5YOPP5SBA0Rmz5snDz3xsqorUp3w1dzQFz6KQ8LYsPSHzTlLf8wMB8t03nnnYS3MV+nKqFGj9N6QDTeA0VehtONIVcuSZpkxfZZcc/X1UlVXLhsjktP451+SSCs41/BSiYRaJVlFD9lIEElf/rfrZTYMJMshTUonwpIEF3/DHffKy6/+C8EYqjFjEnLr1ZfKFttuLw89+Zyc+ZdLpLE9DAd6UdlsONYmjB632X4HeWb8K7DehioFjkfoqKcG65KLawE48KnTv5Qrr7wSIRir4Du7WL6cNRNzEnppwOKTTz+TxUsa5eGHHpFL/3gRbEIS0gExUb+6Mgm1d0DXXgV/2Umpr8V6AX6oQWAXSq8osuYZZG9Jq6MgvoM/f3VKrBPJF1l/y8NIXRL1QRSvUmxNKmhAnSJARnQ87qJudSBqTjXjyuIwZQaLk7pYLu6G+r6SoO4XRiABWl3jc/ElF0K8dxNEedC/Qac1beoMOH4HscbKJZGl1Jj10jl9Cag0yRZRqCIUiKhDECcjAquGuyOVq62BEQmQBEVmcQSX4GHIf9zxDzj6T8NIZ6lazR407lAVLjMuahEaIZIoBgHmBoBJxcokkDxIja9CEFhuLKiDZtuIIGcJqPecPgJpuEK9NI90MZVB5K06OIj9ihG/m6+bay3N370nFswhFPo797r3kv6TFUEgF40AplmjQE42GEzh09ERxnhSVZGUDYcOlQEDBukRPhtvPQPDrjJpa2F0JApiOVENgtZXY54iahAIWQUswjqgBnGJqhnOW8b7fX/iJOTlxhDBGRCmMIiNHV1/1NU1YFIjZjfWV78B/RFQAgXoaAYbNk6VFDYLnJezMX8bW2NS2TBYiR43g/V1FdKntgrRqCJSXgmdM+Zl3z4IIIGgFrH2xVKJ+VdWW6+Rqgoxz6sQBEMTVE5vvPGGbgpLq5EfNhSFiMREYswQijw18Oxz42WffX+JPg2U++57AHCgVy5dFkp8m9uXoH31OYoNcitsQDqlFXGlYcZhExZVGJvzUsDAT+sWBHyC/C2PJ5EVnX9wh21ZUqxpELyKmhrVTQ0F8mKqrrIBSLnQ6cuaDhSCiKrzna23tBbX0DEjRIvmNTDE2njUMCCPlETaorL7bnuD4wByQoJdjBq39O3bF7pmGKsgMTYqJ0JE46sa2QwB5ufMni1lDOiAa+r0WqHf5vIvBVa96Zor5fPJn1uii5uM5bnddtuBuwfiQl2M/kIvTAcffDD04INk3ixwKsQ2pKDcEQC5ZdCRI397lAwYPFpmzbFK5EL3HFTagNs++re/lY03HqX9pb6RyLKAejX6zATBfv/997V+klVWb7XTbMJO697CQ/pkmKO++lOup0tbO8YBhnmV3EhCugHBi9TUWCKy9757YMPHKYGgIvhXhQ0fQw4mQCQ74EyE85xnz2tB1KI4b06dKS2yE9gkhmE7ARWbrpkCjPWYzbeQt955DzrjkIYVTOBoVdZnRlurOpRpbG6SGghsDLlubuiwG0jRsArW1OVllZAOlctkcPCcQxk9sFwtrYjPPGrEhjq/UtDlQgWDDpcgilSDzJs/R+oRzSkJg0LOT9bUAi6ai2LTsZvL5KlTIGzC+sJaDkOXHWcEJ7zfe+9Nkl8deKA8BT3yz3bdWcMmtsLIjfYT9OVDScGQvkNk5rx27GWweai170mJQSVVylgH3EwTpn5a9yBgMde6915rzRuRQybHa2MMY8EBCd0GA5ByEJyzIIpmuDWKrB+DaLoTeUtLLLdIREROesMNBsv7700AFsF9+KmOYEd96GG/wg6+Vl3yDR40TM79v0tkt5/tLU8//Ro4CpHDDh8HRqFOLrrkcuzOg9IA5DZhwsdSjTPPYIHlV4ccKEeMO0RKAyVSU9xHWnC8qBz5GMKVKQhuZvPNtkFcWYisEXh9zOixcuRvjlCizl17JZAiz08HQTgNiG9DAzYDxGp0leRZnwbg3IQINQ0OoqGhTDlpDRbhGcUUQNzN5404m0n6Slu3aNSR0oAkFy9GvNhq2XDDDRUZMvFbc9io81nC7D32v/4XEAB3jJiuXS1hDi5YsEDFzS7cOjSf6iKS4YQ7Mei0yoYeDWoPGHqB2HDc34G65d233pWf7LaLFGMuMFZ7E+ILMxxiBVxWzcaGMQ4rsY5IVDYZPQZHA3eU8/7yVxB5RJgKFEsbiOejODIIlhNzdQw2onGZsSAqC+bN1fnBwPfzEd83gQ3edjv+QPb54TZy1dknyhefT5Y0jkQ98PTrst2P9pSf/3gHKYs3y+D6cnCuHRKRamnJlCB+METl86ZqiEidd/jDQPNcz9tsu61sttlm6M/5cLIF4on11YIN7YsvvaIhKMuwCGlpvmhJO9bdBN1c0DgRUQ6xh06rqL4Rm2WFImBBidX8hQvU6ptxpEuwxjjPKa730zoGAd+oa3WYBHx94wpYcMJAI21iURqE0KAJ5ksw6IqFaEKVBj2zhlwJWHHQAMYZTLW1Nqtlx5JZi8xl512uDzMRWnzA4MnAyMu04gPjKNpA0VaMFjSoK56kEUxcP80dS7VOGkN14EckiozpZpPpmKt10xDLZFrNZx/8y9x6573W+KqTxmchPE5qXzQL8ibRtNrxIAHZeQZVuMcMruMEE1+oM246w+gjHkZRiMZjzKIVIMI9rF1MJ98fz3mfBl3OqMsafsXNf596wLzxwhPafitegMZhavyFurQaYEb9kTXqYk00QgJM8ct98FPvZztvb/T+V+vM+fSecz14wgHl/LXw1B+gGP0rKjwYJWFs9WODUz2gLf0QDnikufq6W0wbotBzvDhuHJVIvNW0tDeaUZuOMMNHbmDuefBuc9/D95qTTj/ZLGpeYn457lemoCQIWXbA7HfoIeb5f8NILIAAh0WFprJ/g1nY0mY62tLmmCNPNoUlxaZ2YB9zyPHHmybUaTrnmNdfuMv03WIbc/AZ5+tEPW7/vVAf3N4Eg+aQo0+2xmjRkDn/9yeZ+to6U1bbz/z6d2eZ+a0hk4i2mpOOPcg6y8b+8uCTTjMPvPyKASttsEc1df37mkWtHfoe+vEMCpuXNpljYNhVHCgwGwwZauA/wMydtwBGYhlz4KGHo/9Bc+ml15rpE2eZMRtsbU7+84Vm4uQvDc5T4FNiqodsYl57/11z1pG7mRruNYOV5rfnXG3ao1xoadPWHsriAjTrp7UUAvlGXdjM2u0suSkb8svuOGieT9Gff9ZtRTsw7lX5yRc25F/n1cPtr+o8qRjK4Sj0JmVgZAvto3zdaFZVimKd4Cgff/xx2XLLLWXTMaOxoY5AmgvWQ49P4ePiIbvmtbDlNNlqEjIwjSzDu+C4afiVhHjtuhtulwsvvFBiEB/us88ecsvf75Ga+ga4HVR+ALv4kFTXWIMsFVVmO+UayvnOfT3ezroPZBRbmwgtWwV6kq0Pjkfwm57AmChOjIArKIPe7s9/OksuvOASKYY/ZM2e24dsXxxHbcvbblhnJryjbapS2hu/nHfIPVKSvc0K3Lu49vhwee9um16H/1oYJxD9gPOOxoY1UGtQ92qDQ5CvgzTH0BqpC1ZuZOy49zROzLyCNYQc3sjZ8ce1Wyv2Prl1tA+ZchIhBDlkJXq8COeBISpXFQg+qupw8wAcM/N1PWN+XvE0fpdXOZ4c5rvqGeactMxUyJ2XbCY/r/fq9CLGxEAuTClv+Rca+BTQ/pdpWQr83VzPq9oW9P+uVRAg+e3Xr5+6kGUqAOE1FCcNHz5cpk2bprpJEmNnIasWq37qBQIebLIEBtmci8plkIm34rqtSJRXN5YWfSh60PL4ZOvJazqP2HDDxHPHtFBl4gA73enKjJ3bcDEvN2QUkbtE3XAZdVsQm/E+xYl0SKKh86Dn5ffKtJH3Bl/pMrd//E39NOdmG84pU6+mcSFdIvgUPtbdp4WrfWjvkxh3IXl6ZixUrykcB5fPIl1DxWBOKsB4eG6+u7Cq157JHf9updb9i/a2FqmDuJlzlnOCc496/UVQKVB86+ai9cnWBQ937Z+lXffniP+GvUOA64O4u7GxUXGbcshEuNTH8YZLvEeE6xw59F7l+vzEbVZyNy0OkXdH6FkoLbNFziPISjBIkHuB6zJb8K58YXCPJFYkmo6Y9mbY5Epx88UPyzjvX+7a5XF1sX4a3zCR8DMfJSvfZPIEOLoZ4LvRWIyEmRuEGKzLNVa0gxVh4+DjEWbXN4f480eqwOOYusrZccsnFFqdayd/DJczJt8kbNakujku3LwxUa8/efJk1an6yYeAD4HlQ4B4l8wQcXURCS+R6pAhQxTZcVHxIY8jkPv5pjmg5Xd1bXhK7ioHzfdGSB1ntgyHnIvl8Vs5Y49jzq+LiD97z7ZJgsUPiRQ3T46oOm5lReOXS4gdtHmP5WjlyqNXDrE6Ysz54TjlFdW/qiPI9yLhJwHmXHXzk5vHQhqNAR5Z616CzyPE+Vyr3gdsnfibcLQcL+HIMezqqTtKlasqIIesieVyXkr9euePU87zdf0nDbFosc9x4VzgeFH8xjljj9Z9sxu2dR2+/vut2xAgbhs5cqQSYzI8yiFzIXFBEck5YuxEg+s2OFbH2+XyXLn19cIhL9Ok0yE7NN9dJ9WN+1umrL2Rz9HyrkOOvRTJ3uZ4Oy6XE4KJRDg/0cqV94lwuQFYEeedX351X1PEQ91Lr8QwR0/NtnuimUrI9eMRZDcE+u045WV7nkuQl326ft7JnUe0mJ4H5x885uMnHwI+BHqHADetXC/Er8pQcSERofMmkz2oDy4AFNtxz71X5z/pGdUTLvkkoCc07rFpCkb8Vi7MlfPy85I/s9V1r5fjxPHjYOaOGQknOdwViQ1zRc49EWLtGhK541wizA0b2/2mka7bIHLikkvmpoFtKjFmsjaJ+NENSACXg5P9ttF/bJHsXwU/4e7ldbBmtV75LJecwy67mu0IdR+PvBbW+UtHiIkr+OHYcMPGb24Kv+2N2zo/AP4LrtUQIE4jjs7icHLIvKirq1PRE8/L8RzcmDFjdJfrRKBr9Vuv0Z3P57DzOevc6/y8sP+EIU3uGBEJksjyQ4LsjKJ6AwEJOXXETizsVBWOCyYBpPSEiJXPeE3CzXY5kdjGN5nYLt+PyJ7tcX6yP9wg0LDL2jgQLk7Un98bBz8ncu6CJwlqIaLw0LjLibJJd1mbo7/ue1nIOyvt/PbWr+tyhE7k+eBqeJgiEaa4mnOnFB6xcqU0+Tp5d51v7LV+Qc9/2/UdAsSpNMrlmqFTGJWPEqkRyc2YMUPF1kR8vsj6fzlVHEH56m06pEcCSeJLAkauxRGyFdWYL9pekTjacar/K6M/9sdxybl94ybCcv89kcrct87f4HjPchnb7ixvV+EcIQVv9tQSa+9J9rEiuK8rz3HuFhsmQAEwxNTTzd2mm24iUxE2VKN3uUTpTx48+Wh9ht26Mgf89/j6ECCdHTt2rOI4MhkBh+SIYInQnYgz9/jL12/OL0mCRxi7RDi7xGe8prvJ3MR7LEMi68ryO9cKnvlziakTWfM+ueNc4y5XN432XHKcbT4HvSIRo5sX3Nk5C3z2jX1mf/PTivqfnz//mu/o1Ci5758L0+5lSCK7Prl9YplsOVICRw3U4TbGKGecEjknDlz9uaR9/RZUd0GcxFhH3YMl8UcHJGyl9PpGuEI/H4/xLK01EswdKx6L4gaPydkv8DfHmePO5L4pwXFjyTF095knd17z2q2x3Dq1Mj/5EFjDIEB8SkmfUx32wj6sYb1ei7tDgpeLPBwR4ysRwZDY8DhPCpwGE5GII0B0rEDn+vwQCbmz4SSmzJdPTHsCE9tjO9yBUQriEODq0v2yPifOZlt8V3JJ7COfuc+31f9ceNvNBjdI3OjYDwPNp0lMNPJGF7/GGNRODZ1Lu92C8Tk7C55cqYFuUrI7FfuEMYCVOCNVwOVqAlGW6CYykYJWn37cvXPvVIM4Qsr5z7ntjrixrLPq14qQSKDd5spZ3vMeE++z7PJsIrxq/C8fAmsUBHyC/D8YDhKptDpqRuQX9bNMZGUNXhBuVZFYUWFAkZUzhmFQdxIzEuESRqhB/hg4DSIb5vkqyIZEiVZ8TNyR5XMYqwICxzHzHflxUhb2kc9s/62zESLJ1d1/4n/7oUMPz6lH3guxTbjh9GBOC3F+CH94QIR+mhF4XD2d8CXsaEoYOp3uBMaOmxs/+70q0FvXy2KuIkoTibKLTsa5TMIcZFgwL9EugGPkNqJuo+k2kJxXnDvUsfG32wCyuCPK5DDcZpPzjhtQP/kQWNsg4BPk/8GIOaThmnLX7ryvu08OgciGCIlElIilcelifcx7+flzOe/eXsOJ+TTAAxLFI0RWrG91IK1c4p7LsZNbIQLl8aRvtv9OPN0zBNgPwpTBOEhAO+HsPxJpBzdGYzQ4N4FIFd6BJQ4pApg2VYRSF0oRbNZC3aPQjlPuEoj7OlBCneDJcsrY6ATUDaUHNBDQCoQmDED6wDkdx6aTT+MIbRSOWEdEPOHhJCusL1dkzTnFjzPkc3PMbnKtZzA3x7gJpIEMkyPueuEnHwJrCQR8grw6BqqLTeuxNkdg+TADq15oh/lL85aU2KCB8XgKSv0KDcXmEvP262uP9yQ741KEcDCOw3Y6/2zmXn4QCZK7IGFmGbqbJLKiJX3ukadeiq/wNgmyQ5pEkuRS2BY3DzRScMeT2Hau2HF19j+Xb8122KMHdhMDsXSKMadhgV4cAIdWChjQnpHEGksAFNgU8NgYNj7QidqwfLzdk2Da+jCmdXBPT1cIsHUsg5Mm9PxaGBndvQTkuquvlg0QSnTYsGFy3/0PaQSoiR9MwqbNWukzutNvfvMbJcyUqnB+nH/++fLqq69qGFKXnPrFbVB5n3OMXPbuu++etbtgHb4OuedR8e+uuRCA58CMIeIhoib35BIRbc8Iac19mW+lZ/kYqQcsTSSjDBpSCrGKSSTBh4FQgltIFyqBdB4oLZNmDcEoUk0ynBweEhGxnuIgdJtI+Gk5vx6JRndIuLOiLG/7Yr1frW4uwnHeTm/LPvPTrf94V9t/K3pcmTnWW/+Drq6c13U7TOeAP4ngG8UgwnYDBDehySg2BtgEEbYwKmqJZaS2ykoPHOcbQ6zm8tJi5IVv72LPt3fW0UiWF/RazXPk0h306/QV5yq3lvwQCoQfNyoNtVXS3EJcgicY/2uvvRaxqyfJHXfdLaXlVTJnwSLZc8+95YYbrpef7vx9+XDSJNlvv/2U8NLl5sYbb6xcMuenO/WRD0gn+SBh5oaT0gw3v7kJ47zLtR/IL+9f+xBYEyBAOtunTx8NPcrkc8jf8KjkbmwcN0liTELLM5v0Id6v3wB58813tSfhcEQRDAnVQw8/JA/jsxCxUIvgJpJRmZyRlIphV4IYs87DDz9cuQciLCYiMyK71SWydiJ4El6HBIlc33rrLfT/YfR/oXLHbHO19h+xZVeUyAnzfZMJikcRmwd9aGxcLGeccbqUlNbLS6+8LB0QYyeAwOPQHzORuwqAc+520mAFUpAV9WO9fY5xf+CBB+TYY49VfW/Ki4/95JNPKtFk2nrrreW5555TokpizFjFOgYgtk5tQBsISnVc4nzic64B5mFdvHYSGo65m+/rLez9F1/rIOBzyKs4ZI5BzvpTVlE0P+AZwC278IFknBF2FwQLYlLqMsMhmTJ9tvxrwudy5NG/kXLYbWUSPOJDJJWSNiCfqto++GU5sAIcIQmkEW0JYWFZN7w7a88df2ZRG4PEWUtTydgnaYQ1DwQK5ca//V2OO+poKS4jd0hdKsS3CHTO2thbRIf1Eo6h6JlR54PY1pdGWDomhp3TEEuan+J2cCN4ORq4plPgVNg/Gq6hjjT6kPYMpsiRg7WHAAAgAElEQVRgBtIxEGaWA4deYPvPGgibr9P/IvSf5dgj7iz5DvBbxgbQvu1vBuH3AjCYA58u0XBUKsugpy9EKYjWv5g5T57+90Q54Xe/w1Ob1HwORKMUXDSP6zgLYX2qg8hvxyU7ntorvJ59ERSEPz+9cciIXCPHHHeczJ27QB598imprq3HxodqDtpKYNwASqoTZkz+Unb68Y/kk88/l4EDMe9jTRIsq5BYkuoF6J8V7p1oCyMMby0GGgiqe0Dj1Tg+g/CPNMcLlHjzFJ1Kd6LyUstzaFhDTkuOYY66Id9hSU9DqEX85EPgG4CAzyGvRqASR3TiDxFSEsYqGtvYRCUTaZVtthwLHWqNTPzoE2mPdsrAYWNkp1329Ch0AmLclJQVZaQF1CwKKsATwoXEUJkOmf7eyzKwz0AQ36Dc8ODLMhOMgQFRJTFb+MV7UhUolRtuvVvqB4+FlXCp1NbXydxGGGuhjkQaFq0wWNpm1A5SWlgpQXAaz7z4mBQXlUtxBg2RC4zHZMzIjUGowIUUVsnOu+wLnR0ehfCno1F+tMVoIMsG+derH0vL3Fmy6fChUhQYIFO+hKU29NqShjgS7Zx0+GHSULORLEEozwgQXhGPtxRG5NO3npX6Yht16ub7X5ZZyE4aX4RYyku+eFuq0f+/3fZPqRk6FnHav37/C9H/YFGZ7PyzfQXSfxy3AgDCC2TnLUbivfqg/59L+9IFMqBfjRSVDJW5SyAmxzEnYYxZbG4KMXgG7++NnDNDAqyIxKnL5KbBI76KlR0BXr8JMSGxsqkAEonTTjtNPvvsMxkKHfK9996vXG1HR1T3NwQpJT9FnZjcMahyimuwnqDiScyX3x87Tv7z5scS50KDdCfaslCOPvkoqR3cV4aMGCU33nSPHR08f/f1d+SoQ38rzZGENHUk5M3n/yu/2GUfmTZ3sRx+wknSt7xOLv7jucifkbYErOfRyj13/1MGITIV52CgMCjFWK+DNxwh4TgJvx15jj6bzyZe5H5yn/m/fQisKgSoQ2aqqanRb5fc/W43/YvuMMJVAp/Gjgj+pvE/ZqJLZsMXaci0LZln/n7b7aYtljafzFpsnnp1gomzdKbTZNoWGNPxpfn0nVfMRXc/babidjs+kRBydC7Ej8m4WmwmfPaROebSe808XC0MpVA2jDZmmS/eecrUDd3UzEezHL0JEyaYK2+7R+uIp5aas39/rFn4yVJjmN20mUOO2sds950foU1kiMXMPVdebOZMmc6fBv/NK29+arbfdk/E4cRFqskkF001u2/3czNtIvqSSZrRm25knn7+I5NEF0xnG+7NR13TzOmHH2T61ow18xtt/zswl+Ltn6PRGahngXnv3XfMiRffY5Ab/e/E3xDKf2mmvP2Eqd1gEzMnimyr0P8IwIVXNC++/an5zvZ72crSjSaxeIrZdfu9zeQPFptwuMls+72tzYv/mmYSGCLtPyEamm6mT3rLXHzL/WYR7jTb3hn2Uuc+xonvrt8c22US7/V0f5mM6+wNzj1Ch/Oa42gxSdrU15QDNIAd1oPpjJhUrN0snDPTHP7rQ8nPmmEbjzYvvPK66YASvz0Sxok0Y94b/74ZXjfWtKNYR2fU7LRZkRkMt9jP/vsz08hJisk6bp8fmideexwzOm3ue2y82fH7e5tZmHwff/iZ2bBmkKmUSrMgnDATPpluBgUGmD5Sbx4a/2+zECz5u+PfMJs0DDHT53xpoli1L7zwhNl8zMZmSUu7WRpNmiNPOsV8f9fddD23xTtNJJnRd+t6L28Y+ZK5H++2/+VD4OtAgLgGpwyyRa08Z1Wp+npevq6KcV+xp4bcuqyuv6TaY1LTr1b22ns3ue/eh+XLGfNk15/ugKMesECGqLigog6itDL1Hx4OtYuLGltewdi+wFlR6jut4dUI7ODJwdVVQrhLuTBY2ZLyCrn91ltheETJaxquCjeVgfBDTmEddbfbbrOd9IfYz0rNC+SOO+6QHX+wI1gRZEAfrrjmGhk9ejRE4jVSDoOmPffYVT7/8GNZurhDmjtiEoROe/yrT8lx++8hO+9/qFz54DOyz8+2lKDKJgskHgGnXF4p19x+h3w56zPxTlRJEJxPSTXeDd+pFojcYWU9fNgGKkSuqUTv2H/ozkvR/9vQfxxHlc5V6H91TZ1UVg+SPfbYTUBcpWXhEmlqh7OV/iPk5X8/Jcf8ajfZ9/CT5fp7n5JdvruxFJM5LmIEIkSzgpOUIOSlBbC85iJYGbFkN04JZfy0EhCAyoJnvbHhl+uuu04mffih6nv3/NnP1L6gAnOBhu4DBw4ElyoQbbdISVGJvP7W27LRxlgf4Q5ILETeeP0/WscO226nY3XA/rvL8y88I0PBLY8aNUreeOMN2XiTUdLR1i4jNxouTz/zlBrk7fSDH0o1RNsDBg1Uw1XaTSRScVm8eLGugRoYoFWWBWXcuHHKxc+aMx8xtmmvAbH4Sryen8WHwOqEgE+QVxGaCYp6QagiMMbSBGxRVFMNzF8gH3/8sQwZOliioQ5F+mVAEIU0bMIRDRLdELxZVZSVKoLpJNUiBsDxG6mrl86otRxdvGie0M+RIocgMBPErKXQrQWDsM6muA+6zgSsgttgCEMXnCM2HKnGMwFGUFRVr4H1vHUKEguRohbIFVddKS3tbRAbtgMBzpVQxyIJx+ZL34HV0oBNAjsUnz1PrZDLSotAaOm2kx3AffSrtLIWedA4MChorhUV4xkNoxIhhnDEmemGPhIDTBoX5vSfMnf0v6yU/Ue9yMn3+Pr9b5WZc2dLqG2BhGItUj+wP/pvLaZDs2dJkoY9MPxqhFFZITcjkD924joDL13sY1g3PpYYryxR1gJ+6gaBZZAIFbVuh4M58dijj0s5jBfrcN54q622kFlfTpPfHnOUXHnZ5Wrc2NEekkRnQlowh8tVTYBUXS+Ll7RiI1ehqprXXnsNe6gKbEwbJAJLeVbPuUdVSykIKo84zcVcSGfgExh2EqFIWI8INjcv1fPlgwYNwhyPSjtOkpRBzbHDDjvIokWL1H8/63rmmWdkr732kuEbDpFOTg+keAzuhO1P/68Pgf8JBPz5topgprkQT9FUVGD3HQNVLUxKuHWxTP5kBu71lT1230m23maUPPHEKzDqYmMwx+oDTAK9WUEgqESLt8uAdNqaaUVKPrdQguBA47C2roenIyIIIh4BgYSLLiCWuERA+IhI6IOhHjt/ErcKEPt2ENqJEydJrA3UGLgN5jDgLt6UDz54X8pqYKgE/XEGhPShRx5mF6S+rgJOMVA1rauoEE+1y8wPP5BBO/9S/vna+/LiXdfLPRecJLfe96Q0oa2CYlJ6TBtsJs783XFAhoPUqIZ9UWcmVSDWIWjEgQXJIdcDEePkERAuMtDKu7IKj+PYpLj+Z752/2HTJQNrcTwJ1cZJ6/EeBalmmTXpDRn5g5/Lg6++J/9+6i55/q5r5Ka7XpQ44FFcBOM4auxh4FVR3x+dsn1n/x1RXl4EIp9rUpBlk6O73e+6KzifweB/9NFHkL4sVm9dzc2t+vDII48Et5rUo5bVNVV6vKm0rFjqG+BEBM/jS1sgeanHZreTQhXZcccfyGefT5a2UKtU6xy0awJTXlMxNra0rB6Ac/vsUycIcxwFhw4eKCW40Q5OOwXjMR4xgSdslSrtd8Cv5LhjjkX79RLuCMk1V12tO18uBU7VcvTHTz4E/pcQ8AnyKkK7uJhEDlwXFnAQYtB2eKbacsstccxoT/2mH+ozz/y9HHrAfvLoo89KB7gATcXIG4pK/3591V4a2aS2oUZSQFDHH/YbqalukB232UbOP+E42aBqhAweOFgY8GDKpE/kO1v/BPXtL++/N113+dUgcmef8Qf5B0TItUAul11+uQwfORwceS0cXVTJxPc/kE022UR23mk3KQUH/HOI575ANJ4gjKsqYERTW1IFEfcoCUU7ZOHnU2SLbX4irYmITJ8/RxZ9OUvmTZshp598PM6RPgmCht6ScCPsXigeBbFFIABc0qCViIzigjP/+GeICfsD6Y2RP51wrAytGSZDIDKMgoOfPulj+c42u8hhgMfE96fK4oVfv/9FBcV4xzKpDVaCu99S2iNJmf/FZ6j/pzCkS8gMhA9tnDVdJr79lpx07NFy7Q1PAIur2ICDpf1h6p075k6DT61LTs2MpERZY1f7iRBwmxmFBuCSUZhZUs010bi0SXb/+V7SjqNLfRrqpKWpRR5+6EHZd999s45v2kJtGI+INC/lpjSAEwAV0gbDrwXz5gqOhMsPd9oJx9Wa5J577pNIIiwRGPDNmbNQ/vOft7TZppYmKQM3vXD+Ar1uxToqLsWGFxmb4WyHvtV5qqC5EeEhsVg/xDyk+Pr1/7ym4uvbb70Je11sBtBtbrD95EPgW4GAb9T1dVTxtgxtO2j0EUnQGiptUgmYGGXipjPcgmvvHn6poQiMu9pphYR8oUYYdUUazbTPPzTnXXc7zLdsHq1MjaaaTCS6WI1laKhFW6y2iDWf6QzBaAx3ebWkFX/YCc++KAqDFgOTlbalqB+FUzCa4nUk3myikbSJhjxjpXTUdKZTWYMc2sxE2F1WFaclGO6gzmQso9WHYOTSHLZGLnyvWIhmUGg8jp4hH8vSuIr9TcZoCAYrL7Rp4PKK5m58h6aY7VtnaKaW5dXiNhReXf1nhawrwXZhPIY+pdg43nL+wjnsismoDRZ6mUT/OlvM1I8nmctv/ieMhGz/CQdWoVZGatTVZdDlxprfNg8z+kZdOmU9mDi41NZUWdjBsCuTjJm77rjNdCbj5uyzzzLFxaVmw2EjzEWXXanlkhiUd99939QW1ZtiqTLl1YPMxI8+NKMGB01NEfc+1ebmO5/SuTTl43fMgUeMg84jaAbBKPCPf77QtLaFzaSJH5oSKTKlBaWmpKbe/OXiy02FlJuagmpTVtvPfDp9phnRf0O0UQpvR2LemfSOef0/r5gxm26M64Apq67Hd5EpR9n7H37MxDoz6BdWThIGmG68Ody5qdcH+Rn9ax8CvUMg36jLP4e8CtsgckrKGYIhSMQ6IOKilRJu8vgSzhszVqwEylQ/TNFahmeJNX4stuHJkEyeMVPGbP1jcJt18uHr/5XNNxoihaXQaxYg/CK4P2hrgZGwXaf4DFUi9hMqj0kSbjYzRX10J08BtwHXV4AjUjyRVFAAXXZRsUTbDfR2PKcbRf8Q8SkF/TV3/gUpiPLiUgKukro1niHuxEuUwS0nTwQV4cBmYQFkv2H0Azq7CF6ODHEl8qXAUZYCp1HsDgwLHFaF/uGsMe7wxBHsYKDvhg45jbIx5CtrkASDZuAZhX9w/4+3iUC0j4Mtwb4w9kF7yPZ1+69HztgvMLpVkNmnAduCIvjpJsyoyoYeIIEzw4U6QGqPJm2RpVJbVyknwU3jHfc8Khfd9E859sQjPEWBSvkBbwwi8uofcHs8q4oh0OT4Yn2sd9dvTpmzgeOvU0thAhOI2mo49+BZN+oQCEPMD0R4KodUhSmm86g4C1OWTXbAGK+8UMKYg0GofUqCOJoUhX/xcriORSNF1HmU4OgTgoSkcUa+NICIUChHo8BSSKnYiVQChSuKNOpjMYcGRSI4WlgCYwtoKiQOg68SSKFaOlrk4/fflw03HC4jNoIhWDQJ4zKokFDkqaefk+9973uQXDWoJMQxy+7d9AWY+JBpmQfeff/Lh8BKQACkupunrgLSbpYbMGCAWuhSD0MvOfRyQ8833uOVqHp9zNJliVkApwXqHMRzSEEnBvBJCrUvtbtIeEi0HsgQjXjYAgZcESAXFqsg7lL8DmIW6ITjjKDn/MM6RSDhKgChlgKSNzwzNjwgCbJaZmcs4pMAxbD4jXbVtoZlNAucgOA6Q2Kr7bMksQnNvphfsyE/fGbzeSdsv3E7jobpjKEYz7UPAZJe7joYNYofvCPypbzmS0maSdDSeG84/0hhF9DJZpCKJK5EmX3LGGtbruRsFfrPt2Ed1ikIfrhxSLF9dAWdptdpImRNAf5A/6hjAIxj0OPzDhEvIVKEvhRwZ6MA4Utx1OAOxQMRXyVAOCjU4OJ0PSfIcLyr+09viBVfDBkyCCcLZigeySaIsq1TDkCWmb2LDNcF6+CUBFxTGIgA7+E8Pg6JY15ZfTHHhWObgkwZVhuAOjzV4RbHHkHds/WxPBP2ZZqSuOZ+jGfOKY82GLylzY1yyLgD4Sv7r7Lt9jtCtI3NAR5/OPFDqJ+istlmm+EERI2twKJH+1v/sqO5af3ekOUBw7/8ihBgqFp6p6M3Q6YCuJozJLwM55cbAJ4EmXoXGub4qXcIeGjby5C7WO1C5XOXHNKyi9qSgbiiFt38WxoAYkzKnFLyDVeUuN3lRYssMP0R4S4Iv24AXKWO4IAzd1wd21XPVZrPcrJ0usD24WZEkZnrMYmMrYsuStCnjLV2TbE/SIUgomzP6DW4Y/K83mZDCbLmIpnGc3UewtpBFIENSaxt9zpRip7KQPrcRsUr52VA/q/W/+xru3qU/CLpxof9tQ/sZgm/FfOjlA4Mtgde36wpHQkznmejFeFhDofsQMQqLdhZ1/qNkN38pn0D8Qjdo/J4Unu7Zythwb8MnFw5B0Hn/MxuIpHd2HloPI90Ft7kjq3EgtfZcWBlXoXZ8ebE8MZWNwzeRO+AcVdVdaU8Dded//jHP+TZ519Cv4tkl112kbPOOkt+8pOdtMdhGP3RJSeJeffkVoy7u0yG/AL+tQ+B5UKAa8bFAi/AD0MfxAyBxogpPCNIX7K0RmQiYfbT8iDgoRR1N4l8ysEScN7xjUD+NTlWcmFE/UXSiWIkhjwjqykApAOiYblKnIcEYVNiidwG91MkKCDGhSA4lkCyPO6RADJfEcTZRESeq8ugFwcY0WZRlpysbaiY/cWH7ZPgBzO2X7S27iQhRf1ENUGIwAsoeoTbBZ7YTXgcSCnya/usF+2xbqZi+DQsJLtBhIh3pFyaXUvivcirEp0GcT+QxoaCWfBHrZq/Rv+1fZRnrRZGqNDDvFYSweccH543ZnuAofecZTOAUZLl8SH3TzgU0iejw+4swY2MEgGb2GfLIfvrghChYVQ3n9+4x/P1lLbR6n55AUxyx043TEh2PhDGVrIDZ7J6nzA3mEM0GLOQt2PO8eBZcn4zcSyZdPwx1oYqFxx1i3eEpRr9SkEvQ66kugrW/3CfWuwds2Iscm4oeAzPJXL7XRLC3sbbm/jZUv4PHwIrDwHnj93NM3hntCJVcsd0zM7F5YgxgxwwDqmfVgICRCiKDLigsUjdOlWLU++25iEvRsKgwmYVk9L1syXmvFBLFr3UmvjDu8GYvtTZ8qHe54fVK3HFNxN2+0RqvFTUQvaAxJtdwn3lTnlbf3vd5A+vEzhwpWVJH1l1AUTdSuTwYcAFTwCP+ogoSejwDl57WjF038qFEn9pH8GNe3XxwBFrNajHxcXgsetV6b/2iz1hW1o7r5A8vOpdefCx0gh97vXB9si+voJAWSwHTIhSPWLMO3wlrQ/5su3wej1OLpgICTNdYnKnT2kbYxOvKBGmbux0qrCAN9eF88577urh3OW8zY4pfishd2ssN7+d/JJCv4qB44pBjNNQxzEoRTmc8rSC+eC5aIZ/ZF9LSuzMTsEOgUwIzzBrVDY3UV0nlvnO9maZJ/4NHwIrggBp7rBhwzQb15BiZ05AEmJ+HBEmt0yu2dchLx+kBbqlJ4GFzpiogkEdFLsAQSlwIerld64uF/m6CAi4ZWJ6j4pyY08RsEX+wDbkcJU+UJ/fVc7RDKviIsfNPKzHEidHDwvZkF5gt4+fZFwVhTB/mpwF7gDLJaBL5a1SXBYhbyE4e60yY/WAKQRkKISoGgw4EnR7QFbkHOk0hA1YXaqnU3dEjZw7LWzYIBAbSSdbJDxga6PJihi/Zv9VD8wPeG+l7GgK3DzfsxN9ZLNZCYE+R9vk3tmuBwt+a/f0NiUB7JiFPu/wl9vgMIvCG2Uc3JlnfU4kcEwkXPzNDyMz8bMidRfhSuB2zUurT3ZzWyu2w2Vhrvm7bnHQsvNeMyPpYupKluO140mmgxxJGUTRJMZMVTjqBENvNSkIgAgXYffI/nBGM8GSPqe2nJ9sp9vmreds/l0fAsuDANcLJTZcL4z8p0Zd3NUOHz5cDbo4aflw7NixMnXqVM3kp94hUAgErgY/JMrY32QMJQrkJiHqxZ2CjJUw8JopDTtkA/0pxdLUBxeB4KrIGCwpiVocptM0REkD0xTjWSV2TUFgiyQspRPgnuNwgs9UASMVkjiKkEnmymjujcQ8CeDIDMR7bKIyCa4C3ynoZnmfzyn+Y37WXwiEkwQSihaiXyBiJcA/hQbnqgvpgJ+7g1rtl0HQCAj/UA7W2DRGg7cjbhyKEU2JeuoUiDPFiQFsSIJorwScRhC65Ax0zp2w3A7DM1eCZt7gfBjQqhqSfIoaY3wdwO7r9J9wIRzJzdPQh5y3jgd6ys0C4VKC+NMcB/aZ76H6eCDSFC3Ps5wVOCLAAXe9b1sHIZwCx2/z2ThXdktBwsGthYW5An49TdywcxNPt5Tc2Dc1NakOmfpX7v5XpPLimNjNqZV0cK4GMD60pOb8gEkgIIsxhkTJbvpwqRtgC3vmZ1LijsTxZ+LcZApgA8Y+cgz79esnixYshGU2NpuYD5T+WTE1jCSB+4gYyRmTY+Zqpg0NrcF7TI7wOyPOHjP5N30ILB8CjiCHQiFZsmSJ5ZBJkLlw6GSCiZOUk3FlxE7Lb25df4rFTwSgiN3qGR2KVq5LX9/Lo79xF3m55+aHedSimXWkLGcN1aqHguxRoaIUrZLxHBwsxdm0cWa5Uq8h6m7ZTiG4XeAQVBgAH0sjK2qoUQepFfOCKHJDH0NpLc+8WQ4Tv5m0b3xq28gSHLZPllDFd1Ykrm3h0oY7RJxboE7V5TIHn5GTVtig/6DDSYjSEeNKi1G7XqLPAQdPBv61+68bG/vqfGPHz9jeqH21faiHr9g72yARNvvCpPDjj6x1NQHGvOTeuursuuueavH1PGHzAruTaCyhVtVEMMOHD5epcCZjuWY7nzz6mAMrC02dhvjwm2Om+TyDvK7MHGNbT/aejh9VJt79LIH0cnjXKTjtKYLkLwwHIdQXF3ND681dnTeYMLSbUfG0V1Un8CHfgyqifI7b9rarZ1bplHvt//Yh8NUgQEk0GeH+/ftb7MuFRPk1PyTGTLpLJML20/IhsCym6cqvGJ/IhD8I1y6kkode8MgSFpZwBEKr5h9iCq8dK3jlg7yk+ew9IjZ4zAaCA7bhPTbmYRuWz7at9ZJse3fIkaCrvLJIEr/UoIv1sCKPGHtNec0Bv1EMbYmxu6c90frx8arnV7ab3g/vER6gRY/d4T2eoFaelBf60jZn9/53zU9yweReXXKcrA5BtlP2uRuNbF9cIW0jC7Bsm664e5ptxP8BLhg4A0SOHLETX8+ZMwd6W9jxg9tcBsaAGeGvUhd8uxHLDpEOGJIrmPvtPfIq6IEYszZ8VFpl2ymC//g0iDL12sEicMLgmLlpo6GXbQbbOBpyUXjDOYgNZBC+NjOQGuGIs60EJViKGwCdkMoVe+sG0iRuPJnV22PiF/K5DmgZ95Zdt91raieY3I1lHmRz+D/WQQiQxtLw0a0dHOGDoBW7QYpscq0led8R53UQDqvplYii3acLlWcRt2IZR1Hw7WEdd0e5Mj5XosWPzU0hGT/6nKwcuWNFBJa7pEhYEx/hJuuLU8rh1U8xX1EmBuKa0DjFIRbFM9XiQoRLno+nj1kwDicjFPWmQJgTSbILEEHHwopgYnp8CRUgQlUSz+OsA8UKIOqG6yRFUDyeFYN4GlJA7S/F2kSICCplXwYcexRcPsXhfM73SrEdtJ1GQAHWlwR3RR08zwingdwKwLGoKB8bxCjaZP9pyd0B/9d6HhpdSlFyoObOfHt+wOHgm5BSKXj2Hi6YIAK1H3wpLGwpV9pmwpVuItBTr16Xj32372fLeaD2Kl9/v4rBfVIt34UrMqLRzzA/CkCsDJzQwGMHAMQ5koDnUkpTdEopwXP0JwbHIXbMMIMSXiQTAhmfJOYDSayKpenNhokTlJUgkUPH5MUPBEEJ0/UmHIogvz1PADUF3L3qVOYTbBI6MW8K4AhHSSjqbG1tUqkUWBK0TSlhTBrtMWhLS7GWIp1tyM1KUA5NsReqXsYznrvnG1J6lWCkGawxlT6xX9pzSBFwPw01Ee+wLX2CSvQQhFamWQEv/rHXxkm93HMHLDz207oBAUqR1JjLs8XgrPTTKkGgOwg9HJJTo4fyczC4y8Nvu9ZIBHCBT/aZW4SIAIGQmUogOhlyCb8DMJRKIHJNGHoHQ/daSEFIOXjCV9csdv+maYmudm7mSagZdJ2iuCB2/mEEoCBV4r0gvFmBJivyomhPQz9Cj50molEMQQQEnTKrZd3EIESmUerEcTwLLRbBMxiLppJonQ4Y8L8YOJm4RU8da8hD9J/RH9DfsmL0EwirgNEtkLcMosQUkFcSmwG+J98POwWlgFE8J6IjAqMkR4UNuGBIPwstdsqDsXfHgrrrHnPk5rHXObB2N7rl6xrX3PFyv7sVWU8vdK4huY2gnS+4wUFSqzeMMeZSDM42uLHjhr8Q7txIU3UPivFlLkK6krE4cRGnz2nv5AcRVQTEOQDOlsLsKAk1yidAvDPYxFE9Q043QNsEqHO4NkrBCbNObR1zLMPIJlxX3hJzJJIrBb5UQajjauCFuMx8FXDHsO/Akb5KmM545B6dCsOTXQmqQUWoOMUJyXeAGshS+k6dn1E0FaT7PD2Dx8kPuw14tONRKzo7oX6aiU+5TNg1woApo5FR8B/vpHCAXl5F5r0lVuKndQ4Cyxnxde5d18oX4lEN6vOZSHSVvQMCKoGIsBJOWwohLoyAOKaBjAr1LBQS7hXQihQcCQcYPvpx1J/MGK0AACAASURBVAPiOrKt4ECrq2s0DnMF7nFdM4hUBBGYNJWgDXC8pbRG9cTUUlGtiE+1rzxWBQ63VI+10GjNcugUEcfiISCpYrjGhIAPCLiQTj6QJ4Vzx+xZiYoxiboQaq+lDUjKIjhWGwQXE4RhGZNFSkBmHQgQ4L0S7zsuzKqzc/lVLeanNRECmL9lIJKqZ4bRFBOPFoXgI5P7TG6rkph7Ybi15GRkrGxykyRoJGClCAhBzjUCwmmN9zCPqmCMVVkCKUwM4mZPesQNHMNCYb7QJC8JolqEuRpgMGXu7xB4hAwnE+U6lPCQSFueFVx9BVzJKvddhXmGIBPMyw/P7SPwONdRcwucnbDPmPoprYzSIOYDR477jNjWqaIh8NiYu5jwWIrlILpct8iAkxaZZFw3xqTN2Gco1084BOj+E7/jcUp+CIcywAiGlaw/96O1e/fcb/97nYGAT5DX8KEkJ+iM65LYNZNLDrdTLAekAA6CqQxIDL73lbhSZBZHbFhd1Z4NQDW4VS76MiAdu7oNfPfa40xEfSSblQhfp9o1cAKwfkHdceABxUj6n2eNrZ0xLqGXY/0WT7A088HbWznjQDM76snwiAnL4AwouV7kaG0J49sa7jC0HqWZiOOAWNJhRYZ0wxgGp2IQck9KselAWD4mkl4nqWSjZIaYkmQx/LRmQ8ATxf3973+XoUOHSt9+A+X555+XWbNmyYS335cYJDIlsGSurIKrSk9EG6DnIo9DTMBReQTSoDvuvFP+fO450tTRivmK+YZ5UAyihTgQ6jNeZxU3kzrDYJyIurgelENGKq0oRnQzXRWQ1MQgqOEGFERf+6fez0EkMe/h0Oe+hx6X8//8VxiA8REc9VCagzzlJVg/nPSsB9xxKk3OH3O1BI567DKBX23dtspDjz4iF154gXLOCUqYYthUQ5RdjNMGDJPKfnDfEcPmlv2MI4/2F/Xwm58VHRtjO35atyDgE+Q1fDxJdFUkR+U/jmmQS6aBChOtQ0lomQpA9BLQqRVBZFYKL0SasPARhVATbQKiOM5miSdQFhRgiOUE3RhoMHBICFx2Y1OzSqjTwApBII5kMqYi7wjqoHUqOWzqiolN0tzJKxqE+BBelWjbwskUDbeAiUZweBjGENlSfUicxW421JcDCRUgID0pMfpMOwWwwBXQORaBsw5AT12JTYNyyFTUdUZlaavddHBDwDOiyrEASTJROuCnNR8CVyEc6Pjx49Vf79LGRfB1PUSOOOIIbMKSCMhCIorJwAghsClw85OEKU3VBcb8sisul7P+74/SGm5DWNIa6Yh3SAjhQaMgrDxDH8B8CSAQCmdgE0I9MgZ4adBeK4dMwkouGWJuKlkqgqVgXjF3wFGTQ6VhWgQcO2JQoLkSOfigw+TKy85HbSSSGUiYuMEt1LnJPQN8iagIWsM0cgriN7Q/urGNJaKguzH57TFHyR/OOEPpdwmIdKAMm1is0Qy44ygkXgzowvIM38o1l0IdCFAmJcjH7W0r4jM7wuwtcdzNSe5h97v+1VoOAZ8gr+EDSGM7TWQ3QZQNrvUefpeodXwGzvLblGsMAqNEYyRgxDKIPfz5FzJw0BCpLR+gHEk5fPhGW5pBHbHksaV/6onH5f4HH7YHgiA/69OnnyIDu2enX+Iy5UxLIEnmRCnBNZljxZO4SfFbMfRlxx59pPzkR/vRHgxtQNxHyy3o+0qhIybeI2fS0gRxNmpBSEMNSM9UBKIdD3GToNJ1aW+z7hLbmpfKn045AeLK/vL662/AaEyzaMqA804AGTNlRfTeM/9rzYNAGgP7yiuvyMEHH6zHoJgYvOG1117Tc5cZiI7JDSs1LAtKlPMB2Uqx+SyAgrUQm7QLzr9Iy3dADIzcUllaKWXQRxdDmkN1SwxRnhCeETUHMLfgHhO/ErB1iNO+goSLj1BnGYgdHajyqF4mTmMshE2BsR8N0yoQJYqJhlqdURvfnL2Np8JSC4VyGESbAae4DLkfTiNjKkU7C/QIG4Vrrr9JyxeCS0doU12f5ZBCIf6kxgy3R7mw6cQmmRKvUmwiSM8T1JNjYxDEfcIngbXJLldXV0kYonyuRz+tPxDwCfIaPta5voDpe7cA3DKNr9rgb5ypCIisT0Mt9Ld2IRcDqanVKQgmuc6LL75Y5ixdLBuNHEEZr5RrFBvwCUB8++//Szn00HEesS0G8iHmIsdst/4MEE9mlYiJiCEO4k81nTNECYDTYLr22qvlsMMOVTueJo1aQpEhkB0Kx4DcKFnvU1cloQ5w+UG2EZZoq0WWNMKJwOE/VIXgfqwThtr6Grn0qstl8uQ3ZfasORapaksQTYIVL4BDFe/USs4zzeCnNQwChZirdBRy77336pxoaw+rPQMNtw44cD9wh7CMp/oEHGInOOTyWoqFM9LW0Y7NoD0NkADho754KDjrIEiqHpiC2KUT3ChFxaUQGdN4jMaKQahb1KoB9RY73QanM4pQN21PzCNHqe5gJRZRAbjaWbR2QM2ihBu7SFTBEwTcTFIFQ4NuGupDsgxdOH7DEr8Idg8gqXL1lZfIjNnz9Pz/vJbFat/B44Qa7hHR10oQesrAYx8r4Ln2JMVGkDbR8Qk59QDEP47hLQQX3Qa1DftUptIDu/bcc73hp3UWAj5BXsOHluJqGoEwKXHGLpocxR577AEH+VXy9jsTpHFpi2w6ZhPZa5/9s7pYUtEwdG8MnVjj3AqD0Mahf549ZTKI+AAgn6DcduutSnDbQNAp7v540kQguQK55c67ZfOtttff/Rr6wgoV54KBndgFA4vQ4UM3lCoVLzfIe+++A1oP033Mpj6DBoiBVe1WW20NZBZEZJ1S+dGPd1UjmWoEdW7pWCSbbjpUBg8aKv96YSKMedpk4MAB8KI0QiZM+AL6QKAeclJlxTBWC4HLADfkSaZprVoEeNhze5bRX8OHz+8eIMAoSh999JGKqp999lklPuVllghF0jH5zYlHYR4Vy/GnnKTP7r3/PumHObHrrrsq/Oi0gxxwGnGU77j9Ftlg8CD53jbbyEcfTAJds+KTF54bL9/97o7yh7POlCeeekKamlugarFGXi89PV5+sMOOMKIqksN/fagsXoxNIzjkfz3znOz181/K3//+mGy53bZy1dWXS6p9iVx3yV/ljrseAVFEu5D0XH/d5XL+JZfJEy/+V4aPHCVbbbmpfPDhR9BDp+Xi006UG6+7RR7/+10ysHy4fDJ9GtZSSK6/9Ap5+pFHIDVqAlnH8T3Q4Guuv1f6DBmOvXKpnHX6qdK6cAHeDt7NWlvkhltukD+ec7b896035ed77SUbDBshL/3rNYWHn9YjCOBoAL1nGuxi9dsld7/bTf9itUOA0LcjkFe1e5D7DWqlmfGZNX2GeeC++01HKGIWN7eZx54bb0J4nMDjSCQEI9JWM/Oz983ltz1gmnEPj1AuDte8YXxCprN9kZny+SRz5c23mlY8asEHpZCi5otP3jXB2n5mdiPuoMwnH7xrLrjqVhPh405jTjn6KDNzygycuIqbcGyuOeW0o8wPd9if1aIDS80Dd11hPnn3PW00HuswM76ca7bb6iCThpIskkS5zEyz09Y/M5PfW2wQhcdsNHID8+9X3wPu8/rJniSmmi8+etlcfPNDZiHeF49M2iRR1usp7nXyZXsEnr6In75hCLipiSnhpTTGI23qa8oxWBjsdAwfCGE7o2bmtKlm3333NQXBUlM7YLB5/tU3DWaiaceYtmJm/eqYQ8xhxx+O+dup/6647iqzy957mvZkzHSg/L4H/9Lss//epr1tqYm2LDUP3X6LGTl4gPl08jQTTqTNHrvsaZLhuImnOs0lf7vGvDdtsgmjg08/9qw5fL/DMPHSpqV5qTn0t78yV15zrnn2oZvNhvXlpqpskHlzwhzTzPmEGXbOcQeYfmDBr/37o6YVr3PWifuZunIxQ7bd1rw1p0mn2w3XXGFq+vY1SxZNwzydZE489AfmoLOuMV/g2ULk+N2fjzPV8Fd3z9VX4c6XJhKeYs4593pz2TVPmMWYs0vDrebMY39rdtp8lGkJNZsjTj/BSHnQ/HCv3cy0hfNNUzRmzrvkcvPTn+9jmtojunZhH5Kd6uEwIYcT+7CI9NPaDQHSWXjqyr6EZ6+6Hu1A1sJX5XljHnHicSeXho0cCYPoEnnk0Ydko1GjZe+f765iLuU+KDJLtkocIu4oOAEKicl5FtITEfXH4ECLKCpmvGs412cZ8hlWYIyjUtB73f/AY9K3L850RpbK5ptuJB/M7NB8s2dOk7322EWGbzwSYj04kykskWuuvV5OPeZ6u5tHJRdf+heZOZWHVYogvsOxLei1+9RvB5EgDLsaqtFui7z2n5dkt10PkIHDiuWFF8bLiOFj1LeDnpuGSI+iR1q7FMMoB0dPNWHW2kAA6C1v8diIn9ZwCNBCme40N9pI7oSl9Kx5C2WvX/xCfg7u97YH/iEHHXQAnNfA7zu412JEYYoko7BCrpStttlWHn7sceWOSyBpGdJ/MIwS26FqhsFWZbmMO/Qw+dvfbpSPP/5Q+vTtJ22QtLwAw7G9DviFnHry6ToXKf67GnPzyosuggonIHXl9XLbbbfBqAvrKJOA5KVefvWb/5NNRm+gou9YOiwXXnKOlEAcvWBxs+qLL7/hbzDkisuUwEjZcIMG6Ks75IjDD5Kb73pInn3mRTnqyJ3RpwJpbm5XnTAF3H+98EIsFBhjUsENFcvC+XPkllvvlLc/+FhtMmpxjPD//vRH2eY735GXXxwvN11zI8TXMEhb0oj10VetsEePHi0vv/wy1DjlMCJL4FQExeM8FgUROA/9I1EFQKmWn9YdCPgi6zV8LGllrcQYiaJqOk5wv6dPnw5C1yDNS5dArG29UHu0iytXvb/Q6T+XbBHNlHEus6O5GWJrnJFkgon24kUL9Cwo89BZAa1do5F2iJrrlcAXQF68aP4sEPS0hGCbUg99dVtbs0S8o1f0v8VgJJEwgziwzoScfMqJsICFMQtE5q3IF4GV6vQZ70ltHQV0NKDpLy3tIfn0s4kag3vRoiXQgSNwBfYRxC/BEvxAvXSIkuC5TdaLRCvsIIJaFOHTSatcpuwL20v/75oFAdozPHjffWqM2NDQIN/ZanOZO/tLOeqEE+SKK66QiImq8VYKBlZx7MjKQIyTUE1wXpTBiJCBJpgWzV+kR+RKy7EWuHPD57vb7yCLESyiT0ONjBs3To444ggZAFH32X8+W/W5S5tbIZ5ejKh1fXA2Hrpilse54JT6LLcpHMY6wcaO9oSpNCZ4ZbG0NS2WoRuM0Dpo+b1gzmyp6TtYr4ths1EJG4exY7bEBgJ9gZMSOqypwhEs2ohzOlYEynByABteOtnBtmDRkiZki0GXjupBS5MwOKsZvIEady1dulQ3DoloTOqwVkmMmXjmnkaUtOqmESd121yPxTC24FEterRzATW0gJ/WCQj4BHkNH0Y6PqBzkDT0yDz2RIcc/L0IgUA4ePvuu7dsuflmMuGdt2DolAExtXGtsdrVw1FrW4e0wAiFi5nYorpffymtq5UQjoeQWPfv01fraQf3WkpsAo5kIPI0wgLWGnhncB6yQvW2FWBaKyrKNQpYGPpdIhvEdJIJ702SKdM/UaMXnO+QwUM2krvvBBJGxfQfXALOpxLISPsA8j9x4key0UbDZMasGfLciy/KTTfdJA8//IByNXRw0tGKc9agwiUwTKNzCG4YWJY6ZHvOBNsASgt8YqwQXZNTAMTj448/lnZszBjEJok52h6Kysknn4w5vBjOZ0pAdAtk6MBBcJkKNx0gzLQ9KIXBIDdgnM8xWBsPHzZSBgwYIFFuJik9gZTnjTfekO223Vqnwam/PwVHqhbL9ddfL//+97/l8isvx3opxyavUhaCKAfLYQyG3d4SeLArQr20CmRAjIEDh2BziDO/oIMVdC+HZLiZhCW/usaE8cOwEcNhEd6m85NW2WlYdU2d8SWI/1A8L1WuNQPDM57GIzmN4zjWoqXgdocMQoFKqes7BBM4KW+/+Sk2rnw/5AIXXlFXL9tAF56EHp2NxUGU1XUs6khgg0r7Da7BWs8IhBuWjB5XTKkBnB4D9FaVdtxPaz0EfIK8hg8hCSN3xIXeznnOzJmy8cYb69GRHXbYDm4Ew3LWmX+QXX68szzy8IM4K4kzlp5Ii56RGD6zFnimrZ1HNLjUA/K7Y46VvgOGy+gxW8gJxxwjlUXlMmajUbCCjst/QSBHjdpOjjv81/L6K29J47y5MnL0pnLEAfvJP+98Ugrh5vKo44+V73//++BU6RS9Rm67/U7ZarsNZY+99sExpoDstfdR0ti8GJuHciBF5AHxrK0dodbWH30ySb77/R/D4CYs7096XxoXLZWXXnxFToBhzxVXXqpHmarrGrAxKJPmpnaIrm2AAk5UenhKJfEOkGtbS/A1fPD87mmoQ3KBhxxyiG4ii2EYSJ/WN954o5x84u/gMjIh1XDIMQBcbMviRknikG8iHJXnnnxO/gujpqOPPkalJ204FfAfHIFLq2urtNx0842y8ZjRmIffk7ngYE9HXWkYFo47cJwSe24AqiHmPeWUU+TEE0+SLz6ZpqPRp6Gf/OOuu3QdVNXWSEtbq/rC6YhRwsS5BWNCbAIaF82254xhoBWG2ueTTz6XyXPo16tEXn/rXd3MbrvN9jA+rMMGdIQUxFulBPP7/QmvS02wUhpbm+XTL2cjfx/ZYMRW8vvTjpFzzjhGos2NenT5yceflsEjRsvGWHdBWIOn0PcynCl0TnRaEMayEwZr/HAfGg4jmha4Y0oT6EI0qM55/LTOQcA36vp2jQKcYcwyvXAPvO8MvPInItGsUZc17qIRDYxnYBijRh74G4OyOBJuU6OuLz581/zlhntMI+6rURSMsEwqakJN81EuapIwuKJdFExv9DnLm9hC/ICZF6pO42PU5KvdRGE/0oHMiTgtt0Kw1UFfkGjQww927mpkkmGFKJeIxRFnG0Y2MOpx9fNRNNWBvGiNjXl5bcNJfCXVgIV1dzbONrMnTzLnXnezmUPjMG0D3xEIHFlOk3bQT98SBNwUXa5RF+bnww/cbaD/Naeddhp8rRaZsdtsb8696CqzpD1sQskQxjxpZs2ZYbbacnMzeuQm5o5b7jQvjn/N/O53fzDTZy7Q+RVJps2Nt95iBg7sb4b072OuvfhCDL+d94sWLTDjH3/CPPnAgwYhFs3uB+xnPl+8UI0Q0yh81+0PmBEbjgaDGzAHHLo/jLheMo/cc62hlYJIX/OTvU8wS5G3PbbU/OEXPzADcb8MRo0HHXck7n5hfnvYD8xep11mfvHHf0DmXWP22H0X0xzGXCfcOxvN68/809QP2cAcdcY5uNdp9t1rV9OnTx8YbZSZQ47/g/YDrkHNFRf8xZQWBU1NdYM55ZSzTGtbGO+eNgf9+kATLEfYFBien3jKqebeBx41hcVV6FuZqawZYFra47ouFixp1O8U2ogkwyYBg0uuOz+tvRDIN+oq4A0eSOeOj4YRLuEV9aC6n75ZCFAMxrQMpN0DPNNADLQwQaK42nHLCfi6pW9ovQa3GgUnQfEwNHLICA70nUmy/W6HAg+VyDtvvijf3XIUa2CFqgOuqK3HFfTK0P9Ww7UgnfaXBcPqGjPaDFeBdZXQ64FDB8cdKKylrw+cIYUuLhOFjgt63ATmCHbtFCcn4IC/qhSsOB0OM8GPtYqgUX8ER6rKSu0ZZ5OCIwZIm+Pg3stoqAI/1wmI4krK6POaZ4zhUxhc/59OOlZuvetBueHJZ+VHe+wug3DWlKcycQTZhmZGyCeK7ijWJLfjp/89BNwU5cha61DMBNxswJnzZvgq17kG0WwHuNAyOPMIQoTMvB2xpFRAcsJR03jgjI4E+waNcuKdbaeJAOwFEQYR537xO4OBD8IOogh4ic5o2BD10gU8C8wD8BrhAiobcNxxSFmCED8nIB6vQmxlTB2cHYZP7aoiaY+1QhwOX+204jJliGJWplHM2K/yVARcLjTBuO4wULXgaFaJzITh1unyZfq7cu/dF0sl+lKL5Ua7hijsIGphtEi7i3QZpDp4m0J69cJ6SUEqtBih1orhcIQe2qsMJFQ4UiUVg/GuQWkMQY9cC10wziMHMZcN+kl/7kyUJMHGTcXVDPTGU49ExepRD2u+AFHRKiCK5xvTKa2NkqVF/bSWQYB0Fps3GAXCYROST5C/5QFcEUFWYozVqBskjyhrl3Hf0iFL6Do6wuqlKIkzwunOCBAgdazFEoLOC3QTYkFcAtkQqWnEJrid5DnKOAgoRWFgZKEnZiZrNCZpOPnvBMEDIaWjhWQSVrAwd+6EvqsYB447YTkdBJKNw5K0kIgSyJCIIREF4oQVayAIURvaDUfgGrMS558NFHXQEZYV1akP69JSIm/2nY5M0EIR3BjiCr1QnSIj7BCxtWB7UYT3BjsvNTByUSNxvj90ez5B/nYnbxdBZnBNq1pQglxbLc1tLUooUxBPFzEoCh+AODPCWAnUHiybRPxF+NpSD3Ow0sOcBKWD4QFtrgwchdCtKqOP0ikHHXTQYzUJUAb632I608AaoB9rPZ+P30kYURXj9ADoF6KE4QQANmulbBb1cceQhDORNBS9DJyCmQz7wwIJZSqwUbBwLEyCILNjdBsHVU/UdEh5QbMcdMhxkq7fQ2648UypxeM0xMjqjAR5A0nYUuAkQAxlikFQ6VmMxpKdPPMPqJBwU7dcW4h1hY2sREFVi2slCdrL/UcpiCs3GFxjUejKy2nZiEQRdWUFCDvyMAgGTSa48eUmhnCIYn3wvYuhj14tBJnvrQtrxanHrD3e7Lmur5C15wrWobs9EmSGORs2bJj6mmWi8QUHOwbLwDIYEvlpDYKAm838zk35i4lYDSuZ3oa4kKm3ssEieNW1JOCRV2vpKk7sxSz2Pr0m2eS4UHfNuzbIPH/lN+/QR1c3vXrRHhGZLeBQDGvIa8ejvOw/E63Ae2pDvTL18kwfZJPrv73h+rVsnd1L+Ve9Q0DjYYO7DUAHCtkpiBE2VxjmkcOGy0zYOgR4Xk3nDz4eoDleJKu5yQYc4eaMG09vPjI+NpIBp0rmV6U+Kt1xulNXb+68JDEkMQd9R7ust4j1cbAD1i81eGcl+rZfXB925jFwipJP3d/yOfKBkh55NGwn/vksMg2Ro046Xa66/HipKcf2A0EoNPG9lOJ7/fAmFmOMsyo3w6ElRrvsP+rFM1WFZ0vZzaytsPe/3Ze+XS+rTIzz8YhrPm9h5Gbr6jdeZVXL9/66680T2vnwVAEZL/j3p7yHzEiJGluQGPPbjzSylsyH/AXRK4WxC7iL8Ln38wjvWvK6+d10r7/sa7v3dSV8gpwPu1W9JkEmBeNfBhIpwzEgbpwa6gfiKN4iS6MU7Nwc8pujBe9XSiptckQGshV9RhUHsyKKsmYwECsr0g/wOUrhums/yXrtuNq+oKxXsdEAJJAqkQDyV4Gtr4DlveSIIi+7CL690g0pOmIgMeJRPZOGDAj9CBYx+lMEvWR0KuTl8ll28mXbWNGPXufvCtZ1r+VW1GD+8/x23PNeCHLuqiLkvypBzl+VnC/rc2qFC2RGQYOzFwWDYmMSYbq1I0fMM3XkjpmRDiZyfSmvz4BbY9+918OI+SvNu85fQXY/tsa+3sp2LP9tl8WSy+Zg3T3fXdlW1+98FCszQES//gOg07T+WaMhBEqAspNHgRjyUPW7HpSZn9f8pgWTS7yy13xuczMPc7jiBTrPSSFdde6HDTsKQxh9YPPpL++arbBN2x4jjLGebGmvGwb1W6E7BN7M43HqnbDoNqDyVDnTj3uQkaWo7yZlsU1o71c1rbCGXjL0cnulu5OPDlzB/Hodmsm9z9+rUp5trSPoZ6XhnZ+RtltbbLGFOmniUc4CcMOGRJeEOA5nEvT+wgfkkt3xmfxK/Os1DAK5q8RDMMv20O1N8/e43TnHZcv5d3wI9AwBy5VSowlmEfYIRbDCor3VwAFDZf7cOVAJU/TLsuRk3SQlMVRTrm6J/p4twbWcKcN6KotNETWLQuRsOWTvmvXmioq1NubXH167bIXzm9+uRV47rrrrruXUyFXTmQcqh25Z6T9E5/BaiWs45EAmEuZkEuFFESyiiEePtB/4rK0pF3fkvkPeO7ls+dijN4KcD5Ney6+tcFtN/bbe1qDQgLGAEmSKrEmdR8IVo3vYhDNwtPyil5u6OrhX8tMaDIHeCGo+ysu/dq/UW/k1+JX9rq0RECDniKNu0gH8UVtVB5F1BWzxGDM7IfU449uKs7hl5RQZIx+5YkXyjiBbVYkaTIOwZvChVy6rm0VeGkGBcAZSNHKCzlWvwfdCd8t8zE/5dBc96T6P6YqSKcOoJmjfXXeRYOi99Tl1uwiFmKGoHEgxYMOBmkw1SuGEQAJW2QyiIlXAj9iCdIZh0FWYdeeahFFZr0Iq7cGanXojqPnvlH/t3krB20PKz59/7Yr01n4PVa6Tt6g/5jl90mAyxEUUU9OFGyk0CTGTf+RpXRz7XlaOM0ZZF1/Zf6dvFALkkA0UqRQPB0C8KH5MRDrVD/P0qVPgFIYGTJh3PKumHCqJZHcO2ZFRmIeR/CI77oBwp8GZam6GLUTqphNWIq4P9VkuZ2w8rtnVo5sG5Cj0CDSvmTQ2N77Zrh5XcpS9wDv6ifAQuhFAO6whhX5R6o0jwAiZqD80JGRxGcJFrs1rqGtHo3DJpl445B6z9FTHSpRnXXnZunVhfbggE+yYXkqqA7SiJjF2SmXqkzVQNna5zOyndQUCRG89fdb297McUP5bEEfkfvKfWwLR2yZl2dz+nZ4h4Pyo0a0pCRY54nkL5ikxhicaFMqHcRcna8mzQ8pubrp2eCYgF11bW+xsL0gTlah69XlEwfLMXpu4Z38hj5sMyG9JNGtn/7zUjah0lbcoEBw0Eu5oBwAAIABJREFUWEH6kw7gJZNJbENw9lg3HKuasv3qXtEK528v5b5ydwjinj55FS03y3If2op6ypI7ul+53+tIAYqpqS4mraX/8gAJMIMQkEtmIjGmy0Xqj+E0ZB15bf811nkI5CDUbri1xxf353WPYPnKNwMaEIKpgHbKHn1rqK9XAugd4FjJWrsINQtQz5wltrjmIabs9XIwOcc+K8hmHzxOWAlyt2Ens7G8mYLMaIfuoqlCDsdwjh4EnFIAnsdXp0lKrVfTXMrpyvJ6Rdj4ad2BANcIjx2TMFNkHaBFJJPjhnlN62pmdM/Wnddf894kF2nRst1dO4nF1+kxB9Ylt6mixIOJ11/lOcu4PlG9weTq4m83b7ixY3LfbINtUfrC8rntu3qYPx9p528CV9R/1pGIw+GCPUCqfQjBHzITAmApuuRnGSS3zA0t4qevCIHSklLAFmeQGQTEO0HHMScxC8Ai2RpzgUTyXDmSPtNva7XsBiZLL5kPH0YLIxFOdMDxBq6pp7bxzOghy+p5KSxnOEOmJJgIk4qDZHrkGEZmZIDpiASOwXQCpOC0pmsu2JnhLKRJW2FQrWUoScqAA+5MptRLFjnjSjjsiMAZh4cu8W54WVp4Ibn15N7NrQnO81wpI/WETG4t9DT3u60tdJq9jMGbF6NhMSle8N6ZkeDc+shfm7zv6s9d77m/WV/+etNGkHIlpDwj61Jueb5b7juwTG/1ZSvwfywDAXLGTOSUu29Ll8nq3/imIcAJzsXEiUxdgnNXWgmPQ/mLp6e+cHfF5PKGEDuZA+uQgyOQlHjwNxcQn7syK3rOfHTUz0T1BvuZWxd3dqzTLUzqQbgw2QbfhdIXfrtJx/LO2Qz77t5XG0By/WY+/l5e/5QQA1mXgCgwtdE7FBKjU5EY54eKVTyWJcQW8a82DkdbXl9T72ik09scFtBJDUTYnA8RuGglDiJx4/lljkkIxCqKcJ06HrguCcJ7HK5KMJa85yR4Ibj3La+uhMc4xsSmIxELc4qPCxjnGPfiiKykSmFclpXCGhrtpFF1UZm1pbaOSbgxRRxmZGptC6kFNeI2IBN8h8GDWAB1BeGBi07AnNi6nK5hkcKI2KQNY+4lvbnO+3w3Js5dEivOc64PuiTmXOY7cJ06RscwtqKnFlzM6G0MuegFhmmGu1HP9xnCMJZoOcY2r4SBWae3+WUkOGXfkZzqkeW5FhkSlWsrd72736zLuWpkm27NsR5HiFmP63s9JR7eM9c/d0yHazh3jbr6cjcWWthPKwWB3lfSShX3M60qBLiQ+HEcMReLm+COcC6vDbqpTMMlYGkpCWFMiRGviRxYF+twi4/EErgim0jIln3elcEtPiISLmYiGUdAHYFlZbzHvFyEjY2NCDp/ELjUkJbhPRJ0IiH+dkiLz3iPdXJR85vP2UeqTAgD5l2Z/iWQn0iFzmwYEYqJxDgC955Z+rs8IPrPVgECeShEmUaMgfcdxLy0mx7LsRGR77nnXvLoo88ol1xWZjdTVZhj6jaShA7caTuItlYBopeJIgIUiBcZ3cpKSO9SCSUWSbDHJOwRWHbTleriBXNkp5/+BG42S6Rt8Tx545XxMnaLHZVmIXiYpJDPEdd4Moq5RRee8ONfg7jGaCwaQT1wJGJgcU2f8U7qQj/YUawtJwqvhCtYbRhuMosx7zl3Of84p7nmuDbYP0foeNbUzXuuEz4nHALcBfCDNGAgQlog8f4cHBk78MAD4Zq2WI494Ti95jnvMvipbwdxD3KXgBT11hjbdGuI97ke2SbXU+4Gl2uTiWuKsam5cUjCDSmjyXGd8MP3Yb9YJ5+7erh54MZANwnIWOZtgrleCyDX5wbJ1UGRgsU1OcjGPcz/1h75yUHAJ8hrwFzgIqT5OxcVF4sjyCuzy2RZJybiYs/dubIuXnPx8cjGHXf8Q10akii3wPk/1WBdz9N4fof3PJN15ca6STgdx+oIMq/5m33NFcv169dPnnzySSWOfMY+vfPOO7qw58+fn0VcfDfWQcTF+vntiDxVJuw7Edzy+qcvgJQGUikCBWYdYbxvG+Ltct2Xe0Y3/J1FDbSypVjUJ9Wrcebbcei1QhJZpCDG6O23J8gb//2v3HXXXRpAgcNAwsIRaW2DJIZZ4YqzsqJMIvRvDVFtAEQ7CKRPZMU5V4DniHGkPtS1XnKK9HUOzvk//3pTEOAJIRmnygnHHylNzSGZvwD1gL4WVZLYWDJbquELDdqOu2mE+cj2isAk1+jco7gd00mqKoukvKQavDQdnmBjis4yEIvRzR9028jLD+cz5y3noUtObM35zk1q7vphngwlXGiKPr/TeN95C+bLsccfLw898rBMmzZN105TSzNE8xlJQHRNyRlTMhKVcqwxElO2SRi4DTTXnbMD4n1ec231799fy7JPJNS8x3jlrDcJFQElGBFsfijGZ518H+Ik1ks/+hmPm2cdXJeM38zhKsJ4MGUoMUA9rNdx5/rATysNAZ8grzSovrmMjqBy8ZCb5KLjAnYLbHktk3sll8xACzyC4kR7rk5ec/EEsGslpzx40FDVidXX0U0+gs9knwfs88GDdUE5MZVr2xFLp6viDpgLnd9EQA4BMD+RE/XhiiiRfvrTn8pVV12V3XRwsXLBuzqJHNhHR/hZhnWznhX1LwNkUu4hqQ7ArgbcTnWVFS0SXWYJsfYkP1lCkX/Xv14dEADkecgU/pvT4GiZYhC5PvHEE3L93/4mb731FojmUuVMlfgh1eHscqK1SZ5/4jGZ8uVcRGUCogeG6li0QP560SW2U9Tb4j85OKaODgRnoAMSzP0yjDuJcRH8UG/x3W3k0ksulPbmiAwajHrIVCZtmRhE0va4E6JBVZLr5NoxUknxOLqdQbYicr7Y6N18880QOdtZxDPHpYgARXpbwmhLcIRCkTW5X85dtzaclIv3c9U83KS6fuuGFWUDKie370PiOmXKFN3M1iMS2wYbDJOPPvpExo4dizUbsGuNki+sFVVVedPXwY/1UN/LNclNrZO68ZpnXZncJt9J0PQm1nsRVAT0Sc5yTlTONvheFH9rX/HilBzwUwUGopSSPURm020JiTL7iHrcO+ZuTLQdP60QAj5BXiGIvvkMJE7bbrutEmBykdQ5DQZh3HPPPVfQOB0zWGTBM+RHHnmkDBo0SIndueeeq2Udl3rqqafJ2WefjYVUBW61D9ZOUMaPfwnPERUH7Z566qn2OZABuVkSzfHjxyvRJLE877zz1FkMd+xEGqNGjdL+sa9cuMzDMkRAn332merDuSCJpLioSXS5UNlH5tt3331l3rx52sdZs2bJZpttphw6EcZrr72miOHaa6/N6f+y/XuR/SN2xCz+cupUDUY/YMAg6dNvoFx+xXWytMka/yxDlJVQrAC0/uPVAwEQyEIgaaZPP/1Ux3XcuHHw5jVY7r77bjXGqqB0yNosgVNMyoV/+SsIog3rSQr5yosvycIli6Ud7jiTNCzEnKd4O4bjR5XVlqCZNIktXHl4UhOBA4/qmlJEmqpGyEI8YQxH6IQ5F8rh2MMiPttodTXtHNKYq9Zgip4xGdpx8pTP5ZFHHpGZX87W/heDGDJ1sEJuInBIuRgRyP6fvasAsKu42mftrVvcgBgOhQLFizs/WtrCj6RY0UIJUCqUAgUK/IUWWqxQigcIUpziFE0gSCAhIe5Z37f7fN/b83/fuXfevt1sgASJ3Unuvitzx+7MfHNkznEcLfZ9jgMCIA+ODVLF7P8ONPlrYMr0MO4IhmmMi4pK7nsWef/992XoesPgErXNFgn8V1QEGTJ8nxIoI9QRwSK6vApUPNIh1ZrLoeJCmuOMh6OmmV///v0tfY51lpPlKMY8Qbk9qWQXWBfmxXmF8RjIvWNZmRddvTr3r2SfU6bNQMrahRWijoNxmG03O0HD49uoVldX268L7n63m8HFN94CoCwtTVDGitW4YiApAErffPNNxWD+kvwy2tbWijh04e6OjDY3N+r48eN13rx59j4Gmba2tulVV12tHfDpnkrim3ufPed5K55fhTHeYfFdAEDaKX8Bxnr22WfrqaeeCs93nfrUU08pwDdbTr53zz336JIlSxTyqmwaWLXrmDFj9PLLL9fJkyfbfdbt1ltvtXSZ59SpU/WBBx6wZ2yTjz/+2NJn8MrfW/nAuOxMaVvTEn31hec03Nps1WJL1LdE9flX31KWngcdu3tVpkN31I/O7fEuTnAEYWVagO3p2tud80ZNVS0e8Nug5TMRxIrgO7foX/56tX7wwQfa3NKu1/75Vt1jtwPxKRgP3ysc19fefEd32mikUpIs5dW69e776Dlj/lch4QXZC8eI1X31FXznqR9O0P0OOlDvGf9vHTpiKz30kB8hjUZ94pHb9LATTtbmNNOcp68++S8t67ejjn92ge6+9Q46sm+N/u6yGzSKEj3y+B0K4lSLi/vqwsVRnb9glm6x+cYw1DlAp76/UN/674taXs6VW7n26buxHn3c6davGhpb9ayzztKhAwfpRiNH6Ruv/1dBfWabz41ZsJv10ksv1VtuuUUPOeQQ3WCDDZT32Jcvvvhi5FusgwYM1Lv+cYe21jdaNxw1YqQWhopsp1ZJVYWecNopCjeS+v6Uybrl97fWiqpKPfjAg/SzTz61Dr1w9lwd+8vzbN7A4lghLlIs6G08YUFuczoA2uYClmvRokV644036tixYxWLI90KaQ4ZNlSfe/EFjSYTGsfkkMHH+NM1VyvAXOH0QLGIVyyq7Rs1NTTqS8//RzcZvSG8mIued+4vddac2Ta2Iom4tsdj1h+YBgPLkQ2ug/T22xVrnTvjPMpv5EIAyKtBF+Ag7cQkAlOl+re//U3ffvttA6rlBa+78ynBpAMTXJ3e/o+bdeiwgVpYmK+gQvSEE06w16HkhLQ6ANwRDNxbbWDZ+/jT0ZHB87TlBbaUDezcwAGVuzC77rrrdMqUKXaPCwi+m0ol8ArL4R133PGP7ATF56AYLMkf//jH2tTUYucZ5M3yjB//qF2z/o8++qjOnDnTrpn+E088oTNmzPjC8qU70EadHTrhzdcUXEsNFVG1FsYY8wq1tKqPHn38idllSjdAxjsGxvwNANnafGUD+xJb0c2zTKemCot7B8iElFSztrcu0WOOOUIj7V4feO3VN7WqvJ/+94V3NNreaSDJHj//g48UjGP9cMFCtZjpRj3nuCP1J6edp3W4nDVrivavCgG0yvThZ9+0d/gNX3nyDt1yk/66zT6H6sIo+mJmoT77wC0gzzfTN7kGjKd19ntv6cD1Nteb7nkYN5r04Ydu0j79Rum8+QAc1OLjSe/rBkN21hlT0LfbG/Xl58brgEEb66z56OOoYCKW1HPHXqRL6lswXlXfn/ie9hs0VKd+PkOjMY4HjGOk1B6O6YE776BQV9NjTz5VmToXgelkm15x5TX6yafT7U790jodvv4IfeGFl7yxlO7Qa66/Vk/7xRkaTUdRog59b/J7ev1N12tbPIy0O/Tvf7tBD9pvX61btFB323kXLSko1jHH/yz7AdrDWHhf+Uf98MNJyCGj8+fP1eHD19dnnntaL/jVhVpcWqK77b6nTv4E4xgxLrnkYj308IN1aVOdfcefHvczveyqaw1kP/hoku684y46acJEGy+vv/S8jr9/HNZZmDcwfE4/7Ww959zzNBz1gDgJLTv4p1YoeFn9OP6zwSadrnnC+kcw9myuywXkgGXdnWHwnV9RkaMDbDoqTUz55FMZOXyELFqw0FhejhWFj2YcVh7h9jZju8XBVuJ1B2Sod9x+mxRCMLwQ73FLxFtvvCljxpwIGRgNG8AeUUenhNsiMnLUhrKkrt7eTyLfAuwTddqglBPRnjntlzOQdUU5E/NmoGybLDi6CiNLiuww7j3NN2O0YP1B3kaWYX3dElOuSWBLEtMmi/Lzz2fKoYcdIbV9aqzMIIqgKVoqrWHsMUUgW5ysPazo7Zrpg0I2tv0Xla+gkKxQOJmPJ2X2vHmQZ0HJBDLLzs4OWTx/rjxwz53c+WKHKQRZ6jijy7483DXXfcEQsGb5GsFjGrsE2FfJCka/8dnHBQUheebpJ+Wwgw+QcihWaaJVdt99O9lj153luWfflsIysGLxBrcARyDP3aD/aAnH25EK+kd0jgwZiK0+HZXYmywycuT68tqbL0uoZrisP2pby7Szo1n2PHh/ufH6GyWagqJSKb5pplrKSvpLXv9BUjMEkcCSHrHVZnLWOafJiy8/D83ssPSB/e10mtt+UIN0oQzuP0IyxZUSwXgpAFs7DVvcbTGV2r4oc7RZPn7nebnh77eB3T4K+5BDsvu++0JprFWefulFsNCpVAglKGQVklJ59rFxsucmg2XD7XaUJitlO/rkVLn8ymtlyy12kPKSahk4aKAshMLWbfffK2mMFag5Sj7Z6YVQZIMJUNhLlH8/+oCMPWes9OtbDfFMkZx9zrny6puvop5RefGVFzFfjJJdtt3JazwMroVz58h1114jO2y/Lbp3gQwfMVzmzp8vTzz9hFx25eXys1NOlcHDh8vGW2xm88CWm20sifYW6denWiZP+0zm10XlrPMvlDiU6b631fcg639TttlmG7RnWK7/0+/kuGOPgbZ3FRxrlMltd94j99/3sMQjYKcj7zT2GnIeKvTl4l2sdPYF5pZzZM2pevOLNVEQgtloVfcBKnKUQSb0+iuvwM5Anhx08MGy7bbbmvKLU4ogYFGuc+JJJ8oxxx5r8pqQv+2AeyX71tTKz04+GTKltEyHLPWf//ynfH/rbU35BMQnQDEkYAkbOA4YNECamlvkwl9fKK+8/poBL++754MGDTLlrosuukhee+01ax4qbBEsR44cmVXY4HsMBdCczUBZJo2tVh1Q2rF7AGpPS9OsLJi86u6775X58xfbkFy4YJFccunlcujhR9hzyt2oUUrZNQOocMuH731p+QCs5PFxweGUyOIo7+xZM2TWzJkGwu6wxC04IA7AuKtNvu6Zm2zZvJidvdUPPj7aGN/xrn/eJSeNOU1K8sqgUFgr1aESef4/T8v4R5/Eth7vi9AMRkF+qdQ3NEHzF9uHCOzQcJ46ZbIUFVcI/VRg+YpY2Pvagu9dWIKFKWxe07Y0tI65p7i8rNrLOoqtSB3oG4312GUAPIkB8gEKm2w6GroFS/EulKNiSevbwzbwZKjNzW0A4DiUwyAXbQtLVSm3EEITGzppeQD5TmyVOubYE6Qt0wTlsZQsWrxUGmEs5MwzzrAycSHIBSeqhj8Ys831ko+9y5RutyfDWAS0yk477YJ90i22PTCOvJbi925onHMJU4iFC/uwKWZhzMPsicybO0ueeWYcFLlaoR+HrYSdMYyXiPQfOACKWEUAdsiwE57SHDPnXLHhRqNNoUuhnZaBsZROyNdv/vvNttBtDrdKSVmpYM1hZR2MdNqwKCBYfjJlqjS1QrkS61wqm8Hzs0VS5IfKSzIWlobFi7GLoU2SGpMGLNAXgAgY2N9zQMR5hqJ1cL6tM5Go6AoOePmMB6+9eDmR1vnTYEZaxV1gGsBnFFasVHTZZZddjMKFnFaOBfDefvvtVjoqRBGYCFw8t727RpEy5Mv+++8v/aHMQarztttuk7swwAdjX2Mikcag4NYkTEQw+E+Q5eqVeUGmK3vsvocNGqbtnnPQZp/vsYcN8HHjxtlgPvHEEw2Uef7ss89a7hlMiA888KBwu1N5eZX87nd/MOp5OOrESQfsOEv7qKOOkkMPPRRKNyGBHEt++ctzMFFWQZEmaUojVDbhZLTrrrvKyy+/LH//+99lwoQJX1o+UvB77rmnLSJ23HFHW8RQeY1KLKNHj/bbKPj5NluAike5nAb2DwYqRsVhNe3DSR+BIt7dqLpEOiotmNCbW+pl3uw5AMfF8sGHE4yLwbfKK0ugKFQulaDACuiuHXuK+6BvUR2LkxX7Swk0nInOsWiblBcTTPE2NLEgmsF2pDYoSTGhMsundD1QoYsQA8qM0JSST8B52XarrbGgLccYGQoqdQA4UrAKhvXlkGGDZf2hA0DxtdAot7RG4KMW+5uNmEPpMlhcLJg3FxrL3kKTfZamNRO2h57biLDFiLZNLOSBUsf+/Y6EKXhXYCtVJ/YtLwag1dd5Y5dKVRWl0NTGPirWjYY/mkFx11T3AbcnRpcXst7Q9WX6Z59jzBPA6JgD/AdwgcqRNscm/TUb/4yNR5AFInJ+oFY1NaC5kE9jOxffoXIX5w8aXSlChklw5iBXtrHL9zbZaGOJtoelrh6KYkiOG806MXfk4XtwM3cCCqBvvfN2VimtApwNVAFpWoUtpEgl+9vRmNfyA2vsVm3Lj7XOPXEywkCpizKOVRBMCAdZiy+ES8Y9eRVLQtmq+3UyugTkTJTMpCCDSaTikMk18wpp8L0OyLk8BQy+R1FOArIzpu3e57s8Glo8BSgqkfUWqIjVW8iVC2HfJqJ0aLStSSNhKKagHG3hJrsHljV+UcaEV4fWcNTK4PLnL2XJDJRhUybt+qKTO/PZVykfJiAvIf8vy8jjy5Xiur0WXKxEC9g3RV/k4X9OrampgogQfSAOpcR0Ug89cF+dM22yZmJQQMygv6VwP4P+gc829twr9Ac7H6rvz56t7IkNny/U9asG67vTpun4Fx/T+NJ39PY/X6SHHXuhTpqd0pdff0rfnvA8NsoO0anzIZfFO5kk+hxkzY+N+5cO3nRHXUA9RygGTnjlvyqhEfr8B4sRqUOnv/+GDh0+SqfNnwcrm436yftvAsmqoJgExTMk9Jdr/qYlFRtrVfUoXTztQ62f+bGGigdrC9J768UntW7eVN16u931D1ffog2tMZMNT1nYoE9BsasTsnL2fxOfUhezbalu369Er7njLp2JhklrGDdb9Mgfn6BjTjqPzaKRSEybogm97b4HNYI4lIef/5sL9SfHHoX2bNdw+2J9771XtbIyT598kgqPkMenI/r0M49rXf0iBbjrhutvqP+8+U40J+XmGHlQrDr8sIP1pBOPg1ybYzih4UiT/vNf/0AZMnrMmDGQE4/R1mjSvtfdd9yqB+29C+TiCzQC+e8+R5ykx5zxG23EvNCB+Jl4hz41bpy17wuP3qE/2HJznfzhVMi4URrkd+utd0FJFFnjOjvX+MMRVDpyYOANp3TKX84JPAIdjp4y5ECpy+sxq+xvLAJ1Fh8ts2CKa2o2OoDib0u41aJx2mtuhVIJzjv9jh6LeprWHSlMChzYAHW8YspcTqM6BQWuOMAxFvcGIhUvmJYDfSpwEfxMoxKBgOby5zXkx9k2ItB5SmcYaKap7AaXG2CepjcshmXfSaAsLHMEE0EKt3megHIIg8vT5ZEL+l+lfA58WV6C8/JAPFuY4OQbawF+Ryo1m2KznypED6akmIhHtbq8TCEWVe4keuu1l9CB0Vc6CcoRPeHoowGI5QaK4Enrk88/D+fsST392JO033ojoV38EeIu1OcfuQPKWNvqb6/4p34y9T0FF1gLygfp1jtB43jaTOQa08fu+4eCGQTpRQXAuo8mw1AJQ5meeWuKjtxmL9MKHvOTw3RRXb3BAN8BeumFF15m+f/y3At15vS5etSRp+lbb3wM5fAmXTpnqu4AAN5ph3108RwqYsV0zpw6aHj/RIsr+uiw0RvrH/58oy7CDoYljYvwHGOI2mmtKT1qq021H/Lcerfd9bLb/4EnEay7m7WuMaxn/eI32DBVpAP6D9ETTj5D59e1GBivN3JDGg6zA3ZL9L//RXsgz7ffeEG32HS4gvBEebbSxx59yPLabJNNUa9C3XrzbfTh+8drGBrgrHQ81qbn/fIsS6e2T4WedOoJ0CSfp8cce7TmFYW0oLhMT4FC1gPjHtLKkkL7NkOHDdAlLWFd0JLRI8acTasrusHo4Xr80cdpEot3jUGlrn2RPnLfPbrh6M20sKRWd97zQH311Xfsw8djHdre5hEDNu9AwasrcJz3BsoBIPcE5DzeIIuJ8jsq7biAFjTWZBC+5RbwxSgZsHcoT05CdkpWluPm4PsYa6o3aQsmPMSFFS0Y0qc8KQF2HnAWijMwLJKihR2w8/Aiz0PG2vMCWVlu/yC/MPf+5hohofzJ7WEk+4tsYFcOlwbZ5+WwpoSZ19PdgYIUy54P1iHj2/5gSgHxfh7kvK1QCqut9ZS2mAZl22Rt0UA+y+ny8Z558mn2P7Kxv6h8rjxkuzuZVdB3Xat8+7/sl5QbuqmC/am2tq+0QC7p+nQHFPyKoPMQCTdjDzAMwjgj42Dx0ioXJCuQA3vKdwUwm0mTlLD3BOtcOE1BybAIRi5iVUBhsH5LYFo2A7OaBbVgneI5WMJlpbDchT3EBfBNnMK7DIXQaWA/DlV78k3YncLdDCxJoZ+iv1eWY28w2LEYGGAlc4zAsEiowGdPI2oBEofVKckvl1hbXMpqmS4iAr5YZyqYkbGbh7qQ/YtRCFZ3BJz0KowBRGhYIJAjSaoI7+MNlAzJwZRtqNqSheqHJZdhkkwvCqt2MJWJIuA2nGuA9V6G8UUrZrTIxbHE9PMxlmiUhJa9Cou9fcJgmpnehukoIrS3U04MERCVMmE9i+84T1nhMMdtOcYerGkxMnn10MiCqFyiSeyrLvXkvnzWCd5/aT4sB7a1SMjf740NWTBJiz3MUM5ji3JWQVMjPb8fZMsQNTO+XnDyY8vQv8daMxe+4L/kP1mXfjhX0b5D1rb4ulT51bGuGXpx4YTAUYrfIhhE4K9z6GAKXQA6dl3Kl0G22sHrELRH8jEBeYMNnRqzYjkVUvCQIMeJh92e2tLhVhibx3kLFEYqsZmf5zGAKjsEn7vFGBVKHBgTdJk/0+EvQZnnDG6xRu3wCBRjGLiQIBDHzCuUN8got+IE1QdgnIKMj+ORFgrp5N2MLvkzOZVrWBZnSITg6gwqfFH5qJ3NwPgsH/NjmgR4p3hmEYLgjv8kAAAgAElEQVTwrbUAPyG1bE3hHge/IwMXmAzsOxn07wpYn6KSk2kbYqFFAWw6gz6NwyTBNkdzawAWgdQnoqg1VAllIhi5APYAA9Bvoc0M9OZyD2tRgDEcqcDylhRwEQttfXiCSmMBmoc8KqGIyF7YAv0Cb4xAARGAXwl72IQSgpBTxWDWBhXIPoP3SV5iMBKppcSqUQCFryTGoDf2aKK7BOhJGTJ3LDD9igqAMStCjeJa0sd4Dgt6WLYibdjexm061gj5a2NuYMBjs+RaWR6SYqRlYwSyasqjmWdZRY20Y+zSCElxYakUY9FBAW+kDYY4rK0xvjGW8JiNYwcX5zT2wXEIesvMWbrH5VDg5DzivhVrxrHKNi0HGNObJuNiCxMWDR5hEKL8nS2ORQsX0NSUZ0gmPHDlPMHAfkBDQwxlZdRsc6E3wGUuQejZAgGF3LNFVsE1wYiazgwEPAIRJzFH9RFceO3Ai1uUqAjVRQlidQ7q2Hl8YfzezG46Krcnxemq/GXPGc+oDoCfUwbjNBay5T7mMnrzgaaoV64CA0fWhQsKDno6wODkw4GbxCRaXMJp1TMbSK1sKoEQfBly28RuICyvfA6EGce9n0sxu/eD32++BTzoxTd1J8iiurovFpTeZh+sjDwAxn2jlMn9Qdw4FlKlVdBiBiKRq0LHXdyiFyohd4QdBPHYPQo8Ci7RDgUigJbkU/cXgAuVJ9DQ0DAG94cIh1faI+1GlRH+qCaVAviW+P0pEgW1B8tThdzuhhCBh6eKmkoWxShkwgh7XoF5YIJdZ/RxQkaB76wkir5NKh87oFF2KGpVwam8peQFSxUIX4AOHg+3SCkWH50Awk6sMgowBiJAfgKq4TXj5rQXgZmLVkiNMF6wmESe3JIIQQDiIjYHDONTSQrbrToBqPnUYMY9mvMsApJToY2LcJq4NM4Yo3OxA8QmOHN+oOOVygqCKxfjMDlbTmCFw0pyJbCgyWBBw6zo0pJ6WSm8Y/bgSTSAE4GGRnxoX+MymoBiGYCZ9ea3t8UFy4gLjlOa880dz/5yBxE8ELdC2HKpN7D2nq4Lf3tSyHmYnJWTKx0QkGzm5MaDAOEm1HWhYYI6rmwL5A6w3DTW7YG2sq25pr2XxMRcDCGxm5BJ/PbvPxja00sMAApJQi4vkBq2nbvkd/pkY57PXUkDLDjBF7F/4YDTBwvQeuY+ZwM1/qUE1AW7yTS5YcgD3kJLn0SlR9UZFd4jKChassj5BlndDCns+WUI+SR0GqBGAC72uzt3c/UEZI/q9ChEan1bIJlPkDOmtsfitWK6cuSWx6uU997y/vYoP8vBdLu3skfFd0uCEXODgSdv+OU1TtuycEn2ueeMxX/Z3uGGNC89/v0qxe6esp+W/XxB/8iNtpaeE5Bp7pS2/0m4YKEVspWMYzswAsHYsSnX0nZYR6rlT2bdVqXrSNWDan4nLeC4HARkUxtAaGxqtN+vroPCSd97N4s3nOX9yd+btF1f5m0+4HUXOpFla1fZW19xojeDFS50nffAva4ozLrHQysq77n7uEGwNsDmPbYNflgi0u7dwMnV0+r6TYWvWHfLDnEpfEY5WQS+6Q6P64Hy2gkXGDw8fZZsHEsjCCvbAk5PhlxNcgkLKbMjK8fJDQnQBOXeWJ4rm2nw3vJbYHkDf5nx2VtEf3Iw+VGPYCvbbMg577lS7uXdnml90bVTFukZZ5lkeys/X1omYs+UguvVuQXIpiSbk/4JeJ6AkYr11x/mi1A8qnT55efkTuUigoKL5VFqplqQ2zd43q0PLQs6Ft3/473qYKML0ruVxU+/Z1ZWoWzIPfdv4pZ7J1skd0Jww0OCsVdCXLCN/HZifblz2NYuvY0Jl11utr3F6yqKn493o+u1Hu3jHmTLmZOAmxOsjD7FnOU8dM/cu+J8smz7+yku52dF4y8nmbXsNoGYlLFTnC10Hkooe6MxBf7ScxA1v2hGkV57gvDttUBvYMrccmVyvV17JYKilalWcrRxqPjAi1V/nvn85SPvNy876LoPjOXl77385X+X9/5XKz9KnTvxfHl2QYzVrAW4eKdiXVVVDRb2xZD9QwsaMk4aZaGCoPMY1DvLEuznHv3TXecbixqA7Ztc7N5NICFGd6fs17SenXox+j8XohwJ7l52HFhaueOK46Arfpo6Grgupd4h4sWoOo1Q4StxRXHNsVYKNjz7NixuehrSiEs2eBEQmGXqgPlMPkuDBUx5chlMYvE+0+eRwnNeM77HPvfK4Ra2zNsbE2yb7vOAN6ag8IX3reo4MmTh5zROz3FnlcgJyzxn+9rcwPbGeT5EBsYHx94yppsPZUv+4tru87nNMxQzeG2Wm35wvmItQF0ggjIDx01WhkxymUjttp8sT/FnxbILYn9ZC3BQ5dCv2XVnzhjzkmDEXgIHS+/v827uE//lLIXsTTjdqJBe0v+yW1+3/F83/y8rX/D8u2gBarfTQhOVggrgAnMQzKTOz25DYwmW032zhaN/YvZIKmsxQJ/Xv+aV31d52i0h3LeB4vq5x071xo4PNLjgKwZEAB8HfFkOEscD4jiK1nGwCaoMhX7SGVxTWazQjR9Lizl7smeYw7J0FDJzqqXxmTF5c4chLrBfwdKF7ypE4kNe892cOvpldk/tBQSrV28N6VXYRVvxXyuL/1o+NaZRlk5vS5Xm01QpA1kg+EG9zaQpaHzjbATha7UA8ZZEMMXGpJILnbYsDfmTfU1gZqCWKwOfB+HbaQG3ss0dY9nzHgNvmZWtFYlWBHLGKAeyDRoMGPvtSiR7ahEY/F/85K6w/Ydf6efrl98rxsrm/5UKGUT6VlugDs5ECMDUqmWIRmFv2TfT6MRfvN/rN/ZvGlWIaZ890ildpW3ihyqUsU6hpAWKk9N/vu0T4hn21hpI8i2oGLEf418GCwKe52O7D/s/rCwYxVvIfo9yKTS5PaDzFMPy8JxbnOgP2UsQkQ3gPKrFNj9b+XiNN1lmHsiE1Lt5LGZWFKIDVM1PBcuJ+CyZvc8T5E3Nt07k72XAa576+TB9y8dbVHggmC2F1Z3J2NuWcE7wr3tt4x5ReZkbz0sL9Xdp2iKBbeW9yHpbmfxrthb/5eGG1/a9ZBDc+sotwN0zO+20U5ZtbctRDhz40TT2EslmUscBq/ort+nXjmjj3w/uvJsY6wtysAGak4B3zgmGL/GPG0nZlHvk1P39L8hquY9WrPxuqnHF87ZaLDfx4MFq3QIEYyILjc1w/qCxmBS2yHDrDUyrAqM8Kqqrj3SnBNk9+YzMY+vL7K4W2du8ZDcMgH0gtY7t9WkvTXsL/wmw3h0PcHBOsPVe9VAI77o4/lvW+b1zpsHDS470nyGmX1ya1rCQjUP60IG59w5fZiz2cMa30tgf/nonniku/xrs5uxzP66XAm97wOy/belaVUjCuzT50LWXsY9zQreL7CxgEbxH3tYwq062zS0DL5Hsj99m3a5pNIov+W2Sm69rsG73govltQC1q+Ej3oy1MGDhqLa9idueGHIpYqfwtbzEgvtfrwXYx12XzpmmVixRf6B0f59XDvhyRybuu0uXce7jFct5xWM7fmDuOP4u81/xEgdvfEkL0FAEWW40CkPqD+bU4dehEpQp7tvWH35sGOTwAYafG9JYSzWX5elt1OnqGCl/25LZg8LtPFCfxm72LXFlgcjf5uQV0wMlUsiOBZwdCdi/zISYv0fL+yrh3ov465VJsYDwzkih422/SMZKdwpP9o5H0RtMMo5tsPcSY54eVNuJf99LNXdkWmyHhmbAktdeS7AULEFuYAq8b9k4pSs3fvhrZfXHfVY05aVAnO1qXe+eV1N/Tsg+9L6QF4N/vdp0Xbt73cvW/Xlw9VVbgIQvqWSyrKlxba1KEHYsandNoO5SyPiqyQfxVrQFXPd34zY7fnsm1FsE3Fv++/y0X3TgMV/GAE4mnaIGrsh6Q6ChAQsYqDQqwMCFmxcYB3JDf49mJOKx3fjYe+J5rrF5yiYuTlb+RMEElltJP/ngZ81oAXzgwgJqUoMehAlMSFgBzkXwGAQzpkX8+nDbl0HfgbEN9hD2ooR5J4LEOE2RGEASD9LofpCk4S46RmdSojAqEsd12PwkkbULi3HwEsUQQzdKIRp9avP9POwzTtPNIPp6B0AogWiGcej6aeQNj4jGBqc5Ecqlo7DkZV0RcaMR5M/+nqI3ZrJmO6QNvpoZj+kZICKvZBQJsAIZDzRpEhRuJKyvM7TBHKVZ9sCddhggIdTDfAd+UU+872EnDZzgOYyXGFsS+dNdKcdGAnufaWzDELMTCw/4OKcyWj7aDTpgxoJndfmYO6wzNHeJQG9uNFLGpYbpRrOsrfBUxUrj/UQE6cO6lhWUbeC7RUwyfdzKdHi/llgWd/k9PUMrXvUhAsA/1okHz2ktbflzi6UWhK/YAma4BYZjuKg1k8Nf8b0g2rfYAoaLKxpyXlr++z0BOScTe4kWvuJZyz4tcMjO1RoBuBjWj+CYwl4oLfG2rzh/w55JSky/6ES0+FlRDgoI457WEFvhT7UDs0sp/LR2D0zLTWE9HgWXa24L+J/UA4vcavBBRn718xOlHCBdXFQjFUW1UoHFfyGMboSKK2EDukgeuOv+rsUfXwdlXQ7N0xZaqyJsmMyWiAS/vnhGwg94b7abmb4H7swL1AVu0eAdrTfCyxi2YhWbKcs2uGF0YMK0mSxBuxz+ey2YgBRs9xjcOaKvxztgM9rvq1xkFsPNoAWkG4/AjC0Utwogq04B+GK4rqoGu5FpYDxUl2MvKaJGkOcf/nCJ3Hv//YblqLQk4zHpW15pk25buB0musvhkhJLD7QH93CHW5AZzGTl4ToM16XXXnWlPHD/Y2ZqltVth4lKUt60aMZQApue8KYKN5H0Bc3QKcXVqB8DALkE4oM8yPZZO4ZCeN9gKDAFMrSvbRzPGZP2mKUnN8CiIhCAPc4Db3m3A9hwrfNN/wamM7/pFl2j0vMGYwyG+YvhS9kboP5gwyjmHEP/prTEFMf+UprIJAUNL06eGUwMXCy2ac0PziOScFDSte80TVu4ZlLTy6NrX3TPwdzzeo1qwHW7sJzpiTaY15Om4JRv2sN9YDayJTwfD2BuESTiu69MlIPGjJV3ISvboD+oAVCitF89d8ZceerfL8p5v/qltEM3WUEdV5Gig73mBrCmSVEPiMKxQXGeJCNhKa4ZIlEzPgngxZEHOjpj1+hDNG4ERdQiyOJCBDhSjiArNQRzrHwhCnObsKNdD+q7pKxUquBvmT5+PYPqcOYA0tqcuvj9lY5aSkoqYGs6n1gKU5PYwlSOfIBIXCN4Bj4YneAMMG0LA5irbcwQLxWOkfOwqGX5yEkqoS1KQ0YrjaVRDwMqfeATnICXidFWNcATZcoz7gJqD4WwjgwWMFRwRnxS/EXQ1E7TNKVywQsqG2UjSGYSGMPwz9zc3IpFBW1e+y/BlG04AhOYtD+NoQhFeORBc6VWDEvDO9x18PtdtkBP05nBbPhdtv5qmlcZnLF7YIyVO5y400B8BCv/qVOnyzvvvGOl5h5TxiGVTE38ONhtEyZOkDfeeNNmhMrKYlAlRgvYvOPSW02rHBTrG28BfyohOhioEShxYPE2YGA/aWlsMa6LC2R1j95kUznz3DNxS6USVFtlPkCjrAosadg9BznaB09CJbSDUCPF5uAAAGy8WQIgWLMGJgQ4agFnsBe6XEqAjnTYQiqZThdYHC4G8+jZAd2zqk9fKaSDizwAXqrd9hJzK1JhSSXegSMU/CPjsBwKavmgMgmGCewlToI659YnxmcvT8GhRCcKQ8ugBtDFhXLlddciXZUEbM3n5WOVisjG+KZc2talYJPDhjYD06jp2w81z5OW1iawk+Ny3133AsSRGClY473TixsWA+AIxNqj5iEqDTA12TwRFWmyfqRzi8B+Jild3Re2JOA8xsh5sOLZXJmikBkQNfY5l02sB+1iW/v53w1nQVj1LRB8jVX/DVZ5CegUgvvhyL6uqqqQmTNnwnIbQBfXVDRYtKhOXnzxZTMAQROrM2bMMCWESriF47YIsqv/85+XAdScGvxJAhMjvcx0hR6Dn7zHHoonq7whggKseAuYQNbjgmRftnvoC9zyA8qQW6FCJdVCyQcdF9Dpw8KFS+WZ556XvFKAlQJM2iDPjORBbpwvCzrguk/qpCy51ChOikXtpKPZPC8RhKqr6MqTmtzeAjABipTQGoML2RAdSCCvMEDK6FE4oEDnBM83ZkAIybKkWhbhHmSwuKYEmb8FhWXmKapxyVIgFjWJqT8RB5jBtn9VsYEaezRrFwLI0ZEKbTe0gdV98523yYQP30Pp4Y4Z7hEto3jKnD2QZKYDDaZJhTeuWNugo9Ge9ryx9YPr2/PPOUuWLllsHCcL4BZAGA8nDqgl6lJB11bmiMOTbXfEoljrQLMcadE3RD7HXnuLlZH1idO5B6rM8haAw8DieAriXC5j1GLQdvoGKSy/IKwWLRAA8mrxGVZdIaioVQiFHEf9kjqmxn0ZKJUfbP8D2WuvvWT48OGyySabmI1zUscjRoyQUaNGyRabby777bcfWG0lsjnOY3ASG4WLOrK3GThpBWEtboHewNjgiigJAOIBn90VFeVSW9NPGhvwCHhA70OLFi2B56FqyGtB9QJ8dt9mcxnSr1Jq4G6xpaFVTvnZSdK3YrDU9t1KZs1aLGlYDfz71dfI32+5Q/5++/0mRjn8sENk6mfNwu5WAc9F8Wi9/Pm660FgFsiw4YNwfiX8FoMSpNUvWA275S/XyW+vul5en/ie7Lv3TrL9JhvIx7M+N9CiP7K2WFwuOO8C2XT0RrLrdtvKk488BM5QERYRabny+uvkzAsukDcnTJTd9toHlGuJvP3WOzYe/nz9/8nFF54vTz/9uOX92jPPitTVyRW/uhBcpA9IkwK4Y/LIuIfkextuKuXwmbzDLrvK5GnTZGlznRxw0AHy4Lj75C/XXysDBw2TjyZ9CCRNyOW/v0jenfARZNsoHBa4dfNmyi9+ca4UgVu1zdbfkz9dcSXk7wBjst5bGuXmv6J+V9wor73zqey1926y9aYbylsfvG/1Iz1MsPaWE/TQFvJ9ltvNIKwuLQCZINjYqtXV1fbrgrvf7WZwsZa1QAb1yWg80W6/aahhMsBLj34+fbYesP//6HV/vkGnT5ulMImYrXtjY71O/uQD3f/AA/RPV1+nM+cs1jTfyzlawq0KH88QiWXsYPre4SfDbud1vWy6wcma1gL4pukOfMeMsnfE7ZOmtKa6zPu2GfSn9EJ979WngBjDcWwMjaQSOOCGb6fCUh3/4OOqeF3xdjKxQI87dn/d4Qfb6+JFTfqXv96kv7v4Ml20qAVpZPSQLdZTehg+bMy5OifGW016yvE/0i2+f5g2oftGm6bpTw/fVh9/6mlNIsXFSz7T3fbcWo/82Yna1hTRC364h66H9/c55Tx9PxLRzuZJ+otjdtRjzv+lzkX8eXjp9PN+pQtmzUGZUjr1nf/qxusP1Jdf+4/+/to/wuNOkW62xw91Xnu7Nic79DqUb5+9D1CYB9XWVJseftqP9dCf/8Ty7gwn9NSddtahyO+xp57TNtybPWOqju7XXxtnNGgSN24aN163PnBvjaK9OjWmO2yyoV77u0u0tSWjqURGf7TjhgqWvT7x7ARr13j9Qj17zKH6xNPjNZqO6pI5s3S/H+6lx/zv2dreGNEz9tvW2uegE8/TyWiyWMtMPfXYPXTs1VfpAry/FEcLcuL3YXv7DY/fIKzKFiDOwttTtggBhby6rIxWYTlK4OeVxmCc3JcarE899ZSMHz9ezjzzTPnrX/9qMmSy78iiIwU9ceJEueOOf8hFF42Vyy77A2TOHlXMxToDqWlSQkFY11qAgk2fj2wq0e0ybNgwKS6vkVn10ySBPU5piDIeeGCcrDcEEJlEh0G8VKhD7rrvX7LjFpvID7+3LSi4AfL7P14ig4aAxdvRKE++O0G2GLGBbPX9HYQK/AVg3V515eUyZ/YCef+9WaCUJ0tL8xLZcYddrMEHDxogV1x1mTz+2FMgHtvk/x66XzaCrf5df7in1EDxKw++kLfacmOJg99Ldu57H34qt95wk+yw3Q7QBg/JDjvtBvOfdTJ37mw55ZST5McnjZHtdtgOXGcoOUKYO2KDDUzBsaq6VkqLoBAJZasy+GsmpZ2HsfKPpx6XbYavJyHUux0ZjBg1XGYsmod6lcitd9wjZ519NljR2G7aGZcouAgJGFYZNXKkVFTTUE6ePPLyi7Llhv2gswFvfGiiKZ9MlmlTQfmCYxUCq3zQ4MHyF3ADHn/8cWltapabH3xQRq9XITvvhvrVQOejpkq2/N4W8vmsmdYenOg9YyfgnIP67mauy2IEYXVogQCQV4evsBqUoad3r7FjzzE5MrdW3HzzjVZC7kt3plVPPulkGToENADCv/71D8T1NKz9HRk+GOfKFnvIkFeDOgdF+A5aAHoGzvqfc8/IXHfddVdb3Ankm2n8luR5JnsvuHCssXef+ve/sU+YHG6VCOTCxuoGOxikRFYNqX//QTIQilGRSETenvQe9iF3yqA+NUKRNLW2R2+1OVjgpbJoxmzIU0MSgWJWe1OLaWhDviIhaFtzEUoQbWhokDGnnSaLGupMhtwG0IpBln3imBOznvDaoKzVp5Kya18eC+BMYa9wNBmVmjL4ArBtSQhclCKvNDSfM3lFYlZFkd7tV18hp/z8DNliq+3kQQBoW7gFcmAoaWG7FBew1M/AmteU0SgcN2cDyIOy39dff92sJzpbAJRNU5TEMTl7NuoHFjSf0fIT5eYZbLHiMzovyB2FCZSjwPfoRz2QIKxeLRAA8ur1Pdai0uROA2tRtYKqfEkLYEohZUxkMhkziWTsuQUqUfmXPhgYBg3qK7vvvYvMmjNXJn/6iaTCoJxjabns+hvlrU8/lMF98uX6y38LkCmUigEjLb3mliUyoH+1yUSpXb1g/iLbgrfjDlvJxhtvLh99vFRmTv8cFCypQWwBamqTwQP7AriG4UZIavsNlr59qqQVeg4C5arGZuwogACaRgv71VTL9GlTJdrWLiX9+koG+4hp0IS0ZVkRtkstrZOqigpbDDRjgZCEQlYBFNa4GCgvLpeFc+chntkVM302gUJZMRSxCsB9aoYM+KXnnpHHHx0vd91zt+zyw82kHeC+Hm2AgxtVjPda21EWACq2MUsiDmkvlL7KKqsA0hFLboeddpZXX58k9difzBBCWeohlB84cKCsP2I48iyQvv0GSP9a1A8LmQJsHWvG4iMVTxhA83O4Ean0WIWKcCEQhNWrBQJAXr2+R1CaoAXW8BYgfBidiEBmcL40YctTQaFCkcvfBwsSkqKNSR9NllPGniEbQEmwrHCoXDTmIvnFNddL+fAhcv0ffy6fvjxezvvlFdDKBnDEIhIqTclTj98vsbY09g2rvPja27LVDzYX4Jbsu/vBctj/7CNnXniWzK9bCiq4Ut5+/h3Z59C9pXwwVgL1YelMFQAI66VvGbk5xRJBOm11zQZU2229lbmLvOpPf7LiF1TXyKKFi+XZZ58VWrYauf4G0oY9vi3hZukPnjC3WS2tX2LUM93V7rvHPrDoFZe5i1pl4qSpqLZKc6TNdiRUGkkOjMZ2rGZs12oCwT/l44+kAZQ4tboToIT32m9/rBmKZdL7n5kFr07sx15U1wBFtXZQ0iK77LmvbL/zNvKb3/xGljZACxzh9dfekIMOPkD6YAEhUIRLQos72tosg7jrCZVoi6SkDRQzJ3kS7fwyJeAYJLG9S0GBJ8GJCMJq1gKBUteqFOmv6rydohU1a5ajdNWr8hXjgkFoClvdlbmcYpdT5upS6upR117TXdXtEeS/Qi1gHx99oZtSl0Kpq9L6h3a269n/u5/WQokLUl0odEGxqwBWLzzjUVpZW6O/veYKU4z64cCROkTK9H/OPFvr0a/u/vN5Ogg4UlY2Uvfd93jVuR/oAVsM0N9f/Wfd7agx2JOUr78462xTooriT2c8rIm2xXrkMUdoRZ8aranqq5dc/Adth9oUlZgO3GhLKD0BJYtK9fLbb9LrLjtPh8DlL693PfJ4bYCu04KGZv3pj39i+uFDkMZ111yl2LKlx4w5XkF2QxktX884f6yOf/oJc4CUF8rX2v6DtKmtWZ98dpzWDK3Ucy+9WjNokp37V1j5paBCb338OV0y61P98V67aHlRX31w/Ev69Cuv6eCNNtDrbrsOYyih9972D5j6COntt95tA+qHmw1T7MBGu1Xpzbc/huGZ0eYls/TU04/XocMHWxkv/c2lGjctMtU9thihtqEqv1yvvuVOvfbyC7U/7JqANaE/OPBwbUCaVA6ra6B6FxW73JjHaRBWWQv0VOoKLHWtZguk77Y4jonlsea8vH2mCZfUucERPXaP8Z1vWWdksHv0nndzHQnYcp2HsTW7vxdcrUEtwG9IIhikVxLfkZekPfuAumwJ1+EM0lkoTUUbYR5y0Pq215fPaamLCkYxWLxIaZFUlxV5fhtgirKxMyKVYLcW0wIIWN+NMKRRgy1NhUjrB6M2kR9d/Fc55czjheZC2hrqYX2rCvvhS5BeGtuq6qVf/wGWA7ceU6eQ3olTYJmXwMBIJ/JLV5d45Uy2myOMJLZZdUBIy22+nTD5Gmlrln59ao2C5NtJGBQphvyZilXUj4Cesv3GEu1SVlKOGB7bN9nRBuzDPmZcp9riUgklNTOXWVguLWCRDwqhoWjnEi2A7cPSBkUu7BZEWVIwJ1ouhR0oAIXFGH6UqRfyfcTryKu0LUs0vEVjJmnIpgsgl85TtCTK1IFXEtisXFkKrgPk4lrpOQkqSLTYPuOO0n4SRzqsXwcMnFQU0QymJzuOxxJSyj3TQVhlLYCVgPTr10+amrBvHCFgWa+yT7GOZtwT6NfRZlj7qu0v7jDjoLAAACAASURBVOz7clrhrlcesHpVCbVfP7RARkvDIEkY8iiDIhTBmMDSBoUmKnj1Kw3BqlYUwEdV6mJMVjDAUQJgb2yGSLcEzp5KBdxqC7X9+khNZUiaWhqAXfnSF0peCeyFpxMF2gahwwZa3ioBTzsMoM2vKpEOKDvlgUUsBbApjb32pZADVwFTk9jsWwQArYUlL64xYkla2yiEMZOQtDZCBo486aRCoYTFxWYZQBr2wGDLHXWB3exi7C1uC0dgkKMdCwSUvRh8aljropMJsygL9CVrIIl0i5BfH1gVIxBXhCpgP4SbiYn2+A/78YUUgtOJM+rPuDSGEoMjiQQWB7ShHTdnMKgfmpcYXgrlyxbkm18BK2dg7aNAll9+abUUU1YM5S0uG8oAxgzYwoiKwHkQ2r9LsmyPgrCKWyAA5FX8AYLsgxZYO1rA45p4deG04l8DgGFYGf6SvSe1ZgITt2jn2bwSwSAVnlXSQQOgLhaBpS1sKyIxmYR8NdLeKImmJXLUEYfL7LrF8mtsw7vzjsfNGIgDfioy0YoVrxXa2oUAWRKUNF7V2ko5aZFU9YVVOVCYRQA0GqwhlWpmOLntCueV0KYi0La0N8PsNQAWVHoHBN00EGZl9quTRsatkNPyBql8lrUICmOsRw04AzUAfcnrkDDSDsN0Jqxwoxxw4gL5LtxdoF5ICFRucwMWCKwCQinkujThTY9O+TQ2DUU1oLItCGjsDphr54WIx1AIRTDa2vZsyGPxgntVfcAZQN1KiOO0m826wVZmBgpiFUD0lvpWUP8ekHew8kTyIKx2LRCwrFe7T/JdF8inbCzbr7o+63qHwjReuSm4K4Xu6WaHv0/dGN+QN4N54bv+4N9cfvyG/ndMAYRIAYbAZu5T3V9a2ubgIVAzDYCC28IUHB80wHRlH9g8J9VIF4FkvcajhaDU4CYCUQsL4YqhCAAD0jaeqoA9abJxoe3MdBqA2jXDJAqSkV4T+4HkK4Cms2D/bxIUYDFYwxm6LkQHhO6UhPLh/oHuBQFi7IntAPYabMEyc5twGEEK2tw0+t20k6YqQ+zLdJro3S5CryZV7HN4QXmD0ixDxqgrXTRSOaoY9ikLQAnTnjW7cqKtQUoAzGBge1RpZzscTSB+SR9zlVheQFY8EgWrnoMmDjeUIVCzeSh7duzQDCi0s9MATrqzTGDRQPOX1IzuSIUB4OR1F5tlvFA56sP6tUWN6s7jIoekM/nhfopR2Kcvr/ZY0xGwz2nVjDWMQWGsDN6nvvq4R9QgfKMt0JNlnUdpNvejDYIK/iKoQebuR+XGd9pODcK61gK5YJpb9977An26cjJyGOu90Xtci5QbAkBeozsXtw2FIKCEtBL1KACAgQoEQMH6FDoE+hHVj/CNFY4S6CHJ86zrufSzvsA4DopsgeaT0kqXhn7TAADNGQRADtBrAGSgDqD2diWDVqV5TN5BtyOkFoIKNYMj9L/I+Nal07jl9VaWsyt9PGIZ/RLaCwiuB/fsoubf2w7UI9ceu0X0xg4Z2wyFPprTPBlD1uuZ2xqG+KyDvZqtL9sN7+cMquwjP31Xutzh5JWT7zKxHuOvZyWsNF4d7DQIq6QFaFN86NChsnjxYsNa+2rcoE8vPjwIwgzcpB6A8Sr5Rt9tpjYp9palm3TcL+N4fcNiZ98hGHtxulws9pZeL/d6nSR6iRfcWm1bwMAYVFk8CoUi8oDxTTeAFasOaBul6R6JC3rcgwkNACVcIKLjdAcfsk89JSOvWxG4fDDJ9s0ie4uQTrUo6DsjUNLr+iPeyemacBCK/okbiJdNgs8NPAmAOR0et8zlMpNEvozhDruF4NLIpmUxClEir24WKduXvbdZTh5mJ9Tiuig5qVumPhi7NCydZdPt9X0/za5n7l3/ffcgWzY+zw0sSxBWZQvQMA0NujgjLUYh0yLMiBEj7KZ5L8GmdToLmD59ull6CcJa3AKkFBi6OQrA7OUbdcjWPEsJ+PFtBc9ZjpNwLlC7Qd5zsPvX3SgK917O+2txU6+NVeN+3DhcBdZgby5ZxY2NrfDEVAtWKM2xYj+tLfDZn0jl4tcoU0IVQAqAlE/KF9edoIiVz/PBosZvXoYUskfd8t3OQsii2Xc64T8Yv3l5UF4CkHfCbzLjFaWxMADwJKCdTC3iCih2IYJE6OAE8SugYcz7CbC4uU4oSsO5Au5nwNruhuZr40cK6rTatgABmSaJaTyHRl9sdqXFlhhU5ml2jQ9pco2b5GH02kzVBWFtbgHMYt7chUq6b80JtAdIZoGUk6kf1VbepHBy4mbj9QRkf5me253sVtC/vAZdE/8C5EwQi2UZrD95lp/ypRr2nadOnWnuOT0wZv9w35n9jX3Dox9tCw5AWp0QNp92uAjctifIQNui54EC50+nZ2UjjzJrsMEpt87D+3nUSsb/JFjSfL/YJ7qTVJLCg2LuW+ITADJLU4BFgFd00Mt+17QIQQha4DtsAS5YhwwZYoA8YMAAD5DJmqZzAR4EYwaCsQPn77B8QVarogWyE5I74a8PvK48PSetbu/kxF0mrR4V6plOF69vVdQ8yPNrtQDZ0p77TgIqQTkFW8n0qe1x1hwQ9+hPOX2EgEqN3641HQGUSIy/jMdTi++7RnDv2k3ew+Hv3+2KhTT99aCnooVEfF0Yi4+I9rpR7DksYyawoiFblxV9MYgftADIGciQaceci1dzhcs/lB3TaQAVuhiBlDI3KxOcnUw5aLy1tQVyKVlH6fagjrNVZ1w+c+98WfzcNsvNJ/f+8vJaW9t7baoX2L+YL+hPm3MIQyEo0ghMRsLClW2/CYW4WMO3d0pUhrw4wG72NPS9fsHdQLnY1ol4VAFjyKcxDlyZAhXiEaihlAx2NaS4RkXjObY9ebJgXwZNETPiKVjSpoRl+Xs7AoyYRnxP54FlW17ftOy/MATU9Rc2T/DwS1qAfqnnzp1rsTiGCsmSpuyYLGsG8rQJxgRiKnZ5bKcvSTV4vOa2gMfJ88vvJqavOkEhns2iXzV+b830dd7tLb3g3nfZAsWYUBiSMZjmABVaRE4zlLzK4eLQU7wiC5qg55eKe3esz3iqVTTowZDdhkSZMOPgfi5A5/layozuUbeeohTtaXhdkHt+KZn2+5PPtMHuXcAx+Nc+hey8kTEN7w2WbeX7INNh1XLLahXqNq6WjZBtDoschHW5BZwyNcdPIRGagUoZBGYezsUewTiQIa/dXcUXAa50JXvOOyudUPDiGtgC+PqgTvOwtai4xAc1UJ4V8KaQgGnIkhLsdzUNasAVCWPXWYys5b7lQtOVZoDvCY9tTWQDynXmZ/xnkE0zAnVZSNpCiYzgmjZUJmxT/5oUsEucZfJQ0mN54znievCPX+bD5NDx+Q9arXasTPCz8V7tkcQy48ovFiN3o6pXLuuVKW7wzmrYAs6/vNvRlO8Alw+olOHA2OQyCJ4/TvrkDI61sQ3Mvyq+LRdi7px9wZ1n+7CRFHmezVX/nOxKtgld0OW2Dd9phYu6tbG9gjr1mAcccemABf2B7OoS6qKA7Xzs8T81mXJ+US0sSUJppRDnsDq15567y/0P3WuGsgyrkU4nsHvW9Nly6KGHSxxGPbwn/jYl43QTTb1+yD5GpjepXO4SMaoa1DUtaTEKrV6RWI5F4nLAfgfLAnhuMlY1jji8HPE9blsykRzI5oRvvjJOs5Mko3EYcOI3BUMbaaqQ58TjOXVuyEW0jVxImHMpr43yZrp+WTmeunwbwwsTdrG4crM/cexZHRBy+xfTD/rb2o07xFv37e3709sEPzopZE6iLrBz8X4Q1vIW6LFCj0Dbr8K0Y8GGxETCUIxO0wq9gho4SHchAW18TroJTGBuEUc3dBR3BGFdaQGiJA2CQH7MvUQMBR1SW1sGPRSKwPgsKg8++IRcfNE/5J23Jkr/wYzTKY89frecevYv5MCjTpObb7jOfBLTiBVDS7hNyvrSUQPNjSThSrFY0uEotlLB7SEo7wysdSVKSgGSnVINGXEGIJyGslYnNKnLyrgQ8KhQKpnlQ9gMETdMV3ZCRkfUh8lJUtjIh0CaiqdgEczT3K6rqzP/wpwgyTnkgpOBYryegXGKEIctwLBk8SIZOmSoaW5z3HDMpAGofDfP9zvcAP/FVHYLQVenPRaV8jJY1kIpcpnzBGdq3FJ/x42rnnkH12tPCxBnA+cSa8/3/No1iUbbYAYYHnnavMUYwZi+WDnTFMN8H48UzO3V1NRi8vJs4TI+1WPoEYeTRhLO1EkQsGOR+1df32jlMio7G4zE6eXIiRKcrmEt4H9P3wgHsMW+L9nIFuwnLZtuvBF+gIpAwTTWeEkYETnyiCPk0sv+IA899phMnd1g0ZPwxsR3amGbmkZA2jNhaYm0yJ333gFvR6USq2uSvFLYqi6mUUssAwCssVgbrESG4ASiREoB0pYnqNlUZxxACJ1qYim6M8E4RXvX3A8NIyUkn+Nw2FAGMCYNHm5vkwEAY75eCDvbpIjz8TIPTy3Mi5OEcWnGyStAejQ0jRAFuBKMGcIgapy1w0L4N87jaoD6OOAi9e/fP/uMOjt/uvpPRmUzEPwdl7IWC19yK52xCIsQhHWiBRzDaZ2obFDJZVugvLzCVvCUYdD2L2eb/CJYj6G3Gz+ESiELxNwbwqq9A6t/xuc5XNIaS5BKCdSZITCTqTJgQD8DY6d5u2yuwZ21rgWIUj4OZxdeYFmbSwVoXi+AacBKmFOmQ4RibPPQTrgdrKgwKrIEvy0toCrL8BB42RH3qMbSglJ5cPyD8trrr5tN6jJyX+jCCWQonCLJkpYmUKJE3DScUFB8AqilAwXayTbtagAw4iVhQ4RLhwKwtekmEdavDWS5mOT2ZFLKVfAIxTgEWbgzxvsFsMcdts/U6rOYKxCHjikYj5rlhXaOdECV8x5DNTiNLEiiHZm6gHzLUUcFlU6gZ7pPPv2ULFiwIAvQZJ278cJzB85diQRn60ILBIC8LnzlL6gjATYJl22lmDDyyVrzZ5YiUB0uNNXDu43fU4owicWx2v/e5pva/rmpU6ealcLqqr5y+GFHYu862IdgFTrZ2LJZMwN3LPs0uLOmtYCDopxyZzWaPBkvPTeF8so870qI1tJYL59/Pl1uvOlGOeHnp8vQAaUQh0A9G2D86gtvyMknn2o95PTzT5Pf/vbX8tC94+HPN08eufNuqcJCsCgvJL+75BJjGW+z7Va4LpMtt9hGlixKwlFSRkaP3EDK4Ezh8znT5ZP35sqx/3uWeZSKwK1jGbZh/fSYI2W99TaQF158XW657VYJY5tWONIui+uWyJlnny1VNdUyaqMNZeq0z6wcVVXV8MaUBpC22jXjXXXN1XLeBWPlvfffk7333hvlr5FHHn3EawQCOijr++/8l6w3YCC8QeXJqSedJOFw2ID+sssuk9NOPllu/+cduM6Xhx9+2MCY7ziTxVysUDcjCOtYC1CGzFBdXW2/Lrj73W4GF2tZC4AW6OTR4f/iHP+XzF+sJQWlevB+/6OKR5pS3euHe2oiEtVIa9jitjQs1Rtv+ItCbqezZ83XF194Ffe/qHmQMBO3BHOPL3oneLZ6twC/Y8TrO0mcop+oxrRPLfWbYjjaNJX+TD+Y9KLWhr4P21jfg4+igVpalI/5RvSI4/fXqfFOrUNMpvTco8/qqH6b6oF7H6FNGtZmbdGDTz9Iz/j1qZppjVuSiyd/rCOGDdKPFy3Gc9VwZI6effpxesN196myDDieHn+Pzm36RD/8/H0dWrWFrl+9o9a1Iq7G9aY7fquPPHGDxuA0ub49rRf94bJsb/z1JRfrrAXz7PrVt97QfkMG6dvvT7S4uT32sj9dSRJe9/ufg3TmovkaTsX1N7+/WI886kcKZxsKlrz+8be/1ysv/gM896jCR7KeeOzxus3W39dYIq7xTIeec8FYPfG0U7NDBuxpBRgjZy/wOghrfwsQZ2GEK1vRgEJexxZgvVW3PUeZLw228+WXX27sNP4WYuVeDXdy119/vVG95VBKSUL+VdO3rxx99NFy8803m5ewffbZw+TH9LWagYqraZ+u5HaS3soY3FsTWwBsWPgKJms4BgteqZaPpT281PrGu+++LPMWzJc9995LZi1O2Ban/fbbT8Y/+JBpIVPBlBxwUo48zy8DBZ3qlMEbbSQHHnyAPP7vJ0FQq1TBfWAetkI99/xL0kRRNFne0Jge3KevjASl/MJ/XpH6cIv5V+ae5JbWOvnP80/JrLnz4IawQH79698Y1fvIE4/J1VdeYZRxEWTPhxx+mDTWLZWJk94H5eq5OGxub0U5Vc4+9xz56QnHy4DBg0x2XFxULFtssYUZVKLcd9asWXLPPffI2aC2MRikBHuyr732Whsn48aNg1JZoY0v29lADW78kjomx8mFYOysif3965c5AOSv34ZrcApY5oPfXFnbx68D9D0hF77p1luk38C+suXWW5ppxPqmetlqm62NpU0wLi4vk1h7VKZNmyajMYE1NTcYGCcgDyyC/LkALDpqifaupe+6HH+D7rcGdx7/+9GQh39qnxN/vP1COKd8txgAmZFy7FOOQrxbwK3JkL1utPFW8sD946Vu5ky5845brRnyywpk5qK5EioDHV0zGNgK5xHYF1VS5ANVKdJG3zr44IPlhWeekAxY0NNnfi777n+QLF4yT2bMmSMNANHyqhqUolhKCyrAak7IsEEDpbW5zXrbmaefK/PnLZEt0W8P2P9QmT9nruk7lMCiyelnnYP+nZRYMi2L5i8AWKqcfurP8VYn2Met8OVchRqphKDQVV1RbufcI00/VKUoM/s8zQ0vXrRUmlrBnoZSF4TNkJN3SD+4t+VOFipxdcI1ZGVlOWTqZQB/j1VNuTEVu5wiJJW6bEtWENapFghmxHXqcy9b2Tys1j1gRFfAxFoAuRytJvG8qJianhkpLoU8Gdf5mFxgSQbbQtJS19AkEcyw3E+6/fbbyb+feAITEh2fU7kraUpi3QOvezt6RAsu16AWoD51MQ4Cpf95uf0I98yjk1IPoUZi0YyEKtuhIa3SbIpS9NZULcUF2JuMlVwq3Gj7kenLOF0BAIPz4gJspSqVCqlAvHgbVLOLAE4FUDREd91sy80kUrdA5n/6iUyc8IkcfOhRcuSP9pFxD90mMxfOk5Ebb4P3+8CBRIlUDyiWuUs/kWEDqiyvipJh8vwzb8vUzz6SH2y9sRx1+BEyc+psGdJvmEz5aIrEwjEpAbVaUVzmVQl7n2kUtBRbrQoAvDzKIYdesnCO1FSWQH8C26hYY4yNxvo6KauolA032RTa4VGZOn2mfUuF4ZQUFiXUut5w1EgPyKHwluHeZ1D3XLhyvJBKJhA76njZMbQGdY2gqCvVAj1nzZVKJHhpLWgBt+W8x2+GW0UQkpg8OEEsxaSzySabyLY/2E4OPPBAe3bBBRfIkUceLrfddptdc9sHt3VQU7T3EHS73ttlzbrrlKpJx5nVKvYdsxntu03kDWx3KioskfrG+RJNLpV+/asl3BaB1nWTnD/219IJ9vVJxx9Dzi50n8HhxbakuQDVxuYmAGERKOVBUlvdV6bPmCaTPvnQthgNHz5C9vrhzvLPW2+SzTb9nmlFH3vcT+TFl5+WCZPek1GjR9p+4Hg0DQp6CrS3VebPnwlrYHlyHxTEqMy1KVjfF5x/jmleb7n5xjJ08DCJtmMr0pVXQTEMSwYUfdpnn8nLL75kDIBSbKsKh1vRp6PYLhWR0aNGgNKeY1uv0tid0IQ9+G7vMjWtx469UE4GdT1/QR0WtnnI8yXZCHnuvvvuyBN2H6AoFm5tMTvGM2bMMAf1ZF07QyCklAO29Zo1Hr6R0gZKXWu/4sA3UUNMEKZ0AuoX24/BdMM12HPZpHkdhHWrBajDx4PqR+6cJzXVlZ6iYCalRx1+iJYXFyq4vFpcXASYzNeq6lqtrO2nhx11tP7nzXeVqkxhJPLyu+9DPblIQ1U1WlBRrs2RNn39nbe0pn+t/urX5yNpao0l7Hjm2cd0m2031wULZ2syFVXInfWoo36i4x4Yr9FISqE7pbNmLtTSEqSVX6JVSHPixIk67sF7dcbMT3XX3bbVDYYP0fvve0jDrUgT5f5s6mz96U+O01BRmQ4ePFSvvPJKxaIS/uITmkhCeQ35pzra9eenjVHguB08f/SxBxScZ65PoKDTT1tbIgqugF5+2TXIuwzt0V/PPecCXbx4qWag0MV03p3who4avb5ee+3VClDGPS9As1oDha5sc6z1Jz2VugJLXd/IsmbtToRKNZR/LS/0fM7tGqQWnJ305b0X3F+zWyCXQnY8D1KmNOzR0oKtclQsADXIvcbc72vmNMGujmFrXDHEG3yf1HUHTrCrCeYrM0ZxUgGLVCQp0zS2G1EngU4TM9hfnIESVDFls9ngsXSwHoTyV5v079c3+8QsauIxD3JrKsBiNuskljN/Ka4pgoybymNdKcbiCYhfwI6GfgUQwfKnPDfVAat04P40o24cD6SivZBv+hMlYHNb/aIpKGiFkCf3OtM0Ju6igVivGLYYFpcUWZm4DaqstNJMiTp5sTMqwnR7jquuEgZna0sLsH8FlrrWlq/5HdSDJgI5+XDCoGyYHYjstFx2NLbMWUlo8o/xuIcy1/Tgd1DMIIvVtQXonpHuXQ2MveBMUSYSMOCBW6SbCeSUzXbSv7IPxs1NYAPDAIcD+wLIYkOhEg/EkS5NZ2ZgaIMH0+zfvy9ktZ4iVBSgiFsGtATDigqCsUhzc6uJXwicBHuGJMy/EtDb26F1BqAsg0Y3AZMiGrKROQbYrz3AzZM+tX0Bxp7Q3OxYI9BSGE3HMhCMyYInGDMYGOPg7gNqUnMvMtOrrelj4h1qkrtfKoVRC50KXl+0CLaEg7DWtUAgzFvrPuk3WyFH5ZprMF/zkxOIZzITGqOYWLjdg4HewRjP2QAOlFK+2W+xJqZmfYFoRGrZD6EQKVPIZUEpEtZCeNwBqpTn5cUhWINL0ci+9Ovr2UXnVjp6ZvJMVdLyM5SfsJ2KAO3AjVmwL6YznoW58nI8R4K4ZUCYhpUsbqfCnk9Q2CXSBktatLZFsCXlXBTKk8oqb9GQQP5uwUmg5CKAfZ8hSlVxgHk7dhlEAJyQ3uCawJvfZcfdwFyQXxxA750nYPmuvd1TaKPhHDYH69PU1GSgz8DxQk1tuq7kAsNpXNvDIKwTLRAA8jrxmVe+klyxM3CC4oTnqBtSw5ysOIm4lTwnXx6O/db7tqeVL0vw5prXAtTad8GjNL2rSBQW4sC6bocjCXKQy8AijgIkMx1w/wpQppnJTvQlQl0xTVQCWMnaJfClEKcN9rB5zoNbhwhq7IukbluZJgJBj8BIljPNd9KxgwvOcYNbHLBs7ONMp4S2sbF3mtwgBvZn5s+8yrHvmb+lpeXYxwy2NTNAcDapI5GYxSWFXQWAd6xwpun5iLboVmaa4eyL/fxMw73PZ1w4cHwFpme9tlqX/gaAvC597ZWoq5NpcYIiwBKgOWmRGnaBE4oDa7d1g8+CFf5KNPha9go0lLI1cjbPSSFWlMMZBOTIlQRJsI6TMF1Zjn25BaBEE6A8+Uvq1wEVz0nREiNJHVfABnsHXSIiONYzJdLshzU1HvASFOPxDgNlbtUjpU176wTUPLprNLiHbBhGSwjMBE1Sws4dHheXbgtfLueHFLfbnkRqnZQuxwnTrkAd3PvRqOc4ItzWbuVk/fmM75IKJ3DzHaadKzvmwoHjy3Ga7OUgrBMtkM9JlitBsibZmbldhSF3xbZOtERQyV5bwFEAfMiJhCw1x77LfSE3nqOMgxV+r026Vt30KEePNUy2Mr0aEVBoI51korkeNArTs2/OynO+oY8ILwCVwFouBpvW01OGrLa8S96cC1SM78l2vTcJ0pyvzNED8snd/95hTijAFi+DEBm/pH5ptIbpGdDBAbPz1uSoZFced800c/N33CFS3Cyr18/zQelSPt0FqgR25lleQSsosPNe3bV4dSIgLnB7ArFrEffr8ut5f0Wu2dYehe8pqPHaUf4rkk4Q99tpAfZZchgd8ZKHj0M1e2hG1pp7sObmZtP+22yzzcy8W2+T77dTtCDVoAWCFliTWoDbjMtKq2DJrdEsV1VUlklTHexXwuhFCQxpEAg40XARlw/2bNKUo6hFDeMfALQ0lKmoyFUAbWY6bXTB9jPjmlxi75z4152Z12kULvwhg9JuDTfDQEeeKRPyPU/5kK4XPeUppsZnnNvyoD3mrMiRjW0iGZSXAN09fMk14/M9KyWPL4lvcXKDu+75Xo9oX/PSKVfmcrDcd+G3CRbNX7OBv+br/D70w81FEsUUhfwoBGR2WNpgddQNOzXPgw/2NVs8eD1ogbW0BQiWiXhaiqCclYzFbVtPWXEplJtqpaERwAxKlBONUckAUI8KoNtCWvPyICyPSlF0F+aCAW1XyAKygTSCfwP46wX45ib1S/ks5yueE4iLYF/aBQIQc2P+2Audvc/teeU51Lj34MsA0mXskvHkzNlEV7MT1j2XKmbb5HKzAmp51X4w9lkSwsRbiimwI8GzpcrVIwNlHERtfqie7KJVW/Qg96AFghZY3VqgtNRzvMA5gyxhx8qlHJhOFQy+KPjFibe4B+WLyw7IYfMgAy4GJW186GzIOcdpT/hzN3if0Emw9yhjLwE3d7nkCNBkD1PuSzAmNjtg7novl3pdJsecsvV2uqLxe0vj27vXk+3Ned0pwBEMHAH27ZUgSPmLWoBAbGIXLloRCgnAHCjrrbeerS7JzmGHZSf2VpZflFzwLGiBoAXW1RYgsdrUGJa+/WsNjKlcVQRNaE4wBONOzCP5VDMGClIzmrRkKESnI9Qyhv1mWoEGFmbdJ1tDgqJzGOcTn9nrHg1NRjdNX3Ke4t5dgrEjImiAg3t+nczWUckpOI7gfEeinMS4Ec/dwjI3ekZYJJUsPQAAIABJREFUo645p7MNcoGZkz/bg2Dg2meNqtRaVFguiIYNG2bfhxwbkyETlKmIwY/nAu8xUs8V1lrUFkFVghYIWuBrtIBj1hLCEjEs5uHxKA+U6PAR68uMaZ9JiMZAiHhUc/ZZ0WqyV0/qGoVnpUq+8wVl6J0h3AWaMQCx207Uu0zUkykTqLl3uBKybgYaAiGlSAr/CwvQa9lyQfvLWNy9JvCd32TbcE5nOzhqzMQJ3bgT33mxggzRAvwe/D78FoXUOOQqafBguDvzb3p78TzLNgGVHPSZoAWCFuitBUi5tsE7UlVNhe3/NYtZQDejvLiPF4DntKyxh8mSIPe6HfuNi8vKpRxgvCyF6udkClO5oec1n3UaGFMxi5w921YE85ZGSMBoCJVkuG+YEx3Natp2KORPJWveM3Y7k+11RdAzv57XuWVj3Xo+73ndE7jddc943Wv9da9IZJFTwLbhwbmdczrrz7k/V578dfMK3l/xFuB3oLEa/vJbGYXMZPixPKULL1EnZwg+2Io38ip7g1+y20TWNQk4SiM792Tj9pwoVlnpg4zXwBZgNyKkpDC5FwEIKQmrxB7hltYmKKjky/E/PVxefeVNWdTo7f8tgyL00KED5ZQTz5Jfjh0LXxJepXvrhdZXc/q068PMz9PBRr7Yx3v99ddLdW2NnHbKqQBivAXWeaaoFI4SuaOqUxZjt8jYX14oN910i8mby8o9O9qgP7BlCZEsIx8YnbZ1nr9/Gt6ruljmXs6MDevW/EFYtuRW5Jzn3rUfvcePqxNve2OT6fLwZIq8v2wc3u2tvCiLz4GAgVuL8ZvfXi677rSz7LnrD+D3vBoWvLEIQYKeuRbEyK275eXl23ON4spg4gWbY5atN0sVhBVrAcLvgAEDpKEBSpAIgXOJFWu/1S52NOYZsgd5AitH8M0KxRW4YvIGMfZnZrDNxGm1cmsmdplgjygoGNM25YDEfkwYTeAKjQcXZaQ2uIrmYsxpaZLqIOXjZHTuOS0q5SEeXEBZXBp0YOA17zMksfIrBsXkfnkvjXxo45hyR8dCsxUiysA8nAGFYEFoTbj6BkzQnJ5TmKT5C9tt0hc2mltb6VyCNg2a5c3/vC2H/PRa+WzW+zAEEpHJH7wp++7+Iznz7PPlqusuNzcP1Ilmn7E+h34ahxUvUtAU9qZgcjLEvbzoq6Dp0LfRt3B0wtkENlHhHSqWQYs6EpYSmuUEFdhWUglsgo9hgQY26fZ0F/J3YM+VwlRmJKpSUwZZtvkmbsfiAFxBxrMytEg+TGaqlsLpBQgWFKU92o7FBihulDWNMVMMm5/Ep2i0zQyV2DIBgNgKyrxPFfI3ZbY8aYcGehXqQkq+BBa+2GJktZdBwxuuM+CWEqx72MLmaEkmUQezVAZZO/GVsXPQMQ4b3RWwla2ZOKgptAF8TudTmS6PvpXB+owVST6brbBVYMIHafaTENqzSCK42SF1WgXfzgVSmYQVtAKkXqioXwTtxvaBuU54oWaeuO05z8BvEuz9PLQXy1dI4XsnDLmgDUMYpz2BG1GCsAItwD4SOJdYgQZbnaNy4NCQPQPBj2DcCZvABDUq0+RjHwqVbThRNjS0woCCVxsOJE4KHb5ZTAIiOSTOEAI17p0ZTAfKfJNASc4JgZnm/QjAzpoQ8zfxhsdw8cAY5ymCOMDY3sdvO95jYLp8xjwJvk6R0GfYmBglAGNrqtU3sAPyANlEapQHL0ml2a/1vKT0ra5Ct4CSF664sNthx23lL6Bqb77pVpnwwRSb1BVOJTjhx2FSk34bSMVm6CgCABCC9Su+TMUtgncKMROpOOADnpjQ1+HT0HIroVnLSBwLgBdl3pI6xCOdCRZ6B/Ya+wRdEgvYAiiUhSMdYGdzEWqvolwGszgAcvEowLgAfdujkrGFWpra4JkJ6dv+aVLWvj1u1poLWLLrO+E7nOnVAowJvrQMxqMCz2mdjPGYPn06c7sV34EzRvO1HIVFMQbPgQVKjfKSgqehMw6rVAeUsFKwBOaP92Qcix2MHY7zFBYvjNS0aKE8/NgTVguMUtQd7YNzb12MRFBvgjGbNcOK2FjFwoKa7mwnpM9rNhUXARFsaSM1XQgwZvvHY+T142k+lOfgcYsLqCB8sy3gd9NvNtEgte+uBaicQg83BDcGAqYFDBay6h588GG4u0thr1uNWUfi3OXiFmGCcFQJX+GERxCkTIMA7RT6mCYPJ9IgMJv7OS4CEI+UL48igChnpAQmo1Y6nMB5rlIg83UmN2kcggsDpusWBMzf2RgmMDtw9ioU/F1dW4CUGilWspEN33LFJpjRK6trAYBhgb4XFoXgfgCk+vUfCMowLu1YQHJaz8eiDJuZoRhWgi1RpLiRTLGPSraIg6ckACJBlvBbBuo1n/xTUH2dBCcLoE4XL5HLLvsjKFw4gEDfYpkKAbaEHvqFKAagEaCqyz3HFnyL3Bryzlvr4a0J1F8+XScC2D3b2ZCTt2cAsp5HM3LEyWYn0HIhyQUpLYaRSs/LK5Q2cAbSMMVJ71ZFAO0QVsF5AGpyjmjcpG7pUoBqqXmcKgApW+gru+XnYyFCKO0skkyCMIpyF2Js4JTlDYH9XwwqNtkRRcMkrV4E0TTKU4T0SMZf8pvfSTM03DPA106APcyxSAbRSQhzk3gsAi9SoOy5PC4sRSSb/WEeFOVNIXYS5UfuAPIO0w0oQpzWOF9G/sinshRgjvOWOJx4oM3IWTCkDsI31gIBIH9jTblqEiqCI9kCen/3KdMQrRUB7DiKHUVbVhrCVhSwiHGbjwiA+++9t5TAwP3HH38sS5YskZEjR8qYMWPMaowDdU44DM5cJgE4174uqQACOilfHjSbSNDlZFQDy28MjoVNgCYAk7omlbzrLruYb9nPP//c8hw1apQcdthhlje3zbA+gS3fVdOnVjRXA+GcQJzM3sN8ze9JS4BklERBhRUXVcicOXOkb20fUM8VRsVBJVvu+uddsgG2gJBiO+O0MwFedeis4OZU1MoH70yEJbAKOf9XF8rjTz4uM+fOkxQcObTMmyWX/u5X8sILr8vrr02Ugw48VCZ+PFm2Hj1aTjnpVCxCYzLp3YlyyI9OBViJfDp1JvpzsVTBmUURSPHGxmZQgSqjR2woW271fXn11RfA9m2XT6d8Jnvvsx+GUUjGnDRGZsxeYDWE0yYL5DxxHBV65KdRzkS4xfPnynFH/1TemfCBnAO59QDU79ijjpLmcMSga9DAAfLx+xNl9x/uZi4cjzjsaFm4aCm8XJFK7ZDGpW1y0P6HgsWNBQPGZyHqX5hXJvf86yHDz/EPj5NhQ/qjPQfI9tvvIM+//o7A7bKccMSR8vB94+ScM38B62e1Mnv6bGlctEgu/dWv5LX/vAvrizHZ58BDpE8JFtPw2/zaa29g4RyTG667zmSYJ55yspkAbW6ok9NOOhFy/qGyyWbbynvvT7JFfCzc6plDRRk433AhHoRvoQXAZsTcpwqftvbrgrvf7WZwsVq1AL9cJJpU+4L4E26qV7D+tDPWjt+U1i9epI8++rim8ZhHfXPY4qYSSZ3y0SQd/8C9uMro5MmT9dlnn83WDaDJrXDA2k6Fpqr9ugAqOfuM8eLRmKZTyDOdsTK4IxlPoChphTefbvfd89kzZ+m9d9+jTAMW4vTVV1+1LADI2byCk9W8Bfi9+d3R1+Ka0qiiH6A/1VT5c0kn+mHnPJ0x6b9aWrGDfjpHNYFXXnjtae1bM1CP+ckYjcXbNJ6M6IUXXKzXXP1XTcXiGgs36TmnjdFtNttYYy1xXTKvSX961LHWVzqRwqVX/14/nT0HqhJJ/cnu39c+oJNffPVdTaM8Cyd8pKOq+urb0xbqvFSnfjrlDR3cp0SLKjbSBmTeHkf/T0Z1n9130jkzP0NpMtYlp0/7VGdM+0S1o00/nzpJb7z+/7StrdXGzW1336ujvred1kVSVv72RIfGO1L2LlLTaKRV22IYU1On6ebDh2gV1Dj+fvu9msTThdOn6IZDBui/n3pBE4g+edIEvfGay/GkA3Xv0L/dco/uud9BGokt1SVLZujeuxykd906Ds8j+uZ/n9Lh643WiROn2jifOm2K7rjj1rpgzqeq8Ub955236nYHHKatLAbKsM2gwXr9vc/qUlxiNtCDd95M++dV6hvPvoPcVBtjTXrzjTfo/135JxuTrHdHOqKv4XuwHuH2Zv3973+HfD6zek+aPFVHbrylvvveZIvr3uEpzyPtYTsNwsq3AOdWcCSzCVDuZxcBIK98o66qN/nleLSGoz7odWi0qUF3235bqHeIgvLA2jlfC4rL8Fukb777XnZgaWeHzvn8M/3z/12jU6ZMUShUKTamW1VA0SxTJQKzA0tQrl3PUQACvCWMY9GChXr6z0/TirJyKqcqqKDs79LFS5RAzYNxF85foLfffru+9NJL2bQJ+JBh2zXLFITVuAU60Q/SmOozSQAVQZnTfkb7GCBzgQZAjszU6RPf0KLSrfSQY/6o/dYbqUOHD9YzzzhXGxY3IU5MJ3/4rm72/V105kJM8AT4dEznffiGbjK0PxaUz+m8JXHddMvtbdEYDy9A2hFtRf9hbrp4qu632TB97MmXtb5FdcmkaQqv3PrJ4og2WtM16Qdvv6iFfbbSOrzQ2MaOmtLnH7tPr7rkfJx3aAJ1+OQTgDHOMx3NevmlF2hJqNjGDshSBStJS/oM1UmfzdNWLD5j6ZQBFuuYjhOUUlYWpvzh689r/5J8fefDz7WNmI3Fxnajhum/n37ZwPzKiy9SMApsbOYXMI9S5PH/7J0HoN7T/f8/d++VvSQEIahVm5rtT42fVmlpVVG7C0W1+tehrVbxo9SsUXsrNWPvrQhCRIgkMu/N3fc+z13n/3p/vs+5eXKFqJnwnOS5333W93zP+3x2SZg169Uw7503wvab7hiefuA57iTfvsYwdtSa4ZS/nE/eKoE2LZwTWhfNC5ec95cAQRvW3emboUEFN9aHndZZNxx58iVhDocL5kyjWvVho1Grh4duftAXB03dnaF1/tyw2w7bhfaOFO8rhJlz3w6z3nnd837wwbuoS34oqxsif6dJ+1HjOvu8i0JDW09IU06KBVNvOpkfVGwufbQeGAjIOZb1J8B1+DSzbGtL4dQFpReS3BWWI9u96667CE3XjRx3kV177bUomKAME7pgcW2EnDhtzU1Nfv+rr75qEydOtJdfftlZxdHBgvajfEzKW0rRg5v2GYLOehZLWbIkt29k2w2LexSsrnPPO89tQBW8vZ4A7Gm0uufMmWPDR4zolxvH8uUhrhF2tmTNCmoiNqDYmzrOeRHyrl/OE/M2/5dkW2fJFktlA1vC+Cm1P570/2zWzOk2+aUp9rezzrAhw6BtGUML586xKZNfsCBtYbGA0ZoaC8u5HJnpK2+8YXUjSu0nmEjttttuNnbESvarI38u/SRXTkK4a22M8wq0lyXmXdTUasNrR9oMWNqa3LpaWzyeckFhqS1A8buiKs/FKht8aS178tGHMM+qR7bdZ80tsJQRcrei0T1r1ky74YabYGWjdNXbRezlVmtsmG1rrTnWg2ZobHZLs4vUK/kzScpPSmNGDEcMjX10Za2bVPU0NuCMpAyFs0qrb0zbq69MsYfuuRmxTSPfnGKMd9DclA0fMtqGjxxnm236Zbv11uvJOGVvTH0DVna17b77Hsjg55J7yi44/xL7zrf3s4022tBuuPEKK6uqQIubjkC4nSIMZGlJ4q50KP1E1A9Y32XIqukJbiksKLXKITW2yvjRdtMtN/s7m/LqNFjgY60v1W5N9fNtr/0OIAjHQszYsNRAPt/bm7ZDD/0h8ntU6HigpFSKZIlf8BSKZplmJ43P/f3IPZAD5I/chZ9tBpWVcnGa1EGyW6WymkQBRbZticF5IviSP98KtFflle3F555z4Nt5l134uDdCBne3a4bqJ8UrAeqoUaPsD3/4g9vIaRKKJk8qI7rjU/5S3pJMKVuByysixSwqJ2UvyY+jMlk5zhyee/ZZV+DacccdWShsYjfeeCNh6pJ6C+yjHNvzyaUVoAfQWHYIjFNKZqoGr7oBqM5UK7JKx26rBqykyyAlI5nqjBkz1upGDUKf4QmuMphTUkxExltcZVtiP6u093f3dNC86uqb7P4HHrdfHH+CFefrXlxmItOM30AxgNSGB7Chg4f4c8WMZR+3jFEFv9CnorE4bMwIG49Hsdtuu82efPJJW2ONiWg9Ez0Ke+ZBQwfZa6+97s+nASW5A5Xpk1KPTI1QvvJxT5LORg+KadFWef7cee4KtLCwOFFiY0w3s2BIk8HguhJ0NVa2yc+/YGV8A1LIxGoQTXF+yKrV7uOP/6W98vJkW3XcONt7772xnT7Phg8fTDStcrv6hkv5Tm6x22+7i4X0mpaH/oj0P0or6HNCPjYi563C4Ypk8l3N9O3gYSjQdbg2uiS+onnxZ2rf/u537PLLL7f5ALY0vDtZMOdjJjZ6zMo2d9bb9F/isVFKeLKekJmYt1ad5w1FUY32lwLMSS/oYi59HD2QA+SPoxeXgzz6pHmRUTBRdXrQeh48eHDGP3liGiX/wa+//qZTxQLCTTfd1Gt++OGH2x577GFXX321U8ICw0ceecSp5J/97Gf9lHO0U9Y2TkhRaUv5SHO6P2WAWtS0QFkKX5oI3ySi2GoocIna+dKXvuRlHHXUUXbQQQfZaSiYKGkClcZ1LGNxprm95bIHHJyywVi19NnblbJkU9wX0lCjjEuGaaSq5O/a8kptwtob2Ld23spOOPpAmzrlZcjYQXb1lXfYmutuaptvtJal2+bbH397nDQEbbudd7cjjvuTW8ziNZvn+6A824hUN827ZujwEXgdHI0Lz167a9J9IFMPwAPFxyIPyyVPTt0yLg899GAfc88997zVDa5hzKGGTTt23HEndzZy++13Q4kndvV33nmPvTmj3rWiZUpVmPE8pvwKWVhK/1F6leIWlZQUONfHrbEY9/qeGuAUKe3CAviss86yeyZN8mMiQNqNUOPNstuGQ37oYYfYRRf9w6bPnm3PsmjdapsNcGbit1JqAaZHKZuDSVcbinKPPfyI1VRVO9h2Afo7SSkSRa233uy0Blk5wN1qhrqf/c5MV3wv0ithDth4q82cYyWt7HUnTqAO+CtAy3rClza2TjgGZ/3lRP/+emnrlOkz7CU4aIvmzLYSFkC9rGq6WUQpdKW0x3Na1sm7+dj+5mTIH00G8Fk+LRmOfr38kQKVlGuk1OXbbqR6HciWSVGpS1uX+/iDKOAgC+pFHpadoIb9kEkjMFn1y5XjPdlKVy5LjpX4L7f9SmBZhSvvJeTTS9Qsd7Dc9YDLkJMxJxmlZJJKOMXgL3LGvpbwy4P2wQJZGDwU+eTocOaF1yBxXTwOu6S2QDbNTW+EU/56bBg+pCZUFtaE4372hzD7zfqQRqY7feZ/wk23XeeyzMKiUWG33Q8Kb9dLUtoQNh9dENbGzBkUDyeffmUIi0L41na7h3ETNw6TZ8wK0155IlSXiGYdQ7inieGVNxsSeWxvA3pRr4f11l8LJbMH/RuR/kJvXxN7reHB+x8J63xpw5BfWRAmbrROuBxZttp3weX/DAXl+eGWW28OHe3IeVMtoQc5sSS8r02djtsN8/aWDx4fnpk8M2y62kp+Lq90UDj1nH+G7qb68OC/rw6wzGlLSVh/vY3DfffcTx+gzNY4P/zumN+E6rzSIN8eKF5Dj9aGPb51UHj9zefCnIWvhK/vuGsYO3JcuOGqc8Itt18VbOjocPI/aHdPKpz5xz8g7x4bzrv6fmTtzWGrtVdFnm5haGFlOPevF/tEkOppCM2pOeH3J/4x/OTHR4WudpQuqX1LV6/Lmd+ZOT18Z/ddXJY8bOXx4dd/PDnMa6BP+pCb085mPILoPn9pzDG+zaUP3QMDZcg5T10f29Lm088oUhoq2ePKuksAUSvsR6qFVW4TNpUFrILLMaUAr1mIY98Iu8sT15ubW51dzOBwqlRs65122sluueUWtzeOKV6PlKtW/oVQLe+XRLlLNpyJ9ZnxUJRx8A9ZUYRXIlHJYndHlrfKl3xaLO3oxev9yshd+4x6wL028WMMpeHOaATKxlWOQBqaMVkSBYW5jVUMtjSyV3F94aBaDSoP4qX0IoOUfBMtfexi8SRFDj0pHE70IncuYXxCPYb8TmhtYrajBlWQBzsWqlNOK3qh1vrS860UByFWOshauqoZ31CvKoTrzVRLZlZFPZDlvcW2qL1c1lNexzzko6W9kMvYCad7kC8XJToYxECiOW0Qtfjnrhrh9tB52ALLMlfsW7GWexnzslC66orLbd/v70uGvTgzwWaXzNWmvN42621FLlw7DEociy38ZRF5w1ryB2EDjRe6HjkpUSPQu8iDrd0tz3TyCf42PsEH2+Xn3mL7HrgPhUFR802Enlpb2JC2h5641b71zf+15kV4ARukbxI2ObRxKz7OVG4FbVLDU3yPMsEqRm+kuFjvptjaFrZaWeFgK6jNs47CZu5H/ETN3KCbNnXhOKWAONadKRyPlPL9pzrxRV6FiRo2y/SR3k9Jod4VzlLUF2Qru+SEOuYlZaYSncml/64HQPKcp67/rstWkLszLGLnm2WlNL5+pVQiMNYV2S0rpWCleeL+xIOQON6JPbOc0d95553ulD4mgbFAUgMopg/CUhYbuw5HI9FuUfJjsbD7HYmQmdh8yivmrfrI53AOjPu7ejndybCpAWSNigyTOuPqUUekjEvJRY2JENadQnmSm1XGAUqG8jDX1YPTjPpW2L841CgDWNqkMAiAQyM2tHA+LwEe9Jawh00AvaQEnQPY22gz4dKSOqhIDW+eqwaMtZtXWIESc7kNgUzNAwsFqh3ITA0A6sF9ZBE+rx2k+WkhmI+zjurqOljMCxh/cmWZhI10JTLKblrUaJPummTf/x6gyZNyU1tWKc9cSfu6AeMCtMuUnzvz8r4pwA0obmnTQnXk0dgkyymAFrQC47b2NsC4xs4+83RXtGwGQEFIcBw7fzK64V83sEDeHeWyLr4lgXGvdVCOekFF9IhdrjYhq2d94ApvxXIWAru9ow23nsjEC1Bm68HTVgFLJtWnp4sbqY7WTIUFLErYrywtshb8FXTJRoNUQQME9n04S+lmT2AMR8QK+pK2SgkuB8beVR9bysmQP7auXE4yEjAPAM2oAarTkmsJHEsBPAdl7o8OOKRMlQ3KUtzSpCGg1PmBSlsfBJAlO1YSZRG1u6UoEsuU8pjyUf7ayomEKGYtAKJjkuWkZ3PVWFoPZDxN9YPxwHtwv4jKLgpNxT53wxCRqNR60ym8RqFXUCoyVDhVY4OHjOMOXKqiqFVSksJlI96/kDHXVo8GO6Cw8exVXCzHMwAEVFuflUOFIkGtTJQB0TGyDgE/ZfQBHJ0dTdaMKnY7oCrwQbTrAFTB2JeXyPySSk4DVJCUqc42dxjiBkn4fx88pI4xmLZylJ66UbbqgZrHvw6KkINt56/vAiAyrgGqPFxIanEp5ztdrBYK5Ksahx/oTgH4fZYi5GOeImqoZe7ZCmWo2sRpTqn8ztN2LT47id+8//77u/x5m222tJI8FNq23Np++cvjUe7ay6nT8jJcd5KDbLHKq+rwwCctbRa0cOTzilk8wwXr4jujqn6PwL+8ppaFCn0iQhakTpxpIgPWeyMzGGY8pjazWkGBrQQgL2FB7J7EgOGF82dZGc5ElHc7gF8IchfAplBb86Iv3oHvPHf8oXsgx7L+0F332T/It+TY68SxDvSF+ckMdZL5KDuYEEsUVYKkFVialXcp5gvJg4mGagzTJkCUi0yxsKWIIpb1QCAWWMaUn5mQ+08M3IkVzDovkHa/2eIpUneVLeDXxBSTysj5sh7YmcvZsY81frzDDq0D2XWWNWEOG5vmevADSwuBS2w+46qyttxjIMCs4ZxYrKK0oOKg3PJCuWEh5aAd8ogNK/axj20oRdw3lsBKzfcITNLA74V6zLMKfEaL6+qjsYeAKVCVQZ4lVQl2AuR4B8xZ0XslrZDVfCR9+JBuAMjqcI+psto6MPdjXx7fVWZ7o9y3cgyB2Q3POQ9glF6X2tYNCBWhDe04JGQX6rrIJg+3nAJl2sd4d04PAKak71JBMLAV8s9Nyltl5F8MyMmfdAHa2Cq3s7PRTcPgeCcgW1XsilXlaKS722lVVsVqcZwHZc+X7HXSFw1ruVgLH+ysWosU8rIYFS0ocljlJVC9+qYrSlm06FvjWenDl7Do8I6jLdKyLsNNaR/fYEe+xER5rijW0DDHhg0eSh+jTIZ/clHeLE+oBHrmvTC++YYz1Uoql/v7X/dAjmX9X3fZ8v2APvJ3JUfo5IJ87gqMcbxlrciSldw8KnPdfdJCnUb2tLYCY7mzlJb2QDDOLuuDUMjZ94uSUHmiUKKrTa8PwCwwFkUcqeIcGL/rrS63JwQWAgfN79omy75MdbVgwwxpsMCYU6KQFc1J2sBKbYyHEsYcoYktT1ZQZIChkbWLPoPSBD+Qf/IkPisXNTVyHlMhNLcrKxF94FNZHtzbAOgioST8WgdjYT2Hbe3NTlGKO+uoXCB/21DI+Mvu4BloPAfjLihZsYElSqmA3Sx5antzI+xsWLR6ljp1QTHKn7S0ohsbsM1X4AnKkPa2qMkKwNTzoM6KjiT3sD18e3gPQxatxYTwELMq6WSIbc23IOBraq4ne6jv0sHW2QKFDYFdhCaWSNeKcsCYtuhTldy2MwWbnwPpeauPu1mEtLU1US+OFamKvi6mgjLL6uzq8O8qTQQ4/7ZlIuZTgnS14UIomEWmbYVQ34EFQwvchErqVMgCohP/1rWDR1l9Szs20C1WwWIIA0trbEW/A5Uz6Y5oYZ9LH28P5Cjkj7c/P/XckgmQYhUG0Z0I95/xD1QfbpwsVTldVuB4t9rQL3OPqGJRqVFFUkl9AAAgAElEQVSerHsjlRrZy5G1HGW9DshZxemZgUlKXdEcShOes6vFVqM8LQwU8Sayq7OfVRn/LeAPLDt3/An3gN69xhPjKE7NMDcB31prgEKW1NE6QGAothTyYl60FYADYi2LQiYsCkEkiAIFtpUJHBhO3SBwN+CcsFahXgEhH6wAgBS5xKhu62ixIaUAG1ReGizSo/CGYS+z0OzLnCiiRuTXBK0oqCyFRa47ewvLrRN0lCqFCF1hlKrTh+OcAn0LisygDPU8V3qh0BFz46ADMORCTydwKG5TntjAEemBWtkncyiKN54lA/88tCAQu1xLFsmvS2BVe3ApP6NFAuEciKZRJEFuAeXq+4BjUIgva6W2ThYaaFEJbNtbuq22StS2nHLQHtUK+XUJymnq2I7iVuumn8v4JyraA1aQWmGdl1cpHnLSZul7OQuCinTBCShAXqzFEH5xUagT65syKV/1F8RLvFCgqBpiHZB64QhEDpefEDfEp4Mk7IU315MKUpcqUGYy//iJzNShblAZ2Vu//gVJAylkOCye3EmE7D81UUrJRpRK3P+C9M0K2kyfTrzujsVZkXZcjuQpAWW/Z8C9i+/J3Jrb5Hrgv+iBEjSU26B2+5jEq1FuaplbT8Qm2LAoEbU3tViNA0uxNaFRpQm+AFwshKQuB1QWYRhcWFYD+zltg6BwKypLrKUvRQQowK63FI1qVInQkh4+crAtgBrGk6pViMULkEDQAVqEPBScAVQFAgRHFCg3ZM0C2BKo1rbufBs6aLAtmjUDWXSlLVIscJxnyCFGC4bRRciMq2qrrKFtIeLjQhSb6kyKWWXIVOU5LFVBpCocbowcXG4t8xagHDbC58eF7QugfjVXAvdakXjylUY/wMRujIATv9PkfPLNigIXJ2r2vDluU5xGp6IYtnpeRTkxpUWZOv/duqQ+zrdd0i0FLMAYihU9OOuizoVEtqqGyhcUdhD8OA0a9rFYLmDBUtKnaFNosrPY6OJ8WtrSPF8hDXetdZB5tyJCKuHdiJtWVTXYWojMBf2NCAF2N7L4PhZC+VogqyEsAJSvfmprAX3c3NRgYwbV2IL6hVY0bDjgjpihoRHuAqxw2OjtUOklyM3V1p4FTTZ6+Eib04yzIRbkmGK5EqD0CuI29tsS/ZWZ11wMskSKfT/g9ApyKM7gXJy7iBhyq5VIiQiQFflHXpyU8Gu8hExvBWlfrpq5Hsj1wKfYAx2IQcoAEAIROoWZj7x3pXFjbOrb0zGNKbJiUaxMtmkoYnE8igHMPpSsupHBFjOZoyfksklYdWgwz7eaoUMxRULxSUGRnTyT4mEXsmC07jHhKRY7WglA7pC5DktMZwyJlbsUxUMtOBthdddlFKl6YDWL3SqlpBJRfDyfIj5xXqXYwEWWAtgqkP/qSKR7OwsNQUBeRzNgDeu3k7jBUNvFtTwLFiTS1g8JCmofv6amZqsB0DwJd8m6NRDOlFUHyxK/p8fl56i2RflA0miPeixqFOssLgth+YFuYseLJi0UavO8dNW62BWLX/dXZPRNeshPCmOOd+SBkjULKurAM80tuCSF26Flj9TB1Ervb+05IGdAlG0vi6uCqnLqzUIM8cJQ+qpAmYrjIdNH3m8li7dSyuhqbLFi1N7h5L9neq8ejQRFAta6673ufM+sl6sLwtkNN9zQNfylROsUsmqoAZ3Z9QrnqOPl6r3lKpPrgeWzBzR7MLFCRzFHBhScMcWBDdoGhar5tgCFLQFgj5SGOC6GmvML/KQIJUUmn1Jd8QkKDyqhuKgCOSZEQVMXtsMocHW2oKk81IGgsAVqTYLccpkjSUda8LJ4Uo628spSctrFIhiVLvBr6retF8WWJ7JM2scokonVLFB2F5PSNwMY02StQyJ3J7b+2A8rhfw09YdogYL+0KCgjDP9F5W2WvA6VlOHPgWXJAtGxcrLEyjqTIFT4wK65MF3ATIdp7yk7KU7CwWcupWNYkxrPaPuL88AsjTWBAYlvKN8qGRE4lIST0y2eB/C+YStnrjPFBM8z0PXcIGk6ig/X1kBvmkWOerHEhYHXe6ljIUP/rb7CqVmxnmZfkmgriz8waWn976UvMfFTy1+90vPafk/Kxm/FO+UCiMlLMcNAmQBsbZiX2tA5xz8L/8vNFfDXA98Fj0gTOiRUxf5MZdSlag4ZvSJEyagTISMkaAShWgUi5Ws6TwF69LQzi3mfvlHLke5SvJjmRflQ9n1yplF+aCok4VWNs8KlFBuEmXnuAIV7BglLWcn62TPizmOQDpe970kIEqc04rdKNj6wVhKi8OHjcTEChY2SmKivDpwM1lVMcTLacdGuRJZMXFFXZFr3vx5NnLYGO6X/TTLgNJ8wLjc9SyWTMsCiCXvF2x2oyUtua2SwFjlLyQu8fChwz3whVIfbRVbF5dZAGLmHCcEan6kc3qQjStQe9+wwwJHfeSmj1p4CNQFjVqI6BYA3M29pMqtxLsqzvgqkA+DfBd+J8sBB0lIbZUvNriSsldMkEbY+XUjh+HzW6KJAitDG72sUtzWZIFApCk3tSqhr9sW1lvl8CGYbSWKZ8pH+QXqnOQr+bjyz7QhaaGXl2ltZj/ekzlcATcaz3EMiWXtFLJAePXVV7cZM2Z4k4TWQm3JkXOAvAK+5VyVcz3wafSA5nC5o0LLt10mNmw16VZD9dajpauUalhk1XVDkHfmWxvayLWAtJKUfOHQ+fMFhdBUHfhe1pyTV+1UWcuCThsxpAybWiZpsKrHkQblLCldkXq76wELzG4KqmE/AzQoNRai1CQAjsqIBSiDpfA6lUQqw582eYl6V3If7E6ioRUN4VFSSuasMLgd2TOBH7iiBUcRlLMWDHn5yJBxzFGJ5rIrRCLr7uzEA1blYA6WBcJe5FKT5OelAKI0sgW++YCmYKgYitVF4hnZqYA7qbmu8lPf09c9mfPiVCcrFvqGG0WlqlbiNMTzaq4ob2dxO3irT+FtUFA+FKzKc+ML3cdLcI6+1ybhHegIqTGXyTmD347tKIDpfArcyMcjiy4VoOEmpy/FxZhycSYPRTYJkftakM9XoEZOJQTzrkjn7WGrti5tq4KTxmvvc5eGEXVl5syZvtj0kSTgJQatU8dy1BBNYHJg/Ll797kG5Xrg4+0BkY8ACb7U3bZcM3U5oKWpRdr51eimEADb2pC7lqHsI85mKoWZEmDcxOQM7shtHEgrmECO3NbqE/qQYWVoU6PIBTBouu/A5yb8O697H6Y40goWa1XOQuR9Tg41CmCFKuiDqGGBsVJkWXuIUCgQAbEmPoGwow//dY0GcDeuoKHom5rarBXkQrkZBybtGYceaC5XQNFHLELOnFCAXsx7JIHZ+yeBsVIhVKX6MJ96KypVF3bF4uyKotXP8UgAnWwcjAWPOu8t1U786ThzmA1kuqzujnn5TRTSJxdknOwgCEhMrQTaiKCelKQrSWkRi3XYpf7JLHJK4RhIpQ1XQy6Xrqiq5D3jbwAw1pMy2VIfui2XkpPtmT7yhQe/JbYqMp5LHvm8/RWnRuNRWKtfvlaNioOrgauBGWPiquGSLeRSrgdyPZDrgffqgY5MvOyoDJpuJv5vdRkKQdjHQmJ9d8/dYTlXolQ12K676d8OoqIENf3WKI43ZGgXlGbXwnds/IihNnzQUBsyenViEqOtXZmPea2oQDkTKSPcopPKli/SGvnmjKlT7OfESX7y8WeZq3ogJjoTDi3zvJx6KM16e6Z9ZcutiMM80+e2uUQ5kuldtK+X32pRpa4/Q73mzZhmF114gd026SkpbEMlImNFA3qb7XfAraQWEb1wAxIQ6cm4y1yybzLA4i1c2m/Ju2fNnG1f2Wpbe2fmXGIOl9mcebMBTdotVHbky0BwPwoq18UQGR2aeK6gXj9gZxfjlGfyk7a0fn4jc3/9jOl2yAE/sDvuuNtDs8pb1xUXXWCXXH4FLjSTTESzJ1C8uEVR/luMYXnDgnn2te12tk7cnbbx3ru6MCjnmU5CThLfxsuS+80O3nMjyl/b7LCNLcLpUL+Pg0zd/EbtJ5XzPJJfdmMyl5fa0AH3rQCHw4cPdwJYOlzylKiBiFlqT8Ajk3Y9ETqsfz+3k+uBXA/kemDpPUCkHyJ+9XURNbi7N/TgrDn0toUR1UUhxTlFUAq9HeHpR+4JVUNHhI23/Z/Q0Nzm55u4NcXjnW3MNX314eRf7I2BlIWf/vo3YYGCSHEP01JoYl/xiOq7FKWJCFIKYMazPc1vhW/suGEoK8oP1193cxJ0KCviWFeXl94fjYzYyyHVqYd72bayRc/bI50pWlF36O4kTFSqIfzl+CNCXW11OPLkSxQ4ioKoX/MMj+ZUz+2Kb6RiQjcHRExLDnQipiQ/5bnkT+eXEhkpU+dUS09IdRCBjVhYHSnqp66lCM76z8uJ/cKO18Gf5WSmHjpUqYrGpG3SA5nrHgWOnzq1h3Nqeror7LzJl4Jibjz80OOhUy+khz7ubAmNZKJAXH1eZ7VaD9BnS+TNAe8k1U40KLJO6QF2+niyu6+zv3ptZOnvkzzSXZl3gA1bEvEt1l81VhkDf7EflTcp6x0nnZA5vwJvWJj0157FknyTorygVVMmyV1i9vEKsNDIVTHXA7ke+Cx6ANIpj/lDrOICghSIumHWRDFILiE1p4jhHOy4Y461F5+fbE888YTXEvNU57qKzd2Jks/0N6bad/faxlYaOx5KOGHDiioTF1W5lJFfB9rW7tMRe+QClFCvv/5aW3211awSu2KxeHXjrLdm21VXXpsoB2WmtIULFmDKQwQpOICa1/JdOIpdLopn3YoWxYOFpbhtRb593C+Ptl123MFGjhlNPCWSvH3Aghf7VkWoTvq1O3sXEpoD2e+K0+gUTibJ4U1S84SUkxMPJckKzz//fN9XnGilHrxylVSIIpZJUYaa5byIZFHA0k+Xpz2x+5VaUT5z2jESkBQhZzvZ9KRK7VbwaVKvlOmgfCUk7kYk4L0r3jUihdvvudvGjxtGe2D9owmv9yVtaYkUxLZPYkdTPgp3Gea4ew1rR/bt1Kv8X6MzoObKYZja7CZS9Ivqg16Y6wqoDfpJZKC6uTMgft0SHcQUG6hcaJx+SnK64j712dctrsjGwftpaS/OdPne03iUZ8SYXPyQS7keyPVArgf+6x7IaNpqul08OWbBgp/ss6HDBtkGG2xgBx98sP3pxD9g64trx4w0rBAHHZMAhR1gY9bU4FgEu+Z2JnEpVDFf45LSbD6RCOU1uUIuX5Xwa60Ci+T7HFCpJEJUsXyz88ypfz3FGusb3C1lB0pF89H+HYrSjJKAJA+eucx7OrGVLVNkKdDfWebiz2LnbPh+5j+20PIklklEZxK0KYCS/E/Lb7bko0qdGO4WoWYsgJGsNJXuoBzkvyBSr0y5SK2AoHpi/oK59tvfnuAuLUX/uHYzSXVVKkGOrmhKZfIvKqAX1x1tcoG0gkAIRNvJqwqlqMZGWO2avaWFRqQMAV2ngmiQ3M1mu8JEyo1nyuXt3Q6ofVZE9K1ufGQ71kl2rrrKwQnaz97eHvjyEqmzKyAtlrcw+qqYvurguVb6VAup8nLdrw5Nflo84GfFy5BcQQsSmBQo2vEeaYsWDL0okMm4TN7WfHFEJYpk203DFi1Mwk0KceXdT2Ctn1Iv97kSHqmLtnZiK66h5wrkn7OUA+TP2QvNNSfXA59aDziOCIwz7hp0nNEKjnUIuLRsRa5YgbeJA/b/ob388mR7/tln8NPM5MqsLxnuY088adtvvz24gt/lihr3a/3vm65lm2fVFRMcGBpwGlKN68cRQ8bba5NnUk4yI0u7ugcqq3Feg+31zW/bJRdeZMcefQwUOza1+FqePXuO7bnHXvbmmzM9ytnkl16xHb62o70w+WXb5/v7WFlBuf38qCPA4mKAgDwBp2I0q0WNS81MJN7s6W/Z7t853N6eh4mQNMILeuy5ZyfbxpvtYEORAW600Sb27LPPepOlHHvQQQdhtbIq5VXYvj/YBwoan9OEWDz66KPttttu86hOVXjleuWlKfbEI4/bjv+zizAVMIe6BHxeJq9dvrEXjlPKbZ011rA7bv6XB9cQSD77zH9s55125v5e+9UvT7RRg4bYT8hPEFqC1rmiMEqfraKiEA9jmJFB6jYjty3SykaKa5CWne0p+8rWO9hYuAAP33KT1VVilQwVKpF4V+MCu+D0U+2M8y7HGYvRlkOsjohRJQSduP66GzH1KrGrr7nJyqtrbfMtN7P21kX2wF132m67HYzHMR4A1RfMnc3i60Bbb7317MEHX7XTT7+M84AzAHvHpLts/4P2dzAXddjLIuKkE/9MXtvg57zc9vvhgdZCuE2tSFpQMD7l1FPsyCOP5L1Ntk232NJWnbC6PfzoI055S6Wgf9Gkzv88JFgtzr+GbPZtTPH8EidzB7keyPVArgcG9EAvU4gkfYl8rzEMr4b40aHEj8iHX3jy9jDp3odCK3JJwCp881u7u1SyBXHhA488Gs4543fIN18LRx2yc/j1qRcGJJLIMZvCNRedH4pq1w3vIHbsC43hjdcfCysPWzfMmNLMDa2hs3la2GytNcLjd97P/UklVhu5SrjgjPNcaPnYg4+H8Suvjkx4aGhrT4fJU6aGwcNGw08tDhdccnloR1Y6b8ZzYYuNJoSfHvf70CHha9escOhe24bfXnRNmM/hrGceCBsOrw6lYzYOj8/sCj2pxvDqM/eFzTffIcyp7wnt7b3hhBN+Gw488EDu7g3XXX9V+OGB+4QF9W8jC24Iu/zv9uH0v53EugFBKvLRESOGhbPPPhtRbl94jfqMH7NyGDt6fJhXj0yVJsx6+bnwra99JTzxn9dcFvziY5PCsHILf7vg8jB5RkMYN24ViMO8cNJp5yK3D6Hh5dfCl0eOCDdcc7Xfr18j/ZVmR++gx2W6Khu5dMei8Mazz4b1V187PPXcFH9BM+67LqxN/nfd86i/k/87/ocBo6Rw0qU3hLkcCwcevPX68O2dv85L7glN7d1+390PP+oy4RnTHgvjR9eFitI1wsy3KDHdHK678vRw7Y2XhAUt7eEdOvEPf7gotCxqCI89fleoGV0TNvvaVvQ9Amdu/82vTwxnnHYOcugelPG7woEH/DBssslGYd68OeGoo38WYKOHbb+2XXh12uthUVtbOPn//hY22Xq70NjR52NObVyRk/p30KBB/U3IUcifh1VVrg25HviMekAUSmRSO7WScJOd5ZwkAkQQalBhCRE1O+X04AP32FNPveRy5H/dert9baddxft1OWHdoIS9LG8TK48aRjAHWMeQhr3YAg+pq8XfdQ3Bo5CFYjpVWj3I2qCiyiS8lHYuMlNFXSrCFKsbs50tttrcrr7iSmdzNmAPvdbECXbjv24mRnCdbbX1ts6yHj52tB126MHIUh+yOQuRUZNPOZS5ZMsi+Mestrrdfue9llrYZKPG4AAFav1vp/zJfkGc4rrBBUSqyrcTT/ydnXXWWd4T395zT7S0L7J58+bZT3/6Y3v00YedPRsDtEheKJZ1AaZCI0eOtiuvvNLDLDY0t7ivjksvvNC+/tWv2robrGEEX7J111nH/kL+V113HVRpjd1/7322ykpjbQs0x9Wfg8aOheUciDc9yLtbYmxxd8WNVpKL0lRvElhDHT7pzjvtsMMOs/U2nAgnutvGrbqqjRpeBwdikVOdR534W/vhfv/jlKekCgpYs8Xmm9HfaLBzf0U5bkepV5lYHLR33PhxdtekO+mrfBs5ggbAuVgwf67dfvtt7n4ZRoD95Kc/xF94tW243rr2j4suhN2cuDl97dWpdsYZf7eDDj7ciuWABIPzk/58ik2Hm/HYE49DHZ9ue+/zfRtPHcetNp4yK2zQ0CGYxA2F3Y9Wco5lnbzk3N9cD+R6INcDEYy19X1nYS9OOuxTsARkmAJbeXTacIP1bJtttra//e10e+HFN2zmrHdstQlrgbg4ksBMBqVtB0JDrtu8aKEHgSDWAezOQgdf2S4r3m9RKeEXQRDZbnYrkhMAN++tGbBXq9z5RxE2z8po1KjR7mdh+LARXsdKfPV3wBJNI6CV/zDJOzf+8oY2c/YCGzYS9MDvNTxwzLQS95VGOcXl0IyYXbWLh0u9XnruKdjRBFVALIv3T08yGxVreCEBFnb5353sOgD0F7/4hX3961+nTZLREkyjcZFV4u9ZbG3JcKtrKmz4kKEAaDHna2DVdtujDzzgLjrFnnZ30YD3mBEj7annnuU4HxOjhS4jd49lSsh365Bny5GIFKtwsOgycPfLQhn5yMwTb1/Jy9ECASsab3mxbkbOjHo8LPY1XN7LS3D5dxtOPpxlT5Lcedddd7VTTjnFjx9/7Fn8L29A9hQgWTF8cgUOWYQMuZtO+t5390JUMNvGr7aqffVr+1Jen7XQ5lKU7yAFPQ9tp0+fjly+kuAUbbD1KYeIVuXoBQwaOgzzrwXW2iE/5nmEf2wF7t2/mIPyosZm7NW7fOGhxeDnKeUo5M/T28y1JdcDn3IPRCCOoLxE8ZzMx4+xADKdQa5CqNlDoJIn3Xm7nXrqqXbEkcfwCPq3KPPIXa+UrjxBFq+68kpWxQTdJ0UqlJOGDKrDLrgYvR9NW4RjZIpuB1x7UYTS1Dxi1VWshUANbVCbAnihzkyAoZbn5tcTd5hjPS9t6mJCNco1MHEFWRS8bWustZ7NqycbIj/V4LyisWGBKyLLc8nC+kWgHMEt/ES3bbX5JjZlymuAg+Nlv7a07JxPPPFEFNR2sBNOOMEmrDbBqWEF7lESaC9cuNBGjBjhWtndkJpOHWOTWze0GGqyyNZbex176N77jeBWSaLOZZDCW31lGwA8zwP+iPswjAWGoyoUfT6LGOWDRVO/opMAX35P0kRcKpW7ymbagHxcXqHUz9IYVxxnVjDuYU3g6GCAxzXM1wDGagdAzMe8D3beaSe7+eaboXoBYAJ0pFjk6H5xEurIo4BAGFKyKkL7vY4FxD2T7rEXXnjBYLHbdttt73AqJyJy6amwq1oUSPYuzoXk/L4YIHWivQ0n3dZdd32056uxRa9wBbqoZCc9ALnmlLvWz2PKAfLn8a1m2qTv9SOnjyWT96qFZh1posqEIuE/+Rwz4Jc8rXvj773yy53/tHsgEsVxq/L7o/joJC9zDlRdPYAov9XSrN1uu+1szKiRtpCwc5tv8iVrAkDz60bZgkXt9tpLzyZAWFZtfQUlsD+nA7rzmenL7bLLr0NRaZ79767b29SpU1EwxuQG1ef5UKU9rYArLOsdtt/K2dtz6hfY9Ldm4vpSoN0CldhjKOc6C1z+km++6WYUpaos3ZK2s8+9wH517E9sJXHL8bX99px6PHm2JfVghmxEMc26mqzbtYjLbJ/9D7Fzzv2bPfnUm07plsGS/9e/bkGju4FQevPstVffQDu5FEWkKTYDM6wm8lJ0KZl4idKcxQLgjTdeB4wW4mSk0316v/UGDkvIfT+UqJ5/5WW7+B//9O+gb1GzXXHtDfaLo4+U3pazvrugaJsa612bWiTxm3PnQF23wE3IRL5KTrvme1kBJknkXFkzxJ/febdv2F9RlHry0SdQoiqxKQ8+YbMbWuynP/mR3QvbnnBbULqd9sbLLxJQQ5rWxYaBso1cfYJNnDjRDjzoABs+GNGBNO2A5CJ8j099fTr92wE4UwBs7fPPPM8Vryai2Hb+uScC1r3kSYSnEsJcsuqpnzffnbQIyA9GXHD44YfanDnNTiU/+eSTtvqE1WzLLTbHFKvd5s8hrjas7FIQuwdqvIVQmJ2tLWiNwynxGnzOUk6pa0VWCVDd5eigHf0MnBug5SEnL65Qwy+FAwBtpXSjLXaSrqShZ9yJQ8bBQLxfubn3gaxfb1oqHDLeTxQ8pIzy2ONPh4suvsz9CyjFMbQ4f/Q/pHGyzCQnAA386vl1eP3I3pVrOslbNZRDgcQ5ge5VXcg3VljbXPpMe0DvRq8heU+qSnOorUNi7OMlhMMP2zMgugRb8sM3d/9OmDf/be7pCFdfe024+V+3YeXTHWa99UaQjyhXms3PC5UouTQvXMiw6wrH/fr/hbyi4nDEz34UXnv5xbD3d/YJj+DEItXWGjaYOCEoGnFlQWE488yL3T/GFWedEsYOKg6nn39BePql17meH4aUlmPoa+GJV6eE6dPmh4rCYeG0v10YVl37S2HUuJHhvPPPSr6P1tZw7IF7uYOSkpoxYc8f/hjlqntDNd4/Lb8CfKsOMye/whDsChdfcVmYuPHGobi4Omy60VfCLTfd7m2+7d93hjUnTAzbbr1NePThR8IJ/+/4MH6VlcJzzz7JN9cZ/n7W6WHwoOpw2aUXhf8890woLy3zvqmoGRRenzY99LS1hDenTgnrbbQpZRaFr2y8YZh0y02uwPTcK68JY/03fMSY8NijT4W1xq4cBpeUKLpiuOyyK8I55/7D87rpX7eGLuqT7kMRjadZpJADCl445DjnzLPCl9bdMKw8dlyYPvk/4X+33zrc8u87ApyAcMRh+wdoTy/7gB8dkXzbdKz6+/JLLwtf/dqOIc2E0sF707t/9tlHA1rdoaCgKpQW14Wpr7wcbr7xqvDEk4+E3b6xO0ps48MVV9zgfXPH7beQr/K2MHTo0MAiLWBGFo495nhXvKuqrAuHHnp4aGltDy2Ud/Chh0Sj5vCzI48IN95ys+yoOJcfquoGhamvvxHWX3/9sNtuu4U5c+Z8pt/Bhy18oFKXWCeeV07L+sN26Wf5HOvSFjRONRPxcbz++mvh3/++zQE4JYc8nI2edTTI/U3zB/+/xA6X5qU+qsWTaTISMoDs3n/0Exj3hrYWtFo7O/35Y479VZgxa57n7VkyhvCBnjlKgB+5Xf/xe++gWdrxVmhZ+GJYdaU6J4wPPvSY0EzVBL2L2CaalKqTziR19kpn/967gNyVT7QH9F6SsZcMLsAWJnQAACAASURBVBXWFmrqFGY9GRddvfWhteMdP06lohemVJg9e2bmHfJ8V2dIt/NufQAyJkKnL/bSGLKme1o5TjSQdbWlcQF/yQdhc+civGgB2vL4JM1iH4941mqZM8W9TMknlDt+Qju3nZ2F3anw5EMvhpqCkWH69Lk+mjSqtHANXTyBlzH3VJUGgMAvv8YCYxFj1L8FZZhZJbammtntkuJxsn5l24Wmd7qDvNQtmfGZ6sBjla9c4w9w7FHOXb7FJIp9jjLfC2z0JY514N8dCeo4EPjH92FR+7YPYEQm7uU1N0v7PCn6mhuu9/7o4tvVtrWdgJh4IOmvF57LtN+Nt66Yl56N+WtxrKQyob59Xwnfy77VgjsuuvXt6z4l5RXrK+IgntccoftjWbNmzfL71d7s8mP7dQ2lML8HBTnfKsV5JuKWzj399NMBtr9fUz/qmvLJvic+v7xtBwLy547i/5wxMJbZnDJkSi8hq5mPVqfYVvKLKlnZLbfc4g4Y5KxHrB3Jr+Txppl4sEWwm/KRwXRleRZaVkEVlCOW2xNPPGNj0ewcM2a4P6LQd/LD6vnDv1O8WbG5pFma7bnovfLPQxB3/30P2t3InPhYbAKh+6LTCJlOLpmWHK5C8Fz6LHtA7yPzTjTIXKSQdY7jIuxXK8vkiQgVIHjWXeJLcs+QIfCHXcGH+1FQKpbTD7dhVsAEFJFgzcrhRhFsa52VPFSpDEcSsIF8v7SGSE9iXfK89JM6XfBaaFUjR8LOTcY+7CNn6/b0wRqG7VmN0lcldrfteLuSYrazPaUg5eEjOZDHCRTIJNPUoepSXTYIP80oGIlLm0llJQqkgHhVIu8M2VoEy7hYvrf55ryKnJcXqzxISAXtiSmfh5r5VrVNAnJIK5rvEbms5Lv6DjzgRSbp+1JS8J/4nek+9VEe32S8V/7EJQu+4sorbMcdd4QUFcMheT8VKFTp/h7y6FYwCZL2VZbmDMUtcLZ3xvlKDCykvlEd9W0rSQattuicfqqT5Nqqe0ySmyvp+49zgO6TR8gYuGjMmDF+j9qhcy7PzxxrK5l4jKsgf89KqqPKUl7qE8neH3nkEa+b8tA19YWuJfoImUHjT68YCTv0Puz68zxOqCbTmPSi4kBYMZryxaxlN+qUvShnrIkyyNs4qi/AIYImqGlvvmUrjRnpLubk2q+M2K5KXciDSsqQCyHTghXo/KM4jep6xsUDE1PyAWqClHs796jD+P7xj46wU047Fb5ZPgorqGpwmxwf6ANQ0oelD1JatXGy8QtLTWnkUwtRFGmxDTfBwf78Njvw4KPs1DP+lLjGI2+FsU3mPE3kqpOOEo8Ams7jRL3U7HMnP+Ue0PvptVrMk5rQhBUg9ODVShNmb49As8Qn5SQBFBqbKBEVMV4EeGXu/arPPVtVVta5a8tiFI5c/orSkJI/jyyxD3ml5qgCVIo78GiRh4xZZlQFnSgvMb4JBslIKbISASOKW10lwV567VXbdOIWDrJIlG3q9Gm2KmY7gqyebgEmC4hCNKo5o7HVRrin8nIFOOxBk5s4wcXUjyamCC5RUkGbZFLUrmdKaFsEdIrjo0vmz8QtsQCsCuU2JbVJ34WAUt9lEQpm+mYEMopJr6R9/QQyAlG1OX5PERi11U+OP7oAKrkvLcLDl4BRC+749arvdE8Cy3wvA1exAzBL5Sr8rsyzBKYCZuGA2qDv2l1ecqytyle9VL/F7zUBTr3rfk3wTJt0j84JWAX82upcBH+VJ0BVnipD+3E+0bU4x8TnvT9pb3xefR77Rc9qP7sO3rnLWVKdhwwZ4osLpfielrNq5qrzQXvAPz4+blHEe+31bbzinG7PPPOMjcBeL9WRgppYDMZyZ6fBrCQw/qBJE6bC1b3yyiseN7sMV0oaSEqaMOKHov2Y/7LBWE/zceONqAJXgC+//LK99dZbdt999zExjbLykqEAtdwGZqcBw3XFWwB/0C5fAe+LECAJpEBX4wNAgkIuAcikuCTbW73ztraEGpI2rRZ6vUyq4vSIYu5Dg7oKW2O5nRSQ9GJLVQzYauLuTGFnBAXbhXayTHkKUKaS3asDXAbnm90/NJM8IwfdCp/hetB+kk/o9decyGSP8hHgm+I7mAAY9wCuqlWhQAtTJjCSvH3taVUsOPVPCttFAEwHC08R0LI9lt0tLp+d2pbLS4GwQEv+o9XOQmyhCV7BswLaBIxFgRZTRr4CPPN8pCAFdBGMI3Wsb0rgGClMgZSSvrFItQqIFhC+T9yFSGFHcOrAM1g3C/VS2pX4FPfHnSqWa0qlSCmrXjGp/OhbOX7juqb6qIwIqqJgVQ+Vp3MC8Zgi2PafYEfP6n61J1LQui8Cp8qKIB45bLJjjkCvdgtgBcB6Tls9o3t1XlrbAvFYPwF5dv2z67I87+cAeXl+Ox+gbgLKcjQW77//fjv33PPtgAP2Y3sug7vIJ8HI5ZD5QiGzlkxAPBYsKX7k71sMg11JA/3yyy8n/wMAXbHO3AYkK/8uv0cmHpH99IHyZ/Y7+5xz3Yxj9OjRdtbZZ9qCBXMs1b0Qrk2mjKSkJar5eXAsv0SDVtSDgRSXH+u9adyIQhE3Q4Ec0gAjXA6uV8qpBNs01JtSkKlTv8tNTUmKpZxwRBRXtx0nH8pLLEyJWWQaFTk2ztXDblZhmZUKM76RRYlWM3GnUt1WCNtYpjyO2VRL2t7FsMNlP1siP5M6pzL5BWUkEMd5dAq3nunWNPfJ4hYIhgRvo1qyt+6BQi/AHAgBsQOvQFjAKza72OGdLAbiQtWL5TuKISoFZgJBsVh1j67pnEAlfjv6lgRWkcUbwUjnlAQ2AqxhsHMbsfEVqyhSg85hwHZYWtTiUjh48c8XHrRBrHKleL+2EbyUv8AvUsSaP3Qs4IuUvOoSk+7Ts6qnzuub1/0RdHWf2hYXFjpWnjpWvWL+cZ4SsEdwjyxoPaP8dU9c6KuM+IzqLw6vUmxH4nwlcmP80gqRcizrFeI1vXclIysnm6WlQakPOsph4sesyWtExgZSH5cGueZPfV5xZfYulrXIBdLkl6d4EIBjidojMPTplks4NepfuS4t//euua4wu6Xx+oAP3t5Uvr3+1ju21tobgP4ldufdd9sWm25iVeWKgKOUUAhJTROWos4m196/lNzVT7AHIiDn6f0wigDf2tqhmDLNdBAIvchaNbjwDy2QzMMxo0cF0ovT2MF2VgHuU5gWlcqwlzwUBamsDJYu5j1F+Jr2RP5+XJgoFrhdMyBe7AAsVnDCmk0AiGuwk0uxNdbiQN9IQUGayVy63AAgVc0jnrKLV+W/WgCcj3ybUd3bR6B4TrsAJuIO17vzFRZBEzwUOX8L5FiE9vQIOFn86nw37PnAxyHKPjv1YLcrhycCO32n8XoKJxxyfKLvNYKLnkM5qx+MBTyRSox5Zp+L33j8/hP2OOZc3ubFMuoIlJG6XrxQX8zyjQAZQV/lZZel6/H5gdd0nM0+1rG4ZQLQ7PxE9es4+96B+cZ2xn5RG7VwiWAcgV+LhMi+jkCs/HVex5qPog14zHN526qeOZb18vZWPkJ9NFA1YLNZxPoQNTBFUWirj0gAvNlmm9n+++/vxwLjbiaKZSby0kd5ySWX2LHHHutB4GNiwepysPfKf9kUMhkwIcngRdTSvffei1u+FLK7ZtjuT1HHDNxq0hevMLNsiIsIzZcRD5bZjtwNn04PDHghAmN5kBK6CYhE4InA6ujIKAEpFBD/i4oTRSDdmURBEsWHFymO5eJRz8jblefEvpSlSmD1Sgwj9rZzwymjm7FaSF6ljKtOqC09L49UhQ7k+a7UKHF0RydKWrGu5JdgL+xX4TM/VII1uCmcm1wxkshJHqdIQSCgzqCO84uJMuVgrKyQB1M/ybwXI7nOs+AgQ1GrkhurDwTEOh8paIFjpIw1QYtlHJWr9C3rO4rfkr5nnRPg6l594/o+VYa2Yn0LsCKACeyUND9EVrDK0z0RvARqokrjdZ1XimVpX/XTdZURKeS4UNA55RGpaN2vcrNBVPnrHoGx6h1BM+ar+umeCKzaqpzYRq9QJl+1NT6vftI9apN+qouS+mt5B+NMk5bYaJbLpRW8B6I2opqhwaoUV6XxQ33ooYfcv+6vfvUrvx6B2g/eLzHY33jjDVt55ZX9rqqqMp5dPOt+9PyRDeIYohzXgZtttgmxcIuskgl18003TrRg+4vKHqqRdHm/iueuLQ89AG44wHlc3UxqJdBueTket1x5J1GAkjJi5IRqYta+vD/1AbgSv4j1HeMHix2sJIXEArl5hHUrmW2fA7OgE3RmAVdWXunAV99Qb9/65nfstSlvWE0dkS/wAiargSCBsWSz1E10r0ZYZzrxYS3NaHmoEgtoxrQ37bAf/cTuu/s+7sDTlBS4GJddrZKbJuNSC1Ptp3BlGc/JE5asEBKZsVfZk74Zj3ycYIefiyzeSLlmU8wCq7jgjt+1wC7eI2BUnhEg4xygfAVcMWXnqXtiXgK1yBrXvfF8NmUb66dys/PX/So3LiDifSrX26lVO0n5x3uy25jN2o5sad2ve5RvvDe2f2ntyW5XLCO77l6BFSTlAHkFeVEftprxYxUY/+lPf7I1COcmjT4NcK3YPwi0SVHs29/+tq/KnVIRnzqTJDvTh7fU/DOLg/euO8MPFl9ZDXHbWNlutNFGmKd0WysT7rbbbO4TeX8SMDuVHNMHqXnW7bndT6cHFg8NL4/52ylgd8FIUtzhiooEJHySZeKVCEQsXY0jga10HwTAUvDS+JIWv1sKwNIWWJdjD6fhIFkp6Gq11VXIp9F4hoqTnoRXATlzO7F7JdwYOniIe/laE09TWgQoZnEHCo95ItclM1Y8YzJUnlVUGKlrQoZTt048jB3+o0PtonP/QTl4CAnIPrtZEDD8iqUVzZicjyeyyIaO7ZQ4p5iFpahmUcRNeJhSEkW/mMIc0Fl+Ry59kXsgJ0Newd/+YlrV571MWgxWUoLRalFg9/QzzyWsnQzSNTQ0ErEm8bMboW6gDLkbh/96vpsJU67rFCGnlXiq5ZUoymiFL7keE5ryl3a3VqtxBS3gH+xBUt8rwZKCjZWHuUZa8ibyxkmtT4zMs7jehfVWlKmZTqqByA21G4kLptKsdr9XObnzn1gPxPcSl3aSIRN5qKlpLu9JikRiHaMEmBEFm/xAZVInNsJSMpJCVbEoUhLwC3g1W23lEK3RoFgVkKEKbkniK7mwWGO7j8WhWL6Y+Hm5GhMqiwEiBTJYyi7X5VD5LZhfb0OHYgLIcQ9gWoItnVx3uR6ZNLfR1u5KY15FPhVlmBwRXKLYsJ1W23DD2Yu8eM11N7GTz/ir7b7b9ox7vqk+rguwWSwUlyUmf6q/tKyLsGluI8iClNea8bVdw4JBSdrehZl2diADr5SNsl/58Gmp33/2yeysM4Ut9ZkPX4Xckx+hB3Iy5I/Qecv7o/6hDfgYJT+TPOexxx5j/kiokHo5yycNzoDx+7XLWT8ZObLYQZIhV+B8X0m4rklxcf4JGMtvcZL/+4ExdzB55iGH63OfxJXOompsbrAObFMlWhQb0lNsk7b9VHIyEWfL65Kbc38/1R4YiCh+nFHwAmhF8ZaVSxlKF/Ar3QEAsiszIQUZyAegnGLk3S5aJFvgHqvFeYeOGQ6AsWS/GfO3zDjogovSqcAISm4vn4CxqGRpbBUD8i2IiDtc3aEHTeQhRA5C21c+QpDlogvspk2+bMVmWc/L3r2yWIs7Fpiqv1jsCmqBMlkB5/E8aTVFBHbQ9QKezLDg5cd6UWMLJlndvkAVGCslLGxcQwPGXQC6ADqCsdpeDhh7+R9j8u6J38rHmG8uq0+vB7J5gJ9eqbmSPtYeWOqHrYkq8yuBApXsR3JjsQal7KBn2mLsuPerDbPirBkz+mVRiVwneUCgqSQ50OL8e/uVKbJtE9+zCCYnRe3pzSiY1RGrtkIOCHhgCaWwONFQpuoef++Zb+7Cp9wDcSoByGSgmwHgnt5O+yvxg7/73X0QmfzZhg8fag899ICzoq+/4XqbuPYaDk5HHf3bjEy12+65707bc4+D7cXnZ9rvfn88LOpy2+s7B7t29mWX/9NWGjvS9thjD6IEzbM09rb4grVbbv23rT1xLRtRXWHrEPbv2htuVcRE9BMW2Sv/eY64ukdYO5xoDaN7755ke357P0Iavmq//d3xmD4V297fOMB6UfgnM7xf9dlb02fatttvTwjBley+e2+3SjxzjajFY1S6zXpROpwy5WXbbJOt0dQutZ/8+Ag3kxIWP/zwE3jJ2tVeeP5F4vhOsO/t8wOXfYtarieykYBZcm+lbLn6R3lZS/3+l5Hhh3lmGVnmLn8cPcDqFKo558vaO2EFS9Gds3zVxv3EHzB+ZTO+qHtScvIrv7SJL10Fh9C9Dc1t/b6ul3g++twd4MtaPm+hhL0gPd/SLqf18luNb96MH1t1HyDqvYjJgW/fNymj6OJXfnXxS9wDKdKNn99O97VNivdEn8GcwkMufoS7/ZcEnnjfUnIXP9EeiC9QhWi/A1/WxV4irjLD0cceFiSF2G67bfxcW3sTvmo6w8MPPxyuv/EGgh+kQgdj5tDDjseP+dHh6efuCmutMzbUlK0ezjnjupDqeifMnf9SWGuNLcKxR58S3po5LbSk54fv7b9/+OspZ1AkY6VpXthoky+HF55/hgHZHO6+/qYwepUtw9vz+8K0Fx8LKw+vDYWVXw7/eT2EN96cGtZaeyVskAaH086+LLR04Ce5uyWsWrd2eH7SCwzs6WHma/eFbTffLrz0wtRQv2hqePqJu8IqNWuESZffRXnzwltTJoXzzjwT/+5qYwj/d8aFYYMvbxMefOTZMHLM6mB+Sbj6uluW+L40fBPf0vh75ltK9hP/z94xHyLFb/5d33+8MHCbKUOnY30+RLG5Rz7GHhD+DiKYSkzS0c+lz3EPuOYlvGUFd5csTpRJKw4PRNVmy7TerwvkO1iejGTruXBhow0ZVofiDQ4EWGYnSmOJaz2ZXOhYWq+ev56T4s77Jaavjjb8DFeXQTmI3edhz5216EkkzVLZcEs9+X4l5a597D0Q+RRQx3odbtibzbvIt5P/ehKU4XyrrhhDCMZF2FyKhZvChO5oe/Gll4mrCx9Z8Y376jBlKrDzzjvOzj3vbNt525/b16E0S4rQoEZqkp9X5MfjVlqJEtLWzpiZNm0abBScUFRV29NPPW0L5s2xm/55CRT5OdbYQhxlqPTV1lnTbrnxBtv0G380hRAeVTXerrnmGttws+/YllttDXVe6WEgh9URnlCKZ+UldtVl/3Rf0GusOQFZ9EIrWiPfBlXVwdJGEN7Ran877S925Y3P2mE/+3X/4CxkvK40Zpzddefdtv0O29pKK43z3pYFkaQ+7cT5dbOiwsS5hZtDeX/lUq4HFvdAbkSswKMhiu/iS/TjeFIfu/blKYkdgTHUrLdW7v7k25pVmbOGl3je7yD588kVKcMoaUIZChjL9aFfcc1YtGTJR2AcvfFED0Q6v8xE3uUuJ0S/BtaepIH5/HNZY0wqP/4y5zLOCxffk9v7bHsgjrsBtQju+rLUnV0MGUKQBhS5pPSnsSFb86bWRrcd7umtx5/1fF+OKYBBZw/B7HHuodEpV5qSzbY0N3ruWB5bFaxpX2wCcALlS6+80fb+7n620qjB2Myfax3wp2XiLu3AIXWV6G7hMpPhKPltGuFyKcEW8mBV40KHMT3CWtqbrQtlLWvpsBcmv2qD8GinhQCUJOWgAEbUv0Ic2Fie7J9r7ZKLL8W/dQv6E60oO7bizaveRowcggevlMc5HjlsqGuUZ8yUcXCD60nqChPB2y5dcLm2/CgpdvlSv/9lZJz93S/j1tzlT7EHlkG+fIo1yRX1oXpg6fNg/ETJMgIzu/2OCDIllTDJvfv5rGcz9xUULul5qAoNa6XifvOnJJeYf2zIMm0BswtnP9oQ6vnK8kQzdYkKZu4XYMck+M6lz6oHBva9qGPGSojjpY9FFtzhwko8WkUHFYrGA8iygJs6daqNGTfaX7EUoqRYVYj2c2tzm9Vi+pTulI/lCsYZtu89nTZocJXbCUuRMMWCrQxeuOEdaxry3kN/+mubMfVFG1k5x2ZMeRs5cLUDqmTCfSk5AymyRfjvX7kK5x34km7DwkBAW4gWuKF5nVeetlQhml9VowHeEVa/YJ7Xq9AwdcpDM7s63+oBXSvdCL3C4TbzLQK5cF1uqdMZa4A8FhD5KIFVYdaVTuN5rHiU56Fe6t/CodJXp+PSyAVi/8Om7E+oP4/sk865WDL3pT7zYSuQe+5j7YGBX9THmnkus8+6B3i97/P1vc+lxRX/QDd9hHYq//crI17Puic5ldDIH6Hk3KMfaw9ENSFgyoNLJMeVFTVEfmp1czj5eFZkJDnEOPTQQ+2UU06x2W/PssamRgfjiy6+DM4I0ciw323r4FwJ4xdAaUb7uqFhAfa+s9zVZntHm6266qqAMwCKRvWbM2dRHrbwcxdIE9D+88LzeM4knKAH0Cm02e/Mx8Spk4ArsI6b8RiFxvSgocOsMOMDtgXTpLbOBkv1oprNguDgg39qf//7mXbv7XeQXwHs8Odt+oxpdswvj7ZJ/77X9vneofb3s86xSXdxXS2Fsr7t9ttgozf5wqGttdm9jcUgDnHoDtz6w590er9v65MuO5f/f98DOaWuj1FCn8sq1wNfuB6ISl2LtzU1VfQC8ZhAzwMPPCCgtxDGjVspnHTSH0NjYwMqCSgHcv3kU/6CAtcaoaisNGyzzU7hyaeeC489NimgfgCkV4bywkFh2tTnwoTVhofigmqguSJcdPH54dAf7SfJBsf54bvf+zam7J1h3wN+GsrLB4WTf3t0eOTuW8PmW+4ZDj309+GFR+4L1e6Bc2TIK14t/PuWSQF/2BzX+u8/z74Y1p6wagD7ceBq4YK//12aieGGq64Jo4YMC2uvvkaY9sqr4Zs77xZuuuaGgL6ha0TdefOdYYN11gfS88NXv/rVcMUVV4QXXnghYHfvSjrrrrtumDFjxhduNOQa/N/1wEClrpxjkP9+DZN7ItcDuR7o74F3G9DE2OpMTW5qp63EGTFQgXwau8tEqGbJiXtQ6goeL1lcD/lVxmFI3yAcbkgpikALpcX2zsw2Gz1mKFHA2qCci5E74+xS/qQz9VBIRj1dVCSTK6A1Vkuahxl79lYIYPmekZ6hq57xR35nAo5A8jLKhx2wy8trqq25vtFqhmBHD2y3t7ZYhUQo8hqGk5MiFBrbm9qtopZgGFCg8r4leXYMSag2K7KTPIdlu4bMDZpcDwzsAX0bueASA3sld5zrgVwPfCI9EIMACIQFWnICIl0BKXlJ01h28QJWgXGSCtHgrzYpNIs9XVSiCFCFNnqloa7V38s56Q3oGVkJpBE+p9D+B6NdZhwQ6nZ2ogym7PBZLTCWOX4XzmeqCLmsSE+Kt9DRhkct7hFb2WODC6GRbQuMBbICY8UO1n6elMcA407s9gXGOleBUlkEY9Vbiw35lFfbYpjFT6RDc5l+rnsgJ0P+XL/eXONyPfDZ9oCoRlGJUWFPpnACL0U0kmpTjOCkWrZAiQpw3bk1KfHwSlB7fFK34npLsR4qKqo8gIOoUnm+KpRiIpQ2NuwApJ6VYQERktJo6RfglRpFZuk1FgOkaSI8ybe2wLuqEpClGMUG7lWdQG2PDsVW7maVClEEEygr3ni7HHoImHmmHbNBuZH1OnFOWuPRiY0WHNHaIDvogWeYS7keWEYP5AB5GR2Uu5zrgVwPfPgeiCxbgXAMtSegEoDhosZjasvETfvV2BMXYIrUJj+XAJ/Y2b3YBsutalU15G2GD12I1r9s1mVCpWhQhZDGeQWluMfsBOzxf16MJnNpBZQzsXEz5uwqo6SCPIT1lNnBQkFbUendRGSSJUE+Wtt5mAkWK44y93V04sIVcFc5FVXlxF7GpzsuM7VfiNlgVU2ltbS0ONUfLQyy9wdaHXz4Xsw9+UXpgRwgf1HedK6duR74DHpAFGSkHgXOMRi9gCs6xqjAJljeJAXKaYKZiAoW+Mr3egHs5IBZkSJBiO2tJHa1wFKBTiIVKo5zGfkU4vayG1tgWdwXSgjdm2JPwS0qHPx7RTlzXF4BUpOnnhdbXXLfbABV/RQOUNRvPK+6y5QvUsBRVqw2RjexTkVnUowr3H8it5PrgWX0QL4GpATLGpQahHFgxUG3jOdzl3M9kOuBL3APCKSUYmB4sajFjhZ4RrCUtzYBleYU7QugI8hle6vSfgkKXBl/NP2KVnkZpaxsr29xX35BRPQqHLG2chtSFCOE6VA35CehH5nmCBQhwASudaAfKQ/QFXtaR/GncwP3i5gjdU4BW7TVMzHFeMLZbOpl2uH3P73sHc3RMWXvL/vJj35HfLfKKRsX4gLpo5fwxc1B/SklyLh4y5OStj4QBRwYOnQoEVcWucLFWmutZbNmzVq268Mvbl/mWp7rgS98Dyh2saJ7ydGHPLQtXLjQ+0SAqwW+gFgTt+IPy1OXFv4CcWdZA2se95j7I6suX240OROPdb+IhHyAnBDHsL15Fja1FK1EcfcS/lBxkvNxHrIID1l5fe142Rpi6V6FVIQ67sGeWS4ri+qSBQK2xgHNrvw8wBUWdRqWeEZk/aHepcTWn2SK4KsFiMBefSmgV59o+3GC/tLaoXfo3AwWKNIDUB1UtraYd1ljY+I9bWnP5s4tuwc0NufPn+9EcSvujQuFzPo49DFNnz69f1Ur5Fanf9IvfNlVzt2R64FcDyyvPdCteMAZ0FQdRSkqBrZiYSsJfHU9O2luccB2OjOB33yhosKDSiXaT2ZYvwFq1tnAQDS3uMmUnG5kIJvAiLC5ZV5U7rkptKJSmnCIYmnDwPbjAv5hGA0lLzMsFgo8r8VAgP0tve13pXchbaZeA27M6w8H+q4cOVzQLAAAIABJREFUPtCJbIp6aQ9oos6+R3O1wDn26ydNLceyVa4oZb03lSl/9drP4cPS3toHP6f+FSGsb0KLWrguRb6KFWWslP2ic0oJH7xjc3fmeuCL2AMRbLXNZimLdS0zoOw5hQhgzp6LclanoFHOkrY18xJJoOz2R5H/zD4wSzjHgN2xTsttZqLclY+LzVZAl9CiDvgKJaGU0NaKU9yD/DgfJTH5x/YAKQBZYX4MWiK5tCyXlwLGns/A8wOP/aYlwDI58/H+jYAcFzExdxFSao8o108jqZz43gQiAo9c+ug9oPcqjkO/CCYqKqxEFBVpQYotoZctdpA+mFzK9UCuB3I98F49oEAKWuFrQomOPzTBCIyjY4yo1CUwVtK9ulaiOQZN6j458shQmvl5kkkDlL2cUyKog+TCXWlslUuBT/BHmtGKPIZHMLd0EhinOjGvYu4qwN+WTKJ6MXkKmEX1YqcsMJEcupf7Ciirj3M9UMq9zG8lsnPOZjv34+7AuS9z7AuGTKLOH5VjvSwKWX0azapEIMWJW/0b+3VxhT7+PZUtVqo4qKqr3pvwIR7nMOKj9bn6dMyYMb7YEdfBZcgC5ehZJmavc7opW2vwoxWdezrXA7ke+Pz1QAJQAmGxq0XRjR071l599VWftMVizg4aoklH5zWpy/a3BF/UAuR8IZsTxtKCBnV7EtOj7p4GnINA1fZVQklIKasdFjjRwBAPV8rtlryF5MO2hnUu8CjqlZ9MIjpBSQvqK90hJixs7nFAxmkI0lgrgO3tRQ5E1KUTwtwZgXggUGcWDp/wi9V8rPZpKxBUH8YF0CdcdH/2erd6b5Erks0F+bTq8HksR4ss9avAuVAvVR08cuTI/pNaeUX7wdwK6PM4BHJtyvXAx9MDzYRElEKowDjOFQKNSMFFMI6Tt4Ak7gvKEgoZkJMyF2CYn4+6NEAdCdEigLWlqQEb5UrKQD/aY4H2ucy4O91jCjjWgwlUgSg4NUmet/Cq1cw9MNF5AIob0G4rQzTHca1CKKoIgLgT++NSUc9L7YoBwNtPGS95PvQD9VIzWeZJgWyUA2ub/dPDEilKaU7uFZV0PRJJ2n7S87OAIiro6b0KF1QHLbT0jj/p8pfZgSv4DQJhKcdF7kNhfLmzZ8/uF9ALsQXKGiz65dLy3ANxgvgA78lJgqwJJcMmzNYyTSangVTAB8h7ee6iXN0+sR6oq8PfM6mru4PAS4kZUHtHKxO1WNOJMpfYnIk8uc8W1i+0XXbdzU44/kTbaZedPCaxjy7+JGpcAmZGYUana+bU1+zsc8+xr2y/n+24y3YeFxkIdm3rSijn5jffsj+d/Gdbf6ev2567f8sK+tL2r+uvt7unvW4n//6P3KtBH3hCLOuknLaFDXb/E4/bM889a3/4w+/jLbqaiI6zEbpfaUv1impoui35JvpvjfdlPZsh+pN8499IkWe+Qwd0l2WrbHx7s3FnJ7j9FPCdcurZrt9z0h9/A3WcQumH2MwCcRYZebDkQ2Z+hkOfJMI/Jg1SjmpzUs8CV5ZL9jNBrvx+f84Lz5iGaRHjKTl2PSLugcPvYCyt9IsvuRD2aosdc/Qx4EPmdt8sZuEnLdGjmX5SbGvKwVFq/xJGV7K7OjunL8p+XICpvU4Es8LhXAjYDvo2pnh+iZO5g+WsB2D6he7MT/vojw74tbel/SR+gUN3Zwc73SGk2kNIt0pWEdrZ5Qy+FzyIjT/f1dOpv3zzqUBoudCr6DxcSHcq1E2Sesinj4g9cFj8hLaspvuvx/Osqv0cpnT911js+T5szv5zuZ0VtAc0tnwI6D238WsNNbWlPo40NDS9JGOymzHWHm69418hv7gofGO374fGJsacxhX3+cjRIO0iD356prWxPuy6/moB2jDcfMfDoVXlaCy2N/r9zS2d4VsbbeLXJ919f9CoTcZll18HwPjTGnrbGkIDx7P5tfBraOav30B5jOMegjZr8Pe0cj8Fp7rauZxml5s47mrXfWphX0gx5vVraOX7UfJGcp9vdYx7k0yb4/fU0dntl3W9N0394zNeSjo0U56+pS6u6yuhFqTW8ItjDgulNcPDDw8/OnS2NPJ8h9fNW6eySHy+3ib/eMm6M13PJe4NHaEr3R5aqIzn18MzzW2hnWozI/Cmevx8Wgf+OSbvLsVtLdS3m+d7dE7vRoWoC9jv4pciT93Rk5kjvP3qHd7fog5a5HWjMt2dvu/Zd5MX9VdxCylYZbcwn2SaoTu+kEk4q+hgMS2xvvmirEo+X+1MKIAo4/IVdlYDy8sTKkVERyF+BPvk7UhvXQ4T+JVpUcZhl3wlsG1rl39e3SAnMSgZ4EIpsqWKJZeDcyLNQHcZyKpbIg8lcVJ0HwOr/1j70SxCOgp6TuzK6FAgW7boD+XSitUDcegNrHUWF0aUsn6iBAsYhJMmTYI6PsGeeuoZlIXSKFdp7Gj8iVJUhlBoUIwyV6qsLbFb77zbNpiwqnVhO+xEqO4rxJyJW6uqSu3Gf91o6yKz7oUA6yAv+ejSeBblVYSdsXU2s99tfz37H07zyddXZXWV9cp1Jle6EEwXKBiz6gf13SczLgWb4CNJMdY72rH7LSuwZtx5yjxKFOci3HCK9e4jXQUlQ15HS02lpVCFGQXZfo4jDZC5ltpbUoRyGznnOXVr1ihhORmffMqptuNO/4O3MqinSpTP8OFdXFROW1UobHjq0cj3/KeTz/AAGqpLKd94hs42d2RCn3v1Uvjnxp1oOWL3mbNaOYF9OFSrN50bFjXW+33yF15MfcXXT6Ol3kgs6osuvEw5WGNDmwfOykPrHWtw/lFnPcRxZwv9zEF5WbHJHbknUfnUy0EmQ0qneX/lEN0Lm+lnXJGq2rm0uAdygLzCj4b3Z/ogAmKy4+NxL/tYacoJvz4DJoi5OH65/vo70R3gI8yYigpApRSjVCnfvyS3QeTXI3dIJLGxamtq3fWh7hdLMttPsQBXDgOiBmn0/iaAFutSk5mSwDmXVuAe0NDrH37a0UQOSxnk9Ev80dquHUUuaTtPnfqGdQJwPz/qKCslutOVl18cIyMCSgCgFos8k25qtBTsWT8AJDW2ZGbjk5VskhmwHR34SdAwrau2JuTYsicu4lIFYzyvp82a04xigQALzvPPPNWmvvm2A7JqmA9bu8BNsvIJ8Uh0J+UMqPT24oAEJTPd1d4O+BWW4mKTD4M8q6vLXQtWdagjFGM7/q3T+LV2ryJS/Y7uxeQD1KE7AaKuNMo6yhEkk2Z4F9+R7lV/lJTqO8i35vZWniBgBssJ1a9WwnJTQIs+qx2Eg5NuTFIB6zRIBzcbuXkBC+JGQkIW29XXXGFz33mbfHmE1MVOsl9irWi+pdIE7CBfjzupipDGrpSYLJUSGUupk++wrm4Y9xVhP07gDKYIzQFFmKT945ILbPKrkymvywYNlpye9tB/qB/xK3X2eReBN8p4P7LzlkBBoN3Y2EJFMUkr6CF8ZSNifPyXo3BX7vEuzQbVlGQsxJM65f4mPeBjPJdW9B6In/+715sS60lPAN4THyQuUgWGoo5RfCkh7E1D0yJAdXH7S3yFnUfknTanQvQVuzlJxuZR4fJi6kwRFICPULIP/TRhiQoW5StFHyWBcFQQjKZ0ui+axiwuObe3wvaAT/QZMGZSd1B2+OtlHDU5mCmq0+WXXm4/OuzHrqC12y472sMP3uOcGXSFPGmcSSmrA/nwrrvuatWM1WcffACAwclHCcpEukkLyRlv2V577cWisM7+8++bGF/FVo13rm5uaFk4yy654Gy77JobrJW8zznhF/br40+1my/+p61Ws4o98OD95NFtvz3+V3blPy93BS+VKfeaF1xyvo2D2i5GTnvEj46AImz2b2bO/Nn2mxN/Y5deeqk9/NBTtuUW29vKK69sjz/5mPVqVeCATD4ZwPMFLz9RqiUl6os+u+yyf9qECRPs1P87za659jp7c+Y7tvf39wOwiu1Pf/yzV+OfV11qNbXltuWWXyFQBqanimyFrLYcSvKfl15mY1ZZ1dZbbyO4C//xhfAhPz7Ejj3sELvs0ousFBB/4N4H7ZUXptj++xxkd9z5gH15ky3sl8ceiQZ7l11/zbW2/lpf4j2U2KorT7TLrrxZvWlpPKiVVZfY8b870SoHD7M111zLzjztdN5ioR3z82PshN//2s45/0wWBlX2FHL3lsZ37Df/7zjacBMUtN4IvsArSu3M/zvDzd8q4KL95Ec/tvq2tAN8/YzX7Lbrr7RDjvyVTX5rvm2y4bo2srbKnnjmZYNBkln6e1VyST2QkyGvyKILCaYkv0nkuZJDSSaT/Wtvl2RNJ7tD86K5LsfpS9WDz01h4ZwZ4cabJ4VWBDuLWiQVCqGppZnnJQ/sCl0Ij9paJbtKZGjKuLsbWRdy4V7JoJBnSQ4s2XGUGSeFISNKpeSSNUAt+6koQ86WG0dZcnwmt13xekBjLRl1i+uOfTAHGkN695IWdoV5s98O+39/XwYQeged6fDqiy+G6rKq8MjDL4RmZJTN7bqvO8ye+kpYf43x4fGnHua4I7x0+/Xhy8OHhOv+/UCYg7C0ZfbssPrguvD8y6/5QH/7npvDeLiy9z89JcxG1nvCT/cMg1h//vniGxLZ6rwnw3Hf3zr8z5G/C6+Qo8ShPz50n1BbWRXOO+sC/3wkQz7ksH3DKaediE5Fa6hf0Bh+/pNfhHXX2SDMnPt2OOK4n4RBIweFjTffIrz86gyXif7mzyeFrb62bUhJxpqRkyby0PhNJt9QZ1tjWLRwTtj3+3uHpqZF/m3++ZT/C69Pn+nf2w8OPzjssf93kRin6a3ecNq5p4dNvrJJaEHm29rXFfbed6/wtR23DzPnvIOsvSdce/01obq6MtTXL3A57vd+tF/45n57e52ee/L5MKpmMIZe+eHyq2/1nm/umhsWNE4LO27/9fDcYy94ZSfddV8Ys8bm4a15fPipjnDszw4Jp5z9d5civzT1nTBxzfXDnf+6gaO2cMCPfxh2p+7Kv62pgXv3DMOHWvjj6Wd5X4aedPjRgfuEv//9TJdZN8yaGg47eP+w5ta7hjcb2sLfjt3XZfzr7/jd8ND01tDTMj+c9tufh62/+f2wkMddvv0FTjkZ8udqHSYGR8LkSBbn72Z4yNdwS0uTr/SroVrbmhfZtttubaUFtTZy1Mq2xzd3s6qSKhs9erTdd/9DTr204AhAsWlF1VRUiqVX4DFgxS4T600Ut6hoydpEDYtKjrKxd955xw477DB3nyhtfcmOxboeP368TZs2ze+X3FmmHDkb9xV9MIoSFCXMVsRS/PmY1DVIVH4o99iLz0+2TTfcxDqaYfsWFdqaa4y3zTbbwCbdfYebM1UhWJRY5MKLL7LjfvVLW2ftL3nnrLPpJlhE5XnACvyA2FVXXWW/+8PvbMLqq3G118auuaqNWmmw+92vLS+wE08/zQ74wU6wq3G0oOJrK60WCl1iG1GhnUR7+vt559je3/uedaRhkcPBmfX2TLv3kads30N+7JTn4MG1duwRh1vjwnn21PMv2kl/Ocu22eF/bJVVVrG1J4yzvHSvrbf++nj3JHoVeaoH1PTF/CmOXKiL+SjtSmOWNfmF56Fsn7JZc+baMcccZSNxxNQB27oANeeKCr4JjLTkDnTiaquj1yH/D7CC+eDK4FiNHTPOho8c5W366g5b22qrjbFJ99xr9Yua3DlKcUmeLVhYbxtuvL7dffu9NrhiuG2y+bZeryraU1NZanfdc6eNW2U1u/Hqy+zgH/6A75nOwfvZ22+9Zq+/Ptn2PeBAa2jrg4ofZa+89Lx9fddvOPdgYcMCqx1W6+2rqKmwv572R/vOHrtYde0QtwV/5dXX7MEHH7Qf7LsPHOoiGwRa/+Z3v7PXp71ljzz8qP3sD7+1Q/fbEep+dVt1fCWiglJbZ+IE0zwhDkYuLdkD757Bcz20AvZAAsz9HLOsFsg8gRW1n0khq6rEW9Idk+6yVGi2xqa5sK6utHRoJSjAfCbIzZJ4r8jXFJtWHo9aUd5SSjy4JYIqFrTol8CS4rrsFDWJaSs7RQH7eeed5959dJ/kxNq++eabtvrqq7s8UEAc7SpXwM7OVXmJHhDMoczH4NOknfyJgCygliOLHjv5pD/bccf+0sGlBvFGWWmVPfTww3bhhRfgQ3+e59gL//rJp59C9onSlPQXpMUlX9MAkRZ3WhDeePNNvpgrUdQmCalxkSnQGzqY4BGZ8jX22jtaDE6vMYCtCfELihDOVK+UZy7Gahp5rrOT+zps3uyZ9ubrcyxVPIjFAhpH3a02YmytVRX32cvTZpm8cheUD7LBxD+23hbccXaSf9oaU30OyL0UvBiMVYmEZe2gDLt9xJhR9vOfH2k77riTbbHFFnbq6We72bWUyFIsClwZkqekDKVgGV0sYBo6ESXBzpZcvZQwksqxBXHQoLoq23yLjQDKBg+i8dqUyVYHm3vo0CG4BzUbMmg4bOjgsmAlJLd4JkvZ5VdcZ4ccdjjdVWBXX3WZ9aQkSiq0N6ZOsTlzZlkJ2p1V/5+98wCsrCjb/5vk5ia56clmG7uwS5MVpCjygX4qRaSpH016URBB6U2KhaIIoiIKgmBD7CAqXRAEBKT3ZZe+vaaXW3KTm/n/njnnJHfDUvzrIsme2b25954zZ87M3DnzzPvO+z5vTQAHfd1aqJRiD9djjc11bAXktaxSDembPhvI9tqK5fwG7M+vaO324Nq++DWaTW+Uw8dcO8Faasqtb+VCLO1wUSupZL+7wpau1EKFbTMubGpuMbLEaVQPxIA8XoaEnw2LtrH8t4DRB1W2/1YhE0tSdV2wv6vIPJJeZekqd0M9NJKKxS/8Av6f73nPJvaN8y+wNvw2S/2ec2AEojJEJuN5iLler4gT3d8gTALiKElSLk7aa47TWO+BEHg0Weunjn7uYd/dAKYeBWQ/jcS1ckWrtWGM1N3Ta9lCN0A8G7/aUnv22afBLRig0OZMmzHT5i9cNLIdi51DZXXKli1bJvsuv6jrTQeLxCHt/SKVpZFAk4zPHCxcls1bc8tESwHYfouztp5xX2P1MHNp9Aq0HQiay2ex8mXQI63XNDaAIzX29D8fGjEco+hKxuy2W21l9VxTSv08bDLWC1gsV1KvRhYNYhhTK4ubH/yq4VE/ww7ZfvvtBxYN2OU/utIuufT7dsGF3/XXaB9c29DeGIrKpVlAN3EsUSbDrlIAuI5jHV66T/GQ5lgI/+UvN9nmm2/ur58xc7qXwAWWeNBY6/JW6pbysaCDX2fQWlcus+OOP9G+ecGFtse+e1kLRBS4MPr7brzx+rZs+RKsrDP8JsF2em098wSTQlU9+bDwymArIjO9gkhWsKIuhylNiwEtICS5Z5GU3QB/tEDXXII1d31dtc2SFkN9zDwhm5H1JtJA9R+/mxbv6VhC1uBYJcWAPLpHxtp3TX7DE2BQ+WJJWQ+tkiavksgSlO+DGM40ThAHschfgjx5mVeG08srr7xq87BMPeGEk8KA8ZyiYPaQAxAOp8yIW1clFKugi4E6KD34Gxl4xYFLintl7H4OLPKZ+jXowoHnF2JIfUP4InVjbX/11T+xnXbaySrqqizTIetbRCPOr7PeerbnnnvaOV//unW0IYcyRnfHmOvn1/7S7rrr7xRYak88iCERPNXaBrn/H8/aPvvui5HRj+1OVLay8H3x6WdR7Tr71O4721yAvcA6r7svb/OwDE6pPrgJlaXwCBjMWA/Gyk89+QzGSNp6SdjcV1+1HMEm1t90Kzth313th6d9webMftb6Eyn78U332aRZH7BPbP1eqyNkY1lvq2Vx2elM1FpnqtmG0lgOL38NcIZiOPz5BrRACBMOvsEnJPMs4WzPO+88r1Xadddd7Tvf+Y53/dNjN3O9jW32s3N56gYx5Gq3v/3tDrv15nvswP2P9E9idVUpC5TnrRPjON3/6h//xj607Y5IyR8EkLM2aWITPN9ZXJkW2DPPPI0HQ8q6c91oxTAIY32iwBqSYCN3RfGP3odhWyXGV1IwiKFRW1gXXnghix5cwGhM2/JOu+W663z9pcnSs7q8bbk99dRTXtOgumv7iTWQzZgxw4479kjbe78DcX3q9Zbuv/vtr23DWe+zrbbZjrkJ63AWUDIA87Z7aA3y/J7dGJOC037RVOwuGXTaWvw3Nuoa4xYFo624wuaMHMaIBqOawYIMbPQSGQevwW6Xy/Z4Y40VXRnXCyOAjEx6MELJ9Pe4y390qfvFL34GkYDIRDghWxVe4hdQkgHZ4JDc/OO09vYAxnyY9hQYV368heOkrraJzxlXGOhw0ybXOLxzHM5D7u6b7gyMqDAcdAOdbv99dnWVNfVMyRUuWVrm7rrjFsrJuV/++meutibltpq1sZv7yN/djttt7W6763HXilFXId3jfvPTy9y662/gZm26iZv70O1uz49u6a6//noHi5Q74XMHOGQyVzt5gjsQYyPnlrqnHrrJJVqmucNP/4Ynqjjk4P0diiA4KM0ddtJpnsxCBCKXnH6Ca2lswJm2we1/yldcq8b8YMYds/cubnJtBflL3eFfPd9d+7d7Hcoif5+GlinuwafnuM0/+GG3w86fAIez8O50eONJN4SZVK7TLXltjrvlxuvcVVdd6RKVVe5T+x7kFrT1+KfxpXmL3Md23sklGivdZb+4zN17723u6KOPci8t73Xdvj873I8uP9c1z5jiKidOclde8RO3fOkynmhRivS5vz3yF1e/Trn75rfOc88+9qyrpS9T1uC22f5g9+yidvpzOb/FQnf0F05gV6HGXXLeWW75a6/Q77PcaV/+Pu3rcOmOl92eR3zB2cQNXX3LBu6YI45zA620Idft/v7431z9hi3uiGO/BCdLhzv2sK0dCx36aKL7zFFf9/PHYLbbfftrJ/v+qExVua996ztuzqJWPya+fOguboLoxZOT3A4HneDuufl31JHviTpnLRu7NJlkEBrh0Nr2LI026irRAUkzisSi8GhRomO8JBSnd3kPRCJwVM1IShmudqA2lIWGVFSRFOP1XfgziuhA63qt1ju62qzFR+RxuF582K7DtWHaOtP01aeIfU+Ctoge5NNcjmFLnNbWHpASV7uLIpIU5Ab90NDYZF2dK7AxkPSI56o4pyvZstBQxLjKmLlxuGHQlcLzoehyqGN1eYH9VDmxUlqZQ4qWz3wpr5JycuOOx9hO4rI0mMPHPTWRfPi9OiRuP5ZDf2L2S+U3XABxobagVv3W15Ox8rrpfpzr1rgPoNKFBAdJrbyq3nvUllEHaK5sAHWsNp9lLZFhr3QCBo8S4/KoZMtkoMXx7ky3TUmhyEYz1ZfHHIt9WdX6oYcetqkTm22DDWZY58oV1sjnoE/8A0NbVKeAXlJdkePaStpbAn+3KCb1JA6iHpbPboLy09JiVSjogKTLgIgkR8jJeoyrVFwe/+LsYI/VINGjeDfWRnSVxE6zdhrANj2ewh2GpwR75xt46dfykILQ+MEyuTdSpWyblVQnbFk6iSYsJbdt617ebS0T2GunUzLcuxf1cnOygXuo9UvodvygS9bzc4nyl/ZDGJLgd+J4przeVnTlbTL1ZpfA0u1tVt0y1boHy2mrll6EG8QuBeT3Jn8pGpJgYok0ahxaq5JwVlqIKH64xlGcxmoPhBPgm1c/mODY5fUTm1dvO55M/2JC5Kno6gkIOpoamjAyESGD2T8ffNiHBYuSwFgauaJt4XjB9uYdv5acjaaQYrW1PguKQT0WbOVVNZ6YBlmKGVk7uQxcr90t99slHigYYIMAZT8g3u/Ja4BsEcdgFFUAxAUeWdlmMT4TmGVn/L4phkd9Yp5LoAbNwrrFYOZ+KHs4M+Q9osUAVlM3we8fC4y729MKAm9ZVLc1WPwDTSwYdB1VrqmgKIWgIKAC4NMov2huPIBsmeSzWjqY67CJ7HXr0evEYrxKhmG05bbb7rA69pQ32GADzpQAxpN4R4zmXHcngo70s6QCWz55gFjfqgDPcjahB2HgUhuVX/uvPpoS6v46/KtLSiowjARo6R+1oY793YDcR7mTlkKFLo/njpXtVuKN1GgLl8v+TH0GBQoGmi1cT41V6fKq4YW1eAZKqmptMF2wJsA41486ma5vmVSP6p/+ZWED3YrVJfGU8JXn7xA9Nsid1S+Rht7rnoO26RYTGuR9QW8zuVQ3tvATDrJo8NUiUEi3peqbWYzo1w/S2grGYfNXeYsBeXW9Mq6P8fD4Pefgp9d2ngwwlDo8SQjSAVaxsoZWEiWhHmRJxX7iLEqxBmXV/lgbvyFbMllrutbsLJlHAwZAZoyVhAvADNY7CfYh/VftJOLGJEIQQYr2ENnO9bSQ5YBeorQSg6YKgLbPKmB/ktFWmbfiZz+VYZoQAT8phVWwDI6qahusu6MbAy2AjIhOSpV8FtPXIGiYBIAEPAqiUEa1mhqqLQsNZkDbGmiPNObxAPKvMiRWkd8oeEMe8Jf1eClI0onFsVIdZQ8p0gKpAZcqPRIy+N7xox+xLTbfzAe96OyEUIQzeTQDJRBx1De18F2LX9UHtiouGGQRoEhVfX1dgDoAxk0SPsoLixTqUFGWwzq6m/5KeIKQMvozy761+niQmNH9vgMTlgFBy4A6WS1zc6kQ2JNlL5ii8jlpLyqtCwOuUlmM+eaiD8CSvL29K1gjoGguYRHDL2L1sKexBvBKjMFEgLbZDNSh1H0Qi3In03AYxBJJAJv+rKbdqrECXhigrb36PPcS8MqmfaicVQELDi1wVF/dvq6hnm3lfqshEwoJDYU4FfVADMjjYThoWRql4s8cG5Zodbz4xfOGXQ3uSblgJc2MJwlZltMFhaULJz6/axE+NAJlSTS6TjzWcVrbe0DTh+xvNUA0HgTGgdGfesYPG8ZchSxtwy+KW6yUrBI1JIOQ4/1IZuJuFa90Gj/h3hxm7pCZAAAgAElEQVSSJyxdg3J0VQYGoRaOSj3QahZCg6kkqtcMn+ubpL5GxQzVZBqOZKXKZIrJPokhVL83GlJqXQagUZ8qDJ8KgG0BMNOCQmM6lx9CFQ23NuflbqRFQRXWyvqux6auIZQSgRc3WGq9fb3e7c+DM89CDRKmMuq5aeA58gteITnvOVlX8S7gVx4H4g1h5a0+q62pDTitOS4JP4dET05cFHug7kzYyjYMoHpQdNMNuocMxzxI45+s+6aScmkss7bFy9TR3AYVd7k0CpTt/b4qWLwodCOAyiIHCzg+I8VCgznAFoGsrcvKAVl+O2rqz2nhlGCRIIO9uhRAy89UgSq/RCun0hpfx4QoSsmrEZDHIlsArBIaxGUtiZ/jQ9JcwHGtDvaEZaS25ct9Obq2ViqLN0lS565tKQbkcf6Lr9YMQE+DnyB5yCENyCMGV4SScVd3Fw8fCrtw0tNk9UYplpDfqGfWouN+ztQg0USvaRjwYbLW4eiFsInWBa5oTdtIh8PnUGszd2PFi4IZlXOyKoVrD1zncDwPIt1JNU2oMS/pigJaSeQ2ZfLRI2VyGa6t9lSbXV39EIyU4tIHhzN7xlIK9+o84zoByYYcCFom4+6nKsoyGlAoS6J6DgRB78pTwx5xSEWN9bRUsGqVJDtIRbT3qaAPA+yWA/a1BHsoKxUhDm48BHnwTtJKNE7PRRYQLkMaVlsrEDslHXd1sCCQtwP1qRKAi3SavfIKYjuzmYvbFzGccQMTJFdWNlsef+Bm9nLr6qSKZn8dNX15WQ1qbhYKNKgUfmtiLnGHUpswdQrv0aII6/aOFf5X0dkOuKYF3iU86w5JW1qvAfyJk6gNKti8R2Alr9TTQSerlG6CcrBZwLYB4K5G0Dytpfrz7G8j+QrwBx3c3+ohxGW1Pp0PALQKC24lfUviwtUPKIvTHL2ATcBNSp962SaT5kJuY6ubR9ZGMFafvcl06/s0TmOhB0JwLa7q6EMSElZZcGoBz0uALRJ5TEJRF5b5oBFKcnXQJCLg1lyjVyQUy8jE7/t4VNfjG73ebme91TU6rxS9v91y43z/nR6QoZJAWL8X0s9QIAH5dR8TriIKaZfEx+Zl3GR84AhUngh0CFQ+lSqIA366SiopIekOrY3iJScIgqAy5AarsxmMseRSVS0gYwxKKq0lCIPfhmWc1tbCzCXpsbKeO6I69rpRnxWEokJ6EAihJE2QXKdgfgXgch5cogmxDICW+jpBfQfxpVJAh5QoxfxeMNewty2XoiHqWKa9ZtBlSJKhfHEpvtxHTOJWeoTolnL2e2Q4K2fjPgh6fPK6eu0xSx2uhwxynVy0+CiHdz6QyjMCfG5bSnsFfBkchrXIkLFzJeJsXqsaJe6txbXqV4+vsbRYukMj4J/uxOeLxukXUvSoCtTMqisRWelrXRxuPHA5nhRWV8XCR5J4FQpnKR24VprpBD8E3eb3sXVv3UM+2eraCungSdJIDNDP6uaBLPvxXmMwBGEJJEEBQT7sadVeZb9agcGXsnYm9vp98sEAgkk4YF6S43bEwrR2ds3YaHUUCFwznvPmz9HMo6Xn6oAvnB39I0R2v/wNgU9qKH3136OpaXQ/jOQdfaZ4b/r114fXqWxfryCVqL6+ztGBqM46pqm5uB7R5+JjI2WNFBJ/eid6QL9dJXu0fUhThVS/j8jUsyRPgIEapD2AB8pWqGaYqRPWW4GUmcAqGlVx+UC51SYmobLGF7eCY0nZLHR5mtYVqGjra5u8EVBPRzsSnAyoJFthvMS4KS3tYuSCGlhnC/z9GNGikXEiaauc4eDIl/VYB1iwd9ncPMHmLV+JpNlkg93aP8bQLJVgX1g2E4G0rWuU1KbgGQh6MDoefBsZdwWkY6VqoijBzW0JQiLiwWPy8coCm2nIQ2orqqykq8+quUc1Ku9e1PHL2TOW72/vija0U3W2sjdNfyWtHjasSqho1WO91Fl0mGVIv6VCP9rh97h5vgdZnGg/PMXqoxQw7GfRoGekTPu7tKGAylqpBKNNHR9kweEXRdiFKAmi/VY1+9DBAdBYzz17yJ5tTQ5qSuH5Er77Z5SkvvDTg++rkf7y5YV5ovkoem6pQZg3LMOXpLkquGZ4/vLH176kyHfLli3zfuJ6JQTGknYEyM8884znHlZSRJ4oTN7a101jpcXFYMSA909LUQowlwMjD1AAlEV5h/O8UZuL76E8o79HN40KClb9qy8tulbvuk7XqC4jE13xw75qGVGe8D26fPU3io++Ez3Ab9DfCwUlHIjp0l5+yYQlcimbOU1sW3NQbVIJ9luliukgmpJ+a7E/y7Y514nlMtKvq0S5LEMk7IHT7KtWJ1sIj0hWJLASGSJp5laYQO4VDBOJawIQ7aGGY4EsKl2jSfud+pAPATPJ9zTkJBUTIPPgVDl7qCWAmKyvE0jBgVHR6DFNxigV3UOHotEeXSGyj5RA3eMOkaoA1jJAWl/V/KQAVdolYosXWJgMscDoA5ibULUPYm09hNGa8g3BmlcmiR/LNbTCLD50NxYUUkv5tss0SkcCqdfbXKkSchPzeeM0FntAOPv+97/fk63Iut5LyGqIQDn86NsVS8dj4ectnkiKQDaq+vCDqnxRXk1iRXnf8mF+o8kqOv5vAjKxaVZJw9Lz6PvGgPyuG5H66fUz8dNkShTTt8yqhwi1CO3jwJAsjTFSWtlhlS2TrBdVLyZEeMsO4LeKqrVMfrxczrV5ziQwgVZR6Z5Sa6yF0Qs+aml05W7kJWGBksZqiWBJRkscLxp6qwIyFtLDgByMr0Ftw3JlP6rbWm3LIG3KUlh7myPPhj6HaRQQDx8uyjJ8DKOmUuXXHMrttGQQXg7gOlQLZ3QZBmx+oUkdctRLXtuSywmiZl3EVZbqtpb9bPTNhjEzXNAVHtClFq6JjDhYlEimHQZkLXSUpEF/y2c4yBr/fXf2gLZCopjxiUgSlrpJgCwg1rvU11HQ+XdnM+JaBT1QDFxFQKuT4Sr79RNOOIsqTzSpDXfnaCAc/T3MOAycowA52mjWLL1KUjlhWf5aXce+lbeAjfKOnF9VVRhm9+WFeYPL/ZHXty88HL+t0R6QKrOA8VIp6tVS0FO/HlurtsmGG/u5o1JuNAR9MEg1hpAIywFR4YeMuHogn6hrZo+Xn7MfFOrMtVsj3MkNgHFHexY3HlyeMFpS0HtvvABye4wE0LzQHA4hqTy9yhqA1XAvU35ODoWA7IeZLIsx+FKq1T4ux1asbLWJRCYKLLDDcedzBClSW/tFQFEa/V1be1UC01AyH6SuGZGIIO2ksNL2roJhxyjiVAI++WVtK2z6hElUo4C/MFbL8qmWSIwxJYGefFFZVPvVigGNqlltHZKGgSaoKF9btStUUwfSdHEt489jpQcUJS/yAvAqa6mlBcJNGAFISpbYHKG1Mkdh9cZKA9e+eo4GvtE94Gex0Qff5PvovNH30ZOWjuvYKEAu4ste9Sajyw0RNRBRwqwjeV636B9d7iqAPLrsN2lefOo/1wP8Bp7LHBDJYBSVxDpIaup58+ZhDCTJFpcjWJlKAVr5y1YCXLLcxZbZ6iYgIYMxffjqVmGxXI11lzcrosymJkAZMo2mJqx5hdihtOoNgDCu0ngeEWADINYI8GNG+Rkr0YgoIIHK6GoAk2mBZTl7qwLbSQJjbhbMb288fl43Dkf1ngwhlQYB1QFU1knCIaawwo6eln7coyoE2IBtEleqHiy/J02YQn1gL6PvOrvb/EJkCGvmUvkGccMcRlpVgLGAOYmqWohcyku7wtJC+OdZb74/RrjoR1Ut/jpGekDbxFrAerxVnbXK6+jo8MCs0GXempDkGWPiNMZ6IFpDjwbQNdWMt5qy3sZ9Ba4RrvvsGpZvPEm+jRLjLO9UDwQeLkjGAauTbluF+5CSYz4pJdavfts6gTHvIt3IQQ/pE0OnEustAY+MgGQtHEmmdcQ/Do4H+Xz+4XESmAINS4r+pL5J0btqKhNjFJK2rJwlgZQQzlHMXjmAEYel0dn/5e/et5gksK8ioIOq2EkUi0EYx2BpJqBGQG4SrBZkBJbiI7mYfBWlqhEA7+xotVKZm9MfXZ29w1bLYs3zj4V/xOTIJXX3qOf6P/D4+QbE6b/SAytW4J7GWBDW6lUqcbkaQwIx12hw6XOUtNEcp7HUA8VgHH1+o/oXnY8mulVAcfR1bxMki8sa/Xl0kXz3WZhU/Cv6Pvwe3XM14BxPRKvpzXf+UJp4w5Lg6uCE1iKqB//SWkIZdsOLX8J8csoXj0YNWwl95RSbVDvJGirqrLGu2bbfdmu76c9/sVb8h/W7e4IOiDwWL+6yj350d29VnMHdaBiU1TQ/QIKxEI2VkRYrZwiwReN4+aL5tuNHtrOFS+YDhtW2YmmrB7gyGYwFcDdSRHSL1bwPZxo1SHMwWSlV0mb58F9y6SU+HngaY50ypPkB+WJRZZFl5KD5zGVytv0OO9pyrL5T+F1rB72xqc5efHGhHXr4l4g/3GQH7L+fLV2xHJV3ZaiepgC/FSTqjaLGxc/A8M8yVj9MmjTJC8DSTov7AXAWVVwQn1KN0vcoyERALzdWm7q21TsC2OIZI1xNFx/y3VIM3P9OP60GKP+l4oLrV790+HfL/pcqEmf+/+yB6jpIPOSywfV61RH4oLcPvuJQy3bJVVfYnX+9EWPgKntx3lLvn5olaMNZZ3/Zjvz84XbZ5T8iXGBw8wpiE7c0NxBa8bbAzx2ptghmR1ZsYV01bkb2dIVOgfq4uCmTp8+wv9//kCfwz7G3O2kq3MpyvUJdTBy0IGv4fBRBXXERb/o5YrTrxMXrBz+63M44/TR74YUXrAkXK6nJy7GsFignIAeprKlCfZ20f9xzj9XWNfAU0gJ8r7O93XbKmWfaiV8+k/30frSU3Xb33//mrap9nfzaQa0dkehH72W/aSXjk+/qHli4cKEf77LbKpUBl+LYFltYy4G9+Pu7ujVreeX6IRJQ0qJKj6+i0mRyIhrAF5P9MyWxHEVMR/4AqR9yBkIoehpMpXxIqTcgth3+67gnBilK2tKI1MlSPSopzrIPFB+lwGjfky5EKd2nQABBam9rG/6s8jxZEUf0ysoNhHdxN0gFKN/S6NzwRdGHNzzxupzxgTXVA96yir1N5g8cnvgXLKJK2Estx6fWM0MAIrJPScLuVAP5MRENwc0S2+UTO9r3v/89u/iS77Nn6vDbDcaLxp2IuPKUK6k5DUPVOd88p6gFkE5kGbu+ZPJ5thB9g7CCoAd+wABgeVFtKSFRu6z2mTGYok5DxDZO4GqlVFYCH3b4/EQAJ5rLoFXBOByAyCIc0v6afBTnWEw5smDjGerHXasOy+3TzjrD9jnoQD+xCkPLRT6i+wD+KiNPIGYReiiJ29vHHwe0ly5bZIuWrbDJ09cFwEvtr7fdanvvvbd985vf9NfnFPxCATeg1BJzmBY+em78TeI0pntAOFvP9kyUYjFkTP+cmrzKsNIkuDl7/0qi3kvBXFRg5V3Feyc+mCuxKG1oaEYduCIkvheAs7/HA60B8eSTz2HkMgl1I9R8+GBo8pBtTDnUf70QF0TAHO2XCfyjBZtWdqVMyF3cx09WfD/8sMPs0ksv9fXJM5lUwx2sNKAwbkgqnz38cLvke9/zWyS6j8/HnJOEVtHT6VGvUoxVZMISLACCPPHfd2EPaNPXA3OY9JN5SFPSOSgzAZ5MD9STivwnyywNMPZMRVephVsbTFVVlfzeoA+cHRCG6Fdnj9Uy9u1LLkbS5HpxVHNZP/ST5Yxr3UZ4lCyHZQvVtjTncsmFogvCqzQGVEIsBpXWkFgjV8lrZBCqx3KxdmmhGqCZnh/xuStpvZmEYSsNp3VGARnIUsYfgbWMsAZQOycpR+Eb/fW+ErgwcUzAmWYBLM2ADN0CjxUIT1hkKrCabBIVpjFLoA21sxyVeTlc3ENQWD779OPWPHkdq8UgXT2XZX/7mmt+br10hMqtEBWlfyjk28wuMg+JtsIRpuM03nogCgwNSjOGRlJ0fJWD8Zd3XQ/kia3uI4ErVHymw+XybXzudm0dC3jPuc0228xt/YHtdDrMp7wDbqDQ49o7F7tZs2a5j35kJ39uiDxIyP5zNjPgMpDT+tyQ1cKq5D8rsdfhUFPySYUOuGxfJ9cM+Fe2l6DsXP+D717qqhKV7uU5L7n+vlxwb90AXj7lu+iCc10NQehffGWRW9mtYOuU60uj1mTryWR98HM1zTcvStGB150ozhR/fmd6QL8/JJW8NDr8COF3aamt9sfdUA9DZJF7/rH7XNPk/3UvLuHn50yuZ6l76p6b3PbbfcAdffZFrp1jffrhOXnzdfe4Lx59ulua7XRfuuAUgtgDe+UQYJVVu19d9nM3NZWSq6/bbd8D3Kutre49W0yVPZhbd72PuFdeYvx0DbnpU+qcQYP99MuPukfueskdc+D5btnKAcZX3vVlnnQHHbS1a25udg8/NNddeMGlvs59fYOuj/F+4CGfc02T1nEbztrM3f2PB10O9FvZ0Umo5HAMF6gkXJt//s1v3YZT13FfPukkd/PNN7rZC15yfTwPh33pC273z+zlXp43322y2ftc09Rp7rHnnnd9Wa7jPk8+/Kz75B77uB66rrVnpTvjuD2Jt0Qby1rgsJzmtv/4Lu7YY4+k/gnazatqgvv99X9xfYtnu50+MM19+KMfcI88N9v9+g93uUHKWOXZUP/HaUz1gHAWDdJwneUD5b/EgDymfsfhygrj8OPkuybHDK9u19U73/3qN1c6UVTPnz/fpfvyrqAJjywC3Fx/n/vRlRc7+Arca6+95p9q5dE70vYwKOt7R0fXKh2Def7wdyxVuWbApXuYUnkngo0vIw+Y5nqzHoi3eO/m7lO7ftJ1tbVzPM15aPrTTNRMjv39WbfRe7d02++yF5MT3zmqeSucm11vNucnnGCEhreNDrzuxCrVjL+8Iz2gMaffaDQgp/zv64YYO5kX3eK5TyJLbsRrS4nGjtB7Tt7Ahxzwf24BQ2YeWfXb/+n3t7iNpmzhdvjYp9yCdJtbClR/4og93OEnfdYNZsjUN+SWz5nttt5iU/fi4uUAIAu3/EL3xWMPc5dddjtR/bhlr3MP3HuLW5mb7e5/6g73nin/66ptM7d46YDrZRH6q9+e4X79m7N876xcMeC+/72rXQ8LwjzFn3zaV1x7V9aPv/seedy1TF/PPfHcc34RQXAMl01rvBdcz4qV7tjDP+d6eRcqnnHG6e6RF55xHbR5788d4nb+9B7uscefdJn8gDvxrLPdR3bZ1fVkB9wLc191dZVNrjrV5LopVAsEV3jV3fanq9ymO+znKM3fe2iozx1w5MHuqNNPd+16Zjn2g3NPcHMfvIEFd7u76e573K+uu9ut1Dp4lYdDrYrTWOqB0YAcq6zHuMpDGsBAzYw7CfvCDz/2T7h7Z+DH2caeWtZaWlpQoyFiSL1GevrppyHjr8Gij71mLEEnTgxC1ylPsNfMPhciiFIWYvhG4pdKNRepraWei/adS3EfUQg7HQvyB3vWstwXB3ESl5NHH33Uzj33XJs5c6b95je/8ZvTSVSOPai4ZeY/5/mn7IILv2Ut3Oei71zq3UzTqLlV3SqF7YvTu7gHot3WcHCttqawZmHXkEg2WmvPU+zhZqyzfbk9P/sf1tq63LbfeVd7fs5Sf+Ve++5hF154IdsYJdaQqmdXOEnQiDpciAjgAMWkKK0msc+6JXGH/3Tjn/xeagLH5xIGzXXX/d56UImXMGQWLVrMmEzZNlt+yH7/+9/alAktbJuwx8147evL2T333GcLFsyDJjhhxxxzFNrghL388nz7/ne/a83Yz5TDz/2xj33MWpcssdtvv93XTVsoUfhEkSnde++9dt899xLJqMcuuugi2/Q9m7HvzfYM1tbTpk2zD3xgK/In7KPbf8xHp6pCFb7xxuvbow8/RmCFRuw8BvDNxrYCAu4y9tRroC5eSXRERcYqCX3uW9vbvRo+wx57N7HKr/vdr70qfOcdt7c9Prkj+9Y8ToHm3dcxTmO/B2JAHuu/IXOhJycCmSsBuG0+uA22H+1Mdq32059dPWztqtjlSltvvSX7yCshcCi1S3/4/WE3t25I9wXE1UTdybInrVRFwPfe3gBk5bgeJX0WwGuCEiORXgLYlALKkypCC9t+XDxEnH7iiSf6+hx66KFMQAw56qowekoPPvikXfiti3BxyWChepLf2VP4tl5cRBAihncjo3vH7+/2HtBgLNpTxrpYVthJiDEWL2KssimawLWyGQavX1zzM5s3Z47dfe89QaMYdjqO5sQ6cvjyAnC9xAUu+AhGlKmLWbDtv//+9vNrfuHHyrz5S22vPfchbvACe+jh2bZ0/gqb2DIVzuxGrijDpajWFra95MvvwBVr370Pxd4hazNmrm8f33lnm/faPMZ8qb049wU7/IjP4yuds/6BLPvYfdbHXvEZp5/OnnLwDMg4q5dxPmW99ewrZ55lRx11lG266ab29a9/3foYv2Xo1pcA4kFgHvaOqbZiBecx/lqweKWvg/pCXix9RD7yDF+y+AaQl69YCWuX9qzxRcYvuRbrde1H61HUgvvozx+JdfbfMYybYLvs/ml74eXlwwtjX3CcxkUPxIA8Ln7GoBFy40hjOdOX67VvnHueB0FJDy/MXSDOesAVy2XmNYVY/OIXv+hX23JzW7mym0AiKcgSZEIimxsH29JimzFjI2/pmU4rkk+1J3XIALKeBF2GLljBZBX0nPwCWIWiU7xXSc1KH/zgB+2QQw6x+x98wIO27jUQArvep06dal895+v2k5/91E+ushzt7BqxyC7TTeL0Lu+BMALQm9Qyj/VRJYQYWoNFxGwVE5sDzwC0JfMXLPQaEVFotiMVystDY6yMf1Ui9hAYC+Tl04s103bb/Q/jMG2PPvu0vfLSYhahH7bP7L+bPfToXwHoV20rJGNGOcZe5YDwEltvShNGjpBwEAZwQvNGSJq32aLFL9jW22xqn8Dae8WKPm3d+eelixjEstmSZIpNo09y/xRJh1KN9x02OxDDxAWAuST6v9x0o30XI0UZoq277rpe65QldrIWuDLwkqQ7bRqaKIZzkvprITthQoP1ZLFEI5xhH/GCq6prLc3jJ+2QaIzb8EaQ9brCTqrPJq433e566EF7+OG/2/Tp0/0iYPnKooWPr1WcxnoPxIA8xn/BftyVxJfbg+qsjPiktalmArxLJZa3s8/8qgfNffbdyz7ykU+gtgto9th2wtq1Asn1FD8RSb229977MFFgLU24OKmvX3hhri1dusQOPPBArqvwQKyyUqiiBayRhFxVW4dEIKtThF+kICH1UUcfDalBld3wlz97MA69YXhnMmICPvTQQ5BiJiEdP2T33HULPpuBwwwum6gMIVpP56wOn81BpIs4vZt7QNOHYh8rXMLIz+xr7JlehGiMHSyW0z3LfNhAgVKmo8fSLAJPOfl09kX67JD99vTbJRWMzwKsWs/PnU2pEIXwmj5xBnicsPbWDnvskYf9GKpuarGddtrJfvWLX+JGlEL13GAHHbSv/fY3P2XL5iGrB3gzLCIrAb98IWsrO3ErWjgP+bXcrr7qWrZRZhMCcR376lfOhIijEavmXtt9j11t8YL59t2Lvy0bMb9AWLJ4mV3/xz97A+dKSDrkJVDCNspy/Ea/cvaZhHCstM8cfLCd8/WvWhY/ZDaNeO+zF55/AVeWWha4eeq93CpRq/f2oqIm9nB7bxtdM2iLFiy1+qpmReXguoRlW+cZESrhr0brVF5r71l/QxvM9NjCeW325OPP2zfO/zZxkzO29Qe2tZNPOB4tV6uX7OM0znpAG+CymGVVOrwXjqvMWNoXj+s63AMy/9ALYxH/LqObMK1i/KHjUd7gvCyplaL3b3/7O+7SS384fPmbf9C14b2i+7zp+0j+0TZaq/v+5veOz/5Xe4AfjDCC3hAwsNAvuAn1Na6Qw4CvkHdHYLg1ua4GeK7GI7jBlVvSW0lPqq91Bx90gHvwiacwCwusr2/4443aCHHlyWpX3dzilvX2uj/cerNbH2vl4086fdi6Lwu7yN2PPOKm4yHQ1tWNQVbeZbL9bvfdP+lu/PNNGDAOeUPAp55+lvuWukRpuautr3NPPfO0u/baa9zzs592e+39KbfuutPcDTf82XV3YwlGWrhwsdt1tz1cVarGzVx/Q/fVr53j+vODDpXzcBcPYqg1/7V57s7bbnc/ufLHblJdo9vrk7tiDDbPHX7kZ1xZWblLlFW5o7/weXfTzTd4C3BWsC6ZmujuvOsRV1NXGxyrrHfPvzTfHbT/nm76pCrfJ0jC7sdX/84/mTfe/Hu34YZT3cknno0hl3M//PEV7h8P3eu2+eBWbubMDdxt9/zTW7XL4CxOY7sH0IQMN6AEn1IniUd+qOLVlMSk70qizozZusbZCmw1zVEwEe1XaW9L6kKp7vbdd1+79dZb45jYq+mv+NBID/Rie1Bbhxo3lH7TXd32vvdtarNRJ6cUWUnzCAEWqqqJs+4d34O5pQ8bgRoiOwX7zT7MAzlHJL75C1eg/p3kr8f9VzshGAl6Adsn3U7yt16SXKXiFh+/SEiUpPIVO5eSjmse0ysg0PGHfcz3iJRB+74qQ3u8UhVr7tMzUexz7wNpFKUhhV3ElaFtxSKbMKUWH2NsKwYxRqOiySrte0vDwzYNsR/L5FdP8/qyXVadEj1xOfdQ8/utooQQjJVZG4CybKhmJpSjtJWQlI7wjSWJZq9s6ONatbUKtb34uPN8l8JaTNqhZr24avHnMdQD66+/vr366qve9sDHQ07jgD5lyhS/fyODHe1hxGnt6QFNOpqElEQwIjpA7XMVH197eiNu6b/UA0JGjRtUtTJEUprQWA/ZR7sPLlGicaUFPmg0oH1YZMFyBVIgiQSmh0AMDQ2ANZBCtpoAACAASURBVMCVzaJm1n4tbFmVWCULcGSOINIvpT7U0CkCVwjXZY2svdXBPNdoqyRMGr+avyKAHT7BB6Y6v+2i98gzQPzB+h5RFxbnH/1ZwopeyuufF7Xdv/LsV3cDxCxMhsJYAIR/zIugpLwSA66859GGb4T2iSwkS51VR76rbYNpiEOwnSiU2GD5BN/uxFCf7zYr4BGhBQmLkQxz8wSFZKTNBSy3tVGky2NAHv1LjZ3vEoK32GILtgeXekHYL0m1MtTKUpOwBnMUflGDOk7juwckCWhy0USmBZl+f40DTTyaqOIU98Cb9UBEySrpsRB+iYLSKLhEgCqUAIiWQ8PlwTgUcwU40sgo6RrZMEjaFRgr5TIDJpKq3p6sv6SmOgBjjUoZXWl4au6KxqoWkAonG4Gxvkd1ibwEIjDWOYGzgFkL0MCdLzCS0jU6L7BW2VHShKl26t3fk3/pNEAq2iwPiyw6YArzbJ6qI0xcyqNQimoAW870EfdkAaGJt5K29UOnKYpY30+Er5QmIGDnVA5YubARkVchJD1WSz0lF6teQRcGeoXgbvHfsdgD0kxrLGnM6pWQ2kaDWGqdaAUZSUvRinAsNjSu89vrAanxNAYExMUALMpN2IxWmZDeXolxrrWpBwYkqmJoVVVNZCImlkFAbr31Z1oeUBPN5CopNLH2GCdUBVUymT4Mpso9zasMAnOIkQR9ApgcMZKlkCVgBQZ+AwBXCXSTCVS/chkiqrH3DJBBmcIYClAjlXLgZpX0oBptuQl0o7lOGkGpo6N5TmCtRWikwo6uUTl6JorV1rpGErJeStW1gdV1KeDbibq+sV5xoJUCw0f5LysNyQWKEJVV4gTgnxhHW9u7UavX0wLaOUg+3J+00JAvNQH56MM++hCJm1sNQXVLtHr6rUBkqVRA5QnyJwH7KGRleOP4bQz1gBZ3MsjV+NR48ypr1V8DrHhC1urRO8LHaVz3QDRJadWtSU2DQhKCADoeA+P6p/+PNC7SoSgYEVZcqJGxjkanPKRgCEoCLv7rfF5ucVgUJ5hXvDpWpyXxwd2cxCdX848CSpRwsiC+ZgAqSgLoAkguKVqpgE+yt/ZnQRABq8awpAwJGJrPNJb1UoomPIG2jkXgXbwt4+/PdQLs4jC0uj6SwqN5MhJWJO0qwEUyyWIClbxU0VpwDBAIQjzZmJf5GBTJSO+OhfUA3N7liWDfvZ894SR+xoX+LgRk1NODKs+stkodqhfSN90wqBcFQRfmI0YN0YclpfQjdRvpJd/UOI2xHtDiMNJK+2hPSjNmzPBIHSUN7jiN/x7Q5FX8W2vCkYSgCSeSAsZ/L8Qt/P/tAfmoy3RJrnQlSMACp4mTCHEoMg+AOYv0qiSQ1YJPgRIiMJYrnZcKGHM6ryAlYmrDdhhJQWAEiOPDXAC0FOQhCRj3dHcTsCSLJClXKwJLcH20tabytZDU2NUEJ9AVEOulMV4MxpHkKzAvFkRUV6nBo2MCbJUn8Ffe6F3CisqTwdUQf1g+IK1CoK31h982L6VuqCL7RYpCeTQH1k0fJ9kHlRBhiMBYjsZcgGcYCWoREFakZH4BwmIjT3AKJQi9rAL3qSqeV83Yav8gDGgxGPvuGbNJApGY3aJtEi8ha/A14rWvAR1JRRrksYQ0Zn/nt11x/c5aoUUrfk1A2teTxbUmMo2BOMU9sLoeEPgky1NYDiPhAsa1ddXWRmQxkXlUYa2kBb4WdwLcboy+tPiTz63XykBOozCN+f601QGikdrO76NJikW9K1AT8BUbYpWito722zRvVeDvLlDWfbTtVldX58eyxrGuFTDrPZKQda2+6xXsWwflq326byRZR9/1rvtEZeqz8gic9coTolRlDbGIUH1zIKuOq/1ZpFkRoniVuCyjuXcT8Z7b21u5pgIAr7JuwlRpa6iro937U6cxAKtADV0KEYpXrWMMNkD7gGevMZA2oam+zjohE6lM0Xb6SQruOI3NHtAzITbDSJuTiAaYmiOLrygVHx+bTY1rHfdA3ANrsgcidXUxJEhik9X0EqxGQTKvss6xBVJJJBMPhqimJTmWslkaqVs1GWm+CbbIVBqSMRKt9qD7AbMKb8wkDS5am0i85rvicJcSc/jNUvE8FgkYkcr6PzHHRX1AACjqXySvhppHgXcgYYe1hHzaq8kRhYP6l2E9naWN1cP9kYeyLgkPthY8Eocpwr/LaE7XybBrJOl7DMhvNgbezec0BiP3PC0I41/y3fxrxXWLe+Bd3ANvR10qFa1cmTJIe1Ld5nBtSoRgnMeC2KtfmYi8lOmtvVadkgTG3npbkilg7GNuh0kq7rdKo7ddIq8CXTf63FuVtbrzfXBtKwmMZTEdgGXgoaDy+6HClOSs4z3dnUj7gLFU3VKDI/F2d7UjBdM/WJRnUG/jK0Y/ldry5Z0ehAcitjry++von54+AkaTVEacxlcPxIA8vn7PuDVxD7zjPRBJuh6gJdGF7/pcXY2NAlJuSmTqJKmzOzu7ASbngSeDilagLGNtWLH8Z29jjHQcADTGTPIF8mKiJGeBFtLlIDlDkhF/4g2S1OORwYxAv1gqjvae3+DSt3F4yGqrZek9ZCuWtWPQpf1o9r9RLwuEtY1ewYawFgH5gX6iMxGeichSSiVYpg+RoR5tQmdHm7e+rhR3LKrqIdT4kycRZIPdolJvxEbnYK0t3vh2LLlTNZRDH/0nFhRvo5FxlnewB2JAfgc7O75V3ANrWw/Ay+v3RIW0kpbFZtUEcYhYQSTgpVK498j+i5ko6SNDYZCFCleSoEBNoBxZ/6vvJGUrCVjfjoSoPbpiK1aBslTGxWX9e7+JI+xjFwAKLzWpgHU5plj+M7GK+R4Ep4gMZhFyfYwM1d9L+Fimy2YDbX6QuH5QYRlJVNUvbnzMM8qqYnFTR5hS1d77Vct6LFZyhh03Pt5iQB4fv2PcirgH/is9IB9Y7wcbvQQRgZjr6xOBZgbimWrAsQp2jHQaH2WkY4GwlK4ZYgzqXZd1dPewn4qVP5/T2RzhF/v88Ry+QLI8TipGNihVxh6rrLrfKkXEIAJ2GUmNqMaDgCxvdf1bnR+Ue5OQk9TV2YsFNVIykm+wTy3jL/la5zDcasKlCXU7dUc45h0raR9WUj7JuEJ54ywSnZf0+8S0mez5cPHQA2kPFPW+L9D000cYYobnggvjv+OhB956RI+HVsZtiHsg7oH/Sg8cd9xxuPKUwxndYOVIdAn8lOuJELbNB7ez3/72ei8t1tYmrKMTHmeBO+e32GprIjCJRpNITuRVEv/zoOIhkwTMxQuAN2uY1NIKAypua/kW612gLIlVFtn/XmIfGH8mSfAf3+ETdsdtt1Nc4Bftuaup5k033WENeLDUQCu65fvfb4uWdPlbtnX2EKkqYUccejAgXu1jCXz847vZwfv8Hz7IE1ls1OD5MpWoaQpbWk40tr3t/PPPt4cee8ovZPLo+N/OHvq/17746ne8B1g5oj1xDpJ1/x6l6PgqB+MvcQ/EPRD3QHEPROG5FMBLn3lvrq3lnZhFg3lXSPe6Jx/5p5tINLm+LqLIcb4/m3e33HS7W2faTHfKl89zPf0c41K9OjL9/l0Rj7KUoWhGr8yf54uOXgR7QggND/D2dhNSKwJ7MN/pGqTnt3vpG+RTLfvcP+6+XQzdbs899qLZHRzr5lVwChKVzQSRp35//bU+ytPnjjzJ0XyXpf5Diso21O0ef/Bud+nlP3MEzeL7SvfPO37vpk7c0M2eu9L3RZ6/r86e63bZcTdntc3ue7/4ZRCrjY34OI3tHtB4hLZ6uBGxhPyOL4He5Tf06kapz0a/RoQSySnRq0g7+S5vWFy9Nd4D0djBMMnrsUswboKQSmrdEldjg9kqDJPkzlRmO3/iI3byaSfZD67+sS1uDaRG7YjWQJqh95zjGtS3belWu/Pu24PiNCQhHkErbAOofsVexV//isZjIDnrO2pjzhCHwQ9lSavy480PEmJJ52DLUozj10vaI+NezRn90h2De6pg8WEP2c9/fo397MrL7P577rQlWEfnC4EVtTTqlZViDBuylnVm2mVXX2W33nS9XftzxXHWtjClI+lWoH6ftfnmii3BDQs+rkBfpmCTp7Z41i64zTwd6V//dosdvvfu9uUvHWPPvPCapTke6AyCWsV/x34PxIA89n/Df6sF0YTjC4kmVM+SxKOuF4+8eHQ1q02fsR77X0nbYdfdbUV32k94mr7itLb2gIBXo4CkgaDxA6i4EsaLQLlU4NdmjROIdNQrIhAIQ4jW5AriuR6whomEN4QgYzBVa8iuVoaLTzllDHHZENdnrNd+dO337cXX5noMHGgVSBcA17TlmLkC5x8ZQPXzj/OqQy9Hh3JEQsoTwDCohg+LpOHMh5LyAYoSixfiqo5zPx8MgvdBLKEDyk8oKmlQP/VRlqWthEbkXcV3dXWQF4Mq6+OVtfmLsa6ubbb9/u8TNnVivV3zh79aviyFAZvuroZATMKe8UsL2+0jO+xul154pp18zGftmWeehvwjoMWUz3EbISq1yCB+IyrpMtpTbTluWAlwl2BNXlZVZoX0Crvq7C/ZrPpKO/fiH1lGBmJcEqfx0wMxII+f3/I/2BJmpxCch+DnLWWp/6c//9FuuOEGa2fi+Otfb2NPsNp65IISp7W8B7RoC5dlfsyQBMbDGpZ+a+9YYS3N6/nDctsVDs2e/bh988Jz7bPHn2CluAsNDgJySMT/vOMpO/bo070r0XGAzze+eqH94DuXWUNFs11z1c+tBWawqooaO/q4U60jO2BTp7WwL81+64T3WFu7bjtkG0yeaE3rNNuzL8yxObPb7ZO7fAF2sMB/uS/TZQcetK+tO32aPf30M3bppT/11sxagyqdcOJx7N9W2pZbbWmPPPaop7RsbqkyvI28tOqjU3nJnBNYRF/xo6vs6GOOtcqJjXbAAZ+xe//xiOXIV6MQtkPkCftiYss0FhKltu/ee9jZp3/WPnf4obZi+UpfaApJvaqm2rrEiocVGOp4FiSVhsu2fw7b2nqRumEAq0laRUO1rVMLWKMeaKfrYwk5+N3Gy98YkMfLL7mG2lEKs5LcVd73vvfZCy+8gHoNIxPu1ZcZtFr5TcYp7oHRPeD9g6OpJeCAXtA63xqnb2MzZszwALr11jvbh7b9kH3lrJOtBRflFHGD/3Dtb2yf/fa1JUsWWRfIffm3LrNd9tnJjjr+COvKtdtRp33RnnvuCZu53mQ7+6yzfMSnpYtX2AknfNbO+cpZNnECt62pte9f9iN7+eWXuc+Q7bjDR23OnNkAawHwKrE//PrXdvAB+9v8+QusacIECDiWe/crBWU68cQT7eyzz0aCz9kVV1xh++67r81+dg5+xAAxnloyapZlc06c/7Sxdcky68b6ecP1N/Cq588cdpg99Pe77d7bHghAWz5OHunpAy1scSwub2y2w475EgU5O//rX0MfXYHU3e19imtDa23ZrA3kc9BvBh3b1ERIVDGSydUJlP7Qhz9sd13/R/y7w7XB6P6Pv4/ZHogBecz+dGug4n41r4QI4KWA4KP8SG+68RY755xzmBCf84drUolARRhmi9/iHhjpgREwFhiJb7qxst5WznvUWjvm43PbaU8+cY+tXNlmm22yhbV2S0E8ZPsfeqjdeOONPjZ3c3UTwqGzmiriG8PONSj9NGNy8syZtu2229k/H3jAGqoYgwDea6/Nt+eefMTSSLECxhzA2ZxqtE033sTuufdvYF/BOilTu7EKA3HDH/5gr776qq03cx278KKvejC+/Y677Yorr7LNNt2c75X2vx/+mCcUmTv3+cA9i0dDACmXrkpZfkOB+cLzc+x//2cbOLqJAQCw1jS32K47bG9PP3S/JwMRb7eVVXi/50pU0Q2QomCGZdPWn2UXXnih/fm6P9qvLr+cxS1BNtCb65HLw8Il/+umRiRxPY7cT1bV7Z2t3JjQjnWN9jSLhG122oE+isfceOuBGJDH2y/6H20PxAyo0ebMmeNdRp544gn7zbW/sl/+6jd2/PEnG66kcVrreyAcBEITv4h7/aCoZo84neuGiQvAkWaaqEXv3XQz+97F30GAHLRLvncx0i7MVoBYtj8Dpg5Ya+cKb8w0gFSZKEsankEBQKGxOejgQ+2S715s7T0Ze+W1BXbciSfYow/eZ888+TjARYzhKdPZJ4aCkksq8Old3LbAJk4mEDz32POTe1iObZdZsza1D2z9Yfv7/U9YgSoLfE857VRb0boSAM3hdpWxxYsXezU0OEqc5vCHRqXspEuGAvM7F19sX/riUQB4uSVRZU+dtq7dfeuN9sdf/dwTdyATUw9CMCKClxBoIt/TCY6n2B8utz322MO+/a0L7Nxzz/cxBERgkiW8YhIJP8XnXLbX0qwhovs2IlkLrDOLltjDTz5n227zflO06df39lo/IMd0B8S/55j++dZA5SPJWEXzuRQ1mkgOJBk34Et64IEH2h+vu84uuOCCNXDzuMjx0QPRtKL38kAaZc+2ZSJMWwh5BaTBAei5FN0on8FAy0uvCJNEL2rvaMXKuMEmNU6ROSGamFpPvemlRe2QMCa32247H1VKoRifQ0rdYfsd7YjDDrIH77vHHnr8KZuBZMxuK1AoNq+ctdQ3QzgiidVsQmOTXX/jX7wae/udPm4nn3ySPfbkHJtAyMj77rsP1XHIDkac4zoWoZVoiuEnATAD8BPzWAmkHM8+8aRt84Ft2C/GAIwFxKIVHZaGuOMZJPXe9hV27333Q/xRYhmk4wSGaxUYv9VQGEzW1k74SLXpsMMOtd122832P/hzkIrAac1ChYtoKoQitFM7QmIc7WXhIVIRgfXlV/+CiFGNduB+n/HW6MWPq+/EOI3pHogBeUz/fGuo8v4p54/CzfDacMMN/SuBr8aHP/Qhf9Nzv34OlIGZeIW+hn6CsVMsY0TjJXrxUYAyIruV+VCLry16yZZiw+Tdj7BDaG3vttNO/bJMm22/vfdCKuaEj2ZUYq/Me9X6cr2GW65NbJoMeBdQb7fbi8++YJmOLq8C//wRn7ULzj/PGhtasINK2mf2+rT9/GdX2YIlS62heTIkIrB/AWLzF7wKkBM3mfIFyD/9yU/s+ccesY3fM8vOOPNMJPc0Y3t9e+973+sXniLfyGNolSGk5Gvz5tstt95h1aiqM+lgO0cBLrKEJr3kez+0A5HUpVMWuNZX1fryZ2y6sX3xS5+3M844wweBSKKy7uruQjuAzXgf72wQ11U0hBGshuycc8+zD2+7DeQpMmMjofqev3CB9XZ3cC2LF+wmFUNa4VAPPeQw+9HV19jVuE1tvP5kljoxIKvLxlWKiUHGtmP5v1v7iGwhKEfMBHqJcCB4pfu6/DEoDF3/QN4TNfTAbBCRN4zQLPy7NYmvH5s9EI6ZIuaOhjqRDEF64XrcwYft5Boby1nWTXLlNsMlE1UO+yWIiMrcoUcc4u59ag7UGnCI8Lr5z3+CYKPKVSUbIW4ucZ2FNvfHO//gNn7fRu6sU86Gg4ObQDbSn+t1dz7wT7f+lh9wS9uXcmXOuUyf+8wn93LX/O5GJ7oPkW4899xjrjZZB07ySk1zjz//krv+1z9wrz13t9txh4+56TPf635y7XV+LPfmBlwHxCWf/vQnXWVl0q277rruvPO/6Tq6M/5JUP1ESNK6bKlbp6nWIbg67KjdXTfe4BlLunnpvp/9zF6ujvZB7elYXbgbbr/DbbHl+x3u2E5ez0eecIrrpJzBPKUOUu98xt17263uzgcfch1DA+7ww3Z3KYn2NpHXNPqj3sH65TbfZpY79fRjXO+CV33X6l7t3DOmBqEjxnAaTQxSorZohSE6ueJg9FotyrggCB02rtYgcWOKesD/+MMpkG1W10GiGVIK7UyGs8Rqs9X11tp0LJAc8/j6JFHzSjiuramz7p5W3OXkFiefXbGDoKvWYPNqZ/no4geMjNcfjitiOwWc2NrQ5f9gqcg9Ai9bWLCsbIgLdSuO6zz0IL44dmj5hBUX5Bs4GVs/LnpyBUp5L3lyDBHhiU/9QbGoskVCohyN5EA9zSclje7RY1nXReejPCXDPvqhF74srkoqqE8Q3znhvZ9Vfo3/q6RyDd9pWY8NWsDT7UNkQH5CQ7k5fsfD9Vb96MdC2F9SNpQNcR0+2PpY4BwW3vmwOyQl+/LjNCZ7QPA7ceJEa23FaI+U8MGyMVSYNm2aB2SZ3wuMK8Og4DJIiNP47QEfBN2n4Hf2gQJWk4Jg6UxgUX7l47PnH15l2lrNxfGhcdsD3RBlNMIslYTBQgQyJcjBNQByKW46Q+ytlqCK9a4/Gi/+FQKZQihqLIXjCYJJb8FcIqDmPRhe0SIQ0hANT389sYaFveF1/hAXlHjfJWy1ATafVV85rs9i9ArEDp1QmYrDrBd5g1v4xYDGsripo+Rkfq3cRc+Izqtcf6GO8111LwtDQTotGChMQTVE6OHXBMoqDwY+663MH5OJma7XF948qsrWHGDnWl9/VUVFsP88SH590b8ooIe6Nri/ro3TWOwB4W0URlOGgAmBsQjYly1b5qVkJQUM1zGd0ytO47cHgilL7Ytmpqit4ffwq5+T+DN8NJykgolx1bzjt7filo3ugcYmOf8OYfjUh1sQlk/gSxI3OVktp4jx65OYQKJpJAoFRaAJgUuYAyMmoZbyBm8JzkXQ6GVPXU/ZKktjToJ2BFEyxPJWUL7EsBgfdxhgC4fmsCSJFK3CBPyhjRjfg8v9WI4QWuXwPVqw6tZK/l4qVGjp6xwCaygOFzyIo62OQlkF1UJa1t3wRw7L8b5M+uYjVgV1URGYc/GVNg7fULdRbVUqMZR1mi9stZME/qqDzsZprPZAR0eHX1RKCE4IeAXEkpDlO1dVVeUlZcUdlXQcS8hj9Wd+e/V2w77Hb5E/mtlGZYul47fot3F+uh1ijJaWRsAYpTP+voKW1lYshlO49+T7rFyWSQKXCGAkIWvMCfg8wOolKZM3nwcQ1bHwnKTM4PIAnr2g6cEo2F6JFpQlvoBA6tXZQF9cagPhbRKgnZeCvYABIEsE5bsD3VSeF0CH6+BL8MclyYrG01fNHwzK8esKJtEConsJGWH09G0pULxyS2IvDcFdRasegs0y5VM9Qgz1ebjOawWQhAe4mt3noDxdSPlsNvs6DHKhmiltQXmJ/JZF8SmVvMA+TmOxB6SN3mCDDbyU3AcBUyIC3kWLFnmEFkDrmMTnSG09Fhsa1/nt9UAw0ejJH73KHvXdT4LB/LlqyaOve3v3jXONjx5oaWmhIQBJAe/asmDfs7ICLmdiHldX811yLNLwsOjqmw2ASMyLUM6D8sg4CocaB8Nj4QFl91lVhP9SPG4pkxPIkMF1YcYoR2m48HQlSX+pz6f8vHye6KZRnYSTHIuOR4dVTy9Jh1Iy3wKVo6qq/CE4FtveqKk67uVj5aMwLyArb1iw6gGM+2NeCo+6w9dDd9GLWuseFKNFQHCF6hNlVplxGks9IMlY/u7aOpYvekLSsFBaEUaUBMZKQuxIeh5LDYzr+q/0QCiN+FlheMoJCwi/Rzq7Nyx29HVvmDE+MQ57YACCjHL0p3nCKuUB5mokZceYEZHMkCI2BegVjC+/MSoREQDRRw0dfff7tpgme1DUZ52TJBsm8g15EZSsHFe2EonAkX1LCEjBSJSUrjIDZbhK8w5PuEHpBoPhHnPCi6TkA90CNTSlKnNQlUDCZrPXUUnt7Aa1Us1VWiJQPVNeUGeg1FfKN8jXz+9r65NuwysATb4HOBo1OdQKKJuIPfU3eCWCigd19EeD47qDh18f/AWjt1IWGLpBnMZkDyiWtrRJwmBtD3sra31pJIi2VrvSZ3fjcC+/PEnN2k+O03jtgQiQR6Ybb8Di1dOrrrqHt/7Croj2uN62ynu8duFa3q7q6lqCHyy32voyQLjGWpcBHaBURRVqVgBZkYuGN3IFviWKmMCxQq2X8hTXSJKu9lgFblLbSk1dgsNPabhNInXtEMZSXjrE2lpDtAw1rgdlUgEJnCCGnMdMqyTtQS45AOUme7G9FeLKGrAWEVJTZntlHflLrW6gG9VwgTzyMQJgUR37qEq6CQUI4gpYiXtrbwb/iGEXsip18Fbf3BWI9/XX9crj68p7cF5FBSrxAsfVnuBFzbmHb4d03FJHl0EPij67gIo8wbHq/kpv/FUoJXJVAr/o5BALnmqMySdZBc7JDUOLiYyVs/4Swlr6ffE4jcUekAAspjYtqkQZ69FWyKy941deecWrqoXYscp6LP68/3qdR4y6omvfWP2lCSROcQ8U94AicyruwRChEqVWzaahxdxkM5v70jPMKZzwQqNkVo0rGUBlyCfkComYpUr2UnOUNMrIKzCOBD8d8oMvWjgWZQ8/eotp/1kArDepxWG54iW4qlQkJQrpJ9Sh7pbye8iBhKxr/QIzkkp1varLPbVIEHdWICNHRmNFxlnKqwu99K8q60Kpl8O6etV2UVN0H98n4Xv4Wd5esj8XwKv+ZcRU9kVoAZMY9G5e/Vp0cEiUmZWKUekXM/RjDMj0xdhMwtlNN93U223VEiGs1KtWQvW09j0ExkoSpeO0NvSAJrJgEgkmEk0KWvmPvAag+osmmL6+jJ9P9BpUWJo4rb09wM8fOWEM4uEryEtVl0D1uBwjL3FkShIG9LBLEdh0kcGPKoVaFIAR8FfSKlGIOZu1XBpfTH0EnYgn4TmmdZ2iGvkPPm4xFJhEmiggkcqPWEDvAdV7NCvWccK/POBRGM5X0FsKvLQ4SFimDwYsGUOhFQx8lEMgV349Bh4Neek7r960bsp9APhcVmAJGGvYD4jOMzL24sIBOLghntazlKcN4uMWlMMTyjtN1e10WYaG8UFt8ppm9Q/3UQ11J7+HTIt64LIWEFs/ETN8xgqD1ttLUD6Os9T0UHWGDfVXxmns9YBw8gCzmAAAIABJREFUVixskYeThmCc1tIeWC2cRge9BMGEA+9wMlnOZKQpA27hmmDB1gVtZol3NYnTWt8DjBkBUbCwE+QCMhpH4RiSG4+wo5xAD5JOS6Fg9eeITtLnY2pLhoX7oBohYEDf5ToVFCGQJJ5EAMgCL6TaEllAhXik8qId3mD3NgA+Q/UtQOwjjGOqnMWBB3rCKNZAMgL8lSQCWxl/M5If9iGIB8ZiwbHq6qSPg4xgbdVVScsSmSlPoAjvZsW+dDrdb7l+CobyUq5bWYzZEppVvbqdPLRVW93l0kyrD+CzzvX2+Db1aaHBiQxk2bq1mh5cVU6AiVoblAQPb7bqrvqJV1tikhQPftVAXOjY5Ul9MX5SDMjj57dcIy0pwYZA0oT2OiLjkQ74hOtqU0wgmg7jtNb3gAcy/ZH8FoqX+ur3jFH4AmBeY+xzBWrsbHubFQC3KiIoSMJN58K9ZYByEBHT78eSfzBaIOqLt5wKUnQ4kG+FWELwYH/ZT2ql3JD934bqBg9y/g8YrMVCbpDQTSqAYyo2SP5uQZ2F3B7QCXvY0W2sR4dTKpUETIP94zyaoyoWEcECg0wKwZgixCKirIhRMnlcWWhXCfvCjrCQvh4DfVbZUGG9xBMvA5SJP2EVKfaL4fRupFi5PPX0ZP3CJSOxup8Mg4FluAA7AT+3pO78AHvKtDdi0BupYfxpLPdADMhj+dd7h+ouUJbhn7Y25M5SV0c8WFIx1eo7VJX4Nu+2HvAYKTATSAVqYQFjAG4gCABUCoiJ/0LgmscqW8JxFRGLyoja0NMn9WwB62zi/1JGR2sbuFZqOUB5gPw5UMgbVEk0RMIOJG+CRXBOQqq2UgJPZdUjkLVl4hUk9l3TMBHyVUf6FfuRe5QFyIz0rEWAks7qJZQu/jxozU31PkdWMZkxpgpU0QFwJwHS3q5cwO1BLfp7OI4hWyUGWD5WBncqR3Wf7k8jCGNA1tPGHXStojgRXJK1i9qplEQPLr9iqffrawJ6zUSK/eHKau6Z9GBeq26VkZx8nMUTEQWk8CXEaTz0QAzI4+FXXJNtYP/KS8jsdcj6Xr6lCXRyivSUUsT2OK29PeANsiT6RgDIRy+6Mq1IP4t0fNwXPmtViZQ1VE616dM+aDUVdYybRtuaqEg3/fE6K0P9XF2FHTSi4qBXX5fadtt+hD1kgA7gqkwGnsVeAFfyxlPS/wZf5d8bqap1xN9W2eCMFmkGaGY7fOzjRJpaRujHpC1Z0mnJRAPhDJHOayX6RnUvBuMRUJZ/tWyuBwb6PYAOIqF+8YtfsMrSWqtGxJ2xziQWE5Psibldlqivsmt/8G2rL4VxqbTRGibPssdffMlHa7LeVkv099pJXz3HNn7/B23ypAm2wfR17O933siipAtL6SQRpTJ29hcOswYanipvtury6TR1mtU2rWNHHbS/PXn/38DiMuvKyQVquAuCjoj/jo8eiKM9yfFr7UxRgB5FshmO+uTDNxHBh8gzxS/Uc8Fx/vb0pl12YMhHwInT2twDijVExCLCD2l06KWh01zTHB5vYwwtdg/dfTP4uL57et5QEJ1oKOvu+vNv3aT6WnfGOZe7Torp6On15ShDui+IJrYy0+PLfGnR/GCAFjhf6PZl665p3c8njVXe9CoE41Y185GQ+NPf08/bAFGdRvKpJp2ZDv4WGMcFHx0qaEuGd71y/pjOKY/KyhWyLtev+/e6px+5w82aOVG6APfSi8scVSZalC5d6i497wT3uSO+7Jb2EKCKQ4P8feWx+902G85wP/zx5a6b0tral7vutqVu70/v5Pbae3efrz/PE8X1c279oyup3cC9QiMXcyJNdY7abx/XjOZ67isLfd6F7Z0+SpV/XOM0ZntgdLSnWEIeH+uqNdaKAQWHJ3V2dtqhhx5q9fWN3hK/jFV8v6xd4rSW94Ck2tESsmRUHUOOwxp5vfWmoy8esHWnK3ANWtlc3nb69B524YXfsksuvdwWL4WlqBYDJVS8aQycqqqDCE3VVdX26pKX7Z57/4Y4SHlDlBdqrVV6ICTr/oHfsP8hAtPlYcWzPIMkGXemu6wPKk+lAe1R815TpXsqaRpUaXovfkVjPJomxYoV7JFv8cFt7YEHHrCJLU32jW98zVJkgWjJnnppnj05b5ld/K1vWDOCcXKoFRfSDtt536Ntj4OPty8dfTTHMqjCW6wOHvAbrvuVzXtlrp181oXW7TXoA7bRzKmosGvgA5fVujxezL74+WPYn66162/5m/VQ+ZamBssjca/S97o8TmO6B2JAHtM/35qvfLmifmHdev3119uRRx5pc+bMsUMOOQSV4oBVFFu7rPmqxHd4V/ZApOpdXeVADrisOzrbrBRwharXq7STshwGEkVGJAtkItx4TXeOBV41+8pKge9vwe6++y677/772L/FKUg6Y3IOYt0se8IAkIVigLIQVi8lTz4iVTO5hdfkra+eYClMtwuQaZRXEAyDPWE5RQUArItCgzTPEBa92G+WkzUphzo9AStWshx0lCUWe+FNUybZL392pd1+y/V27a9uso6egp1+7vl23re/YxMmkJciy0vzdvNfbrAlbWnbfZ/PURVU7IoQISvsPJWj+GM+/zn7yRVXGrGXfXUWLl2GC9UQKnFvh4aRGAA8eSZq7VqrqmvwVtxqezkb86Hm3tcxTmO/B2JAHvu/4RpvwQ033ODJY7bffnubMmWKnXDCCXbmmWeu8fvGNxgfPSBOfI0fCa+SkJXmPf88kuU37KQTT7YJE4NjFQDmjX+5nT3aEwDLITvp9JPsxC98yX7761970oTvXXyR3/9NJmvsyKNOstb2jE1frwmAStnECdtY+wqzjiXLbNrkemuZVmmPP/OQPf3Ecttzl+OtC/GzXz7Mpe128KF72IYbbGLPzX7NLrroMn9zLQxaV3YjwR7L3nXSNt9sK/v73//BGiCYIiuxBlfKywgLYGZHB1Adso/v8TE7eP9P2alf+6odddIpdvY5X7UpE5v9wgPnZa8hePiB+1mXJG3q9Ebvb+wSiL3RJjCuTZvO2hiT6qw9+diTrAsw6Kqu9zvjNZRRSb7nZz9pBx9zum30gZ3t4IP39usOAXEiXCz4isVpXPRAMMrGRVPiRqyJHhjCX2Wf/fbzk6m4zSVJbLvtNrbOuuutidvFZY65HohUvaurOGCGJLhsKdSAwMh6jRtaqi5r+d6llmQ8HXzowXb88V/ASDDAr9tu+yvbIgfb1owvkSX84Ds/QDLNWn9v2n73018CQCV24EF722577Wdf+cpZ1tycsvkLXrVTTzzL1ltnP9TAGp7r2hVXXG7b772LLV6QtU/usD+4WWGDAyVWX1JhP776W7b7Hjsi0d5hzz23GC049acu3VhLX3HFVXb+ed+yK666yh5/9Gnbc5997Y9//ott/cHNoBTOUn4VEjIyq6JaIfFbtgNw7rdvX/wNe+KVE2zZ8sW21Zb/S3Fs5SBB2wAq5VpCQmAZ3dc/ZGnwWUpyL9UKsCHZsUTGprZMslJCVi5cvMSG8htbJdtCuVyPTWrYAAn5Ndto4/Xtu5ffbh/eeWPr5hGUDqG7myhb9YEF+Op6Pj42NnsglpDH5u/2jtW6NKRiKlGYOlA5KT0caQrqujjFPRCoeoumkWG00bEyK3T12syZAAvjZs6SVwCSJR5s5jz3qC1etNT+b8/P2MIFCqxgttPHP+a3RsQYOKFhgnXAqlXA7UmBbxJljDu2TlqQPjecOcOuu/73vvNL8Yfq7O61O++4yfCYsjyWyitWdlnKam3mujPtlr/eaK3dWFgjoSpaUk9Pxh586J/cc75tttk0O/nk47yP9KuvzrNzzzsfS/AZ3L/S/mfb7Wzlyjb7x30P+Ps0AcaZjMRakvyhpXKuqgUd6+zlV16zlqoBe+HpB+2nN/wJctByBGP08xWgbk9nQNaVrDUHP4m8twY6AWpp1WuQpAF4xQ8YyvbbJpttEar2+6wOKuN096u2ctl860T0f/W1V2QwjtV5oGRvArT7MxCUxGlc9UAMyOPq51wzjfE0g4CxJsoCdJmiz1RYOvlaxmlt7gFNH3p5FB5JMsDy1lf4H9dPAMgguoBKUmyPGjJlgPN6s95rV155lc2f/5p984JzfCmV2CT09vV4n/eOrk5rBLAKoFB3J/SRSgy4ciiuzjjzdLvrrr9ZZ0/Onnhuju2zD6C+ZLa9Mu8lywDaMzfcgjEK81dJpaUJItEwgRjvWcFkmX3+iGPt5ZcW2EYbzbSddtrDXnt1IQxixvs8+9zhn7NsvtfSSOSFQtYbMp566jGQ/geb06lUGQuKERAsQIO5ZOEyu/Kqn9uvr73GTj/+WDvzlNPsxXkLrLwOsE6Tt6bFdtnt03zuss6VqOzTzmrq2E/3RCgkWMSeefY5S+DvPHODGXLUhnaU/ecqZ7pVfWOT/e53v7PvXHSOPfeMNA1k4ZWGbKUipDkOCor/joceiAF5PPyKa7INgLCIQSQVRHyr1dUBfaZieMZpLe4BHwCi2DCKvvDYDID50E0yXipHuk0izfV5xqqAE50FHkTVFUlCNOIPPGlSs98zzsM5LX/f5ubmgGgfAK0sr4QVDtIQlcc4LOSztsnGG9vc55/xEuy8eSvtU5/a2/Y/+ON2252/tH8+8rBt9f6PWUNqHWhfE1bbXGYru1+BEazUulE7T2za0G6/9T6uf9ZmbbyOfehD/0O0qpxNwyf4udnPYEAFkUhICStebrWntjaYJgWG9Q2oqofylgZdywDES3/wY/vWt39oqcZJdvJJp9ouW86yc48/OuB5b1yH1UeLbb71h+w9mzTbn39yIex2GevDkrymCVmZhUvvsna7/k+32imnnGgTGim7FGrNvl5r60Ktj0Z6sCRl7996Ozv4gN3som+c6o28pKOqqgTwRy+E1uKhOF6aHgPyePkl12A7JCH39vT4O5SGEdtl5ZrwVq9xWqt7wGtJNI3IWgvdrygnPe2kNob1StrSpSstAd1kdQ3hH4bkRoelNFqW4447Humz23bfbSdKGGJ/FsAFkF956WXrz+Ytg0HU1CnTrLW1Fc1vlz3x0ENeS5PCEvvUU0/GIOsiq6xq4soEUvIu9tvf/9SeeWEuVJaAFeNTIZTnoyavrIOas6vHGpBav//9KwDel5CQN7SLLvymbbjRDIB9BRF33uNJb37wg0uxAi8FpNt9vW+99c7hn1fHfDsB7CVLF9oB7DFvv+OnrKaezWv6IQXt50+/d5E9dvedttcBB9rchW2GE5dVA9Z3/unn9oefXWjX/fZnniikG1Bewn2PPfVrth4GZqedcKRN1AZzbsCyuYJNnTHRnn95DpG0yqwG9f3XzzvDli2Za7txvxULOzxTmQ9Z6fs+TuOmB2JikDHrU/5vV/ztEIMM5qBfEEmICBQG8y6Xy3syApGC5Aj3FKe1uAc8EQcv3rOeHCQg1GiuSwXHBwbdlw7Y12GE5BIN6xJ2uE6hhx2aaTe1psYdfegx7h+PvRSQYkDzcc01l7upEycBNeUuUVPn2iGjuf3++9ykGdPdmaedzn1EB9Lu8oWV7g833+Jmbr61W9LZxVhkXOYXu4/vso374613un7VC/aMl595BaOHclfZ2MCyoNrNefQFd/31f3APPXqP+/gO27oNZ05zN938V9fdJ2IQyDYWLnbb/+9HXGVFuZv1nk3c2V/9ih/jGv3LOzo8SYgIQw4+8FMhc7a5DTb5sJv9AmQhPBDpZcvcrIYq1+gDUFU7q53ufnHbAwFhSt8C1zfvAXfu6Ue6dddpcqXVKbf5dh9xv/79ja6zs9sN9q+k7E537CGHU1eulys2RCDf/e6P3QAMIN2Dfe6x5/7pNl1/A5Y5CffRXfdyr7X3+brFaez2wGhikBIdEEdxQ0ODt2yMEk303MVxGt89ULwNPPJrRw6dQdsLSMhlqAvlGuL3kXkP4mZXxkqz8T083rx1Gjx6IaTlvZUSUi5IMqGuydq60ajIyEARi0DhLt4UwQmCSC/XWV6wU255jiEQWm0Ze8xIn3kMj8uS0F4iXPeTjUUgFJJJ1LgEZUA7nsCH2AejKEBPiaGX5MNspsvq/S4KIRJdjVfpJsLdlHyC/Ki7K2RNTeqAT7qxqTYYt6jU84NlSKHcGXemCqJPRc7MWaKbVWJJrSdB0ZhEEztE/QLKEmkA8JQulFt7ugKVOsZaZCxgwFUGqQlqAOuvrqOlge5AVtEVuSWsM6iUoBw3rTzUm6LVUV0LWGCnKtRfFNJfR5aEpUvTnEtiFxb4QffhP11VynqGfXMrT1l/FZbjKjcsg7c4jcEeEM5OmDDB2tulfUG5pLWFPkyePNkWL17sDSrkNwhQ+8k3PD0GmxpX+e30wHAgdTJH6i/R3K8uKU6r0uquWV3++Nha0ANEfvDGWiXysMXeoFBh666zvr007zmrxJXHRILBcBoqy3lAKwNCSoakyg7GmN9q5qWxJR7q4JPfYg5HW9CHOh9EdhJliM4JqMRiHRz3IR/1LQQwsMunofBDqY9QoXvphPayg+SokY6EZ8OjI29hNYcPlOB7HI1/3ZkdZ39OMZL98yEmErW3pNzzh6jcMgk3+EB7Pbryl2hJggW6WL/Cm8Pm7duv+uuehaAzOFbiFx1DfPcRoH3j6QlcqdQkNS96Ln1F4jSmeiADHdtGG23E9shSX++S/v5+J+CtgfdNUk+UBMhprATlkB+n8doDPN1+4uJds6pPQewcPffFKTrr5wlZ0XqSfz5LlIlmt1HXxF/Xgh4Ix0N/fzeW9xWwRxFIon6qdfUtDBpfCMdHqWi6JNMRKWwoHE1+/IR9NGoMCZRGj8Ega3A0yl7m4eq/l6LqRzUYaUb4jLxZ1XjmomXGm2VTC1cpd5XM/932v1m943NvrwcU2jbgeEBjIrV0AnWk+ImVZDkrc3+J0QJjAXOcxmsPoAUJAdlLKr6ZISCPBtlw4vUrdABZkoKXHqL38dpFcbvetAcG8wWMoJB7KzR/IPEhBCpCYIbFvNi5yhMRX3QIXRo/4UcfmSn8HEmiw+9FSBcIt6vOQ867VgVrwzet4Bo+GWmVRqTm4IbFWqQ3qkKgm1Q73hxU/SM3anky+n5vdI/4+Lu7ByQMF4exTUSuLJKOkZZ5sCo8GCtpH6UKB/U4jdce0ESglTwPPKv1CIOL5sLhhgfG1eSJluvhNV5NOV67J27XW/ZAyBsDExbkHizu84QGlLYtFbrGDUvAkUUwE1CU/LiJwDk86I+FA0qn9DG4IlBYR9fq3Q/FovKKz71Tn6NnJVAsj66dni1q6TVKxe9BvtHPTdTe0e9B7tWD9uvv+061PL7Pf6IHhLkzZszwRQmYZVPgpWABsV4RCIs9Rgw58R7yf6Lb371lBPtPTA0s16PJJZoQimvtzyHOBBJNmMNfE1317m1jXLM11wNlinSgfVVWamX4G1chKPf0dBAvuwcNG3614Z6opOehcL81qE2grPUwM4JqAXD5ReJqAGwVBAt3TgMxc8018G2WvLqnAGvZYFeHv6q6bDP8e5g52vtdRfpdDYCP3scOqhR1xuru/DYrHWf7r/eAtNPaR+7BrbSuro75lST99cyZRBPBoEuSsk5uuumm9uKLL/pMcRq/PbA6A61IDTe61VHe1V0zOm/8fe3ogVIsqbOwRtU1NmB1jP9uazfkGTVWRWSEfkg8Chh5yU/YSuCXAmwCYyxAhO8yxCrD6EsGUVEKba9e33m6NsSgYoCKVN6vv+C/dyTYylm9RLtKrZCcoy2gt6xtUfvfMm+cYcz0QATIvb29tmLFikBCFiBLSl62bJlviPTaMuiqrmaFG6e4B+IeiHvgjXpAxn3YnaThYq6srEFKNlt//Q3sxVeeQZ2MLXEp0YuCaWYVXcoQVsVSQgPHALPAK9gTXq3CxQOx8oyAXLFQ/UZVe2eOh/X2NwvqF9Wt+MzoukQtWcVIcnSm6Puo9hfLxKsoDd7o+vj4u7oHpImWIDzp/7H3HQB2FVX/Z9++LW97SbIJKZQQqqCAgPJXQEQRlCICIigdQheQqvxFPz7+Ku2Tj44QxID0DkrvgRBSICEhIb2X7eWVfWXn//udufP2vpdNstlNweRNcvfdO3fuzJl65pw5pQ5ORggp1ZzIv+ZFZMxAZJwT6PpK92MOuFwLbOYWgCITvDERC5eUWGRMgBYunA9hLqBaFTzomaVqT4RXR2bK080OzEKzWRuKy/5oUzyTtU7YHFzd8K0N0jQyJoiuvmkthx7gTjdhZv5rK6OHXHJRX8EWII6llDUpZYYAz4j5QHY1z5BdYLxDzl/BeuRA2oQtQMl7/+aMcgYcL7mQa4Ggt2akbQgBwVRUOslqtg+MfcBedRekrynbRIowTl/CilydTjH0eRXpdFPA8RjNaniYyNP0oIEaBliL0186OrHP3eqafvvq5Pw5VU5/vJNq5Rrnl3DlvX+c8727/OV0wEiJPz91voLA7935ME3LwlCZ1qChyZqdbe+Iag0N6kM8zDzsPCJHEhsbDynH6JSCvpTXsJnRwnJhi2gBCkKqMJdDyFtErXKV2KgtQPUVbs64wHEBoWS+G0AbteBc5l/9FkizUwFqBiVHhAsvyCYuxVhsDMxS8by0E3g2BMtYsGYtLe2NMGoFBwvwmpTEu2gnES3VQOJQpSrBNwlpg3ApBp+yxWktrh2emPjL4JAtOXwMjsvHMUpkR8rDvWNaJ6DK8dvQ0KBS4bx38RzjfiLELZbuvRvzlCJ35SUhJes2p9yocmPC/QO/KQjmwcpXQgbUWDmcMlj7iiO9MiFhQCSA3QnrQnMhahVMSd483EOzhbpjXxGBNa1sLmySFujekm6S4nKFfNVagGuou7ph48rgXTB9aLq4W6cJQrvi5gXU+CEoAF1BcmGrbgEPC6eRMRojz9qtpPBfPpBOBH576UCJFHIJmHCwhqkmKGvLKyUYANJEZH5+AKY1iVghvAVBL1KdeTCZWYHztS4gZhd4lBaEZHcM5ilDcAYRwdk1ETHVR4hciYCJOP1Gjvie31Ga1ZkHpmqno3IdQuXGk4ECNgwc70TqpJqZ1nESmTdlbHRjCg5BAcokoqUALJEqES6RcSd0tEtD8N7UifmD72lpq6gQFrpA/Xe2w0wxqGDOIDIMKFwNC03YlKDtIK1ukXFP/HvXErnfLbEFcgh5S+zVPtZJ11T/wurlw4WMgV5quCh5YgZpBN3H4nKfbbEtQDTDgdQlJ5x4rNTBnWJN2c4YPztLsGCQVAI57r/f3jL2kX9IJ9jObR1GwuA684svZs6VI35yJChnPHms6gT53TiTJhJMAFEz9wAQeARIMASbzkSMPG7zs5GdDAwp4SOPhIckSLAyzm9XgUicwVlJcr+OAu5JhoZlsDyLfLvk5RdekCMOO0xVRAcOHCijR4+W6dO/0HyJfKfCX3NZcZGUYfNQBG9QRXCvOKi6XA773oHy4P33yoqGNjWByS0vtzFB+EJmOyg3Pn0OoNnlwtbQAhh02AgaU1lZqb8uuPiMyNzDFtcCznOT8/ykbm/o1YYenrwrHmnXOPiqNfBBm/b2lLJDZ4trk1yFetsC1vuRpqb7L14YE1VVhbjhmGnAtcpMGPe2Ccn2ZvksPNJhE4bWGy//w2w7osScdeGv4eeJ3qLsKy8LeDiKmzi8PTFxZ6wDFz1JWc9LHfG4gQMk9XTEMQiK1uBcF0+ISyTgPalZ710ABQyCGz6h8B0D1Dr9r9P3XPOYDqxnjWNeNC3sAu+BkPWR5V188YXmZ0cfZWZ+/hnqndT58eSTT5sR225vHn/6OW2O5hZb1nHHHGnG3H0bAAacbcvNvx+9z5SD0TT6kqtME+pA6FkqS8MmBcfMnFy+eaiepmzZbs4y/1z4z24B9jM2c+lK5CjkrWHXtYY69kAMr56SZ2F0NgLK4Msvv5Rx48aBErFfrlFndPVccjFbVQv4jzI64fApJXXVQ2RgFRqBx8QYPvvu9Q35w3W/l8efeEqWrYTvY6op21fS1BKGT+MCUKLFsmTxUhkzZgzY2UXSHu5QYagA/Ca3wwMTKUqeopCidWfFZDvTcx0D2dOkqp0MBClbcnv8VLJjVztLhUzrz4ssawZSy35ZigcffFCeeeYZufnmm2WnnXZSapbco0MPPVRuuukm+dOf/iQTxk+AXe9yPfJJJRPwVoXlFv6epaRQfnTcsXLB+WfLvffcJ40tXZ6Im6WStZLIT+fZ2qSvFbJc2JJaIIeQt6Te3Ah16fIkSMne49na3Llz05KoOZmTjdDg/2FZOiS6ZrBhzxrs5WQsKW307kpkA3+LFXWDpbaqWqWLU7CkgSTqrZE4qKqqFAJPlMaOy1NPPSUzZszU7PPhSJlsamouU0CKWbnzXrKSQWaooBbjiGiJmJ2NfiJUXnx2Z8XM0wlq8TuHiBlPd3jO/awTZnTf0db/iy++KEcddZRsN3IknDcFpdNzzEMETqT85Rcz5JVXXtEy88ByH1BTJR2trSgQFSWrPI6NCmDc+WtfkwDcPnILww0GvEBqG/HelZ9DyuyRrSPkEPLW0c891lI34rg4CLgAWLoGAjRd9mxNFwL4nGUogqBOXW2NBIpg6KGAZhDpmURf5cJW2wJU34HwFUfDapiZAlJANImwDBxcC8MhHaBkEcV0cEYxb/oM+d11f5TRF1woA+tADWOYxaD58+5bE+WEn58mHfGkXPG7q+Syqy+X2++6C8gpX8bc+6AMrK6QIkiIXXTJpbJ42VLZc8+dgLzzZIdRu8m8hSukub5BRm47TGoH1sgX2DxO+nSWHH74z6SjGVQ3xuvKpuVy5LE/lt123Vkmjv9Y7rjjLlDNMT2DXrmyXk4//Uyprq6V73znQPnXv17RnvXriRLZk+p+8803Zeedd9YKgeuo3ych5FhSUqxnzAcddJB88P67QhUp6mkT2Zt8uIykpyvMob/dfqc89MijcsVrsJiNAAAgAElEQVSlv5YBsL/EzQhnmp1tlCB3NiH8S3T3Pe9yi7d2zxYVcn26RXXn+laGCykdw2PTjku1KbugA9lldUBpQpOLCHfygUIjsfZmiRdUCD276k4+F7byFiB25VYOF2/TY4JohTYNCsBeDsii5fOkQyJSOnQPKagYIAWFebLLNw6Wb377O/Jff/6jyi5xIXrzlRfljFNOlUWLlmLjF5TLb7hGfnTikXL+FRdJuCMuF553vsyZ/rmMGD5Errrqahm2zTayaOHncvGFv5Krfvf/ZMiwIVIN4apnHh8rn385VdrAJj7ip2fKq69NkfLCCom3tsijz/1djj3pSJkx7TMZPmioLJi7CCxsGkYS+eMf/yQ33nSrrFzVKGMefEjOGX2ezPhitlYtAYlo/pbBPvfipYugllWgkt1JSk9jjqRQd0dBU51p+LBtZPz48RYhY2PbHO6Uiy67Cra+qyRUVC2fzl0un06fJb/8+c+EfrLK0QZssWI0RABsglLk3y2klol+3UY6tx9Gg21hIYeQt7AOXb/qECFzFYVaB/5ywcGBHy5reIFv4MRHWXKMz0tBvQRUAJVQKGmd4Mtc2MpbwKrErdYI1OMBmu3obJPh2w+V6spqWTxvGsZMg7R2tMnET9+TmXPmyd77fFs+njxLEfJxxx4p9959j7KbG6NNUlZYLlV1NZDApte5AkmGUzJs2xHyw0MOkmeffVbaIlBPSoWhRhWWsQ89rEZHTGdCPp8xXeoG1snXdt5FHnn4Camp3UYpUJLICdjXHjfuTVm5bIlKRd98y5+hkxyVjz+eLHej7EEDB0vdoCFywLcPgNP45fLSSy/pOC+EClaUJDwCHcpHQVXXDhwAlrc9Y6ZqFVnMpIiJmElF77vvvrINNg1RqGYVQa/61v+9Q8JQgbr8mmtl/KTPpLZuG1D7liqOkZIGcidfIQW9MOVcOXUGLTUXtoYWyCHkraGXe1HH7t22LgXpL6BtYoMn1KLndIjhVQDWdS5s7S3QwxKiyNiGwsIiaW1pl/rWVeoJioGIZs89vi5///vfZfHs2TLu3fc0vgNGP+iQgjZ9yeJNYevX3tQisXBEx1uwJB9IOSw/+9nx8twzz0pFSYXMX7ZKfnDYEZLf3iSfvD1F5tXXyw777IsRHJTmlWBfbzNQGusXSjO+z6+olrNOOFnqZ80HYh8lx554gnw84VO4mw2poZDzQIF3dUVh+nMhKN44EHFMrrjiUh3ntLlFtjR/yZLecdRIee2111RIjBfrRIqZAmacIzz7PvzwwzWOQmRkdVM1ipuNK6+8UkaMGCGXXHKJfsvA7xyF7SwmMp9c2LpaoIfZtHU1wNZdW3S/h4kzBkI2L4xnyVgUaQSB53CkidSoUi7kWsBt3twuLaNFYOwjr1TPf0dtOxJe5CCEhau4uFS5McVA1tWDBoHtPB+Ua8q6a0R8BNRiKK8YLNwiqQiVQ4cX6T12eLCkXA4++GBZNH+BjP9kgnw67Uv57oEHy5kn/0xee+kpmbVgoYzaY18M63wZNmgAqPKZQPC1Uk8dZuRdXVYlL7z8isxfMEu22W6EHHf88aCEm6UWutITJ06Q+nq4jaygMRDLBXLVIWJVAS38G1A7AOztP8rjjz2hiJyCYjxndgj0Begmb7fddoqQGe+Q8vz58/W5vLxcrr32WqW+p02bZtnaXkGU9mY5DO7XwZD73fJbIIeQt/w+7lUN0+upqll0D4tOd1hcWoazv2Kcf8EQOlJQG8RbN3qVfy7RltgCHDW+8ZK9kdMq58NQxgycyy6HURCclXreXKmSdN5550kzBLOOOfIoNaLR0Q5kBApy4fy5yrZNdMVABZfr2fTihYvlrVfe0ByLEXfo9w+Rh//xCKjWSqkZMFh+8P1vycsvPioffTIZFrwqcbYLuPBdGaxQRmLNOHbJV42rMXfdLxNff1uGDR8uv7/+OqmCkFhra7PssstOSvn+7//+r5ZBAa2FC5dCUvo1HedkRwc9Accu7A6OOeYYueDC8+V4IPQZM2aotTBS9f/85z8V2d5+++0QONtTvyMS5i/d2hJp09f8PvvsI7fccotKalOFiixuBsLgpKv9hk70ZS5s+S1AxWSGnGEQbYatLNDwAI0lpNQ4g5pASLbCIkKjxnNk0EiBGiRA/Gfj3zU33D7GrMIj0+bsgrBttuZA0xw0aYExxFteNAxSWWIHR1enueQ3JxqYZYZi00ATytsFvxWmrKTUkOj95anHmclfzDE0+UEjFx+Om4D3IRMMlpnS6kpTH200b370lqkcUGFu+fOtniWQhEnAUM0br79j9t7v26axtQVfwtpI21Jzzi9+au5//HlDUxzMb/LHn5p8CYIYLzJSMsB8ubzRvPToQ2bZ9E/MsUf/yNQOHmAee/xpGAyhIQ6YMKlvMT858likLzA7jNzZ/N/f/xfiGnWcRztj+ptIxQ0kxnGfMkkYzgE1bA444ADAHDSglM0FF1xg5syZg5SAAUZGJk6cSGZA+gIlroZMGGhk5IwzzjCw+mVANRsgZo1n8BskSUfmbra4FiD+9RsGyWMEd2TU2XN2XrkNQc3TO7Utf1uytdYQW38KceXB3i6agLROYQrCJWRKB3AWlhcUcBIhKwsVjFirTPviSxk/p16OOPJoqYOqRhLsNb/u5tbailtvvXl4QUYwSN+Up7CT3yXVVeXSDDUjWgFpjyyV8tKBGCxlguNhKeQ5MgZarLNBWddJCUHFB+5eYcY6Go5LSahQJZbJhqEDihjcO5YWge1NdSGE1sZ6qQR7mSp5YUgul5YWwdZGO4zXQOAwGpdgaLBKTFONSr/gEQso2hQoZuo6pyAIVlxaKHEIaBXCoYPCDnTZAmMk1H9uB5VeXl4MmJKAz9pspxS4C9RPJntbBSEphEVVJgRncIRrKVnUjjLmO54fk03tAt87Sph5UBfa5gV1QpDjzMuZ70x/lLvZIluAeJZ21TmuGLp5k1tkdXOVWncL2NXGMR/JYuzWhsQdHrmAQDJF9gCb7Sc/+qFUYx3rkTu57sJyKbaoFnDs6h6WEXqSQCgvrYataFWoS9u3oPtBe44MqWcgPuBUDURSHFgJsKs5Cik1XUZkjPsorHQRc1YOAHIHMo62Q42KnipQTAH0eqPwnhSE1Bj2A1KMDzoggJ3Ab2O4BXIPKVUnCgKMgrJy2CUJAhmDl00XVBC/JkuayBiWMhUZMxAZxyAoQWTs3D0ynsiYhkI4JyiERSEtLqo8R3YCWkSwzsIXz4SJjJ1FMKal0BaFwIi0nSCXOy9mvEPGLj8FKBe2ihbQmcQB5izauGcOFroTy4WtowXSCJaqFhDCcasnB0gIiw0O4XAXgHWlkC6WDDnqeOsYG2urZQo+f+mqyMkT0GexIiCSqSqPUADkZHdwBUS8GGh5qs4DhIR/Iegbc+wR+QahnwyeNcYVvR1xa0gyGWlxHyrHGAyQ84vA5zI881GjiNxIbTMtsC7PjmGEhK/KS2lGE3EGVCte69bAqQ5w04A8FRwE6kdbYPDg4MCtwuMLRLZF2ASwXCJfd+ZL5xUMfktgbo74LYL583Lf6mYkK/jX5Ox3uectowXY/5Q/4IaNXBIYubFCB45kdrs/Vtdv83XLqH6uFpktQORrVyP+tUi5O647Ld/aFC6dt4blGnSrbgGwgT09XFKR1NLJh2lICiipDq2q7XAj52330rs+f6Px2MQ+W5qa994df3ipGhXcf/KVYm/eIHjf2bFJpMmNJI9gunE3k6lhyjxuECyl7n2NH68Af57dL3N3uRbY6C1AM6zkjnDDxo2cHvwQCQ8bNkwpYu7ouANkQifOv9GhyhWw2VqAruL5j/SKBo/isDd2xePfPEXINvDOqkimV8T0u9zN1tUCq1Y0SN3gQVJSZqnICJAxqb0YfP6WkGJUCtfjqaSHix1RihDVEI215UxnJYbyChyPXTQz6Y1JULFgLEMvmd9hE4CfPLX0QURrdYTzdXwSIVP+gXnmSz7t1jAxvwuQPV2orxgMzG9y7OtAtoPZvljPv6TocyHXAn1tAcpuURrfOUHJozQfETARMc87nHABz0icgnpfC8t995/QAqQS/PSuR51kxHXXg8sbQ24d+k/o200AozcgkrBmRbUmYEoZMngwzF8uVjU5S90iPnvgKLWKSB1uFMMO6Jkv/uKJDhnA33aG4BSndyqqJgu8AJ/ZI2rkwaMUvteq0q42PyIy98a0/vDojcJnYDOnYAoWd3n5LJ8GY1GO8QTSmHR9Q24irG+L5dL7WsAJ9ZFlTQo5j3LkxM4j4bXEvaSyOyW/VqxYAUPr1bkG3IpagLQygzoM6CG4eJeuhyS5qK2mBUDLJmEuMtwuFRUlkDWge0NY28JmvgqenJqbWyVUXAmEB6zFQ2INjk3ME18jQbDrDFBwNIAzYEhk5eXB9CSkokPxkASBPBmSIHWjhTCRSTZ4qgLfBCQEk5kci535MMiBNEF80wUkT6IaDEB8C8EpvghEgZtxRhcgNV4khQkr7ZwMQgocbOw8wJbnsyymBTL0FJd+2X2To5B7aJRcVK9bACpvMEZTrxQyCeIg2dQURiCGJiLWsQgWjhM26HXOuYT/4S1gKWWuYY5m9m/+3XKa59m+tmfPfsr6P7z6OfD71gIkSDlQFOEl9dhrl112kVmzvpRiqhU5SjWbkiSJS3a1Wt3Il1QgaAWuQM0GMQLzU/jWUcjgRCfzo1ZoCxQt6dmg6kbhwncW39vz4ZQKH3qcar3j2THZ3UTuYHfzMwTiW95av2U2LuNvLxFyjlXUQ9vlonrdAiSCHdFLTnWAgltExuomDIHnyUTG3OUycS5s2S3gEK2tpXWUnl1jh6RdGixnXhJvdcv+IPe89bSAh2gpXU0dIUrkL168AsgYtqgZt9bAj7vHEEeVu/SzjMFpx6aHhu0mwJ+3CnNBShVxuk0kwk8LcgUQx398SSRu4bLbyTVsKvX73Pj2N3HufsO3ANnUaredEtbgAAWIgCnh5UT2iYyp/8bz497ZUrVTxD+ZVptYnHQZM21DViwzb24hdBvhlUdhEF7d5dvnjLneZ9hs3bmobK76r97WXGx42cWkJ7hs61vYswmXNSxPWR3mviLTMbtr16d8C6fto6wienz0L5Ddbe9fuFfrSu1oX1ofAuixiPWO9Oe93h/34oO+w54xxntRUl+SdMbspp3rhkXAeTBlSTY1/lNYikPFDZeeEJxPyp9jj8KDaQFCG6Hfw3AlqFlQuEiTHqNevt1jGN+yyHTF2XY2k+54wgsOoEuXkdaldyXgWc+6u+eTRfT+cchWy+6j9RkTXl4ZcCiI9tK8/RsblzfLtSH9qT5mv89+9tK4/L2Pu9dNlAVOB6MzyDEv/WrxDoiMX5SZht+98MGRCXCPOfQ+0uabXufdWo8MMkDwwZ8ufoPC0XuI/Sk5R6j2RMRMlnXA6b85apjPlK5mwp504zKLxa41TsEI7l6tC78E2sc1fSxBBXoIVJDNSeMSHruTFDmFJJXr1K/QJXHmzxJjyBD/OXRh5M6OJjyk8I8OAxO0bK/nVXzCdyjc9gfTJiQVh7kgldy0IQY3bl4fZvzat66Gm7f+hC+GnRXFVdKTJ0XvMbS7lVKDDIyPes0RQcd3RKysakczLMPQMIL2FgMXIStr7dZB74XlSOJBFz4uoLqIWmTcr/IBudH+sf8y5ofX+LTuRBCTCTvOCEIShiO60NNd0C11YyoMQxH8xPVMIr2G6cfSxXHSxcXGpnD9y/z6HmxeyVQcY9m2pdvEdmL89Ca4zUi67v5Bx9rQylQSjg1QBmvXhTpov3fa8ZvihENEMo629KSF+Z7+eztR74zsHEA9RvYG2tXTFMEDE1nGASwo+UF6QwpigeEYgQoHLVDhHa904H3GM9NaJEo57UKg3HyylznEiH154T3jCnHBCCbOkJkbv/OEsbTxyJJ2GvK4VZYz4yyrmilscJl2x9g7zgv+c0tHACNMWxrlYJyRtY6+4HjliPUHhwx047/Gy37hb3oF26V3L1Z75jjqHvsWOs5qCwM/4113vqyHHRMaqSsALpcwDZ/3kfcxS8GMQma4w8WvGJeRF/Jw6SzsNluW4gDIbAMbb9PyS8CGB/etftfrsIa25XzmHAHs2i/sJ1WKd3FeeV49Xb18DdZrCDZWQudmk5QyR22/AjA6vjewjNNiF27kCLvstv/RMEVFBdLR2op5gXTeqLEWbvBZv0unk4MiCcM4vBTYWc4iAkAYXHtt/nnS0NwgBaU0JIAFDVc7VDLyaUePgUgYKhD54N/HOuFKrcMZQwHCwSs3DGxi/1++QRGFXBQ2X/0LsBAyNIejOok8R8Ual2B98dsJa0gpbECK0QdcQMOdKSmD0A0M5mq67OBfL9277ji2W3fH9af8VAxCNdmF89k3Y9G9GD9hLO60KsFyu3BsCAtJQDjsZyZuqW+QUhqK4FtUuB0mFenCWQM7EW0UgD/bBHagnZ4Rf75Kb2K8pH35IRxB5g92E8cPf6kyyHFvyycMPefsom0veclcJH9xGWwWqdsLe9BqRtLm3wrrVKg7q4Z3DEH0Lc9vnUWoABwhFEDs2T9+NetsWLKfewZ1HbEuE6e+ZGHKEPzrqaMZB8raDgJLmVnq2Btf+t4V7SnmuaKy81P1qu5xqV+5OH98drqs+nvrtm9scCHhSGFnMFOXwsLV/Tnv/Jd9b9O7+55++Y1dS2z+3nM6Y77zj9TuHu0ue23rVFaZDkQX7WXi1dDC4q0btiQ/bN01dGOW2WgWfmDcQ0acbySuAYYsSNf9qMgYycDu8KD0ALRPvhLT3ca4NFgZ8K27uE2RImsEr3+Rcc+aVwgLA5ZJzaAjYn9L4BkI23spqwQLiwsW0hJ5UjqSJmCJC/vdJqAQSyuQP9hhESCl9raY3RioVSD67g3KoOo6lI8hh7OjAHbV5cUVQidG7REgJDotB1wtsCVajPP0ktIQpN4asaBCBD170vfQPHE4KmfYHPUneMloGO0OJIUFWneIBpan4cjdYOEpQPvHknBrVxKEKAwWy0hcWtBGXbqIw8JQIc0Z9X0I9Lf8fJYP6N35XoZkt5u02K2XwawhQ7gjIa1t9GwLEZ38YtSRWBd22AfW6HviXgrilsEWI48vw6grO5H9247+LUD/FsFTUMMq9i+86uhX/Qv0AETH9dRqLS4qVnvwTkjDI1j7VUAedhZ2jvnzx3hHSOePOdCJzQY5W6RKO2BmMgxpZ24WNnXgaApwoezVbltTZ109rwk9rhMOYff1l42THgQeKe41mI3mX8LH+mTGkCuQKWGdDYS/Xl6ma/txn2sa1DYNF59dXmvLwL1zMPufvczSefrmvBfXXXsVmfOV6KX1OsCBaWPpjjKNCr0Cs5/9MPvKddGuY9187+k3owyHZn3laEesPo4ySstoT6/wnuL84G6G+x5aaP2gKCzBgTQNtReH5NGxD8vtd98HaiWIxRCsU0+CkjnGwHLMB4IohZNwKu2z3cnKWlv39QoSOuhFbslEFAgoKNUVxSqF6SYMqSLuurvAPk+Cjch7HXz4TG3hInChroKN2i5PiG3gwFpw2MGa6gUJtXnrT5vAYAuCMisFBTn20cfk3rvukQJsUNqw2SD4xaAmlYbugkF7GPStxIYjCI5AFHZ7W1shyNevQdnf8slet2eGdmK7yabdYmHLB6sLwjmd2PcUgFymmoA1E0GWeT6oXrJyeQ4D6pfHDu5T9i/qysD+LYcPW3tGEpABAweif+kcIJ28Xzf+ox3Cx6BDv19t2w3S2vJP0E409Rd9hZXBVWZpSWnaXeBaK7eBYFwTAs5EJf7lxi303q8ehRBS3xmygw2/6XNhf4Y9Yum11jbzpZ5pu00LZbvpTMKOQRbDzXw6EBYPHgfWmteu7Hr6n9cFny/XdN/4O8nllTblk5Wh10BpeP0NxqRZz146+4N3ajaXawY2+Zoz47wi0N6MS2ftQ9IOCJuUdXBwus/ts57dM7H+WXMLan6rCdb1lJ7w+evkgzcDCs3xKx+6W61PoNoB3cmDvmSB/OKk0+SkU49XRFABFjEHdEqpZRRTgN0U2MqGHGEQpi3hpERoB7efIQX2MzsuD+w5su2IdLnQtnTEJAJXRcVA0gYLdaAQiAhqGCuWLdehQg53jGSyRyHee9ddsnLlyjQ0ZA163OC1QEj4cU6+2erPlgbF29mmJ2W/+sVJcvypJ0OFBBQ72p+IOBFBe8SgcxnkGWqH6mbSTn8AdntD8AXbvx7ob/nwKMXWTf9BfkpduQBvP4kmPGAzxyGECkWTUZxjxaStHSo2RNI4dzHY7BXg6IAU6vIV9fox+85/jns/+neVv38xidfdvz5Q1nBrWdbdCzdZxp999pkMGjRIZs+eu4aveh8NH34Y29n5T0P+Q5H/It2EMjhbyWoTt8tKG3eRrY93/ZzkvQcWKbmx4umrC3xenYpybwGZ9n1AfRUrtOx+XpifzIWbdk2i8ZQc4IzDgw9J8HWfA6WzHetTi7GnkcxejXy51ssqj+C4ueME0brZ7a7VV295J0yWRkyuIszflcFi/fcOhjVM1szSssv03q6G3DLL4FqhX/JcHheL54EHi/QXy3hPXh13rrP4oQs29eocBOaOrzPq5f/Od78arNnleFBpm7na83vca/42zvaLF6Vp7Rsdj97zGiDYbNHZvbfegMQhTNLe0iyVcDBeGsyTxx5/TkUQNIAqrV+xVII4ALvvwbEyYsedYRS+QCrLy8BWBBsV6dcwxnoJRxeQ6FIpCBTL/WP+IdvuMFJKYAi+EhR6SVmxLlamswPjy8j1198EZ+SDZccdtpMyUPWRCLyuFAbA4m6T3XfeWa677jrZGb8FsM2bhx3ihAkTegXD5q0/QMS5YhgCWsWgkIrgRnHsUy8K0bMuGFi9SkPYqKAdbrvxZhh7GShFgQK5GI7hTzz9YulA4/ebSOxH+REASTi7AycKR4QXi/uVqxZiI1cuD4x5Wrbd/luoT6WUlFdJaTkRMBZtcj0w9v77+uuluqZSdkD/lpRWoH9jypYOt3XI7jvtavsXv8Xo3wDaYMKEyb3q33UlIss6BvKdsgkMe+21l5x//vmyZMkSGTVq5Lo+X+d7ImNyeeCxt4f8R8i7776PdihShw6kpHmpPiM4R/fff39G/rpW9WZBXCdUqydIz2PASZa1XTJRmCK77IXd9+zB4+t1xQDuuXt9sPXn2aWN41jhtTosvY9hnt5YswB7z7CaxGgtiAV4C72W1V0f70tG+sL6LqkuPbcaHvHC3DIQBtKkG8KDh2m6GwcP2dD46paGLjuNV052cV7eGU3rSZsTWo1Pl217ShGwlmPLSJfutSsPD1WmIBvmbMn77OfV6pWRgZa4WowP8HRvaHvazaGNA4T9Hj9a/AYN6zt6sgqnm7EKeFapkNbkYpky8VUsggO0w5qBpKUwLnVwnDtr5nS56upb5K13pkAquFUmTX5Nbv3r/WCb9rcuRgYOqoERgsly9W+vk3ff+QALY7NMmjhObrn1ISyUaPPiLrnzf26A8EspfE6uwhlkk3w2ZYJccMFFwuPfcrAYp8+aJZdddhnymaX62FQF23fffXsBHB1zVG2++nMWFJZLeVkILutWydTJ74I0HqKGAhvb4tjwYIJHG2X21MlSWLaNLFzaAtZ9o5xz6lGyYOlKNVXYL4Tc3/I5P70Jm95t+6gVxg2sq0C/vCe/veb36N8PwZrukImT3pdbbx2j/RsEMrrtlptAIeZLc1Mj2PDNMuXTSejfC1SNoNT176WXI5/ZED6MwBduAv27t+3f1WZzL7rdlyQSjShlfsMNN2CzXiBvvPGGvP322+ohqKUFkv39DJ1QQSQXwOZf6Ms/D/lH5aCDvguZjbAsWbZU1ScoaR1HwxgIaJx2yqnpdd23RnUv9hmRfQW0ewG2TZndoLaDmSp7rDHOLeRpCo0rkrcqpRd/guYloNgY2alOjMcNn7782hoTKnzt4apuKWFEaxzZ2DxiIyeCA9aimjTCsZkgnu+6l9NseBRr9NQ0HjVnX7oWYscQObsFcs3LtOIZ/4UyLHvfgzBdrlfB1T6wJbtmVxB94yJ9SxkccBMsB8RVmr9evukoW252dck3cUxwm9T/nWtN/KYbjve+5x4b0MKaAYGrH15ljB8P+do4V56/Hl+N+zX3dC/hA3dMSmleM4+m7MBKbOkUHmvVVFEXEcIuMDrfgkVy7MPPyfBhOF8LdMqAQaVSWzNQCj1B1F4W1WOyApwTUpDmkUceleEjhiBNCmeE1VJdO0QooZuA9Hch9CSuufpiwIF5DWnbHXceJcccc4wsXLgc7Ft77jgY9ncpFFOEhbQAvFEnrdpjoelIDLLNXH9KxhVCYloMPOx0xaWpPaEIuboCAnU4NxbY7B21x+4y7qPJMnjICKkoqJRfnXiMPPHk46tNpbXXdQ1v+1l+ejL5F6v0LrlLSgogKNXagP59HP3L4WodetfUgtpH/0bg/J3s2quvuQqbrVaMqULZeZTr34US9QzeuP4N4sydNpfXabNiDdXNjp4/fz4QcaEMHToU60cCJiOrlEIlhV5VZc+Ts79Zn2fmH8wr9vKPe/kHkX9KKqpDMm3adKWKWT/nCpDGfnim/NBDD61PURsoLakQqxhkfUN0L37+hZP3RD+8eA8mll5KJ3pYgCiQeJjB0Y+M42W/z1iKvZTr8+MGnZcPHtOS4emsiUjApWC2hEv1diyVnk7iH7trK96H6DQZv9NMOK55w4uJ+MyWcRQzWoFp16sc39Ku5fa01DtuQzdSZ0otRjcY7iuvpt68tNXge5uGcGf3hNZG24uZ8YdCp17QOKbobYXch9m/Nk/m4mqXFrRDZLq5tZju+vOuvyVnQ7KhnnvqpfXKm7IkcW/R40JAC1+qCcRAyRbs8Cno4nStkkjLxcI9gxhdLTAPBlKq6wqprJLxayUAACAASURBVPxjkcz8WRYXLAqDg6unErcM1Pki0i0Fazvllcd0nRASoiu5kpJMH6hrgmNz118lh7Lb3wOWjuBV/weLyNix90tbW6O0Jepl4sSJcvHFlwuOl3XzlB3Wp/37Vf66u1ei0Kv2j58OHkH4xo/r3xgEC8m2pcSzv39DcIzr798kVMA6obNOF88MccoRZIX1qf/uu+2OcQQpfWwK77n3Hh1XVD8qwbEIx9Fa88eRzrrCLrsz/3BW/p3In4YEjOyBzRapYsLM8ewMDfD33HPP7XEOrU/91gWfe59e4ICsaIs6HXBu0hVp1wXwvXET5eCDD8axUFCGDN1W/vHok7K0oUluvuWvFv+gOcJYtiHxYAOzgdMKntOzV7W1OGCpe63PFhHwPc/N/YHP7hiB8e69/3jBCXGq0AmmEZYSBDqf8CNAmPVEXBwVSHns90fuvVeu/9Nf1PSBP9DTVSqFSPynO+g4P0Lwb/7UTzRU2ZT6w38KKzI99ZvjGEd2uxGQaGc77mFjALrkRCYuj2g0fSCoy6uWpwHHb9icdmOhgMpQpKjK4r1339JusgspbNr1TBXJkh68fBeL2s0A3yWT1MVGJNVJYXeig5QNQorK/oqkOf68HFGvjz/8UH54+Ikye24LjltsezAVNT78wWp9MwYuRXQhIszdZfE4UAFD2V1Q20z5vufaRm7mn/5ys1x0yZWaLUEMA26q3WrApx1tYTn6qKNk1pezNCpBS5Qoh83itiPOBgcNYrnAOdI7w1jpTzbITf8RMnIoVG/gpbKqvl3KKgp0LxJjY+ZDXQVnfuEO6P0GItpgwZJaqP2WQcWoEKoZGP4e3ps7d65SAaeddppaCWNjO0GVtdU0v6RMDXPnqYoTEG1JJcoqxFky/LJCeClYVglYROobGq1gUElImqDWNGfOHNl11+GatXM1uWDBAkXe3CzsuuseOJ+G8Yy1BlADm7n+WmmcyQsctK9sbJWqUjWrAKMQiApCyjiZL3fc8j+yeCHOYlkXqEVV1A6VXXfZEdQy2t/bPPW1/ftVPvo+PQAVOC+kWX9wIpBfjn7EoqHsMqg0FZWrVZsQOBnchxDhcuNWD1Um6iWHIO1fDxUn27+7aob+/g2iwlSN2nXXb6J/cdpeYCHoa/256OdDRuKySy9TI/FEyByPdKxAtnV3/vMxvoev9/jWVRf1vXS1/MEqL163DIaT0O5r/bo7pac7u5BnvIF9ai7iRAOKCrA5CaBNfnftf8mFF/1abrrpJiCZpCxZuhDqYbXy/e9/X2bMmGGzwFgsADJ0YyKJIwcneedqqos4OxAhjLz5rOf41DFXI0X2uIx9YvXUCYfR9+wrHi+4hZa62ikuQlTyRgCYgJxUFyaGZ4glAlVBUndK7XGyY4Nx8ikn4wjlKnAu9DMIjeKoAGXT3WQ+N8gIWEbAKclTpMw9cTgCZAvQqeFAuwfM32AjQC4PTj3QZoCSxw3eDjmodhWSmJ9IQJyGpm5pSaqP+jA2OAwEOx95OWFUbkg7OtqQR0w3g0VFIbynBgI8ZWFjE4JQK5GO0z4gAqesQThij1ZYZiRMY07wgQVVSatWx/7EJhat0oJxHUBlyqhmikCtGQYaVWI9OFSnfTJRLrrwQvn4k8mw/4D5VYR6IKMOwFOIYyUbMD6w0aCqIAOFLQvAVWKIc+FCIMIlp4kS3w2YV9bwDFT62q2J5zxU/vd/uE5+f/0fAQdkRdBPMViNKw6hsb1iwq0RyCqVyjPPPCc7QT4oCSxcAGckVBHkRoYbryYcrXI9YSCHlMc+RMbEQY5o1JebKmBwYhwYU1lZqb8uuPiMyNUeEoiJmdN+cbSpQhsOKIRjtAJc+N12ux1M09Jl5tMPPqC2KOIC5ul//8vM+OQzs8vwURjjpeaOsU8Y5oBBYp5//nmDRjCzZ8+GYGlytZJ6jkiYyR+9aSi8nRcImudf/pf5dMoEs/0OwzX/e//+GGRhIibcsNgMH7Y9hnWBKcoPmMKCfPOv19437VFjouEI0iTM0oULzKCBtSYYKDDl5ZVm+YoGkwAYhIQXW8m2FCFJ4SLkcVyRzVh/lN/VaM468QiDuW9CJRW2/dEHg0fuapauaFag/3bHrfBzo07mUL8iU1o51EyZ32DavFr0vf37V34Hytee1oa1bam/XWhfNjHuP574tIGsGjhRAzFGPjGfTPvQDN1pIPqyzNz/wPP6bVvTUjNi+BCVG8krKDR5hSHz6mtvGFCqppP9i9m3YsE8M6S21kDwzVSUVZvly1tNpzfM+l5/0EyAMdUVM8lUzGtNYwYOHGiOOuoYeFHDAAN8WOQA+4sY36GM8W3HVAptwHy8ZmC9+aC/+NPVifsIqhD22ihlBgysMz8+6njTFk6mv+sem973LkP8coy/8Fz3/IIVr+7ykLzvgfABdqwhgNJ2Y7LVbFOWl54dJtlsHv/brSYQqjTvTv5Ci0qBFFveEjVoHTNhyjRz6WWXo/0wo7BitrS2A7/Z9iCc7eEOzTcWj5pEKo77lGlqadRfXnGUz4td2dTWijkd0fsw2CBtkXB6/rp53Ik83Xudw8l2XOg7lo+rGRd70oC0MxHMEBTegasVURyhJrYcNw1maXvELGSSKPsnYcAlNKlOjl16z4siPqHrR3OLhZ+ftjRxPiZMuKUB36D27GNmquMQ49S0A0+hHo2AyTSjXstNe0ez6fKAx6cI/CgGmz6daHfvGb9ME4uwFwh93IQ7EIH4tvZGjQOljG8YxXZLmCjax96zLK6B+CrKjAB/BPVBMbxMBDCj9mHm6QBGPQlSjO8NZjHasLEVfUB4Yk3myxmTjFTuaD6Z1W6al6MNkZh93RhDAn6TSJj2lpW4iWPt5yrQHbAh0QdsFnyx/IjjDONWGyMBHGFhOOaUU8wJZ52t441vlre26VhkPTRCl+kuC28n+iRi+6gj1qmvmIwBHC7vTr0f6r37Tb/YCDecOzU1NemcuVvUh74jZC54aFT2XjSOhk+xi8zSZSts46NR4pgY6GI0FJrKw2Mcfi0oOhLXUWZuvPFGc8cdd6Cv2NhJg12f3q89oEwshokIG5MDwk5k9kMn8o4mukysA1Opi52AfBM6InXCY41UULRHONLxbZSDA88QxtFoDmLmxUuTMb0GHVW4OJvwzWarP+uFCZNqVRg7AFISMPFasKJeByYXOq1f5yqA26RQr0CTcNpyzsKEJO762v79LJ/NzsL1D9sSUGlf4NbBbRoAY712AuYgftDfaPNODjdUMNaBiYsxwP6IYzVjO0S1XswAQZEa8uSiGcbigMfWZiySKAPDA4tUf+rfPQ7A+lMYOHb94xa2nrU+N954M8b3XRnjm/ByUVwrQvbapQsbS7YRFyKO3+xxmR6f7sb7hYCXln/TX7rnFxHdilUrtb36F2zbZiLkZjMM2mzMmT1qWhebw/ff1fzk+F/qumDbBmsEPl2FP22tUQOqWdFRY4xzCTeoHMFni/LivXY4NlbsaV1jgAD5wvU5ETDbhC3K38bWlnQb8TkS79Tnjhg2Agm7mOscBjLubFplkiAK+H45AGkn4AlMkk4gfkRyeW7CRVhMdBEKXaZ1IapjX+jAxPjiWNP2ZloggYyuwIBLxAE9kT/HKzZZWiCSo3gEIE2ifdYfVzi2FDd8wXoDHGI0psdDOEJomBD1aW82kQ5A6IHB9Sgex3rIz7R7Cakd7xYhE9l2mBZsXnRDk8LmABuBKJBwewuAQRvrVygLaql45mKxFNuDpFnCTUQXLrRhG6rAvrD5R7S/dSpF682kD98yUjbSfDQDc5Nx4U5tQ16pDnzfTlIggrazSLehEXXAgqxtiUZjuzU1tegvEbQbp9yUcawldWeC1oqGzc/OPMOcfMH5JsauZPG4CFcnFoFkmy4YJonNEdjltvnw3NHUpvfNQLzMm5sbf8h+zni5gR82MEJOoW0bTSrGnWTMRNtbtEHc2LEIEAMg0m4nFd5x4KdiSZ1fdhllo8fN7rvvbtra2FHrE9iBoFC40Nrto+lAxhhbFhGxPCyQTY1Y0DkJMKq1QxHfgIGh4xsdG23DgMAA1Qmjs9/+dGAgMQ0vN7nsWw5aDgoM4s1c/0hrPbhlHXYHCurAJDmp7ILDnX0bFx8iJW/RYJs3Ypw2taIfgJGImPrT/v0r37am/WvbU1cSNjabWPsigvlvESlhjcaxeKRAReFeX6N+rQ3Y/OEDIhqXS2sbl3gEbrTQv52toDQ6uXlknP22DYtAf+vPMUAK2SFkFgn2qC3bFo/+6cL43gPjm4tjdyD8vULIWLwdQtbxGrP968Zmxvi0mXYPWOwqSbl9bbfu+cUk7psMgNb7gX0FFIhGZI11PiUazfBSaBvilnht1RfjDcU77/3H46aenYPQGQPXCr9cJ7Q/8GcxNtVKgaGtrjjjXAM2oimqqTBXX3+dUsmmBX2HiX36JReZP4Lj885b75odh44w+++/v/lkymSzcOkSs8vXdje1dYPMa2+9qbAsWbHc/PWO281Fl15iXgR3brsdR5ptR+5gxk/8RN93tLea1597xnxnz91NVVm+2Wm3Pcw/X5yuyMbEV5m3n77bfO+gI83dY980lTvtZy644nJjFn5s/vH/LjE33HGvwaqiY/DNl541A8pC5qrLfm1efv4Fg+MB3eiyjFfeeNNsM3S4CQYD5vuHHGgmjHsbH3Ez0W6ef+xp8+29TjT1wL3nnnemAYfZ3PBfd2pDppD7vEUfa/323P1A8+knK80jD72CHBli4PAQYbPxiHTYbsgSVziyxIz78BXzk8N/aWbNWGl+/8eLTTH64/jjztC96Zix95uBQ8vN935wqFm0ZCG+bwQiXKn1+OPv/2SgTWhqa6rMHQ+/rn3UvniaefDOa83xl19o/jVruvnFCUebQSUl5qNP55uJXy41PzniQFNbGTT3jXkCXAyC1GrmfTEFnLptzb/HLzM/OeTHpqY4ZE67+CqzsJlrMEoC92Hq5HFm3/32VK7WCSf9yrS22fX4nXc/NN8/7Ajz5lvvmRE7jDTHn3ASOB1R89fbbjfbjBhu7r7nPnPnvfeYZehbjrEzr7zM/PT0U8zET6eZb+y1jykaVGue/PfLtmMw3qZPmGp+esRPzZKVDbpRn/zRFHPGyWeY1958z5x85tmmEFyryy+/XLm0nLduM70pqGOAr3NnA1LIdkLaqcdRDJYA/rahpeyCifdk5Tmqh30B5MyBxMHqFlX/jqSpibs/G8hyXHtA/oqAPAyM/FvBFtHlkCMMi5FdePCecHS2Y2eIxRmveMGalbLPHIVMuDpB5TO0d5ClYxcZm4fNUl/qRPCWft0I8JvNUX8LCyksTh7UxtYz3IqNLnZ+HlQtYcBGkHG1gq/EVu3iJOZuGJXse/tvgPIBlGM/WiAJnIVVYSYVx2fvisa4ubOsS2Vf6diyaTqxm+ZGgz3C5MoyBsK2FDJ/gcgw8fiS/ct+Zeh7/e04iCfY+tiFY2PkAs7wwDLnKkkExHQ2+Md3BJRGbxByCpsQjq8Yxi/bSOuGLu0Ai5F1yBifvrZybZb0qGRCwPKZhN+QWuxf4PjJRsgNaYTMGbFw4usGhk3Nn267D1QWknMHhDo0o2mUdsNC3IbNEunDFrTfUYf+wLz7AhZUhKX1K833DvuBOQVsSbJ/Dtn/uyZQWmJOB0WU4HkD/p911lnm2BOONx99MgE90GXu/tt95oADvwuKKGHOOnc0D5jNN7+1v1m0bKmZOmO6eeChv5sddhql94TjoH32NVPefcuE2xaal19/1YQGHWzAZTYTXvmH2amWNgWrzQeftSvyZX1uvOBoswOQ1p2PPmkWoPyFixeZc089EZQf2dFxc9stN5upU6dqGz/74kvmp8efYBqbLUX7z7FjTE1FgfnXcw+bqePfMENr6syI2gPNA3e9jdQJM+6jN0xlKTYM42biudFc83/PMOPHT+D+2kyd1Ii8H9ZjGMuDTJhGEBpxbFb1WIZTAAAuWDQRG4BSU1K4rbn79ifADVhilq36zOy6y7fMFb/5i5m7eBbW5+Xm5FNPMTfe/BeUQyq80Yw+9yKzdEkD9gr1ZtG82aZ654PMA8+8Z268+iwzuFzMDkd8z3wSxvrZuMzc8NurzV4HHmWefvsTfNth/v3cP01J1TBT3wgeaON8M2vqBBxRbm/uevxjhevLTz8z3zv6RHP6Zb/VzcPMD98z//W7S/GtXWNvve0us9c3v23eeX+8GeIdLT76xLPpsT1nwWJzxjnnmeb2DtPQ0mouv/oaM2fBQu2PH/3qRPPNw75vZnwxC0i9w1zz5xvMd378I7DvEzgenWYGhWrM0AFDTRhDddrseWbEgOEGkh3m1tvv1jVz7sJFZtSoUQYCkHiy49MhZf/GWl9uhLDBEXIECI5bsygmEye5h6b0l2c7jl2Mbb3dyTEOQTd13orop4xJ0XKBhORbL6qPNBytXJDJX8EscBS64khM+tZYK161gZOCKQUWOM9P2sB6IXxRUOrKZgKFnQB16ShkLqR85xYugunWOQsUYbM1jbRjsm2m+hMmsl04MFs9NiZ33spmQgNwwxPBxfed2JwQYiJp/rLNOtvIrgLb0MeZWJ/272/5US2f1B6pCYtoCFq6sV0HoLkTPJ9TDG0ROFnXSZyrdna04DguivM5suAsogl77EIiRde/kPRFN2EKot4xsLoclcni+lp/RSwtXKoJGyllti5g8MtAAKg2bBJc8LevHVNrZ1m3NXPBZA+SCucvOAHYVHFM+i+bFyLdje83jHM1jec3gC0G9q07d7Wxff3L+W0RsuOKmYRFyBZiLMbjXjJDC8X85fb79RyWlAg3wVwMiZA5FlNk4wKBvvr8s2afffc2rTi7jbRhHKOCE9//EDIiAfP5zFlahT13/Jq5++Y7TFtLWJ+v/cN1ZjQQtGNDP//yS5AjCCp1zPY55YzTsZifnWZZk5VNKvrRJ0HRgfJi16Wa6s0Tj91m6kbUmbzyg0wL9z1tM8xHL/7VVJVvZ1ah+xRtcfy0f27+AqR86fV/0jgIBZlv7LydefW5J7GOYCMM1jkD17cfHvFj8+Szz5g2HpuxpsmwOfesX5hTTvwJjl2XmLf/9bopka+Z+iX8ImWWLJ1rdt/5EPP5p8ux2VpkLrzkeHPllVebRhy3NvHIVScu5wDHE86BMY45Lrjh6mQRqHCiazGox2mQsRhi5n3J9yvMqubPzO67HmjefG06kpA132yOOe5n5uzRZ2GDtMRM+PglM6BuhCkNDYBorpU1kdCO5ugzf4dOmmPO+cW3zeFX/trMYPH4/pUnHjWj9v2B4UFhMtliFs6eYvKKarHJAcUdqzdL5k5XhPzRbACkC07K3PnP58zIb37HtK1YaW685jJTDYeCKsmGvpW8IpNfXGHmLFxuPp0+29TUDTXvj5+o1eVe9rMZs8zIXXY3r7/zvsbxioDS7sDaffhpJ5nRv708PeyffP0Vc9BRPwYbHwUj4fypc8yA8oFm5vylCsrMybMgT1OkZbGnOEaeeuops88++xgY8/E2jFhXm7l93PghGyGnhVz7KkSmUpyQPjSQeqP2oQoj4kpAJF69LjnFMEpGUjUBLynFxkeaQqQ0oKqrQGKS4udYMFS6Tv2r9sLYsBWdR2Yo38se6gOQ8GbNkH8J+ECFkKwrrq4BH41mLiFBF7AShHQgQXmzgmIY5YdUHT0KMT/Wie8IG7PpuZFsLC17bc76U2eataAOp4pi0hYt2iIByU9KgVIrQWuJe9oX530yatUPCmHQhRKH/Wl/thX7O8gCqG6QVT7tCVgZxi6U3+GVbyUpiyEdrpK42cEKX2qslfS0EqVdVBdBb8Q5fvCPkrSFsNkcgLRnJXR+Y1Rpgo3qIkj5UeJTPS4hAxrWyINZrzyOVT5r/0KVRVXc+lf/qkqIM6IF2jsgsQqTg5RidVKblOSMYcyVV4QwviGnimf/+HZqN84UoVbb1Z2/uMoroWOOuna0Q8IVbWvzt0YaOT384zPje+aFQCtfJZhfdOySnl9QbaA0MDYrXqo+/qg0vJ0H6TkCGFPIm7AwbuQuu0lpVUi+/OJzfaaUMC2lRcJ2rQCvA88QN+wKyKJ5i2DnplRSlKKn5gYMnOw0ckfVvpi3dIE0wGtcFcZMAfqwvKJEaHl3IGzQs00CUC7nWIK8igweBONEmM9RSDIHaEaUFyR8WdtSjJXDf3Ao1GHaYH+/WJ569Ak54qfHqnT8G6+9DjggtbwKCctD0gHVIxrZgBq8qsmUFEJXDo2+sqVRthu+HRKJsP8vv/wy+fkvTpDtt98WUuR/wRiMwjBSo0yZMgVjsQCSvmVWBQv12m677aShoUHyy2ioqF7KOAfQWBClwdgwUE1sU8trpcXVMvrsC+SlF56XAXWVcsH5l8AsbKea6aUMexTjqhjrFtWF6KmuEBLibPRgXkjmzV0Am/WlmG9UT4IznbJq6N4HoKcPTQTE0IFkJcZEPjz85CF9IXja++yzl8ydB8NIqWZ4iYvJ4pbZMvb+/1Y1DMgXwfpaUGgZPgWNhoLiAhhkGiTt0F6h5DIv5ltIBX9YP6xvgvnaYLHkUyULXRuPtMr/2e8AWQa7D4lUp8ycO1PG/vMRjD+qBSbwPSTko60ypG6QJKD21ASNmMGD6oBDoAGOjHccOVJGn3OOHPbDQ6W2doCMGfMg5nEKdQ3A6mIIxoBaocKJtsG6T7WyCCSxQ1BbxfEHHK1AFQ1rwZAhtFEBNSiMqRA0ceLQjcJ+HRL/KbXQOH36dFWvBILUdLQn4O41YhOF9DzqW3kBtDu7KQCThDBViV9myKuY6iW852SjugAXQ3YYYilS7q03qhrCwInKhYzvGIiQ3cKmET0GGFhn/iyJKjS45VMpy/EAIbqC3yMCInkQay+GTWvCqciKeRKB8OIHjNNy7YJC1RoHp/u1YLhabt76U72kFBMt2tEksJAJPUkD+93Q6TMwDIHFIwpb3txzsE2KsLJUlmKSYI4UFysKxwXEhEnN0Jf2Z5uUYkMAwSpFglzwYp1QJUH5QZRPPUh6AFOz/fBhXBkqwrN1SEGVQvWbq/1j/2l/uOA1uLq8RbIAFg9eDFTnQC/hDs8cW17fhWD0IwSvV5or/zB4G4R0PwOJMx9mz/7lQszQl/qnBxlKLId6HZ+pOuECx1H3+Ebd8Zw9vjPs7fJD/4DTetk2KoO5UJt/WToJN7QZyV3BvkhuRpioGAuXm198TdcENGnbr6AdRvig6+/dQbtBOgNF+kz7VoGawXLmxVfIP+6/RxbPma8bEsJTAbVEzvQ8LJoPwOwt3YMOGzlKPp84TZqWrrBgwflLC+wKRLCp2Ge3PaQEq/PypuVQZWTuXbBH3wWVoTapqCxTExoRLPYVmAj0gBYAwotBpacAi34ebLkbjAOmyQdyXgA1q11G7SjjJ06W8666Wu586GE58ifHYCzjEBe64dUDbfFxqh5hoJbipwQXl+oUzLQmgUQDMBhfiDGcAiI4+czTFbnee9/d8veHHpR777kHapch2W7EMJn66We66bUqWJir2JjtvTesxGEzU4T6BYrhSxvdkI/OpImEEcOGAulB9abdyNd2+6ZM/3yKTP/0Q6j+rQJCOgjESlAaYWgpWFSi843W4XQQIA9IduMG4wzqju1huJwtIsRFQJTlQFQRIDO0CazUFQh05KGGlQTCg3kZqBzVyiKonRZw94wNUgztNQDrqY7kcJtE0EcFUZjjxet8lL+iZTlUKoEQkSYfbVbfDAuAcMZTic1UAjrzJZUlEgICzw9DbS3QgTaLyrypc+S7e31XSmpCUjeyTj6bPhOZw9QrJmoStgB0FFGFEHUpxzoVBwzFWNsiUJkNoc0vOO9s3LfJjX/+b72effpxVBt2JAqKYIyqBagFbYl1P4SxB7Ja1c0MNgcF2JjgDBqbMqh0wVZwOZB+C/osgg1NEVRTiH9XrVol++23XxrnEBFTVXJzqD25ZYtN38dgF0SOiZ4umykXFi9BH0tZ82eZeXOJ0WXGK88Zfu8u33kX8uXYZ9hs3e3ytjnqj9GEWULTmZ3w+ESKMQjzZE3w6RyGPl8hBjKrpksJyQdS0Bs02PIrsPiR2iQSDILybG5D+Zj4pEIhzKLlBrBBi0PhkgseyfZ86DNaX9o99McaYfQP1+629yqpX63WldoAvrR6vyGDP+8Nma/La82w275dR5m9SrSOPNb1GmMr3e7QUUvi4mLJi7YjLrv6GvnlyT+Xg//PfvLWW+/oRo24rrWxTW64/r9l//2+DV3SoBzyw8NkHyCryy75jbRikSUnBAJacg6oo+qKcujPlkoR7BcsWr4YlL8dSw1YTGfPBmWXCKuOaVtTM5BkHEgc3t8ARxG4AV9MnyGNHa0SgyW1N159VSrAVSHlTb3hBphbTWKzTmT2xquvASkkQKVa5EuVYHqJg3VeiUL1lz2RD7sKcxYvkS9nzhLsKZQ6u+jc0bBVkpIfH320XHXVVbJ8+XLdmF195VVy7bXXyqRJU9QWw1LYN3/vvfdk9HnnIyfqKMeloWUFOBjWkEgRNrFTp30K5N4AgqFQbrz+z7Js0TzZdc+d5ba/3iRDthkoy1YsA8Vape0dBqcrH1iRVDVndkkJ5l5rGzaa5aDwIMlFoyxI2dzcIY1NK6GvvEw3Ph1YH0aC6iQHMAXEOXT4KDlg//1gzfByaQMSLQbFHGmNyxOPPCYCDg0tlUXQV1Xe/g0H69D7X47NEA2zgBiDfnMZkOiSxQvBHYFxDzRcHpDeojkzgfATgKlFrrniSrnqN5cj75D8/ORfwhjMLfLOO+/pyII8i7z84isSBmULQWBwg9qlBJt3cpDK4ed8/Ecfyf333QuE2i5nn3WG/PSYozQdBGFk8YKF2MQMh450u25Q6lesxBpjDeSQQFvesAqmjcuUai4ry5M5C2FZDxyFcePHa9m0GXD77bfLOLHYiwAAIABJREFUJZdcoptzMKkVEdOFKjkvmzxYIYu+qj1tfB57roS1tQAOSXiuSF1KHJjwbJBnLjwr4eVp3OCOZ332vM8dtqTPHNeW/TrfeXlSZ5PlQbKUZfKMh2czPOvUsvE+oTqd9hyYOoatkErSI/x1lpFL8JVuAXSgJxaSBrOyspy9j761Z+vxBOQzoHL4wAN/M4cccijQd8Bst+2O5pyzzzcrlkOOAHlQtpICXrAzDuGjK9XENRZac81VV+t7qiRuM6TOgAtiysuKzW1/vdncdedtmq6mrtoceMQPzUNP/dPUlOA8ktvPyhIzE+LLPz/6J+acX55kTjn/HJqjNsdA4KcL0tVUxaRcxUlnX4DzzmJzwx+vMHNnzTS1gw82V/zub+bt9x4xwP2mpqjOHLjfyQYq32YZVLROPfUHBjgC5x7V5uQzrjBAQuZfzz5iHh17n6EvmzNOOdksX6aHwhpeeeU1s/3225vKijKz/357mykTPkB9wua5xx+0cEqNKSzd1sycvcgMG74DzPYMMgPLdzD/fuZ58+jf7zNTP3nf7DZqB/PNr+1vPoMedzjWbJ544VFTVj3QPPb0i4aCgRq0jRLmMwhUYQ+CNg7pNfPLKWbkqG1MQbAEz0XmgTH3qkQ3EA2uoDnzgoutuA1kfE49+URTV1duikryzS9PPcsshx2JXx65nwGPBWpM25ifX/h/oU//qAEVi/qXmcCg4ebxF580xSEy9gtMVeUAs2TZLMhntOH8utUccuDxpqQ03xz+44MhqDZDRX0649SkaTXvvveG2XbbbXUsHPr9H5mHxz4GGxKfm9ragZA6HmD23HNPs2DBAq0aWP/mzTdfN9de+1sIrA0yF118HuxELDbnXjTa5FegXmj30ZddbJ579V/emXQ+bE2UmHHvfYw+KdV6h0K1ZsrU2Wbe0kbYAykzt97zkBm64+6mDpL6jz/+eFrneMyYMWbAgAHm4Ycftu26kf9mnyHnMYJsWvLMaf7PBcChJHwufJVbADtBUAp5PA+FybgUWLEFsES0qolWoopBCZBFzL24RyHrPppHCDxHsoG7/r73MlheKD8fxwzcbVOOoBDl1ze2YJeO8rFrTsKKTwGoY5qvZDqWz1XUlW/h+yq3cQ62tbYAljue8ytn3Qu04d3S0oRVm3I7eaDOGpWlT9kQnvOTjQ/hd7WKRBO1q1Y1wZ0kyFAEFYNweWnGRLlw+QBqj9aampsa9KyPHJYwTLWVgvrpBEW0Cjbr62oGSSH5qrQ+hXFG+1KXnnKGDMA58/X/A/OcCEXIMoXv8vFdGyjFAKhlnuDkdTYBHlD2JFdRZFBWwSQwxnFwJz2rjmHa0Kog+E9gKYM6Kxyis6lQ/8JsaTQO964l6rykJASWNs6s23HuXw42LgOpwADOyTphZasoxGMSWquCrAcoYZZHY1Gsdgpc3o7WTqkaWAQqdaWUoC07WsJSVjkApiNBqada8D2PbIrk4UeelFNPPl5Z4sF8+IEHjC1tK3GuXQNqEh7vwGuPxbEW4Nx8yeI2GTasDs8d4FwVIi/IYOADWrYkmzgINm0g0AWOBuoBqrsD60k5rV514RwanIal0TIpL8GZbRfO69G+rThRJrw8EihWn/QFyvq1/cjvKCtEy6cdSnWWl6FdEeJJUp0p2I6CyWKUmQ8WM+vF+ofDkA3BL8dFRUWZyndYz2UsqUtlj5KQC1A5BAySMPyv5qMteYLNg68Y1qJyHMGlcD4cBLuuoz2qR0S0lhcBNyEEc7MffDxZDjzgOzJ36RIZNqRGj1Y4jkhFM3/CyrXzhRdekMMOOyx9xKTAb4TA8rABAFfEWoX0TaONUFouy43bAphMSZw3nQOvPvfcfTfOTzHIsR4NghtCImMKiaQD54x3MdZd/QWQk+fsU38l9951p5YPLhIEbaoUGdNcn5rE44LD1QK/tDtMU8RcxniOnAtbfgvU1tTqwsoFj8gY+tgqMOPsxTtkzEFJNmGUbtgQdAHG+CJrl8iYiKe6ZoCyvIm+SiGUyF++HwJkDFU/PFuhA/pkprxEEVxxTp85B0Jk7Vi0OepgGpOCCUQSQJZExhQsyi/EvZq+tOzjfJiiDZUPTsumcBjHY124wCaGh7V2HMtArkhDuAUOTiiLgezLICxFWBnKcZSjpqgROE8YisDepTcuwkHXmoqIbXI1m0kBpKoBODsHq7UERFICrPcyOupBPEUoSoHsV0Lq7Iknn5VfARkzOFZrEh8TGXNuExk3NBAZ8yQ4oMiYawNU9TENIfuCsnmcz/qGca7trNVGcdQUw3FXCdgD8TiQJzx9RGGCshrImLAFuIGAk2o9/8dVADPFLWBJJ4Bo2Y+dMWw60E4oAnVFe8C0cSk2OWEI29FeNyhXyImRxQBCFaxhFdwFgU2b26VlRUC2RYqMXeA4YdsRORO5Mi8KT3IMlWADREklsubpAqSYQpz45TEZ2d5lOMpT07UANIjNEIwFQVhsIPqqUBrrVyn8NHFLZEzZBuZPFvZzzz0nRxxxxH/qGXK67XI3m6EFCjCY7ntgDBAgduWgJmbivAwGTRSSnjgcnKxcljZUKAb/7m9j7sfiY8ufMeNzlG8XVGo0vPcO/fWGVJK7EIIXBbiKcM5dFCiR++5/cEOBkcvnK9oCHZCsV0cP3sJKMPUsGNKGtBNN7NEKN5WkarhClmI8heCYg2fIRaBUghAGLcRCSXvGzi63E8RLYRGlUA6ljWmBmgs8qWNK/eLwV84543S555775IOPxsslv74IJXP0A8dS8A5CXqSMuCiH4HYOOmWgXiOgahN4ZqoiSdBhN77hWSR9i9N/emERhfcKgBgBmyJSCFbS2xpzAusHqvEqEW83F6Q2NQutC91+ElMVAt4uIN8uSn8jpr2NWgO0fQ0f8SSe8VCFTTVDAc5zmTVMXSoCBW9ahtYNlZ8f/1N9T69iDKS0iIjiOPPmRobaBgMGMA8IM4GSbGuj9L9tezrYICJkvdjsPK+l20kiSXIyaO+bVKzKf8BtbahiAJAiHO4o+YatDvy28pbojy1ahXPmAjXsjVwgocZ2whYEXI04ygXlTYRI2TP4VOZmigKZtKNNBE1BR1LcKuyHwP60Gy67fnHjwH53fc7zcsJOLglDHCyFQmWpABL0IaFgn4TIjcNDF4iClMrTBOTzqVMhO7ADuBkR2W+vr8u8ebSnXqltx0BNn1pwUw499FDdsLjxpi83UcixrDdRQ2+UYrhK0DI9doZQLJUOSFUf8N2DZbsdRsoTTz2pXrc4VJVlrYGTDuxjvbOBk8oOYi9ifX5YfgzG3ll+JyW84/JtlL/9DjvKk08+iQENoTLOE7CZOAGr4EyAZWOtUAEwOq4px7zxCIT1KTmX9qvSAuhfrmdrYllzoS3AakyVL6s1AS0ALJIJjFVSyDh/BoXIlRODAhm1g0Khj3IGCnVxkawEpegGKRdjp33BvLsd0CThFzqqFBTHdjjaAqRJdjGEzDDoCuGGVMc5hJiI/IkIcHwJ5wKtUg2ESglfkpBGNUGAqLCIF2AC4XAbHFtQZGB/kqJWX8NgA6U86q6QiIgFAMFDZkJhI4VMdikpNIZ2sLGpphUFwg/pZqBLYBlQSuCkIQlpbVX0wMwge78NAlgsJwCXsVFIFVP9K9wahl9vUJ+g5LmRIYu2AyxyqlySKGS9YATHcxpBxBaQttYYpM9LQOWS7ctdAXcV+CG4ji0NSr0Q6oCMbgV7vJbUNU6xeUrQ1dUO6heTNBXCcRgENuFGN4F6BzshnY9CG+FFqRKCY5y7KfLZ86BuBMcUFaW1QKiIzG/TjbekIJyFpg0UQHIcgndFQaoT4Rn9QaTfBk5Daal1GIMIRczZToU4BihoRQqW92RZM0C/W0qwgWO7dYHzFkS7q36MIlhApiQ96o0oevGjQCADBQ0ZTZXEErDvleUPBMzLP764sXFaEfrhRgg5lvVGaNTNmiV3ghik1LvkQjZ58mT5wx/+AJ3JQrn9jrs3PmgoFxYKoOcLqsFXfpGWf7t8Pm2aUsWDPX+9cN4BHUt4+8ov20z+ejd+k+RK6G4BImP6qSaiIpVMtiw3akTGMezISB1p4OIPTOCQMalfUsZExlwwGcjOdqxf+4mSbNAppvcj6qSWKjKmbmkFWLvUve5EPqQMKeXMQGo9X9mYtlz6bafbRBVsAMlLyXAYLlFkDFslQEKkapEf9JK50CexmeBq3omNMJGxulNU8g9e1jDm08gY6XmcTdY2kTEDkbGlniGZDI4W8yNsDKwbIaqshrtQ+jFHW4XAkk+CoiytrEC9ybLFxhdwsg3LgFyIjOPKvqfaHhEfa4/zUuRFZMznQigoJz1/hFFllZN9S3/d8PoEZMyAbYjH6ialyuUEyA39kQQChrAdOApQl2QqsLCDmOek6GsrLTImzGQhB9EmFeUVgA37c2RbBK4DqXUyKzxuPeC15VG/2IaAlQdAIziJZr+qK/uaXv+IgNXzE4JDxkSWFTiXplprEuUUwHMXkRvdKxIDx9H3OqYQqDtNaXslolk2zhr4hsgYlkAU2RMZk/p25TsWuWawCUOOQt6Ejb3Bi6JaAw1SYMLQsAK2rjL9iy/l1NPPkPc+eF91g5OYvJaFxNIthRzBQCc7hsrxpWBLeUvi+oOH8lMwPpCv5SMXqJ3MQPmnnX6mvP/++7ozV4rCc2zOxYIUsqPQWW4XJkjIc4HoAHA7U54Nuom4/sDlvtgkLYD+XRuFTIqFPqpDYL3a/qT7Qy7i6HtSxzr6EAGWCRdOGrlghlxcSa2QZc1Fk/iSIc9bZMkKL6fBDQpLEbl68VZgUAVvNX0M3xJZdALp0u2gyjWogRi+paCQFRyiPQMiAL6iuk0KlB3PHfMg6AQ0DCgJALAnDltZ31gM1Ct0uy1/xy78WqAtVm97DBmTjXnb0B1NZLV6rE3FclC+L+OM7FYr0CLo7ujMZ+bTzS1LIGduSKwef57QzSFyV9tdLJa+monMvGcWrPOaMPGXGwO2D6lxvvMOz7ssx0ECpIiREShw+57fuO997Wff9vIvv2dwv7hNN052nr7ntTdaL8veMMlyFPKGacevTC4Bj33TCAnHr++5p+psjhv3Ac5rKcRAasROkHlz4W96GPxNn34aEHUB2Htk02QP2vWvVr4rf2WD7JUuf5wiY55VrSm4OdFff8Rryj8X/9VpAXcWx80VqTt3XqgQYg1PAhHTopgiYwYgWCJeR63kAVmTiuFFCpeB1q9gl9sKUCE+TrkFLMa05pbEBoCIgtavyHalv1/qHKcgjGTlKohYFMuAmoMVN34PRA0nLJo3Z0UQRiPATQbC4veWsqQIeAP0nJkgBGElngP3PzhkwlJ5ES7GcYbgWRGcLx6vdZO7WvDySb8jbKwnfjSO732Iy/veKwVPJNX964F9wxaxmyG906zQjDaoXQOXZ0/fI04RN5Mzb9ykn12cl1effvzwrkcGPbbfeny/EZP2sUYbEaJc1uvXAlhERp96qnz961+XRx99FIYH3oFEsz0nITIm8cBzF5qGo2g9DRVA0w1S2BBKWb+SVk/Ng0PkdfZpp8se3/iGPPLY4/Luex+Ao2fPCTOEIrzJywHnTU1Hc6wGHykjSj5uDks5q1cyF9OfFmhrb1MkeNxxx+lxCjdqvChcS7Ygw8qVy2EM5Nfy6ksv4qlLmupX6nkrEWUCYsrkmJCy5TpK4zdwzadoAF5ylKrmC7VYhTzj0Q6V5Ca+TQCjktUaaWuRX/3qDFkI0408O47DtKViBot/lSUeIaVMYSZoB3O+GCHrs0uFnoogVQ0LGooJq2uroQYFyV9sdgPKgs2kWFkfDQ4Rut/0i8zXafyURhIOyXkzJY3MGN+NSex3fgTrQ46aLLtg3/deNszDzUVnvpVfapH6Bv2EBzK/LD6HIRDcWwTth8fNavymK+RtJNLPLo1m7uXv7h3s/l/3rje//vIJgw+OdPm9yWfzp8mxrDd/H/QdAgpV4TyEusgJLCSFUPGAsQ1ltcE5Bsz34RzMY1nffNNNOLcrlnNGX4ABmw9d5WZd0Gha007AvoCBCYTyu1g+ZipVTEiV5IM674TloxDMGFqBMqZD/lqQFSrjWshplFL4grABTPhKZPTo0bqAc/NA+LIFPPoCZe6bjdgC6NfesqwtFFBQ4XDAxfPTFvTzET86TDeMzz//vBx00EGwpES2JkcHh421h9CNimwu1OiLQ4grRCld6LSmB3FeVJpWwfh0aCjOJ3E2KDhHBnLvSJTDwhXOeEFBk7ttwEq1wrkABGxpyEMrTElII5dWQH0wEBG4wYAEb6XaiYfVDVifa5XSmoHATcgX6kDKKieXFiCl55AD1EVmvLQJu+tCqWAiIQJk6wuFaDwzjmfWtq42c6sq1c3y5TtSwW5bzfvsfPjsWMQey5iy0WmYbNl89PYmSifburC8AmhYc1ODUlIwX4aQzK/QtEVce3gHHWXXV5pgvQNh6Cl47dHTq9XiOKCQnix095udxrWvi+/7opedc7+ecyzrfjXfV+xjb/eXBxUMqnLoCTGQcTukIguBjCl/QiqZgidj//6QnParUyC3AgEMLGJ1A6EUz5m2AUIAahxFPM9D+UTGHWDxFdKmsCdMkl5YOPNxcaq56Ub4eHb30EMPCdzsKQImq3IQjNfnkPEG6JyvQBZkUTthLBrLUISIcRCBZHBVTbW8/uq/ZfjQIdBnbVIHIEmK6YKEpoAON2ekkBkaG5sVVcFLnJ5B80yY9osZKMMDR0v4E5bPP50kS1fAgAfik3BsUASTkuVAxivqiYzxIYxZPPHEEzCpORv30E5QFRwEwFVabvV2Y6YNZSRhD54SzHgFfdvKGugFA0U1ttdbyXBvUSdMDncqMEQM+s73qy/WFNgg7p1/dvjTsxQPeWla7z6dhJH+uOz03vsMQG0+3jLiK4wbfe40rMyH5srvcPFesyDfnDuY1fJz2fjK16jsZ5fO/y67Tv403r0HR2a5RMZ8b38pmcD7jF9XydUr20Mhmy/KrYubD4Jcyf1ugbbmJuRhrSJRsZ8sO4476klyE89d2Geff65ef9pgNJ2DmR0fBxXtrSn9gAFWe0BtU/qT/yJqick6D8k8o/ZmEharjLnhwfc54KOuMo26u+BYmv0ALvfpZm4Bq9tarpsrsoKp0kMHC3hU4aouIN1S2A2mXmkB2NG06BakRCw2ZWpUBsOGqidUm6olu5ibTNV59XRwaQwEaejjJojNYEv9crn8N5dBRcjAnjviII2caIcVLqz1JRVE3pDEhbWsG2+8UcpgH5u7gzJIM3N0tkWAiDyMQ2TMB4Kg/nOIoBBoNbIS0sT6AfGWxtqg92kBRodcvF9F0laIy6Gm1dDPapkhP39cd1H+EleL7Y5ACWv9nu+9NEhnW5VQ4aELHYQfft6dhWXPO2o6s2CvVunETOWl1DhXa3+GvrjMzHr31EPdXFRPvz0k7105mzBVDiFvwsbeGEVxQasAa5fG9GMQ/y+CWgKJgOZWSknaSeYoDD5z4aPLNloZCsH4bn8Dz/Aq4RItgkU2RolpUObUMW6G9aIeg+8s2b3Pho/SuFTZcMYAeswnF/kf0wITJ02Uk046yTNYwaOMIvn440ly/PHHq+u7sQ88oOot22+/vTWvil3kpAkT5Jv77KO6pcccc4weYbS2tkNgcZwc89PjoEXwkdx5550yrG6w/PjQH8IkpMisWYvkAHjtmT59vuy7975yxI9/KSmY1JwBhw2nnn6pylZ8Mu592XnUjjIFXphGbLudfHvf/eXrkH+gR6FB1QPk7denKR559d2XYXVrkBx8yImyeAnwNoS8yPomc1uRC7GXt8Lzh24WLNJx3eKe1xTv6z5mkMYWFi3ynFajvV9f6jXcshx/PtnJsuHwvUdBUMnWAjOOmBDFrxQ0snxxw3uvJC8Dh0J8+esH3ND4dyyMRMPquw0YPLi9n3TGa2r97HQbEJINkxVtWTPA56X+uuDiMyJzD5ugBeCMQZ2Q9ybAWnuKzspjasi/C99FYC/TOfHmL6gRNTzfGYY7eBgQTsCIvHp0QBHQs8wI3Y4e6DQC1v5hDV6dROBKv+ON74JUq2YG03eaFvbt084lGGfTIpKW5d2F9O4VqCaFAXqIcHaeNKCK9Znjj8+58NVuAR1KrjO151PdawnG0NQp75jtRtSYqpoRZtGyVryPmaVLZ5vddv+GmTRpuknGwmbaxA/N8Joq8++nnsAgipm506eam/70Z614Evnd9D+3mv2/9V0za9ZCs/Mue4AVVGDuHDPWtHdEzNLPJ5k9hw4377w1w0QxxBdNedcMqwqaVyctMy34fvG0980udQVGQsPNvEZEdEXMgmkTTH5BjZm3EI4OMNRbWxrMb37/W3P2xb8xSQ5HDLuYWWauu/0q04hpQIcpcR2mcIgCxwgtKTjE4BTlFLHJFU7OP/vC/XLMZ8YxDdNyZNvRzbnm+0zbkHOZc8C7cM+y0wXypZbFtC5YRx7piaXpvbmu6fne/8w4NydtORYeW77XlSZsv0JSrDPJiObKOP025TWAe9b88KDl9VS+l17fM/jaabW2c2nW8Ovy8H5dsf5f1qen+HTxa8h6U0ZznYOsTLrIHIW8YfY1fc6Ftp/VJq5uO+2+rh1SoXqP7RwV8922lNw5mubjcww+XxlaYdOVDGjuqyNgxVHIhf6HqXdJ+peG5RkKabUIxnCD1NpnwAdqlMDb7tKoDW+5g6TdX4njouNwPLcAPmVAwWBCF9yeuY94Nk2fqiyfVHmKOp7Mlylwfqw2H3TDT0j8l4WXr9w5MRX+KV3t9xdsDR2gDTyzesyJbE/GYwTzUXVbXeA5pdrGRchQrUmnyN1syBZgD+iI1X7muMAFDkgeVHW0e0BV7fGNbeSV5x6STlMH4zW0wNUmd99xnZx2zgWy6967gSIukGFDB0gN7BJX0GRVV1T+/rc75arf/h6yh4VQP8qXK664TGZ8PhfOFlLy3LMvSBAqR7vuvT+EGEOyzYg6GQZWdALjna7V42A7w16WBGCYg6ZAho3aQ159+t+wxlULgUPCRJhhOSwBIx1d1pFEBST6LzrzDHnxycdk9vz5yp1+692p8r1vHQV/u6gaVkm4e0eAGU8IW1UGaGsZNeeREO64iFJK2RqUtE8uNvvX6vlamWa7+OKvmyc6Vxhr3abyuCk9hdRQpVdgOp1/+eas8+Wl6Qk8fjQ93/ufGcf0Ng9XD1e+JscrrhbKR6MhbUiy896uIHhJI9yaNwPzWVf5fvh937hvM35dvmv4deV6v66a/l9C1FN8GuQ1ZL05o21vbE4ItvKyKeCiWNA3SspxtkXkx8BzMWfEnkIwNDNIYZdiIDBaIqqE2T+qiHTCCg+donOhoBoHBV4c4lxbE2MPqcjNCWBxgS0phWALRUtx5kXGE+ddUzOM8+PgT80cAiBawqHRBj3nQ+ACXAgpMT23xjORtYczV58VPoCIkB3LmnqqtJbDsBw+ZXnGyHd+4S719IJGo7CP8wZjy4fOKdI73VUiZ4e0fcXlbjdwC+i2SP+47RyfOUZcPKy4wfJUNGLga5fp4hCmmqi7QX7B7VMxznlpC70KzhgwuAXuC+VdGJZpCMO2dDwqUcStWLFUvrHX9rDKFcZ3sLlcbZ0oCM56wy2roC1ADMJNIyx34fCYDgQ0Btg1CI9C7XCAUEu/xrCRnaQZz6o6aWzGhpPTDHNweN0QOf/cs2TsIw9KB+QwlsxvlO2G7ZKelrZ2RLoeplIJY2L4bpkIBSAjeAgqK9aPJNKvXGQaKXlv0uuCh/Cy808/Z79f1zM/9NJ4ZduifHFIwdpqO9IhB670czac6/3srwjL3PAh3XQbPuuNluPGaYmNBu4WmDFGDc3LEXvR4TZtstIyESk92oCmqT7aXOVCU16BXT8WG4t0cGqFdBGoY4RgMrAIks60NkRj87ynO8SMHat/FfDdU9eTyI0X4dC11QsdDQ0qDMNQU10uq1bC+TcpUKQt9AyCONN91G1m2TQMTwEcnhNyh7+uQMRphXZSinx5xk2kPGTIEKWGnQcWPyVMRMx3PGN2yFzbghsT5MG2I+LuybnGuuDJve9rC3Ap8TocErh6R0EmUKyFMJVaUV0MpIs4cE4GDxkhixcvUh3fCFTmiuGcgJweFcqHQFd5RZV88MEHMO1IXo/leHjDDeMTfQtk29ps3dXRMDElreFvWQHvglnIyuoqFA1uDiOwm7TijpDahtpzCO4MOXZS4CaVwz6zMpAwXrh5O/bYY+Xee++VSZMmqUu8IYOtS0jNOBdyLbAJWiCHkDdBI6+tCEWw5AN5FB9t4SaSUBvCStFFY+6gOkk5kmNEd4pEdPSrSk81pGTpe5XqTUSCFPMvATuPSJXIqgU2hBkcks3+9cNFdSmymC2rESmR/5w5c+Syy36rVHIEesWD6sB2pG1BL1BdpFBdnmHdw8fUc6a9XRpfYD7AkesMKmn7/9k7DwA7qvLtv1vu3t29W1NJgwRQEbChCAhYQJCiKEUEQUoEaUoXUPQvIqCIiiBKERBQsHwWsKAICgIqVXqogfRNssn23bt9vt/znpm7NyGhKGU3zEnu3rlTz5w5c57ztudlx4RPVgAtUhCtS3hrdf/6JF7XureEUjNRcet4xTHrtyYsGmATlfeLViLd4RVogWKJrOjBVzWQJ7fNOpYvtCWL0X6QPWjffQ+xX/7iF3bnPx9Eq5Ozm//8V2fJ+sQ+n7QHbr/DZh9+uH3ve9+1X//2eiSyjDW3NNsdt99vy5sQsdmvF8m5hHfDQZ/Y98VLW5F6e50zuWHCREIAoemE0vXWv91lQ0jGK+mnZUjmK5YsVk8lBKrONtt8E+tsa7a//e12p/BUru5NN93U9t9/f/vo7rvbdtu9z3PoqjxvkJQG4CVMNl+BRk1P8QZrgef1tTfY/b/ut1udI80bXs+ShgM3LmqQ91ztAAAgAElEQVRibKZ9fRC5o/8V6D3++GM2edJUpwpUppajjvyc/fSn14RUa5IQQPQ+ztGPIVigq+FweXMrkgapxeLfa/rWukCGN9IMwe7LaAPoJYAmtV41ccWqS3d7DPLUUblflUVFRRKy1N4CYrEqvRTpOLlqIqELSAXQCU2iAFjAuiZJ1yV6QDsBaS2r3bS/QH1Nx4zcZbr0SrVAkIR1Ni25tZFCD4wB6/G7H7O99jmA33n70Ie2srlPz7f3bPkBO/vsb9i+pBDccOMNbeq0GbbJ5pvbFVddZe/acmvb/D3vtatYPu9cQpN4P46ADnb+/Ofs2eeetvd/YHvIZPrso5CJPHD/f2wLMouRMdE+ttdu5Aj+va03YwP74I4728d3+bBtvME0a0bbsv1HdiW2ucu22mIze+Ceu23K9Ok2Y/okO2C/PW3atKmhz9DXpC065phj7NBDD/U+WFOltPcvVFJUfqHWSbf9Fy3AQOYeXqmXtTfDa15w0opIWM51g9tmd7dcQXuizs5mHDR7o/du+e7ove/ZkixwwRsTMn28o/PRd75zVlRZVRY9+NAjBY/NxHOzh3213Mchybo1fSfehvJmhmHL980P6C/ekIMrosfv/0d0zsVXR6pR8Occih689y5x/zhtQEV5JqqsqAKCSyNy0kYXX3ype4aito4A5ZfUlrp24mmtA+666y6fJwDMEYPiKsuXX355dPPNN/t6JGTfhkTs30jNXP9i985Gbc31iz1QX1JV0p1eZguo/6i3JH0jLA1FDfW14Uzyws0vi/ramsjOGUVNrfL05UNkQDcHyg9XHsehv/Hdq37XG7U2LYq6Onv9vCt6WtgXv15dTP2Zvq1FP1YezAN4bvfywQt6kIvku3ujrt58hMO1VrG9N+pvXRl1t7HGXW7laUz/ZLlL1fF1AxF0mlFXV0d07733R7f94w6/r5UdPV4HLftufMIfvYvyKNbWl9bPdWha0hZYvQU0XhV7WafUmf/FJOYVPURwIsIAVHDtHS3WQDq4XmKKr7zyKjvt1C/bPffca5ts8ja/pOdTzUHrh0pbx0gq3mabHV1l/cgj92EbG0ZlW8rxA6hvM55covIFYo0Tq597JOOwISdXpWirqWQLVHmPP/io/e6eeXbkUQdbGcnkq8qgEhStoezIMBfJXlvCQRXEPksyXl0q7iLlXQ35Sl9qSSTbxImLzuuSbrdn6sm5hkB0miqyF0tFrTpITZ3sW3wtxbZK/Z2WV6cF1HWljdG3y8ZxX24kZWIrzlOef9D3KLXOPvoOXNGlSpWH+QHmSWPCaOU4fGWVAEV2EZXgm+X9sQ+Nj5wEfbVYo9hH5h3RSissdhie64qSfiP+yUpqJ7tUritqm74lv5aQD1hscIrXL3UHRHIuwxaWrW4IUQZKz+iVZ2/62kUXXWIHH3IIfNXE7DtrVyiJpFzIXubx9DpMW15Yjk7OkX6nLbB6C2jckr+C4uxV0p60egu91r95IMr9KnVZAx7TDzzwH4BmvNtBBUCzZs3ipQ8vvyc3p4Qk2uWokavZ/z67/npCQUqq7Sc/uVrEQ84hrfJCYFx8m+F8Yc0qCSFYpd8aZ3Pkr9XyQzi8ZMmxmqF+YtZqYPAVKJfjWIOE7CfxRAAc9FLBOHHM0vnvvvtu96oWEOu3vhthctL373//e7v33nt9OVx35FvHICHH1w8e1ikYFz/lV35ZgOdwJIDU6V2DmwwpMWARAtWLs19tFUkl4IwWGCspvXat4MAKnLjE8paXXQRkHISKqxOAVamAYQaJlH2DYUV+FFqSY5euqRy48uguwQlM6f26ScnoQM2xffBc453g18vj+FhK+FSEGWgYE09tbQNsX8qR3Otmjz/84ffe1/bddz/bc8+Pe79tKAJjrwzFb8//qHChFIyTxki/X6EWSCXkV6gh/+vT+EiGo4q8TQn/0HCyZMlCu+22O23hgsV28slfZJwShSCk/Eimg9iaK1zqDZLHAw8+Zccef7LdBB+wJFQXAuLi9lzsuhXkG+7s6sarlLASijyz5RhVzoCi8UWAmKlAykwGm/5uKyshirOMcJFSmL3YJ9tP7mQXMPDudmkjTA5kQ85Sb6XVC45ZYUBubW0HSOt9vbL7SCoRbaJfnwFa1/eQr7SM6RZQ9y3WjqgLNTbUICEHitZC7KtHtIt6UTCZwLZChkIn8NegqISuyJ5CWBVW4KbHQuizYSW/tconrJyBFwA3SF+lKalYp3ReZ5+K1It1LrbEsbeFc2hB14n7/+p10eYCDvtBukJS0k5c1Bjp4stsgVRCfpkN9lrsroeiuOJhVHxKmD516gzbHU/PqVOnehjQ/OcWEHNM3hWk0oqY2KOnp9tmbTjLTjvtVLv55j97NQXGra2iQzCbN2+xO8t87Wtfw8GrpQDGSmcnCbOUQUm5ZXVtqXwF5uLB7kay8Ly0QksRbcQNkOQt1s9SpAnRCKpkxcYQF3FXi6dYHt+S8KdOnR6uT/adBIyDwxfX5/TaLy3rRgsIomJYZCkBKfqYAynFkTsQTAaQjEEu7gLaor6WKLldh12UvEBgHP4l5xPIckAipSagHF89AdBCnQqISt38mtqS6Ml1Hq0LZVXwHVk/spSC8JpaJV33v7dA2rP+9zb8n84gD+sSBd1LelAKw2yQPAXE4vBdsmSp7bDDDs4F3N7WAcFBl+2919624YYb2p///Gf7y1/+6ET9CQFXY2M1EnA//LsL3C4hvuBJZHZS6YOqKINqucoJRKBowMYsQA4fnSODajpsW/b003bFZZfZh3f6uC1aBiEJo1Q7dsEu2QZB7yzqcxGUqAhkRxi3FHZU4qn0FE/s1580wfdTjHKGMC6FbqkUxxb7irSMuRZYK3jh9qcwvARkbZihho+w0OXLZMGBOvkZADs0QtEGFrUlqKuLmsiBlVKQeItIOvzwMLwFOVnLiYFaB41MH0YmEOF0fsrVPiNbkiWdLx0+n98u6Zr/pQVSlfX/0nqvwLFi4dJ4gi8n32GU6urqdNtWXV0jG9xwBpiRNxiihFAGXJqWxDzIIFciKi3Gl4XEWW4wfZoPNed+8zyrqYcS8Oij/LdoLcsAQw0hfdjppK4WcGrgESAPo692+xs2uwrscXLqUq7TRGVdgr2tNgstp7xslE6PXTKonVtJFt84viGWipUqT0QfGbvsssvd8er444/1Kgu0BcbJstTbun5axn4LiFDG6TMpesLj6oNTlwC0T9oY1lXE9KeDzB4F0ln1Sle/sJX/gzBu0aP9t86BS5cDuA3R//VVNog8K3syce66joLc1WH5H8KCE0rXOI+wXiXqFHnWJsLw/NzhXdJVxfAVKiDltralJW2B174FUpX1a9/mL3hFgXGfp0HUMINzC/bVmppaB+MunFvEhNVDfuFssbc0TlQlAcUBWuy5HKkMSwJjjYt9eGnf+Kc/2AH7f8o6kVJ9KAJIfdhhoBLuKyeyj6GMpvJulgpZv0Xw0SkpGA9leVMPxFJIbQ02Z1TVWqfJgsBYNu1GcsRqbFRpQ4IXGLcA0spvfMABByAlBwcdB3KK7I0qKRiHdlg3/9KZ4uccJFs6iNL58REZKz2O7TGgxn1HB0gtHR9Gs2iD9uGLT5COw/awz6ogWjiOiW3RSejTAnGpw5m8hlOtm02e3tU60QKJyLVO3MxYvIkBnKUSyVeUmYF5SoMNEI1bqZiw8LfyQaa/l+ENkboSL2qBomzBAkCxFAnQEx5ncVrfeeftLvkmBBmDhJAovMlZr2JJVUBayjm0Tx4mrjJCmoSbtXhO2xB1YLuSRbQzfmYZQOVbJhBOiqRcqdzz2L3r6uAihpZQZRwg/c9/3rHK4xgqun4iKfv1Vx1XVzkm/TEGWqAAvKGuYdoVAzL9CrqYsEHSrO/LhM7X0akTFNW324DD0YW7TkKL4hXaY03dJcH0EXbsMKz5aWNgl/St32XJNVPlTKGZ04XR0wJr6t+jp3ZvgJqIqzoZmBQ+JNYtgZ6oMaugxVQoZ3dn4OmtqCh1MFZxMENlrTKAl7Qkzj48tVc0L9NW/5QQNNmX7+X4LoCWY6HjlC1YGaOUZUrL/fKwRvJVqJTAuIf9lePYS3x+XVLgq6JYzuS6LinjQZ1s03apprtJgpFIzeLUVjyyHL4qcQBLnLnk0JWCsTfpOlUScEz6dJCIWasNgGEA6HhSJ3D0T+iv+lE4PmmVGEDjw+OeXdRkCcD6Kl2APRNnMN8WzphcKlGtx3uHyxedbmQxqVPyvepOyfnWeGi6Mm2B/7IFUgn5v2y4V+qwKvK7SWUtcMpA6qHkEgLlXA3hRsRmKo4yVwu9Zh8BI9hwVQTYIctSGGyqiEcWsCqphD49eXiuWSdwzKJadi4r2eiQkIcGkbiJyZR+WnZreW1LZe3qaEpNVSXp8xgwNRNAMh5mNfMAH0glwbuq3NPkBf7pAezRituUd7WctST9ZjLBMUygKxCOouCJLWrNkGIxmVSEc7xSbZme5/VsgVgSxvobp5agH9Fn6Wc+ldPcMZZK/bdU2N4vQ521WeptbfNVxC970YowF5QOqLAqOU7f2hyOLJKwdRJ94nCm+DJurgklPulqMneyucQdwni/EoexwoZVqj1yC4Xt4Z0M9nDddvid1GPk/Ek94noW/UwX37gtUC51pVSbUmVK4hE3cMKApFjRtLzKLcBIkYU0ISmlYj/wUgoAj4QUZSqTIYUtCX2R76dBQ+FQxPjGA5wka6kGyzOoBePxgAzKzkhUVsoz9f0A11LFZjIRiFXYPhj6iCHA5hxcvobLapWOja3OOklhoMvIoYySeE77j7gkdmKFVKlIStYnKcWSdWFlujCmWkCaEJ+feZxxGdnIIhiuxtkwZoxSuKCJNqf/MNGskKo6WIKhkQkRR3F/1Q2rizAC8Vc2YLZrJqiVGdmcdQb5QODAyDHqQR4zz2eISZ7GLZ9khhUB/LUPE8ISaXnw+K6I+7F3Rf0BcDW5TAAyWVCYljYH1fZI2JaykaoUYvX9hyIF2J8DNGn1AyE/0T54ZfgpyfLNLRE+OIBRCVMSXz7eZrWTblevEvXvZx+9Dwkxj45VWGKZZ6vS/evkOlZaqEEnRfG5Qljt21QS5jpFMMiElZixCjukC6OqBfS8RHIkociJkOgckWyLYkOaOHGis0O1k0BAmU8WLlxYCGcZVXeRViZugQLa8qYKvJlclTAAyINUuVojAHkIezDLJeWL2c4A1T+dbwa30hacWPtYI0lFkwCNDJoYFL3hOpcGSP9OikYU7ZcAq+oQjyxFe41sT1YW1dVXJb9HAHqVw9MfY6AFyLBVVUs2piarbCx1rc6KJgYWvKNrM/QtaDGVGrGL8WUQ00YFzDKl9KfBrgHL5eusJltn3QPt3g+HyogcYJJYqr5FfywZyuLGALhluv27ZIg82MPEy3tfhaurVEg4ZPVkPBsknE9jlgSJaCjE2T8/4xeTAm/RpL8BmKKsjVs5kZwHNBdlZTbu8r3q6pSsXgO+B+LDw/7cf00jvh1MRoaUkxzTkPJ7S8NExin3/u7vsTL8J+r4LT+Kbk0gdO5+tEcIQX3khMxWZ6Gfxe88FogEpiVMehNwFlDrlNIuaZ2EpyFAWVEMveSLTlKNan1CF6t91R6inU3L6G0BPbNlSmvLTKuT5D3lQmYBsmgG586dW3ACCjzFgb5w9N7OG71mxYAcq+scTyH88OTpDGyDGmFYLIM5iVIypFAq/WZ7SQzIkoh9IFxtuh2fa42AnOzr+yTDml8iLW+YFsBvAWfADJJwx8AKJLYKqy5vsPXGTbelK5qYy5GAWABWnkV+RnqO8szD8pYrq7aKfuLtk3mcxFGF2nk/iid8IZYJsA55jYEn75/u+6Vd4q6ahyBHPOcJt7nAWYCWQWJ2s06x0difiyatIw/Iey4IDOb7eknIqrJ+qwzGAFwe/9Y++oTtJQBjCCOszCkPOLzZJUyAOWlUNmwdZKXKVATzDdBo/fhyVJTDCQCoktwCJ8mRsEMHYUTthC52pIYjSzL5JM6cpYq0oG6JH0axA6eWNX5rXFfbpGX0toCeuQRhPS9REWM6VP7awJusaqtjCLVdrZKwTYze+3mD10wgXATKag0fbPQnfBITWEGPlwxG0jMySIYhgZWJXrm4RQvn0qiUgO5q+xb2KT4wXX6jtICcDAVQFfCbl8tzmlIKwA1C1VourtUhqbIl1WYsW5LDP0LQSn9Sv5HvoHhw5F1IzHuhaFuMzYofDlPN2GASA6R3O0oCOAIqlXJFCvAZIk2p1pWKdKfofNonOXZkmTVxlXQt3x7vFE9zA0pTJ70mvil+JWTKqQb8FSU9WFpuGcbNPE6MVXVVVgcYtyPZyiJEag2rqCUKQTprvbNI96L51PkV6VA81kq69SqwXrclYM1ivgrmHqRl6iEp21OlxkXSlYSqxAyUmhtH2mY0LwmINZlMiJXKfTYJKM+YMcPtx1J/SGrWA006+Wi+obRuGojiUUqNIQ9TJz0Iy5HIFYpHmAS/9V14ofmRxIWGI8Nf367zaeciQC7eN9mn+Lh0+Q3SAqXWsqLVxk9qFNxiNyVsjzv3AUaS2SAx6KiqB7GPdtMlK1HLqq/2A5ZZnAtNWcXoP94Vk36pnoY+OAlXQpcdtyXSYaG/BluyNvi8kpIDjBR+p7Grljj+fhwaKyDSGaavOrZLao3P5McV/yia1OoS2lTYHC8k1y6uJ/IxoImWSa9bBifMQVTP2Lyr6jUR4b5QK1fGZD4r2oasjqxoVVm0BlwvU1JFNiv8PEDVIVBXwCshSICaDM6qpyTgcuINe/OBK75MCTd0L3G95MKhSYKY/ZIiANc5dL60jO4W0KRrOvm5JRTL3OA2ZIGyHmiS7F23kDoFjO4HOVI7jWRFgOwbEvUfb2tMH6gE8b6f7Mp6T/2QIjVhSKC32qilfXT+BJA1XOlAnUfbKIVBMv6dfr2xWkDgQB9o72/HJlqNDThjG6+/kc17/EErrRbggkwlUllnvbeVIRZjHca2Sj8kcsBqkC45XlprB0P+BGyWWxTr5Nzl/ZW1bvOVexNbYgBXdijZgpMogcQRSg9hTW9G8nBCt41PouvqWtoYL6zevfVbeyfTg7CbpH8R3+B4FY3DbZJ9uF+xkJUPsyd1k3g8hJpKBiSdP2t5IiLacMIEwImuyFRKpRy/UywlRREKEog0DudygX0MnHWQzch1PSksagIkQUoDutSeKtpPwJzYoUcOSJdGWwto8lRIPSv1iFTUU6ZMKazUg0xUHqmUPNoe35rqMzKwFCSLZJ4fhxxFsbHJJ83J6MLLHPaP17mDV9H5/b0PA+GqI1URIGuXZL9VqjZSp7DaZwBFJfm9+n6r7Zb+HNUt0NneYfWNOGhV5ACd0HmUIKVUERoDSkBCikOyjZWU4pDFL8hX+St9K88d6VFMcAJkSZ6SWsVH46BMnmOBX0bUmX5avK3ZQY5fArCyOGyqHMCTNNwPY51SOYpGdvHSZTZlvcnWgzqw0ll1VEI/S1y7Egk5gTZJwFqXOHfJ9UIlE7THlvz2eups2l8/+rs881kJOuQKpJyV8gqjTuWKYIDuUyrq9mUrrXrGRAfslT3DNqla3O6dRFFwa+Q2H0Rdn3hRi4tAUlMZkrM8rDPlAYwR/GV6poQai7p2kLG7Mhs8qXWMO3uxTtKWxm2BcTp++2MctUXPTTne9e0CsSRkFVA6WfRvEDvi4a6yLv0x2ltAz0ufgZHPMIv6+PohXxws+gxH/fzSJ37Wyf5+jEpyPu2j88blefuNbEqutep38fZ0eZ1pgeHQr3oG+6M+bko9pKa6Nop6euhoXdHnDv5oNHFiDqgbj3A7GddiAojQuu6+/fuiX1/zUz+mmw8c6t5dBvnWut6oi3N1hRNqxZD6Xw99d8D7r3dLFiC+0S/v130D/dGfbvprdPTxx0crOjqK34JCn4fpjn2L34/knYm/dT98tN+gLhLfn5b9d/wJ59G1l0c/PP/USMGE0kft+unZ0Zzl7WHfIba3tEfbvW0L0p9lcMqpij5z/Kncm06znBt/JvrrX6+P9j9gP005IiTh6LjjjovmzJnjlxnoG4xaVrRHJxx3cpQprWKfTFRepm8xC2SjbGWtTyH22GOPCE9daTq9LVTa2toKy+nC6G0BJkzRhAkTChUsZclnD6t742mWlcaJjtqJ1fMrFh5jkCb89Y4/eFsPE34SOXUhqjOkiV4IR7S5R+kW8wqLkCoQJxPpxCjd3YEZLPaTia9FrllIS6Qe08EIHwU7VrzDGr4klYTPsKjBKH48RTaxtIz1FgjPVmNIJo6fl/zmzkcS51h/6VVX2s9/di3SYs5Wdiylv/VDIrPCTjzpWDv22M/biad8DVtqkE69X9CvyKNCb/QAqdCPPVxe/UWc1CE5xTCUrcVFHsi33Xq7HXroZ+3uu+61elS3vfJK9qPgWe9sX2X/7h6pmmHVdqkEuRn2umDeIfaY47pxzFLcs8T1iI+W9a8XL27NKLT7MDI8WcLtyGNOtPzQIvvhd0+3P//qGrv+tzcgnetYRGBIc+64/w47/9Lv2c3/vsMuPf9bwThEQ33+lJPs2985z047/ctOiSuV89vf/nbbZeeP2B9v+APtWGbV2ZDAZfHiJs+u9q9/3UXc6ngyubXBe99BNrgl7swlk2NxzHF9fb2rrdMy+lugWIuxuh5x9Nc+reGaW8BVeclHu4RHu7xpoXu2DmKv0+upjE/y2NSgV4WTSQ4SEQGtvP1kr5JGLJfLoj4J7GHqLD35AKLlZYS1ENvYReYnOeDLmcTLGt971UU5lmW7DoQFqp+OF6uXDx5rPM53T8tYaQHpeYs9nVTvwm+2obaeOWt9TGB1hEgpi1MI7dlh153snHPOtiuv+ZktXU7/oi91tnV5v8q45YTJowfssuyTOC0TzkO3UrcpxVkM+jpnmkMadE/lrbbayq655hpX1UoVnmFi0A+4av/62nobwON7ABWxGLaVZnRQZAww0ymZitPBou7t6u7iHSm3mlyNtTSvAKMx6nBudXXR2WZQgatemrx2dPYwTYD6JIMdGB1yPU5qF3z/bDvna6fav//1sGdEA1Xxvi61t22+mc0gK1oFKusybuWHlwPct9xpP77qp7bZWzdjX8KmcECbfehs+8EPfmAnnniiPfLgo8QoV9gn9tjDJkyo16moV52rpUO9zNabMtn2339/NzEWC1B6b6UGTcvYaoEUkMfW83rptY3BbtKUSRwTvDh1sCRhDUy9/WJOCqUPcoFKBrbq6krPzqSJ9dDwAIHqkDKIYADQ/tHFP7JnnnnGD6gh85NwljHkRUoE6Ae2NzmdqCgTVKDYTAeLF2m8MbPZMZnajgwm9KzESCuTKgAXYShetjTcklKHqk/WNdZavjMf0oeyJleNTTkoZ6yX/ldOXLNKiXtjC91KkDzNWkMCMbfVKjqgoa7eba71JDgRQUgfGiBl9syjAaoAlPUqdEKQ4VJ8LDV2drbhCBYMxbWki9TLMDQwbFVIm51Ix0OdvTZ+3ARrZTKqKw/yvpR7jmcKtl3Zq2sJYxJlpya3VlJv9dkG2/fjH7DDPvNRO/Kwz9pT87pMcnm+rNLmzVti/S3LqWerdcx90K687o+27a4HAaiz3OtcecpL4xjFD3/4w7ZgwQL72823eL122203jzlWsynhTD/agUHqmpRddtnFbcWaJCTSVmo7LjTPmFpIAXlMPa41VDYG3iAdF34w8EhlFtkD993NwFZp11x9nU2ftolT7k2ZMQWgDUT+naisc1U5+/4F3/dQCam6NthgQ3cQqa0Vu1Bkm2yyiZ188sn2pje9hVm4KPsq7MYb/+wz9kJZpR4aLMKKXhx8OlAXvv8D2/k5ly9fbm2MqJMmTbOdd95tDTeUrhpbLTACDKt0Bn/8bAMoxURUCbXrjGlhjzwS76K5T9mZZ55hXzjxFFYKcGH1qsDUCkYee+zXbb2p69vESZPtzFO/SOgUK/Fe7u7rcWeq7194Ff10nE0G0E8+/nhCr1Z4d5Pmpau909bjuPa2HqtGA9Ta3mVnff0se9NGG9vECePtqit/4vUSmD79xBP2kZ124Z0os+n1k+yk40+wdtKfVqFm/udtd9oOW29n/bBr7bn/vjZlwnp2/nnf8Ums8DcPCit3uJTiweu7ylYu59qEsJx66nE2a4Px9pWvnuIOam1MImobGm3KpHouzWyit9MeePhJ2+it7/ZzZQhrSlqxgwmFBuVP7r2vXXvttdbd0eMkJ7o//NY8tCtC8k32l7ZK760mzgLhREpO1dWhr421vykgj7Untlp99cKPlBEgTNa96z3vsnvvvdW+9a1z7f77H2KA6bfbbr/NrvnpT12qERife965rt6S6z3eJPbXv/7VDj74YKdyE4g+wcB13nnnsR2KQ9TbsmXttdeuL6Hlhj3DVB2D3/XXX++quE02ebN7E1555ZVc58aXcI50l9HbAupvz+9zq9ZXgIXZg0DkCePeCzlIrc2cOdM22XRbe9c73mlnfP14mzpZ7sN91tE83/be8yD74I4727PPLbIFixbbww/8xw7b+2OgoPrekB1w0Ak2a6PNrL2jxZ5++kl76ok59uXTvmR9AGk5kuvGG27k/Uv9Wf37kh/+yCRxLlvaZI8++qh94xtn2i03/dnr/aMf/ch22mkn1MVD9thDj9hfb/yr3Xr77XbTrbfZ4QfPtmcee9L+yLvwi5//yv5xy6124fcutCefned8JpXkJ88w2VCGZ9RJACa69tJaa28dBvin2fnnn2r33/V7u+Dbv4QilE14lLf1d3JkqXX1oHIm7aq08OH1HUaC1zbiiZkQC1Rx9LFmvMXLxbcda6LgO/F0p0omU1YKIQv7V6FyV5Gavjh+WYCcSsneNGOqpIA8ph7XmisbZNGCiLraToSE9Pdi2/qhTZ5ELKhUgajxpk6d5uNIn4gUcF0Zsy0AACAASURBVIA55phjCi/wJptsbIcccghqtnmFGbeAubm5GVAW6UC4hDt9rfGyIysVF9oPX68GjL333tvOPfc8mz9/vu2++0deglPYmu83XTsKWyB+5AorSkKLQi0FIFU2efJ69Kd7CD3u9H70r3/+jglfu22++Y42F9UuUGNzn57j0vTH99jGagGdLOFE3zjrDLvpLzfZfLY9+fRcW7x4pe2y+5YueVYQ8vPNs8+2n119lT391FOeCnQF0nIbfPyN9VVMJJ/FTn2OfRobaznhRNOmTLemxcvtt7/5jeXb2u38C79vXzjuePv3HXfZUYcfYQsXLbCa8Y229Xbb2c+xbXfmO2yXj+7mMcSqz7QJk4kbzlonxnCFGMtUrqlEhUKr+J1rnGhNHQNMLapss802sW9+7RT71pePs3v/8ah14a22sBVROTOBECroa1GhT8JXQzJ2H4hbmwvxw7JrV9BeT8553N761rdaNleJI6Qcz7heMlozEUjsw9IoyBlMJVmniYvAOXXKDT1wLP1NAXksPa2XWlcNjkVAKcCVM5WKZtbrTZ1sbdiKcRi1LMGQK1euJBcyNH683f5yM9jphZZNSl7RkpzHNTKQ4CBTIWeal1EUS+n2NtiTJGlvttlmDvTyN0m8uV/G6dJdR10LaFb2QoWYYfrVkiXBgCwTroDi7dtsZWeddRaq5S678oqrrLej2e644294ENcZwqxLjqSjsA03nEkssdlTSMO33XYb/g9l+CUY51tulfVB2h5HYpzWVrja0f9m6WuTJq6HoxcOXNiSN3nzW+wpwLo/1v4MRr32o8susSqcuuY/9bRtv/329ugjc+zySy+3t8zaBBV3h1Vi826av9im1Kxn/a6WNuzUjYB6xpqWLkfirfLc4dow2IMzBWYd3LWtE9CdiLmnifekrGwi0vxsO2b/rexLn9/dlqxYaY0bbWOtvVW2/tveYTNnTLY7//QzXMJWbT9Jtj1oppTYZ9ttt3VtfjENpia20gCoDRWbrJJ4VycSsc6RgvEL9cnRuy0F5NH7bF5yzYLaS39li+Or+MOw1o9DipxiunFW1QPvbO20bHkJNH7aNULFNtnmPD7HAVghFHLmeuyxx+yd73ynA7lm3E1NTa7CVlm4cKltutm7sA0zGIWLr1bXZCUhJAxouuq9993rwL777rvZ1ltvbb/73R+5FhVIyxhuAfUmuURDYsFjTti2wg2pDwi1sqir+6yePJ6YZj3kBz9ri7oGbTISa76r1frznVZZN9He/d7t7c47b8dPK/EWjKydTjsJ4/M737WVbTxrY0D0YVsBtk+birMi6tsevAsryKQ0Y/31/eSysWoSOa4+66BUxsxP3tLyuJaXdHgDADNmowcedIh7Mx9+9Gyrqq0hkQWOYdU1mHVwXBzXYMRWQ3hSaXlMNFlmAV1IxvV4X+uuZM/Vy5QhpeKQ3gsc0sqqM7aUyW2jk3lQGer3nR9faI015Xb6CSda85JmyyozKpvOPP1U+/sfbrBnnsCTGr5tJckQYahSrv7hTzdZC9qD2Ycf5pOMMr0mak6wu5JEHqIi9XSsVERaKmkgFCWRAHMCxkkYI0emZYy0QArIY+RBra2aI3ioR6mhgo+ngWERNd1DDz5jW2/zIdvxI9vZgw/ebfOwge38/p3tsIP2w752CbuVeOzmXnvt7SEdUns1Ntbbu9/9LgdofZQ44IADPsO6LZ056L3v3dJuuOF3SDPBc7owAfBK6sIjdWle3mKzGEj3/MTepPTc3CXjww6fzedQu+TSy9Z2W+n6sdAC7jgotHAKqeBYLdWqKDK8/yHaRg048RHTW7KEFILK+UThmHmLOuykU74KxWSH7fD+9wBGjfamt7/f3r/DtqiPP2WleBGXgDa/uOEG23XfA6xx4izb/SO724e2mGKnf+EAa1+xDF1xzq77zW/twNmzbdL0qa7GzgOaLa0rCF/qs3e87c2EFL3VvoOPhJwJJWm2o86+FnV0HzrnFtTWy5etYMJp9tC8p215R6v1trRbHZVsJ/tUD7dV0pG3yTLXdHdYS2+3DRDqJF3TYB+TBr18fHoj0Bm+k2fmPWFl7a0mzPVtlUoHmbMfX/M7m0jGq9ruZqt2YXrA9tn7E3b47MPtqNmH2UJU8Rmkb1m9f3DJlfa1c75pV//8OpswZSLnRc1NekoxnpGbDy/yZWR2LLdHHn8iqLDjEbw4OUUCyMU2ZVUpLWOgBVBzOEsI3rX+nZRk/Sor0x9jrgXE3rM645rWMaOGja0v6urq4J4Cc9GgmIWgCMLmHDGArfleY4auvt6hCEl6zfsUrRXjmz7F/Un1Sda/6AnSHUZvC8TsWk6DVUR4Nb4Wpq5h+hTsWoceuL8n9pzc2OjfWDajhuq6aOr4qdFHd/t49K+7/+O9rxvdsL67egei2Z87IirPZCPofKMLLrggamtdGRizBnqjZYvmRycde3RUSQTShIbaCGKNqA81DIdHv/j1byIiAKKy8kqwORO1tnRG8+cvjD73uSMjHL6izTbdJDr6c5+NFi+Yy5X6oyuvuJT12WjHHXaLnnt2SfThHXePPrXvQdH3z78Y2MxGZaXVUUP95OiZpxdGU6fMIvQ3sGT9+v/9wanBhlRhAvzzXSujqoqSCKUT++ei8759TpTvgWUsbpRB3rNfXXet131Q7xu/I5jNou726NY/Xh99/CMfjirKM1FVdX101PGnRY9Tl56+MC5Hgz1RX1sTp+qMPnvgXppzSB8dIcJHF13988BaNnp7SFqzF2kBjYtQZxb2YhI6jBd9CdIOM1kC5JPCHmlg+RiYUL2UKhY/Sy2LACTMqBP7VfgWiUeVk92HEJIkdli2KdmPNeNWoic5kngZEc/jFWv+Wr0v6fpyEkvLGG8BWSP0SUrcH8ZjB17Z1sI2ictkM+J5l6Fl8YJU3dnWQRgQ2YnYH+I4J9oINtEBy2EwlhZF3sTyV5C5ZEhJhzlXRVZxxKtej6zCtnzlCpswfoKbR4aRrLM4exWyOcV1GhJLB15YPZ1cGw2QdL3d2H9zOWKQKVL9Dop+i1JBnmKVPGxy6vOBQ1o+D0r0EPptby+c0ai4o6FunLB0b/GFRjyvnCnL7b1UJqt4fAUSx20SPBp1o9ieMRHVElYlU7SSs6kWPV15a6hBAzUsBmw1Em0gUhIYT0pwdlO4VHNLl00dF1ToXuG0jLkWUB+RR738eFRihceYu4+0wi+xBRIw1MCWz+d9kEjUW/LeTOxMnV2dgHFQQSfZYzSYaFkTNg2O+i0w7lfIBqWNgfXFiq6beH/KhqySgHFHx4sf/2LnT7e/ji0gDEo+RdUopEmMMaoMu6hUxdp3CKCtJRmFF5AneOwDooiXNVUV9FEBkPqIrM3CL4AYMBcjV0+3fBYg4sBO3IxzlYavvv4+B+OFhEh5QgY6qHv/U/rg5NREspvjyriQ+n9twzhOSkWwLytlYw/Xa8OxjJ8OxLpecnxV1QgYi1VWYCyQVqlERJdRt4KwwUHRb+oX/bsvXpZNV/1ek9osqmvVdVBhDcTxo7LyicoAdmNcyQHj8X6c6qAmCzZ30uASHSGzU9uyZqwCMg3IJ2NkTjIRME7LutUCqYS8bj3PNd7N6hJqGHTkCaq0cQwOFA0eAs8Rj02NWSPzNbEDaZDUAKd9dY6QMH2Nl1xlZQLKyfkEzJI8EqB+8TOke4zaFlhdQuZ3A4DbhoQsstbuzi4rJ4C2Mos9lT4DZDrqtEMOU4MjFc79+D5BG4lkW+nScUBxTRS1rD4jIBWwjfQXoVJAL9FNSoOjKIGk9GHfreSaAlblC/Yi6RNnMfVF9dsSwDvAXziO8Hqvi/ZTXHIGN+p+pOoKPK7b8LxuqK9zyVVHdeFoVpFhklCh90PoD+gTtZCDT5pcFGBuuKiyUGViNjBlo8pyLr8v9i/TxSTGK1+zslVxGu4CTUIFE4sgKTn9h7+fYYbRDclJDh5rkXT16t7YTyRmyS2yY1rGWAvonUgl5DH20P6X6iYSrs4hVXFCmiDg1eCUrNe3BrxEYk6+1WFUEgeRBNxfKpjqmrqWBlZdT2Cs0A0dr4E0LetIC8TScKK5Te6qhpC7ShIkqB/682Y/TerqGwIYC2yxnzqdqvqEPPnDZG8kR6z6i/qj1kvydLjy84R1AmOBv6RlsXVlpdrWXuymayWllJC/DIBX4hNNaDiJBU6K8FHH6rx+HbywNQEVOCsUS+ptzRUk5dbgLl6GRC/GMaF+H98CY3k/91IHeX53o30qAZh7AfUOB/AKaqjr4vkNM5dAXheTKr0EBJZKWxMSMlX6Xi5p691TlIJ02TjK5eoawiRDO3Bbyb6Fm0gXxnwL6NGmZR1uAYUtaSBMgLA4plFAqfyrWeIqwzAAKxDqPNFlSq2sYzQ46XhJ0t3iA2bGr/GsDLLgYp+DtTWhzhNs0IMOzEnCdJ07DK5rOzJdPxZawL2M9KGyhU/Rb0m/A4iflcT9KoFDvpcJGhJqBzZSleCnoOxKHUiXIqnJ+bf6mvpq0kfKZcgFEaW6Tq4j6ViAJUlS0QKKQa4G2LVapQPayXLAzueU1ClJkiI6VxWFGKnoGuqP6tMqAmL1c00gkyxlpEb0bSVItUGThDpasf28DFlCpZwpjOQrYtGS6Ue88BLCJWHr3lUlT0rBR9WpgGBEpUykIswG2tpbnEBHSKtaCJzdxMP5uwF0z27Fu9pLtizNa9DuO3CnZd1qgVRlvW49z+fdTQLE2iBwlVSRSKyJtJuoBCXNal1xCEWxGlvnSPZNjn3eBVdbUbyf6iIpKA3HeLFWGzvbBS6rF1dZtwaVdSCwFLskPNXoj5UGVBzQAj9N/MpBrUFoMX1y6JJrKEoTqsmbJnPSrug62r/UWaqC8Khvp+VEQq0GFIv7KqmROV5amCApO8oVSnJMIMsRtCX9NNHoBHNOcGxd/R1QAgtxvvt1Y+pKTQLIx+yTCLfzcisD6JYdfBFlY0UT5CKauGgSAbADzro/JZZI1NKSsjW50ES5lDYaJESqnEmI6qiUkDmkc51TsdJqLmW6XOXWim8zXR71LaB+V6yyLmGFCrGnjT4QJwO4OmbxYD7q7yytYNoCaQu85i2QweNXwCS7bG1dzmkxpX6WhCenPQFbmIABMzKJuMM0WcBwhuqGv7kaKVWZxQS+ArqQ1AROaGyyGo8Ss0pQ9652e3hNZ5CAh6NBlxxFaqPkJ3JWFCOdzDOFyWUhPanOEYvQr0BrDcEGJia8DsBSkrB8LTSxGGDSoXuRRK9JrBy09LseDYDoPauRkKXermQioXF2UNuRyqtQ73fjCa6EFZ6qFNV5hhhm2cW9DTi3JiiKhpBEPeSTmWD+SSbbume1tc6bmoVegYf8Kp5CfVakS3p2+pQnM0MB8kMPPeSJrlVEoaid05K2QNoCaQusrQVEwFFdnXWpVw5UAoH115/ufOVB8gtHBkcpSbwCFNjiYHkTe5bsvcTpOnAVF9lzk7A7rV+TJK71Um8HVXOQrhVCJOBzIC4+6Hli5CsHyl7v2MksuWQfIVTliMO9knC5TzmJqYYdgK0mEYHKFuDWPTBBKQdA8Q/nx4B1YUevIaXkMPblUlTa3maSrON7kC/YsmUroQgdLy3284rGdAGxS99JzNbz9kpXjIYWEM5uscUWPmlTv3UJWRXTjCpe9Hqm0vFoeFyjqQ5rG8BG1IyjqbZpXV6jFogRSL5H8jMIfglIbGKvorQQ7jR+3HiWxL2MOpbUnfpWFrBE15rEpWv80SdxAHxxQFGfHAbAOhjMsoC6KCvj/gh4eWQANlyVBMz8R1FxT+b/oUhKlSNaI97P7gjJrEQTEYU0B5V6sPVKdS7vaZ8kIK33dmEjh99dQVQtHd02Hu2CA7JijuU5rjAoQp36cEpT2JTCqBUils/ThiCytx/7y6tbinGN34mjpdpQzyEtY6MFNDmTlkmlhM4USRKWZCyVkV4WPVDNMKXySWJGx8atpbV8+S2wNkBdfaBa/XdypbUd//Jrkh4x9lqgv09SmBKTSNIDIPBKfts7NrcH/nOfOy6VEjeskJ8MDk9uI44lyZXNbTZ+AqQcblMN2CxAk4o6UTPrd3Ho3Ujr4Pjk5xlmf5zGOH8VfNYqw4NBfTuAIVeqc3FxqKwCyK6+DqUk8QArrHl5CyNm72Dn1sTE7d44ag3HIYLlsbMY7F0ypnu+5XDT5dYXS72aNvTAX13Lth5CxqohanIoRwTuAYSzIp4Pazxaqr+HSYicypyIJEQwqK2S6IUElFOV9ct7nq/13npm8jsQ1rrKWmAsEIa+yx+mADhBa+285hfita52er1XtQViKcevUVDtrQ1oi4E5DAavat3Sk4/qFpDaWWDc142XMTmC5Q0977nnGGSQVulLPR3YietqLQ8HtCdwwBuptKLMxo9vwP6JxIcdtYo0hOpJIu8QkCUAvarz32oTwqTPgrju7cxvZwTLBG9uIou8JICZAHI4S+jb+ltSYNb6b5qZCQH261LGzb7+oHIcZELSywShrrqOeGS5Z3GPeEmrjlUiCFG9JS6rvqjq+0qztFuIJZYjl7ZVE/M8JM9qpO2BYezKNdjb+wY9bLGxViCM5I+ZIEI6F2tXop5OpGJ3gkOoWt0Z7b+5w/SYV78FJAwnGby8Z+pBS7UkYJb6JUnVl0rHr/7DeN2vUAzGL7sya5OaX/aJ0gPGYgvQd1wzyrc7FAXaLegvQ4jQMA5J1TkkV7ZXMfEfJD2hQKK/R7HEAkOxXwXJr5N1IrzQOjkw9RIeNWJCS/qZgCyAmdS1EhXdAxkQy2OLE6kGVNnWiTOZvLTllf1C5ZXovYnTme5fHuXlhF7VyFFLMcnYBUWMUkUIlOrd3kxCDNVf8c/5Hg95UvST8Fkq6RoySUnijZCWygDwDGQo1YBxF2xilUx26gDjbti9Bj3VlMKjCGfEGUwAnHikawxXnSRcpWrrF3r6o2Ob8n/r+bkDIJ9Sza5yvDRyoNBD1XJSZGhOS9oCaQukLbC2Fugm1leAm6sDTPjuJoNSHbbRLnjxSxlPjjnqKAgsMqQ1zOFhXAdAV8F6VW/bbbUdKTivt5Uwdgk2K6VeZkEgmcHRK1vE2uXX1k4FfI1/ODgT24ukWYX3sso1V19tF110kQsWSVyxb3hVipy1UE0LHJGGZcslbYp1oU7+5jfPti9/+TTuN+bwxhu7fsJEiwDjbbbaGhNhvTUSs/yDH1ztUrxM3UOouJ94+GGOGWe58krarcIuvvhi2jPnKv8MNuVaJjbKOzCpsdZ2320Xu+mmm+zZZ5/1u9PALq2CxvRif6BX5dbTk74iLTB58mQXgDWB8ph7HlzE7C7iIWvRC8m+C8vpwrreAqTpiTM4JXfqeWbiZDMhYw1pbYp+D5PFpvBTGW2U2aeQ7iecJTnl6t/remu+oe4vfrjDfShu4wRGEV5G4+troihPJjCyPUXDXdHfb/pT1JibEi1dpHW0ENnG/vybX0fjamqi0776jWhpe2/E4Z7xKU/mKNSz0aD286K+pfOoD+qj/pb0uf5ooF8Zx0L/BJzIEDU52m6790W9/fkIUpLQtannSD9U39X6+AJxR/avos6aLCbr9FtJrbzEx+j3AOfpHlRmJ2VK4zOYj1qWN0UbbjQtAkOjxUuWRu1t1FHH5Nmu2xng2mRU2/zNb44qqsdHd9w7J5ybffIdjL2027Fkpcp3tvk96JBdPvaJ6Bvnnuv17ups4VIt0fW/utwzTH32s/tHD9z3uFdQyftC3QeiweG+pKqqdShx3UdWpEuvdwugyShUoZQlV23oOymagRX/fkWmAulJRmELQD04gKNJhBqMPLKSQAaG83h+oi5UbflDbij6goJH2dYrSgNJAjjqyBlUO0l9Rp7bYZLMJ7y7Bxx4kO24867WSmiLfGoU2pEw8o70Ml3glVAajsJmfaNUSc5RJczqK3i64rZAypOtdggbJxyVPF5RUbbauPHQZJauj12ZLEUuAg/aLh/Z2n5w/tl20Y9+ZG2ETml1mRN5KKtYGdKC/I9RX/fQr9wXGdMaySLkwOT9D+ctRi56J7HNXFibdth5Z7vipz+1tny79QwSyyvbNp1P5+7pFhmHpFDF+Ir5CrVxbMvtJ3OTiLDczpxnPXZh9dkuaYZZ5uXw39364x14GEc1VOLanYPKy1DRY0P2IOv8sN1/++128IGftBkbTrHf33KbZeqraRN2Rr2uV0mObV1IQwcedrB95oA97QuHHwgXdgd1g9GsBmcuNArrv/mtlqmud5u62mLC+PE2rrbe7yEn1Xa2xj7+yT3tkUd+br+89ud2zY9/b72wcYqUpIWK4+rGNWH1Sqoc11u1T+4hff+8NV7XIpwVyUxS1ua587pWMr34a9UCDFJO+wvhPoOFvGTLSMxewiCkF1kqxJ7udtQpwVU1QzYcH7OwBWqw88FVRkRseaXYP4Z7ezCRDdtVV11lu+++OzavQBmosSAZGFYdIF6r+0yv8+q0gJ4mkzr9cyAOE69wLT119Zt++J/7rL0zIjyJruI2Z0CuCu/SDOkJFe4BmUcbaQUFu+WwWomjuRqbaQ9qb9FSNnumKIg2KjM4h/XJTAxm4fAEMJfjxKWrlDAZ6IAQZGVbq71l001h0Gq0dvinRYLVBZJW56gcxw0PEH4FiUiZUiwOS92uVKDECLNN3stkpQB/scuyKHpKdXiFc2m+yuWteUUzoUfYq+OkEWWoGskrHmKSRMnJTV55ySX2f2d81bbbbju77lf/z5Yspw3UGpyLeYR7cFXW1Fl+sN/O+OqXraJ0yA749H6cUyQner+YBCNeixRERVSeVSTLEIHKIDNh2cfD7CGyTTbb0I49dk/7waWX2aJF7MzxNTXcA60zaH0Be/0sYVuyGL71/NIymlogBeTR9DRej7rwAs9/+hlbf8YssBXbXVmd/fDCC6yHsWCQ3tG6rMlqMrX2s+t+azUNM9zWsf709WxZM+CrwZWyfOECe/PMDWz8xMkesvK3v/3NtS7tsi9SNAalHS201br398WfrHxTxuFVHeRcAAcHrIdu/6dddvEldvrxJ1tjjmQNSMfNw4MGr4d97jNH2nTCf946a3076StnWG7cNI4ldrcbuzRal++f+V2P9c1NmGynnHIO+ZUFzXnszp3YqavsmccX03llt661ZcsX2vkXftXqkFKnTplh1159I9FSjTyGQZv73MO2xx4fJcJkom00Y0M7bPaRXB/Wsaoa+/P1N9tW79zWnnzmGTvmxJNs0zdtbN84/RzYyBrwcMaDmjP08ZLoFajEtjsE+FMBa1q+xLbceivPy3z0kcfYHbfcbIsWPuePXbvI+1uTF2mXatEYTJ8xwy4BwB988EH77ne/6/ZksZzJp0fSk+YILsjHGkzPzyznNS/ammHy+zF/xx56aCHOuWEL8TH+Ly1jqwXSJza2ntcrXtv+1jabPnWa/fOue1wNNzDUamVIyrff9YirpaczKN5y4y/t0MM/Z0uaF+LB2mJzHnkIgL42DBZ4dV533c/t1lv/4Um2Fct+/fXX289+9jOrr0u4gkeqXehwGkHSsg62AE84IefQ3cXUkstWLraZs7aEe7mWidtU++AOn7Tp629oX/zSVyQgS9ttNYip++27v+2z34G2qL3VHn3yMfvP3ffbp/ffj0QmS60Sj+wjj/uiTZwyE8KMAVvw3FO2aP48+9xhh9NvSW9ICJG8mj0bE9VAYWOXX3657b3nntZJdqU5c+bY2d84y+644w5v9x9fdrntvMuutnDhQnemuudf/7Y77n3A/nrr7XbEZw60lsWL7LG5z9n3LrrYLr7gArv60kuRdpt9YtHbS17nqozXu6cbiTlHqBKe02d/91v2qQP3Q9VcaW/b5O32pg1n2j3/vtPflRJwdIh6KV90v/I+szCArvxd73mPnXzyyXbmmWfaAw885NSfAmBPUcpx8pyWw4+HoMoNPS6DtK0AuaqyFuiNrKW1mckF1+Bi/a7Mj2fMhSOSty+RjNPhv9A0o2QhfSKj5EG8LtXgxa0g5rEMz/p3vfPdniKuvrTRTj7hK8ziM0ECZmCYMW2y3fCnP1kZIRpVkOl3dXfYRhttxKAIhd/y5eS/bbRpG6zvNH8aNC6++Ie27bbbsl8Ib1n7vaXdb+1tMxa26Pnps5bZlVYTxtMH6GRRuba232sDUSdS3FJ79JE7rWlFm2218242d+EyQ8Fsz/zzJlu5dIW9Y5vtrBupcwDP7cvPPc/u+90N1rLoafv77X+3exc124cP2NsG4MGekiu1Y47Y127802/smTnLqUUdqt0qtDTik+6z55CAf/C9K+zdb9sZHKtxKX3+ksfs6qvPBwwz9q1vX2pHHnWc3XvPfXbAvvvaU089bnUTJ9l7t9verrviJ9bT0mrv2e4DhpeF7bj9+20i8dTNqMS7CCuqrJTBHO2zJF0kfFGH9og1K1tmU2eub33tfVZTVW/HH3OU/fCC79jTc5c4tWied6YHMK+GDCJbiic10m4HsdpHH3207bPPPjZ79mynLc5iRx/GP8NbOCYvSTghlJpR1yvPkhmLfRRLLfX05PWQ/Glz8ZDgzUX1QuYoV8WnZUy0QDoijonH9GpWstSOOugQu+uuu5zusH1gpT3+6D2FkJEIyUKEBcrZuqAJNTUALVf91g7Uh4xJtQ2Nvt1/UJTXtQui/YQhKBmytW0tw/areXPpuV/1FgjkF8WXiRIpTpIyxBWK0a0AqBahSZbTUSUhUI3jJ9mVP/mpPTbnSdemyJ778L9ut3GAXgU+S5L9KivrrRr77sTaSlv07DM2d+5cyzZMZAKJYxOJHKxkwLZ451ud03lZ00roKA0HmUZra1mO3RpHxaG8veVNm9mK5nYn0RhWPu6oza76+dVcrxTV9lzbFsB97LHH7CeX/9i23uK99tzCJUxMIUhCWq+UMRtbrvpwBCNYH5KwaCwrMMf0BuP4DAAAIABJREFUwVAmQI4gNlF8dSn7XX7NNXbxFT+3XMM4qx83wRqytXYCgLxsyXxbunSptXVBLcprkgXM88RdZzOERKGFqsOpR8B86qlf4krDds4559iSJQC4JGKKzERS+3tL6z+/lcpSxujSTINdceU1Nn3Serb522aR3CM8icrSavbXOxlLwwJlB2Z+py9iaKRR+DcF5FH4UF67KkF+v7LVpk6dajOmT0XFh+G4p9/22ntfW7G8Kcg+dY3WjRNMX2+3rT+l2okPVnCM6N7UeRTMvrhpqTUtZrSlyFP0T0jTD6MCFN+uC0nx57W7r/RKr2sLCIgLXJUCLxynqsoNnApMj/SIavwNMBnjvFUFoOUd8Dba7M32xJNzXNqV3VSsVxOnTrau4V7b8n3vQzVbY//551224BlQLO5Umvz1A4gbbzQT7Y3ZQlTYkyeuh4MWnNKodPr6etDiNLkg3yMD9bBAqtwG4ViYPfsQO+GEE+yYzx9hDRPG2bx58+izOcetTiacymms2GAVSZnK1Sx+bG1XnmVfL69wNEOtTFxvvvVWW9G5gPelC7auCGlfk4QO+8THdrPLUHdX5ohm4Zj8YK8n5GhatMTV1qrcINcZjyf1L3/5S7v4RxfZ3Xf9i/slborz61JKopHkhnbObo6RJD3nkTl23bU32P6f3sc2mGWGgO9N04MXuWq45gE+3NMaM2j5XaXl9WqBNT+v16s26XVf8xaoZCZ/wAGfYTATKUylTZg0zb58+tfsoH32sFv//m97/MFHbYstd7Q9d9vZ7rzzHgff9237fjtk333s4suu8iw9h372cNvyvVsxo8/gzVprt9x8k20wfZrtuuuur/n9pBd8jVvAPZRWH0aS34KGIA12dK4sYHQr9uGu5SvtpBNOtAGWPwHBRYTj4DY77mabv31zO/Orp1oFIXY5pMAf/uQK+9Thh1nt+Cl24P6fsR3e+3b7+ilfsBYISJA17be/+7Mdeuhnbf0NJrtDVAmS7bPPznev6Le8eTPb+E0z7fsXnGtLm0h5CKD2gcm/ufa32IB7mFguwzN5EdLqkD33zNPIjkNIx3gzg5rV9TlIS8jpDPZLFl3ZusKWLF2MDZyMVfyWgDok4iRUy6CpXXnVNfaBHT8MS1ej9eINrVKGZF/CpPTwQw+23/72t/Z76qoi/u2udiYSMCRKv6xvScMC5JkzZ9q5554LmVe3UxhrvT4CYwFwUpTm8u9/v9223/ZjtucnPmZfOeM0Z/tKpF+lbAw/YglZByYScuEs6cKoawFUkCkxiBrhjVhEtEBwcTTYQ2RHTBAivgTIA5y/QG3iZAz9Tkig34EMAfIGlvNJmyWkDQnZQjhFTFCwCt9CckT6va60ACQdhP1E+aGBqFvL3FdDwzg6CD0EwoxDP/2RaNy4SqBgPGHDk4ldAjHxQJpWWx0d/sn9oif/AykGfa6D40RHtKipJTr56JOi8WXl0bTG+ujcCy+I5rW0cF71w4FoyWNzo+NmHxNlcrmodvKk6Kwzv+u8IVHUE/3mt1cp2DgiWiCaOH79qHl5R9TcvCw66ujDI/IMR+NqJ0QnHv2lqKWJK/W3Rb+67rKourom+uD2H44WPzk3+uynD47evf2u0fkXXxOtV1kViXk6N3mj6I6Hno1mTZoajauo4PxV0Y233R0IN/qoU3tbdMRnDojwn8Coa9HhpxwWdQ13FnhC7rjx+kjW5opcI/efi/Y7YnZ0w1//FBHPEJEkMoKBK3ruuedgyxSxSCg4R0awjdGuA9EDDzzA/chSbRFOXv5N/oGI2NXo43vsGt1x2+8gInnOCVfEl9LFSymSlQFISvq9VdVufOm91svrJD56n8NqvtLyOrdAMTFICbynkWZgsguKV9MzlcS2C1FnFuckHXWzibRC/1sLyFnE0+HIriTxgtk+0o4EHs2rRcHgWXVUsNdpNCC3T4HkQ/JPCNUsmoXHSjKfjK+h6Ji0rDst0I2qNlcPTzU9Q4QdnR15e9dmb7MnH7zHqhpQrZYhDUJUUV4zyfuNUgyWG17ErX2WyUGIIDINaDPb6BjqG8rAXoqttkREG4QYdROKp96lcPlK9Vc8jtXFOjlZBu1MOVIhrJWsy7MJDuhybKclWVu2tI0xTdmk4HuG2CMj8g46ZXf7kOVq6OeZbqToHuyxhDHhcOadGwN3O27QsHtaOeImiGgdJVXQevKb/Mxl6I4H2dclZP6UiRgFaXiYbRFxxe3wSkdlvVZTBhFKjxJtqF5sG6BuFZAt+asUOKgtD38xNmpJ49yiJxeQGUhRCiKKkESssVjjL8yJpnz1KkmqSm0vB6cVCpbDrCRtgW4BfzF3Wc/wvoqSp1xvqNT04YWmPdgB/XtEixZW+ZnT8nq1wIYbbuj+EbGmpNTVIwJfuddrOSkpGL9ej+g1uq5GwMIngKo0kOFFFVm+htCk6Lfe9lCSw8IvHxHjz6rbV7lE4eh0YV1pgRz81Hr2HRDIqOfUk9e3UwkVlD5QYEtnqqkJTEQCi16crUQvk6kFRIRQ8FarD8oqKtZnJU4o0bp64pah2ZLidZjvwV4mhOqYkIwIBGuUVILu6TmCAXCLOMNwzj2Oh7A5T1oPWzCAGWmCORzAWG2eq4OAZFiqX+TTykZMLuH6PeRUFrLXUQmXR5WpCTCs4dDOVoBeWSBwMFN/Vk9XaFIvtm9NaEtxWNO6XEUlana1B1MO7N8DhCEMYOMuoa7iIdHkNcJw3odPRkUlRzAvkJNXr+4TMFZx1ib05FnqpfSR7aRibGxU+xGHDWg7VzX1k6moDL7rXB1GY01zRObDNdQeClnW9CjUls2q9CpFW8P7vvqW9Pdr2wISgmWaQEh3Dgefs8kxR+kX5clXW1tbSL/oNo60rOMtEA8xMXIWv6Yu5fqfpOgl93Hk+e948W7p8humBUS6pSKGrUA4CUAiMXphPEm87/VTkUIVInjWsBN3uyGC3SUMsMk/WVFuKr6OsLtSQpiGAfVyKDhroMnyfMqVAF5plR+elZjKVZVJCrOseyprzAoZFQc9PE9FTlGdUGeCkY625QBoMGjrinJEDCkPB5CKB+Dg1Ln7YMuSV7YGyHpswT1I06p3N8Qk2l5TU4nkLNGZc4GCyrokByz8n/2cVXU4leUg8cBr3MVgpNVhHMwyzHhrSCohqk/8vqxbIWGAr0AU3mp/31wwiu3F9Z4Xmf34rduX9lIhT4XChGOQk/Ujhast5OBe4Vivt1R1KdpXzZXGQI203ShYkmZamhD1W33K5SignMhKvyiUVmdI0nYleTZHQb3TKrwKLaD0bSFBO1lqOL/e89IYkft4n0U2IJpiFRnCVORVWsogMKT3naLxWLSDSdE5i0vyO/XoXKVZ1pEf9AMcmkpxTKpGOlRfkGPRrFmzUOPmkRwBBMaUYTrVsNS7DhCxbOYdDuAAtKvQ2Q5ZG/HKULIOwYKFtCunqXLCjzKlfAA9UirQ2SqBGYmA0GYOAozQvLa3dOMMhVe1c18ie/NRP5akXA1ZRw/OYZWV1K82gUpUtaim+/DuqsA7Wux0ZQJV6pKBolIlj+RblaSQ5B2Q6TaDKlzdvBYmsNaOdmskW5PUxiVMFioAZtFbqo8jyKMtQG1dy7mhnB0G2KvFwenqdE0ESiESQULOVfg7l4Ui1FsGIJX0q9zJWSYfOWKblTC6B42lUljmGKNV5H2uLFY6RhzclZxTXt7ltDEyOWvDPWj7EA8jgwju7zhhXiqaNAzTbsNYsUPRGBAvpl+veQtogtUBj7nMFZ7CU/Zs1UIdOV70SgmYJTGnZV1uAV5UuZEyGJDNlpccu5beZH738BHmwrGgt5jRasgHpJKhoOIT45D/5hNe9dBO+r1q0QlVivdafZ/095hsAXUAfXi0/dYJICAVGnl8SwCvAamwAQixVEA0jeKWD/G6fKpRUFcOSsXMLkIlaWtL4gDaaKKvF40zOEP+306rggBkYBCPYyzMwHdoqnKBjyRxuV4BcoQaaVqpVHaxldbXC4YlNTLWAaAi5MC265J1mBH0oj7OEkbU3zMMbzbAWUp4EZJKtpwQpzwpGjLYdplslAFgy5e32Hjs0sO8LbLNhr6uegDwqLAzBFCXwP4BXbbfmpK0ANXOfGfdK7lPqc6V85i6gJuqQU9X3nKoKj3mWb9R9+fIe+zvnIZmKt+HSjNLQgmNz51I6LUQpuj8OsJp5v0l7OJ8gG1U5/ert1lJYUqlLoAExS+m/Wg3sYZjndblwjl8KS2vVwuoz0ptreLZnlRmzpzpSJ2UJOatsCJdWKdbADnHx9akCIddG+mZnvQSI6W4aw1DAf+L4VWDw/OL1hZvWf33849I14y9FuhF2nOR1OXDAKSTiTF2BAQZBgGqpCDHYROWnSz0niHGoOFY0+K9DZWt5ofS8EY4LQ8hVeeqoIXENpzFQ6q0fNjybFfWpYE48cIw31ItK2Y4x8CWlKFB8pSho/ZzsVK22hwqZOHSABKycherVMI8J1V4Fik2j723q7/TpV1tVjKLLMsohH3fSRMJpOaX8kx1dLb5Op1H/7KcpxQwlrQpYV3pJJTeQdfrV8op2aBxLnNCa0oH8f7aVoeRWs5dbpMmOUVBEkYgGlYbUlzq5x71Xae805QB7k91dJ9ML5omcE509+HOqIdn8lhz0T7JfmveI137WrSANNTTp093sw0O1kFCFijLi09G5UQylj47lZJfi0fy+l1Dii+Ujgx8zMJJhi6Yzcm7lO8OvEm1fQLxmvrugMowYrat7Sp98AYr+YQPQP5qB/ANUkOsBpOaUo47rq4MJVVdF5pizC/IA7+SbEtdpDuMqgGT2gZrWTJgtRW1JE4YQJpbieo3ZwMk7V1ObkClISzHIWugDZrH7HSwrcJ6ywCtqIMEJp2A8TCkGg2kHcTuWtlnbe0tOEmNw6GLhA/VPYAq2Z76YLWC4aoqk8fDuAMput4Hs0qyR5VjPG1e2WLjGsejOkZdW44UyDl7URuLt1IaP5nh5B1dRgrIIaUOpchuXF3RCKASE4z3dcTEYLg7JHEYqOh1ljrr1kQism5r4TxlNr5+uq1YsQKyjwqO595FQtJNVqhhgBlJO1/aYVXVqOI7IqvmJakrRz+AbX04IqUiHtkdeEELzEtkIuT1yPB+aTYyhNOazACeRIL6dnZ2mtLh9vR0YQNXxiuIVEhcEYH6FfBlI8JzTiY9GbKyYR8fRgIfGsSCjOgsL2wSKnOHqK2HSFbBfQ+XdQUTQiR3OU2NUpX16/kiylzc1NTk6mp9ygXGmnmpyOMrKcXrX88Kp9d+lVtAWMrjTyba7mFKUZo49YoQAakBIEg1xfamhIzpeTao0J1epOIJSBfL2i9ySLp5dLVAImZhv+xFIa0ek41yNqFums2DKlKpDWW7HCCEqR+qyx4yMqFQBYCwyw4BuhwPJiPtYQsVKom6C7VyP1JvhUAIhy8PSaKQFZi/Ahf1F9mcg6006a99PR2odaWGxUEGibSCzEvE5QKyHJ+IgvTLQp/1CWRQN7vdNbGpKizI16voGsXH65igWlSAlk7bBxhmUMmXDbKv8J0qdDBByHK/eg2IXA6S8TBpmFCN9/aTkKIih75J11HYdJk7wSU2a01epb4kPjrUu/AuBYawxEYc6684PrRD+B3CmTixXzuZJMfxVr4mmRwnE+OX9KqGI9O/r0ILCGcnTJjgZ9YkLB0NX4VGHlOnjN9IKbdcwaXffPSaF34DxvHqwnat8HXJYFd802taN6YaJa3sS2qBuO/ocQuq9Cn0h7jDDKOSy0BH2Y0XcAXG4l6cscpj3nPhnsOrnJ0AvkF5EsJsVYEHs7yXsrGgoPMGc4m0OJo6yhYdipycVLKkTAxUVSEkyD2k5RkWJ2bwndbYL8MJtClsDmeWPVrJGXwlHyck85PEF/Rl7hdv8AGu5fgau9yIZ1u37+8Pjl/ylBxGQleGqhI8wZGF2I4lF/W16unhpRygiYlapAL+b4F0v2urkirojVTddKEA5mFLUp8weSi8p7q2788nWenPK6xbdT/fOS2joAVSQB4FDyGtQtoC60YLxIN/0c2U4iGscJ8c1JiCqCq8ldvImOQxP8JXpRXkSxqZvPITYgoxsiAh5hKuJGIL5RyWB3EpAqgkY3mA4VAF0EqolguM7M4u+RE73NudR6WLMxPe01JlOxglhWXBV4CwYmAt3inZWXBaNDw6Gie/R45VrG+JbOjCwxg9e+CE7xZZiFaoXkjspZmcVeAopqvrLHImyxDCpUinUPDYLsUGDNaWMwFWDHKF4peSCUDh+jogyaK2Wh2TU6XfY7YFUkAes48urXjaAqOlBQRQArXnA5aRp7gU9bFKF0kVegj/aSBDmKMoh5XgbTVAHm6dAXO0A7Ofx52WWEtYEX7LfnxQJsvJClFU3kw4G8q8K8etjnYIjZBWK5kABI/VRPJkhyJxUBCmT8BO1TfUWZJ9kO4D2BJsxWHsGR87sn31IRPbNROBzpXLC+Bfje1YoaMiQPFYbCWDgCgzIlyrPw7czsAmpkqImESOPZKGy5lEaIIxEmZcdK3CnGGkzt4oaVmnWmD13rVO3Vx6M2kLpC3wKrfAGoAixLYDbA6oQb3aCctUDdJxdaYGwOwEpBApGX0gasZ8q3ApVgmMwNkhnZPMTuh32YHjHZQDUMpMqzM6mrPe8p3A3rBVNtRbBxtkla0jMURPm/xh5OeMPMn5AtDrMMA9wrmKiytMK9hSi4dBF0XZh/qJ5YszFBJX+QZVbmT/fknyODvWki1KV28lLlp8SpV4Z7eiCchDhRn03bB5MWHIAsR5bORlbO/tCg5clai4M0jQw1yzLIOTFaK/ahGcrJNraVKij5yxZCtX0e/QLvGK9GuMt0AKyGP8Ab7u1S8MyK97TdIKvNYtEGNXACh57NIZtK7Iq/6ELxwFeUWFTakdZw2VtZ4DuK5usm2/5bvs1z//f7ZceMUhSj/oUAcgO9EMI9PQgNYEw6yk5MSvIXQ5dnDgJkYYCXXZCsKV+P7NDb+zgw8+yKpjhitps/UZgS0tFYNYPATqmnxkN/bbin+HNY708XaB9EinzxIsPaRZBOkOFRScB2RPPeWrtv7MDW3a9Cl2xBFH2PW/+BXHavZBykSSNn/us7Mh7Ki2CQ3rWX0jXuU489TkxtvH9/ik/eP2f3j9pPZ2+7hXJi1vlBZIAfmN8qTXep/JAPVffKeDxVpb9Y2zIQZSVwTHIJmgCMB8/oXfs3vu+odlGyfbgtZOzKlD2Hlb7etf+z/74mmn2ncuuBjfa45UhghCfvTlZBcU0huhX8buClWmpEGCiSxHN3XyGnlPA2r67s732pQJtfaHP/7BDjvsMHtuwUJ2yBCHHOqWWFpd0lVsrryiXT4ONJkBLMM1A1QLPFUBQWMRKvpvMWvFMfv81m5likAo6bFbbvyNvWeLbWyHD+5u8+Y9a22dK+zYE48hNeNP7JTjz4CXegiu7Cq77qdX2c1/vIX441qb89hcuLUje+zJB61uXM72+MS+dvud91ul1N6ysRewXxMTfVQfyf3aoDtLy7rUAikgr0tPM72XtAVetxZIvICpgEvI8QdyDcVXlgImzotBSE85fAc77LSjnXTSifadb3+HvMQBYobEKiWEi7WzcpKW+5KcuULhl7yeZD4Gj/rZv5fLVEIK0tvVYZ/86C526aWXehaplTCIRMQhC7KEa/pWjYYA4+CxLU9nKcBjxCuaXLrbVYzDWh0s3HEVHMZ1r+HIRD2/gBzMhx50qJ3//fPsY3ts7dJtpqTS3rPVdnbN1T+zn/70avvNb35t3ajuZfOeNXMjrkF8MrHbWjcDafq0L52Myr7EnnxyLgxlcgpbU/G7iDdo+E6H8DW10lhdlz7NsfrkXsF6d0E+oJKP6du03CHbV1zaSP+WFHHrrqn0iS0/LooCUSGz55p2TdetSy2whkdc6qFG2sCHWORx4xroW4Ay2Fej+FoZRyvLbOL4esgthq0ThyzxeQ0oD6H6DpKt0gTKkUqyYBO5Fl2W1Xl76augnXYTWItTXd2sppqFiExShErlof+CcNMl7xKk7hLYtwScAkm/Dh+fHfRDkiHGr2CUtoG8ApJUa6KElRAqvr7bmZPbcekYRyy8pFWlMk9zOGzX/OR6ttTa7nt8wDFy0EOYAG5oKxvGT7R99vmwXXTRtyAPIQ55OIuXNVzaGM0rc/Ich3AEUB4/YRK3jh85YVC5alThzigW5gYJOmv64HSg8Ue3kpZ1pwVSQF53nuV/dScC2xoyfPUq9zXUg/2Km6Rcc801sP3BToSKb/PNN7cVzc2+TUT3F15wga//wYUX2kMPPUK4RsbzabczsObh/5Vko8FPrEhpWYdbQJJwkb3YZU0Bl5NrqLAdwG1ZucImj5/qtmHlS5Ze+umHHrRzzv66nXDc8bbxhjlrhU1LECZ8/OqXz7CZOElNqqu200/7hk2olQVZ55TkWmmnfeEUiDRqbcqUDexLp59F5FTSz3DUYjaoT32V+0g7S9eFF1zIJcvsLW/Z1K74yS+CTCy788Iltv/+BxBeVOn27VNOOoltWRJS9Ns/br3Ddtp+N5u/aLEdfswRVltdZ9/6+nkeraVbVMKIfjI8QeYJyHbav+540N79jm1xzhJAQwxCqkZ/lbQz78H7tn+7PfLYg9aygkmDzoE79SDcoe3tbb4sgN9ltz1s4403tD33+hgH6dii4TkW5IsYAnTisF/6d51pgRSQ15lH+d/dSAOUqcN4ilbCtdvOwCnp5kcXXgChPeDa1YlTaq/9+8477Ov/91VEEQZFtn/+qCOtadF8+/4F37PDDz+cVQP2+OOP27PPPkv8ZIZBEGmIniWKwbSs6y0gxCkofuMFR6H4xrHVkmBi2YImW79xU5s5c2NUuTW25Xu2s2222Rq19XEOkBNJ+pDv67CDDj/epr35nTavpcMeefhBW/TwP232PrsDxTB4cdxunznZ3rrdR5FmO+3xu260hXPutwP329f6h0iROCAHKwPAsS2TsakESfuMb33fPrL3wTBqRXbLX/5iPzj7y/aXX1+HmDxkF172E9tyq+0dWBfMm2u3/+Nv9uebb7Fbb/uXfe6w2Xb/fXfbv++6zy754eW8A3faN885yxYuWmGdiNn90FcqG1VfXxcMYTlrWtwCzWUP4F5mbd3y8Kb/4xA9JJEcj+pcTTlJIUptzpwnSVqhV4kkFn2dNmXqeFtvyhTbYovt7NTTvmr/eeBeQF+pHpnLJLHNfjZNSPT+8VUAak1hUlD25llHSgrI68iD/O9ug5eZF7yUWMlBpvP15MRW/KRSgp108sn4vsippsymTp1qO+ywgz3zzDN+Ge2vWf1ZZ51l99x9l6+bPHkig+1MX07Sd3ZB1p+WN2ALFKRmgQV5hdC0VNVNsLlNc5CWFwOArQDPbba8eam9/wMfsYcfXohU22KP3H+nPfjo43bY0Xs5sE+euYF948vH2j9vutHuu++fdtMdd9rclkEA9oOcd9BmrD/JTj/hSLvjtr/ZnOeWEOqbJT1ivfW0NFsdJBsL5z5hP7jkStvkTe8APBuRPmdZ09zn7N+3/IFOXG5nn/t9+/znT7BHHnzCDj5oPxyrHsPbudF23WUHu+LySwmVHrCP7rEnCS0G0SJV2ru2eLt1tOXJGAWeo5JWJqWqbJ31A8S1AG5DY45qV1hDjuQalJ48ym9FKVFaW3qsrXXYttnqnY6nkyeMxxksYwvmL7HHHnucWOQO1yj1c61qsY5RuroA3IJkrKF69eG6sDFcJP075ltg9Sc85m8ovYGX1wID2K5U5GgzRAClSAo87SaA2y+mI4py1ooEvRbVttRvw8pEw7dnCuN/c3OrS8SNjbVuHswgOYj6r6ZmJPvOy6tVuvfYaYHVJbQ4WUEQnOkv/WRZwp5LOJBUuE6eRX/acLNN7dvfOc8WLmu2G/7wJ6srG7AnH77LppBRaXETEqSPTCW28czpNqmhxFYsW2TPLpxvvaR2HKR7DiLVEuRrm71plmURJZ9ZsNRdtLp78dRG+V1G/HIZMdDvePdW9nTLSssPtDpNZVfHAvvWhd8F20rt3vsetA99aCe77bbb7CdXXGLv3HwTa15BogzO00kM8dQpk0hwga0Xd+cqbN5zHnuIGOcJcGwTCYwmKKAljmM4iu217/b2r3/90ZYu7sWbGg9vB1a9DNw0KvxF8/L2ljdtBkCT+zY3YEuaFllt1USbjHQ8Y9pUu/YXV9hpp59oDzzwJJMTpXzALl5TpGGKw6bcHOB2azVQkSOdmistY74FUkAe84/wf7uBDEDchQNXBJKWwbNbW1+PyrnXHn30UU+8LslZafSWkixAGcE8IT0DqpYdkJmkT5wI8xKlBTWjsoRptVTg+k7LG6wF/JknIM036uq5c5+2GRvMsolw6Iu2eVjMGQCqUgn2EbIkSZnccjZz1nR79uknwJvIesTyQb9rw9FqiGQMO+2yk42vq7QFSMptIsXKIkVWN1prd59NmrQewDzTvakb6+oJrWIyiXCZJ1HFIsKPSsl4JF8wL9iKOdh68Z04/ZQv2jFHfd6+gJTdsP5Ua2ldTqaoSUbyJr7rAc0FZFfKOUDXoAavw6bd14vTFReSbNqvHammJqwf32MXnLRK7E9//AsOWWRLZpJA7icmACts+eKF9sOLLrUz/+8bOLLV4VzdQ9rFWpi5KmzZ0pDy9kM7fMA++cm97bvf+V6wPXP+TtTuay6rT4LWvFe6duy1QArIY++ZvbI1ZtCrAYSlnu5WPmx+H3XUUbb77rtbDtIFScbj2C7w1X76PuiAA7CHNdpnPnNwyAGL6u0vf7nFJehqUs9xCs/Yo++0vAFa4HkTLwCjSG1dV1dnC+fNZ1LnChYmdBXWtnKlfZGwp8GedjvyyCOtk2xL7/3ATrbZRuvbiZ/dz2qzSIFI19fdfK995KBjrbmtww746E5zcwT9AAAgAElEQVT2oXfPtFNmH2GtbF42mLNf/+0+22PPfWy9CiRx9m9ZvsxW9kbWPFhrm7xzC9tp63fY+V85Dv0x+YsB6ablnPO6GyAriazpqYcA6k7s0Wb/ue3v5INvtx4AnvwWgCZpJGHQGujHA5o5aWtrM3bgalu0aIm1hFTIyujIfmzEV2LW27e2yy692s448zT7PfHQHd1dADk5qojL2mvvT9gRR3/aPvnpj2G6xhreX47kvdJWdCy2to5lPn2pIETqa/93li1fsdCdup6Zu5D3L2HkYge9S/4+SSqO9eCp/Xjde7lQPTLGRlF9fb1/JyVZv8rK9Mc62AJDUVdnaxQx8vAnIhds1NfbFUXkrmtrbY4iMr3393X7b98ef+MAxm+tCwXJwRfYPcKz1Zf7EFXWXrT/yPFr3y/dMnpbgOc3rGc9FOE05R8tI8ny3cunLTr80++PJteDfrYhn3dE5WWNsDpbtB7ZC4846FPRff+ZGy3viaKuqIfjO6OV85ujkw/5fDQBN4UJDdnolDPOjeid9LyVdL1lUdTaHx11yElgXS5q2GTT6IxvX0T/Vb/tif7y22s1NWBbVZSZNDNasKI7Uj/9wuxDoom5mqg21xB9/vgvRc0r2qKoc2n0+6svhayyKtrro/tF7Yuejvb/xK7RB3beL7rgR78miSQpnvnkJs6K7n7iuejNG0xWBmGSEE+Pbr17QdTc1hnfI/fZx/IAdejpi55+/InoyKOPiirq66KSbCbabuuton/c8hfaqZf3qpP0xH3RF475fETWZM6H33lZaXTh5T+O8pxNn3sffcSPtdKK6AMf3i3idYo0QiefkQVWpu+PGmFMF+HsuHHjCvdQoiVNM2Q3HMA2mBQP5sfOok9a1vUWYI4uG5Wkmpf1va63S3p/L9wCku3k6VsS5y7OEmo0jKakGjtqp3tXe9Qv0m8kbmjfU0XH6aM+R6gSK8UZLYtpyXDYL9hKdfZyVxkr8MmPJa5XZZBDdQYdE3Iix+d04g+dL1zLObA9Lprz+nXiOsRJHoLE6WfUHycOUXhWkkZSr4Nfx/dXXQNLl9e1WEL1UTQeK+PraI2fpyg0rLCP70992FfnV1nbSBvaLN4p/VqnWkDwO2nSJPxwmv2+yhWzJ6/Y6dOnOyArsF5gXIm6UiWNJV2nnv8L3IwGLn/iL/P7BU6ZblrHW2DYWttbsbeOsyrCfYZI9jCIHreqpsHTHw7C2FEKwKkU8iQXgCvATwRYybQhogtt8hzEKu7EFEBPgCSyjoBhYTsphmMACw5Q4SAdE+gyE7BMwG6kX8fd21W/LMdgWRKHEolAxK8TA6bQXTUdFosYRdtVn+EYJQv35VuTuvsPL6ucy9eM1CjZIQHc5JLhyJG/a1u/+n7p77HXAsJbfVTku1MuMJYjTlNTU/CuZUM59kSt07YkhGXs3Wpa47QF0hZ4dVugFDDGU4uSxwGpym2eCgWCXCPfg5dxdSwRs3otqOKMU6+ICLi6fLn677W1RLzfi9RhrZvXumFt10vXpy2wagu0tLS4b46E4HIBr9TVkpCV0LsKN0hJyhV43Eo6TiXktPukLZC2wNpaYAUhRROJqa3CG3kY6VH0mFK/CYz7IJypKA8OSEmu4WL8EkZ7woe1gPXarpmuT1tgXWkBaaM32mgjl5IVcuo2ZIGugFgicwLGWk7U1uvKzaf3kbZA2gKvbAskWDoA81XCzDZu/DhbRMalHAxWhaIdV7GlJlteqiT7ytY7PVvaAqOhBfoIK8WpCw//DtdGlwuAhdJaqSLJWEWInUjPo6HiaR3SFkhbYPS1QL8DcTBxKbxYJCBSvwmMNdFP7GNu011NEg4/U/F49D3VtEavVQtkMe9Uk0NAGCxAdglZP0T08P/b+w44q6pr/XXnlumFmaGLIsYGKvYYkxfRxJIY7EaiKCCxxLz4ezEmlmfiw7/JM0oM78kzscQkii2owa5YUDQUCwqIMEgRQWBgerkzt67/9619zp3LUC2/ZIC74cw9Z/ezz9prrb3W2mv37t0bzh0a4PC8WYYOHSqrV682fXIu5EYgNwK5Edh8BPJw2EipbIAP9HI4uiAxrttY6/Rh+WEjyN13aXSR3y9rZewbSXWvr/tzN2Mqz7jKN+Yy0XlW6P68qfFWl5Fa93ybj1EuJjcCWx8BLoBra92cacWeeKO2pMwUWdNXMUXVpNg5kfXWBzGXkhuB3Ai4BS94ebqFNitqGmfxCM8DDzxQapZ8aMcIbik4ouxZLW8pw2eK2xpB3lYlWcQ5c1AD8ntEeUtr9s1st/xMmyVsq91cWm4ENh0B0tlhw4aZqpiOlfIoXvLF0+RmSYwZuJTOhZ4/Aty25ofse37o7Hh+Z15+yE7fkbekFIWBbfj18LD57YXsPtFo0A/tWzlXeXv15dJ71gj4AjTfUpr4o6WpGfYn9JEJ2MSpRm4fMA9YaEDn4akKRzIRakkWt0T8PssbUq3GmtLwW+37USCYd0TZblcDWaC/SfUwoLFn+rlmILzSYtzisq5N+vlFO22195zAMfSNd4kX/PmdjS96Tm93rZ6QzjY1NWV2OHWX6+xab7sbvA2lGySWjfDNy3tOIiImGuRRBOIT0uz9bhyWz2Kwxzp90SPr8/WCPvO2rWFmn4jk2CdKYWjEwLCJwc+2Ksil7TQjYItFEisz3vJWoZ5jIRK8snL4P0dKHvw8p3ET4+HHXyikYfMC95Sw5iZ80qgshb3PKRB8Hv7As7ktoK3Nt1a5PlK3TX/teYBTBsIqt2+B7TSr8exgdLg7Me7+vEmJnv9AHEGxqT+/iRc438ls+/O857/FrtPDHEHeyb8lOVvq+WkDwHsSPn9CUQTCtOy95H46X5uTcUcCibA/Yf0VL1e4tAzckcD2/bzkCNm/3Ha6HRm5nTAPiDHP1HaBlBAnMAFOSPAIB/AwaUlx+IiORJzXrS/6loRNwiNXd4TPUMihta3VT/izf+ZYG45FvFWyD+etOAcc7hpAqplr1w52ghsC393HBxzPHDH+13z3HEH+14z7l9YqJ48vWiLRI7fLyxcPE9n4K1Tf6vWzrHDZUe5T52lPDFwV0/CPK1weGrC94BPwqqoqy0rxDJkC9tsXMW6vjlx6zx8Bp0oFgSMxNguoLlJWDKSfwKlODIS95lbsT8bJSNGOLnXL531DEs8wmE4alHF1xxUzu0AJNBe9nqYl0x34f0YfoKbzG0TGCFbEPOwihJV7kHXBQC0FchwMuFUz32TTtfImr/d5u94jyhF3ULrG70LizL2wJiWANCvHNP/zP1GOIP/zx/xLbZGTxyewFRUVJhImp0sC6BM+M6fHhCMR5IrZJ5I7wgX7k7Jfv37Wb9ZPQsyJ7PR3234dtk3mgG0yP/tIhoGW/Hbuci7sIiPgRMAkxnQv6Wtgzxw5UnrhlLCqqt6AwbCcdsbZUlYKKQlyFBRmnff7OUehFKeR+YFi1vZ2wprIc8+9IMcccxxgLmXPWwomxuaRTYBleio8/wc/kMVLFksnjlUkvEYTnZsT4uyKdoHlM3EAmeyHH35YJk+ebPOac7aurm4zC/ktjWEu7ssdgQAQrvKjEFFy9eIHfpgdQdhfbndytX3WEfCJqxMHJjJEzreSJ/frn13sf08iLq4mSLB3xHjP9+BWj1WEv9JlP1nPjuiR2Q6JL4k7LzIGFJH5e94/6zvn8veMEfDpEb6qHSrhlqFpqS6vkLomGHABh0C+Ik9Pmybnjhot773/gQzZb1+h1NpcQ4MgFuH38xsqpyWOsxMj2AddjzMRK8orQUzC8uS0Z+Waa66XDRs2yMqVKwGjBYA/155bIXvrXfYPh158umq1jBgxQtZt3CAfwDq8ul9fnHlcYHpkiq4ZyDpYl7te2nWcyZ//Bazuf2XgfPTVWGTWc9tc/7lfg3S2urpaiFsZcivkf+74f+mtkRD7+l1fTD137lwZNGiQMVTTp083/RpXp75BFYkxy+wIMSaTRvEViS+J8auvvmpOZN54440dIsZ84YsuukhOOeWUTXR1JMY5kfWXDg7/ggr91XBW09keuQB33AZFQjl4yBCIhOF8CMQxBAqXoIH0FwwRnK3cHm2XqsoqW9k14dzk008/VW6//XYTv7qFRVcjvnqHMSb9wUp44J57yoIFC4xBpDqGxJja4/aO9i/Yu55fnHiAzLL5UQZBJqPMi+P0WXdi9Py37fk9zBHknv+NttlDrpBpWUrGvawUOl0cE/fVow+VJR+8LWtWr5A1tfUSLCqWAIypAmFuZYOVdBL6PIgV40Bkdjwe4ripyW1sYnNAVDxuDnlKITlpxSHrhRBrkYCO+PpX5f/96nrZe58hEqepLAN//MtqQXlvwZROxSAOu1++992ROJgdR9USIUegP453QveXE1m7AdxZ/3YRYwcJWCoqRcC+MyGk5yfBzLVLZfkQaaqDAZUHZEkkleBAObe4JLx5MOQNRTZIUeLc/XLpPCEqCDjiVk3AVAyn1BUWm3/sBMTOpcU4dJn1+VgOD0zzNcgQDoIzAAxi/nQ2R2XPvv0lmA8CH++wQx8r4Y+bK3+eJ8V6+LaZG39lHOD2KuwcsOMZYbGNv+QzMlJybx74Inz/PZnuhqJrDDNjgMb8983On6nTXiqrnNeeRftzF3fu2SIz/WNclwQfso1UJ5hzt5UxyW1qIai2cAUwUGRMiB9SHn6w+ryO8VSupI2LGxumdb+s3S2F7IxbSt+N43IEeSf/+LQFDQWBMgDktotEiSBapKpXnjQ1rJFwWW9pAfKgPbX5QEi0S0fDOhlU0UsqgLCKAxG5967Jws1I9fgzZJ/95bSTTpTLzjtLKgvy5cNlG2XQ/kdKQVk/aW1pwmSNSUVBUlbBi9vQQw/DKjwoZQVlsqqmFgpmDiZcsXa0yv6DD5OSULXkhwrklenTpDBYLAV5YYm1N0l7c60M6t9PQjiJoBhIb+LEiZnVMxkMfxWzIzrqnfzz7QLd99E+ibC7FGJqk0nnASACzRIM50nzhkopAJIPAKGTyKXiURMD48Ob5ZVi69K9d/1BBu81SAqK8mXowQfJrLfnSgcIXTQdl1t+f7tcdd21Mm/RBzLs8MNk7wOGygszXpely1ZD9ztOKgqr5ImpT+K4ZGx9QrVFWJHngYF8d9H7cshRR8oefQfIxJt/Y/1qtv3zAXlj5mw57IijpW+fAdK0Yp2kGqOSV4AtQFjC18x7T370/fOlqrgIRD4sP7/hF9LGFTMr73DvnDamtdnm29I5b8qRBx0k+fB2OHLMeMybT2XBe0vQj3zJB5yf/J2TpOajJXLgnnvjOSJHHXeKTZd3570tZ58xUmbNfkdGX3iplARL5YpLrpS6lg4j2O/MnS1njjxDHnjkaTnimBNl1HljMIc6pQXz6MKxF0g+JARDhx4uL7zylrHWkkrKK88+KQP695Ubbvwvee75l+Ttt+YYXli3coUcevQIOezob8m77y6Sxx55GMS4U9pa1suk238vk+/8I14PjDqYaGmLy41X/oeEMR69BpbJ9bdMlJY21I+kxpplcvW1V8uk+ybL1GeekEOOGC5Dhw+TBYsXGZvQ1Npmvzx+M8MVbEKEfWYCvz74sO+5wPmQBv5TLS8vt18/+PGbROYeet4IpFPa2ZHSREo1EUf3Ys24VuHEkOW6eMEMve62u3Qdojfi2tCBP2mkN6/SZW+9pYq9J5qs19/cdI3eN226NiC5PZbUYw4+UF9+6B5NNzXqwP2O0Y8aVWfPX66z35iJRtbr7b/8sfYdNFBnvjvfjUdC9ZAhx6I+1bb61XrZ2FHaykbbmdyoP7n8XP3ON7+nbbUxtN+m61e/r43r1kCdh9T6Br311lt19uzZCpG71UfYg+7b1Z3722NHII0PmMZHT2oCv/hu7Cm+aUVZL9x04iLUfaiLF83VUjlN61cA3BCd1ChKABbwV+OIiHVqy4b1uv+QvbSluVE7YlGddOdkPe6UE7W+s02v/q8bVIoK9GsnfksXrlyphJJLr7pKj/32STr91dnW5hvP/0OL8sp1+cYGS3/yr49p73CFvvL22waGNYDVPcurdcrfHkJ6UufPf08P2G9/Xb+xxbr67KT79ag+++r7qz7SOvTv7ltv01uu/Kn1b9Wa5dpnnz10+muvoq/u1Tqi2KXMhtPrdd6rU/SB/7tFEx1turYzrlffdod+45Rz8B6qH9d8rCOO/qr++NKLNdbWpBecdZ4++sg0bUiqzny/RquryrWytFAnTf6TxhG3+oMaPXLYoXrdb+/SF+cu0T5lJVocDOh9U1/SBgxwQx3mRTqu/37lj7QR9XHQFy9epaGKwTr7vaW6bvlHevkFZwMXdOrGxhb97e8m6eIPP8Cgt+nN11+rs+bV2Hi88spsvfvOO3DXrKMvHKkDB/TTSZNux8i0ocqofve4k/WlaS8gvcXihh/9TT3zjLE2xy8YOZJCBh3zo3G6rrnWrgsvHac/uPhCJvOrGh7B6zig8IEj88txQy67mGn3DcR1UAFmBiBHkHd2WABBbmnu0AQAG7eYMEAwsU/wsFLnzX1Ob7vnb7oB0WsxOzgRO5pXq7au0X87+GDFWTxAlKLFMHp9fu5CrUf6OiC0K8ePQR1NWvvRUv3P3/xRV4KGL1i2Xl97+SVQ3NX6fzdfpc+/8pIhPguo+6MF6/TZx1/WVcsX6JOPTzHElWxFWqpOmxs+0quuuMZmakfreo22fqKHDtvfhJslRcUKXbY+9dRTfm32C/G4EeZc6Lkj4AhyYpsEOZFeqG/NeVkHlJynbWvxLoCVNChgJxizNIGESBlLqc4WwC0AuK5ug9508wSt7NdHv3HiCSAFCV3TuFHH/fgKveyn/wFSARICzvOJF57XQ4851uhjU0NMG5bXa1mwl85ZthxlVJ++51Hdt3wPXQ4CT0aTGe/+9UQ9e/R5IDFxPeecs/TFZ5/TTlIPXE1vL9cj+u6jM95/C/lBoeOMbNV333hdTz3tZC76deqTfzeCxE40NrAnmHCda3TCT0epYA5V790P6718LSzGb2FvnbtkpRGnVR99pN8edogO69tPl33yCdoHYUU9TFu+eLFWlJTqK7MX2rMm1+tf7rhVBxx0hq4AvV3+3jtaHRGdvaTOvYe26svP/FULS0vQVqGGgoX2K4FK/csjT2tr7Tr95pHDdOrfHjGC2BLlCKGf7XV65Q8v1p9ed7OuWNepUHN5xLBT2zvqdCyY6D/fMwlxdfrK9Kl6+HEn6ieNZKoSGq/bqMvenK/79Bus0xfM1Fow2UcNP0LvnXgn5mkMQ5vQ3/7v73TM5ePtHepbW63tHEHmB9126E6QcyLrnV1MAnF0YWGB8yXMd6FjYfN4j/2UpeUSbXPOOwpoRAMZWEFZhfz7j6+Qxx57TNo6Y9KSbJR33pkj7cjXjKy9q3tJIcR0yaZGKa/sJa3NTVIJ1XQrEs1oDHX37tPPzvBkMENViPFozT1gj4Fm0R2HqDAGqWCQKiiIqct6VVk65VgF2Kby82t+IVOmTJEk5OytMLx57bXXBBIaMxxj4Hm6NDDJWfnbcOzUIRQoNKOhlraNJvJ0Hl2hdwTQpCDyTeO0KCqS8011cZucc8735dSRp8v/TvofKYA4VuF1q7qiWtpam6WpEfYQGI0C6H2DMEYizDQ0tuM3IvXYpqNQUKcgAu/A1b9PX2yta5QIxM3UdcIAQnpXVcvqT9fI+rpamT9/vs0Z2jTEaSNRUgwjrqjstddemDlhaUC+744YIa/NfF0euH+KVMLyOrOjAKLYigqcakVxeyJthmSPP/2QvLdwAfrbKdHmdTA02yD77z/YxM57wpht/Jixsq52vTzyxGMmzuWcgepWOtvjmAPtsgcMyxgvrRvl+OOPhZV6K0THmEPoY8TmblKazaNnHKqepJwx8iyJaRTGmlEsqqJ453o5+6zvSUmvChk75mKI8UdjP3W53HvvvbIBhxdIfpFcdfXP5Jmnn5IhA/rJ+eePlY9XrkKbIAFQO9HLWbQNc7S9RWo+XIz37SPFFeAyUhiNkkrpj3mdiLfJutZalIHqqQ0uNjFu6aSTOfOABIYkxqQMc5yx2yUuzoDAyuWCG4HtjlluoHr2CGzE1g4iFQYwpu6GxltJ+OTtiAEJVQoP1CThzPfyFRaVSBV0XcBqkm6Pynmjzpcy6JNLsaWTANHeBqOWikqzOC0pKTLddFlZCfRLqAROFGqB/C4Z/0NpIobFpCJh/fk1V8ugwYMkDEOQmf+YJa3YD2oWO0h75tnnpKGpHuWgb0ML+TC8IfFmoIUsrbCpO/YRHk8dY/Ctwu0hF3rwCGwNjQQkAX0kjbrKyvMFu6HgEISvAZSO/b90vPHXKQ9AhZySp555Th56+FF5dcYMGX7IcLP65fcPQedLMIrAPLscRJMtYdUmLY0NEoNOt6wcch5kwEoNBCou+bCULgSxbgNxLUeDSQCv9Q5MQVNLs3z9a8caIce6RTbilCqXlCeRvn1sPqxYtlwao40yZswYGffDH0JvfR30qPnSp7q31eWCm2cBtCMFcJBTXiWfrlwtvYtBtEBEm6PObIxElwbn/3j9dfkEp2DNe3++/PrGCfKPN2dLMZhV0HLJC4RkjwF7SF39Old1WRX2Qi+Tg4btY9bodQ30GhbGHE9LOdyDN9bVgxEI2z7+tpYUPOA5Jra1NQ0GBlUAGYz70RVmIf3QA/fLn+6+Sx588EHTnfeGL4FFC+bKW/PfNWb3rLPOMsYgBKa5A2PZG0wHJrxUAGfMePYF2IV86ranYVyShXkweAvKNw89CsKAtMSgq46Ul8CpSj5QTVwG9usvFTAqDWNMOsHok3GKRrdiRp8jxB4cbf6ztZm0ec5cTI8cgd59+pjjA+AjENSAJKMdctmFY6Uof7AcceQJcsXYi6Qi2E8G9t0PnHgM+WIyZtx46T9woBQDSfXpPVBuBJI46evHysxXZ8uQIfvJPff9RW742dXmc/gPd06Wh6ZMw0qkXkZfcJHccNXP5Jrrb5WLL77YVsn5+YVSWdVL7v7T3UZQC+DB68Ybb5R9D9gXW1xwekmoAqvxJ6QPjLhGjRqFviZl9OiLZM/Be8OgJCAD0Y+bbrpJTjjhBDhzeM7GmCtxIszcPuUeCXJZnSL62DYKCQeLgONLpK75U1kLZ2/0w9Hc5vwdPP73x2X1mjXSSaKJfVBRMJBLly6DpKZVZoAwc0uOOeiIthnBaAERMiNGEPKOVnilQxkSvNZWIH7c7w2YaqrbiO1O8MNcEJIWlFk4733BJj+Z/foMmTT5Drnk4vFYAQcMRm/41a9k3ryFApooTz36kBHka6+9XtasWgNjsRVgNGHihJX1rFlz4Klugzk4Me6ggN7xnD0ay3xn5Gny+5t/K3978CFREMX80oBMnfoMlr8JWVFTI09M+7tADy57HTJUnnviSTl1xAny4ktvwtiNxLsFc6tOZr0xw7YmdtYn5M67H5DLLjlPqqBP2mPvr0gDfHInOlrMZK5X9Z5y1FdHyPp1q+WW/57gfNKjTy2QZL04/TW0t0x+iXdYu3atnHnm6XLpJZdYve2NzfK7ib+X2g2NMvzgIXLDL6+Xvn37Su36tbaPuw0r3gWLlqKFiHz/BxfJmSeeKL++9hpZ+ykYBTADf572uHx/9BgZGK6UXsiTyktLYxJevdy63qRaCxcuhFMVR4TpIa2oiEuB7YQccd50gHJGXduW8ff01M5O6rIQqCZqhAYnDb1PitrgOlxtpmOj7rge2XhPBVi0CQZVZgWGC7piWrVQH9xMPTSzdKBEFPGphEY93TO1SZZIxXCqFboimH7gGQfUwyYH9Xg6qU4alUHR1kZFGePQXiwBLZ6n406jpbZoLcq5fmOPNDPxTG7TG/v3/PWfLTIXetwIEByoR07icvcWAaMuGohS2dqgY8cdr/RmGZDBIGH74AppVd8I9r/BfqAyon/+61+sbHNLVE/67kit7NNXJ//xLp2/6APc99abb/lvHX/ZpZpfUqChSFBHnX+uPvzoFDMq4hWOFOnrr83CRqsINhFENFRYqkuWf2wKzFkzZunxJ0P/m5enl40br20NTQ6E0V57e6tOmDBBI0WlevK3T9WP5yzSUSefrlOnP2866D/9zx0KNyN6LnTNS1Ys1QvHj9NhBx+kTWsBy+0pTZmClIHzoUHffOoJ/cbhR0DXHNavfO1YnfrUdH17znsKm22zlXhh5nT9dMNaPeagQ7VXuBy7tYr1tjvv1pqaxQp6qH+4514dsu9Q3X/vg/XB+6eyVp3zwQKMW56WFlfoscefrO8srNEEJyLmVc3SRXrmOSMV51Frn7576C/+c4K2RhNa++kanf7sU/rgA1MU7m313LPPUZxRje+S0EkTb9M3Zr2tBxx8hB5w4CH64osvaryjQa+4fLS/G0wv/9lP7HvW1azUn4y6UPv0rtBwZaFOvO8++6K6Iabf2ne4G39Ipv94/9064ZYJGGPRSHG+Hn/iSRpL0eANqAX7IjNwYWOFwAhDDJzrbr67hN3zb3cdcs5T13YYuJ6fTE87wAN03EtJGvZFJjoaJAxLrUQK4r5gmYnRmMz0QBK+f4EBJAkuFyvRYHEYKxOIl4sqID4Dd88quJ0DqwPq71KRQmnBtuUy7hmFEjoYQF6KBBFXgP3NrJa6OG5h5OoH5jlYNOAGYjVuxUppG/aJ4lCBeKE5HCgs4s7FOAXX4NwhusQqnasg3ykBV0W86Jd7R3xl9/zvs+v20Alu6aeL62S3UiYs9MLe9cbmjYilOLVTwN9JYaSf+ZUOQeza3L5GSoorsIDEqWThXtSu2La3IFab+C9tUKPQNzW9ZLFW+qum6oTP/pEPvIvHITYN01CBuukUpDWAO2/BHu9IQjWCk6BiCYjJwwajKXYAQE4HIslkHBKciPWdelp0k2YXEsWqNQ7Rd0UaD0hMBzG/zB0oyD3gOtEeMxE2msyp/pwAAAxVSURBVJc46ggE2g2GpRN1oj+xslLTG9PUCmyHm5MU8aJrXAxGEvwbkEasJItKIrLwvTly0gnfltdnzpWDDhom2D5tW6OTwU5IAviWlEN3SSHQNUsHuUM0fRDQ5zTeCXHgnyE1YP3cXwwaiff0j5UEcy1BqJOIC2hmgkcTiUNphH5DNYCVb4rvhJgQ+h2mwQmVVGG8UyAfuuOoDIJIOsT9kxjTVHVamgVe0vAPHsTtnXjqVkHEHd/b3toB39hd52FnFsIck+zTwGzdv/sGsCGbeOrCN3dDxV8iRk4MAhi93NDZOAvkQs8dAQWyCNHtESaaBXzOcBFPcOH+ZOdoP8xPbBMByMecg5j5CIyuaGedgGipGJPOokwUF7BvDmQAhMVy1Hfxl4gMfy1fURGPqHP5DUKAM1hrAEjL1e7igtjnbK4VMfmDYASA3pDAPAEJESN49RLOXP2sU3OwxzHt4YHLKoJNEsZUEeytNdjBs+EMo9JEtkEYCVJhyu/PtBQcdpRbcn4YhlH4FwySSHYR9FI7k51QhQv/6eDDToxgblJWd2d4yp7wx4gx+4Ns7FcEImsyhPnMg/4wXwCGSyzuYI1l+Q/LbMSZK0/mQUw+fG5bB1kI8MwkIxuo0IixFyLm2IbnPiMz6g5Bf80inCFEq6yC+JSnT3EWmBGYZ/BRirnVBmMuit1b8KtJ7J/GGGFILMB3FupKoBQ5BRixgcFl5RSvW3/ZAOQCVPtQlc33MntOK02mli+asjQ+KywsmRYi94EBYj106UHXKuw33y0P8caQswjE1Nw0Tj8DEcQMKimTICc8M0BZDU2xgDwzIy7WjLIwEPA+DxgofFvXGdbmBS/CXiDrPivH7nZLXT/prO/q2OCMHpj8czB9h//U+9DlYu7c2p4OIphcnEGGCfnrEBPXoUQNXPVybjLwh4QQ5jSGaCzCZjNWJi6L5bc6DAG6upkGnIlHIgFjq5liiMrj51z7XgoRgCVa4A3b8J95Q7Bznc6U95NzvzvZCOgmfsnbWtulf//+0gyr+vJeYAxBqI1EObDEZzeg86AH53d7gOGDhw8PhC8Lm8DNJhFdwJfJ4/LbI3G+AzGLzLq1ahkYZ1OGNwRyA1OvZa+ApXtX1w1LMyCFXsmMGjoZehi3ZIBJu7BwBeEjyWMW/EIUEM8D1QXlTMDgKQZJwPDhR8Mlbbl8/d++IXPfekeGfKU/DCPD0KtDhoRfmFPhAkvLKUUaaZ3h3OQccgZvrieM4/swg4tx/cM9C3nR7KU38Q0XOAqLslhtByAVsM/D/hslByOA+U78YTgE8RCsWQjhvamLZ90o6RL512/eZcv8ddF+Ylf+rRboVn5XfaSdDOkspYJmxEgOjgSZFDrblykJNIkx03Oh546AYnIaPoB4moGrgzSQQxozg5PIuFp+QiQrZnQKkXwMk+B6nzaNOtRbIvBQdooFXWX4yznnVcH4PI/tZbuslGVdXo8C25xDnLkFQ8g8u0f37N0TJXCi58JOOQKENTJwvu9niixLSoulZmkNtsxVAwZAfNKO1SPY2KcGfBHWbLsNY4zxA2Hx4CADDhafFTw489PZtg/ABv9e/QkSftxD0mqwF7eVIPpo4hwQGqTz2cTUrIFwj3t7zgJbn25xlW1teRIoEkYGtmF95oVBiLvXlAjUPIxLgxCn0GeK8q0IovPABAcgUibRLIY3srBAAkm3t6i/Gd63SiFJCArdYaXhrhbEEMr3fKyMSfIoTuYVUW495LYx4GbmZN9whT2fpEkyQGjf5jeF5+wflsNJvme3fEwigw1TUNDFBH7xvVJYAoM4xI0g5wmc8jn6T2F2OAEhNRnykJQS32Aw1FbSbMuFtD/vMzFZN5l81nNLcCeDbSnz7hFHqSC3e/oGrCFSZlrHUr/H4J/4QWrN1TLTc6FnjkAXPsA38hGFt+K1yeZNVkvDPZNwAKN7GcvHeCAM/PLWihhh7vrmHp7xUhnvyhPNWBuZhr0sfv1+hZbutWVZvPa97FvjqP3acr89dwQca8f+kamHzhb+0gkUJRAxd2LbWwH0wL4smMycAwnCTRaMeYxgNgw6ItIFg24ECEOsg+Xdr2sZ0MWKSRc8mHOrSMT5z8yYAXB3a2XQV5+psDYQx1Ytq9d8ZnHJZ+TntDEa508+wnN2ORZGP6nK5XuClOIvZx0j3Prb6sefCPwHpGIqDW3NUl5dgfwxicdaofOugP0Ejkm1bG4l7DpF6ohYmImxDr4D+2/12RIWjA0feJEw8rJnL97yMQKMAstaCSRTfk2fmHwp6MydxMxb2fv12TI5xQ1YjpR6dIGfzw2VP2BsZGvBy5OV7PDN1vLvHvH+iX1UpYT4QKLLvXk8qoynBPlEmXqKnA655wIFJ6PpwXjouseZKiLJNZP/NPDnRkNKOfiAn5Tp9ShyYpqb0NnKHkZvGnzu159M/u/mObuXdM+c0Qxbzr/l2C3XlIvtWSNAfS73qveCAxmeutTRieM484vtNDBufzO4M2TPX/irNkIBMTWwuC9adWgf6RTpktBua4WFCgzmSXUAOGm0T2iE6a4jSrj3oc0nE9Zk1rD5z75+k2kkfCSYfr6uOjILY1OpWptokPMrZEt+3LAruCXjarYXlCvzfYlcmWx9xgraKkU/sfk4SCrGLVXIFoTIshrEeCMcp1TCcC0PPt99ptWYYesUx4bmVrg4PjQ485JsTJmJ8xy/Cv03e2D986WbIKYp9CGDD5CD3y6jP2cbRtDZf74QmAWIBuwbMZpthFh/yjTbGZqACu3e6mJGV4W72cJf42L8TH5+P24L+XeDKJ5dv99++9k4UhoNGMKWA+zvO/zww010zeUzn0mgbeh8yN0NBmdne0VORoqMydRStMSJ2wlDrjgUvg5ppKQElp9hTFaKu2KI74BRCdFYPuYXy1HyxClBXZV9b05+TkDjrimi9hCMIQVe3grZTrdxwSEF5mPwV8B++tae/fx+LbnfnW0EqLaorq6UVWtWG+Wi2I3GXaYPi/LoBMBlAQy0QIzTedhbTrhKw/sTTZyMkPhw51QXjDK6gJBhML18FP4aMUaaX9aVZ1lHkJnmYJF00ciPEVDL54Gb1YGLtMHmj0uGyNqxBhR5sw+cT6yPVtfsQgloIct0ApxtbgF55qFMkrYYCCHKtvGeFFPbSp71o88hGDqlQIBTaCyAeRiCZ6sg5g5IJOyoAgLPlrDWjkl5VZHU1TXIgAEDYWmdkPrmDdiRUIoDOWDQhvrSeTj4gvpkiLCDIMich5zTSRBQipoL0zy5Dbsf8uB9Bb+FaTj3SdOAknng+COP1mJpKUlzDzi8meUVo3wYom6+Lz5eniuvabSHEKIVN+pJpbFyR/sa3mjtRBI0uCOOIVHnuLsRdKwRkjInfXkDb7UxuHHJ3HvlApn8mYy71Q1F1tQhr8ZhPWRkA6DQSgMu6pCZ6FtYM44bynPOGXoufBhywj9DCTzPjsQQD7SYdlw/kCRVEbYnCcn4vjGsWFjONougiL8gsYnFBFu9dAXql1xgBRTBuaqM2SXyyVTgJuYOP/tNENvlwk45AlzRNrc0witjAdxZ0vyWumAPEWcDEd8OBNmRPxyP6N1ZNK4uGMMDy1vZLITuwwh+/bIGfrgcOYRthF+XB4ZJr3jIo8iZZ79f3hzx62F2FvXrsQUh8sSQwHYinAbITJtGm1ssyGeks5yvkyZRdr1kqTzpgCjf7DMgmYJa2VbaeTSnZikQUzXrcjduZBDaUDwFQlphDWK7FK24kU7vWMZd+GNBRhnzL4n5bOOA7YUcjThclbJr+Uz3CDLd18Yotka86aDxBqkAPe/RbCtr/EkcvfGTIAky63Bm3wp3ndZ00mOwQwm0wzg+u3dlsv/d/GF2cV1/XfX866wIXPnuuXavZ38BTLVxHgkvtzjRiMvfE8p7Boquc2FnGgF/Nnk4rXvXMyKj7gl4thnUVb7rjvGbTq9Mmh9NwrxZcJNus+hcxC41AuVl5di6gxVvRpICwSrsTwyUeG0NM3uj4NOXzKBsLX9WvH9rv94DiYtBIZ9x8ZmX3w+m2bMf59/jd2tNZmXZeqbtFKYo31SApMmo0FSv3D5oBh18+xT8VGO8UE9nFMw1UG7ENgizxzGm4sI9iTFegM1xZWzMMPXJnyFkj1dXMZ+BQP3e2Lk0xoNxsLYYQ1qAK/O+/ojaqH+u8PlLfq7memQhLnopjeYv4eT/AxQ4n3+PViROAAAAAElFTkSuQmCC)"
      ],
      "metadata": {
        "id": "okAtUhupLbnH"
      }
    },
    {
      "cell_type": "code",
      "source": [
        "11/2  # float bölme"
      ],
      "metadata": {
        "colab": {
          "base_uri": "https://localhost:8080/"
        },
        "id": "Umt82YMmSysZ",
        "outputId": "1cf32903-e32a-4b08-aa3f-30b26ccbd5db"
      },
      "execution_count": 12,
      "outputs": [
        {
          "output_type": "execute_result",
          "data": {
            "text/plain": [
              "5.5"
            ]
          },
          "metadata": {},
          "execution_count": 12
        }
      ]
    },
    {
      "cell_type": "code",
      "source": [
        "11//2  # tam bölme"
      ],
      "metadata": {
        "colab": {
          "base_uri": "https://localhost:8080/"
        },
        "id": "weNL5XsNS2Rh",
        "outputId": "b432e3da-046a-4cf0-fe47-243cab6576e1"
      },
      "execution_count": 13,
      "outputs": [
        {
          "output_type": "execute_result",
          "data": {
            "text/plain": [
              "5"
            ]
          },
          "metadata": {},
          "execution_count": 13
        }
      ]
    },
    {
      "cell_type": "code",
      "source": [
        "11**2  # 11^2 (üs alma)"
      ],
      "metadata": {
        "colab": {
          "base_uri": "https://localhost:8080/"
        },
        "id": "KA8TOvi_S5Q4",
        "outputId": "e14b9b86-4261-4f8d-dfb4-febd1acee3ef"
      },
      "execution_count": 14,
      "outputs": [
        {
          "output_type": "execute_result",
          "data": {
            "text/plain": [
              "121"
            ]
          },
          "metadata": {},
          "execution_count": 14
        }
      ]
    },
    {
      "cell_type": "code",
      "source": [
        "11%2  # mod alma (kalan)"
      ],
      "metadata": {
        "colab": {
          "base_uri": "https://localhost:8080/"
        },
        "id": "Bi9vjcsFS_6P",
        "outputId": "006307a4-f4c3-488a-8dec-4f3a16e402b7"
      },
      "execution_count": 15,
      "outputs": [
        {
          "output_type": "execute_result",
          "data": {
            "text/plain": [
              "1"
            ]
          },
          "metadata": {},
          "execution_count": 15
        }
      ]
    },
    {
      "cell_type": "code",
      "source": [
        "7%11  # mod alma(kalan)"
      ],
      "metadata": {
        "colab": {
          "base_uri": "https://localhost:8080/"
        },
        "id": "avhJE_eATEd2",
        "outputId": "cbae606c-e657-4cd3-906a-3362a26ab28b"
      },
      "execution_count": 17,
      "outputs": [
        {
          "output_type": "execute_result",
          "data": {
            "text/plain": [
              "7"
            ]
          },
          "metadata": {},
          "execution_count": 17
        }
      ]
    },
    {
      "cell_type": "code",
      "source": [
        "print(11-7)\n",
        "print(4+11.0)\n",
        "print('11-7')"
      ],
      "metadata": {
        "colab": {
          "base_uri": "https://localhost:8080/"
        },
        "id": "P7kWlz5DTQWp",
        "outputId": "99a5a8d7-c448-4a40-899e-6cf0d60763ec"
      },
      "execution_count": 18,
      "outputs": [
        {
          "output_type": "stream",
          "name": "stdout",
          "text": [
            "4\n",
            "15.0\n",
            "11-7\n"
          ]
        }
      ]
    },
    {
      "cell_type": "code",
      "source": [
        "'4' + 4"
      ],
      "metadata": {
        "colab": {
          "base_uri": "https://localhost:8080/",
          "height": 181
        },
        "id": "eZWeDTlWTVNn",
        "outputId": "df49a9e6-f410-4b84-cc9b-cc4fae28430e"
      },
      "execution_count": 20,
      "outputs": [
        {
          "output_type": "error",
          "ename": "TypeError",
          "evalue": "ignored",
          "traceback": [
            "\u001b[0;31m---------------------------------------------------------------------------\u001b[0m",
            "\u001b[0;31mTypeError\u001b[0m                                 Traceback (most recent call last)",
            "\u001b[0;32m<ipython-input-20-28186fbed058>\u001b[0m in \u001b[0;36m<cell line: 1>\u001b[0;34m()\u001b[0m\n\u001b[0;32m----> 1\u001b[0;31m \u001b[0;34m'4'\u001b[0m \u001b[0;34m+\u001b[0m \u001b[0;36m4\u001b[0m\u001b[0;34m\u001b[0m\u001b[0;34m\u001b[0m\u001b[0m\n\u001b[0m",
            "\u001b[0;31mTypeError\u001b[0m: can only concatenate str (not \"int\") to str"
          ]
        }
      ]
    },
    {
      "cell_type": "code",
      "source": [
        "int('4') + 4"
      ],
      "metadata": {
        "colab": {
          "base_uri": "https://localhost:8080/"
        },
        "id": "FkbH0h4ITaeg",
        "outputId": "9c2b38bb-4ff9-48ca-ce06-6b583e358291"
      },
      "execution_count": 21,
      "outputs": [
        {
          "output_type": "execute_result",
          "data": {
            "text/plain": [
              "8"
            ]
          },
          "metadata": {},
          "execution_count": 21
        }
      ]
    },
    {
      "cell_type": "code",
      "source": [
        "'4' + str(4)"
      ],
      "metadata": {
        "colab": {
          "base_uri": "https://localhost:8080/",
          "height": 35
        },
        "id": "8zIegpRrTfX_",
        "outputId": "59346464-0281-4257-a894-70ef98b64db0"
      },
      "execution_count": 22,
      "outputs": [
        {
          "output_type": "execute_result",
          "data": {
            "text/plain": [
              "'44'"
            ],
            "application/vnd.google.colaboratory.intrinsic+json": {
              "type": "string"
            }
          },
          "metadata": {},
          "execution_count": 22
        }
      ]
    },
    {
      "cell_type": "code",
      "source": [
        "num1, num2 = 81, 55\n",
        "num3 = num1 - num2\n",
        "# num1, num2 : operand(işlenen)\n",
        "# -, + : operator(işleç)\n",
        "print(num3)"
      ],
      "metadata": {
        "colab": {
          "base_uri": "https://localhost:8080/"
        },
        "id": "e9GXBnI9T5w-",
        "outputId": "25e7ed90-d077-41b9-ad6b-d927b055d257"
      },
      "execution_count": 23,
      "outputs": [
        {
          "output_type": "stream",
          "name": "stdout",
          "text": [
            "26\n"
          ]
        }
      ]
    },
    {
      "cell_type": "code",
      "source": [
        "# area of circle\n",
        "r = 5\n",
        "PI = 3.14\n",
        "area = PI*r**2\n",
        "\n",
        "print(\"area of circle..: \", area)"
      ],
      "metadata": {
        "colab": {
          "base_uri": "https://localhost:8080/"
        },
        "id": "iJ2UbXjkhGUt",
        "outputId": "f7d5f236-2813-4171-805e-a1d7c7ac30da"
      },
      "execution_count": 63,
      "outputs": [
        {
          "output_type": "stream",
          "name": "stdout",
          "text": [
            "area of circle..:  78.5\n"
          ]
        }
      ]
    },
    {
      "cell_type": "code",
      "source": [
        "# π gibi simgeleri değişken adı olarak kullanmamaya özen gösterelim...\n",
        "r = 5\n",
        "π = 3.14\n",
        "area = π * r ** 2\n",
        "print(area)"
      ],
      "metadata": {
        "colab": {
          "base_uri": "https://localhost:8080/"
        },
        "id": "k5go5mBSVLjv",
        "outputId": "50e925da-f717-4c3f-8e69-2167da116d35"
      },
      "execution_count": 38,
      "outputs": [
        {
          "output_type": "stream",
          "name": "stdout",
          "text": [
            "78.5\n"
          ]
        }
      ]
    },
    {
      "cell_type": "code",
      "source": [
        "# Matematiksel işlemlerde  math/cmath modulune ait metotlar sıklıkla kullanılabilir\n",
        "import math\n",
        "dir(math)  # math modülüne ait metotların bir listesini verir"
      ],
      "metadata": {
        "colab": {
          "base_uri": "https://localhost:8080/"
        },
        "id": "z2LC8f-sVgcV",
        "outputId": "652ccad7-04f6-4f94-9424-3bc21050cc5f"
      },
      "execution_count": 26,
      "outputs": [
        {
          "output_type": "execute_result",
          "data": {
            "text/plain": [
              "['__doc__',\n",
              " '__loader__',\n",
              " '__name__',\n",
              " '__package__',\n",
              " '__spec__',\n",
              " 'acos',\n",
              " 'acosh',\n",
              " 'asin',\n",
              " 'asinh',\n",
              " 'atan',\n",
              " 'atan2',\n",
              " 'atanh',\n",
              " 'ceil',\n",
              " 'comb',\n",
              " 'copysign',\n",
              " 'cos',\n",
              " 'cosh',\n",
              " 'degrees',\n",
              " 'dist',\n",
              " 'e',\n",
              " 'erf',\n",
              " 'erfc',\n",
              " 'exp',\n",
              " 'expm1',\n",
              " 'fabs',\n",
              " 'factorial',\n",
              " 'floor',\n",
              " 'fmod',\n",
              " 'frexp',\n",
              " 'fsum',\n",
              " 'gamma',\n",
              " 'gcd',\n",
              " 'hypot',\n",
              " 'inf',\n",
              " 'isclose',\n",
              " 'isfinite',\n",
              " 'isinf',\n",
              " 'isnan',\n",
              " 'isqrt',\n",
              " 'lcm',\n",
              " 'ldexp',\n",
              " 'lgamma',\n",
              " 'log',\n",
              " 'log10',\n",
              " 'log1p',\n",
              " 'log2',\n",
              " 'modf',\n",
              " 'nan',\n",
              " 'nextafter',\n",
              " 'perm',\n",
              " 'pi',\n",
              " 'pow',\n",
              " 'prod',\n",
              " 'radians',\n",
              " 'remainder',\n",
              " 'sin',\n",
              " 'sinh',\n",
              " 'sqrt',\n",
              " 'tan',\n",
              " 'tanh',\n",
              " 'tau',\n",
              " 'trunc',\n",
              " 'ulp']"
            ]
          },
          "metadata": {},
          "execution_count": 26
        }
      ]
    },
    {
      "cell_type": "code",
      "source": [
        "# area of circle\n",
        "import math\n",
        "r = 5\n",
        "area = math.pi*r**2\n",
        "\n",
        "print(\"area of circle..: \", area)"
      ],
      "metadata": {
        "colab": {
          "base_uri": "https://localhost:8080/"
        },
        "id": "gHfQagb7V9Y0",
        "outputId": "8ac80d15-63e5-4d45-a604-aa4e4805de2e"
      },
      "execution_count": 28,
      "outputs": [
        {
          "output_type": "stream",
          "name": "stdout",
          "text": [
            "area of circle..:  78.53981633974483\n"
          ]
        }
      ]
    },
    {
      "cell_type": "code",
      "source": [
        "r = 5\n",
        "p = 3,14  # tuple\n",
        "area = p*r**2\n",
        "\n",
        "print(\"area of circle..: \", area)"
      ],
      "metadata": {
        "colab": {
          "base_uri": "https://localhost:8080/"
        },
        "id": "wcobFmpChmkt",
        "outputId": "264b540d-bd9f-4c64-b972-ddb0ca63cdcc"
      },
      "execution_count": 64,
      "outputs": [
        {
          "output_type": "stream",
          "name": "stdout",
          "text": [
            "area of circle..:  (3, 14, 3, 14, 3, 14, 3, 14, 3, 14, 3, 14, 3, 14, 3, 14, 3, 14, 3, 14, 3, 14, 3, 14, 3, 14, 3, 14, 3, 14, 3, 14, 3, 14, 3, 14, 3, 14, 3, 14, 3, 14, 3, 14, 3, 14, 3, 14, 3, 14)\n"
          ]
        }
      ]
    },
    {
      "cell_type": "code",
      "source": [
        "print((3,14)*25)"
      ],
      "metadata": {
        "colab": {
          "base_uri": "https://localhost:8080/"
        },
        "id": "TMEuvu34iEdd",
        "outputId": "5a2afdd2-d9a4-4658-a749-ae4dcfd95bea"
      },
      "execution_count": 66,
      "outputs": [
        {
          "output_type": "stream",
          "name": "stdout",
          "text": [
            "(3, 14, 3, 14, 3, 14, 3, 14, 3, 14, 3, 14, 3, 14, 3, 14, 3, 14, 3, 14, 3, 14, 3, 14, 3, 14, 3, 14, 3, 14, 3, 14, 3, 14, 3, 14, 3, 14, 3, 14, 3, 14, 3, 14, 3, 14, 3, 14, 3, 14)\n"
          ]
        }
      ]
    },
    {
      "cell_type": "code",
      "source": [
        "(3,14)*(3,14)"
      ],
      "metadata": {
        "colab": {
          "base_uri": "https://localhost:8080/",
          "height": 181
        },
        "id": "PsEUBZjTiQct",
        "outputId": "e50404f1-3853-4502-9658-45b9e090236b"
      },
      "execution_count": 67,
      "outputs": [
        {
          "output_type": "error",
          "ename": "TypeError",
          "evalue": "ignored",
          "traceback": [
            "\u001b[0;31m---------------------------------------------------------------------------\u001b[0m",
            "\u001b[0;31mTypeError\u001b[0m                                 Traceback (most recent call last)",
            "\u001b[0;32m<ipython-input-67-94508672fe58>\u001b[0m in \u001b[0;36m<cell line: 1>\u001b[0;34m()\u001b[0m\n\u001b[0;32m----> 1\u001b[0;31m \u001b[0;34m(\u001b[0m\u001b[0;36m3\u001b[0m\u001b[0;34m,\u001b[0m\u001b[0;36m14\u001b[0m\u001b[0;34m)\u001b[0m\u001b[0;34m*\u001b[0m\u001b[0;34m(\u001b[0m\u001b[0;36m3\u001b[0m\u001b[0;34m,\u001b[0m\u001b[0;36m14\u001b[0m\u001b[0;34m)\u001b[0m\u001b[0;34m\u001b[0m\u001b[0;34m\u001b[0m\u001b[0m\n\u001b[0m",
            "\u001b[0;31mTypeError\u001b[0m: can't multiply sequence by non-int of type 'tuple'"
          ]
        }
      ]
    },
    {
      "cell_type": "code",
      "source": [
        "\"ali \" * 5"
      ],
      "metadata": {
        "colab": {
          "base_uri": "https://localhost:8080/",
          "height": 35
        },
        "id": "ag5FYLTwiX_h",
        "outputId": "d9db9225-9f0a-4a18-9f78-d270c00b6aad"
      },
      "execution_count": 68,
      "outputs": [
        {
          "output_type": "execute_result",
          "data": {
            "text/plain": [
              "'ali ali ali ali ali '"
            ],
            "application/vnd.google.colaboratory.intrinsic+json": {
              "type": "string"
            }
          },
          "metadata": {},
          "execution_count": 68
        }
      ]
    },
    {
      "cell_type": "code",
      "source": [
        "# üs almak için\n",
        "2**3"
      ],
      "metadata": {
        "colab": {
          "base_uri": "https://localhost:8080/"
        },
        "id": "2pJjDCADWL00",
        "outputId": "d8f8c0e7-e827-4ee2-9e90-b6023b6080f8"
      },
      "execution_count": 29,
      "outputs": [
        {
          "output_type": "execute_result",
          "data": {
            "text/plain": [
              "8"
            ]
          },
          "metadata": {},
          "execution_count": 29
        }
      ]
    },
    {
      "cell_type": "code",
      "source": [
        "pow(2,3)"
      ],
      "metadata": {
        "colab": {
          "base_uri": "https://localhost:8080/"
        },
        "id": "f77qJwH8Wnf-",
        "outputId": "55fa9490-a7b5-4acb-a9b7-0778c1cc8830"
      },
      "execution_count": 30,
      "outputs": [
        {
          "output_type": "execute_result",
          "data": {
            "text/plain": [
              "8"
            ]
          },
          "metadata": {},
          "execution_count": 30
        }
      ]
    },
    {
      "cell_type": "code",
      "source": [
        "pow(4,0.5)  # 4 ün karekökü"
      ],
      "metadata": {
        "colab": {
          "base_uri": "https://localhost:8080/"
        },
        "id": "jv7HcjElWqUh",
        "outputId": "5214b484-8ea6-473e-fc52-b47ceee69f0e"
      },
      "execution_count": 31,
      "outputs": [
        {
          "output_type": "execute_result",
          "data": {
            "text/plain": [
              "2.0"
            ]
          },
          "metadata": {},
          "execution_count": 31
        }
      ]
    },
    {
      "cell_type": "code",
      "source": [
        "4**0.5"
      ],
      "metadata": {
        "colab": {
          "base_uri": "https://localhost:8080/"
        },
        "id": "PTANiVZrWxjd",
        "outputId": "80b43949-9ca1-4a7c-b4ae-997a9dcf0762"
      },
      "execution_count": 32,
      "outputs": [
        {
          "output_type": "execute_result",
          "data": {
            "text/plain": [
              "2.0"
            ]
          },
          "metadata": {},
          "execution_count": 32
        }
      ]
    },
    {
      "cell_type": "code",
      "source": [
        "import math\n",
        "math.sqrt(4)"
      ],
      "metadata": {
        "colab": {
          "base_uri": "https://localhost:8080/"
        },
        "id": "Qi15_VslWz35",
        "outputId": "9f4c1341-b4a3-48fb-c001-1875cf327cf9"
      },
      "execution_count": 34,
      "outputs": [
        {
          "output_type": "execute_result",
          "data": {
            "text/plain": [
              "2.0"
            ]
          },
          "metadata": {},
          "execution_count": 34
        }
      ]
    },
    {
      "cell_type": "code",
      "source": [
        "print(9%2)\n",
        "print((4+5)/2)\n",
        "print(4+5/2)"
      ],
      "metadata": {
        "colab": {
          "base_uri": "https://localhost:8080/"
        },
        "id": "h1TEOPUZXhgv",
        "outputId": "a4a46e71-f30b-42f8-d094-00c27c5d4f3e"
      },
      "execution_count": 36,
      "outputs": [
        {
          "output_type": "stream",
          "name": "stdout",
          "text": [
            "1\n",
            "4.5\n",
            "6.5\n"
          ]
        }
      ]
    },
    {
      "cell_type": "code",
      "source": [
        "print(2 ** 3)  # 2^3\n",
        "print(3 ** 2)  # 3^2\n",
        "a = 2\n",
        "b = 8\n",
        "print((a*b) ** 0.5) # float\n"
      ],
      "metadata": {
        "colab": {
          "base_uri": "https://localhost:8080/"
        },
        "id": "MX9AFch7YwpN",
        "outputId": "9fc1fe49-8a09-4124-d794-9934696d142a"
      },
      "execution_count": 39,
      "outputs": [
        {
          "output_type": "stream",
          "name": "stdout",
          "text": [
            "8\n",
            "9\n",
            "4.0\n"
          ]
        }
      ]
    },
    {
      "cell_type": "code",
      "source": [
        "print((a*b) ** 2) # int"
      ],
      "metadata": {
        "colab": {
          "base_uri": "https://localhost:8080/"
        },
        "id": "72g7kr_FY-0v",
        "outputId": "7ffd8c1a-f213-4b5d-d64f-51d601c0f76f"
      },
      "execution_count": 42,
      "outputs": [
        {
          "output_type": "stream",
          "name": "stdout",
          "text": [
            "256\n"
          ]
        }
      ]
    },
    {
      "cell_type": "code",
      "source": [
        "print(pow(a*b,0.5)) # float"
      ],
      "metadata": {
        "colab": {
          "base_uri": "https://localhost:8080/"
        },
        "id": "ylF9QdDBZL9g",
        "outputId": "a0225165-cc0b-4747-db57-7cbac98d515f"
      },
      "execution_count": 44,
      "outputs": [
        {
          "output_type": "stream",
          "name": "stdout",
          "text": [
            "4.0\n"
          ]
        }
      ]
    },
    {
      "cell_type": "code",
      "source": [
        "from math import sqrt\n",
        "sqrt(a*b)  #  a*b nin karekökünü alır"
      ],
      "metadata": {
        "colab": {
          "base_uri": "https://localhost:8080/"
        },
        "id": "BD-zf2TaZWO8",
        "outputId": "606881ec-8436-4745-ce08-483f75c646fe"
      },
      "execution_count": 46,
      "outputs": [
        {
          "output_type": "execute_result",
          "data": {
            "text/plain": [
              "4.0"
            ]
          },
          "metadata": {},
          "execution_count": 46
        }
      ]
    },
    {
      "cell_type": "markdown",
      "source": [
        "# Aritmetiksel Atama (+=, *=, -=, %=,...) Operatörler"
      ],
      "metadata": {
        "id": "MSGItVCtZpFA"
      }
    },
    {
      "cell_type": "code",
      "source": [
        "# var += 5 --> var = var + 5\n",
        "x = 5\n",
        "x += 5  # x = 10\n",
        "print(x)"
      ],
      "metadata": {
        "colab": {
          "base_uri": "https://localhost:8080/"
        },
        "id": "Gv4di3U3Zwid",
        "outputId": "a0d4ba37-fa9a-4552-d59f-dc7251d84bc9"
      },
      "execution_count": 47,
      "outputs": [
        {
          "output_type": "stream",
          "name": "stdout",
          "text": [
            "10\n"
          ]
        }
      ]
    },
    {
      "cell_type": "code",
      "source": [
        "# x = 10\n",
        "x *= 5\n",
        "print(x)"
      ],
      "metadata": {
        "colab": {
          "base_uri": "https://localhost:8080/"
        },
        "id": "9iKrNlxJaHk4",
        "outputId": "ceeaacfa-dced-4518-c440-37e7eb98b389"
      },
      "execution_count": 48,
      "outputs": [
        {
          "output_type": "stream",
          "name": "stdout",
          "text": [
            "50\n"
          ]
        }
      ]
    },
    {
      "cell_type": "code",
      "source": [
        "x = 10\n",
        "x %= 2  # x = x % 2\n",
        "print(x)"
      ],
      "metadata": {
        "colab": {
          "base_uri": "https://localhost:8080/"
        },
        "id": "FMkODql5abj1",
        "outputId": "446bd4f0-3498-4fcf-a183-3d77747a2cc7"
      },
      "execution_count": 49,
      "outputs": [
        {
          "output_type": "stream",
          "name": "stdout",
          "text": [
            "0\n"
          ]
        }
      ]
    },
    {
      "cell_type": "code",
      "source": [
        "x = 10\n",
        "x **= 2  # x = x ** 2 = 100\n",
        "print(x)"
      ],
      "metadata": {
        "colab": {
          "base_uri": "https://localhost:8080/"
        },
        "id": "GecFX1aPalFz",
        "outputId": "c099f6d3-3bb8-45f7-98fe-12f340be7990"
      },
      "execution_count": 50,
      "outputs": [
        {
          "output_type": "stream",
          "name": "stdout",
          "text": [
            "100\n"
          ]
        }
      ]
    },
    {
      "cell_type": "code",
      "source": [
        "a = (1 + 3 ) ** (2 ** (1 * 2 / 2) / 2)\n",
        "# a = 4 ** (2 ** (1 * 2 / 2) / 2)\n",
        "# a = 4 ** (2 ** 1.0 / 2)\n",
        "# a = 4 ** (2.0 / 2)\n",
        "# a = 4 ** 1.0\n",
        "print(a)"
      ],
      "metadata": {
        "colab": {
          "base_uri": "https://localhost:8080/"
        },
        "id": "G9BJGJBldvVA",
        "outputId": "1bc050e7-5399-438d-d635-ba401f92ac88"
      },
      "execution_count": 51,
      "outputs": [
        {
          "output_type": "stream",
          "name": "stdout",
          "text": [
            "4.0\n"
          ]
        }
      ]
    },
    {
      "cell_type": "markdown",
      "source": [
        "https://docs.python.org/3/library/operator.html"
      ],
      "metadata": {
        "id": "BnNgzZqYLwe7"
      }
    },
    {
      "cell_type": "code",
      "source": [
        "# operator modulü metotları : tüm matematiksel operatörlerin (simgelerin) bir ismi var...\n",
        "import operator\n",
        "operator.add(3,5)"
      ],
      "metadata": {
        "colab": {
          "base_uri": "https://localhost:8080/"
        },
        "id": "yJ6EdXIedsZ6",
        "outputId": "cc7a0334-aa3d-4fe0-8a5f-0e020bc32468"
      },
      "execution_count": 53,
      "outputs": [
        {
          "output_type": "execute_result",
          "data": {
            "text/plain": [
              "8"
            ]
          },
          "metadata": {},
          "execution_count": 53
        }
      ]
    },
    {
      "cell_type": "code",
      "source": [
        "operator.mod(11,2)  # 11%2"
      ],
      "metadata": {
        "colab": {
          "base_uri": "https://localhost:8080/"
        },
        "id": "7OWaWwhDerL3",
        "outputId": "65dc13fb-b35e-4685-fcf0-7cae045f7794"
      },
      "execution_count": 54,
      "outputs": [
        {
          "output_type": "execute_result",
          "data": {
            "text/plain": [
              "1"
            ]
          },
          "metadata": {},
          "execution_count": 54
        }
      ]
    },
    {
      "cell_type": "code",
      "source": [
        "#matematiksel işlemlerde math modülüne ait metotlar da kullanılabilir;\n",
        "import math\n",
        "# birden fazla kod satırı aynı satıra yazmak için aralarına ; konur.\n",
        "y = 10\n",
        "z = math.pi; z += y; print(z)"
      ],
      "metadata": {
        "colab": {
          "base_uri": "https://localhost:8080/"
        },
        "id": "gK72jRxamOPy",
        "outputId": "52d306ba-7c9d-4c77-b53b-dc3cda39f186"
      },
      "execution_count": 55,
      "outputs": [
        {
          "output_type": "stream",
          "name": "stdout",
          "text": [
            "13.141592653589793\n"
          ]
        }
      ]
    },
    {
      "cell_type": "code",
      "source": [
        "8%3"
      ],
      "metadata": {
        "colab": {
          "base_uri": "https://localhost:8080/"
        },
        "id": "2gROGcOjfrGT",
        "outputId": "005da255-2bc2-4e30-d900-2b198a734299"
      },
      "execution_count": 57,
      "outputs": [
        {
          "output_type": "execute_result",
          "data": {
            "text/plain": [
              "2"
            ]
          },
          "metadata": {},
          "execution_count": 57
        }
      ]
    },
    {
      "cell_type": "code",
      "source": [
        "-8%3  # negatif sayıların mod almasında hata olabilir."
      ],
      "metadata": {
        "colab": {
          "base_uri": "https://localhost:8080/"
        },
        "id": "P8Tc2A_TFTv4",
        "outputId": "b4881055-42d0-453e-bb4b-4f4d4979faa6"
      },
      "execution_count": 56,
      "outputs": [
        {
          "output_type": "execute_result",
          "data": {
            "text/plain": [
              "1"
            ]
          },
          "metadata": {},
          "execution_count": 56
        }
      ]
    },
    {
      "cell_type": "code",
      "source": [
        "# bu hatayı gidermek için math.fmod() metodu kullanılır\n",
        "import math\n",
        "math.fmod(-8,3)"
      ],
      "metadata": {
        "colab": {
          "base_uri": "https://localhost:8080/"
        },
        "id": "K1f9UnFnFlYj",
        "outputId": "5458b288-5544-43cc-b1e4-22826ac8959e"
      },
      "execution_count": 58,
      "outputs": [
        {
          "output_type": "execute_result",
          "data": {
            "text/plain": [
              "-2.0"
            ]
          },
          "metadata": {},
          "execution_count": 58
        }
      ]
    },
    {
      "cell_type": "code",
      "source": [
        "# bir üçgenin hipotenüsü\n",
        "import math\n",
        "a = int(input(\"a.: \"))\n",
        "b = int(input(\"b.: \"))\n",
        "# c = (a**2 + b**2)**0.5\n",
        "# c = pow((a**2 + b**2),0.5)\n",
        "c = math.sqrt(a**2 + b**2)\n",
        "print(\"Hipotenüs..:\",c)"
      ],
      "metadata": {
        "colab": {
          "base_uri": "https://localhost:8080/"
        },
        "id": "Cg9G2Gaog68u",
        "outputId": "6aca638d-cd07-4a43-f100-e4c623786deb"
      },
      "execution_count": 62,
      "outputs": [
        {
          "output_type": "stream",
          "name": "stdout",
          "text": [
            "a.: 3\n",
            "b.: 4\n",
            "Hipotenüs..: 5.0\n"
          ]
        }
      ]
    },
    {
      "cell_type": "markdown",
      "source": [
        "# print() fonksiyonu"
      ],
      "metadata": {
        "id": "0ekqZZfHjeED"
      }
    },
    {
      "cell_type": "code",
      "source": [
        "help(print)"
      ],
      "metadata": {
        "colab": {
          "base_uri": "https://localhost:8080/"
        },
        "id": "OWB8asyfjhew",
        "outputId": "7be4b8fa-c9eb-4ffe-879f-8df65df74a79"
      },
      "execution_count": 69,
      "outputs": [
        {
          "output_type": "stream",
          "name": "stdout",
          "text": [
            "Help on built-in function print in module builtins:\n",
            "\n",
            "print(...)\n",
            "    print(value, ..., sep=' ', end='\\n', file=sys.stdout, flush=False)\n",
            "    \n",
            "    Prints the values to a stream, or to sys.stdout by default.\n",
            "    Optional keyword arguments:\n",
            "    file:  a file-like object (stream); defaults to the current sys.stdout.\n",
            "    sep:   string inserted between values, default a space.\n",
            "    end:   string appended after the last value, default a newline.\n",
            "    flush: whether to forcibly flush the stream.\n",
            "\n"
          ]
        }
      ]
    },
    {
      "cell_type": "code",
      "source": [
        "text1 = \"I bought\"\n",
        "text2 = \"kg. of apple this morning\"\n",
        "amount = 6\n",
        "text3 = text1 + \" \" + str(amount) + \" \" + text2\n",
        "print(text3)\n",
        "print(\"I bought \" + \"6 \" + \"kg. of apple this morning\")\n",
        "print(text1 + \" \" + str(amount) + \" \" + text2)\n",
        "print(text1, amount, text2)"
      ],
      "metadata": {
        "colab": {
          "base_uri": "https://localhost:8080/"
        },
        "id": "L_krHt69kDss",
        "outputId": "9fabbb55-3b83-4a01-ae59-b26cff2ae071"
      },
      "execution_count": 70,
      "outputs": [
        {
          "output_type": "stream",
          "name": "stdout",
          "text": [
            "I bought 6 kg. of apple this morning\n",
            "I bought 6 kg. of apple this morning\n",
            "I bought 6 kg. of apple this morning\n",
            "I bought 6 kg. of apple this morning\n"
          ]
        }
      ]
    },
    {
      "cell_type": "code",
      "source": [
        "a = 5\n",
        "print(a, \"kg meyve aldım\")\n",
        "print(str(a) + \" \" + \"kg meyve aldım\")"
      ],
      "metadata": {
        "colab": {
          "base_uri": "https://localhost:8080/"
        },
        "id": "n9awXjBFkIsF",
        "outputId": "22c0f96c-36fa-4b97-ad2c-98db446a8926"
      },
      "execution_count": 75,
      "outputs": [
        {
          "output_type": "stream",
          "name": "stdout",
          "text": [
            "5 kg meyve aldım\n",
            "5 kg meyve aldım\n"
          ]
        }
      ]
    },
    {
      "cell_type": "code",
      "source": [
        "text1 = \"I bought\"\n",
        "text2 = \"kg. of apple this morning\"\n",
        "amount = 6\n",
        "print(text1, amount, text2, sep=\"*\")\n",
        "print(\"I bought\", 6, \"kg. of apple this morning\", sep=\"\")\n",
        "print(\"I bought \" + \"6 \" + text2, end=\" \")\n",
        "print(\"and came to home\")"
      ],
      "metadata": {
        "colab": {
          "base_uri": "https://localhost:8080/"
        },
        "id": "4o-lpWujlQha",
        "outputId": "bb7f9717-fb1a-4f71-bad8-b83c246aa524"
      },
      "execution_count": 76,
      "outputs": [
        {
          "output_type": "stream",
          "name": "stdout",
          "text": [
            "I bought*6*kg. of apple this morning\n",
            "I bought6kg. of apple this morning\n",
            "I bought 6 kg. of apple this morning and came to home\n"
          ]
        }
      ]
    },
    {
      "cell_type": "code",
      "source": [
        "x = 5\n",
        "print(\"x'in değeri..: \", x)\n",
        "\n",
        "x += 2\n",
        "print(\"x'in değeri..: \", x,\"\\n\")\n",
        "\n",
        "x-=5\n",
        "print(\"x'in değeri..: \", x,\"\\n\")\n",
        "print(\"the end\")"
      ],
      "metadata": {
        "colab": {
          "base_uri": "https://localhost:8080/"
        },
        "id": "VBjvJsIXl5RT",
        "outputId": "9373db8e-103e-4c8a-9a4f-6ac75b3f8ee1"
      },
      "execution_count": 77,
      "outputs": [
        {
          "output_type": "stream",
          "name": "stdout",
          "text": [
            "x'in değeri..:  5\n",
            "x'in değeri..:  7 \n",
            "\n",
            "x'in değeri..:  2 \n",
            "\n",
            "the end\n"
          ]
        }
      ]
    },
    {
      "cell_type": "markdown",
      "source": [
        "Unicode - ASCII kod karakterler"
      ],
      "metadata": {
        "id": "vUapQFQMMLbs"
      }
    },
    {
      "cell_type": "code",
      "source": [
        "dog = \"\\N{dog}\"\n",
        "print(dog)"
      ],
      "metadata": {
        "colab": {
          "base_uri": "https://localhost:8080/"
        },
        "id": "fsHFUflVqwOt",
        "outputId": "169c8e7b-28db-4ffc-defc-eab93ee10553"
      },
      "execution_count": 79,
      "outputs": [
        {
          "output_type": "stream",
          "name": "stdout",
          "text": [
            "🐕\n"
          ]
        }
      ]
    },
    {
      "cell_type": "code",
      "source": [
        "kedi = \"\\N{cat}\"\n",
        "print(kedi)"
      ],
      "metadata": {
        "colab": {
          "base_uri": "https://localhost:8080/"
        },
        "id": "YuIR-3Shq6bW",
        "outputId": "90e1346e-b501-4db0-fa1b-bcc8f4a6fec2"
      },
      "execution_count": 80,
      "outputs": [
        {
          "output_type": "stream",
          "name": "stdout",
          "text": [
            "🐈\n"
          ]
        }
      ]
    },
    {
      "cell_type": "code",
      "source": [
        "\"\\u0040\""
      ],
      "metadata": {
        "colab": {
          "base_uri": "https://localhost:8080/",
          "height": 35
        },
        "id": "-lcSU_PNrNqf",
        "outputId": "6c9464aa-679a-49da-8863-e514488e02a8"
      },
      "execution_count": 81,
      "outputs": [
        {
          "output_type": "execute_result",
          "data": {
            "text/plain": [
              "'@'"
            ],
            "application/vnd.google.colaboratory.intrinsic+json": {
              "type": "string"
            }
          },
          "metadata": {},
          "execution_count": 81
        }
      ]
    },
    {
      "cell_type": "code",
      "source": [
        "\"\\u002E\"  # chr(46)"
      ],
      "metadata": {
        "colab": {
          "base_uri": "https://localhost:8080/",
          "height": 35
        },
        "id": "OO-8Xb0irdRD",
        "outputId": "136eb97d-81ee-4228-b73f-2907ce3ed051"
      },
      "execution_count": 82,
      "outputs": [
        {
          "output_type": "execute_result",
          "data": {
            "text/plain": [
              "'.'"
            ],
            "application/vnd.google.colaboratory.intrinsic+json": {
              "type": "string"
            }
          },
          "metadata": {},
          "execution_count": 82
        }
      ]
    },
    {
      "cell_type": "code",
      "source": [
        "#email adresi: bulent@clarusway.com\n",
        "mail = \"bulent\\u0040clarusway\\u002Ecom\"  # unicode tablosuna göre\n",
        "print(mail)"
      ],
      "metadata": {
        "colab": {
          "base_uri": "https://localhost:8080/"
        },
        "id": "RqkKtnDUrSK-",
        "outputId": "7fec9dd9-db65-4e34-cef4-b941f2cbdcc6"
      },
      "execution_count": 83,
      "outputs": [
        {
          "output_type": "stream",
          "name": "stdout",
          "text": [
            "bulent@clarusway.com\n"
          ]
        }
      ]
    },
    {
      "cell_type": "code",
      "source": [
        "chr(64)"
      ],
      "metadata": {
        "colab": {
          "base_uri": "https://localhost:8080/",
          "height": 35
        },
        "id": "1lttP255r58F",
        "outputId": "2ac75bd3-abca-44d1-d524-c7ae005f3c60"
      },
      "execution_count": 85,
      "outputs": [
        {
          "output_type": "execute_result",
          "data": {
            "text/plain": [
              "'@'"
            ],
            "application/vnd.google.colaboratory.intrinsic+json": {
              "type": "string"
            }
          },
          "metadata": {},
          "execution_count": 85
        }
      ]
    },
    {
      "cell_type": "code",
      "source": [
        "mail = \"bulent\"+chr(64)+\"clarusway\"+chr(46)+\"com\"  #ascii tablosuna göre\n",
        "print(mail)"
      ],
      "metadata": {
        "colab": {
          "base_uri": "https://localhost:8080/"
        },
        "id": "Zb9BTtQgsFpE",
        "outputId": "92a72877-a9e2-4076-a7a6-32d245064b18"
      },
      "execution_count": 86,
      "outputs": [
        {
          "output_type": "stream",
          "name": "stdout",
          "text": [
            "bulent@clarusway.com\n"
          ]
        }
      ]
    },
    {
      "cell_type": "code",
      "source": [
        "#chr() nin tersi de ord() ile öğrenilir\n",
        "ord(\"@\")  # bir karakterin ASCII tablosundaki sayısal(decimal) değerini döndürür."
      ],
      "metadata": {
        "colab": {
          "base_uri": "https://localhost:8080/"
        },
        "id": "gJHbUVsysauv",
        "outputId": "6c69ce1c-f22f-4e04-9e68-cc840a64e63f"
      },
      "execution_count": 87,
      "outputs": [
        {
          "output_type": "execute_result",
          "data": {
            "text/plain": [
              "64"
            ]
          },
          "metadata": {},
          "execution_count": 87
        }
      ]
    },
    {
      "cell_type": "code",
      "source": [
        "print('C:\\\\north pole\\noise_penguins.txt')\n",
        "print('----------')\n",
        "print('first', 'second', 'third', sep='\\t')"
      ],
      "metadata": {
        "colab": {
          "base_uri": "https://localhost:8080/"
        },
        "id": "be8b0iN4ysNA",
        "outputId": "17a4c268-9d44-4aff-b3fa-eb04fc150b14"
      },
      "execution_count": 89,
      "outputs": [
        {
          "output_type": "stream",
          "name": "stdout",
          "text": [
            "C:\\north pole\n",
            "oise_penguins.txt\n",
            "----------\n",
            "first\tsecond\tthird\n"
          ]
        }
      ]
    },
    {
      "cell_type": "code",
      "source": [
        "print(\"ali bana, \"gel\" dedi\")"
      ],
      "metadata": {
        "colab": {
          "base_uri": "https://localhost:8080/",
          "height": 145
        },
        "id": "Wz8fI99ruT09",
        "outputId": "9da583be-ffa1-4b3d-d632-5461bf5d787f"
      },
      "execution_count": 92,
      "outputs": [
        {
          "output_type": "error",
          "ename": "SyntaxError",
          "evalue": "ignored",
          "traceback": [
            "\u001b[0;36m  File \u001b[0;32m\"<ipython-input-92-a9c8be548351>\"\u001b[0;36m, line \u001b[0;32m1\u001b[0m\n\u001b[0;31m    print(\"ali bana, \"gel\" dedi\")\u001b[0m\n\u001b[0m          ^\u001b[0m\n\u001b[0;31mSyntaxError\u001b[0m\u001b[0;31m:\u001b[0m invalid syntax. Perhaps you forgot a comma?\n"
          ]
        }
      ]
    },
    {
      "cell_type": "code",
      "source": [
        "print(\"ali bana, \\\"gel\\\" dedi\")"
      ],
      "metadata": {
        "colab": {
          "base_uri": "https://localhost:8080/"
        },
        "id": "FZpIPQ4FuGyc",
        "outputId": "787a73ab-8667-4f01-c560-7a273bb6c79c"
      },
      "execution_count": 93,
      "outputs": [
        {
          "output_type": "stream",
          "name": "stdout",
          "text": [
            "ali bana, \"gel\" dedi\n"
          ]
        }
      ]
    },
    {
      "cell_type": "code",
      "source": [
        "print('ali bana, 'gel' dedi')"
      ],
      "metadata": {
        "colab": {
          "base_uri": "https://localhost:8080/",
          "height": 145
        },
        "id": "fqznCGQjuXaC",
        "outputId": "9953537e-4f38-4fd7-f766-a610a30f5588"
      },
      "execution_count": 95,
      "outputs": [
        {
          "output_type": "error",
          "ename": "SyntaxError",
          "evalue": "ignored",
          "traceback": [
            "\u001b[0;36m  File \u001b[0;32m\"<ipython-input-95-6944dae9075e>\"\u001b[0;36m, line \u001b[0;32m1\u001b[0m\n\u001b[0;31m    print('ali bana, 'gel' dedi')\u001b[0m\n\u001b[0m          ^\u001b[0m\n\u001b[0;31mSyntaxError\u001b[0m\u001b[0;31m:\u001b[0m invalid syntax. Perhaps you forgot a comma?\n"
          ]
        }
      ]
    },
    {
      "cell_type": "code",
      "source": [
        "print('ali bana, \\'gel\\' dedi')"
      ],
      "metadata": {
        "colab": {
          "base_uri": "https://localhost:8080/"
        },
        "id": "i-IkzQOzueBx",
        "outputId": "438e96b6-e9db-4232-c6e4-8fef3e18123e"
      },
      "execution_count": 96,
      "outputs": [
        {
          "output_type": "stream",
          "name": "stdout",
          "text": [
            "ali bana, 'gel' dedi\n"
          ]
        }
      ]
    },
    {
      "cell_type": "code",
      "source": [
        "dosyam = \"C:\\content\\sample_data\\noise.txt\"\n",
        "print(dosyam)"
      ],
      "metadata": {
        "colab": {
          "base_uri": "https://localhost:8080/"
        },
        "id": "Ph64UkyYug2G",
        "outputId": "4d17ca02-8079-4a59-a0e0-5c809397307d"
      },
      "execution_count": 97,
      "outputs": [
        {
          "output_type": "stream",
          "name": "stdout",
          "text": [
            "C:\\content\\sample_data\n",
            "oise.txt\n"
          ]
        }
      ]
    },
    {
      "cell_type": "code",
      "source": [
        "dosyam = \"C:\\\\content\\\\sample_data\\\\noise.txt\"  # windows için\n",
        "print(dosyam)"
      ],
      "metadata": {
        "colab": {
          "base_uri": "https://localhost:8080/"
        },
        "id": "wzS3K4-cuymh",
        "outputId": "53c2e433-0de0-4b5d-964e-47a8447c5606"
      },
      "execution_count": 99,
      "outputs": [
        {
          "output_type": "stream",
          "name": "stdout",
          "text": [
            "C:\\content\\sample_data\\noise.txt\n"
          ]
        }
      ]
    },
    {
      "cell_type": "code",
      "source": [
        "# escape karakterlerini gözardı etmek için ne yapmalıyım?\n",
        "dosyam = r\"C:\\content\\sample_data\\noise.txt\"\n",
        "print(dosyam)"
      ],
      "metadata": {
        "colab": {
          "base_uri": "https://localhost:8080/"
        },
        "id": "YJA17vCnu-kA",
        "outputId": "8f532426-9457-40af-e2bd-e33a7cfe30cc"
      },
      "execution_count": 101,
      "outputs": [
        {
          "output_type": "stream",
          "name": "stdout",
          "text": [
            "C:\\content\\sample_data\\noise.txt\n"
          ]
        }
      ]
    },
    {
      "cell_type": "code",
      "source": [
        "print('we are', '\\boosting', 'our', '\\brotherhood')\n",
        "print('it\\'s essential to learn Python\\'s libraries in IT World')"
      ],
      "metadata": {
        "colab": {
          "base_uri": "https://localhost:8080/"
        },
        "id": "1tv5SKZIv_r5",
        "outputId": "aaa1ded0-24b6-49b8-96d6-92ef08474f8e"
      },
      "execution_count": 102,
      "outputs": [
        {
          "output_type": "stream",
          "name": "stdout",
          "text": [
            "we are \boosting our \brotherhood\n",
            "it's essential to learn Python's libraries in IT World\n"
          ]
        }
      ]
    },
    {
      "cell_type": "code",
      "source": [
        "# text = \"Clarusway,\", \"\\n\", \"\\t\" kullanarak aşağıdaki çıktı nasıl elde edilir?\n",
        "#Clarusway, Clarusway, Clarusway,\n",
        "#   Clarusway, Clarusway, Clarusway,\n",
        "# \t\tClarusway, Clarusway, Clarusway"
      ],
      "metadata": {
        "id": "KL6PPKVAwcFl"
      },
      "execution_count": null,
      "outputs": []
    },
    {
      "cell_type": "code",
      "source": [
        "#emre beyin çözümü\n",
        "text = \"Clarusway, \"\n",
        "print(3*text)\n",
        "print('\\t',3*text )\n",
        "print('\\t\\t',3*text, \"\\b\\b\\b\")"
      ],
      "metadata": {
        "colab": {
          "base_uri": "https://localhost:8080/"
        },
        "id": "7QQT8WVVxQXU",
        "outputId": "84c72507-ab94-4195-9225-bd61e5317975"
      },
      "execution_count": 118,
      "outputs": [
        {
          "output_type": "stream",
          "name": "stdout",
          "text": [
            "Clarusway, Clarusway, Clarusway, \n",
            "\t Clarusway, Clarusway, Clarusway, \n",
            "\t\t Clarusway, Clarusway, Clarusway,  \b\b\b\n"
          ]
        }
      ]
    },
    {
      "cell_type": "code",
      "source": [
        "text = \"Clarusway, Clarusway, Clarusway,\"\n",
        "print(text)\n",
        "print(\"\\t\", text)\n",
        "print(\"\\t\\t\", text, \"\\b\\b\")"
      ],
      "metadata": {
        "colab": {
          "base_uri": "https://localhost:8080/"
        },
        "id": "l1vbiegRxpQT",
        "outputId": "d3ac12de-7338-4657-9ca5-7f01cb43150b"
      },
      "execution_count": 114,
      "outputs": [
        {
          "output_type": "stream",
          "name": "stdout",
          "text": [
            "Clarusway, Clarusway, Clarusway,\n",
            "\t Clarusway, Clarusway, Clarusway,\n",
            "\t\t Clarusway, Clarusway, Clarusway, \b\b\n"
          ]
        }
      ]
    },
    {
      "cell_type": "code",
      "source": [
        "text = \"Clarusway, Clarusway, Clarusway,\"\n",
        "print(text, \"\\n\\t\", text, \"\\n\\t\\t\", text, \"\\b\\b\")"
      ],
      "metadata": {
        "colab": {
          "base_uri": "https://localhost:8080/"
        },
        "id": "bfP6u7rRyJ0I",
        "outputId": "5c4401af-6709-4c89-b4a1-6532c2a5b21e"
      },
      "execution_count": 112,
      "outputs": [
        {
          "output_type": "stream",
          "name": "stdout",
          "text": [
            "Clarusway, Clarusway, Clarusway, \n",
            "\t Clarusway, Clarusway, Clarusway, \n",
            "\t\t Clarusway, Clarusway, Clarusway, \b\b\n"
          ]
        }
      ]
    },
    {
      "cell_type": "markdown",
      "source": [
        "# Boolean Operators ⁉\n",
        "and, or, not"
      ],
      "metadata": {
        "id": "4XusMTMk2qSe"
      }
    },
    {
      "cell_type": "code",
      "source": [
        "bool_var = False and not True\n",
        "print(bool_var)"
      ],
      "metadata": {
        "colab": {
          "base_uri": "https://localhost:8080/"
        },
        "id": "ZLkpewdb2u6E",
        "outputId": "cdccaa88-830d-40d1-8ed1-e47de5a126a0"
      },
      "execution_count": 119,
      "outputs": [
        {
          "output_type": "stream",
          "name": "stdout",
          "text": [
            "False\n"
          ]
        }
      ]
    },
    {
      "cell_type": "code",
      "source": [
        "b = \"a\" and not True\n",
        "print(b)"
      ],
      "metadata": {
        "colab": {
          "base_uri": "https://localhost:8080/"
        },
        "id": "sNiYBtUH22qT",
        "outputId": "55cea603-5144-45c8-bf59-e28486312c06"
      },
      "execution_count": 121,
      "outputs": [
        {
          "output_type": "stream",
          "name": "stdout",
          "text": [
            "False\n"
          ]
        }
      ]
    },
    {
      "cell_type": "code",
      "source": [
        "b = \"a\" and not False\n",
        "print(b)"
      ],
      "metadata": {
        "colab": {
          "base_uri": "https://localhost:8080/"
        },
        "id": "LkZa7yZt2_cq",
        "outputId": "7ebe38c4-3bec-4b05-ecbf-4be5691a3e0f"
      },
      "execution_count": 122,
      "outputs": [
        {
          "output_type": "stream",
          "name": "stdout",
          "text": [
            "True\n"
          ]
        }
      ]
    },
    {
      "cell_type": "code",
      "source": [
        "b =  not False and \"a\"  # hepsi True ise sondaki değeri verir.\n",
        "print(b)"
      ],
      "metadata": {
        "colab": {
          "base_uri": "https://localhost:8080/"
        },
        "id": "xCqaNCgU3L12",
        "outputId": "e31b6fae-d6c3-46a7-c8d3-53354b3959c9"
      },
      "execution_count": 123,
      "outputs": [
        {
          "output_type": "stream",
          "name": "stdout",
          "text": [
            "a\n"
          ]
        }
      ]
    },
    {
      "cell_type": "code",
      "source": [
        "True and False or not False or True\n",
        "# True and False or True or True\n",
        "# False or True or True\n",
        "# True or True\n",
        "# True"
      ],
      "metadata": {
        "colab": {
          "base_uri": "https://localhost:8080/"
        },
        "id": "a7TdvGwz3lIj",
        "outputId": "1edb1037-3023-480f-fe2e-e346b3dbd728"
      },
      "execution_count": 125,
      "outputs": [
        {
          "output_type": "execute_result",
          "data": {
            "text/plain": [
              "True"
            ]
          },
          "metadata": {},
          "execution_count": 125
        }
      ]
    },
    {
      "cell_type": "code",
      "source": [
        "b =  not False or \"a\"  # hepsi True ise baştaki değeri verir.\n",
        "print(b)"
      ],
      "metadata": {
        "colab": {
          "base_uri": "https://localhost:8080/"
        },
        "id": "jEDdHR3M38Nk",
        "outputId": "301f8ccf-9993-47c7-a4a8-44105c5f8bca"
      },
      "execution_count": 126,
      "outputs": [
        {
          "output_type": "stream",
          "name": "stdout",
          "text": [
            "True\n"
          ]
        }
      ]
    },
    {
      "cell_type": "code",
      "source": [
        "print(\"aa\" or True or 1 or 12345 or True)"
      ],
      "metadata": {
        "colab": {
          "base_uri": "https://localhost:8080/"
        },
        "id": "Ji9CfFan4C4M",
        "outputId": "aee5962f-eb00-4ae9-c7b7-4f99d36760d2"
      },
      "execution_count": 127,
      "outputs": [
        {
          "output_type": "stream",
          "name": "stdout",
          "text": [
            "aa\n"
          ]
        }
      ]
    },
    {
      "cell_type": "code",
      "source": [
        "print(\"aa\" and True and 1 and 12345 and True)"
      ],
      "metadata": {
        "colab": {
          "base_uri": "https://localhost:8080/"
        },
        "id": "x4EhR0uY4LCz",
        "outputId": "6372a633-93b1-4098-be5a-a73a4a9c908a"
      },
      "execution_count": 128,
      "outputs": [
        {
          "output_type": "stream",
          "name": "stdout",
          "text": [
            "True\n"
          ]
        }
      ]
    },
    {
      "cell_type": "code",
      "source": [
        "print(1 and 0) # True and False -> False değeri döndürür : 0\n",
        "print(not 0)"
      ],
      "metadata": {
        "colab": {
          "base_uri": "https://localhost:8080/"
        },
        "id": "c4h-bTaF4nu-",
        "outputId": "486ecc6f-688c-4438-aaf4-9134b1ac3ebc"
      },
      "execution_count": 129,
      "outputs": [
        {
          "output_type": "stream",
          "name": "stdout",
          "text": [
            "0\n",
            "True\n"
          ]
        }
      ]
    },
    {
      "cell_type": "code",
      "source": [
        "print(9 and \"I am\")"
      ],
      "metadata": {
        "colab": {
          "base_uri": "https://localhost:8080/"
        },
        "id": "YmN0mOoz5TaA",
        "outputId": "68b43767-6989-46e1-b2cf-6cd472782e57"
      },
      "execution_count": 130,
      "outputs": [
        {
          "output_type": "stream",
          "name": "stdout",
          "text": [
            "I am\n"
          ]
        }
      ]
    },
    {
      "cell_type": "code",
      "source": [
        "print(9 or \"I am\")"
      ],
      "metadata": {
        "colab": {
          "base_uri": "https://localhost:8080/"
        },
        "id": "UtIwDZIz5Xhh",
        "outputId": "ad788212-f9bb-48d1-f309-385f8954d87d"
      },
      "execution_count": 131,
      "outputs": [
        {
          "output_type": "stream",
          "name": "stdout",
          "text": [
            "9\n"
          ]
        }
      ]
    },
    {
      "cell_type": "code",
      "source": [
        "print(9 and \"\")  # T and F -> F"
      ],
      "metadata": {
        "colab": {
          "base_uri": "https://localhost:8080/"
        },
        "id": "c9IwUshc5ZuR",
        "outputId": "a6077d11-a9dd-4c0b-9920-48c82928d0b1"
      },
      "execution_count": 132,
      "outputs": [
        {
          "output_type": "stream",
          "name": "stdout",
          "text": [
            "\n"
          ]
        }
      ]
    },
    {
      "cell_type": "code",
      "source": [
        "print(9 and 0.0)  # T and F -> F"
      ],
      "metadata": {
        "colab": {
          "base_uri": "https://localhost:8080/"
        },
        "id": "qE0CVWVz5lgQ",
        "outputId": "081d8654-0ede-4ea6-ee4f-da3bbefd5008"
      },
      "execution_count": 133,
      "outputs": [
        {
          "output_type": "stream",
          "name": "stdout",
          "text": [
            "0.0\n"
          ]
        }
      ]
    },
    {
      "cell_type": "code",
      "source": [
        "print(0 and \"a\" or \"5\")\n",
        "# 0 or \"5\" (F or T ->T)\n",
        "# \"5\""
      ],
      "metadata": {
        "colab": {
          "base_uri": "https://localhost:8080/"
        },
        "id": "C1jgJ6Lb5wkL",
        "outputId": "e7cd3369-c64a-4b0d-8c3e-74eb0aded449"
      },
      "execution_count": 134,
      "outputs": [
        {
          "output_type": "stream",
          "name": "stdout",
          "text": [
            "5\n"
          ]
        }
      ]
    },
    {
      "cell_type": "code",
      "source": [
        "print(\"a\" or \"5\" and 0)\n",
        "# \"a\" or 0\n",
        "# \"a\""
      ],
      "metadata": {
        "colab": {
          "base_uri": "https://localhost:8080/"
        },
        "id": "HKe5n7JS6CPc",
        "outputId": "e3706349-ac9c-4b7a-a5ff-034f17596529"
      },
      "execution_count": 135,
      "outputs": [
        {
          "output_type": "stream",
          "name": "stdout",
          "text": [
            "a\n"
          ]
        }
      ]
    },
    {
      "cell_type": "code",
      "source": [
        "# if else yerine and or operatörleri kullanılabilir. Örnek;\n",
        "num = 11\n",
        "num%2 and \"tek\" or \"çift\"\n",
        "# 1 and \"tek\" or \"çift\"\n",
        "# \"tek\" or \"çift\"\n",
        "# \"tek\""
      ],
      "metadata": {
        "id": "2QvJffLQGZzH",
        "outputId": "88ecd7ad-e7de-437b-f638-e00afac4c607",
        "colab": {
          "base_uri": "https://localhost:8080/",
          "height": 35
        }
      },
      "execution_count": 136,
      "outputs": [
        {
          "output_type": "execute_result",
          "data": {
            "text/plain": [
              "'tek'"
            ],
            "application/vnd.google.colaboratory.intrinsic+json": {
              "type": "string"
            }
          },
          "metadata": {},
          "execution_count": 136
        }
      ]
    },
    {
      "cell_type": "code",
      "source": [
        "num = 10\n",
        "num%2 and \"tek\" or \"çift\"\n",
        "# 0 and \"tek\" or \"çift\"\n",
        "# 0 or \"çift\"\n",
        "# \"çift\""
      ],
      "metadata": {
        "colab": {
          "base_uri": "https://localhost:8080/",
          "height": 35
        },
        "id": "YwYYomoU7EiX",
        "outputId": "2bdc9462-9af8-4d87-982b-1f6bf4ab1a74"
      },
      "execution_count": 137,
      "outputs": [
        {
          "output_type": "execute_result",
          "data": {
            "text/plain": [
              "'çift'"
            ],
            "application/vnd.google.colaboratory.intrinsic+json": {
              "type": "string"
            }
          },
          "metadata": {},
          "execution_count": 137
        }
      ]
    },
    {
      "cell_type": "code",
      "source": [
        "# girilen bir sayını çift mi tek mi olduğunu hesaplayan programı yazınız...\n",
        "num = int(input(\"sayı..: \"))\n",
        "print(num%2 and \"tek\" or \"çift\")"
      ],
      "metadata": {
        "colab": {
          "base_uri": "https://localhost:8080/"
        },
        "id": "FZgw4iCJ7TSA",
        "outputId": "6623bf56-9e45-48ef-d75e-7504f8dbe860"
      },
      "execution_count": 139,
      "outputs": [
        {
          "output_type": "stream",
          "name": "stdout",
          "text": [
            "sayı..: 99\n",
            "tek\n"
          ]
        }
      ]
    },
    {
      "cell_type": "code",
      "source": [
        "x = \"\\N{spider}\"\n",
        "print(x)"
      ],
      "metadata": {
        "colab": {
          "base_uri": "https://localhost:8080/"
        },
        "id": "IGrV0aCP0J49",
        "outputId": "19b32a01-989b-4943-97f6-e5a32b778d96"
      },
      "execution_count": 140,
      "outputs": [
        {
          "output_type": "stream",
          "name": "stdout",
          "text": [
            "🕷\n"
          ]
        }
      ]
    },
    {
      "cell_type": "code",
      "source": [
        "num = 0xa5  # onaltılık sayı sistemi\n",
        "print(num)"
      ],
      "metadata": {
        "colab": {
          "base_uri": "https://localhost:8080/"
        },
        "id": "8e0uhda08eAj",
        "outputId": "076c7dae-9ebd-4858-a8e6-3b6934084bef"
      },
      "execution_count": 141,
      "outputs": [
        {
          "output_type": "stream",
          "name": "stdout",
          "text": [
            "165\n"
          ]
        }
      ]
    },
    {
      "cell_type": "code",
      "source": [
        "0b0111"
      ],
      "metadata": {
        "colab": {
          "base_uri": "https://localhost:8080/"
        },
        "id": "XY1ooWkW8rFT",
        "outputId": "46efc440-63bc-4e77-a245-12f58202ca8d"
      },
      "execution_count": 143,
      "outputs": [
        {
          "output_type": "execute_result",
          "data": {
            "text/plain": [
              "7"
            ]
          },
          "metadata": {},
          "execution_count": 143
        }
      ]
    },
    {
      "cell_type": "code",
      "source": [
        "3.2e-12"
      ],
      "metadata": {
        "colab": {
          "base_uri": "https://localhost:8080/"
        },
        "id": "3SQXEM6K9ECF",
        "outputId": "572f6389-88e6-4bda-d15a-e554b9311985"
      },
      "execution_count": 144,
      "outputs": [
        {
          "output_type": "execute_result",
          "data": {
            "text/plain": [
              "3.2e-12"
            ]
          },
          "metadata": {},
          "execution_count": 144
        }
      ]
    }
  ]
}