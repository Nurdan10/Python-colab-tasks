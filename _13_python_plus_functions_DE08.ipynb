{
  "nbformat": 4,
  "nbformat_minor": 0,
  "metadata": {
    "colab": {
      "provenance": []
    },
    "kernelspec": {
      "name": "python3",
      "display_name": "Python 3"
    },
    "language_info": {
      "name": "python"
    }
  },
  "cells": [
    {
      "cell_type": "markdown",
      "source": [
        "# Fonksiyon ile metot arasındaki fark nedir?"
      ],
      "metadata": {
        "id": "y8gWgUFJOGGT"
      }
    },
    {
      "cell_type": "code",
      "source": [
        "# Esasen aynı şey, python farkı:\n",
        "# str() : bu bir fonksiyon\n",
        "# print():  bir fonksiyon\n",
        "# str.islower(): str'nin bir metodu\n",
        "# math.floor(3.665) : math'in bir metodu"
      ],
      "metadata": {
        "id": "jVfViLwb5S9N"
      },
      "execution_count": null,
      "outputs": []
    },
    {
      "cell_type": "code",
      "source": [
        "\"ali \".strip()"
      ],
      "metadata": {
        "colab": {
          "base_uri": "https://localhost:8080/",
          "height": 35
        },
        "id": "O9Wi8YJJT7lt",
        "outputId": "c7ab4d1f-f722-4cdb-9835-6bb76e5d6451"
      },
      "execution_count": 2,
      "outputs": [
        {
          "output_type": "execute_result",
          "data": {
            "text/plain": [
              "'ali'"
            ],
            "application/vnd.google.colaboratory.intrinsic+json": {
              "type": "string"
            }
          },
          "metadata": {},
          "execution_count": 2
        }
      ]
    },
    {
      "cell_type": "markdown",
      "source": [
        "## FONKSİYON TANIMLAMA : def"
      ],
      "metadata": {
        "id": "NO_ac1Q82BPg"
      }
    },
    {
      "cell_type": "code",
      "source": [
        "# definition function\n",
        "# 1- sonucu bir değişkene aktarılmayan ve parametresiz bir fonksiyon\n",
        "def motto():\n",
        "    print(\"Don't hesitate to reinvert yourself\")\n",
        "\n",
        "# birden fazla çağrılabilir\n",
        "motto()\n",
        "motto()\n",
        "print(\".....\")\n",
        "motto()"
      ],
      "metadata": {
        "colab": {
          "base_uri": "https://localhost:8080/"
        },
        "id": "DYpGALREQ6cP",
        "outputId": "7cd292a2-4882-4c44-e4b3-c121dd9845bb"
      },
      "execution_count": 1,
      "outputs": [
        {
          "output_type": "stream",
          "name": "stdout",
          "text": [
            "Don't hesitate to reinvert yourself\n",
            "Don't hesitate to reinvert yourself\n",
            ".....\n",
            "Don't hesitate to reinvert yourself\n"
          ]
        }
      ]
    },
    {
      "cell_type": "code",
      "source": [
        "a = motto()\n",
        "print(a) # aslında bir değişkene aktarılmadı"
      ],
      "metadata": {
        "colab": {
          "base_uri": "https://localhost:8080/"
        },
        "id": "2cO4K-xzn5Ft",
        "outputId": "461f0b35-c12d-424a-97b5-950d5d61cec5"
      },
      "execution_count": 3,
      "outputs": [
        {
          "output_type": "stream",
          "name": "stdout",
          "text": [
            "Don't hesitate to reinvert yourself\n",
            "None\n"
          ]
        }
      ]
    },
    {
      "cell_type": "code",
      "source": [
        "# Python da her nesne (class, function, collections,...) eşit seviyelidir ve\n",
        "# bir değişkene atanabilir...\n",
        "yaz = print  # print fonksiyonun işlevi yaz isimli bir değişkene aktarıldı\n",
        "yaz(\"ali\")\n",
        "yaz(\"ali \"*3)"
      ],
      "metadata": {
        "colab": {
          "base_uri": "https://localhost:8080/"
        },
        "id": "VvxOnKVoS8YA",
        "outputId": "550a13d8-3143-469c-90a3-0dae8f71d0b6"
      },
      "execution_count": 4,
      "outputs": [
        {
          "output_type": "stream",
          "name": "stdout",
          "text": [
            "ali\n",
            "ali ali ali \n"
          ]
        }
      ]
    },
    {
      "cell_type": "code",
      "source": [
        "yaz(f\"ali{5+3}\")"
      ],
      "metadata": {
        "colab": {
          "base_uri": "https://localhost:8080/"
        },
        "id": "z9QyMQ5Qvz7e",
        "outputId": "b91afec4-74ab-4ac8-e753-83b114e9f1f9"
      },
      "execution_count": 5,
      "outputs": [
        {
          "output_type": "stream",
          "name": "stdout",
          "text": [
            "ali8\n"
          ]
        }
      ]
    },
    {
      "cell_type": "code",
      "source": [
        "# fonksiyon tanımlaması\n",
        "# fonksiyonun adı: first_function\n",
        "# fonksiyon girdileri: argument_1, argument_2\n",
        "def first_function(argument_1, argument_2):\n",
        "    \"\"\" bu fonksiyon 2 girdi alır ve karelerinin toplamını hesaplar\"\"\"  # docstring\n",
        "    print(argument_1**2 + argument_2**2)\n",
        "\n",
        "# fonksiyon çağırma\n",
        "first_function(3,4)  # 3-> argument_1, 4-> argument_2"
      ],
      "metadata": {
        "colab": {
          "base_uri": "https://localhost:8080/"
        },
        "id": "oSZCkSEzVN3P",
        "outputId": "e17552ab-3878-4469-94b5-795e9980c798"
      },
      "execution_count": 7,
      "outputs": [
        {
          "output_type": "stream",
          "name": "stdout",
          "text": [
            "25\n"
          ]
        }
      ]
    },
    {
      "cell_type": "code",
      "source": [
        "a = 3\n",
        "b = 4\n",
        "first_function(b,a)  # b: argument_1, a: argument_2 oldu"
      ],
      "metadata": {
        "colab": {
          "base_uri": "https://localhost:8080/"
        },
        "id": "qaeLowi4WYpN",
        "outputId": "c7b9b063-bef8-420e-b1f3-9452dcf5a4a9"
      },
      "execution_count": 8,
      "outputs": [
        {
          "output_type": "stream",
          "name": "stdout",
          "text": [
            "25\n"
          ]
        }
      ]
    },
    {
      "cell_type": "code",
      "source": [
        "first_function(2,3)"
      ],
      "metadata": {
        "colab": {
          "base_uri": "https://localhost:8080/"
        },
        "id": "cQ9H8Y9zWrbc",
        "outputId": "f8db6ab3-c39a-4cd2-c294-cb750f2863ca"
      },
      "execution_count": 9,
      "outputs": [
        {
          "output_type": "stream",
          "name": "stdout",
          "text": [
            "13\n"
          ]
        }
      ]
    },
    {
      "cell_type": "code",
      "source": [
        "def multiply(a,b):\n",
        "    print(a*b)\n",
        "\n",
        "# fonksiyon çağırma\n",
        "multiply(3, 5)          # a: 3, b: 5\n",
        "multiply(-1, 2.5)       # a: -1, b: 2.5\n",
        "multiply(\"amazing \", 3) # a: \"amazing \", b: 3"
      ],
      "metadata": {
        "colab": {
          "base_uri": "https://localhost:8080/"
        },
        "id": "DyM7n6_9XfjR",
        "outputId": "b55956b9-1fb3-473e-997c-526227638d8d"
      },
      "execution_count": 20,
      "outputs": [
        {
          "output_type": "stream",
          "name": "stdout",
          "text": [
            "15\n",
            "-2.5\n",
            "amazing amazing amazing \n"
          ]
        }
      ]
    },
    {
      "cell_type": "code",
      "source": [
        "type(multiply)"
      ],
      "metadata": {
        "colab": {
          "base_uri": "https://localhost:8080/"
        },
        "id": "fRa_KJnygUhL",
        "outputId": "f2dbf1f2-2e38-413d-9067-f514c62e0c34"
      },
      "execution_count": 21,
      "outputs": [
        {
          "output_type": "execute_result",
          "data": {
            "text/plain": [
              "function"
            ]
          },
          "metadata": {},
          "execution_count": 21
        }
      ]
    },
    {
      "cell_type": "code",
      "source": [
        "type(multiply(4,5))"
      ],
      "metadata": {
        "colab": {
          "base_uri": "https://localhost:8080/"
        },
        "id": "0TQmcgRVgXjG",
        "outputId": "8ee75210-9b35-4041-880f-ae1e576140cd"
      },
      "execution_count": 22,
      "outputs": [
        {
          "output_type": "stream",
          "name": "stdout",
          "text": [
            "20\n"
          ]
        },
        {
          "output_type": "execute_result",
          "data": {
            "text/plain": [
              "NoneType"
            ]
          },
          "metadata": {},
          "execution_count": 22
        }
      ]
    },
    {
      "cell_type": "code",
      "source": [
        "multiply(\"amazing \", \"3\")"
      ],
      "metadata": {
        "colab": {
          "base_uri": "https://localhost:8080/",
          "height": 304
        },
        "id": "2NE0m-vEX6iE",
        "outputId": "4955e90b-99f1-4286-b30f-67c8b5c4a2ee"
      },
      "execution_count": 11,
      "outputs": [
        {
          "output_type": "error",
          "ename": "TypeError",
          "evalue": "can't multiply sequence by non-int of type 'str'",
          "traceback": [
            "\u001b[0;31m---------------------------------------------------------------------------\u001b[0m",
            "\u001b[0;31mTypeError\u001b[0m                                 Traceback (most recent call last)",
            "\u001b[0;32m<ipython-input-11-0f5f8c2d3de9>\u001b[0m in \u001b[0;36m<cell line: 1>\u001b[0;34m()\u001b[0m\n\u001b[0;32m----> 1\u001b[0;31m \u001b[0mmultiply\u001b[0m\u001b[0;34m(\u001b[0m\u001b[0;34m\"amazing \"\u001b[0m\u001b[0;34m,\u001b[0m \u001b[0;34m\"3\"\u001b[0m\u001b[0;34m)\u001b[0m\u001b[0;34m\u001b[0m\u001b[0;34m\u001b[0m\u001b[0m\n\u001b[0m",
            "\u001b[0;32m<ipython-input-10-47eb082095b9>\u001b[0m in \u001b[0;36mmultiply\u001b[0;34m(a, b)\u001b[0m\n\u001b[1;32m      1\u001b[0m \u001b[0;32mdef\u001b[0m \u001b[0mmultiply\u001b[0m\u001b[0;34m(\u001b[0m\u001b[0ma\u001b[0m\u001b[0;34m,\u001b[0m\u001b[0mb\u001b[0m\u001b[0;34m)\u001b[0m\u001b[0;34m:\u001b[0m\u001b[0;34m\u001b[0m\u001b[0;34m\u001b[0m\u001b[0m\n\u001b[0;32m----> 2\u001b[0;31m     \u001b[0mprint\u001b[0m\u001b[0;34m(\u001b[0m\u001b[0ma\u001b[0m\u001b[0;34m*\u001b[0m\u001b[0mb\u001b[0m\u001b[0;34m)\u001b[0m\u001b[0;34m\u001b[0m\u001b[0;34m\u001b[0m\u001b[0m\n\u001b[0m\u001b[1;32m      3\u001b[0m \u001b[0;34m\u001b[0m\u001b[0m\n\u001b[1;32m      4\u001b[0m \u001b[0;31m# fonksiyon çağırma\u001b[0m\u001b[0;34m\u001b[0m\u001b[0;34m\u001b[0m\u001b[0m\n\u001b[1;32m      5\u001b[0m \u001b[0mmultiply\u001b[0m\u001b[0;34m(\u001b[0m\u001b[0;36m3\u001b[0m\u001b[0;34m,\u001b[0m \u001b[0;36m5\u001b[0m\u001b[0;34m)\u001b[0m          \u001b[0;31m# a: 3, b: 5\u001b[0m\u001b[0;34m\u001b[0m\u001b[0;34m\u001b[0m\u001b[0m\n",
            "\u001b[0;31mTypeError\u001b[0m: can't multiply sequence by non-int of type 'str'"
          ]
        }
      ]
    },
    {
      "cell_type": "code",
      "source": [
        "def add(argument_1, argument_2):\n",
        "    \"\"\"toplama işlemi\"\"\"\n",
        "    print(argument_1 + argument_2)\n",
        "\n",
        "# çağıralım\n",
        "add(3,5)  # add() bir fonksiyon"
      ],
      "metadata": {
        "colab": {
          "base_uri": "https://localhost:8080/"
        },
        "id": "vT8OEb9sZANo",
        "outputId": "0efc835c-c3cf-4b54-8cc9-edc3fd78e569"
      },
      "execution_count": 12,
      "outputs": [
        {
          "output_type": "stream",
          "name": "stdout",
          "text": [
            "8\n"
          ]
        }
      ]
    },
    {
      "cell_type": "code",
      "source": [
        "import operator\n",
        "operator.add(3,5)  # operator modülünün add() metodu"
      ],
      "metadata": {
        "colab": {
          "base_uri": "https://localhost:8080/"
        },
        "id": "cIJq7Qk3fYaH",
        "outputId": "79eac30c-6a4b-4186-bada-11ed039f6604"
      },
      "execution_count": 18,
      "outputs": [
        {
          "output_type": "execute_result",
          "data": {
            "text/plain": [
              "8"
            ]
          },
          "metadata": {},
          "execution_count": 18
        }
      ]
    },
    {
      "cell_type": "code",
      "source": [
        "# calculator() fonksiyonu:\n",
        "# Emre beyin çözümü\n",
        "def calculator(a, b, c):\n",
        "    if c == \"+\":\n",
        "        print(a+b)\n",
        "    elif c == \"-\":\n",
        "        print(a-b)\n",
        "    elif c == \"*\":\n",
        "        print(a*b)\n",
        "    elif c == \"/\":\n",
        "        print(a/b)\n",
        "    else:\n",
        "        print(\"Lütfen doğru operator giriniz...\")\n",
        "\n",
        "# çağırma işlemi\n",
        "calculator(4,5,'+')"
      ],
      "metadata": {
        "colab": {
          "base_uri": "https://localhost:8080/"
        },
        "id": "ID4DSISLaswr",
        "outputId": "02a7cf93-17ee-4560-aefc-bbb9e46b5134"
      },
      "execution_count": 16,
      "outputs": [
        {
          "output_type": "stream",
          "name": "stdout",
          "text": [
            "9\n"
          ]
        }
      ]
    },
    {
      "cell_type": "code",
      "source": [],
      "metadata": {
        "id": "XcZ3gVZFjzbS"
      },
      "execution_count": null,
      "outputs": []
    },
    {
      "cell_type": "code",
      "source": [
        "calculator(4,6,\"p\")"
      ],
      "metadata": {
        "colab": {
          "base_uri": "https://localhost:8080/"
        },
        "id": "XazBT_xcbuVV",
        "outputId": "d5480a77-2461-4af3-8407-c939ff073e12"
      },
      "execution_count": 17,
      "outputs": [
        {
          "output_type": "stream",
          "name": "stdout",
          "text": [
            "Lütfen doğru operator giriniz...\n"
          ]
        }
      ]
    },
    {
      "cell_type": "code",
      "source": [
        "type(add(3,4))"
      ],
      "metadata": {
        "colab": {
          "base_uri": "https://localhost:8080/"
        },
        "id": "vn7GJrcqgEi4",
        "outputId": "edc9ef70-662a-4031-b127-1288eef32a2c"
      },
      "execution_count": 19,
      "outputs": [
        {
          "output_type": "stream",
          "name": "stdout",
          "text": [
            "7\n"
          ]
        },
        {
          "output_type": "execute_result",
          "data": {
            "text/plain": [
              "NoneType"
            ]
          },
          "metadata": {},
          "execution_count": 19
        }
      ]
    },
    {
      "cell_type": "markdown",
      "source": [
        "#return : fonksiyonun döndürdüğü değeri almada kullanılır"
      ],
      "metadata": {
        "id": "6neodt7zzoNX"
      }
    },
    {
      "cell_type": "code",
      "source": [
        "def multiply2(a,b):\n",
        "    return a*b\n",
        "\n",
        "# fonksiyon çağırma\n",
        "multiply2(3, 5)          # a: 3, b: 5\n",
        "multiply2(-1, 2.5)       # a: -1, b: 2.5\n",
        "multiply2(\"amazing \", 3) # a: \"amazing \", b: 3"
      ],
      "metadata": {
        "colab": {
          "base_uri": "https://localhost:8080/",
          "height": 35
        },
        "id": "CcZczilPgofG",
        "outputId": "203d5f66-3d4f-448c-ca72-88c16baa8bb8"
      },
      "execution_count": 23,
      "outputs": [
        {
          "output_type": "execute_result",
          "data": {
            "text/plain": [
              "'amazing amazing amazing '"
            ],
            "application/vnd.google.colaboratory.intrinsic+json": {
              "type": "string"
            }
          },
          "metadata": {},
          "execution_count": 23
        }
      ]
    },
    {
      "cell_type": "code",
      "source": [
        "def multiply2(a,b):\n",
        "    return a*b  # geriye döndürülen değer\n",
        "\n",
        "# fonksiyon çağırma\n",
        "print(multiply2(3, 5))          # a: 3, b: 5\n",
        "print(multiply2(-1, 2.5))       # a: -1, b: 2.5\n",
        "print(multiply2(\"amazing \", 3)) # a: \"amazing \", b: 3"
      ],
      "metadata": {
        "colab": {
          "base_uri": "https://localhost:8080/"
        },
        "id": "6XceYP78g9HF",
        "outputId": "f63f33c3-49a1-478e-fefe-fd08f2f41ea2"
      },
      "execution_count": 24,
      "outputs": [
        {
          "output_type": "stream",
          "name": "stdout",
          "text": [
            "15\n",
            "-2.5\n",
            "amazing amazing amazing \n"
          ]
        }
      ]
    },
    {
      "cell_type": "code",
      "source": [
        "type(multiply2)"
      ],
      "metadata": {
        "colab": {
          "base_uri": "https://localhost:8080/"
        },
        "id": "EDxd76i4hPYd",
        "outputId": "cbc433a8-8be3-4d4d-d1e8-83ae68981ade"
      },
      "execution_count": 25,
      "outputs": [
        {
          "output_type": "execute_result",
          "data": {
            "text/plain": [
              "function"
            ]
          },
          "metadata": {},
          "execution_count": 25
        }
      ]
    },
    {
      "cell_type": "code",
      "source": [
        "type(multiply2(3,5))"
      ],
      "metadata": {
        "colab": {
          "base_uri": "https://localhost:8080/"
        },
        "id": "6sMLpXEthSMW",
        "outputId": "80b1600a-736c-4ef9-a1b0-196ec1e2f3e0"
      },
      "execution_count": 28,
      "outputs": [
        {
          "output_type": "execute_result",
          "data": {
            "text/plain": [
              "int"
            ]
          },
          "metadata": {},
          "execution_count": 28
        }
      ]
    },
    {
      "cell_type": "code",
      "source": [
        "type(multiply2(\"amazing \", 3))"
      ],
      "metadata": {
        "colab": {
          "base_uri": "https://localhost:8080/"
        },
        "id": "IH-Hu8lqhatI",
        "outputId": "3020cb5c-d068-4224-d2c1-35dc2179d0f2"
      },
      "execution_count": 27,
      "outputs": [
        {
          "output_type": "execute_result",
          "data": {
            "text/plain": [
              "str"
            ]
          },
          "metadata": {},
          "execution_count": 27
        }
      ]
    },
    {
      "cell_type": "code",
      "source": [
        "print(type(multiply2(3,5)))"
      ],
      "metadata": {
        "colab": {
          "base_uri": "https://localhost:8080/"
        },
        "id": "ULsjx3ryh-J6",
        "outputId": "e8c2c565-6597-40e7-d8a4-eddeb04784fc"
      },
      "execution_count": 29,
      "outputs": [
        {
          "output_type": "stream",
          "name": "stdout",
          "text": [
            "<class 'int'>\n"
          ]
        }
      ]
    },
    {
      "cell_type": "code",
      "source": [
        "print(type(multiply(3,5)))"
      ],
      "metadata": {
        "colab": {
          "base_uri": "https://localhost:8080/"
        },
        "id": "rRNhNUJXiAXL",
        "outputId": "0bce2275-4a9f-4fec-99bc-afe3576e8e5d"
      },
      "execution_count": 30,
      "outputs": [
        {
          "output_type": "stream",
          "name": "stdout",
          "text": [
            "15\n",
            "<class 'NoneType'>\n"
          ]
        }
      ]
    },
    {
      "cell_type": "code",
      "source": [
        "golge_degisken = print(\"merhaba\")\n",
        "print(golge_degisken)"
      ],
      "metadata": {
        "colab": {
          "base_uri": "https://localhost:8080/"
        },
        "id": "KdAbYCf4iSeJ",
        "outputId": "77dd48b3-46bd-41dc-a0e3-3fdd30b6d61c"
      },
      "execution_count": 31,
      "outputs": [
        {
          "output_type": "stream",
          "name": "stdout",
          "text": [
            "merhaba\n",
            "None\n"
          ]
        }
      ]
    },
    {
      "cell_type": "code",
      "source": [
        "type(golge_degisken)\n",
        "# None tipi: NoneType"
      ],
      "metadata": {
        "colab": {
          "base_uri": "https://localhost:8080/"
        },
        "id": "SeZU69dliieG",
        "outputId": "e9d75603-8f24-4d10-fd91-d1d797bf0d20"
      },
      "execution_count": 32,
      "outputs": [
        {
          "output_type": "execute_result",
          "data": {
            "text/plain": [
              "NoneType"
            ]
          },
          "metadata": {},
          "execution_count": 32
        }
      ]
    },
    {
      "cell_type": "code",
      "source": [
        "degisken = \"merhaba\"\n",
        "print(degisken)"
      ],
      "metadata": {
        "colab": {
          "base_uri": "https://localhost:8080/"
        },
        "id": "5Xu_c7E0i9CH",
        "outputId": "b5cd606c-8802-4be4-e4e5-31e20fe02e90"
      },
      "execution_count": 33,
      "outputs": [
        {
          "output_type": "stream",
          "name": "stdout",
          "text": [
            "merhaba\n"
          ]
        }
      ]
    },
    {
      "cell_type": "code",
      "source": [
        "type(degisken)"
      ],
      "metadata": {
        "colab": {
          "base_uri": "https://localhost:8080/"
        },
        "id": "doOa1eXRjBWZ",
        "outputId": "e341b2be-f14a-4f39-c44d-18251f517557"
      },
      "execution_count": 34,
      "outputs": [
        {
          "output_type": "execute_result",
          "data": {
            "text/plain": [
              "str"
            ]
          },
          "metadata": {},
          "execution_count": 34
        }
      ]
    },
    {
      "cell_type": "code",
      "source": [
        "# calculator() fonksiyonu:\n",
        "def calculator(a, b, c):\n",
        "    if c == \"+\":\n",
        "        return (a+b)\n",
        "    elif c == \"-\":\n",
        "        return (a-b)\n",
        "    elif c == \"*\":\n",
        "        return (a*b)\n",
        "    elif c == \"/\":\n",
        "        return (a/b)\n",
        "    else:\n",
        "        return \"Lütfen doğru operator giriniz...\"\n",
        "\n",
        "# çağırma işlemi\n",
        "print(calculator(4,5,'+'))"
      ],
      "metadata": {
        "colab": {
          "base_uri": "https://localhost:8080/"
        },
        "outputId": "4d6f8dd7-ecaa-4f6d-cf2f-af8696d00a78",
        "id": "tst6rIIXj8CZ"
      },
      "execution_count": 36,
      "outputs": [
        {
          "output_type": "stream",
          "name": "stdout",
          "text": [
            "9\n"
          ]
        }
      ]
    },
    {
      "cell_type": "code",
      "source": [
        "fark = calculator(4,5,\"-\")\n",
        "print(\"10 dan farkı:\", 10-fark)"
      ],
      "metadata": {
        "colab": {
          "base_uri": "https://localhost:8080/"
        },
        "id": "LBCzyx3KkNY5",
        "outputId": "35a7f751-1f58-4e76-8ebb-0a68ece79a64"
      },
      "execution_count": 37,
      "outputs": [
        {
          "output_type": "stream",
          "name": "stdout",
          "text": [
            "10 dan farkı: 11\n"
          ]
        }
      ]
    },
    {
      "cell_type": "code",
      "source": [
        "fark = calculator(4,5,\"?\")\n",
        "print(fark)"
      ],
      "metadata": {
        "colab": {
          "base_uri": "https://localhost:8080/"
        },
        "id": "VEEWwib4kbHh",
        "outputId": "e9e8e484-ad67-450f-fd80-560c6d23a671"
      },
      "execution_count": 38,
      "outputs": [
        {
          "output_type": "stream",
          "name": "stdout",
          "text": [
            "Lütfen doğru operator giriniz...\n"
          ]
        }
      ]
    },
    {
      "cell_type": "code",
      "source": [
        "def multiply3(a,b):\n",
        "    return a*b  # geriye döndürülen değer\n",
        "    return b+a\n",
        "    return a-b\n",
        "    return a/b  # tek bir return döndürür\n",
        "\n",
        "# çağıralım\n",
        "multiply3(3,5)"
      ],
      "metadata": {
        "colab": {
          "base_uri": "https://localhost:8080/"
        },
        "id": "f_ACADRrkrEs",
        "outputId": "52519df0-e2f2-4472-adf0-95d1ac7d62f5"
      },
      "execution_count": 39,
      "outputs": [
        {
          "output_type": "execute_result",
          "data": {
            "text/plain": [
              "15"
            ]
          },
          "metadata": {},
          "execution_count": 39
        }
      ]
    },
    {
      "cell_type": "code",
      "source": [
        "def multiply3(a,b):\n",
        "    return a*b  # geriye döndürülen değer\n",
        "    return b+a\n",
        "    return a_b+\n",
        "    return a/b  # tek bir return döndürür\n",
        "\n",
        "# çağıralım\n",
        "multiply3(3,5)"
      ],
      "metadata": {
        "colab": {
          "base_uri": "https://localhost:8080/",
          "height": 145
        },
        "outputId": "4513993f-c8cc-4914-b931-0055f248ef59",
        "id": "kMLn1rSblO-X"
      },
      "execution_count": 40,
      "outputs": [
        {
          "output_type": "error",
          "ename": "SyntaxError",
          "evalue": "invalid syntax (<ipython-input-40-bc1571cf5c24>, line 4)",
          "traceback": [
            "\u001b[0;36m  File \u001b[0;32m\"<ipython-input-40-bc1571cf5c24>\"\u001b[0;36m, line \u001b[0;32m4\u001b[0m\n\u001b[0;31m    return a_b+\u001b[0m\n\u001b[0m               ^\u001b[0m\n\u001b[0;31mSyntaxError\u001b[0m\u001b[0;31m:\u001b[0m invalid syntax\n"
          ]
        }
      ]
    },
    {
      "cell_type": "code",
      "source": [
        "def my_all(iterable):\n",
        "    for element in iterable:\n",
        "        if not element:\n",
        "            return False\n",
        "    return True\n",
        "\n",
        "#çağıralım\n",
        "my_all((\"True\", True, \"...\", \"False\"))"
      ],
      "metadata": {
        "colab": {
          "base_uri": "https://localhost:8080/"
        },
        "id": "ur9f0wLRlsuJ",
        "outputId": "a9034c08-b0b5-41f8-edda-af11aac3214e"
      },
      "execution_count": 42,
      "outputs": [
        {
          "output_type": "execute_result",
          "data": {
            "text/plain": [
              "True"
            ]
          },
          "metadata": {},
          "execution_count": 42
        }
      ]
    },
    {
      "cell_type": "code",
      "source": [
        "all((\"True\", True, \"...\", \"False\"))"
      ],
      "metadata": {
        "colab": {
          "base_uri": "https://localhost:8080/"
        },
        "id": "4CLZY0brmFtP",
        "outputId": "f3987543-f23b-4028-d84c-3854eb7a9b1c"
      },
      "execution_count": 44,
      "outputs": [
        {
          "output_type": "execute_result",
          "data": {
            "text/plain": [
              "True"
            ]
          },
          "metadata": {},
          "execution_count": 44
        }
      ]
    },
    {
      "cell_type": "code",
      "source": [
        "my_all((\"True\", True, \"...\", False))"
      ],
      "metadata": {
        "colab": {
          "base_uri": "https://localhost:8080/"
        },
        "id": "mbr_zLvVmCSR",
        "outputId": "06281113-3d1b-4f3d-d984-af20452aa0df"
      },
      "execution_count": 43,
      "outputs": [
        {
          "output_type": "execute_result",
          "data": {
            "text/plain": [
              "False"
            ]
          },
          "metadata": {},
          "execution_count": 43
        }
      ]
    },
    {
      "cell_type": "code",
      "source": [
        "all((\"True\", True, \"...\", False))"
      ],
      "metadata": {
        "colab": {
          "base_uri": "https://localhost:8080/"
        },
        "id": "k4CACZKKmIQh",
        "outputId": "9fb032a6-c873-4e25-92ef-ad98aed2d92f"
      },
      "execution_count": 45,
      "outputs": [
        {
          "output_type": "execute_result",
          "data": {
            "text/plain": [
              "False"
            ]
          },
          "metadata": {},
          "execution_count": 45
        }
      ]
    },
    {
      "cell_type": "code",
      "source": [
        "import dis\n",
        "dis.dis(add)  # kendi tanımladığımız fonksiyonların assembly kodu"
      ],
      "metadata": {
        "colab": {
          "base_uri": "https://localhost:8080/"
        },
        "id": "OjGz-jGLmSKz",
        "outputId": "e51d37fe-4c11-44d0-b982-849c8052427b"
      },
      "execution_count": 48,
      "outputs": [
        {
          "output_type": "stream",
          "name": "stdout",
          "text": [
            "  3           0 LOAD_GLOBAL              0 (print)\n",
            "              2 LOAD_FAST                0 (argument_1)\n",
            "              4 LOAD_FAST                1 (argument_2)\n",
            "              6 BINARY_ADD\n",
            "              8 CALL_FUNCTION            1\n",
            "             10 POP_TOP\n",
            "             12 LOAD_CONST               1 (None)\n",
            "             14 RETURN_VALUE\n"
          ]
        }
      ]
    },
    {
      "cell_type": "code",
      "source": [
        "def add2(a,b):\n",
        "    \"\"\"toplama işlemi\"\"\"\n",
        "    print(a + b)\n",
        "\n",
        "# çağıralım\n",
        "add2(3,5)  # add2() bir fonksiyon"
      ],
      "metadata": {
        "colab": {
          "base_uri": "https://localhost:8080/"
        },
        "id": "1S_QISl9mzPt",
        "outputId": "27743855-090b-47c7-c2c1-82c3df0e30e5"
      },
      "execution_count": 52,
      "outputs": [
        {
          "output_type": "stream",
          "name": "stdout",
          "text": [
            "8\n"
          ]
        }
      ]
    },
    {
      "cell_type": "code",
      "source": [
        "# 2 fonksiyon aynı mı?\n",
        "import dis\n",
        "dis.dis(add2)  # kendi tanımladığımız fonksiyonların assembly kodu"
      ],
      "metadata": {
        "colab": {
          "base_uri": "https://localhost:8080/"
        },
        "id": "O5X3AtLhnKd5",
        "outputId": "66bb9235-b431-40fc-d34b-b58a716deaf5"
      },
      "execution_count": 53,
      "outputs": [
        {
          "output_type": "stream",
          "name": "stdout",
          "text": [
            "  3           0 LOAD_GLOBAL              0 (print)\n",
            "              2 LOAD_FAST                0 (a)\n",
            "              4 LOAD_FAST                1 (b)\n",
            "              6 BINARY_ADD\n",
            "              8 CALL_FUNCTION            1\n",
            "             10 POP_TOP\n",
            "             12 LOAD_CONST               1 (None)\n",
            "             14 RETURN_VALUE\n"
          ]
        }
      ]
    },
    {
      "cell_type": "code",
      "source": [
        "abs.__doc__"
      ],
      "metadata": {
        "colab": {
          "base_uri": "https://localhost:8080/",
          "height": 35
        },
        "id": "qMOUOzWHndTq",
        "outputId": "50023f50-b040-4af4-8620-dcafb61fb806"
      },
      "execution_count": 54,
      "outputs": [
        {
          "output_type": "execute_result",
          "data": {
            "text/plain": [
              "'Return the absolute value of the argument.'"
            ],
            "application/vnd.google.colaboratory.intrinsic+json": {
              "type": "string"
            }
          },
          "metadata": {},
          "execution_count": 54
        }
      ]
    },
    {
      "cell_type": "code",
      "source": [
        "dis.dis(all)  # Niçin builtin fonksiyonların byte kodunu (disaasembly) göstermiyor olabilir?"
      ],
      "metadata": {
        "colab": {
          "base_uri": "https://localhost:8080/",
          "height": 304
        },
        "id": "WEeviToxs1e7",
        "outputId": "80e46081-c8fd-4f48-b59e-154c7f92fa5c"
      },
      "execution_count": 72,
      "outputs": [
        {
          "output_type": "error",
          "ename": "TypeError",
          "evalue": "don't know how to disassemble builtin_function_or_method objects",
          "traceback": [
            "\u001b[0;31m---------------------------------------------------------------------------\u001b[0m",
            "\u001b[0;31mTypeError\u001b[0m                                 Traceback (most recent call last)",
            "\u001b[0;32m<ipython-input-72-e854e93e9c10>\u001b[0m in \u001b[0;36m<cell line: 1>\u001b[0;34m()\u001b[0m\n\u001b[0;32m----> 1\u001b[0;31m \u001b[0mdis\u001b[0m\u001b[0;34m.\u001b[0m\u001b[0mdis\u001b[0m\u001b[0;34m(\u001b[0m\u001b[0mall\u001b[0m\u001b[0;34m)\u001b[0m\u001b[0;34m\u001b[0m\u001b[0;34m\u001b[0m\u001b[0m\n\u001b[0m",
            "\u001b[0;32m/usr/lib/python3.10/dis.py\u001b[0m in \u001b[0;36mdis\u001b[0;34m(x, file, depth)\u001b[0m\n\u001b[1;32m     83\u001b[0m         \u001b[0m_disassemble_str\u001b[0m\u001b[0;34m(\u001b[0m\u001b[0mx\u001b[0m\u001b[0;34m,\u001b[0m \u001b[0mfile\u001b[0m\u001b[0;34m=\u001b[0m\u001b[0mfile\u001b[0m\u001b[0;34m,\u001b[0m \u001b[0mdepth\u001b[0m\u001b[0;34m=\u001b[0m\u001b[0mdepth\u001b[0m\u001b[0;34m)\u001b[0m\u001b[0;34m\u001b[0m\u001b[0;34m\u001b[0m\u001b[0m\n\u001b[1;32m     84\u001b[0m     \u001b[0;32melse\u001b[0m\u001b[0;34m:\u001b[0m\u001b[0;34m\u001b[0m\u001b[0;34m\u001b[0m\u001b[0m\n\u001b[0;32m---> 85\u001b[0;31m         raise TypeError(\"don't know how to disassemble %s objects\" %\n\u001b[0m\u001b[1;32m     86\u001b[0m                         type(x).__name__)\n\u001b[1;32m     87\u001b[0m \u001b[0;34m\u001b[0m\u001b[0m\n",
            "\u001b[0;31mTypeError\u001b[0m: don't know how to disassemble builtin_function_or_method objects"
          ]
        }
      ]
    },
    {
      "cell_type": "code",
      "source": [
        "# Return the absolute value of a number.\n",
        "# The argument may be an integer, a floating point number, or an object implementing __abs__().\n",
        "# If the argument is a complex number, its magnitude is returned."
      ],
      "metadata": {
        "id": "7tdckvtBnkaS"
      },
      "execution_count": null,
      "outputs": []
    },
    {
      "cell_type": "code",
      "source": [
        "abs(-5)  # |-5|"
      ],
      "metadata": {
        "colab": {
          "base_uri": "https://localhost:8080/"
        },
        "id": "NzojVvuhntZa",
        "outputId": "3df3bf3f-fde0-409c-953d-4cb8fda5ade8"
      },
      "execution_count": 55,
      "outputs": [
        {
          "output_type": "execute_result",
          "data": {
            "text/plain": [
              "5"
            ]
          },
          "metadata": {},
          "execution_count": 55
        }
      ]
    },
    {
      "cell_type": "code",
      "source": [
        "abs(-5.5)"
      ],
      "metadata": {
        "colab": {
          "base_uri": "https://localhost:8080/"
        },
        "id": "b4ZUK6IOnyNC",
        "outputId": "1314e502-7ad2-48ce-8722-01e30f77a4c2"
      },
      "execution_count": 56,
      "outputs": [
        {
          "output_type": "execute_result",
          "data": {
            "text/plain": [
              "5.5"
            ]
          },
          "metadata": {},
          "execution_count": 56
        }
      ]
    },
    {
      "cell_type": "code",
      "source": [
        "# Damla hocamızın çözümü\n",
        "def absolute_value(num1):\n",
        "  if num1>= 0:\n",
        "    result = num1\n",
        "  elif num1<0:\n",
        "    result = num1*-1\n",
        "  else:\n",
        "    result = \"Hatali giris yaptiniz\"\n",
        "  return result\n",
        "num1 = float(input(\"Bir sayi giriniz\"))\n",
        "print(absolute_value(num1))"
      ],
      "metadata": {
        "colab": {
          "base_uri": "https://localhost:8080/"
        },
        "id": "TZf_zbNloEok",
        "outputId": "19e91a6e-035a-4c1f-b977-a50f9c0ba2c2"
      },
      "execution_count": 59,
      "outputs": [
        {
          "output_type": "stream",
          "name": "stdout",
          "text": [
            "Bir sayi giriniz6\n",
            "6.0\n"
          ]
        }
      ]
    },
    {
      "cell_type": "code",
      "source": [
        "# Yusuf beyin çözümü\n",
        "def my_abs(number):\n",
        "    \"\"\"\n",
        "    Return the absolute value of a number.\n",
        "    \"\"\"\n",
        "    if number < 0:\n",
        "        return -number\n",
        "    else:\n",
        "        return number\n",
        "\n",
        "# çağıralım\n",
        "my_abs(-5)"
      ],
      "metadata": {
        "colab": {
          "base_uri": "https://localhost:8080/"
        },
        "id": "ny8uv62CoctK",
        "outputId": "1dfeae3d-f87d-475d-beca-20a80cf45863"
      },
      "execution_count": 68,
      "outputs": [
        {
          "output_type": "execute_result",
          "data": {
            "text/plain": [
              "5"
            ]
          },
          "metadata": {},
          "execution_count": 68
        }
      ]
    },
    {
      "cell_type": "code",
      "source": [
        "my_abs.__doc__"
      ],
      "metadata": {
        "colab": {
          "base_uri": "https://localhost:8080/",
          "height": 35
        },
        "id": "aY_wsC2vpYdW",
        "outputId": "962c2ad5-7e4b-4616-f804-63f63f96a2a6"
      },
      "execution_count": 69,
      "outputs": [
        {
          "output_type": "execute_result",
          "data": {
            "text/plain": [
              "'\\n    Return the absolute value of a number.\\n    '"
            ],
            "application/vnd.google.colaboratory.intrinsic+json": {
              "type": "string"
            }
          },
          "metadata": {},
          "execution_count": 69
        }
      ]
    },
    {
      "cell_type": "code",
      "source": [
        "my_abs(5.8)"
      ],
      "metadata": {
        "colab": {
          "base_uri": "https://localhost:8080/"
        },
        "id": "idOqQAmDokl6",
        "outputId": "5400ea30-a1df-4e21-b303-46fd98f010de"
      },
      "execution_count": 61,
      "outputs": [
        {
          "output_type": "execute_result",
          "data": {
            "text/plain": [
              "5.8"
            ]
          },
          "metadata": {},
          "execution_count": 61
        }
      ]
    },
    {
      "cell_type": "code",
      "source": [
        "my_abs(\"3\")"
      ],
      "metadata": {
        "id": "zaZOdoldosdv"
      },
      "execution_count": null,
      "outputs": []
    },
    {
      "cell_type": "code",
      "source": [
        "abs(\"3\")"
      ],
      "metadata": {
        "colab": {
          "base_uri": "https://localhost:8080/",
          "height": 181
        },
        "id": "1Iv1gsJyoonP",
        "outputId": "9397c250-bfd9-4de5-f5c4-c1a808bb9883"
      },
      "execution_count": 62,
      "outputs": [
        {
          "output_type": "error",
          "ename": "TypeError",
          "evalue": "bad operand type for abs(): 'str'",
          "traceback": [
            "\u001b[0;31m---------------------------------------------------------------------------\u001b[0m",
            "\u001b[0;31mTypeError\u001b[0m                                 Traceback (most recent call last)",
            "\u001b[0;32m<ipython-input-62-e68224a7f972>\u001b[0m in \u001b[0;36m<cell line: 1>\u001b[0;34m()\u001b[0m\n\u001b[0;32m----> 1\u001b[0;31m \u001b[0mabs\u001b[0m\u001b[0;34m(\u001b[0m\u001b[0;34m\"3\"\u001b[0m\u001b[0;34m)\u001b[0m\u001b[0;34m\u001b[0m\u001b[0;34m\u001b[0m\u001b[0m\n\u001b[0m",
            "\u001b[0;31mTypeError\u001b[0m: bad operand type for abs(): 'str'"
          ]
        }
      ]
    },
    {
      "cell_type": "code",
      "source": [
        "# Oguncan beyin çözümü\n",
        "def my_abs2(number):\n",
        "    \"\"\"Return the absolute value of a number.\"\"\"\n",
        "    if (isinstance(number, int) or isinstance(number, float)) and number < 0:\n",
        "        return -number\n",
        "    if (isinstance(number, int) or isinstance(number, float)) and number >= 0:\n",
        "        return number\n",
        "    else:\n",
        "        return 'invalid argument. Please use an integer or a float.'"
      ],
      "metadata": {
        "id": "K9rVL24fo5pe"
      },
      "execution_count": 70,
      "outputs": []
    },
    {
      "cell_type": "code",
      "source": [
        "my_abs2(-5)"
      ],
      "metadata": {
        "colab": {
          "base_uri": "https://localhost:8080/"
        },
        "id": "SRwDQd0KpB15",
        "outputId": "e0d3960a-f64c-45dd-c4f2-05f418834f7e"
      },
      "execution_count": 65,
      "outputs": [
        {
          "output_type": "execute_result",
          "data": {
            "text/plain": [
              "5"
            ]
          },
          "metadata": {},
          "execution_count": 65
        }
      ]
    },
    {
      "cell_type": "code",
      "source": [
        "my_abs2(\"3\")"
      ],
      "metadata": {
        "colab": {
          "base_uri": "https://localhost:8080/",
          "height": 35
        },
        "id": "7k2_qB9OpGGQ",
        "outputId": "c59849ea-b371-41c3-b27a-b0ab897b9ea7"
      },
      "execution_count": 67,
      "outputs": [
        {
          "output_type": "execute_result",
          "data": {
            "text/plain": [
              "'invalid argument. Please use an integer or a float.'"
            ],
            "application/vnd.google.colaboratory.intrinsic+json": {
              "type": "string"
            }
          },
          "metadata": {},
          "execution_count": 67
        }
      ]
    },
    {
      "cell_type": "code",
      "source": [
        "help(my_abs2)"
      ],
      "metadata": {
        "colab": {
          "base_uri": "https://localhost:8080/"
        },
        "id": "ge_q-tJypgyI",
        "outputId": "d7c781f9-00ce-4b90-bc9b-3ad814b86be7"
      },
      "execution_count": 71,
      "outputs": [
        {
          "output_type": "stream",
          "name": "stdout",
          "text": [
            "Help on function my_abs2 in module __main__:\n",
            "\n",
            "my_abs2(number)\n",
            "    Return the absolute value of a number.\n",
            "\n"
          ]
        }
      ]
    },
    {
      "cell_type": "markdown",
      "source": [
        "#pass"
      ],
      "metadata": {
        "id": "bzhMkM9HOe6W"
      }
    },
    {
      "cell_type": "code",
      "source": [
        "def my_abs(DA8122):\n",
        "    # içini daha sonra dolduracağım..."
      ],
      "metadata": {
        "id": "H5qlC1Mz4pxs",
        "colab": {
          "base_uri": "https://localhost:8080/",
          "height": 145
        },
        "outputId": "77aab9e4-70d1-4b74-d796-d083d6e50e05"
      },
      "execution_count": 73,
      "outputs": [
        {
          "output_type": "error",
          "ename": "SyntaxError",
          "evalue": "incomplete input (<ipython-input-73-70aff0fa53a0>, line 2)",
          "traceback": [
            "\u001b[0;36m  File \u001b[0;32m\"<ipython-input-73-70aff0fa53a0>\"\u001b[0;36m, line \u001b[0;32m2\u001b[0m\n\u001b[0;31m    # içini daha sonra dolduracağım...\u001b[0m\n\u001b[0m                                      ^\u001b[0m\n\u001b[0;31mSyntaxError\u001b[0m\u001b[0;31m:\u001b[0m incomplete input\n"
          ]
        }
      ]
    },
    {
      "cell_type": "code",
      "source": [
        "def my_pow(DA8124):\n",
        "    pass  # içini daha sonra dolduracağım."
      ],
      "metadata": {
        "id": "1Iz6WiVWtUVA"
      },
      "execution_count": 74,
      "outputs": []
    },
    {
      "cell_type": "code",
      "source": [
        "def my_pow(DA8124):\n",
        "    return  # içini daha sonra dolduracağım."
      ],
      "metadata": {
        "id": "SVdSXe73tk79"
      },
      "execution_count": 75,
      "outputs": []
    },
    {
      "cell_type": "markdown",
      "source": [
        "#arguments or parameters"
      ],
      "metadata": {
        "id": "x4Q1ilzIAYgj"
      }
    },
    {
      "cell_type": "code",
      "source": [
        "def who(first, last) : # parametreleri: first, last gibi değişkenler (variables)\n",
        "    print(\"Your first name is..: \", first)\n",
        "    print(\"Your last name is..: \", last)\n",
        "\n",
        "# fonksiyonu çağırken ki girdilere arguments: \"Guido\", \"van Rossum\" gibi değerler(values)\n",
        "who(\"Guido\", \"van Rossum\")\n",
        "print()\n",
        "who(\"Mary\", \"Bold\")"
      ],
      "metadata": {
        "colab": {
          "base_uri": "https://localhost:8080/"
        },
        "id": "Bzbkzhpu76gF",
        "outputId": "7a43f068-5498-45b2-aca2-acaf0f66719e"
      },
      "execution_count": 76,
      "outputs": [
        {
          "output_type": "stream",
          "name": "stdout",
          "text": [
            "Your first name is..:  Guido\n",
            "Your last name is..:  van Rossum\n",
            "\n",
            "Your first name is..:  Mary\n",
            "Your last name is..:  Bold\n"
          ]
        }
      ]
    },
    {
      "cell_type": "code",
      "source": [
        "who(\"Bulend\")"
      ],
      "metadata": {
        "colab": {
          "base_uri": "https://localhost:8080/",
          "height": 181
        },
        "id": "p2L6LGhJu8La",
        "outputId": "19736059-8ca7-4ab2-b73d-36e0b361335a"
      },
      "execution_count": 77,
      "outputs": [
        {
          "output_type": "error",
          "ename": "TypeError",
          "evalue": "who() missing 1 required positional argument: 'last'",
          "traceback": [
            "\u001b[0;31m---------------------------------------------------------------------------\u001b[0m",
            "\u001b[0;31mTypeError\u001b[0m                                 Traceback (most recent call last)",
            "\u001b[0;32m<ipython-input-77-991d19a90506>\u001b[0m in \u001b[0;36m<cell line: 1>\u001b[0;34m()\u001b[0m\n\u001b[0;32m----> 1\u001b[0;31m \u001b[0mwho\u001b[0m\u001b[0;34m(\u001b[0m\u001b[0;34m\"Bulend\"\u001b[0m\u001b[0;34m)\u001b[0m\u001b[0;34m\u001b[0m\u001b[0;34m\u001b[0m\u001b[0m\n\u001b[0m",
            "\u001b[0;31mTypeError\u001b[0m: who() missing 1 required positional argument: 'last'"
          ]
        }
      ]
    },
    {
      "cell_type": "code",
      "source": [
        "\"\"\"\n",
        "positional argumanlarda siralama önemlidir,\n",
        "keyword argumanlarda siralamanin önemi yoktur.\n",
        "positinal argumanlarda argumanlar soldan saga dogru sirayla aktarilir.\n",
        "\"\"\""
      ],
      "metadata": {
        "id": "QOw1HXN0wLqm"
      },
      "execution_count": null,
      "outputs": []
    },
    {
      "cell_type": "code",
      "source": [
        "def pos_args(a, b):\n",
        "    print(a, 'is the first argument')\n",
        "    print(b, 'is the second argument')\n",
        "\n",
        "pos_args(3,4)\n",
        "print()\n",
        "pos_args(4,3)"
      ],
      "metadata": {
        "colab": {
          "base_uri": "https://localhost:8080/"
        },
        "id": "X8oQVBkWw2Vv",
        "outputId": "4e5b0769-9bb3-4e43-c718-635509e09fac"
      },
      "execution_count": 79,
      "outputs": [
        {
          "output_type": "stream",
          "name": "stdout",
          "text": [
            "3 is the first argument\n",
            "4 is the second argument\n",
            "\n",
            "4 is the first argument\n",
            "3 is the second argument\n"
          ]
        }
      ]
    },
    {
      "cell_type": "code",
      "source": [
        "pos_args(\"first\", \"second\")\n",
        "print()\n",
        "pos_args(\"second\", \"first\")"
      ],
      "metadata": {
        "colab": {
          "base_uri": "https://localhost:8080/"
        },
        "id": "GOSZJWYsxTYs",
        "outputId": "ffa853b6-b89d-42d5-8eeb-03cf73877c24"
      },
      "execution_count": 80,
      "outputs": [
        {
          "output_type": "stream",
          "name": "stdout",
          "text": [
            "first is the first argument\n",
            "second is the second argument\n",
            "\n",
            "second is the first argument\n",
            "first is the second argument\n"
          ]
        }
      ]
    },
    {
      "cell_type": "code",
      "source": [
        "help(print)"
      ],
      "metadata": {
        "colab": {
          "base_uri": "https://localhost:8080/"
        },
        "id": "RZRhPG89wiD4",
        "outputId": "196c498f-0ede-48c2-bc52-0e0f180c95bb"
      },
      "execution_count": 78,
      "outputs": [
        {
          "output_type": "stream",
          "name": "stdout",
          "text": [
            "Help on built-in function print in module builtins:\n",
            "\n",
            "print(...)\n",
            "    print(value, ..., sep=' ', end='\\n', file=sys.stdout, flush=False)\n",
            "    \n",
            "    Prints the values to a stream, or to sys.stdout by default.\n",
            "    Optional keyword arguments:\n",
            "    file:  a file-like object (stream); defaults to the current sys.stdout.\n",
            "    sep:   string inserted between values, default a space.\n",
            "    end:   string appended after the last value, default a newline.\n",
            "    flush: whether to forcibly flush the stream.\n",
            "\n"
          ]
        }
      ]
    },
    {
      "cell_type": "code",
      "source": [
        "a = \"i\"\n",
        "b = \"love\"\n",
        "c = \"you\"\n",
        "\n",
        "def texter(a,b,c):  # c:a, a:b, b:c\n",
        "    return f\"{b} {c} {a}\"\n",
        "\n",
        "#çağıralım\n",
        "texter(c,a,b)  # input: \"you i love\" --> output: \"i love you\""
      ],
      "metadata": {
        "colab": {
          "base_uri": "https://localhost:8080/",
          "height": 35
        },
        "id": "8fDP0OLgyPDe",
        "outputId": "4aa024a7-83ff-472c-c59c-d9337d211549"
      },
      "execution_count": 82,
      "outputs": [
        {
          "output_type": "execute_result",
          "data": {
            "text/plain": [
              "'i love you'"
            ],
            "application/vnd.google.colaboratory.intrinsic+json": {
              "type": "string"
            }
          },
          "metadata": {},
          "execution_count": 82
        }
      ]
    },
    {
      "cell_type": "code",
      "source": [
        "texter(\"you\", \"i\", \"love\")  # a: \"you\", b: \"i\", c: \"love\""
      ],
      "metadata": {
        "colab": {
          "base_uri": "https://localhost:8080/",
          "height": 35
        },
        "id": "eR3uL9Sn0MWG",
        "outputId": "ae4c0415-3409-4dbe-8804-ec7ee0f99e4c"
      },
      "execution_count": 84,
      "outputs": [
        {
          "output_type": "execute_result",
          "data": {
            "text/plain": [
              "'i love you'"
            ],
            "application/vnd.google.colaboratory.intrinsic+json": {
              "type": "string"
            }
          },
          "metadata": {},
          "execution_count": 84
        }
      ]
    },
    {
      "cell_type": "code",
      "source": [
        "texter(c,b,a) # çıktısı: love i you"
      ],
      "metadata": {
        "colab": {
          "base_uri": "https://localhost:8080/",
          "height": 35
        },
        "id": "92ZqmU-M0aMN",
        "outputId": "ef66a561-e3d2-4a1c-dcba-9a2249590d20"
      },
      "execution_count": 85,
      "outputs": [
        {
          "output_type": "execute_result",
          "data": {
            "text/plain": [
              "'love i you'"
            ],
            "application/vnd.google.colaboratory.intrinsic+json": {
              "type": "string"
            }
          },
          "metadata": {},
          "execution_count": 85
        }
      ]
    },
    {
      "cell_type": "code",
      "source": [
        "a = \"i\"\n",
        "b = \"love\"\n",
        "c = \"you\"\n",
        "\n",
        "def texter(c,a,b):  #\n",
        "    return f\"{a} {b} {c}\"\n",
        "\n",
        "#çağıralım\n",
        "texter(c,a,b)  # output: \"i love you\""
      ],
      "metadata": {
        "colab": {
          "base_uri": "https://localhost:8080/",
          "height": 35
        },
        "id": "6O7YH8iLyjX3",
        "outputId": "ef54b133-a473-4015-daca-d313a0494f6c"
      },
      "execution_count": 86,
      "outputs": [
        {
          "output_type": "execute_result",
          "data": {
            "text/plain": [
              "'i love you'"
            ],
            "application/vnd.google.colaboratory.intrinsic+json": {
              "type": "string"
            }
          },
          "metadata": {},
          "execution_count": 86
        }
      ]
    },
    {
      "cell_type": "code",
      "source": [
        "a = \"i\"\n",
        "b = \"love\"\n",
        "c = \"you\"\n",
        "def texter(text1,text2,text3):  #  text1: c, text2:a, text3:b\n",
        "    return f\"{text2} {text3} {text1}\"\n",
        "\n",
        "#çağıralım\n",
        "texter(c,a,b)  # output: \"i love you\""
      ],
      "metadata": {
        "colab": {
          "base_uri": "https://localhost:8080/",
          "height": 35
        },
        "id": "RsNWc6fN003U",
        "outputId": "862baafa-abe8-458e-96ab-7000db78d015"
      },
      "execution_count": 88,
      "outputs": [
        {
          "output_type": "execute_result",
          "data": {
            "text/plain": [
              "'i love you'"
            ],
            "application/vnd.google.colaboratory.intrinsic+json": {
              "type": "string"
            }
          },
          "metadata": {},
          "execution_count": 88
        }
      ]
    },
    {
      "cell_type": "code",
      "source": [
        "def who(first, last) : # parametreleri: first, last gibi değişkenler (variables)\n",
        "    print(\"Your first name is..: \", first)\n",
        "    print(\"Your last name is..: \", last)\n",
        "\n",
        "# keyword arguments sıra önemli değil\n",
        "who(first=\"Guido\", last=\"van Rossum\")\n",
        "print()\n",
        "who(last=\"Bold\", first=\"Mary\")"
      ],
      "metadata": {
        "colab": {
          "base_uri": "https://localhost:8080/"
        },
        "id": "7TgqtNYm1X7J",
        "outputId": "506a317e-061c-47bb-ac25-8a9c91b65d18"
      },
      "execution_count": 90,
      "outputs": [
        {
          "output_type": "stream",
          "name": "stdout",
          "text": [
            "Your first name is..:  Guido\n",
            "Your last name is..:  van Rossum\n",
            "\n",
            "Your first name is..:  Mary\n",
            "Your last name is..:  Bold\n"
          ]
        }
      ]
    },
    {
      "cell_type": "code",
      "source": [
        "a = \"i\"\n",
        "b = \"love\"\n",
        "c = \"you\"\n",
        "def texter(text1,text2,text3):  #  text1: c, text2:a, text3:b\n",
        "    return f\"{text1} {text2} {text3}\"\n",
        "\n",
        "# keyword argumanlar ile çağıralım\n",
        "texter(text3=c,text1=a,text2=b)  # output: \"i love you\""
      ],
      "metadata": {
        "colab": {
          "base_uri": "https://localhost:8080/",
          "height": 35
        },
        "id": "1wxcUklG4Ekj",
        "outputId": "e6c072b2-053b-4dcc-c976-b127115cce0c"
      },
      "execution_count": 92,
      "outputs": [
        {
          "output_type": "execute_result",
          "data": {
            "text/plain": [
              "'i love you'"
            ],
            "application/vnd.google.colaboratory.intrinsic+json": {
              "type": "string"
            }
          },
          "metadata": {},
          "execution_count": 92
        }
      ]
    },
    {
      "cell_type": "code",
      "source": [
        "# hasan beyin çözümü\n",
        "a = \"i\"; b = \"love\"; c = \"you\"\n",
        "\n",
        "def texter(a,b,c):\n",
        "  return a + b + c\n",
        "\n",
        "texter(c = \"you \", a = \"i \", b = \"love \")"
      ],
      "metadata": {
        "colab": {
          "base_uri": "https://localhost:8080/",
          "height": 35
        },
        "id": "kYJZKmAV4zlw",
        "outputId": "aa5eba2b-efdb-4e71-e959-4ecd83ac56b0"
      },
      "execution_count": 93,
      "outputs": [
        {
          "output_type": "execute_result",
          "data": {
            "text/plain": [
              "'i love you '"
            ],
            "application/vnd.google.colaboratory.intrinsic+json": {
              "type": "string"
            }
          },
          "metadata": {},
          "execution_count": 93
        }
      ]
    },
    {
      "cell_type": "code",
      "source": [
        "def parrot(voltage, state='a stiff', action='voom', tip='Norwegian Blue'):\n",
        "    print(\"-- This parrot wouldn't\", action, end=' ')\n",
        "    print(\"if you put\", voltage, \"volts through it.\")\n",
        "    print(\"-- Lovely plumage, the\", tip)\n",
        "    print(\"-- It's\", state, \"!\")\n",
        "\n",
        "\n",
        "# çağırma kuralları\n",
        "#1. pos. args sıra önemli, keyword args önemli değil\n",
        "#2. positional args, keyword argumanlardan önce yazılmalı."
      ],
      "metadata": {
        "id": "EeGc8HzVH-XQ"
      },
      "execution_count": 103,
      "outputs": []
    },
    {
      "cell_type": "code",
      "source": [
        "# def parrot(voltage, state='a stiff', action='voom', tip='Norwegian Blue'):\n",
        "parrot(1000)                                          # 1 positional argument\n",
        "print()\n",
        "parrot(voltage=1000)                                  # 1 keyword argument\n",
        "print()\n",
        "parrot(voltage=1000000, action='VOOOOOM')             # 2 keyword arguments\n",
        "print()\n",
        "parrot(action='VOOOOOM', voltage=1000000)             # 2 keyword arguments\n",
        "print()\n",
        "parrot('a million', 'bereft of life', 'jump')         # 3 positional arguments\n",
        "print()\n",
        "parrot('a thousand', state='pushing up the daisies')  # 1 positional, 1 keyword"
      ],
      "metadata": {
        "colab": {
          "base_uri": "https://localhost:8080/"
        },
        "id": "vBDW9wlLIA58",
        "outputId": "004bc586-0e68-48a8-9c03-ef2db9b30ba2"
      },
      "execution_count": 104,
      "outputs": [
        {
          "output_type": "stream",
          "name": "stdout",
          "text": [
            "-- This parrot wouldn't voom if you put 1000 volts through it.\n",
            "-- Lovely plumage, the Norwegian Blue\n",
            "-- It's a stiff !\n",
            "\n",
            "-- This parrot wouldn't voom if you put 1000 volts through it.\n",
            "-- Lovely plumage, the Norwegian Blue\n",
            "-- It's a stiff !\n",
            "\n",
            "-- This parrot wouldn't VOOOOOM if you put 1000000 volts through it.\n",
            "-- Lovely plumage, the Norwegian Blue\n",
            "-- It's a stiff !\n",
            "\n",
            "-- This parrot wouldn't VOOOOOM if you put 1000000 volts through it.\n",
            "-- Lovely plumage, the Norwegian Blue\n",
            "-- It's a stiff !\n",
            "\n",
            "-- This parrot wouldn't jump if you put a million volts through it.\n",
            "-- Lovely plumage, the Norwegian Blue\n",
            "-- It's bereft of life !\n",
            "\n",
            "-- This parrot wouldn't voom if you put a thousand volts through it.\n",
            "-- Lovely plumage, the Norwegian Blue\n",
            "-- It's pushing up the daisies !\n"
          ]
        }
      ]
    },
    {
      "cell_type": "code",
      "source": [
        "# def parrot(voltage, state='a stiff', action='voom', tip='Norwegian Blue'):\n",
        "parrot()"
      ],
      "metadata": {
        "colab": {
          "base_uri": "https://localhost:8080/",
          "height": 198
        },
        "id": "sUohhCC-8E2Q",
        "outputId": "beedb343-b39f-4d7b-f9c4-1c52c30a6ca0"
      },
      "execution_count": 96,
      "outputs": [
        {
          "output_type": "error",
          "ename": "TypeError",
          "evalue": "parrot() missing 1 required positional argument: 'voltage'",
          "traceback": [
            "\u001b[0;31m---------------------------------------------------------------------------\u001b[0m",
            "\u001b[0;31mTypeError\u001b[0m                                 Traceback (most recent call last)",
            "\u001b[0;32m<ipython-input-96-77befd0f6707>\u001b[0m in \u001b[0;36m<cell line: 2>\u001b[0;34m()\u001b[0m\n\u001b[1;32m      1\u001b[0m \u001b[0;31m# def parrot(voltage, state='a stiff', action='voom', tip='Norwegian Blue'):\u001b[0m\u001b[0;34m\u001b[0m\u001b[0;34m\u001b[0m\u001b[0m\n\u001b[0;32m----> 2\u001b[0;31m \u001b[0mparrot\u001b[0m\u001b[0;34m(\u001b[0m\u001b[0;34m)\u001b[0m\u001b[0;34m\u001b[0m\u001b[0;34m\u001b[0m\u001b[0m\n\u001b[0m",
            "\u001b[0;31mTypeError\u001b[0m: parrot() missing 1 required positional argument: 'voltage'"
          ]
        }
      ]
    },
    {
      "cell_type": "code",
      "source": [
        "parrot(voltage= 5000, \"dead\")\n",
        "# positional/konumsal argümanlar keyword argümanlardan önce yazılmalı"
      ],
      "metadata": {
        "colab": {
          "base_uri": "https://localhost:8080/",
          "height": 145
        },
        "id": "MSd4BmIo8WVW",
        "outputId": "40966c11-8568-4c55-a0fe-e583ac7eb2f8"
      },
      "execution_count": 97,
      "outputs": [
        {
          "output_type": "error",
          "ename": "SyntaxError",
          "evalue": "positional argument follows keyword argument (<ipython-input-97-12dbbbd98c07>, line 1)",
          "traceback": [
            "\u001b[0;36m  File \u001b[0;32m\"<ipython-input-97-12dbbbd98c07>\"\u001b[0;36m, line \u001b[0;32m1\u001b[0m\n\u001b[0;31m    parrot(voltage= 5000, \"dead\")\u001b[0m\n\u001b[0m                                ^\u001b[0m\n\u001b[0;31mSyntaxError\u001b[0m\u001b[0;31m:\u001b[0m positional argument follows keyword argument\n"
          ]
        }
      ]
    },
    {
      "cell_type": "code",
      "source": [
        "# def parrot(voltage, state='a stiff', action='voom', tip='Norwegian Blue'):\n",
        "parrot(\"dead\", voltage= 5000)"
      ],
      "metadata": {
        "colab": {
          "base_uri": "https://localhost:8080/",
          "height": 198
        },
        "id": "40xGVIJo8nER",
        "outputId": "58eb215e-96c8-4233-b315-221a40da3410"
      },
      "execution_count": 98,
      "outputs": [
        {
          "output_type": "error",
          "ename": "TypeError",
          "evalue": "parrot() got multiple values for argument 'voltage'",
          "traceback": [
            "\u001b[0;31m---------------------------------------------------------------------------\u001b[0m",
            "\u001b[0;31mTypeError\u001b[0m                                 Traceback (most recent call last)",
            "\u001b[0;32m<ipython-input-98-1ca02ee7a01d>\u001b[0m in \u001b[0;36m<cell line: 2>\u001b[0;34m()\u001b[0m\n\u001b[1;32m      1\u001b[0m \u001b[0;31m# def parrot(voltage, state='a stiff', action='voom', tip='Norwegian Blue'):\u001b[0m\u001b[0;34m\u001b[0m\u001b[0;34m\u001b[0m\u001b[0m\n\u001b[0;32m----> 2\u001b[0;31m \u001b[0mparrot\u001b[0m\u001b[0;34m(\u001b[0m\u001b[0;34m\"dead\"\u001b[0m\u001b[0;34m,\u001b[0m \u001b[0mvoltage\u001b[0m\u001b[0;34m=\u001b[0m \u001b[0;36m5000\u001b[0m\u001b[0;34m)\u001b[0m\u001b[0;34m\u001b[0m\u001b[0;34m\u001b[0m\u001b[0m\n\u001b[0m",
            "\u001b[0;31mTypeError\u001b[0m: parrot() got multiple values for argument 'voltage'"
          ]
        }
      ]
    },
    {
      "cell_type": "code",
      "source": [
        "parrot(110, voltage= 220)"
      ],
      "metadata": {
        "colab": {
          "base_uri": "https://localhost:8080/",
          "height": 181
        },
        "id": "y6gGi4oA9LX2",
        "outputId": "035fb61b-a801-40a9-ed6e-7f6529c8bf16"
      },
      "execution_count": 99,
      "outputs": [
        {
          "output_type": "error",
          "ename": "TypeError",
          "evalue": "parrot() got multiple values for argument 'voltage'",
          "traceback": [
            "\u001b[0;31m---------------------------------------------------------------------------\u001b[0m",
            "\u001b[0;31mTypeError\u001b[0m                                 Traceback (most recent call last)",
            "\u001b[0;32m<ipython-input-99-a560fb9ccc37>\u001b[0m in \u001b[0;36m<cell line: 1>\u001b[0;34m()\u001b[0m\n\u001b[0;32m----> 1\u001b[0;31m \u001b[0mparrot\u001b[0m\u001b[0;34m(\u001b[0m\u001b[0;36m110\u001b[0m\u001b[0;34m,\u001b[0m \u001b[0mvoltage\u001b[0m\u001b[0;34m=\u001b[0m \u001b[0;36m220\u001b[0m\u001b[0;34m)\u001b[0m\u001b[0;34m\u001b[0m\u001b[0;34m\u001b[0m\u001b[0m\n\u001b[0m",
            "\u001b[0;31mTypeError\u001b[0m: parrot() got multiple values for argument 'voltage'"
          ]
        }
      ]
    },
    {
      "cell_type": "code",
      "source": [
        "parrot(actor=\"Jhon\")"
      ],
      "metadata": {
        "colab": {
          "base_uri": "https://localhost:8080/",
          "height": 181
        },
        "id": "KM4Z340I9a7j",
        "outputId": "7887372a-d276-4c43-d47a-c665ff1f0b16"
      },
      "execution_count": 100,
      "outputs": [
        {
          "output_type": "error",
          "ename": "TypeError",
          "evalue": "parrot() got an unexpected keyword argument 'actor'",
          "traceback": [
            "\u001b[0;31m---------------------------------------------------------------------------\u001b[0m",
            "\u001b[0;31mTypeError\u001b[0m                                 Traceback (most recent call last)",
            "\u001b[0;32m<ipython-input-100-4806e855f73b>\u001b[0m in \u001b[0;36m<cell line: 1>\u001b[0;34m()\u001b[0m\n\u001b[0;32m----> 1\u001b[0;31m \u001b[0mparrot\u001b[0m\u001b[0;34m(\u001b[0m\u001b[0mactor\u001b[0m\u001b[0;34m=\u001b[0m\u001b[0;34m\"Jhon\"\u001b[0m\u001b[0;34m)\u001b[0m\u001b[0;34m\u001b[0m\u001b[0;34m\u001b[0m\u001b[0m\n\u001b[0m",
            "\u001b[0;31mTypeError\u001b[0m: parrot() got an unexpected keyword argument 'actor'"
          ]
        }
      ]
    },
    {
      "cell_type": "code",
      "source": [
        "def my_function(a):\n",
        "    print(\"a nın değeri \", a)\n",
        "\n",
        "#çağıralım\n",
        "my_function(0, a=0) #multiple values for argument 'a"
      ],
      "metadata": {
        "colab": {
          "base_uri": "https://localhost:8080/",
          "height": 216
        },
        "id": "t70tPQeF-Ec7",
        "outputId": "8400f30f-7092-4c2d-8749-b89a76af6c3e"
      },
      "execution_count": 105,
      "outputs": [
        {
          "output_type": "error",
          "ename": "TypeError",
          "evalue": "my_function() got multiple values for argument 'a'",
          "traceback": [
            "\u001b[0;31m---------------------------------------------------------------------------\u001b[0m",
            "\u001b[0;31mTypeError\u001b[0m                                 Traceback (most recent call last)",
            "\u001b[0;32m<ipython-input-105-d4d18cdacd13>\u001b[0m in \u001b[0;36m<cell line: 5>\u001b[0;34m()\u001b[0m\n\u001b[1;32m      3\u001b[0m \u001b[0;34m\u001b[0m\u001b[0m\n\u001b[1;32m      4\u001b[0m \u001b[0;31m#çağıralım\u001b[0m\u001b[0;34m\u001b[0m\u001b[0;34m\u001b[0m\u001b[0m\n\u001b[0;32m----> 5\u001b[0;31m \u001b[0mmy_function\u001b[0m\u001b[0;34m(\u001b[0m\u001b[0;36m0\u001b[0m\u001b[0;34m,\u001b[0m \u001b[0ma\u001b[0m\u001b[0;34m=\u001b[0m\u001b[0;36m0\u001b[0m\u001b[0;34m)\u001b[0m\u001b[0;34m\u001b[0m\u001b[0;34m\u001b[0m\u001b[0m\n\u001b[0m",
            "\u001b[0;31mTypeError\u001b[0m: my_function() got multiple values for argument 'a'"
          ]
        }
      ]
    },
    {
      "cell_type": "code",
      "source": [
        "def city(capital, continent=\"Europe\"): # 1 pos, 1 kwargs\n",
        "    print(capital, \"in\", continent)\n",
        "\n",
        "# çağıralım\n",
        "city(\"Ankara\")"
      ],
      "metadata": {
        "colab": {
          "base_uri": "https://localhost:8080/"
        },
        "id": "ahQldkjc-8I7",
        "outputId": "22e1c792-4ab6-4448-8578-a758e8241d6e"
      },
      "execution_count": 109,
      "outputs": [
        {
          "output_type": "stream",
          "name": "stdout",
          "text": [
            "Ankara in Europe\n"
          ]
        }
      ]
    },
    {
      "cell_type": "code",
      "source": [
        "city(\"Berlin\", continent=\"Asia\")"
      ],
      "metadata": {
        "colab": {
          "base_uri": "https://localhost:8080/"
        },
        "id": "vjSDL7u-_da1",
        "outputId": "7597766d-840d-4451-eae1-5e6b02900d86"
      },
      "execution_count": 111,
      "outputs": [
        {
          "output_type": "stream",
          "name": "stdout",
          "text": [
            "Berlin in Asia\n"
          ]
        }
      ]
    },
    {
      "cell_type": "code",
      "source": [
        "city(\"Berlin\", \"Asia\") #pos."
      ],
      "metadata": {
        "colab": {
          "base_uri": "https://localhost:8080/"
        },
        "id": "_R5Xp2FH_l_G",
        "outputId": "8c8c0943-e8ba-47bc-ace2-61e02d8c9bee"
      },
      "execution_count": 112,
      "outputs": [
        {
          "output_type": "stream",
          "name": "stdout",
          "text": [
            "Berlin in Asia\n"
          ]
        }
      ]
    },
    {
      "cell_type": "code",
      "source": [
        "city((\"Berlin\", \"Asia\"), continent=\"Asia\")"
      ],
      "metadata": {
        "colab": {
          "base_uri": "https://localhost:8080/"
        },
        "id": "RgPs0nRD__Xd",
        "outputId": "62ff0eb5-7b27-44cf-9519-265f6afb9573"
      },
      "execution_count": 115,
      "outputs": [
        {
          "output_type": "stream",
          "name": "stdout",
          "text": [
            "('Berlin', 'Asia') in Asia\n"
          ]
        }
      ]
    },
    {
      "cell_type": "code",
      "source": [
        "baskentler = (\"Berlin\", \"Asia\")\n",
        "city(baskentler, continent=\"Asia\")"
      ],
      "metadata": {
        "colab": {
          "base_uri": "https://localhost:8080/"
        },
        "id": "KzIaYw6DAo2f",
        "outputId": "bfea373a-d6af-4425-a550-6c6d96607f7b"
      },
      "execution_count": 117,
      "outputs": [
        {
          "output_type": "stream",
          "name": "stdout",
          "text": [
            "('Berlin', 'Asia') in Asia\n"
          ]
        }
      ]
    },
    {
      "cell_type": "code",
      "source": [
        "def city(capital=\"Athens\", continent=\"Europe\"): # 1 pos, 1 kwargs\n",
        "    print(capital, \"in\", continent)\n",
        "\n",
        "# çağıralım\n",
        "city()"
      ],
      "metadata": {
        "colab": {
          "base_uri": "https://localhost:8080/"
        },
        "outputId": "85027477-8f49-4139-ff8e-7788e4817552",
        "id": "9J-m74mn_W-I"
      },
      "execution_count": 113,
      "outputs": [
        {
          "output_type": "stream",
          "name": "stdout",
          "text": [
            "Athens in Europe\n"
          ]
        }
      ]
    },
    {
      "cell_type": "code",
      "source": [
        "city(continent=\"Asia\", capital=\"Ankara\")"
      ],
      "metadata": {
        "colab": {
          "base_uri": "https://localhost:8080/"
        },
        "id": "YISq4tZk_x-T",
        "outputId": "c7106e54-6967-4203-f3e0-8d4ad00aebe6"
      },
      "execution_count": 114,
      "outputs": [
        {
          "output_type": "stream",
          "name": "stdout",
          "text": [
            "Ankara in Asia\n"
          ]
        }
      ]
    },
    {
      "cell_type": "markdown",
      "source": [
        "# Çoklu değer ataması: *, ** jokerleri"
      ],
      "metadata": {
        "id": "Ngv8SwssA9l5"
      }
    },
    {
      "cell_type": "code",
      "source": [
        "def fruiter(*fruit):\n",
        "    print(\"I want to get: \")\n",
        "    for i in fruit:\n",
        "        print(\"-\", i)\n",
        "\n",
        "# çağırma\n",
        "fruiter(\"Banana\", \"Apple\", \"Ananas\", \"Melon\", \"Lemon\")"
      ],
      "metadata": {
        "colab": {
          "base_uri": "https://localhost:8080/"
        },
        "id": "74gOx6ftBBRd",
        "outputId": "6446c284-b55e-4150-f1e3-7efa27663baa"
      },
      "execution_count": 118,
      "outputs": [
        {
          "output_type": "stream",
          "name": "stdout",
          "text": [
            "I want to get: \n",
            "- Banana\n",
            "- Apple\n",
            "- Ananas\n",
            "- Melon\n",
            "- Lemon\n"
          ]
        }
      ]
    },
    {
      "cell_type": "code",
      "source": [
        "def slicer(*nums):\n",
        "    even=[]\n",
        "    odd=[]\n",
        "    for i in nums:\n",
        "        if i%2==0:\n",
        "            even.append(i)\n",
        "        else:\n",
        "            odd.append(i)\n",
        "    return f\"Çiftler{even} Tekler{odd}\"\n",
        "\n",
        "\n",
        "\n",
        "#çağırma\n",
        "slicer(1,2,3,4,5,6,7,8,9)"
      ],
      "metadata": {
        "colab": {
          "base_uri": "https://localhost:8080/",
          "height": 35
        },
        "id": "BjxyT6g_Bjuy",
        "outputId": "3e617e46-3b1d-4bf1-de37-ce587a8f7902"
      },
      "execution_count": 122,
      "outputs": [
        {
          "output_type": "execute_result",
          "data": {
            "text/plain": [
              "'Çiftler[2, 4, 6, 8] Tekler[1, 3, 5, 7, 9]'"
            ],
            "application/vnd.google.colaboratory.intrinsic+json": {
              "type": "string"
            }
          },
          "metadata": {},
          "execution_count": 122
        }
      ]
    },
    {
      "cell_type": "markdown",
      "source": [
        "# Digital Kronometre"
      ],
      "metadata": {
        "id": "zfcvhJgS8Mao"
      }
    },
    {
      "cell_type": "code",
      "source": [
        "# Task-21:\n",
        "# stopwatch (runs for 24 hours then resets)\n",
        "import time\n",
        "hours = 0\n",
        "minutes = 0\n",
        "seconds = 0\n",
        "while hours < 24: #gün döngüsü\n",
        "    for i in range(24): #saat sayacı\n",
        "        hours = i\n",
        "        for j in range(60): # dakika sayacı\n",
        "            minutes = j\n",
        "            for k in range(60): #saniye sayacı\n",
        "                seconds = k\n",
        "                time.sleep(1) #1 sn bekle\n",
        "                print(f\"'\\r{hours:02}:{minutes:02}:{seconds:02}\", end=\"\")\n",
        "                #\\r : escape karakteri: ASCII Carriage Return (CR)"
      ],
      "metadata": {
        "id": "zqj7uZMI8OiI"
      },
      "execution_count": null,
      "outputs": []
    }
  ]
}