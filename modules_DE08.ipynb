{
  "nbformat": 4,
  "nbformat_minor": 0,
  "metadata": {
    "colab": {
      "provenance": []
    },
    "kernelspec": {
      "name": "python3",
      "display_name": "Python 3"
    },
    "language_info": {
      "name": "python"
    }
  },
  "cells": [
    {
      "cell_type": "markdown",
      "source": [
        "# LAMBDA LMS QUİZİ"
      ],
      "metadata": {
        "id": "nUKjOdRSpAfx"
      }
    },
    {
      "cell_type": "code",
      "execution_count": 1,
      "metadata": {
        "colab": {
          "base_uri": "https://localhost:8080/"
        },
        "id": "Nm0J9wOdnU4D",
        "outputId": "b2475cd0-85a6-4368-9742-fde9a2aa6196"
      },
      "outputs": [
        {
          "output_type": "stream",
          "name": "stdout",
          "text": [
            "125\n"
          ]
        }
      ],
      "source": [
        "#What is the output of the following function?\n",
        "def modular_function(n):\n",
        "    return lambda x: x ** n\n",
        "\n",
        "power_of_3 = modular_function(3)\n",
        "print(power_of_3(5))"
      ]
    },
    {
      "cell_type": "code",
      "source": [
        "# What is the output of the following lambda function?\n",
        "\n",
        "print((lambda x: x**3)(5))"
      ],
      "metadata": {
        "colab": {
          "base_uri": "https://localhost:8080/"
        },
        "id": "5HO4adRWqQ3D",
        "outputId": "6b91af6b-c2b6-4e33-8ff9-4ea8ff6b7cd2"
      },
      "execution_count": 19,
      "outputs": [
        {
          "output_type": "stream",
          "name": "stdout",
          "text": [
            "125\n"
          ]
        }
      ]
    },
    {
      "cell_type": "code",
      "source": [
        "#What is the output of the following lambda function?\n",
        "\n",
        "mean = lambda x, y: (x+y)/2\n",
        "print(type(mean))\n",
        "print(mean(8, 10))"
      ],
      "metadata": {
        "colab": {
          "base_uri": "https://localhost:8080/"
        },
        "id": "GLmRCdYwqXSv",
        "outputId": "89cfe421-5514-4bb0-fa1f-df479b591622"
      },
      "execution_count": 4,
      "outputs": [
        {
          "output_type": "stream",
          "name": "stdout",
          "text": [
            "<class 'function'>\n",
            "9.0\n"
          ]
        }
      ]
    },
    {
      "cell_type": "code",
      "source": [
        "# What is the output of the following lambda function?\n",
        "\n",
        "multiply = lambda x: x * 4\n",
        "add = lambda x, y: x + y\n",
        "print(add(multiply(10), 5))"
      ],
      "metadata": {
        "colab": {
          "base_uri": "https://localhost:8080/"
        },
        "id": "ncogZplKqeZy",
        "outputId": "102d0805-e341-4153-f188-380368c7f4f4"
      },
      "execution_count": 18,
      "outputs": [
        {
          "output_type": "stream",
          "name": "stdout",
          "text": [
            "45\n"
          ]
        }
      ]
    },
    {
      "cell_type": "code",
      "source": [
        "# lambda içerisine return yazılmaz ama return yanına lambda yazılabilir.\n",
        "lambda return 5"
      ],
      "metadata": {
        "colab": {
          "base_uri": "https://localhost:8080/",
          "height": 145
        },
        "id": "MBqNiqqfrA50",
        "outputId": "824cbeae-f400-486a-95e1-6ec83049f100"
      },
      "execution_count": 6,
      "outputs": [
        {
          "output_type": "error",
          "ename": "SyntaxError",
          "evalue": "invalid syntax (<ipython-input-6-906c967ce3e8>, line 2)",
          "traceback": [
            "\u001b[0;36m  File \u001b[0;32m\"<ipython-input-6-906c967ce3e8>\"\u001b[0;36m, line \u001b[0;32m2\u001b[0m\n\u001b[0;31m    lambda return 5\u001b[0m\n\u001b[0m           ^\u001b[0m\n\u001b[0;31mSyntaxError\u001b[0m\u001b[0;31m:\u001b[0m invalid syntax\n"
          ]
        }
      ]
    },
    {
      "cell_type": "code",
      "source": [
        "# What is the output of the following function?\n",
        "\n",
        "number_list = [1, 2, 3, 4]\n",
        "result = map(lambda x:x**3, number_list)\n",
        "print(list(result))\n"
      ],
      "metadata": {
        "colab": {
          "base_uri": "https://localhost:8080/"
        },
        "id": "e3JN4aqCreKE",
        "outputId": "378ba508-06c8-43a7-e6cc-d88a5ae29737"
      },
      "execution_count": 7,
      "outputs": [
        {
          "output_type": "stream",
          "name": "stdout",
          "text": [
            "[1, 8, 27, 64]\n"
          ]
        }
      ]
    },
    {
      "cell_type": "code",
      "source": [
        "# What is the output of the following function?\n",
        "\n",
        "number_list = [0, 1, 2, 3, 4, 5, 6, 7, 8, 9, 10, 11, 12]\n",
        "divisible_list = filter(lambda x:x%3==0, number_list)\n",
        "print(list(divisible_list))\n"
      ],
      "metadata": {
        "colab": {
          "base_uri": "https://localhost:8080/"
        },
        "id": "4bF7cafgrr9j",
        "outputId": "18eb933e-14ba-42fd-b74b-59e140f2aca9"
      },
      "execution_count": 8,
      "outputs": [
        {
          "output_type": "stream",
          "name": "stdout",
          "text": [
            "[0, 3, 6, 9, 12]\n"
          ]
        }
      ]
    },
    {
      "cell_type": "markdown",
      "source": [
        "# Built-in (Yerleşik) modüller\n",
        "https://docs.python.org/3/py-modindex.html"
      ],
      "metadata": {
        "id": "amnJAJPAsJSO"
      }
    },
    {
      "cell_type": "code",
      "source": [
        "import math  # math modülünü programa yükledim"
      ],
      "metadata": {
        "id": "lQ3LqJa-sOU2"
      },
      "execution_count": 9,
      "outputs": []
    },
    {
      "cell_type": "code",
      "source": [
        "print(dir(math))  # math modülü içerisindeki fonksiyonları(metotları) görmek için"
      ],
      "metadata": {
        "colab": {
          "base_uri": "https://localhost:8080/"
        },
        "id": "GfUNZwJzsfOd",
        "outputId": "63046375-0558-40d6-f894-7088217c72db"
      },
      "execution_count": 27,
      "outputs": [
        {
          "output_type": "stream",
          "name": "stdout",
          "text": [
            "['__doc__', '__loader__', '__name__', '__package__', '__spec__', 'acos', 'acosh', 'asin', 'asinh', 'atan', 'atan2', 'atanh', 'ceil', 'comb', 'copysign', 'cos', 'cosh', 'degrees', 'dist', 'e', 'erf', 'erfc', 'exp', 'expm1', 'fabs', 'factorial', 'floor', 'fmod', 'frexp', 'fsum', 'gamma', 'gcd', 'hypot', 'inf', 'isclose', 'isfinite', 'isinf', 'isnan', 'isqrt', 'lcm', 'ldexp', 'lgamma', 'log', 'log10', 'log1p', 'log2', 'modf', 'nan', 'nextafter', 'perm', 'pi', 'pow', 'prod', 'radians', 'remainder', 'sin', 'sinh', 'sqrt', 'tan', 'tanh', 'tau', 'trunc', 'ulp']\n"
          ]
        }
      ]
    },
    {
      "cell_type": "code",
      "source": [
        "math.pi"
      ],
      "metadata": {
        "colab": {
          "base_uri": "https://localhost:8080/"
        },
        "id": "-Kw-6fXzs4-a",
        "outputId": "e5792d15-97f9-4433-db85-420c8c9c6bcb"
      },
      "execution_count": 11,
      "outputs": [
        {
          "output_type": "execute_result",
          "data": {
            "text/plain": [
              "3.141592653589793"
            ]
          },
          "metadata": {},
          "execution_count": 11
        }
      ]
    },
    {
      "cell_type": "code",
      "source": [
        "math.factorial(5) # <function math.factorial(x, /)>"
      ],
      "metadata": {
        "colab": {
          "base_uri": "https://localhost:8080/"
        },
        "id": "2jsqzwXgs7-4",
        "outputId": "48973fc7-e81f-44a8-ac6a-d1ccad932c7b"
      },
      "execution_count": 17,
      "outputs": [
        {
          "output_type": "execute_result",
          "data": {
            "text/plain": [
              "120"
            ]
          },
          "metadata": {},
          "execution_count": 17
        }
      ]
    },
    {
      "cell_type": "markdown",
      "source": [
        "#module nedir?\n",
        "import edilebilen (diğer programlar tarfından çağrılabilen) .py uzantılı bir python dosyası(programı)na modüle denir."
      ],
      "metadata": {
        "id": "oU-COXoVuq7j"
      }
    },
    {
      "cell_type": "markdown",
      "source": [
        "# script nedir?\n",
        "import edilmeyen (doğrudan çalıştırılan) .py uzantılı (veya notebook hücresi) dosyaya script adı verilir."
      ],
      "metadata": {
        "id": "AEHvuR63vtm0"
      }
    },
    {
      "cell_type": "code",
      "source": [
        "import math as m  # math ismini 'm' olarak kısalttım\n",
        "m.factorial(5)"
      ],
      "metadata": {
        "colab": {
          "base_uri": "https://localhost:8080/"
        },
        "id": "XZTp9lG2u4Lz",
        "outputId": "83a5751f-3c98-453b-cfc4-66ba2c048146"
      },
      "execution_count": 20,
      "outputs": [
        {
          "output_type": "execute_result",
          "data": {
            "text/plain": [
              "120"
            ]
          },
          "metadata": {},
          "execution_count": 20
        }
      ]
    },
    {
      "cell_type": "code",
      "source": [
        "import statistics\n",
        "statistics.mean([1,2,3,4,5])"
      ],
      "metadata": {
        "colab": {
          "base_uri": "https://localhost:8080/"
        },
        "id": "MzOPa8LhxClH",
        "outputId": "e95e87d0-6574-4af9-929a-14bee5284bc3"
      },
      "execution_count": 21,
      "outputs": [
        {
          "output_type": "execute_result",
          "data": {
            "text/plain": [
              "3"
            ]
          },
          "metadata": {},
          "execution_count": 21
        }
      ]
    },
    {
      "cell_type": "code",
      "source": [
        "import statistics as st\n",
        "st.mean([1,2,3,4,5])"
      ],
      "metadata": {
        "colab": {
          "base_uri": "https://localhost:8080/"
        },
        "id": "zj8iLZn6xLgq",
        "outputId": "f4bcc762-20e4-4882-992e-a522cb7891ad"
      },
      "execution_count": 22,
      "outputs": [
        {
          "output_type": "execute_result",
          "data": {
            "text/plain": [
              "3"
            ]
          },
          "metadata": {},
          "execution_count": 22
        }
      ]
    },
    {
      "cell_type": "code",
      "source": [
        "# mean fonksiyonunu doğrudan kullanmak istersem\n",
        "# from modül/paket adı import fonksiyon_adı\n",
        "from statistics import mean\n",
        "# artık mean fonksiyonunun başına statistics getirmeme gerek yok\n",
        "mean([1,2,3,4,5,6])  # ortalaması"
      ],
      "metadata": {
        "colab": {
          "base_uri": "https://localhost:8080/"
        },
        "id": "A2hMUgGxxaRx",
        "outputId": "46db67ed-c453-445a-af29-8c75e6df66ec"
      },
      "execution_count": 23,
      "outputs": [
        {
          "output_type": "execute_result",
          "data": {
            "text/plain": [
              "3.5"
            ]
          },
          "metadata": {},
          "execution_count": 23
        }
      ]
    },
    {
      "cell_type": "code",
      "source": [
        "from math import factorial, pi  # PEP8-8 önerisine uygun\n",
        "print(\"5!=\",factorial(5))\n",
        "print(\"PI sayısı=\", pi)"
      ],
      "metadata": {
        "colab": {
          "base_uri": "https://localhost:8080/"
        },
        "id": "r_b7UzZfx4ka",
        "outputId": "43b835cf-a6aa-49a7-a561-b13b2f0a1787"
      },
      "execution_count": 24,
      "outputs": [
        {
          "output_type": "stream",
          "name": "stdout",
          "text": [
            "5!= 120\n",
            "PI sayısı= 3.141592653589793\n"
          ]
        }
      ]
    },
    {
      "cell_type": "code",
      "source": [
        "from math import *  # math altındaki tüm fonksiyonları/attribute al\n",
        "print(pi)"
      ],
      "metadata": {
        "colab": {
          "base_uri": "https://localhost:8080/"
        },
        "id": "4SKZ5eTk1ghO",
        "outputId": "01d9eb7d-816b-404d-fb5c-1e7fd58fe33f"
      },
      "execution_count": 25,
      "outputs": [
        {
          "output_type": "stream",
          "name": "stdout",
          "text": [
            "3.141592653589793\n"
          ]
        }
      ]
    },
    {
      "cell_type": "code",
      "source": [
        "import math, statistics, ... # modül isimleri yan yana yazılabilir ama PEP8 uygun değil\n",
        "# PEP-8 önerisi alt alta yazmak şeklinde\n",
        "import math\n",
        "import statistics\n",
        "import random\n",
        "#.....\n"
      ],
      "metadata": {
        "id": "EffppKuVyM78"
      },
      "execution_count": null,
      "outputs": []
    },
    {
      "cell_type": "code",
      "source": [
        "from math import pi, factorial, log10\n",
        "print(\"pi:\",pi)\n",
        "print(\"4!=\",factorial(4))\n",
        "print(\"log10=\",log10(1000))"
      ],
      "metadata": {
        "colab": {
          "base_uri": "https://localhost:8080/"
        },
        "id": "89K7BZMW26S2",
        "outputId": "7fbb8983-2f03-443a-c558-2b6e8512a959"
      },
      "execution_count": 28,
      "outputs": [
        {
          "output_type": "stream",
          "name": "stdout",
          "text": [
            "pi: 3.141592653589793\n",
            "4!= 24\n",
            "log10= 3.0\n"
          ]
        }
      ]
    },
    {
      "cell_type": "code",
      "source": [
        "import string\n",
        "print(dir(string)[-10:])"
      ],
      "metadata": {
        "colab": {
          "base_uri": "https://localhost:8080/"
        },
        "id": "0c5uexMk3YtB",
        "outputId": "e8fa0c69-ecc0-47cb-a62e-512ae4295836"
      },
      "execution_count": 33,
      "outputs": [
        {
          "output_type": "stream",
          "name": "stdout",
          "text": [
            "['ascii_letters', 'ascii_lowercase', 'ascii_uppercase', 'capwords', 'digits', 'hexdigits', 'octdigits', 'printable', 'punctuation', 'whitespace']\n"
          ]
        }
      ]
    },
    {
      "cell_type": "code",
      "source": [
        "from string import punctuation, digits\n",
        "print(punctuation)\n",
        "print(digits)"
      ],
      "metadata": {
        "colab": {
          "base_uri": "https://localhost:8080/"
        },
        "id": "XYZoeeCI303b",
        "outputId": "0bf0dcab-2c4c-44f4-e827-2d7b9390c7be"
      },
      "execution_count": 36,
      "outputs": [
        {
          "output_type": "stream",
          "name": "stdout",
          "text": [
            "!\"#$%&'()*+,-./:;<=>?@[\\]^_`{|}~\n",
            "0123456789\n"
          ]
        }
      ]
    },
    {
      "cell_type": "code",
      "source": [
        "import string as s\n",
        "print(s.punctuation)\n",
        "print(s.digits)"
      ],
      "metadata": {
        "colab": {
          "base_uri": "https://localhost:8080/"
        },
        "id": "UYieg1V64Hd-",
        "outputId": "d6a0edad-1fd2-43b7-9186-fe4eefca8407"
      },
      "execution_count": 37,
      "outputs": [
        {
          "output_type": "stream",
          "name": "stdout",
          "text": [
            "!\"#$%&'()*+,-./:;<=>?@[\\]^_`{|}~\n",
            "0123456789\n"
          ]
        }
      ]
    },
    {
      "cell_type": "code",
      "source": [
        "# 8 karakterli : en az 2 büyük harf, 2 küçük harf, 2 özel karakter, 2 rakam\n",
        "from string import punctuation, ascii_lowercase, ascii_uppercase, digits\n",
        "# print(len(punctuation))\n",
        "password = punctuation[6:8] + ascii_lowercase[6:8] + ascii_uppercase[6:8] + digits[6:8]\n",
        "print(\"Önerilen password..:\", password)"
      ],
      "metadata": {
        "colab": {
          "base_uri": "https://localhost:8080/"
        },
        "id": "80Za0q5Q4b14",
        "outputId": "f79f63f3-7b85-4ef2-db93-a677a6aa7baa"
      },
      "execution_count": 41,
      "outputs": [
        {
          "output_type": "stream",
          "name": "stdout",
          "text": [
            "Önerilen password..: '(ghGH67\n"
          ]
        }
      ]
    },
    {
      "cell_type": "code",
      "source": [
        "# datetime modülü taRİH-SAAT İLE ilgili metotlar içerir\n",
        "import datetime\n",
        "# print(datetime.date.__doc__)\n",
        "print(datetime.date.today())\n",
        "print()\n",
        "# print(datetime.datetime.__doc__)\n",
        "print(datetime.datetime.now())\n",
        "print(datetime.datetime.now().ctime())"
      ],
      "metadata": {
        "colab": {
          "base_uri": "https://localhost:8080/"
        },
        "id": "7UGdnhWQ6FXM",
        "outputId": "5db5d2fc-fbfe-4424-b8b2-c91d8f71d2fd"
      },
      "execution_count": 67,
      "outputs": [
        {
          "output_type": "stream",
          "name": "stdout",
          "text": [
            "2024-01-25\n",
            "\n",
            "2024-01-25 09:30:22.289769\n",
            "Thu Jan 25 09:30:22 2024\n"
          ]
        }
      ]
    },
    {
      "cell_type": "code",
      "source": [
        "from datetime import datetime, date\n",
        "print(\"date:\",date.today(), \"\\ndate.time:\", datetime.now())\n"
      ],
      "metadata": {
        "colab": {
          "base_uri": "https://localhost:8080/"
        },
        "id": "3WJVMNRF7g9v",
        "outputId": "424ae8aa-0c79-4bb6-cde1-44576d88f396"
      },
      "execution_count": 65,
      "outputs": [
        {
          "output_type": "stream",
          "name": "stdout",
          "text": [
            "date: 2024-01-25 \n",
            "date.time: 2024-01-25 09:29:42.025314\n"
          ]
        }
      ]
    },
    {
      "cell_type": "code",
      "source": [
        "str(datetime.now())"
      ],
      "metadata": {
        "colab": {
          "base_uri": "https://localhost:8080/",
          "height": 35
        },
        "id": "kpjEj3cl8cpm",
        "outputId": "0a6bcf62-fd9e-4d6b-cdff-0aa9f9e59109"
      },
      "execution_count": 62,
      "outputs": [
        {
          "output_type": "execute_result",
          "data": {
            "text/plain": [
              "'2024-01-25 09:27:54.916431'"
            ],
            "application/vnd.google.colaboratory.intrinsic+json": {
              "type": "string"
            }
          },
          "metadata": {},
          "execution_count": 62
        }
      ]
    },
    {
      "cell_type": "code",
      "source": [
        "import time\n",
        "print(time.ctime())"
      ],
      "metadata": {
        "colab": {
          "base_uri": "https://localhost:8080/"
        },
        "id": "jXX-HD9D9DQU",
        "outputId": "e4383ae4-dab6-493f-d00c-7f02a440b599"
      },
      "execution_count": 66,
      "outputs": [
        {
          "output_type": "stream",
          "name": "stdout",
          "text": [
            "Thu Jan 25 09:29:54 2024\n"
          ]
        }
      ]
    },
    {
      "cell_type": "code",
      "source": [
        "from datetime import date\n",
        "\n",
        "d = datetime.date(2024, 1, 25)\n",
        "print(d.strftime(\"%d/%m/%y\"))\n",
        "# '11/03/02'\n",
        "print(d.strftime(\"%A %d. %B %Y\"))"
      ],
      "metadata": {
        "colab": {
          "base_uri": "https://localhost:8080/"
        },
        "id": "2oizr7R69VCY",
        "outputId": "a9aa9119-4017-4ef6-8d14-8d45131cb5e5"
      },
      "execution_count": 69,
      "outputs": [
        {
          "output_type": "stream",
          "name": "stdout",
          "text": [
            "25/01/24\n",
            "Thursday 25. January 2024\n"
          ]
        }
      ]
    },
    {
      "cell_type": "code",
      "source": [
        "from datetime import datetime  # from modül_ismi import metot_isimleri/class adı\n",
        "datetime.fold"
      ],
      "metadata": {
        "colab": {
          "base_uri": "https://localhost:8080/"
        },
        "id": "sqlbWhPc932u",
        "outputId": "62af8136-4bcf-4dd0-c09d-ded012cf1ea2"
      },
      "execution_count": 71,
      "outputs": [
        {
          "output_type": "execute_result",
          "data": {
            "text/plain": [
              "<attribute 'fold' of 'datetime.datetime' objects>"
            ]
          },
          "metadata": {},
          "execution_count": 71
        }
      ]
    },
    {
      "cell_type": "code",
      "source": [
        "import random\n",
        "city = ['Stockholm', 'Istanbul', 'Seul', 'Cape Town']\n",
        "secilen_sehir = random.choice(city)\n",
        "print(\"secilen_sehir:\", secilen_sehir)"
      ],
      "metadata": {
        "colab": {
          "base_uri": "https://localhost:8080/"
        },
        "id": "f67-sXwvCMGc",
        "outputId": "5a16f1a3-6d04-4fd4-e6bf-b28fe79981bb"
      },
      "execution_count": 89,
      "outputs": [
        {
          "output_type": "stream",
          "name": "stdout",
          "text": [
            "secilen_sehir: Stockholm\n"
          ]
        }
      ]
    },
    {
      "cell_type": "code",
      "source": [
        "import random\n",
        "random.seed(12)  # seçimi belli bir anda sabitledik\n",
        "city = ['Stockholm', 'Istanbul', 'Seul', 'Cape Town']\n",
        "secilen_sehir = random.choice(city)\n",
        "print(\"secilen_sehir:\", secilen_sehir)"
      ],
      "metadata": {
        "colab": {
          "base_uri": "https://localhost:8080/"
        },
        "id": "SUzbvRV6CQRZ",
        "outputId": "3d4b07c2-f06e-4e9d-fa0d-39f7c6da71f3"
      },
      "execution_count": 91,
      "outputs": [
        {
          "output_type": "stream",
          "name": "stdout",
          "text": [
            "secilen_sehir: Cape Town\n"
          ]
        }
      ]
    },
    {
      "cell_type": "code",
      "source": [
        "# sayısal loto\n",
        "# 1-100 arası benzersiz 6 sayı rastgele alalım\n",
        "import random\n",
        "sayi_listesi = list(range(1,100))\n",
        "# print(sayi_listesi)\n",
        "sayisal_loto = random.sample(sayi_listesi, 6)\n",
        "print(sayisal_loto)"
      ],
      "metadata": {
        "colab": {
          "base_uri": "https://localhost:8080/"
        },
        "id": "mF_K44JDCvwp",
        "outputId": "aecca695-51f6-45da-9e0c-330d97c9bef4"
      },
      "execution_count": 96,
      "outputs": [
        {
          "output_type": "stream",
          "name": "stdout",
          "text": [
            "[85, 80, 19, 57, 48, 21]\n"
          ]
        }
      ]
    },
    {
      "cell_type": "code",
      "source": [
        "import random\n",
        "deck = 'ace two three four'.split()\n",
        "print(deck)\n",
        "random.shuffle(deck)                     # shuffle in-place metot:  listeyi karıştırır\n",
        "print(deck)"
      ],
      "metadata": {
        "colab": {
          "base_uri": "https://localhost:8080/"
        },
        "id": "pOkUK1fcDreX",
        "outputId": "2ac3271f-3e22-4c37-e641-c6e0ed372a7d"
      },
      "execution_count": 103,
      "outputs": [
        {
          "output_type": "stream",
          "name": "stdout",
          "text": [
            "['ace', 'two', 'three', 'four']\n",
            "['ace', 'four', 'three', 'two']\n"
          ]
        }
      ]
    },
    {
      "cell_type": "code",
      "source": [
        "# 8 karakterli : rastgele en az 2 büyük harf, 2 küçük harf, 2 özel karakter, 2 rakam\n",
        "from random import shuffle, sample\n",
        "from string import punctuation, ascii_lowercase, ascii_uppercase, digits\n",
        "# print(len(punctuation))\n",
        "password = sample(punctuation,2) + sample(ascii_lowercase,2) + sample(ascii_uppercase,2) + sample(digits,2)\n",
        "shuffle(password) #listeyi karıştır\n",
        "print(\"Önerilen password..:\", *password)\n",
        "print(\"Önerilen password..:\", \"\".join(password))"
      ],
      "metadata": {
        "colab": {
          "base_uri": "https://localhost:8080/"
        },
        "id": "OwUiGGE9EPaX",
        "outputId": "d48a4a8c-8fe9-4eb2-c90a-7983a1467140"
      },
      "execution_count": 108,
      "outputs": [
        {
          "output_type": "stream",
          "name": "stdout",
          "text": [
            "Önerilen password..: ~ X 8 u 7 t [ B\n",
            "Önerilen password..: ~X8u7t[B\n"
          ]
        }
      ]
    },
    {
      "cell_type": "code",
      "source": [
        "# Kaç gün yaşadı?\n",
        "from datetime import date\n",
        "d = date(1881, 5, 19)  # verileni tarih formatına dönüştürür\n",
        "v = date(1938, 11, 10)\n",
        "gun_sayisi = (v-d).days\n",
        "print(gun_sayisi, \"gün yaşadı\")"
      ],
      "metadata": {
        "colab": {
          "base_uri": "https://localhost:8080/"
        },
        "id": "f0r1617IGC0U",
        "outputId": "ed33d2c5-bf6b-4491-e48e-c4281ca745c8"
      },
      "execution_count": 111,
      "outputs": [
        {
          "output_type": "stream",
          "name": "stdout",
          "text": [
            "20993 gün yaşadı\n"
          ]
        }
      ]
    },
    {
      "cell_type": "code",
      "source": [
        "# Kaç gün yaşadı?\n",
        "from datetime import date\n",
        "d = date(1881, 5, 19)  # verileni tarih formatına dönüştürür\n",
        "v = date(1938, 11, 10)\n",
        "gun_sayisi = v-d\n",
        "print(str(gun_sayisi).split(\",\")[0])"
      ],
      "metadata": {
        "colab": {
          "base_uri": "https://localhost:8080/"
        },
        "id": "OzYiVzwkHKrO",
        "outputId": "611b4897-d418-432c-d4d3-04904879cc40"
      },
      "execution_count": 118,
      "outputs": [
        {
          "output_type": "stream",
          "name": "stdout",
          "text": [
            "20993 days\n"
          ]
        }
      ]
    },
    {
      "cell_type": "code",
      "source": [
        "# Kaç gün yaşadı?\n",
        "from datetime import date\n",
        "d_yil, d_ay, d_gun = eval(input(\"Doğum Yil, Ay, Gün giriniz..: \"))\n",
        "v_yil, v_ay, v_gun = eval(input(\"Vefat Yil, Ay, Gün giriniz..: \"))\n",
        "d = date(d_yil, d_ay, d_gun)  # verileni tarih formatına dönüştürür\n",
        "v = date(v_yil, v_ay, v_gun)\n",
        "gun_sayisi = (v-d).days\n",
        "print(gun_sayisi, \"gün yaşadı\")"
      ],
      "metadata": {
        "colab": {
          "base_uri": "https://localhost:8080/"
        },
        "id": "pG4BNX_iIC3O",
        "outputId": "e5a4a1c6-3790-45e5-97f2-5241069cc10f"
      },
      "execution_count": 121,
      "outputs": [
        {
          "output_type": "stream",
          "name": "stdout",
          "text": [
            "Doğum Yil, Ay, Gün giriniz1881,5,19\n",
            "Vefat Yil, Ay, Gün giriniz1938,11,10\n",
            "20993 gün yaşadı\n"
          ]
        }
      ]
    },
    {
      "cell_type": "code",
      "source": [
        "# Saat-tarih ile ilgili diğer modüller\n",
        "import time\n",
        "time.asctime()"
      ],
      "metadata": {
        "colab": {
          "base_uri": "https://localhost:8080/",
          "height": 35
        },
        "id": "1ygW4OiQHzUe",
        "outputId": "edc199dd-f336-42b2-a100-384e677563dc"
      },
      "execution_count": 119,
      "outputs": [
        {
          "output_type": "execute_result",
          "data": {
            "text/plain": [
              "'Thu Jan 25 10:17:05 2024'"
            ],
            "application/vnd.google.colaboratory.intrinsic+json": {
              "type": "string"
            }
          },
          "metadata": {},
          "execution_count": 119
        }
      ]
    },
    {
      "cell_type": "code",
      "source": [
        "import time\n",
        "time.ctime()"
      ],
      "metadata": {
        "colab": {
          "base_uri": "https://localhost:8080/",
          "height": 35
        },
        "id": "-J6Go6KKH8xl",
        "outputId": "e5969d80-3f17-486a-ce8f-99a0c83db6cd"
      },
      "execution_count": 120,
      "outputs": [
        {
          "output_type": "execute_result",
          "data": {
            "text/plain": [
              "'Thu Jan 25 10:17:33 2024'"
            ],
            "application/vnd.google.colaboratory.intrinsic+json": {
              "type": "string"
            }
          },
          "metadata": {},
          "execution_count": 120
        }
      ]
    },
    {
      "cell_type": "code",
      "source": [
        "#takvim için\n",
        "import calendar\n",
        "print(calendar.calendar(2024))"
      ],
      "metadata": {
        "colab": {
          "base_uri": "https://localhost:8080/"
        },
        "id": "UTazecrZI8EQ",
        "outputId": "b50abb20-511b-4e5d-bdb4-a41a269c9117"
      },
      "execution_count": 124,
      "outputs": [
        {
          "output_type": "stream",
          "name": "stdout",
          "text": [
            "                                  2024\n",
            "\n",
            "      January                   February                   March\n",
            "Mo Tu We Th Fr Sa Su      Mo Tu We Th Fr Sa Su      Mo Tu We Th Fr Sa Su\n",
            " 1  2  3  4  5  6  7                1  2  3  4                   1  2  3\n",
            " 8  9 10 11 12 13 14       5  6  7  8  9 10 11       4  5  6  7  8  9 10\n",
            "15 16 17 18 19 20 21      12 13 14 15 16 17 18      11 12 13 14 15 16 17\n",
            "22 23 24 25 26 27 28      19 20 21 22 23 24 25      18 19 20 21 22 23 24\n",
            "29 30 31                  26 27 28 29               25 26 27 28 29 30 31\n",
            "\n",
            "       April                      May                       June\n",
            "Mo Tu We Th Fr Sa Su      Mo Tu We Th Fr Sa Su      Mo Tu We Th Fr Sa Su\n",
            " 1  2  3  4  5  6  7             1  2  3  4  5                      1  2\n",
            " 8  9 10 11 12 13 14       6  7  8  9 10 11 12       3  4  5  6  7  8  9\n",
            "15 16 17 18 19 20 21      13 14 15 16 17 18 19      10 11 12 13 14 15 16\n",
            "22 23 24 25 26 27 28      20 21 22 23 24 25 26      17 18 19 20 21 22 23\n",
            "29 30                     27 28 29 30 31            24 25 26 27 28 29 30\n",
            "\n",
            "        July                     August                  September\n",
            "Mo Tu We Th Fr Sa Su      Mo Tu We Th Fr Sa Su      Mo Tu We Th Fr Sa Su\n",
            " 1  2  3  4  5  6  7                1  2  3  4                         1\n",
            " 8  9 10 11 12 13 14       5  6  7  8  9 10 11       2  3  4  5  6  7  8\n",
            "15 16 17 18 19 20 21      12 13 14 15 16 17 18       9 10 11 12 13 14 15\n",
            "22 23 24 25 26 27 28      19 20 21 22 23 24 25      16 17 18 19 20 21 22\n",
            "29 30 31                  26 27 28 29 30 31         23 24 25 26 27 28 29\n",
            "                                                    30\n",
            "\n",
            "      October                   November                  December\n",
            "Mo Tu We Th Fr Sa Su      Mo Tu We Th Fr Sa Su      Mo Tu We Th Fr Sa Su\n",
            "    1  2  3  4  5  6                   1  2  3                         1\n",
            " 7  8  9 10 11 12 13       4  5  6  7  8  9 10       2  3  4  5  6  7  8\n",
            "14 15 16 17 18 19 20      11 12 13 14 15 16 17       9 10 11 12 13 14 15\n",
            "21 22 23 24 25 26 27      18 19 20 21 22 23 24      16 17 18 19 20 21 22\n",
            "28 29 30 31               25 26 27 28 29 30         23 24 25 26 27 28 29\n",
            "                                                    30 31\n",
            "\n"
          ]
        }
      ]
    },
    {
      "cell_type": "code",
      "source": [
        "import calendar\n",
        "calendar.prcal(2024)"
      ],
      "metadata": {
        "colab": {
          "base_uri": "https://localhost:8080/"
        },
        "id": "89wmW91NJsyZ",
        "outputId": "757f6e8f-f3a0-40d2-f2fd-3d2f88f5fefa"
      },
      "execution_count": 128,
      "outputs": [
        {
          "output_type": "stream",
          "name": "stdout",
          "text": [
            "                                  2024\n",
            "\n",
            "      January                   February                   March\n",
            "Mo Tu We Th Fr Sa Su      Mo Tu We Th Fr Sa Su      Mo Tu We Th Fr Sa Su\n",
            " 1  2  3  4  5  6  7                1  2  3  4                   1  2  3\n",
            " 8  9 10 11 12 13 14       5  6  7  8  9 10 11       4  5  6  7  8  9 10\n",
            "15 16 17 18 19 20 21      12 13 14 15 16 17 18      11 12 13 14 15 16 17\n",
            "22 23 24 25 26 27 28      19 20 21 22 23 24 25      18 19 20 21 22 23 24\n",
            "29 30 31                  26 27 28 29               25 26 27 28 29 30 31\n",
            "\n",
            "       April                      May                       June\n",
            "Mo Tu We Th Fr Sa Su      Mo Tu We Th Fr Sa Su      Mo Tu We Th Fr Sa Su\n",
            " 1  2  3  4  5  6  7             1  2  3  4  5                      1  2\n",
            " 8  9 10 11 12 13 14       6  7  8  9 10 11 12       3  4  5  6  7  8  9\n",
            "15 16 17 18 19 20 21      13 14 15 16 17 18 19      10 11 12 13 14 15 16\n",
            "22 23 24 25 26 27 28      20 21 22 23 24 25 26      17 18 19 20 21 22 23\n",
            "29 30                     27 28 29 30 31            24 25 26 27 28 29 30\n",
            "\n",
            "        July                     August                  September\n",
            "Mo Tu We Th Fr Sa Su      Mo Tu We Th Fr Sa Su      Mo Tu We Th Fr Sa Su\n",
            " 1  2  3  4  5  6  7                1  2  3  4                         1\n",
            " 8  9 10 11 12 13 14       5  6  7  8  9 10 11       2  3  4  5  6  7  8\n",
            "15 16 17 18 19 20 21      12 13 14 15 16 17 18       9 10 11 12 13 14 15\n",
            "22 23 24 25 26 27 28      19 20 21 22 23 24 25      16 17 18 19 20 21 22\n",
            "29 30 31                  26 27 28 29 30 31         23 24 25 26 27 28 29\n",
            "                                                    30\n",
            "\n",
            "      October                   November                  December\n",
            "Mo Tu We Th Fr Sa Su      Mo Tu We Th Fr Sa Su      Mo Tu We Th Fr Sa Su\n",
            "    1  2  3  4  5  6                   1  2  3                         1\n",
            " 7  8  9 10 11 12 13       4  5  6  7  8  9 10       2  3  4  5  6  7  8\n",
            "14 15 16 17 18 19 20      11 12 13 14 15 16 17       9 10 11 12 13 14 15\n",
            "21 22 23 24 25 26 27      18 19 20 21 22 23 24      16 17 18 19 20 21 22\n",
            "28 29 30 31               25 26 27 28 29 30         23 24 25 26 27 28 29\n",
            "                                                    30 31\n"
          ]
        }
      ]
    },
    {
      "cell_type": "code",
      "source": [
        "import calendar\n",
        "calendar.prmonth(2024,1)"
      ],
      "metadata": {
        "colab": {
          "base_uri": "https://localhost:8080/"
        },
        "id": "mPOdBKyIKTO9",
        "outputId": "db73667b-1f67-4996-f592-59cc45fc9e36"
      },
      "execution_count": 133,
      "outputs": [
        {
          "output_type": "stream",
          "name": "stdout",
          "text": [
            "    January 2024\n",
            "Mo Tu We Th Fr Sa Su\n",
            " 1  2  3  4  5  6  7\n",
            " 8  9 10 11 12 13 14\n",
            "15 16 17 18 19 20 21\n",
            "22 23 24 25 26 27 28\n",
            "29 30 31\n"
          ]
        }
      ]
    },
    {
      "cell_type": "code",
      "source": [
        "import calendar\n",
        "import locale\n",
        "locale.setlocale(locale.LC_ALL, 'de_DE')  # Almanca yerel takvim\n",
        "calendar.prmonth(2024,1)"
      ],
      "metadata": {
        "colab": {
          "base_uri": "https://localhost:8080/"
        },
        "id": "A-IN8_unNdIg",
        "outputId": "f7c13428-b443-4a6e-9566-5ae8dfa3a053"
      },
      "execution_count": 5,
      "outputs": [
        {
          "output_type": "stream",
          "name": "stdout",
          "text": [
            "    Januar 2024\n",
            "Mo Di Mi Do Fr Sa So\n",
            " 1  2  3  4  5  6  7\n",
            " 8  9 10 11 12 13 14\n",
            "15 16 17 18 19 20 21\n",
            "22 23 24 25 26 27 28\n",
            "29 30 31\n"
          ]
        }
      ]
    },
    {
      "cell_type": "code",
      "source": [
        "# Install de_DE paket kurulumu\n",
        "!/usr/share/locales/install-language-pack de_DE\n",
        "!dpkg-reconfigure locales\n"
      ],
      "metadata": {
        "id": "U1HQn4PBO8kN"
      },
      "execution_count": null,
      "outputs": []
    },
    {
      "cell_type": "code",
      "source": [
        "# calendar.isleap(year) kullanarak artık yıl hesabı yapan program\n",
        "yil = int(input(\"Yılı giriniz\"))\n",
        "import calendar\n",
        "if calendar.isleap(yil):\n",
        "  print(f\"{yil} artık yıldır\")\n",
        "else:\n",
        "  print(f\"{yil} artık yıl değildir\")"
      ],
      "metadata": {
        "colab": {
          "base_uri": "https://localhost:8080/"
        },
        "id": "MX9OxK5aLHI-",
        "outputId": "d76fd2f7-e4a1-45ed-bc56-026a9a0f80ed"
      },
      "execution_count": 132,
      "outputs": [
        {
          "output_type": "stream",
          "name": "stdout",
          "text": [
            "Yılı giriniz2023\n",
            "2023 artık yıl değildir\n"
          ]
        }
      ]
    },
    {
      "cell_type": "code",
      "source": [
        "# 1900-2100 dahil arasında leap year(artık yıl) listesi oluşturalım\n",
        "import calendar\n",
        "yil_baslangic = 1900\n",
        "yil_bitis = 2101\n",
        "artik_list= []\n",
        "for i in range(yil_baslangic, yil_bitis):\n",
        "  if calendar.isleap(i):\n",
        "    artik_list.append(i)\n",
        "print(artik_list)"
      ],
      "metadata": {
        "colab": {
          "base_uri": "https://localhost:8080/"
        },
        "id": "laNKeFacP88T",
        "outputId": "31a6463b-3e3e-4fcd-c60d-c872774ded64"
      },
      "execution_count": 9,
      "outputs": [
        {
          "output_type": "stream",
          "name": "stdout",
          "text": [
            "[1904, 1908, 1912, 1916, 1920, 1924, 1928, 1932, 1936, 1940, 1944, 1948, 1952, 1956, 1960, 1964, 1968, 1972, 1976, 1980, 1984, 1988, 1992, 1996, 2000, 2004, 2008, 2012, 2016, 2020, 2024, 2028, 2032, 2036, 2040, 2044, 2048, 2052, 2056, 2060, 2064, 2068, 2072, 2076, 2080, 2084, 2088, 2092, 2096]\n"
          ]
        }
      ]
    },
    {
      "cell_type": "code",
      "source": [
        "from calendar import isleap\n",
        "\n",
        "artik_list= [i for i in range(1900, 2101) if isleap(i)]\n",
        "\n",
        "print(artik_list)"
      ],
      "metadata": {
        "colab": {
          "base_uri": "https://localhost:8080/"
        },
        "id": "WMO1HnSiR3lW",
        "outputId": "9684d29f-009f-4503-d840-d19034078281"
      },
      "execution_count": 10,
      "outputs": [
        {
          "output_type": "stream",
          "name": "stdout",
          "text": [
            "[1904, 1908, 1912, 1916, 1920, 1924, 1928, 1932, 1936, 1940, 1944, 1948, 1952, 1956, 1960, 1964, 1968, 1972, 1976, 1980, 1984, 1988, 1992, 1996, 2000, 2004, 2008, 2012, 2016, 2020, 2024, 2028, 2032, 2036, 2040, 2044, 2048, 2052, 2056, 2060, 2064, 2068, 2072, 2076, 2080, 2084, 2088, 2092, 2096]\n"
          ]
        }
      ]
    },
    {
      "cell_type": "code",
      "source": [
        "\"\"\"\n",
        " functools.reduce(function, iterable)\n",
        "    Apply function of two arguments cumulatively to the items of iterable, from left to right,\n",
        "    so as to reduce the iterable to a single value.\n",
        "    For example, reduce(lambda x, y: x+y, [1, 2, 3, 4, 5]) calculates ((((1+2)+3)+4)+5).\n",
        "\"\"\"\n",
        "from functools import reduce\n",
        "toplam_ilk5 = reduce(lambda x, y: x+y, [1, 2, 3, 4, 5])\n",
        "print(toplam_ilk5)"
      ],
      "metadata": {
        "colab": {
          "base_uri": "https://localhost:8080/"
        },
        "id": "aD0KCQ7fTBIZ",
        "outputId": "04403997-6709-43ae-97c3-67f7caf807be"
      },
      "execution_count": 22,
      "outputs": [
        {
          "output_type": "stream",
          "name": "stdout",
          "text": [
            "15\n"
          ]
        }
      ]
    },
    {
      "cell_type": "code",
      "source": [
        "__name__"
      ],
      "metadata": {
        "colab": {
          "base_uri": "https://localhost:8080/",
          "height": 35
        },
        "id": "vlalYCNqYTX7",
        "outputId": "09f399c0-2584-4b64-a097-a5392309872e"
      },
      "execution_count": 23,
      "outputs": [
        {
          "output_type": "execute_result",
          "data": {
            "text/plain": [
              "'__main__'"
            ],
            "application/vnd.google.colaboratory.intrinsic+json": {
              "type": "string"
            }
          },
          "metadata": {},
          "execution_count": 23
        }
      ]
    },
    {
      "cell_type": "markdown",
      "source": [
        "# if __name__ == '__main__':  işlevi\n",
        "\n",
        "Eğer beni doğrudan çalıştıracak isen(script isem) alttakileri çalıştır\n",
        "değilse (yani import edileceksem) alttakileri çalıştırma"
      ],
      "metadata": {
        "id": "QeNQ_V_bUTSe"
      }
    },
    {
      "cell_type": "code",
      "source": [
        "import my_modul\n",
        "my_modul.my_func1(3)"
      ],
      "metadata": {
        "colab": {
          "base_uri": "https://localhost:8080/"
        },
        "id": "zkxpCimnUU0S",
        "outputId": "fdf2f51a-0867-41dd-c4cb-6e5a91fab23f"
      },
      "execution_count": 13,
      "outputs": [
        {
          "output_type": "stream",
          "name": "stdout",
          "text": [
            "9\n"
          ]
        }
      ]
    },
    {
      "cell_type": "code",
      "source": [
        "import my_modul"
      ],
      "metadata": {
        "id": "dBPX0CtOVOrU"
      },
      "execution_count": 16,
      "outputs": []
    },
    {
      "cell_type": "code",
      "source": [
        "import my_modul2"
      ],
      "metadata": {
        "id": "712L2R9_VHWg"
      },
      "execution_count": 18,
      "outputs": []
    },
    {
      "cell_type": "code",
      "source": [
        "my_modul2.my_func1(3)"
      ],
      "metadata": {
        "colab": {
          "base_uri": "https://localhost:8080/"
        },
        "id": "zyv4u4ATVb5_",
        "outputId": "d999699d-401f-4b3c-af93-486c9c13b7dd"
      },
      "execution_count": 19,
      "outputs": [
        {
          "output_type": "stream",
          "name": "stdout",
          "text": [
            "9\n"
          ]
        }
      ]
    },
    {
      "cell_type": "code",
      "source": [
        "my_modul2.__name__"
      ],
      "metadata": {
        "colab": {
          "base_uri": "https://localhost:8080/",
          "height": 35
        },
        "id": "VR0IuBZxV-9w",
        "outputId": "c460d5a5-f3c4-4724-df17-067008108f6c"
      },
      "execution_count": 24,
      "outputs": [
        {
          "output_type": "execute_result",
          "data": {
            "text/plain": [
              "'my_modul2'"
            ],
            "application/vnd.google.colaboratory.intrinsic+json": {
              "type": "string"
            }
          },
          "metadata": {},
          "execution_count": 24
        }
      ]
    }
  ]
}