{
  "nbformat": 4,
  "nbformat_minor": 0,
  "metadata": {
    "colab": {
      "provenance": []
    },
    "kernelspec": {
      "name": "python3",
      "display_name": "Python 3"
    },
    "language_info": {
      "name": "python"
    }
  },
  "cells": [
    {
      "cell_type": "markdown",
      "source": [
        "Mantıksal Operatörler(Hatırlama)"
      ],
      "metadata": {
        "id": "uJ_hbo9QuQca"
      }
    },
    {
      "cell_type": "code",
      "source": [
        "print(None or 1)  # False or True(1) -> 1"
      ],
      "metadata": {
        "colab": {
          "base_uri": "https://localhost:8080/"
        },
        "id": "WSURVZAWG0yo",
        "outputId": "4d47d5eb-9485-4982-a94f-d64372b4c8a1"
      },
      "execution_count": null,
      "outputs": [
        {
          "output_type": "stream",
          "name": "stdout",
          "text": [
            "1\n"
          ]
        }
      ]
    },
    {
      "cell_type": "code",
      "source": [
        "not False and True"
      ],
      "metadata": {
        "colab": {
          "base_uri": "https://localhost:8080/"
        },
        "id": "25bzoBh4Au6Z",
        "outputId": "da60a17e-dcee-4edc-8e20-70754a213ee4"
      },
      "execution_count": null,
      "outputs": [
        {
          "output_type": "execute_result",
          "data": {
            "text/plain": [
              "True"
            ]
          },
          "metadata": {},
          "execution_count": 23
        }
      ]
    },
    {
      "cell_type": "code",
      "source": [
        "bool(0.0)"
      ],
      "metadata": {
        "colab": {
          "base_uri": "https://localhost:8080/"
        },
        "id": "kQ1fMaaXCvoH",
        "outputId": "d13370c1-89d8-4b3a-e3d8-6cb2733dcb43"
      },
      "execution_count": null,
      "outputs": [
        {
          "output_type": "execute_result",
          "data": {
            "text/plain": [
              "False"
            ]
          },
          "metadata": {},
          "execution_count": 24
        }
      ]
    },
    {
      "cell_type": "code",
      "source": [
        "bool(\"ali\")"
      ],
      "metadata": {
        "colab": {
          "base_uri": "https://localhost:8080/"
        },
        "id": "TXvgdUEuCx_p",
        "outputId": "ef3276ff-978b-4670-db7f-72a8214bd0f1"
      },
      "execution_count": null,
      "outputs": [
        {
          "output_type": "execute_result",
          "data": {
            "text/plain": [
              "True"
            ]
          },
          "metadata": {},
          "execution_count": 25
        }
      ]
    },
    {
      "cell_type": "code",
      "source": [
        "9/2"
      ],
      "metadata": {
        "colab": {
          "base_uri": "https://localhost:8080/"
        },
        "id": "VjeK60Q4DOQb",
        "outputId": "06a11419-f13b-46d3-e279-7c4bc58affa0"
      },
      "execution_count": null,
      "outputs": [
        {
          "output_type": "execute_result",
          "data": {
            "text/plain": [
              "4.5"
            ]
          },
          "metadata": {},
          "execution_count": 29
        }
      ]
    },
    {
      "cell_type": "code",
      "source": [
        "9//2"
      ],
      "metadata": {
        "colab": {
          "base_uri": "https://localhost:8080/"
        },
        "id": "lyj_5GalDQlb",
        "outputId": "be87c059-12bf-4bb4-e688-8b7e948b1ac9"
      },
      "execution_count": null,
      "outputs": [
        {
          "output_type": "execute_result",
          "data": {
            "text/plain": [
              "4"
            ]
          },
          "metadata": {},
          "execution_count": 28
        }
      ]
    },
    {
      "cell_type": "code",
      "source": [
        "x = 10.0\n",
        "x and type(x) is float"
      ],
      "metadata": {
        "colab": {
          "base_uri": "https://localhost:8080/"
        },
        "id": "OWz7dWBtEmbd",
        "outputId": "e9f75042-710f-43b2-ec37-32065942e7f2"
      },
      "execution_count": null,
      "outputs": [
        {
          "output_type": "execute_result",
          "data": {
            "text/plain": [
              "True"
            ]
          },
          "metadata": {},
          "execution_count": 30
        }
      ]
    },
    {
      "cell_type": "code",
      "source": [
        "type(x)"
      ],
      "metadata": {
        "colab": {
          "base_uri": "https://localhost:8080/"
        },
        "id": "CYN9tNjDEsjG",
        "outputId": "ea9cd20e-9f1f-41dc-f3a6-5f87db9573b7"
      },
      "execution_count": null,
      "outputs": [
        {
          "output_type": "execute_result",
          "data": {
            "text/plain": [
              "float"
            ]
          },
          "metadata": {},
          "execution_count": 31
        }
      ]
    },
    {
      "cell_type": "code",
      "source": [
        "bool(None)"
      ],
      "metadata": {
        "colab": {
          "base_uri": "https://localhost:8080/"
        },
        "id": "2DNV5gvfE5kc",
        "outputId": "191f0a01-9bc4-4d41-825a-b3a1ec3aeb80"
      },
      "execution_count": null,
      "outputs": [
        {
          "output_type": "execute_result",
          "data": {
            "text/plain": [
              "False"
            ]
          },
          "metadata": {},
          "execution_count": 32
        }
      ]
    },
    {
      "cell_type": "code",
      "source": [
        "bool('None')"
      ],
      "metadata": {
        "colab": {
          "base_uri": "https://localhost:8080/"
        },
        "id": "7uaq1uxPE9CK",
        "outputId": "7d9d59ef-84d4-4749-98fb-da166f298f10"
      },
      "execution_count": null,
      "outputs": [
        {
          "output_type": "execute_result",
          "data": {
            "text/plain": [
              "True"
            ]
          },
          "metadata": {},
          "execution_count": 33
        }
      ]
    },
    {
      "cell_type": "code",
      "source": [
        "bool(\"  \")"
      ],
      "metadata": {
        "colab": {
          "base_uri": "https://localhost:8080/"
        },
        "id": "cJ0kEkZRE_kF",
        "outputId": "822ccc55-e076-4ff5-f34d-bafe4bd61d20"
      },
      "execution_count": null,
      "outputs": [
        {
          "output_type": "execute_result",
          "data": {
            "text/plain": [
              "True"
            ]
          },
          "metadata": {},
          "execution_count": 35
        }
      ]
    },
    {
      "cell_type": "code",
      "source": [
        "bool(\"\")"
      ],
      "metadata": {
        "colab": {
          "base_uri": "https://localhost:8080/"
        },
        "id": "ztAWF0pLFD0n",
        "outputId": "5bef2533-00ea-4b53-cc58-ae5c33612ad8"
      },
      "execution_count": null,
      "outputs": [
        {
          "output_type": "execute_result",
          "data": {
            "text/plain": [
              "False"
            ]
          },
          "metadata": {},
          "execution_count": 36
        }
      ]
    },
    {
      "cell_type": "markdown",
      "source": [
        "# String'ler"
      ],
      "metadata": {
        "id": "5Tf0B0sPuA_W"
      }
    },
    {
      "cell_type": "markdown",
      "source": [
        "1. index (indis)\n",
        "2. slicing (dilimleme)\n",
        "3. String formatting\n",
        "    4. \" \".format()\n",
        "    5. f\"-strings\"\n",
        "    6. % operators (%d %s %f)"
      ],
      "metadata": {
        "id": "FIzAOiIiALnQ"
      }
    },
    {
      "cell_type": "code",
      "source": [
        "# Bir değişkenin içeriğini string içerisinde göstermenin farklı yolları;\n",
        "# İstanbulu Fatih 1453 yılında fethetti.\n",
        "text = \"Fatih\" ; num = 1453\n",
        "print(\"İstanbulu\", text, num, \"yılında fethetti.\")                              # Klasik\n",
        "print(\"İstanbulu\"+ \" \" + text + \" \" + str(num) + \" \" + \"yılında fethetti.\")     # Java stili\n",
        "print(\"İstanbulu %s %d yılında fethetti.\" %(text, num))                         # C stili, python 2.x...\n",
        "print(\"İstanbulu {} {} yılında fethetti.\".format(text, num))                    # 3.0 sonrası\n",
        "print(\"İstanbulu {0} {1} yılında fethetti.\".format(text, num))\n",
        "print(f\"İstanbulu {text} {num} yılında fethetti.\")                              # 3.6 sonrası"
      ],
      "metadata": {
        "colab": {
          "base_uri": "https://localhost:8080/"
        },
        "id": "7xbE7UPshqSZ",
        "outputId": "8c19be35-9b35-4bb1-ea79-472a7ab42d74"
      },
      "execution_count": null,
      "outputs": [
        {
          "output_type": "stream",
          "name": "stdout",
          "text": [
            "İstanbulu Fatih 1453 yılında fethetti.\n",
            "İstanbulu Fatih 1453 yılında fethetti.\n",
            "İstanbulu Fatih 1453 yılında fethetti.\n",
            "İstanbulu Fatih 1453 yılında fethetti.\n",
            "İstanbulu Fatih 1453 yılında fethetti.\n",
            "İstanbulu Fatih 1453 yılında fethetti.\n"
          ]
        }
      ]
    },
    {
      "cell_type": "code",
      "source": [
        "text = \"Fatih\" ; num = 1453\n",
        "print(\"İstanbulu\", text, num, \"yılında fethetti.\")                              # Klasik\n",
        "print(\"İstanbulu\"+ \" \" + text + \" \" + str(num) + \" \" + \"yılında fethetti.\")     # Java stili"
      ],
      "metadata": {
        "colab": {
          "base_uri": "https://localhost:8080/"
        },
        "id": "gDHoncxgHlUc",
        "outputId": "a52b7a05-5865-46b0-fcd6-dae444dd9645"
      },
      "execution_count": null,
      "outputs": [
        {
          "output_type": "stream",
          "name": "stdout",
          "text": [
            "İstanbulu Fatih 1453 yılında fethetti.\n",
            "İstanbulu Fatih 1453 yılında fethetti.\n"
          ]
        }
      ]
    },
    {
      "cell_type": "code",
      "source": [
        "# string: Karakter dizisi(array gibi işleme tabi tutulur)"
      ],
      "metadata": {
        "id": "_Ne4704wO9MV"
      },
      "execution_count": null,
      "outputs": []
    },
    {
      "cell_type": "code",
      "source": [
        "\"\"\"\n",
        "                +---+---+---+---+---+---+\n",
        "                | P | y | t | h | o | n |\n",
        "                +---+---+---+---+---+---+\n",
        "Slice position: 0   1   2   3   4   5   6  [0:3]\n",
        "Index position:   0   1   2   3   4   5    [0]\n",
        "negatif index:   -6  -5  -4  -3  -2  -1\n",
        "\"\"\""
      ],
      "metadata": {
        "id": "jPzOsUDXP584"
      },
      "execution_count": null,
      "outputs": []
    },
    {
      "cell_type": "code",
      "source": [
        "fruit = 'Orange'\n",
        "#index : 012345\n",
        "print('Word                   : ' , fruit)\n",
        "print('First letter           : ' , fruit[0])\n",
        "print('Second letter          : ' , fruit[1])\n",
        "print(\"3rd to 5th letters     : \" , fruit[2:5])\n",
        "print(\"Letter all after 3rd   : \" , fruit[2:])\n"
      ],
      "metadata": {
        "colab": {
          "base_uri": "https://localhost:8080/"
        },
        "id": "Q_80m2KPJkhh",
        "outputId": "78f1fac4-5abf-4b81-c6da-4b90257c6b0c"
      },
      "execution_count": null,
      "outputs": [
        {
          "output_type": "stream",
          "name": "stdout",
          "text": [
            "Word                   :  Orange\n",
            "First letter           :  O\n",
            "Second letter          :  r\n",
            "3rd to 5th letters     :  ang\n",
            "Letter all after 3rd   :  ange\n"
          ]
        }
      ]
    },
    {
      "cell_type": "code",
      "source": [
        "text = \"Python\"\n",
        "text[0]         # 0. indisli karakter"
      ],
      "metadata": {
        "colab": {
          "base_uri": "https://localhost:8080/",
          "height": 35
        },
        "id": "AxW2bzHLPQuC",
        "outputId": "62725dbf-7b5f-44a4-e73e-766221932b0f"
      },
      "execution_count": null,
      "outputs": [
        {
          "output_type": "execute_result",
          "data": {
            "text/plain": [
              "'P'"
            ],
            "application/vnd.google.colaboratory.intrinsic+json": {
              "type": "string"
            }
          },
          "metadata": {},
          "execution_count": 40
        }
      ]
    },
    {
      "cell_type": "code",
      "source": [
        "text[-6]"
      ],
      "metadata": {
        "colab": {
          "base_uri": "https://localhost:8080/",
          "height": 35
        },
        "id": "PdAYOdKWM37Q",
        "outputId": "92acdd96-d0d6-4f78-d3b6-03ff7aca38bf"
      },
      "execution_count": null,
      "outputs": [
        {
          "output_type": "execute_result",
          "data": {
            "text/plain": [
              "'P'"
            ],
            "application/vnd.google.colaboratory.intrinsic+json": {
              "type": "string"
            }
          },
          "metadata": {},
          "execution_count": 41
        }
      ]
    },
    {
      "cell_type": "code",
      "source": [
        "# en son karaktere erişimin yolu\n",
        "text[-1]"
      ],
      "metadata": {
        "colab": {
          "base_uri": "https://localhost:8080/",
          "height": 35
        },
        "id": "Fl8npiqvM-Ok",
        "outputId": "e2d2c233-e95f-405d-b468-55cc41675602"
      },
      "execution_count": null,
      "outputs": [
        {
          "output_type": "execute_result",
          "data": {
            "text/plain": [
              "'n'"
            ],
            "application/vnd.google.colaboratory.intrinsic+json": {
              "type": "string"
            }
          },
          "metadata": {},
          "execution_count": 42
        }
      ]
    },
    {
      "cell_type": "code",
      "source": [
        "len(text)"
      ],
      "metadata": {
        "colab": {
          "base_uri": "https://localhost:8080/"
        },
        "id": "wbBVb1oRNJfm",
        "outputId": "af78278a-6c59-447f-a224-a5cd9b3fe9ad"
      },
      "execution_count": null,
      "outputs": [
        {
          "output_type": "execute_result",
          "data": {
            "text/plain": [
              "6"
            ]
          },
          "metadata": {},
          "execution_count": 43
        }
      ]
    },
    {
      "cell_type": "code",
      "source": [
        "text[len(text)-1]"
      ],
      "metadata": {
        "colab": {
          "base_uri": "https://localhost:8080/",
          "height": 35
        },
        "id": "4XvPW5mzNNMP",
        "outputId": "ac4877e5-5e36-4559-d71a-4dc16b5995d9"
      },
      "execution_count": null,
      "outputs": [
        {
          "output_type": "execute_result",
          "data": {
            "text/plain": [
              "'n'"
            ],
            "application/vnd.google.colaboratory.intrinsic+json": {
              "type": "string"
            }
          },
          "metadata": {},
          "execution_count": 46
        }
      ]
    },
    {
      "cell_type": "code",
      "source": [
        "# Slicing(dilimleme) işlemi [start:stop:step]\n",
        "# start dahil edilir, stop dahil edilmez ve step=1 kabul edilir"
      ],
      "metadata": {
        "id": "gA4DPeXNXl-_"
      },
      "execution_count": null,
      "outputs": []
    },
    {
      "cell_type": "code",
      "source": [
        "word = \"clarusway\"\n",
        "n = 3\n",
        "# n. indisli karakteri nasıl kaldırırım, silerim?\n",
        "word = word[:n] + word[n+1:]\n",
        "print(word)"
      ],
      "metadata": {
        "colab": {
          "base_uri": "https://localhost:8080/"
        },
        "id": "_6oMpjKRVwxH",
        "outputId": "09e82b3b-396c-4d12-8bbb-993048789dd7"
      },
      "execution_count": null,
      "outputs": [
        {
          "output_type": "stream",
          "name": "stdout",
          "text": [
            "clausway\n"
          ]
        }
      ]
    },
    {
      "cell_type": "code",
      "source": [
        "print(\"clar\\busway\")"
      ],
      "metadata": {
        "colab": {
          "base_uri": "https://localhost:8080/"
        },
        "id": "diwzB_G4Osm3",
        "outputId": "080b90f1-c911-4f32-982d-71ab0146ed7e"
      },
      "execution_count": null,
      "outputs": [
        {
          "output_type": "stream",
          "name": "stdout",
          "text": [
            "clar\busway\n"
          ]
        }
      ]
    },
    {
      "cell_type": "code",
      "source": [
        "city = 'Phoenix'\n",
        "\n",
        "print(city[1:])  # starts from index 1 to the end\n",
        "print(city[:6])  # starts from zero to 5th index\n",
        "print(city[::2])  # starts from zero to end by 2 step\n",
        "print(city[1::2])  # starts from index 1 to the end by 2 step\n",
        "print(city[-3:])  # starts from index -3 to the end\n",
        "print(city[::-1])  # negative step starts from the end to zero"
      ],
      "metadata": {
        "colab": {
          "base_uri": "https://localhost:8080/"
        },
        "id": "9J7WNnKUQKve",
        "outputId": "163b391a-1fa0-4a17-cc56-6b74a4bb83a2"
      },
      "execution_count": null,
      "outputs": [
        {
          "output_type": "stream",
          "name": "stdout",
          "text": [
            "hoenix\n",
            "Phoeni\n",
            "Ponx\n",
            "hei\n",
            "nix\n",
            "xineohP\n"
          ]
        }
      ]
    },
    {
      "cell_type": "code",
      "source": [
        "city[3:1:-1]"
      ],
      "metadata": {
        "colab": {
          "base_uri": "https://localhost:8080/",
          "height": 35
        },
        "id": "g32N_JRJQ5aW",
        "outputId": "7185a9f6-bc56-41d4-aafc-99e8a1410e1c"
      },
      "execution_count": null,
      "outputs": [
        {
          "output_type": "execute_result",
          "data": {
            "text/plain": [
              "'eo'"
            ],
            "application/vnd.google.colaboratory.intrinsic+json": {
              "type": "string"
            }
          },
          "metadata": {},
          "execution_count": 53
        }
      ]
    },
    {
      "cell_type": "code",
      "source": [
        "city[-4:-6:-1] # sağdan sola doğru ilerler"
      ],
      "metadata": {
        "colab": {
          "base_uri": "https://localhost:8080/",
          "height": 35
        },
        "id": "5ZplVnoLREpo",
        "outputId": "6c3acf34-5d6e-457a-fa98-08e7ebfcf8f8"
      },
      "execution_count": null,
      "outputs": [
        {
          "output_type": "execute_result",
          "data": {
            "text/plain": [
              "'eo'"
            ],
            "application/vnd.google.colaboratory.intrinsic+json": {
              "type": "string"
            }
          },
          "metadata": {},
          "execution_count": 54
        }
      ]
    },
    {
      "cell_type": "code",
      "source": [
        "city[-4:-6]  # soldan sağa ilerler"
      ],
      "metadata": {
        "colab": {
          "base_uri": "https://localhost:8080/",
          "height": 35
        },
        "id": "ElaCVtCHRLWU",
        "outputId": "f26e192e-3f2a-4708-c41a-9020305da62f"
      },
      "execution_count": null,
      "outputs": [
        {
          "output_type": "execute_result",
          "data": {
            "text/plain": [
              "''"
            ],
            "application/vnd.google.colaboratory.intrinsic+json": {
              "type": "string"
            }
          },
          "metadata": {},
          "execution_count": 57
        }
      ]
    },
    {
      "cell_type": "code",
      "source": [
        "# 'Berlin'[::-1] stringi ters çevirir\n",
        "'Berlin'[::-1]"
      ],
      "metadata": {
        "colab": {
          "base_uri": "https://localhost:8080/",
          "height": 35
        },
        "id": "xP7vUaxmQKdI",
        "outputId": "4b8e3007-94da-43b2-b7a6-454299426e68"
      },
      "execution_count": null,
      "outputs": [
        {
          "output_type": "execute_result",
          "data": {
            "text/plain": [
              "'nilreB'"
            ],
            "application/vnd.google.colaboratory.intrinsic+json": {
              "type": "string"
            }
          },
          "metadata": {},
          "execution_count": 50
        }
      ]
    },
    {
      "cell_type": "code",
      "source": [
        "animal = \"hippopotamus\"\n",
        "print(animal[1:])   # ippopotamus\n",
        "print(animal[:6])   # hippop\n",
        "print(animal[::2])  # hpooau\n",
        "print(animal[1:7:2])# ipp\n",
        "print(animal[-3:])  # mus\n",
        "print(animal[::-1]) # ters çevirir"
      ],
      "metadata": {
        "colab": {
          "base_uri": "https://localhost:8080/"
        },
        "id": "Cc0jg4AXTAqA",
        "outputId": "1a711ecb-410e-401f-8529-ee03fc6aa1f9"
      },
      "execution_count": null,
      "outputs": [
        {
          "output_type": "stream",
          "name": "stdout",
          "text": [
            "ippopotamus\n",
            "hippop\n",
            "hpooau\n",
            "ipp\n",
            "mus\n",
            "sumatopoppih\n"
          ]
        }
      ]
    },
    {
      "cell_type": "code",
      "source": [
        "# len() : bir stringin/listenin karakter/eleman sayısını döndürür\n",
        "meyve = \"tomato\"\n",
        "print(\"meyvenin karakter sayısı.: \", len(meyve))"
      ],
      "metadata": {
        "colab": {
          "base_uri": "https://localhost:8080/"
        },
        "id": "-wpRGcMOTAfS",
        "outputId": "c2a9b788-29b9-4bc7-de51-03900cfdb3ac"
      },
      "execution_count": null,
      "outputs": [
        {
          "output_type": "stream",
          "name": "stdout",
          "text": [
            "meyvenin karakter sayısı.:  6\n"
          ]
        }
      ]
    },
    {
      "cell_type": "code",
      "source": [
        "# bir web adresinin uzantısını nasıl öğrenirim?\n",
        "url = \"https://clarusway.com/about/test.csv\"\n",
        "url[-3:]  # son 3 karakteri al"
      ],
      "metadata": {
        "colab": {
          "base_uri": "https://localhost:8080/",
          "height": 35
        },
        "id": "ihAV1rEeQuUj",
        "outputId": "b94081e0-187c-4e5b-b1fa-bb0bea95a628"
      },
      "execution_count": null,
      "outputs": [
        {
          "output_type": "execute_result",
          "data": {
            "text/plain": [
              "'csv'"
            ],
            "application/vnd.google.colaboratory.intrinsic+json": {
              "type": "string"
            }
          },
          "metadata": {},
          "execution_count": 62
        }
      ]
    },
    {
      "cell_type": "code",
      "source": [
        "\"python\"[::-2]"
      ],
      "metadata": {
        "colab": {
          "base_uri": "https://localhost:8080/",
          "height": 35
        },
        "id": "H1_rbfHJUBoQ",
        "outputId": "312a9851-ae64-4442-c0b6-469d413dd7aa"
      },
      "execution_count": null,
      "outputs": [
        {
          "output_type": "execute_result",
          "data": {
            "text/plain": [
              "'nhy'"
            ],
            "application/vnd.google.colaboratory.intrinsic+json": {
              "type": "string"
            }
          },
          "metadata": {},
          "execution_count": 63
        }
      ]
    },
    {
      "cell_type": "code",
      "source": [
        "\"python\"[-6:5]"
      ],
      "metadata": {
        "colab": {
          "base_uri": "https://localhost:8080/",
          "height": 35
        },
        "id": "mx6VkQAFUNwh",
        "outputId": "a4b21698-6290-4b61-ff7e-2052ac4d1176"
      },
      "execution_count": null,
      "outputs": [
        {
          "output_type": "execute_result",
          "data": {
            "text/plain": [
              "'pytho'"
            ],
            "application/vnd.google.colaboratory.intrinsic+json": {
              "type": "string"
            }
          },
          "metadata": {},
          "execution_count": 64
        }
      ]
    },
    {
      "cell_type": "code",
      "source": [
        "\"python\"[0:5:-1]"
      ],
      "metadata": {
        "colab": {
          "base_uri": "https://localhost:8080/",
          "height": 35
        },
        "id": "ObOvA9N4UeOy",
        "outputId": "db0ede0f-dbbd-450f-8f18-6f2ecac817e2"
      },
      "execution_count": null,
      "outputs": [
        {
          "output_type": "execute_result",
          "data": {
            "text/plain": [
              "''"
            ],
            "application/vnd.google.colaboratory.intrinsic+json": {
              "type": "string"
            }
          },
          "metadata": {},
          "execution_count": 65
        }
      ]
    },
    {
      "cell_type": "code",
      "source": [
        "\"python\"[:5:-1]"
      ],
      "metadata": {
        "colab": {
          "base_uri": "https://localhost:8080/",
          "height": 35
        },
        "id": "AhpK3jbqUxAj",
        "outputId": "01e44813-fda4-4491-9a1e-59918d8faea1"
      },
      "execution_count": null,
      "outputs": [
        {
          "output_type": "execute_result",
          "data": {
            "text/plain": [
              "''"
            ],
            "application/vnd.google.colaboratory.intrinsic+json": {
              "type": "string"
            }
          },
          "metadata": {},
          "execution_count": 67
        }
      ]
    },
    {
      "cell_type": "code",
      "source": [
        "\"python\"[5::-1]"
      ],
      "metadata": {
        "colab": {
          "base_uri": "https://localhost:8080/",
          "height": 35
        },
        "id": "kvD3tvT-U0Au",
        "outputId": "407ee995-0805-4816-edac-3e8e4aae4fad"
      },
      "execution_count": null,
      "outputs": [
        {
          "output_type": "execute_result",
          "data": {
            "text/plain": [
              "'nohtyp'"
            ],
            "application/vnd.google.colaboratory.intrinsic+json": {
              "type": "string"
            }
          },
          "metadata": {},
          "execution_count": 68
        }
      ]
    },
    {
      "cell_type": "code",
      "source": [
        "\"python\"[5:0:-1]"
      ],
      "metadata": {
        "colab": {
          "base_uri": "https://localhost:8080/",
          "height": 35
        },
        "id": "wO6FRgJzU5DO",
        "outputId": "5014f6f9-ddc6-4cd6-9de3-945ce3f8eb29"
      },
      "execution_count": null,
      "outputs": [
        {
          "output_type": "execute_result",
          "data": {
            "text/plain": [
              "'nohty'"
            ],
            "application/vnd.google.colaboratory.intrinsic+json": {
              "type": "string"
            }
          },
          "metadata": {},
          "execution_count": 69
        }
      ]
    },
    {
      "cell_type": "markdown",
      "source": [
        "#String üzerinde aritmetik operatörleri kullanma"
      ],
      "metadata": {
        "id": "ZsqZn_t6VFIv"
      }
    },
    {
      "cell_type": "code",
      "source": [
        "\"ab\" + \"cd\"  # +: string birleştirme(concat..)"
      ],
      "metadata": {
        "colab": {
          "base_uri": "https://localhost:8080/",
          "height": 35
        },
        "id": "zoEo0ln1VKgR",
        "outputId": "5bb6ad09-2fff-4afe-ab0e-53c66e17ad20"
      },
      "execution_count": null,
      "outputs": [
        {
          "output_type": "execute_result",
          "data": {
            "text/plain": [
              "'abcd'"
            ],
            "application/vnd.google.colaboratory.intrinsic+json": {
              "type": "string"
            }
          },
          "metadata": {},
          "execution_count": 70
        }
      ]
    },
    {
      "cell_type": "code",
      "source": [
        "\"ab\"*3      # *: tekrarlama işlemi"
      ],
      "metadata": {
        "colab": {
          "base_uri": "https://localhost:8080/",
          "height": 35
        },
        "id": "TM11l0K5VRhX",
        "outputId": "ee75ba51-d033-43d4-acf9-7128416d6ebf"
      },
      "execution_count": null,
      "outputs": [
        {
          "output_type": "execute_result",
          "data": {
            "text/plain": [
              "'ababab'"
            ],
            "application/vnd.google.colaboratory.intrinsic+json": {
              "type": "string"
            }
          },
          "metadata": {},
          "execution_count": 71
        }
      ]
    },
    {
      "cell_type": "code",
      "source": [
        "print(\"ab\\n\" * 5)"
      ],
      "metadata": {
        "colab": {
          "base_uri": "https://localhost:8080/"
        },
        "id": "irus2SMEV8EV",
        "outputId": "fa4b0eaf-8e90-4ab1-a25e-a1fd78f11fdc"
      },
      "execution_count": null,
      "outputs": [
        {
          "output_type": "stream",
          "name": "stdout",
          "text": [
            "ab\n",
            "ab\n",
            "ab\n",
            "ab\n",
            "ab\n",
            "\n"
          ]
        }
      ]
    },
    {
      "cell_type": "code",
      "source": [
        "# konsol adımızı alalım, 5 kez alt alta yazdıralım (döngüsüz)\n",
        "ad = input(\"Adınız..: \")\n",
        "print((ad +\"\\n\")*5)"
      ],
      "metadata": {
        "colab": {
          "base_uri": "https://localhost:8080/"
        },
        "id": "-Oy-F5sxVZ5w",
        "outputId": "6373da7d-a6b4-453c-db13-2ec1d56e1801"
      },
      "execution_count": null,
      "outputs": [
        {
          "output_type": "stream",
          "name": "stdout",
          "text": [
            "Adınız..: ali\n",
            "ali\n",
            "ali\n",
            "ali\n",
            "ali\n",
            "ali\n",
            "\n"
          ]
        }
      ]
    },
    {
      "cell_type": "code",
      "source": [
        "str_one = 'upper'\n",
        "str_two = 'case'\n",
        "str_comb = str_one + str_two\n",
        "print('upper' + 'case')\n",
        "print(str_one + str_two)\n",
        "print(str_comb)"
      ],
      "metadata": {
        "colab": {
          "base_uri": "https://localhost:8080/"
        },
        "id": "KzcKDw7aZRqg",
        "outputId": "65ebe495-4ec5-4aaf-fa3a-8a4d4ccd1085"
      },
      "execution_count": null,
      "outputs": [
        {
          "output_type": "stream",
          "name": "stdout",
          "text": [
            "uppercase\n",
            "uppercase\n",
            "uppercase\n"
          ]
        }
      ]
    },
    {
      "cell_type": "code",
      "source": [
        "str_one = 'upper'\n",
        "str_two = 3 * 'upper'\n",
        "str_comb = 3 * str_one\n",
        "print(str_two)\n",
        "print(str_comb)\n",
        "print(* str_one)"
      ],
      "metadata": {
        "colab": {
          "base_uri": "https://localhost:8080/"
        },
        "id": "BURqnAuZaIpe",
        "outputId": "7f0325fc-7fce-4a69-dede-e87af19c411f"
      },
      "execution_count": null,
      "outputs": [
        {
          "output_type": "stream",
          "name": "stdout",
          "text": [
            "upperupperupper\n",
            "upperupperupper\n",
            "u p p e r\n"
          ]
        }
      ]
    },
    {
      "cell_type": "code",
      "source": [
        "str_one = 'upper'\n",
        "print(* str_one, sep = \"--\")"
      ],
      "metadata": {
        "colab": {
          "base_uri": "https://localhost:8080/"
        },
        "id": "D4hk4hBNaKW7",
        "outputId": "52e240e8-d12f-4d22-8a16-b3a118d8aaf9"
      },
      "execution_count": null,
      "outputs": [
        {
          "output_type": "stream",
          "name": "stdout",
          "text": [
            "u--p--p--e--r\n"
          ]
        }
      ]
    },
    {
      "cell_type": "code",
      "source": [
        "str_one = 'upper'\n",
        "str_one += 'case'\n",
        "print(str_one)\n",
        "str_one += 'letter'\n",
        "print(str_one)\n",
        "str_one += 'end'\n",
        "print(str_one)"
      ],
      "metadata": {
        "colab": {
          "base_uri": "https://localhost:8080/"
        },
        "id": "J7odGRx2arWA",
        "outputId": "3a7c43e0-6781-4650-ee85-f1cddfab1b58"
      },
      "execution_count": null,
      "outputs": [
        {
          "output_type": "stream",
          "name": "stdout",
          "text": [
            "uppercase\n",
            "uppercaseletter\n",
            "uppercaseletterend\n"
          ]
        }
      ]
    },
    {
      "cell_type": "code",
      "source": [
        "* \"upper\""
      ],
      "metadata": {
        "colab": {
          "base_uri": "https://localhost:8080/",
          "height": 145
        },
        "id": "K-faIiaba3ai",
        "outputId": "5d082ad6-7eab-4415-8edc-3845bd6ded70"
      },
      "execution_count": null,
      "outputs": [
        {
          "output_type": "error",
          "ename": "SyntaxError",
          "evalue": "ignored",
          "traceback": [
            "\u001b[0;36m  File \u001b[0;32m\"<ipython-input-84-11811c8edd89>\"\u001b[0;36m, line \u001b[0;32m1\u001b[0m\n\u001b[0;31m    * \"upper\"\u001b[0m\n\u001b[0m    ^\u001b[0m\n\u001b[0;31mSyntaxError\u001b[0m\u001b[0;31m:\u001b[0m can't use starred expression here\n"
          ]
        }
      ]
    },
    {
      "cell_type": "code",
      "source": [
        "print(* \"upper\")  # ayndaki görüntüyü etkiler"
      ],
      "metadata": {
        "colab": {
          "base_uri": "https://localhost:8080/"
        },
        "id": "qAMen3h4a6tY",
        "outputId": "32686cf1-8972-4224-fd3f-393494ec9c1c"
      },
      "execution_count": null,
      "outputs": [
        {
          "output_type": "stream",
          "name": "stdout",
          "text": [
            "u p p e r\n"
          ]
        }
      ]
    },
    {
      "cell_type": "markdown",
      "source": [
        "# String formating"
      ],
      "metadata": {
        "id": "CUbNQ2MlvHZt"
      }
    },
    {
      "cell_type": "code",
      "source": [
        "# %s (string), %d (integer) %f (float)\n",
        "a = \"ali\"\n",
        "b = 3\n",
        "c = 3.24\n",
        "print(\"%s %d %f\" %(a,b,c))"
      ],
      "metadata": {
        "colab": {
          "base_uri": "https://localhost:8080/"
        },
        "id": "rX0HW7ZnbWnk",
        "outputId": "e0d978fc-ed65-4883-a1c7-cf48f2381a97"
      },
      "execution_count": null,
      "outputs": [
        {
          "output_type": "stream",
          "name": "stdout",
          "text": [
            "ali 3 3.240000\n"
          ]
        }
      ]
    },
    {
      "cell_type": "code",
      "source": [
        "a = \"ali\"\n",
        "b = 3\n",
        "c = 3.24\n",
        "print(\"%s %d %f\" %(c, b, a))"
      ],
      "metadata": {
        "colab": {
          "base_uri": "https://localhost:8080/",
          "height": 216
        },
        "id": "1WWBN9iubslm",
        "outputId": "c4474c32-6ec8-45bd-df7b-edfbd67c509c"
      },
      "execution_count": null,
      "outputs": [
        {
          "output_type": "error",
          "ename": "TypeError",
          "evalue": "ignored",
          "traceback": [
            "\u001b[0;31m---------------------------------------------------------------------------\u001b[0m",
            "\u001b[0;31mTypeError\u001b[0m                                 Traceback (most recent call last)",
            "\u001b[0;32m<ipython-input-86-672a62f68fe1>\u001b[0m in \u001b[0;36m<cell line: 4>\u001b[0;34m()\u001b[0m\n\u001b[1;32m      2\u001b[0m \u001b[0mb\u001b[0m \u001b[0;34m=\u001b[0m \u001b[0;36m3\u001b[0m\u001b[0;34m\u001b[0m\u001b[0;34m\u001b[0m\u001b[0m\n\u001b[1;32m      3\u001b[0m \u001b[0mc\u001b[0m \u001b[0;34m=\u001b[0m \u001b[0;36m3.24\u001b[0m\u001b[0;34m\u001b[0m\u001b[0;34m\u001b[0m\u001b[0m\n\u001b[0;32m----> 4\u001b[0;31m \u001b[0mprint\u001b[0m\u001b[0;34m(\u001b[0m\u001b[0;34m\"%s %d %f\"\u001b[0m \u001b[0;34m%\u001b[0m\u001b[0;34m(\u001b[0m\u001b[0mc\u001b[0m\u001b[0;34m,\u001b[0m \u001b[0mb\u001b[0m\u001b[0;34m,\u001b[0m \u001b[0ma\u001b[0m\u001b[0;34m)\u001b[0m\u001b[0;34m)\u001b[0m\u001b[0;34m\u001b[0m\u001b[0;34m\u001b[0m\u001b[0m\n\u001b[0m",
            "\u001b[0;31mTypeError\u001b[0m: must be real number, not str"
          ]
        }
      ]
    },
    {
      "cell_type": "code",
      "source": [
        "phrase1 = 'There are 3 %s in the game room'\n",
        "phrase2 = 'There is only a %.5s here'\n",
        "print(phrase1 % 'children')\n",
        "print(phrase2 % 'children')\n",
        "print('There is only a %.5s here' % 'children')\n",
        "print('1 %s 2 %s 6 %s' % ('one', 'two', 'six'))"
      ],
      "metadata": {
        "colab": {
          "base_uri": "https://localhost:8080/"
        },
        "id": "fyB_R3-VcUff",
        "outputId": "6186c944-dc7f-4b75-d3e7-8bfb8aa1c605"
      },
      "execution_count": null,
      "outputs": [
        {
          "output_type": "stream",
          "name": "stdout",
          "text": [
            "There are 3 children in the game room\n",
            "There is only a child here\n",
            "There is only a child here\n",
            "1 one 2 two 6 six\n"
          ]
        }
      ]
    },
    {
      "cell_type": "code",
      "source": [
        "print('1 %s 2 %s 6 %s', % ('one', 'two', 'six'))"
      ],
      "metadata": {
        "colab": {
          "base_uri": "https://localhost:8080/",
          "height": 145
        },
        "id": "8KRRPrwkc0Xl",
        "outputId": "ffa0d049-0b2d-4bd2-b5e6-1ccd39802736"
      },
      "execution_count": null,
      "outputs": [
        {
          "output_type": "error",
          "ename": "SyntaxError",
          "evalue": "ignored",
          "traceback": [
            "\u001b[0;36m  File \u001b[0;32m\"<ipython-input-89-b0df8fcbfb2c>\"\u001b[0;36m, line \u001b[0;32m1\u001b[0m\n\u001b[0;31m    print('1 %s 2 %s 6 %s', % ('one', 'two', 'six'))\u001b[0m\n\u001b[0m                            ^\u001b[0m\n\u001b[0;31mSyntaxError\u001b[0m\u001b[0;31m:\u001b[0m invalid syntax\n"
          ]
        }
      ]
    },
    {
      "cell_type": "code",
      "source": [
        "print('1 %s 2 %s 6 %s' %.('one', 'two', 'six'))"
      ],
      "metadata": {
        "colab": {
          "base_uri": "https://localhost:8080/",
          "height": 145
        },
        "id": "3o4zy9Xcc2mo",
        "outputId": "f235b6e7-2714-4226-92e0-373f5b5a408f"
      },
      "execution_count": null,
      "outputs": [
        {
          "output_type": "error",
          "ename": "SyntaxError",
          "evalue": "ignored",
          "traceback": [
            "\u001b[0;36m  File \u001b[0;32m\"<ipython-input-90-1b4f823520ce>\"\u001b[0;36m, line \u001b[0;32m1\u001b[0m\n\u001b[0;31m    print('1 %s 2 %s 6 %s' %.('one', 'two', 'six'))\u001b[0m\n\u001b[0m                            ^\u001b[0m\n\u001b[0;31mSyntaxError\u001b[0m\u001b[0;31m:\u001b[0m invalid syntax\n"
          ]
        }
      ]
    },
    {
      "cell_type": "code",
      "source": [
        "phrase1 = 'There are %d child and %d cats here'\n",
        "phrase2 = (1, 3)\n",
        "print(phrase1 % phrase2)\n",
        "print(phrase1 % (1, 3))\n",
        "print('There are %d child and %d cats here' % (1, 3))"
      ],
      "metadata": {
        "colab": {
          "base_uri": "https://localhost:8080/"
        },
        "id": "fJ2DQtC9dbIV",
        "outputId": "a2d2af3c-494e-4568-d3a7-12ddcbd25017"
      },
      "execution_count": null,
      "outputs": [
        {
          "output_type": "stream",
          "name": "stdout",
          "text": [
            "There are 1 child and 3 cats here\n",
            "There are 1 child and 3 cats here\n",
            "There are 1 child and 3 cats here\n"
          ]
        }
      ]
    },
    {
      "cell_type": "code",
      "source": [
        "num1 = 1\n",
        "num2 = 3\n",
        "print('There are %d child and %d cats here' % (num2, num1))"
      ],
      "metadata": {
        "colab": {
          "base_uri": "https://localhost:8080/"
        },
        "id": "P7Bxkxyjdggs",
        "outputId": "c41284dd-271d-4fd6-fb9a-a4e9cb416a5b"
      },
      "execution_count": null,
      "outputs": [
        {
          "output_type": "stream",
          "name": "stdout",
          "text": [
            "There are 3 child and 1 cats here\n"
          ]
        }
      ]
    },
    {
      "cell_type": "code",
      "source": [
        "my_text = \"I have %d$ and I bought %s for my %s.\" % (22, \"milk\", \"cat\")\n",
        "print(my_text)"
      ],
      "metadata": {
        "colab": {
          "base_uri": "https://localhost:8080/"
        },
        "id": "LZfPyjMkeKJO",
        "outputId": "3041abf9-09f8-42ac-9953-51221a295bf0"
      },
      "execution_count": null,
      "outputs": [
        {
          "output_type": "stream",
          "name": "stdout",
          "text": [
            "I have 22$ and I bought milk for my cat.\n"
          ]
        }
      ]
    },
    {
      "cell_type": "code",
      "source": [
        "a = 22\n",
        "b = 'milk'\n",
        "c = 'cat'\n",
        "print(\"I have %d$ and I bought %s for my %s.\" %(a,b,c))"
      ],
      "metadata": {
        "colab": {
          "base_uri": "https://localhost:8080/"
        },
        "id": "iR22IFQEehV_",
        "outputId": "07e0ad60-58d3-4af2-d2d1-09dea70187c4"
      },
      "execution_count": null,
      "outputs": [
        {
          "output_type": "stream",
          "name": "stdout",
          "text": [
            "I have 22$ and I bought milk for my cat.\n"
          ]
        }
      ]
    },
    {
      "cell_type": "code",
      "source": [
        "a = \"22$\"\n",
        "b = 'milk'\n",
        "c = 'cat'\n",
        "print(\"I have %s and I bought %s for my %s.\" %(a,b,c))"
      ],
      "metadata": {
        "colab": {
          "base_uri": "https://localhost:8080/"
        },
        "id": "TVfxn_ede2HY",
        "outputId": "ce1e162e-eb83-4d5f-c4a1-57a561afc330"
      },
      "execution_count": null,
      "outputs": [
        {
          "output_type": "stream",
          "name": "stdout",
          "text": [
            "I have 22$ and I bought milk for my cat.\n"
          ]
        }
      ]
    },
    {
      "cell_type": "code",
      "source": [
        "phrase1 = 'The pi constant is %.2f'\n",
        "phrase2 = 'The pi constant is %.4f'\n",
        "number = 3.14159\n",
        "print(phrase1 % number)\n",
        "print(phrase2 % number)\n",
        "print('More accurate value of pi is %.5f' % 3.14159)"
      ],
      "metadata": {
        "colab": {
          "base_uri": "https://localhost:8080/"
        },
        "id": "TzYy0v0RfVmF",
        "outputId": "7273d646-3843-4221-e515-c1f153e58bf7"
      },
      "execution_count": null,
      "outputs": [
        {
          "output_type": "stream",
          "name": "stdout",
          "text": [
            "The pi constant is 3.14\n",
            "The pi constant is 3.1416\n",
            "More accurate value of pi is 3.14159\n"
          ]
        }
      ]
    },
    {
      "cell_type": "code",
      "source": [
        "phrase = 'I have %d %s and it weigh %.2f kg each' % (2, 'cats', 1.5)\n",
        "print(phrase)"
      ],
      "metadata": {
        "colab": {
          "base_uri": "https://localhost:8080/"
        },
        "id": "NIkZU-A7ft-D",
        "outputId": "c719a71b-afcb-43ab-b45d-edb0b366a77d"
      },
      "execution_count": null,
      "outputs": [
        {
          "output_type": "stream",
          "name": "stdout",
          "text": [
            "I have 2 cats and it weigh 1.50 kg each\n"
          ]
        }
      ]
    },
    {
      "cell_type": "code",
      "source": [
        "fruit = \"Orange\"\n",
        "amount = 4\n",
        "print(\"Benim favori meyvem {} ve {} kg aldım.\".format(fruit, amount))"
      ],
      "metadata": {
        "colab": {
          "base_uri": "https://localhost:8080/"
        },
        "id": "XXuIwE9mgXDa",
        "outputId": "7668438c-1e63-426d-a112-9fe89a200813"
      },
      "execution_count": null,
      "outputs": [
        {
          "output_type": "stream",
          "name": "stdout",
          "text": [
            "Benim favori meyvem Orange ve 4 kg aldım.\n"
          ]
        }
      ]
    },
    {
      "cell_type": "code",
      "source": [
        "fruit = \"Orange\"\n",
        "amount = 4\n",
        "print(\"Benim favori meyvem {0} ve {1} kg aldım.\".format(fruit, amount))"
      ],
      "metadata": {
        "colab": {
          "base_uri": "https://localhost:8080/"
        },
        "id": "HF7lMFIJgpSZ",
        "outputId": "eb1ff68b-b56d-4629-f356-fb36e2700ad4"
      },
      "execution_count": null,
      "outputs": [
        {
          "output_type": "stream",
          "name": "stdout",
          "text": [
            "Benim favori meyvem Orange ve 4 kg aldım.\n"
          ]
        }
      ]
    },
    {
      "cell_type": "code",
      "source": [
        "fruit = \"Orange\"\n",
        "amount = 4\n",
        "print(\"Benim favori meyvem {1} ve {0} kg aldım.\".format(fruit, amount))"
      ],
      "metadata": {
        "colab": {
          "base_uri": "https://localhost:8080/"
        },
        "id": "oKydkEB_gsAr",
        "outputId": "15c2c277-7974-4aad-ddbb-2ea597e20517"
      },
      "execution_count": null,
      "outputs": [
        {
          "output_type": "stream",
          "name": "stdout",
          "text": [
            "Benim favori meyvem 4 ve Orange kg aldım.\n"
          ]
        }
      ]
    },
    {
      "cell_type": "markdown",
      "source": [
        "![image.png](data:image/png;base64,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)"
      ],
      "metadata": {
        "id": "DXOtAB6f1gga"
      }
    },
    {
      "cell_type": "code",
      "source": [
        "print('{0} {1} cost ${2}'.format(6, 'bananas', 1.74))"
      ],
      "metadata": {
        "colab": {
          "base_uri": "https://localhost:8080/"
        },
        "id": "SoGl4anp1lbD",
        "outputId": "24161ac2-a11e-45c8-ed0d-0c79a0e9d935"
      },
      "execution_count": null,
      "outputs": [
        {
          "output_type": "stream",
          "name": "stdout",
          "text": [
            "6 bananas cost $1.74\n"
          ]
        }
      ]
    },
    {
      "cell_type": "markdown",
      "source": [
        "![image.png](data:image/png;base64,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)"
      ],
      "metadata": {
        "id": "4cK56lGi1u63"
      }
    },
    {
      "cell_type": "code",
      "source": [
        "print('{amount} {item} cost ${price}'.format(amount=6, item='bananas', price=1.74))"
      ],
      "metadata": {
        "colab": {
          "base_uri": "https://localhost:8080/"
        },
        "id": "sH-NXmdVhDmT",
        "outputId": "0ac2599f-0ad3-4a92-ac9e-fd32efb60c9d"
      },
      "execution_count": null,
      "outputs": [
        {
          "output_type": "stream",
          "name": "stdout",
          "text": [
            "6 bananas cost $1.74\n"
          ]
        }
      ]
    },
    {
      "cell_type": "code",
      "source": [
        "print(\"{ulke}nin en kalabalık şehri {sehir}dır.\".format(ulke=\"Türkiye\", sehir = \"Ankara\"))"
      ],
      "metadata": {
        "colab": {
          "base_uri": "https://localhost:8080/"
        },
        "id": "mKrBzT97hdKZ",
        "outputId": "5bf9e48e-a167-4f61-aea7-e16d3c868e29"
      },
      "execution_count": null,
      "outputs": [
        {
          "output_type": "stream",
          "name": "stdout",
          "text": [
            "Türkiyenin en kalabalık şehri Ankaradır.\n"
          ]
        }
      ]
    },
    {
      "cell_type": "code",
      "source": [
        "print(\"{ulke}nin en kalabalık şehri {sehir}dır. Nüfusu {nufus}\".format(ulke=\"Türkiye\", sehir = \"Ankara\", nufus = 90000))"
      ],
      "metadata": {
        "colab": {
          "base_uri": "https://localhost:8080/"
        },
        "id": "jTIiPKBPh8VV",
        "outputId": "673bb27f-38c7-42ec-d0c4-aa8209155f6a"
      },
      "execution_count": null,
      "outputs": [
        {
          "output_type": "stream",
          "name": "stdout",
          "text": [
            "Türkiyenin en kalabalık şehri Ankaradır. Nüfusu 90000\n"
          ]
        }
      ]
    },
    {
      "cell_type": "code",
      "source": [
        "print(\"{}nin en kalabalık şehri {sehir}dır. Nüfusu {nufus}\".format(\"Türkiye\", sehir = \"Ankara\", nufus = 90000))"
      ],
      "metadata": {
        "colab": {
          "base_uri": "https://localhost:8080/"
        },
        "id": "tfjUnmX-iUDp",
        "outputId": "5840e06e-c616-4236-e98c-bca729ca9cc3"
      },
      "execution_count": null,
      "outputs": [
        {
          "output_type": "stream",
          "name": "stdout",
          "text": [
            "Türkiyenin en kalabalık şehri Ankaradır. Nüfusu 90000\n"
          ]
        }
      ]
    },
    {
      "cell_type": "code",
      "source": [
        "print(\"{ulke}nin en kalabalık şehri {sehir}dır. Nüfusu {}\".format(ulke=\"Türkiye\", sehir = \"Ankara\", 90000))\n",
        "# positional argümanlar keyword argümanlardan sonra gelmez...."
      ],
      "metadata": {
        "id": "4NzKvBzUidLz"
      },
      "execution_count": null,
      "outputs": []
    },
    {
      "cell_type": "code",
      "source": [
        "print('{0} is the most {adjective} state of the {country}'.format('California', country='USA', adjective='crowded'))"
      ],
      "metadata": {
        "colab": {
          "base_uri": "https://localhost:8080/"
        },
        "id": "Dfo4BfQFkxPb",
        "outputId": "2a03d77f-ad50-42f7-e005-b3973dec047e"
      },
      "execution_count": 110,
      "outputs": [
        {
          "output_type": "stream",
          "name": "stdout",
          "text": [
            "California is the most crowded state of the USA\n"
          ]
        }
      ]
    },
    {
      "cell_type": "code",
      "source": [
        "print('{0} is the most {adjective} state of the {country}'.format('Istanbul', country='Turkey', adjective='crowded'))"
      ],
      "metadata": {
        "colab": {
          "base_uri": "https://localhost:8080/"
        },
        "id": "qBewSQrrllBc",
        "outputId": "e83a3bb9-e430-4f41-dbbb-97635f324dce"
      },
      "execution_count": 111,
      "outputs": [
        {
          "output_type": "stream",
          "name": "stdout",
          "text": [
            "Istanbul is the most crowded state of the Turkey\n"
          ]
        }
      ]
    },
    {
      "cell_type": "code",
      "source": [
        "'{}/{}/{}'.format('05', '12', '2023')  # positional arguman"
      ],
      "metadata": {
        "id": "VjsXP0Fh14eZ",
        "colab": {
          "base_uri": "https://localhost:8080/",
          "height": 35
        },
        "outputId": "59255091-c834-4335-eb4b-4b131f034f9b"
      },
      "execution_count": 112,
      "outputs": [
        {
          "output_type": "execute_result",
          "data": {
            "text/plain": [
              "'05/12/2023'"
            ],
            "application/vnd.google.colaboratory.intrinsic+json": {
              "type": "string"
            }
          },
          "metadata": {},
          "execution_count": 112
        }
      ]
    },
    {
      "cell_type": "code",
      "source": [
        "'{0}/{1}/{2}'.format('05', '12', '2023')  # positional arguman"
      ],
      "metadata": {
        "colab": {
          "base_uri": "https://localhost:8080/",
          "height": 35
        },
        "id": "vd4EdBWMl3i6",
        "outputId": "81b0718b-d986-4b8c-abde-811bdddd8e48"
      },
      "execution_count": 114,
      "outputs": [
        {
          "output_type": "execute_result",
          "data": {
            "text/plain": [
              "'05/12/2023'"
            ],
            "application/vnd.google.colaboratory.intrinsic+json": {
              "type": "string"
            }
          },
          "metadata": {},
          "execution_count": 114
        }
      ]
    },
    {
      "cell_type": "code",
      "source": [
        "'{2}/{1}/{0}'.format('05', '12', '2023')  # positional arguman"
      ],
      "metadata": {
        "colab": {
          "base_uri": "https://localhost:8080/",
          "height": 35
        },
        "id": "ElASvadul6gn",
        "outputId": "badd214f-e20d-4aa2-8d89-3ff661c42588"
      },
      "execution_count": 115,
      "outputs": [
        {
          "output_type": "execute_result",
          "data": {
            "text/plain": [
              "'2023/12/05'"
            ],
            "application/vnd.google.colaboratory.intrinsic+json": {
              "type": "string"
            }
          },
          "metadata": {},
          "execution_count": 115
        }
      ]
    },
    {
      "cell_type": "code",
      "source": [
        "'{1}/{0}/{2}'.format('05', '12', '2023')  # positional arguman"
      ],
      "metadata": {
        "colab": {
          "base_uri": "https://localhost:8080/",
          "height": 35
        },
        "id": "okSNei8smBx1",
        "outputId": "5e4548f5-135f-4c00-9e36-a1d3a4aca87d"
      },
      "execution_count": 116,
      "outputs": [
        {
          "output_type": "execute_result",
          "data": {
            "text/plain": [
              "'12/05/2023'"
            ],
            "application/vnd.google.colaboratory.intrinsic+json": {
              "type": "string"
            }
          },
          "metadata": {},
          "execution_count": 116
        }
      ]
    },
    {
      "cell_type": "code",
      "source": [
        "'{gun}/{ay}/{yil}'.format(gun='05', ay='12', yil='2023') #keyword arguman"
      ],
      "metadata": {
        "id": "uUyKAXFX2BOH",
        "colab": {
          "base_uri": "https://localhost:8080/",
          "height": 35
        },
        "outputId": "f034af64-9187-4ebf-ef80-55b60b938323"
      },
      "execution_count": 117,
      "outputs": [
        {
          "output_type": "execute_result",
          "data": {
            "text/plain": [
              "'05/12/2023'"
            ],
            "application/vnd.google.colaboratory.intrinsic+json": {
              "type": "string"
            }
          },
          "metadata": {},
          "execution_count": 117
        }
      ]
    },
    {
      "cell_type": "code",
      "source": [
        "print(\"{6} {0} {5} {3} {4} {1} {2}\".format('have', 6, 'months', 'a job', 'in', 'found', 'I will'))"
      ],
      "metadata": {
        "colab": {
          "base_uri": "https://localhost:8080/"
        },
        "id": "zBuvHynQmjWA",
        "outputId": "1da736fd-3358-4ed2-c6a4-6b10605d0ad1"
      },
      "execution_count": 118,
      "outputs": [
        {
          "output_type": "stream",
          "name": "stdout",
          "text": [
            "I will have found a job in 6 months\n"
          ]
        }
      ]
    },
    {
      "cell_type": "code",
      "source": [
        "#generosity wins in all circumtances\n",
        "morality = \"generosity\"\n",
        "condition = \"circumtances\"\n",
        "print('{morality} {1} {0} {condition}'.format(\"in all\", \"wins\"))"
      ],
      "metadata": {
        "colab": {
          "base_uri": "https://localhost:8080/",
          "height": 216
        },
        "id": "nyW8dDstnKW1",
        "outputId": "9afba0f4-9fe6-4053-ed59-da04dba66230"
      },
      "execution_count": 121,
      "outputs": [
        {
          "output_type": "error",
          "ename": "KeyError",
          "evalue": "ignored",
          "traceback": [
            "\u001b[0;31m---------------------------------------------------------------------------\u001b[0m",
            "\u001b[0;31mKeyError\u001b[0m                                  Traceback (most recent call last)",
            "\u001b[0;32m<ipython-input-121-5f01b14d1706>\u001b[0m in \u001b[0;36m<cell line: 4>\u001b[0;34m()\u001b[0m\n\u001b[1;32m      2\u001b[0m \u001b[0mmorality\u001b[0m \u001b[0;34m=\u001b[0m \u001b[0;34m\"generosity\"\u001b[0m\u001b[0;34m\u001b[0m\u001b[0;34m\u001b[0m\u001b[0m\n\u001b[1;32m      3\u001b[0m \u001b[0mcondition\u001b[0m \u001b[0;34m=\u001b[0m \u001b[0;34m\"circumtances\"\u001b[0m\u001b[0;34m\u001b[0m\u001b[0;34m\u001b[0m\u001b[0m\n\u001b[0;32m----> 4\u001b[0;31m \u001b[0mprint\u001b[0m\u001b[0;34m(\u001b[0m\u001b[0;34m'{morality} {1} {0} {condition}'\u001b[0m\u001b[0;34m.\u001b[0m\u001b[0mformat\u001b[0m\u001b[0;34m(\u001b[0m\u001b[0;34m\"in all\"\u001b[0m\u001b[0;34m,\u001b[0m \u001b[0;34m\"wins\"\u001b[0m\u001b[0;34m)\u001b[0m\u001b[0;34m)\u001b[0m\u001b[0;34m\u001b[0m\u001b[0;34m\u001b[0m\u001b[0m\n\u001b[0m",
            "\u001b[0;31mKeyError\u001b[0m: 'morality'"
          ]
        }
      ]
    },
    {
      "cell_type": "code",
      "source": [
        "#generosity wins in all circumtances\n",
        "morality = \"generosity\"\n",
        "condition = \"circumtances\"\n",
        "print('{morality} {1} {0} {condition}'.format(morality, \"in all\", \"wins\", condition))"
      ],
      "metadata": {
        "colab": {
          "base_uri": "https://localhost:8080/",
          "height": 216
        },
        "id": "y26n7xBfoYXU",
        "outputId": "29f778c3-59bb-4e0d-ab8e-9ef68a04010f"
      },
      "execution_count": 122,
      "outputs": [
        {
          "output_type": "error",
          "ename": "KeyError",
          "evalue": "ignored",
          "traceback": [
            "\u001b[0;31m---------------------------------------------------------------------------\u001b[0m",
            "\u001b[0;31mKeyError\u001b[0m                                  Traceback (most recent call last)",
            "\u001b[0;32m<ipython-input-122-34dbe897f431>\u001b[0m in \u001b[0;36m<cell line: 4>\u001b[0;34m()\u001b[0m\n\u001b[1;32m      2\u001b[0m \u001b[0mmorality\u001b[0m \u001b[0;34m=\u001b[0m \u001b[0;34m\"generosity\"\u001b[0m\u001b[0;34m\u001b[0m\u001b[0;34m\u001b[0m\u001b[0m\n\u001b[1;32m      3\u001b[0m \u001b[0mcondition\u001b[0m \u001b[0;34m=\u001b[0m \u001b[0;34m\"circumtances\"\u001b[0m\u001b[0;34m\u001b[0m\u001b[0;34m\u001b[0m\u001b[0m\n\u001b[0;32m----> 4\u001b[0;31m \u001b[0mprint\u001b[0m\u001b[0;34m(\u001b[0m\u001b[0;34m'{morality} {1} {0} {condition}'\u001b[0m\u001b[0;34m.\u001b[0m\u001b[0mformat\u001b[0m\u001b[0;34m(\u001b[0m\u001b[0mmorality\u001b[0m\u001b[0;34m,\u001b[0m \u001b[0;34m\"in all\"\u001b[0m\u001b[0;34m,\u001b[0m \u001b[0;34m\"wins\"\u001b[0m\u001b[0;34m,\u001b[0m \u001b[0mcondition\u001b[0m\u001b[0;34m)\u001b[0m\u001b[0;34m)\u001b[0m\u001b[0;34m\u001b[0m\u001b[0;34m\u001b[0m\u001b[0m\n\u001b[0m",
            "\u001b[0;31mKeyError\u001b[0m: 'morality'"
          ]
        }
      ]
    },
    {
      "cell_type": "code",
      "source": [
        "#generosity wins in all circumtances\n",
        "morality = \"generosity\"\n",
        "condition = \"circumtances\"\n",
        "print('{morality} {1} {0} {condition}'.format(\"in all\", \"wins\", morality=\"generosity\", condition=\"circumtances\"))"
      ],
      "metadata": {
        "colab": {
          "base_uri": "https://localhost:8080/"
        },
        "id": "6R6cZBz6oqSk",
        "outputId": "43fa04b4-8da7-4489-ff92-6b4589f74395"
      },
      "execution_count": 124,
      "outputs": [
        {
          "output_type": "stream",
          "name": "stdout",
          "text": [
            "generosity wins in all circumtances\n"
          ]
        }
      ]
    },
    {
      "cell_type": "code",
      "source": [
        "#generosity wins in all circumtances\n",
        "morality = \"generosity\"\n",
        "condition = \"circumtances\"\n",
        "print('{2} {1} {0} {3}'.format(\"in all\", \"wins\", \"generosity\", \"circumtances\"))"
      ],
      "metadata": {
        "colab": {
          "base_uri": "https://localhost:8080/"
        },
        "id": "Cev2fhz2o4d3",
        "outputId": "71d5595d-651c-4e5e-f485-efc4cf89f231"
      },
      "execution_count": 126,
      "outputs": [
        {
          "output_type": "stream",
          "name": "stdout",
          "text": [
            "generosity wins in all circumtances\n"
          ]
        }
      ]
    },
    {
      "cell_type": "code",
      "source": [
        "crypto = 2000\n",
        "profit = '4,152.32'\n",
        "share = 11\n",
        "days = 5\n",
        "print('If we had bought ${} crypto coins at the eweekend, we would have had ${} with a profit share of {}% after {} days'. format(crypto, profit,share,days))"
      ],
      "metadata": {
        "colab": {
          "base_uri": "https://localhost:8080/"
        },
        "id": "X8K1Fs2DqM82",
        "outputId": "92fe2c1c-fe3c-43ed-fb9e-e6b4ea23d353"
      },
      "execution_count": 128,
      "outputs": [
        {
          "output_type": "stream",
          "name": "stdout",
          "text": [
            "If we had bought $2000 crypto coins at the eweekend, we would have had $4,152.32 with a profit share of 11% after 5 days\n"
          ]
        }
      ]
    },
    {
      "cell_type": "code",
      "source": [
        "\"{}! I am a {} programmer and I {} Clarusway.\".format(\"Hello\", \"new\", \"love\")\n",
        "# Hello! I am a new programmer and I love Clarusway."
      ],
      "metadata": {
        "colab": {
          "base_uri": "https://localhost:8080/",
          "height": 35
        },
        "id": "Ni4mbYhQqk82",
        "outputId": "c772a621-73f4-4a65-f71e-f9661b7a37e4"
      },
      "execution_count": 130,
      "outputs": [
        {
          "output_type": "execute_result",
          "data": {
            "text/plain": [
              "'Hello! I am a new programmer and I love Clarusway.'"
            ],
            "application/vnd.google.colaboratory.intrinsic+json": {
              "type": "string"
            }
          },
          "metadata": {},
          "execution_count": 130
        }
      ]
    },
    {
      "cell_type": "code",
      "source": [
        "f'{\"Hello\"}! I am a {\"new\"} programmer and I {\"love\"} Clarusway.'\n",
        "# Hello! I am a new programmer and I love Clarusway."
      ],
      "metadata": {
        "colab": {
          "base_uri": "https://localhost:8080/",
          "height": 35
        },
        "id": "xv0u2C9Eq-hs",
        "outputId": "3ce58712-7bfa-487e-bd17-e4bb76d27fc4"
      },
      "execution_count": 132,
      "outputs": [
        {
          "output_type": "execute_result",
          "data": {
            "text/plain": [
              "'Hello! I am a new programmer and I love Clarusway.'"
            ],
            "application/vnd.google.colaboratory.intrinsic+json": {
              "type": "string"
            }
          },
          "metadata": {},
          "execution_count": 132
        }
      ]
    },
    {
      "cell_type": "code",
      "source": [
        "fruit = \"Orange\"\n",
        "amount = 4\n",
        "print(f\"Benim favori meyvem {fruit} ve {amount} kg aldım.\")"
      ],
      "metadata": {
        "colab": {
          "base_uri": "https://localhost:8080/"
        },
        "id": "K4QpYLmprXV-",
        "outputId": "fb916ee6-3aae-4486-dcd1-bb991754df6d"
      },
      "execution_count": 133,
      "outputs": [
        {
          "output_type": "stream",
          "name": "stdout",
          "text": [
            "Benim favori meyvem Orange ve 4 kg aldım.\n"
          ]
        }
      ]
    },
    {
      "cell_type": "code",
      "source": [
        "f\"{2**3}\""
      ],
      "metadata": {
        "colab": {
          "base_uri": "https://localhost:8080/",
          "height": 35
        },
        "id": "binBWBIqrmBP",
        "outputId": "530998d2-b534-4c4d-83d3-7a38668f5aaa"
      },
      "execution_count": 134,
      "outputs": [
        {
          "output_type": "execute_result",
          "data": {
            "text/plain": [
              "'8'"
            ],
            "application/vnd.google.colaboratory.intrinsic+json": {
              "type": "string"
            }
          },
          "metadata": {},
          "execution_count": 134
        }
      ]
    },
    {
      "cell_type": "code",
      "source": [
        "f'My name is {\"meryem\".capitalize()}'"
      ],
      "metadata": {
        "colab": {
          "base_uri": "https://localhost:8080/",
          "height": 35
        },
        "id": "iapdmiTCr07j",
        "outputId": "c91b7ef0-d1b3-4958-f409-7328c7276fbe"
      },
      "execution_count": 136,
      "outputs": [
        {
          "output_type": "execute_result",
          "data": {
            "text/plain": [
              "'My name is Meryem'"
            ],
            "application/vnd.google.colaboratory.intrinsic+json": {
              "type": "string"
            }
          },
          "metadata": {},
          "execution_count": 136
        }
      ]
    },
    {
      "cell_type": "code",
      "source": [
        "name = \"Susan\"\n",
        "age = \"young\"\n",
        "gender = \"lady\"\n",
        "school = \"CLRSW IT University\"\n",
        "print(f\"{name} is a {age} {gender} and she is a student at the {school}\")"
      ],
      "metadata": {
        "colab": {
          "base_uri": "https://localhost:8080/"
        },
        "id": "UJiR2XZ_tT5g",
        "outputId": "3242a8a9-bf45-49e5-8878-ff83f71c81d3"
      },
      "execution_count": 140,
      "outputs": [
        {
          "output_type": "stream",
          "name": "stdout",
          "text": [
            "Susan is a young lady and she is a student at the CLRSW IT University\n"
          ]
        }
      ]
    },
    {
      "cell_type": "code",
      "source": [
        "month = \"february\"\n",
        "text = f\"{month.title()}\"\n",
        "print(text)"
      ],
      "metadata": {
        "colab": {
          "base_uri": "https://localhost:8080/"
        },
        "id": "Ldqv83QGuP_x",
        "outputId": "98895373-f7c1-4bb0-d783-294bb5f1ee33"
      },
      "execution_count": 142,
      "outputs": [
        {
          "output_type": "stream",
          "name": "stdout",
          "text": [
            "February\n"
          ]
        }
      ]
    },
    {
      "cell_type": "code",
      "source": [
        "# Diğer sayı sistemleri\n",
        "bin(255), oct(255), hex(255)"
      ],
      "metadata": {
        "id": "O51jW6QI3lMk",
        "colab": {
          "base_uri": "https://localhost:8080/"
        },
        "outputId": "74b513f2-8bcf-4b4f-b75f-63d2a7be9bc7"
      },
      "execution_count": 143,
      "outputs": [
        {
          "output_type": "execute_result",
          "data": {
            "text/plain": [
              "('0b11111111', '0o377', '0xff')"
            ]
          },
          "metadata": {},
          "execution_count": 143
        }
      ]
    },
    {
      "cell_type": "code",
      "source": [
        "'{:b}'.format(255)   # binary"
      ],
      "metadata": {
        "id": "91-jS_Rw24x6",
        "colab": {
          "base_uri": "https://localhost:8080/",
          "height": 35
        },
        "outputId": "e1c5170c-78d5-4d3c-d68c-6eddfae710b7"
      },
      "execution_count": 144,
      "outputs": [
        {
          "output_type": "execute_result",
          "data": {
            "text/plain": [
              "'11111111'"
            ],
            "application/vnd.google.colaboratory.intrinsic+json": {
              "type": "string"
            }
          },
          "metadata": {},
          "execution_count": 144
        }
      ]
    },
    {
      "cell_type": "code",
      "source": [
        "'{:o}'.format(255)  # octal"
      ],
      "metadata": {
        "id": "WjICROxc279D",
        "colab": {
          "base_uri": "https://localhost:8080/",
          "height": 35
        },
        "outputId": "7c64abe0-18a6-4fbe-cc2a-78d3484c860a"
      },
      "execution_count": 145,
      "outputs": [
        {
          "output_type": "execute_result",
          "data": {
            "text/plain": [
              "'377'"
            ],
            "application/vnd.google.colaboratory.intrinsic+json": {
              "type": "string"
            }
          },
          "metadata": {},
          "execution_count": 145
        }
      ]
    },
    {
      "cell_type": "code",
      "source": [
        "'{:x}'.format(255) # heXadecimal"
      ],
      "metadata": {
        "id": "bUN5tgy62-wz",
        "colab": {
          "base_uri": "https://localhost:8080/",
          "height": 35
        },
        "outputId": "f4df4692-97e0-42a3-f5cb-09be59e4205e"
      },
      "execution_count": 146,
      "outputs": [
        {
          "output_type": "execute_result",
          "data": {
            "text/plain": [
              "'ff'"
            ],
            "application/vnd.google.colaboratory.intrinsic+json": {
              "type": "string"
            }
          },
          "metadata": {},
          "execution_count": 146
        }
      ]
    },
    {
      "cell_type": "code",
      "source": [
        "'{:f}'.format(255) # floating"
      ],
      "metadata": {
        "id": "vyzvxo033BCY",
        "colab": {
          "base_uri": "https://localhost:8080/",
          "height": 35
        },
        "outputId": "f556405a-4ec1-421e-c84a-f6125554461a"
      },
      "execution_count": 147,
      "outputs": [
        {
          "output_type": "execute_result",
          "data": {
            "text/plain": [
              "'255.000000'"
            ],
            "application/vnd.google.colaboratory.intrinsic+json": {
              "type": "string"
            }
          },
          "metadata": {},
          "execution_count": 147
        }
      ]
    },
    {
      "cell_type": "code",
      "source": [
        "'{:.2f}'.format(255) # floating"
      ],
      "metadata": {
        "colab": {
          "base_uri": "https://localhost:8080/",
          "height": 35
        },
        "id": "aEI8CmFQu-mg",
        "outputId": "2dc17b99-e567-40e7-bc05-56564ce3814e"
      },
      "execution_count": 152,
      "outputs": [
        {
          "output_type": "execute_result",
          "data": {
            "text/plain": [
              "'255.00'"
            ],
            "application/vnd.google.colaboratory.intrinsic+json": {
              "type": "string"
            }
          },
          "metadata": {},
          "execution_count": 152
        }
      ]
    },
    {
      "cell_type": "code",
      "source": [
        "f'{255:x}' # heXadecimal"
      ],
      "metadata": {
        "colab": {
          "base_uri": "https://localhost:8080/",
          "height": 35
        },
        "id": "iLp4RHraumOn",
        "outputId": "ce594de8-4b41-480f-d477-6f7ef7acbadf"
      },
      "execution_count": 149,
      "outputs": [
        {
          "output_type": "execute_result",
          "data": {
            "text/plain": [
              "'ff'"
            ],
            "application/vnd.google.colaboratory.intrinsic+json": {
              "type": "string"
            }
          },
          "metadata": {},
          "execution_count": 149
        }
      ]
    },
    {
      "cell_type": "code",
      "source": [
        "f'{255:.2f}' # floating"
      ],
      "metadata": {
        "colab": {
          "base_uri": "https://localhost:8080/",
          "height": 35
        },
        "id": "dhxBU2nxvEHl",
        "outputId": "f0832d9d-d4ed-45d9-89cf-9859f50232c4"
      },
      "execution_count": 153,
      "outputs": [
        {
          "output_type": "execute_result",
          "data": {
            "text/plain": [
              "'255.00'"
            ],
            "application/vnd.google.colaboratory.intrinsic+json": {
              "type": "string"
            }
          },
          "metadata": {},
          "execution_count": 153
        }
      ]
    },
    {
      "cell_type": "code",
      "source": [
        "vegetable = \"Tomato\"\n",
        "len(vegetable)"
      ],
      "metadata": {
        "colab": {
          "base_uri": "https://localhost:8080/"
        },
        "id": "8etTT6w8Vfyp",
        "outputId": "37388621-cd38-4e38-a135-42d96b0c56f5"
      },
      "execution_count": 150,
      "outputs": [
        {
          "output_type": "execute_result",
          "data": {
            "text/plain": [
              "6"
            ]
          },
          "metadata": {},
          "execution_count": 150
        }
      ]
    },
    {
      "cell_type": "code",
      "source": [
        "# f-string ile basit bir calculator yapalım\n",
        "num1 = int(input(\"Number 1..:\"))\n",
        "num2 = int(input(\"Number 2..:\"))\n",
        "\n",
        "calc = (\n",
        "    f\"{num1} + {num2} = {num1+num2}\\n\"\n",
        "    f\"{num1} - {num2} = {num1-num2}\\n\"\n",
        "    f\"{num1} * {num2} = {num1*num2}\\n\"\n",
        "    f\"{num1} / {num2} = {num1/num2}\\n\"\n",
        "    f\"{num1} ^ {num2} = {num1**num2} \"\n",
        ")\n",
        "print(calc)"
      ],
      "metadata": {
        "id": "Gu3TisMM0ITo",
        "colab": {
          "base_uri": "https://localhost:8080/"
        },
        "outputId": "40dcbba6-d14c-40b1-fe78-4a50a45082d8"
      },
      "execution_count": 137,
      "outputs": [
        {
          "output_type": "stream",
          "name": "stdout",
          "text": [
            "Number 1..:4\n",
            "Number 2..:6\n",
            "4 + 6 = 10\n",
            "4 - 6 = -2\n",
            "4 * 6 = 24\n",
            "4 / 6 = 0.6666666666666666\n",
            "4 ^ 6 = 4096 \n"
          ]
        }
      ]
    },
    {
      "cell_type": "code",
      "source": [
        "calc = f\"{num1} + {num2} = {num1+num2}\\n\" \\\n",
        "    f\"{num1} - {num2} = {num1-num2}\\n\" \\\n",
        "    f\"{num1} * {num2} = {num1*num2}\\n\" \\\n",
        "    f\"{num1} / {num2} = {num1/num2}\\n\" \\\n",
        "    f\"{num1} ^ {num2} = {num1**num2} \"\n",
        "\n",
        "print(calc)"
      ],
      "metadata": {
        "colab": {
          "base_uri": "https://localhost:8080/"
        },
        "id": "yMKcXwyqsuUW",
        "outputId": "e437814b-ab6a-46d0-9ca3-b2089ae3a92e"
      },
      "execution_count": 138,
      "outputs": [
        {
          "output_type": "stream",
          "name": "stdout",
          "text": [
            "4 + 6 = 10\n",
            "4 - 6 = -2\n",
            "4 * 6 = 24\n",
            "4 / 6 = 0.6666666666666666\n",
            "4 ^ 6 = 4096 \n"
          ]
        }
      ]
    }
  ]
}