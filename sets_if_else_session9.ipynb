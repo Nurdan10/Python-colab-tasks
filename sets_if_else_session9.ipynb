{
  "nbformat": 4,
  "nbformat_minor": 0,
  "metadata": {
    "colab": {
      "private_outputs": true,
      "provenance": []
    },
    "kernelspec": {
      "name": "python3",
      "display_name": "Python 3"
    },
    "language_info": {
      "name": "python"
    }
  },
  "cells": [
    {
      "cell_type": "code",
      "execution_count": null,
      "metadata": {
        "id": "FTkHT4v-UJG2"
      },
      "outputs": [],
      "source": [
        "# Sözlükte keys'e göre arama\n",
        "sozluk = {1: 'bir', 2: 'iki', 3: 'üç', 4: 'dört', 5: 'beş', 6: 'altı', '7': \"yedi\", \"8\": \"sekiz\"}\n",
        "aranan = eval(input(\"Aramak istediğiniz anahtar değeri giriniz..: \"))\n",
        "print(sozluk.get(aranan, \"sözlükte yoktur\"))"
      ]
    },
    {
      "cell_type": "code",
      "source": [
        "eval(\"5\"+\"5\")"
      ],
      "metadata": {
        "id": "NdLDFgAXaKWK"
      },
      "execution_count": null,
      "outputs": []
    },
    {
      "cell_type": "code",
      "source": [
        "my_dict = {'a': 1, 'b': 2}\n",
        "my_dict2 = dict(reversed(my_dict.items()))\n",
        "print(my_dict2)  #"
      ],
      "metadata": {
        "id": "PdaO1LBKamYT"
      },
      "execution_count": null,
      "outputs": []
    },
    {
      "cell_type": "code",
      "source": [
        "my_dict == my_dict2 # unordered : sıra önemli değil"
      ],
      "metadata": {
        "id": "-YVMTfkxcTDM"
      },
      "execution_count": null,
      "outputs": []
    },
    {
      "cell_type": "code",
      "source": [
        "my_list = ['a','b',1,2]\n",
        "my_list2 = [2,1,'a','b']\n",
        "my_list == my_list2  # ordered"
      ],
      "metadata": {
        "id": "cKN65vtvckQB"
      },
      "execution_count": null,
      "outputs": []
    },
    {
      "cell_type": "code",
      "source": [
        "my_dict = {'a': 1, 'b': 2}\n",
        "# Key ve value'ları nasıl yer değiştirebiliriz?\n",
        "degerler = list(my_dict.values())\n",
        "anahtarlar = list(my_dict.keys())\n",
        "dict(zip(degerler,anahtarlar))"
      ],
      "metadata": {
        "id": "ha-uGQ0uVGUo"
      },
      "execution_count": null,
      "outputs": []
    },
    {
      "cell_type": "code",
      "source": [
        "# Araştırma sorusu....\n",
        "my_dict = {'a': 1, 'b': 2, 'c':1}\n",
        "# Key ve value'ları nasıl yer değiştirebiliriz?"
      ],
      "metadata": {
        "id": "98UbAvCrbZuM"
      },
      "execution_count": null,
      "outputs": []
    },
    {
      "cell_type": "markdown",
      "source": [
        "# SETs"
      ],
      "metadata": {
        "id": "j-9k1pkpdCO_"
      }
    },
    {
      "cell_type": "code",
      "source": [
        "ta = \"red\", \"blue\", \"yellow\", \"red\"\n",
        "type(ta)"
      ],
      "metadata": {
        "id": "aYYSu6fhdvIc"
      },
      "execution_count": null,
      "outputs": []
    },
    {
      "cell_type": "code",
      "source": [
        "# küme oluşturma\n",
        "# 1. {}\n",
        "# 2. set()\n",
        "# tekrarlı elemanlara izin vermez\n",
        "set1 = {\"red\", \"blue\", \"yellow\", \"red\"}\n",
        "set2 = set([\"red\", \"blue\", \"yellow\", \"red\"])\n",
        "set3 = set(ta)\n",
        "print(set1)\n",
        "print(set2)\n",
        "print(set3)"
      ],
      "metadata": {
        "id": "kjMyGzNJdEMu"
      },
      "execution_count": null,
      "outputs": []
    },
    {
      "cell_type": "code",
      "source": [
        "# What is the type of 'd'.\n",
        "d = {\n",
        "   ('foo', 100),\n",
        "   ('bar', 200),\n",
        "   ('baz', 300)\n",
        "}\n",
        "type(d)\n",
        "# A. dict,  B. set, C. tuple, D. list"
      ],
      "metadata": {
        "id": "_JJNKNZNeNfR"
      },
      "execution_count": null,
      "outputs": []
    },
    {
      "cell_type": "code",
      "source": [
        "# tuple veri yapısı key olabilir....\n",
        "d = {\n",
        "   ('foo', 100):1,\n",
        "   ('bar', 200):2,\n",
        "   ('baz', 300):3\n",
        "}\n",
        "type(d)"
      ],
      "metadata": {
        "id": "9MdPGj3Leino"
      },
      "execution_count": null,
      "outputs": []
    },
    {
      "cell_type": "code",
      "source": [
        "# boş bir set (küme) nasıl oluşturulur?\n",
        "# set()\n",
        "empty_set1 = set()  # set\n",
        "empty_set2 = {}     # dict\n",
        "print(type(empty_set1))\n",
        "print(type(empty_set2))"
      ],
      "metadata": {
        "id": "D8RXgQWKe4wD"
      },
      "execution_count": null,
      "outputs": []
    },
    {
      "cell_type": "code",
      "source": [
        "flower_list = ['rose', 'violet', 'carnation', 'rose', 'orchid', 'rose', 'orchid']\n",
        "flowerset = set(flower_list) # {...tekrarsız hali...}\n",
        "flowerlist = list(flowerset) # [...tekrarsız liste...]\n",
        "print(flowerset)\n",
        "print(flowerlist)"
      ],
      "metadata": {
        "id": "A7s859sWgOR0"
      },
      "execution_count": null,
      "outputs": []
    },
    {
      "cell_type": "code",
      "source": [
        "a = {'rose', 'violet', 'carnation', 'rose', 'orchid', 'rose', 'orchid'}\n",
        "b = {'carnation', 'orchid', 'rose', 'violet'}\n",
        "print(a)"
      ],
      "metadata": {
        "id": "r2n2Nahkhwle"
      },
      "execution_count": null,
      "outputs": []
    },
    {
      "cell_type": "code",
      "source": [
        "print(b)"
      ],
      "metadata": {
        "id": "RqqV2QJZh9LI"
      },
      "execution_count": null,
      "outputs": []
    },
    {
      "cell_type": "markdown",
      "source": [
        "# SET metotları"
      ],
      "metadata": {
        "id": "Y7ldmp5LiPA3"
      }
    },
    {
      "cell_type": "code",
      "source": [
        "dir(set)[-17:]"
      ],
      "metadata": {
        "id": "14n4AVjmiOHH"
      },
      "execution_count": null,
      "outputs": []
    },
    {
      "cell_type": "code",
      "source": [
        "a = set(\"philadelphia\")\n",
        "b = set(\"dolphin\")\n",
        "print(a)\n",
        "print(b)"
      ],
      "metadata": {
        "id": "hrBaq_DfjIkn"
      },
      "execution_count": null,
      "outputs": []
    },
    {
      "cell_type": "code",
      "source": [
        "# a FARK b >>> a-b veya a.diffrence(b)\n",
        "# a kümesinde olup b kümesinde olmayanlar\n",
        "a.difference(b)"
      ],
      "metadata": {
        "id": "DWbEeCAGjyL6"
      },
      "execution_count": null,
      "outputs": []
    },
    {
      "cell_type": "code",
      "source": [
        "a-b"
      ],
      "metadata": {
        "id": "B73MyZJfj83C"
      },
      "execution_count": null,
      "outputs": []
    },
    {
      "cell_type": "code",
      "source": [
        "# b FARK a >>> b-a veya b.diffrence(a)\n",
        "b.difference(a)  # b-a\n",
        "# b kümesinde olup a kümesinde olmayanlar"
      ],
      "metadata": {
        "id": "tOe-FmdOmqlE"
      },
      "execution_count": null,
      "outputs": []
    },
    {
      "cell_type": "code",
      "source": [
        "# a BİRLEŞİM b >>> a.union(b) veya a|b\n",
        "a.union(b)"
      ],
      "metadata": {
        "id": "fcaumkxRnLM7"
      },
      "execution_count": null,
      "outputs": []
    },
    {
      "cell_type": "code",
      "source": [
        "a|b"
      ],
      "metadata": {
        "id": "o-oCDdFWnUUc"
      },
      "execution_count": null,
      "outputs": []
    },
    {
      "cell_type": "code",
      "source": [
        "b.union(a)"
      ],
      "metadata": {
        "id": "7VWDPVwYnZPf"
      },
      "execution_count": null,
      "outputs": []
    },
    {
      "cell_type": "code",
      "source": [
        "# iki kümenin kesişimi(ortak elemanları)\n",
        "a.intersection(b)"
      ],
      "metadata": {
        "id": "9o_ev_4Ynw7c"
      },
      "execution_count": null,
      "outputs": []
    },
    {
      "cell_type": "code",
      "source": [
        "b.intersection(a)"
      ],
      "metadata": {
        "id": "Enw5r-Yyn6-3"
      },
      "execution_count": null,
      "outputs": []
    },
    {
      "cell_type": "code",
      "source": [
        "a&b"
      ],
      "metadata": {
        "id": "q3yz_Q_XoCdm"
      },
      "execution_count": null,
      "outputs": []
    },
    {
      "cell_type": "code",
      "source": [
        "tarih = \"21/12/2023\"\n",
        "tarih_set1 = set(tarih)\n",
        "print(tarih_set1)"
      ],
      "metadata": {
        "id": "gGKgQRTcoX0K"
      },
      "execution_count": null,
      "outputs": []
    },
    {
      "cell_type": "code",
      "source": [
        "tarih_set2 = {tarih}\n",
        "print(tarih_set2)"
      ],
      "metadata": {
        "id": "Koq46V0dovv0"
      },
      "execution_count": null,
      "outputs": []
    },
    {
      "cell_type": "code",
      "source": [
        "# bir listedeki tekrarlı elemanları temizlemek için ne yapabiliriz;\n",
        "nums = [1,2,2,3,3,3,4,4,4,4,5,5,55,5,5,5,6,6,6,6,6,6]\n",
        "uniq_nums = list(set(nums))\n",
        "print(uniq_nums)"
      ],
      "metadata": {
        "id": "GKaxMYQYpTzV"
      },
      "execution_count": null,
      "outputs": []
    },
    {
      "cell_type": "code",
      "source": [
        "capital_usa = 'Washington'\n",
        "capital_nz = 'Wellington'\n",
        "set_usa = set(capital_usa)\n",
        "set_nz = set(capital_nz)\n",
        "# intersection\n",
        "print(set_usa & set_nz)\n",
        "# union\n",
        "print(set_usa | set_nz)\n",
        "# difference\n",
        "print(f\"{set_usa - set_nz} or {set_nz - set_usa}\")"
      ],
      "metadata": {
        "id": "Hv4COT7jquL6"
      },
      "execution_count": null,
      "outputs": []
    },
    {
      "cell_type": "code",
      "source": [
        "set1 = set(\"washington\")\n",
        "set2 = set(\"wellington\")\n",
        "print(set1.intersection(set2)) # kesişim\n",
        "print(set1.union(set2))        # birleşim\n",
        "print(set1.difference(set2))   # fark"
      ],
      "metadata": {
        "id": "GMyWcTJXrLB6"
      },
      "execution_count": null,
      "outputs": []
    },
    {
      "cell_type": "code",
      "source": [
        "# İki datanın tamamen birbirinden farklı olup olmadığını nasıl test ederiz?\n",
        "a_cap = \"wash\"\n",
        "b_cap = \"elli\"\n",
        "# kesişimleri boş küme ise tamamen FARKLI, değilse en az bir elemanı AYNI denebilir...\n",
        "set(a_cap).intersection(set(b_cap))"
      ],
      "metadata": {
        "id": "dQI9stPErlnD"
      },
      "execution_count": null,
      "outputs": []
    },
    {
      "cell_type": "code",
      "source": [
        "# Kümeden eleman silme\n",
        "set1 = set(\"washington\")\n",
        "print(\"Rastgele Silinen..\", set1.pop())\n",
        "print(set1)"
      ],
      "metadata": {
        "id": "_uOT2ijzsr98"
      },
      "execution_count": null,
      "outputs": []
    },
    {
      "cell_type": "code",
      "source": [
        "# Kümeden eleman silme\n",
        "set1 = set(\"washington\")\n",
        "set1.discard(\"e\")  # in-place : olmayan elemanda hata vermez\n",
        "print(set1)"
      ],
      "metadata": {
        "id": "aWWT9DV3t54x"
      },
      "execution_count": null,
      "outputs": []
    },
    {
      "cell_type": "code",
      "source": [
        "# Kümeden eleman silme\n",
        "set1 = set(\"washington\")\n",
        "set1.remove(\"e\")  # in-place : olmayan elemanda hata üretir\n",
        "print(set1)"
      ],
      "metadata": {
        "id": "qSnkfNpmuNBZ"
      },
      "execution_count": null,
      "outputs": []
    },
    {
      "cell_type": "code",
      "source": [
        "# Kümeler mutable ? immutable?\n",
        "nums = set(range(10))\n",
        "print(nums)"
      ],
      "metadata": {
        "id": "r5QUPK3CuxJx"
      },
      "execution_count": null,
      "outputs": []
    },
    {
      "cell_type": "code",
      "source": [
        "nums.add(55)\n",
        "print(nums)"
      ],
      "metadata": {
        "id": "sQ9HdVAwvHZc"
      },
      "execution_count": null,
      "outputs": []
    },
    {
      "cell_type": "code",
      "source": [
        "set1 = set(\"washington\")\n",
        "set1.add(\"z\")\n",
        "print(set1) # mutable"
      ],
      "metadata": {
        "id": "6tRf4S7cvYpB"
      },
      "execution_count": null,
      "outputs": []
    },
    {
      "cell_type": "code",
      "source": [
        "set1 = set(\"washington\")\n",
        "set2 = frozenset(set1)  # küme immutable yapıldı\n",
        "set2.add(\"z\")\n",
        "print(set2) # immutable"
      ],
      "metadata": {
        "id": "jZC-_P8kvkqC"
      },
      "execution_count": null,
      "outputs": []
    },
    {
      "cell_type": "code",
      "source": [
        "# kümelerde indis kullanılır mı?\n",
        "nums[4]  # sırasız(unordered)"
      ],
      "metadata": {
        "id": "QxwNoKt2vNGw"
      },
      "execution_count": null,
      "outputs": []
    },
    {
      "cell_type": "code",
      "source": [
        "4 in nums  # 4 kümede var mı?"
      ],
      "metadata": {
        "id": "60sisdnP0W08"
      },
      "execution_count": null,
      "outputs": []
    },
    {
      "cell_type": "code",
      "source": [
        "ad = \"python\" # immutable\n",
        "hash(ad)"
      ],
      "metadata": {
        "id": "RwqeRbLvwQ8t"
      },
      "execution_count": null,
      "outputs": []
    },
    {
      "cell_type": "code",
      "source": [
        "ad_list = list(ad)\n",
        "hash(ad_list) # listeler unhashable"
      ],
      "metadata": {
        "id": "kfpxuGPhwWFN"
      },
      "execution_count": null,
      "outputs": []
    },
    {
      "cell_type": "code",
      "source": [
        "tuple1 = (1,2,3,4,5)\n",
        "tuple2 = (1,2,3,4)\n",
        "hash(tuple1)"
      ],
      "metadata": {
        "id": "LIolglsmwp-o"
      },
      "execution_count": null,
      "outputs": []
    },
    {
      "cell_type": "code",
      "source": [
        "hash(tuple2)"
      ],
      "metadata": {
        "id": "3Swubiz7zsmB"
      },
      "execution_count": null,
      "outputs": []
    },
    {
      "cell_type": "code",
      "source": [
        "#Q: Which one of the following is not the correct syntax for creating a set in Python?\n",
        "# a. set([[1,2],[3,4],[4,5]])\n",
        "# b. set([1,2,2,3,4,5])\n",
        "# c. {1,2,3,4}\n",
        "# d. set((1,2,3,4))"
      ],
      "metadata": {
        "id": "PQ5o9Z7D0p4o"
      },
      "execution_count": null,
      "outputs": []
    },
    {
      "cell_type": "code",
      "source": [
        "listem = [[1,2], [3,4], [4,5], 45]\n",
        "set(listem)\n",
        "# unhashable tipler, set elemanı olamaz"
      ],
      "metadata": {
        "id": "YLy16lcX0vyN"
      },
      "execution_count": null,
      "outputs": []
    },
    {
      "cell_type": "code",
      "source": [
        "set([1,2,2,3,4,5])"
      ],
      "metadata": {
        "id": "FiHi_mul1SxG"
      },
      "execution_count": null,
      "outputs": []
    },
    {
      "cell_type": "code",
      "source": [
        "my_tuple = ((1,2,3,4), \"ali\", 5, 6)\n",
        "set(my_tuple)"
      ],
      "metadata": {
        "id": "kvOuvDDq1dJo"
      },
      "execution_count": null,
      "outputs": []
    },
    {
      "cell_type": "code",
      "source": [
        "my_tuple = ((1,2,3,4), \"ali\", 5, 6, {4,5,6})\n",
        "set(my_tuple)"
      ],
      "metadata": {
        "id": "KpIwlcqv1-Mb"
      },
      "execution_count": null,
      "outputs": []
    },
    {
      "cell_type": "code",
      "source": [
        "# bir nesne/değişken hash() uygulanabiliyorsa hashable() dır. Uygulanamıyorsa unhashable() dır.\n",
        "hash(\"ali\")"
      ],
      "metadata": {
        "id": "PDgOpioE2JBA"
      },
      "execution_count": null,
      "outputs": []
    },
    {
      "cell_type": "code",
      "source": [
        "hash(set(\"ali\"))"
      ],
      "metadata": {
        "id": "avzRVGMN2Zwm"
      },
      "execution_count": null,
      "outputs": []
    },
    {
      "cell_type": "code",
      "source": [
        "hash(list(\"ali\"))"
      ],
      "metadata": {
        "id": "jkbBd34Q2c9H"
      },
      "execution_count": null,
      "outputs": []
    },
    {
      "cell_type": "code",
      "source": [
        "hash({})"
      ],
      "metadata": {
        "id": "GFe9y6A82vRE"
      },
      "execution_count": null,
      "outputs": []
    },
    {
      "cell_type": "markdown",
      "source": [
        "# Koşullu Yapılar (Karar Yapıları)\n",
        "\n",
        "1.   if\n",
        "2.   if else\n",
        "3.   elif\n",
        "\n",
        "\n",
        "\n"
      ],
      "metadata": {
        "id": "tZ4Ro2Jj3EFl"
      }
    },
    {
      "cell_type": "code",
      "source": [
        "if True:\n",
        "    print(\"True ise çalışırım\")  # buradan devam eder ....."
      ],
      "metadata": {
        "id": "l3VjI6zz4F18"
      },
      "execution_count": null,
      "outputs": []
    },
    {
      "cell_type": "code",
      "source": [
        "if False:\n",
        "    print(\"True ise çalışırım\")\n",
        "#.... Buradan devam eder"
      ],
      "metadata": {
        "id": "aY10diaL4NME"
      },
      "execution_count": null,
      "outputs": []
    },
    {
      "cell_type": "code",
      "source": [
        "# hamburger yapabilirmiyim / yapamamazmıyım?\n",
        "ekmek = True  # yoksa False atamalıyız\n",
        "manav = True\n",
        "biber = False\n",
        "marul = True\n",
        "kofte = True\n",
        "domates = False\n",
        "hamburger = ekmek and manav and kofte and (biber or marul or domates)\n",
        "\n",
        "if hamburger:\n",
        "    print(\"Bon Apetit!\")"
      ],
      "metadata": {
        "id": "1R_l5P8t429H"
      },
      "execution_count": null,
      "outputs": []
    },
    {
      "cell_type": "code",
      "source": [
        "# Karşılaştırma operatörleri True/False değer döndürür\n",
        "3 > 5"
      ],
      "metadata": {
        "id": "y5ZJ1yVe6UO0"
      },
      "execution_count": null,
      "outputs": []
    },
    {
      "cell_type": "code",
      "source": [
        "3 != 5"
      ],
      "metadata": {
        "id": "U_DLr05w6WVD"
      },
      "execution_count": null,
      "outputs": []
    },
    {
      "cell_type": "code",
      "source": [
        "empty_seat = 5\n",
        "if empty_seat >= 5:\n",
        "    print(\"Salona misafir alabiliriz\")"
      ],
      "metadata": {
        "id": "BFNDs81t6hMK"
      },
      "execution_count": null,
      "outputs": []
    },
    {
      "cell_type": "code",
      "source": [
        "word1 = set(\"TWELVE PLUS ONE\")\n",
        "word2 = set(\"ELEVEN PLUS TWO\")\n",
        "if word1 == word2:\n",
        "print(\"we are the same\")"
      ],
      "metadata": {
        "id": "sgeIXvQl753A"
      },
      "execution_count": null,
      "outputs": []
    },
    {
      "cell_type": "code",
      "source": [
        "word1 = set(\"TWELVE PLUS ONE\")\n",
        "word2 = set(\"ELEVEN PLUS TWO\")\n",
        "if word1 == word2:\n",
        "    print(\"we are the same\")\n",
        "  print(\"we are the same\")"
      ],
      "metadata": {
        "id": "NQdzybfa8EWR"
      },
      "execution_count": null,
      "outputs": []
    },
    {
      "cell_type": "code",
      "source": [
        "word1 = set(\"TWELVE PLUS ONE\")\n",
        "word2 = set(\"ELEVEN PLUS TWO\")\n",
        "if word1 == word2:\n",
        "    print(\"we are the same\")\n",
        "    print(\"Ve girintiler aynı hizada olmalı!!!\")"
      ],
      "metadata": {
        "id": "mJIiiMvK8OUu"
      },
      "execution_count": null,
      "outputs": []
    },
    {
      "cell_type": "code",
      "source": [
        "# interview sorusu\n",
        "# kayıp sayıyı bulma [1-10]\n",
        "nums = [1,2,3,4,9,8,7,6,10]\n",
        "normal_nums = list(range(1,11))\n",
        "if set(nums)!=set(normal_nums):\n",
        "    print(\"Kayıp var\")\n",
        "    print(\"Kayıp sayı.:\", set(normal_nums).difference(set(nums)))"
      ],
      "metadata": {
        "id": "y3Z-J_bm8X45"
      },
      "execution_count": null,
      "outputs": []
    },
    {
      "cell_type": "code",
      "source": [
        "msg = input(\"Yes or No..: \").title()\n",
        "if msg == \"Yes\":\n",
        "    print(\"You entered True\")"
      ],
      "metadata": {
        "id": "YDZHJOuWAyXU"
      },
      "execution_count": null,
      "outputs": []
    },
    {
      "cell_type": "code",
      "source": [
        "# if kullanmadan\n",
        "msg = input(\"Yes or No..: \").title().strip() == \"Yes\"\n",
        "print(f\"You entered {msg}\")"
      ],
      "metadata": {
        "id": "u-3jtEqIBZjB"
      },
      "execution_count": null,
      "outputs": []
    },
    {
      "cell_type": "code",
      "source": [
        "msg = input(\"Yes or No..: \").title().strip()\n",
        "if msg == \"Yes\":\n",
        "    print(\"You entered True\")\n",
        "else:\n",
        "    print(\"You entered False\")"
      ],
      "metadata": {
        "id": "lrkgOw5PBtVR"
      },
      "execution_count": null,
      "outputs": []
    },
    {
      "cell_type": "code",
      "source": [
        "#if else:\n",
        "hava = input(\"Hava Durumu [güneşli/yağmurlu/kapalı]\").lower()\n",
        "if hava == \"güneşli\":\n",
        "    print(\"dışarı çıkabilirsin!\")\n",
        "else:\n",
        "    print(\"evde kal!!!\")"
      ],
      "metadata": {
        "id": "YWwOGaWACDQX"
      },
      "execution_count": null,
      "outputs": []
    },
    {
      "cell_type": "code",
      "source": [
        "number = 5\n",
        "if number <= 3:\n",
        "    print('Number is smaller than or equal to 3')\n",
        "else:\n",
        "    print('Number is bigger than 3')"
      ],
      "metadata": {
        "id": "tbObZQtYB9lY"
      },
      "execution_count": null,
      "outputs": []
    },
    {
      "cell_type": "code",
      "source": [
        "number = 5\n",
        "if number <= 3:\n",
        "    print('Number is smaller than or equal to 3')\n",
        "else:\n",
        "print('Number is bigger than 3')"
      ],
      "metadata": {
        "id": "IKZZMezuC1X3"
      },
      "execution_count": null,
      "outputs": []
    },
    {
      "cell_type": "code",
      "source": [
        "num = int(input(\"bir sayi girin\"))\n",
        "if num % 2 == 0:\n",
        "  print(f\"{num} cifttir\")\n",
        "else:\n",
        "  print(f\"{num} tektir\")"
      ],
      "metadata": {
        "id": "oRiDRPL9Df8R"
      },
      "execution_count": null,
      "outputs": []
    },
    {
      "cell_type": "code",
      "source": [
        "num = int(input(\"bir sayi girin..: \"))\n",
        "if num % 2:  # sıfırdan farklı ise True\n",
        "  print(f\"{num} tektir\")\n",
        "else:\n",
        "  print(f\"{num} çifttir\")"
      ],
      "metadata": {
        "id": "qHBrN_WDDz0L"
      },
      "execution_count": null,
      "outputs": []
    },
    {
      "cell_type": "code",
      "source": [
        "# ön kabul: kullanıcının 0 girmediğini düşünüyoruz\n",
        "num = int(input(\"bir sayi girin..: \"))\n",
        "if num > 0:\n",
        "  print(f\"{num} pozitiftir\")\n",
        "else:\n",
        "  print(f\"{num} negatiftir\")"
      ],
      "metadata": {
        "id": "DrhBZApcEf3K"
      },
      "execution_count": null,
      "outputs": []
    },
    {
      "cell_type": "code",
      "source": [
        "# kullanıcının 0 girme koşulunu da ekleyelim\n",
        "num = int(input(\"bir sayi girin..: \"))\n",
        "if num == 0:\n",
        "    print(f\"{num} sıfırdır\")\n",
        "else:\n",
        "    if num > 0:\n",
        "        print(f\"{num} pozitiftir\")\n",
        "    else:\n",
        "        print(f\"{num} negatiftir\")"
      ],
      "metadata": {
        "id": "SWfsp_7KEu5n"
      },
      "execution_count": null,
      "outputs": []
    },
    {
      "cell_type": "code",
      "source": [
        "# iki sayıdan büyük olanı ekrana yazdır\n",
        "num1 = float(input(\"1-sayi girin..: \"))\n",
        "num2 = float(input(\"2-sayi girin..: \"))\n",
        "if num1 > num2:\n",
        "  print(f\"{num1} büyüktür\")\n",
        "else:\n",
        "  print(f\"{num2} büyüktür\")"
      ],
      "metadata": {
        "id": "v3UKkOKRFpLP"
      },
      "execution_count": null,
      "outputs": []
    },
    {
      "cell_type": "code",
      "source": [
        "# iki sayıdan büyük olanı ekrana yazdır\n",
        "num1 = float(input(\"1-sayi girin..: \"))\n",
        "num2 = float(input(\"2-sayi girin..: \"))\n",
        "if num1 > num2:\n",
        "  larger = num1\n",
        "else:\n",
        "  larger = num2\n",
        "\n",
        "print(f\"{larger} büyüktür\")"
      ],
      "metadata": {
        "id": "W2I31wGIGHUx"
      },
      "execution_count": null,
      "outputs": []
    },
    {
      "cell_type": "markdown",
      "source": [
        "# if - elif - else:"
      ],
      "metadata": {
        "id": "8Qn3nDk0HA2U"
      }
    },
    {
      "cell_type": "code",
      "source": [
        "# else: if DEĞİL elif\n",
        "num = int(input(\"bir sayi girin..: \"))\n",
        "if num == 0:\n",
        "    print(f\"{num} sıfırdır\")\n",
        "elif num > 0:\n",
        "    print(f\"{num} pozitiftir\")\n",
        "else:   # yanına koşul yazılmaz\n",
        "    print(f\"{num} negatiftir\")"
      ],
      "metadata": {
        "id": "adHdYCJeFLX3"
      },
      "execution_count": null,
      "outputs": []
    },
    {
      "cell_type": "code",
      "source": [
        "# if , elif , else yapısı:\n",
        "audience = 'baby'\n",
        "\n",
        "if audience == 'kid':\n",
        "\tprint('it is free to go to cinema')\n",
        "elif audience == 'teen':\n",
        "\tprint('discounted price!')\n",
        "elif audience == 'adult':\n",
        "\tprint('normal price')\n",
        "else:\n",
        "\tprint('No such audience, stay at your home!')"
      ],
      "metadata": {
        "id": "XnJv3_VzMIJw"
      },
      "execution_count": null,
      "outputs": []
    },
    {
      "cell_type": "code",
      "source": [
        "max(4,66,8)"
      ],
      "metadata": {
        "id": "DRRUS7gmHfVY"
      },
      "execution_count": null,
      "outputs": []
    },
    {
      "cell_type": "code",
      "source": [
        "# max() kullanmadan 3 sayı içerisinden en büyüğünü yazdıralım\n",
        "# 3 sayıdan büyük olanı ekrana yazdır\n",
        "num1 = float(input(\"1-sayi girin..: \"))\n",
        "num2 = float(input(\"2-sayi girin..: \"))\n",
        "num3 = float(input(\"3-sayi girin..: \"))\n",
        "\n",
        "if num1>=num2>=num3 or num1>=num3>=num2:\n",
        "    larger = num1\n",
        "elif num2>=num1>=num3 or num2>=num3>=num1:\n",
        "    larger = num2\n",
        "else:\n",
        "    larger = num3\n",
        "\n",
        "print(f\"{larger} büyüktür\")"
      ],
      "metadata": {
        "id": "Ln0ansdlHkw0"
      },
      "execution_count": null,
      "outputs": []
    },
    {
      "cell_type": "code",
      "source": [
        "# max() kullanmadan 3 sayı içerisinden en büyüğünü yazdıralım\n",
        "# 3 sayıdan büyük olanı ekrana yazdır\n",
        "num1 = float(input(\"1-sayi girin..: \"))\n",
        "num2 = float(input(\"2-sayi girin..: \"))\n",
        "num3 = float(input(\"3-sayi girin..: \"))\n",
        "\n",
        "if num1>=num2 or num1>=num3:\n",
        "    larger = num1\n",
        "elif num2>=num1 or num2>=num3:\n",
        "    larger = num2\n",
        "else:\n",
        "    larger = num3\n",
        "\n",
        "print(f\"{larger} büyüktür\")"
      ],
      "metadata": {
        "id": "QxwrKAutJm__"
      },
      "execution_count": null,
      "outputs": []
    },
    {
      "cell_type": "code",
      "source": [
        "# max() kullanmadan 3 sayı içerisinden en büyüğünü yazdıralım\n",
        "# 3 sayıdan büyük olanı ekrana yazdır\n",
        "num1 = float(input(\"1-sayi girin..: \"))\n",
        "num2 = float(input(\"2-sayi girin..: \"))\n",
        "num3 = float(input(\"3-sayi girin..: \"))\n",
        "larger = num1  # baştan num1'i en büyük kabul edelim, karşılşatırma sayısı azalmış olur\n",
        "if num2>larger or num2>=num3:\n",
        "    larger = num2\n",
        "elif num3>larger:\n",
        "    larger = num3\n",
        "\n",
        "print(f\"{larger} büyüktür\")"
      ],
      "metadata": {
        "id": "fQLfyDWxKAhy"
      },
      "execution_count": null,
      "outputs": []
    }
  ]
}