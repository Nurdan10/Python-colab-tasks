{
  "nbformat": 4,
  "nbformat_minor": 0,
  "metadata": {
    "colab": {
      "provenance": []
    },
    "kernelspec": {
      "name": "python3",
      "display_name": "Python 3"
    },
    "language_info": {
      "name": "python"
    }
  },
  "cells": [
    {
      "cell_type": "markdown",
      "source": [
        "# Comments -docstrings farkı ?"
      ],
      "metadata": {
        "id": "TuNx72t6DYNW"
      }
    },
    {
      "cell_type": "code",
      "source": [
        "# docstring metinleri nasıl oluşturulur? ve nerede kullanılır?\n"
      ],
      "metadata": {
        "id": "eyhoqSxxEc9Y"
      },
      "execution_count": null,
      "outputs": []
    },
    {
      "cell_type": "code",
      "source": [
        "# sayını karesini alan bir fonksiyon alalım\n",
        "def Karem(sayi):\n",
        "    \"\"\"\n",
        "    Karem() fonksiyonu girilen sayının karesini alır.\n",
        "    \"\"\"\n",
        "    return sayi*sayi\n",
        "\n",
        "print(Karem(3))"
      ],
      "metadata": {
        "colab": {
          "base_uri": "https://localhost:8080/"
        },
        "id": "4UPmojsGFjtK",
        "outputId": "94b7c8f1-b416-4361-c029-4072c3695246"
      },
      "execution_count": 5,
      "outputs": [
        {
          "output_type": "stream",
          "name": "stdout",
          "text": [
            "9\n"
          ]
        }
      ]
    },
    {
      "cell_type": "code",
      "source": [
        "print(Karem.__doc__)  # Karem isimli fonksiyonun docstring metnini verir"
      ],
      "metadata": {
        "colab": {
          "base_uri": "https://localhost:8080/"
        },
        "id": "mIUW-8caGCsg",
        "outputId": "640c5107-596b-4dad-a2f8-2bb5ef085c7d"
      },
      "execution_count": 7,
      "outputs": [
        {
          "output_type": "stream",
          "name": "stdout",
          "text": [
            "\n",
            "    Karem() fonksiyonu girilen sayının karesini alır.\n",
            "    \n"
          ]
        }
      ]
    },
    {
      "cell_type": "markdown",
      "source": [
        "__doc__ yerine help() fonksiyonu da kullanılabilir."
      ],
      "metadata": {
        "id": "Ifaa9otPIGe8"
      }
    },
    {
      "cell_type": "code",
      "source": [
        "help(Karem)"
      ],
      "metadata": {
        "colab": {
          "base_uri": "https://localhost:8080/"
        },
        "id": "C-tcok_KIAPj",
        "outputId": "79e67903-5f25-4401-ee50-74ca1812f959"
      },
      "execution_count": 8,
      "outputs": [
        {
          "output_type": "stream",
          "name": "stdout",
          "text": [
            "Help on function Karem in module __main__:\n",
            "\n",
            "Karem(sayi)\n",
            "    Karem() fonksiyonu girilen sayının karesini alır.\n",
            "\n"
          ]
        }
      ]
    },
    {
      "cell_type": "code",
      "source": [
        "# print() de bir fonksiyon olduğuna göre, print() fonksiyonun docstringini nasıl öğreniriz?\n",
        "print(print.__doc__)"
      ],
      "metadata": {
        "colab": {
          "base_uri": "https://localhost:8080/"
        },
        "id": "Kq02EnteGR10",
        "outputId": "80481418-2ac7-486b-cea0-1b466f277e0d"
      },
      "execution_count": 9,
      "outputs": [
        {
          "output_type": "stream",
          "name": "stdout",
          "text": [
            "print(value, ..., sep=' ', end='\\n', file=sys.stdout, flush=False)\n",
            "\n",
            "Prints the values to a stream, or to sys.stdout by default.\n",
            "Optional keyword arguments:\n",
            "file:  a file-like object (stream); defaults to the current sys.stdout.\n",
            "sep:   string inserted between values, default a space.\n",
            "end:   string appended after the last value, default a newline.\n",
            "flush: whether to forcibly flush the stream.\n"
          ]
        }
      ]
    },
    {
      "cell_type": "code",
      "source": [
        "# Alternatifi\n",
        "help(print)"
      ],
      "metadata": {
        "colab": {
          "base_uri": "https://localhost:8080/"
        },
        "id": "YcXULdr-7kzO",
        "outputId": "8312c873-34bc-42c6-faab-213f378a3160"
      },
      "execution_count": 10,
      "outputs": [
        {
          "output_type": "stream",
          "name": "stdout",
          "text": [
            "Help on built-in function print in module builtins:\n",
            "\n",
            "print(...)\n",
            "    print(value, ..., sep=' ', end='\\n', file=sys.stdout, flush=False)\n",
            "    \n",
            "    Prints the values to a stream, or to sys.stdout by default.\n",
            "    Optional keyword arguments:\n",
            "    file:  a file-like object (stream); defaults to the current sys.stdout.\n",
            "    sep:   string inserted between values, default a space.\n",
            "    end:   string appended after the last value, default a newline.\n",
            "    flush: whether to forcibly flush the stream.\n",
            "\n"
          ]
        }
      ]
    },
    {
      "cell_type": "code",
      "source": [
        "print(map.__doc__)"
      ],
      "metadata": {
        "colab": {
          "base_uri": "https://localhost:8080/"
        },
        "id": "HDtsc0CP_T3A",
        "outputId": "0aa31340-e5df-4637-db7c-778eb4a71ea7"
      },
      "execution_count": 11,
      "outputs": [
        {
          "output_type": "stream",
          "name": "stdout",
          "text": [
            "map(func, *iterables) --> map object\n",
            "\n",
            "Make an iterator that computes the function using arguments from\n",
            "each of the iterables.  Stops when the shortest iterable is exhausted.\n"
          ]
        }
      ]
    },
    {
      "cell_type": "code",
      "source": [
        "print(pow.__doc__)"
      ],
      "metadata": {
        "colab": {
          "base_uri": "https://localhost:8080/"
        },
        "id": "Bz-KQe_r_bpE",
        "outputId": "a034413d-b2d0-4669-af5c-46b244dd8659"
      },
      "execution_count": 12,
      "outputs": [
        {
          "output_type": "stream",
          "name": "stdout",
          "text": [
            "Equivalent to base**exp with 2 arguments or base**exp % mod with 3 arguments\n",
            "\n",
            "Some types, such as ints, are able to use a more efficient algorithm when\n",
            "invoked using the three argument form.\n"
          ]
        }
      ]
    },
    {
      "cell_type": "code",
      "source": [
        "2**3"
      ],
      "metadata": {
        "colab": {
          "base_uri": "https://localhost:8080/"
        },
        "id": "so760QfX_vFB",
        "outputId": "3cc00a03-5541-4e69-aaf8-dffd827ee88b"
      },
      "execution_count": 13,
      "outputs": [
        {
          "output_type": "execute_result",
          "data": {
            "text/plain": [
              "8"
            ]
          },
          "metadata": {},
          "execution_count": 13
        }
      ]
    },
    {
      "cell_type": "code",
      "source": [
        "pow(2,3)"
      ],
      "metadata": {
        "colab": {
          "base_uri": "https://localhost:8080/"
        },
        "id": "AvFvjDYL_ws8",
        "outputId": "f36aefd0-0f10-4fcf-910c-f02b7e26b177"
      },
      "execution_count": 14,
      "outputs": [
        {
          "output_type": "execute_result",
          "data": {
            "text/plain": [
              "8"
            ]
          },
          "metadata": {},
          "execution_count": 14
        }
      ]
    },
    {
      "cell_type": "code",
      "source": [
        "print(input.__doc__)"
      ],
      "metadata": {
        "colab": {
          "base_uri": "https://localhost:8080/"
        },
        "id": "C9VUyz8Q_9GE",
        "outputId": "670383cb-6f7f-41cc-8d6c-278482f6ddb3"
      },
      "execution_count": 15,
      "outputs": [
        {
          "output_type": "stream",
          "name": "stdout",
          "text": [
            "Forward raw_input to frontends\n",
            "\n",
            "        Raises\n",
            "        ------\n",
            "        StdinNotImplementedError if active frontend doesn't support stdin.\n",
            "        \n"
          ]
        }
      ]
    },
    {
      "cell_type": "markdown",
      "source": [
        "# Değişkenler (Variables)\n",
        "*  Variables need not be declared or defined in advance in Python.\n",
        "*  To create a variable, you just assign it a value."
      ],
      "metadata": {
        "id": "QmYRcFHV5Lon"
      }
    },
    {
      "cell_type": "code",
      "source": [
        "# PEP-8 önerisine uygun değil: Değişkenlere anlamlı isimler verilmelidir.\n",
        "x = 5\n",
        "y = 6\n",
        "z = x + y\n",
        "print(x, y, z)"
      ],
      "metadata": {
        "id": "UitIl-tULzvv",
        "colab": {
          "base_uri": "https://localhost:8080/"
        },
        "outputId": "e385552a-fceb-4702-8b6f-762f648411d2"
      },
      "execution_count": 17,
      "outputs": [
        {
          "output_type": "stream",
          "name": "stdout",
          "text": [
            "5 6 11\n"
          ]
        }
      ]
    },
    {
      "cell_type": "code",
      "source": [
        "# PEP-8 önerisine uygun: anlamlı isimlendirme\n",
        "first_number = 10\n",
        "second_number = 20\n",
        "third_number = 30\n",
        "sum = first_number + second_number + third_number\n",
        "print(sum)"
      ],
      "metadata": {
        "colab": {
          "base_uri": "https://localhost:8080/"
        },
        "id": "3g_eMSHVCJzV",
        "outputId": "67d4a4a3-f409-4092-a337-284717a53aa9"
      },
      "execution_count": 18,
      "outputs": [
        {
          "output_type": "stream",
          "name": "stdout",
          "text": [
            "60\n"
          ]
        }
      ]
    },
    {
      "cell_type": "code",
      "source": [
        "color = 'renk'\n",
        "age = 'yas'\n",
        "year ='sene'\n",
        "print(color,age,year)"
      ],
      "metadata": {
        "id": "dQtgHbd1Cjmw"
      },
      "execution_count": null,
      "outputs": []
    },
    {
      "cell_type": "code",
      "source": [
        "# Değişkene değer atanırken yazılıma yeni başlayanların sık yaptığı bir hata\n",
        "5 = var1 # her zaman eşitliğin sağ tarafı sol tarafa aktarılır"
      ],
      "metadata": {
        "id": "06boNf1XM1Xy"
      },
      "execution_count": null,
      "outputs": []
    },
    {
      "cell_type": "code",
      "source": [
        "my_age = 33\n",
        "your_age = 30\n",
        "my_age = your_age  # sağ taraf sol tarafa aktarılır (my_age güncellendi)\n",
        "print(my_age)"
      ],
      "metadata": {
        "colab": {
          "base_uri": "https://localhost:8080/"
        },
        "id": "QcFNIemeRy8Q",
        "outputId": "bb10c2e2-d539-4cd1-d35a-f595e82bb949"
      },
      "execution_count": 19,
      "outputs": [
        {
          "output_type": "stream",
          "name": "stdout",
          "text": [
            "30\n"
          ]
        }
      ]
    },
    {
      "cell_type": "code",
      "source": [
        "print(\"my_age\")"
      ],
      "metadata": {
        "colab": {
          "base_uri": "https://localhost:8080/"
        },
        "id": "GuhbYzWcSDRb",
        "outputId": "2fef2b57-5d8b-4604-b77b-6f08d940a86e"
      },
      "execution_count": 20,
      "outputs": [
        {
          "output_type": "stream",
          "name": "stdout",
          "text": [
            "my_age\n"
          ]
        }
      ]
    },
    {
      "cell_type": "markdown",
      "source": [
        "#PEP8 Önerileri:\n",
        "\n",
        "\n",
        "1. Değişken isimlerinde küçük harf kullanılmalı\n",
        "2. Değişken ismi birkaç kelimeden oluşuyorsa arada \"_\" kullan\n",
        "3. Değişken isimleri anlaşılır olmalı,\n",
        "4. Kafa karıştıran karakterler kullanılmamalı (l,I,o,..)\n",
        "5. Python keywords (reserved words) değişken ismi olarak kullanılmamalı (öneri değil, kural)\n",
        "6. keyword listesi dışında Python built-in fonksiyonlarını değişken ismi olarak kullanmmalıyız (print, input, sum, map,....)\n",
        "7. Değişken isimleri rakamla başlamaz. Ama sonrası rakam içerebilir.\n",
        "8. Değişken isimlerinde boşluk dahil özel karakterler (,-;#$/()..)kullanılmaz ('_' hariç)\n",
        "9. Herkes tarafından bilinen kısaltmalar(jan,oct, avr, ...) kullanılabilir.\n",
        "10. 3 kelimeden uzun değişken adı da kullanılmamalı (avg_income_feb_...)\n",
        "\n"
      ],
      "metadata": {
        "id": "TZ7z5menSNiU"
      }
    },
    {
      "cell_type": "code",
      "source": [
        "# Değişken ismi olarak kullanılmayacak anahtar kelimeler; kwlist\n",
        "from keyword import kwlist\n",
        "print(kwlist)"
      ],
      "metadata": {
        "colab": {
          "base_uri": "https://localhost:8080/"
        },
        "id": "uNbw0-RQTDvf",
        "outputId": "30b6198e-22d5-41f1-ef9e-bb03e4e7c3dd"
      },
      "execution_count": 80,
      "outputs": [
        {
          "output_type": "stream",
          "name": "stdout",
          "text": [
            "['False', 'None', 'True', 'and', 'as', 'assert', 'async', 'await', 'break', 'class', 'continue', 'def', 'del', 'elif', 'else', 'except', 'finally', 'for', 'from', 'global', 'if', 'import', 'in', 'is', 'lambda', 'nonlocal', 'not', 'or', 'pass', 'raise', 'return', 'try', 'while', 'with', 'yield']\n"
          ]
        }
      ]
    },
    {
      "cell_type": "code",
      "source": [
        "is = \"ali\""
      ],
      "metadata": {
        "id": "9GY0Bg77EIhF"
      },
      "execution_count": null,
      "outputs": []
    },
    {
      "cell_type": "code",
      "source": [
        "# # evde tek başınıza denemeyin!!!\n",
        "# print = 5\n",
        "# print(print)"
      ],
      "metadata": {
        "colab": {
          "base_uri": "https://localhost:8080/",
          "height": 217
        },
        "id": "S9MbZ1TuT_TZ",
        "outputId": "6bd00477-5676-45b0-8c25-deed3f1680a4"
      },
      "execution_count": 22,
      "outputs": [
        {
          "output_type": "error",
          "ename": "TypeError",
          "evalue": "ignored",
          "traceback": [
            "\u001b[0;31m---------------------------------------------------------------------------\u001b[0m",
            "\u001b[0;31mTypeError\u001b[0m                                 Traceback (most recent call last)",
            "\u001b[0;32m<ipython-input-22-151a96e12b36>\u001b[0m in \u001b[0;36m<cell line: 3>\u001b[0;34m()\u001b[0m\n\u001b[1;32m      1\u001b[0m \u001b[0;31m# evde tek başınıza denemeyin!!!\u001b[0m\u001b[0;34m\u001b[0m\u001b[0;34m\u001b[0m\u001b[0m\n\u001b[1;32m      2\u001b[0m \u001b[0mprint\u001b[0m \u001b[0;34m=\u001b[0m \u001b[0;36m5\u001b[0m\u001b[0;34m\u001b[0m\u001b[0;34m\u001b[0m\u001b[0m\n\u001b[0;32m----> 3\u001b[0;31m \u001b[0mprint\u001b[0m\u001b[0;34m(\u001b[0m\u001b[0mprint\u001b[0m\u001b[0;34m)\u001b[0m\u001b[0;34m\u001b[0m\u001b[0;34m\u001b[0m\u001b[0m\n\u001b[0m",
            "\u001b[0;31mTypeError\u001b[0m: 'int' object is not callable"
          ]
        }
      ]
    },
    {
      "cell_type": "code",
      "source": [
        "print(\"veli\")"
      ],
      "metadata": {
        "colab": {
          "base_uri": "https://localhost:8080/"
        },
        "id": "TUontD68EV--",
        "outputId": "748f5507-696e-4c64-f380-e5956b963271"
      },
      "execution_count": 1,
      "outputs": [
        {
          "output_type": "stream",
          "name": "stdout",
          "text": [
            "veli\n"
          ]
        }
      ]
    },
    {
      "cell_type": "code",
      "source": [
        "44ad = \"ali\" # rakamla başlamaz ama ad44 olur\n",
        "print(44ad)"
      ],
      "metadata": {
        "colab": {
          "base_uri": "https://localhost:8080/",
          "height": 146
        },
        "id": "SzHSGONxUxUE",
        "outputId": "364f4ba6-66bc-47e2-a407-5dc1d27de83e"
      },
      "execution_count": 2,
      "outputs": [
        {
          "output_type": "error",
          "ename": "SyntaxError",
          "evalue": "ignored",
          "traceback": [
            "\u001b[0;36m  File \u001b[0;32m\"<ipython-input-2-dee561e02e69>\"\u001b[0;36m, line \u001b[0;32m1\u001b[0m\n\u001b[0;31m    44ad = \"ali\" # rakamla başlamaz ama ad44 olur\u001b[0m\n\u001b[0m     ^\u001b[0m\n\u001b[0;31mSyntaxError\u001b[0m\u001b[0;31m:\u001b[0m invalid decimal literal\n"
          ]
        }
      ]
    },
    {
      "cell_type": "code",
      "source": [
        "not = 90  # Hata for turkish students!!! (not bir keyword)"
      ],
      "metadata": {
        "id": "p01jqs3AWGFC",
        "colab": {
          "base_uri": "https://localhost:8080/",
          "height": 146
        },
        "outputId": "5f5c2a5a-e461-43cc-da80-680f5c17aa5a"
      },
      "execution_count": 3,
      "outputs": [
        {
          "output_type": "error",
          "ename": "SyntaxError",
          "evalue": "ignored",
          "traceback": [
            "\u001b[0;36m  File \u001b[0;32m\"<ipython-input-3-54ffb65e6468>\"\u001b[0;36m, line \u001b[0;32m1\u001b[0m\n\u001b[0;31m    not = 90  # Hata for turkish students!!! (not bir keyword)\u001b[0m\n\u001b[0m        ^\u001b[0m\n\u001b[0;31mSyntaxError\u001b[0m\u001b[0;31m:\u001b[0m invalid syntax\n"
          ]
        }
      ]
    },
    {
      "cell_type": "code",
      "source": [
        "# Aynı değer (same) birden fazla değişkene atanabilir\n",
        "x = y = z = \"same\"\n",
        "print(x)\n",
        "print(y)\n",
        "print(z)"
      ],
      "metadata": {
        "colab": {
          "base_uri": "https://localhost:8080/"
        },
        "id": "D5_TcXXNYokd",
        "outputId": "2782fd4f-84a6-4463-e553-5b689d3ed097"
      },
      "execution_count": 5,
      "outputs": [
        {
          "output_type": "stream",
          "name": "stdout",
          "text": [
            "same\n",
            "same\n",
            "same\n"
          ]
        }
      ]
    },
    {
      "cell_type": "code",
      "source": [
        "x = y = z = same  # tırnaksız yazdığımızda değişken algılar\n",
        "print(x)\n",
        "print(y)\n",
        "print(z)"
      ],
      "metadata": {
        "colab": {
          "base_uri": "https://localhost:8080/",
          "height": 235
        },
        "id": "5iuzvLNAJ-Qp",
        "outputId": "f8ae315c-f6a2-443c-a3c5-c444bdb1c902"
      },
      "execution_count": 6,
      "outputs": [
        {
          "output_type": "error",
          "ename": "NameError",
          "evalue": "ignored",
          "traceback": [
            "\u001b[0;31m---------------------------------------------------------------------------\u001b[0m",
            "\u001b[0;31mNameError\u001b[0m                                 Traceback (most recent call last)",
            "\u001b[0;32m<ipython-input-6-d50749ed11d6>\u001b[0m in \u001b[0;36m<cell line: 1>\u001b[0;34m()\u001b[0m\n\u001b[0;32m----> 1\u001b[0;31m \u001b[0mx\u001b[0m \u001b[0;34m=\u001b[0m \u001b[0my\u001b[0m \u001b[0;34m=\u001b[0m \u001b[0mz\u001b[0m \u001b[0;34m=\u001b[0m \u001b[0msame\u001b[0m  \u001b[0;31m# tırnaksız yazdığımızda değişken algılar\u001b[0m\u001b[0;34m\u001b[0m\u001b[0;34m\u001b[0m\u001b[0m\n\u001b[0m\u001b[1;32m      2\u001b[0m \u001b[0mprint\u001b[0m\u001b[0;34m(\u001b[0m\u001b[0mx\u001b[0m\u001b[0;34m)\u001b[0m\u001b[0;34m\u001b[0m\u001b[0;34m\u001b[0m\u001b[0m\n\u001b[1;32m      3\u001b[0m \u001b[0mprint\u001b[0m\u001b[0;34m(\u001b[0m\u001b[0my\u001b[0m\u001b[0;34m)\u001b[0m\u001b[0;34m\u001b[0m\u001b[0;34m\u001b[0m\u001b[0m\n\u001b[1;32m      4\u001b[0m \u001b[0mprint\u001b[0m\u001b[0;34m(\u001b[0m\u001b[0mz\u001b[0m\u001b[0;34m)\u001b[0m\u001b[0;34m\u001b[0m\u001b[0;34m\u001b[0m\u001b[0m\n",
            "\u001b[0;31mNameError\u001b[0m: name 'same' is not defined"
          ]
        }
      ]
    },
    {
      "cell_type": "code",
      "source": [
        "# Birden fazla değişkene tek bir değer aynı satırda aktarılabilir.\n",
        "jan = mar = may = jul = aug = oct = dec = 31\n",
        "feb = 28\n",
        "apr = jun = sep = nov = 30\n",
        "print(jan, feb, mar, apr, may, jun, jul, aug, sep, oct, nov, dec)"
      ],
      "metadata": {
        "colab": {
          "base_uri": "https://localhost:8080/"
        },
        "id": "ZgDMB2bjdJ0A",
        "outputId": "499784e2-faf9-4299-e38d-5bec39750a3d"
      },
      "execution_count": 10,
      "outputs": [
        {
          "output_type": "stream",
          "name": "stdout",
          "text": [
            "31 28 31 30 31 30 31 31 30 31 30 31\n"
          ]
        }
      ]
    },
    {
      "cell_type": "code",
      "source": [
        "# Ne değer atayacağımıza henüz karar veremedi isek ne yapacağız?\n",
        "thomas = 33\n",
        "bulend = None # tipi: NoneType\n",
        "# ....\n",
        "# thomas*bulend"
      ],
      "metadata": {
        "id": "is_I07Wud9AP",
        "colab": {
          "base_uri": "https://localhost:8080/",
          "height": 217
        },
        "outputId": "e9fbf426-cbd9-412b-a1d8-baef083a5cd4"
      },
      "execution_count": 13,
      "outputs": [
        {
          "output_type": "error",
          "ename": "TypeError",
          "evalue": "ignored",
          "traceback": [
            "\u001b[0;31m---------------------------------------------------------------------------\u001b[0m",
            "\u001b[0;31mTypeError\u001b[0m                                 Traceback (most recent call last)",
            "\u001b[0;32m<ipython-input-13-e1d2f83bd5e6>\u001b[0m in \u001b[0;36m<cell line: 5>\u001b[0;34m()\u001b[0m\n\u001b[1;32m      3\u001b[0m \u001b[0mbulend\u001b[0m \u001b[0;34m=\u001b[0m \u001b[0;32mNone\u001b[0m \u001b[0;31m# tipi: NoneType\u001b[0m\u001b[0;34m\u001b[0m\u001b[0;34m\u001b[0m\u001b[0m\n\u001b[1;32m      4\u001b[0m \u001b[0;31m# ....\u001b[0m\u001b[0;34m\u001b[0m\u001b[0;34m\u001b[0m\u001b[0m\n\u001b[0;32m----> 5\u001b[0;31m \u001b[0mthomas\u001b[0m\u001b[0;34m*\u001b[0m\u001b[0mbulend\u001b[0m\u001b[0;34m\u001b[0m\u001b[0;34m\u001b[0m\u001b[0m\n\u001b[0m",
            "\u001b[0;31mTypeError\u001b[0m: unsupported operand type(s) for *: 'int' and 'NoneType'"
          ]
        }
      ]
    },
    {
      "cell_type": "code",
      "source": [
        "website = \"apple.com\"\n",
        "print(website)\n",
        "website = \"clarusway.com\" # güncellendi\n",
        "print(website)"
      ],
      "metadata": {
        "colab": {
          "base_uri": "https://localhost:8080/"
        },
        "id": "-1XHijVtNkKV",
        "outputId": "c70d3d81-30e0-4c02-896e-10f990738f85"
      },
      "execution_count": 14,
      "outputs": [
        {
          "output_type": "stream",
          "name": "stdout",
          "text": [
            "apple.com\n",
            "clarusway.com\n"
          ]
        }
      ]
    },
    {
      "cell_type": "code",
      "source": [
        "website = \"apple.com\"\n",
        "# print(website)\n",
        "website = \"clarusway.com\" # güncellendi\n",
        "print(website)"
      ],
      "metadata": {
        "colab": {
          "base_uri": "https://localhost:8080/"
        },
        "id": "WDwOQVuWNwbP",
        "outputId": "fa4575b4-3c39-4f81-abf8-1251de42fc11"
      },
      "execution_count": 15,
      "outputs": [
        {
          "output_type": "stream",
          "name": "stdout",
          "text": [
            "clarusway.com\n"
          ]
        }
      ]
    },
    {
      "cell_type": "code",
      "source": [
        "first_num = 100\n",
        "second_num = first_num\n",
        "print(second_num)"
      ],
      "metadata": {
        "colab": {
          "base_uri": "https://localhost:8080/"
        },
        "id": "HGOnPEcGOLle",
        "outputId": "9b988ee3-8b24-41ed-b8fd-65766cdfad3e"
      },
      "execution_count": 16,
      "outputs": [
        {
          "output_type": "stream",
          "name": "stdout",
          "text": [
            "100\n"
          ]
        }
      ]
    },
    {
      "cell_type": "code",
      "source": [
        "first_num = 100\n",
        "second_num = \"first_num\"\n",
        "print(second_num)"
      ],
      "metadata": {
        "colab": {
          "base_uri": "https://localhost:8080/"
        },
        "id": "vV18FxxdOUAu",
        "outputId": "13518a6d-a28c-45f4-ec57-1561b98bc2f0"
      },
      "execution_count": 17,
      "outputs": [
        {
          "output_type": "stream",
          "name": "stdout",
          "text": [
            "first_num\n"
          ]
        }
      ]
    },
    {
      "cell_type": "code",
      "source": [
        "x = 15\n",
        "y = 33\n",
        "z = x\n",
        "x = y\n",
        "print(x, y, z)"
      ],
      "metadata": {
        "colab": {
          "base_uri": "https://localhost:8080/"
        },
        "id": "dQuXwemyPF_H",
        "outputId": "b9ee7773-d5c7-4ba2-e7cd-ed75f46ce4b4"
      },
      "execution_count": 19,
      "outputs": [
        {
          "output_type": "stream",
          "name": "stdout",
          "text": [
            "33 33 15\n"
          ]
        }
      ]
    },
    {
      "cell_type": "code",
      "source": [
        "x = 15\n",
        "y = 33\n",
        "z = x\n",
        "x = y\n",
        "print(x, y, z, sep=\"\\n\")"
      ],
      "metadata": {
        "colab": {
          "base_uri": "https://localhost:8080/"
        },
        "id": "i7dqv4d4PSmq",
        "outputId": "1a6a14ba-f148-46cf-c95d-1dcb5f5372b0"
      },
      "execution_count": 20,
      "outputs": [
        {
          "output_type": "stream",
          "name": "stdout",
          "text": [
            "33\n",
            "33\n",
            "15\n"
          ]
        }
      ]
    },
    {
      "cell_type": "code",
      "source": [
        "x = 15\n",
        "y = 33\n",
        "z = x\n",
        "x = y\n",
        "print(x, \"\\n\", y, \"\\n\", z)"
      ],
      "metadata": {
        "colab": {
          "base_uri": "https://localhost:8080/"
        },
        "id": "2oRAK5CIPet1",
        "outputId": "db50a541-230f-469a-a45a-f0fbe12259b0"
      },
      "execution_count": 21,
      "outputs": [
        {
          "output_type": "stream",
          "name": "stdout",
          "text": [
            "33 \n",
            " 33 \n",
            " 15\n"
          ]
        }
      ]
    },
    {
      "cell_type": "code",
      "source": [
        "a, b, c = 5, 3.14, \"Hello\"  # değişken sayısı kadar değer sırası ile aktarılır (tek satırda)\n",
        "print(a)\n",
        "print(b)\n",
        "print(c)"
      ],
      "metadata": {
        "colab": {
          "base_uri": "https://localhost:8080/"
        },
        "id": "28zsQy4ii_oS",
        "outputId": "ee6ebd2f-2194-4648-d226-bfc322506878"
      },
      "execution_count": 22,
      "outputs": [
        {
          "output_type": "stream",
          "name": "stdout",
          "text": [
            "5\n",
            "3.14\n",
            "Hello\n"
          ]
        }
      ]
    },
    {
      "cell_type": "code",
      "source": [
        "a, b, c, d = 5, 3.14, \"Hello\"  # unpacking\n",
        "print(a)\n",
        "print(b)\n",
        "print(c)"
      ],
      "metadata": {
        "colab": {
          "base_uri": "https://localhost:8080/",
          "height": 235
        },
        "id": "OJpBOSnRQZzJ",
        "outputId": "b1e28245-0f11-4970-cf37-093d9abef91d"
      },
      "execution_count": 24,
      "outputs": [
        {
          "output_type": "error",
          "ename": "ValueError",
          "evalue": "ignored",
          "traceback": [
            "\u001b[0;31m---------------------------------------------------------------------------\u001b[0m",
            "\u001b[0;31mValueError\u001b[0m                                Traceback (most recent call last)",
            "\u001b[0;32m<ipython-input-24-70df9415a88f>\u001b[0m in \u001b[0;36m<cell line: 1>\u001b[0;34m()\u001b[0m\n\u001b[0;32m----> 1\u001b[0;31m \u001b[0ma\u001b[0m\u001b[0;34m,\u001b[0m \u001b[0mb\u001b[0m\u001b[0;34m,\u001b[0m \u001b[0mc\u001b[0m\u001b[0;34m,\u001b[0m \u001b[0md\u001b[0m \u001b[0;34m=\u001b[0m \u001b[0;36m5\u001b[0m\u001b[0;34m,\u001b[0m \u001b[0;36m3.14\u001b[0m\u001b[0;34m,\u001b[0m \u001b[0;34m\"Hello\"\u001b[0m  \u001b[0;31m# unpacking\u001b[0m\u001b[0;34m\u001b[0m\u001b[0;34m\u001b[0m\u001b[0m\n\u001b[0m\u001b[1;32m      2\u001b[0m \u001b[0mprint\u001b[0m\u001b[0;34m(\u001b[0m\u001b[0ma\u001b[0m\u001b[0;34m)\u001b[0m\u001b[0;34m\u001b[0m\u001b[0;34m\u001b[0m\u001b[0m\n\u001b[1;32m      3\u001b[0m \u001b[0mprint\u001b[0m\u001b[0;34m(\u001b[0m\u001b[0mb\u001b[0m\u001b[0;34m)\u001b[0m\u001b[0;34m\u001b[0m\u001b[0;34m\u001b[0m\u001b[0m\n\u001b[1;32m      4\u001b[0m \u001b[0mprint\u001b[0m\u001b[0;34m(\u001b[0m\u001b[0mc\u001b[0m\u001b[0;34m)\u001b[0m\u001b[0;34m\u001b[0m\u001b[0;34m\u001b[0m\u001b[0m\n",
            "\u001b[0;31mValueError\u001b[0m: not enough values to unpack (expected 4, got 3)"
          ]
        }
      ]
    },
    {
      "cell_type": "code",
      "source": [
        "a, b, c = 5, 3.14, \"Hello\", \"Maraba\"  # unpacking\n",
        "print(a)\n",
        "print(b)\n",
        "print(c)"
      ],
      "metadata": {
        "colab": {
          "base_uri": "https://localhost:8080/",
          "height": 235
        },
        "id": "tqz34wDPQkI5",
        "outputId": "7a094452-e78f-45d1-d9fe-7faba0e3fccb"
      },
      "execution_count": 25,
      "outputs": [
        {
          "output_type": "error",
          "ename": "ValueError",
          "evalue": "ignored",
          "traceback": [
            "\u001b[0;31m---------------------------------------------------------------------------\u001b[0m",
            "\u001b[0;31mValueError\u001b[0m                                Traceback (most recent call last)",
            "\u001b[0;32m<ipython-input-25-35cd15e2ce71>\u001b[0m in \u001b[0;36m<cell line: 1>\u001b[0;34m()\u001b[0m\n\u001b[0;32m----> 1\u001b[0;31m \u001b[0ma\u001b[0m\u001b[0;34m,\u001b[0m \u001b[0mb\u001b[0m\u001b[0;34m,\u001b[0m \u001b[0mc\u001b[0m \u001b[0;34m=\u001b[0m \u001b[0;36m5\u001b[0m\u001b[0;34m,\u001b[0m \u001b[0;36m3.14\u001b[0m\u001b[0;34m,\u001b[0m \u001b[0;34m\"Hello\"\u001b[0m\u001b[0;34m,\u001b[0m \u001b[0;34m\"Maraba\"\u001b[0m  \u001b[0;31m# unpacking\u001b[0m\u001b[0;34m\u001b[0m\u001b[0;34m\u001b[0m\u001b[0m\n\u001b[0m\u001b[1;32m      2\u001b[0m \u001b[0mprint\u001b[0m\u001b[0;34m(\u001b[0m\u001b[0ma\u001b[0m\u001b[0;34m)\u001b[0m\u001b[0;34m\u001b[0m\u001b[0;34m\u001b[0m\u001b[0m\n\u001b[1;32m      3\u001b[0m \u001b[0mprint\u001b[0m\u001b[0;34m(\u001b[0m\u001b[0mb\u001b[0m\u001b[0;34m)\u001b[0m\u001b[0;34m\u001b[0m\u001b[0;34m\u001b[0m\u001b[0m\n\u001b[1;32m      4\u001b[0m \u001b[0mprint\u001b[0m\u001b[0;34m(\u001b[0m\u001b[0mc\u001b[0m\u001b[0;34m)\u001b[0m\u001b[0;34m\u001b[0m\u001b[0;34m\u001b[0m\u001b[0m\n",
            "\u001b[0;31mValueError\u001b[0m: too many values to unpack (expected 3)"
          ]
        }
      ]
    },
    {
      "cell_type": "code",
      "source": [
        "a, b, *c = 5, 3.14, \"Hello\", \"Maraba\"  # unpacking: kalan c'ye aktarılır...\n",
        "print(a)\n",
        "print(b)\n",
        "print(c)"
      ],
      "metadata": {
        "colab": {
          "base_uri": "https://localhost:8080/"
        },
        "id": "BRIIiv6jQxSQ",
        "outputId": "e5dcca31-3485-4e56-e7e1-8c3bfd5bcb2d"
      },
      "execution_count": 26,
      "outputs": [
        {
          "output_type": "stream",
          "name": "stdout",
          "text": [
            "5\n",
            "3.14\n",
            "['Hello', 'Maraba']\n"
          ]
        }
      ]
    },
    {
      "cell_type": "code",
      "source": [
        "man = \"andrew\"\n",
        "color = \"RED\"\n",
        "pi = 3.14\n",
        "man = \"Bulend\"\n",
        "color = \"YELLOW\"\n",
        "pi = 3.1415\n",
        "print(man, pi, color)  # en güncel değerler ekrana yazdırlır..."
      ],
      "metadata": {
        "colab": {
          "base_uri": "https://localhost:8080/"
        },
        "id": "cqvVPD4NRd4x",
        "outputId": "9c70ef04-a0a2-4cbd-d793-f038bbd0aa34"
      },
      "execution_count": 27,
      "outputs": [
        {
          "output_type": "stream",
          "name": "stdout",
          "text": [
            "Bulend 3.1415 YELLOW\n"
          ]
        }
      ]
    },
    {
      "cell_type": "code",
      "source": [
        "# PEP-8 önerisi: değeri değişmeyen ifadeler (SABİTLER) büyük harfle kodlanır\n",
        "man = \"andrew\"\n",
        "color = \"RED\"\n",
        "PI = 3.14\n",
        "man = \"Bulend\"\n",
        "color = \"YELLOW\"\n",
        "print(man, PI, color)  # en güncel değerler ekrana yazdırlır..."
      ],
      "metadata": {
        "colab": {
          "base_uri": "https://localhost:8080/"
        },
        "id": "tE8lN4kxj1vb",
        "outputId": "e9e04db8-5a5b-48c3-d4a3-506f306bb158"
      },
      "execution_count": 28,
      "outputs": [
        {
          "output_type": "stream",
          "name": "stdout",
          "text": [
            "Bulend 3.14 YELLOW\n"
          ]
        }
      ]
    },
    {
      "cell_type": "code",
      "source": [
        "# lms sorusu\n",
        "# Q: Which of the following is an invalid statement?\n",
        "x, y, z = 1, 22, 333    # a)\n",
        "x_y_z = 1_234_567       # b)\n",
        "xyz = 1234567           # c)\n",
        "x y z = 111 222 333     # d)"
      ],
      "metadata": {
        "id": "gJ1ENvkTTNMm"
      },
      "execution_count": null,
      "outputs": []
    },
    {
      "cell_type": "markdown",
      "source": [
        "# BASIC DATA TYPES\n",
        "\n",
        "1.   Sözel (strings) ifadeler: str\n",
        "2.   Sayısal ifadeler (numeric)\n",
        "\n",
        "    2.1. Tamsayı(integer):  int\n",
        "\n",
        "    2.2. Kesirli(floating) sayılar: float\n",
        "\n",
        "    2.3. Karmaşık (complex) sayılar: complex\n",
        "    \n",
        "3. Boolean (True/ False) ifadeler: bool\n",
        "4. None veri tipi: NoneType\n",
        "\n",
        "Veri tipini öğrenmek için ise type() fonksiyonu kullanılır.\n",
        "\n",
        "\n",
        "\n"
      ],
      "metadata": {
        "id": "CP7VxdCHlB_e"
      }
    },
    {
      "cell_type": "markdown",
      "source": [
        "![image.png](data:image/png;base64,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)"
      ],
      "metadata": {
        "id": "MKk5Sos1Ur0b"
      }
    },
    {
      "cell_type": "code",
      "source": [
        "# her değişkenin, verinin, fonksiyonun (nesnenin) bir tipi vardır.\n",
        "# Ve bu tipi 'type()' fonksiyonu ile öğrenebiliriz"
      ],
      "metadata": {
        "id": "OamSNZNHpfub"
      },
      "execution_count": null,
      "outputs": []
    },
    {
      "cell_type": "code",
      "source": [
        "type(True)  #value(değerlerin de) tipi type ile öğrenilebilir."
      ],
      "metadata": {
        "colab": {
          "base_uri": "https://localhost:8080/"
        },
        "id": "-WBVx4Vpqv7Y",
        "outputId": "6742449c-c61b-4c0e-fe5d-9df88977d67f"
      },
      "execution_count": 29,
      "outputs": [
        {
          "output_type": "execute_result",
          "data": {
            "text/plain": [
              "bool"
            ]
          },
          "metadata": {},
          "execution_count": 29
        }
      ]
    },
    {
      "cell_type": "code",
      "source": [
        "type(man)"
      ],
      "metadata": {
        "colab": {
          "base_uri": "https://localhost:8080/"
        },
        "id": "WmbppTVwVqce",
        "outputId": "adc3136f-672c-4b38-ab23-74d892604916"
      },
      "execution_count": 30,
      "outputs": [
        {
          "output_type": "execute_result",
          "data": {
            "text/plain": [
              "str"
            ]
          },
          "metadata": {},
          "execution_count": 30
        }
      ]
    },
    {
      "cell_type": "code",
      "source": [
        "type(PI)"
      ],
      "metadata": {
        "colab": {
          "base_uri": "https://localhost:8080/"
        },
        "id": "lBzDhlxnVwBl",
        "outputId": "6966c7c3-5a11-40d9-9543-c406297d9e8c"
      },
      "execution_count": 31,
      "outputs": [
        {
          "output_type": "execute_result",
          "data": {
            "text/plain": [
              "float"
            ]
          },
          "metadata": {},
          "execution_count": 31
        }
      ]
    },
    {
      "cell_type": "code",
      "source": [
        "type(3.14)"
      ],
      "metadata": {
        "colab": {
          "base_uri": "https://localhost:8080/"
        },
        "id": "MluHGdW4VyUE",
        "outputId": "20d09455-ff1d-42b8-b619-e32ae853ad80"
      },
      "execution_count": 32,
      "outputs": [
        {
          "output_type": "execute_result",
          "data": {
            "text/plain": [
              "float"
            ]
          },
          "metadata": {},
          "execution_count": 32
        }
      ]
    },
    {
      "cell_type": "code",
      "source": [
        "type(3,14)"
      ],
      "metadata": {
        "colab": {
          "base_uri": "https://localhost:8080/",
          "height": 182
        },
        "id": "6feEEH0HV0rP",
        "outputId": "60547ebd-68ae-46db-83ee-02c78edadb99"
      },
      "execution_count": 33,
      "outputs": [
        {
          "output_type": "error",
          "ename": "TypeError",
          "evalue": "ignored",
          "traceback": [
            "\u001b[0;31m---------------------------------------------------------------------------\u001b[0m",
            "\u001b[0;31mTypeError\u001b[0m                                 Traceback (most recent call last)",
            "\u001b[0;32m<ipython-input-33-857cf9503def>\u001b[0m in \u001b[0;36m<cell line: 1>\u001b[0;34m()\u001b[0m\n\u001b[0;32m----> 1\u001b[0;31m \u001b[0mtype\u001b[0m\u001b[0;34m(\u001b[0m\u001b[0;36m3\u001b[0m\u001b[0;34m,\u001b[0m\u001b[0;36m14\u001b[0m\u001b[0;34m)\u001b[0m\u001b[0;34m\u001b[0m\u001b[0;34m\u001b[0m\u001b[0m\n\u001b[0m",
            "\u001b[0;31mTypeError\u001b[0m: type() takes 1 or 3 arguments"
          ]
        }
      ]
    },
    {
      "cell_type": "code",
      "source": [
        "type((3,14))"
      ],
      "metadata": {
        "colab": {
          "base_uri": "https://localhost:8080/"
        },
        "id": "zXS3l7LRV8TJ",
        "outputId": "37f6860a-0e86-48ad-95c3-4ea2a62815f6"
      },
      "execution_count": 34,
      "outputs": [
        {
          "output_type": "execute_result",
          "data": {
            "text/plain": [
              "tuple"
            ]
          },
          "metadata": {},
          "execution_count": 34
        }
      ]
    },
    {
      "cell_type": "markdown",
      "source": [
        "#String veri tipi (str)\n",
        "\"...\", '..', '''..''', \"\"\"...\"\"\" içerisindeki herşey str tipindedir."
      ],
      "metadata": {
        "id": "J8D99jaaXJ_1"
      }
    },
    {
      "cell_type": "code",
      "source": [
        "text_1 = \"ali\"\n",
        "text_2 = \"\"\"2020\"\"\"\n",
        "text_3 = '3.14'\n"
      ],
      "metadata": {
        "id": "6ZsmGWpUXY7d"
      },
      "execution_count": 35,
      "outputs": []
    },
    {
      "cell_type": "code",
      "source": [
        "print(type(text_1))\n",
        "print(type(text_2))\n",
        "print(type(text_3))"
      ],
      "metadata": {
        "colab": {
          "base_uri": "https://localhost:8080/"
        },
        "id": "fZCJ6MjPXl2A",
        "outputId": "4b1b54a0-e54c-49b1-ffa9-f99c0f9a16de"
      },
      "execution_count": 36,
      "outputs": [
        {
          "output_type": "stream",
          "name": "stdout",
          "text": [
            "<class 'str'>\n",
            "<class 'str'>\n",
            "<class 'str'>\n"
          ]
        }
      ]
    },
    {
      "cell_type": "code",
      "source": [
        "type(text_3)"
      ],
      "metadata": {
        "colab": {
          "base_uri": "https://localhost:8080/"
        },
        "id": "KxQhu2XsXt8S",
        "outputId": "65204af3-b4d7-48d3-f14f-899f1cc4eba3"
      },
      "execution_count": 37,
      "outputs": [
        {
          "output_type": "execute_result",
          "data": {
            "text/plain": [
              "str"
            ]
          },
          "metadata": {},
          "execution_count": 37
        }
      ]
    },
    {
      "cell_type": "code",
      "source": [
        "nums = 620 + 450\n",
        "print(nums)"
      ],
      "metadata": {
        "colab": {
          "base_uri": "https://localhost:8080/"
        },
        "id": "IYXqdYleYYSq",
        "outputId": "5f3b6fbc-bced-4fea-8bc5-068431650055"
      },
      "execution_count": 40,
      "outputs": [
        {
          "output_type": "stream",
          "name": "stdout",
          "text": [
            "1070\n"
          ]
        }
      ]
    },
    {
      "cell_type": "code",
      "source": [
        "# stringler '+' operatörü ile birleştirilir.....\n",
        "nums = \"620\" + \"450\"\n",
        "print(nums)"
      ],
      "metadata": {
        "colab": {
          "base_uri": "https://localhost:8080/"
        },
        "id": "cyDk9VkSYC8e",
        "outputId": "ed0d2731-dee1-44bb-a29f-dfe0a7f7b5b3"
      },
      "execution_count": 38,
      "outputs": [
        {
          "output_type": "stream",
          "name": "stdout",
          "text": [
            "620450\n"
          ]
        }
      ]
    },
    {
      "cell_type": "code",
      "source": [
        "type(nums)"
      ],
      "metadata": {
        "colab": {
          "base_uri": "https://localhost:8080/"
        },
        "id": "-cq8hHY8YRNL",
        "outputId": "4679ea4f-aa64-40b4-a593-fe607cb38751"
      },
      "execution_count": 39,
      "outputs": [
        {
          "output_type": "execute_result",
          "data": {
            "text/plain": [
              "str"
            ]
          },
          "metadata": {},
          "execution_count": 39
        }
      ]
    },
    {
      "cell_type": "code",
      "source": [
        "type(5)"
      ],
      "metadata": {
        "colab": {
          "base_uri": "https://localhost:8080/"
        },
        "id": "6pLajj56Zns5",
        "outputId": "8e8099af-7b71-4d18-ea91-d027a44b7b88"
      },
      "execution_count": 42,
      "outputs": [
        {
          "output_type": "execute_result",
          "data": {
            "text/plain": [
              "int"
            ]
          },
          "metadata": {},
          "execution_count": 42
        }
      ]
    },
    {
      "cell_type": "code",
      "source": [
        "type(5.5)"
      ],
      "metadata": {
        "colab": {
          "base_uri": "https://localhost:8080/"
        },
        "id": "-1aLD2gWZpvi",
        "outputId": "dff1c4f0-7811-4254-e425-0cdcacbba840"
      },
      "execution_count": 43,
      "outputs": [
        {
          "output_type": "execute_result",
          "data": {
            "text/plain": [
              "float"
            ]
          },
          "metadata": {},
          "execution_count": 43
        }
      ]
    },
    {
      "cell_type": "code",
      "source": [
        "dogru = True\n",
        "yanlis = False\n",
        "type(dogru)"
      ],
      "metadata": {
        "colab": {
          "base_uri": "https://localhost:8080/"
        },
        "id": "fCtUo-RBZ2Jh",
        "outputId": "ebafe30e-f61a-468f-fba2-9a16b36c3244"
      },
      "execution_count": 44,
      "outputs": [
        {
          "output_type": "execute_result",
          "data": {
            "text/plain": [
              "bool"
            ]
          },
          "metadata": {},
          "execution_count": 44
        }
      ]
    },
    {
      "cell_type": "code",
      "source": [
        "# iki sayının toplamını yapan program\n",
        "nums1 = input(\"Sayı-1..: \") # str\n",
        "nums2 = input(\"Sayı-2..: \") # str\n",
        "total = nums1 + nums2\n",
        "print(\"Toplam= \", total)"
      ],
      "metadata": {
        "colab": {
          "base_uri": "https://localhost:8080/"
        },
        "id": "swurvKAXYbMa",
        "outputId": "c49cf846-b5e6-4e1c-810e-59cb113f500a"
      },
      "execution_count": 41,
      "outputs": [
        {
          "output_type": "stream",
          "name": "stdout",
          "text": [
            "Sayı-1..: 5\n",
            "Sayı-2..: 6\n",
            "Toplam=  56\n"
          ]
        }
      ]
    },
    {
      "cell_type": "code",
      "source": [
        "# iki sayının toplamını yapan program\n",
        "nums1 = input() # str\n",
        "nums2 = input() # str\n",
        "total = nums1 + nums2\n",
        "print(\"Toplam= \", total)"
      ],
      "metadata": {
        "colab": {
          "base_uri": "https://localhost:8080/"
        },
        "id": "gnTKmF3xasAi",
        "outputId": "7b2808f1-10a3-4d28-a87f-c58c786266d1"
      },
      "execution_count": 48,
      "outputs": [
        {
          "output_type": "stream",
          "name": "stdout",
          "text": [
            "5\n",
            "6\n",
            "Toplam=  56\n"
          ]
        }
      ]
    },
    {
      "cell_type": "code",
      "source": [
        "# iki sayının toplamını yapan program\n",
        "nums1 = input(prompt=1000) # str\n",
        "nums2 = input(prompt=2000) # str\n",
        "total = nums1 + nums2\n",
        "print(\"Toplam= \", total)"
      ],
      "metadata": {
        "colab": {
          "base_uri": "https://localhost:8080/"
        },
        "id": "8nt8TXKDaXGT",
        "outputId": "207de297-bebf-4a61-aa01-dc1c93bcaf20"
      },
      "execution_count": 47,
      "outputs": [
        {
          "output_type": "stream",
          "name": "stdout",
          "text": [
            "10005\n",
            "20006\n",
            "Toplam=  56\n"
          ]
        }
      ]
    },
    {
      "cell_type": "markdown",
      "source": [
        "# Tip Dönüşümü\n",
        "Her veri veya veri tipi  \"str\" veri tipine dönüştürülebilir. Fakat tersi her zaman mümkün değildir."
      ],
      "metadata": {
        "id": "fZRZVrhprlPk"
      }
    },
    {
      "cell_type": "code",
      "source": [
        "# iki sayının toplamını yapan program\n",
        "nums1 = input(\"Sayı-1..: \") # str\n",
        "nums2 = input(\"Sayı-2..: \") # str\n",
        "total = int(nums1) + int(nums2)\n",
        "print(\"Toplam= \", total)"
      ],
      "metadata": {
        "colab": {
          "base_uri": "https://localhost:8080/"
        },
        "id": "CiwWcAL8aG3a",
        "outputId": "765ba888-cd56-4ca1-9c22-2c3f2ff4d6ff"
      },
      "execution_count": 45,
      "outputs": [
        {
          "output_type": "stream",
          "name": "stdout",
          "text": [
            "Sayı-1..: 5\n",
            "Sayı-2..: 6\n",
            "Toplam=  11\n"
          ]
        }
      ]
    },
    {
      "cell_type": "code",
      "source": [
        "# iki sayının toplamını yapan program\n",
        "nums1 = int(input(\"Sayı-1..: \")) # int\n",
        "nums2 = int(input(\"Sayı-2..: \")) # int\n",
        "total = nums1 + nums2\n",
        "print(\"Toplam= \", total)"
      ],
      "metadata": {
        "colab": {
          "base_uri": "https://localhost:8080/"
        },
        "id": "HGk2QqSWaz-v",
        "outputId": "e78ab780-eb2e-4542-8920-a2d3bcf3668d"
      },
      "execution_count": 49,
      "outputs": [
        {
          "output_type": "stream",
          "name": "stdout",
          "text": [
            "Sayı-1..: 5\n",
            "Sayı-2..: 6\n",
            "Toplam=  11\n"
          ]
        }
      ]
    },
    {
      "cell_type": "code",
      "source": [
        "# iki sayının toplamını yapan program\n",
        "nums1 = input(\"Sayı-1..: \") # str\n",
        "nums2 = input(\"Sayı-2..: \") # str\n",
        "total = float(nums1) + float(nums2)\n",
        "print(\"Toplam= \", total)"
      ],
      "metadata": {
        "colab": {
          "base_uri": "https://localhost:8080/"
        },
        "id": "b5el1u0WbBV6",
        "outputId": "9cb35022-d2af-4fab-a56d-8d55d672733c"
      },
      "execution_count": 50,
      "outputs": [
        {
          "output_type": "stream",
          "name": "stdout",
          "text": [
            "Sayı-1..: 5\n",
            "Sayı-2..: 6\n",
            "Toplam=  11.0\n"
          ]
        }
      ]
    },
    {
      "cell_type": "code",
      "source": [
        "# iki sayının toplamını yapan program\n",
        "nums1 = input(\"Sayı-1..: \") # str\n",
        "nums2 = input(\"Sayı-2..: \") # str\n",
        "total = float(nums1) + int(nums2)\n",
        "print(\"Toplam= \", total)\n",
        "print(type(total))"
      ],
      "metadata": {
        "colab": {
          "base_uri": "https://localhost:8080/"
        },
        "id": "KfCzDzWwbJHs",
        "outputId": "43df89e0-ef8d-4407-d7bc-3f8ffe9c0bbe"
      },
      "execution_count": 51,
      "outputs": [
        {
          "output_type": "stream",
          "name": "stdout",
          "text": [
            "Sayı-1..: 5\n",
            "Sayı-2..: 6\n",
            "Toplam=  11.0\n",
            "<class 'float'>\n"
          ]
        }
      ]
    },
    {
      "cell_type": "code",
      "source": [
        "PI = 3.14\n",
        "converted_pi = str(PI)\n",
        "print(converted_pi)  # pprint(converted_pi) : '3.14'\n",
        "print(type(converted_pi))"
      ],
      "metadata": {
        "colab": {
          "base_uri": "https://localhost:8080/"
        },
        "id": "IrxThWOjbycD",
        "outputId": "8cbf3f46-b7ef-49eb-f447-5cc87e068e74"
      },
      "execution_count": 54,
      "outputs": [
        {
          "output_type": "stream",
          "name": "stdout",
          "text": [
            "3.14\n",
            "<class 'str'>\n"
          ]
        }
      ]
    },
    {
      "cell_type": "code",
      "source": [
        "converted_pi"
      ],
      "metadata": {
        "colab": {
          "base_uri": "https://localhost:8080/",
          "height": 35
        },
        "id": "2nx_PYZgb_hu",
        "outputId": "f1330032-130a-457b-87dc-42e530b74e33"
      },
      "execution_count": 53,
      "outputs": [
        {
          "output_type": "execute_result",
          "data": {
            "text/plain": [
              "'3.14'"
            ],
            "application/vnd.google.colaboratory.intrinsic+json": {
              "type": "string"
            }
          },
          "metadata": {},
          "execution_count": 53
        }
      ]
    },
    {
      "cell_type": "code",
      "source": [
        "PI = 3.99\n",
        "converted_pi = int(PI)\n",
        "print(converted_pi)\n",
        "print(type(converted_pi))"
      ],
      "metadata": {
        "colab": {
          "base_uri": "https://localhost:8080/"
        },
        "id": "Gd6-MG5McZjH",
        "outputId": "68ae7a47-0b93-4867-d46f-0d2f43d4391d"
      },
      "execution_count": 55,
      "outputs": [
        {
          "output_type": "stream",
          "name": "stdout",
          "text": [
            "3\n",
            "<class 'int'>\n"
          ]
        }
      ]
    },
    {
      "cell_type": "code",
      "source": [
        "PI = 3.14\n",
        "converted_pi = int(PI)  # tam kısmı alır...\n",
        "print(converted_pi)\n",
        "print(type(converted_pi))"
      ],
      "metadata": {
        "colab": {
          "base_uri": "https://localhost:8080/"
        },
        "id": "H6xxyXpXcgoc",
        "outputId": "daa9e9ff-5cfe-4239-a25d-f4b7528d0d5e"
      },
      "execution_count": 56,
      "outputs": [
        {
          "output_type": "stream",
          "name": "stdout",
          "text": [
            "3\n",
            "<class 'int'>\n"
          ]
        }
      ]
    },
    {
      "cell_type": "code",
      "source": [
        "PI = 3\n",
        "converted_pi = float(PI)  # .0\n",
        "print(converted_pi)\n",
        "print(type(converted_pi))"
      ],
      "metadata": {
        "colab": {
          "base_uri": "https://localhost:8080/"
        },
        "id": "ozJBkOa8ctGO",
        "outputId": "abf86448-46c5-43db-92a3-b629c91f5f36"
      },
      "execution_count": 57,
      "outputs": [
        {
          "output_type": "stream",
          "name": "stdout",
          "text": [
            "3.0\n",
            "<class 'float'>\n"
          ]
        }
      ]
    },
    {
      "cell_type": "code",
      "source": [
        "z = 39\n",
        "x = \"11\"\n",
        "y = \"3.14\"\n",
        "data = \"I am at \""
      ],
      "metadata": {
        "id": "0j6Q1C6TdMdP"
      },
      "execution_count": 67,
      "outputs": []
    },
    {
      "cell_type": "code",
      "source": [
        "z + int(x)"
      ],
      "metadata": {
        "colab": {
          "base_uri": "https://localhost:8080/"
        },
        "id": "VnKGw3wmdgIc",
        "outputId": "a72ffa61-66dd-47d9-da4c-c23c72243806"
      },
      "execution_count": 60,
      "outputs": [
        {
          "output_type": "execute_result",
          "data": {
            "text/plain": [
              "50"
            ]
          },
          "metadata": {},
          "execution_count": 60
        }
      ]
    },
    {
      "cell_type": "code",
      "source": [
        "z + float(y)"
      ],
      "metadata": {
        "colab": {
          "base_uri": "https://localhost:8080/"
        },
        "id": "avDdmf3odj6B",
        "outputId": "d0da4f30-29ef-4932-8be3-7f76d7039a64"
      },
      "execution_count": 63,
      "outputs": [
        {
          "output_type": "execute_result",
          "data": {
            "text/plain": [
              "42.14"
            ]
          },
          "metadata": {},
          "execution_count": 63
        }
      ]
    },
    {
      "cell_type": "code",
      "source": [
        "type(z + float(y))"
      ],
      "metadata": {
        "colab": {
          "base_uri": "https://localhost:8080/"
        },
        "id": "37yYGwgCdqwl",
        "outputId": "6fbe70db-7b49-4835-a4a6-41692f63d45e"
      },
      "execution_count": 64,
      "outputs": [
        {
          "output_type": "execute_result",
          "data": {
            "text/plain": [
              "float"
            ]
          },
          "metadata": {},
          "execution_count": 64
        }
      ]
    },
    {
      "cell_type": "code",
      "source": [
        "data + str(z)"
      ],
      "metadata": {
        "colab": {
          "base_uri": "https://localhost:8080/",
          "height": 35
        },
        "id": "fRcN8rE6dvFM",
        "outputId": "b47903ca-bbfb-43da-d414-969a3982033b"
      },
      "execution_count": 68,
      "outputs": [
        {
          "output_type": "execute_result",
          "data": {
            "text/plain": [
              "'I am at 39'"
            ],
            "application/vnd.google.colaboratory.intrinsic+json": {
              "type": "string"
            }
          },
          "metadata": {},
          "execution_count": 68
        }
      ]
    },
    {
      "cell_type": "code",
      "source": [
        "z + x"
      ],
      "metadata": {
        "colab": {
          "base_uri": "https://localhost:8080/",
          "height": 182
        },
        "id": "zZwMFdQJdWs-",
        "outputId": "eee92566-3555-4478-d2ab-57857e477f84"
      },
      "execution_count": 59,
      "outputs": [
        {
          "output_type": "error",
          "ename": "TypeError",
          "evalue": "ignored",
          "traceback": [
            "\u001b[0;31m---------------------------------------------------------------------------\u001b[0m",
            "\u001b[0;31mTypeError\u001b[0m                                 Traceback (most recent call last)",
            "\u001b[0;32m<ipython-input-59-271df97979bc>\u001b[0m in \u001b[0;36m<cell line: 1>\u001b[0;34m()\u001b[0m\n\u001b[0;32m----> 1\u001b[0;31m \u001b[0mz\u001b[0m \u001b[0;34m+\u001b[0m \u001b[0mx\u001b[0m\u001b[0;34m\u001b[0m\u001b[0;34m\u001b[0m\u001b[0m\n\u001b[0m",
            "\u001b[0;31mTypeError\u001b[0m: unsupported operand type(s) for +: 'int' and 'str'"
          ]
        }
      ]
    },
    {
      "cell_type": "code",
      "source": [
        "print(int(\"5\" + \"1\"))\n",
        "print(str(\"5\" + \"1\"))\n",
        "print(\"5\" + \"1\")"
      ],
      "metadata": {
        "colab": {
          "base_uri": "https://localhost:8080/"
        },
        "id": "_zKstq5BeJWy",
        "outputId": "b48d0899-2466-4d46-b79b-efa2f1eb6534"
      },
      "execution_count": 69,
      "outputs": [
        {
          "output_type": "stream",
          "name": "stdout",
          "text": [
            "51\n",
            "51\n",
            "51\n"
          ]
        }
      ]
    },
    {
      "cell_type": "code",
      "source": [
        "num1 = 123\n",
        "num2 = \"456\"\n",
        "print(type(num1))\n",
        "print(type(num2))\n",
        "print(num1+num2)"
      ],
      "metadata": {
        "colab": {
          "base_uri": "https://localhost:8080/",
          "height": 253
        },
        "id": "QLtZzCFiflJp",
        "outputId": "147f7be3-fb41-4e59-f310-ba9672dae5df"
      },
      "execution_count": 71,
      "outputs": [
        {
          "output_type": "stream",
          "name": "stdout",
          "text": [
            "<class 'int'>\n",
            "<class 'str'>\n"
          ]
        },
        {
          "output_type": "error",
          "ename": "TypeError",
          "evalue": "ignored",
          "traceback": [
            "\u001b[0;31m---------------------------------------------------------------------------\u001b[0m",
            "\u001b[0;31mTypeError\u001b[0m                                 Traceback (most recent call last)",
            "\u001b[0;32m<ipython-input-71-4ca4a4e15b9a>\u001b[0m in \u001b[0;36m<cell line: 5>\u001b[0;34m()\u001b[0m\n\u001b[1;32m      3\u001b[0m \u001b[0mprint\u001b[0m\u001b[0;34m(\u001b[0m\u001b[0mtype\u001b[0m\u001b[0;34m(\u001b[0m\u001b[0mnum1\u001b[0m\u001b[0;34m)\u001b[0m\u001b[0;34m)\u001b[0m\u001b[0;34m\u001b[0m\u001b[0;34m\u001b[0m\u001b[0m\n\u001b[1;32m      4\u001b[0m \u001b[0mprint\u001b[0m\u001b[0;34m(\u001b[0m\u001b[0mtype\u001b[0m\u001b[0;34m(\u001b[0m\u001b[0mnum2\u001b[0m\u001b[0;34m)\u001b[0m\u001b[0;34m)\u001b[0m\u001b[0;34m\u001b[0m\u001b[0;34m\u001b[0m\u001b[0m\n\u001b[0;32m----> 5\u001b[0;31m \u001b[0mprint\u001b[0m\u001b[0;34m(\u001b[0m\u001b[0mnum1\u001b[0m\u001b[0;34m+\u001b[0m\u001b[0mnum2\u001b[0m\u001b[0;34m)\u001b[0m\u001b[0;34m\u001b[0m\u001b[0;34m\u001b[0m\u001b[0m\n\u001b[0m",
            "\u001b[0;31mTypeError\u001b[0m: unsupported operand type(s) for +: 'int' and 'str'"
          ]
        }
      ]
    },
    {
      "cell_type": "code",
      "source": [
        "num1 = 123\n",
        "num2 = \"456\"\n",
        "print(type(num1))\n",
        "print(type(num2))\n",
        "num3 = num1 + int(num2)\n",
        "print(num3)\n",
        "print(type(num3))"
      ],
      "metadata": {
        "colab": {
          "base_uri": "https://localhost:8080/"
        },
        "id": "h5tKXBKhjt9s",
        "outputId": "4e3bb740-4b1a-4976-ceec-05ab4802712a"
      },
      "execution_count": 73,
      "outputs": [
        {
          "output_type": "stream",
          "name": "stdout",
          "text": [
            "<class 'int'>\n",
            "<class 'str'>\n",
            "579\n",
            "<class 'int'>\n"
          ]
        }
      ]
    },
    {
      "cell_type": "code",
      "source": [
        "# bool veri tipi sayısal işleme tabii tutulursa int gibi davranır.,\n",
        "dogru = True\n",
        "yanlis = False\n",
        "print(type(yanlis))  # bool\n",
        "print(dogru+yanlis)  # 1+0\n",
        "print(type(dogru+yanlis)) # type(1+0)-> int"
      ],
      "metadata": {
        "colab": {
          "base_uri": "https://localhost:8080/"
        },
        "id": "9CBp9zpAx6Ni",
        "outputId": "c7d75a34-38a7-4bbe-85a0-09ed5c4be368"
      },
      "execution_count": 74,
      "outputs": [
        {
          "output_type": "stream",
          "name": "stdout",
          "text": [
            "<class 'bool'>\n",
            "1\n",
            "<class 'int'>\n"
          ]
        }
      ]
    },
    {
      "cell_type": "code",
      "source": [
        "#In Python, a variable may be assigned a value of one type, and then later assigned a value of a different type:\n",
        "a = 5\n",
        "a = \"55\""
      ],
      "metadata": {
        "id": "2QFfFfaolKin"
      },
      "execution_count": 75,
      "outputs": []
    },
    {
      "cell_type": "code",
      "source": [
        "# bir nesne(300), iki referans (m,n)\n",
        "n = 300\n",
        "m = n"
      ],
      "metadata": {
        "id": "PhCQe_FOlq0N"
      },
      "execution_count": 76,
      "outputs": []
    },
    {
      "cell_type": "code",
      "source": [
        "# id: kimlik operatörü: bellek adresini verir\n",
        "id(n)"
      ],
      "metadata": {
        "colab": {
          "base_uri": "https://localhost:8080/"
        },
        "id": "Z9E3PqvmluP_",
        "outputId": "3910d17e-1931-44e0-8999-850fbd38437c"
      },
      "execution_count": 77,
      "outputs": [
        {
          "output_type": "execute_result",
          "data": {
            "text/plain": [
              "140412311787664"
            ]
          },
          "metadata": {},
          "execution_count": 77
        }
      ]
    },
    {
      "cell_type": "code",
      "source": [
        "id(m)"
      ],
      "metadata": {
        "colab": {
          "base_uri": "https://localhost:8080/"
        },
        "id": "GhrG-j9gl4Dn",
        "outputId": "2fab61dc-d284-43fe-98bd-f66cc56eab6c"
      },
      "execution_count": 78,
      "outputs": [
        {
          "output_type": "execute_result",
          "data": {
            "text/plain": [
              "140412311787664"
            ]
          },
          "metadata": {},
          "execution_count": 78
        }
      ]
    },
    {
      "cell_type": "code",
      "source": [
        "kwlist"
      ],
      "metadata": {
        "colab": {
          "base_uri": "https://localhost:8080/"
        },
        "id": "EDiVzljxmbq9",
        "outputId": "00187817-31a0-4a7c-95a2-78ecec384c34"
      },
      "execution_count": 81,
      "outputs": [
        {
          "output_type": "execute_result",
          "data": {
            "text/plain": [
              "['False',\n",
              " 'None',\n",
              " 'True',\n",
              " 'and',\n",
              " 'as',\n",
              " 'assert',\n",
              " 'async',\n",
              " 'await',\n",
              " 'break',\n",
              " 'class',\n",
              " 'continue',\n",
              " 'def',\n",
              " 'del',\n",
              " 'elif',\n",
              " 'else',\n",
              " 'except',\n",
              " 'finally',\n",
              " 'for',\n",
              " 'from',\n",
              " 'global',\n",
              " 'if',\n",
              " 'import',\n",
              " 'in',\n",
              " 'is',\n",
              " 'lambda',\n",
              " 'nonlocal',\n",
              " 'not',\n",
              " 'or',\n",
              " 'pass',\n",
              " 'raise',\n",
              " 'return',\n",
              " 'try',\n",
              " 'while',\n",
              " 'with',\n",
              " 'yield']"
            ]
          },
          "metadata": {},
          "execution_count": 81
        }
      ]
    }
  ]
}