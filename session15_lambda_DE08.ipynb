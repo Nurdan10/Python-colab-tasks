{
  "nbformat": 4,
  "nbformat_minor": 0,
  "metadata": {
    "colab": {
      "provenance": []
    },
    "kernelspec": {
      "name": "python3",
      "display_name": "Python 3"
    },
    "language_info": {
      "name": "python"
    }
  },
  "cells": [
    {
      "cell_type": "code",
      "execution_count": 3,
      "metadata": {
        "colab": {
          "base_uri": "https://localhost:8080/",
          "height": 145
        },
        "id": "bUjmv5WjX6jD",
        "outputId": "f7f7498c-dc86-4085-d3ff-e8e65acf0241"
      },
      "outputs": [
        {
          "output_type": "error",
          "ename": "SyntaxError",
          "evalue": "expected ':' (<ipython-input-3-ca1534af45b8>, line 1)",
          "traceback": [
            "\u001b[0;36m  File \u001b[0;32m\"<ipython-input-3-ca1534af45b8>\"\u001b[0;36m, line \u001b[0;32m1\u001b[0m\n\u001b[0;31m    def myFunction()\u001b[0m\n\u001b[0m                    ^\u001b[0m\n\u001b[0;31mSyntaxError\u001b[0m\u001b[0;31m:\u001b[0m expected ':'\n"
          ]
        }
      ],
      "source": [
        "def myFunction()\n",
        "  print(6+int(\"6\"))\n",
        "\n",
        "#çağırma\n",
        "myFunction()"
      ]
    },
    {
      "cell_type": "code",
      "source": [
        "def myFunction(a,b):\n",
        "  print(int(a)+int(b))\n",
        "\n",
        "\n",
        "myFunction(\"5\",\"6\")  # out: 11"
      ],
      "metadata": {
        "colab": {
          "base_uri": "https://localhost:8080/"
        },
        "id": "gmwnOQ4qYpax",
        "outputId": "a5ec73ad-19f3-4dae-c564-0fa6aa4de34e"
      },
      "execution_count": 5,
      "outputs": [
        {
          "output_type": "stream",
          "name": "stdout",
          "text": [
            "11\n"
          ]
        }
      ]
    },
    {
      "cell_type": "code",
      "source": [
        "def myFunction(int(a),int(b)):  # bu şekilde girdi kabul görmüyor\n",
        "  print(a+b)\n",
        "\n",
        "\n",
        "myFunction(\"5\",\"6\")  # out: 11"
      ],
      "metadata": {
        "colab": {
          "base_uri": "https://localhost:8080/",
          "height": 145
        },
        "id": "8lRJtrIlY5EL",
        "outputId": "97dc4b60-46d6-40b4-a110-799668e37652"
      },
      "execution_count": 6,
      "outputs": [
        {
          "output_type": "error",
          "ename": "SyntaxError",
          "evalue": "invalid syntax (<ipython-input-6-a32bb8f51dcd>, line 1)",
          "traceback": [
            "\u001b[0;36m  File \u001b[0;32m\"<ipython-input-6-a32bb8f51dcd>\"\u001b[0;36m, line \u001b[0;32m1\u001b[0m\n\u001b[0;31m    def myFunction(int(a),int(b)):  # bu şekilde girdi kabul görmüyor\u001b[0m\n\u001b[0m                      ^\u001b[0m\n\u001b[0;31mSyntaxError\u001b[0m\u001b[0;31m:\u001b[0m invalid syntax\n"
          ]
        }
      ]
    },
    {
      "cell_type": "code",
      "source": [
        "def myFunction(a, b):\n",
        "  print(a+\" \"+b)\n",
        "\n",
        "\n",
        "text1 = \"My name\"\n",
        "text2 = \"is Joseph\"\n",
        "\n",
        "myFunction(\"text1\",\"text2\")"
      ],
      "metadata": {
        "colab": {
          "base_uri": "https://localhost:8080/"
        },
        "id": "t_zbHgQzZXjO",
        "outputId": "bb39043f-b398-43bf-837d-0d5db774e17e"
      },
      "execution_count": 8,
      "outputs": [
        {
          "output_type": "stream",
          "name": "stdout",
          "text": [
            "text1 text2\n"
          ]
        }
      ]
    },
    {
      "cell_type": "code",
      "source": [
        "def fun1(name, age=20):\n",
        "  print(name,age)\n",
        "\n",
        "fun1(\"Emma\", 25)  # daha güncel"
      ],
      "metadata": {
        "colab": {
          "base_uri": "https://localhost:8080/"
        },
        "id": "oB6yTpwcZ5aK",
        "outputId": "a65eccd4-9e5f-4101-c3df-c96bb21c86c6"
      },
      "execution_count": 9,
      "outputs": [
        {
          "output_type": "stream",
          "name": "stdout",
          "text": [
            "Emma 25\n"
          ]
        }
      ]
    },
    {
      "cell_type": "markdown",
      "source": [
        "#Lambda Fonksiyonları:\n",
        "\n",
        "\n",
        "*   lambda parameters : fonksiyon gövdesi\n",
        "*   lambda yanında return kullanılmaz fakat return yanında lambda yazılabilir/kullanılabilir.\n",
        "\n",
        "\n",
        "*   lambda fonksiyonları tek satırlı anonim(isimsiz) fonksiyonlardır\n",
        "\n",
        "\n",
        "\n"
      ],
      "metadata": {
        "id": "48Mzm755cIYe"
      }
    },
    {
      "cell_type": "code",
      "source": [
        "def square(x):\n",
        "  return x**2\n",
        "\n",
        "square(3)"
      ],
      "metadata": {
        "colab": {
          "base_uri": "https://localhost:8080/"
        },
        "id": "hJ3qxwmOcZCZ",
        "outputId": "7e8e8fce-8b9e-41fb-cd34-d3961fa00ac7"
      },
      "execution_count": 116,
      "outputs": [
        {
          "output_type": "execute_result",
          "data": {
            "text/plain": [
              "9"
            ]
          },
          "metadata": {},
          "execution_count": 116
        }
      ]
    },
    {
      "cell_type": "code",
      "source": [
        "lambda x:x**2"
      ],
      "metadata": {
        "colab": {
          "base_uri": "https://localhost:8080/"
        },
        "id": "y1G0yMjgcgmk",
        "outputId": "48ef6b3a-6a0b-4747-f8ba-f5be87d86d2e"
      },
      "execution_count": 21,
      "outputs": [
        {
          "output_type": "execute_result",
          "data": {
            "text/plain": [
              "<function __main__.<lambda>(x)>"
            ]
          },
          "metadata": {},
          "execution_count": 21
        }
      ]
    },
    {
      "cell_type": "code",
      "source": [
        "# lambda fonksiyonları birden fazla parametre alabilir.\n",
        "lambda x,y : (x+y)/2"
      ],
      "metadata": {
        "colab": {
          "base_uri": "https://localhost:8080/"
        },
        "id": "RtZg4Dhlculp",
        "outputId": "4e6162df-2046-4441-d31a-4c52b2e03133"
      },
      "execution_count": 26,
      "outputs": [
        {
          "output_type": "execute_result",
          "data": {
            "text/plain": [
              "<function __main__.<lambda>(x, y)>"
            ]
          },
          "metadata": {},
          "execution_count": 26
        }
      ]
    },
    {
      "cell_type": "code",
      "source": [
        "# tek mi çift mi?\n",
        "def tek_cift(x):\n",
        "  if x%2==0:\n",
        "    print(\"çift\")\n",
        "  else:\n",
        "    print(\"tek\")\n",
        "\n",
        "tek_cift(5)"
      ],
      "metadata": {
        "colab": {
          "base_uri": "https://localhost:8080/"
        },
        "id": "x52abDQhdNgl",
        "outputId": "d316443a-e351-49f1-f426-9a0d8748c376"
      },
      "execution_count": 14,
      "outputs": [
        {
          "output_type": "stream",
          "name": "stdout",
          "text": [
            "tek\n"
          ]
        }
      ]
    },
    {
      "cell_type": "code",
      "source": [
        "# tek mi çift mi?\n",
        "def tek_cift(x):\n",
        "  print(\"çift\") if x%2==0 else print(\"tek\")\n",
        "\n",
        "tek_cift(5)"
      ],
      "metadata": {
        "colab": {
          "base_uri": "https://localhost:8080/"
        },
        "id": "GwjFskWndhmF",
        "outputId": "12791eca-83e6-4bdf-82bf-f55a465defc6"
      },
      "execution_count": 16,
      "outputs": [
        {
          "output_type": "stream",
          "name": "stdout",
          "text": [
            "tek\n"
          ]
        }
      ]
    },
    {
      "cell_type": "code",
      "source": [
        "# tek mi çift mi?\n",
        "def tek_cift(x):\n",
        "  print(\"çift\" if x%2==0 else \"tek\")\n",
        "\n",
        "tek_cift(5)"
      ],
      "metadata": {
        "colab": {
          "base_uri": "https://localhost:8080/"
        },
        "id": "R23crznzdpDt",
        "outputId": "78d6dc39-a087-4f72-ffa3-50a168890904"
      },
      "execution_count": 17,
      "outputs": [
        {
          "output_type": "stream",
          "name": "stdout",
          "text": [
            "tek\n"
          ]
        }
      ]
    },
    {
      "cell_type": "code",
      "source": [
        "lambda x: \"çift\" if x%2==0 else \"tek\""
      ],
      "metadata": {
        "colab": {
          "base_uri": "https://localhost:8080/"
        },
        "id": "FTanCHuudxNN",
        "outputId": "1368e0bf-aaaa-4065-eed2-523cb52829e1"
      },
      "execution_count": 18,
      "outputs": [
        {
          "output_type": "execute_result",
          "data": {
            "text/plain": [
              "<function __main__.<lambda>(x)>"
            ]
          },
          "metadata": {},
          "execution_count": 18
        }
      ]
    },
    {
      "cell_type": "markdown",
      "source": [
        "Lambda fonksiyonlarını çağırma(değer atama)"
      ],
      "metadata": {
        "id": "CpUhnVtIeMap"
      }
    },
    {
      "cell_type": "code",
      "source": [
        "# (lambda parameters : fonksiyon gövdesi) (girdiler)\n",
        "(lambda x:x**2) (3)"
      ],
      "metadata": {
        "colab": {
          "base_uri": "https://localhost:8080/"
        },
        "id": "vpT8i2GneRZI",
        "outputId": "4233d47f-e9fd-4ae4-b4eb-7944e8af674d"
      },
      "execution_count": 24,
      "outputs": [
        {
          "output_type": "execute_result",
          "data": {
            "text/plain": [
              "9"
            ]
          },
          "metadata": {},
          "execution_count": 24
        }
      ]
    },
    {
      "cell_type": "code",
      "source": [
        "print((lambda x:x**2) (3))"
      ],
      "metadata": {
        "colab": {
          "base_uri": "https://localhost:8080/"
        },
        "id": "_L6h2YHXe07H",
        "outputId": "0be1b543-7aca-4253-a554-708e0dddacbb"
      },
      "execution_count": 25,
      "outputs": [
        {
          "output_type": "stream",
          "name": "stdout",
          "text": [
            "9\n"
          ]
        }
      ]
    },
    {
      "cell_type": "code",
      "source": [
        "(lambda x,y : (x+y)/2) (3,4)"
      ],
      "metadata": {
        "colab": {
          "base_uri": "https://localhost:8080/"
        },
        "id": "nFGQdSjofJKP",
        "outputId": "21d5a984-cd62-43c2-9748-9d3151a54683"
      },
      "execution_count": 28,
      "outputs": [
        {
          "output_type": "execute_result",
          "data": {
            "text/plain": [
              "3.5"
            ]
          },
          "metadata": {},
          "execution_count": 28
        }
      ]
    },
    {
      "cell_type": "code",
      "source": [
        "# fonksiyonlar 1.sınıf objectlerdir. Dolayısı ile bir değişkene aktarılabilir\n",
        "average = (lambda x,y : (x+y)/2)\n",
        "average(3,4)"
      ],
      "metadata": {
        "colab": {
          "base_uri": "https://localhost:8080/"
        },
        "id": "kFIXjahhfNtn",
        "outputId": "db80f8b3-3c30-4edb-cedd-c24ace94d942"
      },
      "execution_count": 61,
      "outputs": [
        {
          "output_type": "execute_result",
          "data": {
            "text/plain": [
              "3.5"
            ]
          },
          "metadata": {},
          "execution_count": 61
        }
      ]
    },
    {
      "cell_type": "code",
      "source": [
        "type(average)"
      ],
      "metadata": {
        "colab": {
          "base_uri": "https://localhost:8080/"
        },
        "id": "yIPPHp4Nfbj7",
        "outputId": "4e0ba3bc-2bca-4c41-db75-70b5c5be332b"
      },
      "execution_count": 30,
      "outputs": [
        {
          "output_type": "execute_result",
          "data": {
            "text/plain": [
              "function"
            ]
          },
          "metadata": {},
          "execution_count": 30
        }
      ]
    },
    {
      "cell_type": "code",
      "source": [
        "average = (lambda x,y : (x+y)/2) (3,4)  # closure\n",
        "print(average)\n",
        "print(type(average))"
      ],
      "metadata": {
        "colab": {
          "base_uri": "https://localhost:8080/"
        },
        "id": "pG9j-Xcwfpwq",
        "outputId": "1306d5fe-9671-411a-9b40-cea5a2aee8a2"
      },
      "execution_count": 32,
      "outputs": [
        {
          "output_type": "stream",
          "name": "stdout",
          "text": [
            "3.5\n",
            "<class 'float'>\n"
          ]
        }
      ]
    },
    {
      "cell_type": "code",
      "source": [
        "# bir iterable ters çeviren fonksiyon:\n",
        "# Emre beyin çözümü:\n",
        "iterable = \"biriki\"\n",
        "print((lambda x: x[::-1])(iterable))"
      ],
      "metadata": {
        "colab": {
          "base_uri": "https://localhost:8080/"
        },
        "id": "sz5mkVQMfwSG",
        "outputId": "229bc3cd-cbbf-4e58-f5ff-8b80d7d7a587"
      },
      "execution_count": 33,
      "outputs": [
        {
          "output_type": "stream",
          "name": "stdout",
          "text": [
            "ikirib\n"
          ]
        }
      ]
    },
    {
      "cell_type": "code",
      "source": [
        "ters_iterable = (lambda x: x[::-1])(\"biriki\")\n",
        "print(ters_iterable)"
      ],
      "metadata": {
        "colab": {
          "base_uri": "https://localhost:8080/"
        },
        "id": "UpROKk_wju2C",
        "outputId": "765c2c7f-5dfe-4a1d-9ef3-05e4d5d07259"
      },
      "execution_count": 40,
      "outputs": [
        {
          "output_type": "stream",
          "name": "stdout",
          "text": [
            "ikirib\n"
          ]
        }
      ]
    },
    {
      "cell_type": "code",
      "source": [
        "# pep-8 önerisi : hangisi daha pythonic\n",
        "def ters_iterable(x):  return x[::-1]\n",
        "\n",
        "ters_iterable(\"biriki\")"
      ],
      "metadata": {
        "colab": {
          "base_uri": "https://localhost:8080/",
          "height": 35
        },
        "id": "kvUF5zuUj1x0",
        "outputId": "ce5885f0-a964-4f01-ddb5-c55585af7b44"
      },
      "execution_count": 41,
      "outputs": [
        {
          "output_type": "execute_result",
          "data": {
            "text/plain": [
              "'ikirib'"
            ],
            "application/vnd.google.colaboratory.intrinsic+json": {
              "type": "string"
            }
          },
          "metadata": {},
          "execution_count": 41
        }
      ]
    },
    {
      "cell_type": "code",
      "source": [
        "liste = [1,2,3,4,5]\n",
        "for x in liste:\n",
        "  if x%2==0:\n",
        "    print(x, \":\", \"even\")\n",
        "  else:\n",
        "    print(x, \":\", \"odd\")"
      ],
      "metadata": {
        "colab": {
          "base_uri": "https://localhost:8080/"
        },
        "id": "X9nTcmQ3lfXR",
        "outputId": "a3cbc1d1-aea2-4409-a896-3484f95c7ccc"
      },
      "execution_count": 44,
      "outputs": [
        {
          "output_type": "stream",
          "name": "stdout",
          "text": [
            "1 : odd\n",
            "2 : even\n",
            "3 : odd\n",
            "4 : even\n",
            "5 : odd\n"
          ]
        }
      ]
    },
    {
      "cell_type": "code",
      "source": [
        "liste = [1,2,3,4,5]\n",
        "for x in liste:\n",
        "  print(x, \":\", \"even\") if x%2==0 else print(x, \":\", \"odd\")"
      ],
      "metadata": {
        "colab": {
          "base_uri": "https://localhost:8080/"
        },
        "id": "QZVowffpmNj4",
        "outputId": "fcb7ddc3-c3bf-42a5-d6d1-846e014152f1"
      },
      "execution_count": 46,
      "outputs": [
        {
          "output_type": "stream",
          "name": "stdout",
          "text": [
            "1 : odd\n",
            "2 : even\n",
            "3 : odd\n",
            "4 : even\n",
            "5 : odd\n"
          ]
        }
      ]
    },
    {
      "cell_type": "code",
      "source": [
        "liste = [1,2,3,4,5]\n",
        "for x in liste:\n",
        "  print(x, \":\", \"even\" if x%2==0 else \"odd\")"
      ],
      "metadata": {
        "colab": {
          "base_uri": "https://localhost:8080/"
        },
        "id": "e8RnxHG2mV1c",
        "outputId": "cd2d45d6-d61d-4837-81f8-f8081637c6d4"
      },
      "execution_count": 50,
      "outputs": [
        {
          "output_type": "stream",
          "name": "stdout",
          "text": [
            "1 : odd\n",
            "2 : even\n",
            "3 : odd\n",
            "4 : even\n",
            "5 : odd\n"
          ]
        }
      ]
    },
    {
      "cell_type": "code",
      "source": [
        "liste = [1,2,3,4,5]\n",
        "for x in liste:\n",
        "  print(x, \":\", (lambda x: \"even\" if x%2==0 else \"odd\") (x))"
      ],
      "metadata": {
        "colab": {
          "base_uri": "https://localhost:8080/"
        },
        "id": "0LkhPqUEm0q2",
        "outputId": "cff630f3-f383-4e30-cf58-66d2ef971718"
      },
      "execution_count": 56,
      "outputs": [
        {
          "output_type": "stream",
          "name": "stdout",
          "text": [
            "1 : odd\n",
            "2 : even\n",
            "3 : odd\n",
            "4 : even\n",
            "5 : odd\n"
          ]
        }
      ]
    },
    {
      "cell_type": "code",
      "source": [
        "def tek_cift(liste):\n",
        "  for x in liste: print(x, \":\", \"even\" if x%2==0 else \"odd\")\n",
        "\n",
        "#ana program\n",
        "liste = [1,2,3,4,5]\n",
        "tek_cift(liste)"
      ],
      "metadata": {
        "colab": {
          "base_uri": "https://localhost:8080/"
        },
        "outputId": "e9a13d6e-8b00-4035-d54d-8e71b895f3fd",
        "id": "NxO1_1Y4nxqb"
      },
      "execution_count": 59,
      "outputs": [
        {
          "output_type": "stream",
          "name": "stdout",
          "text": [
            "1 : odd\n",
            "2 : even\n",
            "3 : odd\n",
            "4 : even\n",
            "5 : odd\n"
          ]
        }
      ]
    },
    {
      "cell_type": "code",
      "source": [
        "# (parantez içine almadan) bir değişkene aktarılabilir.\n",
        "average = lambda x,y : (x+y)/2\n",
        "average(3,5)"
      ],
      "metadata": {
        "colab": {
          "base_uri": "https://localhost:8080/"
        },
        "id": "O7kw4Rczp9zs",
        "outputId": "4597d190-03bc-4ad2-dd8f-341810b4b7eb"
      },
      "execution_count": 62,
      "outputs": [
        {
          "output_type": "execute_result",
          "data": {
            "text/plain": [
              "4.0"
            ]
          },
          "metadata": {},
          "execution_count": 62
        }
      ]
    },
    {
      "cell_type": "code",
      "source": [],
      "metadata": {
        "id": "TDNghidXqR6C"
      },
      "execution_count": null,
      "outputs": []
    },
    {
      "cell_type": "code",
      "source": [
        "# bir iterable ters çeviren fonksiyon:\n",
        "# alternatif çözüm\n",
        "iterable = \"biriki\"\n",
        "reverser = lambda x: x[::-1]\n",
        "reverser(iterable)"
      ],
      "metadata": {
        "colab": {
          "base_uri": "https://localhost:8080/",
          "height": 35
        },
        "outputId": "257a1680-b039-4bcf-b8d1-364791ba61c3",
        "id": "brzP5X56qSN5"
      },
      "execution_count": 63,
      "outputs": [
        {
          "output_type": "execute_result",
          "data": {
            "text/plain": [
              "'ikirib'"
            ],
            "application/vnd.google.colaboratory.intrinsic+json": {
              "type": "string"
            }
          },
          "metadata": {},
          "execution_count": 63
        }
      ]
    },
    {
      "cell_type": "code",
      "source": [
        "iterable = [1,2,3,4,5]\n",
        "map(lambda x:x**2, iterable)"
      ],
      "metadata": {
        "colab": {
          "base_uri": "https://localhost:8080/"
        },
        "id": "uVv0flLqrXYT",
        "outputId": "6545e39c-fd91-4815-b414-69924f310e15"
      },
      "execution_count": 68,
      "outputs": [
        {
          "output_type": "execute_result",
          "data": {
            "text/plain": [
              "<map at 0x794044c21420>"
            ]
          },
          "metadata": {},
          "execution_count": 68
        }
      ]
    },
    {
      "cell_type": "code",
      "source": [
        "iterable = [1,2,3,4,5]\n",
        "result = map(lambda x:x**2, iterable)\n",
        "type(result)"
      ],
      "metadata": {
        "colab": {
          "base_uri": "https://localhost:8080/"
        },
        "id": "JWjPkJJGsM0M",
        "outputId": "e9d151a8-a093-4e22-830b-6049b570f845"
      },
      "execution_count": 69,
      "outputs": [
        {
          "output_type": "execute_result",
          "data": {
            "text/plain": [
              "map"
            ]
          },
          "metadata": {},
          "execution_count": 69
        }
      ]
    },
    {
      "cell_type": "code",
      "source": [
        "def karesi(x):\n",
        "  return x**2\n",
        "# map(function, iterable)\n",
        "iterable = [1,2,3,4,5]\n",
        "result = map(karesi, iterable)\n",
        "print(list(result))"
      ],
      "metadata": {
        "colab": {
          "base_uri": "https://localhost:8080/"
        },
        "id": "ULU-Z1thsq2H",
        "outputId": "1770b15d-0341-42b5-c813-c37adfab229f"
      },
      "execution_count": 73,
      "outputs": [
        {
          "output_type": "stream",
          "name": "stdout",
          "text": [
            "[1, 4, 9, 16, 25]\n"
          ]
        }
      ]
    },
    {
      "cell_type": "code",
      "source": [
        "iterable = [1,2,3,4,5]\n",
        "result = map(lambda x:x**2, iterable)\n",
        "print(list(result))"
      ],
      "metadata": {
        "colab": {
          "base_uri": "https://localhost:8080/"
        },
        "id": "UuqJtZNnsSoX",
        "outputId": "b6e73b92-6a85-4e06-add3-9c7f1bd5f21a"
      },
      "execution_count": 71,
      "outputs": [
        {
          "output_type": "stream",
          "name": "stdout",
          "text": [
            "[1, 4, 9, 16, 25]\n"
          ]
        }
      ]
    },
    {
      "cell_type": "code",
      "source": [
        "print(list(map(lambda x:x**2, [1,2,3,4,5])))"
      ],
      "metadata": {
        "colab": {
          "base_uri": "https://localhost:8080/"
        },
        "id": "c3Mp8b6rsbsu",
        "outputId": "b027dc1f-db59-42ff-dcbe-dde5280b3c3a"
      },
      "execution_count": 72,
      "outputs": [
        {
          "output_type": "stream",
          "name": "stdout",
          "text": [
            "[1, 4, 9, 16, 25]\n"
          ]
        }
      ]
    },
    {
      "cell_type": "code",
      "source": [
        "print(list(map(lambda x:x**3,[1,2,3,4,5])))"
      ],
      "metadata": {
        "colab": {
          "base_uri": "https://localhost:8080/"
        },
        "id": "LTZs4tNSwVBM",
        "outputId": "3b0a0179-07cf-4271-8625-97a5361db391"
      },
      "execution_count": 75,
      "outputs": [
        {
          "output_type": "stream",
          "name": "stdout",
          "text": [
            "[1, 8, 27, 64, 125]\n"
          ]
        }
      ]
    },
    {
      "cell_type": "code",
      "source": [
        "def kupu(x):\n",
        "  return x**3\n",
        "\n",
        "print(list(map(kupu,[1,2,3,4,5])))"
      ],
      "metadata": {
        "colab": {
          "base_uri": "https://localhost:8080/"
        },
        "id": "bWhxxipiwZ4b",
        "outputId": "9c7b970d-7bf7-4fb3-e532-425f377a4f3f"
      },
      "execution_count": 76,
      "outputs": [
        {
          "output_type": "stream",
          "name": "stdout",
          "text": [
            "[1, 8, 27, 64, 125]\n"
          ]
        }
      ]
    },
    {
      "cell_type": "code",
      "source": [
        "letter1 = [\"o\", \"s\", \"t\", \"t\"]\n",
        "letter2 = [\"n\", \"i\", \"e\", \"w\"]\n",
        "letter3 = [\"e\", \"x\", \"n\", \"o\"]\n",
        "list(map(lambda x,y,z: x+y+z, letter1, letter2, letter3))"
      ],
      "metadata": {
        "colab": {
          "base_uri": "https://localhost:8080/"
        },
        "id": "WfMcbZ0axqc9",
        "outputId": "1f62c4b7-450d-4bd4-d0fa-1f769adb13e0"
      },
      "execution_count": 77,
      "outputs": [
        {
          "output_type": "execute_result",
          "data": {
            "text/plain": [
              "['one', 'six', 'ten', 'two']"
            ]
          },
          "metadata": {},
          "execution_count": 77
        }
      ]
    },
    {
      "cell_type": "code",
      "source": [
        "nums1 = [9,6,7,4]\n",
        "nums2 = [3,6,5,8]\n",
        "ortalama = map(lambda x,y : (x+y)/2, nums1,nums2)\n",
        "print(list(ortalama))"
      ],
      "metadata": {
        "colab": {
          "base_uri": "https://localhost:8080/"
        },
        "id": "_v_hvDoFzOcv",
        "outputId": "5fb6daa7-4b15-4ed2-def2-cd9d4496e62a"
      },
      "execution_count": 78,
      "outputs": [
        {
          "output_type": "stream",
          "name": "stdout",
          "text": [
            "[6.0, 6.0, 6.0, 6.0]\n"
          ]
        }
      ]
    },
    {
      "cell_type": "code",
      "source": [
        "words1 = ['you', 'much','hard']\n",
        "words2 = ['i','you', 'he']\n",
        "words3 = ['love', 'ate', 'works']\n",
        "word_list = map(lambda x,y,z: x+\" \"+y+\" \"+z, words2, words3, words1)\n",
        "print(list(word_list))"
      ],
      "metadata": {
        "colab": {
          "base_uri": "https://localhost:8080/"
        },
        "id": "BrSXQRw00h6A",
        "outputId": "81433bc9-3264-4b36-83d2-77b3c00950e0"
      },
      "execution_count": 80,
      "outputs": [
        {
          "output_type": "stream",
          "name": "stdout",
          "text": [
            "['i love you', 'you ate much', 'he works hard']\n"
          ]
        }
      ]
    },
    {
      "cell_type": "code",
      "source": [
        "words1 = ['you', 'much','hard']\n",
        "words2 = ['i','you', 'he']\n",
        "words3 = ['love', 'ate', 'works']\n",
        "word_list = map(lambda x,y,z: x+\" \"+y+\" \"+z, words2, words3, words1)\n",
        "\n",
        "for i in word_list:\n",
        "  print(i)"
      ],
      "metadata": {
        "colab": {
          "base_uri": "https://localhost:8080/"
        },
        "id": "nGSXK1TQ1N0p",
        "outputId": "cb09c175-4f59-4707-a1d6-cf9fce95a62b"
      },
      "execution_count": 82,
      "outputs": [
        {
          "output_type": "stream",
          "name": "stdout",
          "text": [
            "i love you\n",
            "you ate much\n",
            "he works hard\n"
          ]
        }
      ]
    },
    {
      "cell_type": "code",
      "source": [
        "# filter(function, iterable)\n",
        "nums = list(range(0,10))\n",
        "print(list(filter(lambda x: x%2==0, nums)))"
      ],
      "metadata": {
        "colab": {
          "base_uri": "https://localhost:8080/"
        },
        "id": "MxvCHKFS1_Il",
        "outputId": "26bf7b5d-ff12-4890-c846-0dd2a65624f6"
      },
      "execution_count": 85,
      "outputs": [
        {
          "output_type": "stream",
          "name": "stdout",
          "text": [
            "[0, 2, 4, 6, 8]\n"
          ]
        }
      ]
    },
    {
      "cell_type": "code",
      "source": [
        "words = [\"apple\",\"swim\",\"clock\",\"me\",\"kiwi\",\"banana\"]\n",
        "\n",
        "list(filter(lambda x : len(x)<5, words))"
      ],
      "metadata": {
        "colab": {
          "base_uri": "https://localhost:8080/"
        },
        "id": "NsXCJe0L3NR4",
        "outputId": "ea23a1df-6ff1-45e9-d845-f8f0c016a531"
      },
      "execution_count": 86,
      "outputs": [
        {
          "output_type": "execute_result",
          "data": {
            "text/plain": [
              "['swim', 'me', 'kiwi']"
            ]
          },
          "metadata": {},
          "execution_count": 86
        }
      ]
    },
    {
      "cell_type": "code",
      "source": [
        "words = [\"apple\",\"swim\",\"clock\",\"me\",\"kiwi\",\"banana\"]\n",
        "\n",
        "less5 = filter(lambda x : len(x)<5, words)\n",
        "print(list(less5))"
      ],
      "metadata": {
        "colab": {
          "base_uri": "https://localhost:8080/"
        },
        "id": "IDeBwij13T29",
        "outputId": "b8c7bbf3-fa58-4449-e451-a7d46b51453a"
      },
      "execution_count": 87,
      "outputs": [
        {
          "output_type": "stream",
          "name": "stdout",
          "text": [
            "['swim', 'me', 'kiwi']\n"
          ]
        }
      ]
    },
    {
      "cell_type": "code",
      "source": [
        "range(9)"
      ],
      "metadata": {
        "colab": {
          "base_uri": "https://localhost:8080/"
        },
        "id": "dL2RYGxW4HIb",
        "outputId": "a230a5d5-fbfe-464f-86f9-f9e1ea314aa1"
      },
      "execution_count": 91,
      "outputs": [
        {
          "output_type": "execute_result",
          "data": {
            "text/plain": [
              "range(0, 9)"
            ]
          },
          "metadata": {},
          "execution_count": 91
        }
      ]
    },
    {
      "cell_type": "code",
      "source": [
        "for i in range(9):\n",
        "  print(i)"
      ],
      "metadata": {
        "colab": {
          "base_uri": "https://localhost:8080/"
        },
        "id": "2Mbp8aQh4ECt",
        "outputId": "ae029534-5763-4e27-d1e7-6ee219a21ff4"
      },
      "execution_count": 92,
      "outputs": [
        {
          "output_type": "stream",
          "name": "stdout",
          "text": [
            "0\n",
            "1\n",
            "2\n",
            "3\n",
            "4\n",
            "5\n",
            "6\n",
            "7\n",
            "8\n"
          ]
        }
      ]
    },
    {
      "cell_type": "code",
      "source": [
        "words = [\"apple\",\"swim\",\"clock\",\"me\",\"kiwi\",\"banana\"]\n",
        "for i in filter(lambda x : len(x)<5, words):\n",
        "    print(i)"
      ],
      "metadata": {
        "colab": {
          "base_uri": "https://localhost:8080/"
        },
        "id": "yvmPY-Mc3aRr",
        "outputId": "5823a9ec-71b5-4bfd-bf65-f65f1875cf42"
      },
      "execution_count": 90,
      "outputs": [
        {
          "output_type": "stream",
          "name": "stdout",
          "text": [
            "swim\n",
            "me\n",
            "kiwi\n"
          ]
        }
      ]
    },
    {
      "cell_type": "code",
      "source": [
        "words = [\"apple\",\"swim\",\"clock\",\"me\",\"kiwi\",\"banana\"]\n",
        "for i in words:\n",
        "  if len(i)<5:\n",
        "    print(i)"
      ],
      "metadata": {
        "id": "NMkIjpSt3sez"
      },
      "execution_count": null,
      "outputs": []
    },
    {
      "cell_type": "code",
      "source": [
        "words = [\"apple\",\"swim\",\"clock\",\"me\",\"kiwi\",\"banana\"]\n",
        "\n",
        "less5 = map(lambda x : len(x)<5, words)\n",
        "print(list(less5))"
      ],
      "metadata": {
        "colab": {
          "base_uri": "https://localhost:8080/"
        },
        "id": "QnNp9hJf4iRF",
        "outputId": "7ab8102f-9271-481f-a75c-bf963e7a0eb5"
      },
      "execution_count": 93,
      "outputs": [
        {
          "output_type": "stream",
          "name": "stdout",
          "text": [
            "[False, True, False, True, True, False]\n"
          ]
        }
      ]
    },
    {
      "cell_type": "code",
      "source": [
        "words = [\"apple\",\"swim\",\"clock\",\"me\",\"kiwi\",\"banana\"]\n",
        "\n",
        "print(list(map(len, words)))"
      ],
      "metadata": {
        "colab": {
          "base_uri": "https://localhost:8080/"
        },
        "id": "XgwtCA9u4sdp",
        "outputId": "6849b58b-889f-4e22-92e5-17cc7567a9c9"
      },
      "execution_count": 94,
      "outputs": [
        {
          "output_type": "stream",
          "name": "stdout",
          "text": [
            "[5, 4, 5, 2, 4, 6]\n"
          ]
        }
      ]
    },
    {
      "cell_type": "code",
      "source": [
        "# sesli harfleri listeden süzen bir uygulama\n",
        "first_ten = ['a','b','c','d','e','f','g','h','i','j']\n",
        "list(filter(lambda x: x.lower() in ['a', 'e', 'i', 'o', 'u'], first_ten))"
      ],
      "metadata": {
        "colab": {
          "base_uri": "https://localhost:8080/"
        },
        "id": "2GSFyMLG7o8x",
        "outputId": "0d14071a-f9c4-4074-d4e9-47c770eab65c"
      },
      "execution_count": 95,
      "outputs": [
        {
          "output_type": "execute_result",
          "data": {
            "text/plain": [
              "['a', 'e', 'i']"
            ]
          },
          "metadata": {},
          "execution_count": 95
        }
      ]
    },
    {
      "cell_type": "code",
      "source": [
        "# sesli harfleri listeden süzen bir uygulama\n",
        "first_ten = ['a','b','c','d','e','f','g','h','i','j']\n",
        "list(filter(lambda x: x.lower() in 'aeiou', first_ten))"
      ],
      "metadata": {
        "colab": {
          "base_uri": "https://localhost:8080/"
        },
        "id": "bkfREKBr7zcw",
        "outputId": "b71a7b2a-4f94-4696-adad-b81dc16bd1c6"
      },
      "execution_count": 96,
      "outputs": [
        {
          "output_type": "execute_result",
          "data": {
            "text/plain": [
              "['a', 'e', 'i']"
            ]
          },
          "metadata": {},
          "execution_count": 96
        }
      ]
    },
    {
      "cell_type": "code",
      "source": [
        "list(filter(lambda x : x, first_ten[::4])) # Nurdan Hanımın çözümü"
      ],
      "metadata": {
        "colab": {
          "base_uri": "https://localhost:8080/"
        },
        "id": "fb8N3S_s8APd",
        "outputId": "0e4ec9e0-1998-4384-8f4a-ac9bbbefd9db"
      },
      "execution_count": 97,
      "outputs": [
        {
          "output_type": "execute_result",
          "data": {
            "text/plain": [
              "['a', 'e', 'i']"
            ]
          },
          "metadata": {},
          "execution_count": 97
        }
      ]
    },
    {
      "cell_type": "code",
      "source": [
        "import string\n",
        "first_ten = list(string.ascii_lowercase[:10])\n",
        "print(first_ten)"
      ],
      "metadata": {
        "colab": {
          "base_uri": "https://localhost:8080/"
        },
        "id": "tmwuH0c98M6U",
        "outputId": "7a91715b-ef6f-4878-fb3b-54315f490c1c"
      },
      "execution_count": 99,
      "outputs": [
        {
          "output_type": "stream",
          "name": "stdout",
          "text": [
            "['a', 'b', 'c', 'd', 'e', 'f', 'g', 'h', 'i', 'j']\n"
          ]
        }
      ]
    },
    {
      "cell_type": "code",
      "source": [
        "# sesli harfleri listeden süzen bir uygulama\n",
        "first_ten = ['a','b','c','d','e','f','g','h','i','j']\n",
        "list(filter(lambda x: True if x in 'aeiou' else False, first_ten))"
      ],
      "metadata": {
        "colab": {
          "base_uri": "https://localhost:8080/"
        },
        "id": "VSuVfHJ78byh",
        "outputId": "aafba050-c9bd-46a8-84f7-e5ad99b512a6"
      },
      "execution_count": 100,
      "outputs": [
        {
          "output_type": "execute_result",
          "data": {
            "text/plain": [
              "['a', 'e', 'i']"
            ]
          },
          "metadata": {},
          "execution_count": 100
        }
      ]
    },
    {
      "cell_type": "code",
      "source": [
        "numbers = [1, 2, 3]\n",
        "# Çıktısı nedir?\n",
        "list(filter(lambda x:2, numbers))\n",
        "#filter mutlaka True/False döndürecek bir fonksiyon ister"
      ],
      "metadata": {
        "colab": {
          "base_uri": "https://localhost:8080/"
        },
        "id": "8Ak4lQ62EC4d",
        "outputId": "775664bb-80bc-4180-d9a9-cdea6a9640aa"
      },
      "execution_count": 119,
      "outputs": [
        {
          "output_type": "execute_result",
          "data": {
            "text/plain": [
              "[1, 2, 3]"
            ]
          },
          "metadata": {},
          "execution_count": 119
        }
      ]
    },
    {
      "cell_type": "code",
      "source": [
        "numbers = [1, 2, 3]\n",
        "# Çıktısı nedir?\n",
        "list(filter(lambda x:0, numbers))\n",
        "#filter mutlaka True/False döndürecek bir fonksiyon ister"
      ],
      "metadata": {
        "colab": {
          "base_uri": "https://localhost:8080/"
        },
        "id": "9wxupQMxEUFR",
        "outputId": "4385edf6-8fc7-4c30-8494-45bb0a3833eb"
      },
      "execution_count": 120,
      "outputs": [
        {
          "output_type": "execute_result",
          "data": {
            "text/plain": [
              "[]"
            ]
          },
          "metadata": {},
          "execution_count": 120
        }
      ]
    },
    {
      "cell_type": "code",
      "source": [
        "def modular_function(n):\n",
        "    return lambda x: x**n\n",
        "\n",
        "power_of_2 = modular_function(2) # modular_function'in parametresi n: 2\n",
        "power_of_3 = modular_function(3) # n: 3\n",
        "power_of_4 = modular_function(4) # n: 4, diğer bir ifade closure\n",
        "\n",
        "print(power_of_2(2))  # lambda parametresi x:2 --> 2^2\n",
        "print(power_of_3(2))  # x:2 --> 2^3\n",
        "print(power_of_4(2))  # x:2 --> 2^4"
      ],
      "metadata": {
        "colab": {
          "base_uri": "https://localhost:8080/"
        },
        "id": "s0Fhly4U9lrJ",
        "outputId": "4d4f346b-17e1-4106-a78c-bc26c0b6d793"
      },
      "execution_count": 110,
      "outputs": [
        {
          "output_type": "stream",
          "name": "stdout",
          "text": [
            "4\n",
            "8\n",
            "16\n"
          ]
        }
      ]
    },
    {
      "cell_type": "code",
      "source": [
        "def modular_function(n):\n",
        "    def inner_function(x):\n",
        "        return x**n\n",
        "    return inner_function\n",
        "\n",
        "power_of_2 = modular_function(2) # modular_function'in parametresi n: 2\n",
        "power_of_3 = modular_function(3) # n: 3\n",
        "power_of_4 = modular_function(4) # n: 4, diğer bir ifade closure\n",
        "\n",
        "print(power_of_2(2))  # lambda parametresi x:2 --> 2^2\n",
        "print(power_of_3(2))  # x:2 --> 2^3\n",
        "print(power_of_4(2))  # x:2 --> 2^4"
      ],
      "metadata": {
        "colab": {
          "base_uri": "https://localhost:8080/"
        },
        "id": "OusBCZug99je",
        "outputId": "9af5550f-2f1a-4fcd-a172-8c55d07d059d"
      },
      "execution_count": 103,
      "outputs": [
        {
          "output_type": "stream",
          "name": "stdout",
          "text": [
            "4\n",
            "8\n",
            "16\n"
          ]
        }
      ]
    },
    {
      "cell_type": "code",
      "source": [
        "def modular_function(n):\n",
        "    return lambda x: x**n  # nested fonksiyon\n",
        "\n",
        "print(modular_function(3)(2)) # n:3, x:2 # closure: 2 ve 3 değerleri ile fonksiyon kapatıldı"
      ],
      "metadata": {
        "colab": {
          "base_uri": "https://localhost:8080/"
        },
        "id": "V7Qu0MhW-hOg",
        "outputId": "b0f093a1-8111-4a42-bb41-5bb62c31370b"
      },
      "execution_count": 106,
      "outputs": [
        {
          "output_type": "stream",
          "name": "stdout",
          "text": [
            "8\n"
          ]
        }
      ]
    },
    {
      "cell_type": "code",
      "source": [
        "# nested function ve closure\n",
        "def repeater(n):\n",
        "    return lambda x: x*n\n",
        "\n",
        "kez_2 = repeater(2)\n",
        "kez_3 = repeater(3)\n",
        "kez_4 = repeater(4) # n: 4, diğer bir ifade closure\n",
        "\n",
        "print(kez_2(\"Ali \"))\n",
        "print(kez_3(\"Damla \"))\n",
        "print(kez_4(\"Emre \"))"
      ],
      "metadata": {
        "colab": {
          "base_uri": "https://localhost:8080/"
        },
        "id": "TiHwuvz4_5dI",
        "outputId": "07961fb6-8d5c-44c4-9d22-6a590ec60f0c"
      },
      "execution_count": 108,
      "outputs": [
        {
          "output_type": "stream",
          "name": "stdout",
          "text": [
            "Ali Ali \n",
            "Damla Damla Damla \n",
            "Emre Emre Emre Emre \n"
          ]
        }
      ]
    },
    {
      "cell_type": "code",
      "source": [
        "# nested lambda\n",
        "carp_5 = lambda x:x*5\n",
        "ekle = lambda x,y : x+y\n",
        "ekle(carp_5(3), 10) # nested lambda"
      ],
      "metadata": {
        "colab": {
          "base_uri": "https://localhost:8080/"
        },
        "id": "KD2haq7aApNr",
        "outputId": "f7f49319-bb1a-41ef-b309-9c655d7fd3c3"
      },
      "execution_count": 109,
      "outputs": [
        {
          "output_type": "execute_result",
          "data": {
            "text/plain": [
              "25"
            ]
          },
          "metadata": {},
          "execution_count": 109
        }
      ]
    },
    {
      "cell_type": "code",
      "source": [
        "def modular_function(emoji):\n",
        "    return lambda mesaj: f\"{mesaj}{emoji}\"\n",
        "\n",
        "myPrint_smile = modular_function(\":)\")\n",
        "myPrint_sad = modular_function(\":(\")\n",
        "myPrint_notr = modular_function(\":|\")\n",
        "\n",
        "print(myPrint_smile(\"Hello\"))\n",
        "print(myPrint_sad(\"Hello\"))\n",
        "print(myPrint_notr(\"Hi\"))"
      ],
      "metadata": {
        "colab": {
          "base_uri": "https://localhost:8080/"
        },
        "id": "po3P34gLCDlK",
        "outputId": "5280ae7b-3f49-450d-8986-bce768afc160"
      },
      "execution_count": 113,
      "outputs": [
        {
          "output_type": "stream",
          "name": "stdout",
          "text": [
            "Hello:)\n",
            "Hello:(\n",
            "Hi:|\n"
          ]
        }
      ]
    },
    {
      "cell_type": "code",
      "source": [
        "def emoji(n):\n",
        "  return lambda x: x+\" \"+n\n",
        "\n",
        "myPrint_smile = emoji(\":)\")\n",
        "myPrint_sad = emoji(\":(\")\n",
        "myPrint_neutral = emoji(\":|\")\n",
        "\n",
        "print(myPrint_smile(\"Hello\"))\n",
        "print(myPrint_sad(\"Hello\"))\n",
        "print(myPrint_neutral(\"Hello\"))"
      ],
      "metadata": {
        "colab": {
          "base_uri": "https://localhost:8080/"
        },
        "id": "zc27KeTtDPg3",
        "outputId": "43982e93-464f-4180-8d28-ed620f5a8b2d"
      },
      "execution_count": 115,
      "outputs": [
        {
          "output_type": "stream",
          "name": "stdout",
          "text": [
            "Hello :)\n",
            "Hello :(\n",
            "Hello :|\n"
          ]
        }
      ]
    },
    {
      "cell_type": "code",
      "source": [
        "# lambda return kullanmaz\n",
        "def square(x):\n",
        "  lambda x: return x**2\n",
        "\n",
        "square(3)"
      ],
      "metadata": {
        "colab": {
          "base_uri": "https://localhost:8080/",
          "height": 145
        },
        "id": "-xCe0mECDegP",
        "outputId": "950c8037-14f9-4038-864b-4cd95dc5ee0e"
      },
      "execution_count": 117,
      "outputs": [
        {
          "output_type": "error",
          "ename": "SyntaxError",
          "evalue": "invalid syntax (<ipython-input-117-b295ceb83e1d>, line 3)",
          "traceback": [
            "\u001b[0;36m  File \u001b[0;32m\"<ipython-input-117-b295ceb83e1d>\"\u001b[0;36m, line \u001b[0;32m3\u001b[0m\n\u001b[0;31m    lambda x: return x**2\u001b[0m\n\u001b[0m              ^\u001b[0m\n\u001b[0;31mSyntaxError\u001b[0m\u001b[0;31m:\u001b[0m invalid syntax\n"
          ]
        }
      ]
    }
  ]
}