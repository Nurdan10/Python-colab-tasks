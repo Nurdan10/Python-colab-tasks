{
 "cells": [
  {
   "cell_type": "markdown",
   "id": "c1acdd47",
   "metadata": {},
   "source": [
    "Assigment-1:\n",
    "https://www.asciiart.eu/animals/cats adresindeki \n",
    "kedi karakterlerinden herhangi birini ekrana yazdıran programı\n",
    "print() ve escape karakterlerini kullanarak kodlayınız. "
   ]
  },
  {
   "cell_type": "code",
   "execution_count": 6,
   "id": "8ca9e96f",
   "metadata": {},
   "outputs": [
    {
     "name": "stdout",
     "output_type": "stream",
     "text": [
      "|\\---/|\n",
      "| o_o |\n",
      " \\_^_/\n"
     ]
    },
    {
     "name": "stderr",
     "output_type": "stream",
     "text": [
      "<>:1: SyntaxWarning: invalid escape sequence '\\-'\n",
      "<>:1: SyntaxWarning: invalid escape sequence '\\-'\n",
      "C:\\Users\\MDemirok\\AppData\\Local\\Temp\\ipykernel_10560\\2466829600.py:1: SyntaxWarning: invalid escape sequence '\\-'\n",
      "  print(\"|\\---/|\\n| o_o |\\n \\_^_/\")\n"
     ]
    }
   ],
   "source": [
    "print(\"|\\---/|\\n| o_o |\\n \\_^_/\")"
   ]
  },
  {
   "attachments": {},
   "cell_type": "markdown",
   "id": "af59dfaa",
   "metadata": {},
   "source": [
    "Assignment-2 (Arithmetic Operators) :\n",
    "If you had deposited a coin on the crypto currency exchange that brought 7% fixed profit daily for a week, how much would your $1000 reach at the end of the 7th day?\n",
    "(İpucu. Çözüm için bileşik faiz formülü kullanılabilir..)"
   ]
  },
  {
   "cell_type": "code",
   "execution_count": 7,
   "id": "8da12ab0",
   "metadata": {},
   "outputs": [
    {
     "name": "stdout",
     "output_type": "stream",
     "text": [
      "Yatirilan paranin fizli miktari: 1605.7814764784307$\n"
     ]
    }
   ],
   "source": [
    "ana_para = 1000\n",
    "faiz = 0,7\n",
    "faizli_miktar = 1000*(1+0.07)**7\n",
    "print(\"Yatirilan paranin fizli miktari:\",faizli_miktar,\"$\")"
   ]
  },
  {
   "cell_type": "markdown",
   "id": "eeed81cc",
   "metadata": {},
   "source": [
    "Assignment-3:\n",
    "Write the program that takes the average of the 3 entered numbers. (ipucu: 3,4,5 girildiğinde program 4.0 çıktısını vermeli..)"
   ]
  },
  {
   "cell_type": "code",
   "execution_count": 8,
   "id": "46491572",
   "metadata": {},
   "outputs": [
    {
     "name": "stdout",
     "output_type": "stream",
     "text": [
      "Girilen uc sayinin ortalamasi: 5.0\n"
     ]
    }
   ],
   "source": [
    "sayi_bir = float(input(\"Ilk sayiyi giriniz..:\"))\n",
    "sayi_iki = float(input(\"Ikınci sayiyi giriniz..:\"))\n",
    "sayi_üç = float(input(\"Ucuncu sayiyi giriniz..:\"))\n",
    "print(\"Girilen uc sayinin ortalamasi:\",(sayi_bir + sayi_iki + sayi_üç)/3)\n",
    "\n",
    "# Decimal sayıların hesaplanabilmesi için float kullanıldı."
   ]
  },
  {
   "cell_type": "markdown",
   "id": "06e7f6ac",
   "metadata": {},
   "source": [
    "Assignment-4:\n",
    "Write a short Python program that asks the user to enter Celsius temperature (it can be a decimal number), converts the entered temperature into Fahrenheit degree and prints the result.\n",
    "(ipucu: Dönüşüm için aşağaıdaki formül kullanılabilir;\n",
    "Fahrenheit = (Temperature in degrees Celsius * 9/5) + 32)"
   ]
  },
  {
   "cell_type": "code",
   "execution_count": 2,
   "id": "b44e4989",
   "metadata": {},
   "outputs": [
    {
     "name": "stdout",
     "output_type": "stream",
     "text": [
      "Girilen Celsius değerin Fahrenheit karsiliği: 39.2°F tir.\n"
     ]
    }
   ],
   "source": [
    "deger = float(input(\"Herhangi bir celsius değeri giriniz..:\"))\n",
    "print(\"Girilen Celsius değerin Fahrenheit karsiliği:\", deger*9/5+32,\"\\b°F tir.\")"
   ]
  },
  {
   "cell_type": "code",
   "execution_count": 17,
   "id": "0a52df86",
   "metadata": {},
   "outputs": [
    {
     "name": "stdout",
     "output_type": "stream",
     "text": [
      "pozitif\n"
     ]
    }
   ],
   "source": [
    "# Assigment-5:\n",
    "nums = 56\n",
    "if nums>=0: \n",
    "    print(\"pozitif\") \n",
    "else: \n",
    "    print(\"negatif\")"
   ]
  },
  {
   "cell_type": "code",
   "execution_count": 18,
   "id": "bd97e79a",
   "metadata": {},
   "outputs": [
    {
     "name": "stdout",
     "output_type": "stream",
     "text": [
      "Girilen sayi  Negatiftir\n"
     ]
    }
   ],
   "source": [
    "nums = int(input(\"Bir tam sayi giriniz...\"))\n",
    "print(\"Girilen sayi \",(nums>=0 and \"Pozitif\") or \"Negatif\",\"\\btir\")\n"
   ]
  }
 ],
 "metadata": {
  "kernelspec": {
   "display_name": "Python 3 (ipykernel)",
   "language": "python",
   "name": "python3"
  },
  "language_info": {
   "codemirror_mode": {
    "name": "ipython",
    "version": 3
   },
   "file_extension": ".py",
   "mimetype": "text/x-python",
   "name": "python",
   "nbconvert_exporter": "python",
   "pygments_lexer": "ipython3",
   "version": "3.12.0"
  }
 },
 "nbformat": 4,
 "nbformat_minor": 5
}
