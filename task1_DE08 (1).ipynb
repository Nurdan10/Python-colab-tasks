{
 "cells": [
  {
   "cell_type": "markdown",
   "id": "c1acdd47",
   "metadata": {},
   "source": [
    "Assigment-1:\n",
    "https://www.asciiart.eu/animals/cats adresindeki \n",
    "kedi karakterlerinden herhangi birini ekrana yazdıran programı\n",
    "print() ve escape karakterlerini kullanarak kodlayınız. "
   ]
  },
  {
   "cell_type": "code",
   "execution_count": 6,
   "id": "8ca9e96f",
   "metadata": {},
   "outputs": [
    {
     "name": "stdout",
     "output_type": "stream",
     "text": [
      " /\\_/\\ \n",
      "( o.o ) \n",
      " > ^ <\n"
     ]
    }
   ],
   "source": [
    "# programı buraya yazalım..."
   ]
  },
  {
   "attachments": {},
   "cell_type": "markdown",
   "id": "af59dfaa",
   "metadata": {},
   "source": [
    "Assignment-2 (Arithmetic Operators) :\n",
    "If you had deposited a coin on the crypto currency exchange that brought 7% fixed profit daily for a week, how much would your $1000 reach at the end of the 7th day?\n",
    "(İpucu. Çözüm için bileşik faiz formülü kullanılabilir..)"
   ]
  },
  {
   "cell_type": "code",
   "execution_count": 7,
   "id": "8da12ab0",
   "metadata": {},
   "outputs": [
    {
     "name": "stdout",
     "output_type": "stream",
     "text": [
      "Final amount..: $1605.7814764784307\n"
     ]
    }
   ],
   "source": [
    "# programı buraya yazalım..."
   ]
  },
  {
   "cell_type": "markdown",
   "id": "eeed81cc",
   "metadata": {},
   "source": [
    "Assignment-3:\n",
    "Write the program that takes the average of the 3 entered numbers. (ipucu: 3,4,5 girildiğinde program 4.0 çıktısını vermeli..)"
   ]
  },
  {
   "cell_type": "code",
   "execution_count": 8,
   "id": "46491572",
   "metadata": {},
   "outputs": [
    {
     "name": "stdout",
     "output_type": "stream",
     "text": [
      "Average of the numbers..:  4.0\n"
     ]
    }
   ],
   "source": [
    "# Programı buraya yazalım.. "
   ]
  },
  {
   "cell_type": "markdown",
   "id": "06e7f6ac",
   "metadata": {},
   "source": [
    "Assignment-4:\n",
    "Write a short Python program that asks the user to enter Celsius temperature (it can be a decimal number), converts the entered temperature into Fahrenheit degree and prints the result.\n",
    "(ipucu: Dönüşüm için aşağaıdaki formül kullanılabilir;\n",
    "Fahrenheit = (Temperature in degrees Celsius * 9/5) + 32)"
   ]
  },
  {
   "cell_type": "code",
   "execution_count": 11,
   "id": "b44e4989",
   "metadata": {},
   "outputs": [
    {
     "name": "stdout",
     "output_type": "stream",
     "text": [
      "Temperature in degrees Celsius..: 4\n",
      "Fahrenheit degree.: 39.2\n"
     ]
    }
   ],
   "source": [
    "# Programı buraya yazalım.. "
   ]
  },
  {
   "cell_type": "code",
   "execution_count": 17,
   "id": "0a52df86",
   "metadata": {},
   "outputs": [
    {
     "name": "stdout",
     "output_type": "stream",
     "text": [
      "pozitif\n"
     ]
    }
   ],
   "source": [
    "# Assigment-5:\n",
    "nums = 56\n",
    "if nums>=0: \n",
    "    print(\"pozitif\") \n",
    "else: \n",
    "    print(\"negatif\")"
   ]
  },
  {
   "cell_type": "code",
   "execution_count": null,
   "id": "bd97e79a",
   "metadata": {},
   "outputs": [],
   "source": [
    "## Yukarıdaki programı if -else kullanmadan 'and', 'or' \n",
    "## operatörleri ile tek satırda nasıl kodlarız;\n",
    "# Programı buraya yazalım.. "
   ]
  }
 ],
 "metadata": {
  "kernelspec": {
   "display_name": "Python 3 (ipykernel)",
   "language": "python",
   "name": "python3"
  },
  "language_info": {
   "codemirror_mode": {
    "name": "ipython",
    "version": 3
   },
   "file_extension": ".py",
   "mimetype": "text/x-python",
   "name": "python",
   "nbconvert_exporter": "python",
   "pygments_lexer": "ipython3",
   "version": "3.11.6"
  }
 },
 "nbformat": 4,
 "nbformat_minor": 5
}
