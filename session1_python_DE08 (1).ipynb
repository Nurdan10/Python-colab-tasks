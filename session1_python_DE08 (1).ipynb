{
  "nbformat": 4,
  "nbformat_minor": 0,
  "metadata": {
    "colab": {
      "provenance": []
    },
    "kernelspec": {
      "name": "python3",
      "display_name": "Python 3"
    },
    "language_info": {
      "name": "python"
    }
  },
  "cells": [
    {
      "cell_type": "code",
      "execution_count": 4,
      "metadata": {
        "colab": {
          "base_uri": "https://localhost:8080/"
        },
        "id": "0fOe_EoJU0IQ",
        "outputId": "9b05f101-0ab9-4a9b-8256-341a6e5ee853"
      },
      "outputs": [
        {
          "output_type": "execute_result",
          "data": {
            "text/plain": [
              "2"
            ]
          },
          "metadata": {},
          "execution_count": 4
        }
      ],
      "source": [
        "1+1"
      ]
    },
    {
      "cell_type": "code",
      "source": [
        "print(Hello, world)"
      ],
      "metadata": {
        "colab": {
          "base_uri": "https://localhost:8080/",
          "height": 181
        },
        "id": "WpNuFjd523h9",
        "outputId": "58fe19fb-a3de-4cee-88b0-07b93eb8a6fb"
      },
      "execution_count": 63,
      "outputs": [
        {
          "output_type": "error",
          "ename": "NameError",
          "evalue": "ignored",
          "traceback": [
            "\u001b[0;31m---------------------------------------------------------------------------\u001b[0m",
            "\u001b[0;31mNameError\u001b[0m                                 Traceback (most recent call last)",
            "\u001b[0;32m<ipython-input-63-65c2bc1cadaf>\u001b[0m in \u001b[0;36m<cell line: 1>\u001b[0;34m()\u001b[0m\n\u001b[0;32m----> 1\u001b[0;31m \u001b[0mprint\u001b[0m\u001b[0;34m(\u001b[0m\u001b[0mHello\u001b[0m\u001b[0;34m,\u001b[0m \u001b[0mworld\u001b[0m\u001b[0;34m)\u001b[0m\u001b[0;34m\u001b[0m\u001b[0;34m\u001b[0m\u001b[0m\n\u001b[0m",
            "\u001b[0;31mNameError\u001b[0m: name 'Hello' is not defined"
          ]
        }
      ]
    },
    {
      "cell_type": "code",
      "source": [
        "Hello = \"Hello\"\n",
        "world = \"world!\"\n",
        "print(Hello, world)"
      ],
      "metadata": {
        "colab": {
          "base_uri": "https://localhost:8080/"
        },
        "id": "xF9eIY9T4Y-E",
        "outputId": "652c059e-56f8-444a-f5e9-831f7b145cf3"
      },
      "execution_count": 65,
      "outputs": [
        {
          "output_type": "stream",
          "name": "stdout",
          "text": [
            "Hello world!\n"
          ]
        }
      ]
    },
    {
      "cell_type": "code",
      "source": [
        "print(\"Hello, world\")"
      ],
      "metadata": {
        "colab": {
          "base_uri": "https://localhost:8080/"
        },
        "id": "WWzv3ZcE4WO9",
        "outputId": "4674d4b8-4dab-4ea7-a1e8-dfc0cd9ff1d0"
      },
      "execution_count": 64,
      "outputs": [
        {
          "output_type": "stream",
          "name": "stdout",
          "text": [
            "Hello, world\n"
          ]
        }
      ]
    },
    {
      "cell_type": "markdown",
      "source": [
        "Python sürümünü öğrenmek için"
      ],
      "metadata": {
        "id": "AslVt0QMW4ZR"
      }
    },
    {
      "cell_type": "code",
      "source": [
        "!python3 --version  # python major. minor.patch"
      ],
      "metadata": {
        "colab": {
          "base_uri": "https://localhost:8080/"
        },
        "id": "SIDakRcsWRBC",
        "outputId": "8a9cac77-f832-4d7b-9df6-2ffd6b0fd9e1"
      },
      "execution_count": 3,
      "outputs": [
        {
          "output_type": "stream",
          "name": "stdout",
          "text": [
            "Python 3.10.12\n"
          ]
        }
      ]
    },
    {
      "cell_type": "code",
      "source": [
        "print(\"hello world\")"
      ],
      "metadata": {
        "colab": {
          "base_uri": "https://localhost:8080/"
        },
        "id": "qnFqP9bVW1fo",
        "outputId": "00e2f4ea-72b2-4c4b-f2d5-7bb4a8182403"
      },
      "execution_count": 5,
      "outputs": [
        {
          "output_type": "stream",
          "name": "stdout",
          "text": [
            "hello world\n"
          ]
        }
      ]
    },
    {
      "cell_type": "code",
      "source": [
        "print('hello world')"
      ],
      "metadata": {
        "colab": {
          "base_uri": "https://localhost:8080/"
        },
        "id": "ofduPr2FboBu",
        "outputId": "8faccfac-ea01-445f-929e-897e582422f7"
      },
      "execution_count": 6,
      "outputs": [
        {
          "output_type": "stream",
          "name": "stdout",
          "text": [
            "hello world\n"
          ]
        }
      ]
    },
    {
      "cell_type": "markdown",
      "source": [
        "#Tırnak meselesi"
      ],
      "metadata": {
        "id": "kUJzUSXCcrpo"
      }
    },
    {
      "cell_type": "code",
      "source": [
        "print(\"merhaba\")"
      ],
      "metadata": {
        "colab": {
          "base_uri": "https://localhost:8080/"
        },
        "id": "WqO3OkEEcvEz",
        "outputId": "f6587ae8-c5a9-4821-e728-1198ec213f98"
      },
      "execution_count": 7,
      "outputs": [
        {
          "output_type": "stream",
          "name": "stdout",
          "text": [
            "merhaba\n"
          ]
        }
      ]
    },
    {
      "cell_type": "code",
      "source": [
        "print(\"merhaba')"
      ],
      "metadata": {
        "colab": {
          "base_uri": "https://localhost:8080/",
          "height": 145
        },
        "id": "2eY0B7sIcx9E",
        "outputId": "b8e52b88-c678-4f7a-dcfc-8c598bb3995a"
      },
      "execution_count": 8,
      "outputs": [
        {
          "output_type": "error",
          "ename": "SyntaxError",
          "evalue": "ignored",
          "traceback": [
            "\u001b[0;36m  File \u001b[0;32m\"<ipython-input-8-6271e04be9fc>\"\u001b[0;36m, line \u001b[0;32m1\u001b[0m\n\u001b[0;31m    print(\"merhaba')\u001b[0m\n\u001b[0m          ^\u001b[0m\n\u001b[0;31mSyntaxError\u001b[0m\u001b[0;31m:\u001b[0m unterminated string literal (detected at line 1)\n"
          ]
        }
      ]
    },
    {
      "cell_type": "code",
      "source": [
        "print('merhaba\")"
      ],
      "metadata": {
        "colab": {
          "base_uri": "https://localhost:8080/",
          "height": 145
        },
        "id": "oCp6XJgccz4c",
        "outputId": "76e77f85-2895-4fda-8899-686c67cae4a9"
      },
      "execution_count": 9,
      "outputs": [
        {
          "output_type": "error",
          "ename": "SyntaxError",
          "evalue": "ignored",
          "traceback": [
            "\u001b[0;36m  File \u001b[0;32m\"<ipython-input-9-acb5f7af07fc>\"\u001b[0;36m, line \u001b[0;32m1\u001b[0m\n\u001b[0;31m    print('merhaba\")\u001b[0m\n\u001b[0m          ^\u001b[0m\n\u001b[0;31mSyntaxError\u001b[0m\u001b[0;31m:\u001b[0m unterminated string literal (detected at line 1)\n"
          ]
        }
      ]
    },
    {
      "cell_type": "code",
      "source": [
        "print('mer'haba')"
      ],
      "metadata": {
        "colab": {
          "base_uri": "https://localhost:8080/",
          "height": 145
        },
        "id": "7sLRH0qdc2Vl",
        "outputId": "6c6d95f4-a5cd-495f-e44d-be75831dbc6f"
      },
      "execution_count": 11,
      "outputs": [
        {
          "output_type": "error",
          "ename": "SyntaxError",
          "evalue": "ignored",
          "traceback": [
            "\u001b[0;36m  File \u001b[0;32m\"<ipython-input-11-01bbc96a9bba>\"\u001b[0;36m, line \u001b[0;32m1\u001b[0m\n\u001b[0;31m    print('mer'haba')\u001b[0m\n\u001b[0m                   ^\u001b[0m\n\u001b[0;31mSyntaxError\u001b[0m\u001b[0;31m:\u001b[0m unterminated string literal (detected at line 1)\n"
          ]
        }
      ]
    },
    {
      "cell_type": "code",
      "source": [
        "print('mer\\'haba')"
      ],
      "metadata": {
        "colab": {
          "base_uri": "https://localhost:8080/"
        },
        "id": "cMDivId8ifap",
        "outputId": "827e1982-33cc-4545-d85d-8c2b2736b2aa"
      },
      "execution_count": 32,
      "outputs": [
        {
          "output_type": "stream",
          "name": "stdout",
          "text": [
            "mer'haba\n"
          ]
        }
      ]
    },
    {
      "cell_type": "code",
      "source": [
        "print(\"mer'haba\")"
      ],
      "metadata": {
        "colab": {
          "base_uri": "https://localhost:8080/"
        },
        "id": "4lXoKhkEim-6",
        "outputId": "58f49916-89c9-43f2-8331-1a5eefb1ad03"
      },
      "execution_count": 34,
      "outputs": [
        {
          "output_type": "stream",
          "name": "stdout",
          "text": [
            "mer'haba\n"
          ]
        }
      ]
    },
    {
      "cell_type": "code",
      "source": [
        "print(\"mer\"haba\")"
      ],
      "metadata": {
        "colab": {
          "base_uri": "https://localhost:8080/",
          "height": 145
        },
        "id": "ElgsXFvHiu6K",
        "outputId": "aa41c44e-b91f-4f26-8240-52bf39e3d5ba"
      },
      "execution_count": 36,
      "outputs": [
        {
          "output_type": "error",
          "ename": "SyntaxError",
          "evalue": "ignored",
          "traceback": [
            "\u001b[0;36m  File \u001b[0;32m\"<ipython-input-36-cb151f2a3f36>\"\u001b[0;36m, line \u001b[0;32m1\u001b[0m\n\u001b[0;31m    print(\"mer\"haba\")\u001b[0m\n\u001b[0m                   ^\u001b[0m\n\u001b[0;31mSyntaxError\u001b[0m\u001b[0;31m:\u001b[0m unterminated string literal (detected at line 1)\n"
          ]
        }
      ]
    },
    {
      "cell_type": "code",
      "source": [
        "print(\"mer\\\"haba\")"
      ],
      "metadata": {
        "colab": {
          "base_uri": "https://localhost:8080/"
        },
        "id": "TNB_Yur4iysq",
        "outputId": "6a9a8bfa-1e59-4cdc-b141-ba816ca88d1d"
      },
      "execution_count": 37,
      "outputs": [
        {
          "output_type": "stream",
          "name": "stdout",
          "text": [
            "mer\"haba\n"
          ]
        }
      ]
    },
    {
      "cell_type": "markdown",
      "source": [
        "![image.png](data:image/png;base64,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)"
      ],
      "metadata": {
        "id": "UMjAw1dzjoJP"
      }
    },
    {
      "cell_type": "code",
      "source": [
        "print(\"me\\brhaba\")  # \\b : backspace tuşu işlevi görür."
      ],
      "metadata": {
        "colab": {
          "base_uri": "https://localhost:8080/"
        },
        "id": "KKlgnZ4GjQuS",
        "outputId": "3c0cfc22-b06a-461d-d910-be898caa9326"
      },
      "execution_count": 39,
      "outputs": [
        {
          "output_type": "stream",
          "name": "stdout",
          "text": [
            "me\brhaba\n"
          ]
        }
      ]
    },
    {
      "cell_type": "code",
      "source": [
        "print(\"a\\ab\")"
      ],
      "metadata": {
        "colab": {
          "base_uri": "https://localhost:8080/"
        },
        "id": "lwhR4mYcjx8Q",
        "outputId": "152233d2-94f4-4b1d-8e65-35f99c70384b"
      },
      "execution_count": 40,
      "outputs": [
        {
          "output_type": "stream",
          "name": "stdout",
          "text": [
            "a\u0007b\n"
          ]
        }
      ]
    },
    {
      "cell_type": "markdown",
      "source": [
        "# 3 tırnak kullanımı:\n",
        "\n",
        "*   Çoklu satırlı string mesajlarda,\n",
        "*   docstring metni oluşturma\n",
        "\n"
      ],
      "metadata": {
        "id": "ZXu4sl50dgeQ"
      }
    },
    {
      "cell_type": "code",
      "source": [
        "print('''\n",
        "...long string...\n",
        "..long string..\n",
        "''')"
      ],
      "metadata": {
        "colab": {
          "base_uri": "https://localhost:8080/"
        },
        "id": "z8pMMq0OdM5s",
        "outputId": "40e016dd-ab5e-4fe6-c7e3-8c159d79eb15"
      },
      "execution_count": 12,
      "outputs": [
        {
          "output_type": "stream",
          "name": "stdout",
          "text": [
            "\n",
            "...long string...\n",
            "..long string..\n",
            "\n"
          ]
        }
      ]
    },
    {
      "cell_type": "code",
      "source": [
        "print(\"\"\"\n",
        "...long string...\n",
        "..long string..\n",
        "\"\"\")"
      ],
      "metadata": {
        "colab": {
          "base_uri": "https://localhost:8080/"
        },
        "id": "Wgm_N9bHdRz7",
        "outputId": "f3f6b710-58c8-48b0-e0f8-3da7d59b1104"
      },
      "execution_count": 13,
      "outputs": [
        {
          "output_type": "stream",
          "name": "stdout",
          "text": [
            "\n",
            "...long string...\n",
            "..long string..\n",
            "\n"
          ]
        }
      ]
    },
    {
      "cell_type": "code",
      "source": [
        "print(\"...long string...\n",
        "..long string..\n",
        "\")"
      ],
      "metadata": {
        "colab": {
          "base_uri": "https://localhost:8080/",
          "height": 145
        },
        "id": "5XMHWJ7dh1Xz",
        "outputId": "d2deddb3-1a5a-4f41-ef10-fcf126252c03"
      },
      "execution_count": 28,
      "outputs": [
        {
          "output_type": "error",
          "ename": "SyntaxError",
          "evalue": "ignored",
          "traceback": [
            "\u001b[0;36m  File \u001b[0;32m\"<ipython-input-28-0e6fec43f750>\"\u001b[0;36m, line \u001b[0;32m1\u001b[0m\n\u001b[0;31m    print(\"...long string...\u001b[0m\n\u001b[0m          ^\u001b[0m\n\u001b[0;31mSyntaxError\u001b[0m\u001b[0;31m:\u001b[0m unterminated string literal (detected at line 1)\n"
          ]
        }
      ]
    },
    {
      "cell_type": "code",
      "source": [
        "print(\"...long string...\\\n",
        "..long string..\\\n",
        "\")"
      ],
      "metadata": {
        "colab": {
          "base_uri": "https://localhost:8080/"
        },
        "id": "PHoqVSTUdWh5",
        "outputId": "61dcc69c-ae98-44a0-8bd6-4a567b80841a"
      },
      "execution_count": 27,
      "outputs": [
        {
          "output_type": "stream",
          "name": "stdout",
          "text": [
            "...long string.....long string..\n"
          ]
        }
      ]
    },
    {
      "cell_type": "code",
      "source": [
        "print(\"...long string...\\n..long string..\\n\")"
      ],
      "metadata": {
        "colab": {
          "base_uri": "https://localhost:8080/"
        },
        "id": "O8z461ZeiHtY",
        "outputId": "e2af3593-6940-4079-c041-68861985719f"
      },
      "execution_count": 30,
      "outputs": [
        {
          "output_type": "stream",
          "name": "stdout",
          "text": [
            "...long string...\n",
            "..long string..\n",
            "\n"
          ]
        }
      ]
    },
    {
      "cell_type": "code",
      "source": [
        "print(\"...long string...\\t..long string..\")"
      ],
      "metadata": {
        "colab": {
          "base_uri": "https://localhost:8080/"
        },
        "id": "TSSIhsY8iT5O",
        "outputId": "1ff27cee-1663-4e15-ce30-cc8f9b16b5d7"
      },
      "execution_count": 31,
      "outputs": [
        {
          "output_type": "stream",
          "name": "stdout",
          "text": [
            "...long string...\t..long string..\n"
          ]
        }
      ]
    },
    {
      "cell_type": "code",
      "source": [
        "print('3.14')  # string(text) tipte veri\n",
        "print(3.14)    # sayısal (float) tipte veri"
      ],
      "metadata": {
        "colab": {
          "base_uri": "https://localhost:8080/"
        },
        "id": "BHIZgRGAeGzi",
        "outputId": "7c61f335-4e8d-4c6a-f6a4-479ca849b4bd"
      },
      "execution_count": 15,
      "outputs": [
        {
          "output_type": "stream",
          "name": "stdout",
          "text": [
            "3.14\n",
            "3.14\n"
          ]
        }
      ]
    },
    {
      "cell_type": "code",
      "source": [
        "# bir verinin tipi hakkında bilgi type() komutu ile öğrenilir"
      ],
      "metadata": {
        "id": "Z3zVOQjCeVY0"
      },
      "execution_count": null,
      "outputs": []
    },
    {
      "cell_type": "code",
      "source": [
        "type('3.14')"
      ],
      "metadata": {
        "colab": {
          "base_uri": "https://localhost:8080/"
        },
        "id": "AoCREO09eb_v",
        "outputId": "8418587c-524c-4715-f446-b976cd63335d"
      },
      "execution_count": 16,
      "outputs": [
        {
          "output_type": "execute_result",
          "data": {
            "text/plain": [
              "str"
            ]
          },
          "metadata": {},
          "execution_count": 16
        }
      ]
    },
    {
      "cell_type": "code",
      "source": [
        "type(3.14)"
      ],
      "metadata": {
        "colab": {
          "base_uri": "https://localhost:8080/"
        },
        "id": "dxQdpWSHehPz",
        "outputId": "cdc5433c-4ca5-4aec-f353-ca794e54f329"
      },
      "execution_count": 17,
      "outputs": [
        {
          "output_type": "execute_result",
          "data": {
            "text/plain": [
              "float"
            ]
          },
          "metadata": {},
          "execution_count": 17
        }
      ]
    },
    {
      "cell_type": "code",
      "source": [
        "print('We should have enough time for our family\")"
      ],
      "metadata": {
        "colab": {
          "base_uri": "https://localhost:8080/",
          "height": 145
        },
        "id": "KWrM-NfHfGvk",
        "outputId": "5b09f35d-a252-4030-bcb4-13bdaa9928fe"
      },
      "execution_count": 20,
      "outputs": [
        {
          "output_type": "error",
          "ename": "SyntaxError",
          "evalue": "ignored",
          "traceback": [
            "\u001b[0;36m  File \u001b[0;32m\"<ipython-input-20-67ff08d8253d>\"\u001b[0;36m, line \u001b[0;32m1\u001b[0m\n\u001b[0;31m    print('We should have enough time for our family\")\u001b[0m\n\u001b[0m          ^\u001b[0m\n\u001b[0;31mSyntaxError\u001b[0m\u001b[0;31m:\u001b[0m unterminated string literal (detected at line 1)\n"
          ]
        }
      ]
    },
    {
      "cell_type": "code",
      "source": [
        "print(''''We should have enough time for our family\"''')"
      ],
      "metadata": {
        "colab": {
          "base_uri": "https://localhost:8080/"
        },
        "id": "DjeIpTfCev4L",
        "outputId": "b61db342-08a9-41bd-c982-c9d8ca059994"
      },
      "execution_count": 19,
      "outputs": [
        {
          "output_type": "stream",
          "name": "stdout",
          "text": [
            "'We should have enough time for our family\"\n"
          ]
        }
      ]
    },
    {
      "cell_type": "code",
      "source": [
        "print(\"1.satır\")\n",
        "print()\n",
        "print(\"3.satır\")"
      ],
      "metadata": {
        "colab": {
          "base_uri": "https://localhost:8080/"
        },
        "id": "ezWIqyQogE8b",
        "outputId": "014b3a13-1f5c-4505-e40e-fe833ebab5dd"
      },
      "execution_count": 21,
      "outputs": [
        {
          "output_type": "stream",
          "name": "stdout",
          "text": [
            "1.satır\n",
            "\n",
            "3.satır\n"
          ]
        }
      ]
    },
    {
      "cell_type": "code",
      "source": [
        "print(\"1.satır\")\n",
        "print(\"\")\n",
        "print(\"3.satır\")"
      ],
      "metadata": {
        "colab": {
          "base_uri": "https://localhost:8080/"
        },
        "id": "PqHDjzfNgMOx",
        "outputId": "d59849ee-b1c1-45db-96c2-3155b0683c7f"
      },
      "execution_count": 22,
      "outputs": [
        {
          "output_type": "stream",
          "name": "stdout",
          "text": [
            "1.satır\n",
            "\n",
            "3.satır\n"
          ]
        }
      ]
    },
    {
      "cell_type": "code",
      "source": [
        "print(\"1.satır\")\n",
        "print('')\n",
        "print(\"3.satır\")"
      ],
      "metadata": {
        "colab": {
          "base_uri": "https://localhost:8080/"
        },
        "id": "mD86SW2ngiBc",
        "outputId": "1a90dc97-49ee-4606-d062-b36d6d4c7156"
      },
      "execution_count": 23,
      "outputs": [
        {
          "output_type": "stream",
          "name": "stdout",
          "text": [
            "1.satır\n",
            "\n",
            "3.satır\n"
          ]
        }
      ]
    },
    {
      "cell_type": "code",
      "source": [
        "print(\"1.satır\")\n",
        "print('''')\n",
        "print(\"3.satır\")"
      ],
      "metadata": {
        "colab": {
          "base_uri": "https://localhost:8080/",
          "height": 145
        },
        "id": "EwPw75YYg4ok",
        "outputId": "59c7f901-e7f4-4ea8-9db7-4309812d0cdb"
      },
      "execution_count": 24,
      "outputs": [
        {
          "output_type": "error",
          "ename": "SyntaxError",
          "evalue": "ignored",
          "traceback": [
            "\u001b[0;36m  File \u001b[0;32m\"<ipython-input-24-815fee6bb512>\"\u001b[0;36m, line \u001b[0;32m2\u001b[0m\n\u001b[0;31m    print('''')\u001b[0m\n\u001b[0m          ^\u001b[0m\n\u001b[0;31mSyntaxError\u001b[0m\u001b[0;31m:\u001b[0m incomplete input\n"
          ]
        }
      ]
    },
    {
      "cell_type": "code",
      "source": [
        "print(\"1.satır\")\n",
        "print('''''')\n",
        "print(\"3.satır\")"
      ],
      "metadata": {
        "colab": {
          "base_uri": "https://localhost:8080/"
        },
        "id": "URQHZBkWg8PF",
        "outputId": "08385d83-0064-4577-8f28-57b0a63a5202"
      },
      "execution_count": 25,
      "outputs": [
        {
          "output_type": "stream",
          "name": "stdout",
          "text": [
            "1.satır\n",
            "\n",
            "3.satır\n"
          ]
        }
      ]
    },
    {
      "cell_type": "code",
      "source": [],
      "metadata": {
        "id": "dPEcF4-_g8Cc"
      },
      "execution_count": null,
      "outputs": []
    },
    {
      "cell_type": "markdown",
      "source": [
        "# PEP8 Önerileri\n",
        "https://peps.python.org/pep-0008/"
      ],
      "metadata": {
        "id": "VoqtdwxZoHfI"
      }
    },
    {
      "cell_type": "code",
      "source": [
        "print(\"merhaba\")\n",
        "print (\"merhaba\")  # önerilmiyor"
      ],
      "metadata": {
        "colab": {
          "base_uri": "https://localhost:8080/"
        },
        "id": "7gTjaFHRoKst",
        "outputId": "dae6369b-c0ac-4290-a2b6-40be3819e1aa"
      },
      "execution_count": 41,
      "outputs": [
        {
          "output_type": "stream",
          "name": "stdout",
          "text": [
            "merhaba\n",
            "merhaba\n"
          ]
        }
      ]
    },
    {
      "cell_type": "code",
      "source": [
        "print(\"ali\", \"bugün\", \"geldi.\")\n",
        "print(\"ali\",\"bugün\",\"geldi.\")       # önerilmiyor\n",
        "print(\"ali\" ,\"bugün\" ,\"geldi.\")     # önerilmiyor"
      ],
      "metadata": {
        "colab": {
          "base_uri": "https://localhost:8080/"
        },
        "id": "jGTeWStQoYXn",
        "outputId": "0bc0a022-64c3-4902-ce18-1c59f270d14b"
      },
      "execution_count": 54,
      "outputs": [
        {
          "output_type": "stream",
          "name": "stdout",
          "text": [
            "ali bugün geldi.\n",
            "ali bugün geldi.\n",
            "ali bugün geldi.\n"
          ]
        }
      ]
    },
    {
      "cell_type": "code",
      "source": [
        "x = 5   # operatörlerin sağında ve solunda birer boşluk bırakılması ineriliyor...\n",
        "print(\"x in değeri:\", x)"
      ],
      "metadata": {
        "colab": {
          "base_uri": "https://localhost:8080/"
        },
        "id": "wbGnRAB_o_rD",
        "outputId": "3873aee2-63cf-4cea-83cf-ffda15a2a423"
      },
      "execution_count": 45,
      "outputs": [
        {
          "output_type": "stream",
          "name": "stdout",
          "text": [
            "x in değeri: 5\n"
          ]
        }
      ]
    },
    {
      "cell_type": "code",
      "source": [
        "# len(): karakter sayısını verir.\n",
        "len(\"# operatörlerin sağında ve solunda birer boşluk bırakılması ineriliyor..\")"
      ],
      "metadata": {
        "colab": {
          "base_uri": "https://localhost:8080/"
        },
        "id": "HtXKcOhQqD0P",
        "outputId": "b8ecea4e-9563-431c-d9b0-a6ffc6f19b42"
      },
      "execution_count": 50,
      "outputs": [
        {
          "output_type": "execute_result",
          "data": {
            "text/plain": [
              "74"
            ]
          },
          "metadata": {},
          "execution_count": 50
        }
      ]
    },
    {
      "cell_type": "code",
      "source": [
        "x =                   5    # önerilmiyor\n",
        "print(\"x in değeri:\", x)"
      ],
      "metadata": {
        "colab": {
          "base_uri": "https://localhost:8080/"
        },
        "id": "NL6czt8upF04",
        "outputId": "5dfc5816-89fd-490f-83bf-073421119d30"
      },
      "execution_count": 53,
      "outputs": [
        {
          "output_type": "stream",
          "name": "stdout",
          "text": [
            "x in değeri: 5\n"
          ]
        }
      ]
    },
    {
      "cell_type": "code",
      "source": [
        "# PEP 8 önerisi\n",
        "# Karakterden sonrası yorumlanmaz\n",
        "print(\"PEP 8 önerisi: \")  # önce 2 boşluk sonra 1 boşluk"
      ],
      "metadata": {
        "id": "X0GCer_0rx2b"
      },
      "execution_count": null,
      "outputs": []
    },
    {
      "cell_type": "code",
      "source": [
        "print('hello')\n",
        "# print(\"First multi-line comment\")\n",
        "# Second multi-line comment\n",
        "# Third multi-line comment"
      ],
      "metadata": {
        "colab": {
          "base_uri": "https://localhost:8080/"
        },
        "id": "mcZi0xsZsieM",
        "outputId": "7f55fa1f-b27b-41ef-a930-f489b6403d13"
      },
      "execution_count": 52,
      "outputs": [
        {
          "output_type": "stream",
          "name": "stdout",
          "text": [
            "hello\n"
          ]
        }
      ]
    },
    {
      "cell_type": "markdown",
      "source": [
        "Bir kod bloğunu yorum satırı yapmak için *colab*'da\n",
        "**`Ctrl + Shift + /`** kısayolu kullanılır"
      ],
      "metadata": {
        "id": "rpl6iB-ostiI"
      }
    },
    {
      "cell_type": "markdown",
      "source": [
        "**docstring**: birden fazla satırlı yorumlar için ya docstring ya da alt alta # karakterleri kullanılır.\n",
        "\n",
        "\"\"\"Return a foobang\n",
        "\n",
        "Optional plotz says to frobnicate the bizbaz first.\n",
        "\"\"\"\n",
        "\n"
      ],
      "metadata": {
        "id": "Ui4TczTPuSLx"
      }
    },
    {
      "cell_type": "code",
      "source": [
        "# docstringler fonksiyon, program, modül işlevini açıklar\n",
        "\"\"\"\n",
        "bu program ekrana farklı dillerde merhaba yazar\n",
        "\"\"\"\n",
        "print(\"merhaba\")\n",
        "print(\"hi\")\n",
        "print(\"hallo\")\n",
        "print(\"Zdraveyte\")\n",
        "print(\"selam\")"
      ],
      "metadata": {
        "colab": {
          "base_uri": "https://localhost:8080/"
        },
        "id": "1KTBZDLWtAwE",
        "outputId": "276e5706-d6bd-4da6-a78d-7f2dc0b6462b"
      },
      "execution_count": 55,
      "outputs": [
        {
          "output_type": "stream",
          "name": "stdout",
          "text": [
            "merhaba\n",
            "hi\n",
            "hallo\n",
            "Zdraveyte\n",
            "selam\n"
          ]
        }
      ]
    },
    {
      "cell_type": "code",
      "source": [
        "# docstring metinlerine __doc__ komutu ile erişebilirim.\n",
        "__doc__"
      ],
      "metadata": {
        "colab": {
          "base_uri": "https://localhost:8080/",
          "height": 35
        },
        "id": "a1vPgOldvFKc",
        "outputId": "4ad2bad3-98d6-4641-ab06-da63815a29fe"
      },
      "execution_count": 56,
      "outputs": [
        {
          "output_type": "execute_result",
          "data": {
            "text/plain": [
              "'\\nbu program ekrana farklı dillerde merhaba yazar\\n'"
            ],
            "application/vnd.google.colaboratory.intrinsic+json": {
              "type": "string"
            }
          },
          "metadata": {},
          "execution_count": 56
        }
      ]
    },
    {
      "cell_type": "code",
      "source": [
        "help(print)  # print fonksiyonun docstring metnini (açıklamasını) verir"
      ],
      "metadata": {
        "colab": {
          "base_uri": "https://localhost:8080/"
        },
        "id": "HDclOtJ8vQ2n",
        "outputId": "dea55d70-db04-4d1b-a85f-bec136637882"
      },
      "execution_count": 57,
      "outputs": [
        {
          "output_type": "stream",
          "name": "stdout",
          "text": [
            "Help on built-in function print in module builtins:\n",
            "\n",
            "print(...)\n",
            "    print(value, ..., sep=' ', end='\\n', file=sys.stdout, flush=False)\n",
            "    \n",
            "    Prints the values to a stream, or to sys.stdout by default.\n",
            "    Optional keyword arguments:\n",
            "    file:  a file-like object (stream); defaults to the current sys.stdout.\n",
            "    sep:   string inserted between values, default a space.\n",
            "    end:   string appended after the last value, default a newline.\n",
            "    flush: whether to forcibly flush the stream.\n",
            "\n"
          ]
        }
      ]
    },
    {
      "cell_type": "code",
      "source": [
        "print.__doc__"
      ],
      "metadata": {
        "colab": {
          "base_uri": "https://localhost:8080/",
          "height": 88
        },
        "id": "QSVbzAPevdUd",
        "outputId": "2b1214c9-ff1f-4585-fc14-4ddd8ad41e14"
      },
      "execution_count": 58,
      "outputs": [
        {
          "output_type": "execute_result",
          "data": {
            "text/plain": [
              "\"print(value, ..., sep=' ', end='\\\\n', file=sys.stdout, flush=False)\\n\\nPrints the values to a stream, or to sys.stdout by default.\\nOptional keyword arguments:\\nfile:  a file-like object (stream); defaults to the current sys.stdout.\\nsep:   string inserted between values, default a space.\\nend:   string appended after the last value, default a newline.\\nflush: whether to forcibly flush the stream.\""
            ],
            "application/vnd.google.colaboratory.intrinsic+json": {
              "type": "string"
            }
          },
          "metadata": {},
          "execution_count": 58
        }
      ]
    },
    {
      "cell_type": "code",
      "source": [
        "print(\"ali\", \"veli\", \"dede\")"
      ],
      "metadata": {
        "colab": {
          "base_uri": "https://localhost:8080/"
        },
        "id": "itPiud_BvuEB",
        "outputId": "cb5bdd2a-5f06-4ede-8d97-b8eb84979789"
      },
      "execution_count": 59,
      "outputs": [
        {
          "output_type": "stream",
          "name": "stdout",
          "text": [
            "ali veli dede\n"
          ]
        }
      ]
    },
    {
      "cell_type": "code",
      "source": [
        "print(\"ali\", \"veli\", \"dede\", sep=\"-\")"
      ],
      "metadata": {
        "colab": {
          "base_uri": "https://localhost:8080/"
        },
        "id": "I6OP4f3fv0V1",
        "outputId": "f81f1b8a-bf44-4bed-da81-b37eefca75f8"
      },
      "execution_count": 60,
      "outputs": [
        {
          "output_type": "stream",
          "name": "stdout",
          "text": [
            "ali-veli-dede\n"
          ]
        }
      ]
    },
    {
      "cell_type": "code",
      "source": [
        "# kaç adet boş satır bırakır?\n",
        "print(\"\")\n",
        "print(\"first\")\n",
        "print()\n",
        "\n",
        "print(\"second\")\n",
        "print()"
      ],
      "metadata": {
        "colab": {
          "base_uri": "https://localhost:8080/"
        },
        "id": "ZhH7Aw2C5yxb",
        "outputId": "73eaef2b-9291-4d24-e0fd-7bd0d283efb6"
      },
      "execution_count": 68,
      "outputs": [
        {
          "output_type": "stream",
          "name": "stdout",
          "text": [
            "\n",
            "first\n",
            "\n",
            "second\n",
            "\n"
          ]
        }
      ]
    },
    {
      "cell_type": "code",
      "source": [
        "# What does the following code print?\n",
        "print(\"x\")\n",
        "print(\"y\")\n",
        "print()\n",
        "print(\"z\")"
      ],
      "metadata": {
        "colab": {
          "base_uri": "https://localhost:8080/"
        },
        "id": "mMIebGoU5_SY",
        "outputId": "008f9d15-2776-4952-88ae-47d3c068974a"
      },
      "execution_count": 69,
      "outputs": [
        {
          "output_type": "stream",
          "name": "stdout",
          "text": [
            "x\n",
            "y\n",
            "\n",
            "z\n"
          ]
        }
      ]
    },
    {
      "cell_type": "code",
      "source": [
        "# What does the following code print?\n",
        "print(\"x\", end=\" \")\n",
        "print(\"y\", end=\" \")\n",
        "print(end=\" \")\n",
        "print(\"z\",end=\" \")"
      ],
      "metadata": {
        "colab": {
          "base_uri": "https://localhost:8080/"
        },
        "id": "o0_BZr0W6E-C",
        "outputId": "c199e730-63ef-4145-c84d-b85e3c4b0ed8"
      },
      "execution_count": 71,
      "outputs": [
        {
          "output_type": "stream",
          "name": "stdout",
          "text": [
            "x y  z "
          ]
        }
      ]
    },
    {
      "cell_type": "markdown",
      "source": [
        "# Python Zen'i (felsefesi)"
      ],
      "metadata": {
        "id": "YDsqI_OOwBbX"
      }
    },
    {
      "cell_type": "code",
      "source": [
        "import this"
      ],
      "metadata": {
        "colab": {
          "base_uri": "https://localhost:8080/"
        },
        "id": "o80sXM8-wFSy",
        "outputId": "8e0acfba-742a-4c28-c691-bfaf0964f08f"
      },
      "execution_count": 61,
      "outputs": [
        {
          "output_type": "stream",
          "name": "stdout",
          "text": [
            "The Zen of Python, by Tim Peters\n",
            "\n",
            "Beautiful is better than ugly.\n",
            "Explicit is better than implicit.\n",
            "Simple is better than complex.\n",
            "Complex is better than complicated.\n",
            "Flat is better than nested.\n",
            "Sparse is better than dense.\n",
            "Readability counts.\n",
            "Special cases aren't special enough to break the rules.\n",
            "Although practicality beats purity.\n",
            "Errors should never pass silently.\n",
            "Unless explicitly silenced.\n",
            "In the face of ambiguity, refuse the temptation to guess.\n",
            "There should be one-- and preferably only one --obvious way to do it.\n",
            "Although that way may not be obvious at first unless you're Dutch.\n",
            "Now is better than never.\n",
            "Although never is often better than *right* now.\n",
            "If the implementation is hard to explain, it's a bad idea.\n",
            "If the implementation is easy to explain, it may be a good idea.\n",
            "Namespaces are one honking great idea -- let's do more of those!\n"
          ]
        }
      ]
    },
    {
      "cell_type": "code",
      "source": [
        "print('it's not a problem')"
      ],
      "metadata": {
        "colab": {
          "base_uri": "https://localhost:8080/",
          "height": 145
        },
        "id": "sTZbVW4jwFZi",
        "outputId": "17858c7b-ccdc-43c1-9c8f-e986ee3fc2d9"
      },
      "execution_count": 66,
      "outputs": [
        {
          "output_type": "error",
          "ename": "SyntaxError",
          "evalue": "ignored",
          "traceback": [
            "\u001b[0;36m  File \u001b[0;32m\"<ipython-input-66-ff2a695a51b6>\"\u001b[0;36m, line \u001b[0;32m1\u001b[0m\n\u001b[0;31m    print('it's not a problem')\u001b[0m\n\u001b[0m                             ^\u001b[0m\n\u001b[0;31mSyntaxError\u001b[0m\u001b[0;31m:\u001b[0m unterminated string literal (detected at line 1)\n"
          ]
        }
      ]
    },
    {
      "cell_type": "code",
      "source": [
        "print('it\\'s not a problem')"
      ],
      "metadata": {
        "colab": {
          "base_uri": "https://localhost:8080/"
        },
        "id": "npzR25-P49sR",
        "outputId": "353f5de8-0493-4897-f406-8905b49590e7"
      },
      "execution_count": 67,
      "outputs": [
        {
          "output_type": "stream",
          "name": "stdout",
          "text": [
            "it's not a problem\n"
          ]
        }
      ]
    }
  ]
}